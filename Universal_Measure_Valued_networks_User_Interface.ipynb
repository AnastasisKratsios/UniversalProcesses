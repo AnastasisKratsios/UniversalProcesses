{
 "cells": [
  {
   "cell_type": "markdown",
   "metadata": {},
   "source": [
    "# Deep Universal Regular Conditional Expectations:\n",
    "\n",
    "---\n",
    "This implements the universal deep neural model of $\\mathcal{NN}_{1_{\\mathbb{R}^n},\\mathcal{D}}^{\\sigma:\\star}$ [Anastasis Kratsios](https://people.math.ethz.ch/~kratsioa/) - 2021.\n",
    "\n",
    "---\n",
    "\n",
    "## What does this code do?\n",
    "1. Learn Heteroskedastic Non-Linear Regression Problem\n",
    "     - $Y\\sim f_{\\text{unkown}}(x) + \\epsilon$ where $f$ is an known function and $\\epsilon\\sim Laplace(0,\\|x\\|)$\n",
    "2. Learn Random Bayesian Network's Law:\n",
    "    - $Y = W_J Y^{J-1}, \\qquad Y^{j}\\triangleq \\sigma\\bullet A^{j}Y^{j-1} + b^{j}, \\qquad Y^0\\triangleq x$\n",
    "\n",
    "3. In the above example if $A_j = M_j\\odot \\tilde{A_j}$ where $\\tilde{A}_j$ is a deterministic matrix and $M_j$ is a \"mask\", that is, a random matrix with binary entries and $\\odot$ is the Hadamard product then we recover the dropout framework.\n",
    "4. Learn the probability distribution that the unique strong solution to the rough SDE with uniformly Lipschitz drivers driven by a factional Brownian motion with Hurst exponent $H \\in [\\frac1{2},1)$:\n",
    "$$\n",
    "X_t^x = x + \\int_0^t \\alpha(s,X_s^x)ds + \\int_0^t \\beta(s,X_s^x)dB_s^H\n",
    "$$\n",
    "belongs, at time $t=1$, to a ball about the initial point $x$ of random radius given by an independant exponential random-variable with shape parameter $\\lambda=2$\n",
    "5. Train a DNN to predict the returns of bitcoin with GD.  Since this has random initialization then each prediction of a given $x$ is stochastic...We learn the distribution of this conditional RV (conditioned on x in the input space).\n",
    "$$\n",
    "Y_x \\triangleq \\hat{f}_{\\theta_{T}}(x), \\qquad \\theta_{(t+1)}\\triangleq \\theta_{(t)} + \\lambda \\sum_{x \\in \\mathbb{X}} \\nabla_{\\theta}\\|\\hat{f}_{\\theta_t}(x) - f(x)\\|, \\qquad \\theta_0 \\sim N_d(0,1);\n",
    "$$\n",
    "$T\\in \\mathbb{N}$ is a fixed number of \"SGD\" iterations (typically identified by cross-validation on a single SGD trajectory for a single initialization) and where $\\theta \\in \\mathbb{R}^{(d_{J}+1)+\\sum_{j=0}^{J-1} (d_{j+1}d_j + 1)}$ and $d_j$ is the dimension of the \"bias\" vector $b_j$ defining each layer of the DNN with layer dimensions:\n",
    "$$\n",
    "\\hat{f}_{\\theta}(x)\\triangleq A^{(J)}x^{(J)} + b^{(J)},\\qquad x^{(j+1)}\\triangleq \\sigma\\bullet A^{j}x^{(j)} + b^{j},\\qquad x^{(0)}\\triangleq x\n",
    ".\n",
    "$$"
   ]
  },
  {
   "cell_type": "markdown",
   "metadata": {},
   "source": [
    "#### Mode:\n",
    "Software/Hardware Testing or Real-Deal?"
   ]
  },
  {
   "cell_type": "code",
   "execution_count": 22,
   "metadata": {},
   "outputs": [],
   "source": [
    "trial_run = True"
   ]
  },
  {
   "cell_type": "markdown",
   "metadata": {},
   "source": [
    "### Simulation Method:"
   ]
  },
  {
   "cell_type": "code",
   "execution_count": 23,
   "metadata": {},
   "outputs": [],
   "source": [
    "# # Random DNN\n",
    "# f_unknown_mode = \"Heteroskedastic_NonLinear_Regression\"\n",
    "\n",
    "# # Random DNN internal noise\n",
    "# # f_unknown_mode = \"DNN_with_Random_Weights\"\n",
    "Depth_Bayesian_DNN = 1\n",
    "width = 5\n",
    "\n",
    "# # Random Dropout applied to trained DNN\n",
    "f_unknown_mode = \"DNN_with_Bayesian_Dropout\"\n",
    "Dropout_rate = 0.1\n",
    "\n",
    "# GD with Randomized Input\n",
    "# f_unknown_mode = \"GD_with_randomized_input\"\n",
    "GD_epochs = 100\n",
    "\n",
    "# SDE with fractional Driver\n",
    "f_unknown_mode = \"Rough_SDE\"\n",
    "N_Euler_Steps = 10**1\n",
    "Hurst_Exponent = 0.5"
   ]
  },
  {
   "cell_type": "markdown",
   "metadata": {},
   "source": [
    "## Problem Dimension"
   ]
  },
  {
   "cell_type": "code",
   "execution_count": 24,
   "metadata": {},
   "outputs": [],
   "source": [
    "problem_dim = 3"
   ]
  },
  {
   "cell_type": "markdown",
   "metadata": {},
   "source": [
    "## Note: *Why the procedure is so computationally efficient*?\n",
    "---\n",
    " - The sample barycenters do not require us to solve for any new Wasserstein-1 Barycenters; which is much more computationally costly,\n",
    " - Our training procedure never back-propages through $\\mathcal{W}_1$ since steps 2 and 3 are full-decoupled.  Therefore, training our deep classifier is (comparatively) cheap since it takes values in the standard $N$-simplex.\n",
    "\n",
    "---"
   ]
  },
  {
   "cell_type": "markdown",
   "metadata": {},
   "source": [
    "#### Grid Hyperparameter(s)\n",
    "- Ratio $\\frac{\\text{Testing Datasize}}{\\text{Training Datasize}}$.\n",
    "- Number of Training Points to Generate"
   ]
  },
  {
   "cell_type": "code",
   "execution_count": 25,
   "metadata": {},
   "outputs": [],
   "source": [
    "train_test_ratio = .2\n",
    "N_train_size = 20"
   ]
  },
  {
   "cell_type": "markdown",
   "metadata": {},
   "source": [
    "Monte-Carlo Paramters"
   ]
  },
  {
   "cell_type": "code",
   "execution_count": 26,
   "metadata": {},
   "outputs": [],
   "source": [
    "## Monte-Carlo\n",
    "N_Monte_Carlo_Samples = 10**1"
   ]
  },
  {
   "cell_type": "markdown",
   "metadata": {},
   "source": [
    "Initial radis of $\\delta$-bounded random partition of $\\mathcal{X}$!"
   ]
  },
  {
   "cell_type": "code",
   "execution_count": 27,
   "metadata": {},
   "outputs": [],
   "source": [
    "# Hyper-parameters of Cover\n",
    "delta = 0.01\n",
    "Proportion_per_cluster = .75"
   ]
  },
  {
   "cell_type": "markdown",
   "metadata": {},
   "source": [
    "## Dependencies and Auxiliary Script(s)"
   ]
  },
  {
   "cell_type": "code",
   "execution_count": 28,
   "metadata": {},
   "outputs": [
    {
     "name": "stdout",
     "output_type": "stream",
     "text": [
      "Deep Feature Builder - Ready\n",
      "Deep Classifier - Ready\n",
      "Deep Feature Builder - Ready\n"
     ]
    }
   ],
   "source": [
    "# %run Loader.ipynb\n",
    "exec(open('Loader.py').read())\n",
    "# Load Packages/Modules\n",
    "exec(open('Init_Dump.py').read())\n",
    "import time as time #<- Note sure why...but its always seems to need 'its own special loading...'"
   ]
  },
  {
   "cell_type": "markdown",
   "metadata": {},
   "source": [
    "# Simulate or Parse Data"
   ]
  },
  {
   "cell_type": "code",
   "execution_count": 29,
   "metadata": {},
   "outputs": [
    {
     "name": "stderr",
     "output_type": "stream",
     "text": [
      "100%|██████████| 20/20 [00:00<00:00, 163.37it/s]\n",
      "100%|██████████| 4/4 [00:00<00:00, 125.62it/s]"
     ]
    },
    {
     "name": "stdout",
     "output_type": "stream",
     "text": [
      "---------------------------------------\n",
      "Beginning Data-Parsing/Simulation Phase\n",
      "---------------------------------------\n",
      "Deciding on Which Simulator/Parser To Load\n",
      "Setting/Defining: Internal Parameters\n",
      "Deciding on Which Type of Data to Get/Simulate\n",
      "Simulating Output Data for given input data\n",
      "----------------------------------\n",
      "Done Data-Parsing/Simulation Phase\n",
      "----------------------------------\n"
     ]
    },
    {
     "name": "stderr",
     "output_type": "stream",
     "text": [
      "\n"
     ]
    }
   ],
   "source": [
    "# %run Data_Simulator_and_Parser.ipynb\n",
    "exec(open('Data_Simulator_and_Parser.py').read())"
   ]
  },
  {
   "cell_type": "markdown",
   "metadata": {},
   "source": [
    "# Run Main:"
   ]
  },
  {
   "cell_type": "code",
   "execution_count": 30,
   "metadata": {},
   "outputs": [
    {
     "name": "stdout",
     "output_type": "stream",
     "text": [
      "------------------------------\n",
      "Running script for main model!\n",
      "------------------------------\n"
     ]
    },
    {
     "name": "stderr",
     "output_type": "stream",
     "text": [
      "100%|██████████| 150/150 [00:00<00:00, 15168.54it/s]"
     ]
    },
    {
     "name": "stdout",
     "output_type": "stream",
     "text": [
      "Deep Feature Builder - Ready\n",
      "Deep Classifier - Ready\n",
      "==========================================\n",
      "Training Classifer Portion of Type-A Model\n",
      "==========================================\n",
      "Fitting 2 folds for each of 1 candidates, totalling 2 fits\n"
     ]
    },
    {
     "name": "stderr",
     "output_type": "stream",
     "text": [
      "\n",
      "[Parallel(n_jobs=4)]: Using backend LokyBackend with 4 concurrent workers.\n",
      "[Parallel(n_jobs=4)]: Done   2 out of   2 | elapsed:    3.5s remaining:    0.0s\n",
      "[Parallel(n_jobs=4)]: Done   2 out of   2 | elapsed:    3.5s finished\n"
     ]
    },
    {
     "name": "stdout",
     "output_type": "stream",
     "text": [
      "Epoch 1/5\n",
      "25/25 [==============================] - 0s 843us/step - loss: 5.0240 - accuracy: 0.0100\n",
      "Epoch 2/5\n",
      "25/25 [==============================] - 0s 1ms/step - loss: 5.0019 - accuracy: 0.0200\n",
      "Epoch 3/5\n",
      "25/25 [==============================] - 0s 1ms/step - loss: 4.9883 - accuracy: 0.0250\n",
      "Epoch 4/5\n",
      "25/25 [==============================] - 0s 1ms/step - loss: 4.9753 - accuracy: 0.0200\n",
      "Epoch 5/5\n",
      "25/25 [==============================] - 0s 1ms/step - loss: 4.9614 - accuracy: 0.0200\n",
      "25/25 [==============================] - 0s 1000us/step\n",
      "5/5 [==============================] - 0s 1ms/step\n"
     ]
    },
    {
     "name": "stderr",
     "output_type": "stream",
     "text": [
      "\r",
      "  0%|          | 0/200 [00:00<?, ?it/s]"
     ]
    },
    {
     "name": "stdout",
     "output_type": "stream",
     "text": [
      "===============================================\n",
      "Training Classifer Portion of Type Model: Done!\n",
      "===============================================\n",
      "#--------------------#\n",
      " Get Training Error(s)\n",
      "#--------------------#\n"
     ]
    },
    {
     "name": "stderr",
     "output_type": "stream",
     "text": [
      "100%|██████████| 200/200 [00:02<00:00, 86.93it/s]\n",
      " 22%|██▎       | 9/40 [00:00<00:00, 86.93it/s]"
     ]
    },
    {
     "name": "stdout",
     "output_type": "stream",
     "text": [
      "#-------------------------#\n",
      " Get Training Error(s): END\n",
      "#-------------------------#\n",
      "#----------------#\n",
      " Get Test Error(s)\n",
      "#----------------#\n"
     ]
    },
    {
     "name": "stderr",
     "output_type": "stream",
     "text": [
      "100%|██████████| 40/40 [00:00<00:00, 79.47it/s]"
     ]
    },
    {
     "name": "stdout",
     "output_type": "stream",
     "text": [
      "#------------------------#\n",
      " Get Testing Error(s): END\n",
      "#------------------------#\n",
      "                                       DNM  MC-Oracle\n",
      "W1-95L                            0.327046   0.000000\n",
      "W1                                0.347314   0.000000\n",
      "W1-95R                            0.369567   0.000000\n",
      "M-95L                             0.892517   0.877548\n",
      "M                                 0.954438   0.954438\n",
      "M-95R                             1.014093   1.000305\n",
      "N_Par                          1700.000000   0.000000\n",
      "Train_Time                        7.041217   0.159085\n",
      "Test_Time/MC-Oracle_Test_Time     1.518605   1.000000\n",
      "------------------------------------\n",
      "Done: Running script for main model!\n",
      "------------------------------------\n"
     ]
    },
    {
     "name": "stderr",
     "output_type": "stream",
     "text": [
      "\n"
     ]
    }
   ],
   "source": [
    "print(\"------------------------------\")\n",
    "print(\"Running script for main model!\")\n",
    "print(\"------------------------------\")\n",
    "# %run Universal_Measure_Valued_Networks_Backend.ipynb\n",
    "exec(open('Universal_Measure_Valued_Networks_Backend.py').read())\n",
    "\n",
    "print(\"------------------------------------\")\n",
    "print(\"Done: Running script for main model!\")\n",
    "print(\"------------------------------------\")"
   ]
  },
  {
   "cell_type": "markdown",
   "metadata": {},
   "source": [
    "---\n",
    "# Run: All Benchmarks"
   ]
  },
  {
   "cell_type": "markdown",
   "metadata": {},
   "source": [
    "## 1) *Pointmass Benchmark(s)*\n",
    "These benchmarks consist of subsets of $C(\\mathbb{R}^d,\\mathbb{R})$ which we lift to models in $C(\\mathbb{R}^d,\\cap_{1\\leq q<\\infty}\\mathscr{P}_{q}(\\mathbb{R}))$ via:\n",
    "$$\n",
    "\\mathbb{R}^d \\ni x \\to f(x) \\to \\delta_{f(x)}\\in \\cap_{1\\leq q<\\infty}\\mathcal{P}_{q}(\\mathbb{R}).\n",
    "$$"
   ]
  },
  {
   "cell_type": "code",
   "execution_count": null,
   "metadata": {},
   "outputs": [
    {
     "name": "stderr",
     "output_type": "stream",
     "text": [
      "\r",
      "  0%|          | 0/3 [00:00<?, ?it/s]"
     ]
    }
   ],
   "source": [
    "exec(open('CV_Grid.py').read())\n",
    "# Notebook Mode:\n",
    "# %run Evaluation.ipynb\n",
    "# %run Benchmarks_Model_Builder_Pointmass_Based.ipynb\n",
    "# Terminal Mode (Default):\n",
    "exec(open('Evaluation.py').read())\n",
    "exec(open('Benchmarks_Model_Builder_Pointmass_Based.py').read())"
   ]
  },
  {
   "cell_type": "markdown",
   "metadata": {},
   "source": [
    "# Summary of Point-Mass Regression Models"
   ]
  },
  {
   "cell_type": "markdown",
   "metadata": {},
   "source": [
    "#### Training Model Facts"
   ]
  },
  {
   "cell_type": "code",
   "execution_count": null,
   "metadata": {},
   "outputs": [],
   "source": [
    "print(Summary_pred_Qual_models)\n",
    "Summary_pred_Qual_models"
   ]
  },
  {
   "cell_type": "markdown",
   "metadata": {},
   "source": [
    "#### Testing Model Facts"
   ]
  },
  {
   "cell_type": "code",
   "execution_count": 17,
   "metadata": {},
   "outputs": [
    {
     "name": "stdout",
     "output_type": "stream",
     "text": [
      "                                       DNM  MC-Oracle          ENET  \\\n",
      "W1-95L                            0.327046   0.000000  9.341512e+00   \n",
      "W1                                0.347314   0.000000  9.668558e+00   \n",
      "W1-95R                            0.369567   0.000000  1.003473e+01   \n",
      "M-95L                             0.892517   0.877548  2.703881e+01   \n",
      "M                                 0.954438   0.954438  2.782161e+01   \n",
      "M-95R                             1.014093   1.000305  2.859689e+01   \n",
      "N_Par                          1700.000000   0.000000  1.200000e+03   \n",
      "Train_Time                        8.110902   0.141413  1.619793e+09   \n",
      "Test_Time/MC-Oracle_Test_Time     1.412623   1.000000  5.585203e-03   \n",
      "\n",
      "                                  KRidge           GBRF        DNN  \n",
      "W1-95L                          9.224413       9.491609   1.073717  \n",
      "W1                              9.765557       9.844470   1.107127  \n",
      "W1-95R                         10.078976      10.205515   1.139776  \n",
      "M-95L                          27.139632      27.156650   3.093451  \n",
      "M                              27.843758      27.940067   3.191647  \n",
      "M-95R                          28.725795      28.590893   3.266780  \n",
      "N_Par                           0.000000  670672.000000  83.000000  \n",
      "Train_Time                      1.620947       2.449377   5.525630  \n",
      "Test_Time/MC-Oracle_Test_Time   0.331417       0.103696   1.372496  \n"
     ]
    },
    {
     "data": {
      "text/html": [
       "<div>\n",
       "<style scoped>\n",
       "    .dataframe tbody tr th:only-of-type {\n",
       "        vertical-align: middle;\n",
       "    }\n",
       "\n",
       "    .dataframe tbody tr th {\n",
       "        vertical-align: top;\n",
       "    }\n",
       "\n",
       "    .dataframe thead th {\n",
       "        text-align: right;\n",
       "    }\n",
       "</style>\n",
       "<table border=\"1\" class=\"dataframe\">\n",
       "  <thead>\n",
       "    <tr style=\"text-align: right;\">\n",
       "      <th></th>\n",
       "      <th>DNM</th>\n",
       "      <th>MC-Oracle</th>\n",
       "      <th>ENET</th>\n",
       "      <th>KRidge</th>\n",
       "      <th>GBRF</th>\n",
       "      <th>DNN</th>\n",
       "    </tr>\n",
       "  </thead>\n",
       "  <tbody>\n",
       "    <tr>\n",
       "      <th>W1-95L</th>\n",
       "      <td>0.327046</td>\n",
       "      <td>0.000000</td>\n",
       "      <td>9.341512e+00</td>\n",
       "      <td>9.224413</td>\n",
       "      <td>9.491609</td>\n",
       "      <td>1.073717</td>\n",
       "    </tr>\n",
       "    <tr>\n",
       "      <th>W1</th>\n",
       "      <td>0.347314</td>\n",
       "      <td>0.000000</td>\n",
       "      <td>9.668558e+00</td>\n",
       "      <td>9.765557</td>\n",
       "      <td>9.844470</td>\n",
       "      <td>1.107127</td>\n",
       "    </tr>\n",
       "    <tr>\n",
       "      <th>W1-95R</th>\n",
       "      <td>0.369567</td>\n",
       "      <td>0.000000</td>\n",
       "      <td>1.003473e+01</td>\n",
       "      <td>10.078976</td>\n",
       "      <td>10.205515</td>\n",
       "      <td>1.139776</td>\n",
       "    </tr>\n",
       "    <tr>\n",
       "      <th>M-95L</th>\n",
       "      <td>0.892517</td>\n",
       "      <td>0.877548</td>\n",
       "      <td>2.703881e+01</td>\n",
       "      <td>27.139632</td>\n",
       "      <td>27.156650</td>\n",
       "      <td>3.093451</td>\n",
       "    </tr>\n",
       "    <tr>\n",
       "      <th>M</th>\n",
       "      <td>0.954438</td>\n",
       "      <td>0.954438</td>\n",
       "      <td>2.782161e+01</td>\n",
       "      <td>27.843758</td>\n",
       "      <td>27.940067</td>\n",
       "      <td>3.191647</td>\n",
       "    </tr>\n",
       "    <tr>\n",
       "      <th>M-95R</th>\n",
       "      <td>1.014093</td>\n",
       "      <td>1.000305</td>\n",
       "      <td>2.859689e+01</td>\n",
       "      <td>28.725795</td>\n",
       "      <td>28.590893</td>\n",
       "      <td>3.266780</td>\n",
       "    </tr>\n",
       "    <tr>\n",
       "      <th>N_Par</th>\n",
       "      <td>1700.000000</td>\n",
       "      <td>0.000000</td>\n",
       "      <td>1.200000e+03</td>\n",
       "      <td>0.000000</td>\n",
       "      <td>670672.000000</td>\n",
       "      <td>83.000000</td>\n",
       "    </tr>\n",
       "    <tr>\n",
       "      <th>Train_Time</th>\n",
       "      <td>8.110902</td>\n",
       "      <td>0.141413</td>\n",
       "      <td>1.619793e+09</td>\n",
       "      <td>1.620947</td>\n",
       "      <td>2.449377</td>\n",
       "      <td>5.525630</td>\n",
       "    </tr>\n",
       "    <tr>\n",
       "      <th>Test_Time/MC-Oracle_Test_Time</th>\n",
       "      <td>1.412623</td>\n",
       "      <td>1.000000</td>\n",
       "      <td>5.585203e-03</td>\n",
       "      <td>0.331417</td>\n",
       "      <td>0.103696</td>\n",
       "      <td>1.372496</td>\n",
       "    </tr>\n",
       "  </tbody>\n",
       "</table>\n",
       "</div>"
      ],
      "text/plain": [
       "                                       DNM  MC-Oracle          ENET  \\\n",
       "W1-95L                            0.327046   0.000000  9.341512e+00   \n",
       "W1                                0.347314   0.000000  9.668558e+00   \n",
       "W1-95R                            0.369567   0.000000  1.003473e+01   \n",
       "M-95L                             0.892517   0.877548  2.703881e+01   \n",
       "M                                 0.954438   0.954438  2.782161e+01   \n",
       "M-95R                             1.014093   1.000305  2.859689e+01   \n",
       "N_Par                          1700.000000   0.000000  1.200000e+03   \n",
       "Train_Time                        8.110902   0.141413  1.619793e+09   \n",
       "Test_Time/MC-Oracle_Test_Time     1.412623   1.000000  5.585203e-03   \n",
       "\n",
       "                                  KRidge           GBRF        DNN  \n",
       "W1-95L                          9.224413       9.491609   1.073717  \n",
       "W1                              9.765557       9.844470   1.107127  \n",
       "W1-95R                         10.078976      10.205515   1.139776  \n",
       "M-95L                          27.139632      27.156650   3.093451  \n",
       "M                              27.843758      27.940067   3.191647  \n",
       "M-95R                          28.725795      28.590893   3.266780  \n",
       "N_Par                           0.000000  670672.000000  83.000000  \n",
       "Train_Time                      1.620947       2.449377   5.525630  \n",
       "Test_Time/MC-Oracle_Test_Time   0.331417       0.103696   1.372496  "
      ]
     },
     "execution_count": 17,
     "metadata": {},
     "output_type": "execute_result"
    }
   ],
   "source": [
    "print(Summary_pred_Qual_models_test)\n",
    "Summary_pred_Qual_models_test"
   ]
  },
  {
   "cell_type": "markdown",
   "metadata": {},
   "source": [
    "## 2) *Gaussian Benchmarks*"
   ]
  },
  {
   "cell_type": "markdown",
   "metadata": {},
   "source": [
    "- Bencharm 1: [Gaussian Process Regressor](https://scikit-learn.org/stable/modules/gaussian_process.html)\n",
    "- Benchmark 2: Deep Gaussian Networks:\n",
    "These models train models which assume Gaussianity.  We may view these as models in $\\mathcal{P}_2(\\mathbb{R})$ via:\n",
    "$$\n",
    "\\mathbb{R}^d \\ni x \\to (\\hat{\\mu}(x),\\hat{\\Sigma}(x)\\hat{\\Sigma}^{\\top})\\triangleq f(x) \\in \\mathbb{R}\\times [0,\\infty) \\to \n",
    "(2\\pi)^{-\\frac{d}{2}}\\det(\\hat{\\Sigma}(x))^{-\\frac{1}{2}} \\, e^{ -\\frac{1}{2}(\\cdot - \\hat{\\mu}(x))^{{{\\!\\mathsf{T}}}} \\hat{\\Sigma}(x)^{-1}(\\cdot - \\hat{\\mu}(x)) } \\mu \\in \\mathcal{G}_d\\subset \\mathcal{P}_2(\\mathbb{R});\n",
    "$$\n",
    "where $\\mathcal{G}_1$ is the set of Gaussian measures on $\\mathbb{R}$ equipped with the relative Wasserstein-1 topology.\n",
    "\n",
    "Examples of this type of architecture are especially prevalent in uncertainty quantification; see ([Deep Ensembles](https://arxiv.org/abs/1612.01474)] or [NOMU: Neural Optimization-based Model Uncertainty](https://arxiv.org/abs/2102.13640).  Moreover, their universality in $C(\\mathbb{R}^d,\\mathcal{G}_2)$ is known, and has been shown in [Corollary 4.7](https://arxiv.org/abs/2101.05390)."
   ]
  },
  {
   "cell_type": "code",
   "execution_count": 19,
   "metadata": {},
   "outputs": [
    {
     "name": "stdout",
     "output_type": "stream",
     "text": [
      "DNN Builder - Ready\n",
      "Fitting 2 folds for each of 2 candidates, totalling 4 fits\n"
     ]
    },
    {
     "name": "stderr",
     "output_type": "stream",
     "text": [
      "[Parallel(n_jobs=4)]: Using backend LokyBackend with 4 concurrent workers.\n",
      "[Parallel(n_jobs=4)]: Done   1 tasks      | elapsed:    0.2s\n",
      "[Parallel(n_jobs=4)]: Done   2 out of   4 | elapsed:    0.3s remaining:    0.3s\n",
      "[Parallel(n_jobs=4)]: Done   4 out of   4 | elapsed:    0.4s remaining:    0.0s\n",
      "[Parallel(n_jobs=4)]: Done   4 out of   4 | elapsed:    0.4s finished\n",
      "100%|██████████| 200/200 [00:00<00:00, 2132.36it/s]"
     ]
    },
    {
     "name": "stdout",
     "output_type": "stream",
     "text": [
      "Infering Parameters for Deep Gaussian Network to train on!\n",
      "Done Getting Parameters for Deep Gaussian Network!\n",
      "===============================\n",
      "Training Deep Gaussian Network!\n",
      "===============================\n",
      "Fitting 2 folds for each of 1 candidates, totalling 2 fits\n"
     ]
    },
    {
     "name": "stderr",
     "output_type": "stream",
     "text": [
      "\n",
      "[Parallel(n_jobs=4)]: Using backend LokyBackend with 4 concurrent workers.\n",
      "[Parallel(n_jobs=4)]: Done   2 out of   2 | elapsed:    3.6s remaining:    0.0s\n",
      "[Parallel(n_jobs=4)]: Done   2 out of   2 | elapsed:    3.6s finished\n"
     ]
    },
    {
     "name": "stdout",
     "output_type": "stream",
     "text": [
      "Epoch 1/5\n",
      "25/25 [==============================] - 0s 855us/step - loss: 0.2906 - mse: 0.2737 - mae: 0.2906 - mape: 13004467.0000\n",
      "Epoch 2/5\n",
      "25/25 [==============================] - 0s 1ms/step - loss: 0.2902 - mse: 0.2734 - mae: 0.2902 - mape: 12893994.0000\n",
      "Epoch 3/5\n",
      "25/25 [==============================] - 0s 2ms/step - loss: 0.2899 - mse: 0.2732 - mae: 0.2899 - mape: 12785062.0000\n",
      "Epoch 4/5\n",
      "25/25 [==============================] - 0s 1ms/step - loss: 0.2895 - mse: 0.2730 - mae: 0.2895 - mape: 12679828.0000\n",
      "Epoch 5/5\n",
      "25/25 [==============================] - 0s 1ms/step - loss: 0.2891 - mse: 0.2727 - mae: 0.2891 - mape: 12578296.0000\n",
      "25/25 [==============================] - 0s 598us/step\n",
      "5/5 [==============================] - 0s 1ms/step\n"
     ]
    },
    {
     "name": "stderr",
     "output_type": "stream",
     "text": [
      "\r",
      "  0%|          | 0/200 [00:00<?, ?it/s]"
     ]
    },
    {
     "name": "stdout",
     "output_type": "stream",
     "text": [
      "====================================\n",
      "Training Deep Gaussian Network!: END\n",
      "====================================\n",
      "#---------------------------------------#\n",
      " Get Training Errors for: Gaussian Models\n",
      "#---------------------------------------#\n"
     ]
    },
    {
     "name": "stderr",
     "output_type": "stream",
     "text": [
      "100%|██████████| 200/200 [00:01<00:00, 102.56it/s]\n",
      " 25%|██▌       | 10/40 [00:00<00:00, 98.68it/s]"
     ]
    },
    {
     "name": "stdout",
     "output_type": "stream",
     "text": [
      "#-------------------------#\n",
      " Get Training Error(s): END\n",
      "#-------------------------#\n",
      "#--------------------------------------#\n",
      " Get Testing Errors for: Gaussian Models\n",
      "#--------------------------------------#\n"
     ]
    },
    {
     "name": "stderr",
     "output_type": "stream",
     "text": [
      "100%|██████████| 40/40 [00:00<00:00, 103.49it/s]\n"
     ]
    },
    {
     "name": "stdout",
     "output_type": "stream",
     "text": [
      "#-------------------------#\n",
      " Get Training Error(s): END\n",
      "#-------------------------#\n",
      "-------------------------------------------------\n",
      "Updating Performance Metrics Dataframe and Saved!\n",
      "-------------------------------------------------\n",
      "Training Results to date:\n",
      "                                       DNM  MC-Oracle          ENET  \\\n",
      "W1-95L                            0.327046   0.000000  9.341512e+00   \n",
      "W1                                0.347314   0.000000  9.668558e+00   \n",
      "W1-95R                            0.369567   0.000000  1.003473e+01   \n",
      "M-95L                             0.892517   0.877548  2.703881e+01   \n",
      "M                                 0.954438   0.954438  2.782161e+01   \n",
      "M-95R                             1.014093   1.000305  2.859689e+01   \n",
      "N_Par                          1700.000000   0.000000  1.200000e+03   \n",
      "Train_Time                        8.110902   0.141413  1.619793e+09   \n",
      "Test_Time/MC-Oracle_Test_Time     1.412623   1.000000  5.585203e-03   \n",
      "\n",
      "                                  KRidge           GBRF        DNN        GPR  \\\n",
      "W1-95L                          9.224413       9.491609   1.073717   9.626673   \n",
      "W1                              9.765557       9.844470   1.107127   9.875702   \n",
      "W1-95R                         10.078976      10.205515   1.139776  10.186878   \n",
      "M-95L                          27.139632      27.156650   3.093451  27.160959   \n",
      "M                              27.843758      27.940067   3.191647  27.936771   \n",
      "M-95R                          28.725795      28.590893   3.266780  28.589745   \n",
      "N_Par                           0.000000  670672.000000  83.000000   0.000000   \n",
      "Train_Time                      1.620947       2.449377   5.525630   1.158826   \n",
      "Test_Time/MC-Oracle_Test_Time   0.331417       0.103696   1.372496   0.063690   \n",
      "\n",
      "                                      DGN  \n",
      "W1-95L                           1.098744  \n",
      "W1                               1.133590  \n",
      "W1-95R                           1.167507  \n",
      "M-95L                            9.013728  \n",
      "M                                9.288356  \n",
      "M-95R                            9.505022  \n",
      "N_Par                          182.000000  \n",
      "Train_Time                       4.362829  \n",
      "Test_Time/MC-Oracle_Test_Time    1.411543  \n",
      "Test Results to date:\n",
      "                                       DNM  MC-Oracle          ENET  \\\n",
      "W1-95L                            0.327046   0.000000  9.341512e+00   \n",
      "W1                                0.347314   0.000000  9.668558e+00   \n",
      "W1-95R                            0.369567   0.000000  1.003473e+01   \n",
      "M-95L                             0.892517   0.877548  2.703881e+01   \n",
      "M                                 0.954438   0.954438  2.782161e+01   \n",
      "M-95R                             1.014093   1.000305  2.859689e+01   \n",
      "N_Par                          1700.000000   0.000000  1.200000e+03   \n",
      "Train_Time                        8.110902   0.141413  1.619793e+09   \n",
      "Test_Time/MC-Oracle_Test_Time     1.412623   1.000000  5.585203e-03   \n",
      "\n",
      "                                  KRidge           GBRF        DNN        GPR  \\\n",
      "W1-95L                          9.224413       9.491609   1.073717   9.626673   \n",
      "W1                              9.765557       9.844470   1.107127   9.875702   \n",
      "W1-95R                         10.078976      10.205515   1.139776  10.186878   \n",
      "M-95L                          27.139632      27.156650   3.093451  27.160959   \n",
      "M                              27.843758      27.940067   3.191647  27.936771   \n",
      "M-95R                          28.725795      28.590893   3.266780  28.589745   \n",
      "N_Par                           0.000000  670672.000000  83.000000   0.000000   \n",
      "Train_Time                      1.620947       2.449377   5.525630   1.158826   \n",
      "Test_Time/MC-Oracle_Test_Time   0.331417       0.103696   1.372496   0.063690   \n",
      "\n",
      "                                      DGN  \n",
      "W1-95L                           1.098744  \n",
      "W1                               1.133590  \n",
      "W1-95R                           1.167507  \n",
      "M-95L                            9.013728  \n",
      "M                                9.288356  \n",
      "M-95R                            9.505022  \n",
      "N_Par                          182.000000  \n",
      "Train_Time                       4.362829  \n",
      "Test_Time/MC-Oracle_Test_Time    1.411543  \n",
      "------------------------------------------------\n",
      "Updated Performance Metrics Dataframe and Saved!\n",
      "------------------------------------------------\n"
     ]
    }
   ],
   "source": [
    "# %run Benchmarks_Model_Builder_Mean_Var.ipynb\n",
    "exec(open('Benchmarks_Model_Builder_Mean_Var.py').read())"
   ]
  },
  {
   "cell_type": "code",
   "execution_count": 20,
   "metadata": {},
   "outputs": [
    {
     "name": "stdout",
     "output_type": "stream",
     "text": [
      "Prediction Quality (Updated): Test\n",
      "                                       DNM  MC-Oracle          ENET  \\\n",
      "W1-95L                            0.327046   0.000000  9.341512e+00   \n",
      "W1                                0.347314   0.000000  9.668558e+00   \n",
      "W1-95R                            0.369567   0.000000  1.003473e+01   \n",
      "M-95L                             0.892517   0.877548  2.703881e+01   \n",
      "M                                 0.954438   0.954438  2.782161e+01   \n",
      "M-95R                             1.014093   1.000305  2.859689e+01   \n",
      "N_Par                          1700.000000   0.000000  1.200000e+03   \n",
      "Train_Time                        8.110902   0.141413  1.619793e+09   \n",
      "Test_Time/MC-Oracle_Test_Time     1.412623   1.000000  5.585203e-03   \n",
      "\n",
      "                                  KRidge           GBRF        DNN        GPR  \\\n",
      "W1-95L                          9.224413       9.491609   1.073717   9.626673   \n",
      "W1                              9.765557       9.844470   1.107127   9.875702   \n",
      "W1-95R                         10.078976      10.205515   1.139776  10.186878   \n",
      "M-95L                          27.139632      27.156650   3.093451  27.160959   \n",
      "M                              27.843758      27.940067   3.191647  27.936771   \n",
      "M-95R                          28.725795      28.590893   3.266780  28.589745   \n",
      "N_Par                           0.000000  670672.000000  83.000000   0.000000   \n",
      "Train_Time                      1.620947       2.449377   5.525630   1.158826   \n",
      "Test_Time/MC-Oracle_Test_Time   0.331417       0.103696   1.372496   0.063690   \n",
      "\n",
      "                                      DGN  \n",
      "W1-95L                           1.098744  \n",
      "W1                               1.133590  \n",
      "W1-95R                           1.167507  \n",
      "M-95L                            9.013728  \n",
      "M                                9.288356  \n",
      "M-95R                            9.505022  \n",
      "N_Par                          182.000000  \n",
      "Train_Time                       4.362829  \n",
      "Test_Time/MC-Oracle_Test_Time    1.411543  \n"
     ]
    },
    {
     "data": {
      "text/html": [
       "<div>\n",
       "<style scoped>\n",
       "    .dataframe tbody tr th:only-of-type {\n",
       "        vertical-align: middle;\n",
       "    }\n",
       "\n",
       "    .dataframe tbody tr th {\n",
       "        vertical-align: top;\n",
       "    }\n",
       "\n",
       "    .dataframe thead th {\n",
       "        text-align: right;\n",
       "    }\n",
       "</style>\n",
       "<table border=\"1\" class=\"dataframe\">\n",
       "  <thead>\n",
       "    <tr style=\"text-align: right;\">\n",
       "      <th></th>\n",
       "      <th>DNM</th>\n",
       "      <th>MC-Oracle</th>\n",
       "      <th>ENET</th>\n",
       "      <th>KRidge</th>\n",
       "      <th>GBRF</th>\n",
       "      <th>DNN</th>\n",
       "      <th>GPR</th>\n",
       "      <th>DGN</th>\n",
       "    </tr>\n",
       "  </thead>\n",
       "  <tbody>\n",
       "    <tr>\n",
       "      <th>W1-95L</th>\n",
       "      <td>0.327046</td>\n",
       "      <td>0.000000</td>\n",
       "      <td>9.341512e+00</td>\n",
       "      <td>9.224413</td>\n",
       "      <td>9.491609</td>\n",
       "      <td>1.073717</td>\n",
       "      <td>9.626673</td>\n",
       "      <td>1.098744</td>\n",
       "    </tr>\n",
       "    <tr>\n",
       "      <th>W1</th>\n",
       "      <td>0.347314</td>\n",
       "      <td>0.000000</td>\n",
       "      <td>9.668558e+00</td>\n",
       "      <td>9.765557</td>\n",
       "      <td>9.844470</td>\n",
       "      <td>1.107127</td>\n",
       "      <td>9.875702</td>\n",
       "      <td>1.133590</td>\n",
       "    </tr>\n",
       "    <tr>\n",
       "      <th>W1-95R</th>\n",
       "      <td>0.369567</td>\n",
       "      <td>0.000000</td>\n",
       "      <td>1.003473e+01</td>\n",
       "      <td>10.078976</td>\n",
       "      <td>10.205515</td>\n",
       "      <td>1.139776</td>\n",
       "      <td>10.186878</td>\n",
       "      <td>1.167507</td>\n",
       "    </tr>\n",
       "    <tr>\n",
       "      <th>M-95L</th>\n",
       "      <td>0.892517</td>\n",
       "      <td>0.877548</td>\n",
       "      <td>2.703881e+01</td>\n",
       "      <td>27.139632</td>\n",
       "      <td>27.156650</td>\n",
       "      <td>3.093451</td>\n",
       "      <td>27.160959</td>\n",
       "      <td>9.013728</td>\n",
       "    </tr>\n",
       "    <tr>\n",
       "      <th>M</th>\n",
       "      <td>0.954438</td>\n",
       "      <td>0.954438</td>\n",
       "      <td>2.782161e+01</td>\n",
       "      <td>27.843758</td>\n",
       "      <td>27.940067</td>\n",
       "      <td>3.191647</td>\n",
       "      <td>27.936771</td>\n",
       "      <td>9.288356</td>\n",
       "    </tr>\n",
       "    <tr>\n",
       "      <th>M-95R</th>\n",
       "      <td>1.014093</td>\n",
       "      <td>1.000305</td>\n",
       "      <td>2.859689e+01</td>\n",
       "      <td>28.725795</td>\n",
       "      <td>28.590893</td>\n",
       "      <td>3.266780</td>\n",
       "      <td>28.589745</td>\n",
       "      <td>9.505022</td>\n",
       "    </tr>\n",
       "    <tr>\n",
       "      <th>N_Par</th>\n",
       "      <td>1700.000000</td>\n",
       "      <td>0.000000</td>\n",
       "      <td>1.200000e+03</td>\n",
       "      <td>0.000000</td>\n",
       "      <td>670672.000000</td>\n",
       "      <td>83.000000</td>\n",
       "      <td>0.000000</td>\n",
       "      <td>182.000000</td>\n",
       "    </tr>\n",
       "    <tr>\n",
       "      <th>Train_Time</th>\n",
       "      <td>8.110902</td>\n",
       "      <td>0.141413</td>\n",
       "      <td>1.619793e+09</td>\n",
       "      <td>1.620947</td>\n",
       "      <td>2.449377</td>\n",
       "      <td>5.525630</td>\n",
       "      <td>1.158826</td>\n",
       "      <td>4.362829</td>\n",
       "    </tr>\n",
       "    <tr>\n",
       "      <th>Test_Time/MC-Oracle_Test_Time</th>\n",
       "      <td>1.412623</td>\n",
       "      <td>1.000000</td>\n",
       "      <td>5.585203e-03</td>\n",
       "      <td>0.331417</td>\n",
       "      <td>0.103696</td>\n",
       "      <td>1.372496</td>\n",
       "      <td>0.063690</td>\n",
       "      <td>1.411543</td>\n",
       "    </tr>\n",
       "  </tbody>\n",
       "</table>\n",
       "</div>"
      ],
      "text/plain": [
       "                                       DNM  MC-Oracle          ENET  \\\n",
       "W1-95L                            0.327046   0.000000  9.341512e+00   \n",
       "W1                                0.347314   0.000000  9.668558e+00   \n",
       "W1-95R                            0.369567   0.000000  1.003473e+01   \n",
       "M-95L                             0.892517   0.877548  2.703881e+01   \n",
       "M                                 0.954438   0.954438  2.782161e+01   \n",
       "M-95R                             1.014093   1.000305  2.859689e+01   \n",
       "N_Par                          1700.000000   0.000000  1.200000e+03   \n",
       "Train_Time                        8.110902   0.141413  1.619793e+09   \n",
       "Test_Time/MC-Oracle_Test_Time     1.412623   1.000000  5.585203e-03   \n",
       "\n",
       "                                  KRidge           GBRF        DNN        GPR  \\\n",
       "W1-95L                          9.224413       9.491609   1.073717   9.626673   \n",
       "W1                              9.765557       9.844470   1.107127   9.875702   \n",
       "W1-95R                         10.078976      10.205515   1.139776  10.186878   \n",
       "M-95L                          27.139632      27.156650   3.093451  27.160959   \n",
       "M                              27.843758      27.940067   3.191647  27.936771   \n",
       "M-95R                          28.725795      28.590893   3.266780  28.589745   \n",
       "N_Par                           0.000000  670672.000000  83.000000   0.000000   \n",
       "Train_Time                      1.620947       2.449377   5.525630   1.158826   \n",
       "Test_Time/MC-Oracle_Test_Time   0.331417       0.103696   1.372496   0.063690   \n",
       "\n",
       "                                      DGN  \n",
       "W1-95L                           1.098744  \n",
       "W1                               1.133590  \n",
       "W1-95R                           1.167507  \n",
       "M-95L                            9.013728  \n",
       "M                                9.288356  \n",
       "M-95R                            9.505022  \n",
       "N_Par                          182.000000  \n",
       "Train_Time                       4.362829  \n",
       "Test_Time/MC-Oracle_Test_Time    1.411543  "
      ]
     },
     "execution_count": 20,
     "metadata": {},
     "output_type": "execute_result"
    }
   ],
   "source": [
    "print(\"Prediction Quality (Updated): Test\")\n",
    "print(Summary_pred_Qual_models_test)\n",
    "Summary_pred_Qual_models_test"
   ]
  },
  {
   "cell_type": "code",
   "execution_count": 21,
   "metadata": {},
   "outputs": [
    {
     "name": "stdout",
     "output_type": "stream",
     "text": [
      "Prediction Quality (Updated): Train\n",
      "                                       DNM  MC-Oracle          ENET  \\\n",
      "W1-95L                            0.388959   0.000000  8.798957e+00   \n",
      "W1                                0.395865   0.000000  8.940426e+00   \n",
      "W1-95R                            0.405633   0.000000  9.088104e+00   \n",
      "M-95L                             0.719696   0.724927  2.541694e+01   \n",
      "M                                 0.757453   0.757453  2.586608e+01   \n",
      "M-95R                             0.804123   0.775725  2.631775e+01   \n",
      "N_Par                          1700.000000   0.000000  1.200000e+03   \n",
      "Train_Time                        8.110902   0.141413  1.619793e+09   \n",
      "Test_Time/MC-Oracle_Test_Time     1.412623   1.000000  5.585203e-03   \n",
      "\n",
      "                                  KRidge           GBRF        DNN        GPR  \\\n",
      "W1-95L                          8.697496       8.774327   1.002408   8.881741   \n",
      "W1                              8.862294       8.927684   1.026936   9.072385   \n",
      "W1-95R                          9.052723       9.122637   1.048477   9.233941   \n",
      "M-95L                          25.376265      25.422326   2.918591  25.365490   \n",
      "M                              25.856292      25.866079   2.960884  25.866079   \n",
      "M-95R                          26.301206      26.323855   2.996026  26.197753   \n",
      "N_Par                           0.000000  670672.000000  83.000000   0.000000   \n",
      "Train_Time                      1.620947       2.449377   5.525630   1.158826   \n",
      "Test_Time/MC-Oracle_Test_Time   0.331417       0.103696   1.372496   0.063690   \n",
      "\n",
      "                                      DGN  \n",
      "W1-95L                           1.025239  \n",
      "W1                               1.043683  \n",
      "W1-95R                           1.060653  \n",
      "M-95L                            8.415640  \n",
      "M                                8.598435  \n",
      "M-95R                            8.759917  \n",
      "N_Par                          182.000000  \n",
      "Train_Time                       4.362829  \n",
      "Test_Time/MC-Oracle_Test_Time    1.411543  \n"
     ]
    },
    {
     "data": {
      "text/html": [
       "<div>\n",
       "<style scoped>\n",
       "    .dataframe tbody tr th:only-of-type {\n",
       "        vertical-align: middle;\n",
       "    }\n",
       "\n",
       "    .dataframe tbody tr th {\n",
       "        vertical-align: top;\n",
       "    }\n",
       "\n",
       "    .dataframe thead th {\n",
       "        text-align: right;\n",
       "    }\n",
       "</style>\n",
       "<table border=\"1\" class=\"dataframe\">\n",
       "  <thead>\n",
       "    <tr style=\"text-align: right;\">\n",
       "      <th></th>\n",
       "      <th>DNM</th>\n",
       "      <th>MC-Oracle</th>\n",
       "      <th>ENET</th>\n",
       "      <th>KRidge</th>\n",
       "      <th>GBRF</th>\n",
       "      <th>DNN</th>\n",
       "      <th>GPR</th>\n",
       "      <th>DGN</th>\n",
       "    </tr>\n",
       "  </thead>\n",
       "  <tbody>\n",
       "    <tr>\n",
       "      <th>W1-95L</th>\n",
       "      <td>0.388959</td>\n",
       "      <td>0.000000</td>\n",
       "      <td>8.798957e+00</td>\n",
       "      <td>8.697496</td>\n",
       "      <td>8.774327</td>\n",
       "      <td>1.002408</td>\n",
       "      <td>8.881741</td>\n",
       "      <td>1.025239</td>\n",
       "    </tr>\n",
       "    <tr>\n",
       "      <th>W1</th>\n",
       "      <td>0.395865</td>\n",
       "      <td>0.000000</td>\n",
       "      <td>8.940426e+00</td>\n",
       "      <td>8.862294</td>\n",
       "      <td>8.927684</td>\n",
       "      <td>1.026936</td>\n",
       "      <td>9.072385</td>\n",
       "      <td>1.043683</td>\n",
       "    </tr>\n",
       "    <tr>\n",
       "      <th>W1-95R</th>\n",
       "      <td>0.405633</td>\n",
       "      <td>0.000000</td>\n",
       "      <td>9.088104e+00</td>\n",
       "      <td>9.052723</td>\n",
       "      <td>9.122637</td>\n",
       "      <td>1.048477</td>\n",
       "      <td>9.233941</td>\n",
       "      <td>1.060653</td>\n",
       "    </tr>\n",
       "    <tr>\n",
       "      <th>M-95L</th>\n",
       "      <td>0.719696</td>\n",
       "      <td>0.724927</td>\n",
       "      <td>2.541694e+01</td>\n",
       "      <td>25.376265</td>\n",
       "      <td>25.422326</td>\n",
       "      <td>2.918591</td>\n",
       "      <td>25.365490</td>\n",
       "      <td>8.415640</td>\n",
       "    </tr>\n",
       "    <tr>\n",
       "      <th>M</th>\n",
       "      <td>0.757453</td>\n",
       "      <td>0.757453</td>\n",
       "      <td>2.586608e+01</td>\n",
       "      <td>25.856292</td>\n",
       "      <td>25.866079</td>\n",
       "      <td>2.960884</td>\n",
       "      <td>25.866079</td>\n",
       "      <td>8.598435</td>\n",
       "    </tr>\n",
       "    <tr>\n",
       "      <th>M-95R</th>\n",
       "      <td>0.804123</td>\n",
       "      <td>0.775725</td>\n",
       "      <td>2.631775e+01</td>\n",
       "      <td>26.301206</td>\n",
       "      <td>26.323855</td>\n",
       "      <td>2.996026</td>\n",
       "      <td>26.197753</td>\n",
       "      <td>8.759917</td>\n",
       "    </tr>\n",
       "    <tr>\n",
       "      <th>N_Par</th>\n",
       "      <td>1700.000000</td>\n",
       "      <td>0.000000</td>\n",
       "      <td>1.200000e+03</td>\n",
       "      <td>0.000000</td>\n",
       "      <td>670672.000000</td>\n",
       "      <td>83.000000</td>\n",
       "      <td>0.000000</td>\n",
       "      <td>182.000000</td>\n",
       "    </tr>\n",
       "    <tr>\n",
       "      <th>Train_Time</th>\n",
       "      <td>8.110902</td>\n",
       "      <td>0.141413</td>\n",
       "      <td>1.619793e+09</td>\n",
       "      <td>1.620947</td>\n",
       "      <td>2.449377</td>\n",
       "      <td>5.525630</td>\n",
       "      <td>1.158826</td>\n",
       "      <td>4.362829</td>\n",
       "    </tr>\n",
       "    <tr>\n",
       "      <th>Test_Time/MC-Oracle_Test_Time</th>\n",
       "      <td>1.412623</td>\n",
       "      <td>1.000000</td>\n",
       "      <td>5.585203e-03</td>\n",
       "      <td>0.331417</td>\n",
       "      <td>0.103696</td>\n",
       "      <td>1.372496</td>\n",
       "      <td>0.063690</td>\n",
       "      <td>1.411543</td>\n",
       "    </tr>\n",
       "  </tbody>\n",
       "</table>\n",
       "</div>"
      ],
      "text/plain": [
       "                                       DNM  MC-Oracle          ENET  \\\n",
       "W1-95L                            0.388959   0.000000  8.798957e+00   \n",
       "W1                                0.395865   0.000000  8.940426e+00   \n",
       "W1-95R                            0.405633   0.000000  9.088104e+00   \n",
       "M-95L                             0.719696   0.724927  2.541694e+01   \n",
       "M                                 0.757453   0.757453  2.586608e+01   \n",
       "M-95R                             0.804123   0.775725  2.631775e+01   \n",
       "N_Par                          1700.000000   0.000000  1.200000e+03   \n",
       "Train_Time                        8.110902   0.141413  1.619793e+09   \n",
       "Test_Time/MC-Oracle_Test_Time     1.412623   1.000000  5.585203e-03   \n",
       "\n",
       "                                  KRidge           GBRF        DNN        GPR  \\\n",
       "W1-95L                          8.697496       8.774327   1.002408   8.881741   \n",
       "W1                              8.862294       8.927684   1.026936   9.072385   \n",
       "W1-95R                          9.052723       9.122637   1.048477   9.233941   \n",
       "M-95L                          25.376265      25.422326   2.918591  25.365490   \n",
       "M                              25.856292      25.866079   2.960884  25.866079   \n",
       "M-95R                          26.301206      26.323855   2.996026  26.197753   \n",
       "N_Par                           0.000000  670672.000000  83.000000   0.000000   \n",
       "Train_Time                      1.620947       2.449377   5.525630   1.158826   \n",
       "Test_Time/MC-Oracle_Test_Time   0.331417       0.103696   1.372496   0.063690   \n",
       "\n",
       "                                      DGN  \n",
       "W1-95L                           1.025239  \n",
       "W1                               1.043683  \n",
       "W1-95R                           1.060653  \n",
       "M-95L                            8.415640  \n",
       "M                                8.598435  \n",
       "M-95R                            8.759917  \n",
       "N_Par                          182.000000  \n",
       "Train_Time                       4.362829  \n",
       "Test_Time/MC-Oracle_Test_Time    1.411543  "
      ]
     },
     "execution_count": 21,
     "metadata": {},
     "output_type": "execute_result"
    }
   ],
   "source": [
    "print(\"Prediction Quality (Updated): Train\")\n",
    "print(Summary_pred_Qual_models)\n",
    "Summary_pred_Qual_models"
   ]
  },
  {
   "cell_type": "markdown",
   "metadata": {},
   "source": [
    "# 3) The natural Universal Benchmark: [Bishop's Mixture Density Network](https://publications.aston.ac.uk/id/eprint/373/1/NCRG_94_004.pdf)\n",
    "\n",
    "This implementation is as follows:\n",
    "- For every $x$ in the trainingdata-set we fit a GMM $\\hat{\\nu}_x$, using the [Expectation-Maximization (EM) algorithm](https://en.wikipedia.org/wiki/Expectation%E2%80%93maximization_algorithm), with the same number of centers as the deep neural model in $\\mathcal{NN}_{1_{\\mathbb{R}^d},\\mathcal{D}}^{\\sigma:\\star}$ which we are evaluating.  \n",
    "- A Mixture density network is then trained to predict the infered parameters; given any $x \\in \\mathbb{R}^d$."
   ]
  },
  {
   "cell_type": "code",
   "execution_count": null,
   "metadata": {},
   "outputs": [],
   "source": [
    "if output_dim == 1:\n",
    "    # %run Mixture_Density_Network.ipynb\n",
    "    exec(open('Mixture_Density_Network.py').read())"
   ]
  },
  {
   "cell_type": "markdown",
   "metadata": {},
   "source": [
    "## Get Final Outputs\n",
    "Now we piece together all the numerical experiments and report a nice summary."
   ]
  },
  {
   "cell_type": "markdown",
   "metadata": {},
   "source": [
    "# Result(s)"
   ]
  },
  {
   "cell_type": "markdown",
   "metadata": {},
   "source": [
    "## Prediction Quality"
   ]
  },
  {
   "cell_type": "markdown",
   "metadata": {},
   "source": [
    "#### Training"
   ]
  },
  {
   "cell_type": "code",
   "execution_count": null,
   "metadata": {},
   "outputs": [],
   "source": [
    "print(\"Final Test-Set Result(s)\")\n",
    "Summary_pred_Qual_models"
   ]
  },
  {
   "cell_type": "markdown",
   "metadata": {},
   "source": [
    "#### Test"
   ]
  },
  {
   "cell_type": "code",
   "execution_count": null,
   "metadata": {},
   "outputs": [],
   "source": [
    "print(\"Final Training-Set Result(s)\")\n",
    "Summary_pred_Qual_models_test"
   ]
  },
  {
   "cell_type": "markdown",
   "metadata": {},
   "source": [
    "# For Terminal Runner(s):"
   ]
  },
  {
   "cell_type": "code",
   "execution_count": null,
   "metadata": {},
   "outputs": [],
   "source": [
    "# For Terminal Running\n",
    "print(\"============================\")\n",
    "print(\"Training Predictive Quality:\")\n",
    "print(\"============================\")\n",
    "print(Summary_pred_Qual_models)\n",
    "print(\" \")\n",
    "print(\" \")\n",
    "print(\" \")\n",
    "print(\"===========================\")\n",
    "print(\"Testing Predictive Quality:\")\n",
    "print(\"===========================\")\n",
    "print(Summary_pred_Qual_models_test)\n",
    "print(\"================================\")\n",
    "print(\" \")\n",
    "print(\" \")\n",
    "print(\" \")\n",
    "print(\"Kernel_Used_in_GPR: \"+str(GPR_trash.kernel))\n",
    "print(\"🙃🙃 Have a wonderful day! 🙃🙃\")"
   ]
  },
  {
   "cell_type": "markdown",
   "metadata": {},
   "source": [
    "---\n",
    "# Fin\n",
    "---"
   ]
  },
  {
   "cell_type": "markdown",
   "metadata": {},
   "source": [
    "---"
   ]
  }
 ],
 "metadata": {
  "kernelspec": {
   "display_name": "Python 3",
   "language": "python",
   "name": "python3"
  },
  "language_info": {
   "codemirror_mode": {
    "name": "ipython",
    "version": 3
   },
   "file_extension": ".py",
   "mimetype": "text/x-python",
   "name": "python",
   "nbconvert_exporter": "python",
   "pygments_lexer": "ipython3",
   "version": "3.7.7"
  }
 },
 "nbformat": 4,
 "nbformat_minor": 2
}
