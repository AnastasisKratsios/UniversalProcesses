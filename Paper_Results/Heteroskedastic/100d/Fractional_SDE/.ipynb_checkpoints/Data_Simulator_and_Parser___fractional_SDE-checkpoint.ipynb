{
 "cells": [
  {
   "cell_type": "markdown",
   "metadata": {},
   "source": [
    "# Simulate and Parse Data Generated from SDE \n",
    "## with: *fractional Brownian Driver*"
   ]
  },
  {
   "cell_type": "markdown",
   "metadata": {},
   "source": [
    "---"
   ]
  },
  {
   "cell_type": "markdown",
   "metadata": {},
   "source": [
    "# Get Path(s)"
   ]
  },
  {
   "cell_type": "code",
   "execution_count": 1,
   "metadata": {},
   "outputs": [],
   "source": [
    "# load dataset\n",
    "results_path = \"./outputs/models/\"\n",
    "results_tables_path = \"./outputs/results/\"\n",
    "raw_data_path_folder = \"./inputs/raw/\"\n",
    "data_path_folder = \"./inputs/data/\""
   ]
  },
  {
   "cell_type": "markdown",
   "metadata": {},
   "source": [
    "## Set: Seeds"
   ]
  },
  {
   "cell_type": "code",
   "execution_count": null,
   "metadata": {},
   "outputs": [],
   "source": [
    "random.seed(2021)\n",
    "np.random.seed(2021)\n",
    "tf.random.set_seed(2021)"
   ]
  },
  {
   "cell_type": "markdown",
   "metadata": {},
   "source": [
    "## Get Internal (Hyper)-Parameter(s)\n",
    "*Initialize the hyperparameters which are fully-specified by the user-provided hyperparameter(s).*"
   ]
  },
  {
   "cell_type": "markdown",
   "metadata": {},
   "source": [
    "## Initialization of Auxiliary Internal-Variable(s)"
   ]
  },
  {
   "cell_type": "code",
   "execution_count": 1,
   "metadata": {},
   "outputs": [
    {
     "ename": "NameError",
     "evalue": "name 'N_Grid_Finess' is not defined",
     "output_type": "error",
     "traceback": [
      "\u001b[0;31m--------------------------------------------------------------------\u001b[0m",
      "\u001b[0;31mNameError\u001b[0m                          Traceback (most recent call last)",
      "\u001b[0;32m<ipython-input-1-6e160d5906aa>\u001b[0m in \u001b[0;36m<module>\u001b[0;34m\u001b[0m\n\u001b[1;32m      1\u001b[0m \u001b[0;31m# Get Number of Quantizers\u001b[0m\u001b[0;34m\u001b[0m\u001b[0;34m\u001b[0m\u001b[0;34m\u001b[0m\u001b[0m\n\u001b[0;32m----> 2\u001b[0;31m \u001b[0mN_Quantizers_to_parameterize\u001b[0m \u001b[0;34m=\u001b[0m \u001b[0mint\u001b[0m\u001b[0;34m(\u001b[0m\u001b[0mround\u001b[0m\u001b[0;34m(\u001b[0m\u001b[0mN_Grid_Finess\u001b[0m\u001b[0;34m*\u001b[0m\u001b[0mProportion_per_cluster\u001b[0m\u001b[0;34m)\u001b[0m\u001b[0;34m)\u001b[0m\u001b[0;34m\u001b[0m\u001b[0;34m\u001b[0m\u001b[0m\n\u001b[0m\u001b[1;32m      3\u001b[0m \u001b[0;34m\u001b[0m\u001b[0m\n\u001b[1;32m      4\u001b[0m \u001b[0;31m# Initialize (Empirical) Weight(s)\u001b[0m\u001b[0;34m\u001b[0m\u001b[0;34m\u001b[0m\u001b[0;34m\u001b[0m\u001b[0m\n\u001b[1;32m      5\u001b[0m \u001b[0mmeasure_weights\u001b[0m \u001b[0;34m=\u001b[0m \u001b[0mnp\u001b[0m\u001b[0;34m.\u001b[0m\u001b[0mones\u001b[0m\u001b[0;34m(\u001b[0m\u001b[0mN_Monte_Carlo_Samples\u001b[0m\u001b[0;34m)\u001b[0m\u001b[0;34m/\u001b[0m\u001b[0mN_Monte_Carlo_Samples\u001b[0m\u001b[0;34m\u001b[0m\u001b[0;34m\u001b[0m\u001b[0m\n",
      "\u001b[0;31mNameError\u001b[0m: name 'N_Grid_Finess' is not defined"
     ]
    }
   ],
   "source": [
    "# Get Number of Quantizers\n",
    "# N_Quantizers_to_parameterize = int(round(N_Grid_Finess*Proportion_per_cluster))\n",
    "\n",
    "# Initialize (Empirical) Weight(s)\n",
    "measure_weights = np.ones(N_Monte_Carlo_Samples)/N_Monte_Carlo_Samples\n",
    "measure_weights_test = np.ones(N_Monte_Carlo_Samples_Test)/N_Monte_Carlo_Samples_Test\n",
    "\n",
    "# Get number of centers\n",
    "N_Centers_per_box = max(1,int(round(N_Quantizers_to_parameterize)))\n",
    "N_points_per_barycenter = 10"
   ]
  },
  {
   "cell_type": "markdown",
   "metadata": {},
   "source": [
    "## Get Barycenters"
   ]
  },
  {
   "cell_type": "code",
   "execution_count": null,
   "metadata": {},
   "outputs": [],
   "source": [
    "x_Grid_barycenters = np.random.uniform(low=-Max_Grid,\n",
    "                                       high = Max_Grid, \n",
    "                                       size = np.array([N_Centers_per_box,problem_dim]))"
   ]
  },
  {
   "cell_type": "markdown",
   "metadata": {},
   "source": [
    "# Get Training and Testing Data"
   ]
  },
  {
   "cell_type": "code",
   "execution_count": null,
   "metadata": {},
   "outputs": [],
   "source": [
    "print(\"Building Training + Testing Set - rough-SDE Ground-Truth\")\n",
    "\n",
    "# Initialize position Counter\n",
    "position_counter = 0\n",
    "# Barycenter Counter\n",
    "barycenter_counter = 0\n",
    "# Iniitalize uniform weights vector\n",
    "measures_weights_list_loop = np.ones(N_Monte_Carlo_Samples)/N_Monte_Carlo_Samples\n",
    "\n",
    "# For simplicity override:\n",
    "N_Monte_Carlo_Samples_Test = N_Monte_Carlo_Samples\n",
    "\n",
    "# Overrine Number of Centers\n",
    "N_x = x_Grid_barycenters.shape[0]\n",
    "N_t = N_Euler_Maruyama_Steps\n",
    "N_Quantizers_to_parameterize = N_x*N_t\n",
    "Q_How_many_time_steps_to_sample_per_x = int(round(N_Euler_Maruyama_Steps*Proportion_per_cluster))\n",
    "\n",
    "# Initialize number of training and testing to grab from each initial condition\n",
    "N_train = int(N_Euler_Maruyama_Steps*(1-test_size_ratio))\n",
    "N_test = N_Euler_Maruyama_Steps - N_train\n",
    "\n",
    "# Initialize Times List\n",
    "t_Grid = np.linspace(T_begin,T_end,N_Euler_Maruyama_Steps).reshape(-1,1)\n",
    "\n",
    "for x_bary_i in range(1):#tqdm(range(N_x)): This works; no need to loop\n",
    "    # Get Current Locations\n",
    "    x_barycenter = x_Grid_barycenters[x_bary_i,]\n",
    "\n",
    "    for x_i in tqdm(range(N_points_per_barycenter),leave=True):\n",
    "        # timer\n",
    "        if x_i == 1:\n",
    "            Test_Set_PredictionTime_MC_loop = time.time()\n",
    "        else:\n",
    "            Train_Set_PredictionTime_MC_loop = time.time()\n",
    "\n",
    "        # Get Current x_init by sampling near the barycenter\n",
    "        if x_i > 0:\n",
    "            # This case represents the genuine barycenter (which must lie in the dataset eh)\n",
    "            x_center = x_barycenter\n",
    "        else:\n",
    "            x_center = x_barycenter + np.random.uniform(low=delta/2,high=delta/2,size = problem_dim)\n",
    "\n",
    "        # Update X Grid of Loop\n",
    "        X_grid_loop = np.repeat((x_center.reshape(1,-1)),\n",
    "                                N_Euler_Maruyama_Steps,axis=0)\n",
    "        X_grid_loop = np.append(t_Grid,X_grid_loop,axis=1)\n",
    "\n",
    "        # Get Sample Paths for this x_init\n",
    "        current_cover = Euler_Maruyama_Generator(x_0 = x_center,\n",
    "                                                 N_Euler_Maruyama_Steps = N_Euler_Maruyama_Steps,\n",
    "                                                 N_Monte_Carlo_Samples = N_Monte_Carlo_Samples,\n",
    "                                                 T_begin = T_begin,\n",
    "                                                 T_end = T_end,\n",
    "                                                 Hurst = Rougness,\n",
    "                                                 Ratio_fBM_to_typical_vol = Ratio_fBM_to_typical_vol)\n",
    "\n",
    "\n",
    "        # Update(s) #\n",
    "        #-----------#\n",
    "        # Identify Which Elements to Add to Barycenters Array\n",
    "        ## Identify Which Rows Belong to this Barycenter\n",
    "        t_indices_barycenters_loop = np.sort(np.random.choice(range(N_Euler_Maruyama_Steps),size = Q_How_many_time_steps_to_sample_per_x, replace=False))\n",
    "        X_grid_barycenters_loop = X_grid_loop[t_indices_barycenters_loop,:]\n",
    "        # Get Barycenters for this loop\n",
    "        Barycenter_update_loop = current_cover[t_indices_barycenters_loop,:,:]\n",
    "\n",
    "        # Get Current Barycenter Index      \n",
    "        ## Initializations(Loop)\n",
    "        barycenter_loop_index = 0\n",
    "        current_associated_centers_index = t_indices_barycenters_loop[barycenter_loop_index]\n",
    "        max_possible_loop = max(t_indices_barycenters_loop)\n",
    "        current_barycenter_index = np.array(range(N_Euler_Maruyama_Steps)) \n",
    "        ## Get Clusters\n",
    "        for loop_index in range(N_Euler_Maruyama_Steps):\n",
    "            if (current_barycenter_index[loop_index] >= current_associated_centers_index) and (current_barycenter_index[loop_index] < max_possible_loop):\n",
    "                # Update Active Barycenter\n",
    "                current_associated_centers_index = t_indices_barycenters_loop[barycenter_loop_index]\n",
    "                barycenter_loop_index = barycenter_loop_index + 1\n",
    "                barycenter_counter = barycenter_counter + 1\n",
    "            # Update Dummy\n",
    "            current_barycenter_index[loop_index] = barycenter_counter\n",
    "        \n",
    "        # Append\n",
    "        ## Decide if we should initialize or append?...\n",
    "        if x_bary_i == 0:\n",
    "            if x_i == 0:\n",
    "                # Initialize Barycenters\n",
    "                Barycenters_Array = Barycenter_update_loop\n",
    "                # Initialize Training Set\n",
    "                X_train = X_grid_loop\n",
    "                Y_train = current_cover\n",
    "                # Initialize Training Timer\n",
    "                Train_Set_PredictionTime_MC = time.time() - Train_Set_PredictionTime_MC_loop\n",
    "                # Update Barycenters Array (For training the deep classifier)\n",
    "                Train_classes = current_barycenter_index\n",
    "            # Initialize Test Set\n",
    "            if x_i == 1:\n",
    "                X_test = X_grid_loop\n",
    "                Y_test = current_cover\n",
    "                # Initialize Test Timer\n",
    "                Test_Set_PredictionTime_MC = time.time() - Test_Set_PredictionTime_MC_loop\n",
    "        # Update arrays (Now that they're all nice and initialized)\n",
    "        else:\n",
    "            if x_i != 1:\n",
    "                # Update Barycenters\n",
    "                Barycenters_Array = np.append(Barycenters_Array,Barycenter_update_loop,axis=0)\n",
    "                # Update Training Data\n",
    "                X_train = np.append(X_train,X_grid_loop,axis = 0)\n",
    "                Y_train = np.append(Y_train,current_cover,axis = 0)\n",
    "                # Update Training Timer\n",
    "                Train_Set_PredictionTime_MC = (time.time() - Train_Set_PredictionTime_MC) + Train_Set_PredictionTime_MC\n",
    "                # Update Barycenters Array (For training the deep classifier)\n",
    "                Train_classes = np.append(Train_classes,current_barycenter_index)\n",
    "            else:\n",
    "                # Update Testing Data\n",
    "                X_test = np.append(X_test,X_grid_loop,axis = 0)\n",
    "                Y_test = np.append(Y_test,current_cover,axis = 0)\n",
    "                # Update Test Timer\n",
    "                Test_Set_PredictionTime_MC = (time.time() - Test_Set_PredictionTime_MC_loop) + Test_Set_PredictionTime_MC\n",
    "                \n",
    "# Get Numpy Classes\n",
    "Train_classes = (pd.get_dummies(Train_classes)).to_numpy()\n",
    "\n",
    "# Update Number of Centers\n",
    "N_Quantizers_to_parameterize = Train_classes.shape[1]"
   ]
  },
  {
   "cell_type": "markdown",
   "metadata": {},
   "source": [
    "## Get Mean Data for Benchmark Models\n",
    "*(When applicable)*"
   ]
  },
  {
   "cell_type": "code",
   "execution_count": null,
   "metadata": {},
   "outputs": [],
   "source": [
    "# Get Mean Training Data\n",
    "Y_train_mean_emp = np.mean(Y_train,axis=1)"
   ]
  },
  {
   "cell_type": "markdown",
   "metadata": {},
   "source": [
    "---\n",
    "# Fin\n",
    "---"
   ]
  }
 ],
 "metadata": {
  "kernelspec": {
   "display_name": "Python 3",
   "language": "python",
   "name": "python3"
  },
  "language_info": {
   "codemirror_mode": {
    "name": "ipython",
    "version": 3
   },
   "file_extension": ".py",
   "mimetype": "text/x-python",
   "name": "python",
   "nbconvert_exporter": "python",
   "pygments_lexer": "ipython3",
   "version": "3.7.7"
  }
 },
 "nbformat": 4,
 "nbformat_minor": 2
}
