{
 "cells": [
  {
   "cell_type": "markdown",
   "metadata": {},
   "source": [
    "# Generic Conditional Laws for Random-Fields - via:\n",
    "\n",
    "## Universal $\\mathcal{P}_1(\\mathbb{R})$-Deep Neural Model $\\mathcal{NN}_{1_{\\mathbb{R}^n},\\mathcal{D}}^{\\sigma:\\star}$.\n",
    "\n",
    "---\n",
    "\n",
    "By: [Anastasis Kratsios](https://people.math.ethz.ch/~kratsioa/) - 2021.\n",
    "\n",
    "---\n",
    "\n",
    "## What does this code do?\n",
    "1. Learn Heteroskedastic Non-Linear Regression Problem\n",
    "     - $Y\\sim f_{\\text{unkown}}(x) + \\epsilon$ where $f$ is an known function and $\\epsilon\\sim Laplace(0,\\|x\\|)$\n",
    "2. Learn Random Bayesian Network's Law:\n",
    "    - $Y = W_J Y^{J-1}, \\qquad Y^{j}\\triangleq \\sigma\\bullet A^{j}Y^{j-1} + b^{j}, \\qquad Y^0\\triangleq x$\n",
    "\n",
    "3. In the above example if $A_j = M_j\\odot \\tilde{A_j}$ where $\\tilde{A}_j$ is a deterministic matrix and $M_j$ is a \"mask\", that is, a random matrix with binary entries and $\\odot$ is the Hadamard product then we recover the dropout framework."
   ]
  },
  {
   "cell_type": "code",
   "execution_count": 1,
   "metadata": {},
   "outputs": [
    {
     "name": "stderr",
     "output_type": "stream",
     "text": [
      "Using TensorFlow backend.\n"
     ]
    }
   ],
   "source": [
    "# Load Packages/Modules\n",
    "exec(open('Init_Dump.py').read())"
   ]
  },
  {
   "cell_type": "markdown",
   "metadata": {},
   "source": [
    "#### Mode:\n",
    "Software/Hardware Testing or Real-Deal?"
   ]
  },
  {
   "cell_type": "code",
   "execution_count": 2,
   "metadata": {},
   "outputs": [],
   "source": [
    "trial_run = True"
   ]
  },
  {
   "cell_type": "markdown",
   "metadata": {},
   "source": [
    "### Simulation Method:"
   ]
  },
  {
   "cell_type": "code",
   "execution_count": 3,
   "metadata": {},
   "outputs": [],
   "source": [
    "# Random DNN\n",
    "f_unknown_mode = \"Heteroskedastic_NonLinear_Regression\"\n",
    "\n",
    "# Random DNN internal noise\n",
    "# f_unknown_mode = \"DNN_with_Random_Weights\"\n",
    "Depth_Bayesian_DNN = 50\n",
    "width = 200\n",
    "\n",
    "# Random Dropout applied to trained DNN\n",
    "# f_unknown_mode = \"DNN_with_Bayesian_Dropout\"\n",
    "Dropout_rate = 0.25\n",
    "\n",
    "# Rough SDE (time 1)\n",
    "# f_unknown_mode = \"Rough_SDE\""
   ]
  },
  {
   "cell_type": "markdown",
   "metadata": {},
   "source": [
    "## Problem Dimension"
   ]
  },
  {
   "cell_type": "code",
   "execution_count": 4,
   "metadata": {},
   "outputs": [],
   "source": [
    "problem_dim = 3"
   ]
  },
  {
   "cell_type": "markdown",
   "metadata": {},
   "source": [
    "## Note: *Why the procedure is so computationally efficient*?\n",
    "---\n",
    " - The sample barycenters do not require us to solve for any new Wasserstein-1 Barycenters; which is much more computationally costly,\n",
    " - Our training procedure never back-propages through $\\mathcal{W}_1$ since steps 2 and 3 are full-decoupled.  Therefore, training our deep classifier is (comparatively) cheap since it takes values in the standard $N$-simplex.\n",
    "\n",
    "---"
   ]
  },
  {
   "cell_type": "markdown",
   "metadata": {},
   "source": [
    "#### Rough SDE Meta-Parameters"
   ]
  },
  {
   "cell_type": "code",
   "execution_count": 5,
   "metadata": {},
   "outputs": [],
   "source": [
    "# SDE with Rough Driver\n",
    "N_Euler_Steps = 10**1\n",
    "Hurst_Exponent = 0.01\n",
    "\n",
    "def alpha(t,x):\n",
    "    output_drift_update = t-x\n",
    "    return output_drift_update\n",
    "\n",
    "def beta(t,x):\n",
    "    output_vol_update = (t+0.001)*np.diag(np.cos(x))\n",
    "    return output_vol_update"
   ]
  },
  {
   "cell_type": "markdown",
   "metadata": {},
   "source": [
    "#### Grid Hyperparameter(s)\n",
    "- Ratio $\\frac{\\text{Testing Datasize}}{\\text{Training Datasize}}$.\n",
    "- Number of Training Points to Generate"
   ]
  },
  {
   "cell_type": "code",
   "execution_count": 6,
   "metadata": {},
   "outputs": [],
   "source": [
    "train_test_ratio = .2\n",
    "N_train_size = 10**2"
   ]
  },
  {
   "cell_type": "markdown",
   "metadata": {},
   "source": [
    "Monte-Carlo Paramters"
   ]
  },
  {
   "cell_type": "code",
   "execution_count": 7,
   "metadata": {},
   "outputs": [],
   "source": [
    "## Monte-Carlo\n",
    "N_Monte_Carlo_Samples = 5"
   ]
  },
  {
   "cell_type": "markdown",
   "metadata": {},
   "source": [
    "Initial radis of $\\delta$-bounded random partition of $\\mathcal{X}$!"
   ]
  },
  {
   "cell_type": "code",
   "execution_count": 8,
   "metadata": {},
   "outputs": [],
   "source": [
    "# Hyper-parameters of Cover\n",
    "delta = 0.01\n",
    "Proportion_per_cluster = .5"
   ]
  },
  {
   "cell_type": "markdown",
   "metadata": {},
   "source": [
    "# Run Main:"
   ]
  },
  {
   "cell_type": "code",
   "execution_count": 9,
   "metadata": {},
   "outputs": [
    {
     "name": "stderr",
     "output_type": "stream",
     "text": [
      "\r",
      "  0%|          | 0/50 [00:00<?, ?it/s]"
     ]
    },
    {
     "name": "stdout",
     "output_type": "stream",
     "text": [
      "Deep Feature Builder - Ready\n",
      "Deep Classifier - Ready\n"
     ]
    },
    {
     "name": "stderr",
     "output_type": "stream",
     "text": [
      "100%|██████████| 50/50 [00:00<00:00, 147.52it/s]\n",
      "100%|██████████| 100/100 [00:01<00:00, 79.73it/s]\n",
      "100%|██████████| 20/20 [00:00<00:00, 61.22it/s]"
     ]
    },
    {
     "name": "stdout",
     "output_type": "stream",
     "text": [
      "Deep Feature Builder - Ready\n",
      "Deep Classifier - Ready\n",
      "==========================================\n",
      "Training Classifer Portion of Type-A Model\n",
      "==========================================\n",
      "Fitting 2 folds for each of 1 candidates, totalling 2 fits\n"
     ]
    },
    {
     "name": "stderr",
     "output_type": "stream",
     "text": [
      "\n",
      "[Parallel(n_jobs=4)]: Using backend LokyBackend with 4 concurrent workers.\n",
      "[Parallel(n_jobs=4)]: Done   2 out of   2 | elapsed:    4.6s remaining:    0.0s\n",
      "[Parallel(n_jobs=4)]: Done   2 out of   2 | elapsed:    4.6s finished\n"
     ]
    },
    {
     "name": "stdout",
     "output_type": "stream",
     "text": [
      "Epoch 1/50\n",
      "4/4 [==============================] - 0s 3ms/step - loss: 3.8989 - accuracy: 0.0600\n",
      "Epoch 2/50\n",
      "4/4 [==============================] - 0s 4ms/step - loss: 3.8923 - accuracy: 0.0600\n",
      "Epoch 3/50\n",
      "4/4 [==============================] - 0s 2ms/step - loss: 3.8870 - accuracy: 0.0600\n",
      "Epoch 4/50\n",
      "4/4 [==============================] - 0s 2ms/step - loss: 3.8823 - accuracy: 0.0600\n",
      "Epoch 5/50\n",
      "4/4 [==============================] - 0s 2ms/step - loss: 3.8773 - accuracy: 0.0700\n",
      "Epoch 6/50\n",
      "4/4 [==============================] - 0s 3ms/step - loss: 3.8724 - accuracy: 0.0900\n",
      "Epoch 7/50\n",
      "4/4 [==============================] - 0s 2ms/step - loss: 3.8677 - accuracy: 0.0900\n",
      "Epoch 8/50\n",
      "4/4 [==============================] - 0s 4ms/step - loss: 3.8632 - accuracy: 0.0900\n",
      "Epoch 9/50\n",
      "4/4 [==============================] - 0s 3ms/step - loss: 3.8588 - accuracy: 0.0700\n",
      "Epoch 10/50\n",
      "4/4 [==============================] - 0s 2ms/step - loss: 3.8545 - accuracy: 0.0700\n",
      "Epoch 11/50\n",
      "4/4 [==============================] - 0s 2ms/step - loss: 3.8501 - accuracy: 0.0700\n",
      "Epoch 12/50\n",
      "4/4 [==============================] - ETA: 0s - loss: 3.8512 - accuracy: 0.09 - 0s 3ms/step - loss: 3.8457 - accuracy: 0.0600\n",
      "Epoch 13/50\n",
      "4/4 [==============================] - 0s 3ms/step - loss: 3.8413 - accuracy: 0.0600\n",
      "Epoch 14/50\n",
      "4/4 [==============================] - 0s 4ms/step - loss: 3.8367 - accuracy: 0.0600\n",
      "Epoch 15/50\n",
      "4/4 [==============================] - 0s 3ms/step - loss: 3.8327 - accuracy: 0.0600\n",
      "Epoch 16/50\n",
      "4/4 [==============================] - 0s 4ms/step - loss: 3.8275 - accuracy: 0.0600\n",
      "Epoch 17/50\n",
      "4/4 [==============================] - 0s 4ms/step - loss: 3.8230 - accuracy: 0.0700\n",
      "Epoch 18/50\n",
      "4/4 [==============================] - 0s 5ms/step - loss: 3.8179 - accuracy: 0.0700\n",
      "Epoch 19/50\n",
      "4/4 [==============================] - 0s 5ms/step - loss: 3.8128 - accuracy: 0.0700\n",
      "Epoch 20/50\n",
      "4/4 [==============================] - 0s 4ms/step - loss: 3.8074 - accuracy: 0.0700\n",
      "Epoch 21/50\n",
      "4/4 [==============================] - 0s 5ms/step - loss: 3.8021 - accuracy: 0.0700\n",
      "Epoch 22/50\n",
      "4/4 [==============================] - 0s 3ms/step - loss: 3.7968 - accuracy: 0.0500\n",
      "Epoch 23/50\n",
      "4/4 [==============================] - 0s 4ms/step - loss: 3.7914 - accuracy: 0.0300\n",
      "Epoch 24/50\n",
      "4/4 [==============================] - 0s 5ms/step - loss: 3.7864 - accuracy: 0.0300\n",
      "Epoch 25/50\n",
      "4/4 [==============================] - 0s 5ms/step - loss: 3.7806 - accuracy: 0.0300\n",
      "Epoch 26/50\n",
      "4/4 [==============================] - 0s 3ms/step - loss: 3.7754 - accuracy: 0.0300\n",
      "Epoch 27/50\n",
      "4/4 [==============================] - 0s 4ms/step - loss: 3.7694 - accuracy: 0.0300\n",
      "Epoch 28/50\n",
      "4/4 [==============================] - 0s 3ms/step - loss: 3.7638 - accuracy: 0.0300\n",
      "Epoch 29/50\n",
      "4/4 [==============================] - 0s 3ms/step - loss: 3.7580 - accuracy: 0.0300\n",
      "Epoch 30/50\n",
      "4/4 [==============================] - 0s 2ms/step - loss: 3.7519 - accuracy: 0.0300\n",
      "Epoch 31/50\n",
      "4/4 [==============================] - 0s 3ms/step - loss: 3.7457 - accuracy: 0.0300\n",
      "Epoch 32/50\n",
      "4/4 [==============================] - 0s 4ms/step - loss: 3.7403 - accuracy: 0.0300\n",
      "Epoch 33/50\n",
      "4/4 [==============================] - 0s 3ms/step - loss: 3.7337 - accuracy: 0.0300\n",
      "Epoch 34/50\n",
      "4/4 [==============================] - 0s 3ms/step - loss: 3.7278 - accuracy: 0.0300\n",
      "Epoch 35/50\n",
      "4/4 [==============================] - 0s 3ms/step - loss: 3.7215 - accuracy: 0.0300\n",
      "Epoch 36/50\n",
      "4/4 [==============================] - 0s 2ms/step - loss: 3.7150 - accuracy: 0.0300\n",
      "Epoch 37/50\n",
      "4/4 [==============================] - 0s 2ms/step - loss: 3.7089 - accuracy: 0.0300\n",
      "Epoch 38/50\n",
      "4/4 [==============================] - 0s 3ms/step - loss: 3.7023 - accuracy: 0.0300\n",
      "Epoch 39/50\n",
      "4/4 [==============================] - 0s 3ms/step - loss: 3.6959 - accuracy: 0.0300\n",
      "Epoch 40/50\n",
      "4/4 [==============================] - 0s 4ms/step - loss: 3.6893 - accuracy: 0.0300\n",
      "Epoch 41/50\n",
      "4/4 [==============================] - 0s 2ms/step - loss: 3.6828 - accuracy: 0.0300\n",
      "Epoch 42/50\n",
      "4/4 [==============================] - 0s 2ms/step - loss: 3.6763 - accuracy: 0.0300\n",
      "Epoch 43/50\n",
      "4/4 [==============================] - 0s 2ms/step - loss: 3.6695 - accuracy: 0.0300\n",
      "Epoch 44/50\n",
      "4/4 [==============================] - 0s 3ms/step - loss: 3.6629 - accuracy: 0.0300\n",
      "Epoch 45/50\n",
      "4/4 [==============================] - 0s 3ms/step - loss: 3.6567 - accuracy: 0.0400\n",
      "Epoch 46/50\n",
      "4/4 [==============================] - 0s 3ms/step - loss: 3.6497 - accuracy: 0.0400\n",
      "Epoch 47/50\n",
      "4/4 [==============================] - 0s 4ms/step - loss: 3.6430 - accuracy: 0.0500\n",
      "Epoch 48/50\n",
      "4/4 [==============================] - 0s 3ms/step - loss: 3.6361 - accuracy: 0.0500\n",
      "Epoch 49/50\n",
      "4/4 [==============================] - 0s 3ms/step - loss: 3.6290 - accuracy: 0.0500\n",
      "Epoch 50/50\n",
      "4/4 [==============================] - 0s 3ms/step - loss: 3.6218 - accuracy: 0.0400\n",
      "4/4 [==============================] - 0s 1ms/step\n",
      "1/1 [==============================] - 0s 1ms/step\n",
      "===============================================\n",
      "Training Classifer Portion of Type Model: Done!\n",
      "===============================================\n"
     ]
    },
    {
     "name": "stderr",
     "output_type": "stream",
     "text": [
      "100%|██████████| 100/100 [00:00<00:00, 568.74it/s]\n",
      "  0%|          | 0/20 [00:00<?, ?it/s]"
     ]
    },
    {
     "name": "stdout",
     "output_type": "stream",
     "text": [
      "#--------------------#\n",
      " Get Training Error(s)\n",
      "#--------------------#\n",
      "#-------------------------#\n",
      " Get Training Error(s): END\n",
      "#-------------------------#\n",
      "#----------------#\n",
      " Get Test Error(s)\n",
      "#----------------#\n"
     ]
    },
    {
     "name": "stderr",
     "output_type": "stream",
     "text": [
      "\r",
      "100%|██████████| 20/20 [00:00<00:00, 446.44it/s]"
     ]
    },
    {
     "name": "stdout",
     "output_type": "stream",
     "text": [
      "#-------------------------#\n",
      " Get Training Error(s): END\n",
      "#-------------------------#\n"
     ]
    },
    {
     "name": "stderr",
     "output_type": "stream",
     "text": [
      "\n"
     ]
    }
   ],
   "source": [
    "# %run Universal_Measure_Valued_Networks_Backend.ipynb\n",
    "exec(open('Universal_Measure_Valued_Networks_Backend.py').read())"
   ]
  },
  {
   "cell_type": "markdown",
   "metadata": {},
   "source": [
    "---\n",
    "# Run: Benchmarks\n",
    "---"
   ]
  },
  {
   "cell_type": "markdown",
   "metadata": {},
   "source": [
    "## Run: *Pointmass Benchmark(s)*\n",
    "These benchmarks consist of subsets of $C(\\mathbb{R}^d,\\mathbb{R})$ which we lift to models in $C(\\mathbb{R}^d,\\cap_{1\\leq q<\\infty}\\mathscr{P}_{q}(\\mathbb{R}))$ via:\n",
    "$$\n",
    "\\mathbb{R}^d \\ni x \\to f(x) \\to \\delta_{f(x)}\\in \\cap_{1\\leq q<\\infty}\\mathcal{P}_{q}(\\mathbb{R}).\n",
    "$$"
   ]
  },
  {
   "cell_type": "code",
   "execution_count": 10,
   "metadata": {},
   "outputs": [
    {
     "name": "stdout",
     "output_type": "stream",
     "text": [
      "Deep Feature Builder - Ready\n",
      "--------------\n",
      "Training: ENET\n",
      "--------------\n"
     ]
    },
    {
     "name": "stderr",
     "output_type": "stream",
     "text": [
      "100%|██████████| 100/100 [00:00<00:00, 1112.92it/s]\n",
      "100%|██████████| 20/20 [00:00<00:00, 965.31it/s]"
     ]
    },
    {
     "name": "stdout",
     "output_type": "stream",
     "text": [
      "#------------#\n",
      " Get Error(s) \n",
      "#------------#\n",
      "#-----------------#\n",
      " Get Error(s): END \n",
      "#-----------------#\n",
      "#------------#\n",
      " Get Error(s) \n",
      "#------------#\n",
      "#-----------------#\n",
      " Get Error(s): END \n",
      "#-----------------#\n",
      "-----------------\n",
      "Training: K-Ridge\n",
      "-----------------\n",
      "Fitting 2 folds for each of 1 candidates, totalling 2 fits\n"
     ]
    },
    {
     "name": "stderr",
     "output_type": "stream",
     "text": [
      "\n",
      "[Parallel(n_jobs=4)]: Using backend LokyBackend with 4 concurrent workers.\n",
      "[Parallel(n_jobs=4)]: Done   2 out of   2 | elapsed:    0.4s remaining:    0.0s\n",
      "[Parallel(n_jobs=4)]: Done   2 out of   2 | elapsed:    0.4s finished\n",
      "100%|██████████| 100/100 [00:00<00:00, 945.02it/s]\n",
      "100%|██████████| 20/20 [00:00<00:00, 853.91it/s]"
     ]
    },
    {
     "name": "stdout",
     "output_type": "stream",
     "text": [
      "#------------#\n",
      " Get Error(s) \n",
      "#------------#\n",
      "#-----------------#\n",
      " Get Error(s): END \n",
      "#-----------------#\n",
      "#------------#\n",
      " Get Error(s) \n",
      "#------------#\n",
      "#-----------------#\n",
      " Get Error(s): END \n",
      "#-----------------#\n",
      "--------------\n",
      "Training: GBRF\n",
      "--------------\n",
      "Fitting 2 folds for each of 1 candidates, totalling 2 fits\n"
     ]
    },
    {
     "name": "stderr",
     "output_type": "stream",
     "text": [
      "\n",
      "[Parallel(n_jobs=4)]: Using backend LokyBackend with 4 concurrent workers.\n",
      "[Parallel(n_jobs=4)]: Done   2 out of   2 | elapsed:    0.3s remaining:    0.0s\n",
      "[Parallel(n_jobs=4)]: Done   2 out of   2 | elapsed:    0.3s finished\n",
      "100%|██████████| 100/100 [00:00<00:00, 1108.43it/s]\n",
      "100%|██████████| 20/20 [00:00<00:00, 1026.73it/s]"
     ]
    },
    {
     "name": "stdout",
     "output_type": "stream",
     "text": [
      "#------------#\n",
      " Get Error(s) \n",
      "#------------#\n",
      "#-----------------#\n",
      " Get Error(s): END \n",
      "#-----------------#\n",
      "#------------#\n",
      " Get Error(s) \n",
      "#------------#\n",
      "#-----------------#\n",
      " Get Error(s): END \n",
      "#-----------------#\n",
      "-------------\n",
      "Training: DNN\n",
      "-------------\n",
      "Fitting 2 folds for each of 1 candidates, totalling 2 fits\n"
     ]
    },
    {
     "name": "stderr",
     "output_type": "stream",
     "text": [
      "\n",
      "[Parallel(n_jobs=4)]: Using backend LokyBackend with 4 concurrent workers.\n",
      "[Parallel(n_jobs=4)]: Done   2 out of   2 | elapsed:    3.4s remaining:    0.0s\n",
      "[Parallel(n_jobs=4)]: Done   2 out of   2 | elapsed:    3.4s finished\n"
     ]
    },
    {
     "name": "stdout",
     "output_type": "stream",
     "text": [
      "Epoch 1/50\n",
      "4/4 [==============================] - 0s 7ms/step - loss: 0.9969 - mse: 1.6241 - mae: 0.9969 - mape: 101.5082\n",
      "Epoch 2/50\n",
      "4/4 [==============================] - 0s 2ms/step - loss: 0.9969 - mse: 1.6241 - mae: 0.9969 - mape: 101.4691\n",
      "Epoch 3/50\n",
      "4/4 [==============================] - 0s 3ms/step - loss: 0.9967 - mse: 1.6237 - mae: 0.9967 - mape: 101.3836\n",
      "Epoch 4/50\n",
      "4/4 [==============================] - 0s 2ms/step - loss: 0.9966 - mse: 1.6235 - mae: 0.9966 - mape: 101.3319\n",
      "Epoch 5/50\n",
      "4/4 [==============================] - 0s 3ms/step - loss: 0.9966 - mse: 1.6233 - mae: 0.9966 - mape: 101.2751\n",
      "Epoch 6/50\n",
      "4/4 [==============================] - 0s 3ms/step - loss: 0.9965 - mse: 1.6233 - mae: 0.9965 - mape: 101.2408\n",
      "Epoch 7/50\n",
      "4/4 [==============================] - 0s 3ms/step - loss: 0.9964 - mse: 1.6231 - mae: 0.9964 - mape: 101.1815\n",
      "Epoch 8/50\n",
      "4/4 [==============================] - 0s 3ms/step - loss: 0.9963 - mse: 1.6230 - mae: 0.9963 - mape: 101.1398\n",
      "Epoch 9/50\n",
      "4/4 [==============================] - 0s 2ms/step - loss: 0.9963 - mse: 1.6229 - mae: 0.9963 - mape: 101.0836\n",
      "Epoch 10/50\n",
      "4/4 [==============================] - 0s 2ms/step - loss: 0.9962 - mse: 1.6227 - mae: 0.9962 - mape: 101.0287\n",
      "Epoch 11/50\n",
      "4/4 [==============================] - 0s 2ms/step - loss: 0.9961 - mse: 1.6225 - mae: 0.9961 - mape: 100.9767\n",
      "Epoch 12/50\n",
      "4/4 [==============================] - 0s 2ms/step - loss: 0.9960 - mse: 1.6224 - mae: 0.9960 - mape: 100.9371\n",
      "Epoch 13/50\n",
      "4/4 [==============================] - 0s 2ms/step - loss: 0.9960 - mse: 1.6224 - mae: 0.9960 - mape: 100.8929\n",
      "Epoch 14/50\n",
      "4/4 [==============================] - 0s 4ms/step - loss: 0.9959 - mse: 1.6222 - mae: 0.9959 - mape: 100.8489\n",
      "Epoch 15/50\n",
      "4/4 [==============================] - 0s 3ms/step - loss: 0.9959 - mse: 1.6221 - mae: 0.9959 - mape: 100.8035\n",
      "Epoch 16/50\n",
      "4/4 [==============================] - 0s 3ms/step - loss: 0.9958 - mse: 1.6220 - mae: 0.9958 - mape: 100.7834\n",
      "Epoch 17/50\n",
      "4/4 [==============================] - 0s 2ms/step - loss: 0.9958 - mse: 1.6219 - mae: 0.9958 - mape: 100.7638\n",
      "Epoch 18/50\n",
      "4/4 [==============================] - 0s 4ms/step - loss: 0.9958 - mse: 1.6219 - mae: 0.9958 - mape: 100.7445\n",
      "Epoch 19/50\n",
      "4/4 [==============================] - 0s 3ms/step - loss: 0.9957 - mse: 1.6218 - mae: 0.9957 - mape: 100.7275\n",
      "Epoch 20/50\n",
      "4/4 [==============================] - 0s 4ms/step - loss: 0.9957 - mse: 1.6217 - mae: 0.9957 - mape: 100.6879\n",
      "Epoch 21/50\n",
      "4/4 [==============================] - 0s 3ms/step - loss: 0.9956 - mse: 1.6216 - mae: 0.9956 - mape: 100.6488\n",
      "Epoch 22/50\n",
      "4/4 [==============================] - 0s 4ms/step - loss: 0.9955 - mse: 1.6215 - mae: 0.9955 - mape: 100.5662\n",
      "Epoch 23/50\n",
      "4/4 [==============================] - 0s 1ms/step - loss: 0.9954 - mse: 1.6214 - mae: 0.9954 - mape: 100.4911\n",
      "Epoch 24/50\n",
      "4/4 [==============================] - 0s 3ms/step - loss: 0.9953 - mse: 1.6211 - mae: 0.9953 - mape: 100.4598\n",
      "Epoch 25/50\n",
      "4/4 [==============================] - 0s 2ms/step - loss: 0.9953 - mse: 1.6211 - mae: 0.9953 - mape: 100.4235\n",
      "Epoch 26/50\n",
      "4/4 [==============================] - 0s 2ms/step - loss: 0.9952 - mse: 1.6209 - mae: 0.9952 - mape: 100.3881\n",
      "Epoch 27/50\n",
      "4/4 [==============================] - 0s 2ms/step - loss: 0.9952 - mse: 1.6209 - mae: 0.9952 - mape: 100.3391\n",
      "Epoch 28/50\n",
      "4/4 [==============================] - 0s 2ms/step - loss: 0.9951 - mse: 1.6208 - mae: 0.9951 - mape: 100.3120\n",
      "Epoch 29/50\n",
      "4/4 [==============================] - 0s 3ms/step - loss: 0.9951 - mse: 1.6207 - mae: 0.9951 - mape: 100.2767\n",
      "Epoch 30/50\n",
      "4/4 [==============================] - 0s 2ms/step - loss: 0.9950 - mse: 1.6205 - mae: 0.9950 - mape: 100.2373\n",
      "Epoch 31/50\n",
      "4/4 [==============================] - 0s 2ms/step - loss: 0.9949 - mse: 1.6205 - mae: 0.9949 - mape: 100.1947\n",
      "Epoch 32/50\n",
      "4/4 [==============================] - 0s 2ms/step - loss: 0.9949 - mse: 1.6204 - mae: 0.9949 - mape: 100.1544\n",
      "Epoch 33/50\n",
      "4/4 [==============================] - 0s 1ms/step - loss: 0.9948 - mse: 1.6202 - mae: 0.9948 - mape: 100.1139\n",
      "Epoch 34/50\n",
      "4/4 [==============================] - 0s 2ms/step - loss: 0.9947 - mse: 1.6201 - mae: 0.9947 - mape: 100.0529\n",
      "Epoch 35/50\n",
      "4/4 [==============================] - 0s 1ms/step - loss: 0.9946 - mse: 1.6200 - mae: 0.9946 - mape: 100.0032\n",
      "Epoch 36/50\n",
      "4/4 [==============================] - 0s 2ms/step - loss: 0.9946 - mse: 1.6199 - mae: 0.9946 - mape: 99.9851\n",
      "Epoch 37/50\n",
      "4/4 [==============================] - 0s 2ms/step - loss: 0.9946 - mse: 1.6198 - mae: 0.9946 - mape: 99.9605\n",
      "Epoch 38/50\n",
      "4/4 [==============================] - 0s 3ms/step - loss: 0.9945 - mse: 1.6197 - mae: 0.9945 - mape: 99.8898\n",
      "Epoch 39/50\n",
      "4/4 [==============================] - 0s 2ms/step - loss: 0.9944 - mse: 1.6196 - mae: 0.9944 - mape: 99.8665\n",
      "Epoch 40/50\n",
      "4/4 [==============================] - 0s 2ms/step - loss: 0.9944 - mse: 1.6196 - mae: 0.9944 - mape: 99.8229\n",
      "Epoch 41/50\n",
      "4/4 [==============================] - 0s 2ms/step - loss: 0.9943 - mse: 1.6195 - mae: 0.9943 - mape: 99.8027\n",
      "Epoch 42/50\n",
      "4/4 [==============================] - 0s 2ms/step - loss: 0.9943 - mse: 1.6194 - mae: 0.9943 - mape: 99.7692\n",
      "Epoch 43/50\n",
      "4/4 [==============================] - 0s 3ms/step - loss: 0.9943 - mse: 1.6194 - mae: 0.9943 - mape: 99.7575\n",
      "Epoch 44/50\n",
      "4/4 [==============================] - 0s 2ms/step - loss: 0.9943 - mse: 1.6194 - mae: 0.9943 - mape: 99.7536\n",
      "Epoch 45/50\n",
      "4/4 [==============================] - 0s 3ms/step - loss: 0.9943 - mse: 1.6194 - mae: 0.9943 - mape: 99.7409\n",
      "Epoch 46/50\n",
      "4/4 [==============================] - 0s 3ms/step - loss: 0.9942 - mse: 1.6192 - mae: 0.9942 - mape: 99.6903\n",
      "Epoch 47/50\n",
      "4/4 [==============================] - 0s 3ms/step - loss: 0.9941 - mse: 1.6192 - mae: 0.9941 - mape: 99.6712\n",
      "Epoch 48/50\n",
      "4/4 [==============================] - 0s 2ms/step - loss: 0.9941 - mse: 1.6191 - mae: 0.9941 - mape: 99.6500\n",
      "Epoch 49/50\n",
      "4/4 [==============================] - 0s 2ms/step - loss: 0.9940 - mse: 1.6190 - mae: 0.9940 - mape: 99.5854\n",
      "Epoch 50/50\n",
      "4/4 [==============================] - 0s 2ms/step - loss: 0.9939 - mse: 1.6189 - mae: 0.9939 - mape: 99.5412\n",
      "4/4 [==============================] - 0s 1ms/step\n",
      "1/1 [==============================] - 0s 1ms/step\n"
     ]
    },
    {
     "name": "stderr",
     "output_type": "stream",
     "text": [
      "\r",
      "  0%|          | 0/100 [00:00<?, ?it/s]"
     ]
    },
    {
     "name": "stdout",
     "output_type": "stream",
     "text": [
      "#------------#\n",
      " Get Error(s) \n",
      "#------------#\n"
     ]
    },
    {
     "name": "stderr",
     "output_type": "stream",
     "text": [
      "100%|██████████| 100/100 [00:00<00:00, 880.77it/s]\n",
      "  0%|          | 0/20 [00:00<?, ?it/s]"
     ]
    },
    {
     "name": "stdout",
     "output_type": "stream",
     "text": [
      "#-----------------#\n",
      " Get Error(s): END \n",
      "#-----------------#\n",
      "#------------#\n",
      " Get Error(s) \n",
      "#------------#\n"
     ]
    },
    {
     "name": "stderr",
     "output_type": "stream",
     "text": [
      "\r",
      "100%|██████████| 20/20 [00:00<00:00, 648.14it/s]"
     ]
    },
    {
     "name": "stdout",
     "output_type": "stream",
     "text": [
      "#-----------------#\n",
      " Get Error(s): END \n",
      "#-----------------#\n",
      "-----------------------\n",
      "Computing Error Metrics\n",
      "-----------------------\n"
     ]
    },
    {
     "name": "stderr",
     "output_type": "stream",
     "text": [
      "\n"
     ]
    }
   ],
   "source": [
    "exec(open('CV_Grid.py').read())\n",
    "# Notebook Mode:\n",
    "# %run Evaluation.ipynb\n",
    "# %run Benchmarks_Model_Builder_Pointmass_Based.ipynb\n",
    "# Terminal Mode (Default):\n",
    "exec(open('Evaluation.py').read())\n",
    "exec(open('Benchmarks_Model_Builder_Pointmass_Based.py').read())"
   ]
  },
  {
   "cell_type": "markdown",
   "metadata": {},
   "source": [
    "# Summary of Mean-Centric Regression Models"
   ]
  },
  {
   "cell_type": "markdown",
   "metadata": {},
   "source": [
    "#### Training Model Facts"
   ]
  },
  {
   "cell_type": "code",
   "execution_count": 11,
   "metadata": {},
   "outputs": [
    {
     "name": "stdout",
     "output_type": "stream",
     "text": [
      "                  ENET        kRidge          GBRF          ffNN\n",
      "W1        9.564489e+00  9.428337e+00  1.149899e+01  9.644549e+00\n",
      "Mean      4.177433e+22  4.177433e+22  4.177433e+22  4.177433e+22\n",
      "Var       5.109072e+00  5.109072e+00  5.109072e+00  5.109072e+00\n",
      "Skewness  0.000000e+00  0.000000e+00  0.000000e+00  0.000000e+00\n",
      "Ex_Kur    6.000000e+00  6.000000e+00  6.000000e+00  6.000000e+00\n"
     ]
    },
    {
     "data": {
      "text/html": [
       "<div>\n",
       "<style scoped>\n",
       "    .dataframe tbody tr th:only-of-type {\n",
       "        vertical-align: middle;\n",
       "    }\n",
       "\n",
       "    .dataframe tbody tr th {\n",
       "        vertical-align: top;\n",
       "    }\n",
       "\n",
       "    .dataframe thead th {\n",
       "        text-align: right;\n",
       "    }\n",
       "</style>\n",
       "<table border=\"1\" class=\"dataframe\">\n",
       "  <thead>\n",
       "    <tr style=\"text-align: right;\">\n",
       "      <th></th>\n",
       "      <th>ENET</th>\n",
       "      <th>kRidge</th>\n",
       "      <th>GBRF</th>\n",
       "      <th>ffNN</th>\n",
       "    </tr>\n",
       "  </thead>\n",
       "  <tbody>\n",
       "    <tr>\n",
       "      <th>W1</th>\n",
       "      <td>9.564489e+00</td>\n",
       "      <td>9.428337e+00</td>\n",
       "      <td>1.149899e+01</td>\n",
       "      <td>9.644549e+00</td>\n",
       "    </tr>\n",
       "    <tr>\n",
       "      <th>Mean</th>\n",
       "      <td>4.177433e+22</td>\n",
       "      <td>4.177433e+22</td>\n",
       "      <td>4.177433e+22</td>\n",
       "      <td>4.177433e+22</td>\n",
       "    </tr>\n",
       "    <tr>\n",
       "      <th>Var</th>\n",
       "      <td>5.109072e+00</td>\n",
       "      <td>5.109072e+00</td>\n",
       "      <td>5.109072e+00</td>\n",
       "      <td>5.109072e+00</td>\n",
       "    </tr>\n",
       "    <tr>\n",
       "      <th>Skewness</th>\n",
       "      <td>0.000000e+00</td>\n",
       "      <td>0.000000e+00</td>\n",
       "      <td>0.000000e+00</td>\n",
       "      <td>0.000000e+00</td>\n",
       "    </tr>\n",
       "    <tr>\n",
       "      <th>Ex_Kur</th>\n",
       "      <td>6.000000e+00</td>\n",
       "      <td>6.000000e+00</td>\n",
       "      <td>6.000000e+00</td>\n",
       "      <td>6.000000e+00</td>\n",
       "    </tr>\n",
       "  </tbody>\n",
       "</table>\n",
       "</div>"
      ],
      "text/plain": [
       "                  ENET        kRidge          GBRF          ffNN\n",
       "W1        9.564489e+00  9.428337e+00  1.149899e+01  9.644549e+00\n",
       "Mean      4.177433e+22  4.177433e+22  4.177433e+22  4.177433e+22\n",
       "Var       5.109072e+00  5.109072e+00  5.109072e+00  5.109072e+00\n",
       "Skewness  0.000000e+00  0.000000e+00  0.000000e+00  0.000000e+00\n",
       "Ex_Kur    6.000000e+00  6.000000e+00  6.000000e+00  6.000000e+00"
      ]
     },
     "execution_count": 11,
     "metadata": {},
     "output_type": "execute_result"
    }
   ],
   "source": [
    "print(Summary_pred_Qual_models)\n",
    "Summary_pred_Qual_models"
   ]
  },
  {
   "cell_type": "markdown",
   "metadata": {},
   "source": [
    "#### Testing Model Facts"
   ]
  },
  {
   "cell_type": "code",
   "execution_count": 12,
   "metadata": {},
   "outputs": [
    {
     "name": "stdout",
     "output_type": "stream",
     "text": [
      "                  ENET        kRidge          GBRF          ffNN\n",
      "W1        6.484909e+00  6.581567e+00  4.913863e+00  6.499174e+00\n",
      "Mean      4.127114e+22  4.127114e+22  4.127114e+22  4.127114e+22\n",
      "Var       6.021381e+00  6.021381e+00  6.021381e+00  6.021381e+00\n",
      "Skewness  0.000000e+00  0.000000e+00  0.000000e+00  0.000000e+00\n",
      "Ex_Kur    6.000000e+00  6.000000e+00  6.000000e+00  6.000000e+00\n"
     ]
    }
   ],
   "source": [
    "print(Summary_pred_Qual_models_test)"
   ]
  },
  {
   "cell_type": "markdown",
   "metadata": {},
   "source": [
    "#### Model Complexitie(s)"
   ]
  },
  {
   "cell_type": "code",
   "execution_count": 13,
   "metadata": {
    "scrolled": true
   },
   "outputs": [
    {
     "name": "stdout",
     "output_type": "stream",
     "text": [
      "        N_Params    T_Time  T_Test/T_test-MC\n",
      "ENET           6  4.583115          0.000172\n",
      "GBRF       72006  0.672003          0.004516\n",
      "kRidge        12  0.597928          0.005413\n",
      "ffNN         101  5.453893          0.148053\n"
     ]
    }
   ],
   "source": [
    "print(Summary_Complexity_models)"
   ]
  },
  {
   "cell_type": "markdown",
   "metadata": {},
   "source": [
    "## Run: *Gaussian Benchmark(s)*"
   ]
  },
  {
   "cell_type": "markdown",
   "metadata": {},
   "source": [
    "- Bencharm 1: [Gaussian Process Regressor](https://scikit-learn.org/stable/modules/gaussian_process.html)\n",
    "- Benchmark 2: Deep Gaussian Networks:\n",
    "These models train models which assume Gaussianity.  We may view these as models in $\\mathcal{P}_2(\\mathbb{R})$ via:\n",
    "$$\n",
    "\\mathbb{R}^d \\ni x \\to (\\hat{\\mu}(x),\\hat{\\sigma}(x))\\triangleq f(x) \\in \\mathbb{R}\\times [0,\\infty) \\to \\frac1{\\hat{\\sigma}(x)\\sqrt{2\\pi}}\\exp\\left(\\frac{-(\\cdot-\\hat{\\mu}(x))^2}{\\hat{\\sigma(x)}^2}\\right) \\in \\mathcal{G}_1\\subset \\mathcal{P}_2(\\mathbb{R});\n",
    "$$\n",
    "where $\\mathcal{G}_1$ is the set of Gaussian measures on $\\mathbb{R}$ equipped with the relative Wasserstein-1 topology."
   ]
  },
  {
   "cell_type": "code",
   "execution_count": 14,
   "metadata": {},
   "outputs": [
    {
     "name": "stdout",
     "output_type": "stream",
     "text": [
      "Deep Feature Builder - Ready\n",
      "Deep Feature Builder - Ready\n",
      "Fitting 2 folds for each of 1 candidates, totalling 2 fits\n"
     ]
    },
    {
     "name": "stderr",
     "output_type": "stream",
     "text": [
      "[Parallel(n_jobs=4)]: Using backend LokyBackend with 4 concurrent workers.\n",
      "[Parallel(n_jobs=4)]: Batch computation too fast (0.1401s.) Setting batch_size=2.\n",
      "[Parallel(n_jobs=4)]: Done   2 out of   2 | elapsed:    0.2s remaining:    0.0s\n",
      "[Parallel(n_jobs=4)]: Done   2 out of   2 | elapsed:    0.2s finished\n",
      "  3%|▎         | 3/100 [00:00<00:03, 29.18it/s]"
     ]
    },
    {
     "name": "stdout",
     "output_type": "stream",
     "text": [
      "Infering Parameters for Deep Gaussian Network to train on!\n"
     ]
    },
    {
     "name": "stderr",
     "output_type": "stream",
     "text": [
      "100%|██████████| 100/100 [00:01<00:00, 82.54it/s]\n",
      "[Parallel(n_jobs=4)]: Using backend LokyBackend with 4 concurrent workers.\n"
     ]
    },
    {
     "name": "stdout",
     "output_type": "stream",
     "text": [
      "Done Getting Parameters for Deep Gaussian Network!\n",
      "===============================\n",
      "Training Deep Gaussian Network!\n",
      "===============================\n",
      "Fitting 2 folds for each of 1 candidates, totalling 2 fits\n"
     ]
    },
    {
     "name": "stderr",
     "output_type": "stream",
     "text": [
      "[Parallel(n_jobs=4)]: Done   2 out of   2 | elapsed:    1.2s remaining:    0.0s\n",
      "[Parallel(n_jobs=4)]: Done   2 out of   2 | elapsed:    1.2s finished\n"
     ]
    },
    {
     "name": "stdout",
     "output_type": "stream",
     "text": [
      "Epoch 1/50\n",
      "4/4 [==============================] - 0s 1ms/step - loss: 0.9869 - mse: 1.8280 - mae: 0.9869 - mape: 72.4823\n",
      "Epoch 2/50\n",
      "4/4 [==============================] - 0s 2ms/step - loss: 0.9866 - mse: 1.8270 - mae: 0.9866 - mape: 72.4639\n",
      "Epoch 3/50\n",
      "4/4 [==============================] - 0s 2ms/step - loss: 0.9862 - mse: 1.8258 - mae: 0.9862 - mape: 72.4777\n",
      "Epoch 4/50\n",
      "4/4 [==============================] - 0s 2ms/step - loss: 0.9858 - mse: 1.8248 - mae: 0.9858 - mape: 72.4823\n",
      "Epoch 5/50\n",
      "4/4 [==============================] - 0s 3ms/step - loss: 0.9854 - mse: 1.8237 - mae: 0.9854 - mape: 72.4855\n",
      "Epoch 6/50\n",
      "4/4 [==============================] - 0s 3ms/step - loss: 0.9851 - mse: 1.8226 - mae: 0.9851 - mape: 72.4836\n",
      "Epoch 7/50\n",
      "4/4 [==============================] - 0s 3ms/step - loss: 0.9847 - mse: 1.8216 - mae: 0.9847 - mape: 72.4860\n",
      "Epoch 8/50\n",
      "4/4 [==============================] - 0s 3ms/step - loss: 0.9843 - mse: 1.8206 - mae: 0.9843 - mape: 72.4821\n",
      "Epoch 9/50\n",
      "4/4 [==============================] - 0s 2ms/step - loss: 0.9839 - mse: 1.8196 - mae: 0.9839 - mape: 72.4930\n",
      "Epoch 10/50\n",
      "4/4 [==============================] - 0s 2ms/step - loss: 0.9836 - mse: 1.8186 - mae: 0.9836 - mape: 72.4989\n",
      "Epoch 11/50\n",
      "4/4 [==============================] - 0s 3ms/step - loss: 0.9832 - mse: 1.8175 - mae: 0.9832 - mape: 72.5075\n",
      "Epoch 12/50\n",
      "4/4 [==============================] - 0s 3ms/step - loss: 0.9828 - mse: 1.8165 - mae: 0.9828 - mape: 72.4949\n",
      "Epoch 13/50\n",
      "4/4 [==============================] - 0s 2ms/step - loss: 0.9825 - mse: 1.8156 - mae: 0.9825 - mape: 72.5098\n",
      "Epoch 14/50\n",
      "4/4 [==============================] - 0s 2ms/step - loss: 0.9821 - mse: 1.8145 - mae: 0.9821 - mape: 72.5153\n",
      "Epoch 15/50\n",
      "4/4 [==============================] - 0s 2ms/step - loss: 0.9818 - mse: 1.8136 - mae: 0.9818 - mape: 72.5039\n",
      "Epoch 16/50\n",
      "4/4 [==============================] - 0s 3ms/step - loss: 0.9815 - mse: 1.8127 - mae: 0.9815 - mape: 72.5314\n",
      "Epoch 17/50\n",
      "4/4 [==============================] - 0s 4ms/step - loss: 0.9812 - mse: 1.8118 - mae: 0.9812 - mape: 72.5261\n",
      "Epoch 18/50\n",
      "4/4 [==============================] - 0s 2ms/step - loss: 0.9808 - mse: 1.8109 - mae: 0.9808 - mape: 72.5276\n",
      "Epoch 19/50\n",
      "4/4 [==============================] - 0s 2ms/step - loss: 0.9805 - mse: 1.8100 - mae: 0.9805 - mape: 72.5192\n",
      "Epoch 20/50\n",
      "4/4 [==============================] - 0s 2ms/step - loss: 0.9801 - mse: 1.8089 - mae: 0.9801 - mape: 72.5265\n",
      "Epoch 21/50\n",
      "4/4 [==============================] - 0s 2ms/step - loss: 0.9797 - mse: 1.8078 - mae: 0.9797 - mape: 72.5283\n",
      "Epoch 22/50\n",
      "4/4 [==============================] - 0s 2ms/step - loss: 0.9793 - mse: 1.8067 - mae: 0.9793 - mape: 72.5627\n",
      "Epoch 23/50\n",
      "4/4 [==============================] - 0s 2ms/step - loss: 0.9790 - mse: 1.8056 - mae: 0.9790 - mape: 72.5434\n",
      "Epoch 24/50\n",
      "4/4 [==============================] - 0s 3ms/step - loss: 0.9785 - mse: 1.8045 - mae: 0.9785 - mape: 72.5346\n",
      "Epoch 25/50\n",
      "4/4 [==============================] - 0s 3ms/step - loss: 0.9782 - mse: 1.8036 - mae: 0.9782 - mape: 72.5621\n",
      "Epoch 26/50\n",
      "4/4 [==============================] - 0s 2ms/step - loss: 0.9778 - mse: 1.8025 - mae: 0.9778 - mape: 72.5616\n",
      "Epoch 27/50\n",
      "4/4 [==============================] - 0s 3ms/step - loss: 0.9774 - mse: 1.8014 - mae: 0.9774 - mape: 72.5717\n",
      "Epoch 28/50\n",
      "4/4 [==============================] - 0s 2ms/step - loss: 0.9771 - mse: 1.8005 - mae: 0.9771 - mape: 72.5621\n",
      "Epoch 29/50\n",
      "4/4 [==============================] - 0s 3ms/step - loss: 0.9767 - mse: 1.7994 - mae: 0.9767 - mape: 72.5733\n",
      "Epoch 30/50\n",
      "4/4 [==============================] - 0s 3ms/step - loss: 0.9763 - mse: 1.7983 - mae: 0.9763 - mape: 72.5822\n",
      "Epoch 31/50\n",
      "4/4 [==============================] - 0s 3ms/step - loss: 0.9759 - mse: 1.7973 - mae: 0.9759 - mape: 72.5923\n",
      "Epoch 32/50\n",
      "4/4 [==============================] - 0s 3ms/step - loss: 0.9755 - mse: 1.7961 - mae: 0.9755 - mape: 72.6266\n",
      "Epoch 33/50\n",
      "4/4 [==============================] - 0s 3ms/step - loss: 0.9751 - mse: 1.7949 - mae: 0.9751 - mape: 72.6647\n",
      "Epoch 34/50\n",
      "4/4 [==============================] - 0s 3ms/step - loss: 0.9747 - mse: 1.7937 - mae: 0.9747 - mape: 72.7048\n",
      "Epoch 35/50\n",
      "4/4 [==============================] - 0s 2ms/step - loss: 0.9742 - mse: 1.7924 - mae: 0.9742 - mape: 72.7188\n",
      "Epoch 36/50\n",
      "4/4 [==============================] - 0s 2ms/step - loss: 0.9738 - mse: 1.7913 - mae: 0.9738 - mape: 72.7354\n",
      "Epoch 37/50\n",
      "4/4 [==============================] - 0s 1ms/step - loss: 0.9734 - mse: 1.7902 - mae: 0.9734 - mape: 72.7675\n",
      "Epoch 38/50\n",
      "4/4 [==============================] - 0s 2ms/step - loss: 0.9730 - mse: 1.7890 - mae: 0.9730 - mape: 72.8089\n",
      "Epoch 39/50\n",
      "4/4 [==============================] - 0s 2ms/step - loss: 0.9726 - mse: 1.7879 - mae: 0.9726 - mape: 72.8168\n",
      "Epoch 40/50\n",
      "4/4 [==============================] - 0s 2ms/step - loss: 0.9722 - mse: 1.7868 - mae: 0.9722 - mape: 72.8501\n",
      "Epoch 41/50\n",
      "4/4 [==============================] - 0s 2ms/step - loss: 0.9718 - mse: 1.7857 - mae: 0.9718 - mape: 72.8872\n",
      "Epoch 42/50\n",
      "4/4 [==============================] - 0s 2ms/step - loss: 0.9714 - mse: 1.7843 - mae: 0.9714 - mape: 72.9100\n",
      "Epoch 43/50\n",
      "4/4 [==============================] - 0s 2ms/step - loss: 0.9710 - mse: 1.7832 - mae: 0.9710 - mape: 72.9517\n",
      "Epoch 44/50\n",
      "4/4 [==============================] - 0s 3ms/step - loss: 0.9706 - mse: 1.7820 - mae: 0.9706 - mape: 73.0048\n",
      "Epoch 45/50\n",
      "4/4 [==============================] - 0s 3ms/step - loss: 0.9702 - mse: 1.7809 - mae: 0.9702 - mape: 73.0713\n",
      "Epoch 46/50\n",
      "4/4 [==============================] - 0s 4ms/step - loss: 0.9696 - mse: 1.7794 - mae: 0.9696 - mape: 73.1150\n",
      "Epoch 47/50\n",
      "4/4 [==============================] - 0s 2ms/step - loss: 0.9692 - mse: 1.7782 - mae: 0.9692 - mape: 73.1685\n",
      "Epoch 48/50\n",
      "4/4 [==============================] - 0s 2ms/step - loss: 0.9688 - mse: 1.7768 - mae: 0.9688 - mape: 73.2272\n",
      "Epoch 49/50\n",
      "4/4 [==============================] - 0s 2ms/step - loss: 0.9683 - mse: 1.7755 - mae: 0.9683 - mape: 73.3031\n",
      "Epoch 50/50\n",
      "4/4 [==============================] - 0s 1ms/step - loss: 0.9678 - mse: 1.7741 - mae: 0.9678 - mape: 73.3284\n",
      "4/4 [==============================] - 0s 809us/step\n",
      "1/1 [==============================] - 0s 878us/step\n"
     ]
    },
    {
     "name": "stderr",
     "output_type": "stream",
     "text": [
      "\r",
      "  0%|          | 0/100 [00:00<?, ?it/s]"
     ]
    },
    {
     "name": "stdout",
     "output_type": "stream",
     "text": [
      "====================================\n",
      "Training Deep Gaussian Network!: END\n",
      "====================================\n",
      "#---------------------------------------#\n",
      " Get Training Errors for: Gaussian Models\n",
      "#---------------------------------------#\n"
     ]
    },
    {
     "name": "stderr",
     "output_type": "stream",
     "text": [
      "100%|██████████| 100/100 [00:00<00:00, 2062.32it/s]\n",
      "100%|██████████| 20/20 [00:00<00:00, 1766.58it/s]"
     ]
    },
    {
     "name": "stdout",
     "output_type": "stream",
     "text": [
      "#-------------------------#\n",
      " Get Training Error(s): END\n",
      "#-------------------------#\n",
      "#---------------------------------------#\n",
      " Get Testing Errors for: Gaussian Models\n",
      "#---------------------------------------#\n",
      "#------------------------#\n",
      " Get Testing Error(s): END\n",
      "#------------------------#\n",
      "-------------------------------------------------\n",
      "Updating Performance Metrics Dataframe and Saved!\n",
      "-------------------------------------------------\n",
      "------------------------------------------------\n",
      "Updated Performance Metrics Dataframe and Saved!\n",
      "------------------------------------------------\n",
      "--------------------------------------------\n",
      "Computing and Updating Complexity Metrics...\n",
      "--------------------------------------------\n",
      "-----------------------------------------------\n",
      "Updated Complexity Metrics Dataframe and Saved!\n",
      "-----------------------------------------------\n"
     ]
    },
    {
     "name": "stderr",
     "output_type": "stream",
     "text": [
      "\n"
     ]
    }
   ],
   "source": [
    "# %run Benchmarks_Model_Builder_Mean_Var.ipynb\n",
    "exec(open('Benchmarks_Model_Builder_Mean_Var.py').read())"
   ]
  },
  {
   "cell_type": "code",
   "execution_count": 15,
   "metadata": {},
   "outputs": [
    {
     "name": "stdout",
     "output_type": "stream",
     "text": [
      "Prediction Quality (Updated)\n",
      "                  ENET        kRidge          GBRF          ffNN        GPR  \\\n",
      "W1        6.484909e+00  6.581567e+00  4.913863e+00  6.499174e+00  10.932793   \n",
      "Mean      4.127114e+22  4.127114e+22  4.127114e+22  4.127114e+22   1.788880   \n",
      "Var       6.021381e+00  6.021381e+00  6.021381e+00  6.021381e+00   5.910148   \n",
      "Skewness  0.000000e+00  0.000000e+00  0.000000e+00  0.000000e+00   0.000000   \n",
      "Ex_Kur    6.000000e+00  6.000000e+00  6.000000e+00  6.000000e+00   3.000000   \n",
      "\n",
      "                   DGN  \n",
      "W1        7.204366e+00  \n",
      "Mean      3.917252e+22  \n",
      "Var       4.022202e+00  \n",
      "Skewness  0.000000e+00  \n",
      "Ex_Kur    3.000000e+00  \n"
     ]
    }
   ],
   "source": [
    "print(\"Prediction Quality (Updated)\")\n",
    "print(Summary_pred_Qual_models_test)"
   ]
  },
  {
   "cell_type": "code",
   "execution_count": 16,
   "metadata": {},
   "outputs": [
    {
     "name": "stdout",
     "output_type": "stream",
     "text": [
      "Model Complexities Quality (Updated)\n",
      "        N_Params        T_Time  T_Test/T_test-MC\n",
      "ENET         6.0  4.583115e+00          0.000172\n",
      "GBRF     72006.0  6.720030e-01          0.004516\n",
      "kRidge      12.0  5.979280e-01          0.005413\n",
      "ffNN       101.0  5.453893e+00          0.148053\n",
      "GPR          0.0  4.757862e-01          0.004885\n",
      "DGN        101.0  1.619531e+09          0.143091\n"
     ]
    }
   ],
   "source": [
    "print(\"Model Complexities Quality (Updated)\")\n",
    "print(Summary_Complexity_models)"
   ]
  },
  {
   "cell_type": "markdown",
   "metadata": {},
   "source": [
    "# Natural Benchmark: Bishop's Mixture Density Network"
   ]
  },
  {
   "cell_type": "code",
   "execution_count": null,
   "metadata": {},
   "outputs": [],
   "source": [
    "%run Mixture_Density_Network.ipynb\n",
    "# exec(open('Mixture_Density_Network.py').read())"
   ]
  },
  {
   "cell_type": "markdown",
   "metadata": {},
   "source": [
    "## Get Final Outputs\n",
    "Now we piece together all the numerical experiments and report a nice summary."
   ]
  },
  {
   "cell_type": "code",
   "execution_count": 17,
   "metadata": {},
   "outputs": [
    {
     "name": "stdout",
     "output_type": "stream",
     "text": [
      "-------------------------------------------------\n",
      "Updating Performance Metrics Dataframe and Saved!\n",
      "-------------------------------------------------\n",
      "------------------------------------------------\n",
      "Updated Performance Metrics Dataframe and Saved!\n",
      "------------------------------------------------\n"
     ]
    }
   ],
   "source": [
    "# %run WrapUp_Summarizer.ipynb\n",
    "exec(open('WrapUp_Summarizer.py').read())"
   ]
  },
  {
   "cell_type": "markdown",
   "metadata": {},
   "source": [
    "# Result(s)"
   ]
  },
  {
   "cell_type": "markdown",
   "metadata": {},
   "source": [
    "#### Chosen Kernel for GPR"
   ]
  },
  {
   "cell_type": "code",
   "execution_count": 18,
   "metadata": {},
   "outputs": [
    {
     "name": "stdout",
     "output_type": "stream",
     "text": [
      "Kernel_Used_in_GPR: RBF(length_scale=1)\n"
     ]
    }
   ],
   "source": [
    "print(\"Kernel_Used_in_GPR: \"+str(GPR_trash.kernel))"
   ]
  },
  {
   "cell_type": "markdown",
   "metadata": {},
   "source": [
    "## Model Complexities"
   ]
  },
  {
   "cell_type": "code",
   "execution_count": 19,
   "metadata": {},
   "outputs": [
    {
     "name": "stdout",
     "output_type": "stream",
     "text": [
      "                       ENET       GBRF     kRidge       ffNN        GPR  \\\n",
      "N_Params         6.0000E+00 7.2006E+04 1.2000E+01 1.0100E+02 0.0000E+00   \n",
      "T_Time           4.5831E+00 6.7200E-01 5.9793E-01 5.4539E+00 4.7579E-01   \n",
      "T_Test/T_test-MC 1.7226E-04 4.5162E-03 5.4128E-03 1.4805E-01 4.8854E-03   \n",
      "\n",
      "                        DGN        DNM  MC_Oracle  \n",
      "N_Params         1.0100E+02 6.0000E+02 6.0000E+02  \n",
      "T_Time           1.6195E+09 3.3771E-01 3.3771E-01  \n",
      "T_Test/T_test-MC 1.4309E-01 1.0000E+00 1.0000E+00  \n"
     ]
    },
    {
     "data": {
      "text/html": [
       "<div>\n",
       "<style scoped>\n",
       "    .dataframe tbody tr th:only-of-type {\n",
       "        vertical-align: middle;\n",
       "    }\n",
       "\n",
       "    .dataframe tbody tr th {\n",
       "        vertical-align: top;\n",
       "    }\n",
       "\n",
       "    .dataframe thead th {\n",
       "        text-align: right;\n",
       "    }\n",
       "</style>\n",
       "<table border=\"1\" class=\"dataframe\">\n",
       "  <thead>\n",
       "    <tr style=\"text-align: right;\">\n",
       "      <th></th>\n",
       "      <th>ENET</th>\n",
       "      <th>GBRF</th>\n",
       "      <th>kRidge</th>\n",
       "      <th>ffNN</th>\n",
       "      <th>GPR</th>\n",
       "      <th>DGN</th>\n",
       "      <th>DNM</th>\n",
       "      <th>MC_Oracle</th>\n",
       "    </tr>\n",
       "  </thead>\n",
       "  <tbody>\n",
       "    <tr>\n",
       "      <th>N_Params</th>\n",
       "      <td>6.0000E+00</td>\n",
       "      <td>7.2006E+04</td>\n",
       "      <td>1.2000E+01</td>\n",
       "      <td>1.0100E+02</td>\n",
       "      <td>0.0000E+00</td>\n",
       "      <td>1.0100E+02</td>\n",
       "      <td>6.0000E+02</td>\n",
       "      <td>6.0000E+02</td>\n",
       "    </tr>\n",
       "    <tr>\n",
       "      <th>T_Time</th>\n",
       "      <td>4.5831E+00</td>\n",
       "      <td>6.7200E-01</td>\n",
       "      <td>5.9793E-01</td>\n",
       "      <td>5.4539E+00</td>\n",
       "      <td>4.7579E-01</td>\n",
       "      <td>1.6195E+09</td>\n",
       "      <td>3.3771E-01</td>\n",
       "      <td>3.3771E-01</td>\n",
       "    </tr>\n",
       "    <tr>\n",
       "      <th>T_Test/T_test-MC</th>\n",
       "      <td>1.7226E-04</td>\n",
       "      <td>4.5162E-03</td>\n",
       "      <td>5.4128E-03</td>\n",
       "      <td>1.4805E-01</td>\n",
       "      <td>4.8854E-03</td>\n",
       "      <td>1.4309E-01</td>\n",
       "      <td>1.0000E+00</td>\n",
       "      <td>1.0000E+00</td>\n",
       "    </tr>\n",
       "  </tbody>\n",
       "</table>\n",
       "</div>"
      ],
      "text/plain": [
       "                       ENET       GBRF     kRidge       ffNN        GPR  \\\n",
       "N_Params         6.0000E+00 7.2006E+04 1.2000E+01 1.0100E+02 0.0000E+00   \n",
       "T_Time           4.5831E+00 6.7200E-01 5.9793E-01 5.4539E+00 4.7579E-01   \n",
       "T_Test/T_test-MC 1.7226E-04 4.5162E-03 5.4128E-03 1.4805E-01 4.8854E-03   \n",
       "\n",
       "                        DGN        DNM  MC_Oracle  \n",
       "N_Params         1.0100E+02 6.0000E+02 6.0000E+02  \n",
       "T_Time           1.6195E+09 3.3771E-01 3.3771E-01  \n",
       "T_Test/T_test-MC 1.4309E-01 1.0000E+00 1.0000E+00  "
      ]
     },
     "execution_count": 19,
     "metadata": {},
     "output_type": "execute_result"
    }
   ],
   "source": [
    "print(Summary_Complexity_models)\n",
    "Summary_Complexity_models"
   ]
  },
  {
   "cell_type": "markdown",
   "metadata": {},
   "source": [
    "## Prediction Quality"
   ]
  },
  {
   "cell_type": "markdown",
   "metadata": {},
   "source": [
    "#### Training"
   ]
  },
  {
   "cell_type": "code",
   "execution_count": 20,
   "metadata": {},
   "outputs": [
    {
     "name": "stdout",
     "output_type": "stream",
     "text": [
      "               ENET     kRidge       GBRF       ffNN        GPR        DGN  \\\n",
      "W1       9.5645E+00 9.4283E+00 1.1499E+01 9.6445E+00 4.8804E+00 4.4864E+00   \n",
      "Mean     4.1774E+22 4.1774E+22 4.1774E+22 4.1774E+22 9.8849E-11 4.1271E+22   \n",
      "Var      5.1091E+00 5.1091E+00 5.1091E+00 5.1091E+00 6.0214E+00 4.9336E+00   \n",
      "Skewness 0.0000E+00 0.0000E+00 0.0000E+00 0.0000E+00 0.0000E+00 0.0000E+00   \n",
      "Ex_Kur   6.0000E+00 6.0000E+00 6.0000E+00 6.0000E+00 3.0000E+00 3.0000E+00   \n",
      "\n",
      "          MC-Oracle        DNM  \n",
      "W1       0.0000E+00 5.4902E+00  \n",
      "Mean     1.0691E+00 4.1271E+22  \n",
      "Var      4.2066E+00 2.3189E+00  \n",
      "Skewness 4.0960E-01 1.1154E-02  \n",
      "Ex_Kur   6.4968E+00 5.9276E+00  \n"
     ]
    },
    {
     "data": {
      "text/html": [
       "<div>\n",
       "<style scoped>\n",
       "    .dataframe tbody tr th:only-of-type {\n",
       "        vertical-align: middle;\n",
       "    }\n",
       "\n",
       "    .dataframe tbody tr th {\n",
       "        vertical-align: top;\n",
       "    }\n",
       "\n",
       "    .dataframe thead th {\n",
       "        text-align: right;\n",
       "    }\n",
       "</style>\n",
       "<table border=\"1\" class=\"dataframe\">\n",
       "  <thead>\n",
       "    <tr style=\"text-align: right;\">\n",
       "      <th></th>\n",
       "      <th>ENET</th>\n",
       "      <th>kRidge</th>\n",
       "      <th>GBRF</th>\n",
       "      <th>ffNN</th>\n",
       "      <th>GPR</th>\n",
       "      <th>DGN</th>\n",
       "      <th>MC-Oracle</th>\n",
       "      <th>DNM</th>\n",
       "    </tr>\n",
       "  </thead>\n",
       "  <tbody>\n",
       "    <tr>\n",
       "      <th>W1</th>\n",
       "      <td>9.5645E+00</td>\n",
       "      <td>9.4283E+00</td>\n",
       "      <td>1.1499E+01</td>\n",
       "      <td>9.6445E+00</td>\n",
       "      <td>4.8804E+00</td>\n",
       "      <td>4.4864E+00</td>\n",
       "      <td>0.0000E+00</td>\n",
       "      <td>5.4902E+00</td>\n",
       "    </tr>\n",
       "    <tr>\n",
       "      <th>Mean</th>\n",
       "      <td>4.1774E+22</td>\n",
       "      <td>4.1774E+22</td>\n",
       "      <td>4.1774E+22</td>\n",
       "      <td>4.1774E+22</td>\n",
       "      <td>9.8849E-11</td>\n",
       "      <td>4.1271E+22</td>\n",
       "      <td>1.0691E+00</td>\n",
       "      <td>4.1271E+22</td>\n",
       "    </tr>\n",
       "    <tr>\n",
       "      <th>Var</th>\n",
       "      <td>5.1091E+00</td>\n",
       "      <td>5.1091E+00</td>\n",
       "      <td>5.1091E+00</td>\n",
       "      <td>5.1091E+00</td>\n",
       "      <td>6.0214E+00</td>\n",
       "      <td>4.9336E+00</td>\n",
       "      <td>4.2066E+00</td>\n",
       "      <td>2.3189E+00</td>\n",
       "    </tr>\n",
       "    <tr>\n",
       "      <th>Skewness</th>\n",
       "      <td>0.0000E+00</td>\n",
       "      <td>0.0000E+00</td>\n",
       "      <td>0.0000E+00</td>\n",
       "      <td>0.0000E+00</td>\n",
       "      <td>0.0000E+00</td>\n",
       "      <td>0.0000E+00</td>\n",
       "      <td>4.0960E-01</td>\n",
       "      <td>1.1154E-02</td>\n",
       "    </tr>\n",
       "    <tr>\n",
       "      <th>Ex_Kur</th>\n",
       "      <td>6.0000E+00</td>\n",
       "      <td>6.0000E+00</td>\n",
       "      <td>6.0000E+00</td>\n",
       "      <td>6.0000E+00</td>\n",
       "      <td>3.0000E+00</td>\n",
       "      <td>3.0000E+00</td>\n",
       "      <td>6.4968E+00</td>\n",
       "      <td>5.9276E+00</td>\n",
       "    </tr>\n",
       "  </tbody>\n",
       "</table>\n",
       "</div>"
      ],
      "text/plain": [
       "               ENET     kRidge       GBRF       ffNN        GPR        DGN  \\\n",
       "W1       9.5645E+00 9.4283E+00 1.1499E+01 9.6445E+00 4.8804E+00 4.4864E+00   \n",
       "Mean     4.1774E+22 4.1774E+22 4.1774E+22 4.1774E+22 9.8849E-11 4.1271E+22   \n",
       "Var      5.1091E+00 5.1091E+00 5.1091E+00 5.1091E+00 6.0214E+00 4.9336E+00   \n",
       "Skewness 0.0000E+00 0.0000E+00 0.0000E+00 0.0000E+00 0.0000E+00 0.0000E+00   \n",
       "Ex_Kur   6.0000E+00 6.0000E+00 6.0000E+00 6.0000E+00 3.0000E+00 3.0000E+00   \n",
       "\n",
       "          MC-Oracle        DNM  \n",
       "W1       0.0000E+00 5.4902E+00  \n",
       "Mean     1.0691E+00 4.1271E+22  \n",
       "Var      4.2066E+00 2.3189E+00  \n",
       "Skewness 4.0960E-01 1.1154E-02  \n",
       "Ex_Kur   6.4968E+00 5.9276E+00  "
      ]
     },
     "execution_count": 20,
     "metadata": {},
     "output_type": "execute_result"
    }
   ],
   "source": [
    "print(PredictivePerformance_Metrics_Train)\n",
    "PredictivePerformance_Metrics_Train"
   ]
  },
  {
   "cell_type": "markdown",
   "metadata": {},
   "source": [
    "#### Test"
   ]
  },
  {
   "cell_type": "code",
   "execution_count": 21,
   "metadata": {},
   "outputs": [
    {
     "name": "stdout",
     "output_type": "stream",
     "text": [
      "               ENET     kRidge       GBRF       ffNN        GPR        DGN  \\\n",
      "W1       6.4849E+00 6.5816E+00 4.9139E+00 6.4992E+00 1.0933E+01 7.2044E+00   \n",
      "Mean     4.1271E+22 4.1271E+22 4.1271E+22 4.1271E+22 1.7889E+00 3.9173E+22   \n",
      "Var      6.0214E+00 6.0214E+00 6.0214E+00 6.0214E+00 5.9101E+00 4.0222E+00   \n",
      "Skewness 0.0000E+00 0.0000E+00 0.0000E+00 0.0000E+00 0.0000E+00 0.0000E+00   \n",
      "Ex_Kur   6.0000E+00 6.0000E+00 6.0000E+00 6.0000E+00 3.0000E+00 3.0000E+00   \n",
      "\n",
      "          MC-Oracle        DNM  \n",
      "W1       0.0000E+00 7.3528E+00  \n",
      "Mean     1.3276E+00 3.9173E+22  \n",
      "Var      7.7468E+00 5.9775E+00  \n",
      "Skewness 2.8721E-01 2.9808E-03  \n",
      "Ex_Kur   5.9728E+00 5.9297E+00  \n"
     ]
    },
    {
     "data": {
      "text/html": [
       "<div>\n",
       "<style scoped>\n",
       "    .dataframe tbody tr th:only-of-type {\n",
       "        vertical-align: middle;\n",
       "    }\n",
       "\n",
       "    .dataframe tbody tr th {\n",
       "        vertical-align: top;\n",
       "    }\n",
       "\n",
       "    .dataframe thead th {\n",
       "        text-align: right;\n",
       "    }\n",
       "</style>\n",
       "<table border=\"1\" class=\"dataframe\">\n",
       "  <thead>\n",
       "    <tr style=\"text-align: right;\">\n",
       "      <th></th>\n",
       "      <th>ENET</th>\n",
       "      <th>kRidge</th>\n",
       "      <th>GBRF</th>\n",
       "      <th>ffNN</th>\n",
       "      <th>GPR</th>\n",
       "      <th>DGN</th>\n",
       "      <th>MC-Oracle</th>\n",
       "      <th>DNM</th>\n",
       "    </tr>\n",
       "  </thead>\n",
       "  <tbody>\n",
       "    <tr>\n",
       "      <th>W1</th>\n",
       "      <td>6.4849E+00</td>\n",
       "      <td>6.5816E+00</td>\n",
       "      <td>4.9139E+00</td>\n",
       "      <td>6.4992E+00</td>\n",
       "      <td>1.0933E+01</td>\n",
       "      <td>7.2044E+00</td>\n",
       "      <td>0.0000E+00</td>\n",
       "      <td>7.3528E+00</td>\n",
       "    </tr>\n",
       "    <tr>\n",
       "      <th>Mean</th>\n",
       "      <td>4.1271E+22</td>\n",
       "      <td>4.1271E+22</td>\n",
       "      <td>4.1271E+22</td>\n",
       "      <td>4.1271E+22</td>\n",
       "      <td>1.7889E+00</td>\n",
       "      <td>3.9173E+22</td>\n",
       "      <td>1.3276E+00</td>\n",
       "      <td>3.9173E+22</td>\n",
       "    </tr>\n",
       "    <tr>\n",
       "      <th>Var</th>\n",
       "      <td>6.0214E+00</td>\n",
       "      <td>6.0214E+00</td>\n",
       "      <td>6.0214E+00</td>\n",
       "      <td>6.0214E+00</td>\n",
       "      <td>5.9101E+00</td>\n",
       "      <td>4.0222E+00</td>\n",
       "      <td>7.7468E+00</td>\n",
       "      <td>5.9775E+00</td>\n",
       "    </tr>\n",
       "    <tr>\n",
       "      <th>Skewness</th>\n",
       "      <td>0.0000E+00</td>\n",
       "      <td>0.0000E+00</td>\n",
       "      <td>0.0000E+00</td>\n",
       "      <td>0.0000E+00</td>\n",
       "      <td>0.0000E+00</td>\n",
       "      <td>0.0000E+00</td>\n",
       "      <td>2.8721E-01</td>\n",
       "      <td>2.9808E-03</td>\n",
       "    </tr>\n",
       "    <tr>\n",
       "      <th>Ex_Kur</th>\n",
       "      <td>6.0000E+00</td>\n",
       "      <td>6.0000E+00</td>\n",
       "      <td>6.0000E+00</td>\n",
       "      <td>6.0000E+00</td>\n",
       "      <td>3.0000E+00</td>\n",
       "      <td>3.0000E+00</td>\n",
       "      <td>5.9728E+00</td>\n",
       "      <td>5.9297E+00</td>\n",
       "    </tr>\n",
       "  </tbody>\n",
       "</table>\n",
       "</div>"
      ],
      "text/plain": [
       "               ENET     kRidge       GBRF       ffNN        GPR        DGN  \\\n",
       "W1       6.4849E+00 6.5816E+00 4.9139E+00 6.4992E+00 1.0933E+01 7.2044E+00   \n",
       "Mean     4.1271E+22 4.1271E+22 4.1271E+22 4.1271E+22 1.7889E+00 3.9173E+22   \n",
       "Var      6.0214E+00 6.0214E+00 6.0214E+00 6.0214E+00 5.9101E+00 4.0222E+00   \n",
       "Skewness 0.0000E+00 0.0000E+00 0.0000E+00 0.0000E+00 0.0000E+00 0.0000E+00   \n",
       "Ex_Kur   6.0000E+00 6.0000E+00 6.0000E+00 6.0000E+00 3.0000E+00 3.0000E+00   \n",
       "\n",
       "          MC-Oracle        DNM  \n",
       "W1       0.0000E+00 7.3528E+00  \n",
       "Mean     1.3276E+00 3.9173E+22  \n",
       "Var      7.7468E+00 5.9775E+00  \n",
       "Skewness 2.8721E-01 2.9808E-03  \n",
       "Ex_Kur   5.9728E+00 5.9297E+00  "
      ]
     },
     "execution_count": 21,
     "metadata": {},
     "output_type": "execute_result"
    }
   ],
   "source": [
    "print(PredictivePerformance_Metrics_Test)\n",
    "PredictivePerformance_Metrics_Test"
   ]
  },
  {
   "cell_type": "markdown",
   "metadata": {},
   "source": [
    "---\n",
    "# Fin\n",
    "---"
   ]
  },
  {
   "cell_type": "markdown",
   "metadata": {},
   "source": [
    "---"
   ]
  },
  {
   "cell_type": "markdown",
   "metadata": {},
   "source": [
    "# TEMP:"
   ]
  },
  {
   "cell_type": "code",
   "execution_count": 24,
   "metadata": {},
   "outputs": [
    {
     "name": "stderr",
     "output_type": "stream",
     "text": [
      "100%|██████████| 100/100 [00:00<00:00, 259.77it/s]\n",
      "[Parallel(n_jobs=4)]: Using backend LokyBackend with 4 concurrent workers.\n"
     ]
    },
    {
     "name": "stdout",
     "output_type": "stream",
     "text": [
      "Deep Feature Builder - Ready\n",
      "=====================================================\n",
      "Training Mixture Density Network (MDN): Means: Start!\n",
      "=====================================================\n",
      "Fitting 2 folds for each of 1 candidates, totalling 2 fits\n"
     ]
    },
    {
     "name": "stderr",
     "output_type": "stream",
     "text": [
      "[Parallel(n_jobs=4)]: Done   2 out of   2 | elapsed:    3.8s remaining:    0.0s\n",
      "[Parallel(n_jobs=4)]: Done   2 out of   2 | elapsed:    3.8s finished\n"
     ]
    },
    {
     "name": "stdout",
     "output_type": "stream",
     "text": [
      "Epoch 1/50\n",
      "4/4 [==============================] - 0s 1ms/step - loss: 1.9001 - mse: 7.2614 - mae: 1.9001 - mape: 111.7529\n",
      "Epoch 2/50\n",
      "4/4 [==============================] - 0s 2ms/step - loss: 1.9001 - mse: 7.2613 - mae: 1.9001 - mape: 111.7642\n",
      "Epoch 3/50\n",
      "4/4 [==============================] - 0s 2ms/step - loss: 1.9000 - mse: 7.2611 - mae: 1.9000 - mape: 111.7760\n",
      "Epoch 4/50\n",
      "4/4 [==============================] - 0s 2ms/step - loss: 1.9000 - mse: 7.2609 - mae: 1.9000 - mape: 111.8648\n",
      "Epoch 5/50\n",
      "4/4 [==============================] - 0s 4ms/step - loss: 1.8999 - mse: 7.2608 - mae: 1.8999 - mape: 111.9095\n",
      "Epoch 6/50\n",
      "4/4 [==============================] - 0s 2ms/step - loss: 1.8999 - mse: 7.2606 - mae: 1.8999 - mape: 112.0195\n",
      "Epoch 7/50\n",
      "4/4 [==============================] - 0s 2ms/step - loss: 1.8999 - mse: 7.2605 - mae: 1.8999 - mape: 112.1040\n",
      "Epoch 8/50\n",
      "4/4 [==============================] - 0s 2ms/step - loss: 1.8998 - mse: 7.2604 - mae: 1.8998 - mape: 112.1288\n",
      "Epoch 9/50\n",
      "4/4 [==============================] - 0s 3ms/step - loss: 1.8998 - mse: 7.2603 - mae: 1.8998 - mape: 112.1441\n",
      "Epoch 10/50\n",
      "4/4 [==============================] - 0s 3ms/step - loss: 1.8998 - mse: 7.2601 - mae: 1.8998 - mape: 112.2233\n",
      "Epoch 11/50\n",
      "4/4 [==============================] - 0s 5ms/step - loss: 1.8997 - mse: 7.2600 - mae: 1.8997 - mape: 112.2761\n",
      "Epoch 12/50\n",
      "4/4 [==============================] - 0s 3ms/step - loss: 1.8997 - mse: 7.2599 - mae: 1.8997 - mape: 112.3223\n",
      "Epoch 13/50\n",
      "4/4 [==============================] - 0s 2ms/step - loss: 1.8997 - mse: 7.2598 - mae: 1.8997 - mape: 112.4049\n",
      "Epoch 14/50\n",
      "4/4 [==============================] - 0s 2ms/step - loss: 1.8996 - mse: 7.2597 - mae: 1.8996 - mape: 112.4530\n",
      "Epoch 15/50\n",
      "4/4 [==============================] - 0s 3ms/step - loss: 1.8996 - mse: 7.2595 - mae: 1.8996 - mape: 112.5957\n",
      "Epoch 16/50\n",
      "4/4 [==============================] - 0s 1ms/step - loss: 1.8995 - mse: 7.2593 - mae: 1.8995 - mape: 112.7037\n",
      "Epoch 17/50\n",
      "4/4 [==============================] - 0s 3ms/step - loss: 1.8995 - mse: 7.2592 - mae: 1.8995 - mape: 112.7412\n",
      "Epoch 18/50\n",
      "4/4 [==============================] - 0s 3ms/step - loss: 1.8995 - mse: 7.2591 - mae: 1.8995 - mape: 112.8184\n",
      "Epoch 19/50\n",
      "4/4 [==============================] - 0s 3ms/step - loss: 1.8995 - mse: 7.2591 - mae: 1.8995 - mape: 112.8522\n",
      "Epoch 20/50\n",
      "4/4 [==============================] - 0s 3ms/step - loss: 1.8994 - mse: 7.2590 - mae: 1.8994 - mape: 112.8773\n",
      "Epoch 21/50\n",
      "4/4 [==============================] - 0s 5ms/step - loss: 1.8994 - mse: 7.2589 - mae: 1.8994 - mape: 112.8941\n",
      "Epoch 22/50\n",
      "4/4 [==============================] - 0s 2ms/step - loss: 1.8994 - mse: 7.2588 - mae: 1.8994 - mape: 112.9167\n",
      "Epoch 23/50\n",
      "4/4 [==============================] - 0s 2ms/step - loss: 1.8993 - mse: 7.2587 - mae: 1.8993 - mape: 112.9868\n",
      "Epoch 24/50\n",
      "4/4 [==============================] - 0s 3ms/step - loss: 1.8993 - mse: 7.2585 - mae: 1.8993 - mape: 113.1020\n",
      "Epoch 25/50\n",
      "4/4 [==============================] - 0s 2ms/step - loss: 1.8992 - mse: 7.2584 - mae: 1.8992 - mape: 113.1733\n",
      "Epoch 26/50\n",
      "4/4 [==============================] - ETA: 0s - loss: 1.9755 - mse: 7.2207 - mae: 1.9755 - mape: 100.61 - 0s 3ms/step - loss: 1.8992 - mse: 7.2582 - mae: 1.8992 - mape: 113.1857\n",
      "Epoch 27/50\n",
      "4/4 [==============================] - 0s 2ms/step - loss: 1.8992 - mse: 7.2582 - mae: 1.8992 - mape: 113.2019\n",
      "Epoch 28/50\n",
      "4/4 [==============================] - 0s 4ms/step - loss: 1.8991 - mse: 7.2581 - mae: 1.8991 - mape: 113.3007\n",
      "Epoch 29/50\n",
      "4/4 [==============================] - 0s 4ms/step - loss: 1.8991 - mse: 7.2579 - mae: 1.8991 - mape: 113.3436\n",
      "Epoch 30/50\n",
      "4/4 [==============================] - 0s 4ms/step - loss: 1.8991 - mse: 7.2578 - mae: 1.8991 - mape: 113.3841\n",
      "Epoch 31/50\n",
      "4/4 [==============================] - 0s 2ms/step - loss: 1.8990 - mse: 7.2577 - mae: 1.8990 - mape: 113.4490\n",
      "Epoch 32/50\n",
      "4/4 [==============================] - 0s 5ms/step - loss: 1.8990 - mse: 7.2576 - mae: 1.8990 - mape: 113.5148\n",
      "Epoch 33/50\n",
      "4/4 [==============================] - 0s 3ms/step - loss: 1.8989 - mse: 7.2573 - mae: 1.8989 - mape: 113.5944\n",
      "Epoch 34/50\n",
      "4/4 [==============================] - 0s 3ms/step - loss: 1.8989 - mse: 7.2572 - mae: 1.8989 - mape: 113.6635\n",
      "Epoch 35/50\n",
      "4/4 [==============================] - 0s 2ms/step - loss: 1.8988 - mse: 7.2570 - mae: 1.8988 - mape: 113.7335\n",
      "Epoch 36/50\n",
      "4/4 [==============================] - 0s 3ms/step - loss: 1.8988 - mse: 7.2568 - mae: 1.8988 - mape: 113.7995\n",
      "Epoch 37/50\n",
      "4/4 [==============================] - 0s 3ms/step - loss: 1.8987 - mse: 7.2567 - mae: 1.8987 - mape: 113.9053\n",
      "Epoch 38/50\n",
      "4/4 [==============================] - 0s 3ms/step - loss: 1.8987 - mse: 7.2565 - mae: 1.8987 - mape: 114.0613\n",
      "Epoch 39/50\n",
      "4/4 [==============================] - 0s 2ms/step - loss: 1.8986 - mse: 7.2563 - mae: 1.8986 - mape: 114.1396\n",
      "Epoch 40/50\n",
      "4/4 [==============================] - 0s 3ms/step - loss: 1.8986 - mse: 7.2561 - mae: 1.8986 - mape: 114.2056\n",
      "Epoch 41/50\n",
      "4/4 [==============================] - 0s 3ms/step - loss: 1.8985 - mse: 7.2560 - mae: 1.8985 - mape: 114.3396\n",
      "Epoch 42/50\n",
      "4/4 [==============================] - 0s 3ms/step - loss: 1.8985 - mse: 7.2559 - mae: 1.8985 - mape: 114.4373\n",
      "Epoch 43/50\n",
      "4/4 [==============================] - 0s 2ms/step - loss: 1.8984 - mse: 7.2557 - mae: 1.8984 - mape: 114.5503\n",
      "Epoch 44/50\n",
      "4/4 [==============================] - 0s 2ms/step - loss: 1.8984 - mse: 7.2556 - mae: 1.8984 - mape: 114.6292\n",
      "Epoch 45/50\n",
      "4/4 [==============================] - 0s 2ms/step - loss: 1.8984 - mse: 7.2554 - mae: 1.8984 - mape: 114.6676\n",
      "Epoch 46/50\n",
      "4/4 [==============================] - 0s 2ms/step - loss: 1.8983 - mse: 7.2553 - mae: 1.8983 - mape: 114.7356\n",
      "Epoch 47/50\n",
      "4/4 [==============================] - 0s 3ms/step - loss: 1.8983 - mse: 7.2552 - mae: 1.8983 - mape: 114.8281\n",
      "Epoch 48/50\n",
      "4/4 [==============================] - 0s 2ms/step - loss: 1.8983 - mse: 7.2550 - mae: 1.8983 - mape: 114.8755\n",
      "Epoch 49/50\n",
      "4/4 [==============================] - 0s 2ms/step - loss: 1.8982 - mse: 7.2550 - mae: 1.8982 - mape: 114.9295\n",
      "Epoch 50/50\n",
      "4/4 [==============================] - 0s 3ms/step - loss: 1.8982 - mse: 7.2548 - mae: 1.8982 - mape: 114.9999\n",
      "4/4 [==============================] - 0s 2ms/step\n",
      "1/1 [==============================] - 0s 2ms/step\n",
      "===================================================\n",
      "Training Mixture Density Network (MDN): Means: END!\n",
      "===================================================\n",
      "===================================================\n",
      "Training Mixture Density Network (MDN): SD: Start!\n",
      "===================================================\n",
      "Fitting 2 folds for each of 1 candidates, totalling 2 fits\n"
     ]
    },
    {
     "name": "stderr",
     "output_type": "stream",
     "text": [
      "[Parallel(n_jobs=4)]: Using backend LokyBackend with 4 concurrent workers.\n",
      "[Parallel(n_jobs=4)]: Done   2 out of   2 | elapsed:    1.2s remaining:    0.0s\n",
      "[Parallel(n_jobs=4)]: Done   2 out of   2 | elapsed:    1.2s finished\n"
     ]
    },
    {
     "name": "stdout",
     "output_type": "stream",
     "text": [
      "Epoch 1/50\n",
      "4/4 [==============================] - 0s 1ms/step - loss: 0.9533 - mse: 0.9126 - mae: 0.9533 - mape: 73114832.0000\n",
      "Epoch 2/50\n",
      "4/4 [==============================] - 0s 2ms/step - loss: 0.9523 - mse: 0.9107 - mae: 0.9523 - mape: 73036624.0000\n",
      "Epoch 3/50\n",
      "4/4 [==============================] - 0s 2ms/step - loss: 0.9512 - mse: 0.9087 - mae: 0.9512 - mape: 72958504.0000\n",
      "Epoch 4/50\n",
      "4/4 [==============================] - 0s 2ms/step - loss: 0.9502 - mse: 0.9068 - mae: 0.9502 - mape: 72880824.0000\n",
      "Epoch 5/50\n",
      "4/4 [==============================] - 0s 2ms/step - loss: 0.9492 - mse: 0.9048 - mae: 0.9492 - mape: 72803344.0000\n",
      "Epoch 6/50\n",
      "4/4 [==============================] - 0s 2ms/step - loss: 0.9482 - mse: 0.9029 - mae: 0.9482 - mape: 72725776.0000\n",
      "Epoch 7/50\n",
      "4/4 [==============================] - 0s 2ms/step - loss: 0.9472 - mse: 0.9009 - mae: 0.9472 - mape: 72648752.0000\n",
      "Epoch 8/50\n",
      "4/4 [==============================] - 0s 2ms/step - loss: 0.9462 - mse: 0.8990 - mae: 0.9462 - mape: 72571808.0000\n",
      "Epoch 9/50\n",
      "4/4 [==============================] - 0s 2ms/step - loss: 0.9452 - mse: 0.8971 - mae: 0.9452 - mape: 72494904.0000\n",
      "Epoch 10/50\n",
      "4/4 [==============================] - 0s 2ms/step - loss: 0.9442 - mse: 0.8952 - mae: 0.9442 - mape: 72417984.0000\n",
      "Epoch 11/50\n",
      "4/4 [==============================] - 0s 2ms/step - loss: 0.9432 - mse: 0.8933 - mae: 0.9432 - mape: 72341448.0000\n",
      "Epoch 12/50\n",
      "4/4 [==============================] - 0s 3ms/step - loss: 0.9422 - mse: 0.8914 - mae: 0.9422 - mape: 72264568.0000\n",
      "Epoch 13/50\n",
      "4/4 [==============================] - 0s 2ms/step - loss: 0.9412 - mse: 0.8895 - mae: 0.9412 - mape: 72188248.0000\n",
      "Epoch 14/50\n",
      "4/4 [==============================] - 0s 3ms/step - loss: 0.9402 - mse: 0.8876 - mae: 0.9402 - mape: 72111640.0000\n",
      "Epoch 15/50\n",
      "4/4 [==============================] - 0s 2ms/step - loss: 0.9392 - mse: 0.8858 - mae: 0.9392 - mape: 72036032.0000\n",
      "Epoch 16/50\n",
      "4/4 [==============================] - 0s 3ms/step - loss: 0.9382 - mse: 0.8839 - mae: 0.9382 - mape: 71958872.0000\n",
      "Epoch 17/50\n",
      "4/4 [==============================] - 0s 2ms/step - loss: 0.9372 - mse: 0.8820 - mae: 0.9372 - mape: 71882088.0000\n",
      "Epoch 18/50\n",
      "4/4 [==============================] - 0s 2ms/step - loss: 0.9362 - mse: 0.8801 - mae: 0.9362 - mape: 71804896.0000\n",
      "Epoch 19/50\n",
      "4/4 [==============================] - 0s 1ms/step - loss: 0.9352 - mse: 0.8782 - mae: 0.9352 - mape: 71727840.0000\n",
      "Epoch 20/50\n",
      "4/4 [==============================] - 0s 2ms/step - loss: 0.9342 - mse: 0.8763 - mae: 0.9342 - mape: 71650176.0000\n",
      "Epoch 21/50\n",
      "4/4 [==============================] - 0s 2ms/step - loss: 0.9332 - mse: 0.8744 - mae: 0.9332 - mape: 71572352.0000\n",
      "Epoch 22/50\n",
      "4/4 [==============================] - 0s 3ms/step - loss: 0.9322 - mse: 0.8726 - mae: 0.9322 - mape: 71494568.0000\n",
      "Epoch 23/50\n",
      "4/4 [==============================] - 0s 3ms/step - loss: 0.9312 - mse: 0.8707 - mae: 0.9312 - mape: 71416840.0000\n",
      "Epoch 24/50\n",
      "4/4 [==============================] - 0s 2ms/step - loss: 0.9302 - mse: 0.8688 - mae: 0.9302 - mape: 71339056.0000\n",
      "Epoch 25/50\n",
      "4/4 [==============================] - 0s 2ms/step - loss: 0.9292 - mse: 0.8669 - mae: 0.9292 - mape: 71260752.0000\n",
      "Epoch 26/50\n",
      "4/4 [==============================] - 0s 2ms/step - loss: 0.9282 - mse: 0.8650 - mae: 0.9282 - mape: 71181720.0000\n",
      "Epoch 27/50\n",
      "4/4 [==============================] - 0s 2ms/step - loss: 0.9272 - mse: 0.8630 - mae: 0.9272 - mape: 71102352.0000\n",
      "Epoch 28/50\n",
      "4/4 [==============================] - 0s 4ms/step - loss: 0.9261 - mse: 0.8611 - mae: 0.9261 - mape: 71022392.0000\n",
      "Epoch 29/50\n",
      "4/4 [==============================] - 0s 1ms/step - loss: 0.9251 - mse: 0.8592 - mae: 0.9251 - mape: 70941872.0000\n",
      "Epoch 30/50\n",
      "4/4 [==============================] - 0s 3ms/step - loss: 0.9240 - mse: 0.8572 - mae: 0.9240 - mape: 70860056.0000\n",
      "Epoch 31/50\n",
      "4/4 [==============================] - 0s 3ms/step - loss: 0.9230 - mse: 0.8552 - mae: 0.9230 - mape: 70779000.0000\n",
      "Epoch 32/50\n",
      "4/4 [==============================] - 0s 2ms/step - loss: 0.9219 - mse: 0.8533 - mae: 0.9219 - mape: 70696832.0000\n",
      "Epoch 33/50\n",
      "4/4 [==============================] - 0s 2ms/step - loss: 0.9208 - mse: 0.8513 - mae: 0.9208 - mape: 70613608.0000\n",
      "Epoch 34/50\n",
      "4/4 [==============================] - 0s 2ms/step - loss: 0.9198 - mse: 0.8493 - mae: 0.9198 - mape: 70531400.0000\n",
      "Epoch 35/50\n",
      "4/4 [==============================] - 0s 2ms/step - loss: 0.9187 - mse: 0.8473 - mae: 0.9187 - mape: 70448320.0000\n",
      "Epoch 36/50\n",
      "4/4 [==============================] - 0s 2ms/step - loss: 0.9176 - mse: 0.8453 - mae: 0.9176 - mape: 70363968.0000\n",
      "Epoch 37/50\n",
      "4/4 [==============================] - 0s 1ms/step - loss: 0.9165 - mse: 0.8432 - mae: 0.9165 - mape: 70279064.0000\n",
      "Epoch 38/50\n",
      "4/4 [==============================] - 0s 2ms/step - loss: 0.9154 - mse: 0.8412 - mae: 0.9154 - mape: 70192744.0000\n",
      "Epoch 39/50\n",
      "4/4 [==============================] - 0s 2ms/step - loss: 0.9143 - mse: 0.8391 - mae: 0.9143 - mape: 70106168.0000\n",
      "Epoch 40/50\n",
      "4/4 [==============================] - 0s 2ms/step - loss: 0.9131 - mse: 0.8370 - mae: 0.9131 - mape: 70019296.0000\n",
      "Epoch 41/50\n",
      "4/4 [==============================] - 0s 3ms/step - loss: 0.9120 - mse: 0.8350 - mae: 0.9120 - mape: 69932048.0000\n",
      "Epoch 42/50\n",
      "4/4 [==============================] - 0s 2ms/step - loss: 0.9109 - mse: 0.8329 - mae: 0.9109 - mape: 69843720.0000\n",
      "Epoch 43/50\n",
      "4/4 [==============================] - 0s 2ms/step - loss: 0.9097 - mse: 0.8307 - mae: 0.9097 - mape: 69753752.0000\n",
      "Epoch 44/50\n",
      "4/4 [==============================] - 0s 2ms/step - loss: 0.9085 - mse: 0.8286 - mae: 0.9085 - mape: 69663912.0000\n",
      "Epoch 45/50\n",
      "4/4 [==============================] - 0s 3ms/step - loss: 0.9074 - mse: 0.8264 - mae: 0.9074 - mape: 69572888.0000\n",
      "Epoch 46/50\n",
      "4/4 [==============================] - 0s 2ms/step - loss: 0.9062 - mse: 0.8242 - mae: 0.9062 - mape: 69481088.0000\n",
      "Epoch 47/50\n",
      "4/4 [==============================] - 0s 2ms/step - loss: 0.9050 - mse: 0.8220 - mae: 0.9050 - mape: 69388008.0000\n",
      "Epoch 48/50\n",
      "4/4 [==============================] - 0s 2ms/step - loss: 0.9037 - mse: 0.8198 - mae: 0.9037 - mape: 69294632.0000\n",
      "Epoch 49/50\n",
      "4/4 [==============================] - 0s 3ms/step - loss: 0.9025 - mse: 0.8176 - mae: 0.9025 - mape: 69199600.0000\n",
      "Epoch 50/50\n",
      "4/4 [==============================] - 0s 3ms/step - loss: 0.9013 - mse: 0.8154 - mae: 0.9013 - mape: 69104688.0000\n",
      "4/4 [==============================] - 0s 1ms/step\n",
      "1/1 [==============================] - 0s 941us/step\n",
      "=================================================\n",
      "Training Mixture Density Network (MDN): SD: END!\n",
      "=================================================\n",
      "====================================================================\n",
      "Training Mixture Density Network (MDN): Mixture Coefficients: Start!\n",
      "====================================================================\n",
      "Fitting 2 folds for each of 1 candidates, totalling 2 fits\n"
     ]
    },
    {
     "name": "stderr",
     "output_type": "stream",
     "text": [
      "[Parallel(n_jobs=4)]: Using backend LokyBackend with 4 concurrent workers.\n",
      "[Parallel(n_jobs=4)]: Done   2 out of   2 | elapsed:    1.2s remaining:    0.0s\n",
      "[Parallel(n_jobs=4)]: Done   2 out of   2 | elapsed:    1.2s finished\n"
     ]
    },
    {
     "name": "stdout",
     "output_type": "stream",
     "text": [
      "Epoch 1/50\n",
      "4/4 [==============================] - 0s 1ms/step - loss: 1.3982 - accuracy: 0.3400\n",
      "Epoch 2/50\n",
      "4/4 [==============================] - 0s 1ms/step - loss: 1.3965 - accuracy: 0.3500\n",
      "Epoch 3/50\n",
      "4/4 [==============================] - 0s 2ms/step - loss: 1.3949 - accuracy: 0.3300\n",
      "Epoch 4/50\n",
      "4/4 [==============================] - 0s 7ms/step - loss: 1.3939 - accuracy: 0.3400\n",
      "Epoch 5/50\n",
      "4/4 [==============================] - 0s 3ms/step - loss: 1.3930 - accuracy: 0.3600\n",
      "Epoch 6/50\n",
      "4/4 [==============================] - 0s 3ms/step - loss: 1.3922 - accuracy: 0.3500\n",
      "Epoch 7/50\n",
      "4/4 [==============================] - 0s 2ms/step - loss: 1.3914 - accuracy: 0.3400\n",
      "Epoch 8/50\n",
      "4/4 [==============================] - 0s 2ms/step - loss: 1.3907 - accuracy: 0.3500\n",
      "Epoch 9/50\n",
      "4/4 [==============================] - 0s 2ms/step - loss: 1.3901 - accuracy: 0.3700\n",
      "Epoch 10/50\n",
      "4/4 [==============================] - 0s 1ms/step - loss: 1.3895 - accuracy: 0.3600\n",
      "Epoch 11/50\n",
      "4/4 [==============================] - 0s 2ms/step - loss: 1.3891 - accuracy: 0.3600\n",
      "Epoch 12/50\n",
      "4/4 [==============================] - 0s 2ms/step - loss: 1.3885 - accuracy: 0.3600\n",
      "Epoch 13/50\n",
      "4/4 [==============================] - 0s 2ms/step - loss: 1.3881 - accuracy: 0.3600\n",
      "Epoch 14/50\n",
      "4/4 [==============================] - 0s 2ms/step - loss: 1.3877 - accuracy: 0.3600\n",
      "Epoch 15/50\n",
      "4/4 [==============================] - 0s 2ms/step - loss: 1.3874 - accuracy: 0.3600\n",
      "Epoch 16/50\n",
      "4/4 [==============================] - 0s 2ms/step - loss: 1.3870 - accuracy: 0.3600\n",
      "Epoch 17/50\n",
      "4/4 [==============================] - 0s 2ms/step - loss: 1.3867 - accuracy: 0.3600\n",
      "Epoch 18/50\n",
      "4/4 [==============================] - 0s 3ms/step - loss: 1.3864 - accuracy: 0.3600\n",
      "Epoch 19/50\n",
      "4/4 [==============================] - 0s 3ms/step - loss: 1.3860 - accuracy: 0.3600\n",
      "Epoch 20/50\n",
      "4/4 [==============================] - 0s 2ms/step - loss: 1.3857 - accuracy: 0.3500\n",
      "Epoch 21/50\n",
      "4/4 [==============================] - 0s 1ms/step - loss: 1.3853 - accuracy: 0.3500\n",
      "Epoch 22/50\n",
      "4/4 [==============================] - 0s 3ms/step - loss: 1.3852 - accuracy: 0.3600\n",
      "Epoch 23/50\n",
      "4/4 [==============================] - 0s 3ms/step - loss: 1.3849 - accuracy: 0.3800\n",
      "Epoch 24/50\n",
      "4/4 [==============================] - 0s 2ms/step - loss: 1.3847 - accuracy: 0.3700\n",
      "Epoch 25/50\n",
      "4/4 [==============================] - 0s 3ms/step - loss: 1.3845 - accuracy: 0.3800\n",
      "Epoch 26/50\n",
      "4/4 [==============================] - 0s 2ms/step - loss: 1.3843 - accuracy: 0.3900\n",
      "Epoch 27/50\n",
      "4/4 [==============================] - 0s 2ms/step - loss: 1.3840 - accuracy: 0.4000\n",
      "Epoch 28/50\n",
      "4/4 [==============================] - 0s 2ms/step - loss: 1.3838 - accuracy: 0.4000\n",
      "Epoch 29/50\n",
      "4/4 [==============================] - 0s 3ms/step - loss: 1.3837 - accuracy: 0.4100\n",
      "Epoch 30/50\n",
      "4/4 [==============================] - 0s 2ms/step - loss: 1.3835 - accuracy: 0.4100\n",
      "Epoch 31/50\n",
      "4/4 [==============================] - 0s 3ms/step - loss: 1.3833 - accuracy: 0.4100\n",
      "Epoch 32/50\n",
      "4/4 [==============================] - 0s 2ms/step - loss: 1.3832 - accuracy: 0.4100\n",
      "Epoch 33/50\n",
      "4/4 [==============================] - 0s 3ms/step - loss: 1.3831 - accuracy: 0.4100\n",
      "Epoch 34/50\n",
      "4/4 [==============================] - 0s 2ms/step - loss: 1.3829 - accuracy: 0.4100\n",
      "Epoch 35/50\n",
      "4/4 [==============================] - 0s 2ms/step - loss: 1.3828 - accuracy: 0.4100\n",
      "Epoch 36/50\n",
      "4/4 [==============================] - 0s 1ms/step - loss: 1.3826 - accuracy: 0.4100\n",
      "Epoch 37/50\n",
      "4/4 [==============================] - 0s 3ms/step - loss: 1.3825 - accuracy: 0.4300\n",
      "Epoch 38/50\n",
      "4/4 [==============================] - 0s 2ms/step - loss: 1.3825 - accuracy: 0.4300\n",
      "Epoch 39/50\n",
      "4/4 [==============================] - 0s 2ms/step - loss: 1.3824 - accuracy: 0.4300\n",
      "Epoch 40/50\n",
      "4/4 [==============================] - 0s 2ms/step - loss: 1.3823 - accuracy: 0.4300\n",
      "Epoch 41/50\n",
      "4/4 [==============================] - 0s 3ms/step - loss: 1.3823 - accuracy: 0.4300\n",
      "Epoch 42/50\n",
      "4/4 [==============================] - 0s 2ms/step - loss: 1.3822 - accuracy: 0.4300\n",
      "Epoch 43/50\n",
      "4/4 [==============================] - 0s 2ms/step - loss: 1.3821 - accuracy: 0.4300\n",
      "Epoch 44/50\n",
      "4/4 [==============================] - 0s 3ms/step - loss: 1.3820 - accuracy: 0.4300\n",
      "Epoch 45/50\n",
      "4/4 [==============================] - 0s 1ms/step - loss: 1.3819 - accuracy: 0.4300\n",
      "Epoch 46/50\n",
      "4/4 [==============================] - 0s 4ms/step - loss: 1.3818 - accuracy: 0.4300\n",
      "Epoch 47/50\n",
      "4/4 [==============================] - 0s 3ms/step - loss: 1.3817 - accuracy: 0.4300\n",
      "Epoch 48/50\n",
      "4/4 [==============================] - 0s 2ms/step - loss: 1.3817 - accuracy: 0.4300\n",
      "Epoch 49/50\n",
      "4/4 [==============================] - 0s 2ms/step - loss: 1.3816 - accuracy: 0.4300\n",
      "Epoch 50/50\n",
      "4/4 [==============================] - 0s 2ms/step - loss: 1.3816 - accuracy: 0.4300\n",
      "4/4 [==============================] - 0s 999us/step\n",
      "1/1 [==============================] - 0s 906us/step\n",
      "==================================================================\n",
      "Training Mixture Density Network (MDN): Mixture Coefficients: END!\n",
      "==================================================================\n"
     ]
    },
    {
     "name": "stderr",
     "output_type": "stream",
     "text": [
      "\r",
      "  0%|          | 0/100 [00:00<?, ?it/s]"
     ]
    },
    {
     "name": "stdout",
     "output_type": "stream",
     "text": [
      "#--------------------#\n",
      " Get Training Error(s)\n",
      "#--------------------#\n"
     ]
    },
    {
     "name": "stderr",
     "output_type": "stream",
     "text": [
      "100%|██████████| 100/100 [00:00<00:00, 1448.02it/s]\n",
      "  0%|          | 0/20 [00:00<?, ?it/s]"
     ]
    },
    {
     "name": "stdout",
     "output_type": "stream",
     "text": [
      "#-------------------------#\n",
      " Get Training Error(s): END\n",
      "#-------------------------#\n",
      "#--------------------#\n",
      " Get Test Error(s)\n",
      "#--------------------#\n"
     ]
    },
    {
     "name": "stderr",
     "output_type": "stream",
     "text": [
      "\r",
      "100%|██████████| 20/20 [00:00<00:00, 1938.71it/s]"
     ]
    },
    {
     "name": "stdout",
     "output_type": "stream",
     "text": [
      "#---------------------#\n",
      " Get Test Error(s): END\n",
      "#---------------------#\n"
     ]
    },
    {
     "name": "stderr",
     "output_type": "stream",
     "text": [
      "\n"
     ]
    }
   ],
   "source": [
    "%run Mixture_Density_Network.ipynb"
   ]
  },
  {
   "cell_type": "code",
   "execution_count": null,
   "metadata": {},
   "outputs": [],
   "source": []
  }
 ],
 "metadata": {
  "kernelspec": {
   "display_name": "Python 3",
   "language": "python",
   "name": "python3"
  },
  "language_info": {
   "codemirror_mode": {
    "name": "ipython",
    "version": 3
   },
   "file_extension": ".py",
   "mimetype": "text/x-python",
   "name": "python",
   "nbconvert_exporter": "python",
   "pygments_lexer": "ipython3",
   "version": "3.7.7"
  }
 },
 "nbformat": 4,
 "nbformat_minor": 2
}
