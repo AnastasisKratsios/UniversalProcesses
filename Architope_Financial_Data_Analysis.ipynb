{
 "cells": [
  {
   "cell_type": "markdown",
   "metadata": {},
   "source": [
    "# Deep Weak Stochastic Processes"
   ]
  },
  {
   "cell_type": "markdown",
   "metadata": {},
   "source": [
    "# Training Algorithm\n",
    "---\n",
    "Given a set of training inputs $\\mathbb{X}$ and a stochastic process $(X_t)_{t\\geq 0}$ which we can sample from:\n",
    "1. **For:** x in $\\mathbb{X}$:\n",
    "    - *Simulate:* $\\{x\\mapsto X_T(\\omega_n)\\}_{n=1}^N$\n",
    "    - *Set*: $\\hat{\\nu}_{x,T}\\triangleq \\frac1{N}\\sum_{n=1}^N \\delta_{X_T(\\omega_n)}$\n",
    "2. **Learn:** Wasserstein Barycenters $\\hat{\\mu}_1,\\dots,\\hat{\\mu}_N\n",
    "    \\in \\underset{{\\hat{\\mu}_n\\in\\mathscr{P}_{N}(\\mathbb{R}^d)}}{\\operatorname{argmin}}\n",
    "    \\, \\sum_{n=1}^N W_1(\\hat{\\mu_n},\\hat{\\nu}_{x,T})$\n",
    "3. **Train Classifier:** $\\hat{f}:x\\mapsto \\operatorname{n\\leq N}\\, W_1(\\hat{\\mu_n},\\hat{\\nu}_{x,T})$"
   ]
  },
  {
   "cell_type": "markdown",
   "metadata": {},
   "source": [
    "#### Mode: Code-Testin Parameter(s)"
   ]
  },
  {
   "cell_type": "code",
   "execution_count": 1,
   "metadata": {},
   "outputs": [],
   "source": [
    "trial_run = True"
   ]
  },
  {
   "cell_type": "markdown",
   "metadata": {},
   "source": [
    "### Meta-parameters"
   ]
  },
  {
   "cell_type": "code",
   "execution_count": 2,
   "metadata": {},
   "outputs": [],
   "source": [
    "# Test-size Ratio\n",
    "test_size_ratio = .3\n",
    "min_height = 50"
   ]
  },
  {
   "cell_type": "markdown",
   "metadata": {},
   "source": [
    "### Hyperparameters\n",
    "\n",
    "Only turn of if running code directly here, typically this script should be run be called by other notebooks.  "
   ]
  },
  {
   "cell_type": "code",
   "execution_count": 3,
   "metadata": {},
   "outputs": [],
   "source": [
    "# load dataset\n",
    "results_path = \"./outputs/models/\"\n",
    "results_tables_path = \"./outputs/results/\"\n",
    "raw_data_path_folder = \"./inputs/raw/\"\n",
    "data_path_folder = \"./inputs/data/\""
   ]
  },
  {
   "cell_type": "markdown",
   "metadata": {},
   "source": [
    "### Import"
   ]
  },
  {
   "cell_type": "code",
   "execution_count": 4,
   "metadata": {},
   "outputs": [
    {
     "name": "stderr",
     "output_type": "stream",
     "text": [
      "Using TensorFlow backend.\n"
     ]
    },
    {
     "name": "stdout",
     "output_type": "stream",
     "text": [
      "Deep Feature Builder - Ready\n",
      "Deep Classifier - Ready\n"
     ]
    }
   ],
   "source": [
    "# Load Packages/Modules\n",
    "exec(open('Init_Dump.py').read())\n",
    "# Load Hyper-parameter Grid\n",
    "exec(open('Grid_Enhanced_Network.py').read())\n",
    "# Load Helper Function(s)\n",
    "exec(open('Helper_Functions.py').read())\n",
    "# Import time separately\n",
    "import time"
   ]
  },
  {
   "cell_type": "markdown",
   "metadata": {},
   "source": [
    "### Set Seed"
   ]
  },
  {
   "cell_type": "code",
   "execution_count": 13,
   "metadata": {},
   "outputs": [],
   "source": [
    "random.seed(2021)\n",
    "np.random.seed(2021)\n",
    "tf.random.set_seed(2021)"
   ]
  },
  {
   "cell_type": "markdown",
   "metadata": {},
   "source": [
    "---"
   ]
  },
  {
   "cell_type": "markdown",
   "metadata": {},
   "source": [
    "### Simulate Path\n",
    "$d X_t = \\alpha(t,x)dt + \\beta(t,x)dW_t ;\\qquad X_0 =x$"
   ]
  },
  {
   "cell_type": "markdown",
   "metadata": {},
   "source": [
    "### Drift"
   ]
  },
  {
   "cell_type": "code",
   "execution_count": 14,
   "metadata": {},
   "outputs": [],
   "source": [
    "def alpha(t,x):\n",
    "    return np.sin(math.pi*t)"
   ]
  },
  {
   "cell_type": "markdown",
   "metadata": {},
   "source": [
    "### Volatility"
   ]
  },
  {
   "cell_type": "code",
   "execution_count": 15,
   "metadata": {},
   "outputs": [],
   "source": [
    "def beta(t,x):\n",
    "    return (t+1)**.5"
   ]
  },
  {
   "cell_type": "markdown",
   "metadata": {},
   "source": [
    "## Initialize Grid\n",
    "This is $\\mathbb{X}$ and it represents the grid of initial states."
   ]
  },
  {
   "cell_type": "code",
   "execution_count": 16,
   "metadata": {},
   "outputs": [],
   "source": [
    "x_Grid = np.arange(start=-1,stop=1,step=0.01)"
   ]
  },
  {
   "cell_type": "markdown",
   "metadata": {},
   "source": [
    "### Path Generator"
   ]
  },
  {
   "cell_type": "code",
   "execution_count": null,
   "metadata": {},
   "outputs": [],
   "source": []
  },
  {
   "cell_type": "code",
   "execution_count": 17,
   "metadata": {},
   "outputs": [],
   "source": [
    "def Euler_Maruyama_Generator(N_Euler_Maruyama_Steps = 100,\n",
    "                             N_Monte_Carlo_Samples = 50,\n",
    "                             x_0 = 0,\n",
    "                             T = 1): \n",
    "    \n",
    "    #----------------------------#    \n",
    "    # DEFINE INTERNAL PARAMETERS #\n",
    "    #----------------------------#\n",
    "    # Initialize Empirical Measure\n",
    "    X_T_Empirical = np.zeros(N_Monte_Carlo_Samples)\n",
    "\n",
    "\n",
    "    # Internal Initialization(s)\n",
    "    ## Initialize current state\n",
    "    n_sample = 0\n",
    "    ## Initialize Incriments\n",
    "    dt = T/N_Euler_Maruyama_Steps\n",
    "    sqrt_dt = np.sqrt(dt)\n",
    "\n",
    "    #-----------------------------#    \n",
    "    # Generate Monte-Carlo Sample #\n",
    "    #-----------------------------#\n",
    "    while n_sample < N_Monte_Carlo_Samples:\n",
    "        # Reset Step Counter\n",
    "        t = 1\n",
    "        # Initialize Current State \n",
    "        X_current = x_0\n",
    "        # Perform Euler-Maruyama Simulation\n",
    "        while t<N_Euler_Maruyama_Steps:\n",
    "            # Update Internal Parameters\n",
    "            ## Get Current Time\n",
    "            t_current = t*(T/N_Euler_Maruyama_Steps)\n",
    "\n",
    "            # Update Generated Path\n",
    "            X_current = X_current + alpha(t_current,X_current)*dt + beta(t_current,X_current)*np.random.normal(0,sqrt_dt)\n",
    "\n",
    "            # Update Counter (EM)\n",
    "            t = t+1\n",
    "\n",
    "        # Update Empirical Measure\n",
    "        X_T_Empirical[n_sample] = X_current\n",
    "\n",
    "        # Update Counter (MC)\n",
    "        n_sample = n_sample + 1\n",
    "\n",
    "    return X_T_Empirical.reshape(1,-1)"
   ]
  },
  {
   "cell_type": "code",
   "execution_count": 440,
   "metadata": {},
   "outputs": [
    {
     "data": {
      "text/plain": [
       "(array([ 2.,  2.,  6.,  9.,  5., 11.,  6.,  3.,  3.,  3.]),\n",
       " array([-2.31932142, -1.71815111, -1.11698079, -0.51581048,  0.08535983,\n",
       "         0.68653015,  1.28770046,  1.88887078,  2.49004109,  3.0912114 ,\n",
       "         3.69238172]),\n",
       " <a list of 10 Patch objects>)"
      ]
     },
     "execution_count": 440,
     "metadata": {},
     "output_type": "execute_result"
    },
    {
     "data": {
      "image/png": "[encoded data removed]",
      "text/plain": [
       "<Figure size 432x288 with 1 Axes>"
      ]
     },
     "metadata": {
      "needs_background": "light"
     },
     "output_type": "display_data"
    }
   ],
   "source": [
    "plt.hist(X_T_Empirical)"
   ]
  },
  {
   "cell_type": "markdown",
   "metadata": {},
   "source": [
    "---"
   ]
  },
  {
   "cell_type": "markdown",
   "metadata": {},
   "source": [
    "### Train Classifier"
   ]
  },
  {
   "cell_type": "markdown",
   "metadata": {},
   "source": [
    "#### Deep Classifier\n",
    "Prepare Labels/Classes"
   ]
  },
  {
   "cell_type": "code",
   "execution_count": 65,
   "metadata": {},
   "outputs": [],
   "source": [
    "# Time-Elapsed Training Deep Classifier\n",
    "Architope_deep_classifier_training_begin = time.time()"
   ]
  },
  {
   "cell_type": "code",
   "execution_count": 66,
   "metadata": {},
   "outputs": [],
   "source": [
    "# Initialize Classes Labels\n",
    "partition_labels_training_integers = np.argmin(training_quality,axis=-1)\n",
    "partition_labels_training = pd.DataFrame(pd.DataFrame(partition_labels_training_integers) == 0)\n",
    "# Build Classes\n",
    "for part_column_i in range(1,(training_quality.shape[1])):\n",
    "    partition_labels_training = pd.concat([partition_labels_training,\n",
    "                                           (pd.DataFrame(partition_labels_training_integers) == part_column_i)\n",
    "                                          ],axis=1)\n",
    "# Convert to integers\n",
    "partition_labels_training = partition_labels_training+0"
   ]
  },
  {
   "cell_type": "markdown",
   "metadata": {},
   "source": [
    "Re-Load Grid and Redefine Relevant Input/Output dimensions in dictionary."
   ]
  },
  {
   "cell_type": "code",
   "execution_count": 67,
   "metadata": {},
   "outputs": [
    {
     "name": "stdout",
     "output_type": "stream",
     "text": [
      "Deep Feature Builder - Ready\n",
      "Deep Classifier - Ready\n"
     ]
    }
   ],
   "source": [
    "# Re-Load Hyper-parameter Grid\n",
    "exec(open('Grid_Enhanced_Network.py').read())\n",
    "# Re-Load Helper Function(s)\n",
    "exec(open('Helper_Functions.py').read())\n",
    "\n",
    "# Redefine (Dimension-related) Elements of Grid\n",
    "param_grid_Deep_Classifier['input_dim'] = [X_train.shape[1]]\n",
    "param_grid_Deep_Classifier['output_dim'] = [partition_labels_training.shape[1]]"
   ]
  },
  {
   "cell_type": "markdown",
   "metadata": {},
   "source": [
    "#### Train Deep Classifier"
   ]
  },
  {
   "cell_type": "code",
   "execution_count": 68,
   "metadata": {},
   "outputs": [
    {
     "name": "stdout",
     "output_type": "stream",
     "text": [
      "Fitting 2 folds for each of 1 candidates, totalling 2 fits\n"
     ]
    },
    {
     "name": "stderr",
     "output_type": "stream",
     "text": [
      "[Parallel(n_jobs=4)]: Using backend LokyBackend with 4 concurrent workers.\n"
     ]
    },
    {
     "name": "stdout",
     "output_type": "stream",
     "text": [
      "Epoch 1/200\n",
      "WARNING:tensorflow:Layer dense_4 is casting an input tensor from dtype float64 to the layer's dtype of float32, which is new behavior in TensorFlow 2.  The layer has dtype float32 because its dtype defaults to floatx.\n",
      "\n",
      "If you intended to run this layer in float32, you can safely ignore this warning. If in doubt, this warning is likely only an issue if you are porting a TensorFlow 1.X model to TensorFlow 2.\n",
      "\n",
      "To change all layers to have dtype float64 by default, call `tf.keras.backend.set_floatx('float64')`. To change just this layer, pass dtype='float64' to the layer constructor. If you are the author of this layer, you can disable autocasting by passing autocast=False to the base Layer constructor.\n",
      "\n"
     ]
    },
    {
     "name": "stderr",
     "output_type": "stream",
     "text": [
      "[Parallel(n_jobs=4)]: Done   2 out of   2 | elapsed:   24.5s remaining:    0.0s\n",
      "[Parallel(n_jobs=4)]: Done   2 out of   2 | elapsed:   24.5s finished\n"
     ]
    },
    {
     "name": "stdout",
     "output_type": "stream",
     "text": [
      "94/94 [==============================] - 0s 2ms/step - loss: 0.1832 - accuracy: 0.3463\n",
      "Epoch 2/200\n",
      "94/94 [==============================] - 0s 2ms/step - loss: 0.1128 - accuracy: 0.3773\n",
      "Epoch 3/200\n",
      "94/94 [==============================] - 0s 2ms/step - loss: 0.0912 - accuracy: 0.4257\n",
      "Epoch 4/200\n",
      "94/94 [==============================] - 0s 2ms/step - loss: 0.0869 - accuracy: 0.4360\n",
      "Epoch 5/200\n",
      "94/94 [==============================] - 0s 2ms/step - loss: 0.0840 - accuracy: 0.4513\n",
      "Epoch 6/200\n",
      "94/94 [==============================] - 0s 2ms/step - loss: 0.0816 - accuracy: 0.4690\n",
      "Epoch 7/200\n",
      "94/94 [==============================] - 0s 2ms/step - loss: 0.0797 - accuracy: 0.4887\n",
      "Epoch 8/200\n",
      "94/94 [==============================] - 0s 2ms/step - loss: 0.0771 - accuracy: 0.4957\n",
      "Epoch 9/200\n",
      "94/94 [==============================] - 0s 3ms/step - loss: 0.0753 - accuracy: 0.5087\n",
      "Epoch 10/200\n",
      "94/94 [==============================] - 0s 2ms/step - loss: 0.0727 - accuracy: 0.5023\n",
      "Epoch 11/200\n",
      "94/94 [==============================] - 0s 3ms/step - loss: 0.0712 - accuracy: 0.5103\n",
      "Epoch 12/200\n",
      "94/94 [==============================] - 0s 3ms/step - loss: 0.0690 - accuracy: 0.5223\n",
      "Epoch 13/200\n",
      "94/94 [==============================] - 0s 2ms/step - loss: 0.0673 - accuracy: 0.5297\n",
      "Epoch 14/200\n",
      "94/94 [==============================] - 0s 2ms/step - loss: 0.0664 - accuracy: 0.5327\n",
      "Epoch 15/200\n",
      "94/94 [==============================] - 0s 2ms/step - loss: 0.0656 - accuracy: 0.5430\n",
      "Epoch 16/200\n",
      "94/94 [==============================] - 0s 2ms/step - loss: 0.0643 - accuracy: 0.5600\n",
      "Epoch 17/200\n",
      "94/94 [==============================] - 0s 2ms/step - loss: 0.0635 - accuracy: 0.5673\n",
      "Epoch 18/200\n",
      "94/94 [==============================] - 0s 2ms/step - loss: 0.0635 - accuracy: 0.5603\n",
      "Epoch 19/200\n",
      "94/94 [==============================] - 0s 2ms/step - loss: 0.0619 - accuracy: 0.5803\n",
      "Epoch 20/200\n",
      "94/94 [==============================] - 0s 3ms/step - loss: 0.0611 - accuracy: 0.5750\n",
      "Epoch 21/200\n",
      "94/94 [==============================] - 0s 4ms/step - loss: 0.0603 - accuracy: 0.5850\n",
      "Epoch 22/200\n",
      "94/94 [==============================] - 0s 3ms/step - loss: 0.0601 - accuracy: 0.5873\n",
      "Epoch 23/200\n",
      "94/94 [==============================] - 0s 3ms/step - loss: 0.0594 - accuracy: 0.5957\n",
      "Epoch 24/200\n",
      "94/94 [==============================] - 0s 2ms/step - loss: 0.0583 - accuracy: 0.6057\n",
      "Epoch 25/200\n",
      "94/94 [==============================] - 0s 2ms/step - loss: 0.0577 - accuracy: 0.6047\n",
      "Epoch 26/200\n",
      "94/94 [==============================] - 0s 2ms/step - loss: 0.0573 - accuracy: 0.6127\n",
      "Epoch 27/200\n",
      "94/94 [==============================] - 0s 4ms/step - loss: 0.0567 - accuracy: 0.6080\n",
      "Epoch 28/200\n",
      "94/94 [==============================] - 0s 3ms/step - loss: 0.0558 - accuracy: 0.6250\n",
      "Epoch 29/200\n",
      "94/94 [==============================] - 0s 3ms/step - loss: 0.0555 - accuracy: 0.6190\n",
      "Epoch 30/200\n",
      "94/94 [==============================] - 0s 3ms/step - loss: 0.0551 - accuracy: 0.6310\n",
      "Epoch 31/200\n",
      "94/94 [==============================] - 0s 2ms/step - loss: 0.0552 - accuracy: 0.6103\n",
      "Epoch 32/200\n",
      "94/94 [==============================] - 0s 2ms/step - loss: 0.0544 - accuracy: 0.6283\n",
      "Epoch 33/200\n",
      "94/94 [==============================] - 0s 2ms/step - loss: 0.0546 - accuracy: 0.6313\n",
      "Epoch 34/200\n",
      "94/94 [==============================] - 0s 2ms/step - loss: 0.0542 - accuracy: 0.6287\n",
      "Epoch 35/200\n",
      "94/94 [==============================] - 0s 2ms/step - loss: 0.0547 - accuracy: 0.6210\n",
      "Epoch 36/200\n",
      "94/94 [==============================] - 0s 2ms/step - loss: 0.0545 - accuracy: 0.6093\n",
      "Epoch 37/200\n",
      "94/94 [==============================] - 0s 2ms/step - loss: 0.0524 - accuracy: 0.6497\n",
      "Epoch 38/200\n",
      "94/94 [==============================] - 0s 2ms/step - loss: 0.0520 - accuracy: 0.6463\n",
      "Epoch 39/200\n",
      "94/94 [==============================] - 0s 2ms/step - loss: 0.0534 - accuracy: 0.6267\n",
      "Epoch 40/200\n",
      "94/94 [==============================] - 0s 2ms/step - loss: 0.0525 - accuracy: 0.6460\n",
      "Epoch 41/200\n",
      "94/94 [==============================] - 0s 2ms/step - loss: 0.0518 - accuracy: 0.6487\n",
      "Epoch 42/200\n",
      "94/94 [==============================] - 0s 2ms/step - loss: 0.0512 - accuracy: 0.6657\n",
      "Epoch 43/200\n",
      "94/94 [==============================] - 0s 2ms/step - loss: 0.0510 - accuracy: 0.6577\n",
      "Epoch 44/200\n",
      "94/94 [==============================] - 0s 2ms/step - loss: 0.0508 - accuracy: 0.6580\n",
      "Epoch 45/200\n",
      "94/94 [==============================] - 0s 2ms/step - loss: 0.0513 - accuracy: 0.6563\n",
      "Epoch 46/200\n",
      "94/94 [==============================] - 0s 2ms/step - loss: 0.0506 - accuracy: 0.6567\n",
      "Epoch 47/200\n",
      "94/94 [==============================] - 0s 2ms/step - loss: 0.0509 - accuracy: 0.6543\n",
      "Epoch 48/200\n",
      "94/94 [==============================] - 0s 3ms/step - loss: 0.0495 - accuracy: 0.6673\n",
      "Epoch 49/200\n",
      "94/94 [==============================] - 0s 2ms/step - loss: 0.0507 - accuracy: 0.6563\n",
      "Epoch 50/200\n",
      "94/94 [==============================] - 0s 2ms/step - loss: 0.0496 - accuracy: 0.6720\n",
      "Epoch 51/200\n",
      "94/94 [==============================] - 0s 2ms/step - loss: 0.0491 - accuracy: 0.6787\n",
      "Epoch 52/200\n",
      "94/94 [==============================] - 0s 3ms/step - loss: 0.0483 - accuracy: 0.6773\n",
      "Epoch 53/200\n",
      "94/94 [==============================] - 0s 3ms/step - loss: 0.0508 - accuracy: 0.6483\n",
      "Epoch 54/200\n",
      "94/94 [==============================] - 0s 3ms/step - loss: 0.0494 - accuracy: 0.6753\n",
      "Epoch 55/200\n",
      "94/94 [==============================] - 0s 3ms/step - loss: 0.0490 - accuracy: 0.6707\n",
      "Epoch 56/200\n",
      "94/94 [==============================] - 0s 4ms/step - loss: 0.0479 - accuracy: 0.6917\n",
      "Epoch 57/200\n",
      "94/94 [==============================] - 0s 3ms/step - loss: 0.0477 - accuracy: 0.6917\n",
      "Epoch 58/200\n",
      "94/94 [==============================] - 0s 3ms/step - loss: 0.0481 - accuracy: 0.6820\n",
      "Epoch 59/200\n",
      "94/94 [==============================] - 0s 3ms/step - loss: 0.0472 - accuracy: 0.6883\n",
      "Epoch 60/200\n",
      "94/94 [==============================] - 0s 3ms/step - loss: 0.0474 - accuracy: 0.6953\n",
      "Epoch 61/200\n",
      "94/94 [==============================] - 0s 3ms/step - loss: 0.0482 - accuracy: 0.6870\n",
      "Epoch 62/200\n",
      "94/94 [==============================] - 0s 3ms/step - loss: 0.0465 - accuracy: 0.6980\n",
      "Epoch 63/200\n",
      "94/94 [==============================] - 0s 3ms/step - loss: 0.0466 - accuracy: 0.6987\n",
      "Epoch 64/200\n",
      "94/94 [==============================] - 0s 4ms/step - loss: 0.0462 - accuracy: 0.7060\n",
      "Epoch 65/200\n",
      "94/94 [==============================] - 0s 4ms/step - loss: 0.0469 - accuracy: 0.6997\n",
      "Epoch 66/200\n",
      "94/94 [==============================] - 0s 3ms/step - loss: 0.0461 - accuracy: 0.7023\n",
      "Epoch 67/200\n",
      "94/94 [==============================] - 0s 3ms/step - loss: 0.0462 - accuracy: 0.7067\n",
      "Epoch 68/200\n",
      "94/94 [==============================] - 0s 3ms/step - loss: 0.0462 - accuracy: 0.7037\n",
      "Epoch 69/200\n",
      "94/94 [==============================] - 0s 3ms/step - loss: 0.0478 - accuracy: 0.6860\n",
      "Epoch 70/200\n",
      "94/94 [==============================] - 0s 3ms/step - loss: 0.0455 - accuracy: 0.7050\n",
      "Epoch 71/200\n",
      "94/94 [==============================] - 0s 3ms/step - loss: 0.0478 - accuracy: 0.6847\n",
      "Epoch 72/200\n",
      "94/94 [==============================] - 0s 3ms/step - loss: 0.0457 - accuracy: 0.7063\n",
      "Epoch 73/200\n",
      "94/94 [==============================] - 0s 2ms/step - loss: 0.0451 - accuracy: 0.7193\n",
      "Epoch 74/200\n",
      "94/94 [==============================] - 0s 2ms/step - loss: 0.0462 - accuracy: 0.7103\n",
      "Epoch 75/200\n",
      "94/94 [==============================] - 0s 2ms/step - loss: 0.0452 - accuracy: 0.7073\n",
      "Epoch 76/200\n",
      "94/94 [==============================] - 0s 2ms/step - loss: 0.0453 - accuracy: 0.7123\n",
      "Epoch 77/200\n",
      "94/94 [==============================] - 0s 2ms/step - loss: 0.0461 - accuracy: 0.7063\n",
      "Epoch 78/200\n",
      "94/94 [==============================] - 0s 2ms/step - loss: 0.0452 - accuracy: 0.7103\n",
      "Epoch 79/200\n",
      "94/94 [==============================] - 0s 2ms/step - loss: 0.0447 - accuracy: 0.7240\n",
      "Epoch 80/200\n",
      "94/94 [==============================] - 0s 2ms/step - loss: 0.0452 - accuracy: 0.7130\n",
      "Epoch 81/200\n",
      "94/94 [==============================] - 0s 2ms/step - loss: 0.0447 - accuracy: 0.7200\n",
      "Epoch 82/200\n",
      "94/94 [==============================] - 0s 2ms/step - loss: 0.0445 - accuracy: 0.7210\n",
      "Epoch 83/200\n",
      "94/94 [==============================] - 0s 2ms/step - loss: 0.0450 - accuracy: 0.7093\n",
      "Epoch 84/200\n",
      "94/94 [==============================] - 0s 2ms/step - loss: 0.0442 - accuracy: 0.7247\n",
      "Epoch 85/200\n",
      "94/94 [==============================] - 0s 2ms/step - loss: 0.0437 - accuracy: 0.7247\n",
      "Epoch 86/200\n",
      "94/94 [==============================] - 0s 3ms/step - loss: 0.0449 - accuracy: 0.7087\n",
      "Epoch 87/200\n",
      "94/94 [==============================] - 0s 2ms/step - loss: 0.0443 - accuracy: 0.7220\n",
      "Epoch 88/200\n",
      "94/94 [==============================] - 0s 2ms/step - loss: 0.0440 - accuracy: 0.7213\n",
      "Epoch 89/200\n",
      "94/94 [==============================] - 0s 2ms/step - loss: 0.0437 - accuracy: 0.7293\n",
      "Epoch 90/200\n",
      "94/94 [==============================] - 0s 2ms/step - loss: 0.0447 - accuracy: 0.7217\n",
      "Epoch 91/200\n",
      "94/94 [==============================] - 0s 3ms/step - loss: 0.0437 - accuracy: 0.7200\n",
      "Epoch 92/200\n",
      "94/94 [==============================] - 0s 4ms/step - loss: 0.0439 - accuracy: 0.7190\n",
      "Epoch 93/200\n",
      "94/94 [==============================] - 0s 3ms/step - loss: 0.0448 - accuracy: 0.7087\n",
      "Epoch 94/200\n",
      "94/94 [==============================] - 0s 3ms/step - loss: 0.0430 - accuracy: 0.7383\n",
      "Epoch 95/200\n",
      "94/94 [==============================] - 0s 3ms/step - loss: 0.0436 - accuracy: 0.7213\n",
      "Epoch 96/200\n",
      "94/94 [==============================] - 0s 2ms/step - loss: 0.0432 - accuracy: 0.7183\n",
      "Epoch 97/200\n",
      "94/94 [==============================] - 0s 2ms/step - loss: 0.0422 - accuracy: 0.7390\n",
      "Epoch 98/200\n",
      "94/94 [==============================] - 0s 3ms/step - loss: 0.0432 - accuracy: 0.7303\n",
      "Epoch 99/200\n",
      "94/94 [==============================] - 0s 2ms/step - loss: 0.0437 - accuracy: 0.7303\n",
      "Epoch 100/200\n",
      "94/94 [==============================] - 0s 3ms/step - loss: 0.0428 - accuracy: 0.7323\n",
      "Epoch 101/200\n",
      "94/94 [==============================] - 0s 2ms/step - loss: 0.0427 - accuracy: 0.7267\n",
      "Epoch 102/200\n",
      "94/94 [==============================] - 0s 2ms/step - loss: 0.0432 - accuracy: 0.7283\n",
      "Epoch 103/200\n",
      "94/94 [==============================] - 0s 2ms/step - loss: 0.0431 - accuracy: 0.7223\n",
      "Epoch 104/200\n",
      "94/94 [==============================] - 0s 2ms/step - loss: 0.0427 - accuracy: 0.7347\n",
      "Epoch 105/200\n",
      "94/94 [==============================] - 0s 2ms/step - loss: 0.0425 - accuracy: 0.7360\n",
      "Epoch 106/200\n",
      "94/94 [==============================] - 0s 2ms/step - loss: 0.0421 - accuracy: 0.7317\n",
      "Epoch 107/200\n",
      "94/94 [==============================] - 0s 2ms/step - loss: 0.0426 - accuracy: 0.7317\n",
      "Epoch 108/200\n",
      "94/94 [==============================] - 0s 2ms/step - loss: 0.0427 - accuracy: 0.7237\n",
      "Epoch 109/200\n",
      "94/94 [==============================] - 0s 2ms/step - loss: 0.0437 - accuracy: 0.7223\n",
      "Epoch 110/200\n",
      "94/94 [==============================] - 0s 2ms/step - loss: 0.0410 - accuracy: 0.7397\n",
      "Epoch 111/200\n",
      "94/94 [==============================] - 0s 3ms/step - loss: 0.0422 - accuracy: 0.7327\n",
      "Epoch 112/200\n",
      "94/94 [==============================] - 0s 2ms/step - loss: 0.0425 - accuracy: 0.7280\n",
      "Epoch 113/200\n",
      "94/94 [==============================] - 0s 3ms/step - loss: 0.0425 - accuracy: 0.7367\n",
      "Epoch 114/200\n",
      "94/94 [==============================] - 0s 4ms/step - loss: 0.0426 - accuracy: 0.7313\n",
      "Epoch 115/200\n",
      "94/94 [==============================] - 0s 3ms/step - loss: 0.0434 - accuracy: 0.7117\n",
      "Epoch 116/200\n",
      "94/94 [==============================] - 0s 3ms/step - loss: 0.0425 - accuracy: 0.7333\n",
      "Epoch 117/200\n",
      "94/94 [==============================] - 0s 3ms/step - loss: 0.0423 - accuracy: 0.7233\n",
      "Epoch 118/200\n",
      "94/94 [==============================] - 0s 3ms/step - loss: 0.0414 - accuracy: 0.7453\n",
      "Epoch 119/200\n",
      "94/94 [==============================] - 0s 2ms/step - loss: 0.0417 - accuracy: 0.7430\n",
      "Epoch 120/200\n",
      "94/94 [==============================] - 0s 2ms/step - loss: 0.0426 - accuracy: 0.7347\n",
      "Epoch 121/200\n",
      "94/94 [==============================] - 0s 2ms/step - loss: 0.0413 - accuracy: 0.7440\n",
      "Epoch 122/200\n",
      "94/94 [==============================] - 0s 2ms/step - loss: 0.0408 - accuracy: 0.7543\n",
      "Epoch 123/200\n",
      "94/94 [==============================] - 0s 2ms/step - loss: 0.0411 - accuracy: 0.7440\n",
      "Epoch 124/200\n",
      "94/94 [==============================] - 0s 2ms/step - loss: 0.0414 - accuracy: 0.7417\n",
      "Epoch 125/200\n",
      "94/94 [==============================] - 0s 2ms/step - loss: 0.0411 - accuracy: 0.7477\n",
      "Epoch 126/200\n",
      "94/94 [==============================] - 0s 2ms/step - loss: 0.0409 - accuracy: 0.7453\n",
      "Epoch 127/200\n",
      "94/94 [==============================] - 0s 2ms/step - loss: 0.0413 - accuracy: 0.7377\n",
      "Epoch 128/200\n",
      "94/94 [==============================] - 0s 2ms/step - loss: 0.0414 - accuracy: 0.7387\n",
      "Epoch 129/200\n",
      "94/94 [==============================] - 0s 2ms/step - loss: 0.0416 - accuracy: 0.7323\n",
      "Epoch 130/200\n",
      "94/94 [==============================] - 0s 2ms/step - loss: 0.0417 - accuracy: 0.7280\n",
      "Epoch 131/200\n",
      "94/94 [==============================] - 0s 2ms/step - loss: 0.0403 - accuracy: 0.7393\n",
      "Epoch 132/200\n",
      "94/94 [==============================] - 0s 2ms/step - loss: 0.0395 - accuracy: 0.7567\n",
      "Epoch 133/200\n",
      "94/94 [==============================] - 0s 2ms/step - loss: 0.0420 - accuracy: 0.7330\n",
      "Epoch 134/200\n",
      "94/94 [==============================] - 0s 2ms/step - loss: 0.0406 - accuracy: 0.7493\n",
      "Epoch 135/200\n",
      "94/94 [==============================] - 0s 2ms/step - loss: 0.0407 - accuracy: 0.7493\n",
      "Epoch 136/200\n",
      "94/94 [==============================] - 0s 2ms/step - loss: 0.0403 - accuracy: 0.7423\n",
      "Epoch 137/200\n",
      "94/94 [==============================] - 0s 2ms/step - loss: 0.0411 - accuracy: 0.7487\n",
      "Epoch 138/200\n",
      "94/94 [==============================] - 0s 2ms/step - loss: 0.0405 - accuracy: 0.7443\n",
      "Epoch 139/200\n",
      "94/94 [==============================] - 0s 2ms/step - loss: 0.0412 - accuracy: 0.7410\n",
      "Epoch 140/200\n",
      "94/94 [==============================] - 0s 2ms/step - loss: 0.0404 - accuracy: 0.7503\n",
      "Epoch 141/200\n",
      "94/94 [==============================] - 0s 2ms/step - loss: 0.0408 - accuracy: 0.7437\n",
      "Epoch 142/200\n",
      "94/94 [==============================] - 0s 2ms/step - loss: 0.0398 - accuracy: 0.7520\n",
      "Epoch 143/200\n",
      "94/94 [==============================] - 0s 2ms/step - loss: 0.0408 - accuracy: 0.7373\n",
      "Epoch 144/200\n",
      "94/94 [==============================] - 0s 2ms/step - loss: 0.0397 - accuracy: 0.7640\n",
      "Epoch 145/200\n",
      "94/94 [==============================] - 0s 2ms/step - loss: 0.0402 - accuracy: 0.7447\n",
      "Epoch 146/200\n",
      "94/94 [==============================] - 0s 2ms/step - loss: 0.0401 - accuracy: 0.7497\n",
      "Epoch 147/200\n",
      "94/94 [==============================] - 0s 2ms/step - loss: 0.0400 - accuracy: 0.7470\n",
      "Epoch 148/200\n",
      "94/94 [==============================] - 0s 2ms/step - loss: 0.0392 - accuracy: 0.7627\n",
      "Epoch 149/200\n",
      "94/94 [==============================] - 0s 2ms/step - loss: 0.0411 - accuracy: 0.7443\n",
      "Epoch 150/200\n",
      "94/94 [==============================] - 0s 2ms/step - loss: 0.0396 - accuracy: 0.7513\n",
      "Epoch 151/200\n",
      "94/94 [==============================] - 0s 2ms/step - loss: 0.0396 - accuracy: 0.7617\n",
      "Epoch 152/200\n",
      "94/94 [==============================] - 0s 2ms/step - loss: 0.0386 - accuracy: 0.7677\n",
      "Epoch 153/200\n",
      "94/94 [==============================] - 0s 2ms/step - loss: 0.0391 - accuracy: 0.7567\n",
      "Epoch 154/200\n",
      "94/94 [==============================] - 0s 2ms/step - loss: 0.0391 - accuracy: 0.7593\n",
      "Epoch 155/200\n",
      "94/94 [==============================] - 0s 2ms/step - loss: 0.0406 - accuracy: 0.7367\n",
      "Epoch 156/200\n",
      "94/94 [==============================] - 0s 2ms/step - loss: 0.0391 - accuracy: 0.7613\n",
      "Epoch 157/200\n",
      "94/94 [==============================] - 0s 2ms/step - loss: 0.0387 - accuracy: 0.7680\n",
      "Epoch 158/200\n",
      "94/94 [==============================] - 0s 2ms/step - loss: 0.0392 - accuracy: 0.7557\n",
      "Epoch 159/200\n",
      "94/94 [==============================] - 0s 2ms/step - loss: 0.0401 - accuracy: 0.7490\n",
      "Epoch 160/200\n",
      "94/94 [==============================] - 0s 2ms/step - loss: 0.0392 - accuracy: 0.7607\n",
      "Epoch 161/200\n",
      "94/94 [==============================] - 0s 2ms/step - loss: 0.0397 - accuracy: 0.7500\n",
      "Epoch 162/200\n",
      "94/94 [==============================] - 0s 2ms/step - loss: 0.0389 - accuracy: 0.7600\n",
      "Epoch 163/200\n",
      "94/94 [==============================] - 0s 2ms/step - loss: 0.0385 - accuracy: 0.7597\n",
      "Epoch 164/200\n"
     ]
    },
    {
     "name": "stdout",
     "output_type": "stream",
     "text": [
      "94/94 [==============================] - 0s 2ms/step - loss: 0.0381 - accuracy: 0.7673\n",
      "Epoch 165/200\n",
      "94/94 [==============================] - 0s 2ms/step - loss: 0.0384 - accuracy: 0.7610\n",
      "Epoch 166/200\n",
      "94/94 [==============================] - 0s 2ms/step - loss: 0.0389 - accuracy: 0.7630\n",
      "Epoch 167/200\n",
      "94/94 [==============================] - 0s 2ms/step - loss: 0.0393 - accuracy: 0.7647\n",
      "Epoch 168/200\n",
      "94/94 [==============================] - 0s 2ms/step - loss: 0.0393 - accuracy: 0.7513\n",
      "Epoch 169/200\n",
      "94/94 [==============================] - 0s 2ms/step - loss: 0.0380 - accuracy: 0.7630\n",
      "Epoch 170/200\n",
      "94/94 [==============================] - 0s 2ms/step - loss: 0.0396 - accuracy: 0.7497\n",
      "Epoch 171/200\n",
      "94/94 [==============================] - 0s 2ms/step - loss: 0.0393 - accuracy: 0.7527\n",
      "Epoch 172/200\n",
      "94/94 [==============================] - 0s 2ms/step - loss: 0.0392 - accuracy: 0.7550\n",
      "Epoch 173/200\n",
      "94/94 [==============================] - 0s 2ms/step - loss: 0.0389 - accuracy: 0.7480\n",
      "Epoch 174/200\n",
      "94/94 [==============================] - 0s 2ms/step - loss: 0.0378 - accuracy: 0.7587\n",
      "Epoch 175/200\n",
      "94/94 [==============================] - 0s 2ms/step - loss: 0.0385 - accuracy: 0.7600\n",
      "Epoch 176/200\n",
      "94/94 [==============================] - 0s 2ms/step - loss: 0.0372 - accuracy: 0.7710\n",
      "Epoch 177/200\n",
      "94/94 [==============================] - 0s 2ms/step - loss: 0.0368 - accuracy: 0.7767\n",
      "Epoch 178/200\n",
      "94/94 [==============================] - 0s 2ms/step - loss: 0.0367 - accuracy: 0.7727\n",
      "Epoch 179/200\n",
      "94/94 [==============================] - 0s 2ms/step - loss: 0.0380 - accuracy: 0.7597\n",
      "Epoch 180/200\n",
      "94/94 [==============================] - 0s 2ms/step - loss: 0.0381 - accuracy: 0.7610\n",
      "Epoch 181/200\n",
      "94/94 [==============================] - 0s 2ms/step - loss: 0.0381 - accuracy: 0.7637\n",
      "Epoch 182/200\n",
      "94/94 [==============================] - 0s 2ms/step - loss: 0.0383 - accuracy: 0.7567\n",
      "Epoch 183/200\n",
      "94/94 [==============================] - 0s 2ms/step - loss: 0.0384 - accuracy: 0.7590\n",
      "Epoch 184/200\n",
      "94/94 [==============================] - 0s 2ms/step - loss: 0.0386 - accuracy: 0.7623\n",
      "Epoch 185/200\n",
      "94/94 [==============================] - 0s 2ms/step - loss: 0.0374 - accuracy: 0.7630\n",
      "Epoch 186/200\n",
      "94/94 [==============================] - 0s 2ms/step - loss: 0.0383 - accuracy: 0.7580\n",
      "Epoch 187/200\n",
      "94/94 [==============================] - 0s 2ms/step - loss: 0.0378 - accuracy: 0.7687\n",
      "Epoch 188/200\n",
      "94/94 [==============================] - 0s 2ms/step - loss: 0.0372 - accuracy: 0.7787\n",
      "Epoch 189/200\n",
      "94/94 [==============================] - 0s 3ms/step - loss: 0.0376 - accuracy: 0.7673\n",
      "Epoch 190/200\n",
      "94/94 [==============================] - 0s 2ms/step - loss: 0.0369 - accuracy: 0.7790\n",
      "Epoch 191/200\n",
      "94/94 [==============================] - 0s 2ms/step - loss: 0.0371 - accuracy: 0.7700\n",
      "Epoch 192/200\n",
      "94/94 [==============================] - 0s 2ms/step - loss: 0.0384 - accuracy: 0.7567\n",
      "Epoch 193/200\n",
      "94/94 [==============================] - 0s 2ms/step - loss: 0.0370 - accuracy: 0.7747\n",
      "Epoch 194/200\n",
      "94/94 [==============================] - 0s 2ms/step - loss: 0.0377 - accuracy: 0.7633\n",
      "Epoch 195/200\n",
      "94/94 [==============================] - 0s 2ms/step - loss: 0.0375 - accuracy: 0.7700\n",
      "Epoch 196/200\n",
      "94/94 [==============================] - 0s 2ms/step - loss: 0.0369 - accuracy: 0.7700\n",
      "Epoch 197/200\n",
      "94/94 [==============================] - 0s 2ms/step - loss: 0.0365 - accuracy: 0.7700\n",
      "Epoch 198/200\n",
      "94/94 [==============================] - 0s 2ms/step - loss: 0.0365 - accuracy: 0.7760\n",
      "Epoch 199/200\n",
      "94/94 [==============================] - 0s 2ms/step - loss: 0.0365 - accuracy: 0.7707\n",
      "Epoch 200/200\n",
      "94/94 [==============================] - 0s 2ms/step - loss: 0.0363 - accuracy: 0.7713\n",
      "94/94 [==============================] - 0s 672us/step\n",
      "94/94 [==============================] - 0s 671us/step\n"
     ]
    }
   ],
   "source": [
    "# Train simple deep classifier\n",
    "predicted_classes_train, predicted_classes_test, N_params_deep_classifier = build_simple_deep_classifier(n_folds = CV_folds, \n",
    "                                                                                                        n_jobs = n_jobs, \n",
    "                                                                                                        n_iter =n_iter, \n",
    "                                                                                                        param_grid_in=param_grid_Deep_Classifier, \n",
    "                                                                                                        X_train = X_train, \n",
    "                                                                                                        y_train = partition_labels_training,\n",
    "                                                                                                        X_test = X_test)"
   ]
  },
  {
   "cell_type": "code",
   "execution_count": 69,
   "metadata": {},
   "outputs": [],
   "source": [
    "# Time-Elapsed Training Deep Classifier\n",
    "Architope_deep_classifier_training = time.time() - Architope_deep_classifier_training_begin"
   ]
  },
  {
   "cell_type": "markdown",
   "metadata": {},
   "source": [
    "Make Prediction(s)"
   ]
  },
  {
   "cell_type": "code",
   "execution_count": 70,
   "metadata": {},
   "outputs": [],
   "source": [
    "# Training Set\n",
    "Architope_prediction_y_train = np.take_along_axis(predictions_train, predicted_classes_train[:,None], axis=1)\n",
    "# Testing Set\n",
    "Architope_prediction_y_test = np.take_along_axis(predictions_test, predicted_classes_test[:,None], axis=1)"
   ]
  },
  {
   "cell_type": "markdown",
   "metadata": {},
   "source": [
    "#### Write Predictions"
   ]
  },
  {
   "cell_type": "markdown",
   "metadata": {},
   "source": [
    "Compute Performance"
   ]
  },
  {
   "cell_type": "code",
   "execution_count": 71,
   "metadata": {},
   "outputs": [
    {
     "name": "stdout",
     "output_type": "stream",
     "text": [
      "          train       test\n",
      "MAE    0.112921   0.112921\n",
      "MSE    0.040453   0.040453\n",
      "MAPE  41.261743  41.261743\n"
     ]
    }
   ],
   "source": [
    "# Compute Peformance\n",
    "performance_Architope = reporter(y_train_hat_in=Architope_prediction_y_train,\n",
    "                                    y_test_hat_in=Architope_prediction_y_test,\n",
    "                                    y_train_in=y_train,\n",
    "                                    y_test_in=y_test)\n",
    "# Write Performance\n",
    "performance_Architope.to_latex((results_tables_path+\"Architopes_full_performance.tex\"))\n",
    "\n",
    "# Update User\n",
    "print(performance_Architope)"
   ]
  },
  {
   "cell_type": "markdown",
   "metadata": {},
   "source": [
    "---"
   ]
  },
  {
   "cell_type": "markdown",
   "metadata": {},
   "source": [
    "---"
   ]
  },
  {
   "cell_type": "markdown",
   "metadata": {},
   "source": [
    "---"
   ]
  },
  {
   "cell_type": "markdown",
   "metadata": {},
   "source": [
    "### Model Complexity/Efficiency Metrics"
   ]
  },
  {
   "cell_type": "code",
   "execution_count": 72,
   "metadata": {},
   "outputs": [
    {
     "name": "stdout",
     "output_type": "stream",
     "text": [
      "      L-time    P-time  N_params_expt    AIC-like    Eff\n",
      "0  87.438187  4.224885         251826  503656.362  1.404\n"
     ]
    }
   ],
   "source": [
    "# Compute Parameters for composite models #\n",
    "#-----------------------------------------#\n",
    "N_params_Architope_full = N_params_Architope + N_params_deep_classifier\n",
    "\n",
    "# Build AIC-like Metric #\n",
    "#-----------------------#\n",
    "AIC_like = 2*(N_params_Architope_full - np.log((performance_Architope['test']['MAE'])))\n",
    "AIC_like = np.round(AIC_like,3)\n",
    "Efficiency = np.log(N_params_Architope_full) *(performance_Architope['test']['MAE'])\n",
    "Efficiency = np.round(Efficiency,3)\n",
    "\n",
    "\n",
    "# Build Table #\n",
    "#-------------#\n",
    "Architope_Model_Complexity_full = pd.DataFrame({'L-time': [Architope_partition_training],\n",
    "                                                  'P-time':[Architope_partitioning_max_time_running],\n",
    "                                                  'N_params_expt': [N_params_Architope_full],\n",
    "                                                  'AIC-like': [AIC_like],\n",
    "                                                  'Eff': [Efficiency]})\n",
    "\n",
    "\n",
    "# Write Required Training Time(s)\n",
    "Architope_Model_Complexity_full.to_latex((results_tables_path+\"Architope_full_model_complexities.tex\"))\n",
    "\n",
    "#--------------======---------------#\n",
    "# Display Required Training Time(s) #\n",
    "#--------------======---------------#\n",
    "print(Architope_Model_Complexity_full)"
   ]
  },
  {
   "cell_type": "markdown",
   "metadata": {},
   "source": [
    "---\n",
    "---\n",
    "# Benchmark(s)\n",
    "---\n",
    "---"
   ]
  },
  {
   "cell_type": "markdown",
   "metadata": {},
   "source": [
    "### Architope with Logistic-Classifier Partitioning\n",
    "#### Train Logistic Classifier (Benchmark)"
   ]
  },
  {
   "cell_type": "code",
   "execution_count": 73,
   "metadata": {},
   "outputs": [],
   "source": [
    "# Time-Elapsed Training linear classifier\n",
    "Architope_logistic_classifier_training_begin = time.time()"
   ]
  },
  {
   "cell_type": "code",
   "execution_count": 74,
   "metadata": {},
   "outputs": [],
   "source": [
    "parameters = {'penalty': ['none','l1', 'l2'], 'C': [0.1, 0.5, 1.0, 10, 100, 1000]}\n",
    "lr = LogisticRegression(random_state=2020)\n",
    "cv = RepeatedStratifiedKFold(n_splits=CV_folds, n_repeats=n_iter, random_state=0)\n",
    "classifier = RandomizedSearchCV(lr, parameters, random_state=2020)\n",
    "\n",
    "# Initialize Classes Labels\n",
    "partition_labels_training = np.argmin(training_quality,axis=-1)"
   ]
  },
  {
   "cell_type": "markdown",
   "metadata": {},
   "source": [
    "#### Train Logistic Classifier"
   ]
  },
  {
   "cell_type": "code",
   "execution_count": 75,
   "metadata": {},
   "outputs": [
    {
     "name": "stdout",
     "output_type": "stream",
     "text": [
      "[0 0 0 ... 2 2 2]\n"
     ]
    }
   ],
   "source": [
    "# Update User on shape of learned partition\n",
    "print(partition_labels_training)"
   ]
  },
  {
   "cell_type": "code",
   "execution_count": 76,
   "metadata": {},
   "outputs": [
    {
     "name": "stdout",
     "output_type": "stream",
     "text": [
      "Training classifier and generating partition!\n"
     ]
    },
    {
     "data": {
      "text/plain": [
       "RandomizedSearchCV(cv=None, error_score=nan,\n",
       "                   estimator=LogisticRegression(C=1.0, class_weight=None,\n",
       "                                                dual=False, fit_intercept=True,\n",
       "                                                intercept_scaling=1,\n",
       "                                                l1_ratio=None, max_iter=100,\n",
       "                                                multi_class='auto', n_jobs=None,\n",
       "                                                penalty='l2', random_state=2020,\n",
       "                                                solver='lbfgs', tol=0.0001,\n",
       "                                                verbose=0, warm_start=False),\n",
       "                   iid='deprecated', n_iter=10, n_jobs=None,\n",
       "                   param_distributions={'C': [0.1, 0.5, 1.0, 10, 100, 1000],\n",
       "                                        'penalty': ['none', 'l1', 'l2']},\n",
       "                   pre_dispatch='2*n_jobs', random_state=2020, refit=True,\n",
       "                   return_train_score=False, scoring=None, verbose=0)"
      ]
     },
     "execution_count": 76,
     "metadata": {},
     "output_type": "execute_result"
    }
   ],
   "source": [
    "# Update User #\n",
    "#-------------#\n",
    "print(\"Training classifier and generating partition!\")\n",
    "\n",
    "# Train Logistic Classifier #\n",
    "#---------------------------#\n",
    "# Supress warnings caused by \"ignoring C\" for 'none' penalty and similar obvious warnings\n",
    "warnings.simplefilter(\"ignore\")\n",
    "# Train Classifier\n",
    "classifier.fit(X_train, partition_labels_training)"
   ]
  },
  {
   "cell_type": "markdown",
   "metadata": {},
   "source": [
    "#### Write Predicted Class(es)"
   ]
  },
  {
   "cell_type": "code",
   "execution_count": 77,
   "metadata": {},
   "outputs": [],
   "source": [
    "# Training Set\n",
    "predicted_classes_train_logistic_BM = classifier.best_estimator_.predict(X_train)\n",
    "Architope_prediction_y_train_logistic_BM = np.take_along_axis(predictions_train, predicted_classes_train_logistic_BM[:,None], axis=1)\n",
    "\n",
    "# Testing Set\n",
    "predicted_classes_test_logistic_BM = classifier.best_estimator_.predict(X_test)\n",
    "Architope_prediction_y_test_logistic_BM = np.take_along_axis(predictions_test, predicted_classes_test_logistic_BM[:,None], axis=1)\n",
    "\n",
    "# Extract Number of Parameters Logistic Regressor\n",
    "N_params_best_logistic = (classifier.best_estimator_.coef_.shape[0])*(classifier.best_estimator_.coef_.shape[1]) + len(classifier.best_estimator_.intercept_)"
   ]
  },
  {
   "cell_type": "code",
   "execution_count": 78,
   "metadata": {},
   "outputs": [],
   "source": [
    "# Time-Elapsed Training linear classifier\n",
    "Architope_logistic_classifier_training = time.time() - Architope_logistic_classifier_training_begin"
   ]
  },
  {
   "cell_type": "markdown",
   "metadata": {},
   "source": [
    "#### Compute Performance"
   ]
  },
  {
   "cell_type": "code",
   "execution_count": 79,
   "metadata": {},
   "outputs": [
    {
     "name": "stdout",
     "output_type": "stream",
     "text": [
      "          train       test\n",
      "MAE    0.154933   0.154933\n",
      "MSE    0.048416   0.048416\n",
      "MAPE  82.255966  82.255966\n"
     ]
    }
   ],
   "source": [
    "# Compute Peformance\n",
    "performance_architope_ffNN_logistic = reporter(y_train_hat_in=Architope_prediction_y_train_logistic_BM,\n",
    "                                    y_test_hat_in=Architope_prediction_y_test_logistic_BM,\n",
    "                                    y_train_in=y_train,\n",
    "                                    y_test_in=y_test)\n",
    "# Write Performance\n",
    "performance_architope_ffNN_logistic.to_latex((results_tables_path+\"Architopes_logistic_performance.tex\"))\n",
    "\n",
    "# Update User\n",
    "print(performance_architope_ffNN_logistic)"
   ]
  },
  {
   "cell_type": "markdown",
   "metadata": {},
   "source": [
    "---\n",
    "## Bagged Feed-Forward Networks (ffNNs)"
   ]
  },
  {
   "cell_type": "code",
   "execution_count": 80,
   "metadata": {},
   "outputs": [],
   "source": [
    "# Time for Bagging\n",
    "Bagging_ffNN_bagging_time_begin = time.time()"
   ]
  },
  {
   "cell_type": "code",
   "execution_count": 81,
   "metadata": {},
   "outputs": [],
   "source": [
    "# Train Bagging Weights in-sample\n",
    "bagging_coefficients = LinearRegression().fit(predictions_train,y_train)\n",
    "\n",
    "# Predict Bagging Weights out-of-sample\n",
    "bagged_prediction_train = bagging_coefficients.predict(predictions_train)\n",
    "bagged_prediction_test = bagging_coefficients.predict(predictions_test)\n",
    "\n",
    "# Write number of trainable bagging parameters\n",
    "N_bagged_parameters = len(bagging_coefficients.coef_) + 1"
   ]
  },
  {
   "cell_type": "code",
   "execution_count": 82,
   "metadata": {},
   "outputs": [],
   "source": [
    "# Time for Bagging\n",
    "Bagging_ffNN_bagging_time = time.time() - Bagging_ffNN_bagging_time_begin"
   ]
  },
  {
   "cell_type": "code",
   "execution_count": 83,
   "metadata": {},
   "outputs": [
    {
     "name": "stdout",
     "output_type": "stream",
     "text": [
      "Written Bagged Performance\n",
      "          train       test\n",
      "MAE    0.140856   0.140856\n",
      "MSE    0.036391   0.036391\n",
      "MAPE  74.566549  74.566549\n"
     ]
    }
   ],
   "source": [
    "# Compute Peformance\n",
    "performance_bagged_ffNN = reporter(y_train_hat_in=bagged_prediction_train,\n",
    "                                    y_test_hat_in=bagged_prediction_test,\n",
    "                                    y_train_in=y_train,\n",
    "                                    y_test_in=y_test)\n",
    "# Write Performance\n",
    "performance_bagged_ffNN.to_latex((results_tables_path+\"ffNN_Bagged.tex\"))\n",
    "\n",
    "# Update User\n",
    "print(\"Written Bagged Performance\")\n",
    "print(performance_bagged_ffNN)"
   ]
  },
  {
   "cell_type": "code",
   "execution_count": 84,
   "metadata": {},
   "outputs": [
    {
     "name": "stdout",
     "output_type": "stream",
     "text": [
      "Random Partition: Generated!...Feature Generation Complete!\n"
     ]
    }
   ],
   "source": [
    "print(\"Random Partition: Generated!...Feature Generation Complete!\")"
   ]
  },
  {
   "cell_type": "markdown",
   "metadata": {},
   "source": [
    "## Vanilla ffNN\n",
    "#### Reload Hyper-parameter Grid"
   ]
  },
  {
   "cell_type": "code",
   "execution_count": 85,
   "metadata": {},
   "outputs": [
    {
     "name": "stdout",
     "output_type": "stream",
     "text": [
      "Deep Feature Builder - Ready\n",
      "Deep Classifier - Ready\n"
     ]
    }
   ],
   "source": [
    "# Re-Load Hyper-parameter Grid\n",
    "exec(open('Grid_Enhanced_Network.py').read())\n",
    "# Re-Load Helper Function(s)\n",
    "exec(open('Helper_Functions.py').read())\n",
    "# Update Dimensions\n",
    "param_grid_Vanilla_Nets['input_dim'] = [X_train.shape[1]]"
   ]
  },
  {
   "cell_type": "code",
   "execution_count": 86,
   "metadata": {},
   "outputs": [],
   "source": [
    "# Time for Bagging\n",
    "Vanilla_ffNN_time_beginn = time.time()"
   ]
  },
  {
   "cell_type": "code",
   "execution_count": 87,
   "metadata": {},
   "outputs": [
    {
     "name": "stdout",
     "output_type": "stream",
     "text": [
      "Fitting 2 folds for each of 1 candidates, totalling 2 fits\n"
     ]
    },
    {
     "name": "stderr",
     "output_type": "stream",
     "text": [
      "[Parallel(n_jobs=4)]: Using backend LokyBackend with 4 concurrent workers.\n",
      "[Parallel(n_jobs=4)]: Done   2 out of   2 | elapsed:    7.6s remaining:    0.0s\n",
      "[Parallel(n_jobs=4)]: Done   2 out of   2 | elapsed:    7.6s finished\n"
     ]
    },
    {
     "name": "stdout",
     "output_type": "stream",
     "text": [
      "Epoch 1/50\n",
      "94/94 [==============================] - 0s 1ms/step - loss: 0.1618 - mse: 0.0656 - mae: 0.1618 - mape: 323.4833\n",
      "Epoch 2/50\n",
      "94/94 [==============================] - 0s 1ms/step - loss: 0.1562 - mse: 0.0522 - mae: 0.1562 - mape: 314.5051\n",
      "Epoch 3/50\n",
      "94/94 [==============================] - 0s 1ms/step - loss: 0.1554 - mse: 0.0489 - mae: 0.1554 - mape: 360.7039\n",
      "Epoch 4/50\n",
      "94/94 [==============================] - 0s 1ms/step - loss: 0.1543 - mse: 0.0464 - mae: 0.1543 - mape: 404.8835\n",
      "Epoch 5/50\n",
      "94/94 [==============================] - 0s 1ms/step - loss: 0.1535 - mse: 0.0441 - mae: 0.1535 - mape: 498.3145\n",
      "Epoch 6/50\n",
      "94/94 [==============================] - 0s 1ms/step - loss: 0.1523 - mse: 0.0438 - mae: 0.1523 - mape: 526.3344\n",
      "Epoch 7/50\n",
      "94/94 [==============================] - 0s 1ms/step - loss: 0.1513 - mse: 0.0442 - mae: 0.1513 - mape: 560.9385\n",
      "Epoch 8/50\n",
      "94/94 [==============================] - 0s 1ms/step - loss: 0.1505 - mse: 0.0458 - mae: 0.1505 - mape: 556.6848\n",
      "Epoch 9/50\n",
      "94/94 [==============================] - 0s 1ms/step - loss: 0.1490 - mse: 0.0468 - mae: 0.1490 - mape: 509.0535\n",
      "Epoch 10/50\n",
      "94/94 [==============================] - 0s 1ms/step - loss: 0.1479 - mse: 0.0488 - mae: 0.1479 - mape: 502.5299\n",
      "Epoch 11/50\n",
      "94/94 [==============================] - 0s 985us/step - loss: 0.1460 - mse: 0.0551 - mae: 0.1460 - mape: 472.8869\n",
      "Epoch 12/50\n",
      "94/94 [==============================] - 0s 1ms/step - loss: 0.1442 - mse: 0.0570 - mae: 0.1442 - mape: 359.9161\n",
      "Epoch 13/50\n",
      "94/94 [==============================] - 0s 1ms/step - loss: 0.1422 - mse: 0.0658 - mae: 0.1422 - mape: 338.5612\n",
      "Epoch 14/50\n",
      "94/94 [==============================] - 0s 1ms/step - loss: 0.1409 - mse: 0.0693 - mae: 0.1409 - mape: 330.7202\n",
      "Epoch 15/50\n",
      "94/94 [==============================] - 0s 1ms/step - loss: 0.1412 - mse: 0.0682 - mae: 0.1412 - mape: 342.6147\n",
      "Epoch 16/50\n",
      "94/94 [==============================] - 0s 1ms/step - loss: 0.1406 - mse: 0.0710 - mae: 0.1406 - mape: 348.5282\n",
      "Epoch 17/50\n",
      "94/94 [==============================] - 0s 1ms/step - loss: 0.1405 - mse: 0.0698 - mae: 0.1405 - mape: 354.0360\n",
      "Epoch 18/50\n",
      "94/94 [==============================] - 0s 1ms/step - loss: 0.1407 - mse: 0.0694 - mae: 0.1407 - mape: 356.5469\n",
      "Epoch 19/50\n",
      "94/94 [==============================] - 0s 970us/step - loss: 0.1405 - mse: 0.0683 - mae: 0.1405 - mape: 361.4586\n",
      "Epoch 20/50\n",
      "94/94 [==============================] - 0s 977us/step - loss: 0.1404 - mse: 0.0694 - mae: 0.1404 - mape: 343.8582\n",
      "Epoch 21/50\n",
      "94/94 [==============================] - 0s 1ms/step - loss: 0.1405 - mse: 0.0698 - mae: 0.1405 - mape: 355.3660\n",
      "Epoch 22/50\n",
      "94/94 [==============================] - 0s 3ms/step - loss: 0.1403 - mse: 0.0706 - mae: 0.1403 - mape: 357.5621\n",
      "Epoch 23/50\n",
      "94/94 [==============================] - 0s 988us/step - loss: 0.1410 - mse: 0.0678 - mae: 0.1410 - mape: 362.0953\n",
      "Epoch 24/50\n",
      "94/94 [==============================] - 0s 1ms/step - loss: 0.1404 - mse: 0.0697 - mae: 0.1404 - mape: 351.3389\n",
      "Epoch 25/50\n",
      "94/94 [==============================] - 0s 977us/step - loss: 0.1403 - mse: 0.0688 - mae: 0.1403 - mape: 357.1444\n",
      "Epoch 26/50\n",
      "94/94 [==============================] - 0s 1ms/step - loss: 0.1406 - mse: 0.0680 - mae: 0.1406 - mape: 347.1064\n",
      "Epoch 27/50\n",
      "94/94 [==============================] - 0s 2ms/step - loss: 0.1404 - mse: 0.0670 - mae: 0.1404 - mape: 353.1927\n",
      "Epoch 28/50\n",
      "94/94 [==============================] - 0s 2ms/step - loss: 0.1400 - mse: 0.0704 - mae: 0.1400 - mape: 345.4070\n",
      "Epoch 29/50\n",
      "94/94 [==============================] - 0s 2ms/step - loss: 0.1401 - mse: 0.0706 - mae: 0.1401 - mape: 341.8682\n",
      "Epoch 30/50\n",
      "94/94 [==============================] - 0s 1ms/step - loss: 0.1403 - mse: 0.0700 - mae: 0.1403 - mape: 341.6894\n",
      "Epoch 31/50\n",
      "94/94 [==============================] - 0s 1ms/step - loss: 0.1404 - mse: 0.0675 - mae: 0.1404 - mape: 336.3065\n",
      "Epoch 32/50\n",
      "94/94 [==============================] - 0s 1ms/step - loss: 0.1405 - mse: 0.0651 - mae: 0.1405 - mape: 336.0985\n",
      "Epoch 33/50\n",
      "94/94 [==============================] - 0s 1ms/step - loss: 0.1402 - mse: 0.0704 - mae: 0.1402 - mape: 340.9756\n",
      "Epoch 34/50\n",
      "94/94 [==============================] - 0s 1ms/step - loss: 0.1405 - mse: 0.0687 - mae: 0.1405 - mape: 334.8969\n",
      "Epoch 35/50\n",
      "94/94 [==============================] - 0s 988us/step - loss: 0.1398 - mse: 0.0715 - mae: 0.1398 - mape: 334.8899\n",
      "Epoch 36/50\n",
      "94/94 [==============================] - 0s 976us/step - loss: 0.1399 - mse: 0.0712 - mae: 0.1399 - mape: 342.7618\n",
      "Epoch 37/50\n",
      "94/94 [==============================] - 0s 996us/step - loss: 0.1402 - mse: 0.0696 - mae: 0.1402 - mape: 333.5335\n",
      "Epoch 38/50\n",
      "94/94 [==============================] - 0s 981us/step - loss: 0.1398 - mse: 0.0711 - mae: 0.1398 - mape: 334.4708\n",
      "Epoch 39/50\n",
      "94/94 [==============================] - 0s 1ms/step - loss: 0.1399 - mse: 0.0708 - mae: 0.1399 - mape: 330.4087\n",
      "Epoch 40/50\n",
      "94/94 [==============================] - 0s 1ms/step - loss: 0.1401 - mse: 0.0699 - mae: 0.1401 - mape: 337.2624\n",
      "Epoch 41/50\n",
      "94/94 [==============================] - 0s 2ms/step - loss: 0.1414 - mse: 0.0624 - mae: 0.1414 - mape: 333.4621\n",
      "Epoch 42/50\n",
      "94/94 [==============================] - 0s 2ms/step - loss: 0.1404 - mse: 0.0655 - mae: 0.1404 - mape: 341.3638\n",
      "Epoch 43/50\n",
      "94/94 [==============================] - 0s 1ms/step - loss: 0.1401 - mse: 0.0688 - mae: 0.1401 - mape: 329.0392\n",
      "Epoch 44/50\n",
      "94/94 [==============================] - 0s 1ms/step - loss: 0.1399 - mse: 0.0702 - mae: 0.1399 - mape: 325.0540\n",
      "Epoch 45/50\n",
      "94/94 [==============================] - 0s 2ms/step - loss: 0.1401 - mse: 0.0690 - mae: 0.1401 - mape: 328.2559\n",
      "Epoch 46/50\n",
      "94/94 [==============================] - 0s 3ms/step - loss: 0.1400 - mse: 0.0703 - mae: 0.1400 - mape: 323.5009\n",
      "Epoch 47/50\n",
      "94/94 [==============================] - 0s 2ms/step - loss: 0.1398 - mse: 0.0705 - mae: 0.1398 - mape: 332.1473\n",
      "Epoch 48/50\n",
      "94/94 [==============================] - 0s 1ms/step - loss: 0.1400 - mse: 0.0707 - mae: 0.1400 - mape: 327.1841\n",
      "Epoch 49/50\n",
      "94/94 [==============================] - 0s 1ms/step - loss: 0.1401 - mse: 0.0697 - mae: 0.1401 - mape: 335.9933\n",
      "Epoch 50/50\n",
      "94/94 [==============================] - 0s 2ms/step - loss: 0.1398 - mse: 0.0700 - mae: 0.1398 - mape: 323.6651\n",
      "94/94 [==============================] - 0s 757us/step\n",
      "94/94 [==============================] - 0s 757us/step\n"
     ]
    }
   ],
   "source": [
    "#X_train vanilla ffNNs\n",
    "y_hat_train_Vanilla_ffNN, y_hat_test_Vanilla_ffNN, N_params_Vanilla_ffNN = build_ffNN(n_folds = CV_folds_failsafe, \n",
    "                                                                                   n_jobs = n_jobs, \n",
    "                                                                                   n_iter = n_iter, \n",
    "                                                                                   param_grid_in = param_grid_Vanilla_Nets, \n",
    "                                                                                   X_train=X_train, \n",
    "                                                                                   y_train=data_y, \n",
    "                                                                                   X_test_partial=X_train,\n",
    "                                                                                   X_test=X_test)"
   ]
  },
  {
   "cell_type": "code",
   "execution_count": 88,
   "metadata": {},
   "outputs": [],
   "source": [
    "# Time for Bagging\n",
    "Vanilla_ffNN_time = time.time() - Vanilla_ffNN_time_beginn"
   ]
  },
  {
   "cell_type": "code",
   "execution_count": 89,
   "metadata": {},
   "outputs": [
    {
     "name": "stdout",
     "output_type": "stream",
     "text": [
      "Trained vanilla ffNNs\n"
     ]
    }
   ],
   "source": [
    "# Update User #\n",
    "#-------------#\n",
    "print(\"Trained vanilla ffNNs\")"
   ]
  },
  {
   "cell_type": "markdown",
   "metadata": {},
   "source": [
    "#### Evaluate Performance"
   ]
  },
  {
   "cell_type": "code",
   "execution_count": 90,
   "metadata": {},
   "outputs": [
    {
     "name": "stdout",
     "output_type": "stream",
     "text": [
      "Written Bagged Vanilla ffNNs\n",
      "          train       test\n",
      "MAE    0.140784   0.140784\n",
      "MSE    0.063841   0.063841\n",
      "MAPE  73.887985  73.887985\n"
     ]
    }
   ],
   "source": [
    "# Compute Peformance\n",
    "performance_Vanilla_ffNN = reporter(y_train_hat_in=y_hat_train_Vanilla_ffNN,y_test_hat_in=y_hat_test_Vanilla_ffNN,y_train_in=y_train,y_test_in=y_test)\n",
    "# Write Performance\n",
    "performance_Vanilla_ffNN.to_latex((results_tables_path+\"ffNN_Vanilla.tex\"))\n",
    "\n",
    "# Update User #\n",
    "#-------------#\n",
    "print(\"Written Bagged Vanilla ffNNs\")\n",
    "print(performance_Vanilla_ffNN)"
   ]
  },
  {
   "cell_type": "markdown",
   "metadata": {},
   "source": [
    "#### Compute Required Training Time(s)"
   ]
  },
  {
   "cell_type": "code",
   "execution_count": 91,
   "metadata": {},
   "outputs": [],
   "source": [
    "# In-Line #\n",
    "#---------#\n",
    "\n",
    "# Architope (Full) Time Lapse\n",
    "Architope_Full_Time = partitioning_time + Architope_partition_training + Architope_deep_classifier_training\n",
    "# Architope (Logistic) Time Lapse\n",
    "Architope_logistic_Time = partitioning_time + Architope_partition_training + Architope_logistic_classifier_training\n",
    "# Bagged ffNN Training Time\n",
    "Bagged_ffNN_Time = partitioning_time + Architope_partition_training + Bagging_ffNN_bagging_time\n",
    "# Vanilla ffNN\n",
    "Vanilla_ffNN_Time = Vanilla_ffNN_time\n",
    "\n",
    "# Parallel (Only if applicable) #\n",
    "#-------------------------------#\n",
    "\n",
    "# Architope (Full) Time Lapse\n",
    "Architope_Full_Time_parallel = partitioning_time + Architope_partitioning_max_time_running + Architope_deep_classifier_training\n",
    "# Architope (Logistic) Time Lapse\n",
    "Architope_logistic_Time_parallel = partitioning_time + Architope_partitioning_max_time_running + Architope_logistic_classifier_training\n",
    "# Bagged ffNN Training Time\n",
    "Bagged_ffNN_Time_parallel = partitioning_time + Architope_partitioning_max_time_running + Bagging_ffNN_bagging_time"
   ]
  },
  {
   "cell_type": "markdown",
   "metadata": {},
   "source": [
    "#### Write Required Training Times"
   ]
  },
  {
   "cell_type": "code",
   "execution_count": 92,
   "metadata": {},
   "outputs": [
    {
     "name": "stdout",
     "output_type": "stream",
     "text": [
      "Writing preliminary table: Required Training Times\n",
      "   Architope  Architope-logistic Vanilla ffNN  Bagged ffNN\n",
      "0    155.646             117.403       15.185       88.895\n",
      "0     72.433              34.190            -        5.682\n"
     ]
    }
   ],
   "source": [
    "# Update User #\n",
    "#-------------#\n",
    "print('Writing preliminary table: Required Training Times')\n",
    "\n",
    "# Format Required Training Time(s)\n",
    "training_times_In_Line = pd.DataFrame({'Architope': [round(Architope_Full_Time,3)],\n",
    "                                'Architope-logistic': [round(Architope_logistic_Time,3)],\n",
    "                                'Vanilla ffNN': [round(Vanilla_ffNN_Time,3)],\n",
    "                                'Bagged ffNN': [round(Bagged_ffNN_Time,3)]})\n",
    "training_times_Parallel = pd.DataFrame({'Architope': [round(Architope_Full_Time_parallel,3)],\n",
    "                                'Architope-logistic': [round(Architope_logistic_Time_parallel,3)],\n",
    "                                'Vanilla ffNN': ['-'],\n",
    "                                'Bagged ffNN': [round(Bagged_ffNN_Time_parallel,3)]})\n",
    "\n",
    "# Combine Training Times into Single Data-Frame #\n",
    "#-----------------------------------------------#\n",
    "Model_Training_times = training_times_In_Line.append(training_times_Parallel)\n",
    "\n",
    "# Write Required Training Time(s)\n",
    "Model_Training_times.to_latex((results_tables_path+\"Model_Training_Times.tex\"))\n",
    "# Display Required Training Time(s)\n",
    "print(Model_Training_times)"
   ]
  },
  {
   "cell_type": "markdown",
   "metadata": {},
   "source": [
    "## Run: Gradient Boosted Random Forest Regression"
   ]
  },
  {
   "cell_type": "code",
   "execution_count": 93,
   "metadata": {},
   "outputs": [
    {
     "name": "stdout",
     "output_type": "stream",
     "text": [
      "Training Gradient-Boosted Random Forest: In-progress...\n",
      "Fitting 2 folds for each of 1 candidates, totalling 2 fits\n",
      "Gradient Boosted Trees Model - Done CV!\n",
      "Random Forest Regressor uses: 70 parameters.\n",
      "          train       test\n",
      "MAE    0.151008   0.151008\n",
      "MSE    0.033405   0.033405\n",
      "MAPE  77.563713  77.563713\n",
      "Training of Gradient-Boosted Random Forest: Complete!\n"
     ]
    },
    {
     "name": "stderr",
     "output_type": "stream",
     "text": [
      "[Parallel(n_jobs=4)]: Using backend LokyBackend with 4 concurrent workers.\n",
      "[Parallel(n_jobs=4)]: Batch computation too fast (0.0225s.) Setting batch_size=2.\n",
      "[Parallel(n_jobs=4)]: Done   2 out of   2 | elapsed:    0.0s remaining:    0.0s\n",
      "[Parallel(n_jobs=4)]: Done   2 out of   2 | elapsed:    0.0s finished\n"
     ]
    }
   ],
   "source": [
    "# Update User #\n",
    "#-------------#\n",
    "print('Training Gradient-Boosted Random Forest: In-progress...')\n",
    "# Run from External Script\n",
    "exec(open('Gradient_Boosted_Random_Forest_Regressor.py').read())\n",
    "\n",
    "# Update User #\n",
    "#-------------#\n",
    "print('Training of Gradient-Boosted Random Forest: Complete!')"
   ]
  },
  {
   "cell_type": "markdown",
   "metadata": {},
   "source": [
    "## Training Result(s)\n",
    "#### (Update) Write Required Training Times"
   ]
  },
  {
   "cell_type": "code",
   "execution_count": 94,
   "metadata": {},
   "outputs": [
    {
     "name": "stdout",
     "output_type": "stream",
     "text": [
      "Completing Table: Required Training Times\n",
      "                   In-Line (L-Time) Parallel (P-Time)\n",
      "Vanilla ffNN                 15.185                 -\n",
      "Grad.Bstd Rand.F              0.084                 -\n",
      "Bagged ffNN                  88.895             5.682\n",
      "Architope-logistic          117.403             34.19\n",
      "Architope                   155.646            72.433\n"
     ]
    }
   ],
   "source": [
    "# Update User #\n",
    "#-------------#\n",
    "print('Completing Table: Required Training Times')\n",
    "\n",
    "# Format Required Training Time(s)\n",
    "training_times_In_Line = pd.DataFrame({'Vanilla ffNN': [round(Vanilla_ffNN_Time,3)],\n",
    "                                       'Grad.Bstd Rand.F': [round(Gradient_boosted_Random_forest_time,3)],\n",
    "                                       'Bagged ffNN': [round(Bagged_ffNN_Time,3)],\n",
    "                                       'Architope-logistic': [round(Architope_logistic_Time,3)],\n",
    "                                       'Architope': [round(Architope_Full_Time,3)]\n",
    "                                      },index=['In-Line (L-Time)'])\n",
    "\n",
    "training_times_Parallel = pd.DataFrame({'Vanilla ffNN': ['-'],\n",
    "                                        'Grad.Bstd Rand.F': ['-'],\n",
    "                                        'Bagged ffNN': [round(Bagged_ffNN_Time_parallel,3)],\n",
    "                                        'Architope-logistic': [round(Architope_logistic_Time_parallel,3)],\n",
    "                                        'Architope': [round(Architope_Full_Time_parallel,3)]},index=['Parallel (P-Time)'])\n",
    "\n",
    "# Combine Training Times into Single Data-Frame #\n",
    "#-----------------------------------------------#\n",
    "Model_Training_times = training_times_In_Line.append(training_times_Parallel)\n",
    "Model_Training_times = Model_Training_times.transpose()\n",
    "\n",
    "# Write Required Training Time(s)\n",
    "Model_Training_times.to_latex((results_tables_path+\"Model_Training_Times.tex\"))\n",
    "# Display Required Training Time(s)\n",
    "print(Model_Training_times)"
   ]
  },
  {
   "cell_type": "markdown",
   "metadata": {},
   "source": [
    "### Prediction Metric(s)\n",
    "#### Write Predictive Performance Dataframe(s)"
   ]
  },
  {
   "cell_type": "code",
   "execution_count": 95,
   "metadata": {},
   "outputs": [
    {
     "name": "stdout",
     "output_type": "stream",
     "text": [
      "               MAE       MSE       MAPE\n",
      "ffNN      0.140784  0.063841  73.887985\n",
      "GBRF      0.151008  0.033405  77.563713\n",
      "ffNN-bag  0.140856  0.036391  74.566549\n",
      "ffNN-lgt  0.154933  0.048416  82.255966\n",
      "tope      0.112921  0.040453  41.261743\n"
     ]
    }
   ],
   "source": [
    "# Write Training Performance\n",
    "predictive_performance_training = pd.DataFrame({'ffNN': performance_Vanilla_ffNN.train,\n",
    "                                                'GBRF': Gradient_boosted_tree.train,\n",
    "                                                'ffNN-bag': performance_bagged_ffNN.train,\n",
    "                                                'ffNN-lgt': performance_architope_ffNN_logistic.train,\n",
    "                                                'tope': performance_Architope.train})\n",
    "predictive_performance_training = predictive_performance_training.transpose()\n",
    "\n",
    "# Write Testing Performance\n",
    "predictive_performance_test = pd.DataFrame({'ffNN': performance_Vanilla_ffNN.test,\n",
    "                                            'GBRF': Gradient_boosted_tree.test,\n",
    "                                            'ffNN-bag': performance_bagged_ffNN.test,\n",
    "                                            'ffNN-lgt': performance_architope_ffNN_logistic.test,\n",
    "                                            'tope': performance_Architope.test})\n",
    "predictive_performance_test = predictive_performance_test.transpose()\n",
    "\n",
    "# Write into one Dataframe #\n",
    "#--------------------------#\n",
    "predictive_performance_training.to_latex((results_tables_path+\"Models_predictive_performance_training.tex\"))\n",
    "predictive_performance_test.to_latex((results_tables_path+\"Models_predictive_performance_testing.tex\"))\n",
    "\n",
    "# Update User #\n",
    "#-------------#\n",
    "print(predictive_performance_training)"
   ]
  },
  {
   "cell_type": "markdown",
   "metadata": {},
   "source": [
    "### Model Complexity/Efficiency Metrics"
   ]
  },
  {
   "cell_type": "code",
   "execution_count": 96,
   "metadata": {},
   "outputs": [
    {
     "name": "stdout",
     "output_type": "stream",
     "text": [
      "                   In-Line (L-Time) Parallel (P-Time)   N_par    AIC_like  \\\n",
      "Vanilla ffNN                 15.185                 -   10401   20805.921   \n",
      "Grad.Bstd Rand.F              0.084                 -      70     143.781   \n",
      "Bagged ffNN                  88.895             5.682  164427  328857.920   \n",
      "Architope-logistic          117.403             34.19  164453  328909.730   \n",
      "Architope                   155.646            72.433  251826  503656.362   \n",
      "\n",
      "                      Eff  \n",
      "Vanilla ffNN        1.302  \n",
      "Grad.Bstd Rand.F    0.642  \n",
      "Bagged ffNN         1.692  \n",
      "Architope-logistic  1.861  \n",
      "Architope           1.404  \n"
     ]
    }
   ],
   "source": [
    "# Compute Parameters for composite models #\n",
    "#-----------------------------------------#\n",
    "N_params_Architope_full = N_params_Architope + N_params_deep_classifier\n",
    "N_params_Architope_logistic = N_params_Architope + N_params_best_logistic\n",
    "N_params_bagged_ffNN = N_params_Architope + N_bagged_parameters\n",
    "\n",
    "# Build Table #\n",
    "#-------------#\n",
    "Number_of_model_parameters = pd.DataFrame({'Vanilla ffNN': [N_params_Vanilla_ffNN],\n",
    "                                           'Grad.Bstd Rand.F': [N_tot_params_in_forest],\n",
    "                                           'Bagged ffNN': [N_params_bagged_ffNN],\n",
    "                                           'Architope-logistic': [N_params_Architope_logistic],\n",
    "                                           'Architope': [N_params_Architope_full]},\n",
    "                                            index=['N_par'])\n",
    "\n",
    "Number_of_model_parameters = Number_of_model_parameters.transpose()\n",
    "\n",
    "# Append to Dataframe #\n",
    "#---------------------#\n",
    "Model_Complexity_Metrics = Model_Training_times\n",
    "Model_Complexity_Metrics['N_par']=Number_of_model_parameters.values\n",
    "\n",
    "# Build AIC-like Metric #\n",
    "#-----------------------#\n",
    "AIC_like = 2*((Model_Complexity_Metrics.N_par.values) - np.log(predictive_performance_test.MAE.values))\n",
    "AIC_like = np.round(AIC_like,3)\n",
    "Efficiency = np.log(Model_Complexity_Metrics.N_par.values) *predictive_performance_test.MAE.values\n",
    "Efficiency = np.round(Efficiency,3)\n",
    "\n",
    "\n",
    "# Update Training Metrics Dataframe #\n",
    "#-----------------------------------#\n",
    "Model_Complexity_Metrics['AIC_like'] = AIC_like\n",
    "Model_Complexity_Metrics['Eff'] = Efficiency\n",
    "\n",
    "# Write Required Training Time(s)\n",
    "Model_Complexity_Metrics.to_latex((results_tables_path+\"Model_Complexity_Metrics.tex\"))\n",
    "\n",
    "#--------------======---------------#\n",
    "# Display Required Training Time(s) #\n",
    "#--------------======---------------#\n",
    "print(Model_Complexity_Metrics)"
   ]
  },
  {
   "cell_type": "markdown",
   "metadata": {},
   "source": [
    "# Summary"
   ]
  },
  {
   "cell_type": "code",
   "execution_count": 97,
   "metadata": {},
   "outputs": [
    {
     "name": "stdout",
     "output_type": "stream",
     "text": [
      " \n",
      " \n",
      "#-------------------#\n",
      " PERFORMANCE SUMMARY:\n",
      "#-------------------#\n",
      " \n",
      " \n",
      "#===================#\n",
      " Individual Metrics: \n",
      "#======-============#\n",
      " \n",
      "----------------------------------------\n",
      "----------------------------------------\n",
      "Architope (Full)\n",
      "----------------------------------------\n",
      "          train       test\n",
      "MAE    0.112921   0.112921\n",
      "MSE    0.040453   0.040453\n",
      "MAPE  41.261743  41.261743\n",
      "----------------------------------------\n",
      "Architope - Naive Logistic\n",
      "----------------------------------------\n",
      "          train       test\n",
      "MAE    0.154933   0.154933\n",
      "MSE    0.048416   0.048416\n",
      "MAPE  82.255966  82.255966\n",
      "----------------------------------------\n",
      "Vanilla ffNN\n",
      "----------------------------------------\n",
      "          train       test\n",
      "MAE    0.140784   0.140784\n",
      "MSE    0.063841   0.063841\n",
      "MAPE  73.887985  73.887985\n",
      "----------------------------------------\n",
      "Bagged ffNN\n",
      "----------------------------------------\n",
      "          train       test\n",
      "MAE    0.140856   0.140856\n",
      "MSE    0.036391   0.036391\n",
      "MAPE  74.566549  74.566549\n",
      "----------------------------------------\n",
      "Gradient Boosted Random Forest Regressor\n",
      "----------------------------------------\n",
      "          train       test\n",
      "MAE    0.151008   0.151008\n",
      "MSE    0.033405   0.033405\n",
      "MAPE  77.563713  77.563713\n",
      "----------------------------------------\n",
      "----------------------------------------\n",
      " \n",
      " \n",
      "#==================#\n",
      " Overview  Metrics : \n",
      "#==================#\n",
      " \n",
      "----------------------------------------\n",
      "Training Performance: \n",
      "----------------------------------------\n",
      "               MAE       MSE       MAPE\n",
      "ffNN      0.140784  0.063841  73.887985\n",
      "GBRF      0.151008  0.033405  77.563713\n",
      "ffNN-bag  0.140856  0.036391  74.566549\n",
      "ffNN-lgt  0.154933  0.048416  82.255966\n",
      "tope      0.112921  0.040453  41.261743\n",
      "----------------------------------------\n",
      "Testing Performance: \n",
      "----------------------------------------\n",
      "               MAE       MSE       MAPE\n",
      "ffNN      0.140784  0.063841  73.887985\n",
      "GBRF      0.151008  0.033405  77.563713\n",
      "ffNN-bag  0.140856  0.036391  74.566549\n",
      "ffNN-lgt  0.154933  0.048416  82.255966\n",
      "tope      0.112921  0.040453  41.261743\n",
      "----------------------------------------\n",
      " \n",
      " \n",
      "#====================#\n",
      " Efficiency Metrics: \n",
      "#====================#\n",
      " \n",
      "Model Training Times:\n",
      "----------------------------------------\n",
      "                   In-Line (L-Time) Parallel (P-Time)   N_par    AIC_like  \\\n",
      "Vanilla ffNN                 15.185                 -   10401   20805.921   \n",
      "Grad.Bstd Rand.F              0.084                 -      70     143.781   \n",
      "Bagged ffNN                  88.895             5.682  164427  328857.920   \n",
      "Architope-logistic          117.403             34.19  164453  328909.730   \n",
      "Architope                   155.646            72.433  251826  503656.362   \n",
      "\n",
      "                      Eff  \n",
      "Vanilla ffNN        1.302  \n",
      "Grad.Bstd Rand.F    0.642  \n",
      "Bagged ffNN         1.692  \n",
      "Architope-logistic  1.861  \n",
      "Architope           1.404  \n",
      " \n",
      " \n",
      "😃😃 Have a great day!! 😃😃 \n"
     ]
    }
   ],
   "source": [
    "print(' ')\n",
    "print(' ')\n",
    "print('#-------------------#')\n",
    "print(' PERFORMANCE SUMMARY:')\n",
    "print('#-------------------#')\n",
    "print(' ')\n",
    "print(' ')\n",
    "print('#===================#')\n",
    "print(' Individual Metrics: ')\n",
    "print('#======-============#')\n",
    "print(' ')\n",
    "print('----------------------------------------')\n",
    "print('----------------------------------------')\n",
    "print('Architope (Full)')\n",
    "print('----------------------------------------')\n",
    "print(performance_Architope)\n",
    "print('----------------------------------------')\n",
    "print('Architope - Naive Logistic')\n",
    "print('----------------------------------------')\n",
    "print(performance_architope_ffNN_logistic)\n",
    "print('----------------------------------------')\n",
    "print('Vanilla ffNN')\n",
    "print('----------------------------------------')\n",
    "print(performance_Vanilla_ffNN)\n",
    "print('----------------------------------------')\n",
    "print('Bagged ffNN')\n",
    "print('----------------------------------------')\n",
    "print(performance_bagged_ffNN)\n",
    "print('----------------------------------------')\n",
    "print('Gradient Boosted Random Forest Regressor')\n",
    "print('----------------------------------------')\n",
    "print(Gradient_boosted_tree)\n",
    "print('----------------------------------------')\n",
    "print('----------------------------------------')\n",
    "print(' ')\n",
    "print(' ')\n",
    "#\n",
    "print('#==================#')\n",
    "print(' Overview  Metrics : ')\n",
    "print('#==================#')\n",
    "print(' ')\n",
    "print('----------------------------------------')\n",
    "print('Training Performance: ')\n",
    "print('----------------------------------------')\n",
    "print(predictive_performance_training)\n",
    "print('----------------------------------------')\n",
    "print('Testing Performance: ')\n",
    "print('----------------------------------------')\n",
    "print(predictive_performance_test)\n",
    "print('----------------------------------------')\n",
    "print(' ')\n",
    "print(' ')\n",
    "#\n",
    "print('#====================#')\n",
    "print(' Efficiency Metrics: ')\n",
    "print('#====================#')\n",
    "print(' ')\n",
    "print('Model Training Times:')\n",
    "print('----------------------------------------')\n",
    "print(Model_Complexity_Metrics)\n",
    "print(' ')\n",
    "print(' ')\n",
    "print('😃😃 Have a great day!! 😃😃 ')"
   ]
  },
  {
   "cell_type": "code",
   "execution_count": 98,
   "metadata": {},
   "outputs": [
    {
     "data": {
      "image/png": "[encoded data removed]",
      "text/plain": [
       "<Figure size 960x960 with 1 Axes>"
      ]
     },
     "metadata": {},
     "output_type": "display_data"
    }
   ],
   "source": [
    "sns.set()\n",
    "# Initialize Plot #\n",
    "#-----------------#\n",
    "plt.figure(num=None, figsize=(12, 12), dpi=80, facecolor='w', edgecolor='k')\n",
    "\n",
    "# Generate Plots #\n",
    "#----------------#\n",
    "# Plot Signal\n",
    "# plt.scatter(x,y,color='gray',label='$f(x)$',linestyle='--')\n",
    "plt.scatter(x_1,y_1,color='orange',label=r'$f_1(x)$',linestyle=(0,(1,10)),s=5,alpha=.9)\n",
    "plt.scatter(x_2,y_2,color='dodgerblue',label=r'$f_2(x)$',linestyle=(0,(1,10)),s=5,alpha=.9)\n",
    "\n",
    "#--------------------#\n",
    "# Benchmark Model(s) #\n",
    "#--------------------#\n",
    "# Plot ffNN\n",
    "plt.scatter(x,y_hat_train_Vanilla_ffNN, color = 'darkmagenta',linestyle=(0,(1,10)),  label='ffNN',s=15,alpha=.95)\n",
    "plt.scatter(x,Architope_prediction_y_train, color = 'mediumseagreen',linestyle=(0,(1,10)), label='tope',s=15,alpha=.95)\n",
    "\n",
    "\n",
    "\n",
    "# Format Plot #\n",
    "#-------------#\n",
    "# Plot legend.\n",
    "lgnd = plt.legend(loc=\"upper left\", scatterpoints=1, fontsize=35)\n",
    "plt.title(\"Model Predictions\")\n",
    "# Format\n",
    "for handle in lgnd.legendHandles:\n",
    "    handle.set_sizes([100])\n",
    "# plt.show()\n",
    "\n",
    "# Export #\n",
    "#--------#\n",
    "# SAVE Figure to .eps\n",
    "plt.savefig('./outputs/plotsANDfigures/DEMO_Seaborn.eps', format='eps')"
   ]
  },
  {
   "cell_type": "markdown",
   "metadata": {},
   "source": [
    "---\n",
    "# Fin\n",
    "---"
   ]
  }
 ],
 "metadata": {
  "kernelspec": {
   "display_name": "Python 3",
   "language": "python",
   "name": "python3"
  },
  "language_info": {
   "codemirror_mode": {
    "name": "ipython",
    "version": 3
   },
   "file_extension": ".py",
   "mimetype": "text/x-python",
   "name": "python",
   "nbconvert_exporter": "python",
   "pygments_lexer": "ipython3",
   "version": "3.7.7"
  }
 },
 "nbformat": 4,
 "nbformat_minor": 2
}
