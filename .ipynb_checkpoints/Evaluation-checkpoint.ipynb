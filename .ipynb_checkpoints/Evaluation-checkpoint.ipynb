{
 "cells": [
  {
   "cell_type": "markdown",
   "metadata": {},
   "source": [
    "# Evaluation Metrics and Scripts"
   ]
  },
  {
   "cell_type": "markdown",
   "metadata": {},
   "source": [
    "Initialize \"Higher Moments\" Loss Metric\n",
    "$$\n",
    "\\sum_{k=1}^K \\frac{|\\sum_{x \\in \\mathbb{X}}x^k\\hat{\\nu}(x) - \\mu_k|}{k!}\n",
    "$$"
   ]
  },
  {
   "cell_type": "code",
   "execution_count": null,
   "metadata": {},
   "outputs": [],
   "source": [
    "def Higher_Moments_Loss(Mu_hat_input,Mu_hat_MC_input):\n",
    "    for k in range(10):\n",
    "        moment_hat_loop = np.sum((Mu_hat_input**k)*points_of_mass)/np.math.factorial(k)\n",
    "        moment_MC_hat_loop = np.mean(Mu_hat_MC_input**k)/np.math.factorial(k)\n",
    "        if k == 0:\n",
    "            moment_hat = moment_hat_loop\n",
    "            moment_MC_hat = moment_MC_hat_loop\n",
    "        else:\n",
    "            moment_hat = np.append(moment_hat,moment_hat_loop)\n",
    "            moment_MC_hat = np.append(moment_MC_hat,moment_MC_hat_loop)\n",
    "\n",
    "    return moment_hat,moment_MC_hat"
   ]
  },
  {
   "cell_type": "markdown",
   "metadata": {},
   "source": [
    "## One-Dimensional Error Metrics"
   ]
  },
  {
   "cell_type": "code",
   "execution_count": null,
   "metadata": {},
   "outputs": [],
   "source": [
    "def get_deterministic_errors(X_inputs, mean_predictions,Y_targets,N_Bootstraps=10):\n",
    "    print(\"#------------#\")\n",
    "    print(\" Get Error(s) \")\n",
    "    print(\"#------------#\")\n",
    "    for i in tqdm(range((mean_predictions.shape[0]))):    \n",
    "        # Compute Error(s)\n",
    "        ## W1\n",
    "        W1_loop = ot.emd2_1d(np.array([mean_predictions[i]]),\n",
    "                             np.array(Y_targets[i,]).reshape(-1,),\n",
    "                             np.ones(1),\n",
    "                             empirical_weights)\n",
    "\n",
    "        ## M1\n",
    "        Mu_hat = mean_predictions[i]\n",
    "        Mu_MC = np.mean(np.array(Y_targets[i,]))\n",
    "        if f_unknown_mode == \"Heteroskedastic_NonLinear_Regression\":\n",
    "            Mu = direct_facts[i,]\n",
    "        else:\n",
    "            Mu = Mu_MC\n",
    "\n",
    "        ### Error(s)\n",
    "        Mean_loop = (Mu_hat-Mu)\n",
    "        Mean_loop_MC = (Mu_hat-Mu_MC)\n",
    "\n",
    "        ## Variance\n",
    "        Var_hat = np.sum((((mean_predictions[i])-Mu_hat)**2)*b)\n",
    "        Var_MC = np.mean(np.array(Y_targets[i]-Mu_MC)**2)\n",
    "        if f_unknown_mode == \"Heteroskedastic_NonLinear_Regression\":\n",
    "            Var = 2*np.sum(X_inputs[i,]**2)\n",
    "        else:\n",
    "            Var = Var_MC     \n",
    "        ### Error(s)\n",
    "        Var_loop = np.abs(Var_hat-Var)\n",
    "        Var_loop_MC = np.abs(Var_MC-Var)\n",
    "\n",
    "        # Skewness\n",
    "        Skewness_hat = np.sum(((((mean_predictions[i])-Mu_hat)/Var)**3)*b)\n",
    "        Skewness_MC = np.mean((np.array(Y_targets[i]-Mu_MC)/Var_MC)**3)\n",
    "        if f_unknown_mode == \"Heteroskedastic_NonLinear_Regression\":\n",
    "            Skewness = 0\n",
    "        else:\n",
    "            Skewness = Skewness_MC\n",
    "        ### Error(s)\n",
    "        Skewness_loop = np.abs(Skewness_hat-Skewness)\n",
    "        Skewness_loop_MC = np.abs(Skewness_MC-Skewness)\n",
    "\n",
    "        # Skewness\n",
    "        Ex_Kurtosis_hat = np.sum(((((mean_predictions[i])-Mu_hat)/Var)**4)*b) - 3\n",
    "        Ex_Kurtosis_MC = np.mean((np.array(Y_targets[i]-Mu_MC)/Var_MC)**4) - 3\n",
    "        if f_unknown_mode == \"Heteroskedastic_NonLinear_Regression\":\n",
    "            Ex_Kurtosis = 3\n",
    "        else:\n",
    "            Ex_Kurtosis = Ex_Kurtosis_MC\n",
    "        ### Error(s)\n",
    "        Ex_Kurtosis_loop = np.abs(Ex_Kurtosis-Ex_Kurtosis_hat)\n",
    "        Ex_Kurtosis_loop_MC = np.abs(Ex_Kurtosis-Ex_Kurtosis_MC)\n",
    "\n",
    "\n",
    "\n",
    "        # Get Higher Moments Loss\n",
    "        Higher_momentserrors_loop,Higher_MC_momentserrors_loop = Higher_Moments_Loss(b,np.array(Y_targets[i,]))\n",
    "        Higher_Moments_Errors_loop = np.abs(Higher_momentserrors_loop-Higher_MC_momentserrors_loop)\n",
    "\n",
    "\n",
    "        # Update\n",
    "        if i == 0:\n",
    "            W1_errors = W1_loop\n",
    "            # Moments\n",
    "            ## DNM\n",
    "            Mean_errors =  Mean_loop\n",
    "            Var_errors = Var_loop\n",
    "            Skewness_errors = Skewness_loop\n",
    "            Ex_Kurtosis_errors = Ex_Kurtosis_loop\n",
    "            # Higher Moments\n",
    "            Higher_Moments_Errors = Higher_Moments_Errors_loop\n",
    "\n",
    "\n",
    "        else:\n",
    "            W1_errors = np.append(W1_errors,W1_loop)\n",
    "            # Moments\n",
    "            ## DNM\n",
    "            Mean_errors =  np.append(Mean_errors,Mean_loop)\n",
    "            Var_errors = np.append(Var_errors,Var_loop)\n",
    "            Skewness_errors = np.append(Skewness_errors,Skewness_loop)\n",
    "            Ex_Kurtosis_errors = np.append(Ex_Kurtosis_errors,Ex_Kurtosis_loop)\n",
    "            # Higher Moments\n",
    "            Higher_Moments_Errors = np.append(Higher_Moments_Errors,Higher_Moments_Errors_loop)\n",
    "\n",
    "            \n",
    "    # Compute Error Metrics with Bootstrapped Confidence Intervals\n",
    "    W1_Errors = np.array(bootstrap(np.abs(W1_errors),n=N_Bootstraps)(.95))\n",
    "    Mean_Errors = np.array(bootstrap(np.abs(Mean_errors),n=N_Bootstraps)(.95))\n",
    "    Var_Errors = np.array(bootstrap(np.abs(Var_errors),n=N_Bootstraps)(.95))\n",
    "    Skewness_Errors = np.array(bootstrap(np.abs(Skewness_errors),n=N_Bootstraps)(.95))\n",
    "    Ex_Kurtosis_Errors = np.array(bootstrap(np.abs(Ex_Kurtosis_errors),n=N_Bootstraps)(.95))\n",
    "    Higher_Moment_Errors = np.array(bootstrap(np.abs(Higher_Moments_Errors),n=N_Bootstraps)(.95))\n",
    "    \n",
    "    # Format Error Metrics\n",
    "    output = np.array([W1_Errors,Mean_Errors,Var_Errors,Skewness_Errors,Ex_Kurtosis_Errors,Higher_Moment_Errors])\n",
    "    print(\"#-----------------#\")\n",
    "    print(\" Get Error(s): END \")\n",
    "    print(\"#-----------------#\")\n",
    "    return output"
   ]
  },
  {
   "cell_type": "markdown",
   "metadata": {},
   "source": [
    "### Get Loss Statistics"
   ]
  }
 ],
 "metadata": {
  "kernelspec": {
   "display_name": "Python 3",
   "language": "python",
   "name": "python3"
  },
  "language_info": {
   "codemirror_mode": {
    "name": "ipython",
    "version": 3
   },
   "file_extension": ".py",
   "mimetype": "text/x-python",
   "name": "python",
   "nbconvert_exporter": "python",
   "pygments_lexer": "ipython3",
   "version": "3.7.7"
  }
 },
 "nbformat": 4,
 "nbformat_minor": 2
}
