{
 "cells": [
  {
   "cell_type": "markdown",
   "metadata": {},
   "source": [
    "# Deep Weak Stochastic Processes\n",
    "---"
   ]
  },
  {
   "cell_type": "markdown",
   "metadata": {},
   "source": [
    "## Meta-Parameters"
   ]
  },
  {
   "cell_type": "markdown",
   "metadata": {},
   "source": [
    "### Simulation"
   ]
  },
  {
   "cell_type": "code",
   "execution_count": 36,
   "metadata": {},
   "outputs": [],
   "source": [
    "## Monte-Carlo\n",
    "N_Euler_Maruyama_Steps = 2\n",
    "N_Monte_Carlo_Samples = 10**4\n",
    "\n",
    "## Grid\n",
    "N_Grid_Finess = 10**3\n",
    "Max_Grid = 2"
   ]
  },
  {
   "cell_type": "markdown",
   "metadata": {},
   "source": [
    "### Quantization\n",
    "*This hyperparameter describes the proportion of the data used as sample-barycenters.*"
   ]
  },
  {
   "cell_type": "code",
   "execution_count": 37,
   "metadata": {},
   "outputs": [],
   "source": [
    "Quantization_Proportion = 0.5"
   ]
  },
  {
   "cell_type": "markdown",
   "metadata": {},
   "source": [
    "**Note**: Setting *N_Quantizers_to_parameterize* prevents any barycenters and sub-sampling."
   ]
  },
  {
   "cell_type": "markdown",
   "metadata": {},
   "source": [
    "# Training Algorithm\n",
    "---\n",
    "Given a set of training inputs $\\mathbb{X}$ and a stochastic process $(X_t)_{t\\geq 0}$ which we can sample from:\n",
    "1. **For:** x in $\\mathbb{X}$:\n",
    "    - *Simulate:* $\\{x\\mapsto X_T(\\omega_n)\\}_{n=1}^N$\n",
    "    - *Set*: $\\hat{\\nu}_{x,T}\\triangleq \\frac1{N}\\sum_{n=1}^N \\delta_{X_T(\\omega_n)}$\n",
    "2. **Learn:** Wasserstein Barycenters $\\hat{\\mu}_1,\\dots,\\hat{\\mu}_N\n",
    "    \\in \\underset{{\\hat{\\mu}_n\\in\\mathscr{P}_{N}(\\mathbb{R}^d)}}{\\operatorname{argmin}}\n",
    "    \\, \\sum_{n=1}^N W_1(\\hat{\\mu_n},\\hat{\\nu}_{x,T})$\n",
    "3. **Train Classifier:** $\\hat{f}:x\\mapsto \\operatorname{n\\leq N}\\, W_1(\\hat{\\mu_n},\\hat{\\nu}_{x,T})$"
   ]
  },
  {
   "cell_type": "markdown",
   "metadata": {},
   "source": [
    "#### Mode: Code-Testin Parameter(s)"
   ]
  },
  {
   "cell_type": "code",
   "execution_count": 38,
   "metadata": {},
   "outputs": [],
   "source": [
    "trial_run = True"
   ]
  },
  {
   "cell_type": "markdown",
   "metadata": {},
   "source": [
    "### Meta-parameters"
   ]
  },
  {
   "cell_type": "code",
   "execution_count": 39,
   "metadata": {},
   "outputs": [],
   "source": [
    "# Test-size Ratio\n",
    "test_size_ratio = .3"
   ]
  },
  {
   "cell_type": "markdown",
   "metadata": {},
   "source": [
    "### Hyperparameters\n",
    "\n",
    "Only turn of if running code directly here, typically this script should be run be called by other notebooks.  "
   ]
  },
  {
   "cell_type": "code",
   "execution_count": 40,
   "metadata": {},
   "outputs": [],
   "source": [
    "# load dataset\n",
    "results_path = \"./outputs/models/\"\n",
    "results_tables_path = \"./outputs/results/\"\n",
    "raw_data_path_folder = \"./inputs/raw/\"\n",
    "data_path_folder = \"./inputs/data/\""
   ]
  },
  {
   "cell_type": "markdown",
   "metadata": {},
   "source": [
    "### Import"
   ]
  },
  {
   "cell_type": "code",
   "execution_count": 41,
   "metadata": {},
   "outputs": [
    {
     "name": "stdout",
     "output_type": "stream",
     "text": [
      "Deep Feature Builder - Ready\n",
      "Deep Classifier - Ready\n"
     ]
    }
   ],
   "source": [
    "# Load Packages/Modules\n",
    "exec(open('Init_Dump.py').read())\n",
    "# Load Hyper-parameter Grid\n",
    "exec(open('Grid_Enhanced_Network.py').read())\n",
    "# Load Helper Function(s)\n",
    "exec(open('Helper_Functions.py').read())\n",
    "# Import time separately\n",
    "import time"
   ]
  },
  {
   "cell_type": "markdown",
   "metadata": {},
   "source": [
    "## Get Internal (Hyper)-Parameter(s)\n",
    "*Initialize the hyperparameters which are fully-specified by the user-provided hyperparameter(s).*"
   ]
  },
  {
   "cell_type": "code",
   "execution_count": 74,
   "metadata": {},
   "outputs": [
    {
     "name": "stdout",
     "output_type": "stream",
     "text": [
      "• 500  Centers will be produced; from a total datasize of:  1000 !  (That's  0.5  percent).\n",
      "• Each Wasserstein-1 Ball should contain:  2 elements from the training set.\n"
     ]
    }
   ],
   "source": [
    "# Get Internal (Counting) Parameters\n",
    "N_Quantizers_to_parameterize = round(Quantization_Proportion*N_Grid_Finess)\n",
    "N_Elements_Per_Cluster = int(round(N_Grid_Instances/N_Quantizers_to_parameterize))\n",
    "\n",
    "# Update User\n",
    "print(\"\\u2022\",N_Quantizers_to_parameterize,\" Centers will be produced; from a total datasize of: \",N_Grid_Finess,\n",
    "      \"!  (That's \",Quantization_Proportion,\n",
    "      \" percent).\")\n",
    "print(\"\\u2022 Each Wasserstein-1 Ball should contain: \",\n",
    "      N_Elements_Per_Cluster, \n",
    "      \"elements from the training set.\")"
   ]
  },
  {
   "cell_type": "markdown",
   "metadata": {},
   "source": [
    "### Set Seed"
   ]
  },
  {
   "cell_type": "code",
   "execution_count": 75,
   "metadata": {},
   "outputs": [],
   "source": [
    "random.seed(2021)\n",
    "np.random.seed(2021)\n",
    "tf.random.set_seed(2021)"
   ]
  },
  {
   "cell_type": "markdown",
   "metadata": {},
   "source": [
    "---"
   ]
  },
  {
   "cell_type": "markdown",
   "metadata": {},
   "source": [
    "### Simulate Path\n",
    "$d X_t = \\alpha(t,x)dt + \\beta(t,x)dW_t ;\\qquad X_0 =x$"
   ]
  },
  {
   "cell_type": "markdown",
   "metadata": {},
   "source": [
    "### Drift"
   ]
  },
  {
   "cell_type": "code",
   "execution_count": 76,
   "metadata": {},
   "outputs": [],
   "source": [
    "def alpha(t,x):\n",
    "    return np.sin(math.pi*t)"
   ]
  },
  {
   "cell_type": "markdown",
   "metadata": {},
   "source": [
    "### Volatility"
   ]
  },
  {
   "cell_type": "code",
   "execution_count": 77,
   "metadata": {},
   "outputs": [],
   "source": [
    "def beta(t,x):\n",
    "    return (t+1)**.5"
   ]
  },
  {
   "cell_type": "markdown",
   "metadata": {},
   "source": [
    "## Initialize Grid\n",
    "This is $\\mathbb{X}$ and it represents the grid of initial states."
   ]
  },
  {
   "cell_type": "code",
   "execution_count": 78,
   "metadata": {},
   "outputs": [
    {
     "name": "stdout",
     "output_type": "stream",
     "text": [
      "Grid Instances:  1000\n"
     ]
    }
   ],
   "source": [
    "# Get Input Data\n",
    "x_Grid = np.arange(start=-Max_Grid,\n",
    "                   stop=Max_Grid,\n",
    "                   step=(2*Max_Grid/N_Grid_Finess))\n",
    "\n",
    "# Get Number of Instances in Grid\n",
    "N_Grid_Instances = len(x_Grid)\n",
    "\n",
    "# Updater User\n",
    "print(\"Grid Instances: \", N_Grid_Instances)"
   ]
  },
  {
   "cell_type": "markdown",
   "metadata": {},
   "source": [
    "---"
   ]
  },
  {
   "cell_type": "code",
   "execution_count": 79,
   "metadata": {},
   "outputs": [],
   "source": [
    "# Initialize List of Barycenters\n",
    "Wasserstein_Barycenters = []\n",
    "# Initialize Terminal-Time Empirical Measures\n",
    "measures_locations_list = []\n",
    "measures_weights_list = []\n",
    "# Initialize (Empirical) Weight(s)\n",
    "measure_weights = np.ones(N_Monte_Carlo_Samples)/N_Monte_Carlo_Samples\n",
    "# Initialize Quantizer\n",
    "Init_Quantizer_generic = np.ones(N_Monte_Carlo_Samples)/N_Monte_Carlo_Samples"
   ]
  },
  {
   "cell_type": "markdown",
   "metadata": {},
   "source": [
    "## Generate $\\{\\hat{\\nu}^{N}_{T,x}\\}_{x \\in \\mathbb{X}}$ Build Wasserstein Cover"
   ]
  },
  {
   "cell_type": "markdown",
   "metadata": {},
   "source": [
    "#### Get Data"
   ]
  },
  {
   "cell_type": "code",
   "execution_count": 80,
   "metadata": {},
   "outputs": [
    {
     "name": "stderr",
     "output_type": "stream",
     "text": [
      "100%|██████████| 1000/1000 [00:00<00:00, 51281.38it/s]"
     ]
    },
    {
     "name": "stdout",
     "output_type": "stream",
     "text": [
      "Current Monte-Carlo Step: 0.0\n",
      "Current Monte-Carlo Step: 0.1\n",
      "Current Monte-Carlo Step: 0.2\n",
      "Current Monte-Carlo Step: 0.3\n",
      "Current Monte-Carlo Step: 0.4\n",
      "Current Monte-Carlo Step: 0.5\n",
      "Current Monte-Carlo Step: 0.6\n",
      "Current Monte-Carlo Step: 0.7\n",
      "Current Monte-Carlo Step: 0.8\n",
      "Current Monte-Carlo Step: 0.9\n",
      "Done Simulation Step\n"
     ]
    },
    {
     "name": "stderr",
     "output_type": "stream",
     "text": [
      "\n"
     ]
    }
   ],
   "source": [
    "for i in tqdm(range(N_Grid_Instances)):\n",
    "    # Get Terminal Distribution Shape\n",
    "    ###\n",
    "    # DIRECT SAMPLING\n",
    "    measures_locations_loop = np.random.normal(x_Grid[i],np.abs(x_Grid[i]), N_Monte_Carlo_Samples).reshape(-1,)\n",
    "    \n",
    "    # Append to List\n",
    "    measures_locations_list.append(measures_locations_loop.reshape(-1,1))\n",
    "    measures_weights_list.append(measure_weights)\n",
    "    \n",
    "    # Print Update User #\n",
    "    #-------------------#\n",
    "    if (i/N_Grid_Instances)*100 % 10 ==0:\n",
    "        print(\"Current Monte-Carlo Step:\",i/N_Grid_Instances)\n",
    "    \n",
    "# Update User\n",
    "print(\"Done Simulation Step\")"
   ]
  },
  {
   "cell_type": "markdown",
   "metadata": {},
   "source": [
    "#### Get Cover"
   ]
  },
  {
   "cell_type": "markdown",
   "metadata": {},
   "source": [
    "## Get \"Sample Barycenters\":\n",
    "Let $\\{\\mu_n\\}_{n=1}^N\\subset\\mathcal{P}_1(\\mathbb{R}^d)$.  Then, the *sample barycenter* is defined by:\n",
    "1. $\\mathcal{M}^{(0)}\\triangleq \\left\\{\\hat{\\mu}_n\\right\\}_{n=1}^N$,\n",
    "2. For $1\\leq n\\leq \\mbox{N sample barycenters}$: \n",
    "    - $\n",
    "\\mu^{\\star}\\in \\underset{\\tilde{\\mu}\\in \\mathcal{M}^{(n)}}{\\operatorname{argmin}}\\, \\sum_{n=1}^N \\mathcal{W}_1\\left(\\mu^{\\star},\\mu_n\\right),\n",
    "$\n",
    "    - $\\mathcal{M}^{(n)}\\triangleq \\mathcal{M}^{(n-1)} - \\{\\mu^{\\star}\\},$\n",
    "*i.e., the closest generated measure form the random sample to all other elements of the random sample.*\n",
    "\n",
    "---\n",
    "**Note:** *We simplify the computational burden of getting the correct classes by putting this right into this next loop.*\n",
    "\n",
    "---"
   ]
  },
  {
   "cell_type": "markdown",
   "metadata": {},
   "source": [
    "## Build Dissimilarity (Distance) Matrix"
   ]
  },
  {
   "cell_type": "code",
   "execution_count": 81,
   "metadata": {},
   "outputs": [
    {
     "name": "stderr",
     "output_type": "stream",
     "text": [
      "  0%|          | 1/1000 [00:00<02:00,  8.28it/s]"
     ]
    },
    {
     "name": "stdout",
     "output_type": "stream",
     "text": [
      "😚  Begin Building Distance Matrix  😚\n"
     ]
    },
    {
     "name": "stderr",
     "output_type": "stream",
     "text": [
      "100%|██████████| 1000/1000 [01:33<00:00, 10.67it/s]"
     ]
    },
    {
     "name": "stdout",
     "output_type": "stream",
     "text": [
      "😀  Done Building Distance Matrix 😀 !\n"
     ]
    },
    {
     "name": "stderr",
     "output_type": "stream",
     "text": [
      "\n"
     ]
    }
   ],
   "source": [
    "# Initialize Disimilarity Matrix\n",
    "Dissimilarity_matrix_ot = np.zeros([N_Grid_Instances,N_Grid_Instances])\n",
    "\n",
    "\n",
    "# Update User\n",
    "print(\"\\U0001F61A\",\" Begin Building Distance Matrix\",\" \\U0001F61A\")\n",
    "# Build Disimilarity Matrix\n",
    "for i in tqdm(range(N_Grid_Instances)):\n",
    "    for j in range(N_Grid_Instances):\n",
    "        Dissimilarity_matrix_ot[i,j] = ot.emd2_1d(measures_locations_list[j],\n",
    "                                                  measures_locations_list[i])\n",
    "# Update User\n",
    "print(\"\\U0001F600\",\" Done Building Distance Matrix\",\"\\U0001F600\",\"!\")"
   ]
  },
  {
   "cell_type": "markdown",
   "metadata": {},
   "source": [
    "## Initialize Quantities to Loop Over"
   ]
  },
  {
   "cell_type": "code",
   "execution_count": 82,
   "metadata": {},
   "outputs": [],
   "source": [
    "# Initialize Locations Matrix (Internal to Loop)\n",
    "measures_locations_list_current = copy.copy(measures_locations_list)\n",
    "Dissimilarity_matrix_ot_current = Dissimilarity_matrix_ot\n",
    "Barycenters_sample = []\n",
    "\n",
    "# Initialize Classes (In-Sample)\n",
    "Classifer_Wasserstein_Centers = np.zeros([N_Grid_Instances,N_Quantizers_to_parameterize])"
   ]
  },
  {
   "cell_type": "markdown",
   "metadata": {},
   "source": [
    "## Get \"Sample Barycenters\" and Generate Classes"
   ]
  },
  {
   "cell_type": "code",
   "execution_count": 83,
   "metadata": {},
   "outputs": [
    {
     "name": "stderr",
     "output_type": "stream",
     "text": [
      "  3%|▎         | 13/500 [00:00<00:03, 124.85it/s]"
     ]
    },
    {
     "name": "stdout",
     "output_type": "stream",
     "text": [
      "😚  Begin Identifying Sample Barycenters  😚\n"
     ]
    },
    {
     "name": "stderr",
     "output_type": "stream",
     "text": [
      "100%|██████████| 500/500 [00:01<00:00, 452.52it/s]"
     ]
    },
    {
     "name": "stdout",
     "output_type": "stream",
     "text": [
      "😀  Done Identifying Sample Barycenters 😀 !\n"
     ]
    },
    {
     "name": "stderr",
     "output_type": "stream",
     "text": [
      "\n"
     ]
    }
   ],
   "source": [
    "# Update User\n",
    "print(\"\\U0001F61A\",\" Begin Identifying Sample Barycenters\",\" \\U0001F61A\")\n",
    "\n",
    "# Identify Sample Barycenters\n",
    "for i in tqdm(range(N_Quantizers_to_parameterize)):    \n",
    "    # Distance-Based Sorting\n",
    "    ## Get Distances from training data\n",
    "    Distances_Loop = Dissimilarity_matrix_ot_current.sum(axis=1)\n",
    "\n",
    "    ## Get Barycenter\n",
    "    Barycenter_index = Distances_Loop.argsort()[:1][0]\n",
    "    measures_locations_list_current[Barycenter_index]\n",
    "    ## Identify Cluster for this barycenter (which elements are closest to it)\n",
    "    Cluster_indices = Distances_Loop.argsort()[:N_Elements_Per_Cluster]\n",
    "\n",
    "    # Updates\n",
    "    ## Get Barycenter \n",
    "    Barycenter_loop = measures_locations_list_current[Barycenter_index]\n",
    "    ## Update Barycenters List\n",
    "    Barycenters_sample.append(Barycenter_loop)\n",
    "    ## Update Barycenters Array\n",
    "    if i == 0:\n",
    "        # Initialize Barycenters Array\n",
    "        Barycenters_Array = Barycenter_loop\n",
    "    else:\n",
    "        # Populate Barycenters Array\n",
    "        Barycenters_Array = np.append(Barycenters_Array,Barycenter_loop,axis=-1)\n",
    "\n",
    "    ## Update Samples List\n",
    "    ### Remove from Pairwise Distance Matrix\n",
    "    Dissimilarity_matrix_ot_current = np.delete(Dissimilarity_matrix_ot_current,Cluster_indices, axis=1)\n",
    "    Dissimilarity_matrix_ot_current = np.delete(Dissimilarity_matrix_ot_current,Cluster_indices, axis=0)\n",
    "    ### Remove from Sample Measures\n",
    "    for index in sorted(Cluster_indices, reverse=True):\n",
    "        del measures_locations_list_current[index]\n",
    "\n",
    "    # Update Classes\n",
    "    Classifer_Wasserstein_Centers[Cluster_indices,i] = 1\n",
    "\n",
    "\n",
    "# Update User\n",
    "print(\"\\U0001F600\",\" Done Identifying Sample Barycenters\",\"\\U0001F600\",\"!\")"
   ]
  },
  {
   "cell_type": "markdown",
   "metadata": {},
   "source": [
    "---"
   ]
  },
  {
   "cell_type": "markdown",
   "metadata": {},
   "source": [
    "### Train Classifier"
   ]
  },
  {
   "cell_type": "markdown",
   "metadata": {},
   "source": [
    "In this step, we train a deep (feed-forward) classifier:\n",
    "$$\n",
    "\\hat{f}\\triangleq \\operatorname{Softmax}_N\\circ W_J\\circ \\sigma \\bullet \\dots \\sigma \\bullet W_1,\n",
    "$$\n",
    "to identify which barycenter we are closest to."
   ]
  },
  {
   "cell_type": "markdown",
   "metadata": {},
   "source": [
    "#### Deep Classifier\n",
    "Prepare Labels/Classes"
   ]
  },
  {
   "cell_type": "code",
   "execution_count": 84,
   "metadata": {},
   "outputs": [],
   "source": [
    "# Time-Elapsed Training Deep Classifier\n",
    "Type_A_timer_Begin = time.time()"
   ]
  },
  {
   "cell_type": "markdown",
   "metadata": {},
   "source": [
    "Re-Load Grid and Redefine Relevant Input/Output dimensions in dictionary."
   ]
  },
  {
   "cell_type": "code",
   "execution_count": 85,
   "metadata": {},
   "outputs": [
    {
     "name": "stdout",
     "output_type": "stream",
     "text": [
      "Deep Feature Builder - Ready\n",
      "Deep Classifier - Ready\n"
     ]
    }
   ],
   "source": [
    "# Re-Load Hyper-parameter Grid\n",
    "exec(open('Grid_Enhanced_Network.py').read())\n",
    "# Re-Load Helper Function(s)\n",
    "exec(open('Helper_Functions.py').read())\n",
    "\n",
    "# Redefine (Dimension-related) Elements of Grid\n",
    "param_grid_Deep_Classifier['input_dim'] = [1]\n",
    "param_grid_Deep_Classifier['output_dim'] = [N_Quantizers_to_parameterize]"
   ]
  },
  {
   "cell_type": "markdown",
   "metadata": {},
   "source": [
    "#### Train Deep Classifier"
   ]
  },
  {
   "cell_type": "code",
   "execution_count": 86,
   "metadata": {},
   "outputs": [
    {
     "name": "stdout",
     "output_type": "stream",
     "text": [
      "Fitting 2 folds for each of 1 candidates, totalling 2 fits\n"
     ]
    },
    {
     "name": "stderr",
     "output_type": "stream",
     "text": [
      "[Parallel(n_jobs=4)]: Using backend LokyBackend with 4 concurrent workers.\n",
      "[Parallel(n_jobs=4)]: Done   2 out of   2 | elapsed:    9.9s remaining:    0.0s\n",
      "[Parallel(n_jobs=4)]: Done   2 out of   2 | elapsed:    9.9s finished\n"
     ]
    },
    {
     "name": "stdout",
     "output_type": "stream",
     "text": [
      "Epoch 1/100\n",
      "32/32 [==============================] - 0s 2ms/step - loss: 6.2262 - accuracy: 0.0010\n",
      "Epoch 2/100\n",
      "32/32 [==============================] - 0s 2ms/step - loss: 6.1908 - accuracy: 0.0020\n",
      "Epoch 3/100\n",
      "32/32 [==============================] - 0s 2ms/step - loss: 6.1256 - accuracy: 0.0050\n",
      "Epoch 4/100\n",
      "32/32 [==============================] - 0s 2ms/step - loss: 6.0572 - accuracy: 0.0420\n",
      "Epoch 5/100\n",
      "32/32 [==============================] - 0s 2ms/step - loss: 6.0013 - accuracy: 0.0030\n",
      "Epoch 6/100\n",
      "32/32 [==============================] - 0s 2ms/step - loss: 5.9486 - accuracy: 0.0010\n",
      "Epoch 7/100\n",
      "32/32 [==============================] - 0s 2ms/step - loss: 5.9103 - accuracy: 0.0490\n",
      "Epoch 8/100\n",
      "32/32 [==============================] - 0s 2ms/step - loss: 5.9073 - accuracy: 0.0570\n",
      "Epoch 9/100\n",
      "32/32 [==============================] - 0s 2ms/step - loss: 5.9535 - accuracy: 0.0150\n",
      "Epoch 10/100\n",
      "32/32 [==============================] - 0s 3ms/step - loss: 6.0026 - accuracy: 0.0520\n",
      "Epoch 11/100\n",
      "32/32 [==============================] - 0s 2ms/step - loss: 6.0765 - accuracy: 0.0010\n",
      "Epoch 12/100\n",
      "32/32 [==============================] - 0s 2ms/step - loss: 6.2179 - accuracy: 0.0190\n",
      "Epoch 13/100\n",
      "32/32 [==============================] - 0s 2ms/step - loss: 6.3470 - accuracy: 0.0110\n",
      "Epoch 14/100\n",
      "32/32 [==============================] - 0s 2ms/step - loss: 6.5488 - accuracy: 0.0250\n",
      "Epoch 15/100\n",
      "32/32 [==============================] - 0s 2ms/step - loss: 6.8704 - accuracy: 0.0240\n",
      "Epoch 16/100\n",
      "32/32 [==============================] - 0s 3ms/step - loss: 7.1955 - accuracy: 0.0140\n",
      "Epoch 17/100\n",
      "32/32 [==============================] - 0s 3ms/step - loss: 7.6031 - accuracy: 0.0120\n",
      "Epoch 18/100\n",
      "32/32 [==============================] - 0s 2ms/step - loss: 7.9502 - accuracy: 0.0000e+00\n",
      "Epoch 19/100\n",
      "32/32 [==============================] - 0s 2ms/step - loss: 8.8005 - accuracy: 0.0110\n",
      "Epoch 20/100\n",
      "32/32 [==============================] - 0s 2ms/step - loss: 9.5736 - accuracy: 0.0150\n",
      "Epoch 21/100\n",
      "32/32 [==============================] - 0s 2ms/step - loss: 9.9666 - accuracy: 0.0000e+00\n",
      "Epoch 22/100\n",
      "32/32 [==============================] - 0s 2ms/step - loss: 10.8634 - accuracy: 0.0130\n",
      "Epoch 23/100\n",
      "32/32 [==============================] - 0s 2ms/step - loss: 12.5968 - accuracy: 0.0010\n",
      "Epoch 24/100\n",
      "32/32 [==============================] - 0s 2ms/step - loss: 12.5172 - accuracy: 0.0010\n",
      "Epoch 25/100\n",
      "32/32 [==============================] - 0s 3ms/step - loss: 13.0809 - accuracy: 0.0020\n",
      "Epoch 26/100\n",
      "32/32 [==============================] - 0s 2ms/step - loss: 14.7212 - accuracy: 0.0120\n",
      "Epoch 27/100\n",
      "32/32 [==============================] - 0s 2ms/step - loss: 16.2435 - accuracy: 0.0010\n",
      "Epoch 28/100\n",
      "32/32 [==============================] - 0s 2ms/step - loss: 16.2932 - accuracy: 0.0260\n",
      "Epoch 29/100\n",
      "32/32 [==============================] - 0s 2ms/step - loss: 18.0318 - accuracy: 0.0010\n",
      "Epoch 30/100\n",
      "32/32 [==============================] - 0s 2ms/step - loss: 19.8646 - accuracy: 0.0100\n",
      "Epoch 31/100\n",
      "32/32 [==============================] - 0s 2ms/step - loss: 20.2645 - accuracy: 0.0090\n",
      "Epoch 32/100\n",
      "32/32 [==============================] - 0s 2ms/step - loss: 21.4151 - accuracy: 0.0000e+00\n",
      "Epoch 33/100\n",
      "32/32 [==============================] - 0s 2ms/step - loss: 22.9427 - accuracy: 0.0160\n",
      "Epoch 34/100\n",
      "32/32 [==============================] - 0s 2ms/step - loss: 24.3779 - accuracy: 0.0160\n",
      "Epoch 35/100\n",
      "32/32 [==============================] - 0s 2ms/step - loss: 26.4593 - accuracy: 0.0010\n",
      "Epoch 36/100\n",
      "32/32 [==============================] - 0s 2ms/step - loss: 28.0861 - accuracy: 0.0020\n",
      "Epoch 37/100\n",
      "32/32 [==============================] - 0s 2ms/step - loss: 29.4514 - accuracy: 0.0180\n",
      "Epoch 38/100\n",
      "32/32 [==============================] - 0s 3ms/step - loss: 29.8241 - accuracy: 0.0000e+00\n",
      "Epoch 39/100\n",
      "32/32 [==============================] - 0s 2ms/step - loss: 32.5433 - accuracy: 0.0120\n",
      "Epoch 40/100\n",
      "32/32 [==============================] - 0s 2ms/step - loss: 33.6968 - accuracy: 0.0030\n",
      "Epoch 41/100\n",
      "32/32 [==============================] - 0s 2ms/step - loss: 35.6422 - accuracy: 0.0130\n",
      "Epoch 42/100\n",
      "32/32 [==============================] - 0s 3ms/step - loss: 39.4063 - accuracy: 0.0130\n",
      "Epoch 43/100\n",
      "32/32 [==============================] - 0s 3ms/step - loss: 41.4469 - accuracy: 0.0000e+00\n",
      "Epoch 44/100\n",
      "32/32 [==============================] - 0s 2ms/step - loss: 41.2045 - accuracy: 0.0110\n",
      "Epoch 45/100\n",
      "32/32 [==============================] - 0s 2ms/step - loss: 46.9929 - accuracy: 0.0170\n",
      "Epoch 46/100\n",
      "32/32 [==============================] - 0s 3ms/step - loss: 48.3751 - accuracy: 0.0020\n",
      "Epoch 47/100\n",
      "32/32 [==============================] - 0s 2ms/step - loss: 50.8713 - accuracy: 0.0150\n",
      "Epoch 48/100\n",
      "32/32 [==============================] - 0s 2ms/step - loss: 50.4104 - accuracy: 0.0020\n",
      "Epoch 49/100\n",
      "32/32 [==============================] - 0s 2ms/step - loss: 50.6683 - accuracy: 0.0150\n",
      "Epoch 50/100\n",
      "32/32 [==============================] - 0s 2ms/step - loss: 54.1425 - accuracy: 0.0140\n",
      "Epoch 51/100\n",
      "32/32 [==============================] - 0s 2ms/step - loss: 53.8791 - accuracy: 0.0020\n",
      "Epoch 52/100\n",
      "32/32 [==============================] - 0s 2ms/step - loss: 57.2737 - accuracy: 0.0160\n",
      "Epoch 53/100\n",
      "32/32 [==============================] - 0s 2ms/step - loss: 61.3049 - accuracy: 0.0030\n",
      "Epoch 54/100\n",
      "32/32 [==============================] - 0s 2ms/step - loss: 61.8573 - accuracy: 0.0120\n",
      "Epoch 55/100\n",
      "32/32 [==============================] - 0s 2ms/step - loss: 67.1731 - accuracy: 0.0000e+00\n",
      "Epoch 56/100\n",
      "32/32 [==============================] - 0s 2ms/step - loss: 75.2153 - accuracy: 0.0110\n",
      "Epoch 57/100\n",
      "32/32 [==============================] - 0s 2ms/step - loss: 76.9781 - accuracy: 0.0000e+00\n",
      "Epoch 58/100\n",
      "32/32 [==============================] - 0s 2ms/step - loss: 82.9781 - accuracy: 0.0010\n",
      "Epoch 59/100\n",
      "32/32 [==============================] - 0s 2ms/step - loss: 85.6879 - accuracy: 0.0120\n",
      "Epoch 60/100\n",
      "32/32 [==============================] - 0s 2ms/step - loss: 84.4581 - accuracy: 0.0000e+00\n",
      "Epoch 61/100\n",
      "32/32 [==============================] - 0s 2ms/step - loss: 92.5882 - accuracy: 0.0160\n",
      "Epoch 62/100\n",
      "32/32 [==============================] - 0s 2ms/step - loss: 92.3716 - accuracy: 0.0030\n",
      "Epoch 63/100\n",
      "32/32 [==============================] - 0s 2ms/step - loss: 95.9207 - accuracy: 0.0130\n",
      "Epoch 64/100\n",
      "32/32 [==============================] - 0s 2ms/step - loss: 91.8743 - accuracy: 0.0010\n",
      "Epoch 65/100\n",
      "32/32 [==============================] - 0s 2ms/step - loss: 95.3648 - accuracy: 0.0110\n",
      "Epoch 66/100\n",
      "32/32 [==============================] - 0s 2ms/step - loss: 95.6937 - accuracy: 0.0130\n",
      "Epoch 67/100\n",
      "32/32 [==============================] - 0s 2ms/step - loss: 101.6535 - accuracy: 0.0010\n",
      "Epoch 68/100\n",
      "32/32 [==============================] - 0s 2ms/step - loss: 108.0985 - accuracy: 0.0040\n",
      "Epoch 69/100\n",
      "32/32 [==============================] - 0s 2ms/step - loss: 111.8784 - accuracy: 0.0160\n",
      "Epoch 70/100\n",
      "32/32 [==============================] - 0s 2ms/step - loss: 118.5113 - accuracy: 0.0020\n",
      "Epoch 71/100\n",
      "32/32 [==============================] - 0s 3ms/step - loss: 114.6415 - accuracy: 0.0120\n",
      "Epoch 72/100\n",
      "32/32 [==============================] - 0s 2ms/step - loss: 120.1385 - accuracy: 0.0000e+00\n",
      "Epoch 73/100\n",
      "32/32 [==============================] - 0s 2ms/step - loss: 115.1751 - accuracy: 0.0110\n",
      "Epoch 74/100\n",
      "32/32 [==============================] - 0s 2ms/step - loss: 126.5759 - accuracy: 0.0020\n",
      "Epoch 75/100\n",
      "32/32 [==============================] - 0s 2ms/step - loss: 129.2972 - accuracy: 0.0110\n",
      "Epoch 76/100\n",
      "32/32 [==============================] - 0s 2ms/step - loss: 133.3120 - accuracy: 0.0000e+00\n",
      "Epoch 77/100\n",
      "32/32 [==============================] - 0s 2ms/step - loss: 140.0050 - accuracy: 0.0120\n",
      "Epoch 78/100\n",
      "32/32 [==============================] - 0s 2ms/step - loss: 142.6100 - accuracy: 0.0150\n",
      "Epoch 79/100\n",
      "32/32 [==============================] - 0s 2ms/step - loss: 151.4763 - accuracy: 0.0010\n",
      "Epoch 80/100\n",
      "32/32 [==============================] - 0s 2ms/step - loss: 162.3941 - accuracy: 0.0010\n",
      "Epoch 81/100\n"
     ]
    },
    {
     "name": "stdout",
     "output_type": "stream",
     "text": [
      "32/32 [==============================] - 0s 3ms/step - loss: 158.5705 - accuracy: 0.0130\n",
      "Epoch 82/100\n",
      "32/32 [==============================] - 0s 2ms/step - loss: 162.2076 - accuracy: 0.0000e+00\n",
      "Epoch 83/100\n",
      "32/32 [==============================] - 0s 2ms/step - loss: 167.1044 - accuracy: 0.0140\n",
      "Epoch 84/100\n",
      "32/32 [==============================] - 0s 2ms/step - loss: 165.1568 - accuracy: 0.0010\n",
      "Epoch 85/100\n",
      "32/32 [==============================] - 0s 2ms/step - loss: 170.9557 - accuracy: 0.0160\n",
      "Epoch 86/100\n",
      "32/32 [==============================] - 0s 2ms/step - loss: 178.3549 - accuracy: 0.0020\n",
      "Epoch 87/100\n",
      "32/32 [==============================] - 0s 2ms/step - loss: 188.4327 - accuracy: 0.0010\n",
      "Epoch 88/100\n",
      "32/32 [==============================] - 0s 2ms/step - loss: 191.9089 - accuracy: 0.0100\n",
      "Epoch 89/100\n",
      "32/32 [==============================] - 0s 2ms/step - loss: 189.5848 - accuracy: 0.0010\n",
      "Epoch 90/100\n",
      "32/32 [==============================] - 0s 2ms/step - loss: 195.3922 - accuracy: 0.0100\n",
      "Epoch 91/100\n",
      "32/32 [==============================] - 0s 2ms/step - loss: 190.0661 - accuracy: 0.0170\n",
      "Epoch 92/100\n",
      "32/32 [==============================] - 0s 2ms/step - loss: 201.7272 - accuracy: 0.0010\n",
      "Epoch 93/100\n",
      "32/32 [==============================] - 0s 2ms/step - loss: 200.4012 - accuracy: 0.0010\n",
      "Epoch 94/100\n",
      "32/32 [==============================] - 0s 3ms/step - loss: 201.1344 - accuracy: 0.0010\n",
      "Epoch 95/100\n",
      "32/32 [==============================] - 0s 2ms/step - loss: 219.2091 - accuracy: 0.0160\n",
      "Epoch 96/100\n",
      "32/32 [==============================] - 0s 2ms/step - loss: 223.9180 - accuracy: 0.0010\n",
      "Epoch 97/100\n",
      "32/32 [==============================] - 0s 3ms/step - loss: 218.7812 - accuracy: 0.0090\n",
      "Epoch 98/100\n",
      "32/32 [==============================] - 0s 2ms/step - loss: 230.5997 - accuracy: 0.0130\n",
      "Epoch 99/100\n",
      "32/32 [==============================] - 0s 2ms/step - loss: 247.1568 - accuracy: 0.0000e+00\n",
      "Epoch 100/100\n",
      "32/32 [==============================] - 0s 2ms/step - loss: 255.2412 - accuracy: 0.0140\n",
      "32/32 [==============================] - 0s 843us/step\n",
      "32/32 [==============================] - 0s 839us/step\n"
     ]
    }
   ],
   "source": [
    "# Train simple deep classifier\n",
    "predicted_classes_train, predicted_classes_test, N_params_deep_classifier = build_simple_deep_classifier(n_folds = CV_folds, \n",
    "                                                                                                        n_jobs = n_jobs, \n",
    "                                                                                                        n_iter =n_iter, \n",
    "                                                                                                        param_grid_in=param_grid_Deep_Classifier, \n",
    "                                                                                                        X_train = x_Grid, \n",
    "                                                                                                        y_train = Classifer_Wasserstein_Centers,\n",
    "                                                                                                        X_test = x_Grid)"
   ]
  },
  {
   "cell_type": "code",
   "execution_count": 87,
   "metadata": {},
   "outputs": [],
   "source": [
    "# Time-Elapsed Training Deep Classifier\n",
    "Type_A_timer_End = time.time() - Type_A_timer_Begin"
   ]
  },
  {
   "cell_type": "markdown",
   "metadata": {},
   "source": [
    "#### Get Predicted Quantized Distributions"
   ]
  },
  {
   "cell_type": "code",
   "execution_count": 88,
   "metadata": {},
   "outputs": [],
   "source": [
    "Predictions_Train = np.matmul(predicted_classes_train,Barycenters_Array.T)\n",
    "Predictions_Test = np.matmul(predicted_classes_test,Barycenters_Array.T)"
   ]
  },
  {
   "cell_type": "markdown",
   "metadata": {},
   "source": [
    "#### Write Predictions"
   ]
  },
  {
   "cell_type": "markdown",
   "metadata": {},
   "source": [
    "Compute Performance"
   ]
  },
  {
   "cell_type": "code",
   "execution_count": 89,
   "metadata": {},
   "outputs": [
    {
     "name": "stdout",
     "output_type": "stream",
     "text": [
      "           W1        EX\n",
      "MAE  1.786451  1.574779\n",
      "MSE  6.695309  2.479928\n"
     ]
    }
   ],
   "source": [
    "# Initialize Wasserstein-1 Error Distribution\n",
    "W1_errors = np.array([])\n",
    "Mean_errors = np.array([])\n",
    "\n",
    "# Get Predicted Means\n",
    "predicted_means = Predictions_Train.mean(axis=1)\n",
    "#---------------------------------------------------------------------------------------------#\n",
    "\n",
    "# Populate Error Distribution\n",
    "for x_i in range(len(measures_locations_list)):\n",
    "    # Get Laws\n",
    "    W1_errors = np.append(W1_errors,ot.emd2_1d(Predictions_Train[x_i,].reshape(-1,1),\n",
    "                                               measures_locations_list[x_i]))\n",
    "    # Get Means\n",
    "    Mean_errors = np.array(predicted_means[x_i]-np.mean(measures_locations_list[x_i]))\n",
    "    \n",
    "#---------------------------------------------------------------------------------------------#\n",
    "# Compute Error Statistics/Descriptors\n",
    "W1_Performance = np.array([np.mean(np.abs(W1_errors)),np.mean(W1_errors**2)])\n",
    "Mean_prediction_Performance = np.array([np.mean(np.abs(Mean_errors)),np.mean(Mean_errors**2)])\n",
    "\n",
    "Type_A_Prediction = pd.DataFrame({\"W1\":W1_Performance,\"EX\":Mean_prediction_Performance},index=[\"MAE\",\"MSE\"])\n",
    "\n",
    "# Write Performance\n",
    "Type_A_Prediction.to_latex((results_tables_path+\"Type_A_Prediction.tex\"))\n",
    "\n",
    "\n",
    "#---------------------------------------------------------------------------------------------#\n",
    "# Update User\n",
    "print(Type_A_Prediction)"
   ]
  },
  {
   "cell_type": "markdown",
   "metadata": {},
   "source": [
    "---"
   ]
  },
  {
   "cell_type": "markdown",
   "metadata": {},
   "source": [
    "---\n",
    "# Fin\n",
    "---"
   ]
  },
  {
   "cell_type": "markdown",
   "metadata": {},
   "source": [
    "---"
   ]
  }
 ],
 "metadata": {
  "kernelspec": {
   "display_name": "Python 3",
   "language": "python",
   "name": "python3"
  },
  "language_info": {
   "codemirror_mode": {
    "name": "ipython",
    "version": 3
   },
   "file_extension": ".py",
   "mimetype": "text/x-python",
   "name": "python",
   "nbconvert_exporter": "python",
   "pygments_lexer": "ipython3",
   "version": "3.7.7"
  }
 },
 "nbformat": 4,
 "nbformat_minor": 2
}
