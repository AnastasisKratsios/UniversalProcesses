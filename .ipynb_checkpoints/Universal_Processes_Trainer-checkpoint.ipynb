{
 "cells": [
  {
   "cell_type": "markdown",
   "metadata": {},
   "source": [
    "# Deep Weak Stochastic Processes\n",
    "---"
   ]
  },
  {
   "cell_type": "markdown",
   "metadata": {},
   "source": [
    "## Meta-Parameters"
   ]
  },
  {
   "cell_type": "markdown",
   "metadata": {},
   "source": [
    "### Visualization"
   ]
  },
  {
   "cell_type": "code",
   "execution_count": 1,
   "metadata": {},
   "outputs": [],
   "source": [
    "# How many random polulations to visualize:\n",
    "Visualization_Size = 4"
   ]
  },
  {
   "cell_type": "markdown",
   "metadata": {},
   "source": [
    "### Simulation"
   ]
  },
  {
   "cell_type": "code",
   "execution_count": 2,
   "metadata": {},
   "outputs": [],
   "source": [
    "## Monte-Carlo\n",
    "N_Euler_Maruyama_Steps = 2\n",
    "N_Monte_Carlo_Samples = 1\n",
    "\n",
    "## Grid\n",
    "N_Grid_Finess = 10**2\n",
    "Max_Grid = 2"
   ]
  },
  {
   "cell_type": "markdown",
   "metadata": {},
   "source": [
    "### Quantization\n",
    "*This hyperparameter describes the proportion of the data used as sample-barycenters.*"
   ]
  },
  {
   "cell_type": "code",
   "execution_count": 3,
   "metadata": {},
   "outputs": [],
   "source": [
    "Quantization_Proportion = 1"
   ]
  },
  {
   "cell_type": "markdown",
   "metadata": {},
   "source": [
    "**Note**: Setting *N_Quantizers_to_parameterize* prevents any barycenters and sub-sampling."
   ]
  },
  {
   "cell_type": "markdown",
   "metadata": {},
   "source": [
    "# Training Algorithm\n",
    "---\n",
    "Given a set of training inputs $\\mathbb{X}$ and a stochastic process $(X_t)_{t\\geq 0}$ which we can sample from:\n",
    "1. **For:** x in $\\mathbb{X}$:\n",
    "    - *Simulate:* $\\{x\\mapsto X_T(\\omega_n)\\}_{n=1}^N$\n",
    "    - *Set*: $\\hat{\\nu}_{x,T}\\triangleq \\frac1{N}\\sum_{n=1}^N \\delta_{X_T(\\omega_n)}$\n",
    "2. **Learn:** Wasserstein Barycenters $\\hat{\\mu}_1,\\dots,\\hat{\\mu}_N\n",
    "    \\in \\underset{{\\hat{\\mu}_n\\in\\mathscr{P}_{N}(\\mathbb{R}^d)}}{\\operatorname{argmin}}\n",
    "    \\, \\sum_{n=1}^N W_1(\\hat{\\mu_n},\\hat{\\nu}_{x,T})$\n",
    "3. **Train Classifier:** $\\hat{f}:x\\mapsto \\operatorname{n\\leq N}\\, W_1(\\hat{\\mu_n},\\hat{\\nu}_{x,T})$"
   ]
  },
  {
   "cell_type": "markdown",
   "metadata": {},
   "source": [
    "#### Mode: Code-Testin Parameter(s)"
   ]
  },
  {
   "cell_type": "code",
   "execution_count": 4,
   "metadata": {},
   "outputs": [],
   "source": [
    "trial_run = True"
   ]
  },
  {
   "cell_type": "markdown",
   "metadata": {},
   "source": [
    "### Meta-parameters"
   ]
  },
  {
   "cell_type": "code",
   "execution_count": 5,
   "metadata": {},
   "outputs": [],
   "source": [
    "# Test-size Ratio\n",
    "test_size_ratio = 1"
   ]
  },
  {
   "cell_type": "markdown",
   "metadata": {},
   "source": [
    "### Hyperparameters\n",
    "\n",
    "Only turn of if running code directly here, typically this script should be run be called by other notebooks.  "
   ]
  },
  {
   "cell_type": "code",
   "execution_count": 6,
   "metadata": {},
   "outputs": [],
   "source": [
    "# load dataset\n",
    "results_path = \"./outputs/models/\"\n",
    "results_tables_path = \"./outputs/results/\"\n",
    "raw_data_path_folder = \"./inputs/raw/\"\n",
    "data_path_folder = \"./inputs/data/\""
   ]
  },
  {
   "cell_type": "markdown",
   "metadata": {},
   "source": [
    "### Import"
   ]
  },
  {
   "cell_type": "code",
   "execution_count": 7,
   "metadata": {},
   "outputs": [
    {
     "name": "stderr",
     "output_type": "stream",
     "text": [
      "Using TensorFlow backend.\n"
     ]
    },
    {
     "name": "stdout",
     "output_type": "stream",
     "text": [
      "Deep Feature Builder - Ready\n",
      "Deep Classifier - Ready\n"
     ]
    }
   ],
   "source": [
    "# Load Packages/Modules\n",
    "exec(open('Init_Dump.py').read())\n",
    "# Load Hyper-parameter Grid\n",
    "exec(open('Grid_Enhanced_Network.py').read())\n",
    "# Load Helper Function(s)\n",
    "exec(open('Helper_Functions.py').read())\n",
    "# Import time separately\n",
    "import time"
   ]
  },
  {
   "cell_type": "markdown",
   "metadata": {},
   "source": [
    "## Get Internal (Hyper)-Parameter(s)\n",
    "*Initialize the hyperparameters which are fully-specified by the user-provided hyperparameter(s).*"
   ]
  },
  {
   "cell_type": "markdown",
   "metadata": {},
   "source": [
    "### Initialize Grid\n",
    "This is $\\mathbb{X}$ and it represents the grid of initial states."
   ]
  },
  {
   "cell_type": "code",
   "execution_count": 8,
   "metadata": {},
   "outputs": [
    {
     "name": "stdout",
     "output_type": "stream",
     "text": [
      "• Grid Instances:  100\n"
     ]
    }
   ],
   "source": [
    "# Get Input Data\n",
    "x_Grid = np.arange(start=-Max_Grid,\n",
    "                   stop=Max_Grid,\n",
    "                   step=(2*Max_Grid/N_Grid_Finess))\n",
    "\n",
    "# Get Number of Instances in Grid\n",
    "N_Grid_Instances = len(x_Grid)\n",
    "\n",
    "# Updater User\n",
    "print(\"\\u2022 Grid Instances: \", N_Grid_Instances)"
   ]
  },
  {
   "cell_type": "markdown",
   "metadata": {},
   "source": [
    "### Initialize Counting Parameters\n",
    "Initialize the \"conting\" type parameters which will help us to determine the length of loops and to intialize object's size later on.  "
   ]
  },
  {
   "cell_type": "code",
   "execution_count": 9,
   "metadata": {},
   "outputs": [
    {
     "name": "stdout",
     "output_type": "stream",
     "text": [
      "• 100  Centers will be produced; from a total datasize of:  100 !  (That's  1  percent).\n",
      "• Each Wasserstein-1 Ball should contain:  1 elements from the training set.\n"
     ]
    }
   ],
   "source": [
    "# Get Internal (Counting) Parameters\n",
    "N_Quantizers_to_parameterize = round(Quantization_Proportion*N_Grid_Finess)\n",
    "N_Elements_Per_Cluster = int(round(N_Grid_Instances/N_Quantizers_to_parameterize))\n",
    "\n",
    "# Update User\n",
    "print(\"\\u2022\",N_Quantizers_to_parameterize,\" Centers will be produced; from a total datasize of: \",N_Grid_Finess,\n",
    "      \"!  (That's \",Quantization_Proportion,\n",
    "      \" percent).\")\n",
    "print(\"\\u2022 Each Wasserstein-1 Ball should contain: \",\n",
    "      N_Elements_Per_Cluster, \n",
    "      \"elements from the training set.\")"
   ]
  },
  {
   "cell_type": "markdown",
   "metadata": {},
   "source": [
    "### Set Seed"
   ]
  },
  {
   "cell_type": "code",
   "execution_count": 10,
   "metadata": {},
   "outputs": [],
   "source": [
    "random.seed(2021)\n",
    "np.random.seed(2021)\n",
    "tf.random.set_seed(2021)"
   ]
  },
  {
   "cell_type": "markdown",
   "metadata": {},
   "source": [
    "---"
   ]
  },
  {
   "cell_type": "markdown",
   "metadata": {},
   "source": [
    "### Simulate Path\n",
    "$d X_t = \\alpha(t,x)dt + \\beta(t,x)dW_t ;\\qquad X_0 =x$"
   ]
  },
  {
   "cell_type": "markdown",
   "metadata": {},
   "source": [
    "### Drift"
   ]
  },
  {
   "cell_type": "code",
   "execution_count": 11,
   "metadata": {},
   "outputs": [],
   "source": [
    "def alpha(t,x):\n",
    "    return 0#np.sin(math.pi*t)"
   ]
  },
  {
   "cell_type": "markdown",
   "metadata": {},
   "source": [
    "### Volatility"
   ]
  },
  {
   "cell_type": "code",
   "execution_count": 12,
   "metadata": {},
   "outputs": [],
   "source": [
    "def beta(t,x):\n",
    "    return 1#(t+1)**.5"
   ]
  },
  {
   "cell_type": "markdown",
   "metadata": {},
   "source": [
    "---"
   ]
  },
  {
   "cell_type": "code",
   "execution_count": 13,
   "metadata": {},
   "outputs": [],
   "source": [
    "# Initialize List of Barycenters\n",
    "Wasserstein_Barycenters = []\n",
    "# Initialize Terminal-Time Empirical Measures\n",
    "measures_locations_list = []\n",
    "measures_weights_list = []\n",
    "# Initialize (Empirical) Weight(s)\n",
    "measure_weights = np.ones(N_Monte_Carlo_Samples)/N_Monte_Carlo_Samples\n",
    "# Initialize Quantizer\n",
    "Init_Quantizer_generic = np.ones(N_Monte_Carlo_Samples)/N_Monte_Carlo_Samples"
   ]
  },
  {
   "cell_type": "markdown",
   "metadata": {},
   "source": [
    "## Generate $\\{\\hat{\\nu}^{N}_{T,x}\\}_{x \\in \\mathbb{X}}$ Build Wasserstein Cover"
   ]
  },
  {
   "cell_type": "markdown",
   "metadata": {},
   "source": [
    "#### Get Data"
   ]
  },
  {
   "cell_type": "code",
   "execution_count": 14,
   "metadata": {},
   "outputs": [
    {
     "name": "stderr",
     "output_type": "stream",
     "text": [
      "100%|██████████| 100/100 [00:00<00:00, 56933.68it/s]"
     ]
    },
    {
     "name": "stdout",
     "output_type": "stream",
     "text": [
      "Current Monte-Carlo Step:\n",
      "Done Simulation Step\n"
     ]
    },
    {
     "name": "stderr",
     "output_type": "stream",
     "text": [
      "\n"
     ]
    }
   ],
   "source": [
    "# Update User\n",
    "print(\"Current Monte-Carlo Step:\")\n",
    "\n",
    "# Perform Monte-Carlo Data Generation\n",
    "for i in tqdm(range(N_Grid_Instances)):\n",
    "    # Get Terminal Distribution Shape\n",
    "    ###\n",
    "    # DIRECT SAMPLING\n",
    "    measures_locations_loop = (np.random.normal(x_Grid[i],np.abs(x_Grid[i]), N_Monte_Carlo_Samples).reshape(-1,))/N_Monte_Carlo_Samples\n",
    "    \n",
    "    # Append to List\n",
    "    measures_locations_list.append(measures_locations_loop.reshape(-1,1))\n",
    "    measures_weights_list.append(measure_weights)\n",
    "    \n",
    "# Update User\n",
    "print(\"Done Simulation Step\")"
   ]
  },
  {
   "cell_type": "markdown",
   "metadata": {},
   "source": [
    "#### Get Cover"
   ]
  },
  {
   "cell_type": "markdown",
   "metadata": {},
   "source": [
    "## Get \"Sample Barycenters\":\n",
    "Let $\\{\\mu_n\\}_{n=1}^N\\subset\\mathcal{P}_1(\\mathbb{R}^d)$.  Then, the *sample barycenter* is defined by:\n",
    "1. $\\mathcal{M}^{(0)}\\triangleq \\left\\{\\hat{\\mu}_n\\right\\}_{n=1}^N$,\n",
    "2. For $1\\leq n\\leq \\mbox{N sample barycenters}$: \n",
    "    - $\n",
    "\\mu^{\\star}\\in \\underset{\\tilde{\\mu}\\in \\mathcal{M}^{(n)}}{\\operatorname{argmin}}\\, \\sum_{n=1}^N \\mathcal{W}_1\\left(\\mu^{\\star},\\mu_n\\right),\n",
    "$\n",
    "    - $\\mathcal{M}^{(n)}\\triangleq \\mathcal{M}^{(n-1)} - \\{\\mu^{\\star}\\},$\n",
    "*i.e., the closest generated measure form the random sample to all other elements of the random sample.*\n",
    "\n",
    "---\n",
    "**Note:** *We simplify the computational burden of getting the correct classes by putting this right into this next loop.*\n",
    "\n",
    "---"
   ]
  },
  {
   "cell_type": "markdown",
   "metadata": {},
   "source": [
    "## Build Dissimilarity (Distance) Matrix\n",
    "*In this step we build a dissimularity matrix of the dataset on the Wasserstein-1 space.  Namely:*\n",
    "$$\n",
    "\\operatorname{Mat}_{\\# \\mathbb{X},\\# \\mathbb{X}}\\left(\\mathbb{R}\\right)\\ni D; \\text{ where}\\qquad \\, D_{i,j}\\triangleq \\mathcal{W}_1\\left(f(x_i),f(x_j)\\right)\n",
    ";\n",
    "$$\n",
    "*where $f\\in C\\left((\\mathcal{X},\\mathcal{P}_1(\\mathcal{Y})\\right)$ is the \"target\" function we are learning.*\n",
    "\n",
    "**Note**: *Computing the dissimularity matrix is the most costly part of the entire algorithm with a complexity of at-most $\\mathcal{O}\\left(E_{W} \\# \\mathbb{X})^2\\right)$ where $E_W$ denotes the complexity of a single Wasserstein-1 evaluation between two elements of the dataset.*"
   ]
  },
  {
   "cell_type": "code",
   "execution_count": 15,
   "metadata": {},
   "outputs": [
    {
     "name": "stderr",
     "output_type": "stream",
     "text": [
      "\r",
      "  0%|          | 0/100 [00:00<?, ?it/s]"
     ]
    },
    {
     "name": "stdout",
     "output_type": "stream",
     "text": [
      "😚  Begin Building Distance Matrix  😚\n"
     ]
    },
    {
     "name": "stderr",
     "output_type": "stream",
     "text": [
      "100%|██████████| 100/100 [00:00<00:00, 108.96it/s]"
     ]
    },
    {
     "name": "stdout",
     "output_type": "stream",
     "text": [
      "😀  Done Building Distance Matrix 😀 !\n"
     ]
    },
    {
     "name": "stderr",
     "output_type": "stream",
     "text": [
      "\n"
     ]
    }
   ],
   "source": [
    "# Initialize Disimilarity Matrix\n",
    "Dissimilarity_matrix_ot = np.zeros([N_Grid_Instances,N_Grid_Instances])\n",
    "\n",
    "\n",
    "# Update User\n",
    "print(\"\\U0001F61A\",\" Begin Building Distance Matrix\",\" \\U0001F61A\")\n",
    "# Build Disimilarity Matrix\n",
    "for i in tqdm(range(N_Grid_Instances)):\n",
    "    for j in range(N_Grid_Instances):\n",
    "        Dissimilarity_matrix_ot[i,j] = ot.emd2_1d(measures_locations_list[j],\n",
    "                                                  measures_locations_list[i])\n",
    "# Update User\n",
    "print(\"\\U0001F600\",\" Done Building Distance Matrix\",\"\\U0001F600\",\"!\")"
   ]
  },
  {
   "cell_type": "markdown",
   "metadata": {},
   "source": [
    "## Initialize Quantities to Loop Over"
   ]
  },
  {
   "cell_type": "markdown",
   "metadata": {},
   "source": [
    "## Get \"Sample Barycenters\" and Generate Classes"
   ]
  },
  {
   "cell_type": "code",
   "execution_count": 16,
   "metadata": {},
   "outputs": [],
   "source": [
    "# Initialize Locations Matrix (Internal to Loop)\n",
    "measures_locations_list_current = copy.copy(measures_locations_list)\n",
    "Dissimilarity_matrix_ot_current = copy.copy(Dissimilarity_matrix_ot)\n",
    "\n",
    "# Initialize Sorting Reference Vector (This helps us efficiently scroll through the disimularity matrix to identify the barycenter without having to re-compute the dissimultarity matrix of a sub-saple at every iteration (which is the most costly part of the algorithm!))\n",
    "Distances_Loop = Dissimilarity_matrix_ot_current.sum(axis=1)\n",
    "\n",
    "# Initialize Classes (In-Sample)\n",
    "Classifer_Wasserstein_Centers = np.zeros([N_Grid_Instances,N_Quantizers_to_parameterize])"
   ]
  },
  {
   "cell_type": "code",
   "execution_count": 17,
   "metadata": {},
   "outputs": [
    {
     "name": "stderr",
     "output_type": "stream",
     "text": [
      "100%|██████████| 100/100 [00:00<00:00, 26252.14it/s]"
     ]
    },
    {
     "name": "stdout",
     "output_type": "stream",
     "text": [
      "😚  Begin Identifying Sample Barycenters  😚\n",
      "😀  Done Identifying Sample Barycenters 😀 !\n"
     ]
    },
    {
     "name": "stderr",
     "output_type": "stream",
     "text": [
      "\n"
     ]
    }
   ],
   "source": [
    "# Update User\n",
    "print(\"\\U0001F61A\",\" Begin Identifying Sample Barycenters\",\" \\U0001F61A\")\n",
    "\n",
    "# Identify Sample Barycenters\n",
    "for i in tqdm(range(N_Quantizers_to_parameterize)):    \n",
    "    # GET BARYCENTER #\n",
    "    #----------------#\n",
    "    ## Identify row with minimum total distance\n",
    "    Barycenter_index = int(Distances_Loop.argsort()[:1][0])\n",
    "    ## Get Barycenter\n",
    "    ## Update Barycenters Array ##\n",
    "    #----------------------------#\n",
    "    ### Get next Barycenter\n",
    "    new_barycenter_loop = measures_locations_list_current[Barycenter_index].reshape(-1,1)\n",
    "    ### Update Array of Barycenters\n",
    "    if i == 0:\n",
    "        # Initialize Barycenters Array\n",
    "        Barycenters_Array = new_barycenter_loop\n",
    "    else:\n",
    "        # Populate Barycenters Array\n",
    "        Barycenters_Array = np.append(Barycenters_Array,new_barycenter_loop,axis=-1)\n",
    "\n",
    "    # GET CLUSTER #\n",
    "    #-------------#\n",
    "    # Identify Cluster for this barycenter (which elements are closest to it)\n",
    "    Cluster_indices = (Dissimilarity_matrix_ot_current[:,Barycenter_index]).argsort()[:N_Elements_Per_Cluster]\n",
    "    ## UPDATES Set  M^{(n)}  ##\n",
    "    #-------------------------#\n",
    "    Dissimilarity_matrix_ot_current[Barycenter_index,:] = 0\n",
    "    # Distance-Based Sorting\n",
    "    Distances_Loop[Barycenter_index] = math.inf\n",
    "\n",
    "    # # Update Classes\n",
    "    Classifer_Wasserstein_Centers[i,Barycenter_index] = 1\n",
    "\n",
    "# Update User\n",
    "print(\"\\U0001F600\",\" Done Identifying Sample Barycenters\",\"\\U0001F600\",\"!\")"
   ]
  },
  {
   "cell_type": "markdown",
   "metadata": {},
   "source": [
    "---"
   ]
  },
  {
   "cell_type": "markdown",
   "metadata": {},
   "source": [
    "### Train Classifier"
   ]
  },
  {
   "cell_type": "markdown",
   "metadata": {},
   "source": [
    "In this step, we train a deep (feed-forward) classifier:\n",
    "$$\n",
    "\\hat{f}\\triangleq \\operatorname{Softmax}_N\\circ W_J\\circ \\sigma \\bullet \\dots \\sigma \\bullet W_1,\n",
    "$$\n",
    "to identify which barycenter we are closest to."
   ]
  },
  {
   "cell_type": "markdown",
   "metadata": {},
   "source": [
    "#### Deep Classifier\n",
    "Prepare Labels/Classes"
   ]
  },
  {
   "cell_type": "code",
   "execution_count": 42,
   "metadata": {},
   "outputs": [],
   "source": [
    "# Time-Elapsed Training Deep Classifier\n",
    "Type_A_timer_Begin = time.time()"
   ]
  },
  {
   "cell_type": "markdown",
   "metadata": {},
   "source": [
    "Re-Load Grid and Redefine Relevant Input/Output dimensions in dictionary."
   ]
  },
  {
   "cell_type": "markdown",
   "metadata": {},
   "source": [
    "#### Train Deep Classifier"
   ]
  },
  {
   "cell_type": "code",
   "execution_count": 88,
   "metadata": {},
   "outputs": [
    {
     "name": "stdout",
     "output_type": "stream",
     "text": [
      "Deep Classifier - Ready\n",
      "Deep Feature Builder - Ready\n"
     ]
    }
   ],
   "source": [
    "# Re-Load Classifier Function(s)\n",
    "# exec(open('Helper_Functions.py').read())\n",
    "%run ParaGAN_Backend.ipynb\n",
    "\n",
    "# Redefine (Dimension-related) Elements of Grid\n",
    "param_grid_Deep_Classifier['output_dim'] = [N_Quantizers_to_parameterize]"
   ]
  },
  {
   "cell_type": "code",
   "execution_count": null,
   "metadata": {},
   "outputs": [
    {
     "name": "stdout",
     "output_type": "stream",
     "text": [
      "Fitting 2 folds for each of 1 candidates, totalling 2 fits\n"
     ]
    },
    {
     "name": "stderr",
     "output_type": "stream",
     "text": [
      "[Parallel(n_jobs=4)]: Using backend LokyBackend with 4 concurrent workers.\n",
      "[Parallel(n_jobs=4)]: Done   2 out of   2 | elapsed:   13.3s remaining:    0.0s\n",
      "[Parallel(n_jobs=4)]: Done   2 out of   2 | elapsed:   13.3s finished\n"
     ]
    },
    {
     "name": "stdout",
     "output_type": "stream",
     "text": [
      "Epoch 1/600\n",
      "4/4 [==============================] - 0s 5ms/step - loss: 0.0198 - accuracy: 0.0100 - mae: 0.0198\n",
      "Epoch 2/600\n",
      "4/4 [==============================] - 0s 6ms/step - loss: 0.0198 - accuracy: 0.0200 - mae: 0.0198\n",
      "Epoch 3/600\n",
      "4/4 [==============================] - 0s 6ms/step - loss: 0.0198 - accuracy: 0.0200 - mae: 0.0198\n",
      "Epoch 4/600\n",
      "4/4 [==============================] - 0s 5ms/step - loss: 0.0198 - accuracy: 0.0200 - mae: 0.0198\n",
      "Epoch 5/600\n",
      "4/4 [==============================] - 0s 6ms/step - loss: 0.0198 - accuracy: 0.0200 - mae: 0.0198\n",
      "Epoch 6/600\n",
      "4/4 [==============================] - 0s 5ms/step - loss: 0.0198 - accuracy: 0.0200 - mae: 0.0198\n",
      "Epoch 7/600\n",
      "4/4 [==============================] - 0s 7ms/step - loss: 0.0198 - accuracy: 0.0100 - mae: 0.0198\n",
      "Epoch 8/600\n",
      "4/4 [==============================] - 0s 5ms/step - loss: 0.0198 - accuracy: 0.0200 - mae: 0.0198\n",
      "Epoch 9/600\n",
      "4/4 [==============================] - 0s 6ms/step - loss: 0.0198 - accuracy: 0.0100 - mae: 0.0198\n",
      "Epoch 10/600\n",
      "4/4 [==============================] - 0s 5ms/step - loss: 0.0198 - accuracy: 0.0200 - mae: 0.0198\n",
      "Epoch 11/600\n",
      "4/4 [==============================] - 0s 5ms/step - loss: 0.0198 - accuracy: 0.0200 - mae: 0.0198\n",
      "Epoch 12/600\n",
      "4/4 [==============================] - 0s 7ms/step - loss: 0.0198 - accuracy: 0.0200 - mae: 0.0198\n",
      "Epoch 13/600\n",
      "4/4 [==============================] - 0s 6ms/step - loss: 0.0198 - accuracy: 0.0200 - mae: 0.0198\n",
      "Epoch 14/600\n",
      "4/4 [==============================] - 0s 5ms/step - loss: 0.0198 - accuracy: 0.0200 - mae: 0.0198\n",
      "Epoch 15/600\n",
      "4/4 [==============================] - 0s 6ms/step - loss: 0.0198 - accuracy: 0.0100 - mae: 0.0198\n",
      "Epoch 16/600\n",
      "4/4 [==============================] - 0s 6ms/step - loss: 0.0198 - accuracy: 0.0200 - mae: 0.0198\n",
      "Epoch 17/600\n",
      "4/4 [==============================] - 0s 7ms/step - loss: 0.0197 - accuracy: 0.0200 - mae: 0.0197\n",
      "Epoch 18/600\n",
      "4/4 [==============================] - 0s 5ms/step - loss: 0.0197 - accuracy: 0.0200 - mae: 0.0197\n",
      "Epoch 19/600\n",
      "4/4 [==============================] - 0s 5ms/step - loss: 0.0197 - accuracy: 0.0200 - mae: 0.0197\n",
      "Epoch 20/600\n",
      "4/4 [==============================] - 0s 6ms/step - loss: 0.0197 - accuracy: 0.0200 - mae: 0.0197\n",
      "Epoch 21/600\n",
      "4/4 [==============================] - 0s 5ms/step - loss: 0.0197 - accuracy: 0.0200 - mae: 0.0197\n",
      "Epoch 22/600\n",
      "4/4 [==============================] - 0s 7ms/step - loss: 0.0196 - accuracy: 0.0200 - mae: 0.0196\n",
      "Epoch 23/600\n",
      "4/4 [==============================] - 0s 6ms/step - loss: 0.0196 - accuracy: 0.0200 - mae: 0.0196\n",
      "Epoch 24/600\n",
      "4/4 [==============================] - 0s 6ms/step - loss: 0.0196 - accuracy: 0.0200 - mae: 0.0196\n",
      "Epoch 25/600\n",
      "4/4 [==============================] - 0s 6ms/step - loss: 0.0195 - accuracy: 0.0200 - mae: 0.0195\n",
      "Epoch 26/600\n",
      "4/4 [==============================] - 0s 5ms/step - loss: 0.0195 - accuracy: 0.0200 - mae: 0.0195\n",
      "Epoch 27/600\n",
      "4/4 [==============================] - 0s 5ms/step - loss: 0.0195 - accuracy: 0.0200 - mae: 0.0195\n",
      "Epoch 28/600\n",
      "4/4 [==============================] - 0s 6ms/step - loss: 0.0195 - accuracy: 0.0200 - mae: 0.0195\n",
      "Epoch 29/600\n",
      "4/4 [==============================] - 0s 6ms/step - loss: 0.0195 - accuracy: 0.0200 - mae: 0.0195\n",
      "Epoch 30/600\n",
      "4/4 [==============================] - 0s 6ms/step - loss: 0.0195 - accuracy: 0.0200 - mae: 0.0195\n",
      "Epoch 31/600\n",
      "4/4 [==============================] - 0s 6ms/step - loss: 0.0195 - accuracy: 0.0200 - mae: 0.0195\n",
      "Epoch 32/600\n",
      "4/4 [==============================] - 0s 6ms/step - loss: 0.0195 - accuracy: 0.0200 - mae: 0.0195\n",
      "Epoch 33/600\n",
      "4/4 [==============================] - 0s 6ms/step - loss: 0.0195 - accuracy: 0.0200 - mae: 0.0195\n",
      "Epoch 34/600\n",
      "4/4 [==============================] - 0s 6ms/step - loss: 0.0195 - accuracy: 0.0200 - mae: 0.0195\n",
      "Epoch 35/600\n",
      "4/4 [==============================] - 0s 6ms/step - loss: 0.0195 - accuracy: 0.0200 - mae: 0.0195\n",
      "Epoch 36/600\n",
      "4/4 [==============================] - 0s 7ms/step - loss: 0.0195 - accuracy: 0.0200 - mae: 0.0195\n",
      "Epoch 37/600\n",
      "4/4 [==============================] - 0s 5ms/step - loss: 0.0195 - accuracy: 0.0200 - mae: 0.0195\n",
      "Epoch 38/600\n",
      "4/4 [==============================] - 0s 8ms/step - loss: 0.0195 - accuracy: 0.0200 - mae: 0.0195\n",
      "Epoch 39/600\n",
      "4/4 [==============================] - 0s 6ms/step - loss: 0.0195 - accuracy: 0.0200 - mae: 0.0195\n",
      "Epoch 40/600\n",
      "4/4 [==============================] - 0s 6ms/step - loss: 0.0195 - accuracy: 0.0200 - mae: 0.0195\n",
      "Epoch 41/600\n",
      "4/4 [==============================] - 0s 5ms/step - loss: 0.0195 - accuracy: 0.0200 - mae: 0.0195\n",
      "Epoch 42/600\n",
      "4/4 [==============================] - 0s 6ms/step - loss: 0.0195 - accuracy: 0.0200 - mae: 0.0195\n",
      "Epoch 43/600\n",
      "4/4 [==============================] - 0s 6ms/step - loss: 0.0195 - accuracy: 0.0200 - mae: 0.0195\n",
      "Epoch 44/600\n",
      "4/4 [==============================] - 0s 7ms/step - loss: 0.0194 - accuracy: 0.0200 - mae: 0.0194\n",
      "Epoch 45/600\n",
      "4/4 [==============================] - 0s 9ms/step - loss: 0.0194 - accuracy: 0.0200 - mae: 0.0194\n",
      "Epoch 46/600\n",
      "4/4 [==============================] - 0s 6ms/step - loss: 0.0194 - accuracy: 0.0200 - mae: 0.0194\n",
      "Epoch 47/600\n",
      "4/4 [==============================] - 0s 6ms/step - loss: 0.0194 - accuracy: 0.0200 - mae: 0.0194\n",
      "Epoch 48/600\n",
      "4/4 [==============================] - 0s 7ms/step - loss: 0.0194 - accuracy: 0.0200 - mae: 0.0194\n",
      "Epoch 49/600\n",
      "4/4 [==============================] - 0s 5ms/step - loss: 0.0194 - accuracy: 0.0200 - mae: 0.0194\n",
      "Epoch 50/600\n",
      "4/4 [==============================] - 0s 6ms/step - loss: 0.0194 - accuracy: 0.0200 - mae: 0.0194\n",
      "Epoch 51/600\n",
      "4/4 [==============================] - 0s 6ms/step - loss: 0.0194 - accuracy: 0.0200 - mae: 0.0194\n",
      "Epoch 52/600\n",
      "4/4 [==============================] - 0s 6ms/step - loss: 0.0194 - accuracy: 0.0300 - mae: 0.0194\n",
      "Epoch 53/600\n",
      "4/4 [==============================] - 0s 6ms/step - loss: 0.0194 - accuracy: 0.0400 - mae: 0.0194\n",
      "Epoch 54/600\n",
      "4/4 [==============================] - 0s 5ms/step - loss: 0.0194 - accuracy: 0.0300 - mae: 0.0194\n",
      "Epoch 55/600\n",
      "4/4 [==============================] - 0s 5ms/step - loss: 0.0194 - accuracy: 0.0300 - mae: 0.0194\n",
      "Epoch 56/600\n",
      "4/4 [==============================] - 0s 5ms/step - loss: 0.0194 - accuracy: 0.0200 - mae: 0.0194\n",
      "Epoch 57/600\n",
      "4/4 [==============================] - 0s 6ms/step - loss: 0.0194 - accuracy: 0.0200 - mae: 0.0194\n",
      "Epoch 58/600\n",
      "4/4 [==============================] - 0s 5ms/step - loss: 0.0194 - accuracy: 0.0200 - mae: 0.0194\n",
      "Epoch 59/600\n",
      "4/4 [==============================] - 0s 5ms/step - loss: 0.0194 - accuracy: 0.0200 - mae: 0.0194\n",
      "Epoch 60/600\n",
      "4/4 [==============================] - 0s 7ms/step - loss: 0.0194 - accuracy: 0.0200 - mae: 0.0194\n",
      "Epoch 61/600\n",
      "4/4 [==============================] - 0s 6ms/step - loss: 0.0194 - accuracy: 0.0200 - mae: 0.0194\n",
      "Epoch 62/600\n",
      "4/4 [==============================] - 0s 5ms/step - loss: 0.0194 - accuracy: 0.0300 - mae: 0.0194\n",
      "Epoch 63/600\n",
      "4/4 [==============================] - 0s 5ms/step - loss: 0.0194 - accuracy: 0.0300 - mae: 0.0194\n",
      "Epoch 64/600\n",
      "4/4 [==============================] - 0s 5ms/step - loss: 0.0193 - accuracy: 0.0300 - mae: 0.0193\n",
      "Epoch 65/600\n",
      "4/4 [==============================] - 0s 5ms/step - loss: 0.0193 - accuracy: 0.0300 - mae: 0.0193\n",
      "Epoch 66/600\n",
      "4/4 [==============================] - 0s 5ms/step - loss: 0.0193 - accuracy: 0.0300 - mae: 0.0193\n",
      "Epoch 67/600\n",
      "4/4 [==============================] - 0s 6ms/step - loss: 0.0193 - accuracy: 0.0300 - mae: 0.0193\n",
      "Epoch 68/600\n",
      "4/4 [==============================] - 0s 6ms/step - loss: 0.0193 - accuracy: 0.0300 - mae: 0.0193\n",
      "Epoch 69/600\n",
      "4/4 [==============================] - 0s 6ms/step - loss: 0.0193 - accuracy: 0.0300 - mae: 0.0193\n",
      "Epoch 70/600\n",
      "4/4 [==============================] - 0s 6ms/step - loss: 0.0193 - accuracy: 0.0500 - mae: 0.0193\n"
     ]
    }
   ],
   "source": [
    "# Train simple deep classifier\n",
    "predicted_classes_train, predicted_classes_test, N_params_deep_classifier = build_simple_deep_classifier(n_folds = CV_folds, \n",
    "                                                                                                        n_jobs = n_jobs, \n",
    "                                                                                                        n_iter = n_iter, \n",
    "                                                                                                        param_grid_in=param_grid_Deep_Classifier, \n",
    "                                                                                                        X_train = x_Grid, \n",
    "                                                                                                        y_train = Classifer_Wasserstein_Centers,\n",
    "                                                                                                        X_test = x_Grid)"
   ]
  },
  {
   "cell_type": "code",
   "execution_count": null,
   "metadata": {},
   "outputs": [],
   "source": [
    "# Time-Elapsed Training Deep Classifier\n",
    "Type_A_timer_End = time.time() - Type_A_timer_Begin"
   ]
  },
  {
   "cell_type": "markdown",
   "metadata": {},
   "source": [
    "#### Get Predicted Quantized Distributions"
   ]
  },
  {
   "cell_type": "code",
   "execution_count": null,
   "metadata": {},
   "outputs": [],
   "source": [
    "Predictions_Train = np.matmul(Barycenters_Array,predicted_classes_train).T\n",
    "Predictions_Test = np.matmul(Barycenters_Array,Classifer_Wasserstein_Centers).T"
   ]
  },
  {
   "cell_type": "markdown",
   "metadata": {},
   "source": [
    "#### Write Predictions"
   ]
  },
  {
   "cell_type": "markdown",
   "metadata": {},
   "source": [
    "Compute Performance"
   ]
  },
  {
   "cell_type": "code",
   "execution_count": null,
   "metadata": {},
   "outputs": [],
   "source": [
    "# Initialize Wasserstein-1 Error Distribution\n",
    "W1_errors = np.array([])\n",
    "Mean_errors = np.array([])\n",
    "\n",
    "# Get Predicted Means\n",
    "predicted_means = Predictions_Train.mean(axis=1)\n",
    "#---------------------------------------------------------------------------------------------#\n",
    "\n",
    "# Populate Error Distribution\n",
    "for x_i in range(len(measures_locations_list)):\n",
    "    # Get Laws\n",
    "    W1_errors = np.append(W1_errors,ot.emd2_1d(Predictions_Train[x_i,].reshape(-1,),\n",
    "                                               measures_locations_list[x_i].reshape(-1,)))\n",
    "    # Get Means\n",
    "    Mean_errors = np.array(predicted_means[x_i]-np.mean(measures_locations_list[x_i]))\n",
    "    \n",
    "#---------------------------------------------------------------------------------------------#\n",
    "# Compute Error Statistics/Descriptors\n",
    "W1_Performance = np.array([np.mean(np.abs(W1_errors)),np.mean(W1_errors**2)])\n",
    "Mean_prediction_Performance = np.array([np.mean(np.abs(Mean_errors)),np.mean(Mean_errors**2)])\n",
    "\n",
    "Type_A_Prediction = pd.DataFrame({\"W1\":W1_Performance,\"EX\":Mean_prediction_Performance},index=[\"MAE\",\"MSE\"])\n",
    "\n",
    "# Write Performance\n",
    "Type_A_Prediction.to_latex((results_tables_path+\"Type_A_Prediction.tex\"))\n",
    "\n",
    "\n",
    "#---------------------------------------------------------------------------------------------#\n",
    "# Update User\n",
    "print(Type_A_Prediction)"
   ]
  },
  {
   "cell_type": "markdown",
   "metadata": {},
   "source": [
    "# Visualization of Performance\n",
    "Randomly subsample from output space and visualize empirical measures!"
   ]
  },
  {
   "cell_type": "code",
   "execution_count": null,
   "metadata": {},
   "outputs": [],
   "source": [
    "# Adjust if is number of plots to visualizes is larger than number of output distributions (But only if there is not enough data!)\n",
    "if np.sqrt(N_Grid_Instances) < np.sqrt(Visualization_Size):\n",
    "        Visualization_Size = int(round(min(np.sqrt(N_Grid_Instances),np.sqrt(Visualization_Size))))\n",
    "\n",
    "\n",
    "# Initialize Random Sample of input-output pairs to visualize\n",
    "plotting_distribution_indices = random.sample(range(N_Grid_Instances), (Visualization_Size)**2)\n",
    "\n",
    "# Generate Plot\n",
    "f, axarr = plt.subplots(Visualization_Size,Visualization_Size,figsize=(6, 6), dpi=80, facecolor='w', edgecolor='k')\n",
    "plt.suptitle(\"Sample of Predictions\")\n",
    "for i in range(Visualization_Size):\n",
    "    for j in range(Visualization_Size):\n",
    "        # Get Current (Randomly chosen (uniformly)) Index\n",
    "        current_index = (i*Visualization_Size + j)\n",
    "        current_random_index = plotting_distribution_indices[current_index]\n",
    "        # Generate Current Plot\n",
    "        axarr[i,j].hist(Predictions_Train[current_random_index], alpha=0.7,label=\"Prediction\")\n",
    "        axarr[i,j].hist(measures_locations_list[current_random_index], alpha=0.5,label=\"Target\")"
   ]
  },
  {
   "cell_type": "markdown",
   "metadata": {},
   "source": [
    "---"
   ]
  },
  {
   "cell_type": "markdown",
   "metadata": {},
   "source": [
    "---\n",
    "# Fin\n",
    "---"
   ]
  },
  {
   "cell_type": "markdown",
   "metadata": {},
   "source": [
    "---"
   ]
  }
 ],
 "metadata": {
  "kernelspec": {
   "display_name": "Python 3",
   "language": "python",
   "name": "python3"
  },
  "language_info": {
   "codemirror_mode": {
    "name": "ipython",
    "version": 3
   },
   "file_extension": ".py",
   "mimetype": "text/x-python",
   "name": "python",
   "nbconvert_exporter": "python",
   "pygments_lexer": "ipython3",
   "version": "3.7.7"
  }
 },
 "nbformat": 4,
 "nbformat_minor": 2
}
