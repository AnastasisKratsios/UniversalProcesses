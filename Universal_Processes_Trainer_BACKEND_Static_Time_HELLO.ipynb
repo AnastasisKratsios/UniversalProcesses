{
 "cells": [
  {
   "cell_type": "markdown",
   "metadata": {},
   "source": [
    "# Generic Conditional Laws for Random-Fields - via:\n",
    "\n",
    "## Universal $\\mathcal{P}_1(\\mathbb{R})$-Deep Neural Model $\\mathcal{NN}_{1_{\\mathbb{R}^n},\\mathcal{D}}^{\\sigma:\\star}$.\n",
    "\n",
    "---\n",
    "\n",
    "By: [Anastasis Kratsios](https://people.math.ethz.ch/~kratsioa/) - 2021.\n",
    "\n",
    "---"
   ]
  },
  {
   "cell_type": "markdown",
   "metadata": {},
   "source": [
    "#### Mode:\n",
    "Software/Hardware Testing or Real-Deal?"
   ]
  },
  {
   "cell_type": "code",
   "execution_count": 1,
   "metadata": {},
   "outputs": [],
   "source": [
    "trial_run = False"
   ]
  },
  {
   "cell_type": "markdown",
   "metadata": {},
   "source": [
    "### Simulation Method:"
   ]
  },
  {
   "cell_type": "code",
   "execution_count": 2,
   "metadata": {},
   "outputs": [],
   "source": [
    "# Random DNN\n",
    "method = \"Random_DNN\"\n",
    "\n",
    "# Random DNN internal noise\n",
    "# method = \"Random_DNN_internal_noise\""
   ]
  },
  {
   "cell_type": "markdown",
   "metadata": {},
   "source": [
    "---\n",
    "# Training Algorithm:\n",
    "---\n",
    "- Random $\\delta$-bounded partition on input space,\n",
    "- Train deep classifier on infered classes.\n",
    "---\n",
    "---\n",
    "---\n",
    "## Notes - Why the procedure is so computationally efficient?\n",
    "---\n",
    " - The sample barycenters do not require us to solve for any new Wasserstein-1 Barycenters; which is much more computationally costly,\n",
    " - Our training procedure never back-propages through $\\mathcal{W}_1$ since steps 2 and 3 are full-decoupled.  Therefore, training our deep classifier is (comparatively) cheap since it takes values in the standard $N$-simplex.\n",
    "\n",
    "---"
   ]
  },
  {
   "cell_type": "markdown",
   "metadata": {},
   "source": [
    "## Load Auxiliaries"
   ]
  },
  {
   "cell_type": "code",
   "execution_count": 3,
   "metadata": {},
   "outputs": [
    {
     "name": "stderr",
     "output_type": "stream",
     "text": [
      "Using TensorFlow backend.\n"
     ]
    },
    {
     "name": "stdout",
     "output_type": "stream",
     "text": [
      "Deep Feature Builder - Ready\n",
      "Deep Classifier - Ready\n"
     ]
    }
   ],
   "source": [
    "# Load Packages/Modules\n",
    "exec(open('Init_Dump.py').read())\n",
    "# Load Hyper-parameter Grid\n",
    "exec(open('CV_Grid.py').read())\n",
    "# Load Helper Function(s)\n",
    "exec(open('Helper_Functions.py').read())\n",
    "# Import time separately\n",
    "import time\n",
    "\n",
    "\n",
    "# load dataset\n",
    "results_path = \"./outputs/models/\"\n",
    "results_tables_path = \"./outputs/results/\"\n",
    "raw_data_path_folder = \"./inputs/raw/\"\n",
    "data_path_folder = \"./inputs/data/\"\n",
    "\n",
    "\n",
    "### Set Seed\n",
    "random.seed(2021)\n",
    "np.random.seed(2021)\n",
    "tf.random.set_seed(2021)"
   ]
  },
  {
   "cell_type": "markdown",
   "metadata": {},
   "source": [
    "## Meta-Parameters"
   ]
  },
  {
   "cell_type": "markdown",
   "metadata": {},
   "source": [
    "### Simulation"
   ]
  },
  {
   "cell_type": "markdown",
   "metadata": {},
   "source": [
    "## Problem Dimension"
   ]
  },
  {
   "cell_type": "code",
   "execution_count": 4,
   "metadata": {},
   "outputs": [],
   "source": [
    "problem_dim = 100\n",
    "width = 300"
   ]
  },
  {
   "cell_type": "markdown",
   "metadata": {},
   "source": [
    "#### Grid Hyperparameter(s)\n",
    "- Ratio $\\frac{\\text{Testing Datasize}}{\\text{Training Datasize}}$.\n",
    "- Number of Training Points to Generate"
   ]
  },
  {
   "cell_type": "code",
   "execution_count": 5,
   "metadata": {},
   "outputs": [],
   "source": [
    "train_test_ratio = .2\n",
    "N_train_size = 10**2"
   ]
  },
  {
   "cell_type": "markdown",
   "metadata": {},
   "source": [
    "Monte-Carlo Paramters"
   ]
  },
  {
   "cell_type": "code",
   "execution_count": 6,
   "metadata": {},
   "outputs": [],
   "source": [
    "## Monte-Carlo\n",
    "N_Monte_Carlo_Samples = 10**3"
   ]
  },
  {
   "cell_type": "markdown",
   "metadata": {},
   "source": [
    "Initial radis of $\\delta$-bounded random partition of $\\mathcal{X}$!"
   ]
  },
  {
   "cell_type": "code",
   "execution_count": 7,
   "metadata": {},
   "outputs": [],
   "source": [
    "# Hyper-parameters of Cover\n",
    "delta = 0.01\n",
    "Proportion_per_cluster = .05"
   ]
  },
  {
   "cell_type": "markdown",
   "metadata": {},
   "source": [
    "**Note**: Setting *N_Quantizers_to_parameterize* prevents any barycenters and sub-sampling."
   ]
  },
  {
   "cell_type": "markdown",
   "metadata": {},
   "source": [
    "# Simulate from: $Y=f(X,U)$ \n",
    "- Random DNN (internal noise): \n",
    "    - $f(X,U) = f_{\\text{unknown}}(X+U)$\n",
    "- Random DNN: \n",
    "    - $f(X,U) = f_{\\text{unknown}}(X)+U$\n",
    "    \n",
    "*Non-linear dependance on exhaugenous noise.*"
   ]
  },
  {
   "cell_type": "code",
   "execution_count": 8,
   "metadata": {},
   "outputs": [],
   "source": [
    "# Hard\n",
    "W_2a = np.random.uniform(size=np.array([1,width]),low=-.5,high=.5)\n",
    "W_1a = np.random.uniform(size=np.array([width,problem_dim]),low=-.5,high=.5)\n",
    "def f_unknown(x):\n",
    "    x_internal = x.reshape(-1,)\n",
    "    x_internal = np.matmul(W_1a,x_internal)\n",
    "    x_internal = np.matmul(W_2a,np.cos(x_internal))\n",
    "    return x_internal"
   ]
  },
  {
   "cell_type": "code",
   "execution_count": 30,
   "metadata": {},
   "outputs": [],
   "source": [
    "def Simulator(x_in):\n",
    "    var = np.sqrt(np.sum(x_in**2))\n",
    "    # Pushforward\n",
    "    f_x = f_unknown(x_in)\n",
    "    # Apply Noise After\n",
    "    noise = np.random.laplace(0,var,N_Monte_Carlo_Samples)\n",
    "    f_x_noise = np.cos(f_x) + noise\n",
    "    return f_x_noise"
   ]
  },
  {
   "cell_type": "markdown",
   "metadata": {},
   "source": [
    "## Initialize Data"
   ]
  },
  {
   "cell_type": "code",
   "execution_count": 31,
   "metadata": {},
   "outputs": [],
   "source": [
    "N_test_size = int(np.round(N_train_size*train_test_ratio,0))"
   ]
  },
  {
   "cell_type": "markdown",
   "metadata": {},
   "source": [
    "### Initialize Training Data (Inputs)"
   ]
  },
  {
   "cell_type": "markdown",
   "metadata": {},
   "source": [
    "Try initial sampling-type implementation!  It worked nicely..i.e.: centers were given!"
   ]
  },
  {
   "cell_type": "code",
   "execution_count": 32,
   "metadata": {},
   "outputs": [],
   "source": [
    "# Get Training Set\n",
    "X_train = np.random.uniform(size=np.array([N_train_size,problem_dim]),low=.5,high=1.5)\n",
    "\n",
    "# Get Testing Set\n",
    "test_set_indices = np.random.choice(range(X_train.shape[0]),N_test_size)\n",
    "X_test = X_train[test_set_indices,]\n",
    "X_test = X_test + np.random.uniform(low=-(delta/np.sqrt(problem_dim)), \n",
    "                                    high = -(delta/np.sqrt(problem_dim)),\n",
    "                                    size = X_test.shape)"
   ]
  },
  {
   "cell_type": "code",
   "execution_count": 33,
   "metadata": {},
   "outputs": [],
   "source": [
    "from sklearn.cluster import KMeans"
   ]
  },
  {
   "cell_type": "code",
   "execution_count": 34,
   "metadata": {},
   "outputs": [],
   "source": [
    "# Initialize k_means\n",
    "N_Quantizers_to_parameterize = int(round(Proportion_per_cluster*X_train.shape[0]))\n",
    "kmeans = KMeans(n_clusters=N_Quantizers_to_parameterize, random_state=0).fit(X_train)\n",
    "# Get Classes\n",
    "Train_classes = np.array(pd.get_dummies(kmeans.labels_))\n",
    "# Get Center Measures\n",
    "Barycenters_Array_x = kmeans.cluster_centers_"
   ]
  },
  {
   "cell_type": "markdown",
   "metadata": {},
   "source": [
    "### Get Barycenters\n",
    "*Here we make the assumption that we can directly resample $f(X=x,U)$ if necessary...or that it is available as part of the dataset.*"
   ]
  },
  {
   "cell_type": "code",
   "execution_count": 35,
   "metadata": {},
   "outputs": [
    {
     "name": "stderr",
     "output_type": "stream",
     "text": [
      "100%|██████████| 5/5 [00:00<00:00, 389.46it/s]\n"
     ]
    }
   ],
   "source": [
    "for i in tqdm(range(Barycenters_Array_x.shape[0])):\n",
    "    # Put Datum\n",
    "    Bar_x_loop = Barycenters_Array_x[i,]\n",
    "    # Product Monte-Carlo Sample for Input\n",
    "    Bar_y_loop = (Simulator(Bar_x_loop)).reshape(1,-1)\n",
    "\n",
    "    # Update Dataset\n",
    "    if i == 0:\n",
    "        Barycenters_Array = Bar_y_loop\n",
    "    else:\n",
    "        Barycenters_Array = np.append(Barycenters_Array,Bar_y_loop,axis=0)"
   ]
  },
  {
   "cell_type": "markdown",
   "metadata": {},
   "source": [
    "### Initialize Training Data (Outputs)"
   ]
  },
  {
   "cell_type": "markdown",
   "metadata": {},
   "source": [
    "#### Get Training Set"
   ]
  },
  {
   "cell_type": "code",
   "execution_count": 36,
   "metadata": {},
   "outputs": [
    {
     "name": "stderr",
     "output_type": "stream",
     "text": [
      "100%|██████████| 100/100 [00:00<00:00, 674.59it/s]\n"
     ]
    }
   ],
   "source": [
    "for i in tqdm(range(X_train.shape[0])):\n",
    "    # Put Datum\n",
    "    x_loop = X_train[i,]\n",
    "    # Product Monte-Carlo Sample for Input\n",
    "    y_loop = (Simulator(x_loop)).reshape(1,-1)\n",
    "\n",
    "    # Update Dataset\n",
    "    if i == 0:\n",
    "        Y_train = y_loop\n",
    "        Y_train_mean_emp = np.mean(y_loop)\n",
    "    else:\n",
    "        Y_train = np.append(Y_train,y_loop,axis=0)\n",
    "        Y_train_mean_emp = np.append(Y_train_mean_emp,np.mean(y_loop))"
   ]
  },
  {
   "cell_type": "markdown",
   "metadata": {},
   "source": [
    "#### Get Test Set"
   ]
  },
  {
   "cell_type": "code",
   "execution_count": 37,
   "metadata": {},
   "outputs": [
    {
     "name": "stderr",
     "output_type": "stream",
     "text": [
      "100%|██████████| 20/20 [00:00<00:00, 834.21it/s]\n"
     ]
    }
   ],
   "source": [
    "# Start Timer\n",
    "Test_Set_PredictionTime_MC = time.time()\n",
    "\n",
    "# Generate Data\n",
    "for i in tqdm(range(X_test.shape[0])):\n",
    "    # Put Datum\n",
    "    x_loop = X_test[i,]\n",
    "    # Product Monte-Carlo Sample for Input\n",
    "    y_loop = (Simulator(x_loop)).reshape(1,-1)\n",
    "\n",
    "    # Update Dataset\n",
    "    if i == 0:\n",
    "        Y_test = y_loop\n",
    "    else:\n",
    "        Y_test = np.append(Y_test,y_loop,axis=0)\n",
    "        \n",
    "# End Timer\n",
    "Test_Set_PredictionTime_MC = time.time() - Test_Set_PredictionTime_MC"
   ]
  },
  {
   "cell_type": "markdown",
   "metadata": {},
   "source": [
    "# Train Model"
   ]
  },
  {
   "cell_type": "markdown",
   "metadata": {},
   "source": [
    "#### Start Timer"
   ]
  },
  {
   "cell_type": "code",
   "execution_count": 38,
   "metadata": {},
   "outputs": [],
   "source": [
    "# Start Timer\n",
    "Type_A_timer_Begin = time.time()"
   ]
  },
  {
   "cell_type": "markdown",
   "metadata": {},
   "source": [
    "### Train Deep Classifier"
   ]
  },
  {
   "cell_type": "markdown",
   "metadata": {},
   "source": [
    "In this step, we train a deep (feed-forward) classifier:\n",
    "$$\n",
    "\\hat{f}\\triangleq \\operatorname{Softmax}_N\\circ W_J\\circ \\sigma \\bullet \\dots \\sigma \\bullet W_1,\n",
    "$$\n",
    "to identify which barycenter we are closest to."
   ]
  },
  {
   "cell_type": "markdown",
   "metadata": {},
   "source": [
    "#### Train Deep Classifier"
   ]
  },
  {
   "cell_type": "markdown",
   "metadata": {},
   "source": [
    "Re-Load Packages and CV Grid"
   ]
  },
  {
   "cell_type": "code",
   "execution_count": 39,
   "metadata": {},
   "outputs": [
    {
     "name": "stdout",
     "output_type": "stream",
     "text": [
      "Deep Feature Builder - Ready\n",
      "Deep Classifier - Ready\n"
     ]
    }
   ],
   "source": [
    "# Re-Load Hyper-parameter Grid\n",
    "exec(open('CV_Grid.py').read())\n",
    "# Re-Load Classifier Function(s)\n",
    "exec(open('Helper_Functions.py').read())"
   ]
  },
  {
   "cell_type": "markdown",
   "metadata": {},
   "source": [
    "Train Deep Classifier"
   ]
  },
  {
   "cell_type": "code",
   "execution_count": 40,
   "metadata": {},
   "outputs": [
    {
     "name": "stdout",
     "output_type": "stream",
     "text": [
      "==========================================\n",
      "Training Classifer Portion of Type-A Model\n",
      "==========================================\n",
      "Fitting 4 folds for each of 5 candidates, totalling 20 fits\n"
     ]
    },
    {
     "name": "stderr",
     "output_type": "stream",
     "text": [
      "[Parallel(n_jobs=4)]: Using backend LokyBackend with 4 concurrent workers.\n",
      "[Parallel(n_jobs=4)]: Done   5 tasks      | elapsed:   11.9s\n",
      "[Parallel(n_jobs=4)]: Done  10 tasks      | elapsed:   19.5s\n",
      "[Parallel(n_jobs=4)]: Done  16 out of  20 | elapsed:   29.3s remaining:    7.3s\n",
      "[Parallel(n_jobs=4)]: Done  20 out of  20 | elapsed:   40.1s finished\n"
     ]
    },
    {
     "name": "stdout",
     "output_type": "stream",
     "text": [
      "Epoch 1/200\n",
      "4/4 [==============================] - 0s 2ms/step - loss: 1.6680 - accuracy: 0.2000\n",
      "Epoch 2/200\n",
      "4/4 [==============================] - 0s 4ms/step - loss: 1.5204 - accuracy: 0.3100\n",
      "Epoch 3/200\n",
      "4/4 [==============================] - 0s 3ms/step - loss: 1.4424 - accuracy: 0.3300\n",
      "Epoch 4/200\n",
      "4/4 [==============================] - 0s 4ms/step - loss: 1.3924 - accuracy: 0.3500\n",
      "Epoch 5/200\n",
      "4/4 [==============================] - 0s 4ms/step - loss: 1.3104 - accuracy: 0.4900\n",
      "Epoch 6/200\n",
      "4/4 [==============================] - 0s 4ms/step - loss: 1.2508 - accuracy: 0.6900\n",
      "Epoch 7/200\n",
      "4/4 [==============================] - 0s 4ms/step - loss: 1.1657 - accuracy: 0.8300\n",
      "Epoch 8/200\n",
      "4/4 [==============================] - 0s 4ms/step - loss: 1.0618 - accuracy: 0.7800\n",
      "Epoch 9/200\n",
      "4/4 [==============================] - 0s 4ms/step - loss: 1.0049 - accuracy: 0.7100\n",
      "Epoch 10/200\n",
      "4/4 [==============================] - 0s 2ms/step - loss: 0.9158 - accuracy: 0.8200\n",
      "Epoch 11/200\n",
      "4/4 [==============================] - 0s 3ms/step - loss: 0.8326 - accuracy: 0.8400\n",
      "Epoch 12/200\n",
      "4/4 [==============================] - 0s 3ms/step - loss: 0.7357 - accuracy: 0.9300\n",
      "Epoch 13/200\n",
      "4/4 [==============================] - 0s 3ms/step - loss: 0.6463 - accuracy: 0.9200\n",
      "Epoch 14/200\n",
      "4/4 [==============================] - 0s 3ms/step - loss: 0.5731 - accuracy: 0.9600\n",
      "Epoch 15/200\n",
      "4/4 [==============================] - 0s 2ms/step - loss: 0.5367 - accuracy: 0.9500\n",
      "Epoch 16/200\n",
      "4/4 [==============================] - 0s 3ms/step - loss: 0.4603 - accuracy: 0.9700\n",
      "Epoch 17/200\n",
      "4/4 [==============================] - 0s 4ms/step - loss: 0.4204 - accuracy: 0.9400\n",
      "Epoch 18/200\n",
      "4/4 [==============================] - 0s 3ms/step - loss: 0.3904 - accuracy: 0.9500\n",
      "Epoch 19/200\n",
      "4/4 [==============================] - 0s 4ms/step - loss: 0.3286 - accuracy: 1.0000\n",
      "Epoch 20/200\n",
      "4/4 [==============================] - 0s 3ms/step - loss: 0.2819 - accuracy: 0.9800\n",
      "Epoch 21/200\n",
      "4/4 [==============================] - 0s 3ms/step - loss: 0.2315 - accuracy: 1.0000\n",
      "Epoch 22/200\n",
      "4/4 [==============================] - 0s 4ms/step - loss: 0.2105 - accuracy: 1.0000\n",
      "Epoch 23/200\n",
      "4/4 [==============================] - 0s 4ms/step - loss: 0.1790 - accuracy: 1.0000\n",
      "Epoch 24/200\n",
      "4/4 [==============================] - 0s 7ms/step - loss: 0.1540 - accuracy: 1.0000\n",
      "Epoch 25/200\n",
      "4/4 [==============================] - 0s 5ms/step - loss: 0.1393 - accuracy: 1.0000\n",
      "Epoch 26/200\n",
      "4/4 [==============================] - 0s 4ms/step - loss: 0.1204 - accuracy: 1.0000\n",
      "Epoch 27/200\n",
      "4/4 [==============================] - 0s 3ms/step - loss: 0.1046 - accuracy: 1.0000\n",
      "Epoch 28/200\n",
      "4/4 [==============================] - 0s 4ms/step - loss: 0.0930 - accuracy: 1.0000\n",
      "Epoch 29/200\n",
      "4/4 [==============================] - 0s 4ms/step - loss: 0.0900 - accuracy: 1.0000\n",
      "Epoch 30/200\n",
      "4/4 [==============================] - 0s 4ms/step - loss: 0.0777 - accuracy: 1.0000\n",
      "Epoch 31/200\n",
      "4/4 [==============================] - 0s 6ms/step - loss: 0.0702 - accuracy: 1.0000\n",
      "Epoch 32/200\n",
      "4/4 [==============================] - 0s 4ms/step - loss: 0.0650 - accuracy: 1.0000\n",
      "Epoch 33/200\n",
      "4/4 [==============================] - 0s 4ms/step - loss: 0.0567 - accuracy: 1.0000\n",
      "Epoch 34/200\n",
      "4/4 [==============================] - 0s 3ms/step - loss: 0.0604 - accuracy: 1.0000\n",
      "Epoch 35/200\n",
      "4/4 [==============================] - 0s 3ms/step - loss: 0.0476 - accuracy: 1.0000\n",
      "Epoch 36/200\n",
      "4/4 [==============================] - 0s 4ms/step - loss: 0.0439 - accuracy: 1.0000\n",
      "Epoch 37/200\n",
      "4/4 [==============================] - 0s 3ms/step - loss: 0.0414 - accuracy: 1.0000\n",
      "Epoch 38/200\n",
      "4/4 [==============================] - 0s 5ms/step - loss: 0.0394 - accuracy: 1.0000\n",
      "Epoch 39/200\n",
      "4/4 [==============================] - 0s 5ms/step - loss: 0.0332 - accuracy: 1.0000\n",
      "Epoch 40/200\n",
      "4/4 [==============================] - 0s 3ms/step - loss: 0.0323 - accuracy: 1.0000\n",
      "Epoch 41/200\n",
      "4/4 [==============================] - 0s 4ms/step - loss: 0.0289 - accuracy: 1.0000\n",
      "Epoch 42/200\n",
      "4/4 [==============================] - 0s 3ms/step - loss: 0.0266 - accuracy: 1.0000\n",
      "Epoch 43/200\n",
      "4/4 [==============================] - 0s 5ms/step - loss: 0.0249 - accuracy: 1.0000\n",
      "Epoch 44/200\n",
      "4/4 [==============================] - 0s 5ms/step - loss: 0.0231 - accuracy: 1.0000\n",
      "Epoch 45/200\n",
      "4/4 [==============================] - 0s 3ms/step - loss: 0.0224 - accuracy: 1.0000\n",
      "Epoch 46/200\n",
      "4/4 [==============================] - 0s 3ms/step - loss: 0.0214 - accuracy: 1.0000\n",
      "Epoch 47/200\n",
      "4/4 [==============================] - 0s 3ms/step - loss: 0.0216 - accuracy: 1.0000\n",
      "Epoch 48/200\n",
      "4/4 [==============================] - 0s 3ms/step - loss: 0.0194 - accuracy: 1.0000\n",
      "Epoch 49/200\n",
      "4/4 [==============================] - 0s 3ms/step - loss: 0.0175 - accuracy: 1.0000\n",
      "Epoch 50/200\n",
      "4/4 [==============================] - 0s 4ms/step - loss: 0.0166 - accuracy: 1.0000\n",
      "Epoch 51/200\n",
      "4/4 [==============================] - 0s 2ms/step - loss: 0.0159 - accuracy: 1.0000\n",
      "Epoch 52/200\n",
      "4/4 [==============================] - 0s 4ms/step - loss: 0.0155 - accuracy: 1.0000\n",
      "Epoch 53/200\n",
      "4/4 [==============================] - 0s 3ms/step - loss: 0.0146 - accuracy: 1.0000\n",
      "Epoch 54/200\n",
      "4/4 [==============================] - 0s 2ms/step - loss: 0.0134 - accuracy: 1.0000\n",
      "Epoch 55/200\n",
      "4/4 [==============================] - 0s 4ms/step - loss: 0.0146 - accuracy: 1.0000\n",
      "Epoch 56/200\n",
      "4/4 [==============================] - 0s 3ms/step - loss: 0.0135 - accuracy: 1.0000\n",
      "Epoch 57/200\n",
      "4/4 [==============================] - 0s 2ms/step - loss: 0.0115 - accuracy: 1.0000\n",
      "Epoch 58/200\n",
      "4/4 [==============================] - 0s 3ms/step - loss: 0.0111 - accuracy: 1.0000\n",
      "Epoch 59/200\n",
      "4/4 [==============================] - 0s 3ms/step - loss: 0.0114 - accuracy: 1.0000\n",
      "Epoch 60/200\n",
      "4/4 [==============================] - 0s 3ms/step - loss: 0.0103 - accuracy: 1.0000\n",
      "Epoch 61/200\n",
      "4/4 [==============================] - 0s 4ms/step - loss: 0.0096 - accuracy: 1.0000\n",
      "Epoch 62/200\n",
      "4/4 [==============================] - 0s 6ms/step - loss: 0.0097 - accuracy: 1.0000\n",
      "Epoch 63/200\n",
      "4/4 [==============================] - 0s 4ms/step - loss: 0.0095 - accuracy: 1.0000\n",
      "Epoch 64/200\n",
      "4/4 [==============================] - 0s 3ms/step - loss: 0.0088 - accuracy: 1.0000\n",
      "Epoch 65/200\n",
      "4/4 [==============================] - 0s 3ms/step - loss: 0.0083 - accuracy: 1.0000\n",
      "Epoch 66/200\n",
      "4/4 [==============================] - 0s 3ms/step - loss: 0.0080 - accuracy: 1.0000\n",
      "Epoch 67/200\n",
      "4/4 [==============================] - 0s 2ms/step - loss: 0.0077 - accuracy: 1.0000\n",
      "Epoch 68/200\n",
      "4/4 [==============================] - 0s 4ms/step - loss: 0.0074 - accuracy: 1.0000\n",
      "Epoch 69/200\n",
      "4/4 [==============================] - 0s 4ms/step - loss: 0.0073 - accuracy: 1.0000\n",
      "Epoch 70/200\n",
      "4/4 [==============================] - 0s 4ms/step - loss: 0.0069 - accuracy: 1.0000\n",
      "Epoch 71/200\n",
      "4/4 [==============================] - 0s 3ms/step - loss: 0.0068 - accuracy: 1.0000\n",
      "Epoch 72/200\n",
      "4/4 [==============================] - 0s 2ms/step - loss: 0.0066 - accuracy: 1.0000\n",
      "Epoch 73/200\n",
      "4/4 [==============================] - 0s 3ms/step - loss: 0.0063 - accuracy: 1.0000\n",
      "Epoch 74/200\n",
      "4/4 [==============================] - 0s 4ms/step - loss: 0.0062 - accuracy: 1.0000\n",
      "Epoch 75/200\n",
      "4/4 [==============================] - 0s 3ms/step - loss: 0.0060 - accuracy: 1.0000\n",
      "Epoch 76/200\n",
      "4/4 [==============================] - 0s 3ms/step - loss: 0.0058 - accuracy: 1.0000\n",
      "Epoch 77/200\n",
      "4/4 [==============================] - 0s 4ms/step - loss: 0.0057 - accuracy: 1.0000\n",
      "Epoch 78/200\n",
      "4/4 [==============================] - 0s 2ms/step - loss: 0.0056 - accuracy: 1.0000\n",
      "Epoch 79/200\n",
      "4/4 [==============================] - 0s 3ms/step - loss: 0.0054 - accuracy: 1.0000\n",
      "Epoch 80/200\n",
      "4/4 [==============================] - 0s 3ms/step - loss: 0.0052 - accuracy: 1.0000\n",
      "Epoch 81/200\n",
      "4/4 [==============================] - 0s 3ms/step - loss: 0.0051 - accuracy: 1.0000\n",
      "Epoch 82/200\n",
      "4/4 [==============================] - 0s 3ms/step - loss: 0.0049 - accuracy: 1.0000\n",
      "Epoch 83/200\n",
      "4/4 [==============================] - 0s 3ms/step - loss: 0.0048 - accuracy: 1.0000\n",
      "Epoch 84/200\n"
     ]
    },
    {
     "name": "stdout",
     "output_type": "stream",
     "text": [
      "4/4 [==============================] - 0s 2ms/step - loss: 0.0048 - accuracy: 1.0000\n",
      "Epoch 85/200\n",
      "4/4 [==============================] - 0s 5ms/step - loss: 0.0046 - accuracy: 1.0000\n",
      "Epoch 86/200\n",
      "4/4 [==============================] - 0s 3ms/step - loss: 0.0045 - accuracy: 1.0000\n",
      "Epoch 87/200\n",
      "4/4 [==============================] - 0s 3ms/step - loss: 0.0044 - accuracy: 1.0000\n",
      "Epoch 88/200\n",
      "4/4 [==============================] - 0s 2ms/step - loss: 0.0043 - accuracy: 1.0000\n",
      "Epoch 89/200\n",
      "4/4 [==============================] - 0s 4ms/step - loss: 0.0042 - accuracy: 1.0000\n",
      "Epoch 90/200\n",
      "4/4 [==============================] - 0s 4ms/step - loss: 0.0041 - accuracy: 1.0000\n",
      "Epoch 91/200\n",
      "4/4 [==============================] - 0s 3ms/step - loss: 0.0040 - accuracy: 1.0000\n",
      "Epoch 92/200\n",
      "4/4 [==============================] - 0s 3ms/step - loss: 0.0039 - accuracy: 1.0000\n",
      "Epoch 93/200\n",
      "4/4 [==============================] - 0s 4ms/step - loss: 0.0038 - accuracy: 1.0000\n",
      "Epoch 94/200\n",
      "4/4 [==============================] - 0s 4ms/step - loss: 0.0037 - accuracy: 1.0000\n",
      "Epoch 95/200\n",
      "4/4 [==============================] - 0s 4ms/step - loss: 0.0037 - accuracy: 1.0000\n",
      "Epoch 96/200\n",
      "4/4 [==============================] - 0s 3ms/step - loss: 0.0036 - accuracy: 1.0000\n",
      "Epoch 97/200\n",
      "4/4 [==============================] - 0s 3ms/step - loss: 0.0035 - accuracy: 1.0000\n",
      "Epoch 98/200\n",
      "4/4 [==============================] - 0s 3ms/step - loss: 0.0034 - accuracy: 1.0000\n",
      "Epoch 99/200\n",
      "4/4 [==============================] - 0s 3ms/step - loss: 0.0034 - accuracy: 1.0000\n",
      "Epoch 100/200\n",
      "4/4 [==============================] - 0s 4ms/step - loss: 0.0033 - accuracy: 1.0000\n",
      "Epoch 101/200\n",
      "4/4 [==============================] - 0s 3ms/step - loss: 0.0032 - accuracy: 1.0000\n",
      "Epoch 102/200\n",
      "4/4 [==============================] - 0s 3ms/step - loss: 0.0031 - accuracy: 1.0000\n",
      "Epoch 103/200\n",
      "4/4 [==============================] - 0s 5ms/step - loss: 0.0031 - accuracy: 1.0000\n",
      "Epoch 104/200\n",
      "4/4 [==============================] - 0s 3ms/step - loss: 0.0030 - accuracy: 1.0000\n",
      "Epoch 105/200\n",
      "4/4 [==============================] - 0s 3ms/step - loss: 0.0030 - accuracy: 1.0000\n",
      "Epoch 106/200\n",
      "4/4 [==============================] - 0s 4ms/step - loss: 0.0029 - accuracy: 1.0000\n",
      "Epoch 107/200\n",
      "4/4 [==============================] - 0s 4ms/step - loss: 0.0029 - accuracy: 1.0000\n",
      "Epoch 108/200\n",
      "4/4 [==============================] - 0s 3ms/step - loss: 0.0028 - accuracy: 1.0000\n",
      "Epoch 109/200\n",
      "4/4 [==============================] - 0s 6ms/step - loss: 0.0028 - accuracy: 1.0000\n",
      "Epoch 110/200\n",
      "4/4 [==============================] - 0s 5ms/step - loss: 0.0027 - accuracy: 1.0000\n",
      "Epoch 111/200\n",
      "4/4 [==============================] - 0s 3ms/step - loss: 0.0026 - accuracy: 1.0000\n",
      "Epoch 112/200\n",
      "4/4 [==============================] - 0s 5ms/step - loss: 0.0026 - accuracy: 1.0000\n",
      "Epoch 113/200\n",
      "4/4 [==============================] - 0s 3ms/step - loss: 0.0026 - accuracy: 1.0000\n",
      "Epoch 114/200\n",
      "4/4 [==============================] - 0s 5ms/step - loss: 0.0025 - accuracy: 1.0000\n",
      "Epoch 115/200\n",
      "4/4 [==============================] - 0s 4ms/step - loss: 0.0025 - accuracy: 1.0000\n",
      "Epoch 116/200\n",
      "4/4 [==============================] - 0s 3ms/step - loss: 0.0024 - accuracy: 1.0000\n",
      "Epoch 117/200\n",
      "4/4 [==============================] - 0s 3ms/step - loss: 0.0023 - accuracy: 1.0000\n",
      "Epoch 118/200\n",
      "4/4 [==============================] - 0s 4ms/step - loss: 0.0023 - accuracy: 1.0000\n",
      "Epoch 119/200\n",
      "4/4 [==============================] - 0s 4ms/step - loss: 0.0023 - accuracy: 1.0000\n",
      "Epoch 120/200\n",
      "4/4 [==============================] - 0s 3ms/step - loss: 0.0022 - accuracy: 1.0000\n",
      "Epoch 121/200\n",
      "4/4 [==============================] - 0s 3ms/step - loss: 0.0022 - accuracy: 1.0000\n",
      "Epoch 122/200\n",
      "4/4 [==============================] - 0s 3ms/step - loss: 0.0022 - accuracy: 1.0000\n",
      "Epoch 123/200\n",
      "4/4 [==============================] - 0s 3ms/step - loss: 0.0021 - accuracy: 1.0000\n",
      "Epoch 124/200\n",
      "4/4 [==============================] - 0s 3ms/step - loss: 0.0021 - accuracy: 1.0000\n",
      "Epoch 125/200\n",
      "4/4 [==============================] - 0s 4ms/step - loss: 0.0020 - accuracy: 1.0000\n",
      "Epoch 126/200\n",
      "4/4 [==============================] - 0s 2ms/step - loss: 0.0020 - accuracy: 1.0000\n",
      "Epoch 127/200\n",
      "4/4 [==============================] - 0s 2ms/step - loss: 0.0020 - accuracy: 1.0000\n",
      "Epoch 128/200\n",
      "4/4 [==============================] - 0s 3ms/step - loss: 0.0020 - accuracy: 1.0000\n",
      "Epoch 129/200\n",
      "4/4 [==============================] - 0s 2ms/step - loss: 0.0019 - accuracy: 1.0000\n",
      "Epoch 130/200\n",
      "4/4 [==============================] - 0s 3ms/step - loss: 0.0019 - accuracy: 1.0000\n",
      "Epoch 131/200\n",
      "4/4 [==============================] - 0s 3ms/step - loss: 0.0019 - accuracy: 1.0000\n",
      "Epoch 132/200\n",
      "4/4 [==============================] - 0s 3ms/step - loss: 0.0018 - accuracy: 1.0000\n",
      "Epoch 133/200\n",
      "4/4 [==============================] - 0s 3ms/step - loss: 0.0018 - accuracy: 1.0000\n",
      "Epoch 134/200\n",
      "4/4 [==============================] - 0s 3ms/step - loss: 0.0018 - accuracy: 1.0000\n",
      "Epoch 135/200\n",
      "4/4 [==============================] - 0s 3ms/step - loss: 0.0017 - accuracy: 1.0000\n",
      "Epoch 136/200\n",
      "4/4 [==============================] - 0s 3ms/step - loss: 0.0017 - accuracy: 1.0000\n",
      "Epoch 137/200\n",
      "4/4 [==============================] - 0s 3ms/step - loss: 0.0017 - accuracy: 1.0000\n",
      "Epoch 138/200\n",
      "4/4 [==============================] - 0s 2ms/step - loss: 0.0016 - accuracy: 1.0000\n",
      "Epoch 139/200\n",
      "4/4 [==============================] - 0s 3ms/step - loss: 0.0016 - accuracy: 1.0000\n",
      "Epoch 140/200\n",
      "4/4 [==============================] - 0s 4ms/step - loss: 0.0016 - accuracy: 1.0000\n",
      "Epoch 141/200\n",
      "4/4 [==============================] - 0s 3ms/step - loss: 0.0016 - accuracy: 1.0000\n",
      "Epoch 142/200\n",
      "4/4 [==============================] - 0s 4ms/step - loss: 0.0016 - accuracy: 1.0000\n",
      "Epoch 143/200\n",
      "4/4 [==============================] - 0s 3ms/step - loss: 0.0015 - accuracy: 1.0000\n",
      "Epoch 144/200\n",
      "4/4 [==============================] - 0s 3ms/step - loss: 0.0015 - accuracy: 1.0000\n",
      "Epoch 145/200\n",
      "4/4 [==============================] - 0s 3ms/step - loss: 0.0015 - accuracy: 1.0000\n",
      "Epoch 146/200\n",
      "4/4 [==============================] - 0s 2ms/step - loss: 0.0015 - accuracy: 1.0000\n",
      "Epoch 147/200\n",
      "4/4 [==============================] - 0s 3ms/step - loss: 0.0014 - accuracy: 1.0000\n",
      "Epoch 148/200\n",
      "4/4 [==============================] - 0s 3ms/step - loss: 0.0014 - accuracy: 1.0000\n",
      "Epoch 149/200\n",
      "4/4 [==============================] - 0s 3ms/step - loss: 0.0014 - accuracy: 1.0000\n",
      "Epoch 150/200\n",
      "4/4 [==============================] - 0s 3ms/step - loss: 0.0014 - accuracy: 1.0000\n",
      "Epoch 151/200\n",
      "4/4 [==============================] - 0s 2ms/step - loss: 0.0014 - accuracy: 1.0000\n",
      "Epoch 152/200\n",
      "4/4 [==============================] - 0s 2ms/step - loss: 0.0014 - accuracy: 1.0000\n",
      "Epoch 153/200\n",
      "4/4 [==============================] - 0s 2ms/step - loss: 0.0013 - accuracy: 1.0000\n",
      "Epoch 154/200\n",
      "4/4 [==============================] - 0s 3ms/step - loss: 0.0013 - accuracy: 1.0000\n",
      "Epoch 155/200\n",
      "4/4 [==============================] - 0s 2ms/step - loss: 0.0013 - accuracy: 1.0000\n",
      "Epoch 156/200\n",
      "4/4 [==============================] - 0s 2ms/step - loss: 0.0013 - accuracy: 1.0000\n",
      "Epoch 157/200\n",
      "4/4 [==============================] - 0s 3ms/step - loss: 0.0013 - accuracy: 1.0000\n",
      "Epoch 158/200\n",
      "4/4 [==============================] - 0s 3ms/step - loss: 0.0012 - accuracy: 1.0000\n",
      "Epoch 159/200\n",
      "4/4 [==============================] - 0s 3ms/step - loss: 0.0012 - accuracy: 1.0000\n",
      "Epoch 160/200\n",
      "4/4 [==============================] - 0s 3ms/step - loss: 0.0012 - accuracy: 1.0000\n",
      "Epoch 161/200\n",
      "4/4 [==============================] - 0s 2ms/step - loss: 0.0012 - accuracy: 1.0000\n",
      "Epoch 162/200\n",
      "4/4 [==============================] - 0s 3ms/step - loss: 0.0012 - accuracy: 1.0000\n",
      "Epoch 163/200\n",
      "4/4 [==============================] - 0s 2ms/step - loss: 0.0012 - accuracy: 1.0000\n",
      "Epoch 164/200\n",
      "4/4 [==============================] - 0s 4ms/step - loss: 0.0012 - accuracy: 1.0000\n",
      "Epoch 165/200\n",
      "4/4 [==============================] - 0s 3ms/step - loss: 0.0011 - accuracy: 1.0000\n",
      "Epoch 166/200\n",
      "4/4 [==============================] - 0s 3ms/step - loss: 0.0011 - accuracy: 1.0000\n",
      "Epoch 167/200\n"
     ]
    },
    {
     "name": "stdout",
     "output_type": "stream",
     "text": [
      "4/4 [==============================] - 0s 2ms/step - loss: 0.0011 - accuracy: 1.0000\n",
      "Epoch 168/200\n",
      "4/4 [==============================] - 0s 2ms/step - loss: 0.0011 - accuracy: 1.0000\n",
      "Epoch 169/200\n",
      "4/4 [==============================] - 0s 2ms/step - loss: 0.0011 - accuracy: 1.0000\n",
      "Epoch 170/200\n",
      "4/4 [==============================] - 0s 2ms/step - loss: 0.0011 - accuracy: 1.0000\n",
      "Epoch 171/200\n",
      "4/4 [==============================] - 0s 4ms/step - loss: 0.0011 - accuracy: 1.0000\n",
      "Epoch 172/200\n",
      "4/4 [==============================] - 0s 2ms/step - loss: 0.0010 - accuracy: 1.0000\n",
      "Epoch 173/200\n",
      "4/4 [==============================] - 0s 3ms/step - loss: 0.0010 - accuracy: 1.0000\n",
      "Epoch 174/200\n",
      "4/4 [==============================] - 0s 3ms/step - loss: 0.0010 - accuracy: 1.0000\n",
      "Epoch 175/200\n",
      "4/4 [==============================] - 0s 4ms/step - loss: 0.0010 - accuracy: 1.0000\n",
      "Epoch 176/200\n",
      "4/4 [==============================] - 0s 2ms/step - loss: 9.9855e-04 - accuracy: 1.0000\n",
      "Epoch 177/200\n",
      "4/4 [==============================] - 0s 3ms/step - loss: 9.8729e-04 - accuracy: 1.0000\n",
      "Epoch 178/200\n",
      "4/4 [==============================] - 0s 4ms/step - loss: 9.7438e-04 - accuracy: 1.0000\n",
      "Epoch 179/200\n",
      "4/4 [==============================] - 0s 3ms/step - loss: 9.6091e-04 - accuracy: 1.0000\n",
      "Epoch 180/200\n",
      "4/4 [==============================] - 0s 3ms/step - loss: 9.5130e-04 - accuracy: 1.0000\n",
      "Epoch 181/200\n",
      "4/4 [==============================] - 0s 3ms/step - loss: 9.3690e-04 - accuracy: 1.0000\n",
      "Epoch 182/200\n",
      "4/4 [==============================] - 0s 3ms/step - loss: 9.2658e-04 - accuracy: 1.0000\n",
      "Epoch 183/200\n",
      "4/4 [==============================] - 0s 2ms/step - loss: 9.2202e-04 - accuracy: 1.0000\n",
      "Epoch 184/200\n",
      "4/4 [==============================] - 0s 2ms/step - loss: 9.1877e-04 - accuracy: 1.0000\n",
      "Epoch 185/200\n",
      "4/4 [==============================] - 0s 2ms/step - loss: 9.0416e-04 - accuracy: 1.0000\n",
      "Epoch 186/200\n",
      "4/4 [==============================] - 0s 2ms/step - loss: 8.9015e-04 - accuracy: 1.0000\n",
      "Epoch 187/200\n",
      "4/4 [==============================] - 0s 3ms/step - loss: 8.7362e-04 - accuracy: 1.0000\n",
      "Epoch 188/200\n",
      "4/4 [==============================] - 0s 4ms/step - loss: 8.6870e-04 - accuracy: 1.0000\n",
      "Epoch 189/200\n",
      "4/4 [==============================] - 0s 4ms/step - loss: 8.6179e-04 - accuracy: 1.0000\n",
      "Epoch 190/200\n",
      "4/4 [==============================] - 0s 3ms/step - loss: 8.5442e-04 - accuracy: 1.0000\n",
      "Epoch 191/200\n",
      "4/4 [==============================] - 0s 3ms/step - loss: 8.4053e-04 - accuracy: 1.0000\n",
      "Epoch 192/200\n",
      "4/4 [==============================] - 0s 2ms/step - loss: 8.2752e-04 - accuracy: 1.0000\n",
      "Epoch 193/200\n",
      "4/4 [==============================] - 0s 5ms/step - loss: 8.1765e-04 - accuracy: 1.0000\n",
      "Epoch 194/200\n",
      "4/4 [==============================] - 0s 2ms/step - loss: 8.0995e-04 - accuracy: 1.0000\n",
      "Epoch 195/200\n",
      "4/4 [==============================] - 0s 3ms/step - loss: 7.9998e-04 - accuracy: 1.0000\n",
      "Epoch 196/200\n",
      "4/4 [==============================] - 0s 2ms/step - loss: 7.9283e-04 - accuracy: 1.0000\n",
      "Epoch 197/200\n",
      "4/4 [==============================] - 0s 3ms/step - loss: 7.8306e-04 - accuracy: 1.0000\n",
      "Epoch 198/200\n",
      "4/4 [==============================] - 0s 3ms/step - loss: 7.7447e-04 - accuracy: 1.0000\n",
      "Epoch 199/200\n",
      "4/4 [==============================] - 0s 2ms/step - loss: 7.6620e-04 - accuracy: 1.0000\n",
      "Epoch 200/200\n",
      "4/4 [==============================] - 0s 3ms/step - loss: 7.6059e-04 - accuracy: 1.0000\n",
      "4/4 [==============================] - 0s 3ms/step\n",
      "1/1 [==============================] - 0s 3ms/step\n",
      "===============================================\n",
      "Training Classifer Portion of Type Model: Done!\n",
      "===============================================\n"
     ]
    }
   ],
   "source": [
    "print(\"==========================================\")\n",
    "print(\"Training Classifer Portion of Type-A Model\")\n",
    "print(\"==========================================\")\n",
    "\n",
    "# Redefine (Dimension-related) Elements of Grid\n",
    "param_grid_Deep_Classifier['input_dim'] = [problem_dim]\n",
    "param_grid_Deep_Classifier['output_dim'] = [N_Quantizers_to_parameterize]\n",
    "\n",
    "# Train simple deep classifier\n",
    "predicted_classes_train, predicted_classes_test, N_params_deep_classifier, timer_output = build_simple_deep_classifier(n_folds = CV_folds, \n",
    "                                                                                                        n_jobs = n_jobs, \n",
    "                                                                                                        n_iter = n_iter, \n",
    "                                                                                                        param_grid_in=param_grid_Deep_Classifier, \n",
    "                                                                                                        X_train = X_train, \n",
    "                                                                                                        y_train = Train_classes,\n",
    "                                                                                                        X_test = X_test)\n",
    "\n",
    "print(\"===============================================\")\n",
    "print(\"Training Classifer Portion of Type Model: Done!\")\n",
    "print(\"===============================================\")"
   ]
  },
  {
   "cell_type": "markdown",
   "metadata": {},
   "source": [
    "#### Get Predicted Quantized Distributions\n",
    "- Each *row* of \"Predicted_Weights\" is the $\\beta\\in \\Delta_N$.\n",
    "- Each *Column* of \"Barycenters_Array\" denotes the $x_1,\\dots,x_N$ making up the points of the corresponding empirical measures."
   ]
  },
  {
   "cell_type": "code",
   "execution_count": 41,
   "metadata": {},
   "outputs": [],
   "source": [
    "# Initialize Empirical Weights\n",
    "empirical_weights = (np.ones(N_Monte_Carlo_Samples)/N_Monte_Carlo_Samples).reshape(-1,)\n",
    "\n",
    "for i in range(N_Quantizers_to_parameterize):\n",
    "    if i == 0:\n",
    "        points_of_mass = Barycenters_Array[i,]\n",
    "    else:\n",
    "        points_of_mass = np.append(points_of_mass,Barycenters_Array[i,])"
   ]
  },
  {
   "cell_type": "code",
   "execution_count": 42,
   "metadata": {},
   "outputs": [],
   "source": [
    "# Get Noisless Mean\n",
    "direct_facts = np.apply_along_axis(f_unknown, 1, X_train)\n",
    "direct_facts_test = np.apply_along_axis(f_unknown, 1, X_test)"
   ]
  },
  {
   "cell_type": "markdown",
   "metadata": {},
   "source": [
    "#### Get Training Errors"
   ]
  },
  {
   "cell_type": "code",
   "execution_count": 43,
   "metadata": {},
   "outputs": [
    {
     "name": "stderr",
     "output_type": "stream",
     "text": [
      "\r",
      "  0%|          | 0/100 [00:00<?, ?it/s]"
     ]
    },
    {
     "name": "stdout",
     "output_type": "stream",
     "text": [
      "#--------------------#\n",
      " Get Training Error(s)\n",
      "#--------------------#\n"
     ]
    },
    {
     "name": "stderr",
     "output_type": "stream",
     "text": [
      "100%|██████████| 100/100 [00:00<00:00, 544.36it/s]"
     ]
    },
    {
     "name": "stdout",
     "output_type": "stream",
     "text": [
      "#-------------------------#\n",
      " Get Training Error(s): END\n",
      "#-------------------------#\n"
     ]
    },
    {
     "name": "stderr",
     "output_type": "stream",
     "text": [
      "\n"
     ]
    }
   ],
   "source": [
    "print(\"#--------------------#\")\n",
    "print(\" Get Training Error(s)\")\n",
    "print(\"#--------------------#\")\n",
    "for i in tqdm(range((X_train.shape[0]))):\n",
    "    for j in range(N_Quantizers_to_parameterize):\n",
    "        b_loop = np.repeat(predicted_classes_train[i,j],N_Monte_Carlo_Samples)\n",
    "        if j == 0:\n",
    "            b = b_loop\n",
    "        else:\n",
    "            b = np.append(b,b_loop)\n",
    "        b = b.reshape(-1,1)\n",
    "        b = b\n",
    "    b = np.array(b,dtype=float).reshape(-1,)\n",
    "    b = b/N_Monte_Carlo_Samples\n",
    "    \n",
    "    # Compute Error(s)\n",
    "    ## W1\n",
    "    W1_loop = ot.emd2_1d(points_of_mass,\n",
    "                         np.array(Y_train[i,]).reshape(-1,),\n",
    "                         b,\n",
    "                         empirical_weights)\n",
    "    \n",
    "    ## M1\n",
    "    Mu_hat = np.sum(b*(points_of_mass))\n",
    "    Mu_MC = np.mean(np.array(Y_train[i,]))\n",
    "    Mu = direct_facts[i,]\n",
    "    ### Error(s)\n",
    "    Mean_loop = (Mu_hat-Mu)\n",
    "    Mean_loop_MC = (Mu_hat-Mu_MC)\n",
    "    \n",
    "    ## M2\n",
    "    Var_hat = np.sum(((points_of_mass-Mu_hat)**2)*b)\n",
    "    Var_MC = np.mean(np.array(Y_train[i]-Mu_MC)**2)\n",
    "    Var = np.mean((direct_facts[i,]-Mu)**2)\n",
    "    \n",
    "    ### Error(s)\n",
    "    Var_loop = np.abs(Var_hat-Var)\n",
    "    Var_loop_MC = np.abs(Var_MC-Var)\n",
    "    \n",
    "    # Update\n",
    "    if i == 0:\n",
    "        W1_errors = W1_loop\n",
    "        Mean_errors =  Mean_loop\n",
    "        Var_errors = Var_loop\n",
    "        Mean_errors_MC =  Mean_loop_MC\n",
    "        Var_errors_MC = Var_loop_MC\n",
    "        \n",
    "        \n",
    "    else:\n",
    "        W1_errors = np.append(W1_errors,W1_loop)\n",
    "        Mean_errors =  np.append(Mean_errors,Mean_loop)\n",
    "        Var_errors = np.append(Var_errors,Var_loop)\n",
    "        Mean_errors_MC =  np.append(Mean_errors_MC,Mean_loop_MC)\n",
    "        Var_errors_MC = np.append(Var_errors_MC,Var_loop_MC)\n",
    "        \n",
    "print(\"#-------------------------#\")\n",
    "print(\" Get Training Error(s): END\")\n",
    "print(\"#-------------------------#\")"
   ]
  },
  {
   "cell_type": "markdown",
   "metadata": {},
   "source": [
    "#### Get Test Errors"
   ]
  },
  {
   "cell_type": "code",
   "execution_count": 44,
   "metadata": {},
   "outputs": [
    {
     "name": "stderr",
     "output_type": "stream",
     "text": [
      "100%|██████████| 20/20 [00:00<00:00, 587.10it/s]"
     ]
    },
    {
     "name": "stdout",
     "output_type": "stream",
     "text": [
      "#----------------#\n",
      " Get Test Error(s)\n",
      "#----------------#\n",
      "#-------------------------#\n",
      " Get Training Error(s): END\n",
      "#-------------------------#\n"
     ]
    },
    {
     "name": "stderr",
     "output_type": "stream",
     "text": [
      "\n"
     ]
    }
   ],
   "source": [
    "print(\"#----------------#\")\n",
    "print(\" Get Test Error(s)\")\n",
    "print(\"#----------------#\")\n",
    "for i in tqdm(range((X_test.shape[0]))):\n",
    "    for j in range(N_Quantizers_to_parameterize):\n",
    "        b_loop_test = np.repeat(predicted_classes_test[i,j],N_Monte_Carlo_Samples)\n",
    "        if j == 0:\n",
    "            b_test = b_loop_test\n",
    "        else:\n",
    "            b_test = np.append(b,b_loop)\n",
    "        b_test = b_test.reshape(-1,1)\n",
    "    b_test = np.array(b,dtype=float).reshape(-1,)\n",
    "    b_test = b/N_Monte_Carlo_Samples\n",
    "    \n",
    "    # Compute Error(s)\n",
    "    ## W1\n",
    "    W1_loop_test = ot.emd2_1d(points_of_mass,\n",
    "                         np.array(Y_test[i,]).reshape(-1,),\n",
    "                         b,\n",
    "                         empirical_weights)\n",
    "    \n",
    "    ## M1\n",
    "    Mu_hat_test = np.sum(b_test*(points_of_mass))\n",
    "    Mu_MC_test = np.mean(np.array(Y_test[i,]))\n",
    "    Mu_test = direct_facts_test[i,]\n",
    "    ### Error(s)\n",
    "    Mean_loop_test = (Mu_hat_test-Mu_test)\n",
    "    Mean_loop_MC_test = (Mu_hat_test-Mu_MC_test)\n",
    "    \n",
    "    ## M2\n",
    "    Var_hat_test = np.sum(((points_of_mass-Mu_hat_test)**2)*b)\n",
    "    Var_MC_test = np.mean(np.array(Y_test[i]-Mu_MC)**2)\n",
    "    Var_test = np.mean((direct_facts_test[i,]-Mu)**2)\n",
    "    \n",
    "    ### Error(s)\n",
    "    Var_loop_test = np.abs(Var_hat_test-Var_test)\n",
    "    Var_loop_MC_test = np.abs(Var_MC_test-Var_test)\n",
    "    \n",
    "    # Update\n",
    "    if i == 0:\n",
    "        W1_errors_test = W1_loop_test\n",
    "        Mean_errors_test =  Mean_loop_test\n",
    "        Var_errors_test = Var_loop_test\n",
    "        Mean_errors_MC_test =  Mean_loop_MC_test\n",
    "        Var_errors_MC_test = Var_loop_MC_test\n",
    "        \n",
    "        \n",
    "    else:\n",
    "        W1_errors_test = np.append(W1_errors_test,W1_loop_test)\n",
    "        Mean_errors_test =  np.append(Mean_errors_test,Mean_loop_test)\n",
    "        Var_errors_test = np.append(Var_errors_test,Var_loop_test)\n",
    "        Mean_errors_MC_test =  np.append(Mean_errors_MC_test,Mean_loop_MC_test)\n",
    "        Var_errors_MC_test = np.append(Var_errors_MC_test,Var_loop_MC_test)\n",
    "        \n",
    "print(\"#-------------------------#\")\n",
    "print(\" Get Training Error(s): END\")\n",
    "print(\"#-------------------------#\")"
   ]
  },
  {
   "cell_type": "markdown",
   "metadata": {},
   "source": [
    "#### Stop Timer"
   ]
  },
  {
   "cell_type": "code",
   "execution_count": 45,
   "metadata": {},
   "outputs": [],
   "source": [
    "# Stop Timer\n",
    "Type_A_timer_end = time.time()\n",
    "# Compute Lapsed Time Needed For Training\n",
    "Time_Lapse_Model_A = Type_A_timer_end - Type_A_timer_Begin"
   ]
  },
  {
   "cell_type": "markdown",
   "metadata": {},
   "source": [
    "---\n",
    "# Benchmarks\n",
    "---"
   ]
  },
  {
   "cell_type": "code",
   "execution_count": 65,
   "metadata": {},
   "outputs": [
    {
     "name": "stdout",
     "output_type": "stream",
     "text": [
      "Deep Feature Builder - Ready\n"
     ]
    }
   ],
   "source": [
    "%run Benchmarks.ipynb\n",
    "exec(open('CV_Grid.py').read())"
   ]
  },
  {
   "cell_type": "markdown",
   "metadata": {},
   "source": [
    "Implements the Elastic-Net Regression- only predicting mean"
   ]
  },
  {
   "cell_type": "code",
   "execution_count": 55,
   "metadata": {},
   "outputs": [],
   "source": [
    "# Fit Elastic Net Model\n",
    "Lin_reg.fit(X_train,Y_train_mean_emp)\n",
    "\n",
    "# Get Predictions\n",
    "ENET_predict = Lin_reg.predict(X_train)\n",
    "ENET_predict_test = Lin_reg.predict(X_test)\n",
    "\n",
    "# Get Prediction Errors\n",
    "## Train\n",
    "for i in range(X_train.shape[0]):\n",
    "    Mu = direct_facts[i,]\n",
    "    error_loop = np.abs(Mu-ENET_predict[i])\n",
    "    if i == 0:\n",
    "        Mean_errors_ENET = error_loop\n",
    "    else:\n",
    "        Mean_errors_ENET = np.append(Mean_errors_ENET,error_loop)\n",
    "## Test\n",
    "for i in range(X_test.shape[0]):\n",
    "    Mu_test = direct_facts[i,]\n",
    "    error_loop_test = np.abs(Mu-ENET_predict_test[i])\n",
    "    if i == 0:\n",
    "        Mean_errors_ENET_test = error_loop_test\n",
    "    else:\n",
    "        Mean_errors_ENET_test = np.append(Mean_errors_ENET_test,error_loop_test)"
   ]
  },
  {
   "cell_type": "markdown",
   "metadata": {},
   "source": [
    "### Kernel Ridge Regression"
   ]
  },
  {
   "cell_type": "code",
   "execution_count": 67,
   "metadata": {},
   "outputs": [
    {
     "name": "stdout",
     "output_type": "stream",
     "text": [
      "Fitting 4 folds for each of 5 candidates, totalling 20 fits\n"
     ]
    },
    {
     "name": "stderr",
     "output_type": "stream",
     "text": [
      "[Parallel(n_jobs=4)]: Using backend LokyBackend with 4 concurrent workers.\n",
      "[Parallel(n_jobs=4)]: Batch computation too fast (0.0127s.) Setting batch_size=2.\n",
      "[Parallel(n_jobs=4)]: Batch computation too fast (0.0127s.) Setting batch_size=4.\n",
      "[Parallel(n_jobs=4)]: Done   6 tasks      | elapsed:    0.0s\n",
      "[Parallel(n_jobs=4)]: Done  11 tasks      | elapsed:    0.1s\n",
      "[Parallel(n_jobs=4)]: Done  16 out of  20 | elapsed:    0.1s remaining:    0.0s\n",
      "[Parallel(n_jobs=4)]: Done  20 out of  20 | elapsed:    0.1s finished\n"
     ]
    }
   ],
   "source": [
    "Xhat_Kridge, Xhat_Kridge_test , relic = get_Kernel_Ridge_Regressor(X_train,X_test,Y_train_mean_emp)\n",
    "\n",
    "\n",
    "# Get Prediction Errors\n",
    "## Train\n",
    "for i in range(X_train.shape[0]):\n",
    "    Mu = direct_facts[i,]\n",
    "    error_loop = np.abs(Mu-Xhat_Kridge[i])\n",
    "    if i == 0:\n",
    "        Mean_errors_KRidge = error_loop\n",
    "    else:\n",
    "        Mean_errors_KRidge = np.append(Mean_errors_KRidge,error_loop)\n",
    "## Test\n",
    "for i in range(X_test.shape[0]):\n",
    "    Mu_test = direct_facts[i,]\n",
    "    error_loop_test = np.abs(Mu-Xhat_Kridge_test[i])\n",
    "    if i == 0:\n",
    "        Mean_errors_KRidge_test = error_loop_test\n",
    "    else:\n",
    "        Mean_errors_KRidge_test = np.append(Mean_errors_KRidge_test,error_loop_test)"
   ]
  },
  {
   "cell_type": "markdown",
   "metadata": {},
   "source": [
    "## Gradient-Boosted Random Forest Regressor"
   ]
  },
  {
   "cell_type": "code",
   "execution_count": 57,
   "metadata": {},
   "outputs": [],
   "source": [
    "GBRF_y_hat_train, GBRF_y_hat_test, GBRF_model = get_GBRF(X_train,X_test,Y_train_mean_emp)\n",
    "\n",
    "# Get Prediction Errors\n",
    "## Train\n",
    "for i in range(X_train.shape[0]):\n",
    "    Mu = direct_facts[i,]\n",
    "    error_loop = np.abs(Mu-GBRF_y_hat_train[i])\n",
    "    if i == 0:\n",
    "        Mean_errors_GBRF = error_loop\n",
    "    else:\n",
    "        Mean_errors_GBRF = np.append(Mean_errors_GBRF,error_loop)\n",
    "## Test\n",
    "for i in range(X_test.shape[0]):\n",
    "    Mu_test = direct_facts[i,]\n",
    "    error_loop = np.abs(Mu-GBRF_y_hat_test[i])\n",
    "    if i == 0:\n",
    "        Mean_errors_GBRF_test = error_loop_test\n",
    "    else:\n",
    "        Mean_errors_GBRF_test = np.append(Mean_errors_GBRF_test,error_loop_test)"
   ]
  },
  {
   "cell_type": "markdown",
   "metadata": {},
   "source": [
    "# Summary of Mean-Centric Regression Models"
   ]
  },
  {
   "cell_type": "code",
   "execution_count": 60,
   "metadata": {},
   "outputs": [
    {
     "data": {
      "text/html": [
       "<div>\n",
       "<style scoped>\n",
       "    .dataframe tbody tr th:only-of-type {\n",
       "        vertical-align: middle;\n",
       "    }\n",
       "\n",
       "    .dataframe tbody tr th {\n",
       "        vertical-align: top;\n",
       "    }\n",
       "\n",
       "    .dataframe thead th {\n",
       "        text-align: right;\n",
       "    }\n",
       "</style>\n",
       "<table border=\"1\" class=\"dataframe\">\n",
       "  <thead>\n",
       "    <tr style=\"text-align: right;\">\n",
       "      <th></th>\n",
       "      <th>M1</th>\n",
       "      <th>M1_MC</th>\n",
       "      <th>M1_ENET</th>\n",
       "      <th>M1_GBRFR</th>\n",
       "    </tr>\n",
       "  </thead>\n",
       "  <tbody>\n",
       "    <tr>\n",
       "      <th>Train</th>\n",
       "      <td>2.2861E+00</td>\n",
       "      <td>8.6589E-01</td>\n",
       "      <td>2.2543E+00</td>\n",
       "      <td>2.2603E+00</td>\n",
       "    </tr>\n",
       "    <tr>\n",
       "      <th>Test</th>\n",
       "      <td>2.0211E+00</td>\n",
       "      <td>8.3213E-01</td>\n",
       "      <td>2.7705E+00</td>\n",
       "      <td>2.7627E+00</td>\n",
       "    </tr>\n",
       "  </tbody>\n",
       "</table>\n",
       "</div>"
      ],
      "text/plain": [
       "              M1      M1_MC    M1_ENET   M1_GBRFR\n",
       "Train 2.2861E+00 8.6589E-01 2.2543E+00 2.2603E+00\n",
       "Test  2.0211E+00 8.3213E-01 2.7705E+00 2.7627E+00"
      ]
     },
     "execution_count": 60,
     "metadata": {},
     "output_type": "execute_result"
    }
   ],
   "source": [
    "Summary_mean_models = pd.DataFrame({\"M1\":np.array([np.mean(np.abs(Mean_errors)),np.mean(np.abs(Mean_errors_test))]),\n",
    "                                    \"M1_MC\":np.array([np.mean(np.abs(Mean_errors_MC)),np.mean(np.abs(Mean_errors_MC_test))]),\n",
    "                                    \"M1_ENET\":np.array([np.mean(np.abs(Mean_errors_ENET)),np.mean(np.abs(Mean_errors_ENET_test))]),\n",
    "                                    \"M1_KRidge\":np.array([np.mean(np.abs(Mean_errors_KRidge)),np.mean(np.abs(Mean_errors_KRidge_test))]),\n",
    "                                    \"M1_GBRFR\":np.array([np.mean(np.abs(Mean_errors_GBRF)),np.mean(np.abs(Mean_errors_GBRF_test))])\n",
    "                                   },index=[\"Train\",\"Test\"])\n",
    "\n",
    "Summary_mean_models"
   ]
  },
  {
   "cell_type": "markdown",
   "metadata": {},
   "source": [
    "## Get Moment Predictions"
   ]
  },
  {
   "cell_type": "markdown",
   "metadata": {},
   "source": [
    "#### Write Predictions"
   ]
  },
  {
   "cell_type": "markdown",
   "metadata": {},
   "source": [
    "### Training-Set Result(s): "
   ]
  },
  {
   "cell_type": "code",
   "execution_count": 28,
   "metadata": {},
   "outputs": [
    {
     "name": "stdout",
     "output_type": "stream",
     "text": [
      "                          N_Centers   N_Q  N_Params  Training Time  \\\n",
      "Model_Complexity_metrics          5  1000    152005     4.0156E+01   \n",
      "\n",
      "                          T_Test/T_Test-MC  Time Test  Time EM-MC  \n",
      "Model_Complexity_metrics        1.3128E+00 4.8651E-02  3.7058E-02  \n",
      "              W1         M1      M1_MC        Var     Var_MC  N_Centers   N_Q  \\\n",
      "Train 8.8274E+00 2.0022E+00 2.0097E+00 1.9577E+02 2.1642E+02          5  1000   \n",
      "Test  6.4414E+00 1.5085E+00 1.6711E+00 2.0322E+02 2.1386E+02          5  1000   \n",
      "\n",
      "       N_Params  Training Time  T_Test/T_Test-MC  Problem_Dimension  \n",
      "Train    152005     4.0156E+01        1.3128E+00                100  \n",
      "Test     152005     4.0156E+01        1.3128E+00                100  \n"
     ]
    }
   ],
   "source": [
    "#---------------------------------------------------------------------------------------------#\n",
    "W1_95 = bootstrap(W1_errors, n=1000, func=np.mean)(.95)\n",
    "W1_99 = bootstrap(W1_errors, n=1000, func=np.mean)(.99)\n",
    "#---------------------------------------------------------------------------------------------#\n",
    "Model_Complexity = pd.DataFrame({\"N_Centers\":N_Quantizers_to_parameterize,\n",
    "                                 \"N_Q\":N_Monte_Carlo_Samples,\n",
    "                                 \"N_Params\":N_params_deep_classifier,\n",
    "                                 \"Training Time\":Time_Lapse_Model_A,\n",
    "                                 \"T_Test/T_Test-MC\": (timer_output/Test_Set_PredictionTime_MC),\n",
    "                                 \"Time Test\": timer_output,\n",
    "                                 \"Time EM-MC\": Test_Set_PredictionTime_MC},index=[\"Model_Complexity_metrics\"])\n",
    "\n",
    "#---------------------------------------------------------------------------------------------#\n",
    "# Compute Error Statistics/Descriptors\n",
    "Summary = pd.DataFrame({\"W1\":np.array([np.mean(np.abs(W1_errors)),np.mean(np.abs(W1_errors_test))]),\n",
    "                        \"M1\":np.array([np.mean(np.abs(Mean_errors)),np.mean(np.abs(Mean_errors_test))]),\n",
    "                        \"M1_MC\":np.array([np.mean(np.abs(Mean_errors_MC)),np.mean(np.abs(Mean_errors_MC_test))]),\n",
    "                        \"Var\":np.array([np.mean(np.abs(Var_errors)),np.mean(np.abs(Var_errors_test))]),\n",
    "                        \"Var_MC\":np.array([np.mean(np.abs(Var_errors_MC)),np.mean(np.abs(Var_errors_MC_test))]),                                             \n",
    "                        \"N_Centers\":np.array((N_Quantizers_to_parameterize,N_Quantizers_to_parameterize)),\n",
    "                        \"N_Q\":np.array((N_Monte_Carlo_Samples,N_Monte_Carlo_Samples)),\n",
    "                        \"N_Params\":np.array((N_params_deep_classifier,N_params_deep_classifier)),\n",
    "                        \"Training Time\":np.array((Time_Lapse_Model_A,Time_Lapse_Model_A)),\n",
    "                        \"T_Test/T_Test-MC\":np.array(((timer_output/Test_Set_PredictionTime_MC),(timer_output/Test_Set_PredictionTime_MC))),\n",
    "                        \"Problem_Dimension\":np.array((problem_dim,problem_dim))\n",
    "                       },index=[\"Train\",\"Test\"])\n",
    "\n",
    "\n",
    "# Write Performance Metrics to file #\n",
    "#-----------------------------------#\n",
    "pd.set_option('display.float_format', '{:.4E}'.format)\n",
    "Model_Complexity.to_latex((results_tables_path+\"Latent_Width_NSDE\"+str(width)+\"Problemdimension\"+str(problem_dim)+\"__ModelComplexities.tex\"))\n",
    "pd.set_option('display.float_format', '{:.4E}'.format)\n",
    "Summary.to_latex((results_tables_path+\"Latent_Width_NSDE\"+str(width)+\"Problemdimension\"+str(problem_dim)+\"__SUMMARY_METRICS.tex\"))\n",
    "\n",
    "\n",
    "#---------------------------------------------------------------------------------------------#\n",
    "# Update User\n",
    "print(Model_Complexity)\n",
    "print(Summary)"
   ]
  },
  {
   "cell_type": "markdown",
   "metadata": {},
   "source": [
    "# Update User"
   ]
  },
  {
   "cell_type": "markdown",
   "metadata": {},
   "source": [
    "## Training Set Prediction Quality"
   ]
  },
  {
   "cell_type": "code",
   "execution_count": 29,
   "metadata": {},
   "outputs": [
    {
     "data": {
      "text/html": [
       "<div>\n",
       "<style scoped>\n",
       "    .dataframe tbody tr th:only-of-type {\n",
       "        vertical-align: middle;\n",
       "    }\n",
       "\n",
       "    .dataframe tbody tr th {\n",
       "        vertical-align: top;\n",
       "    }\n",
       "\n",
       "    .dataframe thead th {\n",
       "        text-align: right;\n",
       "    }\n",
       "</style>\n",
       "<table border=\"1\" class=\"dataframe\">\n",
       "  <thead>\n",
       "    <tr style=\"text-align: right;\">\n",
       "      <th></th>\n",
       "      <th>W1</th>\n",
       "      <th>M1</th>\n",
       "      <th>M1_MC</th>\n",
       "      <th>Var</th>\n",
       "      <th>Var_MC</th>\n",
       "      <th>N_Centers</th>\n",
       "      <th>N_Q</th>\n",
       "      <th>N_Params</th>\n",
       "      <th>Training Time</th>\n",
       "      <th>T_Test/T_Test-MC</th>\n",
       "      <th>Problem_Dimension</th>\n",
       "    </tr>\n",
       "  </thead>\n",
       "  <tbody>\n",
       "    <tr>\n",
       "      <th>Train</th>\n",
       "      <td>8.8274E+00</td>\n",
       "      <td>2.0022E+00</td>\n",
       "      <td>2.0097E+00</td>\n",
       "      <td>1.9577E+02</td>\n",
       "      <td>2.1642E+02</td>\n",
       "      <td>5</td>\n",
       "      <td>1000</td>\n",
       "      <td>152005</td>\n",
       "      <td>4.0156E+01</td>\n",
       "      <td>1.3128E+00</td>\n",
       "      <td>100</td>\n",
       "    </tr>\n",
       "    <tr>\n",
       "      <th>Test</th>\n",
       "      <td>6.4414E+00</td>\n",
       "      <td>1.5085E+00</td>\n",
       "      <td>1.6711E+00</td>\n",
       "      <td>2.0322E+02</td>\n",
       "      <td>2.1386E+02</td>\n",
       "      <td>5</td>\n",
       "      <td>1000</td>\n",
       "      <td>152005</td>\n",
       "      <td>4.0156E+01</td>\n",
       "      <td>1.3128E+00</td>\n",
       "      <td>100</td>\n",
       "    </tr>\n",
       "  </tbody>\n",
       "</table>\n",
       "</div>"
      ],
      "text/plain": [
       "              W1         M1      M1_MC        Var     Var_MC  N_Centers   N_Q  \\\n",
       "Train 8.8274E+00 2.0022E+00 2.0097E+00 1.9577E+02 2.1642E+02          5  1000   \n",
       "Test  6.4414E+00 1.5085E+00 1.6711E+00 2.0322E+02 2.1386E+02          5  1000   \n",
       "\n",
       "       N_Params  Training Time  T_Test/T_Test-MC  Problem_Dimension  \n",
       "Train    152005     4.0156E+01        1.3128E+00                100  \n",
       "Test     152005     4.0156E+01        1.3128E+00                100  "
      ]
     },
     "execution_count": 29,
     "metadata": {},
     "output_type": "execute_result"
    }
   ],
   "source": [
    "Summary"
   ]
  },
  {
   "cell_type": "markdown",
   "metadata": {},
   "source": [
    "---"
   ]
  },
  {
   "cell_type": "markdown",
   "metadata": {},
   "source": [
    "---\n",
    "# Fin\n",
    "---"
   ]
  },
  {
   "cell_type": "markdown",
   "metadata": {},
   "source": [
    "---"
   ]
  }
 ],
 "metadata": {
  "kernelspec": {
   "display_name": "Python 3",
   "language": "python",
   "name": "python3"
  },
  "language_info": {
   "codemirror_mode": {
    "name": "ipython",
    "version": 3
   },
   "file_extension": ".py",
   "mimetype": "text/x-python",
   "name": "python",
   "nbconvert_exporter": "python",
   "pygments_lexer": "ipython3",
   "version": "3.7.7"
  }
 },
 "nbformat": 4,
 "nbformat_minor": 2
}
