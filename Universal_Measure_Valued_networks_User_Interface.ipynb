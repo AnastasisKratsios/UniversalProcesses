{
 "cells": [
  {
   "cell_type": "markdown",
   "metadata": {},
   "source": [
    "# Deep Universal Regular Conditional Expectations:\n",
    "\n",
    "---\n",
    "This implements the universal deep neural model of $\\mathcal{NN}_{1_{\\mathbb{R}^n},\\mathcal{D}}^{\\sigma:\\star}$ [Anastasis Kratsios](https://people.math.ethz.ch/~kratsioa/) - 2021.\n",
    "\n",
    "---\n",
    "\n",
    "## What does this code do?\n",
    "1. Learn Heteroskedastic Non-Linear Regression Problem\n",
    "     - $Y\\sim f_{\\text{unkown}}(x) + \\epsilon$ where $f$ is an known function and $\\epsilon\\sim Laplace(0,\\|x\\|)$\n",
    "2. Learn Random Bayesian Network's Law:\n",
    "    - $Y = W_J Y^{J-1}, \\qquad Y^{j}\\triangleq \\sigma\\bullet A^{j}Y^{j-1} + b^{j}, \\qquad Y^0\\triangleq x$\n",
    "\n",
    "3. In the above example if $A_j = M_j\\odot \\tilde{A_j}$ where $\\tilde{A}_j$ is a deterministic matrix and $M_j$ is a \"mask\", that is, a random matrix with binary entries and $\\odot$ is the Hadamard product then we recover the dropout framework."
   ]
  },
  {
   "cell_type": "code",
   "execution_count": 1,
   "metadata": {},
   "outputs": [
    {
     "name": "stderr",
     "output_type": "stream",
     "text": [
      "Using TensorFlow backend.\n"
     ]
    }
   ],
   "source": [
    "# Load Packages/Modules\n",
    "exec(open('Init_Dump.py').read())"
   ]
  },
  {
   "cell_type": "markdown",
   "metadata": {},
   "source": [
    "#### Mode:\n",
    "Software/Hardware Testing or Real-Deal?"
   ]
  },
  {
   "cell_type": "code",
   "execution_count": 2,
   "metadata": {},
   "outputs": [],
   "source": [
    "trial_run = False"
   ]
  },
  {
   "cell_type": "markdown",
   "metadata": {},
   "source": [
    "### Simulation Method:"
   ]
  },
  {
   "cell_type": "code",
   "execution_count": 3,
   "metadata": {},
   "outputs": [],
   "source": [
    "# Random DNN\n",
    "f_unknown_mode = \"Heteroskedastic_NonLinear_Regression\"\n",
    "\n",
    "# Random DNN internal noise\n",
    "# f_unknown_mode = \"DNN_with_Random_Weights\"\n",
    "Depth_Bayesian_DNN = 10\n",
    "width = 200\n",
    "\n",
    "# Random Dropout applied to trained DNN\n",
    "# f_unknown_mode = \"DNN_with_Bayesian_Dropout\"\n",
    "Dropout_rate = 0.25\n",
    "\n",
    "# Rough SDE (time 1)\n",
    "# f_unknown_mode = \"Rough_SDE\""
   ]
  },
  {
   "cell_type": "markdown",
   "metadata": {},
   "source": [
    "## Problem Dimension"
   ]
  },
  {
   "cell_type": "code",
   "execution_count": 4,
   "metadata": {},
   "outputs": [],
   "source": [
    "problem_dim = 50"
   ]
  },
  {
   "cell_type": "markdown",
   "metadata": {},
   "source": [
    "## Note: *Why the procedure is so computationally efficient*?\n",
    "---\n",
    " - The sample barycenters do not require us to solve for any new Wasserstein-1 Barycenters; which is much more computationally costly,\n",
    " - Our training procedure never back-propages through $\\mathcal{W}_1$ since steps 2 and 3 are full-decoupled.  Therefore, training our deep classifier is (comparatively) cheap since it takes values in the standard $N$-simplex.\n",
    "\n",
    "---"
   ]
  },
  {
   "cell_type": "markdown",
   "metadata": {},
   "source": [
    "#### Rough SDE Meta-Parameters"
   ]
  },
  {
   "cell_type": "code",
   "execution_count": 5,
   "metadata": {},
   "outputs": [],
   "source": [
    "# SDE with Rough Driver\n",
    "N_Euler_Steps = 10**1\n",
    "Hurst_Exponent = 0.01\n",
    "\n",
    "def alpha(t,x):\n",
    "    output_drift_update = t-x\n",
    "    return output_drift_update\n",
    "\n",
    "def beta(t,x):\n",
    "    output_vol_update = (t+0.001)*np.diag(np.cos(x))\n",
    "    return output_vol_update"
   ]
  },
  {
   "cell_type": "markdown",
   "metadata": {},
   "source": [
    "#### Grid Hyperparameter(s)\n",
    "- Ratio $\\frac{\\text{Testing Datasize}}{\\text{Training Datasize}}$.\n",
    "- Number of Training Points to Generate"
   ]
  },
  {
   "cell_type": "code",
   "execution_count": 6,
   "metadata": {},
   "outputs": [],
   "source": [
    "train_test_ratio = .2\n",
    "N_train_size = 10**3"
   ]
  },
  {
   "cell_type": "markdown",
   "metadata": {},
   "source": [
    "Monte-Carlo Paramters"
   ]
  },
  {
   "cell_type": "code",
   "execution_count": 7,
   "metadata": {},
   "outputs": [],
   "source": [
    "## Monte-Carlo\n",
    "N_Monte_Carlo_Samples = 10**3"
   ]
  },
  {
   "cell_type": "markdown",
   "metadata": {},
   "source": [
    "Initial radis of $\\delta$-bounded random partition of $\\mathcal{X}$!"
   ]
  },
  {
   "cell_type": "code",
   "execution_count": 8,
   "metadata": {},
   "outputs": [],
   "source": [
    "# Hyper-parameters of Cover\n",
    "delta = 0.1\n",
    "Proportion_per_cluster = .5"
   ]
  },
  {
   "cell_type": "markdown",
   "metadata": {},
   "source": [
    "# Run Main:"
   ]
  },
  {
   "cell_type": "code",
   "execution_count": null,
   "metadata": {},
   "outputs": [
    {
     "name": "stdout",
     "output_type": "stream",
     "text": [
      "Deep Feature Builder - Ready\n",
      "Deep Classifier - Ready\n"
     ]
    },
    {
     "name": "stderr",
     "output_type": "stream",
     "text": [
      "100%|██████████| 500/500 [00:01<00:00, 462.68it/s]\n",
      "100%|██████████| 1000/1000 [00:04<00:00, 208.07it/s]\n",
      "100%|██████████| 200/200 [00:00<00:00, 500.83it/s]"
     ]
    },
    {
     "name": "stdout",
     "output_type": "stream",
     "text": [
      "Deep Feature Builder - Ready\n",
      "Deep Classifier - Ready\n",
      "==========================================\n",
      "Training Classifer Portion of Type-A Model\n",
      "==========================================\n",
      "Fitting 4 folds for each of 5 candidates, totalling 20 fits\n"
     ]
    },
    {
     "name": "stderr",
     "output_type": "stream",
     "text": [
      "\n",
      "[Parallel(n_jobs=4)]: Using backend LokyBackend with 4 concurrent workers.\n",
      "[Parallel(n_jobs=4)]: Done   5 tasks      | elapsed:  1.3min\n",
      "[Parallel(n_jobs=4)]: Done  10 tasks      | elapsed:  2.0min\n",
      "[Parallel(n_jobs=4)]: Done  16 out of  20 | elapsed:  2.8min remaining:   41.3s\n",
      "[Parallel(n_jobs=4)]: Done  20 out of  20 | elapsed:  3.6min finished\n"
     ]
    },
    {
     "name": "stdout",
     "output_type": "stream",
     "text": [
      "Epoch 1/200\n",
      "32/32 [==============================] - 0s 3ms/step - loss: 6.2337 - accuracy: 0.0060\n",
      "Epoch 2/200\n",
      "32/32 [==============================] - 0s 3ms/step - loss: 6.0418 - accuracy: 0.0200\n",
      "Epoch 3/200\n",
      "32/32 [==============================] - 0s 3ms/step - loss: 5.8296 - accuracy: 0.0190\n",
      "Epoch 4/200\n",
      "32/32 [==============================] - 0s 3ms/step - loss: 5.5402 - accuracy: 0.0390\n",
      "Epoch 5/200\n",
      "32/32 [==============================] - 0s 3ms/step - loss: 5.1910 - accuracy: 0.1030\n",
      "Epoch 6/200\n",
      "32/32 [==============================] - 0s 3ms/step - loss: 4.7075 - accuracy: 0.2130\n",
      "Epoch 7/200\n",
      "32/32 [==============================] - 0s 3ms/step - loss: 4.1180 - accuracy: 0.2790\n",
      "Epoch 8/200\n",
      "32/32 [==============================] - 0s 3ms/step - loss: 3.3240 - accuracy: 0.4710\n",
      "Epoch 9/200\n",
      "32/32 [==============================] - 0s 3ms/step - loss: 2.5204 - accuracy: 0.6630\n",
      "Epoch 10/200\n",
      "32/32 [==============================] - 0s 4ms/step - loss: 1.8212 - accuracy: 0.8220\n",
      "Epoch 11/200\n",
      "32/32 [==============================] - 0s 4ms/step - loss: 1.2415 - accuracy: 0.8960\n",
      "Epoch 12/200\n",
      "32/32 [==============================] - 0s 4ms/step - loss: 0.8341 - accuracy: 0.9390\n",
      "Epoch 13/200\n",
      "32/32 [==============================] - 0s 3ms/step - loss: 0.5981 - accuracy: 0.9570\n",
      "Epoch 14/200\n",
      "32/32 [==============================] - 0s 4ms/step - loss: 0.4402 - accuracy: 0.9730\n",
      "Epoch 15/200\n",
      "32/32 [==============================] - 0s 3ms/step - loss: 0.3311 - accuracy: 0.9820\n",
      "Epoch 16/200\n",
      "32/32 [==============================] - 0s 3ms/step - loss: 0.2846 - accuracy: 0.9870\n",
      "Epoch 17/200\n",
      "32/32 [==============================] - 0s 4ms/step - loss: 0.2177 - accuracy: 0.9850\n",
      "Epoch 18/200\n",
      "32/32 [==============================] - 0s 4ms/step - loss: 0.1665 - accuracy: 0.9950\n",
      "Epoch 19/200\n",
      "32/32 [==============================] - 0s 5ms/step - loss: 0.1375 - accuracy: 0.9950\n",
      "Epoch 20/200\n",
      "32/32 [==============================] - 0s 4ms/step - loss: 0.1163 - accuracy: 0.9980\n",
      "Epoch 21/200\n",
      "32/32 [==============================] - 0s 3ms/step - loss: 0.0980 - accuracy: 0.9990\n",
      "Epoch 22/200\n",
      "32/32 [==============================] - 0s 3ms/step - loss: 0.0822 - accuracy: 1.0000\n",
      "Epoch 23/200\n",
      "32/32 [==============================] - 0s 4ms/step - loss: 0.0735 - accuracy: 1.0000\n",
      "Epoch 24/200\n",
      "32/32 [==============================] - 0s 4ms/step - loss: 0.0619 - accuracy: 1.0000\n",
      "Epoch 25/200\n",
      "32/32 [==============================] - 0s 3ms/step - loss: 0.0546 - accuracy: 0.9990\n",
      "Epoch 26/200\n",
      "32/32 [==============================] - 0s 3ms/step - loss: 0.0488 - accuracy: 1.0000\n",
      "Epoch 27/200\n",
      "32/32 [==============================] - 0s 3ms/step - loss: 0.0445 - accuracy: 1.0000\n",
      "Epoch 28/200\n",
      "32/32 [==============================] - 0s 3ms/step - loss: 0.0420 - accuracy: 1.0000\n",
      "Epoch 29/200\n",
      "32/32 [==============================] - 0s 3ms/step - loss: 0.0370 - accuracy: 1.0000\n",
      "Epoch 30/200\n",
      "32/32 [==============================] - 0s 3ms/step - loss: 0.0338 - accuracy: 1.0000\n",
      "Epoch 31/200\n",
      "32/32 [==============================] - 0s 3ms/step - loss: 0.0294 - accuracy: 1.0000\n",
      "Epoch 32/200\n",
      "32/32 [==============================] - 0s 3ms/step - loss: 0.0267 - accuracy: 1.0000\n",
      "Epoch 33/200\n",
      "32/32 [==============================] - 0s 3ms/step - loss: 0.0248 - accuracy: 1.0000\n",
      "Epoch 34/200\n",
      "32/32 [==============================] - 0s 3ms/step - loss: 0.0234 - accuracy: 1.0000\n",
      "Epoch 35/200\n",
      "32/32 [==============================] - 0s 3ms/step - loss: 0.0222 - accuracy: 1.0000\n",
      "Epoch 36/200\n",
      "32/32 [==============================] - 0s 3ms/step - loss: 0.0208 - accuracy: 1.0000\n",
      "Epoch 37/200\n",
      "32/32 [==============================] - 0s 3ms/step - loss: 0.0191 - accuracy: 1.0000\n",
      "Epoch 38/200\n",
      "32/32 [==============================] - 0s 3ms/step - loss: 0.0180 - accuracy: 1.0000\n",
      "Epoch 39/200\n",
      "32/32 [==============================] - 0s 3ms/step - loss: 0.0170 - accuracy: 1.0000\n",
      "Epoch 40/200\n",
      "32/32 [==============================] - 0s 3ms/step - loss: 0.0163 - accuracy: 1.0000\n",
      "Epoch 41/200\n",
      "32/32 [==============================] - 0s 4ms/step - loss: 0.0154 - accuracy: 1.0000\n",
      "Epoch 42/200\n",
      "32/32 [==============================] - 0s 3ms/step - loss: 0.0148 - accuracy: 1.0000\n",
      "Epoch 43/200\n",
      "32/32 [==============================] - 0s 4ms/step - loss: 0.0136 - accuracy: 1.0000\n",
      "Epoch 44/200\n",
      "32/32 [==============================] - 0s 3ms/step - loss: 0.0129 - accuracy: 1.0000\n",
      "Epoch 45/200\n",
      "32/32 [==============================] - 0s 3ms/step - loss: 0.0124 - accuracy: 1.0000\n",
      "Epoch 46/200\n",
      "32/32 [==============================] - 0s 3ms/step - loss: 0.0115 - accuracy: 1.0000\n",
      "Epoch 47/200\n",
      "32/32 [==============================] - 0s 3ms/step - loss: 0.0111 - accuracy: 1.0000\n",
      "Epoch 48/200\n",
      "32/32 [==============================] - 0s 3ms/step - loss: 0.0106 - accuracy: 1.0000\n",
      "Epoch 49/200\n",
      "32/32 [==============================] - 0s 3ms/step - loss: 0.0102 - accuracy: 1.0000\n",
      "Epoch 50/200\n",
      "32/32 [==============================] - 0s 4ms/step - loss: 0.0095 - accuracy: 1.0000\n",
      "Epoch 51/200\n",
      "32/32 [==============================] - 0s 3ms/step - loss: 0.0093 - accuracy: 1.0000\n",
      "Epoch 52/200\n",
      "32/32 [==============================] - 0s 3ms/step - loss: 0.0087 - accuracy: 1.0000\n",
      "Epoch 53/200\n",
      "32/32 [==============================] - 0s 3ms/step - loss: 0.0084 - accuracy: 1.0000\n",
      "Epoch 54/200\n",
      "32/32 [==============================] - 0s 3ms/step - loss: 0.0080 - accuracy: 1.0000\n",
      "Epoch 55/200\n",
      "32/32 [==============================] - 0s 4ms/step - loss: 0.0076 - accuracy: 1.0000\n",
      "Epoch 56/200\n",
      "32/32 [==============================] - 0s 4ms/step - loss: 0.0073 - accuracy: 1.0000\n",
      "Epoch 57/200\n",
      "32/32 [==============================] - 0s 4ms/step - loss: 0.0070 - accuracy: 1.0000\n",
      "Epoch 58/200\n",
      "32/32 [==============================] - 0s 3ms/step - loss: 0.0068 - accuracy: 1.0000\n",
      "Epoch 59/200\n",
      "32/32 [==============================] - 0s 4ms/step - loss: 0.0065 - accuracy: 1.0000\n",
      "Epoch 60/200\n",
      "32/32 [==============================] - 0s 4ms/step - loss: 0.0062 - accuracy: 1.0000\n",
      "Epoch 61/200\n",
      "32/32 [==============================] - 0s 4ms/step - loss: 0.0060 - accuracy: 1.0000\n",
      "Epoch 62/200\n",
      "32/32 [==============================] - 0s 3ms/step - loss: 0.0058 - accuracy: 1.0000\n",
      "Epoch 63/200\n",
      "32/32 [==============================] - 0s 3ms/step - loss: 0.0056 - accuracy: 1.0000\n",
      "Epoch 64/200\n",
      "32/32 [==============================] - 0s 3ms/step - loss: 0.0054 - accuracy: 1.0000\n",
      "Epoch 65/200\n",
      "32/32 [==============================] - 0s 3ms/step - loss: 0.0053 - accuracy: 1.0000\n",
      "Epoch 66/200\n",
      "32/32 [==============================] - 0s 4ms/step - loss: 0.0050 - accuracy: 1.0000\n",
      "Epoch 67/200\n",
      "32/32 [==============================] - 0s 4ms/step - loss: 0.0049 - accuracy: 1.0000\n",
      "Epoch 68/200\n",
      "32/32 [==============================] - 0s 4ms/step - loss: 0.0047 - accuracy: 1.0000\n",
      "Epoch 69/200\n",
      "32/32 [==============================] - 0s 4ms/step - loss: 0.0045 - accuracy: 1.0000\n",
      "Epoch 70/200\n",
      "32/32 [==============================] - 0s 4ms/step - loss: 0.0044 - accuracy: 1.0000\n",
      "Epoch 71/200\n",
      "32/32 [==============================] - 0s 4ms/step - loss: 0.0042 - accuracy: 1.0000\n",
      "Epoch 72/200\n",
      "32/32 [==============================] - 0s 4ms/step - loss: 0.0041 - accuracy: 1.0000\n",
      "Epoch 73/200\n",
      "32/32 [==============================] - 0s 4ms/step - loss: 0.0040 - accuracy: 1.0000\n",
      "Epoch 74/200\n",
      "32/32 [==============================] - 0s 4ms/step - loss: 0.0039 - accuracy: 1.0000\n",
      "Epoch 75/200\n",
      "32/32 [==============================] - 0s 5ms/step - loss: 0.0037 - accuracy: 1.0000\n",
      "Epoch 76/200\n",
      "32/32 [==============================] - 0s 4ms/step - loss: 0.0037 - accuracy: 1.0000\n",
      "Epoch 77/200\n",
      "32/32 [==============================] - 0s 4ms/step - loss: 0.0035 - accuracy: 1.0000\n",
      "Epoch 78/200\n",
      "32/32 [==============================] - 0s 4ms/step - loss: 0.0034 - accuracy: 1.0000\n",
      "Epoch 79/200\n",
      "32/32 [==============================] - 0s 3ms/step - loss: 0.0033 - accuracy: 1.0000\n",
      "Epoch 80/200\n",
      "32/32 [==============================] - 0s 4ms/step - loss: 0.0032 - accuracy: 1.0000\n",
      "Epoch 81/200\n",
      "32/32 [==============================] - 0s 4ms/step - loss: 0.0031 - accuracy: 1.0000\n",
      "Epoch 82/200\n",
      "32/32 [==============================] - 0s 3ms/step - loss: 0.0030 - accuracy: 1.0000\n",
      "Epoch 83/200\n"
     ]
    },
    {
     "name": "stdout",
     "output_type": "stream",
     "text": [
      "32/32 [==============================] - 0s 5ms/step - loss: 0.0029 - accuracy: 1.0000\n",
      "Epoch 84/200\n",
      "32/32 [==============================] - 0s 4ms/step - loss: 0.0028 - accuracy: 1.0000\n",
      "Epoch 85/200\n",
      "32/32 [==============================] - 0s 3ms/step - loss: 0.0027 - accuracy: 1.0000\n",
      "Epoch 86/200\n",
      "32/32 [==============================] - 0s 4ms/step - loss: 0.0027 - accuracy: 1.0000\n",
      "Epoch 87/200\n",
      "32/32 [==============================] - 0s 4ms/step - loss: 0.0026 - accuracy: 1.0000\n",
      "Epoch 88/200\n",
      "32/32 [==============================] - 0s 4ms/step - loss: 0.0025 - accuracy: 1.0000\n",
      "Epoch 89/200\n",
      "32/32 [==============================] - 0s 3ms/step - loss: 0.0025 - accuracy: 1.0000\n",
      "Epoch 90/200\n",
      "32/32 [==============================] - 0s 3ms/step - loss: 0.0024 - accuracy: 1.0000\n",
      "Epoch 91/200\n",
      "32/32 [==============================] - 0s 3ms/step - loss: 0.0023 - accuracy: 1.0000\n",
      "Epoch 92/200\n",
      "32/32 [==============================] - 0s 4ms/step - loss: 0.0022 - accuracy: 1.0000\n",
      "Epoch 93/200\n",
      "32/32 [==============================] - 0s 3ms/step - loss: 0.0022 - accuracy: 1.0000\n",
      "Epoch 94/200\n",
      "32/32 [==============================] - 0s 4ms/step - loss: 0.0021 - accuracy: 1.0000\n",
      "Epoch 95/200\n",
      "32/32 [==============================] - 0s 4ms/step - loss: 0.0021 - accuracy: 1.0000\n",
      "Epoch 96/200\n",
      "32/32 [==============================] - 0s 4ms/step - loss: 0.0020 - accuracy: 1.0000\n",
      "Epoch 97/200\n",
      "32/32 [==============================] - 0s 3ms/step - loss: 0.0020 - accuracy: 1.0000\n",
      "Epoch 98/200\n",
      "32/32 [==============================] - 0s 4ms/step - loss: 0.0019 - accuracy: 1.0000\n",
      "Epoch 99/200\n",
      "32/32 [==============================] - 0s 3ms/step - loss: 0.0019 - accuracy: 1.0000\n",
      "Epoch 100/200\n",
      "32/32 [==============================] - 0s 3ms/step - loss: 0.0018 - accuracy: 1.0000\n",
      "Epoch 101/200\n",
      "32/32 [==============================] - 0s 3ms/step - loss: 0.0018 - accuracy: 1.0000\n",
      "Epoch 102/200\n",
      "32/32 [==============================] - 0s 3ms/step - loss: 0.0017 - accuracy: 1.0000\n",
      "Epoch 103/200\n",
      "32/32 [==============================] - 0s 4ms/step - loss: 0.0017 - accuracy: 1.0000\n",
      "Epoch 104/200\n",
      "32/32 [==============================] - 0s 4ms/step - loss: 0.0016 - accuracy: 1.0000\n",
      "Epoch 105/200\n",
      "32/32 [==============================] - 0s 4ms/step - loss: 0.0016 - accuracy: 1.0000\n",
      "Epoch 106/200\n",
      "32/32 [==============================] - 0s 4ms/step - loss: 0.0016 - accuracy: 1.0000\n",
      "Epoch 107/200\n",
      "32/32 [==============================] - 0s 4ms/step - loss: 0.0015 - accuracy: 1.0000\n",
      "Epoch 108/200\n",
      "32/32 [==============================] - 0s 4ms/step - loss: 0.0015 - accuracy: 1.0000\n",
      "Epoch 109/200\n",
      "32/32 [==============================] - 0s 4ms/step - loss: 0.0014 - accuracy: 1.0000\n",
      "Epoch 110/200\n",
      "32/32 [==============================] - 0s 3ms/step - loss: 0.0014 - accuracy: 1.0000\n",
      "Epoch 111/200\n",
      "32/32 [==============================] - 0s 4ms/step - loss: 0.0014 - accuracy: 1.0000\n",
      "Epoch 112/200\n",
      "32/32 [==============================] - 0s 4ms/step - loss: 0.0013 - accuracy: 1.0000\n",
      "Epoch 113/200\n",
      "32/32 [==============================] - 0s 4ms/step - loss: 0.0013 - accuracy: 1.0000\n",
      "Epoch 114/200\n",
      "32/32 [==============================] - 0s 3ms/step - loss: 0.0013 - accuracy: 1.0000\n",
      "Epoch 115/200\n",
      "32/32 [==============================] - 0s 4ms/step - loss: 0.0013 - accuracy: 1.0000\n",
      "Epoch 116/200\n",
      "32/32 [==============================] - 0s 4ms/step - loss: 0.0012 - accuracy: 1.0000\n",
      "Epoch 117/200\n",
      "32/32 [==============================] - 0s 3ms/step - loss: 0.0012 - accuracy: 1.0000\n",
      "Epoch 118/200\n",
      "32/32 [==============================] - 0s 4ms/step - loss: 0.0012 - accuracy: 1.0000\n",
      "Epoch 119/200\n",
      "32/32 [==============================] - 0s 4ms/step - loss: 0.0011 - accuracy: 1.0000\n",
      "Epoch 120/200\n",
      "32/32 [==============================] - 0s 3ms/step - loss: 0.0011 - accuracy: 1.0000\n",
      "Epoch 121/200\n",
      "32/32 [==============================] - 0s 4ms/step - loss: 0.0011 - accuracy: 1.0000\n",
      "Epoch 122/200\n",
      "32/32 [==============================] - 0s 3ms/step - loss: 0.0011 - accuracy: 1.0000\n",
      "Epoch 123/200\n",
      "32/32 [==============================] - 0s 3ms/step - loss: 0.0010 - accuracy: 1.0000\n",
      "Epoch 124/200\n",
      "32/32 [==============================] - 0s 4ms/step - loss: 0.0010 - accuracy: 1.0000\n",
      "Epoch 125/200\n",
      "32/32 [==============================] - 0s 4ms/step - loss: 9.8842e-04 - accuracy: 1.0000\n",
      "Epoch 126/200\n",
      "32/32 [==============================] - 0s 4ms/step - loss: 9.6703e-04 - accuracy: 1.0000\n",
      "Epoch 127/200\n",
      "32/32 [==============================] - 0s 4ms/step - loss: 9.3942e-04 - accuracy: 1.0000\n",
      "Epoch 128/200\n",
      "32/32 [==============================] - 0s 4ms/step - loss: 9.3081e-04 - accuracy: 1.0000\n",
      "Epoch 129/200\n",
      "32/32 [==============================] - 0s 4ms/step - loss: 9.0507e-04 - accuracy: 1.0000\n",
      "Epoch 130/200\n",
      "32/32 [==============================] - 0s 5ms/step - loss: 8.8409e-04 - accuracy: 1.0000\n",
      "Epoch 131/200\n",
      "32/32 [==============================] - 0s 4ms/step - loss: 8.6024e-04 - accuracy: 1.0000\n",
      "Epoch 132/200\n",
      "32/32 [==============================] - 0s 4ms/step - loss: 8.4560e-04 - accuracy: 1.0000\n",
      "Epoch 133/200\n",
      "32/32 [==============================] - 0s 4ms/step - loss: 8.3262e-04 - accuracy: 1.0000\n",
      "Epoch 134/200\n",
      "32/32 [==============================] - 0s 5ms/step - loss: 8.0595e-04 - accuracy: 1.0000\n",
      "Epoch 135/200\n",
      "32/32 [==============================] - 0s 4ms/step - loss: 7.8322e-04 - accuracy: 1.0000\n",
      "Epoch 136/200\n",
      "32/32 [==============================] - 0s 4ms/step - loss: 7.6778e-04 - accuracy: 1.0000\n",
      "Epoch 137/200\n",
      "32/32 [==============================] - 0s 4ms/step - loss: 7.5381e-04 - accuracy: 1.0000\n",
      "Epoch 138/200\n",
      "32/32 [==============================] - 0s 3ms/step - loss: 7.3597e-04 - accuracy: 1.0000\n",
      "Epoch 139/200\n",
      "32/32 [==============================] - 0s 5ms/step - loss: 7.2131e-04 - accuracy: 1.0000\n",
      "Epoch 140/200\n",
      "32/32 [==============================] - 0s 4ms/step - loss: 7.0595e-04 - accuracy: 1.0000\n",
      "Epoch 141/200\n",
      "32/32 [==============================] - 0s 4ms/step - loss: 6.9211e-04 - accuracy: 1.0000\n",
      "Epoch 142/200\n",
      "32/32 [==============================] - 0s 3ms/step - loss: 6.7748e-04 - accuracy: 1.0000\n",
      "Epoch 143/200\n",
      "32/32 [==============================] - 0s 4ms/step - loss: 6.7551e-04 - accuracy: 1.0000\n",
      "Epoch 144/200\n",
      "32/32 [==============================] - 0s 4ms/step - loss: 6.4916e-04 - accuracy: 1.0000\n",
      "Epoch 145/200\n",
      "32/32 [==============================] - 0s 3ms/step - loss: 6.3124e-04 - accuracy: 1.0000\n",
      "Epoch 146/200\n",
      "32/32 [==============================] - 0s 4ms/step - loss: 6.1558e-04 - accuracy: 1.0000\n",
      "Epoch 147/200\n",
      "32/32 [==============================] - 0s 5ms/step - loss: 6.0518e-04 - accuracy: 1.0000\n",
      "Epoch 148/200\n",
      "32/32 [==============================] - 0s 4ms/step - loss: 5.9014e-04 - accuracy: 1.0000\n",
      "Epoch 149/200\n",
      "32/32 [==============================] - 0s 4ms/step - loss: 5.8172e-04 - accuracy: 1.0000\n",
      "Epoch 150/200\n",
      "32/32 [==============================] - 0s 5ms/step - loss: 5.6574e-04 - accuracy: 1.0000\n",
      "Epoch 151/200\n",
      "32/32 [==============================] - 0s 4ms/step - loss: 5.5762e-04 - accuracy: 1.0000\n",
      "Epoch 152/200\n",
      "32/32 [==============================] - 0s 5ms/step - loss: 5.4354e-04 - accuracy: 1.0000\n",
      "Epoch 153/200\n",
      "32/32 [==============================] - 0s 4ms/step - loss: 5.3308e-04 - accuracy: 1.0000\n",
      "Epoch 154/200\n",
      "32/32 [==============================] - 0s 3ms/step - loss: 5.2218e-04 - accuracy: 1.0000\n",
      "Epoch 155/200\n",
      "32/32 [==============================] - 0s 3ms/step - loss: 5.0934e-04 - accuracy: 1.0000\n",
      "Epoch 156/200\n",
      "32/32 [==============================] - 0s 4ms/step - loss: 4.9862e-04 - accuracy: 1.0000\n",
      "Epoch 157/200\n",
      "32/32 [==============================] - 0s 5ms/step - loss: 4.9230e-04 - accuracy: 1.0000\n",
      "Epoch 158/200\n",
      "32/32 [==============================] - 0s 4ms/step - loss: 4.8007e-04 - accuracy: 1.0000\n",
      "Epoch 159/200\n",
      "32/32 [==============================] - 0s 5ms/step - loss: 4.7134e-04 - accuracy: 1.0000\n",
      "Epoch 160/200\n",
      "32/32 [==============================] - 0s 4ms/step - loss: 4.6000e-04 - accuracy: 1.0000\n",
      "Epoch 161/200\n",
      "32/32 [==============================] - 0s 4ms/step - loss: 4.5463e-04 - accuracy: 1.0000\n",
      "Epoch 162/200\n"
     ]
    },
    {
     "name": "stdout",
     "output_type": "stream",
     "text": [
      "32/32 [==============================] - 0s 4ms/step - loss: 4.4220e-04 - accuracy: 1.0000\n",
      "Epoch 163/200\n",
      "32/32 [==============================] - 0s 3ms/step - loss: 4.3228e-04 - accuracy: 1.0000\n",
      "Epoch 164/200\n",
      "32/32 [==============================] - 0s 3ms/step - loss: 4.2215e-04 - accuracy: 1.0000\n",
      "Epoch 165/200\n",
      "32/32 [==============================] - 0s 3ms/step - loss: 4.1590e-04 - accuracy: 1.0000\n",
      "Epoch 166/200\n",
      "32/32 [==============================] - 0s 3ms/step - loss: 4.0607e-04 - accuracy: 1.0000\n",
      "Epoch 167/200\n",
      "32/32 [==============================] - 0s 4ms/step - loss: 3.9703e-04 - accuracy: 1.0000\n",
      "Epoch 168/200\n",
      "32/32 [==============================] - 0s 4ms/step - loss: 3.8879e-04 - accuracy: 1.0000\n",
      "Epoch 169/200\n",
      "32/32 [==============================] - 0s 3ms/step - loss: 3.8295e-04 - accuracy: 1.0000\n",
      "Epoch 170/200\n",
      "32/32 [==============================] - 0s 4ms/step - loss: 3.7492e-04 - accuracy: 1.0000\n",
      "Epoch 171/200\n",
      "32/32 [==============================] - 0s 3ms/step - loss: 3.6775e-04 - accuracy: 1.0000\n",
      "Epoch 172/200\n",
      "32/32 [==============================] - 0s 3ms/step - loss: 3.6226e-04 - accuracy: 1.0000\n",
      "Epoch 173/200\n",
      "32/32 [==============================] - 0s 3ms/step - loss: 3.5303e-04 - accuracy: 1.0000\n",
      "Epoch 174/200\n",
      "32/32 [==============================] - 0s 3ms/step - loss: 3.4886e-04 - accuracy: 1.0000\n",
      "Epoch 175/200\n",
      "32/32 [==============================] - 0s 3ms/step - loss: 3.3739e-04 - accuracy: 1.0000\n",
      "Epoch 176/200\n",
      "32/32 [==============================] - 0s 3ms/step - loss: 3.3156e-04 - accuracy: 1.0000\n",
      "Epoch 177/200\n",
      "32/32 [==============================] - 0s 4ms/step - loss: 3.2696e-04 - accuracy: 1.0000\n",
      "Epoch 178/200\n",
      "32/32 [==============================] - 0s 4ms/step - loss: 3.1887e-04 - accuracy: 1.0000\n",
      "Epoch 179/200\n",
      "32/32 [==============================] - 0s 3ms/step - loss: 3.1257e-04 - accuracy: 1.0000\n",
      "Epoch 180/200\n",
      "32/32 [==============================] - 0s 3ms/step - loss: 3.0763e-04 - accuracy: 1.0000\n",
      "Epoch 181/200\n",
      "32/32 [==============================] - 0s 3ms/step - loss: 3.0006e-04 - accuracy: 1.0000\n",
      "Epoch 182/200\n",
      "32/32 [==============================] - 0s 3ms/step - loss: 2.9421e-04 - accuracy: 1.0000\n",
      "Epoch 183/200\n",
      "32/32 [==============================] - 0s 4ms/step - loss: 2.8983e-04 - accuracy: 1.0000\n",
      "Epoch 184/200\n",
      "32/32 [==============================] - 0s 4ms/step - loss: 2.8560e-04 - accuracy: 1.0000\n",
      "Epoch 185/200\n",
      "32/32 [==============================] - 0s 4ms/step - loss: 2.7727e-04 - accuracy: 1.0000\n",
      "Epoch 186/200\n",
      "32/32 [==============================] - 0s 3ms/step - loss: 2.7265e-04 - accuracy: 1.0000\n",
      "Epoch 187/200\n",
      "32/32 [==============================] - 0s 3ms/step - loss: 2.6939e-04 - accuracy: 1.0000\n",
      "Epoch 188/200\n",
      "32/32 [==============================] - 0s 4ms/step - loss: 2.6185e-04 - accuracy: 1.0000\n",
      "Epoch 189/200\n",
      "32/32 [==============================] - 0s 3ms/step - loss: 2.5772e-04 - accuracy: 1.0000\n",
      "Epoch 190/200\n",
      "32/32 [==============================] - 0s 4ms/step - loss: 2.5162e-04 - accuracy: 1.0000\n",
      "Epoch 191/200\n",
      "32/32 [==============================] - 0s 4ms/step - loss: 2.4743e-04 - accuracy: 1.0000\n",
      "Epoch 192/200\n",
      "32/32 [==============================] - 0s 4ms/step - loss: 2.4267e-04 - accuracy: 1.0000\n",
      "Epoch 193/200\n",
      "32/32 [==============================] - 0s 4ms/step - loss: 2.3729e-04 - accuracy: 1.0000\n",
      "Epoch 194/200\n",
      "32/32 [==============================] - 0s 4ms/step - loss: 2.3258e-04 - accuracy: 1.0000\n",
      "Epoch 195/200\n",
      "32/32 [==============================] - 0s 4ms/step - loss: 2.2893e-04 - accuracy: 1.0000\n",
      "Epoch 196/200\n",
      "32/32 [==============================] - 0s 3ms/step - loss: 2.2422e-04 - accuracy: 1.0000\n",
      "Epoch 197/200\n",
      "32/32 [==============================] - 0s 3ms/step - loss: 2.1959e-04 - accuracy: 1.0000\n",
      "Epoch 198/200\n",
      "32/32 [==============================] - 0s 3ms/step - loss: 2.1470e-04 - accuracy: 1.0000\n",
      "Epoch 199/200\n",
      "32/32 [==============================] - 0s 4ms/step - loss: 2.1160e-04 - accuracy: 1.0000\n",
      "Epoch 200/200\n",
      "32/32 [==============================] - 0s 4ms/step - loss: 2.0616e-04 - accuracy: 1.0000\n",
      "32/32 [==============================] - 0s 2ms/step\n",
      "7/7 [==============================] - 0s 2ms/step\n",
      "===============================================\n",
      "Training Classifer Portion of Type Model: Done!\n",
      "===============================================\n"
     ]
    },
    {
     "name": "stderr",
     "output_type": "stream",
     "text": [
      "\r",
      "  0%|          | 0/1000 [00:00<?, ?it/s]"
     ]
    },
    {
     "name": "stdout",
     "output_type": "stream",
     "text": [
      "#--------------------#\n",
      " Get Training Error(s)\n",
      "#--------------------#\n"
     ]
    },
    {
     "name": "stderr",
     "output_type": "stream",
     "text": [
      " 25%|██▍       | 247/1000 [01:15<03:52,  3.24it/s]"
     ]
    }
   ],
   "source": [
    "# %run Universal_Measure_Valued_Networks_Backend.ipynb\n",
    "exec(open('Universal_Measure_Valued_Networks_Backend.py').read())"
   ]
  },
  {
   "cell_type": "markdown",
   "metadata": {},
   "source": [
    "---\n",
    "# Run: All Benchmarks"
   ]
  },
  {
   "cell_type": "markdown",
   "metadata": {},
   "source": [
    "## 1) *Pointmass Benchmark(s)*\n",
    "These benchmarks consist of subsets of $C(\\mathbb{R}^d,\\mathbb{R})$ which we lift to models in $C(\\mathbb{R}^d,\\cap_{1\\leq q<\\infty}\\mathscr{P}_{q}(\\mathbb{R}))$ via:\n",
    "$$\n",
    "\\mathbb{R}^d \\ni x \\to f(x) \\to \\delta_{f(x)}\\in \\cap_{1\\leq q<\\infty}\\mathcal{P}_{q}(\\mathbb{R}).\n",
    "$$"
   ]
  },
  {
   "cell_type": "code",
   "execution_count": null,
   "metadata": {},
   "outputs": [],
   "source": [
    "exec(open('CV_Grid.py').read())\n",
    "# Notebook Mode:\n",
    "# %run Evaluation.ipynb\n",
    "# %run Benchmarks_Model_Builder_Pointmass_Based.ipynb\n",
    "# Terminal Mode (Default):\n",
    "exec(open('Evaluation.py').read())\n",
    "exec(open('Benchmarks_Model_Builder_Pointmass_Based.py').read())"
   ]
  },
  {
   "cell_type": "markdown",
   "metadata": {},
   "source": [
    "# Summary of Point-Mass Regression Models"
   ]
  },
  {
   "cell_type": "markdown",
   "metadata": {},
   "source": [
    "#### Training Model Facts"
   ]
  },
  {
   "cell_type": "code",
   "execution_count": null,
   "metadata": {},
   "outputs": [],
   "source": [
    "print(Summary_pred_Qual_models)\n",
    "Summary_pred_Qual_models"
   ]
  },
  {
   "cell_type": "markdown",
   "metadata": {},
   "source": [
    "#### Testing Model Facts"
   ]
  },
  {
   "cell_type": "code",
   "execution_count": null,
   "metadata": {},
   "outputs": [],
   "source": [
    "print(Summary_pred_Qual_models_test)"
   ]
  },
  {
   "cell_type": "markdown",
   "metadata": {},
   "source": [
    "#### Model Complexitie(s)"
   ]
  },
  {
   "cell_type": "code",
   "execution_count": null,
   "metadata": {
    "scrolled": true
   },
   "outputs": [],
   "source": [
    "print(Summary_Complexity_models)"
   ]
  },
  {
   "cell_type": "markdown",
   "metadata": {},
   "source": [
    "## 2) *Gaussian Benchmarks*"
   ]
  },
  {
   "cell_type": "markdown",
   "metadata": {},
   "source": [
    "- Bencharm 1: [Gaussian Process Regressor](https://scikit-learn.org/stable/modules/gaussian_process.html)\n",
    "- Benchmark 2: Deep Gaussian Networks:\n",
    "These models train models which assume Gaussianity.  We may view these as models in $\\mathcal{P}_2(\\mathbb{R})$ via:\n",
    "$$\n",
    "\\mathbb{R}^d \\ni x \\to (\\hat{\\mu}(x),\\hat{\\sigma}(x))\\triangleq f(x) \\in \\mathbb{R}\\times [0,\\infty) \\to \\frac1{\\hat{\\sigma}(x)\\sqrt{2\\pi}}\\exp\\left(\\frac{-(\\cdot-\\hat{\\mu}(x))^2}{\\hat{\\sigma(x)}^2}\\right) \\in \\mathcal{G}_1\\subset \\mathcal{P}_2(\\mathbb{R});\n",
    "$$\n",
    "where $\\mathcal{G}_1$ is the set of Gaussian measures on $\\mathbb{R}$ equipped with the relative Wasserstein-1 topology."
   ]
  },
  {
   "cell_type": "code",
   "execution_count": null,
   "metadata": {},
   "outputs": [],
   "source": [
    "# %run Benchmarks_Model_Builder_Mean_Var.ipynb\n",
    "exec(open('Benchmarks_Model_Builder_Mean_Var.py').read())"
   ]
  },
  {
   "cell_type": "code",
   "execution_count": null,
   "metadata": {},
   "outputs": [],
   "source": [
    "print(\"Prediction Quality (Updated)\")\n",
    "print(Summary_pred_Qual_models_test)"
   ]
  },
  {
   "cell_type": "code",
   "execution_count": null,
   "metadata": {},
   "outputs": [],
   "source": [
    "print(\"Model Complexities Quality (Updated)\")\n",
    "print(Summary_Complexity_models)"
   ]
  },
  {
   "cell_type": "markdown",
   "metadata": {},
   "source": [
    "# 3) The natural Universal Benchmark: [Bishop's Mixture Density Network](https://publications.aston.ac.uk/id/eprint/373/1/NCRG_94_004.pdf)"
   ]
  },
  {
   "cell_type": "code",
   "execution_count": null,
   "metadata": {},
   "outputs": [],
   "source": [
    "# %run Mixture_Density_Network.ipynb\n",
    "exec(open('Mixture_Density_Network.py').read())"
   ]
  },
  {
   "cell_type": "markdown",
   "metadata": {},
   "source": [
    "## Get Final Outputs\n",
    "Now we piece together all the numerical experiments and report a nice summary."
   ]
  },
  {
   "cell_type": "code",
   "execution_count": null,
   "metadata": {},
   "outputs": [],
   "source": [
    "# %run WrapUp_Summarizer.ipynb\n",
    "exec(open('WrapUp_Summarizer.py').read())"
   ]
  },
  {
   "cell_type": "markdown",
   "metadata": {},
   "source": [
    "# Result(s)"
   ]
  },
  {
   "cell_type": "markdown",
   "metadata": {},
   "source": [
    "#### Chosen Kernel for GPR"
   ]
  },
  {
   "cell_type": "code",
   "execution_count": null,
   "metadata": {},
   "outputs": [],
   "source": [
    "print(\"Kernel_Used_in_GPR: \"+str(GPR_trash.kernel))"
   ]
  },
  {
   "cell_type": "markdown",
   "metadata": {},
   "source": [
    "## Model Complexities"
   ]
  },
  {
   "cell_type": "code",
   "execution_count": null,
   "metadata": {},
   "outputs": [],
   "source": [
    "print(Summary_Complexity_models)\n",
    "Summary_Complexity_models"
   ]
  },
  {
   "cell_type": "markdown",
   "metadata": {},
   "source": [
    "## Prediction Quality"
   ]
  },
  {
   "cell_type": "markdown",
   "metadata": {},
   "source": [
    "#### Training"
   ]
  },
  {
   "cell_type": "code",
   "execution_count": null,
   "metadata": {},
   "outputs": [],
   "source": [
    "print(PredictivePerformance_Metrics_Train)\n",
    "PredictivePerformance_Metrics_Train"
   ]
  },
  {
   "cell_type": "markdown",
   "metadata": {},
   "source": [
    "#### Test"
   ]
  },
  {
   "cell_type": "code",
   "execution_count": null,
   "metadata": {},
   "outputs": [],
   "source": [
    "print(PredictivePerformance_Metrics_Test)\n",
    "PredictivePerformance_Metrics_Test"
   ]
  },
  {
   "cell_type": "markdown",
   "metadata": {},
   "source": [
    "---\n",
    "# Fin\n",
    "---"
   ]
  },
  {
   "cell_type": "markdown",
   "metadata": {},
   "source": [
    "---"
   ]
  }
 ],
 "metadata": {
  "kernelspec": {
   "display_name": "Python 3",
   "language": "python",
   "name": "python3"
  },
  "language_info": {
   "codemirror_mode": {
    "name": "ipython",
    "version": 3
   },
   "file_extension": ".py",
   "mimetype": "text/x-python",
   "name": "python",
   "nbconvert_exporter": "python",
   "pygments_lexer": "ipython3",
   "version": "3.7.7"
  }
 },
 "nbformat": 4,
 "nbformat_minor": 2
}
