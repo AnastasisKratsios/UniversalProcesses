{
 "cells": [
  {
   "cell_type": "markdown",
   "metadata": {},
   "source": [
    "# Universal $\\mathcal{P}_1(\\mathbb{R})$-Deep Neural Model (Type A)\n",
    "---"
   ]
  },
  {
   "cell_type": "markdown",
   "metadata": {},
   "source": [
    "---\n",
    "# Training Algorithm:\n",
    "---\n",
    "## 1) Generate Data:\n",
    "Generates the empirical measure $\\sum_{n=1}^N \\delta_{X_T(\\omega_n)}$ of $X_T$ conditional on $X_0=x_0\\in \\mathbb{R}$ *($x_0$ and $T>0$ are user-provided)*.\n",
    "\n",
    "## 2) Get \"Sample Barycenters\":\n",
    "Let $\\{\\mu_n\\}_{n=1}^N\\subset\\mathcal{P}_1(\\mathbb{R}^d)$.  Then, the *sample barycenter* is defined by:\n",
    "1. $\\mathcal{M}^{(0)}\\triangleq \\left\\{\\hat{\\mu}_n\\right\\}_{n=1}^N$,\n",
    "2. For $1\\leq n\\leq \\mbox{N sample barycenters}$: \n",
    "    - $\n",
    "\\mu^{\\star}\\in \\underset{\\tilde{\\mu}\\in \\mathcal{M}^{(n)}}{\\operatorname{argmin}}\\, \\sum_{n=1}^N \\mathcal{W}_1\\left(\\mu^{\\star},\\mu_n\\right),\n",
    "$\n",
    "    - $\\mathcal{M}^{(n)}\\triangleq \\mathcal{M}^{(n-1)} - \\{\\mu^{\\star}\\},$\n",
    "*i.e., the closest generated measure form the random sample to all other elements of the random sample.*\n",
    "\n",
    "---\n",
    "**Note:** *We simplify the computational burden of getting the correct classes by putting this right into this next loop.*\n",
    "\n",
    "## 3) Train Deep Classifier:\n",
    "$\\hat{f}\\in \\operatorname{argmin}_{f \\in \\mathcal{NN}_{d:N}^{\\star}} \n",
    "\\sum_{x \\in \\mathbb{X}}\n",
    "\\, \n",
    "\\mathbb{H}\n",
    "\\left(\n",
    "    \\operatorname{Softmax}_N\\circ f(x)_n| I\\left\\{W_1(\\hat{\\mu}_n,\\mu_x),\\inf_{m\\leq N} W_1(\\hat{\\mu}_m,\\mu_x)\\right\\}\n",
    "\\right);\n",
    "$\n",
    "where $\\mathbb{H}$ is the categorical cross-entropy.  \n",
    "\n",
    "---\n",
    "---\n",
    "---\n",
    "## Notes - Why the procedure is so computationally efficient?\n",
    "---\n",
    " - The sample barycenters do not require us to solve for any new Wasserstein-1 Barycenters; which is much more computationally costly,\n",
    " - Our training procedure never back-propages through $\\mathcal{W}_1$ since steps 2 and 3 are full-decoupled.  Therefore, training our deep classifier is (comparatively) cheap since it takes values in the standard $N$-simplex.\n",
    "\n",
    "---"
   ]
  },
  {
   "cell_type": "markdown",
   "metadata": {},
   "source": [
    "## Meta-Parameters"
   ]
  },
  {
   "cell_type": "markdown",
   "metadata": {},
   "source": [
    "### Visualization"
   ]
  },
  {
   "cell_type": "code",
   "execution_count": 1,
   "metadata": {},
   "outputs": [],
   "source": [
    "# How many random polulations to visualize:\n",
    "Visualization_Size = 4"
   ]
  },
  {
   "cell_type": "markdown",
   "metadata": {},
   "source": [
    "### Simulation"
   ]
  },
  {
   "cell_type": "markdown",
   "metadata": {},
   "source": [
    "#### Ground Truth:\n",
    "*The build-in Options:*\n",
    "- rSDE \n",
    "- pfBM\n",
    "- 2lnflow"
   ]
  },
  {
   "cell_type": "code",
   "execution_count": 2,
   "metadata": {},
   "outputs": [],
   "source": [
    "groud_truth = \"2lnflow\""
   ]
  },
  {
   "cell_type": "markdown",
   "metadata": {},
   "source": [
    "#### Grid Hyperparameter(s)"
   ]
  },
  {
   "cell_type": "code",
   "execution_count": 3,
   "metadata": {},
   "outputs": [],
   "source": [
    "## Monte-Carlo\n",
    "N_Euler_Maruyama_Steps = 100\n",
    "N_Monte_Carlo_Samples = 10**3\n",
    "N_Monte_Carlo_Samples_Test = 10**1 # How many MC-samples to draw from test-set?\n",
    "\n",
    "# End times for Time-Grid\n",
    "T_end = 1\n",
    "T_end_test = 1.1\n",
    "\n",
    "\n",
    "## Grid\n",
    "N_Grid_Finess = 100\n",
    "Max_Grid = 1\n",
    "\n",
    "# \n",
    "N_Quantizers_to_parameterize = 50"
   ]
  },
  {
   "cell_type": "code",
   "execution_count": 4,
   "metadata": {},
   "outputs": [],
   "source": [
    "# Hyper-parameters of Cover\n",
    "delta = 0.01\n",
    "N_measures_per_center = 3"
   ]
  },
  {
   "cell_type": "markdown",
   "metadata": {},
   "source": [
    "**Note**: Setting *N_Quantizers_to_parameterize* prevents any barycenters and sub-sampling."
   ]
  },
  {
   "cell_type": "markdown",
   "metadata": {},
   "source": [
    "### Random Cover"
   ]
  },
  {
   "cell_type": "code",
   "execution_count": 5,
   "metadata": {},
   "outputs": [],
   "source": [
    "# TEMP:\n",
    "from operator import itemgetter \n",
    "from itertools import compress\n",
    "# Set Minibatch Size\n",
    "Random_Cover_Mini_Batch_Size = 100\n",
    "# Proportion of Clusters per Minibatch Sample\n",
    "# Quantization_Proportion = 0.75"
   ]
  },
  {
   "cell_type": "markdown",
   "metadata": {},
   "source": [
    "#### Mode: Code-Testin Parameter(s)"
   ]
  },
  {
   "cell_type": "code",
   "execution_count": 6,
   "metadata": {},
   "outputs": [],
   "source": [
    "trial_run = True"
   ]
  },
  {
   "cell_type": "markdown",
   "metadata": {},
   "source": [
    "### Meta-parameters"
   ]
  },
  {
   "cell_type": "code",
   "execution_count": 7,
   "metadata": {},
   "outputs": [],
   "source": [
    "# Test-size Ratio\n",
    "test_size_ratio = .25"
   ]
  },
  {
   "cell_type": "markdown",
   "metadata": {},
   "source": [
    "## Simulation from Measure-Valued $2$-Parameter Log-Gaussian Flow\n",
    "$$\n",
    "X_{t,x} \\sim \\log\\text{-}\\mathcal{N}\\left(\\alpha(t,x),\\beta(t,x)\\right).\n",
    "$$"
   ]
  },
  {
   "cell_type": "markdown",
   "metadata": {},
   "source": [
    "**Note:** *$\\alpha$ and $\\beta$ are specified below in the SDE Example*."
   ]
  },
  {
   "cell_type": "markdown",
   "metadata": {},
   "source": [
    "## Simulation from Rough SDE\n",
    "Simulate via Euler-M method from:\n",
    "$$ \n",
    "X_T = x + \\int_0^T \\alpha(s,x)ds + \\int_0^T((1-\\eta)\\beta(s,x)+\\eta\\sigma_s^H)dW_s.\n",
    "$$"
   ]
  },
  {
   "cell_type": "markdown",
   "metadata": {},
   "source": [
    "### Drift"
   ]
  },
  {
   "cell_type": "code",
   "execution_count": 8,
   "metadata": {},
   "outputs": [],
   "source": [
    "def alpha(t,x):\n",
    "    return t*np.sin(math.pi*x) - x + np.exp(-t)"
   ]
  },
  {
   "cell_type": "markdown",
   "metadata": {},
   "source": [
    "### Volatility"
   ]
  },
  {
   "cell_type": "code",
   "execution_count": 9,
   "metadata": {},
   "outputs": [],
   "source": [
    "def beta(t,x):\n",
    "    return .5*(1+t)*np.abs(np.cos(x))"
   ]
  },
  {
   "cell_type": "markdown",
   "metadata": {},
   "source": [
    "### Roughness Meta-parameters"
   ]
  },
  {
   "cell_type": "code",
   "execution_count": 10,
   "metadata": {},
   "outputs": [],
   "source": [
    "Rougness = 0.9 # Hurst Parameter\n",
    "Ratio_fBM_to_typical_vol = 0 # $\\eta$ in equation above."
   ]
  },
  {
   "cell_type": "markdown",
   "metadata": {},
   "source": [
    "## Perturbed Fractional Brownian Motion\n",
    "Simulate from:\n",
    "$$\n",
    "X_t^x(\\omega) = f_1(x)f_2(t) + B_t^H(\\omega).\n",
    "$$"
   ]
  },
  {
   "cell_type": "code",
   "execution_count": 11,
   "metadata": {},
   "outputs": [],
   "source": [
    "def field_dirction_x(x):\n",
    "    return x*np.cos(x)\n",
    "\n",
    "def finite_variation_t(t):\n",
    "    return t*(np.sin(math.pi*t) + np.exp(-t))"
   ]
  },
  {
   "cell_type": "markdown",
   "metadata": {},
   "source": [
    "### Get Paths"
   ]
  },
  {
   "cell_type": "code",
   "execution_count": 12,
   "metadata": {},
   "outputs": [],
   "source": [
    "# load dataset\n",
    "results_path = \"./outputs/models/\"\n",
    "results_tables_path = \"./outputs/results/\"\n",
    "raw_data_path_folder = \"./inputs/raw/\"\n",
    "data_path_folder = \"./inputs/data/\""
   ]
  },
  {
   "cell_type": "markdown",
   "metadata": {},
   "source": [
    "### Import"
   ]
  },
  {
   "cell_type": "code",
   "execution_count": 13,
   "metadata": {},
   "outputs": [
    {
     "name": "stderr",
     "output_type": "stream",
     "text": [
      "Using TensorFlow backend.\n"
     ]
    },
    {
     "name": "stdout",
     "output_type": "stream",
     "text": [
      "Deep Feature Builder - Ready\n",
      "Deep Classifier - Ready\n"
     ]
    }
   ],
   "source": [
    "# Load Packages/Modules\n",
    "exec(open('Init_Dump.py').read())\n",
    "# Load Hyper-parameter Grid\n",
    "exec(open('CV_Grid.py').read())\n",
    "# Load Helper Function(s)\n",
    "# %run ParaGAN_Backend.ipynb\n",
    "exec(open('Helper_Functions.py').read())\n",
    "# Import time separately\n",
    "import time"
   ]
  },
  {
   "cell_type": "markdown",
   "metadata": {},
   "source": [
    "### Set Seed"
   ]
  },
  {
   "cell_type": "code",
   "execution_count": 14,
   "metadata": {},
   "outputs": [],
   "source": [
    "random.seed(2021)\n",
    "np.random.seed(2021)\n",
    "tf.random.set_seed(2021)"
   ]
  },
  {
   "cell_type": "markdown",
   "metadata": {},
   "source": [
    "## Get Internal (Hyper)-Parameter(s)\n",
    "*Initialize the hyperparameters which are fully-specified by the user-provided hyperparameter(s).*"
   ]
  },
  {
   "cell_type": "markdown",
   "metadata": {},
   "source": [
    "## Initialization of Auxiliary Internal-Variable(s)"
   ]
  },
  {
   "cell_type": "code",
   "execution_count": 15,
   "metadata": {},
   "outputs": [],
   "source": [
    "# Initialize (Empirical) Weight(s)\n",
    "measure_weights = np.ones(N_Monte_Carlo_Samples)/N_Monte_Carlo_Samples\n",
    "measure_weights_test = np.ones(N_Monte_Carlo_Samples_Test)/N_Monte_Carlo_Samples_Test\n",
    "\n",
    "# Get number of centers\n",
    "N_Centers_per_box = max(1,int(round(np.sqrt(N_Quantizers_to_parameterize))))"
   ]
  },
  {
   "cell_type": "markdown",
   "metadata": {},
   "source": [
    "## Get Centers Grid"
   ]
  },
  {
   "cell_type": "code",
   "execution_count": 16,
   "metadata": {},
   "outputs": [],
   "source": [
    "# Generate Grid of Barycenters\n",
    "x_Grid_barycenters = np.arange(start=-Max_Grid,\n",
    "                               stop=Max_Grid,\n",
    "                               step = (2*Max_Grid/N_Centers_per_box))\n",
    "t_Grid_barycenters = np.arange(start=0,\n",
    "                               stop=T_end,\n",
    "                               step = (T_end/N_Centers_per_box))\n",
    "for x_i in range(len(x_Grid_barycenters)):\n",
    "    for t_j in range(len(t_Grid_barycenters)):\n",
    "        new_grid_entry = np.array([t_Grid_barycenters[t_j],x_Grid_barycenters[x_i]]).reshape(1,-1)\n",
    "        if (x_i==0 and t_j ==0):\n",
    "            Grid_Barycenters = new_grid_entry\n",
    "        else:\n",
    "            Grid_Barycenters = np.append(Grid_Barycenters,new_grid_entry,axis=0)\n",
    "\n",
    "# Update Number of Quantizers Generated\n",
    "N_Quantizers_to_parameterize = Grid_Barycenters.shape[0]"
   ]
  },
  {
   "cell_type": "markdown",
   "metadata": {},
   "source": [
    "### Generate Data\n",
    "This is $\\mathbb{X}$ and it represents the grid of initial states."
   ]
  },
  {
   "cell_type": "code",
   "execution_count": 17,
   "metadata": {},
   "outputs": [],
   "source": [
    "%run Simulator.ipynb"
   ]
  },
  {
   "cell_type": "markdown",
   "metadata": {},
   "source": [
    "#### Start Timer (Model Type A)"
   ]
  },
  {
   "cell_type": "code",
   "execution_count": 18,
   "metadata": {},
   "outputs": [],
   "source": [
    "# Start Timer\n",
    "Type_A_timer_Begin = time.time()"
   ]
  },
  {
   "cell_type": "code",
   "execution_count": 19,
   "metadata": {},
   "outputs": [],
   "source": [
    "# Generate Training Data\n",
    "for i in range(Grid_Barycenters.shape[0]):\n",
    "    # Get output for center (mu-hat)\n",
    "    if groud_truth == \"2lnflow\":\n",
    "        center_current, trash = twoparameter_flow_sampler((Grid_Barycenters[i]).reshape(1,2),N_Monte_Carlo_Samples)\n",
    "    \n",
    "    # Get random sample in delta ball around ith center\n",
    "    sub_grid_loop = np.random.uniform(0,delta,(N_measures_per_center,2)) + Grid_Barycenters[i]\n",
    "    \n",
    "    # Get Measures for this random sample\n",
    "    if groud_truth == \"2lnflow\":\n",
    "        measures_locations_list_current, measures_weights_list_current = twoparameter_flow_sampler(sub_grid_loop,N_Monte_Carlo_Samples)\n",
    "    ##\n",
    "    measures_locations_list_current = measures_locations_list_current + center_current\n",
    "    measures_weights_list_current = measures_weights_list_current + trash\n",
    "    # Update Classes\n",
    "    Classifer_Wasserstein_Centers_loop = np.zeros([(N_measures_per_center+1),N_Quantizers_to_parameterize]) # The +1 is to account for the center which will be added to the random ball\n",
    "    Classifer_Wasserstein_Centers_loop[:, i] =  1\n",
    "    # Updates Classes\n",
    "    if i==0:\n",
    "        # INITIALIZE: Classifiers\n",
    "        Classifer_Wasserstein_Centers = Classifer_Wasserstein_Centers_loop\n",
    "        # INITIALIZE: Training Data\n",
    "        X_train = np.append((Grid_Barycenters[i]).reshape(1,2),sub_grid_loop,axis=0)\n",
    "        # INITIALIZE: Barycenters Array\n",
    "        Barycenters_Array = (center_current[0]).reshape(-1,1)\n",
    "        # INITIALIZE: Measures and locations\n",
    "        measures_locations_list = measures_locations_list_current\n",
    "        measures_weights_list = measures_weights_list_current\n",
    "    else:\n",
    "        # UPDATE: Classifer\n",
    "        Classifer_Wasserstein_Centers = np.append(Classifer_Wasserstein_Centers,Classifer_Wasserstein_Centers_loop,axis=0)\n",
    "        # UPDATE: Training Data\n",
    "        X_train = np.append(X_train,np.append((Grid_Barycenters[i]).reshape(1,2),sub_grid_loop,axis=0),axis=0)\n",
    "        # UPDATE: Populate Barycenters Array\n",
    "        Barycenters_Array = np.append(Barycenters_Array,((center_current[0]).reshape(-1,1)),axis=-1)\n",
    "        # UPDATE: Measures and locations\n",
    "        measures_locations_list = measures_locations_list + measures_locations_list_current\n",
    "        measures_weights_list = measures_locations_list + measures_weights_list_current"
   ]
  },
  {
   "cell_type": "markdown",
   "metadata": {},
   "source": [
    "## Get Testing Data"
   ]
  },
  {
   "cell_type": "code",
   "execution_count": 20,
   "metadata": {},
   "outputs": [],
   "source": [
    "# Generate Testing Dataset (Inputs)\n",
    "x_tests = x_Grid_barycenters#np.random.uniform(np.min(X_train[:,0]),np.max(X_train[:,0]),10)\n",
    "t_tests = np.arange(start=0,\n",
    "                    stop=T_end,\n",
    "                    step = (T_end_test/N_Euler_Maruyama_Steps))\n",
    "\n",
    "for x_i in range(len(x_tests)):\n",
    "    for t_j in range(len(t_tests)):\n",
    "        test_set_entry = np.array([t_tests[t_j],x_tests[x_i]]).reshape(1,-1)\n",
    "        if (x_i==0 and t_j ==0):\n",
    "            X_test = test_set_entry\n",
    "        else:\n",
    "            X_test = np.append(X_test,test_set_entry,axis=0)\n",
    "\n",
    "# Generate Testing Dataset (Outputs)\n",
    "if groud_truth == \"2lnflow\":\n",
    "        measures_locations_test_list, measures_weights_test_list = twoparameter_flow_sampler(sub_grid_loop,N_Monte_Carlo_Samples_Test)"
   ]
  },
  {
   "cell_type": "markdown",
   "metadata": {},
   "source": [
    "---"
   ]
  },
  {
   "cell_type": "code",
   "execution_count": 21,
   "metadata": {},
   "outputs": [],
   "source": [
    "# INDEBUG\n",
    "\n",
    "# if groud_truth == \"2lnflow\":\n",
    "#     print(\"2lnflow!\")\n",
    "#     measures_locations_list, measures_weights_list, X_train = measure_valued_direct_sampling(x_Grid,t_Grid,N_Monte_Carlo_Samples)\n",
    "#     measures_locations_list_test, measures_weights_list_test, X_test = measure_valued_direct_sampling(x_Grid_test,t_Grid_test,N_Monte_Carlo_Samples_Test)     \n",
    "\n",
    "# DEBUG LATER...\n",
    "# if groud_truth == \"rSDE\":\n",
    "#     print(\"rSDE!\")\n",
    "#     measures_locations_list, measures_weights_list, X_train = Euler_Maruyama_simulator(x_Grid,t_Grid,N_Monte_Carlo_Samples)\n",
    "#     measures_locations_list_test, measures_weights_list_test, X_test = Euler_Maruyama_simulator(x_Grid_test,t_Grid_test,N_Monte_Carlo_Samples_Test)     \n",
    "    \n",
    "# if groud_truth == \"pfBM\":\n",
    "#     print(\"pFBM!\")\n",
    "#     measures_locations_list, measures_weights_list, X_train= perturbed_fBM_simulator(x_Grid,t_Grid,N_Monte_Carlo_Samples)\n",
    "#     measures_locations_list_test, measures_weights_list_test, X_test= perturbed_fBM_simulator(x_Grid_test,t_Grid_test,N_Monte_Carlo_Samples_Test)"
   ]
  },
  {
   "cell_type": "markdown",
   "metadata": {},
   "source": [
    "---"
   ]
  },
  {
   "cell_type": "markdown",
   "metadata": {},
   "source": [
    "### Train Deep Classifier"
   ]
  },
  {
   "cell_type": "markdown",
   "metadata": {},
   "source": [
    "In this step, we train a deep (feed-forward) classifier:\n",
    "$$\n",
    "\\hat{f}\\triangleq \\operatorname{Softmax}_N\\circ W_J\\circ \\sigma \\bullet \\dots \\sigma \\bullet W_1,\n",
    "$$\n",
    "to identify which barycenter we are closest to."
   ]
  },
  {
   "cell_type": "markdown",
   "metadata": {},
   "source": [
    "Re-Load Grid and Redefine Relevant Input/Output dimensions in dictionary."
   ]
  },
  {
   "cell_type": "markdown",
   "metadata": {},
   "source": [
    "#### Train Deep Classifier"
   ]
  },
  {
   "cell_type": "code",
   "execution_count": 22,
   "metadata": {},
   "outputs": [
    {
     "name": "stdout",
     "output_type": "stream",
     "text": [
      "Deep Feature Builder - Ready\n",
      "Deep Classifier - Ready\n"
     ]
    }
   ],
   "source": [
    "# Re-Load Hyper-parameter Grid\n",
    "exec(open('CV_Grid.py').read())\n",
    "# Re-Load Classifier Function(s)\n",
    "exec(open('Helper_Functions.py').read())"
   ]
  },
  {
   "cell_type": "code",
   "execution_count": 23,
   "metadata": {},
   "outputs": [
    {
     "name": "stdout",
     "output_type": "stream",
     "text": [
      "Fitting 2 folds for each of 1 candidates, totalling 2 fits\n"
     ]
    },
    {
     "name": "stderr",
     "output_type": "stream",
     "text": [
      "[Parallel(n_jobs=4)]: Using backend LokyBackend with 4 concurrent workers.\n",
      "[Parallel(n_jobs=4)]: Done   2 out of   2 | elapsed:    5.0s remaining:    0.0s\n",
      "[Parallel(n_jobs=4)]: Done   2 out of   2 | elapsed:    5.0s finished\n"
     ]
    },
    {
     "name": "stdout",
     "output_type": "stream",
     "text": [
      "Epoch 1/200\n",
      "7/7 [==============================] - 0s 2ms/step - loss: 3.8840 - accuracy: 0.0306\n",
      "Epoch 2/200\n",
      "7/7 [==============================] - 0s 2ms/step - loss: 3.8519 - accuracy: 0.0510\n",
      "Epoch 3/200\n",
      "7/7 [==============================] - 0s 2ms/step - loss: 3.8236 - accuracy: 0.0255\n",
      "Epoch 4/200\n",
      "7/7 [==============================] - 0s 2ms/step - loss: 3.7939 - accuracy: 0.0561\n",
      "Epoch 5/200\n",
      "7/7 [==============================] - 0s 2ms/step - loss: 3.7587 - accuracy: 0.0612\n",
      "Epoch 6/200\n",
      "7/7 [==============================] - 0s 2ms/step - loss: 3.7158 - accuracy: 0.0612\n",
      "Epoch 7/200\n",
      "7/7 [==============================] - 0s 2ms/step - loss: 3.6629 - accuracy: 0.1020\n",
      "Epoch 8/200\n",
      "7/7 [==============================] - 0s 1ms/step - loss: 3.5984 - accuracy: 0.1276\n",
      "Epoch 9/200\n",
      "7/7 [==============================] - 0s 3ms/step - loss: 3.5201 - accuracy: 0.1531\n",
      "Epoch 10/200\n",
      "7/7 [==============================] - 0s 2ms/step - loss: 3.4327 - accuracy: 0.1378\n",
      "Epoch 11/200\n",
      "7/7 [==============================] - 0s 2ms/step - loss: 3.3391 - accuracy: 0.1276\n",
      "Epoch 12/200\n",
      "7/7 [==============================] - 0s 2ms/step - loss: 3.2393 - accuracy: 0.1224\n",
      "Epoch 13/200\n",
      "7/7 [==============================] - 0s 2ms/step - loss: 3.1414 - accuracy: 0.1327\n",
      "Epoch 14/200\n",
      "7/7 [==============================] - 0s 2ms/step - loss: 3.0444 - accuracy: 0.1276\n",
      "Epoch 15/200\n",
      "7/7 [==============================] - 0s 2ms/step - loss: 2.9531 - accuracy: 0.1480\n",
      "Epoch 16/200\n",
      "7/7 [==============================] - 0s 2ms/step - loss: 2.8594 - accuracy: 0.2041\n",
      "Epoch 17/200\n",
      "7/7 [==============================] - 0s 2ms/step - loss: 2.7692 - accuracy: 0.2398\n",
      "Epoch 18/200\n",
      "7/7 [==============================] - 0s 2ms/step - loss: 2.6803 - accuracy: 0.2143\n",
      "Epoch 19/200\n",
      "7/7 [==============================] - 0s 2ms/step - loss: 2.6032 - accuracy: 0.2143\n",
      "Epoch 20/200\n",
      "7/7 [==============================] - 0s 2ms/step - loss: 2.5098 - accuracy: 0.2653\n",
      "Epoch 21/200\n",
      "7/7 [==============================] - 0s 2ms/step - loss: 2.4193 - accuracy: 0.2857\n",
      "Epoch 22/200\n",
      "7/7 [==============================] - 0s 3ms/step - loss: 2.3366 - accuracy: 0.3112\n",
      "Epoch 23/200\n",
      "7/7 [==============================] - 0s 2ms/step - loss: 2.2592 - accuracy: 0.3980\n",
      "Epoch 24/200\n",
      "7/7 [==============================] - 0s 2ms/step - loss: 2.1881 - accuracy: 0.3929\n",
      "Epoch 25/200\n",
      "7/7 [==============================] - 0s 2ms/step - loss: 2.1035 - accuracy: 0.4337\n",
      "Epoch 26/200\n",
      "7/7 [==============================] - 0s 2ms/step - loss: 2.0486 - accuracy: 0.4490\n",
      "Epoch 27/200\n",
      "7/7 [==============================] - 0s 2ms/step - loss: 1.9815 - accuracy: 0.4541\n",
      "Epoch 28/200\n",
      "7/7 [==============================] - 0s 3ms/step - loss: 1.9071 - accuracy: 0.4898\n",
      "Epoch 29/200\n",
      "7/7 [==============================] - 0s 2ms/step - loss: 1.8649 - accuracy: 0.5459\n",
      "Epoch 30/200\n",
      "7/7 [==============================] - 0s 2ms/step - loss: 1.7985 - accuracy: 0.5612\n",
      "Epoch 31/200\n",
      "7/7 [==============================] - 0s 2ms/step - loss: 1.7383 - accuracy: 0.5459\n",
      "Epoch 32/200\n",
      "7/7 [==============================] - 0s 2ms/step - loss: 1.6842 - accuracy: 0.6173\n",
      "Epoch 33/200\n",
      "7/7 [==============================] - 0s 3ms/step - loss: 1.6552 - accuracy: 0.5357\n",
      "Epoch 34/200\n",
      "7/7 [==============================] - 0s 2ms/step - loss: 1.5963 - accuracy: 0.6327\n",
      "Epoch 35/200\n",
      "7/7 [==============================] - 0s 2ms/step - loss: 1.5244 - accuracy: 0.6990\n",
      "Epoch 36/200\n",
      "7/7 [==============================] - 0s 3ms/step - loss: 1.4783 - accuracy: 0.7092\n",
      "Epoch 37/200\n",
      "7/7 [==============================] - 0s 2ms/step - loss: 1.4438 - accuracy: 0.7398\n",
      "Epoch 38/200\n",
      "7/7 [==============================] - 0s 3ms/step - loss: 1.4052 - accuracy: 0.7092\n",
      "Epoch 39/200\n",
      "7/7 [==============================] - 0s 3ms/step - loss: 1.3478 - accuracy: 0.7398\n",
      "Epoch 40/200\n",
      "7/7 [==============================] - 0s 2ms/step - loss: 1.3099 - accuracy: 0.7245\n",
      "Epoch 41/200\n",
      "7/7 [==============================] - 0s 3ms/step - loss: 1.2761 - accuracy: 0.8214\n",
      "Epoch 42/200\n",
      "7/7 [==============================] - 0s 2ms/step - loss: 1.2329 - accuracy: 0.8418\n",
      "Epoch 43/200\n",
      "7/7 [==============================] - 0s 2ms/step - loss: 1.1969 - accuracy: 0.8010\n",
      "Epoch 44/200\n",
      "7/7 [==============================] - 0s 2ms/step - loss: 1.1501 - accuracy: 0.8469\n",
      "Epoch 45/200\n",
      "7/7 [==============================] - 0s 3ms/step - loss: 1.1198 - accuracy: 0.8622\n",
      "Epoch 46/200\n",
      "7/7 [==============================] - 0s 3ms/step - loss: 1.1078 - accuracy: 0.8061\n",
      "Epoch 47/200\n",
      "7/7 [==============================] - 0s 3ms/step - loss: 1.0582 - accuracy: 0.8622\n",
      "Epoch 48/200\n",
      "7/7 [==============================] - 0s 3ms/step - loss: 1.0229 - accuracy: 0.8929\n",
      "Epoch 49/200\n",
      "7/7 [==============================] - 0s 2ms/step - loss: 0.9969 - accuracy: 0.8163\n",
      "Epoch 50/200\n",
      "7/7 [==============================] - 0s 3ms/step - loss: 0.9752 - accuracy: 0.8265\n",
      "Epoch 51/200\n",
      "7/7 [==============================] - 0s 2ms/step - loss: 0.9388 - accuracy: 0.8418\n",
      "Epoch 52/200\n",
      "7/7 [==============================] - 0s 2ms/step - loss: 0.9074 - accuracy: 0.9133\n",
      "Epoch 53/200\n",
      "7/7 [==============================] - 0s 2ms/step - loss: 0.8628 - accuracy: 0.9286\n",
      "Epoch 54/200\n",
      "7/7 [==============================] - 0s 2ms/step - loss: 0.8726 - accuracy: 0.8776\n",
      "Epoch 55/200\n",
      "7/7 [==============================] - 0s 2ms/step - loss: 0.8489 - accuracy: 0.8520\n",
      "Epoch 56/200\n",
      "7/7 [==============================] - 0s 2ms/step - loss: 0.7929 - accuracy: 0.9388\n",
      "Epoch 57/200\n",
      "7/7 [==============================] - 0s 2ms/step - loss: 0.7913 - accuracy: 0.8776\n",
      "Epoch 58/200\n",
      "7/7 [==============================] - 0s 2ms/step - loss: 0.7516 - accuracy: 0.9184\n",
      "Epoch 59/200\n",
      "7/7 [==============================] - 0s 2ms/step - loss: 0.7540 - accuracy: 0.9184\n",
      "Epoch 60/200\n",
      "7/7 [==============================] - 0s 2ms/step - loss: 0.7018 - accuracy: 0.9643\n",
      "Epoch 61/200\n",
      "7/7 [==============================] - 0s 2ms/step - loss: 0.6865 - accuracy: 0.9541\n",
      "Epoch 62/200\n",
      "7/7 [==============================] - 0s 2ms/step - loss: 0.6664 - accuracy: 0.9643\n",
      "Epoch 63/200\n",
      "7/7 [==============================] - 0s 2ms/step - loss: 0.6337 - accuracy: 0.9796\n",
      "Epoch 64/200\n",
      "7/7 [==============================] - 0s 2ms/step - loss: 0.6175 - accuracy: 0.9643\n",
      "Epoch 65/200\n",
      "7/7 [==============================] - 0s 2ms/step - loss: 0.6076 - accuracy: 0.9439\n",
      "Epoch 66/200\n",
      "7/7 [==============================] - 0s 4ms/step - loss: 0.5860 - accuracy: 0.9796\n",
      "Epoch 67/200\n",
      "7/7 [==============================] - 0s 2ms/step - loss: 0.5600 - accuracy: 0.9898\n",
      "Epoch 68/200\n",
      "7/7 [==============================] - 0s 2ms/step - loss: 0.5621 - accuracy: 0.9847\n",
      "Epoch 69/200\n",
      "7/7 [==============================] - 0s 2ms/step - loss: 0.5428 - accuracy: 1.0000\n",
      "Epoch 70/200\n",
      "7/7 [==============================] - 0s 2ms/step - loss: 0.5253 - accuracy: 0.9796\n",
      "Epoch 71/200\n",
      "7/7 [==============================] - 0s 2ms/step - loss: 0.5153 - accuracy: 0.9643\n",
      "Epoch 72/200\n",
      "7/7 [==============================] - 0s 2ms/step - loss: 0.4901 - accuracy: 0.9541\n",
      "Epoch 73/200\n",
      "7/7 [==============================] - 0s 2ms/step - loss: 0.4848 - accuracy: 0.9847\n",
      "Epoch 74/200\n",
      "7/7 [==============================] - 0s 2ms/step - loss: 0.4525 - accuracy: 0.9796\n",
      "Epoch 75/200\n",
      "7/7 [==============================] - 0s 2ms/step - loss: 0.4405 - accuracy: 0.9745\n",
      "Epoch 76/200\n",
      "7/7 [==============================] - 0s 2ms/step - loss: 0.4071 - accuracy: 1.0000\n",
      "Epoch 77/200\n",
      "7/7 [==============================] - 0s 2ms/step - loss: 0.4141 - accuracy: 1.0000\n",
      "Epoch 78/200\n",
      "7/7 [==============================] - 0s 2ms/step - loss: 0.4041 - accuracy: 1.0000\n",
      "Epoch 79/200\n",
      "7/7 [==============================] - 0s 2ms/step - loss: 0.3766 - accuracy: 1.0000\n",
      "Epoch 80/200\n",
      "7/7 [==============================] - 0s 2ms/step - loss: 0.3788 - accuracy: 1.0000\n",
      "Epoch 81/200\n",
      "7/7 [==============================] - 0s 2ms/step - loss: 0.3498 - accuracy: 1.0000\n",
      "Epoch 82/200\n",
      "7/7 [==============================] - 0s 2ms/step - loss: 0.3646 - accuracy: 0.9694\n",
      "Epoch 83/200\n",
      "7/7 [==============================] - 0s 2ms/step - loss: 0.3351 - accuracy: 0.9898\n",
      "Epoch 84/200\n"
     ]
    },
    {
     "name": "stdout",
     "output_type": "stream",
     "text": [
      "7/7 [==============================] - 0s 2ms/step - loss: 0.3256 - accuracy: 1.0000\n",
      "Epoch 85/200\n",
      "7/7 [==============================] - 0s 2ms/step - loss: 0.3179 - accuracy: 1.0000\n",
      "Epoch 86/200\n",
      "7/7 [==============================] - 0s 2ms/step - loss: 0.3026 - accuracy: 1.0000\n",
      "Epoch 87/200\n",
      "7/7 [==============================] - 0s 2ms/step - loss: 0.3092 - accuracy: 0.9847\n",
      "Epoch 88/200\n",
      "7/7 [==============================] - 0s 2ms/step - loss: 0.3108 - accuracy: 0.9694\n",
      "Epoch 89/200\n",
      "7/7 [==============================] - 0s 2ms/step - loss: 0.2795 - accuracy: 0.9898\n",
      "Epoch 90/200\n",
      "7/7 [==============================] - 0s 1ms/step - loss: 0.2694 - accuracy: 1.0000\n",
      "Epoch 91/200\n",
      "7/7 [==============================] - 0s 1ms/step - loss: 0.2730 - accuracy: 1.0000\n",
      "Epoch 92/200\n",
      "7/7 [==============================] - 0s 2ms/step - loss: 0.2626 - accuracy: 1.0000\n",
      "Epoch 93/200\n",
      "7/7 [==============================] - 0s 2ms/step - loss: 0.2431 - accuracy: 1.0000\n",
      "Epoch 94/200\n",
      "7/7 [==============================] - 0s 2ms/step - loss: 0.2428 - accuracy: 1.0000\n",
      "Epoch 95/200\n",
      "7/7 [==============================] - 0s 2ms/step - loss: 0.2307 - accuracy: 1.0000\n",
      "Epoch 96/200\n",
      "7/7 [==============================] - 0s 2ms/step - loss: 0.2201 - accuracy: 1.0000\n",
      "Epoch 97/200\n",
      "7/7 [==============================] - 0s 2ms/step - loss: 0.2130 - accuracy: 1.0000\n",
      "Epoch 98/200\n",
      "7/7 [==============================] - 0s 2ms/step - loss: 0.2058 - accuracy: 1.0000\n",
      "Epoch 99/200\n",
      "7/7 [==============================] - 0s 2ms/step - loss: 0.2040 - accuracy: 1.0000\n",
      "Epoch 100/200\n",
      "7/7 [==============================] - 0s 2ms/step - loss: 0.2047 - accuracy: 1.0000\n",
      "Epoch 101/200\n",
      "7/7 [==============================] - 0s 1ms/step - loss: 0.1853 - accuracy: 1.0000\n",
      "Epoch 102/200\n",
      "7/7 [==============================] - 0s 2ms/step - loss: 0.1841 - accuracy: 1.0000\n",
      "Epoch 103/200\n",
      "7/7 [==============================] - 0s 2ms/step - loss: 0.1768 - accuracy: 1.0000\n",
      "Epoch 104/200\n",
      "7/7 [==============================] - 0s 2ms/step - loss: 0.1699 - accuracy: 1.0000\n",
      "Epoch 105/200\n",
      "7/7 [==============================] - 0s 2ms/step - loss: 0.1707 - accuracy: 1.0000\n",
      "Epoch 106/200\n",
      "7/7 [==============================] - 0s 2ms/step - loss: 0.1604 - accuracy: 1.0000\n",
      "Epoch 107/200\n",
      "7/7 [==============================] - 0s 2ms/step - loss: 0.1639 - accuracy: 1.0000\n",
      "Epoch 108/200\n",
      "7/7 [==============================] - 0s 2ms/step - loss: 0.1539 - accuracy: 1.0000\n",
      "Epoch 109/200\n",
      "7/7 [==============================] - 0s 2ms/step - loss: 0.1537 - accuracy: 1.0000\n",
      "Epoch 110/200\n",
      "7/7 [==============================] - 0s 2ms/step - loss: 0.1496 - accuracy: 1.0000\n",
      "Epoch 111/200\n",
      "7/7 [==============================] - 0s 2ms/step - loss: 0.1401 - accuracy: 1.0000\n",
      "Epoch 112/200\n",
      "7/7 [==============================] - 0s 2ms/step - loss: 0.1332 - accuracy: 1.0000\n",
      "Epoch 113/200\n",
      "7/7 [==============================] - 0s 2ms/step - loss: 0.1339 - accuracy: 1.0000\n",
      "Epoch 114/200\n",
      "7/7 [==============================] - 0s 2ms/step - loss: 0.1303 - accuracy: 1.0000\n",
      "Epoch 115/200\n",
      "7/7 [==============================] - 0s 2ms/step - loss: 0.1274 - accuracy: 1.0000\n",
      "Epoch 116/200\n",
      "7/7 [==============================] - 0s 2ms/step - loss: 0.1220 - accuracy: 1.0000\n",
      "Epoch 117/200\n",
      "7/7 [==============================] - 0s 2ms/step - loss: 0.1254 - accuracy: 1.0000\n",
      "Epoch 118/200\n",
      "7/7 [==============================] - 0s 2ms/step - loss: 0.1245 - accuracy: 1.0000\n",
      "Epoch 119/200\n",
      "7/7 [==============================] - 0s 2ms/step - loss: 0.1135 - accuracy: 1.0000\n",
      "Epoch 120/200\n",
      "7/7 [==============================] - 0s 2ms/step - loss: 0.1159 - accuracy: 1.0000\n",
      "Epoch 121/200\n",
      "7/7 [==============================] - 0s 2ms/step - loss: 0.1088 - accuracy: 1.0000\n",
      "Epoch 122/200\n",
      "7/7 [==============================] - 0s 2ms/step - loss: 0.1035 - accuracy: 1.0000\n",
      "Epoch 123/200\n",
      "7/7 [==============================] - 0s 2ms/step - loss: 0.1024 - accuracy: 1.0000\n",
      "Epoch 124/200\n",
      "7/7 [==============================] - 0s 2ms/step - loss: 0.1032 - accuracy: 1.0000\n",
      "Epoch 125/200\n",
      "7/7 [==============================] - 0s 2ms/step - loss: 0.0998 - accuracy: 1.0000\n",
      "Epoch 126/200\n",
      "7/7 [==============================] - 0s 2ms/step - loss: 0.0965 - accuracy: 1.0000\n",
      "Epoch 127/200\n",
      "7/7 [==============================] - 0s 2ms/step - loss: 0.0961 - accuracy: 1.0000\n",
      "Epoch 128/200\n",
      "7/7 [==============================] - 0s 2ms/step - loss: 0.0918 - accuracy: 1.0000\n",
      "Epoch 129/200\n",
      "7/7 [==============================] - 0s 2ms/step - loss: 0.0934 - accuracy: 1.0000\n",
      "Epoch 130/200\n",
      "7/7 [==============================] - 0s 2ms/step - loss: 0.0845 - accuracy: 1.0000\n",
      "Epoch 131/200\n",
      "7/7 [==============================] - 0s 2ms/step - loss: 0.0848 - accuracy: 1.0000\n",
      "Epoch 132/200\n",
      "7/7 [==============================] - 0s 2ms/step - loss: 0.0828 - accuracy: 1.0000\n",
      "Epoch 133/200\n",
      "7/7 [==============================] - 0s 2ms/step - loss: 0.0793 - accuracy: 1.0000\n",
      "Epoch 134/200\n",
      "7/7 [==============================] - 0s 2ms/step - loss: 0.0788 - accuracy: 1.0000\n",
      "Epoch 135/200\n",
      "7/7 [==============================] - 0s 2ms/step - loss: 0.0767 - accuracy: 1.0000\n",
      "Epoch 136/200\n",
      "7/7 [==============================] - 0s 2ms/step - loss: 0.0762 - accuracy: 1.0000\n",
      "Epoch 137/200\n",
      "7/7 [==============================] - 0s 2ms/step - loss: 0.0778 - accuracy: 1.0000\n",
      "Epoch 138/200\n",
      "7/7 [==============================] - 0s 2ms/step - loss: 0.0756 - accuracy: 1.0000\n",
      "Epoch 139/200\n",
      "7/7 [==============================] - 0s 2ms/step - loss: 0.0782 - accuracy: 1.0000\n",
      "Epoch 140/200\n",
      "7/7 [==============================] - 0s 2ms/step - loss: 0.0740 - accuracy: 1.0000\n",
      "Epoch 141/200\n",
      "7/7 [==============================] - 0s 2ms/step - loss: 0.0683 - accuracy: 1.0000\n",
      "Epoch 142/200\n",
      "7/7 [==============================] - 0s 2ms/step - loss: 0.0666 - accuracy: 1.0000\n",
      "Epoch 143/200\n",
      "7/7 [==============================] - 0s 2ms/step - loss: 0.0651 - accuracy: 1.0000\n",
      "Epoch 144/200\n",
      "7/7 [==============================] - 0s 2ms/step - loss: 0.0654 - accuracy: 1.0000\n",
      "Epoch 145/200\n",
      "7/7 [==============================] - 0s 2ms/step - loss: 0.0615 - accuracy: 1.0000\n",
      "Epoch 146/200\n",
      "7/7 [==============================] - 0s 2ms/step - loss: 0.0597 - accuracy: 1.0000\n",
      "Epoch 147/200\n",
      "7/7 [==============================] - 0s 2ms/step - loss: 0.0589 - accuracy: 1.0000\n",
      "Epoch 148/200\n",
      "7/7 [==============================] - 0s 2ms/step - loss: 0.0579 - accuracy: 1.0000\n",
      "Epoch 149/200\n",
      "7/7 [==============================] - 0s 2ms/step - loss: 0.0570 - accuracy: 1.0000\n",
      "Epoch 150/200\n",
      "7/7 [==============================] - 0s 2ms/step - loss: 0.0568 - accuracy: 1.0000\n",
      "Epoch 151/200\n",
      "7/7 [==============================] - 0s 2ms/step - loss: 0.0551 - accuracy: 1.0000\n",
      "Epoch 152/200\n",
      "7/7 [==============================] - 0s 2ms/step - loss: 0.0531 - accuracy: 1.0000\n",
      "Epoch 153/200\n",
      "7/7 [==============================] - 0s 2ms/step - loss: 0.0515 - accuracy: 1.0000\n",
      "Epoch 154/200\n",
      "7/7 [==============================] - 0s 3ms/step - loss: 0.0507 - accuracy: 1.0000\n",
      "Epoch 155/200\n",
      "7/7 [==============================] - 0s 3ms/step - loss: 0.0493 - accuracy: 1.0000\n",
      "Epoch 156/200\n",
      "7/7 [==============================] - 0s 3ms/step - loss: 0.0489 - accuracy: 1.0000\n",
      "Epoch 157/200\n",
      "7/7 [==============================] - 0s 3ms/step - loss: 0.0484 - accuracy: 1.0000\n",
      "Epoch 158/200\n",
      "7/7 [==============================] - 0s 3ms/step - loss: 0.0476 - accuracy: 1.0000\n",
      "Epoch 159/200\n",
      "7/7 [==============================] - 0s 3ms/step - loss: 0.0463 - accuracy: 1.0000\n",
      "Epoch 160/200\n",
      "7/7 [==============================] - 0s 4ms/step - loss: 0.0455 - accuracy: 1.0000\n",
      "Epoch 161/200\n",
      "7/7 [==============================] - 0s 3ms/step - loss: 0.0449 - accuracy: 1.0000\n",
      "Epoch 162/200\n",
      "7/7 [==============================] - 0s 3ms/step - loss: 0.0446 - accuracy: 1.0000\n",
      "Epoch 163/200\n",
      "7/7 [==============================] - 0s 3ms/step - loss: 0.0439 - accuracy: 1.0000\n",
      "Epoch 164/200\n",
      "7/7 [==============================] - 0s 2ms/step - loss: 0.0428 - accuracy: 1.0000\n",
      "Epoch 165/200\n",
      "7/7 [==============================] - 0s 3ms/step - loss: 0.0423 - accuracy: 1.0000\n",
      "Epoch 166/200\n",
      "7/7 [==============================] - 0s 4ms/step - loss: 0.0419 - accuracy: 1.0000\n",
      "Epoch 167/200\n"
     ]
    },
    {
     "name": "stdout",
     "output_type": "stream",
     "text": [
      "7/7 [==============================] - 0s 4ms/step - loss: 0.0401 - accuracy: 1.0000\n",
      "Epoch 168/200\n",
      "7/7 [==============================] - 0s 4ms/step - loss: 0.0389 - accuracy: 1.0000\n",
      "Epoch 169/200\n",
      "7/7 [==============================] - 0s 4ms/step - loss: 0.0378 - accuracy: 1.0000\n",
      "Epoch 170/200\n",
      "7/7 [==============================] - 0s 3ms/step - loss: 0.0377 - accuracy: 1.0000\n",
      "Epoch 171/200\n",
      "7/7 [==============================] - 0s 3ms/step - loss: 0.0372 - accuracy: 1.0000\n",
      "Epoch 172/200\n",
      "7/7 [==============================] - 0s 3ms/step - loss: 0.0354 - accuracy: 1.0000\n",
      "Epoch 173/200\n",
      "7/7 [==============================] - 0s 3ms/step - loss: 0.0356 - accuracy: 1.0000\n",
      "Epoch 174/200\n",
      "7/7 [==============================] - 0s 2ms/step - loss: 0.0351 - accuracy: 1.0000\n",
      "Epoch 175/200\n",
      "7/7 [==============================] - 0s 2ms/step - loss: 0.0343 - accuracy: 1.0000\n",
      "Epoch 176/200\n",
      "7/7 [==============================] - 0s 2ms/step - loss: 0.0344 - accuracy: 1.0000\n",
      "Epoch 177/200\n",
      "7/7 [==============================] - 0s 2ms/step - loss: 0.0337 - accuracy: 1.0000\n",
      "Epoch 178/200\n",
      "7/7 [==============================] - 0s 2ms/step - loss: 0.0331 - accuracy: 1.0000\n",
      "Epoch 179/200\n",
      "7/7 [==============================] - 0s 2ms/step - loss: 0.0323 - accuracy: 1.0000\n",
      "Epoch 180/200\n",
      "7/7 [==============================] - 0s 2ms/step - loss: 0.0318 - accuracy: 1.0000\n",
      "Epoch 181/200\n",
      "7/7 [==============================] - 0s 2ms/step - loss: 0.0319 - accuracy: 1.0000\n",
      "Epoch 182/200\n",
      "7/7 [==============================] - 0s 2ms/step - loss: 0.0311 - accuracy: 1.0000\n",
      "Epoch 183/200\n",
      "7/7 [==============================] - 0s 2ms/step - loss: 0.0304 - accuracy: 1.0000\n",
      "Epoch 184/200\n",
      "7/7 [==============================] - 0s 2ms/step - loss: 0.0301 - accuracy: 1.0000\n",
      "Epoch 185/200\n",
      "7/7 [==============================] - 0s 2ms/step - loss: 0.0304 - accuracy: 1.0000\n",
      "Epoch 186/200\n",
      "7/7 [==============================] - 0s 2ms/step - loss: 0.0293 - accuracy: 1.0000\n",
      "Epoch 187/200\n",
      "7/7 [==============================] - 0s 2ms/step - loss: 0.0288 - accuracy: 1.0000\n",
      "Epoch 188/200\n",
      "7/7 [==============================] - 0s 3ms/step - loss: 0.0282 - accuracy: 1.0000\n",
      "Epoch 189/200\n",
      "7/7 [==============================] - 0s 2ms/step - loss: 0.0280 - accuracy: 1.0000\n",
      "Epoch 190/200\n",
      "7/7 [==============================] - 0s 2ms/step - loss: 0.0272 - accuracy: 1.0000\n",
      "Epoch 191/200\n",
      "7/7 [==============================] - 0s 2ms/step - loss: 0.0268 - accuracy: 1.0000\n",
      "Epoch 192/200\n",
      "7/7 [==============================] - 0s 2ms/step - loss: 0.0269 - accuracy: 1.0000\n",
      "Epoch 193/200\n",
      "7/7 [==============================] - 0s 2ms/step - loss: 0.0259 - accuracy: 1.0000\n",
      "Epoch 194/200\n",
      "7/7 [==============================] - 0s 2ms/step - loss: 0.0255 - accuracy: 1.0000\n",
      "Epoch 195/200\n",
      "7/7 [==============================] - 0s 2ms/step - loss: 0.0253 - accuracy: 1.0000\n",
      "Epoch 196/200\n",
      "7/7 [==============================] - 0s 2ms/step - loss: 0.0251 - accuracy: 1.0000\n",
      "Epoch 197/200\n",
      "7/7 [==============================] - 0s 2ms/step - loss: 0.0245 - accuracy: 1.0000\n",
      "Epoch 198/200\n",
      "7/7 [==============================] - 0s 2ms/step - loss: 0.0242 - accuracy: 1.0000\n",
      "Epoch 199/200\n",
      "7/7 [==============================] - 0s 2ms/step - loss: 0.0238 - accuracy: 1.0000\n",
      "Epoch 200/200\n",
      "7/7 [==============================] - 0s 2ms/step - loss: 0.0234 - accuracy: 1.0000\n",
      "7/7 [==============================] - 0s 893us/step\n",
      "29/29 [==============================] - 0s 759us/step\n"
     ]
    }
   ],
   "source": [
    "# Redefine (Dimension-related) Elements of Grid\n",
    "param_grid_Deep_Classifier['input_dim'] = [2]\n",
    "param_grid_Deep_Classifier['output_dim'] = [N_Quantizers_to_parameterize]\n",
    "\n",
    "# Train simple deep classifier\n",
    "predicted_classes_train, predicted_classes_test, N_params_deep_classifier = build_simple_deep_classifier(n_folds = CV_folds, \n",
    "                                                                                                        n_jobs = n_jobs, \n",
    "                                                                                                        n_iter = n_iter, \n",
    "                                                                                                        param_grid_in=param_grid_Deep_Classifier, \n",
    "                                                                                                        X_train = X_train, \n",
    "                                                                                                        y_train = Classifer_Wasserstein_Centers,\n",
    "                                                                                                        X_test = X_test)"
   ]
  },
  {
   "cell_type": "markdown",
   "metadata": {},
   "source": [
    "#### Get Predicted Quantized Distributions\n",
    "- Each *row* of \"Predicted_Weights\" is the $\\beta\\in \\Delta_N$.\n",
    "- Each *Column* of \"Barycenters_Array\" denotes the $x_1,\\dots,x_N$ making up the points of the corresponding empirical measures."
   ]
  },
  {
   "cell_type": "code",
   "execution_count": 24,
   "metadata": {},
   "outputs": [
    {
     "name": "stdout",
     "output_type": "stream",
     "text": [
      "#---------------------------------------#\n",
      "Building Training Set (Regression): START\n",
      "#---------------------------------------#\n"
     ]
    },
    {
     "name": "stderr",
     "output_type": "stream",
     "text": [
      "100%|██████████| 49/49 [00:00<00:00, 100.81it/s]\n",
      " 18%|█▊        | 9/49 [00:00<00:00, 82.85it/s]"
     ]
    },
    {
     "name": "stdout",
     "output_type": "stream",
     "text": [
      "#-------------------------------------#\n",
      "Building Training Set (Regression): END\n",
      "#-------------------------------------#\n",
      "#-------------------------------------#\n",
      "Building Test Set (Predictions): START\n",
      "#-------------------------------------#\n"
     ]
    },
    {
     "name": "stderr",
     "output_type": "stream",
     "text": [
      "100%|██████████| 49/49 [00:02<00:00, 21.74it/s]"
     ]
    },
    {
     "name": "stdout",
     "output_type": "stream",
     "text": [
      "#-----------------------------------#\n",
      "Building Test Set (Predictions): END\n",
      "#-----------------------------------#\n",
      "#-----------------------------#\n",
      "Building Barycenters Set: START\n",
      "#-----------------------------#\n",
      "#-----------------------------#\n",
      "Building Barycenters Set: END\n",
      "#-----------------------------#\n"
     ]
    },
    {
     "name": "stderr",
     "output_type": "stream",
     "text": [
      "\n"
     ]
    }
   ],
   "source": [
    "# Format Weights\n",
    "## Train\n",
    "print(\"#---------------------------------------#\")\n",
    "print(\"Building Training Set (Regression): START\")\n",
    "print(\"#---------------------------------------#\")\n",
    "Predicted_Weights = np.array([])\n",
    "for i in tqdm(range(N_Quantizers_to_parameterize)):    \n",
    "    b = np.repeat(np.array(predicted_classes_train[:,i],dtype='float').reshape(-1,1),N_Monte_Carlo_Samples,axis=-1)\n",
    "    b = b/N_Monte_Carlo_Samples\n",
    "    if i ==0 :\n",
    "        Predicted_Weights = b\n",
    "    else:\n",
    "        Predicted_Weights = np.append(Predicted_Weights,b,axis=1)\n",
    "print(\"#-------------------------------------#\")\n",
    "print(\"Building Training Set (Regression): END\")\n",
    "print(\"#-------------------------------------#\")\n",
    "\n",
    "## Test\n",
    "print(\"#-------------------------------------#\")\n",
    "print(\"Building Test Set (Predictions): START\")\n",
    "print(\"#-------------------------------------#\")\n",
    "Predicted_Weights_test = np.array([])\n",
    "for i in tqdm(range(N_Quantizers_to_parameterize)):\n",
    "    b_test = np.repeat(np.array(predicted_classes_test[:,i],dtype='float').reshape(-1,1),N_Monte_Carlo_Samples,axis=-1)\n",
    "    b_test = b_test/N_Monte_Carlo_Samples\n",
    "    if i ==0 :\n",
    "        Predicted_Weights_test = b_test\n",
    "    else:\n",
    "        Predicted_Weights_test = np.append(Predicted_Weights_test,b_test,axis=1)\n",
    "print(\"#-----------------------------------#\")\n",
    "print(\"Building Test Set (Predictions): END\")\n",
    "print(\"#-----------------------------------#\")\n",
    "        \n",
    "# Format Points of Mass\n",
    "print(\"#-----------------------------#\")\n",
    "print(\"Building Barycenters Set: START\")\n",
    "print(\"#-----------------------------#\")\n",
    "Barycenters_Array = Barycenters_Array.T.reshape(-1,)\n",
    "print(\"#-----------------------------#\")\n",
    "print(\"Building Barycenters Set: END\")\n",
    "print(\"#-----------------------------#\")"
   ]
  },
  {
   "cell_type": "markdown",
   "metadata": {},
   "source": [
    "#### Stop Timer"
   ]
  },
  {
   "cell_type": "code",
   "execution_count": 25,
   "metadata": {},
   "outputs": [],
   "source": [
    "# Stop Timer\n",
    "Type_A_timer_end = time.time()\n",
    "# Compute Lapsed Time Needed For Training\n",
    "Time_Lapse_Model_A = Type_A_timer_end - Type_A_timer_Begin"
   ]
  },
  {
   "cell_type": "markdown",
   "metadata": {},
   "source": [
    "## Get Moment Predictions"
   ]
  },
  {
   "cell_type": "markdown",
   "metadata": {},
   "source": [
    "#### Write Predictions"
   ]
  },
  {
   "cell_type": "markdown",
   "metadata": {},
   "source": [
    "### Training-Set Result(s): "
   ]
  },
  {
   "cell_type": "code",
   "execution_count": 26,
   "metadata": {},
   "outputs": [
    {
     "name": "stderr",
     "output_type": "stream",
     "text": [
      "\r",
      "  0%|          | 0/195 [00:00<?, ?it/s]"
     ]
    },
    {
     "name": "stdout",
     "output_type": "stream",
     "text": [
      "Building Training Set Performance Metrics\n"
     ]
    },
    {
     "name": "stderr",
     "output_type": "stream",
     "text": [
      "100%|██████████| 195/195 [00:01<00:00, 100.44it/s]\n"
     ]
    },
    {
     "data": {
      "text/html": [
       "<div>\n",
       "<style scoped>\n",
       "    .dataframe tbody tr th:only-of-type {\n",
       "        vertical-align: middle;\n",
       "    }\n",
       "\n",
       "    .dataframe tbody tr th {\n",
       "        vertical-align: top;\n",
       "    }\n",
       "\n",
       "    .dataframe thead th {\n",
       "        text-align: right;\n",
       "    }\n",
       "</style>\n",
       "<table border=\"1\" class=\"dataframe\">\n",
       "  <thead>\n",
       "    <tr style=\"text-align: right;\">\n",
       "      <th></th>\n",
       "      <th>W1</th>\n",
       "      <th>E[X']-E[X]</th>\n",
       "      <th>(E[X'^2]-E[X^2])^.5</th>\n",
       "      <th>(E[X'^3]-E[X^3])^(1/3)</th>\n",
       "      <th>(E[X'^4]-E[X^4])^.25</th>\n",
       "    </tr>\n",
       "  </thead>\n",
       "  <tbody>\n",
       "    <tr>\n",
       "      <th>Min</th>\n",
       "      <td>0.000097</td>\n",
       "      <td>0.000014</td>\n",
       "      <td>1.755828e-07</td>\n",
       "      <td>0.309308</td>\n",
       "      <td>0.594783</td>\n",
       "    </tr>\n",
       "    <tr>\n",
       "      <th>MAE</th>\n",
       "      <td>0.098873</td>\n",
       "      <td>0.053765</td>\n",
       "      <td>1.941251e+00</td>\n",
       "      <td>1.843779</td>\n",
       "      <td>3.124420</td>\n",
       "    </tr>\n",
       "    <tr>\n",
       "      <th>Max</th>\n",
       "      <td>1.850010</td>\n",
       "      <td>0.312875</td>\n",
       "      <td>3.807754e+01</td>\n",
       "      <td>6.361389</td>\n",
       "      <td>10.524345</td>\n",
       "    </tr>\n",
       "  </tbody>\n",
       "</table>\n",
       "</div>"
      ],
      "text/plain": [
       "           W1  E[X']-E[X]  (E[X'^2]-E[X^2])^.5  (E[X'^3]-E[X^3])^(1/3)  \\\n",
       "Min  0.000097    0.000014         1.755828e-07                0.309308   \n",
       "MAE  0.098873    0.053765         1.941251e+00                1.843779   \n",
       "Max  1.850010    0.312875         3.807754e+01                6.361389   \n",
       "\n",
       "     (E[X'^4]-E[X^4])^.25  \n",
       "Min              0.594783  \n",
       "MAE              3.124420  \n",
       "Max             10.524345  "
      ]
     },
     "execution_count": 26,
     "metadata": {},
     "output_type": "execute_result"
    }
   ],
   "source": [
    "print(\"Building Training Set Performance Metrics\")\n",
    "\n",
    "# Initialize Wasserstein-1 Error Distribution\n",
    "W1_errors = np.array([])\n",
    "Mean_errors = np.array([])\n",
    "Var_errors = np.array([])\n",
    "Skewness_errors = np.array([])\n",
    "Kurtosis_errors = np.array([])\n",
    "predictions_mean = np.array([])\n",
    "true_mean = np.array([])\n",
    "#---------------------------------------------------------------------------------------------#\n",
    "\n",
    "# Populate Error Distribution\n",
    "for x_i in tqdm(range(len(measures_locations_list)-1)):    \n",
    "    # Get Laws\n",
    "    W1_loop = ot.emd2_1d(Barycenters_Array,\n",
    "                         np.array(measures_locations_list[x_i]).reshape(-1,),\n",
    "                         Predicted_Weights[x_i,].reshape(-1,),\n",
    "                         measure_weights.reshape(-1,))\n",
    "    W1_errors = np.append(W1_errors,W1_loop)\n",
    "    # Get Means\n",
    "    Mu_hat = np.sum((Predicted_Weights[x_i])*(Barycenters_Array))\n",
    "    Mu = np.mean(np.array(measures_locations_list[x_i]))\n",
    "    Mean_errors =  np.append(Mean_errors,(Mu_hat-Mu))\n",
    "    ## Update Erros\n",
    "    predictions_mean = np.append(predictions_mean,Mu_hat)\n",
    "    true_mean = np.append(true_mean,Mu)\n",
    "    # Get Var (non-centered)\n",
    "    Var_hat = np.sum((Barycenters_Array**2)*(Predicted_Weights[x_i]))\n",
    "    Var = np.mean(np.array(measures_locations_list[x_i])**2)\n",
    "    Var_errors = np.append(Var_errors,(Var_hat-Var)**2)\n",
    "    # Get skewness (non-centered)\n",
    "    Skewness_hat = np.sum((Barycenters_Array**3)*(Predicted_Weights[x_i]))\n",
    "    Skewness = np.mean(np.array(measures_locations_list[x_i])**3)\n",
    "    Skewness_errors = np.append(Skewness_errors,(abs(Skewness_hat-Skewness))**(1/3))\n",
    "    # Get skewness (non-centered)\n",
    "    Kurtosis_hat = np.sum((Barycenters_Array**4)*(Predicted_Weights[x_i]))\n",
    "    Kurtosis = np.mean(np.array(measures_locations_list[x_i])**4)\n",
    "    Kurtosis_errors = np.append(Kurtosis_errors,(abs(Kurtosis_hat-Kurtosis))**.25)\n",
    "    \n",
    "#---------------------------------------------------------------------------------------------#\n",
    "# Compute Error Statistics/Descriptors\n",
    "W1_Performance = np.array([np.min(np.abs(W1_errors)),np.mean(np.abs(W1_errors)),np.max(np.abs(W1_errors))])\n",
    "Mean_prediction_Performance = np.array([np.min(np.abs(Mean_errors)),np.mean(np.abs(Mean_errors)),np.max(np.abs(Mean_errors))])\n",
    "Var_prediction_Performance = np.array([np.min(np.abs(Var_errors)),np.mean(np.abs(Var_errors)),np.max(np.abs(Var_errors))])\n",
    "Skewness_prediction_Performance = np.array([np.min(np.abs(Skewness_errors)),np.mean(np.abs(Skewness_errors)),np.max(np.abs(Skewness_errors))])\n",
    "Kurtosis_prediction_Performance = np.array([np.min(np.abs(Kurtosis_errors)),np.mean(np.abs(Kurtosis_errors)),np.max(np.abs(Kurtosis_errors))])\n",
    "\n",
    "Type_A_Prediction = pd.DataFrame({\"W1\":W1_Performance,\n",
    "                                  \"E[X']-E[X]\":Mean_prediction_Performance,\n",
    "                                  \"(E[X'^2]-E[X^2])^.5\":Var_prediction_Performance,\n",
    "                                  \"(E[X'^3]-E[X^3])^(1/3)\":Skewness_prediction_Performance,\n",
    "                                  \"(E[X'^4]-E[X^4])^.25\":Kurtosis_prediction_Performance},index=[\"Min\",\"MAE\",\"Max\"])\n",
    "\n",
    "# Write Performance\n",
    "Type_A_Prediction.to_latex((results_tables_path+str(\"Roughness_\")+str(Rougness)+str(\"__RatiofBM_\")+str(Ratio_fBM_to_typical_vol)+\n",
    " \"__TypeAPrediction_Train.tex\"))\n",
    "\n",
    "\n",
    "#---------------------------------------------------------------------------------------------#\n",
    "# Update User\n",
    "Type_A_Prediction"
   ]
  },
  {
   "cell_type": "markdown",
   "metadata": {},
   "source": [
    "---"
   ]
  },
  {
   "cell_type": "markdown",
   "metadata": {},
   "source": [
    "# Visualization"
   ]
  },
  {
   "cell_type": "markdown",
   "metadata": {},
   "source": [
    "#### Visualization of Training-Set Performance"
   ]
  },
  {
   "cell_type": "code",
   "execution_count": 27,
   "metadata": {
    "scrolled": true
   },
   "outputs": [
    {
     "data": {
      "text/plain": [
       "[<matplotlib.lines.Line2D at 0x7fcb606048d0>]"
      ]
     },
     "execution_count": 27,
     "metadata": {},
     "output_type": "execute_result"
    },
    {
     "data": {
      "image/png": "[encoded data removed]",
      "text/plain": [
       "<Figure size 432x288 with 1 Axes>"
      ]
     },
     "metadata": {
      "needs_background": "light"
     },
     "output_type": "display_data"
    }
   ],
   "source": [
    "plt.plot(predictions_mean,label=\"prediction\",color=\"purple\")\n",
    "plt.plot(true_mean,label=\"true\",color=\"green\")"
   ]
  },
  {
   "cell_type": "markdown",
   "metadata": {},
   "source": [
    "### Test-Set Result(s): "
   ]
  },
  {
   "cell_type": "code",
   "execution_count": 29,
   "metadata": {},
   "outputs": [
    {
     "name": "stderr",
     "output_type": "stream",
     "text": [
      "100%|██████████| 3/3 [00:00<00:00, 86.99it/s]"
     ]
    },
    {
     "name": "stdout",
     "output_type": "stream",
     "text": [
      "Building Test Set Performance Metrics\n"
     ]
    },
    {
     "name": "stderr",
     "output_type": "stream",
     "text": [
      "\n"
     ]
    }
   ],
   "source": [
    "print(\"Building Test Set Performance Metrics\")\n",
    "\n",
    "# Initialize Wasserstein-1 Error Distribution\n",
    "W1_errors_test = np.array([])\n",
    "Mean_errors_test = np.array([])\n",
    "Var_errors_test = np.array([])\n",
    "Skewness_errors_test = np.array([])\n",
    "Kurtosis_errors_test = np.array([])\n",
    "# Initialize Prediction Metrics\n",
    "predictions_mean_test = np.array([])\n",
    "true_mean_test = np.array([])\n",
    "#---------------------------------------------------------------------------------------------#\n",
    "\n",
    "# Populate Error Distribution\n",
    "for x_i in tqdm(range(len(measures_locations_test_list))):    \n",
    "    # Get Laws\n",
    "    W1_loop_test = ot.emd2_1d(Barycenters_Array,\n",
    "                         np.array(measures_locations_test_list[x_i]).reshape(-1,),\n",
    "                         Predicted_Weights_test[x_i,].reshape(-1,),\n",
    "                         (measures_weights_test_list[x_i]).reshape(-1,))\n",
    "    W1_errors_test = np.append(W1_errors_test,W1_loop_test)\n",
    "    # Get Means\n",
    "    Mu_hat_test = np.sum((Predicted_Weights_test[x_i])*(Barycenters_Array))\n",
    "    Mu_test = np.mean(np.array(measures_locations_test_list[x_i]))\n",
    "    Mean_errors_test = np.append(Mean_errors_test,(Mu_hat_test-Mu_test))\n",
    "    ## Update Predictions\n",
    "    predictions_mean_test = np.append(predictions_mean_test,Mu_hat_test)\n",
    "    true_mean_test = np.append(true_mean_test,Mu_test)\n",
    "    # Get Var (non-centered)\n",
    "    Var_hat_test = np.sum((Barycenters_Array**2)*(Predicted_Weights_test[x_i]))\n",
    "    Var_test = np.mean(np.array(measures_locations_test_list[x_i])**2)\n",
    "    Var_errors_test = np.append(Var_errors_test,(Var_hat_test-Var_test)**2)\n",
    "    # Get skewness (non-centered)\n",
    "    Skewness_hat_test = np.sum((Barycenters_Array**3)*(Predicted_Weights_test[x_i]))\n",
    "    Skewness_test = np.mean(np.array(measures_locations_test_list[x_i])**3)\n",
    "    Skewness_errors_test = np.append(Skewness_errors_test,(abs(Skewness_hat_test-Skewness_test))**(1/3))\n",
    "    # Get skewness (non-centered)\n",
    "    Kurtosis_hat_test = np.sum((Barycenters_Array**4)*(Predicted_Weights_test[x_i]))\n",
    "    Kurtosis_test = np.mean(np.array(measures_locations_test_list[x_i])**4)\n",
    "    Kurtosis_errors_test = np.append(Kurtosis_errors_test,(abs(Kurtosis_hat_test-Kurtosis_test))**.25)\n",
    "    \n",
    "#---------------------------------------------------------------------------------------------#\n",
    "# Compute Error Statistics/Descriptors\n",
    "W1_Performance_test = np.array([np.min(np.abs(W1_errors_test)),np.mean(np.abs(W1_errors_test)),np.mean(np.abs(W1_errors_test))])\n",
    "Mean_prediction_Performance_test = np.array([np.min(np.abs(Mean_errors_test)),np.mean(np.abs(Mean_errors_test)),np.mean(np.abs(Mean_errors_test))])\n",
    "Var_prediction_Performance_test = np.array([np.min(np.abs(Var_errors_test)),np.mean(np.abs(Var_errors_test)),np.mean(np.abs(Var_errors_test))])\n",
    "Skewness_prediction_Performance_test = np.array([np.min(np.abs(Skewness_errors_test)),np.mean(np.abs(Skewness_errors_test)),np.mean(np.abs(Skewness_errors_test))])\n",
    "Kurtosis_prediction_Performance_test = np.array([np.min(np.abs(Kurtosis_errors_test)),np.mean(np.abs(Kurtosis_errors_test)),np.mean(np.abs(Kurtosis_errors_test))])\n",
    "\n",
    "Type_A_Prediction_test = pd.DataFrame({\"W1\":W1_Performance_test,\n",
    "                                  \"E[X']-E[X]\":Mean_prediction_Performance_test,\n",
    "                                  \"(E[X'^2]-E[X^2])^.5\":Var_prediction_Performance_test,\n",
    "                                  \"(E[X'^3]-E[X^3])^(1/3)\":Skewness_prediction_Performance_test,\n",
    "                                  \"(E[X'^4]-E[X^4])^.25\":Kurtosis_prediction_Performance_test},index=[\"Min\",\"MAE\",\"Max\"])\n",
    "\n",
    "# Write Performance\n",
    "Type_A_Prediction_test.to_latex((results_tables_path+str(\"Roughness_\")+str(Rougness)+str(\"__RatiofBM_\")+str(Ratio_fBM_to_typical_vol)+\n",
    " \"__TypeAPrediction_Test.tex\"))"
   ]
  },
  {
   "cell_type": "markdown",
   "metadata": {},
   "source": [
    "#### Visualization of Test-Set Performance"
   ]
  },
  {
   "cell_type": "code",
   "execution_count": 31,
   "metadata": {},
   "outputs": [
    {
     "data": {
      "text/plain": [
       "[<matplotlib.lines.Line2D at 0x7fcb60381ed0>]"
      ]
     },
     "execution_count": 31,
     "metadata": {},
     "output_type": "execute_result"
    },
    {
     "data": {
      "image/png": "[encoded data removed]",
      "text/plain": [
       "<Figure size 432x288 with 1 Axes>"
      ]
     },
     "metadata": {
      "needs_background": "light"
     },
     "output_type": "display_data"
    }
   ],
   "source": [
    "plt.plot(predictions_mean_test,color=\"purple\")\n",
    "plt.plot(true_mean_test)"
   ]
  },
  {
   "cell_type": "markdown",
   "metadata": {},
   "source": [
    "## Update User"
   ]
  },
  {
   "cell_type": "markdown",
   "metadata": {},
   "source": [
    "### Print for Terminal Legibility"
   ]
  },
  {
   "cell_type": "code",
   "execution_count": null,
   "metadata": {},
   "outputs": [],
   "source": [
    "print(\"#----------------------#\")\n",
    "print(\"Training-Set Performance\")\n",
    "print(\"#----------------------#\")\n",
    "print(Type_A_Prediction)\n",
    "print(\" \")\n",
    "print(\" \")\n",
    "print(\" \")\n",
    "\n",
    "print(\"#------------------#\")\n",
    "print(\"Test-Set Performance\")\n",
    "print(\"#------------------#\")\n",
    "print(Type_A_Prediction_test)\n",
    "print(\" \")\n",
    "print(\" \")\n",
    "print(\" \")"
   ]
  },
  {
   "cell_type": "markdown",
   "metadata": {},
   "source": [
    "### Training-Set Performance"
   ]
  },
  {
   "cell_type": "code",
   "execution_count": null,
   "metadata": {},
   "outputs": [],
   "source": [
    "Type_A_Prediction"
   ]
  },
  {
   "cell_type": "markdown",
   "metadata": {},
   "source": [
    "### Test-Set Performance"
   ]
  },
  {
   "cell_type": "code",
   "execution_count": null,
   "metadata": {},
   "outputs": [],
   "source": [
    "Type_A_Prediction_test"
   ]
  },
  {
   "cell_type": "markdown",
   "metadata": {},
   "source": [
    "---"
   ]
  },
  {
   "cell_type": "markdown",
   "metadata": {},
   "source": [
    "---\n",
    "# Fin\n",
    "---"
   ]
  },
  {
   "cell_type": "markdown",
   "metadata": {},
   "source": [
    "---"
   ]
  }
 ],
 "metadata": {
  "kernelspec": {
   "display_name": "Python 3",
   "language": "python",
   "name": "python3"
  },
  "language_info": {
   "codemirror_mode": {
    "name": "ipython",
    "version": 3
   },
   "file_extension": ".py",
   "mimetype": "text/x-python",
   "name": "python",
   "nbconvert_exporter": "python",
   "pygments_lexer": "ipython3",
   "version": "3.7.7"
  }
 },
 "nbformat": 4,
 "nbformat_minor": 2
}
