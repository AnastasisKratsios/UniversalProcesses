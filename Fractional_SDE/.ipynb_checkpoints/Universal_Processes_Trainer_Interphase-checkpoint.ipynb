{
 "cells": [
  {
   "cell_type": "markdown",
   "metadata": {},
   "source": [
    "# Generic Conditional Laws for Random-Fields - via:\n",
    "\n",
    "## Universal $\\mathcal{P}_1(\\mathbb{R})$-Deep Neural Model (Type A)\n",
    "\n",
    "---\n",
    "\n",
    "By: [Anastasis Kratsios](https://people.math.ethz.ch/~kratsioa/) - 2021.\n",
    "\n",
    "---"
   ]
  },
  {
   "cell_type": "markdown",
   "metadata": {},
   "source": [
    "---\n",
    "# Training Algorithm:\n",
    "---\n",
    "## 1) Generate Data:\n",
    "Generates the empirical measure $\\sum_{n=1}^N \\delta_{X_T(\\omega_n)}$ of $X_T$ conditional on $X_0=x_0\\in \\mathbb{R}$ *($x_0$ and $T>0$ are user-provided)*.\n",
    "\n",
    "## 2) Get \"Sample Barycenters\":\n",
    "Let $\\{\\mu_n\\}_{n=1}^N\\subset\\mathcal{P}_1(\\mathbb{R}^d)$.  Then, the *sample barycenter* is defined by:\n",
    "1. $\\mathcal{M}^{(0)}\\triangleq \\left\\{\\hat{\\mu}_n\\right\\}_{n=1}^N$,\n",
    "2. For $1\\leq n\\leq \\mbox{N sample barycenters}$: \n",
    "    - $\n",
    "\\mu^{\\star}\\in \\underset{\\tilde{\\mu}\\in \\mathcal{M}^{(n)}}{\\operatorname{argmin}}\\, \\sum_{n=1}^N \\mathcal{W}_1\\left(\\mu^{\\star},\\mu_n\\right),\n",
    "$\n",
    "    - $\\mathcal{M}^{(n)}\\triangleq \\mathcal{M}^{(n-1)} - \\{\\mu^{\\star}\\},$\n",
    "*i.e., the closest generated measure form the random sample to all other elements of the random sample.*\n",
    "\n",
    "---\n",
    "**Note:** *We simplify the computational burden of getting the correct classes by putting this right into this next loop.*\n",
    "\n",
    "## 3) Train Deep Classifier:\n",
    "$\\hat{f}\\in \\operatorname{argmin}_{f \\in \\mathcal{NN}_{d:N}^{\\star}} \n",
    "\\sum_{x \\in \\mathbb{X}}\n",
    "\\, \n",
    "\\mathbb{H}\n",
    "\\left(\n",
    "    \\operatorname{Softmax}_N\\circ f(x)_n| I\\left\\{W_1(\\hat{\\mu}_n,\\mu_x),\\inf_{m\\leq N} W_1(\\hat{\\mu}_m,\\mu_x)\\right\\}\n",
    "\\right);\n",
    "$\n",
    "where $\\mathbb{H}$ is the categorical cross-entropy.  \n",
    "\n",
    "---\n",
    "---\n",
    "---\n",
    "## Notes - Why the procedure is so computationally efficient?\n",
    "---\n",
    " - The sample barycenters do not require us to solve for any new Wasserstein-1 Barycenters; which is much more computationally costly,\n",
    " - Our training procedure never back-propages through $\\mathcal{W}_1$ since steps 2 and 3 are full-decoupled.  Therefore, training our deep classifier is (comparatively) cheap since it takes values in the standard $N$-simplex.\n",
    "\n",
    "---"
   ]
  },
  {
   "cell_type": "markdown",
   "metadata": {},
   "source": [
    "## Meta-Parameters"
   ]
  },
  {
   "cell_type": "markdown",
   "metadata": {},
   "source": [
    "### Simulation"
   ]
  },
  {
   "cell_type": "markdown",
   "metadata": {},
   "source": [
    "#### Ground Truth:\n",
    "*The build-in Options:*\n",
    "- rSDE \n",
    "- pfBM\n",
    "- 2lnflow"
   ]
  },
  {
   "cell_type": "code",
   "execution_count": 1,
   "metadata": {},
   "outputs": [],
   "source": [
    "# Option 1:\n",
    "groud_truth = \"rSDE\"\n",
    "# Option 2:\n",
    "# groud_truth = \"2lnflow\"\n",
    "## Option 3:\n",
    "# groud_truth = \"pfBM\""
   ]
  },
  {
   "cell_type": "markdown",
   "metadata": {},
   "source": [
    "#### Grid Hyperparameter(s)"
   ]
  },
  {
   "cell_type": "code",
   "execution_count": 59,
   "metadata": {},
   "outputs": [],
   "source": [
    "## Monte-Carlo\n",
    "N_Euler_Maruyama_Steps = 10**3\n",
    "N_Monte_Carlo_Samples = 10**3\n",
    "N_Monte_Carlo_Samples_Test = 10**3 # How many MC-samples to draw from test-set?\n",
    "\n",
    "# End times for Time-Grid\n",
    "T_end = 1\n",
    "T_end_test = 1.1\n",
    "\n",
    "\n",
    "## Grid\n",
    "N_Grid_Finess = 10**3\n",
    "Max_Grid = 0.5\n",
    "x_0 = 1\n",
    "\n",
    "# Number of Centers (\\hat{\\mu}_s)\n",
    "N_Quantizers_to_parameterize = 10\n",
    "Hurst_Exponent = 0.5\n",
    "uniform_noise_level = 0"
   ]
  },
  {
   "cell_type": "markdown",
   "metadata": {},
   "source": [
    "This option sets $\\delta$ in $B_{\\mathbb{R}\\times [0,\\infty)}(\\hat{x}_n,\\delta)$; where $\\hat{x}_n\\in \\nu_{\\cdot}^{-1}[\\hat{\\mu}]$.  N_measures_per_center sets the number of samples to draw in this ball...by construction the training set is $\\delta$-bounded and $\\nu_{(x,t)}$, for any such $x$ is $\\omega_{\\nu_{\\cdot}}(\\delta)$-bounded in $\\mathcal{P}_1(\\mathbb{R})$."
   ]
  },
  {
   "cell_type": "code",
   "execution_count": 60,
   "metadata": {},
   "outputs": [],
   "source": [
    "# Hyper-parameters of Cover\n",
    "delta = 0.1\n",
    "N_measures_per_center = 100"
   ]
  },
  {
   "cell_type": "markdown",
   "metadata": {},
   "source": [
    "**Note**: Setting *N_Quantizers_to_parameterize* prevents any barycenters and sub-sampling."
   ]
  },
  {
   "cell_type": "markdown",
   "metadata": {},
   "source": [
    "### Random Cover\n",
    "This is not an active option!"
   ]
  },
  {
   "cell_type": "code",
   "execution_count": 61,
   "metadata": {},
   "outputs": [],
   "source": [
    "# Set Minibatch Size\n",
    "# Random_Cover_Mini_Batch_Size = 100"
   ]
  },
  {
   "cell_type": "markdown",
   "metadata": {},
   "source": [
    "#### Mode: Code-Testin Parameter(s)\n",
    "- True: $\\Rightarrow$ cross validation through grid of very mild parameters just to test hardward or software.\n",
    "- False: $\\Rightarrow$ run CV-grid."
   ]
  },
  {
   "cell_type": "code",
   "execution_count": 62,
   "metadata": {},
   "outputs": [],
   "source": [
    "trial_run = True"
   ]
  },
  {
   "cell_type": "markdown",
   "metadata": {},
   "source": [
    "### Meta-parameters\n",
    "Ratio $\\frac{\\text{Testing Datasize}}{\\text{Training Datasize}}$."
   ]
  },
  {
   "cell_type": "code",
   "execution_count": 63,
   "metadata": {},
   "outputs": [],
   "source": [
    "test_size_ratio = .25"
   ]
  },
  {
   "cell_type": "markdown",
   "metadata": {},
   "source": [
    "## Simulation from Rough SDE\n",
    "Simulate via Euler-M method from:\n",
    "$$ \n",
    "X_T^x = x + \\int_0^T \\alpha(s,X_s^x)ds + \\int_0^T((1-\\eta)\\beta(s,X_s^s)+\\eta\\sigma_s^H)dW_s.\n",
    "$$"
   ]
  },
  {
   "cell_type": "markdown",
   "metadata": {},
   "source": [
    "### Drift"
   ]
  },
  {
   "cell_type": "code",
   "execution_count": 64,
   "metadata": {},
   "outputs": [],
   "source": [
    "def alpha(t,x):\n",
    "    return .1*(.1-.5*(.01**2))*t #+ np.cos(x)"
   ]
  },
  {
   "cell_type": "markdown",
   "metadata": {},
   "source": [
    "### Volatility"
   ]
  },
  {
   "cell_type": "code",
   "execution_count": 65,
   "metadata": {},
   "outputs": [],
   "source": [
    "def beta(t,x):\n",
    "    return 0.01#+t*np.cos(x)"
   ]
  },
  {
   "cell_type": "markdown",
   "metadata": {},
   "source": [
    "### Roughness Meta-parameters\n",
    " - Roughness is $H$,\n",
    " - Ratio_fBM_to_typical_vol is $\\eta$."
   ]
  },
  {
   "cell_type": "code",
   "execution_count": 66,
   "metadata": {},
   "outputs": [],
   "source": [
    "Rougnessa = 0.9 # Hurst Parameter\n",
    "Ratio_fBM_to_typical_vol = 0 # $\\eta$ in equation above."
   ]
  },
  {
   "cell_type": "markdown",
   "metadata": {},
   "source": [
    "## Simulation from Measure-Valued $2$-Parameter Log-Gaussian Flow\n",
    "$$\n",
    "X_{t,x} \\sim \\log\\text{-}\\mathcal{N}\\left(\\alpha(t,x),\\beta(t,x)\\right).\n",
    "$$"
   ]
  },
  {
   "cell_type": "markdown",
   "metadata": {},
   "source": [
    "**Note:** *$\\alpha$ and $\\beta$ are specified below in the SDE Example*."
   ]
  },
  {
   "cell_type": "code",
   "execution_count": 67,
   "metadata": {},
   "outputs": [
    {
     "name": "stderr",
     "output_type": "stream",
     "text": [
      "\r",
      "  0%|          | 0/3 [00:00<?, ?it/s]"
     ]
    },
    {
     "name": "stdout",
     "output_type": "stream",
     "text": [
      "Deep Feature Builder - Ready\n",
      "Deep Classifier - Ready\n",
      "Building Training + Testing Set - rough-SDE Ground-Truth\n"
     ]
    },
    {
     "name": "stderr",
     "output_type": "stream",
     "text": [
      "100%|██████████| 3/3 [00:13<00:00,  4.45s/it]"
     ]
    },
    {
     "name": "stdout",
     "output_type": "stream",
     "text": [
      "Deep Feature Builder - Ready\n",
      "Deep Classifier - Ready\n",
      "==========================================\n",
      "Training Classifer Portion of Type-A Model\n",
      "==========================================\n",
      "Fitting 2 folds for each of 1 candidates, totalling 2 fits\n"
     ]
    },
    {
     "name": "stderr",
     "output_type": "stream",
     "text": [
      "\n",
      "/scratch/users/kratsioa/.local/lib/python3.7/site-packages/sklearn/model_selection/_search.py:281: UserWarning: The total space of parameters 1 is smaller than n_iter=2. Running 1 iterations. For exhaustive searches, use GridSearchCV.\n",
      "  % (grid_size, self.n_iter, grid_size), UserWarning)\n",
      "[Parallel(n_jobs=4)]: Using backend LokyBackend with 4 concurrent workers.\n",
      "[Parallel(n_jobs=4)]: Done   2 out of   2 | elapsed:   38.4s remaining:    0.0s\n",
      "[Parallel(n_jobs=4)]: Done   2 out of   2 | elapsed:   38.4s finished\n"
     ]
    },
    {
     "name": "stdout",
     "output_type": "stream",
     "text": [
      "Epoch 1/200\n",
      "141/141 [==============================] - 0s 1ms/step - loss: 0.2256 - accuracy: 0.9329\n",
      "Epoch 2/200\n",
      "141/141 [==============================] - 0s 1ms/step - loss: 7.4160e-04 - accuracy: 1.0000\n",
      "Epoch 3/200\n",
      "141/141 [==============================] - 0s 1ms/step - loss: 1.3661e-04 - accuracy: 1.0000\n",
      "Epoch 4/200\n",
      "141/141 [==============================] - 0s 1ms/step - loss: 5.2232e-05 - accuracy: 1.0000\n",
      "Epoch 5/200\n",
      "141/141 [==============================] - 0s 1ms/step - loss: 2.7327e-05 - accuracy: 1.0000\n",
      "Epoch 6/200\n",
      "141/141 [==============================] - 0s 1ms/step - loss: 1.6539e-05 - accuracy: 1.0000\n",
      "Epoch 7/200\n",
      "141/141 [==============================] - 0s 1ms/step - loss: 1.0970e-05 - accuracy: 1.0000\n",
      "Epoch 8/200\n",
      "141/141 [==============================] - 0s 1ms/step - loss: 7.7110e-06 - accuracy: 1.0000\n",
      "Epoch 9/200\n",
      "141/141 [==============================] - 0s 1ms/step - loss: 5.3819e-06 - accuracy: 1.0000\n",
      "Epoch 10/200\n",
      "141/141 [==============================] - 0s 1ms/step - loss: 3.1232e-06 - accuracy: 1.0000\n",
      "Epoch 11/200\n",
      "141/141 [==============================] - 0s 3ms/step - loss: 1.7115e-06 - accuracy: 1.0000\n",
      "Epoch 12/200\n",
      "141/141 [==============================] - 0s 2ms/step - loss: 1.0508e-06 - accuracy: 1.0000\n",
      "Epoch 13/200\n",
      "141/141 [==============================] - 0s 2ms/step - loss: 7.1780e-07 - accuracy: 1.0000\n",
      "Epoch 14/200\n",
      "141/141 [==============================] - 0s 1ms/step - loss: 5.1859e-07 - accuracy: 1.0000\n",
      "Epoch 15/200\n",
      "141/141 [==============================] - 0s 2ms/step - loss: 3.9249e-07 - accuracy: 1.0000\n",
      "Epoch 16/200\n",
      "141/141 [==============================] - 0s 2ms/step - loss: 3.0597e-07 - accuracy: 1.0000\n",
      "Epoch 17/200\n",
      "141/141 [==============================] - 0s 2ms/step - loss: 2.4774e-07 - accuracy: 1.0000\n",
      "Epoch 18/200\n",
      "141/141 [==============================] - 0s 2ms/step - loss: 2.0626e-07 - accuracy: 1.0000\n",
      "Epoch 19/200\n",
      "141/141 [==============================] - 0s 1ms/step - loss: 1.7420e-07 - accuracy: 1.0000\n",
      "Epoch 20/200\n",
      "141/141 [==============================] - 0s 2ms/step - loss: 1.4358e-07 - accuracy: 1.0000\n",
      "Epoch 21/200\n",
      "141/141 [==============================] - 0s 2ms/step - loss: 1.2112e-07 - accuracy: 1.0000\n",
      "Epoch 22/200\n",
      "141/141 [==============================] - 0s 1ms/step - loss: 1.0289e-07 - accuracy: 1.0000\n",
      "Epoch 23/200\n",
      "141/141 [==============================] - 0s 2ms/step - loss: 9.0016e-08 - accuracy: 1.0000\n",
      "Epoch 24/200\n",
      "141/141 [==============================] - 0s 2ms/step - loss: 7.9102e-08 - accuracy: 1.0000\n",
      "Epoch 25/200\n",
      "141/141 [==============================] - 0s 1ms/step - loss: 6.9936e-08 - accuracy: 1.0000\n",
      "Epoch 26/200\n",
      "141/141 [==============================] - 0s 2ms/step - loss: 6.1141e-08 - accuracy: 1.0000\n",
      "Epoch 27/200\n",
      "141/141 [==============================] - 0s 1ms/step - loss: 5.3671e-08 - accuracy: 1.0000\n",
      "Epoch 28/200\n",
      "141/141 [==============================] - 0s 2ms/step - loss: 4.6995e-08 - accuracy: 1.0000\n",
      "Epoch 29/200\n",
      "141/141 [==============================] - 0s 2ms/step - loss: 4.1909e-08 - accuracy: 1.0000\n",
      "Epoch 30/200\n",
      "141/141 [==============================] - 0s 2ms/step - loss: 3.8253e-08 - accuracy: 1.0000\n",
      "Epoch 31/200\n",
      "141/141 [==============================] - 0s 1ms/step - loss: 3.5021e-08 - accuracy: 1.0000\n",
      "Epoch 32/200\n",
      "141/141 [==============================] - 0s 2ms/step - loss: 3.2213e-08 - accuracy: 1.0000\n",
      "Epoch 33/200\n",
      "141/141 [==============================] - 0s 2ms/step - loss: 2.9829e-08 - accuracy: 1.0000\n",
      "Epoch 34/200\n",
      "141/141 [==============================] - 0s 2ms/step - loss: 2.8027e-08 - accuracy: 1.0000\n",
      "Epoch 35/200\n",
      "141/141 [==============================] - 0s 1ms/step - loss: 2.5802e-08 - accuracy: 1.0000\n",
      "Epoch 36/200\n",
      "141/141 [==============================] - 0s 1ms/step - loss: 2.4001e-08 - accuracy: 1.0000\n",
      "Epoch 37/200\n",
      "141/141 [==============================] - 0s 1ms/step - loss: 2.1829e-08 - accuracy: 1.0000\n",
      "Epoch 38/200\n",
      "141/141 [==============================] - 0s 1ms/step - loss: 1.9868e-08 - accuracy: 1.0000\n",
      "Epoch 39/200\n",
      "141/141 [==============================] - 0s 1ms/step - loss: 1.8067e-08 - accuracy: 1.0000\n",
      "Epoch 40/200\n",
      "141/141 [==============================] - 0s 1ms/step - loss: 1.5789e-08 - accuracy: 1.0000\n",
      "Epoch 41/200\n",
      "141/141 [==============================] - 0s 2ms/step - loss: 1.3722e-08 - accuracy: 1.0000\n",
      "Epoch 42/200\n",
      "141/141 [==============================] - 0s 1ms/step - loss: 1.2080e-08 - accuracy: 1.0000\n",
      "Epoch 43/200\n",
      "141/141 [==============================] - 0s 2ms/step - loss: 1.0649e-08 - accuracy: 1.0000\n",
      "Epoch 44/200\n",
      "141/141 [==============================] - 0s 2ms/step - loss: 9.4308e-09 - accuracy: 1.0000\n",
      "Epoch 45/200\n",
      "141/141 [==============================] - 0s 1ms/step - loss: 7.3645e-09 - accuracy: 1.0000\n",
      "Epoch 46/200\n",
      "141/141 [==============================] - 0s 2ms/step - loss: 6.7287e-09 - accuracy: 1.0000\n",
      "Epoch 47/200\n",
      "141/141 [==============================] - 0s 1ms/step - loss: 5.6161e-09 - accuracy: 1.0000\n",
      "Epoch 48/200\n",
      "141/141 [==============================] - 0s 1ms/step - loss: 4.9803e-09 - accuracy: 1.0000\n",
      "Epoch 49/200\n",
      "141/141 [==============================] - 0s 1ms/step - loss: 4.4505e-09 - accuracy: 1.0000\n",
      "Epoch 50/200\n",
      "141/141 [==============================] - 0s 2ms/step - loss: 4.0796e-09 - accuracy: 1.0000\n",
      "Epoch 51/200\n",
      "141/141 [==============================] - 0s 2ms/step - loss: 3.8147e-09 - accuracy: 1.0000\n",
      "Epoch 52/200\n",
      "141/141 [==============================] - 0s 1ms/step - loss: 3.6558e-09 - accuracy: 1.0000\n",
      "Epoch 53/200\n",
      "141/141 [==============================] - 0s 2ms/step - loss: 3.2849e-09 - accuracy: 1.0000\n",
      "Epoch 54/200\n",
      "141/141 [==============================] - 0s 1ms/step - loss: 3.1789e-09 - accuracy: 1.0000\n",
      "Epoch 55/200\n",
      "141/141 [==============================] - 0s 2ms/step - loss: 2.9670e-09 - accuracy: 1.0000\n",
      "Epoch 56/200\n",
      "141/141 [==============================] - 0s 2ms/step - loss: 2.8080e-09 - accuracy: 1.0000\n",
      "Epoch 57/200\n",
      "141/141 [==============================] - 0s 1ms/step - loss: 2.6491e-09 - accuracy: 1.0000\n",
      "Epoch 58/200\n",
      "141/141 [==============================] - 0s 1ms/step - loss: 2.4901e-09 - accuracy: 1.0000\n",
      "Epoch 59/200\n",
      "141/141 [==============================] - 0s 1ms/step - loss: 2.1723e-09 - accuracy: 1.0000\n",
      "Epoch 60/200\n",
      "141/141 [==============================] - 0s 2ms/step - loss: 2.1723e-09 - accuracy: 1.0000\n",
      "Epoch 61/200\n",
      "141/141 [==============================] - 0s 2ms/step - loss: 1.9073e-09 - accuracy: 1.0000\n",
      "Epoch 62/200\n",
      "141/141 [==============================] - 0s 2ms/step - loss: 1.8014e-09 - accuracy: 1.0000\n",
      "Epoch 63/200\n",
      "141/141 [==============================] - 0s 2ms/step - loss: 1.6954e-09 - accuracy: 1.0000\n",
      "Epoch 64/200\n",
      "141/141 [==============================] - 0s 2ms/step - loss: 1.5895e-09 - accuracy: 1.0000\n",
      "Epoch 65/200\n",
      "141/141 [==============================] - 0s 2ms/step - loss: 1.5365e-09 - accuracy: 1.0000\n",
      "Epoch 66/200\n",
      "141/141 [==============================] - 0s 1ms/step - loss: 1.4305e-09 - accuracy: 1.0000\n",
      "Epoch 67/200\n",
      "141/141 [==============================] - 0s 2ms/step - loss: 1.3775e-09 - accuracy: 1.0000\n",
      "Epoch 68/200\n",
      "141/141 [==============================] - 0s 2ms/step - loss: 1.2716e-09 - accuracy: 1.0000\n",
      "Epoch 69/200\n",
      "141/141 [==============================] - 0s 2ms/step - loss: 1.1126e-09 - accuracy: 1.0000\n",
      "Epoch 70/200\n",
      "141/141 [==============================] - 0s 2ms/step - loss: 1.0067e-09 - accuracy: 1.0000\n",
      "Epoch 71/200\n",
      "141/141 [==============================] - 0s 1ms/step - loss: 9.5367e-10 - accuracy: 1.0000\n",
      "Epoch 72/200\n",
      "141/141 [==============================] - 0s 2ms/step - loss: 8.4771e-10 - accuracy: 1.0000\n",
      "Epoch 73/200\n",
      "141/141 [==============================] - 0s 1ms/step - loss: 6.8876e-10 - accuracy: 1.0000\n",
      "Epoch 74/200\n",
      "141/141 [==============================] - 0s 3ms/step - loss: 6.8876e-10 - accuracy: 1.0000\n",
      "Epoch 75/200\n",
      "141/141 [==============================] - 0s 2ms/step - loss: 5.8280e-10 - accuracy: 1.0000\n",
      "Epoch 76/200\n",
      "141/141 [==============================] - 0s 3ms/step - loss: 4.7684e-10 - accuracy: 1.0000\n",
      "Epoch 77/200\n",
      "141/141 [==============================] - 0s 2ms/step - loss: 4.2386e-10 - accuracy: 1.0000\n",
      "Epoch 78/200\n"
     ]
    },
    {
     "name": "stdout",
     "output_type": "stream",
     "text": [
      "141/141 [==============================] - 0s 2ms/step - loss: 2.6491e-10 - accuracy: 1.0000\n",
      "Epoch 79/200\n",
      "141/141 [==============================] - 0s 1ms/step - loss: 2.6491e-10 - accuracy: 1.0000\n",
      "Epoch 80/200\n",
      "141/141 [==============================] - 0s 2ms/step - loss: 2.1193e-10 - accuracy: 1.0000\n",
      "Epoch 81/200\n",
      "141/141 [==============================] - 0s 2ms/step - loss: 2.1193e-10 - accuracy: 1.0000\n",
      "Epoch 82/200\n",
      "141/141 [==============================] - 0s 3ms/step - loss: 1.0596e-10 - accuracy: 1.0000\n",
      "Epoch 83/200\n",
      "141/141 [==============================] - 0s 2ms/step - loss: 1.0596e-10 - accuracy: 1.0000\n",
      "Epoch 84/200\n",
      "141/141 [==============================] - 0s 2ms/step - loss: 5.2982e-11 - accuracy: 1.0000\n",
      "Epoch 85/200\n",
      "141/141 [==============================] - 0s 2ms/step - loss: 0.0000e+00 - accuracy: 1.0000\n",
      "Epoch 86/200\n",
      "141/141 [==============================] - 0s 2ms/step - loss: 0.0000e+00 - accuracy: 1.0000\n",
      "Epoch 87/200\n",
      "141/141 [==============================] - 0s 2ms/step - loss: 0.0000e+00 - accuracy: 1.0000\n",
      "Epoch 88/200\n",
      "141/141 [==============================] - 0s 2ms/step - loss: 0.0000e+00 - accuracy: 1.0000\n",
      "Epoch 89/200\n",
      "141/141 [==============================] - 0s 1ms/step - loss: 0.0000e+00 - accuracy: 1.0000\n",
      "Epoch 90/200\n",
      "141/141 [==============================] - 0s 1ms/step - loss: 0.0000e+00 - accuracy: 1.0000\n",
      "Epoch 91/200\n",
      "141/141 [==============================] - 0s 1ms/step - loss: 0.0000e+00 - accuracy: 1.0000\n",
      "Epoch 92/200\n",
      "141/141 [==============================] - 0s 2ms/step - loss: 0.0000e+00 - accuracy: 1.0000\n",
      "Epoch 93/200\n",
      "141/141 [==============================] - 0s 2ms/step - loss: 0.0000e+00 - accuracy: 1.0000\n",
      "Epoch 94/200\n",
      "141/141 [==============================] - 0s 2ms/step - loss: 0.0000e+00 - accuracy: 1.0000\n",
      "Epoch 95/200\n",
      "141/141 [==============================] - 0s 2ms/step - loss: 0.0000e+00 - accuracy: 1.0000\n",
      "Epoch 96/200\n",
      "141/141 [==============================] - 0s 2ms/step - loss: 0.0000e+00 - accuracy: 1.0000\n",
      "Epoch 97/200\n",
      "141/141 [==============================] - 0s 2ms/step - loss: 0.0000e+00 - accuracy: 1.0000\n",
      "Epoch 98/200\n",
      "141/141 [==============================] - 0s 2ms/step - loss: 0.0000e+00 - accuracy: 1.0000\n",
      "Epoch 99/200\n",
      "141/141 [==============================] - 0s 2ms/step - loss: 0.0000e+00 - accuracy: 1.0000\n",
      "Epoch 100/200\n",
      "141/141 [==============================] - 0s 2ms/step - loss: 0.0000e+00 - accuracy: 1.0000\n",
      "Epoch 101/200\n",
      "141/141 [==============================] - 0s 2ms/step - loss: 0.0000e+00 - accuracy: 1.0000\n",
      "Epoch 102/200\n",
      "141/141 [==============================] - 0s 2ms/step - loss: 0.0000e+00 - accuracy: 1.0000\n",
      "Epoch 103/200\n",
      "141/141 [==============================] - 1s 4ms/step - loss: 0.0000e+00 - accuracy: 1.0000\n",
      "Epoch 104/200\n",
      "141/141 [==============================] - 0s 4ms/step - loss: 0.0000e+00 - accuracy: 1.0000\n",
      "Epoch 105/200\n",
      "141/141 [==============================] - 0s 2ms/step - loss: 0.0000e+00 - accuracy: 1.0000\n",
      "Epoch 106/200\n",
      "141/141 [==============================] - 0s 2ms/step - loss: 0.0000e+00 - accuracy: 1.0000\n",
      "Epoch 107/200\n",
      "141/141 [==============================] - 0s 1ms/step - loss: 0.0000e+00 - accuracy: 1.0000\n",
      "Epoch 108/200\n",
      "141/141 [==============================] - 0s 2ms/step - loss: 0.0000e+00 - accuracy: 1.0000\n",
      "Epoch 109/200\n",
      "141/141 [==============================] - 0s 3ms/step - loss: 0.0000e+00 - accuracy: 1.0000\n",
      "Epoch 110/200\n",
      "141/141 [==============================] - 0s 2ms/step - loss: 0.0000e+00 - accuracy: 1.0000\n",
      "Epoch 111/200\n",
      "141/141 [==============================] - 0s 2ms/step - loss: 0.0000e+00 - accuracy: 1.0000\n",
      "Epoch 112/200\n",
      "141/141 [==============================] - 0s 2ms/step - loss: 0.0000e+00 - accuracy: 1.0000\n",
      "Epoch 113/200\n",
      "141/141 [==============================] - 0s 2ms/step - loss: 0.0000e+00 - accuracy: 1.0000\n",
      "Epoch 114/200\n",
      "141/141 [==============================] - 0s 2ms/step - loss: 0.0000e+00 - accuracy: 1.0000\n",
      "Epoch 115/200\n",
      "141/141 [==============================] - 0s 2ms/step - loss: 0.0000e+00 - accuracy: 1.0000\n",
      "Epoch 116/200\n",
      "141/141 [==============================] - 0s 3ms/step - loss: 0.0000e+00 - accuracy: 1.0000\n",
      "Epoch 117/200\n",
      "141/141 [==============================] - 0s 2ms/step - loss: 0.0000e+00 - accuracy: 1.0000\n",
      "Epoch 118/200\n",
      "141/141 [==============================] - 0s 2ms/step - loss: 0.0000e+00 - accuracy: 1.0000\n",
      "Epoch 119/200\n",
      "141/141 [==============================] - 0s 2ms/step - loss: 0.0000e+00 - accuracy: 1.0000\n",
      "Epoch 120/200\n",
      "141/141 [==============================] - 0s 2ms/step - loss: 0.0000e+00 - accuracy: 1.0000\n",
      "Epoch 121/200\n",
      "141/141 [==============================] - 0s 2ms/step - loss: 0.0000e+00 - accuracy: 1.0000\n",
      "Epoch 122/200\n",
      "141/141 [==============================] - 0s 2ms/step - loss: 0.0000e+00 - accuracy: 1.0000\n",
      "Epoch 123/200\n",
      "141/141 [==============================] - 0s 3ms/step - loss: 0.0000e+00 - accuracy: 1.0000\n",
      "Epoch 124/200\n",
      "141/141 [==============================] - 0s 2ms/step - loss: 0.0000e+00 - accuracy: 1.0000\n",
      "Epoch 125/200\n",
      "141/141 [==============================] - 0s 2ms/step - loss: 0.0000e+00 - accuracy: 1.0000\n",
      "Epoch 126/200\n",
      "141/141 [==============================] - 0s 2ms/step - loss: 0.0000e+00 - accuracy: 1.0000\n",
      "Epoch 127/200\n",
      "141/141 [==============================] - 0s 2ms/step - loss: 0.0000e+00 - accuracy: 1.0000\n",
      "Epoch 128/200\n",
      "141/141 [==============================] - 0s 2ms/step - loss: 0.0000e+00 - accuracy: 1.0000\n",
      "Epoch 129/200\n",
      "141/141 [==============================] - 0s 2ms/step - loss: 0.0000e+00 - accuracy: 1.0000\n",
      "Epoch 130/200\n",
      "141/141 [==============================] - 0s 2ms/step - loss: 0.0000e+00 - accuracy: 1.0000\n",
      "Epoch 131/200\n",
      "141/141 [==============================] - 0s 2ms/step - loss: 0.0000e+00 - accuracy: 1.0000\n",
      "Epoch 132/200\n",
      "141/141 [==============================] - 0s 2ms/step - loss: 0.0000e+00 - accuracy: 1.0000\n",
      "Epoch 133/200\n",
      "141/141 [==============================] - 0s 3ms/step - loss: 0.0000e+00 - accuracy: 1.0000\n",
      "Epoch 134/200\n",
      "141/141 [==============================] - 0s 2ms/step - loss: 0.0000e+00 - accuracy: 1.0000\n",
      "Epoch 135/200\n",
      "141/141 [==============================] - 0s 2ms/step - loss: 0.0000e+00 - accuracy: 1.0000\n",
      "Epoch 136/200\n",
      "141/141 [==============================] - 0s 3ms/step - loss: 0.0000e+00 - accuracy: 1.0000\n",
      "Epoch 137/200\n",
      "141/141 [==============================] - 0s 2ms/step - loss: 0.0000e+00 - accuracy: 1.0000\n",
      "Epoch 138/200\n",
      "141/141 [==============================] - 0s 3ms/step - loss: 0.0000e+00 - accuracy: 1.0000\n",
      "Epoch 139/200\n",
      "141/141 [==============================] - 0s 2ms/step - loss: 0.0000e+00 - accuracy: 1.0000\n",
      "Epoch 140/200\n",
      "141/141 [==============================] - 0s 2ms/step - loss: 0.0000e+00 - accuracy: 1.0000\n",
      "Epoch 141/200\n",
      "141/141 [==============================] - 0s 2ms/step - loss: 0.0000e+00 - accuracy: 1.0000\n",
      "Epoch 142/200\n",
      "141/141 [==============================] - 0s 3ms/step - loss: 0.0000e+00 - accuracy: 1.0000\n",
      "Epoch 143/200\n",
      "141/141 [==============================] - 0s 2ms/step - loss: 0.0000e+00 - accuracy: 1.0000\n",
      "Epoch 144/200\n",
      "141/141 [==============================] - 0s 2ms/step - loss: 0.0000e+00 - accuracy: 1.0000\n",
      "Epoch 145/200\n",
      "141/141 [==============================] - 0s 2ms/step - loss: 0.0000e+00 - accuracy: 1.0000\n",
      "Epoch 146/200\n",
      "141/141 [==============================] - 0s 2ms/step - loss: 0.0000e+00 - accuracy: 1.0000\n",
      "Epoch 147/200\n",
      "141/141 [==============================] - 0s 2ms/step - loss: 0.0000e+00 - accuracy: 1.0000\n",
      "Epoch 148/200\n",
      "141/141 [==============================] - 0s 3ms/step - loss: 0.0000e+00 - accuracy: 1.0000\n",
      "Epoch 149/200\n",
      "141/141 [==============================] - 0s 2ms/step - loss: 0.0000e+00 - accuracy: 1.0000\n",
      "Epoch 150/200\n",
      "141/141 [==============================] - 0s 3ms/step - loss: 0.0000e+00 - accuracy: 1.0000\n",
      "Epoch 151/200\n",
      "141/141 [==============================] - 0s 2ms/step - loss: 0.0000e+00 - accuracy: 1.0000\n",
      "Epoch 152/200\n",
      "141/141 [==============================] - 0s 2ms/step - loss: 0.0000e+00 - accuracy: 1.0000\n",
      "Epoch 153/200\n",
      "141/141 [==============================] - 0s 2ms/step - loss: 0.0000e+00 - accuracy: 1.0000\n",
      "Epoch 154/200\n"
     ]
    },
    {
     "name": "stdout",
     "output_type": "stream",
     "text": [
      "141/141 [==============================] - 0s 3ms/step - loss: 0.0000e+00 - accuracy: 1.0000\n",
      "Epoch 155/200\n",
      "141/141 [==============================] - 0s 2ms/step - loss: 0.0000e+00 - accuracy: 1.0000\n",
      "Epoch 156/200\n",
      "141/141 [==============================] - 0s 2ms/step - loss: 0.0000e+00 - accuracy: 1.0000\n",
      "Epoch 157/200\n",
      "141/141 [==============================] - 0s 2ms/step - loss: 0.0000e+00 - accuracy: 1.0000\n",
      "Epoch 158/200\n",
      "141/141 [==============================] - 0s 2ms/step - loss: 0.0000e+00 - accuracy: 1.0000\n",
      "Epoch 159/200\n",
      "141/141 [==============================] - 0s 2ms/step - loss: 0.0000e+00 - accuracy: 1.0000\n",
      "Epoch 160/200\n",
      "141/141 [==============================] - 0s 2ms/step - loss: 0.0000e+00 - accuracy: 1.0000\n",
      "Epoch 161/200\n",
      "141/141 [==============================] - 0s 2ms/step - loss: 0.0000e+00 - accuracy: 1.0000\n",
      "Epoch 162/200\n",
      "141/141 [==============================] - 0s 2ms/step - loss: 0.0000e+00 - accuracy: 1.0000\n",
      "Epoch 163/200\n",
      "141/141 [==============================] - 0s 2ms/step - loss: 0.0000e+00 - accuracy: 1.0000\n",
      "Epoch 164/200\n",
      "141/141 [==============================] - 0s 2ms/step - loss: 0.0000e+00 - accuracy: 1.0000\n",
      "Epoch 165/200\n",
      "141/141 [==============================] - 0s 2ms/step - loss: 0.0000e+00 - accuracy: 1.0000\n",
      "Epoch 166/200\n",
      "141/141 [==============================] - 0s 2ms/step - loss: 0.0000e+00 - accuracy: 1.0000\n",
      "Epoch 167/200\n",
      "141/141 [==============================] - 0s 2ms/step - loss: 0.0000e+00 - accuracy: 1.0000\n",
      "Epoch 168/200\n",
      "141/141 [==============================] - 0s 2ms/step - loss: 0.0000e+00 - accuracy: 1.0000\n",
      "Epoch 169/200\n",
      "141/141 [==============================] - 0s 2ms/step - loss: 0.0000e+00 - accuracy: 1.0000\n",
      "Epoch 170/200\n",
      "141/141 [==============================] - 0s 2ms/step - loss: 0.0000e+00 - accuracy: 1.0000\n",
      "Epoch 171/200\n",
      "141/141 [==============================] - 0s 2ms/step - loss: 0.0000e+00 - accuracy: 1.0000\n",
      "Epoch 172/200\n",
      "141/141 [==============================] - 0s 2ms/step - loss: 0.0000e+00 - accuracy: 1.0000\n",
      "Epoch 173/200\n",
      "141/141 [==============================] - 0s 2ms/step - loss: 0.0000e+00 - accuracy: 1.0000\n",
      "Epoch 174/200\n",
      "141/141 [==============================] - 0s 2ms/step - loss: 0.0000e+00 - accuracy: 1.0000\n",
      "Epoch 175/200\n",
      "141/141 [==============================] - 0s 3ms/step - loss: 0.0000e+00 - accuracy: 1.0000\n",
      "Epoch 176/200\n",
      "141/141 [==============================] - 0s 3ms/step - loss: 0.0000e+00 - accuracy: 1.0000\n",
      "Epoch 177/200\n",
      "141/141 [==============================] - 0s 2ms/step - loss: 0.0000e+00 - accuracy: 1.0000\n",
      "Epoch 178/200\n",
      "141/141 [==============================] - 0s 2ms/step - loss: 0.0000e+00 - accuracy: 1.0000\n",
      "Epoch 179/200\n",
      "141/141 [==============================] - 0s 2ms/step - loss: 0.0000e+00 - accuracy: 1.0000\n",
      "Epoch 180/200\n",
      "141/141 [==============================] - 0s 3ms/step - loss: 0.0000e+00 - accuracy: 1.0000\n",
      "Epoch 181/200\n",
      "141/141 [==============================] - 0s 2ms/step - loss: 0.0000e+00 - accuracy: 1.0000\n",
      "Epoch 182/200\n",
      "141/141 [==============================] - 0s 2ms/step - loss: 0.0000e+00 - accuracy: 1.0000\n",
      "Epoch 183/200\n",
      "141/141 [==============================] - 0s 2ms/step - loss: 0.0000e+00 - accuracy: 1.0000\n",
      "Epoch 184/200\n",
      "141/141 [==============================] - 0s 2ms/step - loss: 0.0000e+00 - accuracy: 1.0000\n",
      "Epoch 185/200\n",
      "141/141 [==============================] - 0s 2ms/step - loss: 0.0000e+00 - accuracy: 1.0000\n",
      "Epoch 186/200\n",
      "141/141 [==============================] - 0s 2ms/step - loss: 0.0000e+00 - accuracy: 1.0000\n",
      "Epoch 187/200\n",
      "141/141 [==============================] - 0s 2ms/step - loss: 0.0000e+00 - accuracy: 1.0000\n",
      "Epoch 188/200\n",
      "141/141 [==============================] - 0s 2ms/step - loss: 0.0000e+00 - accuracy: 1.0000\n",
      "Epoch 189/200\n",
      "141/141 [==============================] - 0s 2ms/step - loss: 0.0000e+00 - accuracy: 1.0000\n",
      "Epoch 190/200\n",
      "141/141 [==============================] - 0s 2ms/step - loss: 0.0000e+00 - accuracy: 1.0000\n",
      "Epoch 191/200\n",
      "141/141 [==============================] - 0s 2ms/step - loss: 0.0000e+00 - accuracy: 1.0000\n",
      "Epoch 192/200\n",
      "141/141 [==============================] - 0s 2ms/step - loss: 0.0000e+00 - accuracy: 1.0000\n",
      "Epoch 193/200\n",
      "141/141 [==============================] - 0s 2ms/step - loss: 0.0000e+00 - accuracy: 1.0000\n",
      "Epoch 194/200\n",
      "141/141 [==============================] - 0s 2ms/step - loss: 0.0000e+00 - accuracy: 1.0000\n",
      "Epoch 195/200\n",
      "141/141 [==============================] - 0s 2ms/step - loss: 0.0000e+00 - accuracy: 1.0000\n",
      "Epoch 196/200\n",
      "141/141 [==============================] - 0s 2ms/step - loss: 0.0000e+00 - accuracy: 1.0000\n",
      "Epoch 197/200\n",
      "141/141 [==============================] - 0s 2ms/step - loss: 0.0000e+00 - accuracy: 1.0000\n",
      "Epoch 198/200\n",
      "141/141 [==============================] - 0s 2ms/step - loss: 0.0000e+00 - accuracy: 1.0000\n",
      "Epoch 199/200\n",
      "141/141 [==============================] - 0s 1ms/step - loss: 0.0000e+00 - accuracy: 1.0000\n",
      "Epoch 200/200\n",
      "141/141 [==============================] - 0s 2ms/step - loss: 0.0000e+00 - accuracy: 1.0000\n",
      "141/141 [==============================] - 0s 572us/step\n",
      "47/47 [==============================] - 0s 615us/step\n"
     ]
    },
    {
     "name": "stderr",
     "output_type": "stream",
     "text": [
      "\r",
      "  0%|          | 0/3 [00:00<?, ?it/s]"
     ]
    },
    {
     "name": "stdout",
     "output_type": "stream",
     "text": [
      "=================================================\n",
      "Training Classifer Portion of Type-A Model: Done!\n",
      "=================================================\n",
      "#---------------------------------------#\n",
      "Building Training Set (Regression): START\n",
      "#---------------------------------------#\n"
     ]
    },
    {
     "name": "stderr",
     "output_type": "stream",
     "text": [
      "100%|██████████| 3/3 [00:00<00:00, 21.68it/s]\n",
      "100%|██████████| 3/3 [00:00<00:00, 169.49it/s]"
     ]
    },
    {
     "name": "stdout",
     "output_type": "stream",
     "text": [
      "#-------------------------------------#\n",
      "Building Training Set (Regression): END\n",
      "#-------------------------------------#\n",
      "#-------------------------------------#\n",
      "Building Test Set (Predictions): START\n",
      "#-------------------------------------#\n",
      "#-----------------------------------#\n",
      "Building Test Set (Predictions): END\n",
      "#-----------------------------------#\n",
      "#-----------------------------#\n",
      "Building Barycenters Set: START\n",
      "#-----------------------------#\n",
      "#-----------------------------#\n",
      "Building Barycenters Set: END\n",
      "#-----------------------------#\n"
     ]
    },
    {
     "name": "stderr",
     "output_type": "stream",
     "text": [
      "\n",
      "\r",
      "  0%|          | 0/2249 [00:00<?, ?it/s]"
     ]
    },
    {
     "name": "stdout",
     "output_type": "stream",
     "text": [
      "Building Training Set Performance Metrics\n"
     ]
    },
    {
     "name": "stderr",
     "output_type": "stream",
     "text": [
      "100%|██████████| 2249/2249 [00:02<00:00, 826.66it/s]\n",
      " 13%|█▎        | 94/750 [00:00<00:00, 936.91it/s]"
     ]
    },
    {
     "name": "stdout",
     "output_type": "stream",
     "text": [
      "Building Test Set Performance Metrics\n"
     ]
    },
    {
     "name": "stderr",
     "output_type": "stream",
     "text": [
      "100%|██████████| 750/750 [00:00<00:00, 986.81it/s] \n"
     ]
    },
    {
     "data": {
      "image/png": "[encoded data removed]",
      "text/plain": [
       "<Figure size 432x288 with 1 Axes>"
      ]
     },
     "metadata": {},
     "output_type": "display_data"
    },
    {
     "name": "stdout",
     "output_type": "stream",
     "text": [
      "#----------------------#\n",
      "Training-Set Performance\n",
      "#----------------------#\n",
      "            W1  E[X']-E[X]  (E[X'^2]-E[X^2])^.5  (E[X'^3]-E[X^3])^(1/3)  \\\n",
      "Min 9.2357E-08  3.1418E-10           6.8548E-20              6.0201E-04   \n",
      "MAE 4.3617E-05  4.5290E-05           5.0804E-09              3.8606E-02   \n",
      "Max 1.1093E-04  1.2660E-04           3.5675E-08              6.1272E-02   \n",
      "\n",
      "     (E[X'^4]-E[X^4])^.25  \n",
      "Min            3.6721E-03  \n",
      "MAE            8.7218E-02  \n",
      "Max            1.3480E-01  \n",
      " \n",
      " \n",
      " \n",
      "#------------------#\n",
      "Test-Set Performance\n",
      "#------------------#\n",
      "            W1  E[X']-E[X]  (E[X'^2]-E[X^2])^.5  (E[X'^3]-E[X^3])^(1/3)  \\\n",
      "Min 9.2357E-08  3.1418E-10           6.8548E-20              6.0201E-04   \n",
      "MAE 1.4484E-05  2.9525E-05           2.2380E-09              3.3902E-02   \n",
      "Max 4.3067E-05  8.1893E-05           1.1506E-08              5.6882E-02   \n",
      "\n",
      "     (E[X'^4]-E[X^4])^.25  \n",
      "Min            3.6721E-03  \n",
      "MAE            7.9519E-02  \n",
      "Max            1.2943E-01  \n",
      " \n",
      " \n",
      " \n"
     ]
    }
   ],
   "source": [
    "# Run Backend\n",
    "%run Universal_Processes_Trainer_BACKEND.ipynb\n",
    "# exec(open('Universal_Processes_Trainer_BACKEND.py').read())"
   ]
  },
  {
   "cell_type": "markdown",
   "metadata": {},
   "source": [
    "# Visualization\n",
    "*From hereon out...do nothing and just let the backend sript run...the images and tables will load :).*"
   ]
  },
  {
   "cell_type": "code",
   "execution_count": 49,
   "metadata": {
    "scrolled": false
   },
   "outputs": [
    {
     "ename": "FileNotFoundError",
     "evalue": "[Errno 2] No such file or directory: 'Universal_Processes_Trainer_Visuals.py'",
     "output_type": "error",
     "traceback": [
      "\u001b[0;31m------------------------------------------------------------------------\u001b[0m",
      "\u001b[0;31mFileNotFoundError\u001b[0m                      Traceback (most recent call last)",
      "\u001b[0;32m<ipython-input-49-0881b0c4c80d>\u001b[0m in \u001b[0;36m<module>\u001b[0;34m\u001b[0m\n\u001b[1;32m      1\u001b[0m \u001b[0;31m# Run Backend\u001b[0m\u001b[0;34m\u001b[0m\u001b[0;34m\u001b[0m\u001b[0;34m\u001b[0m\u001b[0m\n\u001b[1;32m      2\u001b[0m \u001b[0;31m# %run Universal_Processes_Trainer_Visuals.ipynb\u001b[0m\u001b[0;34m\u001b[0m\u001b[0;34m\u001b[0m\u001b[0;34m\u001b[0m\u001b[0m\n\u001b[0;32m----> 3\u001b[0;31m \u001b[0mexec\u001b[0m\u001b[0;34m(\u001b[0m\u001b[0mopen\u001b[0m\u001b[0;34m(\u001b[0m\u001b[0;34m'Universal_Processes_Trainer_Visuals.py'\u001b[0m\u001b[0;34m)\u001b[0m\u001b[0;34m.\u001b[0m\u001b[0mread\u001b[0m\u001b[0;34m(\u001b[0m\u001b[0;34m)\u001b[0m\u001b[0;34m)\u001b[0m\u001b[0;34m\u001b[0m\u001b[0;34m\u001b[0m\u001b[0m\n\u001b[0m",
      "\u001b[0;31mFileNotFoundError\u001b[0m: [Errno 2] No such file or directory: 'Universal_Processes_Trainer_Visuals.py'"
     ]
    }
   ],
   "source": [
    "# Run Backend\n",
    "# %run Universal_Processes_Trainer_Visuals.ipynb\n",
    "exec(open('Universal_Processes_Trainer_Visuals.py').read())"
   ]
  },
  {
   "cell_type": "markdown",
   "metadata": {},
   "source": [
    "## Update User"
   ]
  },
  {
   "cell_type": "markdown",
   "metadata": {},
   "source": [
    "### Training-Set Performance"
   ]
  },
  {
   "cell_type": "code",
   "execution_count": null,
   "metadata": {},
   "outputs": [],
   "source": [
    "Type_A_Prediction"
   ]
  },
  {
   "cell_type": "markdown",
   "metadata": {},
   "source": [
    "### Test-Set Performance"
   ]
  },
  {
   "cell_type": "code",
   "execution_count": null,
   "metadata": {},
   "outputs": [],
   "source": [
    "Type_A_Prediction_test"
   ]
  },
  {
   "cell_type": "markdown",
   "metadata": {},
   "source": [
    "---"
   ]
  },
  {
   "cell_type": "markdown",
   "metadata": {},
   "source": [
    "---\n",
    "# Fin\n",
    "---"
   ]
  },
  {
   "cell_type": "markdown",
   "metadata": {},
   "source": [
    "---"
   ]
  }
 ],
 "metadata": {
  "kernelspec": {
   "display_name": "Python 3",
   "language": "python",
   "name": "python3"
  },
  "language_info": {
   "codemirror_mode": {
    "name": "ipython",
    "version": 3
   },
   "file_extension": ".py",
   "mimetype": "text/x-python",
   "name": "python",
   "nbconvert_exporter": "python",
   "pygments_lexer": "ipython3",
   "version": "3.7.7"
  }
 },
 "nbformat": 4,
 "nbformat_minor": 2
}
