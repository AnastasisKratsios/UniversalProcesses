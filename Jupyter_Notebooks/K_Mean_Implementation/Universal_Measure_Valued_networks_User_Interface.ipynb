{
 "cells": [
  {
   "cell_type": "markdown",
   "metadata": {},
   "source": [
    "# Generic Conditional Laws for Random-Fields - via:\n",
    "\n",
    "## Universal $\\mathcal{P}_1(\\mathbb{R})$-Deep Neural Model $\\mathcal{NN}_{1_{\\mathbb{R}^n},\\mathcal{D}}^{\\sigma:\\star}$.\n",
    "\n",
    "---\n",
    "\n",
    "By: [Anastasis Kratsios](https://people.math.ethz.ch/~kratsioa/) - 2021.\n",
    "\n",
    "---\n",
    "\n",
    "## What does this code do?\n",
    "1. Learn Heteroskedastic Non-Linear Regression Problem\n",
    "     - $Y\\sim f_{\\text{unkown}}(x) + \\epsilon$ where $f$ is an known function and $\\epsilon\\sim Laplace(0,\\|x\\|)$\n",
    "2. Learn Random Bayesian Network's Law:\n",
    "    - $Y = W_J Y^{J-1}, \\qquad Y^{j}\\triangleq \\sigma\\bullet A^{j}Y^{j-1} + b^{j}, \\qquad Y^0\\triangleq x$\n",
    "\n",
    "3. In the above example if $A_j = M_j\\odot \\tilde{A_j}$ where $\\tilde{A}_j$ is a deterministic matrix and $M_j$ is a \"mask\", that is, a random matrix with binary entries and $\\odot$ is the Hadamard product then we recover the dropout framework."
   ]
  },
  {
   "cell_type": "code",
   "execution_count": 3,
   "metadata": {},
   "outputs": [],
   "source": [
    "# Load Packages/Modules\n",
    "exec(open('Init_Dump.py').read())"
   ]
  },
  {
   "cell_type": "markdown",
   "metadata": {},
   "source": [
    "#### Mode:\n",
    "Software/Hardware Testing or Real-Deal?"
   ]
  },
  {
   "cell_type": "code",
   "execution_count": 4,
   "metadata": {},
   "outputs": [],
   "source": [
    "trial_run = True"
   ]
  },
  {
   "cell_type": "markdown",
   "metadata": {},
   "source": [
    "### Simulation Method:"
   ]
  },
  {
   "cell_type": "code",
   "execution_count": 5,
   "metadata": {},
   "outputs": [],
   "source": [
    "# Random DNN\n",
    "f_unknown_mode = \"Heteroskedastic_NonLinear_Regression\"\n",
    "\n",
    "# Random DNN internal noise\n",
    "# f_unknown_mode = \"DNN_with_Random_Weights\"\n",
    "Depth_Bayesian_DNN = 10\n",
    "width = 20\n",
    "\n",
    "# Random Dropout applied to trained DNN\n",
    "# f_unknown_mode = \"DNN_with_Bayesian_Dropout\"\n",
    "Dropout_rate = 0.1\n",
    "\n",
    "# Rough SDE (time 1)\n",
    "# f_unknown_mode = \"Rough_SDE\""
   ]
  },
  {
   "cell_type": "markdown",
   "metadata": {},
   "source": [
    "#### Rough SDE Meta-Parameters"
   ]
  },
  {
   "cell_type": "code",
   "execution_count": 6,
   "metadata": {},
   "outputs": [],
   "source": [
    "# SDE with Rough Driver\n",
    "N_Euler_Steps = 10**1\n",
    "Hurst_Exponent = 0.01\n",
    "\n",
    "def alpha(t,x):\n",
    "    output_drift_update = t-x\n",
    "    return output_drift_update\n",
    "\n",
    "def beta(t,x):\n",
    "    output_vol_update = (t+0.001)*np.diag(np.cos(x))\n",
    "    return output_vol_update"
   ]
  },
  {
   "cell_type": "markdown",
   "metadata": {},
   "source": [
    "## Note: *Why the procedure is so computationally efficient*?\n",
    "---\n",
    " - The sample barycenters do not require us to solve for any new Wasserstein-1 Barycenters; which is much more computationally costly,\n",
    " - Our training procedure never back-propages through $\\mathcal{W}_1$ since steps 2 and 3 are full-decoupled.  Therefore, training our deep classifier is (comparatively) cheap since it takes values in the standard $N$-simplex.\n",
    "\n",
    "---"
   ]
  },
  {
   "cell_type": "markdown",
   "metadata": {},
   "source": [
    "## Problem Dimension"
   ]
  },
  {
   "cell_type": "code",
   "execution_count": 7,
   "metadata": {},
   "outputs": [],
   "source": [
    "problem_dim = 3"
   ]
  },
  {
   "cell_type": "markdown",
   "metadata": {},
   "source": [
    "#### Grid Hyperparameter(s)\n",
    "- Ratio $\\frac{\\text{Testing Datasize}}{\\text{Training Datasize}}$.\n",
    "- Number of Training Points to Generate"
   ]
  },
  {
   "cell_type": "code",
   "execution_count": 8,
   "metadata": {},
   "outputs": [],
   "source": [
    "train_test_ratio = .2\n",
    "N_train_size = 10**2"
   ]
  },
  {
   "cell_type": "markdown",
   "metadata": {},
   "source": [
    "Monte-Carlo Paramters"
   ]
  },
  {
   "cell_type": "code",
   "execution_count": 9,
   "metadata": {},
   "outputs": [],
   "source": [
    "## Monte-Carlo\n",
    "N_Monte_Carlo_Samples = 10**2"
   ]
  },
  {
   "cell_type": "markdown",
   "metadata": {},
   "source": [
    "Initial radis of $\\delta$-bounded random partition of $\\mathcal{X}$!"
   ]
  },
  {
   "cell_type": "code",
   "execution_count": 10,
   "metadata": {},
   "outputs": [],
   "source": [
    "# Hyper-parameters of Cover\n",
    "delta = 0.01\n",
    "Proportion_per_cluster = .5"
   ]
  },
  {
   "cell_type": "markdown",
   "metadata": {},
   "source": [
    "# Run Main:"
   ]
  },
  {
   "cell_type": "code",
   "execution_count": 11,
   "metadata": {},
   "outputs": [
    {
     "name": "stderr",
     "output_type": "stream",
     "text": [
      "100%|██████████| 50/50 [00:00<00:00, 9167.08it/s]\n",
      "100%|██████████| 100/100 [00:00<00:00, 7084.49it/s]\n",
      "100%|██████████| 20/20 [00:00<00:00, 5009.32it/s]"
     ]
    },
    {
     "name": "stdout",
     "output_type": "stream",
     "text": [
      "Deep Feature Builder - Ready\n",
      "Deep Classifier - Ready\n",
      "Deep Feature Builder - Ready\n",
      "Deep Classifier - Ready\n",
      "==========================================\n",
      "Training Classifer Portion of Type-A Model\n",
      "==========================================\n",
      "Fitting 2 folds for each of 1 candidates, totalling 2 fits\n"
     ]
    },
    {
     "name": "stderr",
     "output_type": "stream",
     "text": [
      "\n",
      "[Parallel(n_jobs=4)]: Using backend LokyBackend with 4 concurrent workers.\n",
      "[Parallel(n_jobs=4)]: Done   2 out of   2 | elapsed:    4.1s remaining:    0.0s\n",
      "[Parallel(n_jobs=4)]: Done   2 out of   2 | elapsed:    4.1s finished\n"
     ]
    },
    {
     "name": "stdout",
     "output_type": "stream",
     "text": [
      "Epoch 1/50\n",
      "4/4 [==============================] - 0s 2ms/step - loss: 3.8968 - accuracy: 0.0100\n",
      "Epoch 2/50\n",
      "4/4 [==============================] - 0s 1ms/step - loss: 3.8873 - accuracy: 0.0100\n",
      "Epoch 3/50\n",
      "4/4 [==============================] - 0s 2ms/step - loss: 3.8790 - accuracy: 0.0100\n",
      "Epoch 4/50\n",
      "4/4 [==============================] - 0s 2ms/step - loss: 3.8716 - accuracy: 0.0100\n",
      "Epoch 5/50\n",
      "4/4 [==============================] - 0s 2ms/step - loss: 3.8643 - accuracy: 0.0100\n",
      "Epoch 6/50\n",
      "4/4 [==============================] - 0s 3ms/step - loss: 3.8573 - accuracy: 0.0200\n",
      "Epoch 7/50\n",
      "4/4 [==============================] - 0s 2ms/step - loss: 3.8505 - accuracy: 0.0700\n",
      "Epoch 8/50\n",
      "4/4 [==============================] - 0s 3ms/step - loss: 3.8434 - accuracy: 0.0700\n",
      "Epoch 9/50\n",
      "4/4 [==============================] - 0s 3ms/step - loss: 3.8366 - accuracy: 0.0700\n",
      "Epoch 10/50\n",
      "4/4 [==============================] - 0s 2ms/step - loss: 3.8299 - accuracy: 0.0600\n",
      "Epoch 11/50\n",
      "4/4 [==============================] - 0s 2ms/step - loss: 3.8233 - accuracy: 0.0600\n",
      "Epoch 12/50\n",
      "4/4 [==============================] - 0s 2ms/step - loss: 3.8161 - accuracy: 0.0600\n",
      "Epoch 13/50\n",
      "4/4 [==============================] - 0s 4ms/step - loss: 3.8095 - accuracy: 0.0600\n",
      "Epoch 14/50\n",
      "4/4 [==============================] - 0s 3ms/step - loss: 3.8021 - accuracy: 0.0600\n",
      "Epoch 15/50\n",
      "4/4 [==============================] - 0s 2ms/step - loss: 3.7952 - accuracy: 0.0600\n",
      "Epoch 16/50\n",
      "4/4 [==============================] - 0s 2ms/step - loss: 3.7877 - accuracy: 0.0600\n",
      "Epoch 17/50\n",
      "4/4 [==============================] - 0s 2ms/step - loss: 3.7804 - accuracy: 0.0600\n",
      "Epoch 18/50\n",
      "4/4 [==============================] - 0s 2ms/step - loss: 3.7733 - accuracy: 0.0600\n",
      "Epoch 19/50\n",
      "4/4 [==============================] - 0s 2ms/step - loss: 3.7656 - accuracy: 0.0600\n",
      "Epoch 20/50\n",
      "4/4 [==============================] - 0s 2ms/step - loss: 3.7585 - accuracy: 0.0600\n",
      "Epoch 21/50\n",
      "4/4 [==============================] - 0s 2ms/step - loss: 3.7498 - accuracy: 0.0600\n",
      "Epoch 22/50\n",
      "4/4 [==============================] - 0s 2ms/step - loss: 3.7417 - accuracy: 0.0600\n",
      "Epoch 23/50\n",
      "4/4 [==============================] - 0s 2ms/step - loss: 3.7334 - accuracy: 0.0600\n",
      "Epoch 24/50\n",
      "4/4 [==============================] - 0s 2ms/step - loss: 3.7250 - accuracy: 0.0600\n",
      "Epoch 25/50\n",
      "4/4 [==============================] - 0s 2ms/step - loss: 3.7162 - accuracy: 0.0600\n",
      "Epoch 26/50\n",
      "4/4 [==============================] - 0s 2ms/step - loss: 3.7085 - accuracy: 0.0600\n",
      "Epoch 27/50\n",
      "4/4 [==============================] - 0s 3ms/step - loss: 3.7007 - accuracy: 0.0600\n",
      "Epoch 28/50\n",
      "4/4 [==============================] - 0s 1ms/step - loss: 3.6928 - accuracy: 0.0600\n",
      "Epoch 29/50\n",
      "4/4 [==============================] - 0s 2ms/step - loss: 3.6843 - accuracy: 0.0600\n",
      "Epoch 30/50\n",
      "4/4 [==============================] - 0s 2ms/step - loss: 3.6755 - accuracy: 0.0600\n",
      "Epoch 31/50\n",
      "4/4 [==============================] - 0s 2ms/step - loss: 3.6670 - accuracy: 0.0600\n",
      "Epoch 32/50\n",
      "4/4 [==============================] - 0s 1ms/step - loss: 3.6579 - accuracy: 0.0600\n",
      "Epoch 33/50\n",
      "4/4 [==============================] - 0s 4ms/step - loss: 3.6492 - accuracy: 0.0600\n",
      "Epoch 34/50\n",
      "4/4 [==============================] - 0s 3ms/step - loss: 3.6409 - accuracy: 0.0600\n",
      "Epoch 35/50\n",
      "4/4 [==============================] - 0s 2ms/step - loss: 3.6327 - accuracy: 0.0600\n",
      "Epoch 36/50\n",
      "4/4 [==============================] - 0s 4ms/step - loss: 3.6245 - accuracy: 0.0600\n",
      "Epoch 37/50\n",
      "4/4 [==============================] - 0s 3ms/step - loss: 3.6177 - accuracy: 0.0600\n",
      "Epoch 38/50\n",
      "4/4 [==============================] - 0s 2ms/step - loss: 3.6095 - accuracy: 0.0600\n",
      "Epoch 39/50\n",
      "4/4 [==============================] - 0s 3ms/step - loss: 3.6022 - accuracy: 0.0600\n",
      "Epoch 40/50\n",
      "4/4 [==============================] - 0s 2ms/step - loss: 3.5945 - accuracy: 0.0600\n",
      "Epoch 41/50\n",
      "4/4 [==============================] - 0s 2ms/step - loss: 3.5874 - accuracy: 0.0600\n",
      "Epoch 42/50\n",
      "4/4 [==============================] - 0s 4ms/step - loss: 3.5804 - accuracy: 0.0600\n",
      "Epoch 43/50\n",
      "4/4 [==============================] - 0s 3ms/step - loss: 3.5732 - accuracy: 0.0600\n",
      "Epoch 44/50\n",
      "4/4 [==============================] - 0s 2ms/step - loss: 3.5663 - accuracy: 0.0600\n",
      "Epoch 45/50\n",
      "4/4 [==============================] - 0s 2ms/step - loss: 3.5599 - accuracy: 0.0600\n",
      "Epoch 46/50\n",
      "4/4 [==============================] - 0s 3ms/step - loss: 3.5522 - accuracy: 0.0600\n",
      "Epoch 47/50\n",
      "4/4 [==============================] - 0s 3ms/step - loss: 3.5456 - accuracy: 0.0600\n",
      "Epoch 48/50\n",
      "4/4 [==============================] - 0s 2ms/step - loss: 3.5384 - accuracy: 0.0600\n",
      "Epoch 49/50\n",
      "4/4 [==============================] - 0s 4ms/step - loss: 3.5320 - accuracy: 0.0600\n",
      "Epoch 50/50\n",
      "4/4 [==============================] - 0s 4ms/step - loss: 3.5250 - accuracy: 0.0600\n",
      "4/4 [==============================] - 0s 1ms/step\n",
      "1/1 [==============================] - 0s 1ms/step\n"
     ]
    },
    {
     "name": "stderr",
     "output_type": "stream",
     "text": [
      " 29%|██▉       | 29/100 [00:00<00:00, 288.34it/s]"
     ]
    },
    {
     "name": "stdout",
     "output_type": "stream",
     "text": [
      "===============================================\n",
      "Training Classifer Portion of Type Model: Done!\n",
      "===============================================\n",
      "#--------------------#\n",
      " Get Training Error(s)\n",
      "#--------------------#\n"
     ]
    },
    {
     "name": "stderr",
     "output_type": "stream",
     "text": [
      "100%|██████████| 100/100 [00:00<00:00, 329.12it/s]\n",
      "100%|██████████| 20/20 [00:00<00:00, 353.40it/s]"
     ]
    },
    {
     "name": "stdout",
     "output_type": "stream",
     "text": [
      "#-------------------------#\n",
      " Get Training Error(s): END\n",
      "#-------------------------#\n",
      "#----------------#\n",
      " Get Test Error(s)\n",
      "#----------------#\n",
      "#-------------------------#\n",
      " Get Training Error(s): END\n",
      "#-------------------------#\n"
     ]
    },
    {
     "name": "stderr",
     "output_type": "stream",
     "text": [
      "\n"
     ]
    }
   ],
   "source": [
    "# %run Universal_Measure_Valued_Networks_Backend.ipynb\n",
    "exec(open('Universal_Measure_Valued_Networks_Backend.py').read())"
   ]
  },
  {
   "cell_type": "markdown",
   "metadata": {},
   "source": [
    "---\n",
    "# Run: Benchmarks\n",
    "---"
   ]
  },
  {
   "cell_type": "markdown",
   "metadata": {},
   "source": [
    "## Run: *Pointmass Benchmark(s)*\n",
    "These benchmarks consist of subsets of $C(\\mathbb{R}^d,\\mathbb{R})$ which we lift to models in $C(\\mathbb{R}^d,\\cap_{1\\leq q<\\infty}\\mathscr{P}_{q}(\\mathbb{R}))$ via:\n",
    "$$\n",
    "\\mathbb{R}^d \\ni x \\to f(x) \\to \\delta_{f(x)}\\in \\cap_{1\\leq q<\\infty}\\mathcal{P}_{q}(\\mathbb{R}).\n",
    "$$"
   ]
  },
  {
   "cell_type": "code",
   "execution_count": 12,
   "metadata": {},
   "outputs": [
    {
     "name": "stdout",
     "output_type": "stream",
     "text": [
      "Deep Feature Builder - Ready\n",
      "--------------\n",
      "Training: ENET\n",
      "--------------\n"
     ]
    },
    {
     "name": "stderr",
     "output_type": "stream",
     "text": [
      " 47%|████▋     | 47/100 [00:00<00:00, 467.56it/s]"
     ]
    },
    {
     "name": "stdout",
     "output_type": "stream",
     "text": [
      "#------------#\n",
      " Get Error(s) \n",
      "#------------#\n"
     ]
    },
    {
     "name": "stderr",
     "output_type": "stream",
     "text": [
      "100%|██████████| 100/100 [00:00<00:00, 412.86it/s]\n",
      "100%|██████████| 20/20 [00:00<00:00, 352.27it/s]\n",
      "[Parallel(n_jobs=4)]: Using backend LokyBackend with 4 concurrent workers.\n"
     ]
    },
    {
     "name": "stdout",
     "output_type": "stream",
     "text": [
      "#-----------------#\n",
      " Get Error(s): END \n",
      "#-----------------#\n",
      "#------------#\n",
      " Get Error(s) \n",
      "#------------#\n",
      "#-----------------#\n",
      " Get Error(s): END \n",
      "#-----------------#\n",
      "-----------------\n",
      "Training: K-Ridge\n",
      "-----------------\n",
      "Fitting 2 folds for each of 1 candidates, totalling 2 fits\n"
     ]
    },
    {
     "name": "stderr",
     "output_type": "stream",
     "text": [
      "[Parallel(n_jobs=4)]: Done   2 out of   2 | elapsed:    0.4s remaining:    0.0s\n",
      "[Parallel(n_jobs=4)]: Done   2 out of   2 | elapsed:    0.4s finished\n",
      " 35%|███▌      | 35/100 [00:00<00:00, 347.57it/s]"
     ]
    },
    {
     "name": "stdout",
     "output_type": "stream",
     "text": [
      "#------------#\n",
      " Get Error(s) \n",
      "#------------#\n"
     ]
    },
    {
     "name": "stderr",
     "output_type": "stream",
     "text": [
      "100%|██████████| 100/100 [00:00<00:00, 464.70it/s]\n",
      "100%|██████████| 20/20 [00:00<00:00, 425.34it/s]\n",
      "[Parallel(n_jobs=4)]: Using backend LokyBackend with 4 concurrent workers.\n"
     ]
    },
    {
     "name": "stdout",
     "output_type": "stream",
     "text": [
      "#-----------------#\n",
      " Get Error(s): END \n",
      "#-----------------#\n",
      "#------------#\n",
      " Get Error(s) \n",
      "#------------#\n",
      "#-----------------#\n",
      " Get Error(s): END \n",
      "#-----------------#\n",
      "--------------\n",
      "Training: GBRF\n",
      "--------------\n",
      "Fitting 2 folds for each of 1 candidates, totalling 2 fits\n"
     ]
    },
    {
     "name": "stderr",
     "output_type": "stream",
     "text": [
      "[Parallel(n_jobs=4)]: Done   2 out of   2 | elapsed:    0.2s remaining:    0.0s\n",
      "[Parallel(n_jobs=4)]: Done   2 out of   2 | elapsed:    0.2s finished\n",
      "100%|██████████| 100/100 [00:00<00:00, 537.26it/s]\n",
      "  0%|          | 0/20 [00:00<?, ?it/s]"
     ]
    },
    {
     "name": "stdout",
     "output_type": "stream",
     "text": [
      "#------------#\n",
      " Get Error(s) \n",
      "#------------#\n",
      "#-----------------#\n",
      " Get Error(s): END \n",
      "#-----------------#\n",
      "#------------#\n",
      " Get Error(s) \n",
      "#------------#\n"
     ]
    },
    {
     "name": "stderr",
     "output_type": "stream",
     "text": [
      "100%|██████████| 20/20 [00:00<00:00, 392.15it/s]\n",
      "[Parallel(n_jobs=4)]: Using backend LokyBackend with 4 concurrent workers.\n"
     ]
    },
    {
     "name": "stdout",
     "output_type": "stream",
     "text": [
      "#-----------------#\n",
      " Get Error(s): END \n",
      "#-----------------#\n",
      "-------------\n",
      "Training: DNN\n",
      "-------------\n",
      "Fitting 2 folds for each of 1 candidates, totalling 2 fits\n"
     ]
    },
    {
     "name": "stderr",
     "output_type": "stream",
     "text": [
      "[Parallel(n_jobs=4)]: Done   2 out of   2 | elapsed:    3.2s remaining:    0.0s\n",
      "[Parallel(n_jobs=4)]: Done   2 out of   2 | elapsed:    3.2s finished\n"
     ]
    },
    {
     "name": "stdout",
     "output_type": "stream",
     "text": [
      "Epoch 1/50\n",
      "4/4 [==============================] - 0s 3ms/step - loss: 1.0175 - mse: 1.1272 - mae: 1.0175 - mape: 107.3556\n",
      "Epoch 2/50\n",
      "4/4 [==============================] - 0s 2ms/step - loss: 1.0161 - mse: 1.1245 - mae: 1.0161 - mape: 107.1663\n",
      "Epoch 3/50\n",
      "4/4 [==============================] - 0s 1ms/step - loss: 1.0148 - mse: 1.1217 - mae: 1.0148 - mape: 106.9144\n",
      "Epoch 4/50\n",
      "4/4 [==============================] - 0s 2ms/step - loss: 1.0134 - mse: 1.1190 - mae: 1.0134 - mape: 106.6939\n",
      "Epoch 5/50\n",
      "4/4 [==============================] - 0s 2ms/step - loss: 1.0121 - mse: 1.1163 - mae: 1.0121 - mape: 106.4709\n",
      "Epoch 6/50\n",
      "4/4 [==============================] - 0s 2ms/step - loss: 1.0107 - mse: 1.1135 - mae: 1.0107 - mape: 106.2820\n",
      "Epoch 7/50\n",
      "4/4 [==============================] - 0s 2ms/step - loss: 1.0093 - mse: 1.1108 - mae: 1.0093 - mape: 106.0138\n",
      "Epoch 8/50\n",
      "4/4 [==============================] - 0s 3ms/step - loss: 1.0080 - mse: 1.1080 - mae: 1.0080 - mape: 105.8112\n",
      "Epoch 9/50\n",
      "4/4 [==============================] - 0s 2ms/step - loss: 1.0066 - mse: 1.1052 - mae: 1.0066 - mape: 105.6182\n",
      "Epoch 10/50\n",
      "4/4 [==============================] - 0s 2ms/step - loss: 1.0052 - mse: 1.1025 - mae: 1.0052 - mape: 105.3934\n",
      "Epoch 11/50\n",
      "4/4 [==============================] - 0s 3ms/step - loss: 1.0038 - mse: 1.0997 - mae: 1.0038 - mape: 105.1363\n",
      "Epoch 12/50\n",
      "4/4 [==============================] - 0s 3ms/step - loss: 1.0024 - mse: 1.0969 - mae: 1.0024 - mape: 104.9254\n",
      "Epoch 13/50\n",
      "4/4 [==============================] - 0s 3ms/step - loss: 1.0010 - mse: 1.0941 - mae: 1.0010 - mape: 104.7138\n",
      "Epoch 14/50\n",
      "4/4 [==============================] - 0s 3ms/step - loss: 0.9996 - mse: 1.0913 - mae: 0.9996 - mape: 104.4668\n",
      "Epoch 15/50\n",
      "4/4 [==============================] - 0s 3ms/step - loss: 0.9982 - mse: 1.0884 - mae: 0.9982 - mape: 104.2326\n",
      "Epoch 16/50\n",
      "4/4 [==============================] - 0s 3ms/step - loss: 0.9967 - mse: 1.0855 - mae: 0.9967 - mape: 104.0214\n",
      "Epoch 17/50\n",
      "4/4 [==============================] - 0s 2ms/step - loss: 0.9953 - mse: 1.0826 - mae: 0.9953 - mape: 103.7699\n",
      "Epoch 18/50\n",
      "4/4 [==============================] - 0s 2ms/step - loss: 0.9938 - mse: 1.0797 - mae: 0.9938 - mape: 103.5193\n",
      "Epoch 19/50\n",
      "4/4 [==============================] - 0s 2ms/step - loss: 0.9924 - mse: 1.0768 - mae: 0.9924 - mape: 103.2782\n",
      "Epoch 20/50\n",
      "4/4 [==============================] - 0s 2ms/step - loss: 0.9909 - mse: 1.0739 - mae: 0.9909 - mape: 103.0199\n",
      "Epoch 21/50\n",
      "4/4 [==============================] - 0s 3ms/step - loss: 0.9894 - mse: 1.0709 - mae: 0.9894 - mape: 102.8251\n",
      "Epoch 22/50\n",
      "4/4 [==============================] - 0s 2ms/step - loss: 0.9879 - mse: 1.0679 - mae: 0.9879 - mape: 102.5445\n",
      "Epoch 23/50\n",
      "4/4 [==============================] - 0s 2ms/step - loss: 0.9863 - mse: 1.0649 - mae: 0.9863 - mape: 102.3180\n",
      "Epoch 24/50\n",
      "4/4 [==============================] - 0s 2ms/step - loss: 0.9848 - mse: 1.0618 - mae: 0.9848 - mape: 102.0637\n",
      "Epoch 25/50\n",
      "4/4 [==============================] - 0s 2ms/step - loss: 0.9832 - mse: 1.0587 - mae: 0.9832 - mape: 101.8268\n",
      "Epoch 26/50\n",
      "4/4 [==============================] - 0s 2ms/step - loss: 0.9816 - mse: 1.0556 - mae: 0.9816 - mape: 101.5346\n",
      "Epoch 27/50\n",
      "4/4 [==============================] - 0s 1ms/step - loss: 0.9800 - mse: 1.0525 - mae: 0.9800 - mape: 101.2749\n",
      "Epoch 28/50\n",
      "4/4 [==============================] - 0s 2ms/step - loss: 0.9784 - mse: 1.0493 - mae: 0.9784 - mape: 101.0352\n",
      "Epoch 29/50\n",
      "4/4 [==============================] - 0s 2ms/step - loss: 0.9767 - mse: 1.0461 - mae: 0.9767 - mape: 100.7887\n",
      "Epoch 30/50\n",
      "4/4 [==============================] - 0s 2ms/step - loss: 0.9751 - mse: 1.0429 - mae: 0.9751 - mape: 100.5013\n",
      "Epoch 31/50\n",
      "4/4 [==============================] - 0s 2ms/step - loss: 0.9734 - mse: 1.0396 - mae: 0.9734 - mape: 100.2107\n",
      "Epoch 32/50\n",
      "4/4 [==============================] - 0s 2ms/step - loss: 0.9717 - mse: 1.0363 - mae: 0.9717 - mape: 99.9312\n",
      "Epoch 33/50\n",
      "4/4 [==============================] - 0s 2ms/step - loss: 0.9700 - mse: 1.0330 - mae: 0.9700 - mape: 99.6939\n",
      "Epoch 34/50\n",
      "4/4 [==============================] - 0s 2ms/step - loss: 0.9682 - mse: 1.0296 - mae: 0.9682 - mape: 99.4096\n",
      "Epoch 35/50\n",
      "4/4 [==============================] - 0s 2ms/step - loss: 0.9665 - mse: 1.0262 - mae: 0.9665 - mape: 99.0841\n",
      "Epoch 36/50\n",
      "4/4 [==============================] - 0s 2ms/step - loss: 0.9647 - mse: 1.0227 - mae: 0.9647 - mape: 98.8172\n",
      "Epoch 37/50\n",
      "4/4 [==============================] - 0s 1ms/step - loss: 0.9629 - mse: 1.0193 - mae: 0.9629 - mape: 98.5429\n",
      "Epoch 38/50\n",
      "4/4 [==============================] - 0s 2ms/step - loss: 0.9610 - mse: 1.0157 - mae: 0.9610 - mape: 98.2480\n",
      "Epoch 39/50\n",
      "4/4 [==============================] - 0s 2ms/step - loss: 0.9592 - mse: 1.0122 - mae: 0.9592 - mape: 97.9042\n",
      "Epoch 40/50\n",
      "4/4 [==============================] - 0s 2ms/step - loss: 0.9573 - mse: 1.0085 - mae: 0.9573 - mape: 97.6067\n",
      "Epoch 41/50\n",
      "4/4 [==============================] - 0s 2ms/step - loss: 0.9554 - mse: 1.0048 - mae: 0.9554 - mape: 97.3365\n",
      "Epoch 42/50\n",
      "4/4 [==============================] - 0s 1ms/step - loss: 0.9534 - mse: 1.0012 - mae: 0.9534 - mape: 96.9787\n",
      "Epoch 43/50\n",
      "4/4 [==============================] - 0s 2ms/step - loss: 0.9515 - mse: 0.9974 - mae: 0.9515 - mape: 96.7119\n",
      "Epoch 44/50\n",
      "4/4 [==============================] - 0s 3ms/step - loss: 0.9495 - mse: 0.9936 - mae: 0.9495 - mape: 96.3134\n",
      "Epoch 45/50\n",
      "4/4 [==============================] - 0s 2ms/step - loss: 0.9474 - mse: 0.9898 - mae: 0.9474 - mape: 96.0537\n",
      "Epoch 46/50\n",
      "4/4 [==============================] - 0s 1ms/step - loss: 0.9454 - mse: 0.9859 - mae: 0.9454 - mape: 95.6811\n",
      "Epoch 47/50\n",
      "4/4 [==============================] - 0s 2ms/step - loss: 0.9433 - mse: 0.9821 - mae: 0.9433 - mape: 95.4104\n",
      "Epoch 48/50\n",
      "4/4 [==============================] - 0s 2ms/step - loss: 0.9413 - mse: 0.9781 - mae: 0.9413 - mape: 95.2461\n",
      "Epoch 49/50\n",
      "4/4 [==============================] - 0s 1ms/step - loss: 0.9392 - mse: 0.9741 - mae: 0.9392 - mape: 95.1097\n",
      "Epoch 50/50\n",
      "4/4 [==============================] - 0s 2ms/step - loss: 0.9371 - mse: 0.9701 - mae: 0.9371 - mape: 94.9620\n",
      "4/4 [==============================] - 0s 830us/step\n",
      "1/1 [==============================] - 0s 1ms/step\n"
     ]
    },
    {
     "name": "stderr",
     "output_type": "stream",
     "text": [
      "\r",
      "  0%|          | 0/100 [00:00<?, ?it/s]"
     ]
    },
    {
     "name": "stdout",
     "output_type": "stream",
     "text": [
      "#------------#\n",
      " Get Error(s) \n",
      "#------------#\n"
     ]
    },
    {
     "name": "stderr",
     "output_type": "stream",
     "text": [
      "100%|██████████| 100/100 [00:00<00:00, 558.04it/s]\n",
      "  0%|          | 0/20 [00:00<?, ?it/s]"
     ]
    },
    {
     "name": "stdout",
     "output_type": "stream",
     "text": [
      "#-----------------#\n",
      " Get Error(s): END \n",
      "#-----------------#\n",
      "#------------#\n",
      " Get Error(s) \n",
      "#------------#\n"
     ]
    },
    {
     "name": "stderr",
     "output_type": "stream",
     "text": [
      "\r",
      "100%|██████████| 20/20 [00:00<00:00, 521.13it/s]"
     ]
    },
    {
     "name": "stdout",
     "output_type": "stream",
     "text": [
      "#-----------------#\n",
      " Get Error(s): END \n",
      "#-----------------#\n",
      "-----------------------\n",
      "Computing Error Metrics\n",
      "-----------------------\n"
     ]
    },
    {
     "name": "stderr",
     "output_type": "stream",
     "text": [
      "\n"
     ]
    }
   ],
   "source": [
    "exec(open('CV_Grid.py').read())\n",
    "# Notebook Mode:\n",
    "# %run Evaluation.ipynb\n",
    "# %run Benchmarks_Model_Builder_Pointmass_Based.ipynb\n",
    "# Terminal Mode (Default):\n",
    "exec(open('Evaluation.py').read())\n",
    "exec(open('Benchmarks_Model_Builder_Pointmass_Based.py').read())"
   ]
  },
  {
   "cell_type": "markdown",
   "metadata": {},
   "source": [
    "## Run: *Gaussian Benchmark(s)*"
   ]
  },
  {
   "cell_type": "markdown",
   "metadata": {},
   "source": [
    "- Bencharm 1: [Gaussian Process Regressor](https://scikit-learn.org/stable/modules/gaussian_process.html)\n",
    "- Benchmark 2: Deep Gaussian Networks:\n",
    "These models train models which assume Gaussianity.  We may view these as models in $\\mathcal{P}_2(\\mathbb{R})$ via:\n",
    "$$\n",
    "\\mathbb{R}^d \\ni x \\to (\\hat{\\mu}(x),\\hat{\\sigma}(x))\\triangleq f(x) \\in \\mathbb{R}\\times [0,\\infty) \\to \\frac1{\\hat{\\sigma}(x)\\sqrt{2\\pi}}\\exp\\left(\\frac{-(\\cdot-\\hat{\\mu}(x))^2}{\\hat{\\sigma(x)}^2}\\right) \\in \\mathcal{G}_1\\subset \\mathcal{P}_2(\\mathbb{R});\n",
    "$$\n",
    "where $\\mathcal{G}_1$ is the set of Gaussian measures on $\\mathbb{R}$ equipped with the relative Wasserstein-1 topology."
   ]
  },
  {
   "cell_type": "code",
   "execution_count": 13,
   "metadata": {},
   "outputs": [
    {
     "name": "stdout",
     "output_type": "stream",
     "text": [
      "Deep Feature Builder - Ready\n",
      "Deep Feature Builder - Ready\n",
      "Fitting 2 folds for each of 1 candidates, totalling 2 fits\n"
     ]
    },
    {
     "name": "stderr",
     "output_type": "stream",
     "text": [
      "[Parallel(n_jobs=4)]: Using backend LokyBackend with 4 concurrent workers.\n",
      "[Parallel(n_jobs=4)]: Batch computation too fast (0.1733s.) Setting batch_size=2.\n",
      "[Parallel(n_jobs=4)]: Done   2 out of   2 | elapsed:    0.2s remaining:    0.0s\n",
      "[Parallel(n_jobs=4)]: Done   2 out of   2 | elapsed:    0.2s finished\n"
     ]
    },
    {
     "name": "stdout",
     "output_type": "stream",
     "text": [
      "===============================\n",
      "Training Deep Gaussian Network!\n",
      "===============================\n",
      "Fitting 2 folds for each of 1 candidates, totalling 2 fits\n"
     ]
    },
    {
     "name": "stderr",
     "output_type": "stream",
     "text": [
      "[Parallel(n_jobs=4)]: Using backend LokyBackend with 4 concurrent workers.\n",
      "[Parallel(n_jobs=4)]: Done   2 out of   2 | elapsed:    1.3s remaining:    0.0s\n",
      "[Parallel(n_jobs=4)]: Done   2 out of   2 | elapsed:    1.3s finished\n"
     ]
    },
    {
     "name": "stdout",
     "output_type": "stream",
     "text": [
      "Epoch 1/50\n",
      "4/4 [==============================] - 0s 2ms/step - loss: 3.4685 - mse: 21.8030 - mae: 3.4685 - mape: 89.8458\n",
      "Epoch 2/50\n",
      "4/4 [==============================] - 0s 3ms/step - loss: 3.4674 - mse: 21.7946 - mae: 3.4674 - mape: 89.7835\n",
      "Epoch 3/50\n",
      "4/4 [==============================] - 0s 3ms/step - loss: 3.4662 - mse: 21.7860 - mae: 3.4662 - mape: 89.7513\n",
      "Epoch 4/50\n",
      "4/4 [==============================] - 0s 2ms/step - loss: 3.4650 - mse: 21.7777 - mae: 3.4650 - mape: 89.7040\n",
      "Epoch 5/50\n",
      "4/4 [==============================] - 0s 2ms/step - loss: 3.4639 - mse: 21.7694 - mae: 3.4639 - mape: 89.6558\n",
      "Epoch 6/50\n",
      "4/4 [==============================] - 0s 2ms/step - loss: 3.4627 - mse: 21.7608 - mae: 3.4627 - mape: 89.5937\n",
      "Epoch 7/50\n",
      "4/4 [==============================] - 0s 3ms/step - loss: 3.4615 - mse: 21.7523 - mae: 3.4615 - mape: 89.5691\n",
      "Epoch 8/50\n",
      "4/4 [==============================] - 0s 2ms/step - loss: 3.4604 - mse: 21.7438 - mae: 3.4604 - mape: 89.5158\n",
      "Epoch 9/50\n",
      "4/4 [==============================] - 0s 2ms/step - loss: 3.4592 - mse: 21.7354 - mae: 3.4592 - mape: 89.4525\n",
      "Epoch 10/50\n",
      "4/4 [==============================] - 0s 2ms/step - loss: 3.4580 - mse: 21.7268 - mae: 3.4580 - mape: 89.4044\n",
      "Epoch 11/50\n",
      "4/4 [==============================] - 0s 2ms/step - loss: 3.4568 - mse: 21.7180 - mae: 3.4568 - mape: 89.3720\n",
      "Epoch 12/50\n",
      "4/4 [==============================] - 0s 2ms/step - loss: 3.4556 - mse: 21.7093 - mae: 3.4556 - mape: 89.3152\n",
      "Epoch 13/50\n",
      "4/4 [==============================] - 0s 2ms/step - loss: 3.4543 - mse: 21.7003 - mae: 3.4543 - mape: 89.2579\n",
      "Epoch 14/50\n",
      "4/4 [==============================] - 0s 5ms/step - loss: 3.4531 - mse: 21.6912 - mae: 3.4531 - mape: 89.2157\n",
      "Epoch 15/50\n",
      "4/4 [==============================] - 0s 3ms/step - loss: 3.4518 - mse: 21.6823 - mae: 3.4518 - mape: 89.1643\n",
      "Epoch 16/50\n",
      "4/4 [==============================] - 0s 2ms/step - loss: 3.4505 - mse: 21.6730 - mae: 3.4505 - mape: 89.1078\n",
      "Epoch 17/50\n",
      "4/4 [==============================] - 0s 2ms/step - loss: 3.4493 - mse: 21.6639 - mae: 3.4493 - mape: 89.0649\n",
      "Epoch 18/50\n",
      "4/4 [==============================] - 0s 2ms/step - loss: 3.4480 - mse: 21.6544 - mae: 3.4480 - mape: 89.0231\n",
      "Epoch 19/50\n",
      "4/4 [==============================] - 0s 2ms/step - loss: 3.4467 - mse: 21.6449 - mae: 3.4467 - mape: 88.9700\n",
      "Epoch 20/50\n",
      "4/4 [==============================] - 0s 3ms/step - loss: 3.4453 - mse: 21.6355 - mae: 3.4453 - mape: 88.9259\n",
      "Epoch 21/50\n",
      "4/4 [==============================] - 0s 3ms/step - loss: 3.4440 - mse: 21.6258 - mae: 3.4440 - mape: 88.8463\n",
      "Epoch 22/50\n",
      "4/4 [==============================] - 0s 3ms/step - loss: 3.4427 - mse: 21.6160 - mae: 3.4427 - mape: 88.8102\n",
      "Epoch 23/50\n",
      "4/4 [==============================] - 0s 3ms/step - loss: 3.4413 - mse: 21.6062 - mae: 3.4413 - mape: 88.7490\n",
      "Epoch 24/50\n",
      "4/4 [==============================] - 0s 1ms/step - loss: 3.4399 - mse: 21.5962 - mae: 3.4399 - mape: 88.6933\n",
      "Epoch 25/50\n",
      "4/4 [==============================] - 0s 3ms/step - loss: 3.4385 - mse: 21.5859 - mae: 3.4385 - mape: 88.6283\n",
      "Epoch 26/50\n",
      "4/4 [==============================] - 0s 4ms/step - loss: 3.4371 - mse: 21.5758 - mae: 3.4371 - mape: 88.5904\n",
      "Epoch 27/50\n",
      "4/4 [==============================] - 0s 2ms/step - loss: 3.4356 - mse: 21.5652 - mae: 3.4356 - mape: 88.5334\n",
      "Epoch 28/50\n",
      "4/4 [==============================] - 0s 2ms/step - loss: 3.4342 - mse: 21.5548 - mae: 3.4342 - mape: 88.4679\n",
      "Epoch 29/50\n",
      "4/4 [==============================] - 0s 2ms/step - loss: 3.4327 - mse: 21.5440 - mae: 3.4327 - mape: 88.4004\n",
      "Epoch 30/50\n",
      "4/4 [==============================] - 0s 2ms/step - loss: 3.4312 - mse: 21.5331 - mae: 3.4312 - mape: 88.3506\n",
      "Epoch 31/50\n",
      "4/4 [==============================] - 0s 1ms/step - loss: 3.4297 - mse: 21.5221 - mae: 3.4297 - mape: 88.3006\n",
      "Epoch 32/50\n",
      "4/4 [==============================] - 0s 2ms/step - loss: 3.4282 - mse: 21.5110 - mae: 3.4282 - mape: 88.2381\n",
      "Epoch 33/50\n",
      "4/4 [==============================] - 0s 3ms/step - loss: 3.4266 - mse: 21.4999 - mae: 3.4266 - mape: 88.1577\n",
      "Epoch 34/50\n",
      "4/4 [==============================] - 0s 2ms/step - loss: 3.4250 - mse: 21.4883 - mae: 3.4250 - mape: 88.0946\n",
      "Epoch 35/50\n",
      "4/4 [==============================] - 0s 2ms/step - loss: 3.4234 - mse: 21.4766 - mae: 3.4234 - mape: 88.0520\n",
      "Epoch 36/50\n",
      "4/4 [==============================] - 0s 2ms/step - loss: 3.4218 - mse: 21.4651 - mae: 3.4218 - mape: 87.9785\n",
      "Epoch 37/50\n",
      "4/4 [==============================] - 0s 3ms/step - loss: 3.4202 - mse: 21.4532 - mae: 3.4202 - mape: 87.9026\n",
      "Epoch 38/50\n",
      "4/4 [==============================] - 0s 3ms/step - loss: 3.4185 - mse: 21.4412 - mae: 3.4185 - mape: 87.8377\n",
      "Epoch 39/50\n",
      "4/4 [==============================] - 0s 2ms/step - loss: 3.4169 - mse: 21.4290 - mae: 3.4169 - mape: 87.7920\n",
      "Epoch 40/50\n",
      "4/4 [==============================] - 0s 1ms/step - loss: 3.4151 - mse: 21.4165 - mae: 3.4151 - mape: 87.7283\n",
      "Epoch 41/50\n",
      "4/4 [==============================] - 0s 2ms/step - loss: 3.4134 - mse: 21.4041 - mae: 3.4134 - mape: 87.6364\n",
      "Epoch 42/50\n",
      "4/4 [==============================] - 0s 2ms/step - loss: 3.4117 - mse: 21.3914 - mae: 3.4117 - mape: 87.5891\n",
      "Epoch 43/50\n",
      "4/4 [==============================] - 0s 1ms/step - loss: 3.4099 - mse: 21.3783 - mae: 3.4099 - mape: 87.4998\n",
      "Epoch 44/50\n",
      "4/4 [==============================] - 0s 1ms/step - loss: 3.4081 - mse: 21.3653 - mae: 3.4081 - mape: 87.4598\n",
      "Epoch 45/50\n",
      "4/4 [==============================] - 0s 3ms/step - loss: 3.4063 - mse: 21.3522 - mae: 3.4063 - mape: 87.3536\n",
      "Epoch 46/50\n",
      "4/4 [==============================] - 0s 2ms/step - loss: 3.4045 - mse: 21.3390 - mae: 3.4045 - mape: 87.3070\n",
      "Epoch 47/50\n",
      "4/4 [==============================] - 0s 1ms/step - loss: 3.4026 - mse: 21.3254 - mae: 3.4026 - mape: 87.2318\n",
      "Epoch 48/50\n",
      "4/4 [==============================] - 0s 2ms/step - loss: 3.4007 - mse: 21.3117 - mae: 3.4007 - mape: 87.1472\n",
      "Epoch 49/50\n",
      "4/4 [==============================] - 0s 2ms/step - loss: 3.3988 - mse: 21.2980 - mae: 3.3988 - mape: 87.0751\n",
      "Epoch 50/50\n",
      "4/4 [==============================] - 0s 2ms/step - loss: 3.3969 - mse: 21.2835 - mae: 3.3969 - mape: 86.9981\n",
      "4/4 [==============================] - 0s 1ms/step\n",
      "1/1 [==============================] - 0s 3ms/step\n",
      "====================================\n",
      "Training Deep Gaussian Network!: END\n",
      "====================================\n"
     ]
    },
    {
     "name": "stderr",
     "output_type": "stream",
     "text": [
      "100%|██████████| 100/100 [00:00<00:00, 2305.20it/s]\n",
      "  0%|          | 0/20 [00:00<?, ?it/s]"
     ]
    },
    {
     "name": "stdout",
     "output_type": "stream",
     "text": [
      "#---------------------------------------#\n",
      " Get Training Errors for: Gaussian Models\n",
      "#---------------------------------------#\n",
      "#-------------------------#\n",
      " Get Training Error(s): END\n",
      "#-------------------------#\n",
      "#---------------------------------------#\n",
      " Get Testing Errors for: Gaussian Models\n",
      "#---------------------------------------#\n"
     ]
    },
    {
     "name": "stderr",
     "output_type": "stream",
     "text": [
      "\r",
      "100%|██████████| 20/20 [00:00<00:00, 1715.36it/s]"
     ]
    },
    {
     "name": "stdout",
     "output_type": "stream",
     "text": [
      "#------------------------#\n",
      " Get Testing Error(s): END\n",
      "#------------------------#\n",
      "-------------------------------------------------\n",
      "Updating Performance Metrics Dataframe and Saved!\n",
      "-------------------------------------------------\n",
      "------------------------------------------------\n",
      "Updated Performance Metrics Dataframe and Saved!\n",
      "------------------------------------------------\n",
      "--------------------------------------------\n",
      "Computing and Updating Complexity Metrics...\n",
      "--------------------------------------------\n",
      "-----------------------------------------------\n",
      "Updated Complexity Metrics Dataframe and Saved!\n",
      "-----------------------------------------------\n"
     ]
    },
    {
     "name": "stderr",
     "output_type": "stream",
     "text": [
      "\n"
     ]
    }
   ],
   "source": [
    "%run Benchmarks_Model_Builder_Mean_Var.ipynb\n",
    "# exec(open('Benchmarks_Model_Builder_Mean_Var.py').read())"
   ]
  },
  {
   "cell_type": "markdown",
   "metadata": {},
   "source": [
    "# Summary of Mean-Centric Regression Models"
   ]
  },
  {
   "cell_type": "markdown",
   "metadata": {},
   "source": [
    "#### Training Model Facts"
   ]
  },
  {
   "cell_type": "code",
   "execution_count": 14,
   "metadata": {},
   "outputs": [
    {
     "name": "stdout",
     "output_type": "stream",
     "text": [
      "              ENET    kRidge      GBRF      ffNN           GPR       DGN\n",
      "W1        7.021489  7.021269  7.069638  8.001986  7.013702e+00  3.766748\n",
      "Mean      1.020414  1.013535  1.095907  0.081151  1.809104e-10  0.142840\n",
      "Var       6.283783  6.283783  6.283783  6.283783  6.902197e+00  5.800428\n",
      "Skewness  0.000000  0.000000  0.000000  0.000000  0.000000e+00  0.000000\n",
      "Ex_Kur    6.000000  6.000000  6.000000  6.000000  3.000000e+00  3.000000\n"
     ]
    },
    {
     "data": {
      "text/html": [
       "<div>\n",
       "<style scoped>\n",
       "    .dataframe tbody tr th:only-of-type {\n",
       "        vertical-align: middle;\n",
       "    }\n",
       "\n",
       "    .dataframe tbody tr th {\n",
       "        vertical-align: top;\n",
       "    }\n",
       "\n",
       "    .dataframe thead th {\n",
       "        text-align: right;\n",
       "    }\n",
       "</style>\n",
       "<table border=\"1\" class=\"dataframe\">\n",
       "  <thead>\n",
       "    <tr style=\"text-align: right;\">\n",
       "      <th></th>\n",
       "      <th>ENET</th>\n",
       "      <th>kRidge</th>\n",
       "      <th>GBRF</th>\n",
       "      <th>ffNN</th>\n",
       "      <th>GPR</th>\n",
       "      <th>DGN</th>\n",
       "    </tr>\n",
       "  </thead>\n",
       "  <tbody>\n",
       "    <tr>\n",
       "      <th>W1</th>\n",
       "      <td>7.021489</td>\n",
       "      <td>7.021269</td>\n",
       "      <td>7.069638</td>\n",
       "      <td>8.001986</td>\n",
       "      <td>7.013702e+00</td>\n",
       "      <td>3.766748</td>\n",
       "    </tr>\n",
       "    <tr>\n",
       "      <th>Mean</th>\n",
       "      <td>1.020414</td>\n",
       "      <td>1.013535</td>\n",
       "      <td>1.095907</td>\n",
       "      <td>0.081151</td>\n",
       "      <td>1.809104e-10</td>\n",
       "      <td>0.142840</td>\n",
       "    </tr>\n",
       "    <tr>\n",
       "      <th>Var</th>\n",
       "      <td>6.283783</td>\n",
       "      <td>6.283783</td>\n",
       "      <td>6.283783</td>\n",
       "      <td>6.283783</td>\n",
       "      <td>6.902197e+00</td>\n",
       "      <td>5.800428</td>\n",
       "    </tr>\n",
       "    <tr>\n",
       "      <th>Skewness</th>\n",
       "      <td>0.000000</td>\n",
       "      <td>0.000000</td>\n",
       "      <td>0.000000</td>\n",
       "      <td>0.000000</td>\n",
       "      <td>0.000000e+00</td>\n",
       "      <td>0.000000</td>\n",
       "    </tr>\n",
       "    <tr>\n",
       "      <th>Ex_Kur</th>\n",
       "      <td>6.000000</td>\n",
       "      <td>6.000000</td>\n",
       "      <td>6.000000</td>\n",
       "      <td>6.000000</td>\n",
       "      <td>3.000000e+00</td>\n",
       "      <td>3.000000</td>\n",
       "    </tr>\n",
       "  </tbody>\n",
       "</table>\n",
       "</div>"
      ],
      "text/plain": [
       "              ENET    kRidge      GBRF      ffNN           GPR       DGN\n",
       "W1        7.021489  7.021269  7.069638  8.001986  7.013702e+00  3.766748\n",
       "Mean      1.020414  1.013535  1.095907  0.081151  1.809104e-10  0.142840\n",
       "Var       6.283783  6.283783  6.283783  6.283783  6.902197e+00  5.800428\n",
       "Skewness  0.000000  0.000000  0.000000  0.000000  0.000000e+00  0.000000\n",
       "Ex_Kur    6.000000  6.000000  6.000000  6.000000  3.000000e+00  3.000000"
      ]
     },
     "execution_count": 14,
     "metadata": {},
     "output_type": "execute_result"
    }
   ],
   "source": [
    "print(Summary_pred_Qual_models)\n",
    "Summary_pred_Qual_models"
   ]
  },
  {
   "cell_type": "markdown",
   "metadata": {},
   "source": [
    "#### Testing Model Facts"
   ]
  },
  {
   "cell_type": "code",
   "execution_count": 15,
   "metadata": {},
   "outputs": [
    {
     "name": "stdout",
     "output_type": "stream",
     "text": [
      "              ENET    kRidge      GBRF      ffNN       GPR       DGN\n",
      "W1        7.105493  7.105166  7.016260  7.980921  6.690707  3.795442\n",
      "Mean      1.020126  1.013256  1.020126  0.084717  0.323211  0.139606\n",
      "Var       6.902197  6.902197  6.902197  6.902197  6.262435  5.184994\n",
      "Skewness  0.000000  0.000000  0.000000  0.000000  0.000000  0.000000\n",
      "Ex_Kur    6.000000  6.000000  6.000000  6.000000  3.000000  3.000000\n"
     ]
    }
   ],
   "source": [
    "print(Summary_pred_Qual_models_test)"
   ]
  },
  {
   "cell_type": "markdown",
   "metadata": {},
   "source": [
    "#### Model Complexitie(s)"
   ]
  },
  {
   "cell_type": "code",
   "execution_count": 16,
   "metadata": {},
   "outputs": [
    {
     "name": "stdout",
     "output_type": "stream",
     "text": [
      "        N_Params    T_Time  T_Test/T_test-MC\n",
      "ENET         6.0  4.923806          0.013151\n",
      "GBRF     67602.0  0.693986          0.185806\n",
      "kRidge      12.0  0.720242          0.110333\n",
      "ffNN       101.0  5.177638          9.438169\n",
      "GPR          0.0  0.637798          0.147512\n",
      "DGN        101.0  2.902678         12.750802\n"
     ]
    }
   ],
   "source": [
    "print(Summary_Complexity_models)"
   ]
  },
  {
   "cell_type": "markdown",
   "metadata": {},
   "source": [
    "## Mean+Variance Based Model(s)"
   ]
  },
  {
   "cell_type": "code",
   "execution_count": 17,
   "metadata": {},
   "outputs": [
    {
     "name": "stdout",
     "output_type": "stream",
     "text": [
      "Deep Feature Builder - Ready\n",
      "Deep Feature Builder - Ready\n",
      "Fitting 2 folds for each of 1 candidates, totalling 2 fits\n"
     ]
    },
    {
     "name": "stderr",
     "output_type": "stream",
     "text": [
      "[Parallel(n_jobs=4)]: Using backend LokyBackend with 4 concurrent workers.\n",
      "[Parallel(n_jobs=4)]: Done   2 out of   2 | elapsed:    0.6s remaining:    0.0s\n",
      "[Parallel(n_jobs=4)]: Done   2 out of   2 | elapsed:    0.6s finished\n"
     ]
    },
    {
     "name": "stdout",
     "output_type": "stream",
     "text": [
      "===============================\n",
      "Training Deep Gaussian Network!\n",
      "===============================\n",
      "Fitting 2 folds for each of 1 candidates, totalling 2 fits\n"
     ]
    },
    {
     "name": "stderr",
     "output_type": "stream",
     "text": [
      "[Parallel(n_jobs=4)]: Using backend LokyBackend with 4 concurrent workers.\n",
      "[Parallel(n_jobs=4)]: Done   2 out of   2 | elapsed:    1.2s remaining:    0.0s\n",
      "[Parallel(n_jobs=4)]: Done   2 out of   2 | elapsed:    1.2s finished\n"
     ]
    },
    {
     "name": "stdout",
     "output_type": "stream",
     "text": [
      "Epoch 1/50\n",
      "4/4 [==============================] - 0s 2ms/step - loss: 3.5222 - mse: 22.1778 - mae: 3.5222 - mape: 94.2071\n",
      "Epoch 2/50\n",
      "4/4 [==============================] - 0s 5ms/step - loss: 3.5210 - mse: 22.1689 - mae: 3.5210 - mape: 94.1095\n",
      "Epoch 3/50\n",
      "4/4 [==============================] - 0s 4ms/step - loss: 3.5197 - mse: 22.1599 - mae: 3.5197 - mape: 93.9840\n",
      "Epoch 4/50\n",
      "4/4 [==============================] - 0s 2ms/step - loss: 3.5185 - mse: 22.1512 - mae: 3.5185 - mape: 93.8729\n",
      "Epoch 5/50\n",
      "4/4 [==============================] - 0s 1ms/step - loss: 3.5173 - mse: 22.1425 - mae: 3.5173 - mape: 93.7608\n",
      "Epoch 6/50\n",
      "4/4 [==============================] - 0s 4ms/step - loss: 3.5160 - mse: 22.1337 - mae: 3.5160 - mape: 93.6646\n",
      "Epoch 7/50\n",
      "4/4 [==============================] - 0s 5ms/step - loss: 3.5148 - mse: 22.1249 - mae: 3.5148 - mape: 93.5332\n",
      "Epoch 8/50\n",
      "4/4 [==============================] - 0s 3ms/step - loss: 3.5136 - mse: 22.1161 - mae: 3.5136 - mape: 93.4315\n",
      "Epoch 9/50\n",
      "4/4 [==============================] - 0s 3ms/step - loss: 3.5123 - mse: 22.1074 - mae: 3.5123 - mape: 93.3343\n",
      "Epoch 10/50\n",
      "4/4 [==============================] - 0s 3ms/step - loss: 3.5111 - mse: 22.0986 - mae: 3.5111 - mape: 93.2232\n",
      "Epoch 11/50\n",
      "4/4 [==============================] - 0s 3ms/step - loss: 3.5099 - mse: 22.0898 - mae: 3.5099 - mape: 93.0977\n",
      "Epoch 12/50\n",
      "4/4 [==============================] - 0s 2ms/step - loss: 3.5086 - mse: 22.0810 - mae: 3.5086 - mape: 92.9933\n",
      "Epoch 13/50\n",
      "4/4 [==============================] - 0s 3ms/step - loss: 3.5074 - mse: 22.0721 - mae: 3.5074 - mape: 92.8889\n",
      "Epoch 14/50\n",
      "4/4 [==============================] - 0s 3ms/step - loss: 3.5061 - mse: 22.0630 - mae: 3.5061 - mape: 92.7689\n",
      "Epoch 15/50\n",
      "4/4 [==============================] - 0s 3ms/step - loss: 3.5049 - mse: 22.0543 - mae: 3.5049 - mape: 92.6547\n",
      "Epoch 16/50\n",
      "4/4 [==============================] - 0s 4ms/step - loss: 3.5036 - mse: 22.0451 - mae: 3.5036 - mape: 92.5509\n",
      "Epoch 17/50\n",
      "4/4 [==============================] - 0s 2ms/step - loss: 3.5023 - mse: 22.0362 - mae: 3.5023 - mape: 92.4290\n",
      "Epoch 18/50\n",
      "4/4 [==============================] - 0s 2ms/step - loss: 3.5010 - mse: 22.0270 - mae: 3.5010 - mape: 92.3079\n",
      "Epoch 19/50\n",
      "4/4 [==============================] - 0s 4ms/step - loss: 3.4998 - mse: 22.0177 - mae: 3.4998 - mape: 92.1914\n",
      "Epoch 20/50\n",
      "4/4 [==============================] - 0s 3ms/step - loss: 3.4985 - mse: 22.0087 - mae: 3.4985 - mape: 92.0669\n",
      "Epoch 21/50\n",
      "4/4 [==============================] - 0s 3ms/step - loss: 3.4971 - mse: 21.9993 - mae: 3.4971 - mape: 91.9716\n",
      "Epoch 22/50\n",
      "4/4 [==============================] - 0s 2ms/step - loss: 3.4958 - mse: 21.9898 - mae: 3.4958 - mape: 91.8375\n",
      "Epoch 23/50\n",
      "4/4 [==============================] - 0s 3ms/step - loss: 3.4945 - mse: 21.9804 - mae: 3.4945 - mape: 91.7277\n",
      "Epoch 24/50\n",
      "4/4 [==============================] - 0s 4ms/step - loss: 3.4932 - mse: 21.9708 - mae: 3.4932 - mape: 91.6062\n",
      "Epoch 25/50\n",
      "4/4 [==============================] - 0s 3ms/step - loss: 3.4918 - mse: 21.9611 - mae: 3.4918 - mape: 91.4926\n",
      "Epoch 26/50\n",
      "4/4 [==============================] - 0s 3ms/step - loss: 3.4905 - mse: 21.9516 - mae: 3.4905 - mape: 91.3541\n",
      "Epoch 27/50\n",
      "4/4 [==============================] - 0s 3ms/step - loss: 3.4891 - mse: 21.9416 - mae: 3.4891 - mape: 91.2310\n",
      "Epoch 28/50\n",
      "4/4 [==============================] - 0s 4ms/step - loss: 3.4877 - mse: 21.9318 - mae: 3.4877 - mape: 91.1165\n",
      "Epoch 29/50\n",
      "4/4 [==============================] - 0s 4ms/step - loss: 3.4863 - mse: 21.9217 - mae: 3.4863 - mape: 90.9997\n",
      "Epoch 30/50\n",
      "4/4 [==============================] - 0s 4ms/step - loss: 3.4849 - mse: 21.9116 - mae: 3.4849 - mape: 90.8646\n",
      "Epoch 31/50\n",
      "4/4 [==============================] - 0s 2ms/step - loss: 3.4834 - mse: 21.9014 - mae: 3.4834 - mape: 90.7283\n",
      "Epoch 32/50\n",
      "4/4 [==============================] - 0s 2ms/step - loss: 3.4820 - mse: 21.8911 - mae: 3.4820 - mape: 90.5978\n",
      "Epoch 33/50\n",
      "4/4 [==============================] - 0s 3ms/step - loss: 3.4805 - mse: 21.8808 - mae: 3.4805 - mape: 90.4854\n",
      "Epoch 34/50\n",
      "4/4 [==============================] - 0s 3ms/step - loss: 3.4791 - mse: 21.8702 - mae: 3.4791 - mape: 90.3531\n",
      "Epoch 35/50\n",
      "4/4 [==============================] - 0s 2ms/step - loss: 3.4776 - mse: 21.8594 - mae: 3.4776 - mape: 90.2030\n",
      "Epoch 36/50\n",
      "4/4 [==============================] - 0s 2ms/step - loss: 3.4761 - mse: 21.8488 - mae: 3.4761 - mape: 90.0783\n",
      "Epoch 37/50\n",
      "4/4 [==============================] - 0s 2ms/step - loss: 3.4746 - mse: 21.8379 - mae: 3.4746 - mape: 90.0031\n",
      "Epoch 38/50\n",
      "4/4 [==============================] - 0s 3ms/step - loss: 3.4730 - mse: 21.8269 - mae: 3.4730 - mape: 89.9412\n",
      "Epoch 39/50\n",
      "4/4 [==============================] - 0s 2ms/step - loss: 3.4715 - mse: 21.8158 - mae: 3.4715 - mape: 89.8969\n",
      "Epoch 40/50\n",
      "4/4 [==============================] - 0s 3ms/step - loss: 3.4700 - mse: 21.8044 - mae: 3.4700 - mape: 89.8364\n",
      "Epoch 41/50\n",
      "4/4 [==============================] - 0s 3ms/step - loss: 3.4684 - mse: 21.7932 - mae: 3.4684 - mape: 89.7502\n",
      "Epoch 42/50\n",
      "4/4 [==============================] - 0s 3ms/step - loss: 3.4668 - mse: 21.7817 - mae: 3.4668 - mape: 89.7046\n",
      "Epoch 43/50\n",
      "4/4 [==============================] - 0s 3ms/step - loss: 3.4652 - mse: 21.7699 - mae: 3.4652 - mape: 89.6211\n",
      "Epoch 44/50\n",
      "4/4 [==============================] - 0s 2ms/step - loss: 3.4636 - mse: 21.7581 - mae: 3.4636 - mape: 89.5819\n",
      "Epoch 45/50\n",
      "4/4 [==============================] - 0s 2ms/step - loss: 3.4619 - mse: 21.7463 - mae: 3.4619 - mape: 89.4832\n",
      "Epoch 46/50\n",
      "4/4 [==============================] - 0s 2ms/step - loss: 3.4603 - mse: 21.7343 - mae: 3.4603 - mape: 89.4384\n",
      "Epoch 47/50\n",
      "4/4 [==============================] - 0s 2ms/step - loss: 3.4586 - mse: 21.7220 - mae: 3.4586 - mape: 89.3675\n",
      "Epoch 48/50\n",
      "4/4 [==============================] - 0s 2ms/step - loss: 3.4569 - mse: 21.7096 - mae: 3.4569 - mape: 89.2884\n",
      "Epoch 49/50\n",
      "4/4 [==============================] - 0s 2ms/step - loss: 3.4551 - mse: 21.6973 - mae: 3.4551 - mape: 89.2203\n",
      "Epoch 50/50\n",
      "4/4 [==============================] - 0s 1ms/step - loss: 3.4534 - mse: 21.6841 - mae: 3.4534 - mape: 89.1476\n",
      "4/4 [==============================] - 0s 881us/step\n",
      "1/1 [==============================] - 0s 809us/step\n"
     ]
    },
    {
     "name": "stderr",
     "output_type": "stream",
     "text": [
      "\r",
      "  0%|          | 0/100 [00:00<?, ?it/s]"
     ]
    },
    {
     "name": "stdout",
     "output_type": "stream",
     "text": [
      "====================================\n",
      "Training Deep Gaussian Network!: END\n",
      "====================================\n",
      "#---------------------------------------#\n",
      " Get Training Errors for: Gaussian Models\n",
      "#---------------------------------------#\n"
     ]
    },
    {
     "name": "stderr",
     "output_type": "stream",
     "text": [
      "100%|██████████| 100/100 [00:00<00:00, 1906.49it/s]\n",
      "100%|██████████| 20/20 [00:00<00:00, 1957.85it/s]"
     ]
    },
    {
     "name": "stdout",
     "output_type": "stream",
     "text": [
      "#-------------------------#\n",
      " Get Training Error(s): END\n",
      "#-------------------------#\n",
      "#---------------------------------------#\n",
      " Get Testing Errors for: Gaussian Models\n",
      "#---------------------------------------#\n",
      "#------------------------#\n",
      " Get Testing Error(s): END\n",
      "#------------------------#\n",
      "-------------------------------------------------\n",
      "Updating Performance Metrics Dataframe and Saved!\n",
      "-------------------------------------------------\n",
      "------------------------------------------------\n",
      "Updated Performance Metrics Dataframe and Saved!\n",
      "------------------------------------------------\n",
      "--------------------------------------------\n",
      "Computing and Updating Complexity Metrics...\n",
      "--------------------------------------------\n",
      "-----------------------------------------------\n",
      "Updated Complexity Metrics Dataframe and Saved!\n",
      "-----------------------------------------------\n"
     ]
    },
    {
     "name": "stderr",
     "output_type": "stream",
     "text": [
      "\n"
     ]
    }
   ],
   "source": [
    "# %run Benchmarks_Model_Builder_Mean_Var.ipynb\n",
    "exec(open('Benchmarks_Model_Builder_Mean_Var.py').read())"
   ]
  },
  {
   "cell_type": "code",
   "execution_count": 18,
   "metadata": {},
   "outputs": [
    {
     "name": "stdout",
     "output_type": "stream",
     "text": [
      "Prediction Quality (Updated)\n",
      "              ENET    kRidge      GBRF      ffNN       GPR       DGN\n",
      "W1        7.105493  7.105166  7.016260  7.980921  6.703647  4.071372\n",
      "Mean      1.020126  1.013256  1.020126  0.084717  0.323211  0.084568\n",
      "Var       6.902197  6.902197  6.902197  6.902197  6.262435  5.243837\n",
      "Skewness  0.000000  0.000000  0.000000  0.000000  0.000000  0.000000\n",
      "Ex_Kur    6.000000  6.000000  6.000000  6.000000  3.000000  3.000000\n"
     ]
    }
   ],
   "source": [
    "print(\"Prediction Quality (Updated)\")\n",
    "print(Summary_pred_Qual_models_test)"
   ]
  },
  {
   "cell_type": "code",
   "execution_count": 19,
   "metadata": {},
   "outputs": [
    {
     "name": "stdout",
     "output_type": "stream",
     "text": [
      "Model Complexities Quality (Updated)\n",
      "        N_Params    T_Time  T_Test/T_test-MC\n",
      "ENET         6.0  4.923806          0.013151\n",
      "GBRF     67602.0  0.693986          0.185806\n",
      "kRidge      12.0  0.720242          0.110333\n",
      "ffNN       101.0  5.177638          9.438169\n",
      "GPR          0.0  1.194790          0.168509\n",
      "DGN        101.0  3.119837          9.444856\n"
     ]
    }
   ],
   "source": [
    "print(\"Model Complexities Quality (Updated)\")\n",
    "print(Summary_Complexity_models)"
   ]
  },
  {
   "cell_type": "markdown",
   "metadata": {},
   "source": [
    "## Get Final Outputs"
   ]
  },
  {
   "cell_type": "code",
   "execution_count": 45,
   "metadata": {},
   "outputs": [
    {
     "name": "stdout",
     "output_type": "stream",
     "text": [
      "-------------------------------------------------\n",
      "Updating Performance Metrics Dataframe and Saved!\n",
      "-------------------------------------------------\n",
      "------------------------------------------------\n",
      "Updated Performance Metrics Dataframe and Saved!\n",
      "------------------------------------------------\n"
     ]
    }
   ],
   "source": [
    "# %run WrapUp_Summarizer.ipynb\n",
    "exec(open('WrapUp_Summarizer.py').read())"
   ]
  },
  {
   "cell_type": "markdown",
   "metadata": {},
   "source": [
    "# Result(s)"
   ]
  },
  {
   "cell_type": "markdown",
   "metadata": {},
   "source": [
    "#### Chosen Kernel for GPR"
   ]
  },
  {
   "cell_type": "code",
   "execution_count": 46,
   "metadata": {},
   "outputs": [
    {
     "name": "stdout",
     "output_type": "stream",
     "text": [
      "Kernel_Used_in_GPR: RBF(length_scale=1)\n"
     ]
    }
   ],
   "source": [
    "print(\"Kernel_Used_in_GPR: \"+str(GPR_trash.kernel))"
   ]
  },
  {
   "cell_type": "markdown",
   "metadata": {},
   "source": [
    "## Model Complexities"
   ]
  },
  {
   "cell_type": "code",
   "execution_count": 47,
   "metadata": {},
   "outputs": [
    {
     "name": "stdout",
     "output_type": "stream",
     "text": [
      "                       ENET       GBRF     kRidge       ffNN        GPR  \\\n",
      "N_Params         6.0000E+00 6.7602E+04 1.2000E+01 1.0100E+02 0.0000E+00   \n",
      "T_Time           4.9238E+00 6.9399E-01 7.2024E-01 5.1776E+00 1.1948E+00   \n",
      "T_Test/T_test-MC 1.3151E-02 1.8581E-01 1.1033E-01 9.4382E+00 1.6851E-01   \n",
      "\n",
      "                        DGN        DNM  MC_Oracle  \n",
      "N_Params         1.0100E+02 1.2000E+04 1.2000E+04  \n",
      "T_Time           3.1198E+00 5.3482E-03 5.3482E-03  \n",
      "T_Test/T_test-MC 9.4449E+00 1.0000E+00 1.0000E+00  \n"
     ]
    },
    {
     "data": {
      "text/html": [
       "<div>\n",
       "<style scoped>\n",
       "    .dataframe tbody tr th:only-of-type {\n",
       "        vertical-align: middle;\n",
       "    }\n",
       "\n",
       "    .dataframe tbody tr th {\n",
       "        vertical-align: top;\n",
       "    }\n",
       "\n",
       "    .dataframe thead th {\n",
       "        text-align: right;\n",
       "    }\n",
       "</style>\n",
       "<table border=\"1\" class=\"dataframe\">\n",
       "  <thead>\n",
       "    <tr style=\"text-align: right;\">\n",
       "      <th></th>\n",
       "      <th>ENET</th>\n",
       "      <th>GBRF</th>\n",
       "      <th>kRidge</th>\n",
       "      <th>ffNN</th>\n",
       "      <th>GPR</th>\n",
       "      <th>DGN</th>\n",
       "      <th>DNM</th>\n",
       "      <th>MC_Oracle</th>\n",
       "    </tr>\n",
       "  </thead>\n",
       "  <tbody>\n",
       "    <tr>\n",
       "      <th>N_Params</th>\n",
       "      <td>6.0000E+00</td>\n",
       "      <td>6.7602E+04</td>\n",
       "      <td>1.2000E+01</td>\n",
       "      <td>1.0100E+02</td>\n",
       "      <td>0.0000E+00</td>\n",
       "      <td>1.0100E+02</td>\n",
       "      <td>1.2000E+04</td>\n",
       "      <td>1.2000E+04</td>\n",
       "    </tr>\n",
       "    <tr>\n",
       "      <th>T_Time</th>\n",
       "      <td>4.9238E+00</td>\n",
       "      <td>6.9399E-01</td>\n",
       "      <td>7.2024E-01</td>\n",
       "      <td>5.1776E+00</td>\n",
       "      <td>1.1948E+00</td>\n",
       "      <td>3.1198E+00</td>\n",
       "      <td>5.3482E-03</td>\n",
       "      <td>5.3482E-03</td>\n",
       "    </tr>\n",
       "    <tr>\n",
       "      <th>T_Test/T_test-MC</th>\n",
       "      <td>1.3151E-02</td>\n",
       "      <td>1.8581E-01</td>\n",
       "      <td>1.1033E-01</td>\n",
       "      <td>9.4382E+00</td>\n",
       "      <td>1.6851E-01</td>\n",
       "      <td>9.4449E+00</td>\n",
       "      <td>1.0000E+00</td>\n",
       "      <td>1.0000E+00</td>\n",
       "    </tr>\n",
       "  </tbody>\n",
       "</table>\n",
       "</div>"
      ],
      "text/plain": [
       "                       ENET       GBRF     kRidge       ffNN        GPR  \\\n",
       "N_Params         6.0000E+00 6.7602E+04 1.2000E+01 1.0100E+02 0.0000E+00   \n",
       "T_Time           4.9238E+00 6.9399E-01 7.2024E-01 5.1776E+00 1.1948E+00   \n",
       "T_Test/T_test-MC 1.3151E-02 1.8581E-01 1.1033E-01 9.4382E+00 1.6851E-01   \n",
       "\n",
       "                        DGN        DNM  MC_Oracle  \n",
       "N_Params         1.0100E+02 1.2000E+04 1.2000E+04  \n",
       "T_Time           3.1198E+00 5.3482E-03 5.3482E-03  \n",
       "T_Test/T_test-MC 9.4449E+00 1.0000E+00 1.0000E+00  "
      ]
     },
     "execution_count": 47,
     "metadata": {},
     "output_type": "execute_result"
    }
   ],
   "source": [
    "print(Summary_Complexity_models)\n",
    "Summary_Complexity_models"
   ]
  },
  {
   "cell_type": "markdown",
   "metadata": {},
   "source": [
    "## Prediction Quality"
   ]
  },
  {
   "cell_type": "markdown",
   "metadata": {},
   "source": [
    "#### Training"
   ]
  },
  {
   "cell_type": "code",
   "execution_count": 48,
   "metadata": {},
   "outputs": [
    {
     "name": "stdout",
     "output_type": "stream",
     "text": [
      "               ENET     kRidge       GBRF       ffNN        GPR        DGN  \\\n",
      "W1       7.0215E+00 7.0213E+00 7.0696E+00 8.0020E+00 7.0137E+00 3.9793E+00   \n",
      "Mean     1.0204E+00 1.0135E+00 1.0959E+00 8.1151E-02 1.8091E-10 8.7635E-02   \n",
      "Var      6.2838E+00 6.2838E+00 6.2838E+00 6.2838E+00 6.9022E+00 5.8596E+00   \n",
      "Skewness 0.0000E+00 0.0000E+00 0.0000E+00 0.0000E+00 0.0000E+00 0.0000E+00   \n",
      "Ex_Kur   6.0000E+00 6.0000E+00 6.0000E+00 6.0000E+00 3.0000E+00 3.0000E+00   \n",
      "\n",
      "          MC-Oracle        DNM  \n",
      "W1       0.0000E+00 6.1491E-01  \n",
      "Mean     2.3797E-01 1.0902E+00  \n",
      "Var      1.3361E+00 1.4873E+00  \n",
      "Skewness 2.8985E-02 2.2883E-02  \n",
      "Ex_Kur   5.8400E+00 5.6647E+00  \n"
     ]
    },
    {
     "data": {
      "text/html": [
       "<div>\n",
       "<style scoped>\n",
       "    .dataframe tbody tr th:only-of-type {\n",
       "        vertical-align: middle;\n",
       "    }\n",
       "\n",
       "    .dataframe tbody tr th {\n",
       "        vertical-align: top;\n",
       "    }\n",
       "\n",
       "    .dataframe thead th {\n",
       "        text-align: right;\n",
       "    }\n",
       "</style>\n",
       "<table border=\"1\" class=\"dataframe\">\n",
       "  <thead>\n",
       "    <tr style=\"text-align: right;\">\n",
       "      <th></th>\n",
       "      <th>ENET</th>\n",
       "      <th>kRidge</th>\n",
       "      <th>GBRF</th>\n",
       "      <th>ffNN</th>\n",
       "      <th>GPR</th>\n",
       "      <th>DGN</th>\n",
       "      <th>MC-Oracle</th>\n",
       "      <th>DNM</th>\n",
       "    </tr>\n",
       "  </thead>\n",
       "  <tbody>\n",
       "    <tr>\n",
       "      <th>W1</th>\n",
       "      <td>7.0215E+00</td>\n",
       "      <td>7.0213E+00</td>\n",
       "      <td>7.0696E+00</td>\n",
       "      <td>8.0020E+00</td>\n",
       "      <td>7.0137E+00</td>\n",
       "      <td>3.9793E+00</td>\n",
       "      <td>0.0000E+00</td>\n",
       "      <td>6.1491E-01</td>\n",
       "    </tr>\n",
       "    <tr>\n",
       "      <th>Mean</th>\n",
       "      <td>1.0204E+00</td>\n",
       "      <td>1.0135E+00</td>\n",
       "      <td>1.0959E+00</td>\n",
       "      <td>8.1151E-02</td>\n",
       "      <td>1.8091E-10</td>\n",
       "      <td>8.7635E-02</td>\n",
       "      <td>2.3797E-01</td>\n",
       "      <td>1.0902E+00</td>\n",
       "    </tr>\n",
       "    <tr>\n",
       "      <th>Var</th>\n",
       "      <td>6.2838E+00</td>\n",
       "      <td>6.2838E+00</td>\n",
       "      <td>6.2838E+00</td>\n",
       "      <td>6.2838E+00</td>\n",
       "      <td>6.9022E+00</td>\n",
       "      <td>5.8596E+00</td>\n",
       "      <td>1.3361E+00</td>\n",
       "      <td>1.4873E+00</td>\n",
       "    </tr>\n",
       "    <tr>\n",
       "      <th>Skewness</th>\n",
       "      <td>0.0000E+00</td>\n",
       "      <td>0.0000E+00</td>\n",
       "      <td>0.0000E+00</td>\n",
       "      <td>0.0000E+00</td>\n",
       "      <td>0.0000E+00</td>\n",
       "      <td>0.0000E+00</td>\n",
       "      <td>2.8985E-02</td>\n",
       "      <td>2.2883E-02</td>\n",
       "    </tr>\n",
       "    <tr>\n",
       "      <th>Ex_Kur</th>\n",
       "      <td>6.0000E+00</td>\n",
       "      <td>6.0000E+00</td>\n",
       "      <td>6.0000E+00</td>\n",
       "      <td>6.0000E+00</td>\n",
       "      <td>3.0000E+00</td>\n",
       "      <td>3.0000E+00</td>\n",
       "      <td>5.8400E+00</td>\n",
       "      <td>5.6647E+00</td>\n",
       "    </tr>\n",
       "  </tbody>\n",
       "</table>\n",
       "</div>"
      ],
      "text/plain": [
       "               ENET     kRidge       GBRF       ffNN        GPR        DGN  \\\n",
       "W1       7.0215E+00 7.0213E+00 7.0696E+00 8.0020E+00 7.0137E+00 3.9793E+00   \n",
       "Mean     1.0204E+00 1.0135E+00 1.0959E+00 8.1151E-02 1.8091E-10 8.7635E-02   \n",
       "Var      6.2838E+00 6.2838E+00 6.2838E+00 6.2838E+00 6.9022E+00 5.8596E+00   \n",
       "Skewness 0.0000E+00 0.0000E+00 0.0000E+00 0.0000E+00 0.0000E+00 0.0000E+00   \n",
       "Ex_Kur   6.0000E+00 6.0000E+00 6.0000E+00 6.0000E+00 3.0000E+00 3.0000E+00   \n",
       "\n",
       "          MC-Oracle        DNM  \n",
       "W1       0.0000E+00 6.1491E-01  \n",
       "Mean     2.3797E-01 1.0902E+00  \n",
       "Var      1.3361E+00 1.4873E+00  \n",
       "Skewness 2.8985E-02 2.2883E-02  \n",
       "Ex_Kur   5.8400E+00 5.6647E+00  "
      ]
     },
     "execution_count": 48,
     "metadata": {},
     "output_type": "execute_result"
    }
   ],
   "source": [
    "print(PredictivePerformance_Metrics_Train)\n",
    "PredictivePerformance_Metrics_Train"
   ]
  },
  {
   "cell_type": "markdown",
   "metadata": {},
   "source": [
    "#### Test"
   ]
  },
  {
   "cell_type": "code",
   "execution_count": 49,
   "metadata": {},
   "outputs": [
    {
     "name": "stdout",
     "output_type": "stream",
     "text": [
      "               ENET     kRidge       GBRF       ffNN        GPR        DGN  \\\n",
      "W1       7.1055E+00 7.1052E+00 7.0163E+00 7.9809E+00 6.7036E+00 4.0714E+00   \n",
      "Mean     1.0201E+00 1.0133E+00 1.0201E+00 8.4717E-02 3.2321E-01 8.4568E-02   \n",
      "Var      6.9022E+00 6.9022E+00 6.9022E+00 6.9022E+00 6.2624E+00 5.2438E+00   \n",
      "Skewness 0.0000E+00 0.0000E+00 0.0000E+00 0.0000E+00 0.0000E+00 0.0000E+00   \n",
      "Ex_Kur   6.0000E+00 6.0000E+00 6.0000E+00 6.0000E+00 3.0000E+00 3.0000E+00   \n",
      "\n",
      "          MC-Oracle        DNM  \n",
      "W1       0.0000E+00 7.3832E-01  \n",
      "Mean     1.0175E+00 5.6005E-02  \n",
      "Var      6.2828E+00 5.0728E+00  \n",
      "Skewness 3.1887E-02 1.2417E-02  \n",
      "Ex_Kur   5.8452E+00 5.9878E+00  \n"
     ]
    },
    {
     "data": {
      "text/html": [
       "<div>\n",
       "<style scoped>\n",
       "    .dataframe tbody tr th:only-of-type {\n",
       "        vertical-align: middle;\n",
       "    }\n",
       "\n",
       "    .dataframe tbody tr th {\n",
       "        vertical-align: top;\n",
       "    }\n",
       "\n",
       "    .dataframe thead th {\n",
       "        text-align: right;\n",
       "    }\n",
       "</style>\n",
       "<table border=\"1\" class=\"dataframe\">\n",
       "  <thead>\n",
       "    <tr style=\"text-align: right;\">\n",
       "      <th></th>\n",
       "      <th>ENET</th>\n",
       "      <th>kRidge</th>\n",
       "      <th>GBRF</th>\n",
       "      <th>ffNN</th>\n",
       "      <th>GPR</th>\n",
       "      <th>DGN</th>\n",
       "      <th>MC-Oracle</th>\n",
       "      <th>DNM</th>\n",
       "    </tr>\n",
       "  </thead>\n",
       "  <tbody>\n",
       "    <tr>\n",
       "      <th>W1</th>\n",
       "      <td>7.1055E+00</td>\n",
       "      <td>7.1052E+00</td>\n",
       "      <td>7.0163E+00</td>\n",
       "      <td>7.9809E+00</td>\n",
       "      <td>6.7036E+00</td>\n",
       "      <td>4.0714E+00</td>\n",
       "      <td>0.0000E+00</td>\n",
       "      <td>7.3832E-01</td>\n",
       "    </tr>\n",
       "    <tr>\n",
       "      <th>Mean</th>\n",
       "      <td>1.0201E+00</td>\n",
       "      <td>1.0133E+00</td>\n",
       "      <td>1.0201E+00</td>\n",
       "      <td>8.4717E-02</td>\n",
       "      <td>3.2321E-01</td>\n",
       "      <td>8.4568E-02</td>\n",
       "      <td>1.0175E+00</td>\n",
       "      <td>5.6005E-02</td>\n",
       "    </tr>\n",
       "    <tr>\n",
       "      <th>Var</th>\n",
       "      <td>6.9022E+00</td>\n",
       "      <td>6.9022E+00</td>\n",
       "      <td>6.9022E+00</td>\n",
       "      <td>6.9022E+00</td>\n",
       "      <td>6.2624E+00</td>\n",
       "      <td>5.2438E+00</td>\n",
       "      <td>6.2828E+00</td>\n",
       "      <td>5.0728E+00</td>\n",
       "    </tr>\n",
       "    <tr>\n",
       "      <th>Skewness</th>\n",
       "      <td>0.0000E+00</td>\n",
       "      <td>0.0000E+00</td>\n",
       "      <td>0.0000E+00</td>\n",
       "      <td>0.0000E+00</td>\n",
       "      <td>0.0000E+00</td>\n",
       "      <td>0.0000E+00</td>\n",
       "      <td>3.1887E-02</td>\n",
       "      <td>1.2417E-02</td>\n",
       "    </tr>\n",
       "    <tr>\n",
       "      <th>Ex_Kur</th>\n",
       "      <td>6.0000E+00</td>\n",
       "      <td>6.0000E+00</td>\n",
       "      <td>6.0000E+00</td>\n",
       "      <td>6.0000E+00</td>\n",
       "      <td>3.0000E+00</td>\n",
       "      <td>3.0000E+00</td>\n",
       "      <td>5.8452E+00</td>\n",
       "      <td>5.9878E+00</td>\n",
       "    </tr>\n",
       "  </tbody>\n",
       "</table>\n",
       "</div>"
      ],
      "text/plain": [
       "               ENET     kRidge       GBRF       ffNN        GPR        DGN  \\\n",
       "W1       7.1055E+00 7.1052E+00 7.0163E+00 7.9809E+00 6.7036E+00 4.0714E+00   \n",
       "Mean     1.0201E+00 1.0133E+00 1.0201E+00 8.4717E-02 3.2321E-01 8.4568E-02   \n",
       "Var      6.9022E+00 6.9022E+00 6.9022E+00 6.9022E+00 6.2624E+00 5.2438E+00   \n",
       "Skewness 0.0000E+00 0.0000E+00 0.0000E+00 0.0000E+00 0.0000E+00 0.0000E+00   \n",
       "Ex_Kur   6.0000E+00 6.0000E+00 6.0000E+00 6.0000E+00 3.0000E+00 3.0000E+00   \n",
       "\n",
       "          MC-Oracle        DNM  \n",
       "W1       0.0000E+00 7.3832E-01  \n",
       "Mean     1.0175E+00 5.6005E-02  \n",
       "Var      6.2828E+00 5.0728E+00  \n",
       "Skewness 3.1887E-02 1.2417E-02  \n",
       "Ex_Kur   5.8452E+00 5.9878E+00  "
      ]
     },
     "execution_count": 49,
     "metadata": {},
     "output_type": "execute_result"
    }
   ],
   "source": [
    "print(PredictivePerformance_Metrics_Test)\n",
    "PredictivePerformance_Metrics_Test"
   ]
  },
  {
   "cell_type": "markdown",
   "metadata": {},
   "source": [
    "---\n",
    "# Fin\n",
    "---"
   ]
  },
  {
   "cell_type": "markdown",
   "metadata": {},
   "source": [
    "---"
   ]
  }
 ],
 "metadata": {
  "kernelspec": {
   "display_name": "Python 3",
   "language": "python",
   "name": "python3"
  },
  "language_info": {
   "codemirror_mode": {
    "name": "ipython",
    "version": 3
   },
   "file_extension": ".py",
   "mimetype": "text/x-python",
   "name": "python",
   "nbconvert_exporter": "python",
   "pygments_lexer": "ipython3",
   "version": "3.7.7"
  }
 },
 "nbformat": 4,
 "nbformat_minor": 2
}
