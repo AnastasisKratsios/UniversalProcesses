{
 "cells": [
  {
   "cell_type": "markdown",
   "metadata": {},
   "source": [
    "# Define Model(s)"
   ]
  },
  {
   "cell_type": "markdown",
   "metadata": {},
   "source": [
    "---"
   ]
  },
  {
   "cell_type": "code",
   "execution_count": 5,
   "metadata": {},
   "outputs": [
    {
     "name": "stderr",
     "output_type": "stream",
     "text": [
      " 40%|████      | 2/5 [00:00<00:00, 15.20it/s]"
     ]
    },
    {
     "name": "stdout",
     "output_type": "stream",
     "text": [
      "Deep Feature Builder - Ready\n",
      "Deep Classifier - Ready\n",
      "Deep Feature Builder - Ready\n",
      "---------------------------------------\n",
      "Beginning Data-Parsing/Simulation Phase\n",
      "---------------------------------------\n",
      "Deciding on Which Simulator/Parser To Load\n",
      "Setting/Defining: Internal Parameters\n",
      "Deciding on Which Type of Data to Get/Simulate\n",
      "Simulating Output Data for given input data\n"
     ]
    },
    {
     "name": "stderr",
     "output_type": "stream",
     "text": [
      "100%|██████████| 5/5 [00:00<00:00, 15.32it/s]\n",
      "100%|██████████| 2/2 [00:00<00:00, 15.55it/s]\n",
      "100%|██████████| 38/38 [00:00<00:00, 23260.88it/s]\n"
     ]
    },
    {
     "name": "stdout",
     "output_type": "stream",
     "text": [
      "----------------------------------\n",
      "Done Data-Parsing/Simulation Phase\n",
      "----------------------------------\n",
      "------------------------------\n",
      "Running script for main model!\n",
      "------------------------------\n",
      "Deep Feature Builder - Ready\n",
      "Deep Classifier - Ready\n",
      "==========================================\n",
      "Training Classifer Portion of Type-A Model\n",
      "==========================================\n",
      "Fitting 2 folds for each of 1 candidates, totalling 2 fits\n"
     ]
    },
    {
     "name": "stderr",
     "output_type": "stream",
     "text": [
      "[Parallel(n_jobs=4)]: Using backend LokyBackend with 4 concurrent workers.\n",
      "[Parallel(n_jobs=4)]: Done   2 out of   2 | elapsed:    4.5s remaining:    0.0s\n",
      "[Parallel(n_jobs=4)]: Done   2 out of   2 | elapsed:    4.5s finished\n"
     ]
    },
    {
     "name": "stdout",
     "output_type": "stream",
     "text": [
      "Epoch 1/5\n",
      "7/7 [==============================] - 0s 1ms/step - loss: 3.6185 - accuracy: 0.0200\n",
      "Epoch 2/5\n",
      "7/7 [==============================] - 0s 1ms/step - loss: 3.6086 - accuracy: 0.0200\n",
      "Epoch 3/5\n",
      "7/7 [==============================] - 0s 1ms/step - loss: 3.6013 - accuracy: 0.0200\n",
      "Epoch 4/5\n",
      "7/7 [==============================] - 0s 2ms/step - loss: 3.5956 - accuracy: 0.0200\n",
      "Epoch 5/5\n",
      "7/7 [==============================] - 0s 1ms/step - loss: 3.5890 - accuracy: 0.0200\n",
      "7/7 [==============================] - 0s 1ms/step\n",
      "3/3 [==============================] - 0s 1ms/step\n"
     ]
    },
    {
     "name": "stderr",
     "output_type": "stream",
     "text": [
      "  0%|          | 0/50 [00:00<?, ?it/s]"
     ]
    },
    {
     "name": "stdout",
     "output_type": "stream",
     "text": [
      "===============================================\n",
      "Training Classifer Portion of Type Model: Done!\n",
      "===============================================\n",
      "#--------------------#\n",
      " Get Training Error(s)\n",
      "#--------------------#\n"
     ]
    },
    {
     "name": "stderr",
     "output_type": "stream",
     "text": [
      "100%|██████████| 50/50 [00:03<00:00, 14.99it/s]\n",
      "  5%|▌         | 1/20 [00:00<00:01,  9.81it/s]"
     ]
    },
    {
     "name": "stdout",
     "output_type": "stream",
     "text": [
      "#-------------------------#\n",
      " Get Training Error(s): END\n",
      "#-------------------------#\n",
      "#----------------#\n",
      " Get Test Error(s)\n",
      "#----------------#\n"
     ]
    },
    {
     "name": "stderr",
     "output_type": "stream",
     "text": [
      "100%|██████████| 20/20 [00:02<00:00,  9.21it/s]"
     ]
    },
    {
     "name": "stdout",
     "output_type": "stream",
     "text": [
      "#------------------------#\n",
      " Get Testing Error(s): END\n",
      "#------------------------#\n",
      "                                      DNM  MC-Oracle\n",
      "W1-95L                           2.277640   0.000000\n",
      "W1                               2.699185   0.000000\n",
      "W1-95R                           3.145292   0.000000\n",
      "M-95L                            2.308499   2.242574\n",
      "M                                2.886287   2.886287\n",
      "M-95R                            3.530251   3.445418\n",
      "N_Par                          468.000000   0.000000\n",
      "Train_Time                      10.952003   0.459962\n",
      "Test_Time/MC-Oracle_Test_Time    0.382038   1.000000\n",
      "------------------------------------\n",
      "Done: Running script for main model!\n",
      "------------------------------------\n"
     ]
    },
    {
     "name": "stderr",
     "output_type": "stream",
     "text": [
      "\n"
     ]
    }
   ],
   "source": [
    "# ##### DEGUBBING MENU:\n",
    "\n",
    "\n",
    "# trial_run = True\n",
    "# N_train_size= 5\n",
    "# train_test_ratio = .5\n",
    "# N_Monte_Carlo_Samples = 100\n",
    "# # # Random DNN\n",
    "# # f_unknown_mode = \"Heteroskedastic_NonLinear_Regression\"\n",
    "\n",
    "# # # Random DNN internal noise\n",
    "# # # f_unknown_mode = \"DNN_with_Random_Weights\"\n",
    "# Depth_Bayesian_DNN = 2\n",
    "# width = 50\n",
    "\n",
    "# # # Random Dropout applied to trained DNN\n",
    "# # f_unknown_mode = \"DNN_with_Bayesian_Dropout\"\n",
    "# Dropout_rate = 0.1\n",
    "\n",
    "# # GD with Randomized Input\n",
    "# # f_unknown_mode = \"GD_with_randomized_input\"\n",
    "# GD_epochs = 100\n",
    "\n",
    "# # SDE with fractional Driver\n",
    "# f_unknown_mode = \"Rough_SDE\"\n",
    "# N_Euler_Steps = 10**1\n",
    "# Hurst_Exponent = 0.5\n",
    "# problem_dim = 3\n",
    "\n",
    "# # Hyper-parameters of Cover\n",
    "# delta = 0.01\n",
    "# Proportion_per_cluster = .75\n",
    "\n",
    "# # %run Loader.ipynb\n",
    "# exec(open('Loader.py').read())\n",
    "# # Load Packages/Modules\n",
    "# exec(open('Init_Dump.py').read())\n",
    "# import time as time #<- Note sure why...but its always seems to need 'its own special loading...'\n",
    "\n",
    "# # %run Data_Simulator_and_Parser.ipynb\n",
    "# exec(open('Data_Simulator_and_Parser.py').read())\n",
    "\n",
    "# print(\"------------------------------\")\n",
    "# print(\"Running script for main model!\")\n",
    "# print(\"------------------------------\")\n",
    "# # %run Universal_Measure_Valued_Networks_Backend.ipynb\n",
    "# exec(open('Universal_Measure_Valued_Networks_Backend.py').read())\n",
    "\n",
    "# print(\"------------------------------------\")\n",
    "# print(\"Done: Running script for main model!\")\n",
    "# print(\"------------------------------------\")"
   ]
  },
  {
   "cell_type": "markdown",
   "metadata": {},
   "source": [
    "## Elastic Net Regressor"
   ]
  },
  {
   "cell_type": "code",
   "execution_count": 6,
   "metadata": {},
   "outputs": [],
   "source": [
    "#=====================#\n",
    "# Elastic Net Version #\n",
    "#=====================#\n",
    "# Block warnings that spam when performing coordinate descent (by default) in 1-d.\n",
    "import warnings\n",
    "from sklearn.linear_model import ElasticNetCV\n",
    "warnings.filterwarnings(\"ignore\")\n",
    "# Initialize Elastic Net Regularization Model\n",
    "ENET_reg = ElasticNetCV(cv=5, random_state=0, alphas = np.linspace(0,(10**2),(10**2)),\n",
    "                           l1_ratio=np.linspace(0,1,(10**2)))"
   ]
  },
  {
   "cell_type": "markdown",
   "metadata": {},
   "source": [
    "## ffNN Builder"
   ]
  },
  {
   "cell_type": "code",
   "execution_count": 7,
   "metadata": {},
   "outputs": [
    {
     "name": "stdout",
     "output_type": "stream",
     "text": [
      "Deep Feature Builder - Ready\n"
     ]
    }
   ],
   "source": [
    "def get_ffNN(height, depth, learning_rate, input_dim, output_dim):\n",
    "    #----------------------------#\n",
    "    # Maximally Interacting Layer #\n",
    "    #-----------------------------#\n",
    "    # Initialize Inputs\n",
    "    input_layer = tf.keras.Input(shape=(input_dim,))\n",
    "   \n",
    "    \n",
    "    #------------------#\n",
    "    #   Core Layers    #\n",
    "    #------------------#\n",
    "    core_layers = fullyConnected_Dense(height)(input_layer)\n",
    "    # Activation\n",
    "    core_layers = tf.nn.swish(core_layers)\n",
    "    # Train additional Depth?\n",
    "    if depth>1:\n",
    "        # Add additional deep layer(s)\n",
    "        for depth_i in range(1,depth):\n",
    "            core_layers = fullyConnected_Dense(height)(core_layers)\n",
    "            # Activation\n",
    "            core_layers = tf.nn.swish(core_layers)\n",
    "    \n",
    "    #------------------#\n",
    "    #  Readout Layers  #\n",
    "    #------------------# \n",
    "    # Affine (Readout) Layer (Dense Fully Connected)\n",
    "    output_layers = fullyConnected_Dense(output_dim)(core_layers)  \n",
    "    # Define Input/Output Relationship (Arch.)\n",
    "    trainable_layers_model = tf.keras.Model(input_layer, output_layers)\n",
    "    \n",
    "    \n",
    "    #----------------------------------#\n",
    "    # Define Optimizer & Compile Archs.\n",
    "    #----------------------------------#\n",
    "    opt = Adam(lr=learning_rate)\n",
    "    trainable_layers_model.compile(optimizer=opt, loss=\"mae\", metrics=[\"mse\", \"mae\", \"mape\"])\n",
    "\n",
    "    return trainable_layers_model\n",
    "\n",
    "\n",
    "\n",
    "def build_ffNN(n_folds , n_jobs, n_iter, param_grid_in, X_train, y_train,X_test):\n",
    "    # Update Dictionary\n",
    "    param_grid_in_internal = param_grid_in\n",
    "    param_grid_in_internal['input_dim'] = [(X_train.shape[1])]\n",
    "    \n",
    "    # Deep Feature Network\n",
    "    ffNN_CV = tf.keras.wrappers.scikit_learn.KerasRegressor(build_fn=get_ffNN, \n",
    "                                                            verbose=True)\n",
    "    \n",
    "    # Randomized CV\n",
    "    ffNN_CVer = RandomizedSearchCV(estimator=ffNN_CV, \n",
    "                                    n_jobs=n_jobs,\n",
    "                                    cv=KFold(n_folds, random_state=2020, shuffle=True),\n",
    "                                    param_distributions=param_grid_in_internal,\n",
    "                                    n_iter=n_iter,\n",
    "                                    return_train_score=True,\n",
    "                                    random_state=2020,\n",
    "                                    verbose=10)\n",
    "    \n",
    "    # Fit Model #\n",
    "    #-----------#\n",
    "    ffNN_CVer.fit(X_train,y_train)\n",
    "\n",
    "    # Write Predictions #\n",
    "    #-------------------#\n",
    "    y_hat_train = ffNN_CVer.predict(X_train)\n",
    "    \n",
    "    eval_time_ffNN = time.time()\n",
    "    y_hat_test = ffNN_CVer.predict(X_test)\n",
    "    eval_time_ffNN = time.time() - eval_time_ffNN\n",
    "    \n",
    "    # Counter number of parameters #\n",
    "    #------------------------------#\n",
    "    # Extract Best Model\n",
    "    best_model = ffNN_CVer.best_estimator_\n",
    "    # Count Number of Parameters\n",
    "    N_params_best_ffNN = np.sum([np.prod(v.get_shape().as_list()) for v in best_model.model.trainable_variables])\n",
    "    \n",
    "    \n",
    "    # Return Values #\n",
    "    #---------------#\n",
    "    return y_hat_train, y_hat_test, N_params_best_ffNN, eval_time_ffNN\n",
    "\n",
    "# Update User\n",
    "#-------------#\n",
    "print('Deep Feature Builder - Ready')\n"
   ]
  },
  {
   "cell_type": "markdown",
   "metadata": {},
   "source": [
    "# Gradient-Boosted Random Forest Regressor"
   ]
  },
  {
   "cell_type": "code",
   "execution_count": 8,
   "metadata": {},
   "outputs": [],
   "source": [
    "def get_GBRF(X_train,X_test,y_train):\n",
    "\n",
    "    # Run Random Forest Util\n",
    "    rand_forest_model_grad_boosted = GradientBoostingRegressor()\n",
    "\n",
    "    # Grid-Search CV\n",
    "    Random_Forest_GridSearch = RandomizedSearchCV(estimator = rand_forest_model_grad_boosted,\n",
    "                                                  n_iter=n_iter_trees,\n",
    "                                                  cv=KFold(CV_folds, random_state=2020, shuffle=True),\n",
    "                                                  param_distributions=Rand_Forest_Grid,\n",
    "                                                  return_train_score=True,\n",
    "                                                  random_state=2020,\n",
    "                                                  verbose=10,\n",
    "                                                  n_jobs=n_jobs)\n",
    "\n",
    "    random_forest_trained = Random_Forest_GridSearch.fit(X_train,y_train)\n",
    "    random_forest_trained = random_forest_trained.best_estimator_\n",
    "\n",
    "    #--------------------------------------------------#\n",
    "    # Write: Model, Results, and Best Hyper-Parameters #\n",
    "    #--------------------------------------------------#\n",
    "\n",
    "    # Save Model\n",
    "    # pickle.dump(random_forest_trained, open('./outputs/models/Gradient_Boosted_Tree/Gradient_Boosted_Tree_Best.pkl','wb'))\n",
    "\n",
    "    # Save Readings\n",
    "    cur_path = os.path.expanduser('./outputs/tables/best_params_Gradient_Boosted_Tree.txt')\n",
    "    with open(cur_path, \"w\") as f:\n",
    "        f.write(str(Random_Forest_GridSearch.best_params_))\n",
    "\n",
    "    best_params_table_tree = pd.DataFrame({'N Estimators': [Random_Forest_GridSearch.best_params_['n_estimators']],\n",
    "                                        'Min Samples Leaf': [Random_Forest_GridSearch.best_params_['min_samples_leaf']],\n",
    "                                        'Learning Rate': [Random_Forest_GridSearch.best_params_['learning_rate']],\n",
    "                                        'Max Depth': [Random_Forest_GridSearch.best_params_['max_depth']],\n",
    "                                        })\n",
    "    \n",
    "    # Count Number of Parameters in Random Forest Regressor\n",
    "    N_tot_params_per_tree = [ (x[0].tree_.node_count)*random_forest_trained.n_features_ for x in random_forest_trained.estimators_]\n",
    "    N_tot_params_in_forest = sum(N_tot_params_per_tree)\n",
    "    best_params_table_tree['N_parameters'] = [N_tot_params_in_forest]\n",
    "    # Write Best Parameter(s)\n",
    "    best_params_table_tree.to_latex('./outputs/tables/Best_params_table_Gradient_Boosted_Tree.txt')\n",
    "    #---------------------------------------------#\n",
    "    \n",
    "    # Generate Prediction(s) #\n",
    "    #------------------------#\n",
    "    y_train_hat_random_forest_Gradient_boosting = random_forest_trained.predict(X_train)\n",
    "    eval_time_GBRF = time.time()\n",
    "    y_test_hat_random_forest_Gradient_boosting = random_forest_trained.predict(X_test)\n",
    "    eval_time_GBRF = time.time() - eval_time_GBRF\n",
    "    \n",
    "    # Return Predictions #\n",
    "    #--------------------#\n",
    "    return y_train_hat_random_forest_Gradient_boosting, y_test_hat_random_forest_Gradient_boosting, random_forest_trained, N_tot_params_in_forest, eval_time_GBRF"
   ]
  },
  {
   "cell_type": "markdown",
   "metadata": {},
   "source": [
    "## Kernel Ridge Regressor"
   ]
  },
  {
   "cell_type": "code",
   "execution_count": 9,
   "metadata": {},
   "outputs": [],
   "source": [
    "def get_Kernel_Ridge_Regressor(data_x_in,data_x_test_in,data_y_in):\n",
    "    # Imports\n",
    "    from sklearn.svm import SVR\n",
    "    from sklearn.kernel_ridge import KernelRidge\n",
    "\n",
    "    # Initialize Randomized Gridsearch\n",
    "    kernel_ridge_CVer = RandomizedSearchCV(estimator = KernelRidge(),\n",
    "                                           n_jobs=n_jobs,\n",
    "                                           cv=KFold(CV_folds, random_state=2020, shuffle=True),\n",
    "                                           param_distributions=param_grid_kernel_Ridge,\n",
    "                                           n_iter=n_iter,\n",
    "                                           return_train_score=True,\n",
    "                                           random_state=2020,\n",
    "                                           verbose=10)\n",
    "    kernel_ridge_CVer.fit(data_x_in,data_y_in)\n",
    "\n",
    "    # Get best Kernel ridge regressor\n",
    "    best_kernel_ridge_model = kernel_ridge_CVer.best_estimator_\n",
    "\n",
    "    # Get Predictions\n",
    "    f_hat_kernel_ridge_train = best_kernel_ridge_model.predict(data_x_in)\n",
    "    eval_time_kr = time.time()\n",
    "    f_hat_kernel_ridge_test = best_kernel_ridge_model.predict(data_x_test_in)\n",
    "    eval_time_kr = time.time() - eval_time_kr\n",
    "\n",
    "    # Count Parameters of best model\n",
    "    N_params_kR = len(best_kernel_ridge_model.get_params()) + 2*problem_dim\n",
    "    \n",
    "    Path('./outputs/models/Kernel_Ridge/').mkdir(parents=True, exist_ok=True)\n",
    "    pd.DataFrame.from_dict(kernel_ridge_CVer.best_params_,orient='index').to_latex(\"./outputs/models/Kernel_Ridge/Best_Parameters.tex\")\n",
    "    \n",
    "    \n",
    "    \n",
    "    # Return\n",
    "    return f_hat_kernel_ridge_train, f_hat_kernel_ridge_test, best_kernel_ridge_model, N_params_kR, eval_time_kr"
   ]
  },
  {
   "cell_type": "markdown",
   "metadata": {},
   "source": [
    "---"
   ]
  },
  {
   "cell_type": "markdown",
   "metadata": {},
   "source": [
    "# Train Models and Get Prediction(s)"
   ]
  },
  {
   "cell_type": "markdown",
   "metadata": {},
   "source": [
    "### Elastic Net"
   ]
  },
  {
   "cell_type": "code",
   "execution_count": 169,
   "metadata": {},
   "outputs": [
    {
     "name": "stderr",
     "output_type": "stream",
     "text": [
      "  0%|          | 0/3 [00:00<?, ?it/s]"
     ]
    },
    {
     "name": "stdout",
     "output_type": "stream",
     "text": [
      "--------------\n",
      "Training: ENET\n",
      "--------------\n"
     ]
    },
    {
     "name": "stderr",
     "output_type": "stream",
     "text": [
      "100%|██████████| 3/3 [00:16<00:00,  5.41s/it]"
     ]
    },
    {
     "name": "stdout",
     "output_type": "stream",
     "text": [
      "---------------------\n",
      "Training: ENET - Done\n",
      "---------------------\n"
     ]
    },
    {
     "name": "stderr",
     "output_type": "stream",
     "text": [
      "\n"
     ]
    }
   ],
   "source": [
    "# Start Timer\n",
    "Timer_ENET = time.time()\n",
    "\n",
    "print(\"--------------\")\n",
    "print(\"Training: ENET\")\n",
    "print(\"--------------\")\n",
    "\n",
    "if output_dim == 1:\n",
    "    # Fit Elastic Net Model\n",
    "    ENET_reg.fit(X_train,Y_train_mean_emp)\n",
    "\n",
    "    # Get Predictions\n",
    "    ENET_predict = ENET_reg.predict(X_train)\n",
    "    ENET_eval_time = time.time()\n",
    "    ENET_predict_test = ENET_reg.predict(X_test)\n",
    "    ENET_eval_time = time.time() - ENET_eval_time\n",
    "    \n",
    "else:\n",
    "    for d in tqdm(range(output_dim)):\n",
    "        # Fit Elastic Net Model\n",
    "        ENET_reg.fit(X_train,Y_train_mean_emp[:,d])\n",
    "\n",
    "        # Get Predictions\n",
    "        ENET_predict_loop = ENET_reg.predict(X_train)\n",
    "        ENET_eval_time_loop = time.time()\n",
    "        ENET_predict_loop_test = ENET_reg.predict(X_test)\n",
    "        ENET_eval_time_loop = time.time() - ENET_eval_time_loop\n",
    "    \n",
    "        if d == 0:\n",
    "            ENET_predict_train = ENET_predict_loop.reshape(-1,1)\n",
    "            ENET_predict_test = ENET_predict_loop_test.reshape(-1,1)\n",
    "            ENET_N_Params = X_train.shape[0]*2\n",
    "            ENET_eval_time = ENET_eval_time_loop\n",
    "        else:\n",
    "            ENET_predict_train = np.append(ENET_predict_train,ENET_predict_loop.reshape(-1,1),axis=1)\n",
    "            ENET_predict_test = np.append(ENET_predict_test,ENET_predict_loop_test.reshape(-1,1),axis=1)\n",
    "            ENET_N_Params = ENET_N_Params + X_train.shape[0]*2\n",
    "            ENET_eval_time = ENET_eval_time + ENET_eval_time_loop\n",
    "\n",
    "# Stop Timer\n",
    "Timer_ENET = time.time() - Timer_ENET\n",
    "print(\"---------------------\")\n",
    "print(\"Training: ENET - Done\")\n",
    "print(\"---------------------\")"
   ]
  },
  {
   "cell_type": "markdown",
   "metadata": {},
   "source": [
    "#### Evaluate Prediction Quality"
   ]
  },
  {
   "cell_type": "code",
   "execution_count": 171,
   "metadata": {},
   "outputs": [
    {
     "name": "stderr",
     "output_type": "stream",
     "text": [
      " 20%|██        | 10/50 [00:00<00:00, 95.39it/s]"
     ]
    },
    {
     "name": "stdout",
     "output_type": "stream",
     "text": [
      "#------------#\n",
      " Get Error(s) \n",
      "#------------#\n"
     ]
    },
    {
     "name": "stderr",
     "output_type": "stream",
     "text": [
      "100%|██████████| 50/50 [00:00<00:00, 115.96it/s]\n",
      "100%|██████████| 20/20 [00:00<00:00, 137.47it/s]"
     ]
    },
    {
     "name": "stdout",
     "output_type": "stream",
     "text": [
      "#-----------------#\n",
      " Get Error(s): END \n",
      "#-----------------#\n",
      "#------------#\n",
      " Get Error(s) \n",
      "#------------#\n",
      "#-----------------#\n",
      " Get Error(s): END \n",
      "#-----------------#\n"
     ]
    },
    {
     "name": "stderr",
     "output_type": "stream",
     "text": [
      "\n"
     ]
    }
   ],
   "source": [
    "## Train\n",
    "ENET_errors_W1, ENET_errors_M1 = get_deterministic_errors(X_train,ENET_predict_train,Y_train,N_Bootstraps=N_Boostraps_BCA)\n",
    "## Test\n",
    "ENET_errors_W1_test, ENET_errors_M1_test = get_deterministic_errors(X_test,ENET_predict_test,Y_test,N_Bootstraps=N_Boostraps_BCA)\n",
    "# Stop Timer\n",
    "Timer_ENET = time.time() - Timer_ENET"
   ]
  },
  {
   "cell_type": "markdown",
   "metadata": {},
   "source": [
    "#### Update DataFrame"
   ]
  },
  {
   "cell_type": "code",
   "execution_count": 172,
   "metadata": {},
   "outputs": [
    {
     "name": "stdout",
     "output_type": "stream",
     "text": [
      "Updated DataFrame\n",
      "                                      DNM  MC-Oracle         DNN      KRidge  \\\n",
      "W1-95L                           2.277640   0.000000    2.704290  192.530168   \n",
      "W1                               2.699185   0.000000    3.518672  249.420563   \n",
      "W1-95R                           3.145292   0.000000    4.161309  307.297392   \n",
      "M-95L                            2.308499   2.242574    5.497128  559.465667   \n",
      "M                                2.886287   2.886287    6.780059  710.707455   \n",
      "M-95R                            3.530251   3.445418    8.426148  808.223948   \n",
      "N_Par                          468.000000   0.000000   83.000000    0.000000   \n",
      "Train_Time                      10.952003   0.459962  216.869673  581.567460   \n",
      "Test_Time/MC-Oracle_Test_Time    0.382038   1.000000    0.566234    0.004881   \n",
      "\n",
      "                                       GBRF          ENET  \n",
      "W1-95L                         1.944196e+02  1.964914e+02  \n",
      "W1                             2.501461e+02  2.537312e+02  \n",
      "W1-95R                         3.203476e+02  2.886787e+02  \n",
      "M-95L                          6.108610e+02  5.998184e+02  \n",
      "M                              7.170442e+02  7.228298e+02  \n",
      "M-95R                          8.975201e+02  8.616056e+02  \n",
      "N_Par                          1.698080e+05  3.000000e+02  \n",
      "Train_Time                     1.619748e+09  1.619748e+09  \n",
      "Test_Time/MC-Oracle_Test_Time  2.524703e-02  1.544312e-03  \n"
     ]
    },
    {
     "data": {
      "text/html": [
       "<div>\n",
       "<style scoped>\n",
       "    .dataframe tbody tr th:only-of-type {\n",
       "        vertical-align: middle;\n",
       "    }\n",
       "\n",
       "    .dataframe tbody tr th {\n",
       "        vertical-align: top;\n",
       "    }\n",
       "\n",
       "    .dataframe thead th {\n",
       "        text-align: right;\n",
       "    }\n",
       "</style>\n",
       "<table border=\"1\" class=\"dataframe\">\n",
       "  <thead>\n",
       "    <tr style=\"text-align: right;\">\n",
       "      <th></th>\n",
       "      <th>DNM</th>\n",
       "      <th>MC-Oracle</th>\n",
       "      <th>DNN</th>\n",
       "      <th>KRidge</th>\n",
       "      <th>GBRF</th>\n",
       "      <th>ENET</th>\n",
       "    </tr>\n",
       "  </thead>\n",
       "  <tbody>\n",
       "    <tr>\n",
       "      <th>W1-95L</th>\n",
       "      <td>2.277640</td>\n",
       "      <td>0.000000</td>\n",
       "      <td>2.704290</td>\n",
       "      <td>192.530168</td>\n",
       "      <td>1.944196e+02</td>\n",
       "      <td>1.964914e+02</td>\n",
       "    </tr>\n",
       "    <tr>\n",
       "      <th>W1</th>\n",
       "      <td>2.699185</td>\n",
       "      <td>0.000000</td>\n",
       "      <td>3.518672</td>\n",
       "      <td>249.420563</td>\n",
       "      <td>2.501461e+02</td>\n",
       "      <td>2.537312e+02</td>\n",
       "    </tr>\n",
       "    <tr>\n",
       "      <th>W1-95R</th>\n",
       "      <td>3.145292</td>\n",
       "      <td>0.000000</td>\n",
       "      <td>4.161309</td>\n",
       "      <td>307.297392</td>\n",
       "      <td>3.203476e+02</td>\n",
       "      <td>2.886787e+02</td>\n",
       "    </tr>\n",
       "    <tr>\n",
       "      <th>M-95L</th>\n",
       "      <td>2.308499</td>\n",
       "      <td>2.242574</td>\n",
       "      <td>5.497128</td>\n",
       "      <td>559.465667</td>\n",
       "      <td>6.108610e+02</td>\n",
       "      <td>5.998184e+02</td>\n",
       "    </tr>\n",
       "    <tr>\n",
       "      <th>M</th>\n",
       "      <td>2.886287</td>\n",
       "      <td>2.886287</td>\n",
       "      <td>6.780059</td>\n",
       "      <td>710.707455</td>\n",
       "      <td>7.170442e+02</td>\n",
       "      <td>7.228298e+02</td>\n",
       "    </tr>\n",
       "    <tr>\n",
       "      <th>M-95R</th>\n",
       "      <td>3.530251</td>\n",
       "      <td>3.445418</td>\n",
       "      <td>8.426148</td>\n",
       "      <td>808.223948</td>\n",
       "      <td>8.975201e+02</td>\n",
       "      <td>8.616056e+02</td>\n",
       "    </tr>\n",
       "    <tr>\n",
       "      <th>N_Par</th>\n",
       "      <td>468.000000</td>\n",
       "      <td>0.000000</td>\n",
       "      <td>83.000000</td>\n",
       "      <td>0.000000</td>\n",
       "      <td>1.698080e+05</td>\n",
       "      <td>3.000000e+02</td>\n",
       "    </tr>\n",
       "    <tr>\n",
       "      <th>Train_Time</th>\n",
       "      <td>10.952003</td>\n",
       "      <td>0.459962</td>\n",
       "      <td>216.869673</td>\n",
       "      <td>581.567460</td>\n",
       "      <td>1.619748e+09</td>\n",
       "      <td>1.619748e+09</td>\n",
       "    </tr>\n",
       "    <tr>\n",
       "      <th>Test_Time/MC-Oracle_Test_Time</th>\n",
       "      <td>0.382038</td>\n",
       "      <td>1.000000</td>\n",
       "      <td>0.566234</td>\n",
       "      <td>0.004881</td>\n",
       "      <td>2.524703e-02</td>\n",
       "      <td>1.544312e-03</td>\n",
       "    </tr>\n",
       "  </tbody>\n",
       "</table>\n",
       "</div>"
      ],
      "text/plain": [
       "                                      DNM  MC-Oracle         DNN      KRidge  \\\n",
       "W1-95L                           2.277640   0.000000    2.704290  192.530168   \n",
       "W1                               2.699185   0.000000    3.518672  249.420563   \n",
       "W1-95R                           3.145292   0.000000    4.161309  307.297392   \n",
       "M-95L                            2.308499   2.242574    5.497128  559.465667   \n",
       "M                                2.886287   2.886287    6.780059  710.707455   \n",
       "M-95R                            3.530251   3.445418    8.426148  808.223948   \n",
       "N_Par                          468.000000   0.000000   83.000000    0.000000   \n",
       "Train_Time                      10.952003   0.459962  216.869673  581.567460   \n",
       "Test_Time/MC-Oracle_Test_Time    0.382038   1.000000    0.566234    0.004881   \n",
       "\n",
       "                                       GBRF          ENET  \n",
       "W1-95L                         1.944196e+02  1.964914e+02  \n",
       "W1                             2.501461e+02  2.537312e+02  \n",
       "W1-95R                         3.203476e+02  2.886787e+02  \n",
       "M-95L                          6.108610e+02  5.998184e+02  \n",
       "M                              7.170442e+02  7.228298e+02  \n",
       "M-95R                          8.975201e+02  8.616056e+02  \n",
       "N_Par                          1.698080e+05  3.000000e+02  \n",
       "Train_Time                     1.619748e+09  1.619748e+09  \n",
       "Test_Time/MC-Oracle_Test_Time  2.524703e-02  1.544312e-03  "
      ]
     },
     "execution_count": 172,
     "metadata": {},
     "output_type": "execute_result"
    }
   ],
   "source": [
    "# Train\n",
    "Summary_pred_Qual_models[\"ENET\"] = pd.Series(np.append(np.append(ENET_errors_W1,\n",
    "                                                                ENET_errors_M1),\n",
    "                                                         np.array([ENET_N_Params,\n",
    "                                                                   Timer_ENET,\n",
    "                                                                   (ENET_eval_time/Test_Set_PredictionTime_MC)])), index=Summary_pred_Qual_models.index)\n",
    "# Test\n",
    "Summary_pred_Qual_models_test[\"ENET\"] = pd.Series(np.append(np.append(ENET_errors_W1_test,\n",
    "                                                                     ENET_errors_M1_test),\n",
    "                                                           np.array([ENET_N_Params,\n",
    "                                                                     Timer_ENET,\n",
    "                                                                     (ENET_eval_time/Test_Set_PredictionTime_MC)])), index=Summary_pred_Qual_models_test.index)\n",
    "\n",
    "print(\"Updated DataFrame\")\n",
    "print(Summary_pred_Qual_models_test)\n",
    "Summary_pred_Qual_models_test"
   ]
  },
  {
   "cell_type": "markdown",
   "metadata": {},
   "source": [
    "## Kernel Ridge Regression"
   ]
  },
  {
   "cell_type": "code",
   "execution_count": 116,
   "metadata": {},
   "outputs": [],
   "source": [
    "# %run Evaluation.ipynb\n",
    "exec(open('Evaluation.py').read())"
   ]
  },
  {
   "cell_type": "code",
   "execution_count": 117,
   "metadata": {},
   "outputs": [
    {
     "name": "stdout",
     "output_type": "stream",
     "text": [
      "-----------------\n",
      "Training: K-Ridge\n",
      "-----------------\n",
      "Fitting 2 folds for each of 2 candidates, totalling 4 fits\n"
     ]
    },
    {
     "name": "stderr",
     "output_type": "stream",
     "text": [
      "[Parallel(n_jobs=4)]: Using backend LokyBackend with 4 concurrent workers.\n",
      "[Parallel(n_jobs=4)]: Done   1 tasks      | elapsed:    0.0s\n",
      "[Parallel(n_jobs=4)]: Batch computation too fast (0.0201s.) Setting batch_size=2.\n",
      "[Parallel(n_jobs=4)]: Done   2 tasks      | elapsed:    0.1s\n",
      "[Parallel(n_jobs=4)]: Done   4 out of   4 | elapsed:    0.4s remaining:    0.0s\n",
      "[Parallel(n_jobs=4)]: Done   4 out of   4 | elapsed:    0.4s finished\n"
     ]
    }
   ],
   "source": [
    "# Stop Timer\n",
    "Timer_kRidge = time.time()\n",
    "\n",
    "\n",
    "print(\"-----------------\")\n",
    "print(\"Training: K-Ridge\")\n",
    "print(\"-----------------\")\n",
    "\n",
    "Xhat_Kridge, Xhat_Kridge_test , relic, kRidge_N_params, KRidge_eval_time = get_Kernel_Ridge_Regressor(X_train,X_test,Y_train_mean_emp)"
   ]
  },
  {
   "cell_type": "markdown",
   "metadata": {},
   "source": [
    "#### Get Prediction Errors"
   ]
  },
  {
   "cell_type": "code",
   "execution_count": 137,
   "metadata": {},
   "outputs": [
    {
     "name": "stderr",
     "output_type": "stream",
     "text": [
      " 24%|██▍       | 12/50 [00:00<00:00, 119.32it/s]"
     ]
    },
    {
     "name": "stdout",
     "output_type": "stream",
     "text": [
      "#------------#\n",
      " Get Error(s) \n",
      "#------------#\n"
     ]
    },
    {
     "name": "stderr",
     "output_type": "stream",
     "text": [
      "100%|██████████| 50/50 [00:00<00:00, 140.38it/s]\n",
      "100%|██████████| 20/20 [00:00<00:00, 142.88it/s]"
     ]
    },
    {
     "name": "stdout",
     "output_type": "stream",
     "text": [
      "#-----------------#\n",
      " Get Error(s): END \n",
      "#-----------------#\n",
      "#------------#\n",
      " Get Error(s) \n",
      "#------------#\n",
      "#-----------------#\n",
      " Get Error(s): END \n",
      "#-----------------#\n"
     ]
    },
    {
     "name": "stderr",
     "output_type": "stream",
     "text": [
      "\n"
     ]
    }
   ],
   "source": [
    "## Train\n",
    "kRidge_errors_W1, kRidge_errors_M1 = get_deterministic_errors(X_train,Xhat_Kridge,Y_train,N_Bootstraps=N_Boostraps_BCA)\n",
    "## Test\n",
    "kRidge_errors_W1_test, kRidge_errors_M1_test = get_deterministic_errors(X_test,Xhat_Kridge_test,Y_test,N_Bootstraps=N_Boostraps_BCA)\n",
    "# Stop Timer\n",
    "Timer_kRidge = time.time() - Timer_kRidge"
   ]
  },
  {
   "cell_type": "markdown",
   "metadata": {},
   "source": [
    "#### Update DataFrame"
   ]
  },
  {
   "cell_type": "code",
   "execution_count": 138,
   "metadata": {},
   "outputs": [
    {
     "name": "stdout",
     "output_type": "stream",
     "text": [
      "Updated DataFrame\n",
      "                                      DNM  MC-Oracle         DNN      KRidge\n",
      "W1-95L                           2.277640   0.000000    2.704290  192.530168\n",
      "W1                               2.699185   0.000000    3.518672  249.420563\n",
      "W1-95R                           3.145292   0.000000    4.161309  307.297392\n",
      "M-95L                            2.308499   2.242574    5.497128  559.465667\n",
      "M                                2.886287   2.886287    6.780059  710.707455\n",
      "M-95R                            3.530251   3.445418    8.426148  808.223948\n",
      "N_Par                          468.000000   0.000000   83.000000    0.000000\n",
      "Train_Time                      10.952003   0.459962  216.869673  581.567460\n",
      "Test_Time/MC-Oracle_Test_Time    0.382038   1.000000    0.566234    0.004881\n"
     ]
    }
   ],
   "source": [
    "# Train\n",
    "Summary_pred_Qual_models[\"KRidge\"] = pd.Series(np.append(np.append(kRidge_errors_W1,\n",
    "                                                                kRidge_errors_M1),\n",
    "                                                         np.array([0,\n",
    "                                                                   Timer_kRidge,\n",
    "                                                                   (KRidge_eval_time/Test_Set_PredictionTime_MC)])), index=Summary_pred_Qual_models.index)\n",
    "# Test\n",
    "Summary_pred_Qual_models_test[\"KRidge\"] = pd.Series(np.append(np.append(kRidge_errors_W1_test,\n",
    "                                                                     kRidge_errors_M1_test),\n",
    "                                                           np.array([0,\n",
    "                                                                     Timer_kRidge,\n",
    "                                                                     (KRidge_eval_time/Test_Set_PredictionTime_MC)])), index=Summary_pred_Qual_models_test.index)\n",
    "\n",
    "print(\"Updated DataFrame\")\n",
    "print(Summary_pred_Qual_models_test)\n",
    "Summary_pred_Qual_models_test"
   ]
  },
  {
   "cell_type": "markdown",
   "metadata": {},
   "source": [
    "## Gradient-Boosted Random Forest"
   ]
  },
  {
   "cell_type": "code",
   "execution_count": 162,
   "metadata": {},
   "outputs": [
    {
     "name": "stdout",
     "output_type": "stream",
     "text": [
      "--------------\n",
      "Training: GBRF\n",
      "--------------\n",
      "Fitting 2 folds for each of 1 candidates, totalling 2 fits\n"
     ]
    },
    {
     "name": "stderr",
     "output_type": "stream",
     "text": [
      "[Parallel(n_jobs=4)]: Using backend LokyBackend with 4 concurrent workers.\n",
      "[Parallel(n_jobs=4)]: Done   2 out of   2 | elapsed:    0.2s remaining:    0.0s\n",
      "[Parallel(n_jobs=4)]: Done   2 out of   2 | elapsed:    0.2s finished\n",
      "[Parallel(n_jobs=4)]: Using backend LokyBackend with 4 concurrent workers.\n"
     ]
    },
    {
     "name": "stdout",
     "output_type": "stream",
     "text": [
      "Fitting 2 folds for each of 1 candidates, totalling 2 fits\n"
     ]
    },
    {
     "name": "stderr",
     "output_type": "stream",
     "text": [
      "[Parallel(n_jobs=4)]: Batch computation too fast (0.1969s.) Setting batch_size=2.\n",
      "[Parallel(n_jobs=4)]: Done   2 out of   2 | elapsed:    0.2s remaining:    0.0s\n",
      "[Parallel(n_jobs=4)]: Done   2 out of   2 | elapsed:    0.2s finished\n",
      "[Parallel(n_jobs=4)]: Using backend LokyBackend with 4 concurrent workers.\n"
     ]
    },
    {
     "name": "stdout",
     "output_type": "stream",
     "text": [
      "Fitting 2 folds for each of 1 candidates, totalling 2 fits\n"
     ]
    },
    {
     "name": "stderr",
     "output_type": "stream",
     "text": [
      "[Parallel(n_jobs=4)]: Batch computation too fast (0.1581s.) Setting batch_size=2.\n",
      "[Parallel(n_jobs=4)]: Done   2 out of   2 | elapsed:    0.2s remaining:    0.0s\n",
      "[Parallel(n_jobs=4)]: Done   2 out of   2 | elapsed:    0.2s finished\n"
     ]
    }
   ],
   "source": [
    "# Start Timer\n",
    "Timer_GBRF = time.time()\n",
    "\n",
    "print(\"--------------\")\n",
    "print(\"Training: GBRF\")\n",
    "print(\"--------------\")\n",
    "\n",
    "if output_dim == 1:\n",
    "    GBRF_y_hat_train, GBRF_y_hat_test, GBRF_model, GBRF_N_Params, GBRF_eval_time = get_GBRF(X_train,\n",
    "                                                                                            X_test,\n",
    "                                                                                            Y_train_mean_emp)\n",
    "else:\n",
    "    for d in range(output_dim):\n",
    "        GBRF_y_hat_train_loop, GBRF_y_hat_test_loop, GBRF_model, GBRF_N_Params_loop, GBRF_eval_time_loop = get_GBRF(X_train,\n",
    "                                                                                                                X_test,\n",
    "                                                                                                                Y_train_mean_emp[:,d])\n",
    "        if d == 0:\n",
    "            GBRF_y_hat_train = GBRF_y_hat_train_loop.reshape(-1,1)\n",
    "            GBRF_y_hat_test = GBRF_y_hat_test_loop.reshape(-1,1)\n",
    "            GBRF_N_Params = GBRF_N_Params_loop\n",
    "            GBRF_eval_tim = GBRF_eval_time_loop\n",
    "        else:\n",
    "            GBRF_y_hat_train = np.append(GBRF_y_hat_train,GBRF_y_hat_train_loop.reshape(-1,1),axis=1)\n",
    "            GBRF_y_hat_test = np.append(GBRF_y_hat_test,GBRF_y_hat_test_loop.reshape(-1,1),axis=1)\n",
    "            GBRF_N_Params = GBRF_N_Params + GBRF_N_Params_loop\n",
    "            GBRF_eval_tim = GBRF_eval_tim + GBRF_eval_time_loop"
   ]
  },
  {
   "cell_type": "markdown",
   "metadata": {},
   "source": [
    "#### Get Prediction Errors"
   ]
  },
  {
   "cell_type": "code",
   "execution_count": 164,
   "metadata": {},
   "outputs": [
    {
     "name": "stderr",
     "output_type": "stream",
     "text": [
      " 22%|██▏       | 11/50 [00:00<00:00, 106.18it/s]"
     ]
    },
    {
     "name": "stdout",
     "output_type": "stream",
     "text": [
      "#------------#\n",
      " Get Error(s) \n",
      "#------------#\n"
     ]
    },
    {
     "name": "stderr",
     "output_type": "stream",
     "text": [
      "100%|██████████| 50/50 [00:00<00:00, 138.98it/s]\n",
      "100%|██████████| 20/20 [00:00<00:00, 159.52it/s]"
     ]
    },
    {
     "name": "stdout",
     "output_type": "stream",
     "text": [
      "#-----------------#\n",
      " Get Error(s): END \n",
      "#-----------------#\n",
      "#------------#\n",
      " Get Error(s) \n",
      "#------------#\n",
      "#-----------------#\n",
      " Get Error(s): END \n",
      "#-----------------#\n"
     ]
    },
    {
     "name": "stderr",
     "output_type": "stream",
     "text": [
      "\n"
     ]
    }
   ],
   "source": [
    "## Train\n",
    "GBRF_errors_W1, GBRF_errors_M1 = get_deterministic_errors(X_train,GBRF_y_hat_train,Y_train,N_Bootstraps=N_Boostraps_BCA)\n",
    "## Test\n",
    "GBRF_errors_W1_test, GBRF_errors_M1_test = get_deterministic_errors(X_test,GBRF_y_hat_test,Y_test,N_Bootstraps=N_Boostraps_BCA)\n",
    "\n",
    "\n",
    "# Compute Lapsed Time Needed For Training\n",
    "Timer_GBRF = time.time() - Timer_GBRF"
   ]
  },
  {
   "cell_type": "markdown",
   "metadata": {},
   "source": [
    "#### Update Dataframe"
   ]
  },
  {
   "cell_type": "code",
   "execution_count": 165,
   "metadata": {},
   "outputs": [
    {
     "name": "stdout",
     "output_type": "stream",
     "text": [
      "Updated DataFrame\n",
      "                                      DNM  MC-Oracle         DNN      KRidge  \\\n",
      "W1-95L                           2.277640   0.000000    2.704290  192.530168   \n",
      "W1                               2.699185   0.000000    3.518672  249.420563   \n",
      "W1-95R                           3.145292   0.000000    4.161309  307.297392   \n",
      "M-95L                            2.308499   2.242574    5.497128  559.465667   \n",
      "M                                2.886287   2.886287    6.780059  710.707455   \n",
      "M-95R                            3.530251   3.445418    8.426148  808.223948   \n",
      "N_Par                          468.000000   0.000000   83.000000    0.000000   \n",
      "Train_Time                      10.952003   0.459962  216.869673  581.567460   \n",
      "Test_Time/MC-Oracle_Test_Time    0.382038   1.000000    0.566234    0.004881   \n",
      "\n",
      "                                       GBRF  \n",
      "W1-95L                         1.944196e+02  \n",
      "W1                             2.501461e+02  \n",
      "W1-95R                         3.203476e+02  \n",
      "M-95L                          6.108610e+02  \n",
      "M                              7.170442e+02  \n",
      "M-95R                          8.975201e+02  \n",
      "N_Par                          1.698080e+05  \n",
      "Train_Time                     1.619748e+09  \n",
      "Test_Time/MC-Oracle_Test_Time  2.524703e-02  \n"
     ]
    },
    {
     "data": {
      "text/html": [
       "<div>\n",
       "<style scoped>\n",
       "    .dataframe tbody tr th:only-of-type {\n",
       "        vertical-align: middle;\n",
       "    }\n",
       "\n",
       "    .dataframe tbody tr th {\n",
       "        vertical-align: top;\n",
       "    }\n",
       "\n",
       "    .dataframe thead th {\n",
       "        text-align: right;\n",
       "    }\n",
       "</style>\n",
       "<table border=\"1\" class=\"dataframe\">\n",
       "  <thead>\n",
       "    <tr style=\"text-align: right;\">\n",
       "      <th></th>\n",
       "      <th>DNM</th>\n",
       "      <th>MC-Oracle</th>\n",
       "      <th>DNN</th>\n",
       "      <th>KRidge</th>\n",
       "      <th>GBRF</th>\n",
       "    </tr>\n",
       "  </thead>\n",
       "  <tbody>\n",
       "    <tr>\n",
       "      <th>W1-95L</th>\n",
       "      <td>2.277640</td>\n",
       "      <td>0.000000</td>\n",
       "      <td>2.704290</td>\n",
       "      <td>192.530168</td>\n",
       "      <td>1.944196e+02</td>\n",
       "    </tr>\n",
       "    <tr>\n",
       "      <th>W1</th>\n",
       "      <td>2.699185</td>\n",
       "      <td>0.000000</td>\n",
       "      <td>3.518672</td>\n",
       "      <td>249.420563</td>\n",
       "      <td>2.501461e+02</td>\n",
       "    </tr>\n",
       "    <tr>\n",
       "      <th>W1-95R</th>\n",
       "      <td>3.145292</td>\n",
       "      <td>0.000000</td>\n",
       "      <td>4.161309</td>\n",
       "      <td>307.297392</td>\n",
       "      <td>3.203476e+02</td>\n",
       "    </tr>\n",
       "    <tr>\n",
       "      <th>M-95L</th>\n",
       "      <td>2.308499</td>\n",
       "      <td>2.242574</td>\n",
       "      <td>5.497128</td>\n",
       "      <td>559.465667</td>\n",
       "      <td>6.108610e+02</td>\n",
       "    </tr>\n",
       "    <tr>\n",
       "      <th>M</th>\n",
       "      <td>2.886287</td>\n",
       "      <td>2.886287</td>\n",
       "      <td>6.780059</td>\n",
       "      <td>710.707455</td>\n",
       "      <td>7.170442e+02</td>\n",
       "    </tr>\n",
       "    <tr>\n",
       "      <th>M-95R</th>\n",
       "      <td>3.530251</td>\n",
       "      <td>3.445418</td>\n",
       "      <td>8.426148</td>\n",
       "      <td>808.223948</td>\n",
       "      <td>8.975201e+02</td>\n",
       "    </tr>\n",
       "    <tr>\n",
       "      <th>N_Par</th>\n",
       "      <td>468.000000</td>\n",
       "      <td>0.000000</td>\n",
       "      <td>83.000000</td>\n",
       "      <td>0.000000</td>\n",
       "      <td>1.698080e+05</td>\n",
       "    </tr>\n",
       "    <tr>\n",
       "      <th>Train_Time</th>\n",
       "      <td>10.952003</td>\n",
       "      <td>0.459962</td>\n",
       "      <td>216.869673</td>\n",
       "      <td>581.567460</td>\n",
       "      <td>1.619748e+09</td>\n",
       "    </tr>\n",
       "    <tr>\n",
       "      <th>Test_Time/MC-Oracle_Test_Time</th>\n",
       "      <td>0.382038</td>\n",
       "      <td>1.000000</td>\n",
       "      <td>0.566234</td>\n",
       "      <td>0.004881</td>\n",
       "      <td>2.524703e-02</td>\n",
       "    </tr>\n",
       "  </tbody>\n",
       "</table>\n",
       "</div>"
      ],
      "text/plain": [
       "                                      DNM  MC-Oracle         DNN      KRidge  \\\n",
       "W1-95L                           2.277640   0.000000    2.704290  192.530168   \n",
       "W1                               2.699185   0.000000    3.518672  249.420563   \n",
       "W1-95R                           3.145292   0.000000    4.161309  307.297392   \n",
       "M-95L                            2.308499   2.242574    5.497128  559.465667   \n",
       "M                                2.886287   2.886287    6.780059  710.707455   \n",
       "M-95R                            3.530251   3.445418    8.426148  808.223948   \n",
       "N_Par                          468.000000   0.000000   83.000000    0.000000   \n",
       "Train_Time                      10.952003   0.459962  216.869673  581.567460   \n",
       "Test_Time/MC-Oracle_Test_Time    0.382038   1.000000    0.566234    0.004881   \n",
       "\n",
       "                                       GBRF  \n",
       "W1-95L                         1.944196e+02  \n",
       "W1                             2.501461e+02  \n",
       "W1-95R                         3.203476e+02  \n",
       "M-95L                          6.108610e+02  \n",
       "M                              7.170442e+02  \n",
       "M-95R                          8.975201e+02  \n",
       "N_Par                          1.698080e+05  \n",
       "Train_Time                     1.619748e+09  \n",
       "Test_Time/MC-Oracle_Test_Time  2.524703e-02  "
      ]
     },
     "execution_count": 165,
     "metadata": {},
     "output_type": "execute_result"
    }
   ],
   "source": [
    "# Train\n",
    "Summary_pred_Qual_models[\"GBRF\"] = pd.Series(np.append(np.append(GBRF_errors_W1,\n",
    "                                                                GBRF_errors_M1),\n",
    "                                                         np.array([GBRF_N_Params,\n",
    "                                                                   Timer_GBRF,\n",
    "                                                                   (GBRF_eval_tim/Test_Set_PredictionTime_MC)])), index=Summary_pred_Qual_models.index)\n",
    "# Test\n",
    "Summary_pred_Qual_models_test[\"GBRF\"] = pd.Series(np.append(np.append(GBRF_errors_W1_test,\n",
    "                                                                     GBRF_errors_M1_test),\n",
    "                                                           np.array([GBRF_N_Params,\n",
    "                                                                     Timer_GBRF,\n",
    "                                                                     (GBRF_eval_tim/Test_Set_PredictionTime_MC)])), index=Summary_pred_Qual_models_test.index)\n",
    "\n",
    "print(\"Updated DataFrame\")\n",
    "print(Summary_pred_Qual_models_test)\n",
    "Summary_pred_Qual_models_test"
   ]
  },
  {
   "cell_type": "markdown",
   "metadata": {},
   "source": [
    "## Feed-Forward DNN"
   ]
  },
  {
   "cell_type": "code",
   "execution_count": 129,
   "metadata": {},
   "outputs": [
    {
     "name": "stdout",
     "output_type": "stream",
     "text": [
      "-------------\n",
      "Training: DNN\n",
      "-------------\n",
      "Fitting 2 folds for each of 1 candidates, totalling 2 fits\n"
     ]
    },
    {
     "name": "stderr",
     "output_type": "stream",
     "text": [
      "[Parallel(n_jobs=4)]: Using backend LokyBackend with 4 concurrent workers.\n",
      "[Parallel(n_jobs=4)]: Done   2 out of   2 | elapsed:    4.9s remaining:    0.0s\n",
      "[Parallel(n_jobs=4)]: Done   2 out of   2 | elapsed:    4.9s finished\n"
     ]
    },
    {
     "name": "stdout",
     "output_type": "stream",
     "text": [
      "Epoch 1/5\n",
      "7/7 [==============================] - 0s 1ms/step - loss: 251.1948 - mse: 87408.2734 - mae: 251.1948 - mape: 99.9685\n",
      "Epoch 2/5\n",
      "7/7 [==============================] - 0s 3ms/step - loss: 251.1946 - mse: 87408.2109 - mae: 251.1946 - mape: 99.9684\n",
      "Epoch 3/5\n",
      "7/7 [==============================] - 0s 2ms/step - loss: 251.1945 - mse: 87408.1328 - mae: 251.1945 - mape: 99.9683\n",
      "Epoch 4/5\n",
      "7/7 [==============================] - 0s 3ms/step - loss: 251.1943 - mse: 87408.0625 - mae: 251.1943 - mape: 99.9682\n",
      "Epoch 5/5\n",
      "7/7 [==============================] - 0s 3ms/step - loss: 251.1942 - mse: 87407.9766 - mae: 251.1942 - mape: 99.9681\n",
      "7/7 [==============================] - 0s 901us/step\n",
      "3/3 [==============================] - 0s 947us/step\n"
     ]
    }
   ],
   "source": [
    "# Stop Timer\n",
    "Timer_ffNN = time.time()\n",
    "print(\"-------------\")\n",
    "print(\"Training: DNN\")\n",
    "print(\"-------------\")\n",
    "\n",
    "# Redefine (Dimension-related) Elements of Grid\n",
    "param_grid_Deep_Classifier['input_dim'] = [problem_dim]\n",
    "param_grid_Deep_Classifier['output_dim'] = [output_dim]\n",
    "\n",
    "YHat_ffNN, YHat_ffNN_test, ffNN_N_Params, ffNN_eval_time = build_ffNN(n_folds = CV_folds,\n",
    "                                                                      n_jobs = n_jobs, \n",
    "                                                                      n_iter = n_iter,\n",
    "                                                                      param_grid_in = param_grid_Deep_Classifier,  \n",
    "                                                                      X_train = X_train,\n",
    "                                                                      y_train = Y_train_mean_emp,\n",
    "                                                                      X_test = X_test)"
   ]
  },
  {
   "cell_type": "markdown",
   "metadata": {},
   "source": [
    "#### Get Prediction Errors"
   ]
  },
  {
   "cell_type": "code",
   "execution_count": 130,
   "metadata": {},
   "outputs": [
    {
     "name": "stderr",
     "output_type": "stream",
     "text": [
      " 18%|█▊        | 9/50 [00:00<00:00, 84.68it/s]"
     ]
    },
    {
     "name": "stdout",
     "output_type": "stream",
     "text": [
      "#------------#\n",
      " Get Error(s) \n",
      "#------------#\n"
     ]
    },
    {
     "name": "stderr",
     "output_type": "stream",
     "text": [
      "100%|██████████| 50/50 [00:00<00:00, 136.15it/s]\n",
      "100%|██████████| 20/20 [00:00<00:00, 153.18it/s]"
     ]
    },
    {
     "name": "stdout",
     "output_type": "stream",
     "text": [
      "#-----------------#\n",
      " Get Error(s): END \n",
      "#-----------------#\n",
      "#------------#\n",
      " Get Error(s) \n",
      "#------------#\n",
      "#-----------------#\n",
      " Get Error(s): END \n",
      "#-----------------#\n"
     ]
    },
    {
     "name": "stderr",
     "output_type": "stream",
     "text": [
      "\n"
     ]
    }
   ],
   "source": [
    "## Train\n",
    "ffNN_errors_W1,ffNN_errors_M1 = get_deterministic_errors(X_train,YHat_ffNN,Y_train,N_Bootstraps=N_Boostraps_BCA)\n",
    "## Test\n",
    "ffNN_errors_W1_test,ffNN_errors_M1_test = get_deterministic_errors(X_test,YHat_ffNN_test,Y_test,N_Bootstraps=N_Boostraps_BCA)\n",
    "\n",
    "# Compute Lapsed Time Needed For Training\n",
    "Timer_ffNN =  time.time() - Timer_ffNN"
   ]
  },
  {
   "cell_type": "markdown",
   "metadata": {},
   "source": [
    "#### Update DataFrame"
   ]
  },
  {
   "cell_type": "code",
   "execution_count": 139,
   "metadata": {},
   "outputs": [
    {
     "name": "stdout",
     "output_type": "stream",
     "text": [
      "Updated DataFrame\n",
      "                                      DNM  MC-Oracle         DNN      KRidge\n",
      "W1-95L                           2.277640   0.000000    2.704290  192.530168\n",
      "W1                               2.699185   0.000000    3.518672  249.420563\n",
      "W1-95R                           3.145292   0.000000    4.161309  307.297392\n",
      "M-95L                            2.308499   2.242574    5.497128  559.465667\n",
      "M                                2.886287   2.886287    6.780059  710.707455\n",
      "M-95R                            3.530251   3.445418    8.426148  808.223948\n",
      "N_Par                          468.000000   0.000000   83.000000    0.000000\n",
      "Train_Time                      10.952003   0.459962  216.869673  581.567460\n",
      "Test_Time/MC-Oracle_Test_Time    0.382038   1.000000    0.566234    0.004881\n"
     ]
    },
    {
     "data": {
      "text/html": [
       "<div>\n",
       "<style scoped>\n",
       "    .dataframe tbody tr th:only-of-type {\n",
       "        vertical-align: middle;\n",
       "    }\n",
       "\n",
       "    .dataframe tbody tr th {\n",
       "        vertical-align: top;\n",
       "    }\n",
       "\n",
       "    .dataframe thead th {\n",
       "        text-align: right;\n",
       "    }\n",
       "</style>\n",
       "<table border=\"1\" class=\"dataframe\">\n",
       "  <thead>\n",
       "    <tr style=\"text-align: right;\">\n",
       "      <th></th>\n",
       "      <th>DNM</th>\n",
       "      <th>MC-Oracle</th>\n",
       "      <th>DNN</th>\n",
       "      <th>KRidge</th>\n",
       "    </tr>\n",
       "  </thead>\n",
       "  <tbody>\n",
       "    <tr>\n",
       "      <th>W1-95L</th>\n",
       "      <td>2.277640</td>\n",
       "      <td>0.000000</td>\n",
       "      <td>2.704290</td>\n",
       "      <td>192.530168</td>\n",
       "    </tr>\n",
       "    <tr>\n",
       "      <th>W1</th>\n",
       "      <td>2.699185</td>\n",
       "      <td>0.000000</td>\n",
       "      <td>3.518672</td>\n",
       "      <td>249.420563</td>\n",
       "    </tr>\n",
       "    <tr>\n",
       "      <th>W1-95R</th>\n",
       "      <td>3.145292</td>\n",
       "      <td>0.000000</td>\n",
       "      <td>4.161309</td>\n",
       "      <td>307.297392</td>\n",
       "    </tr>\n",
       "    <tr>\n",
       "      <th>M-95L</th>\n",
       "      <td>2.308499</td>\n",
       "      <td>2.242574</td>\n",
       "      <td>5.497128</td>\n",
       "      <td>559.465667</td>\n",
       "    </tr>\n",
       "    <tr>\n",
       "      <th>M</th>\n",
       "      <td>2.886287</td>\n",
       "      <td>2.886287</td>\n",
       "      <td>6.780059</td>\n",
       "      <td>710.707455</td>\n",
       "    </tr>\n",
       "    <tr>\n",
       "      <th>M-95R</th>\n",
       "      <td>3.530251</td>\n",
       "      <td>3.445418</td>\n",
       "      <td>8.426148</td>\n",
       "      <td>808.223948</td>\n",
       "    </tr>\n",
       "    <tr>\n",
       "      <th>N_Par</th>\n",
       "      <td>468.000000</td>\n",
       "      <td>0.000000</td>\n",
       "      <td>83.000000</td>\n",
       "      <td>0.000000</td>\n",
       "    </tr>\n",
       "    <tr>\n",
       "      <th>Train_Time</th>\n",
       "      <td>10.952003</td>\n",
       "      <td>0.459962</td>\n",
       "      <td>216.869673</td>\n",
       "      <td>581.567460</td>\n",
       "    </tr>\n",
       "    <tr>\n",
       "      <th>Test_Time/MC-Oracle_Test_Time</th>\n",
       "      <td>0.382038</td>\n",
       "      <td>1.000000</td>\n",
       "      <td>0.566234</td>\n",
       "      <td>0.004881</td>\n",
       "    </tr>\n",
       "  </tbody>\n",
       "</table>\n",
       "</div>"
      ],
      "text/plain": [
       "                                      DNM  MC-Oracle         DNN      KRidge\n",
       "W1-95L                           2.277640   0.000000    2.704290  192.530168\n",
       "W1                               2.699185   0.000000    3.518672  249.420563\n",
       "W1-95R                           3.145292   0.000000    4.161309  307.297392\n",
       "M-95L                            2.308499   2.242574    5.497128  559.465667\n",
       "M                                2.886287   2.886287    6.780059  710.707455\n",
       "M-95R                            3.530251   3.445418    8.426148  808.223948\n",
       "N_Par                          468.000000   0.000000   83.000000    0.000000\n",
       "Train_Time                      10.952003   0.459962  216.869673  581.567460\n",
       "Test_Time/MC-Oracle_Test_Time    0.382038   1.000000    0.566234    0.004881"
      ]
     },
     "execution_count": 139,
     "metadata": {},
     "output_type": "execute_result"
    }
   ],
   "source": [
    "# Train\n",
    "Summary_pred_Qual_models[\"DNN\"] = pd.Series(np.append(np.append(ffNN_errors_W1,\n",
    "                                                                ffNN_errors_M1),\n",
    "                                                         np.array([ffNN_N_Params,\n",
    "                                                                   Timer_ffNN,\n",
    "                                                                   (ffNN_eval_time/Test_Set_PredictionTime_MC)])), index=Summary_pred_Qual_models.index)\n",
    "# Test\n",
    "Summary_pred_Qual_models_test[\"DNN\"] = pd.Series(np.append(np.append(ffNN_errors_W1_test,\n",
    "                                                                     ffNN_errors_M1_test),\n",
    "                                                           np.array([ffNN_N_Params,\n",
    "                                                                     Timer_ffNN,\n",
    "                                                                     (ffNN_eval_time/Test_Set_PredictionTime_MC)])), index=Summary_pred_Qual_models_test.index)\n",
    "\n",
    "print(\"Updated DataFrame\")\n",
    "print(Summary_pred_Qual_models_test)\n",
    "Summary_pred_Qual_models_test"
   ]
  },
  {
   "cell_type": "markdown",
   "metadata": {},
   "source": [
    "---"
   ]
  }
 ],
 "metadata": {
  "kernelspec": {
   "display_name": "Python 3",
   "language": "python",
   "name": "python3"
  },
  "language_info": {
   "codemirror_mode": {
    "name": "ipython",
    "version": 3
   },
   "file_extension": ".py",
   "mimetype": "text/x-python",
   "name": "python",
   "nbconvert_exporter": "python",
   "pygments_lexer": "ipython3",
   "version": "3.7.7"
  }
 },
 "nbformat": 4,
 "nbformat_minor": 2
}
