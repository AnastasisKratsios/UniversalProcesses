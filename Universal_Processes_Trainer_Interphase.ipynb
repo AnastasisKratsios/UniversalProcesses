{
 "cells": [
  {
   "cell_type": "markdown",
   "metadata": {},
   "source": [
    "---\n",
    "\n",
    "# Generic Conditional Laws for Random-Fields - via:\n",
    "\n",
    "## Universal $\\mathcal{P}_1(\\mathbb{R})$-Deep Neural Model (Type A)\n",
    "\n",
    "---\n",
    "\n",
    "By: [Anastasis Kratsios](https://people.math.ethz.ch/~kratsioa/) - 2021."
   ]
  },
  {
   "cell_type": "markdown",
   "metadata": {},
   "source": [
    "---"
   ]
  },
  {
   "cell_type": "markdown",
   "metadata": {},
   "source": [
    "# Training Algorithm:\n",
    "---\n",
    "## 1) Generate Data:\n",
    "Generates the empirical measure $\\sum_{n=1}^N \\delta_{X_T(\\omega_n)}$ of $X_T$ conditional on $X_0=x_0\\in \\mathbb{R}$ *($x_0$ and $T>0$ are user-provided)*.\n",
    "\n",
    "## 2) Get \"Sample Barycenters\":\n",
    "Let $\\{\\mu_n\\}_{n=1}^N\\subset\\mathcal{P}_1(\\mathbb{R}^d)$.  Then, the *sample barycenter* is defined by:\n",
    "1. $\\mathcal{M}^{(0)}\\triangleq \\left\\{\\hat{\\mu}_n\\right\\}_{n=1}^N$,\n",
    "2. For $1\\leq n\\leq \\mbox{N sample barycenters}$: \n",
    "    - $\n",
    "\\mu^{\\star}\\in \\underset{\\tilde{\\mu}\\in \\mathcal{M}^{(n)}}{\\operatorname{argmin}}\\, \\sum_{n=1}^N \\mathcal{W}_1\\left(\\mu^{\\star},\\mu_n\\right),\n",
    "$\n",
    "    - $\\mathcal{M}^{(n)}\\triangleq \\mathcal{M}^{(n-1)} - \\{\\mu^{\\star}\\},$\n",
    "*i.e., the closest generated measure form the random sample to all other elements of the random sample.*\n",
    "\n",
    "---\n",
    "**Note:** *We simplify the computational burden of getting the correct classes by putting this right into this next loop.*\n",
    "\n",
    "## 3) Train Deep Classifier:\n",
    "$\\hat{f}\\in \\operatorname{argmin}_{f \\in \\mathcal{NN}_{d:N}^{\\star}} \n",
    "\\sum_{x \\in \\mathbb{X}}\n",
    "\\, \n",
    "\\mathbb{H}\n",
    "\\left(\n",
    "    \\operatorname{Softmax}_N\\circ f(x)_n| I\\left\\{W_1(\\hat{\\mu}_n,\\mu_x),\\inf_{m\\leq N} W_1(\\hat{\\mu}_m,\\mu_x)\\right\\}\n",
    "\\right);\n",
    "$\n",
    "where $\\mathbb{H}$ is the categorical cross-entropy.  \n",
    "\n",
    "---\n",
    "---\n",
    "---\n",
    "## Notes - Why the procedure is so computationally efficient?\n",
    "---\n",
    " - The sample barycenters do not require us to solve for any new Wasserstein-1 Barycenters; which is much more computationally costly,\n",
    " - Our training procedure never back-propages through $\\mathcal{W}_1$ since steps 2 and 3 are full-decoupled.  Therefore, training our deep classifier is (comparatively) cheap since it takes values in the standard $N$-simplex.\n",
    "\n",
    "---"
   ]
  },
  {
   "cell_type": "markdown",
   "metadata": {},
   "source": [
    "## Meta-Parameters"
   ]
  },
  {
   "cell_type": "markdown",
   "metadata": {},
   "source": [
    "### Simulation"
   ]
  },
  {
   "cell_type": "markdown",
   "metadata": {},
   "source": [
    "#### Ground Truth:\n",
    "*The build-in Options:*\n",
    "- rSDE \n",
    "- pfBM\n",
    "- 2lnflow"
   ]
  },
  {
   "cell_type": "code",
   "execution_count": 1,
   "metadata": {},
   "outputs": [],
   "source": [
    "# Option 1:\n",
    "# groud_truth = \"rSDE\"\n",
    "# Option 2:\n",
    "groud_truth = \"2lnflow\"\n",
    "## Option 3:\n",
    "# groud_truth = \"pfBM\""
   ]
  },
  {
   "cell_type": "markdown",
   "metadata": {},
   "source": [
    "#### Grid Hyperparameter(s)"
   ]
  },
  {
   "cell_type": "code",
   "execution_count": 2,
   "metadata": {},
   "outputs": [],
   "source": [
    "## Monte-Carlo\n",
    "N_Euler_Maruyama_Steps = 10*2\n",
    "N_Monte_Carlo_Samples = 10**2\n",
    "N_Monte_Carlo_Samples_Test = 10**3 # How many MC-samples to draw from test-set?\n",
    "\n",
    "# End times for Time-Grid\n",
    "T_end = 1\n",
    "T_end_test = 1.1\n",
    "\n",
    "\n",
    "## Grid\n",
    "N_Grid_Finess = 10*2\n",
    "Max_Grid = 0.5\n",
    "x_0 = 1\n",
    "\n",
    "# Number of Centers (\\hat{\\mu}_s)\n",
    "N_Quantizers_to_parameterize = 10**2"
   ]
  },
  {
   "cell_type": "markdown",
   "metadata": {},
   "source": [
    "This option sets $\\delta$ in $B_{\\mathbb{R}\\times [0,\\infty)}(\\hat{x}_n,\\delta)$; where $\\hat{x}_n\\in \\nu_{\\cdot}^{-1}[\\hat{\\mu}]$.  N_measures_per_center sets the number of samples to draw in this ball...by construction the training set is $\\delta$-bounded and $\\nu_{(x,t)}$, for any such $x$ is $\\omega_{\\nu_{\\cdot}}(\\delta)$-bounded in $\\mathcal{P}_1(\\mathbb{R})$."
   ]
  },
  {
   "cell_type": "code",
   "execution_count": 3,
   "metadata": {},
   "outputs": [],
   "source": [
    "# Hyper-parameters of Cover\n",
    "delta = 0.1\n",
    "N_measures_per_center = 100"
   ]
  },
  {
   "cell_type": "markdown",
   "metadata": {},
   "source": [
    "**Note**: Setting *N_Quantizers_to_parameterize* prevents any barycenters and sub-sampling."
   ]
  },
  {
   "cell_type": "markdown",
   "metadata": {},
   "source": [
    "#### Mode: Code-Testin Parameter(s)\n",
    "- True: $\\Rightarrow$ cross validation through grid of very mild parameters just to test hardward or software.\n",
    "- False: $\\Rightarrow$ run CV-grid."
   ]
  },
  {
   "cell_type": "code",
   "execution_count": 4,
   "metadata": {},
   "outputs": [],
   "source": [
    "trial_run = True"
   ]
  },
  {
   "cell_type": "markdown",
   "metadata": {},
   "source": [
    "### Meta-parameters\n",
    "Ratio $\\frac{\\text{Testing Datasize}}{\\text{Training Datasize}}$."
   ]
  },
  {
   "cell_type": "code",
   "execution_count": 5,
   "metadata": {},
   "outputs": [],
   "source": [
    "test_size_ratio = .25"
   ]
  },
  {
   "cell_type": "markdown",
   "metadata": {},
   "source": [
    "## Simulation from Rough SDE\n",
    "Simulate via Euler-M method from:\n",
    "$$ \n",
    "X_T^x = x + \\int_0^T \\alpha(s,X_s^x)ds + \\int_0^T((1-\\eta)\\beta(s,X_s^s)+\\eta\\sigma_s^H)dW_s.\n",
    "$$"
   ]
  },
  {
   "cell_type": "markdown",
   "metadata": {},
   "source": [
    "### Drift"
   ]
  },
  {
   "cell_type": "code",
   "execution_count": 6,
   "metadata": {},
   "outputs": [],
   "source": [
    "def alpha(t,x):\n",
    "    return np.sin(math.pi*t)"
   ]
  },
  {
   "cell_type": "markdown",
   "metadata": {},
   "source": [
    "### Volatility"
   ]
  },
  {
   "cell_type": "code",
   "execution_count": 7,
   "metadata": {},
   "outputs": [],
   "source": [
    "def beta(t,x):\n",
    "    return x"
   ]
  },
  {
   "cell_type": "markdown",
   "metadata": {},
   "source": [
    "### Roughness Meta-parameters\n",
    " - Roughness is $H$,\n",
    " - Ratio_fBM_to_typical_vol is $\\eta$."
   ]
  },
  {
   "cell_type": "code",
   "execution_count": 8,
   "metadata": {},
   "outputs": [],
   "source": [
    "Rougness = 0.9 # Hurst Parameter\n",
    "Ratio_fBM_to_typical_vol = 0.5 # $\\eta$ in equation above."
   ]
  },
  {
   "cell_type": "markdown",
   "metadata": {},
   "source": [
    "## Simulation from Measure-Valued $2$-Parameter Log-Gaussian Flow\n",
    "$$\n",
    "X_{t,x} \\sim \\log\\text{-}\\mathcal{N}\\left(\\alpha(t,x),\\beta(t,x)\\right).\n",
    "$$"
   ]
  },
  {
   "cell_type": "markdown",
   "metadata": {},
   "source": [
    "**Note:** *$\\alpha$ and $\\beta$ are specified below in the SDE Example*."
   ]
  },
  {
   "cell_type": "code",
   "execution_count": null,
   "metadata": {},
   "outputs": [
    {
     "name": "stderr",
     "output_type": "stream",
     "text": [
      "Using TensorFlow backend.\n",
      " 38%|███▊      | 38/100 [00:00<00:00, 377.23it/s]"
     ]
    },
    {
     "name": "stdout",
     "output_type": "stream",
     "text": [
      "Deep Feature Builder - Ready\n",
      "Deep Classifier - Ready\n",
      "Building Training Set - 2-logNormal Ground-Truth\n"
     ]
    },
    {
     "name": "stderr",
     "output_type": "stream",
     "text": [
      "100%|██████████| 100/100 [00:00<00:00, 277.99it/s]\n",
      "100%|██████████| 10/10 [00:00<00:00, 4818.82it/s]"
     ]
    },
    {
     "name": "stdout",
     "output_type": "stream",
     "text": [
      "Building Test Set - 2-logNormal Ground-Truth\n",
      "Deep Feature Builder - Ready\n",
      "Deep Classifier - Ready\n",
      "==========================================\n",
      "Training Classifer Portion of Type-A Model\n",
      "==========================================\n",
      "Fitting 2 folds for each of 1 candidates, totalling 2 fits\n"
     ]
    },
    {
     "name": "stderr",
     "output_type": "stream",
     "text": [
      "\n",
      "[Parallel(n_jobs=4)]: Using backend LokyBackend with 4 concurrent workers.\n",
      "[Parallel(n_jobs=4)]: Done   2 out of   2 | elapsed:  2.1min remaining:    0.0s\n",
      "[Parallel(n_jobs=4)]: Done   2 out of   2 | elapsed:  2.1min finished\n"
     ]
    },
    {
     "name": "stdout",
     "output_type": "stream",
     "text": [
      "Epoch 1/200\n",
      "316/316 [==============================] - 1s 2ms/step - loss: 3.0130 - accuracy: 0.1766\n",
      "Epoch 2/200\n",
      "316/316 [==============================] - 1s 2ms/step - loss: 1.4280 - accuracy: 0.4834\n",
      "Epoch 3/200\n",
      "316/316 [==============================] - 1s 3ms/step - loss: 1.0492 - accuracy: 0.6050\n",
      "Epoch 4/200\n",
      "316/316 [==============================] - 1s 3ms/step - loss: 0.8877 - accuracy: 0.6605\n",
      "Epoch 5/200\n",
      "316/316 [==============================] - 1s 4ms/step - loss: 0.8188 - accuracy: 0.6749\n",
      "Epoch 6/200\n",
      "316/316 [==============================] - 1s 3ms/step - loss: 0.7091 - accuracy: 0.7236\n",
      "Epoch 7/200\n",
      "316/316 [==============================] - 1s 4ms/step - loss: 0.6657 - accuracy: 0.7355\n",
      "Epoch 8/200\n",
      "316/316 [==============================] - 1s 3ms/step - loss: 0.6508 - accuracy: 0.7361\n",
      "Epoch 9/200\n",
      "316/316 [==============================] - 1s 2ms/step - loss: 0.6334 - accuracy: 0.7493\n",
      "Epoch 10/200\n",
      "316/316 [==============================] - 1s 2ms/step - loss: 0.6151 - accuracy: 0.7515\n",
      "Epoch 11/200\n",
      "316/316 [==============================] - 1s 2ms/step - loss: 0.5632 - accuracy: 0.7709\n",
      "Epoch 12/200\n",
      "316/316 [==============================] - 1s 3ms/step - loss: 0.5638 - accuracy: 0.7697\n",
      "Epoch 13/200\n",
      "316/316 [==============================] - 1s 2ms/step - loss: 0.5505 - accuracy: 0.7740\n",
      "Epoch 14/200\n",
      "316/316 [==============================] - 1s 2ms/step - loss: 0.5098 - accuracy: 0.7909\n",
      "Epoch 15/200\n",
      "316/316 [==============================] - 1s 2ms/step - loss: 0.5397 - accuracy: 0.7806\n",
      "Epoch 16/200\n",
      "316/316 [==============================] - 1s 2ms/step - loss: 0.5168 - accuracy: 0.7906\n",
      "Epoch 17/200\n",
      "316/316 [==============================] - 1s 2ms/step - loss: 0.5066 - accuracy: 0.7901\n",
      "Epoch 18/200\n",
      "316/316 [==============================] - 1s 2ms/step - loss: 0.5118 - accuracy: 0.7938\n",
      "Epoch 19/200\n",
      "316/316 [==============================] - 1s 2ms/step - loss: 0.4906 - accuracy: 0.7992\n",
      "Epoch 20/200\n",
      "316/316 [==============================] - 1s 2ms/step - loss: 0.4685 - accuracy: 0.8083\n",
      "Epoch 21/200\n",
      "316/316 [==============================] - 1s 2ms/step - loss: 0.5000 - accuracy: 0.7943\n",
      "Epoch 22/200\n",
      "316/316 [==============================] - 1s 2ms/step - loss: 0.4536 - accuracy: 0.8136\n",
      "Epoch 23/200\n",
      "316/316 [==============================] - 1s 2ms/step - loss: 0.4509 - accuracy: 0.8143\n",
      "Epoch 24/200\n",
      "316/316 [==============================] - 1s 2ms/step - loss: 0.4319 - accuracy: 0.8235\n",
      "Epoch 25/200\n",
      "316/316 [==============================] - 1s 2ms/step - loss: 0.4439 - accuracy: 0.8177\n",
      "Epoch 26/200\n",
      "316/316 [==============================] - 1s 2ms/step - loss: 0.4489 - accuracy: 0.8158\n",
      "Epoch 27/200\n",
      "316/316 [==============================] - 1s 2ms/step - loss: 0.4602 - accuracy: 0.8113\n",
      "Epoch 28/200\n",
      "316/316 [==============================] - 1s 2ms/step - loss: 0.4146 - accuracy: 0.8285\n",
      "Epoch 29/200\n",
      "316/316 [==============================] - 1s 2ms/step - loss: 0.4305 - accuracy: 0.8233\n",
      "Epoch 30/200\n",
      "316/316 [==============================] - 1s 2ms/step - loss: 0.4236 - accuracy: 0.8277\n",
      "Epoch 31/200\n",
      "316/316 [==============================] - 1s 2ms/step - loss: 0.3997 - accuracy: 0.8355\n",
      "Epoch 32/200\n",
      "316/316 [==============================] - 1s 2ms/step - loss: 0.4453 - accuracy: 0.8157\n",
      "Epoch 33/200\n",
      "316/316 [==============================] - 1s 2ms/step - loss: 0.4152 - accuracy: 0.8289\n",
      "Epoch 34/200\n",
      "316/316 [==============================] - 1s 2ms/step - loss: 0.4104 - accuracy: 0.8275\n",
      "Epoch 35/200\n",
      "316/316 [==============================] - 1s 2ms/step - loss: 0.4221 - accuracy: 0.8251\n",
      "Epoch 36/200\n",
      "316/316 [==============================] - 1s 2ms/step - loss: 0.3861 - accuracy: 0.8389\n",
      "Epoch 37/200\n",
      "316/316 [==============================] - 1s 2ms/step - loss: 0.3917 - accuracy: 0.8380\n",
      "Epoch 38/200\n",
      "316/316 [==============================] - 1s 2ms/step - loss: 0.4084 - accuracy: 0.8292\n",
      "Epoch 39/200\n",
      "316/316 [==============================] - 1s 2ms/step - loss: 0.4062 - accuracy: 0.8305\n",
      "Epoch 40/200\n",
      "316/316 [==============================] - 1s 2ms/step - loss: 0.3814 - accuracy: 0.8391\n",
      "Epoch 41/200\n",
      "316/316 [==============================] - 1s 2ms/step - loss: 0.3618 - accuracy: 0.8499\n",
      "Epoch 42/200\n",
      "316/316 [==============================] - 1s 2ms/step - loss: 0.3973 - accuracy: 0.8340\n",
      "Epoch 43/200\n",
      "316/316 [==============================] - 1s 2ms/step - loss: 0.3597 - accuracy: 0.8516\n",
      "Epoch 44/200\n",
      "316/316 [==============================] - 1s 2ms/step - loss: 0.3968 - accuracy: 0.8379\n",
      "Epoch 45/200\n",
      "316/316 [==============================] - 1s 2ms/step - loss: 0.3847 - accuracy: 0.8410\n",
      "Epoch 46/200\n",
      "316/316 [==============================] - 1s 2ms/step - loss: 0.3471 - accuracy: 0.8549\n",
      "Epoch 47/200\n",
      "316/316 [==============================] - 1s 2ms/step - loss: 0.3546 - accuracy: 0.8515\n",
      "Epoch 48/200\n",
      "316/316 [==============================] - 1s 2ms/step - loss: 0.3770 - accuracy: 0.8435\n",
      "Epoch 49/200\n",
      "316/316 [==============================] - 1s 2ms/step - loss: 0.3842 - accuracy: 0.8445\n",
      "Epoch 50/200\n",
      "316/316 [==============================] - 1s 2ms/step - loss: 0.3726 - accuracy: 0.8469\n",
      "Epoch 51/200\n",
      "316/316 [==============================] - 1s 2ms/step - loss: 0.3388 - accuracy: 0.8571\n",
      "Epoch 52/200\n",
      "316/316 [==============================] - 1s 2ms/step - loss: 0.3694 - accuracy: 0.8457\n",
      "Epoch 53/200\n",
      "316/316 [==============================] - 1s 2ms/step - loss: 0.3660 - accuracy: 0.8478\n",
      "Epoch 54/200\n",
      "316/316 [==============================] - 1s 2ms/step - loss: 0.3509 - accuracy: 0.8569\n",
      "Epoch 55/200\n",
      "316/316 [==============================] - 1s 2ms/step - loss: 0.3407 - accuracy: 0.8575\n",
      "Epoch 56/200\n",
      "316/316 [==============================] - 1s 2ms/step - loss: 0.3609 - accuracy: 0.8482\n",
      "Epoch 57/200\n",
      "316/316 [==============================] - 1s 2ms/step - loss: 0.3307 - accuracy: 0.8629\n",
      "Epoch 58/200\n",
      "316/316 [==============================] - 1s 2ms/step - loss: 0.3507 - accuracy: 0.8566\n",
      "Epoch 59/200\n",
      " 55/316 [====>.........................] - ETA: 0s - loss: 0.2741 - accuracy: 0.8790"
     ]
    }
   ],
   "source": [
    "# Run Backend\n",
    "# %run Universal_Processes_Trainer_BACKEND.ipynb\n",
    "exec(open('Universal_Processes_Trainer_BACKEND.py').read())"
   ]
  },
  {
   "cell_type": "markdown",
   "metadata": {},
   "source": [
    "# Visualization\n",
    "*From hereon out...do nothing and just let the backend sript run...the images and tables will load :).*"
   ]
  },
  {
   "cell_type": "code",
   "execution_count": null,
   "metadata": {
    "scrolled": false
   },
   "outputs": [],
   "source": [
    "# Run Backend\n",
    "# %run Universal_Processes_Trainer_Visuals.ipynb\n",
    "exec(open('Universal_Processes_Trainer_Visuals.py').read())"
   ]
  },
  {
   "cell_type": "markdown",
   "metadata": {},
   "source": [
    "## Update User\n",
    "We empirically estimate the standard error and confidence intervals or the relevant error distributions using the method of this paper: [Bootstrap Methods for Standard Errors, Confidence Intervals, and Other Measures of Statistical Accuracy - by: B. Efron and R. Tibshirani ](https://www.jstor.org/stable/2245500?casa_token=w_8ZaRuo1qwAAAAA%3Ax5kzbYXzxGSWj-EZaC10XyOVADJyKQGXOVA9huJejP9Tt7fgMNhmPhj-C3WdgbB9AEZdqjT5q_azPmBLH6pDq61jzVFxV4XxqBuerQRBLaaOFKcyr0s&seq=1#metadata_info_tab_contents)"
   ]
  },
  {
   "cell_type": "markdown",
   "metadata": {},
   "source": [
    "### Training-Set Performance"
   ]
  },
  {
   "cell_type": "code",
   "execution_count": null,
   "metadata": {},
   "outputs": [],
   "source": [
    "Type_A_Prediction"
   ]
  },
  {
   "cell_type": "markdown",
   "metadata": {},
   "source": [
    "#### Predictions"
   ]
  },
  {
   "cell_type": "code",
   "execution_count": null,
   "metadata": {},
   "outputs": [],
   "source": [
    "Type_A_Predictions_and_confidence.T"
   ]
  },
  {
   "cell_type": "markdown",
   "metadata": {},
   "source": [
    "### Test-Set Performance"
   ]
  },
  {
   "cell_type": "code",
   "execution_count": null,
   "metadata": {},
   "outputs": [],
   "source": [
    "Type_A_Prediction_test"
   ]
  },
  {
   "cell_type": "markdown",
   "metadata": {},
   "source": [
    "#### Predictions"
   ]
  },
  {
   "cell_type": "code",
   "execution_count": null,
   "metadata": {},
   "outputs": [],
   "source": [
    "Type_A_Predictions_and_confidence_test.T"
   ]
  },
  {
   "cell_type": "markdown",
   "metadata": {},
   "source": [
    "### Model Complexity"
   ]
  },
  {
   "cell_type": "code",
   "execution_count": null,
   "metadata": {},
   "outputs": [],
   "source": [
    "Model_Complexity"
   ]
  },
  {
   "cell_type": "markdown",
   "metadata": {},
   "source": [
    "---"
   ]
  },
  {
   "cell_type": "markdown",
   "metadata": {},
   "source": [
    "---\n",
    "# Fin\n",
    "---"
   ]
  },
  {
   "cell_type": "markdown",
   "metadata": {},
   "source": [
    "---"
   ]
  }
 ],
 "metadata": {
  "kernelspec": {
   "display_name": "Python 3",
   "language": "python",
   "name": "python3"
  },
  "language_info": {
   "codemirror_mode": {
    "name": "ipython",
    "version": 3
   },
   "file_extension": ".py",
   "mimetype": "text/x-python",
   "name": "python",
   "nbconvert_exporter": "python",
   "pygments_lexer": "ipython3",
   "version": "3.7.7"
  }
 },
 "nbformat": 4,
 "nbformat_minor": 2
}
