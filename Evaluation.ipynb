{
 "cells": [
  {
   "cell_type": "markdown",
   "metadata": {},
   "source": [
    "# Evaluation Metrics and Scripts"
   ]
  },
  {
   "cell_type": "markdown",
   "metadata": {},
   "source": [
    "Initialize \"Higher Moments\" Loss Metric\n",
    "$$\n",
    "\\sum_{k=1}^K \\frac{|\\sum_{x \\in \\mathbb{X}}x^k\\hat{\\nu}(x) - \\mu_k|}{k!}\n",
    "$$"
   ]
  },
  {
   "cell_type": "code",
   "execution_count": null,
   "metadata": {},
   "outputs": [],
   "source": [
    "def Higher_Moments_Loss(Mu_hat_input,Mu_hat_MC_input):\n",
    "    for k in range(10):\n",
    "        moment_hat_loop = np.sum((Mu_hat_input**k)*points_of_mass)/np.math.factorial(k)\n",
    "        moment_MC_hat_loop = np.mean(Mu_hat_MC_input**k)/np.math.factorial(k)\n",
    "        if k == 0:\n",
    "            moment_hat = moment_hat_loop\n",
    "            moment_MC_hat = moment_MC_hat_loop\n",
    "        else:\n",
    "            moment_hat = np.append(moment_hat,moment_hat_loop)\n",
    "            moment_MC_hat = np.append(moment_MC_hat,moment_MC_hat_loop)\n",
    "\n",
    "    return moment_hat,moment_MC_hat"
   ]
  },
  {
   "cell_type": "markdown",
   "metadata": {},
   "source": [
    "### Get Loss Statistics"
   ]
  }
 ],
 "metadata": {
  "kernelspec": {
   "display_name": "Python 3",
   "language": "python",
   "name": "python3"
  },
  "language_info": {
   "codemirror_mode": {
    "name": "ipython",
    "version": 3
   },
   "file_extension": ".py",
   "mimetype": "text/x-python",
   "name": "python",
   "nbconvert_exporter": "python",
   "pygments_lexer": "ipython3",
   "version": "3.7.7"
  }
 },
 "nbformat": 4,
 "nbformat_minor": 2
}
