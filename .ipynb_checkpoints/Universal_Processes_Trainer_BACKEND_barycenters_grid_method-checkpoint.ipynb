{
 "cells": [
  {
   "cell_type": "markdown",
   "metadata": {},
   "source": [
    "# Universal $\\mathcal{P}_1(\\mathbb{R})$-Deep Neural Model (Type A)\n",
    "---"
   ]
  },
  {
   "cell_type": "markdown",
   "metadata": {},
   "source": [
    "---\n",
    "# Training Algorithm:\n",
    "---\n",
    "## 1) Generate Data:\n",
    "Generates the empirical measure $\\sum_{n=1}^N \\delta_{X_T(\\omega_n)}$ of $X_T$ conditional on $X_0=x_0\\in \\mathbb{R}$ *($x_0$ and $T>0$ are user-provided)*.\n",
    "\n",
    "## 2) Get \"Sample Barycenters\":\n",
    "Let $\\{\\mu_n\\}_{n=1}^N\\subset\\mathcal{P}_1(\\mathbb{R}^d)$.  Then, the *sample barycenter* is defined by:\n",
    "1. $\\mathcal{M}^{(0)}\\triangleq \\left\\{\\hat{\\mu}_n\\right\\}_{n=1}^N$,\n",
    "2. For $1\\leq n\\leq \\mbox{N sample barycenters}$: \n",
    "    - $\n",
    "\\mu^{\\star}\\in \\underset{\\tilde{\\mu}\\in \\mathcal{M}^{(n)}}{\\operatorname{argmin}}\\, \\sum_{n=1}^N \\mathcal{W}_1\\left(\\mu^{\\star},\\mu_n\\right),\n",
    "$\n",
    "    - $\\mathcal{M}^{(n)}\\triangleq \\mathcal{M}^{(n-1)} - \\{\\mu^{\\star}\\},$\n",
    "*i.e., the closest generated measure form the random sample to all other elements of the random sample.*\n",
    "\n",
    "---\n",
    "**Note:** *We simplify the computational burden of getting the correct classes by putting this right into this next loop.*\n",
    "\n",
    "## 3) Train Deep Classifier:\n",
    "$\\hat{f}\\in \\operatorname{argmin}_{f \\in \\mathcal{NN}_{d:N}^{\\star}} \n",
    "\\sum_{x \\in \\mathbb{X}}\n",
    "\\, \n",
    "\\mathbb{H}\n",
    "\\left(\n",
    "    \\operatorname{Softmax}_N\\circ f(x)_n| I\\left\\{W_1(\\hat{\\mu}_n,\\mu_x),\\inf_{m\\leq N} W_1(\\hat{\\mu}_m,\\mu_x)\\right\\}\n",
    "\\right);\n",
    "$\n",
    "where $\\mathbb{H}$ is the categorical cross-entropy.  \n",
    "\n",
    "---\n",
    "---\n",
    "---\n",
    "## Notes - Why the procedure is so computationally efficient?\n",
    "---\n",
    " - The sample barycenters do not require us to solve for any new Wasserstein-1 Barycenters; which is much more computationally costly,\n",
    " - Our training procedure never back-propages through $\\mathcal{W}_1$ since steps 2 and 3 are full-decoupled.  Therefore, training our deep classifier is (comparatively) cheap since it takes values in the standard $N$-simplex.\n",
    "\n",
    "---"
   ]
  },
  {
   "cell_type": "markdown",
   "metadata": {},
   "source": [
    "## Meta-Parameters"
   ]
  },
  {
   "cell_type": "markdown",
   "metadata": {},
   "source": [
    "### Visualization"
   ]
  },
  {
   "cell_type": "code",
   "execution_count": 22,
   "metadata": {},
   "outputs": [],
   "source": [
    "# How many random polulations to visualize:\n",
    "Visualization_Size = 4"
   ]
  },
  {
   "cell_type": "markdown",
   "metadata": {},
   "source": [
    "### Simulation"
   ]
  },
  {
   "cell_type": "markdown",
   "metadata": {},
   "source": [
    "#### Ground Truth:\n",
    "*The build-in Options:*\n",
    "- rSDE \n",
    "- pfBM\n",
    "- 2lnflow"
   ]
  },
  {
   "cell_type": "code",
   "execution_count": 23,
   "metadata": {},
   "outputs": [],
   "source": [
    "groud_truth = \"rSDE\""
   ]
  },
  {
   "cell_type": "markdown",
   "metadata": {},
   "source": [
    "#### Grid Hyperparameter(s)"
   ]
  },
  {
   "cell_type": "code",
   "execution_count": 24,
   "metadata": {},
   "outputs": [],
   "source": [
    "## Monte-Carlo\n",
    "N_Euler_Maruyama_Steps = 10\n",
    "N_Monte_Carlo_Samples = 10**1\n",
    "N_Monte_Carlo_Samples_Test = 10**1 # How many MC-samples to draw from test-set?\n",
    "\n",
    "# End times for Time-Grid\n",
    "T_end = 1\n",
    "T_end_test = 1.1\n",
    "\n",
    "\n",
    "## Grid\n",
    "N_Grid_Finess = 10\n",
    "Max_Grid = 1"
   ]
  },
  {
   "cell_type": "markdown",
   "metadata": {},
   "source": [
    "**Note**: Setting *N_Quantizers_to_parameterize* prevents any barycenters and sub-sampling."
   ]
  },
  {
   "cell_type": "markdown",
   "metadata": {},
   "source": [
    "### Random Cover"
   ]
  },
  {
   "cell_type": "code",
   "execution_count": 25,
   "metadata": {},
   "outputs": [],
   "source": [
    "# TEMP:\n",
    "from operator import itemgetter \n",
    "from itertools import compress\n",
    "# Set Minibatch Size\n",
    "Random_Cover_Mini_Batch_Size = 100\n",
    "# Proportion of Clusters per Minibatch Sample\n",
    "Quantization_Proportion = 0.75"
   ]
  },
  {
   "cell_type": "markdown",
   "metadata": {},
   "source": [
    "#### Mode: Code-Testin Parameter(s)"
   ]
  },
  {
   "cell_type": "code",
   "execution_count": 26,
   "metadata": {},
   "outputs": [],
   "source": [
    "trial_run = True"
   ]
  },
  {
   "cell_type": "markdown",
   "metadata": {},
   "source": [
    "### Meta-parameters"
   ]
  },
  {
   "cell_type": "code",
   "execution_count": 27,
   "metadata": {},
   "outputs": [],
   "source": [
    "# Test-size Ratio\n",
    "test_size_ratio = .25"
   ]
  },
  {
   "cell_type": "markdown",
   "metadata": {},
   "source": [
    "## Simulation from Measure-Valued $2$-Parameter Gaussian Flow\n",
    "$$\n",
    "X_{t,x} \\sim \\mathcal{N}\\left(\\alpha(t,x),\\beta(t,x)\\right).\n",
    "$$"
   ]
  },
  {
   "cell_type": "markdown",
   "metadata": {},
   "source": [
    "**Note:** *$\\alpha$ and $\\beta$ are specified below in the SDE Example*."
   ]
  },
  {
   "cell_type": "markdown",
   "metadata": {},
   "source": [
    "## Simulation from Rough SDE\n",
    "Simulate via Euler-M method from:\n",
    "$$ \n",
    "X_T = x + \\int_0^T \\alpha(s,x)ds + \\int_0^T((1-\\eta)\\beta(s,x)+\\eta\\sigma_s^H)dW_s.\n",
    "$$"
   ]
  },
  {
   "cell_type": "markdown",
   "metadata": {},
   "source": [
    "### Drift"
   ]
  },
  {
   "cell_type": "code",
   "execution_count": 28,
   "metadata": {},
   "outputs": [],
   "source": [
    "def alpha(t,x):\n",
    "    return .1*x"
   ]
  },
  {
   "cell_type": "markdown",
   "metadata": {},
   "source": [
    "### Volatility"
   ]
  },
  {
   "cell_type": "code",
   "execution_count": 53,
   "metadata": {},
   "outputs": [],
   "source": [
    "def beta(t,x):\n",
    "    return .01"
   ]
  },
  {
   "cell_type": "markdown",
   "metadata": {},
   "source": [
    "### Roughness Meta-parameters"
   ]
  },
  {
   "cell_type": "code",
   "execution_count": 54,
   "metadata": {},
   "outputs": [],
   "source": [
    "Rougness = 0.9 # Hurst Parameter\n",
    "Ratio_fBM_to_typical_vol = 0 # $\\eta$ in equation above."
   ]
  },
  {
   "cell_type": "markdown",
   "metadata": {},
   "source": [
    "## Perturbed Fractional Brownian Motion\n",
    "Simulate from:\n",
    "$$\n",
    "X_t^x(\\omega) = f_1(x)f_2(t) + B_t^H(\\omega).\n",
    "$$"
   ]
  },
  {
   "cell_type": "code",
   "execution_count": 55,
   "metadata": {},
   "outputs": [],
   "source": [
    "def field_dirction_x(x):\n",
    "    return x*np.cos(x)\n",
    "\n",
    "def finite_variation_t(t):\n",
    "    return t*(np.sin(math.pi*t) + np.exp(-t))"
   ]
  },
  {
   "cell_type": "markdown",
   "metadata": {},
   "source": [
    "### Get Paths"
   ]
  },
  {
   "cell_type": "code",
   "execution_count": 11,
   "metadata": {},
   "outputs": [],
   "source": [
    "# load dataset\n",
    "results_path = \"./outputs/models/\"\n",
    "results_tables_path = \"./outputs/results/\"\n",
    "raw_data_path_folder = \"./inputs/raw/\"\n",
    "data_path_folder = \"./inputs/data/\""
   ]
  },
  {
   "cell_type": "markdown",
   "metadata": {},
   "source": [
    "### Import"
   ]
  },
  {
   "cell_type": "code",
   "execution_count": 32,
   "metadata": {},
   "outputs": [
    {
     "name": "stdout",
     "output_type": "stream",
     "text": [
      "Deep Feature Builder - Ready\n",
      "Deep Classifier - Ready\n"
     ]
    }
   ],
   "source": [
    "# Load Packages/Modules\n",
    "exec(open('Init_Dump.py').read())\n",
    "# Load Hyper-parameter Grid\n",
    "exec(open('CV_Grid.py').read())\n",
    "# Load Helper Function(s)\n",
    "# %run ParaGAN_Backend.ipynb\n",
    "exec(open('Helper_Functions.py').read())\n",
    "# Import time separately\n",
    "import time"
   ]
  },
  {
   "cell_type": "markdown",
   "metadata": {},
   "source": [
    "### Set Seed"
   ]
  },
  {
   "cell_type": "code",
   "execution_count": 13,
   "metadata": {},
   "outputs": [],
   "source": [
    "random.seed(2021)\n",
    "np.random.seed(2021)\n",
    "tf.random.set_seed(2021)"
   ]
  },
  {
   "cell_type": "markdown",
   "metadata": {},
   "source": [
    "## Get Internal (Hyper)-Parameter(s)\n",
    "*Initialize the hyperparameters which are fully-specified by the user-provided hyperparameter(s).*"
   ]
  },
  {
   "cell_type": "markdown",
   "metadata": {},
   "source": [
    "### Initialize Grid\n",
    "This is $\\mathbb{X}$ and it represents the grid of initial states."
   ]
  },
  {
   "cell_type": "code",
   "execution_count": 33,
   "metadata": {},
   "outputs": [
    {
     "name": "stdout",
     "output_type": "stream",
     "text": [
      "Number of points in each minibatch grid axis:  10\n",
      "• Grid Instances:  110 and : 6  Testing instances.\n"
     ]
    }
   ],
   "source": [
    "# Get Input Data\n",
    "#----------------------------------------------------------#\n",
    "## Train\n",
    "x_Grid = np.arange(start=-Max_Grid,\n",
    "                   stop=Max_Grid,\n",
    "                   step=(2*Max_Grid/N_Grid_Finess))\n",
    "t_Grid = np.linspace(0,T_end,(1+N_Euler_Maruyama_Steps))\n",
    "## Get Number of Instances in Grid: Training\n",
    "N_Grid_Instances_x = len(x_Grid)\n",
    "N_Grid_Instances_t = len(t_Grid)\n",
    "N_Grid_Instances = N_Grid_Instances_x*N_Grid_Instances_t \n",
    "\n",
    "#----------------------------------------------------------#\n",
    "## Test\n",
    "x_Grid_test = np.sort(np.random.uniform(low=-Max_Grid,\n",
    "                                        high=Max_Grid,\n",
    "                                        size = max(round(len(x_Grid)*test_size_ratio),2)))\n",
    "t_Grid_test = np.linspace(T_end+0.001,T_end_test,(1+round(N_Euler_Maruyama_Steps*test_size_ratio)))\n",
    "# Get Number of Instances in Grid: Test\n",
    "N_Grid_Instances_x_test = len(x_Grid_test)\n",
    "N_Grid_Instances_t_test = len(t_Grid_test)\n",
    "N_Grid_Instances_test = N_Grid_Instances_x_test*N_Grid_Instances_t_test\n",
    "#----------------------------------------------------------#\n",
    "\n",
    "# Set Minibatch size\n",
    "Covering_Mini_Batch_Size = int(np.max(round(np.sqrt(Random_Cover_Mini_Batch_Size),1)))\n",
    "print(\"Number of points in each minibatch grid axis: \", Covering_Mini_Batch_Size)\n",
    "\n",
    "# Updater User\n",
    "print(\"\\u2022 Grid Instances: \", N_Grid_Instances, \"and :\",N_Grid_Instances_test,\" Testing instances.\")"
   ]
  },
  {
   "cell_type": "markdown",
   "metadata": {},
   "source": [
    "### Initialize Counting Parameters\n",
    "Initialize the \"conting\" type parameters which will help us to determine the length of loops and to intialize object's size later on.  "
   ]
  },
  {
   "cell_type": "code",
   "execution_count": 34,
   "metadata": {},
   "outputs": [
    {
     "name": "stdout",
     "output_type": "stream",
     "text": [
      "• 82  Centers will be produced; from a total datasize of:  10 !  (That's  0.75  percent).\n",
      "• Each Wasserstein-1 Ball should contain:  1 elements from the training set.\n"
     ]
    }
   ],
   "source": [
    "# Get Internal (Counting) Parameters\n",
    "N_Quantizers_to_parameterize = round(Quantization_Proportion*N_Grid_Instances)\n",
    "N_Elements_Per_Cluster = int(round(N_Grid_Instances/N_Quantizers_to_parameterize))\n",
    "\n",
    "# Update User\n",
    "print(\"\\u2022\",N_Quantizers_to_parameterize,\" Centers will be produced; from a total datasize of: \",N_Grid_Finess,\n",
    "      \"!  (That's \",Quantization_Proportion,\n",
    "      \" percent).\")\n",
    "print(\"\\u2022 Each Wasserstein-1 Ball should contain: \",\n",
    "      N_Elements_Per_Cluster, \n",
    "      \"elements from the training set.\")"
   ]
  },
  {
   "cell_type": "markdown",
   "metadata": {},
   "source": [
    "---"
   ]
  },
  {
   "cell_type": "markdown",
   "metadata": {},
   "source": [
    "### Simulate from non-Markovian SDE with rough volatility:\n",
    "$d X_t = \\alpha(t,X_t)dt + ((1-\\eta)\\beta(t,X_t)+\\eta\\sigma_t^H)dW_t ;\\qquad X_0 =x$\n",
    "Where $(\\sigma_t^H)_t$ is a fBM with Hurst parameter $H=0.01$ and $\\eta \\in [0,1]$ controlls the 'abount of long-term memory and roughness in $X_t$'."
   ]
  },
  {
   "cell_type": "markdown",
   "metadata": {},
   "source": [
    "### Define Sampler - Data-Generator"
   ]
  },
  {
   "cell_type": "code",
   "execution_count": 56,
   "metadata": {},
   "outputs": [],
   "source": [
    "%run Simulator.ipynb"
   ]
  },
  {
   "cell_type": "markdown",
   "metadata": {},
   "source": [
    "---"
   ]
  },
  {
   "cell_type": "markdown",
   "metadata": {},
   "source": [
    "### Initializations"
   ]
  },
  {
   "cell_type": "code",
   "execution_count": 65,
   "metadata": {},
   "outputs": [],
   "source": [
    "# Initialize List of Barycenters\n",
    "Wasserstein_Barycenters = []\n",
    "# Initialize Terminal-Time Empirical Measures\n",
    "## Training Outputs\n",
    "measures_locations_list = []\n",
    "measures_weights_list = []\n",
    "## Testing Outputs\n",
    "measures_locations_test_list = []\n",
    "measures_weights_test_list = []\n",
    "# Grid (Training and Testing inputs (t,x))\n",
    "X_train = []\n",
    "X_test = []\n",
    "\n",
    "# Initialize (Empirical) Weight(s)\n",
    "measure_weights = np.ones(N_Monte_Carlo_Samples)/N_Monte_Carlo_Samples\n",
    "measure_weights_test = np.ones(N_Monte_Carlo_Samples_Test)/N_Monte_Carlo_Samples_Test\n",
    "# Initialize Quantizer\n",
    "Init_Quantizer_generic = np.ones(N_Monte_Carlo_Samples)/N_Monte_Carlo_Samples"
   ]
  },
  {
   "cell_type": "markdown",
   "metadata": {},
   "source": [
    "## Generate $\\{\\hat{\\nu}^{N}_{T,x}\\}_{x \\in \\mathbb{X}}$ Build Wasserstein Cover"
   ]
  },
  {
   "cell_type": "markdown",
   "metadata": {},
   "source": [
    "Generate Training and Testing Data:"
   ]
  },
  {
   "cell_type": "markdown",
   "metadata": {},
   "source": [
    "### Gaussian $2$-Parameter Flow"
   ]
  },
  {
   "cell_type": "code",
   "execution_count": 97,
   "metadata": {},
   "outputs": [
    {
     "name": "stderr",
     "output_type": "stream",
     "text": [
      "100%|██████████| 10/10 [00:00<00:00, 128.09it/s]\n",
      "100%|██████████| 2/2 [00:00<00:00, 193.08it/s]"
     ]
    },
    {
     "name": "stdout",
     "output_type": "stream",
     "text": [
      "rSDE!\n",
      "Using Euler-Maruyama distritization + Monte-Carlo Sampling.\n",
      "===================================\n",
      "Start Simulation Step: Training Set\n",
      "===================================\n",
      "==================================\n",
      "Done Simulation Step: Training Set\n",
      "==================================\n",
      "Using Euler-Maruyama distritization + Monte-Carlo Sampling.\n",
      "===================================\n",
      "Start Simulation Step: Training Set\n",
      "===================================\n",
      "==================================\n",
      "Done Simulation Step: Training Set\n",
      "==================================\n"
     ]
    },
    {
     "name": "stderr",
     "output_type": "stream",
     "text": [
      "\n"
     ]
    }
   ],
   "source": [
    "if groud_truth == \"2lnflow\":\n",
    "    print(\"2lnflow!\")\n",
    "    measures_locations_list, measures_weights_list, X_train = measure_valued_direct_sampling(x_Grid,t_Grid,N_Monte_Carlo_Samples)\n",
    "    measures_locations_list_test, measures_weights_list_test, X_test = measure_valued_direct_sampling(x_Grid_test,t_Grid_test,N_Monte_Carlo_Samples_Test)     \n",
    "\n",
    "if groud_truth == \"rSDE\":\n",
    "    print(\"rSDE!\")\n",
    "    measures_locations_list, measures_weights_list, X_train = Euler_Maruyama_simulator(x_Grid,t_Grid,N_Monte_Carlo_Samples)\n",
    "    measures_locations_list_test, measures_weights_list_test, X_test = Euler_Maruyama_simulator(x_Grid_test,t_Grid_test,N_Monte_Carlo_Samples_Test)     \n",
    "    \n",
    "if groud_truth == \"pfBM\":\n",
    "    print(\"pFBM!\")\n",
    "    measures_locations_list, measures_weights_list, X_train= perturbed_fBM_simulator(x_Grid,t_Grid,N_Monte_Carlo_Samples)\n",
    "    measures_locations_list_test, measures_weights_list_test, X_test= perturbed_fBM_simulator(x_Grid_test,t_Grid_test,N_Monte_Carlo_Samples_Test)"
   ]
  },
  {
   "cell_type": "markdown",
   "metadata": {},
   "source": [
    "### Perturbed fBM Generator:"
   ]
  },
  {
   "cell_type": "code",
   "execution_count": 104,
   "metadata": {},
   "outputs": [],
   "source": [
    "def perturbed_fBM_simulator(x_Grid,t_Grid,N_Monte_Carlo_Samples=10):\n",
    "    ## Get Dimensions\n",
    "    N_Grid_Instances_x = x_Grid.shape[0]\n",
    "    N_Grid_Instances_t = t_Grid.shape[0]\n",
    "    # Initializations\n",
    "    measure_weights = np.ones(N_Monte_Carlo_Samples)/N_Monte_Carlo_Samples\n",
    "    measures_locations_list_internal = []\n",
    "    measures_weights_list_internal = []\n",
    "\n",
    "\n",
    "    print(\"===================================\")\n",
    "    print(\"Start Simulation Step: Training Set\")\n",
    "    print(\"===================================\")\n",
    "    # Initialize fBM Generator\n",
    "    fBM_Generator = FBM(n=N_Euler_Maruyama_Steps, hurst=0.75, length=1, method='daviesharte')\n",
    "\n",
    "    # Perform Monte-Carlo Data Generation\n",
    "    for i in tqdm(range(N_Grid_Instances_x)):\n",
    "        # Get x\n",
    "        field_loop_x = field_dirction_x(x_Grid[i])\n",
    "        # Get omega and t\n",
    "        # Generate finite-variation path (since it stays unchanged)\n",
    "        finite_variation_path = finite_variation_t(t_Grid).reshape(-1,1) +field_loop_x\n",
    "        for n_MC in range(N_Monte_Carlo_Samples):\n",
    "            fBM_variation_path_loop = fBM_Generator.fbm().reshape(-1,1)\n",
    "            generated_path_loop = finite_variation_path + fBM_variation_path_loop\n",
    "            if n_MC == 0:\n",
    "                paths_loop = generated_path_loop\n",
    "            else:\n",
    "                paths_loop = np.append(paths_loop,generated_path_loop,axis=-1)\n",
    "        \n",
    "        # Map numpy to list\n",
    "        measures_locations_loop = paths_loop.tolist()\n",
    "        # Get inputs\n",
    "        X_train_loop = np.append(np.repeat(x_Grid[i],(N_Euler_Maruyama_Steps+1)).reshape(-1,1),\n",
    "                                 t_Grid.reshape(-1,1),\n",
    "                                 axis=1)\n",
    "        \n",
    "        # Append to List\n",
    "        measures_locations_list_internal = measures_locations_list_internal + measures_locations_loop\n",
    "        measures_weights_list_internal.append(measure_weights)\n",
    "        \n",
    "        # Update Inputs\n",
    "        if i==0:\n",
    "            X_grid_internal = X_train_loop\n",
    "        else:\n",
    "            X_grid_internal = np.append(X_train,X_train_loop,axis=0)\n",
    "    \n",
    "    # Update User\n",
    "    print(\"======================\")\n",
    "    print(\" Done Simulation Step \")\n",
    "    print(\"======================\")\n",
    "    \n",
    "    return measures_locations_list_internal, measures_weights_list_internal, X_grid_internal"
   ]
  },
  {
   "cell_type": "code",
   "execution_count": 20,
   "metadata": {},
   "outputs": [
    {
     "name": "stdout",
     "output_type": "stream",
     "text": [
      "Current Monte-Carlo Step:\n",
      "===============================--------------------------------------===============================\n",
      "===============================--------------------------------------===============================\n",
      "===============================--------------------------------------===============================\n",
      "===============================--------------------------------------===============================\n",
      "===============================--------------------------------------===============================\n",
      "===============================--------------------------------------===============================\n"
     ]
    }
   ],
   "source": [
    "# Update User\n",
    "print(\"Current Monte-Carlo Step:\")\n",
    "if groud_truth == \"pfBM\":\n",
    "    print(\"===================================\")\n",
    "    print(\"Start Simulation Step: Training Set\")\n",
    "    print(\"===================================\")\n",
    "    # Initialize fBM Generator\n",
    "    fBM_Generator = FBM(n=N_Euler_Maruyama_Steps, hurst=0.75, length=1, method='daviesharte')\n",
    "\n",
    "    # Perform Monte-Carlo Data Generation\n",
    "    for i in tqdm(range(N_Grid_Instances_x)):\n",
    "        # Get x\n",
    "        field_loop_x = field_dirction_x(x_Grid[i])\n",
    "        # Get omega and t\n",
    "        # Generate finite-variation path (since it stays unchanged)\n",
    "        finite_variation_path = finite_variation_t(t_Grid).reshape(-1,1) +field_loop_x\n",
    "        for n_MC in range(N_Monte_Carlo_Samples):\n",
    "            fBM_variation_path_loop = fBM_Generator.fbm().reshape(-1,1)\n",
    "            generated_path_loop = finite_variation_path + fBM_variation_path_loop\n",
    "            if n_MC == 0:\n",
    "                paths_loop = generated_path_loop\n",
    "            else:\n",
    "                paths_loop = np.append(paths_loop,generated_path_loop,axis=-1)\n",
    "        \n",
    "        # Map numpy to list\n",
    "        measures_locations_loop = paths_loop.tolist()\n",
    "        # Get inputs\n",
    "        X_train_loop = np.append(np.repeat(x_Grid[i],(N_Euler_Maruyama_Steps+1)).reshape(-1,1),\n",
    "                                 t_Grid.reshape(-1,1),\n",
    "                                 axis=1)\n",
    "        \n",
    "        # Append to List\n",
    "        measures_locations_list = measures_locations_list + measures_locations_loop\n",
    "        measures_weights_list.append(measure_weights)\n",
    "        \n",
    "        # Update Inputs\n",
    "        if i==0:\n",
    "            X_train = X_train_loop\n",
    "        else:\n",
    "            X_train = np.append(X_train,X_train_loop,axis=0)\n",
    "    \n",
    "    # Update User\n",
    "    print(\"==================================\")\n",
    "    print(\"Done Simulation Step: Training Set\")\n",
    "    print(\"==================================\")\n",
    "\n",
    "\n",
    "print(\"===============================--------------------------------------===============================\")\n",
    "print(\"===============================--------------------------------------===============================\")\n",
    "print(\"===============================--------------------------------------===============================\")\n",
    "\n",
    "if groud_truth == \"pfBM\":\n",
    "    print(\"===============================\")\n",
    "    print(\"Start Simulation Step: Test Set\")\n",
    "    print(\"===============================\")\n",
    "    # Initialize fBM Generator\n",
    "    fBM_Generator_test = FBM(n=(len(t_Grid_test)-1), hurst=0.75, length=1, method='daviesharte')\n",
    "\n",
    "    # Perform Monte-Carlo Data Generation\n",
    "    for i in tqdm(range(N_Grid_Instances_x_test)):\n",
    "        # Get x\n",
    "        field_loop_x = field_dirction_x(x_Grid_test[i])\n",
    "        # Get omega and t\n",
    "        # Generate finite-variation path (since it stays unchanged)\n",
    "        finite_variation_path = finite_variation_t(t_Grid_test).reshape(-1,1) +field_loop_x\n",
    "        for n_MC in range(N_Monte_Carlo_Samples_Test):\n",
    "            fBM_variation_path_loop = fBM_Generator_test.fbm().reshape(-1,1)\n",
    "            generated_path_loop = finite_variation_path + fBM_variation_path_loop\n",
    "            if n_MC == 0:\n",
    "                paths_loop = generated_path_loop\n",
    "            else:\n",
    "                paths_loop = np.append(paths_loop,generated_path_loop,axis=-1)\n",
    "        \n",
    "        # Map numpy to list\n",
    "        measures_locations_loop = paths_loop.tolist()\n",
    "        # Get inputs\n",
    "        X_test_loop = np.append(np.repeat(x_Grid_test[i],len(t_Grid_test)).reshape(-1,1),\n",
    "                                 t_Grid_test.reshape(-1,1),\n",
    "                                 axis=1)\n",
    "        \n",
    "        # Append to List\n",
    "        measures_locations_test_list = measures_locations_test_list + measures_locations_loop\n",
    "        measures_weights_test_list.append(measure_weights_test)\n",
    "        \n",
    "        # Update Inputs\n",
    "        if i==0:\n",
    "            X_test = X_test_loop\n",
    "        else:\n",
    "            X_test = np.append(X_test,X_test_loop,axis=0)\n",
    "    print(\"==============================\")\n",
    "    print(\"Done Simulation Step: Test Set\")\n",
    "    print(\"==============================\")\n",
    "    \n",
    "print(\"===============================--------------------------------------===============================\")\n",
    "print(\"===============================--------------------------------------===============================\")\n",
    "print(\"===============================--------------------------------------===============================\")"
   ]
  },
  {
   "cell_type": "markdown",
   "metadata": {},
   "source": [
    "#### Start Timer (Model Type A)"
   ]
  },
  {
   "cell_type": "code",
   "execution_count": 21,
   "metadata": {},
   "outputs": [],
   "source": [
    "# Start Timer\n",
    "Type_A_timer_Begin = time.time()"
   ]
  },
  {
   "cell_type": "markdown",
   "metadata": {},
   "source": [
    "## Get \"Sample Barycenters\":\n",
    "Let $\\{\\mu_n\\}_{n=1}^N\\subset\\mathcal{P}_1(\\mathbb{R}^d)$.  Then, the *sample barycenter* is defined by:\n",
    "1. $\\mathcal{M}^{(0)}\\triangleq \\left\\{\\hat{\\mu}_n\\right\\}_{n=1}^N$,\n",
    "2. For $1\\leq n\\leq \\mbox{N sample barycenters}$: \n",
    "    - $\n",
    "\\mu^{\\star}\\in \\underset{\\tilde{\\mu}\\in \\mathcal{M}^{(n)}}{\\operatorname{argmin}}\\, \\sum_{n=1}^N \\mathcal{W}_1\\left(\\mu^{\\star},\\mu_n\\right),\n",
    "$\n",
    "    - $\\mathcal{M}^{(n)}\\triangleq \\mathcal{M}^{(n-1)} - \\{\\mu^{\\star}\\},$\n",
    "*i.e., the closest generated measure form the random sample to all other elements of the random sample.*\n",
    "\n",
    "---\n",
    "**Note:** *We simplify the computational burden of getting the correct classes by putting this right into this next loop.*\n",
    "\n",
    "---"
   ]
  },
  {
   "cell_type": "markdown",
   "metadata": {},
   "source": [
    "## Build Dissimilarity (Distance) Matrix\n",
    "*In this step we build a dissimularity matrix of the dataset on the Wasserstein-1 space.  Namely:*\n",
    "$$\n",
    "\\operatorname{Mat}_{\\# \\mathbb{X},\\# \\mathbb{X}}\\left(\\mathbb{R}\\right)\\ni D; \\text{ where}\\qquad \\, D_{i,j}\\triangleq \\mathcal{W}_1\\left(f(x_i),f(x_j)\\right)\n",
    ";\n",
    "$$\n",
    "*where $f\\in C\\left((\\mathcal{X},\\mathcal{P}_1(\\mathcal{Y})\\right)$ is the \"target\" function we are learning.*\n",
    "\n",
    "**Note**: *Computing the dissimularity matrix is the most costly part of the entire algorithm with a complexity of at-most $\\mathcal{O}\\left(E_{W} \\# \\mathbb{X})^2\\right)$ where $E_W$ denotes the complexity of a single Wasserstein-1 evaluation between two elements of the dataset.*"
   ]
  },
  {
   "cell_type": "markdown",
   "metadata": {},
   "source": [
    "### Get Minibatch Cover"
   ]
  },
  {
   "cell_type": "code",
   "execution_count": 22,
   "metadata": {},
   "outputs": [
    {
     "name": "stderr",
     "output_type": "stream",
     "text": [
      "  0%|          | 0/110 [00:00<?, ?it/s]"
     ]
    },
    {
     "name": "stdout",
     "output_type": "stream",
     "text": [
      "😀  Building Random Covering 😀 !\n",
      "Data-Points per Random Sample:  12100\n",
      "0\n",
      "⤢ Current iteration of Mini-Batch Random Covering:  0\n",
      "Remaining points to cluster:  110\n"
     ]
    },
    {
     "name": "stderr",
     "output_type": "stream",
     "text": [
      "100%|██████████| 110/110 [00:01<00:00, 68.82it/s]\n",
      "  0%|          | 0/82 [00:00<?, ?it/s]/usr/lib/python3.7/site-packages/ipykernel_launcher.py:94: RuntimeWarning: invalid value encountered in multiply\n",
      "/usr/lib/python3.7/site-packages/ipykernel_launcher.py:109: DeprecationWarning: in the future out of bounds indices will raise an error instead of being ignored by `numpy.delete`.\n",
      "100%|██████████| 82/82 [00:00<00:00, 8846.92it/s]"
     ]
    },
    {
     "name": "stdout",
     "output_type": "stream",
     "text": [
      "----------------------------------------------------------------------------------------------\n",
      "Average Classes Per Sample Barycenter:  1.0\n",
      "Left-Overs: 0\n",
      "----------------------------------------------------------------------------------------------\n",
      "😀  Done Random Covering 😀 !\n",
      "(82, 110)\n",
      "110\n"
     ]
    },
    {
     "name": "stderr",
     "output_type": "stream",
     "text": [
      "\n"
     ]
    }
   ],
   "source": [
    "# Update User\n",
    "print(\"\\U0001F600\",\" Building Random Covering\",\"\\U0001F600\",\"!\")\n",
    "\n",
    "\n",
    "#-----------------#\n",
    "# Initializations #\n",
    "#-----------------#\n",
    "Covering_Mini_Batch_Size = N_Grid_Instances\n",
    "print(\"Data-Points per Random Sample: \", Covering_Mini_Batch_Size**2)\n",
    "\n",
    "# Initialize Inder for intput/output data\n",
    "index_remaining = np.array(range(len(measures_locations_list)))\n",
    "# Count number of remaining datums to cluster:\n",
    "length_of_sample = len(index_remaining)\n",
    "# Initialize Mini-batch iteration counter\n",
    "mini_batch_iteration_counter = 0\n",
    "# Initialize Classes\n",
    "Classifer_Wasserstein_Centers = np.zeros([N_Quantizers_to_parameterize,N_Grid_Instances])\n",
    "i=0\n",
    "#--------------------#\n",
    "# Build Random-Cover #\n",
    "#--------------------#\n",
    "while length_of_sample >0:\n",
    "    print(i) # TEMP\n",
    "    i=i+1 #TEMP\n",
    "    print(\"\\u2922 Current iteration of Mini-Batch Random Covering: \",mini_batch_iteration_counter)\n",
    "    # Update User\n",
    "    print(\"Remaining points to cluster: \",length_of_sample)\n",
    "    \n",
    "    #---------------------------------#\n",
    "    # Get Random Sample for Minibatch #\n",
    "    #---------------------------------#\n",
    "    ## Get indices\n",
    "    which_to_sample = np.random.choice(index_remaining.shape[0], min(Covering_Mini_Batch_Size,length_of_sample), replace=False) \n",
    "    clustering_indices_minibatch = index_remaining[which_to_sample]\n",
    "    ## Get Indices for current sample\n",
    "    indices_to_remove_loop = np.flatnonzero(np.isin(index_remaining,clustering_indices_minibatch))\n",
    "#     print(np.isin(index_remaining,clustering_indices_minibatch))\n",
    "    \n",
    "    ## FAILSAFE\n",
    "    if length_of_sample ==0:\n",
    "        break\n",
    "\n",
    "    #---------------------------#\n",
    "    # Build Disimilarity Matrix #\n",
    "    #---------------------------#\n",
    "    Dissimilarity_matrix_ot_current = np.zeros([Covering_Mini_Batch_Size,Covering_Mini_Batch_Size])\n",
    "    # Build Disimilarity Matrix\n",
    "    for i in tqdm(range(Covering_Mini_Batch_Size)):\n",
    "        index_i = indices_to_remove_loop[i]\n",
    "        for j in range(Covering_Mini_Batch_Size):\n",
    "            index_j = indices_to_remove_loop[j]\n",
    "            Dissimilarity_matrix_ot_current[i,j] = ot.emd2_1d(measures_locations_list[index_j],\n",
    "                                                              measures_locations_list[index_i])\n",
    "\n",
    "\n",
    "    #----------------------------#\n",
    "    # Inidialize Looping Indices #\n",
    "    #----------------------------#\n",
    "    # Initialize \"Internal to loop\" subset of measures\n",
    "    measures_locations_list_current = [measures_locations_list[i] for i in indices_to_remove_loop]\n",
    "    # Initialize masker vector\n",
    "    masker = np.ones(Covering_Mini_Batch_Size)\n",
    "    # Initialize Sorting Reference Vector (This helps us efficiently scroll through the disimularity matrix to identify the barycenter without having to re-compute the dissimultarity matrix of a sub-saple at every iteration (which is the most costly part of the algorithm!))\n",
    "    Distances_Loop = Dissimilarity_matrix_ot_current.sum(axis=1)\n",
    "\n",
    "\n",
    "\n",
    "    #--------------------------#\n",
    "    # Build Sample Barycenters #\n",
    "    #--------------------------#\n",
    "    # Identify Sample Barycenters\n",
    "    for i in tqdm(range(N_Quantizers_to_parameterize)):    \n",
    "        # GET BARYCENTER #\n",
    "        #----------------#\n",
    "        ## Identify row with minimum total distance\n",
    "        Barycenter_index = int(Distances_Loop.argsort()[:1][0])\n",
    "        ## Get Barycenter\n",
    "        ## Update Barycenters Array ##\n",
    "        #----------------------------#\n",
    "        ### Get next Barycenter\n",
    "        new_barycenter_loop = np.array(measures_locations_list_current[Barycenter_index]).reshape(-1,1)\n",
    "        ### Update Array of Barycenters\n",
    "        if i == 0:\n",
    "            # Initialize Barycenters Array\n",
    "            Barycenters_Array = new_barycenter_loop\n",
    "        else:\n",
    "            # Populate Barycenters Array\n",
    "            Barycenters_Array = np.append(Barycenters_Array,new_barycenter_loop,axis=-1)\n",
    "\n",
    "        # GET CLUSTER #\n",
    "        #-------------#\n",
    "        # Identify Cluster for this barycenter (which elements are closest to it)\n",
    "        Cluster_indices = (masker*Dissimilarity_matrix_ot_current[:,Barycenter_index]).argsort()[:N_Elements_Per_Cluster]\n",
    "        \n",
    "        ## UPDATE Set  M^{(n)} ##\n",
    "        #-----------------------#\n",
    "        Dissimilarity_matrix_ot_current[Cluster_indices,:] = 0\n",
    "        # Distance-Based Sorting\n",
    "        Distances_Loop[Cluster_indices] = math.inf\n",
    "\n",
    "        # Update Cluster\n",
    "        masker[Cluster_indices] = math.inf\n",
    "\n",
    "        # Update Classes\n",
    "        Classifer_Wasserstein_Centers[i,(indices_to_remove_loop[Cluster_indices])] = 1\n",
    "        \n",
    "        ## UPDATE: Remove Indices from \"Remaining Data\"\n",
    "        index_remaining = np.delete(index_remaining,indices_to_remove_loop)\n",
    "        ## UPDATE: Length of Sample\n",
    "        length_of_sample = len(index_remaining)\n",
    "        ## UPDATE: Mini-batch iteration counter\n",
    "        mini_batch_iteration_counter = mini_batch_iteration_counter+1\n",
    "\n",
    "#     pd.DataFrame(Classifer_Wasserstein_Centers)\n",
    "    # print(np.sum(Classifer_Wasserstein_Centers,axis=0))\n",
    "print(\"----------------------------------------------------------------------------------------------\")\n",
    "print(\"Average Classes Per Sample Barycenter: \", np.mean(np.sum(Classifer_Wasserstein_Centers,axis=1)))\n",
    "print(\"Left-Overs:\",length_of_sample)\n",
    "print(\"----------------------------------------------------------------------------------------------\")\n",
    "\n",
    "# Update User\n",
    "print(\"\\U0001F600\",\" Done Random Covering\",\"\\U0001F600\",\"!\")\n",
    "print(Classifer_Wasserstein_Centers.shape)\n",
    "print(N_Grid_Instances)"
   ]
  },
  {
   "cell_type": "markdown",
   "metadata": {},
   "source": [
    "---"
   ]
  },
  {
   "cell_type": "code",
   "execution_count": 23,
   "metadata": {},
   "outputs": [
    {
     "name": "stderr",
     "output_type": "stream",
     "text": [
      "  5%|▌         | 6/110 [00:00<00:01, 59.40it/s]"
     ]
    },
    {
     "name": "stdout",
     "output_type": "stream",
     "text": [
      "😚  Begin Building Distance Matrix  😚\n"
     ]
    },
    {
     "name": "stderr",
     "output_type": "stream",
     "text": [
      "100%|██████████| 110/110 [00:01<00:00, 80.27it/s]\n",
      "  0%|          | 0/82 [00:00<?, ?it/s]/usr/lib/python3.7/site-packages/ipykernel_launcher.py:68: RuntimeWarning: invalid value encountered in multiply\n",
      "100%|██████████| 82/82 [00:00<00:00, 13317.31it/s]"
     ]
    },
    {
     "name": "stdout",
     "output_type": "stream",
     "text": [
      "😀  Done Building Distance Matrix 😀 !\n",
      "😚  Begin Identifying Sample Barycenters  😚\n",
      "----------------------------------------------------------------------------------------------\n",
      "Average Classes Per Sample Barycenter:  1.0\n",
      "Left-Overs: 0\n",
      "----------------------------------------------------------------------------------------------\n",
      "😀  Done Random Covering 😀 !\n",
      "(82, 110)\n",
      "110\n"
     ]
    },
    {
     "name": "stderr",
     "output_type": "stream",
     "text": [
      "\n"
     ]
    }
   ],
   "source": [
    "# Initialize Disimilarity Matrix\n",
    "Dissimilarity_matrix_ot = np.zeros([N_Grid_Instances,N_Grid_Instances])\n",
    "\n",
    "\n",
    "# Update User\n",
    "print(\"\\U0001F61A\",\" Begin Building Distance Matrix\",\" \\U0001F61A\")\n",
    "# Build Disimilarity Matrix\n",
    "for i in tqdm(range(N_Grid_Instances)):\n",
    "    for j in range(N_Grid_Instances):\n",
    "        Dissimilarity_matrix_ot[i,j] = ot.emd2_1d(measures_locations_list[j],\n",
    "                                                  measures_locations_list[i])\n",
    "# Update User\n",
    "print(\"\\U0001F600\",\" Done Building Distance Matrix\",\"\\U0001F600\",\"!\")\n",
    "\n",
    "\n",
    "\n",
    "\n",
    "\n",
    "\n",
    "\n",
    "# Initialize Locations Matrix (Internal to Loop)\n",
    "measures_locations_list_current = copy.copy(measures_locations_list)\n",
    "Dissimilarity_matrix_ot_current = copy.copy(Dissimilarity_matrix_ot)\n",
    "\n",
    "# Initialize masker vector\n",
    "masker = np.ones(N_Grid_Instances)\n",
    "\n",
    "# Initialize Sorting Reference Vector (This helps us efficiently scroll through the disimularity matrix to identify the barycenter without having to re-compute the dissimultarity matrix of a sub-saple at every iteration (which is the most costly part of the algorithm!))\n",
    "Distances_Loop = Dissimilarity_matrix_ot_current.sum(axis=1)\n",
    "\n",
    "# Initialize Classes (In-Sample)\n",
    "Classifer_Wasserstein_Centers = np.zeros([N_Quantizers_to_parameterize,N_Grid_Instances])\n",
    "\n",
    "\n",
    "\n",
    "\n",
    "\n",
    "\n",
    "\n",
    "\n",
    "\n",
    "\n",
    "# Update User\n",
    "print(\"\\U0001F61A\",\" Begin Identifying Sample Barycenters\",\" \\U0001F61A\")\n",
    "\n",
    "# Identify Sample Barycenters\n",
    "for i in tqdm(range(N_Quantizers_to_parameterize)):    \n",
    "    # GET BARYCENTER #\n",
    "    #----------------#\n",
    "    ## Identify row with minimum total distance\n",
    "    Barycenter_index = int(Distances_Loop.argsort()[:1][0])\n",
    "    ## Get Barycenter\n",
    "    ## Update Barycenters Array ##\n",
    "    #----------------------------#\n",
    "    ### Get next Barycenter\n",
    "    new_barycenter_loop = np.array(measures_locations_list_current[Barycenter_index]).reshape(-1,1)\n",
    "    ### Update Array of Barycenters\n",
    "    if i == 0:\n",
    "        # Initialize Barycenters Array\n",
    "        Barycenters_Array = new_barycenter_loop\n",
    "    else:\n",
    "        # Populate Barycenters Array\n",
    "        Barycenters_Array = np.append(Barycenters_Array,new_barycenter_loop,axis=-1)\n",
    "\n",
    "    # GET CLUSTER #\n",
    "    #-------------#\n",
    "    # Identify Cluster for this barycenter (which elements are closest to it)\n",
    "    Cluster_indices = (masker*Dissimilarity_matrix_ot_current[:,Barycenter_index]).argsort()[:N_Elements_Per_Cluster]\n",
    "    ## UPDATES Set  M^{(n)}  ##\n",
    "    #-------------------------#\n",
    "    Dissimilarity_matrix_ot_current[Cluster_indices,:] = 0\n",
    "    # Distance-Based Sorting\n",
    "    Distances_Loop[Cluster_indices] = math.inf\n",
    "\n",
    "    # Update Cluster\n",
    "    masker[Cluster_indices] = math.inf\n",
    "    \n",
    "    # Update Classes\n",
    "    Classifer_Wasserstein_Centers[i,Cluster_indices] = 1\n",
    "#     print(Cluster_indices)\n",
    "\n",
    "\n",
    "print(\"----------------------------------------------------------------------------------------------\")\n",
    "print(\"Average Classes Per Sample Barycenter: \", np.mean(np.sum(Classifer_Wasserstein_Centers,axis=1)))\n",
    "print(\"Left-Overs:\",length_of_sample)\n",
    "print(\"----------------------------------------------------------------------------------------------\")\n",
    "\n",
    "# Update User\n",
    "print(\"\\U0001F600\",\" Done Random Covering\",\"\\U0001F600\",\"!\")\n",
    "print(Classifer_Wasserstein_Centers.shape)\n",
    "print(N_Grid_Instances)"
   ]
  },
  {
   "cell_type": "markdown",
   "metadata": {},
   "source": [
    "---"
   ]
  },
  {
   "cell_type": "markdown",
   "metadata": {},
   "source": [
    "---"
   ]
  },
  {
   "cell_type": "markdown",
   "metadata": {},
   "source": [
    "### Train Deep Classifier"
   ]
  },
  {
   "cell_type": "markdown",
   "metadata": {},
   "source": [
    "In this step, we train a deep (feed-forward) classifier:\n",
    "$$\n",
    "\\hat{f}\\triangleq \\operatorname{Softmax}_N\\circ W_J\\circ \\sigma \\bullet \\dots \\sigma \\bullet W_1,\n",
    "$$\n",
    "to identify which barycenter we are closest to."
   ]
  },
  {
   "cell_type": "markdown",
   "metadata": {},
   "source": [
    "Re-Load Grid and Redefine Relevant Input/Output dimensions in dictionary."
   ]
  },
  {
   "cell_type": "markdown",
   "metadata": {},
   "source": [
    "#### Train Deep Classifier"
   ]
  },
  {
   "cell_type": "code",
   "execution_count": 24,
   "metadata": {},
   "outputs": [
    {
     "name": "stdout",
     "output_type": "stream",
     "text": [
      "Deep Feature Builder - Ready\n",
      "Deep Classifier - Ready\n"
     ]
    }
   ],
   "source": [
    "# Re-Load Hyper-parameter Grid\n",
    "exec(open('CV_Grid.py').read())\n",
    "# Re-Load Classifier Function(s)\n",
    "exec(open('Helper_Functions.py').read())"
   ]
  },
  {
   "cell_type": "code",
   "execution_count": 25,
   "metadata": {},
   "outputs": [
    {
     "name": "stdout",
     "output_type": "stream",
     "text": [
      "Fitting 2 folds for each of 1 candidates, totalling 2 fits\n"
     ]
    },
    {
     "name": "stderr",
     "output_type": "stream",
     "text": [
      "[Parallel(n_jobs=4)]: Using backend LokyBackend with 4 concurrent workers.\n",
      "[Parallel(n_jobs=4)]: Done   2 out of   2 | elapsed:    5.7s remaining:    0.0s\n",
      "[Parallel(n_jobs=4)]: Done   2 out of   2 | elapsed:    5.7s finished\n"
     ]
    },
    {
     "name": "stdout",
     "output_type": "stream",
     "text": [
      "Epoch 1/200\n",
      "4/4 [==============================] - 0s 2ms/step - loss: 3.2899 - accuracy: 0.0091\n",
      "Epoch 2/200\n",
      "4/4 [==============================] - 0s 2ms/step - loss: 3.2783 - accuracy: 0.0000e+00\n",
      "Epoch 3/200\n",
      "4/4 [==============================] - 0s 2ms/step - loss: 3.2715 - accuracy: 0.0273\n",
      "Epoch 4/200\n",
      "4/4 [==============================] - 0s 2ms/step - loss: 3.2654 - accuracy: 0.0273\n",
      "Epoch 5/200\n",
      "4/4 [==============================] - 0s 2ms/step - loss: 3.2580 - accuracy: 0.0273\n",
      "Epoch 6/200\n",
      "4/4 [==============================] - 0s 2ms/step - loss: 3.2509 - accuracy: 0.0273\n",
      "Epoch 7/200\n",
      "4/4 [==============================] - 0s 2ms/step - loss: 3.2410 - accuracy: 0.0182\n",
      "Epoch 8/200\n",
      "4/4 [==============================] - 0s 3ms/step - loss: 3.2298 - accuracy: 0.0182\n",
      "Epoch 9/200\n",
      "4/4 [==============================] - 0s 2ms/step - loss: 3.2168 - accuracy: 0.0273\n",
      "Epoch 10/200\n",
      "4/4 [==============================] - 0s 2ms/step - loss: 3.2010 - accuracy: 0.0273\n",
      "Epoch 11/200\n",
      "4/4 [==============================] - 0s 2ms/step - loss: 3.1825 - accuracy: 0.0273\n",
      "Epoch 12/200\n",
      "4/4 [==============================] - 0s 2ms/step - loss: 3.1594 - accuracy: 0.0091\n",
      "Epoch 13/200\n",
      "4/4 [==============================] - 0s 2ms/step - loss: 3.1352 - accuracy: 0.0273\n",
      "Epoch 14/200\n",
      "4/4 [==============================] - 0s 2ms/step - loss: 3.1107 - accuracy: 0.0182\n",
      "Epoch 15/200\n",
      "4/4 [==============================] - 0s 2ms/step - loss: 3.0818 - accuracy: 0.0091\n",
      "Epoch 16/200\n",
      "4/4 [==============================] - 0s 3ms/step - loss: 3.0524 - accuracy: 0.0182\n",
      "Epoch 17/200\n",
      "4/4 [==============================] - 0s 3ms/step - loss: 3.0214 - accuracy: 0.0182\n",
      "Epoch 18/200\n",
      "4/4 [==============================] - 0s 2ms/step - loss: 2.9866 - accuracy: 0.0273\n",
      "Epoch 19/200\n",
      "4/4 [==============================] - 0s 3ms/step - loss: 2.9563 - accuracy: 0.0273\n",
      "Epoch 20/200\n",
      "4/4 [==============================] - 0s 2ms/step - loss: 2.9253 - accuracy: 0.0273\n",
      "Epoch 21/200\n",
      "4/4 [==============================] - 0s 2ms/step - loss: 2.9015 - accuracy: 0.0273\n",
      "Epoch 22/200\n",
      "4/4 [==============================] - 0s 2ms/step - loss: 2.8708 - accuracy: 0.0091\n",
      "Epoch 23/200\n",
      "4/4 [==============================] - 0s 3ms/step - loss: 2.8455 - accuracy: 0.0273\n",
      "Epoch 24/200\n",
      "4/4 [==============================] - 0s 2ms/step - loss: 2.8185 - accuracy: 0.0273\n",
      "Epoch 25/200\n",
      "4/4 [==============================] - 0s 2ms/step - loss: 2.7955 - accuracy: 0.0455\n",
      "Epoch 26/200\n",
      "4/4 [==============================] - 0s 2ms/step - loss: 2.7781 - accuracy: 0.0545\n",
      "Epoch 27/200\n",
      "4/4 [==============================] - 0s 2ms/step - loss: 2.7732 - accuracy: 0.0455\n",
      "Epoch 28/200\n",
      "4/4 [==============================] - 0s 2ms/step - loss: 2.7665 - accuracy: 0.0727\n",
      "Epoch 29/200\n",
      "4/4 [==============================] - 0s 2ms/step - loss: 2.7627 - accuracy: 0.0545\n",
      "Epoch 30/200\n",
      "4/4 [==============================] - 0s 2ms/step - loss: 2.7691 - accuracy: 0.0364\n",
      "Epoch 31/200\n",
      "4/4 [==============================] - 0s 2ms/step - loss: 2.7808 - accuracy: 0.0182\n",
      "Epoch 32/200\n",
      "4/4 [==============================] - 0s 2ms/step - loss: 2.7601 - accuracy: 0.0273\n",
      "Epoch 33/200\n",
      "4/4 [==============================] - 0s 2ms/step - loss: 2.7783 - accuracy: 0.0545\n",
      "Epoch 34/200\n",
      "4/4 [==============================] - 0s 2ms/step - loss: 2.7918 - accuracy: 0.0273\n",
      "Epoch 35/200\n",
      "4/4 [==============================] - 0s 2ms/step - loss: 2.7886 - accuracy: 0.0273\n",
      "Epoch 36/200\n",
      "4/4 [==============================] - 0s 2ms/step - loss: 2.8169 - accuracy: 0.0182\n",
      "Epoch 37/200\n",
      "4/4 [==============================] - 0s 2ms/step - loss: 2.8335 - accuracy: 0.0455\n",
      "Epoch 38/200\n",
      "4/4 [==============================] - 0s 2ms/step - loss: 2.8406 - accuracy: 0.0273\n",
      "Epoch 39/200\n",
      "4/4 [==============================] - 0s 2ms/step - loss: 2.8285 - accuracy: 0.0727\n",
      "Epoch 40/200\n",
      "4/4 [==============================] - 0s 2ms/step - loss: 2.9090 - accuracy: 0.0182\n",
      "Epoch 41/200\n",
      "4/4 [==============================] - 0s 2ms/step - loss: 2.9113 - accuracy: 0.0364\n",
      "Epoch 42/200\n",
      "4/4 [==============================] - 0s 2ms/step - loss: 2.9279 - accuracy: 0.0545\n",
      "Epoch 43/200\n",
      "4/4 [==============================] - 0s 2ms/step - loss: 2.9959 - accuracy: 0.0182\n",
      "Epoch 44/200\n",
      "4/4 [==============================] - 0s 2ms/step - loss: 3.0435 - accuracy: 0.0273\n",
      "Epoch 45/200\n",
      "4/4 [==============================] - 0s 2ms/step - loss: 3.0909 - accuracy: 0.0182\n",
      "Epoch 46/200\n",
      "4/4 [==============================] - 0s 2ms/step - loss: 3.0418 - accuracy: 0.0273\n",
      "Epoch 47/200\n",
      "4/4 [==============================] - 0s 2ms/step - loss: 3.0808 - accuracy: 0.0364\n",
      "Epoch 48/200\n",
      "4/4 [==============================] - 0s 6ms/step - loss: 3.2903 - accuracy: 0.0182\n",
      "Epoch 49/200\n",
      "4/4 [==============================] - 0s 3ms/step - loss: 3.1205 - accuracy: 0.0273\n",
      "Epoch 50/200\n",
      "4/4 [==============================] - 0s 3ms/step - loss: 3.3494 - accuracy: 0.0091\n",
      "Epoch 51/200\n",
      "4/4 [==============================] - 0s 3ms/step - loss: 3.2415 - accuracy: 0.0273\n",
      "Epoch 52/200\n",
      "4/4 [==============================] - 0s 2ms/step - loss: 3.2814 - accuracy: 0.0273\n",
      "Epoch 53/200\n",
      "4/4 [==============================] - 0s 3ms/step - loss: 3.4341 - accuracy: 0.0091\n",
      "Epoch 54/200\n",
      "4/4 [==============================] - 0s 3ms/step - loss: 3.4947 - accuracy: 0.0455\n",
      "Epoch 55/200\n",
      "4/4 [==============================] - 0s 2ms/step - loss: 3.5235 - accuracy: 0.0182\n",
      "Epoch 56/200\n",
      "4/4 [==============================] - 0s 3ms/step - loss: 3.7787 - accuracy: 0.0273\n",
      "Epoch 57/200\n",
      "4/4 [==============================] - 0s 4ms/step - loss: 3.7343 - accuracy: 0.0091\n",
      "Epoch 58/200\n",
      "4/4 [==============================] - 0s 3ms/step - loss: 3.7167 - accuracy: 0.0182\n",
      "Epoch 59/200\n",
      "4/4 [==============================] - 0s 4ms/step - loss: 3.9618 - accuracy: 0.0455\n",
      "Epoch 60/200\n",
      "4/4 [==============================] - 0s 4ms/step - loss: 3.9140 - accuracy: 0.0273\n",
      "Epoch 61/200\n",
      "4/4 [==============================] - 0s 3ms/step - loss: 3.9505 - accuracy: 0.0182\n",
      "Epoch 62/200\n",
      "4/4 [==============================] - 0s 4ms/step - loss: 4.2034 - accuracy: 0.0364\n",
      "Epoch 63/200\n",
      "4/4 [==============================] - 0s 4ms/step - loss: 4.2467 - accuracy: 0.0182\n",
      "Epoch 64/200\n",
      "4/4 [==============================] - 0s 3ms/step - loss: 4.1047 - accuracy: 0.0182\n",
      "Epoch 65/200\n",
      "4/4 [==============================] - 0s 3ms/step - loss: 4.2328 - accuracy: 0.0091\n",
      "Epoch 66/200\n",
      "4/4 [==============================] - 0s 4ms/step - loss: 4.3101 - accuracy: 0.0091\n",
      "Epoch 67/200\n",
      "4/4 [==============================] - 0s 4ms/step - loss: 4.3933 - accuracy: 0.0000e+00\n",
      "Epoch 68/200\n",
      "4/4 [==============================] - 0s 5ms/step - loss: 4.3928 - accuracy: 0.0091\n",
      "Epoch 69/200\n",
      "4/4 [==============================] - 0s 7ms/step - loss: 4.3648 - accuracy: 0.0091\n",
      "Epoch 70/200\n",
      "4/4 [==============================] - 0s 3ms/step - loss: 4.9013 - accuracy: 0.0273\n",
      "Epoch 71/200\n",
      "4/4 [==============================] - 0s 3ms/step - loss: 5.0033 - accuracy: 0.0091\n",
      "Epoch 72/200\n",
      "4/4 [==============================] - 0s 4ms/step - loss: 5.0927 - accuracy: 0.0182\n",
      "Epoch 73/200\n",
      "4/4 [==============================] - 0s 3ms/step - loss: 5.4636 - accuracy: 0.0273\n",
      "Epoch 74/200\n",
      "4/4 [==============================] - ETA: 0s - loss: 5.0990 - accuracy: 0.0000e+ - 0s 4ms/step - loss: 6.4547 - accuracy: 0.0000e+00\n",
      "Epoch 75/200\n",
      "4/4 [==============================] - 0s 4ms/step - loss: 6.6364 - accuracy: 0.0000e+00\n",
      "Epoch 76/200\n",
      "4/4 [==============================] - 0s 4ms/step - loss: 6.7495 - accuracy: 0.0455\n",
      "Epoch 77/200\n",
      "4/4 [==============================] - 0s 3ms/step - loss: 7.1793 - accuracy: 0.0000e+00\n",
      "Epoch 78/200\n",
      "4/4 [==============================] - ETA: 0s - loss: 9.8390 - accuracy: 0.0000e+ - 0s 3ms/step - loss: 8.1858 - accuracy: 0.0182\n",
      "Epoch 79/200\n",
      "4/4 [==============================] - 0s 4ms/step - loss: 8.8857 - accuracy: 0.0091 \n",
      "Epoch 80/200\n",
      "4/4 [==============================] - 0s 4ms/step - loss: 9.3024 - accuracy: 0.0091 \n",
      "Epoch 81/200\n",
      "4/4 [==============================] - 0s 3ms/step - loss: 9.2498 - accuracy: 0.0182\n",
      "Epoch 82/200\n",
      "4/4 [==============================] - 0s 3ms/step - loss: 8.9645 - accuracy: 0.0273\n",
      "Epoch 83/200\n",
      "4/4 [==============================] - 0s 3ms/step - loss: 9.0419 - accuracy: 0.0182\n",
      "Epoch 84/200\n",
      "4/4 [==============================] - 0s 4ms/step - loss: 10.1037 - accuracy: 0.0091\n",
      "Epoch 85/200\n",
      "4/4 [==============================] - 0s 3ms/step - loss: 10.7014 - accuracy: 0.0091\n",
      "Epoch 86/200\n",
      "4/4 [==============================] - 0s 2ms/step - loss: 10.5733 - accuracy: 0.0364\n",
      "Epoch 87/200\n",
      "4/4 [==============================] - 0s 3ms/step - loss: 11.5525 - accuracy: 0.0091\n",
      "Epoch 88/200\n",
      "4/4 [==============================] - 0s 3ms/step - loss: 12.0868 - accuracy: 0.0091\n",
      "Epoch 89/200\n",
      "4/4 [==============================] - 0s 3ms/step - loss: 12.7266 - accuracy: 0.0182\n",
      "Epoch 90/200\n",
      "4/4 [==============================] - 0s 3ms/step - loss: 15.0671 - accuracy: 0.0000e+00\n",
      "Epoch 91/200\n",
      "4/4 [==============================] - 0s 4ms/step - loss: 15.8209 - accuracy: 0.0182\n",
      "Epoch 92/200\n",
      "4/4 [==============================] - 0s 3ms/step - loss: 16.3378 - accuracy: 0.0182\n",
      "Epoch 93/200\n",
      "4/4 [==============================] - 0s 3ms/step - loss: 15.5489 - accuracy: 0.0364\n",
      "Epoch 94/200\n",
      "4/4 [==============================] - 0s 4ms/step - loss: 16.8233 - accuracy: 0.0000e+00\n",
      "Epoch 95/200\n",
      "4/4 [==============================] - 0s 3ms/step - loss: 16.3263 - accuracy: 0.0091\n",
      "Epoch 96/200\n",
      "4/4 [==============================] - 0s 3ms/step - loss: 18.1153 - accuracy: 0.0091\n",
      "Epoch 97/200\n",
      "4/4 [==============================] - 0s 3ms/step - loss: 18.8211 - accuracy: 0.0182\n",
      "Epoch 98/200\n",
      "4/4 [==============================] - 0s 3ms/step - loss: 18.8321 - accuracy: 0.0091\n",
      "Epoch 99/200\n",
      "4/4 [==============================] - 0s 4ms/step - loss: 19.6577 - accuracy: 0.0091\n",
      "Epoch 100/200\n",
      "4/4 [==============================] - 0s 3ms/step - loss: 19.6541 - accuracy: 0.0182\n",
      "Epoch 101/200\n",
      "4/4 [==============================] - 0s 3ms/step - loss: 22.6391 - accuracy: 0.0091\n",
      "Epoch 102/200\n",
      "4/4 [==============================] - 0s 2ms/step - loss: 22.8609 - accuracy: 0.0273\n",
      "Epoch 103/200\n",
      "4/4 [==============================] - 0s 2ms/step - loss: 22.3051 - accuracy: 0.0364\n",
      "Epoch 104/200\n",
      "4/4 [==============================] - 0s 2ms/step - loss: 22.3119 - accuracy: 0.0091\n",
      "Epoch 105/200\n",
      "4/4 [==============================] - 0s 2ms/step - loss: 24.3057 - accuracy: 0.0182\n",
      "Epoch 106/200\n",
      "4/4 [==============================] - 0s 2ms/step - loss: 25.9830 - accuracy: 0.0000e+00\n",
      "Epoch 107/200\n",
      "4/4 [==============================] - 0s 4ms/step - loss: 26.5386 - accuracy: 0.0273\n",
      "Epoch 108/200\n",
      "4/4 [==============================] - 0s 3ms/step - loss: 27.8545 - accuracy: 0.0273\n",
      "Epoch 109/200\n",
      "4/4 [==============================] - 0s 5ms/step - loss: 27.4886 - accuracy: 0.0182\n",
      "Epoch 110/200\n",
      "4/4 [==============================] - 0s 5ms/step - loss: 27.6795 - accuracy: 0.0091\n",
      "Epoch 111/200\n",
      "4/4 [==============================] - 0s 5ms/step - loss: 27.6594 - accuracy: 0.0091\n",
      "Epoch 112/200\n",
      "4/4 [==============================] - 0s 2ms/step - loss: 30.6006 - accuracy: 0.0182\n",
      "Epoch 113/200\n",
      "4/4 [==============================] - 0s 2ms/step - loss: 31.4508 - accuracy: 0.0091\n",
      "Epoch 114/200\n",
      "4/4 [==============================] - 0s 2ms/step - loss: 32.2439 - accuracy: 0.0091\n",
      "Epoch 115/200\n",
      "4/4 [==============================] - 0s 3ms/step - loss: 37.5360 - accuracy: 0.0091\n",
      "Epoch 116/200\n",
      "4/4 [==============================] - 0s 4ms/step - loss: 40.0483 - accuracy: 0.0000e+00\n",
      "Epoch 117/200\n",
      "4/4 [==============================] - 0s 4ms/step - loss: 40.0328 - accuracy: 0.0000e+00\n",
      "Epoch 118/200\n",
      "4/4 [==============================] - 0s 3ms/step - loss: 41.1990 - accuracy: 0.0455\n",
      "Epoch 119/200\n",
      "4/4 [==============================] - 0s 3ms/step - loss: 40.9515 - accuracy: 0.0182\n",
      "Epoch 120/200\n",
      "4/4 [==============================] - 0s 3ms/step - loss: 43.7058 - accuracy: 0.0091\n",
      "Epoch 121/200\n",
      "4/4 [==============================] - 0s 3ms/step - loss: 45.6539 - accuracy: 0.0000e+00\n",
      "Epoch 122/200\n",
      "4/4 [==============================] - 0s 3ms/step - loss: 47.2995 - accuracy: 0.0273\n",
      "Epoch 123/200\n",
      "4/4 [==============================] - 0s 3ms/step - loss: 50.3273 - accuracy: 0.0182\n",
      "Epoch 124/200\n",
      "4/4 [==============================] - 0s 2ms/step - loss: 51.4736 - accuracy: 0.0182\n",
      "Epoch 125/200\n",
      "4/4 [==============================] - 0s 3ms/step - loss: 52.0979 - accuracy: 0.0182\n",
      "Epoch 126/200\n",
      "4/4 [==============================] - 0s 2ms/step - loss: 50.5280 - accuracy: 0.0182\n",
      "Epoch 127/200\n",
      "4/4 [==============================] - 0s 3ms/step - loss: 50.8643 - accuracy: 0.0273\n",
      "Epoch 128/200\n",
      "4/4 [==============================] - 0s 2ms/step - loss: 53.0260 - accuracy: 0.0091\n",
      "Epoch 129/200\n",
      "4/4 [==============================] - 0s 2ms/step - loss: 53.9080 - accuracy: 0.0182\n",
      "Epoch 130/200\n",
      "4/4 [==============================] - 0s 2ms/step - loss: 52.5611 - accuracy: 0.0091\n",
      "Epoch 131/200\n",
      "4/4 [==============================] - 0s 2ms/step - loss: 54.4552 - accuracy: 0.0091\n",
      "Epoch 132/200\n",
      "4/4 [==============================] - 0s 2ms/step - loss: 57.0221 - accuracy: 0.0000e+00\n",
      "Epoch 133/200\n",
      "4/4 [==============================] - 0s 3ms/step - loss: 59.6870 - accuracy: 0.0000e+00\n",
      "Epoch 134/200\n",
      "4/4 [==============================] - 0s 3ms/step - loss: 67.8242 - accuracy: 0.0091\n",
      "Epoch 135/200\n",
      "4/4 [==============================] - 0s 2ms/step - loss: 69.9978 - accuracy: 0.0000e+00\n",
      "Epoch 136/200\n",
      "4/4 [==============================] - 0s 3ms/step - loss: 70.0205 - accuracy: 0.0364\n",
      "Epoch 137/200\n",
      "4/4 [==============================] - 0s 2ms/step - loss: 66.0440 - accuracy: 0.0182\n",
      "Epoch 138/200\n",
      "4/4 [==============================] - 0s 2ms/step - loss: 62.3384 - accuracy: 0.0273\n",
      "Epoch 139/200\n",
      "4/4 [==============================] - 0s 3ms/step - loss: 60.5077 - accuracy: 0.0091\n",
      "Epoch 140/200\n",
      "4/4 [==============================] - 0s 3ms/step - loss: 60.4305 - accuracy: 0.0182\n",
      "Epoch 141/200\n",
      "4/4 [==============================] - 0s 3ms/step - loss: 59.8872 - accuracy: 0.0091\n",
      "Epoch 142/200\n",
      "4/4 [==============================] - 0s 3ms/step - loss: 61.5512 - accuracy: 0.0091\n",
      "Epoch 143/200\n",
      "4/4 [==============================] - 0s 2ms/step - loss: 60.6467 - accuracy: 0.0000e+00\n",
      "Epoch 144/200\n",
      "4/4 [==============================] - 0s 2ms/step - loss: 61.3176 - accuracy: 0.0000e+00\n",
      "Epoch 145/200\n",
      "4/4 [==============================] - 0s 3ms/step - loss: 61.5912 - accuracy: 0.0091\n",
      "Epoch 146/200\n",
      "4/4 [==============================] - 0s 3ms/step - loss: 61.2356 - accuracy: 0.0091\n",
      "Epoch 147/200\n",
      "4/4 [==============================] - 0s 4ms/step - loss: 68.7039 - accuracy: 0.0091\n",
      "Epoch 148/200\n",
      "4/4 [==============================] - 0s 3ms/step - loss: 72.6396 - accuracy: 0.0182\n",
      "Epoch 149/200\n",
      "4/4 [==============================] - 0s 4ms/step - loss: 74.9071 - accuracy: 0.0000e+00\n",
      "Epoch 150/200\n",
      "4/4 [==============================] - 0s 3ms/step - loss: 71.7105 - accuracy: 0.1182\n",
      "Epoch 151/200\n",
      "4/4 [==============================] - 0s 3ms/step - loss: 74.0935 - accuracy: 0.0091\n",
      "Epoch 152/200\n",
      "4/4 [==============================] - 0s 4ms/step - loss: 74.7129 - accuracy: 0.0273\n",
      "Epoch 153/200\n",
      "4/4 [==============================] - 0s 3ms/step - loss: 75.8642 - accuracy: 0.0000e+00\n",
      "Epoch 154/200\n",
      "4/4 [==============================] - 0s 3ms/step - loss: 79.1748 - accuracy: 0.0000e+00\n",
      "Epoch 155/200\n",
      "4/4 [==============================] - 0s 2ms/step - loss: 76.2033 - accuracy: 0.0091\n",
      "Epoch 156/200\n",
      "4/4 [==============================] - 0s 4ms/step - loss: 71.2822 - accuracy: 0.0273\n",
      "Epoch 157/200\n",
      "4/4 [==============================] - 0s 2ms/step - loss: 71.6925 - accuracy: 0.0000e+00\n",
      "Epoch 158/200\n",
      "4/4 [==============================] - 0s 3ms/step - loss: 75.8816 - accuracy: 0.0273\n",
      "Epoch 159/200\n",
      "4/4 [==============================] - 0s 3ms/step - loss: 79.5521 - accuracy: 0.0273\n",
      "Epoch 160/200\n",
      "4/4 [==============================] - 0s 3ms/step - loss: 78.6358 - accuracy: 0.0182\n",
      "Epoch 161/200\n",
      "4/4 [==============================] - 0s 3ms/step - loss: 79.1811 - accuracy: 0.0091\n",
      "Epoch 162/200\n",
      "4/4 [==============================] - 0s 3ms/step - loss: 82.1723 - accuracy: 0.0182\n",
      "Epoch 163/200\n",
      "4/4 [==============================] - 0s 3ms/step - loss: 82.5407 - accuracy: 0.0364\n",
      "Epoch 164/200\n",
      "4/4 [==============================] - 0s 3ms/step - loss: 79.4289 - accuracy: 0.0182\n",
      "Epoch 165/200\n",
      "4/4 [==============================] - 0s 3ms/step - loss: 77.2419 - accuracy: 0.0182\n",
      "Epoch 166/200\n",
      "4/4 [==============================] - 0s 3ms/step - loss: 78.3902 - accuracy: 0.0091\n",
      "Epoch 167/200\n",
      "4/4 [==============================] - 0s 3ms/step - loss: 82.5268 - accuracy: 0.0273\n",
      "Epoch 168/200\n",
      "4/4 [==============================] - 0s 2ms/step - loss: 89.0134 - accuracy: 0.0182\n",
      "Epoch 169/200\n",
      "4/4 [==============================] - 0s 4ms/step - loss: 94.0971 - accuracy: 0.0091\n",
      "Epoch 170/200\n",
      "4/4 [==============================] - 0s 3ms/step - loss: 90.2507 - accuracy: 0.0182\n",
      "Epoch 171/200\n",
      "4/4 [==============================] - 0s 3ms/step - loss: 88.7526 - accuracy: 0.0000e+00\n",
      "Epoch 172/200\n",
      "4/4 [==============================] - 0s 3ms/step - loss: 92.8412 - accuracy: 0.0000e+00\n",
      "Epoch 173/200\n",
      "4/4 [==============================] - 0s 3ms/step - loss: 96.9895 - accuracy: 0.0091\n",
      "Epoch 174/200\n",
      "4/4 [==============================] - 0s 3ms/step - loss: 99.1267 - accuracy: 0.0091 \n",
      "Epoch 175/200\n",
      "4/4 [==============================] - 0s 3ms/step - loss: 97.9489 - accuracy: 0.0000e+00\n",
      "Epoch 176/200\n",
      "4/4 [==============================] - 0s 3ms/step - loss: 97.5724 - accuracy: 0.0091\n",
      "Epoch 177/200\n",
      "4/4 [==============================] - 0s 3ms/step - loss: 99.6526 - accuracy: 0.0000e+00\n",
      "Epoch 178/200\n",
      "4/4 [==============================] - 0s 4ms/step - loss: 96.7600 - accuracy: 0.0091 \n",
      "Epoch 179/200\n",
      "4/4 [==============================] - 0s 3ms/step - loss: 101.5671 - accuracy: 0.0000e+00\n",
      "Epoch 180/200\n",
      "4/4 [==============================] - 0s 3ms/step - loss: 100.6958 - accuracy: 0.0364\n",
      "Epoch 181/200\n",
      "4/4 [==============================] - 0s 4ms/step - loss: 101.1289 - accuracy: 0.0000e+00\n",
      "Epoch 182/200\n",
      "4/4 [==============================] - 0s 3ms/step - loss: 107.1743 - accuracy: 0.0091\n",
      "Epoch 183/200\n",
      "4/4 [==============================] - 0s 3ms/step - loss: 112.5840 - accuracy: 0.0091\n",
      "Epoch 184/200\n",
      "4/4 [==============================] - 0s 3ms/step - loss: 119.6201 - accuracy: 0.0091\n",
      "Epoch 185/200\n",
      "4/4 [==============================] - 0s 3ms/step - loss: 123.2649 - accuracy: 0.0091\n",
      "Epoch 186/200\n",
      "4/4 [==============================] - 0s 3ms/step - loss: 127.2199 - accuracy: 0.0000e+00\n",
      "Epoch 187/200\n",
      "4/4 [==============================] - 0s 3ms/step - loss: 125.3996 - accuracy: 0.0273\n",
      "Epoch 188/200\n",
      "4/4 [==============================] - 0s 3ms/step - loss: 130.1618 - accuracy: 0.0000e+00\n",
      "Epoch 189/200\n",
      "4/4 [==============================] - 0s 3ms/step - loss: 130.6823 - accuracy: 0.0182\n",
      "Epoch 190/200\n",
      "4/4 [==============================] - 0s 3ms/step - loss: 125.1829 - accuracy: 0.0182\n",
      "Epoch 191/200\n",
      "4/4 [==============================] - 0s 3ms/step - loss: 120.8486 - accuracy: 0.0091\n",
      "Epoch 192/200\n",
      "4/4 [==============================] - 0s 3ms/step - loss: 127.6067 - accuracy: 0.0182\n",
      "Epoch 193/200\n",
      "4/4 [==============================] - 0s 2ms/step - loss: 132.2765 - accuracy: 0.0818\n",
      "Epoch 194/200\n",
      "4/4 [==============================] - 0s 2ms/step - loss: 138.1995 - accuracy: 0.0000e+00\n",
      "Epoch 195/200\n",
      "4/4 [==============================] - 0s 2ms/step - loss: 137.3378 - accuracy: 0.0091\n",
      "Epoch 196/200\n",
      "4/4 [==============================] - 0s 2ms/step - loss: 139.2005 - accuracy: 0.0091\n",
      "Epoch 197/200\n",
      "4/4 [==============================] - 0s 3ms/step - loss: 133.0023 - accuracy: 0.0091\n",
      "Epoch 198/200\n",
      "4/4 [==============================] - 0s 3ms/step - loss: 128.0273 - accuracy: 0.0091\n",
      "Epoch 199/200\n",
      "4/4 [==============================] - 0s 2ms/step - loss: 134.4822 - accuracy: 0.0182\n",
      "Epoch 200/200\n",
      "4/4 [==============================] - 0s 2ms/step - loss: 129.1584 - accuracy: 0.0273\n",
      "4/4 [==============================] - 0s 2ms/step\n",
      "1/1 [==============================] - 0s 932us/step\n"
     ]
    }
   ],
   "source": [
    "# Redefine (Dimension-related) Elements of Grid\n",
    "param_grid_Deep_Classifier['input_dim'] = [2]\n",
    "param_grid_Deep_Classifier['output_dim'] = [N_Quantizers_to_parameterize]\n",
    "\n",
    "# Train simple deep classifier\n",
    "predicted_classes_train, predicted_classes_test, N_params_deep_classifier = build_simple_deep_classifier(n_folds = CV_folds, \n",
    "                                                                                                        n_jobs = n_jobs, \n",
    "                                                                                                        n_iter = n_iter, \n",
    "                                                                                                        param_grid_in=param_grid_Deep_Classifier, \n",
    "                                                                                                        X_train = X_train, \n",
    "                                                                                                        y_train = Classifer_Wasserstein_Centers.T,\n",
    "                                                                                                        X_test = X_test)"
   ]
  },
  {
   "cell_type": "markdown",
   "metadata": {},
   "source": [
    "#### Get Predicted Quantized Distributions\n",
    "- Each *row* of \"Predicted_Weights\" is the $\\beta\\in \\Delta_N$.\n",
    "- Each *Column* of \"Barycenters_Array\" denotes the $x_1,\\dots,x_N$ making up the points of the corresponding empirical measures."
   ]
  },
  {
   "cell_type": "code",
   "execution_count": 26,
   "metadata": {},
   "outputs": [
    {
     "name": "stderr",
     "output_type": "stream",
     "text": [
      "  0%|          | 0/82 [00:00<?, ?it/s]"
     ]
    },
    {
     "name": "stdout",
     "output_type": "stream",
     "text": [
      "#---------------------------------------#\n",
      "Building Training Set (Regression): START\n",
      "#---------------------------------------#\n"
     ]
    },
    {
     "name": "stderr",
     "output_type": "stream",
     "text": [
      "100%|██████████| 82/82 [00:00<00:00, 10900.17it/s]"
     ]
    },
    {
     "name": "stdout",
     "output_type": "stream",
     "text": [
      "#-------------------------------------#\n",
      "Building Training Set (Regression): END\n",
      "#-------------------------------------#\n",
      "#-------------------------------------#\n",
      "Building Test Set (Predictions): START\n",
      "#-------------------------------------#\n"
     ]
    },
    {
     "name": "stderr",
     "output_type": "stream",
     "text": [
      "\n",
      "100%|██████████| 82/82 [00:00<00:00, 32149.27it/s]"
     ]
    },
    {
     "name": "stdout",
     "output_type": "stream",
     "text": [
      "#-----------------------------------#\n",
      "Building Test Set (Predictions): END\n",
      "#-----------------------------------#\n",
      "#-----------------------------#\n",
      "Building Barycenters Set: START\n",
      "#-----------------------------#\n",
      "#-----------------------------#\n",
      "Building Barycenters Set: END\n",
      "#-----------------------------#\n"
     ]
    },
    {
     "name": "stderr",
     "output_type": "stream",
     "text": [
      "\n"
     ]
    }
   ],
   "source": [
    "# Format Weights\n",
    "## Train\n",
    "print(\"#---------------------------------------#\")\n",
    "print(\"Building Training Set (Regression): START\")\n",
    "print(\"#---------------------------------------#\")\n",
    "Predicted_Weights = np.array([])\n",
    "for i in tqdm(range(N_Quantizers_to_parameterize)):    \n",
    "    b = np.repeat(np.array(predicted_classes_train[:,i],dtype='float').reshape(-1,1),N_Monte_Carlo_Samples,axis=-1)\n",
    "    b = b/N_Monte_Carlo_Samples\n",
    "    if i ==0 :\n",
    "        Predicted_Weights = b\n",
    "    else:\n",
    "        Predicted_Weights = np.append(Predicted_Weights,b,axis=1)\n",
    "print(\"#-------------------------------------#\")\n",
    "print(\"Building Training Set (Regression): END\")\n",
    "print(\"#-------------------------------------#\")\n",
    "\n",
    "## Test\n",
    "print(\"#-------------------------------------#\")\n",
    "print(\"Building Test Set (Predictions): START\")\n",
    "print(\"#-------------------------------------#\")\n",
    "Predicted_Weights_test = np.array([])\n",
    "for i in tqdm(range(N_Quantizers_to_parameterize)):\n",
    "    b_test = np.repeat(np.array(predicted_classes_test[:,i],dtype='float').reshape(-1,1),N_Monte_Carlo_Samples,axis=-1)\n",
    "    b_test = b_test/N_Monte_Carlo_Samples\n",
    "    if i ==0 :\n",
    "        Predicted_Weights_test = b_test\n",
    "    else:\n",
    "        Predicted_Weights_test = np.append(Predicted_Weights_test,b_test,axis=1)\n",
    "print(\"#-----------------------------------#\")\n",
    "print(\"Building Test Set (Predictions): END\")\n",
    "print(\"#-----------------------------------#\")\n",
    "        \n",
    "# Format Points of Mass\n",
    "print(\"#-----------------------------#\")\n",
    "print(\"Building Barycenters Set: START\")\n",
    "print(\"#-----------------------------#\")\n",
    "Barycenters_Array = Barycenters_Array.T.reshape(-1,)\n",
    "print(\"#-----------------------------#\")\n",
    "print(\"Building Barycenters Set: END\")\n",
    "print(\"#-----------------------------#\")"
   ]
  },
  {
   "cell_type": "markdown",
   "metadata": {},
   "source": [
    "#### Stop Timer"
   ]
  },
  {
   "cell_type": "code",
   "execution_count": 27,
   "metadata": {},
   "outputs": [],
   "source": [
    "# Stop Timer\n",
    "Type_A_timer_end = time.time()\n",
    "# Compute Lapsed Time Needed For Training\n",
    "Time_Lapse_Model_A = Type_A_timer_end - Type_A_timer_Begin"
   ]
  },
  {
   "cell_type": "markdown",
   "metadata": {},
   "source": [
    "## Get Moment Predictions"
   ]
  },
  {
   "cell_type": "markdown",
   "metadata": {},
   "source": [
    "#### Write Predictions"
   ]
  },
  {
   "cell_type": "markdown",
   "metadata": {},
   "source": [
    "### Training-Set Result(s): "
   ]
  },
  {
   "cell_type": "code",
   "execution_count": 28,
   "metadata": {},
   "outputs": [
    {
     "name": "stderr",
     "output_type": "stream",
     "text": [
      "  0%|          | 0/109 [00:00<?, ?it/s]"
     ]
    },
    {
     "name": "stdout",
     "output_type": "stream",
     "text": [
      "Building Training Set Performance Metrics\n"
     ]
    },
    {
     "name": "stderr",
     "output_type": "stream",
     "text": [
      "100%|██████████| 109/109 [00:00<00:00, 1194.36it/s]\n"
     ]
    },
    {
     "data": {
      "text/html": [
       "<div>\n",
       "<style scoped>\n",
       "    .dataframe tbody tr th:only-of-type {\n",
       "        vertical-align: middle;\n",
       "    }\n",
       "\n",
       "    .dataframe tbody tr th {\n",
       "        vertical-align: top;\n",
       "    }\n",
       "\n",
       "    .dataframe thead th {\n",
       "        text-align: right;\n",
       "    }\n",
       "</style>\n",
       "<table border=\"1\" class=\"dataframe\">\n",
       "  <thead>\n",
       "    <tr style=\"text-align: right;\">\n",
       "      <th></th>\n",
       "      <th>W1</th>\n",
       "      <th>E[X']-E[X]</th>\n",
       "      <th>(E[X'^2]-E[X^2])^.5</th>\n",
       "      <th>(E[X'^3]-E[X^3])^(1/3)</th>\n",
       "      <th>(E[X'^4]-E[X^4])^.25</th>\n",
       "    </tr>\n",
       "  </thead>\n",
       "  <tbody>\n",
       "    <tr>\n",
       "      <th>Min</th>\n",
       "      <td>0.056513</td>\n",
       "      <td>0.070872</td>\n",
       "      <td>0.003580</td>\n",
       "      <td>0.364390</td>\n",
       "      <td>0.444625</td>\n",
       "    </tr>\n",
       "    <tr>\n",
       "      <th>MAE</th>\n",
       "      <td>0.729807</td>\n",
       "      <td>0.690816</td>\n",
       "      <td>0.191332</td>\n",
       "      <td>0.770925</td>\n",
       "      <td>0.745037</td>\n",
       "    </tr>\n",
       "    <tr>\n",
       "      <th>Max</th>\n",
       "      <td>2.589013</td>\n",
       "      <td>1.592739</td>\n",
       "      <td>0.426912</td>\n",
       "      <td>1.035913</td>\n",
       "      <td>1.016187</td>\n",
       "    </tr>\n",
       "  </tbody>\n",
       "</table>\n",
       "</div>"
      ],
      "text/plain": [
       "           W1  E[X']-E[X]  (E[X'^2]-E[X^2])^.5  (E[X'^3]-E[X^3])^(1/3)  \\\n",
       "Min  0.056513    0.070872             0.003580                0.364390   \n",
       "MAE  0.729807    0.690816             0.191332                0.770925   \n",
       "Max  2.589013    1.592739             0.426912                1.035913   \n",
       "\n",
       "     (E[X'^4]-E[X^4])^.25  \n",
       "Min              0.444625  \n",
       "MAE              0.745037  \n",
       "Max              1.016187  "
      ]
     },
     "execution_count": 28,
     "metadata": {},
     "output_type": "execute_result"
    }
   ],
   "source": [
    "print(\"Building Training Set Performance Metrics\")\n",
    "\n",
    "# Initialize Wasserstein-1 Error Distribution\n",
    "W1_errors = np.array([])\n",
    "Mean_errors = np.array([])\n",
    "Var_errors = np.array([])\n",
    "Skewness_errors = np.array([])\n",
    "Kurtosis_errors = np.array([])\n",
    "predictions_mean = np.array([])\n",
    "true_mean = np.array([])\n",
    "#---------------------------------------------------------------------------------------------#\n",
    "\n",
    "# Populate Error Distribution\n",
    "for x_i in tqdm(range(len(measures_locations_list)-1)):    \n",
    "    # Get Laws\n",
    "    W1_loop = ot.emd2_1d(Barycenters_Array,\n",
    "                         np.array(measures_locations_list[x_i]).reshape(-1,),\n",
    "                         Predicted_Weights[x_i,].reshape(-1,),\n",
    "                         measure_weights.reshape(-1,))\n",
    "    W1_errors = np.append(W1_errors,W1_loop)\n",
    "    # Get Means\n",
    "    Mu_hat = np.sum((Predicted_Weights[x_i])*(Barycenters_Array))\n",
    "    Mu = np.mean(np.array(measures_locations_list[x_i]))\n",
    "    Mean_errors =  np.append(Mean_errors,(Mu_hat-Mu))\n",
    "    ## Update Erros\n",
    "    predictions_mean = np.append(predictions_mean,Mu_hat)\n",
    "    true_mean = np.append(true_mean,Mu)\n",
    "    # Get Var (non-centered)\n",
    "    Var_hat = np.sum((Barycenters_Array**2)*(Predicted_Weights[x_i]))\n",
    "    Var = np.mean(np.array(measures_locations_list[x_i])**2)\n",
    "    Var_errors = np.append(Var_errors,(Var_hat-Var)**2)\n",
    "    # Get skewness (non-centered)\n",
    "    Skewness_hat = np.sum((Barycenters_Array**3)*(Predicted_Weights[x_i]))\n",
    "    Skewness = np.mean(np.array(measures_locations_list[x_i])**3)\n",
    "    Skewness_errors = np.append(Skewness_errors,(abs(Skewness_hat-Skewness))**(1/3))\n",
    "    # Get skewness (non-centered)\n",
    "    Kurtosis_hat = np.sum((Barycenters_Array**4)*(Predicted_Weights[x_i]))\n",
    "    Kurtosis = np.mean(np.array(measures_locations_list[x_i])**4)\n",
    "    Kurtosis_errors = np.append(Kurtosis_errors,(abs(Kurtosis_hat-Kurtosis))**.25)\n",
    "    \n",
    "#---------------------------------------------------------------------------------------------#\n",
    "# Compute Error Statistics/Descriptors\n",
    "W1_Performance = np.array([np.min(np.abs(W1_errors)),np.mean(np.abs(W1_errors)),np.max(np.abs(W1_errors))])\n",
    "Mean_prediction_Performance = np.array([np.min(np.abs(Mean_errors)),np.mean(np.abs(Mean_errors)),np.max(np.abs(Mean_errors))])\n",
    "Var_prediction_Performance = np.array([np.min(np.abs(Var_errors)),np.mean(np.abs(Var_errors)),np.max(np.abs(Var_errors))])\n",
    "Skewness_prediction_Performance = np.array([np.min(np.abs(Skewness_errors)),np.mean(np.abs(Skewness_errors)),np.max(np.abs(Skewness_errors))])\n",
    "Kurtosis_prediction_Performance = np.array([np.min(np.abs(Kurtosis_errors)),np.mean(np.abs(Kurtosis_errors)),np.max(np.abs(Kurtosis_errors))])\n",
    "\n",
    "Type_A_Prediction = pd.DataFrame({\"W1\":W1_Performance,\n",
    "                                  \"E[X']-E[X]\":Mean_prediction_Performance,\n",
    "                                  \"(E[X'^2]-E[X^2])^.5\":Var_prediction_Performance,\n",
    "                                  \"(E[X'^3]-E[X^3])^(1/3)\":Skewness_prediction_Performance,\n",
    "                                  \"(E[X'^4]-E[X^4])^.25\":Kurtosis_prediction_Performance},index=[\"Min\",\"MAE\",\"Max\"])\n",
    "\n",
    "# Write Performance\n",
    "Type_A_Prediction.to_latex((results_tables_path+str(\"Roughness_\")+str(Rougness)+str(\"__RatiofBM_\")+str(Ratio_fBM_to_typical_vol)+\n",
    " \"__TypeAPrediction_Train.tex\"))\n",
    "\n",
    "\n",
    "#---------------------------------------------------------------------------------------------#\n",
    "# Update User\n",
    "Type_A_Prediction"
   ]
  },
  {
   "cell_type": "markdown",
   "metadata": {},
   "source": [
    "---"
   ]
  },
  {
   "cell_type": "markdown",
   "metadata": {},
   "source": [
    "# Visualization"
   ]
  },
  {
   "cell_type": "markdown",
   "metadata": {},
   "source": [
    "#### Visualization of Training-Set Performance"
   ]
  },
  {
   "cell_type": "code",
   "execution_count": 37,
   "metadata": {
    "scrolled": true
   },
   "outputs": [
    {
     "data": {
      "text/plain": [
       "[<matplotlib.lines.Line2D at 0x7f7338035b90>]"
      ]
     },
     "execution_count": 37,
     "metadata": {},
     "output_type": "execute_result"
    },
    {
     "data": {
      "image/png": "[encoded data removed]",
      "text/plain": [
       "<Figure size 432x288 with 1 Axes>"
      ]
     },
     "metadata": {
      "needs_background": "light"
     },
     "output_type": "display_data"
    }
   ],
   "source": [
    "plt.plot(predictions_mean)\n",
    "plt.plot(true_mean)"
   ]
  },
  {
   "cell_type": "markdown",
   "metadata": {},
   "source": [
    "### Test-Set Result(s): "
   ]
  },
  {
   "cell_type": "code",
   "execution_count": 35,
   "metadata": {},
   "outputs": [
    {
     "name": "stderr",
     "output_type": "stream",
     "text": [
      "100%|██████████| 5/5 [00:00<00:00, 1569.72it/s]"
     ]
    },
    {
     "name": "stdout",
     "output_type": "stream",
     "text": [
      "Building Test Set Performance Metrics\n"
     ]
    },
    {
     "name": "stderr",
     "output_type": "stream",
     "text": [
      "\n"
     ]
    }
   ],
   "source": [
    "print(\"Building Test Set Performance Metrics\")\n",
    "\n",
    "# Initialize Wasserstein-1 Error Distribution\n",
    "W1_errors_test = np.array([])\n",
    "Mean_errors_test = np.array([])\n",
    "Var_errors_test = np.array([])\n",
    "Skewness_errors_test = np.array([])\n",
    "Kurtosis_errors_test = np.array([])\n",
    "# Initialize Prediction Metrics\n",
    "predictions_mean_test = np.array([])\n",
    "true_mean_test = np.array([])\n",
    "#---------------------------------------------------------------------------------------------#\n",
    "\n",
    "# Populate Error Distribution\n",
    "for x_i in tqdm(range(len(measures_locations_test_list)-1)):    \n",
    "    # Get Laws\n",
    "    W1_loop_test = ot.emd2_1d(Barycenters_Array,\n",
    "                         np.array(measures_locations_test_list[x_i]).reshape(-1,),\n",
    "                         Predicted_Weights_test[x_i,].reshape(-1,),\n",
    "                         measure_weights_test.reshape(-1,))\n",
    "    W1_errors_test = np.append(W1_errors_test,W1_loop_test)\n",
    "    # Get Means\n",
    "    Mu_hat_test = np.sum((Predicted_Weights_test[x_i])*(Barycenters_Array))\n",
    "    Mu_test = np.mean(np.array(measures_locations_test_list[x_i]))\n",
    "    Mean_errors_test = np.append(Mean_errors_test,(Mu_hat_test-Mu_test))\n",
    "    ## Update Predictions\n",
    "    predictions_mean_test = np.append(predictions_mean_test,Mu_hat_test)\n",
    "    true_mean_test = np.append(true_mean_test,Mu_test)\n",
    "    # Get Var (non-centered)\n",
    "    Var_hat_test = np.sum((Barycenters_Array**2)*(Predicted_Weights_test[x_i]))\n",
    "    Var_test = np.mean(np.array(measures_locations_test_list[x_i])**2)\n",
    "    Var_errors_test = np.append(Var_errors_test,(Var_hat_test-Var_test)**2)\n",
    "    # Get skewness (non-centered)\n",
    "    Skewness_hat_test = np.sum((Barycenters_Array**3)*(Predicted_Weights_test[x_i]))\n",
    "    Skewness_test = np.mean(np.array(measures_locations_test_list[x_i])**3)\n",
    "    Skewness_errors_test = np.append(Skewness_errors_test,(abs(Skewness_hat_test-Skewness_test))**(1/3))\n",
    "    # Get skewness (non-centered)\n",
    "    Kurtosis_hat_test = np.sum((Barycenters_Array**4)*(Predicted_Weights_test[x_i]))\n",
    "    Kurtosis_test = np.mean(np.array(measures_locations_test_list[x_i])**4)\n",
    "    Kurtosis_errors_test = np.append(Kurtosis_errors_test,(abs(Kurtosis_hat_test-Kurtosis_test))**.25)\n",
    "    \n",
    "#---------------------------------------------------------------------------------------------#\n",
    "# Compute Error Statistics/Descriptors\n",
    "W1_Performance_test = np.array([np.min(np.abs(W1_errors_test)),np.mean(np.abs(W1_errors_test)),np.mean(np.abs(W1_errors_test))])\n",
    "Mean_prediction_Performance_test = np.array([np.min(np.abs(Mean_errors_test)),np.mean(np.abs(Mean_errors_test)),np.mean(np.abs(Mean_errors_test))])\n",
    "Var_prediction_Performance_test = np.array([np.min(np.abs(Var_errors_test)),np.mean(np.abs(Var_errors_test)),np.mean(np.abs(Var_errors_test))])\n",
    "Skewness_prediction_Performance_test = np.array([np.min(np.abs(Skewness_errors_test)),np.mean(np.abs(Skewness_errors_test)),np.mean(np.abs(Skewness_errors_test))])\n",
    "Kurtosis_prediction_Performance_test = np.array([np.min(np.abs(Kurtosis_errors_test)),np.mean(np.abs(Kurtosis_errors_test)),np.mean(np.abs(Kurtosis_errors_test))])\n",
    "\n",
    "Type_A_Prediction_test = pd.DataFrame({\"W1\":W1_Performance_test,\n",
    "                                  \"E[X']-E[X]\":Mean_prediction_Performance_test,\n",
    "                                  \"(E[X'^2]-E[X^2])^.5\":Var_prediction_Performance_test,\n",
    "                                  \"(E[X'^3]-E[X^3])^(1/3)\":Skewness_prediction_Performance_test,\n",
    "                                  \"(E[X'^4]-E[X^4])^.25\":Kurtosis_prediction_Performance_test},index=[\"Min\",\"MAE\",\"Max\"])\n",
    "\n",
    "# Write Performance\n",
    "Type_A_Prediction_test.to_latex((results_tables_path+str(\"Roughness_\")+str(Rougness)+str(\"__RatiofBM_\")+str(Ratio_fBM_to_typical_vol)+\n",
    " \"__TypeAPrediction_Test.tex\"))"
   ]
  },
  {
   "cell_type": "markdown",
   "metadata": {},
   "source": [
    "#### Visualization of Test-Set Performance"
   ]
  },
  {
   "cell_type": "code",
   "execution_count": 36,
   "metadata": {},
   "outputs": [
    {
     "data": {
      "text/plain": [
       "[<matplotlib.lines.Line2D at 0x7f73380b5e10>]"
      ]
     },
     "execution_count": 36,
     "metadata": {},
     "output_type": "execute_result"
    },
    {
     "data": {
      "image/png": "[encoded data removed]",
      "text/plain": [
       "<Figure size 432x288 with 1 Axes>"
      ]
     },
     "metadata": {
      "needs_background": "light"
     },
     "output_type": "display_data"
    }
   ],
   "source": [
    "plt.plot(predictions_mean_test)\n",
    "plt.plot(true_mean_test)"
   ]
  },
  {
   "cell_type": "markdown",
   "metadata": {},
   "source": [
    "## Update User"
   ]
  },
  {
   "cell_type": "markdown",
   "metadata": {},
   "source": [
    "### Print for Terminal Legibility"
   ]
  },
  {
   "cell_type": "code",
   "execution_count": 31,
   "metadata": {},
   "outputs": [
    {
     "name": "stdout",
     "output_type": "stream",
     "text": [
      "#----------------------#\n",
      "Training-Set Performance\n",
      "#----------------------#\n",
      "           W1  E[X']-E[X]  (E[X'^2]-E[X^2])^.5  (E[X'^3]-E[X^3])^(1/3)  \\\n",
      "Min  0.056513    0.070872             0.003580                0.364390   \n",
      "MAE  0.729807    0.690816             0.191332                0.770925   \n",
      "Max  2.589013    1.592739             0.426912                1.035913   \n",
      "\n",
      "     (E[X'^4]-E[X^4])^.25  \n",
      "Min              0.444625  \n",
      "MAE              0.745037  \n",
      "Max              1.016187  \n",
      " \n",
      " \n",
      " \n",
      "#------------------#\n",
      "Test-Set Performance\n",
      "#------------------#\n",
      "           W1  E[X']-E[X]  (E[X'^2]-E[X^2])^.5  (E[X'^3]-E[X^3])^(1/3)  \\\n",
      "Min  0.421870    0.522966             0.177975                0.698171   \n",
      "MAE  0.603158    0.707736             0.279910                0.755721   \n",
      "Max  0.876459    0.885260             0.343648                0.778926   \n",
      "\n",
      "     (E[X'^4]-E[X^4])^.25  \n",
      "Min              0.723850  \n",
      "MAE              0.766805  \n",
      "Max              0.785711  \n",
      " \n",
      " \n",
      " \n"
     ]
    }
   ],
   "source": [
    "print(\"#----------------------#\")\n",
    "print(\"Training-Set Performance\")\n",
    "print(\"#----------------------#\")\n",
    "print(Type_A_Prediction)\n",
    "print(\" \")\n",
    "print(\" \")\n",
    "print(\" \")\n",
    "\n",
    "print(\"#------------------#\")\n",
    "print(\"Test-Set Performance\")\n",
    "print(\"#------------------#\")\n",
    "print(Type_A_Prediction_test)\n",
    "print(\" \")\n",
    "print(\" \")\n",
    "print(\" \")"
   ]
  },
  {
   "cell_type": "markdown",
   "metadata": {},
   "source": [
    "### Facts of Simulation Experiment:"
   ]
  },
  {
   "cell_type": "code",
   "execution_count": 32,
   "metadata": {},
   "outputs": [
    {
     "name": "stdout",
     "output_type": "stream",
     "text": [
      "====================\n",
      " Experiment's Facts \n",
      "====================\n",
      "------------------------------------------------------\n",
      "=====\n",
      "Model\n",
      "=====\n",
      "• N Centers: 82\n",
      "• Each Wasserstein-1 Ball should contain:  1 elements from the training set.\n",
      "------------------------------------------------------\n",
      "========\n",
      "Training\n",
      "========\n",
      "• Data-size: 110\n",
      "• N Points per training datum: 10\n",
      "------------------------------------------------------\n",
      "=======\n",
      "Testing\n",
      "=======\n",
      "• Data-size Test: 6\n",
      "• N Points per testing datum: 10\n",
      "------------------------------------------------------\n",
      "------------------------------------------------------\n"
     ]
    }
   ],
   "source": [
    "# Update User\n",
    "print(\"====================\")\n",
    "print(\" Experiment's Facts \")\n",
    "print(\"====================\")\n",
    "print(\"------------------------------------------------------\")\n",
    "print(\"=====\")\n",
    "print(\"Model\")\n",
    "print(\"=====\")\n",
    "print(\"\\u2022 N Centers:\",N_Quantizers_to_parameterize)\n",
    "print(\"\\u2022 Each Wasserstein-1 Ball should contain: \",\n",
    "      N_Elements_Per_Cluster, \n",
    "      \"elements from the training set.\")\n",
    "print(\"------------------------------------------------------\")\n",
    "print(\"========\")\n",
    "print(\"Training\")\n",
    "print(\"========\")\n",
    "print(\"\\u2022 Data-size:\",(len(x_Grid)*len(t_Grid)))\n",
    "print(\"\\u2022 N Points per training datum:\",N_Monte_Carlo_Samples)\n",
    "print(\"------------------------------------------------------\")\n",
    "print(\"=======\")\n",
    "print(\"Testing\")\n",
    "print(\"=======\")\n",
    "print(\"\\u2022 Data-size Test:\",(len(x_Grid_test)*len(t_Grid_test)))\n",
    "print(\"\\u2022 N Points per testing datum:\",N_Monte_Carlo_Samples_Test)\n",
    "print(\"------------------------------------------------------\")\n",
    "print(\"------------------------------------------------------\")"
   ]
  },
  {
   "cell_type": "markdown",
   "metadata": {},
   "source": [
    "### Training-Set Performance"
   ]
  },
  {
   "cell_type": "code",
   "execution_count": 33,
   "metadata": {},
   "outputs": [
    {
     "data": {
      "text/html": [
       "<div>\n",
       "<style scoped>\n",
       "    .dataframe tbody tr th:only-of-type {\n",
       "        vertical-align: middle;\n",
       "    }\n",
       "\n",
       "    .dataframe tbody tr th {\n",
       "        vertical-align: top;\n",
       "    }\n",
       "\n",
       "    .dataframe thead th {\n",
       "        text-align: right;\n",
       "    }\n",
       "</style>\n",
       "<table border=\"1\" class=\"dataframe\">\n",
       "  <thead>\n",
       "    <tr style=\"text-align: right;\">\n",
       "      <th></th>\n",
       "      <th>W1</th>\n",
       "      <th>E[X']-E[X]</th>\n",
       "      <th>(E[X'^2]-E[X^2])^.5</th>\n",
       "      <th>(E[X'^3]-E[X^3])^(1/3)</th>\n",
       "      <th>(E[X'^4]-E[X^4])^.25</th>\n",
       "    </tr>\n",
       "  </thead>\n",
       "  <tbody>\n",
       "    <tr>\n",
       "      <th>Min</th>\n",
       "      <td>0.056513</td>\n",
       "      <td>0.070872</td>\n",
       "      <td>0.003580</td>\n",
       "      <td>0.364390</td>\n",
       "      <td>0.444625</td>\n",
       "    </tr>\n",
       "    <tr>\n",
       "      <th>MAE</th>\n",
       "      <td>0.729807</td>\n",
       "      <td>0.690816</td>\n",
       "      <td>0.191332</td>\n",
       "      <td>0.770925</td>\n",
       "      <td>0.745037</td>\n",
       "    </tr>\n",
       "    <tr>\n",
       "      <th>Max</th>\n",
       "      <td>2.589013</td>\n",
       "      <td>1.592739</td>\n",
       "      <td>0.426912</td>\n",
       "      <td>1.035913</td>\n",
       "      <td>1.016187</td>\n",
       "    </tr>\n",
       "  </tbody>\n",
       "</table>\n",
       "</div>"
      ],
      "text/plain": [
       "           W1  E[X']-E[X]  (E[X'^2]-E[X^2])^.5  (E[X'^3]-E[X^3])^(1/3)  \\\n",
       "Min  0.056513    0.070872             0.003580                0.364390   \n",
       "MAE  0.729807    0.690816             0.191332                0.770925   \n",
       "Max  2.589013    1.592739             0.426912                1.035913   \n",
       "\n",
       "     (E[X'^4]-E[X^4])^.25  \n",
       "Min              0.444625  \n",
       "MAE              0.745037  \n",
       "Max              1.016187  "
      ]
     },
     "execution_count": 33,
     "metadata": {},
     "output_type": "execute_result"
    }
   ],
   "source": [
    "Type_A_Prediction"
   ]
  },
  {
   "cell_type": "markdown",
   "metadata": {},
   "source": [
    "### Test-Set Performance"
   ]
  },
  {
   "cell_type": "code",
   "execution_count": 34,
   "metadata": {},
   "outputs": [
    {
     "data": {
      "text/html": [
       "<div>\n",
       "<style scoped>\n",
       "    .dataframe tbody tr th:only-of-type {\n",
       "        vertical-align: middle;\n",
       "    }\n",
       "\n",
       "    .dataframe tbody tr th {\n",
       "        vertical-align: top;\n",
       "    }\n",
       "\n",
       "    .dataframe thead th {\n",
       "        text-align: right;\n",
       "    }\n",
       "</style>\n",
       "<table border=\"1\" class=\"dataframe\">\n",
       "  <thead>\n",
       "    <tr style=\"text-align: right;\">\n",
       "      <th></th>\n",
       "      <th>W1</th>\n",
       "      <th>E[X']-E[X]</th>\n",
       "      <th>(E[X'^2]-E[X^2])^.5</th>\n",
       "      <th>(E[X'^3]-E[X^3])^(1/3)</th>\n",
       "      <th>(E[X'^4]-E[X^4])^.25</th>\n",
       "    </tr>\n",
       "  </thead>\n",
       "  <tbody>\n",
       "    <tr>\n",
       "      <th>Min</th>\n",
       "      <td>0.421870</td>\n",
       "      <td>0.522966</td>\n",
       "      <td>0.177975</td>\n",
       "      <td>0.698171</td>\n",
       "      <td>0.723850</td>\n",
       "    </tr>\n",
       "    <tr>\n",
       "      <th>MAE</th>\n",
       "      <td>0.603158</td>\n",
       "      <td>0.707736</td>\n",
       "      <td>0.279910</td>\n",
       "      <td>0.755721</td>\n",
       "      <td>0.766805</td>\n",
       "    </tr>\n",
       "    <tr>\n",
       "      <th>Max</th>\n",
       "      <td>0.876459</td>\n",
       "      <td>0.885260</td>\n",
       "      <td>0.343648</td>\n",
       "      <td>0.778926</td>\n",
       "      <td>0.785711</td>\n",
       "    </tr>\n",
       "  </tbody>\n",
       "</table>\n",
       "</div>"
      ],
      "text/plain": [
       "           W1  E[X']-E[X]  (E[X'^2]-E[X^2])^.5  (E[X'^3]-E[X^3])^(1/3)  \\\n",
       "Min  0.421870    0.522966             0.177975                0.698171   \n",
       "MAE  0.603158    0.707736             0.279910                0.755721   \n",
       "Max  0.876459    0.885260             0.343648                0.778926   \n",
       "\n",
       "     (E[X'^4]-E[X^4])^.25  \n",
       "Min              0.723850  \n",
       "MAE              0.766805  \n",
       "Max              0.785711  "
      ]
     },
     "execution_count": 34,
     "metadata": {},
     "output_type": "execute_result"
    }
   ],
   "source": [
    "Type_A_Prediction_test"
   ]
  },
  {
   "cell_type": "markdown",
   "metadata": {},
   "source": [
    "---"
   ]
  },
  {
   "cell_type": "markdown",
   "metadata": {},
   "source": [
    "---\n",
    "# Fin\n",
    "---"
   ]
  },
  {
   "cell_type": "markdown",
   "metadata": {},
   "source": [
    "---"
   ]
  }
 ],
 "metadata": {
  "kernelspec": {
   "display_name": "Python 3",
   "language": "python",
   "name": "python3"
  },
  "language_info": {
   "codemirror_mode": {
    "name": "ipython",
    "version": 3
   },
   "file_extension": ".py",
   "mimetype": "text/x-python",
   "name": "python",
   "nbconvert_exporter": "python",
   "pygments_lexer": "ipython3",
   "version": "3.7.7"
  }
 },
 "nbformat": 4,
 "nbformat_minor": 2
}
