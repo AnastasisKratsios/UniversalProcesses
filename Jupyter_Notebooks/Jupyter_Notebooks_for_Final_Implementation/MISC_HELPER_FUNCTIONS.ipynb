{
 "cells": [
  {
   "cell_type": "markdown",
   "metadata": {},
   "source": [
    "# Miscellaneous Helper Function(s)"
   ]
  },
  {
   "cell_type": "markdown",
   "metadata": {},
   "source": [
    "This function ensures that the minimum height of [Kidger and Lyons (2020) COLT](http://proceedings.mlr.press/v125/kidger20a.html) is achieved."
   ]
  },
  {
   "cell_type": "code",
   "execution_count": null,
   "metadata": {},
   "outputs": [],
   "source": [
    "def minimum_height_updater(list_input):\n",
    "    for i_loop in range(len(list_input)):\n",
    "        # Get List Item\n",
    "        current_list_loop_item = list_input[i_loop]\n",
    "        # Apply \n",
    "        list_input[i_loop] = int(max(current_list_loop_item,problem_dim+output_dim+2))\n",
    "    # Return Minimum Width Network\n",
    "    return list_input"
   ]
  }
 ],
 "metadata": {
  "kernelspec": {
   "display_name": "Python 3",
   "language": "python",
   "name": "python3"
  },
  "language_info": {
   "codemirror_mode": {
    "name": "ipython",
    "version": 3
   },
   "file_extension": ".py",
   "mimetype": "text/x-python",
   "name": "python",
   "nbconvert_exporter": "python",
   "pygments_lexer": "ipython3",
   "version": "3.7.7"
  }
 },
 "nbformat": 4,
 "nbformat_minor": 2
}
