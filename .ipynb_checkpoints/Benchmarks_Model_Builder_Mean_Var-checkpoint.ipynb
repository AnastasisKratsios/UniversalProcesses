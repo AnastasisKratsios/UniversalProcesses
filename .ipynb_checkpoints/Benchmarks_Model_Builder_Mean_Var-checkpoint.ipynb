{
 "cells": [
  {
   "cell_type": "markdown",
   "metadata": {},
   "source": [
    "# Distributional Model(s)"
   ]
  },
  {
   "cell_type": "markdown",
   "metadata": {},
   "source": [
    "### Gaussian Process Regressor"
   ]
  },
  {
   "cell_type": "code",
   "execution_count": null,
   "metadata": {},
   "outputs": [],
   "source": [
    "def get_GPR(X_train_in,X_test_in,y_means_in):\n",
    "    # Initialize Cross-Vlidator of GPR\n",
    "    CV_GPR = RandomizedSearchCV(estimator=GaussianProcessRegressor(),\n",
    "                                n_jobs=n_jobs,\n",
    "                                cv=KFold(2, random_state=2020, shuffle=True),\n",
    "                                param_distributions=param_grid_GAUSSIAN,\n",
    "                                n_iter=n_iter,\n",
    "                                return_train_score=True,\n",
    "                                random_state=2021,\n",
    "                                verbose=10)\n",
    "\n",
    "    CV_GPR.fit(X_train,Y_train_mean_emp)\n",
    "    # Get Best Model\n",
    "    best_GPR = CV_GPR.best_estimator_\n",
    "\n",
    "    # Get Training-Set Prediction\n",
    "    GPR_means = best_GPR.predict(X_train,return_std=True)[0]\n",
    "    GPR_vars = (best_GPR.predict(X_train,return_std=True)[1])**2\n",
    "\n",
    "    # Get Test-Set Predictions\n",
    "    GPR_means_test = best_GPR.predict(X_test,return_std=True)[0]\n",
    "    GPR_vars_test = (best_GPR.predict(X_test,return_std=True)[1])**2\n",
    "    \n",
    "    # Return Trained Predictions + Model\n",
    "    GPR_means_test = best_GPR.predict(X_test,return_std=True)[0]\n",
    "    return GPR_means,GPR_vars, GPR_means_test, GPR_vars_test, best_GPR"
   ]
  },
  {
   "cell_type": "markdown",
   "metadata": {},
   "source": [
    "# Universal Gaussian DNN"
   ]
  },
  {
   "cell_type": "markdown",
   "metadata": {},
   "source": [
    "Maps $\\varrho:\\mathbb{R}^d\\ni \\to (\\hat{\\mu},\\sigma)\\in \\mathbb{R}\\times (0,\\infty)$.  \n",
    "\n",
    "Implictly:\n",
    "$\n",
    "\\rho:\\mathbb{R}^d\\ni \\to \\nu\\circ \\varrho(x)\\in \\mathcal{P}_2(\\mathbb{R})\n",
    ".\n",
    "$\n",
    "\n",
    "The universal approximation theorem for this architecture is given in [Corollary 7: Quantitative Rates and Fundamental Obstructions to Non-EuclideanUniversal Approximation with Deep Narrow Feed-Forward Networks](https://arxiv.org/pdf/2101.05390.pdf)"
   ]
  },
  {
   "cell_type": "code",
   "execution_count": null,
   "metadata": {},
   "outputs": [],
   "source": [
    "class Gaussian_Splitter(tf.keras.layers.Layer):\n",
    "\n",
    "    def __init__(self):\n",
    "        super(fullyConnected_Dense, self).__init__()\n",
    "        self.units = units\n",
    "\n",
    "    def call(self):\n",
    "        return tf.math.pow(self,2)"
   ]
  },
  {
   "cell_type": "code",
   "execution_count": null,
   "metadata": {},
   "outputs": [],
   "source": [
    "Gaussian_Splitterdef get_ffNN_Gaussian(height, depth, learning_rate, input_dim, output_dim):\n",
    "    #----------------------------#\n",
    "    # Maximally Interacting Layer #\n",
    "    #-----------------------------#\n",
    "    # Initialize Inputs\n",
    "    input_layer = tf.keras.Input(shape=(input_dim,))\n",
    "   \n",
    "    \n",
    "    #------------------#\n",
    "    #   Core Layers    #\n",
    "    #------------------#\n",
    "    core_layers = fullyConnected_Dense(height)(input_layer)\n",
    "    # Activation\n",
    "    core_layers = tf.nn.swish(core_layers)\n",
    "    # Train additional Depth?\n",
    "    if depth>1:\n",
    "        # Add additional deep layer(s)\n",
    "        for depth_i in range(1,depth):\n",
    "            core_layers = fullyConnected_Dense(height)(core_layers)\n",
    "            # Activation\n",
    "            core_layers = tf.nn.swish(core_layers)\n",
    "    core_layers = fullyConnected_Dense(output_dim)(core_layers)  \n",
    "    #------------------#\n",
    "    #  Readout Layers  #\n",
    "    #------------------# \n",
    "    # Gaussian Splitter Layer\n",
    "    output_layers = Gaussian_Splitter(core_layers)\n",
    "    # Define Input/Output Relationship (Arch.)\n",
    "    trainable_layers_model = tf.keras.Model(input_layer, output_layers)\n",
    "    \n",
    "    \n",
    "    #----------------------------------#\n",
    "    # Define Optimizer & Compile Archs.\n",
    "    #----------------------------------#\n",
    "    opt = Adam(lr=learning_rate)\n",
    "    trainable_layers_model.compile(optimizer=opt, loss=\"mae\", metrics=[\"mse\", \"mae\", \"mape\"])\n",
    "\n",
    "    return trainable_layers_model\n",
    "\n",
    "\n",
    "\n",
    "def build_ffNN_Gaussian(n_folds , n_jobs, n_iter, param_grid_in, X_train, y_train,X_test):\n",
    "    # Update Dictionary\n",
    "    param_grid_in_internal = param_grid_in\n",
    "    param_grid_in_internal['input_dim'] = [(X_train.shape[1])]\n",
    "    \n",
    "    # Deep Feature Network\n",
    "    ffNN_CV = tf.keras.wrappers.scikit_learn.KerasRegressor(build_fn=get_ffNN_Gaussian, \n",
    "                                                            verbose=True)\n",
    "    \n",
    "    # Randomized CV\n",
    "    ffNN_CVer = RandomizedSearchCV(estimator=ffNN_CV, \n",
    "                                    n_jobs=n_jobs,\n",
    "                                    cv=KFold(n_folds, random_state=2020, shuffle=True),\n",
    "                                    param_distributions=param_grid_in_internal,\n",
    "                                    n_iter=n_iter,\n",
    "                                    return_train_score=True,\n",
    "                                    random_state=2020,\n",
    "                                    verbose=10)\n",
    "    \n",
    "    # Fit Model #\n",
    "    #-----------#\n",
    "    ffNN_CVer.fit(X_train,y_train)\n",
    "\n",
    "    # Write Predictions #\n",
    "    #-------------------#\n",
    "    y_hat_train = ffNN_CVer.predict(X_train)\n",
    "    \n",
    "    eval_time_ffNN = time.time()\n",
    "    y_hat_test = ffNN_CVer.predict(X_test)\n",
    "    eval_time_ffNN = time.time() - eval_time_ffNN\n",
    "    \n",
    "    # Counter number of parameters #\n",
    "    #------------------------------#\n",
    "    # Extract Best Model\n",
    "    best_model = ffNN_CVer.best_estimator_\n",
    "    # Count Number of Parameters\n",
    "    N_params_best_ffNN = np.sum([np.prod(v.get_shape().as_list()) for v in best_model.model.trainable_variables])\n",
    "    \n",
    "    \n",
    "    # Return Values #\n",
    "    #---------------#\n",
    "    return y_hat_train, y_hat_test, N_params_best_ffNN, eval_time_ffNN\n",
    "\n",
    "# Update User\n",
    "#-------------#\n",
    "print('Deep Feature Builder - Ready')"
   ]
  },
  {
   "cell_type": "markdown",
   "metadata": {},
   "source": [
    "---"
   ]
  },
  {
   "cell_type": "markdown",
   "metadata": {},
   "source": [
    "# Run Model(s)"
   ]
  },
  {
   "cell_type": "markdown",
   "metadata": {},
   "source": [
    "### Perform Gaussian Process Regression"
   ]
  },
  {
   "cell_type": "code",
   "execution_count": null,
   "metadata": {},
   "outputs": [],
   "source": [
    "GPR_means, GPR_vars, GPR_means_test, GPR_vars_test, trash = get_GPR(X_train,X_test,Y_train_mean_emp) "
   ]
  },
  {
   "cell_type": "markdown",
   "metadata": {},
   "source": [
    "---"
   ]
  }
 ],
 "metadata": {
  "kernelspec": {
   "display_name": "Python 3",
   "language": "python",
   "name": "python3"
  },
  "language_info": {
   "codemirror_mode": {
    "name": "ipython",
    "version": 3
   },
   "file_extension": ".py",
   "mimetype": "text/x-python",
   "name": "python",
   "nbconvert_exporter": "python",
   "pygments_lexer": "ipython3",
   "version": "3.7.7"
  }
 },
 "nbformat": 4,
 "nbformat_minor": 2
}
