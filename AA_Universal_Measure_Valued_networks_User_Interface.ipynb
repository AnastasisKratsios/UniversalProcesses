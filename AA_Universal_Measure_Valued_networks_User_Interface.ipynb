{
 "cells": [
  {
   "cell_type": "markdown",
   "metadata": {},
   "source": [
    "# Deep Universal Regular Conditional Expectations:\n",
    "\n",
    "---\n",
    "This implements the universal deep neural model of $\\mathcal{NN}_{1_{\\mathbb{R}^n},\\mathcal{D}}^{\\sigma:\\star}$ [Anastasis Kratsios](https://people.math.ethz.ch/~kratsioa/) - 2021.\n",
    "\n",
    "---\n",
    "\n",
    "## What does this code do?\n",
    "1. Learn Heteroskedastic Non-Linear Regression Problem\n",
    "     - $Y\\sim f_{\\text{unkown}}(x) + \\epsilon$ where $f$ is an known function and $\\epsilon\\sim Laplace(0,\\|x\\|)$\n",
    "2. Learn Random Bayesian Network's Law:\n",
    "    - $Y = W_J Y^{J-1}, \\qquad Y^{j}\\triangleq \\sigma\\bullet A^{j}Y^{j-1} + b^{j}, \\qquad Y^0\\triangleq x$\n",
    "\n",
    "3. In the above example if $A_j = M_j\\odot \\tilde{A_j}$ where $\\tilde{A}_j$ is a deterministic matrix and $M_j$ is a \"mask\", that is, a random matrix with binary entries and $\\odot$ is the Hadamard product then we recover the dropout framework.\n",
    "4. Learn the probability distribution that the unique strong solution to the rough SDE with uniformly Lipschitz drivers driven by a factional Brownian motion with Hurst exponent $H \\in [\\frac1{2},1)$:\n",
    "$$\n",
    "X_t^x = x + \\int_0^t \\alpha(s,X_s^x)ds + \\int_0^t \\beta(s,X_s^x)dB_s^H\n",
    "$$\n",
    "belongs, at time $t=1$, to a ball about the initial point $x$ of random radius given by an independant exponential random-variable with shape parameter $\\lambda=2$\n",
    "5. Train a DNN to predict the returns of bitcoin with GD.  Since this has random initialization then each prediction of a given $x$ is stochastic...We learn the distribution of this conditional RV (conditioned on x in the input space).\n",
    "$$\n",
    "Y_x \\triangleq \\hat{f}_{\\theta_{T}}(x), \\qquad \\theta_{(t+1)}\\triangleq \\theta_{(t)} + \\lambda \\sum_{x \\in \\mathbb{X}} \\nabla_{\\theta}\\|\\hat{f}_{\\theta_t}(x) - f(x)\\|, \\qquad \\theta_0 \\sim N_d(0,1);\n",
    "$$\n",
    "$T\\in \\mathbb{N}$ is a fixed number of \"SGD\" iterations (typically identified by cross-validation on a single SGD trajectory for a single initialization) and where $\\theta \\in \\mathbb{R}^{(d_{J}+1)+\\sum_{j=0}^{J-1} (d_{j+1}d_j + 1)}$ and $d_j$ is the dimension of the \"bias\" vector $b_j$ defining each layer of the DNN with layer dimensions:\n",
    "$$\n",
    "\\hat{f}_{\\theta}(x)\\triangleq A^{(J)}x^{(J)} + b^{(J)},\\qquad x^{(j+1)}\\triangleq \\sigma\\bullet A^{j}x^{(j)} + b^{j},\\qquad x^{(0)}\\triangleq x\n",
    ".\n",
    "$$\n",
    "\n",
    "6. Extreme Learning Machines: \n",
    "    Just like the Bayesian network but then last layer is trained on the training set using KRidge!"
   ]
  },
  {
   "cell_type": "markdown",
   "metadata": {},
   "source": [
    "#### Mode:\n",
    "Software/Hardware Testing or Real-Deal?"
   ]
  },
  {
   "cell_type": "code",
   "execution_count": 21,
   "metadata": {},
   "outputs": [],
   "source": [
    "trial_run = True"
   ]
  },
  {
   "cell_type": "markdown",
   "metadata": {},
   "source": [
    "### Simulation Method:"
   ]
  },
  {
   "cell_type": "code",
   "execution_count": 82,
   "metadata": {},
   "outputs": [],
   "source": [
    "# Random DNN\n",
    "# f_unknown_mode = \"Heteroskedastic_NonLinear_Regression\"\n",
    "\n",
    "# Random DNN internal noise\n",
    "## Real-world data version\n",
    "f_unknown_mode = \"Extreme_Learning_Machine\"\n",
    "### Dataset Option 1\n",
    "dataset_option = 'SnP'\n",
    "### Dataset Option 2\n",
    "# dataset_option = 'crypto'\n",
    "Depth_Bayesian_DNN = 1\n",
    "N_Random_Features = 10**1\n",
    "## Simulated Data version\n",
    "# f_unknown_mode = \"DNN_with_Random_Weights\"\n",
    "width = 10\n",
    "\n",
    "# Random Dropout applied to trained DNN\n",
    "# f_unknown_mode = \"DNN_with_Bayesian_Dropout\"\n",
    "Dropout_rate = 0.1\n",
    "\n",
    "# GD with Randomized Input\n",
    "# f_unknown_mode = \"GD_with_randomized_input\"\n",
    "# GD_epochs = 50\n",
    "\n",
    "# SDE with fractional Driver\n",
    "# f_unknown_mode = \"Rough_SDE\"\n",
    "N_Euler_Steps = 10**1\n",
    "Hurst_Exponent = 0.5\n",
    "\n",
    "f_unknown_mode = \"Rough_SDE_Vanilla\"\n",
    "## Define Process' dynamics in (2) cell(s) below."
   ]
  },
  {
   "cell_type": "markdown",
   "metadata": {},
   "source": [
    "## Problem Dimension"
   ]
  },
  {
   "cell_type": "code",
   "execution_count": 23,
   "metadata": {},
   "outputs": [],
   "source": [
    "problem_dim = 1\n",
    "if f_unknown_mode != 'Extreme_Learning_Machine':\n",
    "    width = int(max(width,2*(problem_dim+1)))"
   ]
  },
  {
   "cell_type": "markdown",
   "metadata": {},
   "source": [
    "#### Vanilla fractional SDE:\n",
    "If f_unknown_mode == \"Rough_SDE_Vanilla\" is selected, then we can specify the process's dynamics.  "
   ]
  },
  {
   "cell_type": "code",
   "execution_count": 24,
   "metadata": {},
   "outputs": [],
   "source": [
    "#--------------------------#\n",
    "# Define Process' Dynamics #\n",
    "#--------------------------#\n",
    "drift_constant = 0.1\n",
    "volatility_constant = 0.01\n",
    "\n",
    "# Define DNN Applier\n",
    "def f_unknown_drift_vanilla(x):\n",
    "    x_internal = x\n",
    "    x_internal = drift_constant*x_internal\n",
    "    return x_internal\n",
    "def f_unknown_vol_vanilla(x):\n",
    "    x_internal = volatility_constant*np.diag(np.ones(problem_dim))\n",
    "    return x_internal"
   ]
  },
  {
   "cell_type": "markdown",
   "metadata": {},
   "source": [
    "## Note: *Why the procedure is so computationally efficient*?\n",
    "---\n",
    " - The sample barycenters do not require us to solve for any new Wasserstein-1 Barycenters; which is much more computationally costly,\n",
    " - Our training procedure never back-propages through $\\mathcal{W}_1$ since steps 2 and 3 are full-decoupled.  Therefore, training our deep classifier is (comparatively) cheap since it takes values in the standard $N$-simplex.\n",
    "\n",
    "---"
   ]
  },
  {
   "cell_type": "markdown",
   "metadata": {},
   "source": [
    "#### Grid Hyperparameter(s)\n",
    "- Ratio $\\frac{\\text{Testing Datasize}}{\\text{Training Datasize}}$.\n",
    "- Number of Training Points to Generate"
   ]
  },
  {
   "cell_type": "code",
   "execution_count": 83,
   "metadata": {},
   "outputs": [],
   "source": [
    "train_test_ratio = .2\n",
    "N_train_size = 10*2"
   ]
  },
  {
   "cell_type": "markdown",
   "metadata": {},
   "source": [
    "Monte-Carlo Paramters"
   ]
  },
  {
   "cell_type": "code",
   "execution_count": 84,
   "metadata": {},
   "outputs": [],
   "source": [
    "## Monte-Carlo\n",
    "N_Monte_Carlo_Samples = 10**3"
   ]
  },
  {
   "cell_type": "markdown",
   "metadata": {},
   "source": [
    "Initial radis of $\\delta$-bounded random partition of $\\mathcal{X}$!"
   ]
  },
  {
   "cell_type": "code",
   "execution_count": 85,
   "metadata": {},
   "outputs": [],
   "source": [
    "# Hyper-parameters of Cover\n",
    "delta = 0.1\n",
    "Proportion_per_cluster = .75"
   ]
  },
  {
   "cell_type": "markdown",
   "metadata": {},
   "source": [
    "## Dependencies and Auxiliary Script(s)"
   ]
  },
  {
   "cell_type": "code",
   "execution_count": 86,
   "metadata": {},
   "outputs": [
    {
     "name": "stdout",
     "output_type": "stream",
     "text": [
      "Deep Feature Builder - Ready\n",
      "Deep Classifier - Ready\n",
      "Deep Feature Builder - Ready\n"
     ]
    }
   ],
   "source": [
    "# %run Loader.ipynb\n",
    "exec(open('Loader.py').read())\n",
    "# Load Packages/Modules\n",
    "exec(open('Init_Dump.py').read())\n",
    "import time as time #<- Note sure why...but its always seems to need 'its own special loading...'"
   ]
  },
  {
   "cell_type": "markdown",
   "metadata": {},
   "source": [
    "#### Ensure Minimum Width for Universality is Achieved"
   ]
  },
  {
   "cell_type": "code",
   "execution_count": 87,
   "metadata": {},
   "outputs": [],
   "source": [
    "exec(open('MISC_HELPER_FUNCTIONS.py').read())\n",
    "param_grid_Deep_Classifier['height'] = minimum_height_updater(param_grid_Deep_Classifier['height'])"
   ]
  },
  {
   "cell_type": "markdown",
   "metadata": {},
   "source": [
    "# Simulate or Parse Data"
   ]
  },
  {
   "cell_type": "code",
   "execution_count": 88,
   "metadata": {},
   "outputs": [
    {
     "name": "stderr",
     "output_type": "stream",
     "text": [
      "\r",
      "  0%|          | 0/20 [00:00<?, ?it/s]"
     ]
    },
    {
     "name": "stdout",
     "output_type": "stream",
     "text": [
      "---------------------------------------\n",
      "Beginning Data-Parsing/Simulation Phase\n",
      "---------------------------------------\n",
      "Deciding on Which Simulator/Parser To Load\n",
      "Setting/Defining: Internal Parameters\n",
      "Deciding on Which Type of Data to Get/Simulate\n",
      "Simulating Output Data for given input data\n"
     ]
    },
    {
     "name": "stderr",
     "output_type": "stream",
     "text": [
      "100%|██████████| 20/20 [00:04<00:00,  4.17it/s]\n",
      "100%|██████████| 4/4 [00:00<00:00,  4.30it/s]"
     ]
    },
    {
     "name": "stdout",
     "output_type": "stream",
     "text": [
      "----------------------------------\n",
      "Done Data-Parsing/Simulation Phase\n",
      "----------------------------------\n"
     ]
    },
    {
     "name": "stderr",
     "output_type": "stream",
     "text": [
      "\n"
     ]
    }
   ],
   "source": [
    "# %run Data_Simulator_and_Parser.ipynb\n",
    "exec(open('Data_Simulator_and_Parser.py').read())"
   ]
  },
  {
   "cell_type": "markdown",
   "metadata": {},
   "source": [
    "#### Scale Data\n",
    "This is especially important to avoid exploding gradient problems when training the ML-models."
   ]
  },
  {
   "cell_type": "code",
   "execution_count": 89,
   "metadata": {},
   "outputs": [],
   "source": [
    "scaler = StandardScaler()\n",
    "scaler.fit(X_train)\n",
    "\n",
    "X_train = scaler.transform(X_train)\n",
    "X_test = scaler.transform(X_test)"
   ]
  },
  {
   "cell_type": "markdown",
   "metadata": {},
   "source": [
    "# Run Main:"
   ]
  },
  {
   "cell_type": "code",
   "execution_count": null,
   "metadata": {
    "scrolled": true
   },
   "outputs": [
    {
     "name": "stdout",
     "output_type": "stream",
     "text": [
      "------------------------------\n",
      "Running script for main model!\n",
      "------------------------------\n"
     ]
    },
    {
     "name": "stderr",
     "output_type": "stream",
     "text": [
      "100%|██████████| 150/150 [00:00<00:00, 17704.46it/s]"
     ]
    },
    {
     "name": "stdout",
     "output_type": "stream",
     "text": [
      "Deep Feature Builder - Ready\n",
      "Deep Classifier - Ready\n",
      "==========================================\n",
      "Training Classifer Portion of Type-A Model\n",
      "==========================================\n",
      "Fitting 2 folds for each of 1 candidates, totalling 2 fits\n"
     ]
    },
    {
     "name": "stderr",
     "output_type": "stream",
     "text": [
      "\n",
      "[Parallel(n_jobs=4)]: Using backend LokyBackend with 4 concurrent workers.\n",
      "[Parallel(n_jobs=4)]: Done   2 out of   2 | elapsed:    6.4s remaining:    0.0s\n",
      "[Parallel(n_jobs=4)]: Done   2 out of   2 | elapsed:    6.4s finished\n"
     ]
    },
    {
     "name": "stdout",
     "output_type": "stream",
     "text": [
      "Epoch 1/150\n",
      "13/13 [==============================] - 0s 4ms/step - loss: 5.0284 - accuracy: 0.0050\n",
      "Epoch 2/150\n",
      "13/13 [==============================] - 0s 3ms/step - loss: 4.9691 - accuracy: 0.0300\n",
      "Epoch 3/150\n",
      "13/13 [==============================] - 0s 5ms/step - loss: 4.8975 - accuracy: 0.0350\n",
      "Epoch 4/150\n",
      "13/13 [==============================] - 0s 5ms/step - loss: 4.7695 - accuracy: 0.0250\n",
      "Epoch 5/150\n",
      "13/13 [==============================] - 0s 5ms/step - loss: 4.5754 - accuracy: 0.0400\n",
      "Epoch 6/150\n",
      "13/13 [==============================] - 0s 5ms/step - loss: 4.3774 - accuracy: 0.0500\n",
      "Epoch 7/150\n",
      "13/13 [==============================] - 0s 4ms/step - loss: 4.2160 - accuracy: 0.0500\n",
      "Epoch 8/150\n",
      "13/13 [==============================] - 0s 3ms/step - loss: 4.0430 - accuracy: 0.0850\n",
      "Epoch 9/150\n",
      "13/13 [==============================] - 0s 4ms/step - loss: 3.8859 - accuracy: 0.0950\n",
      "Epoch 10/150\n",
      "13/13 [==============================] - 0s 4ms/step - loss: 3.7099 - accuracy: 0.1550\n",
      "Epoch 11/150\n",
      "13/13 [==============================] - 0s 3ms/step - loss: 3.5364 - accuracy: 0.1250\n",
      "Epoch 12/150\n",
      "13/13 [==============================] - 0s 3ms/step - loss: 3.3811 - accuracy: 0.1500\n",
      "Epoch 13/150\n",
      "13/13 [==============================] - 0s 3ms/step - loss: 3.2495 - accuracy: 0.1400\n",
      "Epoch 14/150\n",
      "13/13 [==============================] - 0s 3ms/step - loss: 3.1247 - accuracy: 0.1750\n",
      "Epoch 15/150\n",
      "13/13 [==============================] - 0s 3ms/step - loss: 3.0149 - accuracy: 0.1750\n",
      "Epoch 16/150\n",
      "13/13 [==============================] - 0s 3ms/step - loss: 2.9189 - accuracy: 0.2000\n",
      "Epoch 17/150\n",
      "13/13 [==============================] - 0s 3ms/step - loss: 2.8382 - accuracy: 0.1800\n",
      "Epoch 18/150\n",
      "13/13 [==============================] - 0s 3ms/step - loss: 2.7466 - accuracy: 0.2100\n",
      "Epoch 19/150\n",
      "13/13 [==============================] - 0s 3ms/step - loss: 2.6421 - accuracy: 0.2750\n",
      "Epoch 20/150\n",
      "13/13 [==============================] - 0s 3ms/step - loss: 2.5625 - accuracy: 0.2850\n",
      "Epoch 21/150\n",
      "13/13 [==============================] - 0s 3ms/step - loss: 2.5410 - accuracy: 0.2850\n",
      "Epoch 22/150\n",
      "13/13 [==============================] - 0s 5ms/step - loss: 2.4887 - accuracy: 0.2650\n",
      "Epoch 23/150\n",
      "13/13 [==============================] - 0s 4ms/step - loss: 2.4456 - accuracy: 0.3000\n",
      "Epoch 24/150\n",
      "13/13 [==============================] - 0s 4ms/step - loss: 2.3848 - accuracy: 0.2900\n",
      "Epoch 25/150\n",
      "13/13 [==============================] - 0s 4ms/step - loss: 2.2970 - accuracy: 0.3450\n",
      "Epoch 26/150\n",
      "13/13 [==============================] - 0s 5ms/step - loss: 2.2968 - accuracy: 0.3300\n",
      "Epoch 27/150\n",
      "13/13 [==============================] - 0s 4ms/step - loss: 2.1801 - accuracy: 0.4100\n",
      "Epoch 28/150\n",
      "13/13 [==============================] - 0s 4ms/step - loss: 2.2119 - accuracy: 0.3750\n",
      "Epoch 29/150\n",
      "13/13 [==============================] - 0s 3ms/step - loss: 2.1074 - accuracy: 0.4050\n",
      "Epoch 30/150\n",
      "13/13 [==============================] - 0s 3ms/step - loss: 2.1282 - accuracy: 0.3650\n",
      "Epoch 31/150\n",
      "13/13 [==============================] - 0s 4ms/step - loss: 2.0504 - accuracy: 0.3550\n",
      "Epoch 32/150\n",
      "13/13 [==============================] - 0s 3ms/step - loss: 2.0116 - accuracy: 0.3600\n",
      "Epoch 33/150\n",
      "13/13 [==============================] - 0s 3ms/step - loss: 1.9943 - accuracy: 0.4200\n",
      "Epoch 34/150\n",
      "13/13 [==============================] - 0s 5ms/step - loss: 1.9490 - accuracy: 0.3950\n",
      "Epoch 35/150\n",
      "13/13 [==============================] - 0s 4ms/step - loss: 1.9508 - accuracy: 0.4200\n",
      "Epoch 36/150\n",
      "13/13 [==============================] - 0s 4ms/step - loss: 1.8997 - accuracy: 0.3950\n",
      "Epoch 37/150\n",
      "13/13 [==============================] - 0s 4ms/step - loss: 1.8767 - accuracy: 0.4450\n",
      "Epoch 38/150\n",
      "13/13 [==============================] - 0s 3ms/step - loss: 1.8413 - accuracy: 0.4700\n",
      "Epoch 39/150\n",
      "13/13 [==============================] - 0s 3ms/step - loss: 1.8402 - accuracy: 0.4800\n",
      "Epoch 40/150\n",
      "13/13 [==============================] - 0s 3ms/step - loss: 1.8081 - accuracy: 0.4450\n",
      "Epoch 41/150\n",
      "13/13 [==============================] - 0s 3ms/step - loss: 1.8191 - accuracy: 0.4300\n",
      "Epoch 42/150\n",
      "13/13 [==============================] - 0s 3ms/step - loss: 1.7431 - accuracy: 0.4700\n",
      "Epoch 43/150\n",
      "13/13 [==============================] - 0s 4ms/step - loss: 1.6765 - accuracy: 0.4950\n",
      "Epoch 44/150\n",
      "13/13 [==============================] - 0s 4ms/step - loss: 1.7135 - accuracy: 0.4450\n",
      "Epoch 45/150\n",
      "13/13 [==============================] - 0s 3ms/step - loss: 1.6054 - accuracy: 0.5500\n",
      "Epoch 46/150\n",
      "13/13 [==============================] - 0s 3ms/step - loss: 1.6499 - accuracy: 0.4400\n",
      "Epoch 47/150\n",
      "13/13 [==============================] - 0s 5ms/step - loss: 1.6337 - accuracy: 0.5000\n",
      "Epoch 48/150\n",
      "13/13 [==============================] - 0s 4ms/step - loss: 1.6327 - accuracy: 0.4950\n",
      "Epoch 49/150\n",
      "13/13 [==============================] - 0s 4ms/step - loss: 1.6112 - accuracy: 0.4700\n",
      "Epoch 50/150\n",
      "13/13 [==============================] - 0s 3ms/step - loss: 1.5809 - accuracy: 0.5000\n",
      "Epoch 51/150\n",
      "13/13 [==============================] - 0s 4ms/step - loss: 1.5374 - accuracy: 0.5200\n",
      "Epoch 52/150\n",
      "13/13 [==============================] - 0s 3ms/step - loss: 1.5459 - accuracy: 0.4850\n",
      "Epoch 53/150\n",
      "13/13 [==============================] - 0s 4ms/step - loss: 1.5696 - accuracy: 0.4900\n",
      "Epoch 54/150\n",
      "13/13 [==============================] - 0s 4ms/step - loss: 1.5521 - accuracy: 0.4650\n",
      "Epoch 55/150\n",
      "13/13 [==============================] - 0s 4ms/step - loss: 1.4791 - accuracy: 0.5550\n",
      "Epoch 56/150\n",
      "13/13 [==============================] - 0s 4ms/step - loss: 1.4649 - accuracy: 0.5300\n",
      "Epoch 57/150\n",
      "13/13 [==============================] - 0s 4ms/step - loss: 1.4086 - accuracy: 0.5400\n",
      "Epoch 58/150\n",
      "13/13 [==============================] - 0s 4ms/step - loss: 1.4071 - accuracy: 0.5250\n",
      "Epoch 59/150\n",
      "13/13 [==============================] - 0s 3ms/step - loss: 1.4003 - accuracy: 0.5750\n",
      "Epoch 60/150\n",
      "13/13 [==============================] - 0s 4ms/step - loss: 1.4049 - accuracy: 0.5150\n",
      "Epoch 61/150\n",
      "13/13 [==============================] - 0s 3ms/step - loss: 1.3864 - accuracy: 0.5850\n",
      "Epoch 62/150\n",
      "13/13 [==============================] - 0s 4ms/step - loss: 1.3590 - accuracy: 0.5750\n",
      "Epoch 63/150\n",
      "13/13 [==============================] - 0s 4ms/step - loss: 1.3032 - accuracy: 0.5800\n",
      "Epoch 64/150\n",
      "13/13 [==============================] - 0s 4ms/step - loss: 1.3227 - accuracy: 0.6150\n",
      "Epoch 65/150\n",
      "13/13 [==============================] - 0s 4ms/step - loss: 1.3263 - accuracy: 0.6000\n",
      "Epoch 66/150\n",
      "13/13 [==============================] - 0s 4ms/step - loss: 1.2946 - accuracy: 0.5850\n",
      "Epoch 67/150\n",
      "13/13 [==============================] - 0s 3ms/step - loss: 1.3092 - accuracy: 0.5800\n",
      "Epoch 68/150\n",
      "13/13 [==============================] - 0s 3ms/step - loss: 1.2476 - accuracy: 0.6200\n",
      "Epoch 69/150\n",
      "13/13 [==============================] - 0s 3ms/step - loss: 1.3120 - accuracy: 0.5950\n",
      "Epoch 70/150\n",
      "13/13 [==============================] - 0s 4ms/step - loss: 1.2851 - accuracy: 0.5850\n",
      "Epoch 71/150\n",
      "13/13 [==============================] - 0s 3ms/step - loss: 1.2771 - accuracy: 0.5650\n",
      "Epoch 72/150\n",
      "13/13 [==============================] - 0s 4ms/step - loss: 1.3094 - accuracy: 0.5700\n",
      "Epoch 73/150\n",
      "13/13 [==============================] - 0s 4ms/step - loss: 1.3226 - accuracy: 0.5650\n",
      "Epoch 74/150\n",
      "13/13 [==============================] - 0s 4ms/step - loss: 1.2400 - accuracy: 0.5950\n",
      "Epoch 75/150\n",
      "13/13 [==============================] - 0s 4ms/step - loss: 1.2327 - accuracy: 0.6050\n",
      "Epoch 76/150\n",
      "13/13 [==============================] - 0s 3ms/step - loss: 1.1715 - accuracy: 0.6150\n",
      "Epoch 77/150\n",
      "13/13 [==============================] - 0s 3ms/step - loss: 1.1993 - accuracy: 0.6200\n",
      "Epoch 78/150\n",
      "13/13 [==============================] - 0s 3ms/step - loss: 1.2151 - accuracy: 0.6300\n",
      "Epoch 79/150\n",
      "13/13 [==============================] - 0s 4ms/step - loss: 1.1506 - accuracy: 0.6600\n",
      "Epoch 80/150\n",
      "13/13 [==============================] - 0s 4ms/step - loss: 1.0943 - accuracy: 0.6650\n",
      "Epoch 81/150\n",
      "13/13 [==============================] - 0s 4ms/step - loss: 1.1484 - accuracy: 0.5800\n",
      "Epoch 82/150\n",
      "13/13 [==============================] - 0s 3ms/step - loss: 1.1826 - accuracy: 0.6050\n",
      "Epoch 83/150\n"
     ]
    },
    {
     "name": "stdout",
     "output_type": "stream",
     "text": [
      "13/13 [==============================] - 0s 3ms/step - loss: 1.1424 - accuracy: 0.6350\n",
      "Epoch 84/150\n",
      "13/13 [==============================] - 0s 3ms/step - loss: 1.1722 - accuracy: 0.6050\n",
      "Epoch 85/150\n",
      "13/13 [==============================] - 0s 3ms/step - loss: 1.1754 - accuracy: 0.5900\n",
      "Epoch 86/150\n",
      "13/13 [==============================] - 0s 3ms/step - loss: 1.1643 - accuracy: 0.6350\n",
      "Epoch 87/150\n",
      "13/13 [==============================] - 0s 3ms/step - loss: 1.0824 - accuracy: 0.6400\n",
      "Epoch 88/150\n",
      "13/13 [==============================] - 0s 4ms/step - loss: 1.0754 - accuracy: 0.6300\n",
      "Epoch 89/150\n",
      "13/13 [==============================] - 0s 3ms/step - loss: 1.1000 - accuracy: 0.5950\n",
      "Epoch 90/150\n",
      "13/13 [==============================] - 0s 4ms/step - loss: 1.1151 - accuracy: 0.6600\n",
      "Epoch 91/150\n",
      "13/13 [==============================] - 0s 3ms/step - loss: 1.1085 - accuracy: 0.5950\n",
      "Epoch 92/150\n",
      "13/13 [==============================] - 0s 3ms/step - loss: 1.0543 - accuracy: 0.6300\n",
      "Epoch 93/150\n",
      "13/13 [==============================] - 0s 3ms/step - loss: 1.0531 - accuracy: 0.6650\n",
      "Epoch 94/150\n",
      "13/13 [==============================] - 0s 3ms/step - loss: 1.0258 - accuracy: 0.6250\n",
      "Epoch 95/150\n",
      "13/13 [==============================] - 0s 3ms/step - loss: 1.0407 - accuracy: 0.6100\n",
      "Epoch 96/150\n",
      "13/13 [==============================] - 0s 4ms/step - loss: 1.0921 - accuracy: 0.6700\n",
      "Epoch 97/150\n",
      "13/13 [==============================] - 0s 4ms/step - loss: 1.1093 - accuracy: 0.6400\n",
      "Epoch 98/150\n",
      "13/13 [==============================] - 0s 4ms/step - loss: 0.9858 - accuracy: 0.6600\n",
      "Epoch 99/150\n",
      "13/13 [==============================] - 0s 3ms/step - loss: 1.0179 - accuracy: 0.6500\n",
      "Epoch 100/150\n",
      "13/13 [==============================] - 0s 3ms/step - loss: 0.9683 - accuracy: 0.6850\n",
      "Epoch 101/150\n",
      "13/13 [==============================] - 0s 4ms/step - loss: 0.9986 - accuracy: 0.6200\n",
      "Epoch 102/150\n",
      "13/13 [==============================] - 0s 3ms/step - loss: 0.9668 - accuracy: 0.6650\n",
      "Epoch 103/150\n",
      "13/13 [==============================] - 0s 3ms/step - loss: 0.9752 - accuracy: 0.6600\n",
      "Epoch 104/150\n",
      "13/13 [==============================] - 0s 4ms/step - loss: 0.9611 - accuracy: 0.6700\n",
      "Epoch 105/150\n",
      "13/13 [==============================] - 0s 4ms/step - loss: 0.9797 - accuracy: 0.7000\n",
      "Epoch 106/150\n",
      "13/13 [==============================] - 0s 4ms/step - loss: 0.9747 - accuracy: 0.6350\n",
      "Epoch 107/150\n",
      "13/13 [==============================] - 0s 3ms/step - loss: 0.8987 - accuracy: 0.6700\n",
      "Epoch 108/150\n",
      "13/13 [==============================] - 0s 3ms/step - loss: 0.9479 - accuracy: 0.6750\n",
      "Epoch 109/150\n",
      "13/13 [==============================] - 0s 4ms/step - loss: 0.9350 - accuracy: 0.6950\n",
      "Epoch 110/150\n",
      "13/13 [==============================] - 0s 3ms/step - loss: 1.0001 - accuracy: 0.6200\n",
      "Epoch 111/150\n",
      "13/13 [==============================] - 0s 3ms/step - loss: 0.9896 - accuracy: 0.6750\n",
      "Epoch 112/150\n",
      "13/13 [==============================] - 0s 4ms/step - loss: 0.9926 - accuracy: 0.6750\n",
      "Epoch 113/150\n",
      "13/13 [==============================] - 0s 4ms/step - loss: 1.0726 - accuracy: 0.6400\n",
      "Epoch 114/150\n",
      "13/13 [==============================] - 0s 3ms/step - loss: 0.9263 - accuracy: 0.6350\n",
      "Epoch 115/150\n",
      "13/13 [==============================] - 0s 3ms/step - loss: 0.9545 - accuracy: 0.6750\n",
      "Epoch 116/150\n",
      "13/13 [==============================] - 0s 3ms/step - loss: 0.9090 - accuracy: 0.6750\n",
      "Epoch 117/150\n",
      "13/13 [==============================] - 0s 3ms/step - loss: 0.9928 - accuracy: 0.6350\n",
      "Epoch 118/150\n",
      "13/13 [==============================] - 0s 3ms/step - loss: 0.9334 - accuracy: 0.6900\n",
      "Epoch 119/150\n",
      "13/13 [==============================] - 0s 3ms/step - loss: 0.9425 - accuracy: 0.7050\n",
      "Epoch 120/150\n",
      "13/13 [==============================] - 0s 4ms/step - loss: 0.9187 - accuracy: 0.6550\n",
      "Epoch 121/150\n",
      "13/13 [==============================] - 0s 4ms/step - loss: 1.0219 - accuracy: 0.6600\n",
      "Epoch 122/150\n",
      "13/13 [==============================] - 0s 3ms/step - loss: 0.9070 - accuracy: 0.6550\n",
      "Epoch 123/150\n",
      "13/13 [==============================] - 0s 3ms/step - loss: 0.9330 - accuracy: 0.6850\n",
      "Epoch 124/150\n",
      "13/13 [==============================] - 0s 4ms/step - loss: 0.8852 - accuracy: 0.7200\n",
      "Epoch 125/150\n",
      "13/13 [==============================] - 0s 5ms/step - loss: 0.9558 - accuracy: 0.6600\n",
      "Epoch 126/150\n",
      "13/13 [==============================] - 0s 4ms/step - loss: 0.8873 - accuracy: 0.6850\n",
      "Epoch 127/150\n",
      "13/13 [==============================] - 0s 4ms/step - loss: 0.8557 - accuracy: 0.7250\n",
      "Epoch 128/150\n",
      "13/13 [==============================] - 0s 4ms/step - loss: 0.8563 - accuracy: 0.7050\n",
      "Epoch 129/150\n",
      "13/13 [==============================] - 0s 4ms/step - loss: 0.9045 - accuracy: 0.7000\n",
      "Epoch 130/150\n",
      "13/13 [==============================] - 0s 4ms/step - loss: 0.8652 - accuracy: 0.7000\n",
      "Epoch 131/150\n",
      "13/13 [==============================] - 0s 3ms/step - loss: 0.9070 - accuracy: 0.6600\n",
      "Epoch 132/150\n",
      "13/13 [==============================] - 0s 3ms/step - loss: 0.9333 - accuracy: 0.6650\n",
      "Epoch 133/150\n",
      "13/13 [==============================] - 0s 3ms/step - loss: 0.8268 - accuracy: 0.7200\n",
      "Epoch 134/150\n",
      "13/13 [==============================] - 0s 3ms/step - loss: 0.8455 - accuracy: 0.7000\n",
      "Epoch 135/150\n",
      "13/13 [==============================] - 0s 4ms/step - loss: 0.8212 - accuracy: 0.7150\n",
      "Epoch 136/150\n",
      "13/13 [==============================] - 0s 4ms/step - loss: 0.8712 - accuracy: 0.6850\n",
      "Epoch 137/150\n",
      "13/13 [==============================] - 0s 3ms/step - loss: 0.8073 - accuracy: 0.6850\n",
      "Epoch 138/150\n",
      "13/13 [==============================] - 0s 3ms/step - loss: 0.8685 - accuracy: 0.6800\n",
      "Epoch 139/150\n",
      "13/13 [==============================] - 0s 3ms/step - loss: 0.8696 - accuracy: 0.7250\n",
      "Epoch 140/150\n",
      "13/13 [==============================] - 0s 3ms/step - loss: 0.8114 - accuracy: 0.6900\n",
      "Epoch 141/150\n",
      "13/13 [==============================] - 0s 4ms/step - loss: 0.8056 - accuracy: 0.6900\n",
      "Epoch 142/150\n",
      "13/13 [==============================] - 0s 5ms/step - loss: 0.8196 - accuracy: 0.7200\n",
      "Epoch 143/150\n",
      "13/13 [==============================] - 0s 5ms/step - loss: 0.7789 - accuracy: 0.7550\n",
      "Epoch 144/150\n",
      "13/13 [==============================] - 0s 4ms/step - loss: 0.8416 - accuracy: 0.6800\n",
      "Epoch 145/150\n",
      "13/13 [==============================] - 0s 4ms/step - loss: 0.8299 - accuracy: 0.6850\n",
      "Epoch 146/150\n",
      "13/13 [==============================] - 0s 3ms/step - loss: 0.8005 - accuracy: 0.6900\n",
      "Epoch 147/150\n",
      "13/13 [==============================] - 0s 3ms/step - loss: 0.7975 - accuracy: 0.7150\n",
      "Epoch 148/150\n",
      "13/13 [==============================] - 0s 3ms/step - loss: 0.7317 - accuracy: 0.7450\n",
      "Epoch 149/150\n",
      "13/13 [==============================] - 0s 3ms/step - loss: 0.8003 - accuracy: 0.6700\n",
      "Epoch 150/150\n",
      "13/13 [==============================] - 0s 4ms/step - loss: 0.8471 - accuracy: 0.6950\n",
      "13/13 [==============================] - 0s 1ms/step\n",
      "3/3 [==============================] - 0s 1ms/step\n"
     ]
    },
    {
     "name": "stderr",
     "output_type": "stream",
     "text": [
      "\r",
      "  0%|          | 0/200 [00:00<?, ?it/s]"
     ]
    },
    {
     "name": "stdout",
     "output_type": "stream",
     "text": [
      "===============================================\n",
      "Training Classifer Portion of Type Model: Done!\n",
      "===============================================\n",
      "#--------------------#\n",
      " Get Training Error(s)\n",
      "#--------------------#\n"
     ]
    },
    {
     "name": "stderr",
     "output_type": "stream",
     "text": [
      "100%|██████████| 200/200 [00:14<00:00, 14.12it/s]\n",
      "  5%|▌         | 2/40 [00:00<00:03, 11.30it/s]"
     ]
    },
    {
     "name": "stdout",
     "output_type": "stream",
     "text": [
      "#-------------------------#\n",
      " Get Training Error(s): END\n",
      "#-------------------------#\n",
      "#----------------#\n",
      " Get Test Error(s)\n",
      "#----------------#\n"
     ]
    },
    {
     "name": "stderr",
     "output_type": "stream",
     "text": [
      " 57%|█████▊    | 23/40 [00:02<00:01, 11.14it/s]"
     ]
    }
   ],
   "source": [
    "print(\"------------------------------\")\n",
    "print(\"Running script for main model!\")\n",
    "print(\"------------------------------\")\n",
    "# %run Universal_Measure_Valued_Networks_Backend.ipynb\n",
    "exec(open('Universal_Measure_Valued_Networks_Backend.py').read())\n",
    "\n",
    "print(\"------------------------------------\")\n",
    "print(\"Done: Running script for main model!\")\n",
    "print(\"------------------------------------\")"
   ]
  },
  {
   "cell_type": "markdown",
   "metadata": {},
   "source": [
    "---\n",
    "# Run: All Benchmarks"
   ]
  },
  {
   "cell_type": "markdown",
   "metadata": {},
   "source": [
    "## 1) *Pointmass Benchmark(s)*\n",
    "These benchmarks consist of subsets of $C(\\mathbb{R}^d,\\mathbb{R})$ which we lift to models in $C(\\mathbb{R}^d,\\cap_{1\\leq q<\\infty}\\mathscr{P}_{q}(\\mathbb{R}))$ via:\n",
    "$$\n",
    "\\mathbb{R}^d \\ni x \\to f(x) \\to \\delta_{f(x)}\\in \\cap_{1\\leq q<\\infty}\\mathcal{P}_{q}(\\mathbb{R}).\n",
    "$$"
   ]
  },
  {
   "cell_type": "code",
   "execution_count": null,
   "metadata": {},
   "outputs": [],
   "source": [
    "exec(open('CV_Grid.py').read())\n",
    "# Notebook Mode:\n",
    "# %run Evaluation.ipynb\n",
    "# %run Benchmarks_Model_Builder_Pointmass_Based.ipynb\n",
    "# Terminal Mode (Default):\n",
    "exec(open('Evaluation.py').read())\n",
    "exec(open('Benchmarks_Model_Builder_Pointmass_Based.py').read())"
   ]
  },
  {
   "cell_type": "markdown",
   "metadata": {},
   "source": [
    "# Summary of Point-Mass Regression Models"
   ]
  },
  {
   "cell_type": "markdown",
   "metadata": {},
   "source": [
    "#### Training Model Facts"
   ]
  },
  {
   "cell_type": "code",
   "execution_count": null,
   "metadata": {},
   "outputs": [],
   "source": [
    "print(Summary_pred_Qual_models)\n",
    "Summary_pred_Qual_models"
   ]
  },
  {
   "cell_type": "markdown",
   "metadata": {},
   "source": [
    "#### Testing Model Facts"
   ]
  },
  {
   "cell_type": "code",
   "execution_count": null,
   "metadata": {},
   "outputs": [],
   "source": [
    "print(Summary_pred_Qual_models_test)\n",
    "Summary_pred_Qual_models_test"
   ]
  },
  {
   "cell_type": "markdown",
   "metadata": {},
   "source": [
    "## 2) *Gaussian Benchmarks*"
   ]
  },
  {
   "cell_type": "markdown",
   "metadata": {},
   "source": [
    "- Bencharm 1: [Gaussian Process Regressor](https://scikit-learn.org/stable/modules/gaussian_process.html)\n",
    "- Benchmark 2: Deep Gaussian Networks:\n",
    "These models train models which assume Gaussianity.  We may view these as models in $\\mathcal{P}_2(\\mathbb{R})$ via:\n",
    "$$\n",
    "\\mathbb{R}^d \\ni x \\to (\\hat{\\mu}(x),\\hat{\\Sigma}(x)\\hat{\\Sigma}^{\\top})\\triangleq f(x) \\in \\mathbb{R}\\times [0,\\infty) \\to \n",
    "(2\\pi)^{-\\frac{d}{2}}\\det(\\hat{\\Sigma}(x))^{-\\frac{1}{2}} \\, e^{ -\\frac{1}{2}(\\cdot - \\hat{\\mu}(x))^{{{\\!\\mathsf{T}}}} \\hat{\\Sigma}(x)^{-1}(\\cdot - \\hat{\\mu}(x)) } \\mu \\in \\mathcal{G}_d\\subset \\mathcal{P}_2(\\mathbb{R});\n",
    "$$\n",
    "where $\\mathcal{G}_1$ is the set of Gaussian measures on $\\mathbb{R}$ equipped with the relative Wasserstein-1 topology.\n",
    "\n",
    "Examples of this type of architecture are especially prevalent in uncertainty quantification; see ([Deep Ensembles](https://arxiv.org/abs/1612.01474)] or [NOMU: Neural Optimization-based Model Uncertainty](https://arxiv.org/abs/2102.13640).  Moreover, their universality in $C(\\mathbb{R}^d,\\mathcal{G}_2)$ is known, and has been shown in [Corollary 4.7](https://arxiv.org/abs/2101.05390)."
   ]
  },
  {
   "cell_type": "code",
   "execution_count": null,
   "metadata": {},
   "outputs": [],
   "source": [
    "# %run Benchmarks_Model_Builder_Mean_Var.ipynb\n",
    "exec(open('Benchmarks_Model_Builder_Mean_Var.py').read())"
   ]
  },
  {
   "cell_type": "code",
   "execution_count": null,
   "metadata": {},
   "outputs": [],
   "source": [
    "print(\"Prediction Quality (Updated): Test\")\n",
    "print(Summary_pred_Qual_models_test)\n",
    "Summary_pred_Qual_models_test"
   ]
  },
  {
   "cell_type": "code",
   "execution_count": null,
   "metadata": {},
   "outputs": [],
   "source": [
    "print(\"Prediction Quality (Updated): Train\")\n",
    "print(Summary_pred_Qual_models)\n",
    "Summary_pred_Qual_models"
   ]
  },
  {
   "cell_type": "markdown",
   "metadata": {},
   "source": [
    "# 3) The natural Universal Benchmark: [Bishop's Mixture Density Network](https://publications.aston.ac.uk/id/eprint/373/1/NCRG_94_004.pdf)\n",
    "\n",
    "This implementation is as follows:\n",
    "- For every $x$ in the trainingdata-set we fit a GMM $\\hat{\\nu}_x$, using the [Expectation-Maximization (EM) algorithm](https://en.wikipedia.org/wiki/Expectation%E2%80%93maximization_algorithm), with the same number of centers as the deep neural model in $\\mathcal{NN}_{1_{\\mathbb{R}^d},\\mathcal{D}}^{\\sigma:\\star}$ which we are evaluating.  \n",
    "- A Mixture density network is then trained to predict the infered parameters; given any $x \\in \\mathbb{R}^d$."
   ]
  },
  {
   "cell_type": "code",
   "execution_count": null,
   "metadata": {},
   "outputs": [],
   "source": [
    "if output_dim == 1:\n",
    "    # %run Mixture_Density_Network.ipynb\n",
    "    exec(open('Mixture_Density_Network.py').read())"
   ]
  },
  {
   "cell_type": "markdown",
   "metadata": {},
   "source": [
    "## Get Final Outputs\n",
    "Now we piece together all the numerical experiments and report a nice summary."
   ]
  },
  {
   "cell_type": "markdown",
   "metadata": {},
   "source": [
    "---\n",
    "# Final Results\n",
    "---"
   ]
  },
  {
   "cell_type": "markdown",
   "metadata": {},
   "source": [
    "## Prasing Quality Metric Results"
   ]
  },
  {
   "cell_type": "markdown",
   "metadata": {},
   "source": [
    "#### Finalizing Saving\n",
    "**Note:** *We do it in two steps since the grid sometimes does not want to write nicely...*"
   ]
  },
  {
   "cell_type": "code",
   "execution_count": null,
   "metadata": {},
   "outputs": [],
   "source": [
    "## Write Performance Metrics\n",
    "### Incase caption breaks\n",
    "Summary_pred_Qual_models.to_latex((results_tables_path+\"/Final_Results/\"+\"Performance_metrics_Problem_Type_\"+str(f_unknown_mode)+\"Problemdimension\"+str(problem_dim)+\"__SUMMARY_METRICS.tex\"),\n",
    "                                 float_format=\"{:0.3g}\".format)\n",
    "text_file = open((results_tables_path+\"/Final_Results/\"+\"ZZZ_CAPTION_Performance_metrics_Problem_Type_\"+str(f_unknown_mode)+\"Problemdimension\"+str(problem_dim)+\"__SUMMARY_METRICS___CAPTION.tex\"), \"w\")\n",
    "text_file.write(\"Quality Metrics; d:\"+str(problem_dim)+\", D:\"+str(output_dim)+\", Depth:\"+str(Depth_Bayesian_DNN)+\", Width:\"+str(width)+\", Dropout rate:\"+str(Dropout_rate)+\".\")\n",
    "text_file.close()\n",
    "\n",
    "\n",
    "### Incase caption does not break\n",
    "Summary_pred_Qual_models.to_latex((results_tables_path+\"/Final_Results/\"+\"Performance_metrics_Problem_Type_\"+str(f_unknown_mode)+\"Problemdimension\"+str(problem_dim)+\"__SUMMARY_METRICS.tex\"),\n",
    "                                 caption=(\"Quality Metrics; d:\"+str(problem_dim)+\", D:\"+str(output_dim)+\", Depth:\"+str(Depth_Bayesian_DNN)+\", Width:\"+str(width)+\", Dropout rate:\"+str(Dropout_rate)+\".\"),\n",
    "                                 float_format=\"{:0.3g}\".format)"
   ]
  },
  {
   "cell_type": "markdown",
   "metadata": {},
   "source": [
    "# For Terminal Runner(s):"
   ]
  },
  {
   "cell_type": "code",
   "execution_count": null,
   "metadata": {},
   "outputs": [],
   "source": [
    "# For Terminal Running\n",
    "print(\"===================\")\n",
    "print(\"Predictive Quality:\")\n",
    "print(\"===================\")\n",
    "print(Summary_pred_Qual_models)\n",
    "print(\"===================\")\n",
    "print(\" \")\n",
    "print(\" \")\n",
    "print(\" \")\n",
    "print(\"Kernel_Used_in_GPR: \"+str(GPR_trash.kernel))\n",
    "print(\"🙃🙃 Have a wonderful day! 🙃🙃\")\n",
    "Summary_pred_Qual_models"
   ]
  },
  {
   "cell_type": "markdown",
   "metadata": {},
   "source": [
    "---\n",
    "# Fin\n",
    "---"
   ]
  },
  {
   "cell_type": "markdown",
   "metadata": {},
   "source": [
    "---"
   ]
  }
 ],
 "metadata": {
  "kernelspec": {
   "display_name": "Python 3",
   "language": "python",
   "name": "python3"
  },
  "language_info": {
   "codemirror_mode": {
    "name": "ipython",
    "version": 3
   },
   "file_extension": ".py",
   "mimetype": "text/x-python",
   "name": "python",
   "nbconvert_exporter": "python",
   "pygments_lexer": "ipython3",
   "version": "3.7.7"
  }
 },
 "nbformat": 4,
 "nbformat_minor": 2
}
