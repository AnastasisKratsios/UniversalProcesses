{
 "cells": [
  {
   "cell_type": "markdown",
   "metadata": {},
   "source": [
    "# Generic Conditional Laws for Random-Fields - via:\n",
    "\n",
    "## Universal $\\mathcal{P}_1(\\mathbb{R})$-Deep Neural Model $\\mathcal{NN}_{1_{\\mathbb{R}^n},\\mathcal{D}}^{\\sigma:\\star}$.\n",
    "\n",
    "---\n",
    "\n",
    "By: [Anastasis Kratsios](https://people.math.ethz.ch/~kratsioa/) - 2021.\n",
    "\n",
    "---"
   ]
  },
  {
   "cell_type": "code",
   "execution_count": 21,
   "metadata": {},
   "outputs": [],
   "source": [
    "# Software/Hardware Testing or Real-Deal?\n",
    "trial_run = False"
   ]
  },
  {
   "cell_type": "markdown",
   "metadata": {},
   "source": [
    "---\n",
    "# Training Algorithm:\n",
    "---\n",
    "- Random $\\delta$-bounded partition on input space,\n",
    "- Train deep classifier on infered classes.\n",
    "---\n",
    "---\n",
    "---\n",
    "## Notes - Why the procedure is so computationally efficient?\n",
    "---\n",
    " - The sample barycenters do not require us to solve for any new Wasserstein-1 Barycenters; which is much more computationally costly,\n",
    " - Our training procedure never back-propages through $\\mathcal{W}_1$ since steps 2 and 3 are full-decoupled.  Therefore, training our deep classifier is (comparatively) cheap since it takes values in the standard $N$-simplex.\n",
    "\n",
    "---"
   ]
  },
  {
   "cell_type": "markdown",
   "metadata": {},
   "source": [
    "## Load Auxiliaries"
   ]
  },
  {
   "cell_type": "code",
   "execution_count": 22,
   "metadata": {},
   "outputs": [
    {
     "name": "stdout",
     "output_type": "stream",
     "text": [
      "Deep Feature Builder - Ready\n",
      "Deep Classifier - Ready\n"
     ]
    }
   ],
   "source": [
    "# Load Packages/Modules\n",
    "exec(open('Init_Dump.py').read())\n",
    "# Load Hyper-parameter Grid\n",
    "exec(open('CV_Grid.py').read())\n",
    "# Load Helper Function(s)\n",
    "exec(open('Helper_Functions.py').read())\n",
    "# Import time separately\n",
    "import time\n",
    "\n",
    "\n",
    "# load dataset\n",
    "results_path = \"./outputs/models/\"\n",
    "results_tables_path = \"./outputs/results/\"\n",
    "raw_data_path_folder = \"./inputs/raw/\"\n",
    "data_path_folder = \"./inputs/data/\"\n",
    "\n",
    "\n",
    "### Set Seed\n",
    "random.seed(2021)\n",
    "np.random.seed(2021)\n",
    "tf.random.set_seed(2021)"
   ]
  },
  {
   "cell_type": "markdown",
   "metadata": {},
   "source": [
    "## Meta-Parameters"
   ]
  },
  {
   "cell_type": "markdown",
   "metadata": {},
   "source": [
    "### Simulation"
   ]
  },
  {
   "cell_type": "markdown",
   "metadata": {},
   "source": [
    "#### Grid Hyperparameter(s)\n",
    "- Ratio $\\frac{\\text{Testing Datasize}}{\\text{Training Datasize}}$.\n",
    "- Number of Training Points to Generate"
   ]
  },
  {
   "cell_type": "code",
   "execution_count": 65,
   "metadata": {},
   "outputs": [],
   "source": [
    "train_test_ratio = .2\n",
    "N_train_size = 10"
   ]
  },
  {
   "cell_type": "markdown",
   "metadata": {},
   "source": [
    "Monte-Carlo Paramters"
   ]
  },
  {
   "cell_type": "code",
   "execution_count": 66,
   "metadata": {},
   "outputs": [],
   "source": [
    "## Monte-Carlo\n",
    "N_Euler_Maruyama_Steps = 2\n",
    "N_Monte_Carlo_Samples = 5\n",
    "\n",
    "# End times for Time-Grid\n",
    "T_end = 1"
   ]
  },
  {
   "cell_type": "markdown",
   "metadata": {},
   "source": [
    "Initial radis of $\\delta$-bounded random partition of $\\mathcal{X}$!"
   ]
  },
  {
   "cell_type": "code",
   "execution_count": 67,
   "metadata": {},
   "outputs": [],
   "source": [
    "# Hyper-parameters of Cover\n",
    "delta = 0.001\n",
    "Proportion_per_cluster = .1"
   ]
  },
  {
   "cell_type": "markdown",
   "metadata": {},
   "source": [
    "**Note**: Setting *N_Quantizers_to_parameterize* prevents any barycenters and sub-sampling."
   ]
  },
  {
   "cell_type": "code",
   "execution_count": 68,
   "metadata": {},
   "outputs": [],
   "source": [
    "trial_run = True"
   ]
  },
  {
   "cell_type": "markdown",
   "metadata": {},
   "source": [
    "## Simulation from Rough Neural-SDE\n",
    "Simulate via Euler-M method from:\n",
    "$$ \n",
    "X_T^x = x + \\int_0^T \\alpha(s,X_s^x)ds + \\int_0^T\\beta(s,X_s^s)dB_s^H.\n",
    "$$\n",
    "We seek to learn $\\mathbb{P}\\left(A^{\\top}X_1^x\\mid X_0^x = x\\right)$, where $A^{\\top}$ is an unknown $1\\times d$-matrix.  "
   ]
  },
  {
   "cell_type": "markdown",
   "metadata": {},
   "source": [
    "## Problem Dimension"
   ]
  },
  {
   "cell_type": "code",
   "execution_count": 69,
   "metadata": {},
   "outputs": [],
   "source": [
    "problem_dim = 10\n",
    "width = 10"
   ]
  },
  {
   "cell_type": "markdown",
   "metadata": {},
   "source": [
    "### Drift"
   ]
  },
  {
   "cell_type": "code",
   "execution_count": 70,
   "metadata": {},
   "outputs": [],
   "source": [
    "W_2a = np.random.uniform(size=np.array([problem_dim,width]),low=-.5,high=.5)\n",
    "W_1a = np.random.uniform(size=np.array([width,problem_dim]),low=-.5,high=.5)\n",
    "def alpha(t,x):\n",
    "    x_internal = x.reshape(-1,)\n",
    "#     x_internal = np.matmul(W_1a,x_internal)\n",
    "#     x_internal = np.matmul(W_2a,np.cos(x_internal))\n",
    "    x_internal = 0.01*x_internal\n",
    "    return x_internal"
   ]
  },
  {
   "cell_type": "markdown",
   "metadata": {},
   "source": [
    "### Volatility"
   ]
  },
  {
   "cell_type": "code",
   "execution_count": 71,
   "metadata": {},
   "outputs": [],
   "source": [
    "W_2b = np.random.uniform(size=np.array([(problem_dim**2),width]),low=-.5,high=.5)\n",
    "W_1b = np.random.uniform(size=np.array([width,problem_dim]),low=-.5,high=.5)\n",
    "def beta(t,x):\n",
    "#     x_internal = x.reshape(-1,)\n",
    "#     x_internal = np.matmul(W_1b,x_internal)\n",
    "#     x_internal = np.matmul(W_2b,np.maximum(0,np.array(x_internal)))\n",
    "#     x_internal = x_internal.reshape([problem_dim,problem_dim])\n",
    "#     # Ensure PSD\n",
    "#     x_internal = np.matmul(x_internal,x_internal.T)\n",
    "    x_internal = 0.001*np.diag(np.ones(problem_dim))\n",
    "    return x_internal"
   ]
  },
  {
   "cell_type": "markdown",
   "metadata": {},
   "source": [
    "### Roughness Meta-parameters\n",
    " - Roughness is $H$,\n",
    " - Ratio_fBM_to_typical_vol is $\\eta$."
   ]
  },
  {
   "cell_type": "code",
   "execution_count": 72,
   "metadata": {},
   "outputs": [],
   "source": [
    "Rougness = 0.5 # Hurst Parameter"
   ]
  },
  {
   "cell_type": "markdown",
   "metadata": {},
   "source": [
    "## Initialize Simulator"
   ]
  },
  {
   "cell_type": "markdown",
   "metadata": {},
   "source": [
    "#### Initialize Unknown Matrix"
   ]
  },
  {
   "cell_type": "code",
   "execution_count": 73,
   "metadata": {},
   "outputs": [],
   "source": [
    "A_unkown = np.random.normal(size=np.array([problem_dim,1]))"
   ]
  },
  {
   "cell_type": "markdown",
   "metadata": {},
   "source": [
    "Simulate using Euler-Maruyama + Monte-Carlo"
   ]
  },
  {
   "cell_type": "code",
   "execution_count": 74,
   "metadata": {},
   "outputs": [],
   "source": [
    "###################################\n",
    "# Define Simulator Data Generator #\n",
    "###################################\n",
    "def Euler_Maruyama_Generator(x_0,\n",
    "                             N_Euler_Maruyama_Steps = 10,\n",
    "                             N_Monte_Carlo_Samples = 100,\n",
    "                             T_begin = 0,\n",
    "                             T_end = T_end,\n",
    "                             Hurst = 0.1): \n",
    "    #----------------------------#    \n",
    "    # DEFINE INTERNAL PARAMETERS #\n",
    "    #----------------------------#\n",
    "    # Internal Initialization(s)\n",
    "    ## Initialize current state\n",
    "    n_sample = 0\n",
    "    ## Initialize Incriments\n",
    "    dt = (T_end-T_begin)/N_Euler_Maruyama_Steps\n",
    "    sqrt_dt = np.sqrt(dt)\n",
    "    # Get Dimension\n",
    "    dim_x_0 = len(x_0)\n",
    "\n",
    "    #-----------------------------#    \n",
    "    # Generate Monte-Carlo Sample #\n",
    "    #-----------------------------#\n",
    "    for n_sample in range(N_Monte_Carlo_Samples):\n",
    "        # Initialize Current State \n",
    "        X_current = x_0\n",
    "        # Generate roughness\n",
    "        for fBM_path_i in range(dim_x_0):\n",
    "            sigma_rough_loop = FBM(n=N_Euler_Maruyama_Steps, \n",
    "                                   hurst=Hurst, \n",
    "                                   length=1, \n",
    "                                   method='daviesharte').fbm().reshape(1,-1)\n",
    "            if fBM_path_i == 0:\n",
    "                sigma_rough = sigma_rough_loop\n",
    "            else:\n",
    "                sigma_rough = np.append(sigma_rough,sigma_rough_loop,axis=0)\n",
    "\n",
    "    #     Perform Euler-Maruyama Simulation\n",
    "        for t in range((sigma_rough.shape[1]-1)):\n",
    "            # Update Internal Parameters\n",
    "            ## Get Current Time\n",
    "            t_current = t*((T_end - T_begin)/N_Euler_Maruyama_Steps)\n",
    "\n",
    "            # Update Generated Path\n",
    "            ## Generate Current State-Update Components\n",
    "            drift_t = alpha(t_current,X_current.reshape(-1,))*dt\n",
    "            vol_t = beta(t_current,X_current)\n",
    "            BH_t = (sigma_rough[:,(1+t)])\n",
    "            ## Compute Update\n",
    "            X_current = X_current #+ drift_t + (np.matmul(vol_t,BH_t))       \n",
    "\n",
    "        # Update Empirical Measure\n",
    "        X_current = X_current.reshape(-1,1)\n",
    "        if n_sample ==0:\n",
    "            X_T_Empirical = X_current\n",
    "        else:\n",
    "            X_T_Empirical = np.append(X_T_Empirical,X_current,axis=-1)\n",
    "\n",
    "    # Reshape\n",
    "    X_T_Empirical = X_T_Empirical.T\n",
    "    \n",
    "    # Get Output\n",
    "    Y_Empirical = np.matmul(X_T_Empirical,A_unkown)\n",
    "    \n",
    "    \n",
    "    # Add Stationary Uniform Noise\n",
    "#     if uniform_noise>0:\n",
    "#         X_T_Empirical = X_T_Empirical #+ np.random.uniform(low=-uniform_noise,high=uniform_noise,size=X_T_Empirical.shape())\n",
    "    return Y_Empirical\n",
    "\n",
    "\n",
    "\n",
    "\n",
    "\n",
    "\n",
    "\n",
    "\n",
    "\n",
    "\n",
    "################################\n",
    "# Define Output Data Generator #\n",
    "################################\n",
    "def Euler_Maruyama_simulator(Grid_in,\n",
    "                             N_Monte_Carlo_Samples = N_Monte_Carlo_Samples,\n",
    "                             Rougness = Rougness,\n",
    "                             N_Euler_Maruyama_Steps = N_Euler_Maruyama_Steps):\n",
    "    #----------------------------#\n",
    "    ## Generate Data Using Grid ##\n",
    "    #----------------------------#\n",
    "    # Internal Parameters\n",
    "    N_Grid_Instances = Grid_in.shape[0]\n",
    "    # Initializations\n",
    "    measure_weights = np.ones(N_Monte_Carlo_Samples)/N_Monte_Carlo_Samples\n",
    "    measures_locations_list_internal = []\n",
    "    measures_weights_list_internal = []\n",
    "\n",
    "\n",
    "    # Perform Euler-Maruyama distritization + Monte-Carlo Sampling.\n",
    "    #----------------------------------------------------------------------------------------------#\n",
    "    # Perform Monte-Carlo Data Generation\n",
    "    for i in tqdm(range(N_Grid_Instances)):\n",
    "        x_loop = Grid_in[i,]\n",
    "        # Simulate Paths\n",
    "#         paths_loop = Euler_Maruyama_Generator(x_0=x_loop,\n",
    "#                                               N_Euler_Maruyama_Steps = N_Euler_Maruyama_Steps,\n",
    "#                                               N_Monte_Carlo_Samples = N_Monte_Carlo_Samples,\n",
    "#                                               T_begin = 0,\n",
    "#                                               T_end = T_end,\n",
    "#                                               Hurst = Rougness)\n",
    "        paths_loop = np.repeat(x_loop,N_Monte_Carlo_Samples)\n",
    "\n",
    "        # Map numpy to list\n",
    "        measures_locations_loop = paths_loop#.tolist()\n",
    "\n",
    "        # Append to List\n",
    "        measures_locations_list_internal.append(measures_locations_loop)\n",
    "        measures_weights_list_internal.append(measure_weights)\n",
    "\n",
    "\n",
    "    return measures_locations_list_internal, measures_weights_list_internal"
   ]
  },
  {
   "cell_type": "markdown",
   "metadata": {},
   "source": [
    "## Initialize Data"
   ]
  },
  {
   "cell_type": "code",
   "execution_count": 75,
   "metadata": {},
   "outputs": [],
   "source": [
    "N_test_size = int(np.round(N_train_size*train_test_ratio,0))"
   ]
  },
  {
   "cell_type": "markdown",
   "metadata": {},
   "source": [
    "### Initialize Training Data (Inputs)"
   ]
  },
  {
   "cell_type": "code",
   "execution_count": 76,
   "metadata": {},
   "outputs": [],
   "source": [
    "# Get Training Set\n",
    "X_train = np.random.uniform(size=np.array([N_train_size,problem_dim]),low=.5,high=1.5)\n",
    "\n",
    "# Get Testing Set\n",
    "test_set_indices = np.random.choice(range(X_train.shape[0]),N_test_size)\n",
    "X_test = X_train[test_set_indices,]\n",
    "X_test = X_test + np.random.uniform(low=-(delta/np.sqrt(problem_dim)), \n",
    "                                    high = -(delta/np.sqrt(problem_dim)),\n",
    "                                    size = X_test.shape)"
   ]
  },
  {
   "cell_type": "markdown",
   "metadata": {},
   "source": [
    "### Initialize Training Data (Outputs)"
   ]
  },
  {
   "cell_type": "markdown",
   "metadata": {},
   "source": [
    "#### Generate Output Data"
   ]
  },
  {
   "cell_type": "code",
   "execution_count": 77,
   "metadata": {},
   "outputs": [
    {
     "name": "stderr",
     "output_type": "stream",
     "text": [
      "100%|██████████| 10/10 [00:00<00:00, 46603.38it/s]\n",
      "100%|██████████| 2/2 [00:00<00:00, 1651.95it/s]\n"
     ]
    }
   ],
   "source": [
    "# Get Training Data\n",
    "## Timer\n",
    "train_DATA_MC = time.time()\n",
    "## Do: Simulation\n",
    "Y_train_locations,Y_train_weights = Euler_Maruyama_simulator(X_train)\n",
    "# X_train = pd.DataFrame(X_train)\n",
    "## END: TIMER\n",
    "train_DATA_MC = time.time() - train_DATA_MC\n",
    "\n",
    "# Get Testing Data\n",
    "## Timer\n",
    "test_DATA_MC = time.time()\n",
    "## Do: Simulation\n",
    "Y_test_locations,Y_test_weights = Euler_Maruyama_simulator(X_test)\n",
    "# X_test = pd.DataFrame(X_test)\n",
    "## END: TIMER\n",
    "test_DATA_MC = time.time() - test_DATA_MC"
   ]
  },
  {
   "cell_type": "markdown",
   "metadata": {},
   "source": [
    "# Train Model\n",
    "#### Start Timer"
   ]
  },
  {
   "cell_type": "code",
   "execution_count": 78,
   "metadata": {},
   "outputs": [],
   "source": [
    "# Start Timer\n",
    "Type_A_timer_Begin = time.time()"
   ]
  },
  {
   "cell_type": "markdown",
   "metadata": {},
   "source": [
    "### $\\omega^{-1}(\\epsilon)$-Bounded Random Partitioner\n",
    "Generates a bounded random partition, in the sense of: [Geometry, Flows, and Graph-Partitioning Algorithms](https://cacm.acm.org/magazines/2008/10/515-geometry-flows-and-graph-partitioning-algorithms/fulltext?mobile=false), [A. Naor et al.](https://link.springer.com/article/10.1007/s00222-004-0400-5), as implemented in [Learning Sub-Patterns in Piece-Wise Continuous Functions](https://arxiv.org/abs/2010.15571)."
   ]
  },
  {
   "cell_type": "code",
   "execution_count": 79,
   "metadata": {},
   "outputs": [
    {
     "name": "stdout",
     "output_type": "stream",
     "text": [
      "---------------\n",
      "==============---------------------------------------------------=============\n",
      "Number of Classes/measures Which Were Produced: 9\n",
      "==============---------------------------------------------------=============\n",
      "===========================\n",
      "Training Classes Produced:\n",
      "===========================\n",
      "   0  1  2  3  4  5  6  7  8\n",
      "0  0  0  1  0  0  0  0  0  0\n",
      "1  0  0  0  0  0  0  0  0  1\n",
      "2  0  0  0  0  1  0  0  0  0\n",
      "3  0  0  0  0  0  0  0  1  0\n",
      "4  0  0  0  1  0  0  0  0  0\n",
      "5  0  1  0  0  0  0  0  0  0\n",
      "6  0  0  0  0  0  0  1  0  0\n",
      "7  0  0  0  0  0  1  0  0  0\n",
      "8  0  0  0  0  0  1  0  0  0\n",
      "9  1  0  0  0  0  0  0  0  0\n",
      "---------------\n"
     ]
    }
   ],
   "source": [
    "# Initialize #\n",
    "#------------#\n",
    "X_training_remaining = np.copy(X_train)\n",
    "possible_indices_for_center = np.repeat(True,X_training_remaining.shape[0])\n",
    "indexing_set = np.array(range(X_training_remaining.shape[0]))\n",
    "\n",
    "# Tweak Radius of Balls\n",
    "# Note: To avoid \"too small\" of a delta\n",
    "dist_matrix = (distance_matrix(X_training_remaining[np.random.choice(indexing_set,max(1,round(X_training_remaining.shape[0]*.5)))],X_training_remaining[np.random.choice(indexing_set,max(1,round(X_training_remaining.shape[0]*.5)))]))\n",
    "dist_matrix = (dist_matrix[np.logical_not(dist_matrix == 0)]).reshape(-1,)\n",
    "delta = np.maximum(delta,np.quantile(dist_matrix,Proportion_per_cluster))\n",
    "# delta = np.quantile(dist_matrix,np.minimum(0.01,N_train_size/(((problem_dim)/(np.sqrt(1+problem_dim)*delta/4))**2)))\n",
    "\n",
    "\n",
    "# Build #\n",
    "#-------#\n",
    "while np.max(possible_indices_for_center)==True:  \n",
    "    # Randomize Radius\n",
    "    delta_loop = np.random.uniform(low=0,high=delta,size=1)[0]\n",
    "\n",
    "    # Get Random Center\n",
    "    random_center_loop_index = np.random.choice(indexing_set[possible_indices_for_center])\n",
    "    random_center_loop = (X_training_remaining[random_center_loop_index]).reshape([1,-1])\n",
    "\n",
    "    # Get Distances To Current Center\n",
    "    dist_mat_loop = np.sqrt(np.sum((random_center_loop-X_training_remaining)**2,axis=1))\n",
    "    ## Indentify which must lie in cluster but not counting previously removed elements\n",
    "    indices_cluster_loop = (dist_mat_loop<delta_loop)*possible_indices_for_center\n",
    "\n",
    "    # Update(s)\n",
    "    ## Outputs\n",
    "    if np.min(possible_indices_for_center)==True:\n",
    "        ## Initialize Classes\n",
    "        Train_classes = (indices_cluster_loop*1).reshape(-1,1)\n",
    "        ## PointMasses Center\n",
    "        Masses = int(random_center_loop_index)\n",
    "        # INITIALIZE: Barycenters Array\n",
    "        Barycenters_Array = (Y_train_locations[int(random_center_loop_index)]).reshape(-1,)\n",
    "    else:\n",
    "        ## Update Classes\n",
    "        Train_classes = np.append(Train_classes,(indices_cluster_loop*1).reshape(-1,1),axis=-1)\n",
    "        ## PointMasses Center\n",
    "        Masses = np.append(Masses,random_center_loop_index)\n",
    "        # UPDATE: Populate Barycenters Array\n",
    "        Barycenters_Array = np.append(Barycenters_Array,(Y_train_locations[int(random_center_loop_index)]).reshape(-1,),axis=-1)\n",
    "    ## Remove Clusterd Centers from Current Dataset\n",
    "    possible_indices_for_center = np.logical_not(indices_cluster_loop)*possible_indices_for_center\n",
    "\n",
    "# Format Training Classes\n",
    "Train_classes = pd.DataFrame(Train_classes)\n",
    "\n",
    "# Get Number of Classes\n",
    "N_Quantizers_to_parameterize = Train_classes.shape[1]\n",
    "\n",
    "# Update User #\n",
    "print(\"---------------\")\n",
    "print(\"==============---------------------------------------------------=============\")\n",
    "print(\"Number of Classes/measures Which Were Produced:\", N_Quantizers_to_parameterize)\n",
    "print(\"==============---------------------------------------------------=============\")\n",
    "print(\"===========================\")\n",
    "print(\"Training Classes Produced:\")\n",
    "print(\"===========================\")\n",
    "print(Train_classes)\n",
    "print(\"---------------\")"
   ]
  },
  {
   "cell_type": "markdown",
   "metadata": {},
   "source": [
    "---"
   ]
  },
  {
   "cell_type": "markdown",
   "metadata": {},
   "source": [
    "### Train Deep Classifier"
   ]
  },
  {
   "cell_type": "markdown",
   "metadata": {},
   "source": [
    "In this step, we train a deep (feed-forward) classifier:\n",
    "$$\n",
    "\\hat{f}\\triangleq \\operatorname{Softmax}_N\\circ W_J\\circ \\sigma \\bullet \\dots \\sigma \\bullet W_1,\n",
    "$$\n",
    "to identify which barycenter we are closest to."
   ]
  },
  {
   "cell_type": "markdown",
   "metadata": {},
   "source": [
    "Re-Load Grid and Redefine Relevant Input/Output dimensions in dictionary."
   ]
  },
  {
   "cell_type": "markdown",
   "metadata": {},
   "source": [
    "#### Train Deep Classifier"
   ]
  },
  {
   "cell_type": "markdown",
   "metadata": {},
   "source": [
    "Re-Load Packages and CV Grid"
   ]
  },
  {
   "cell_type": "code",
   "execution_count": 80,
   "metadata": {},
   "outputs": [
    {
     "name": "stdout",
     "output_type": "stream",
     "text": [
      "Deep Feature Builder - Ready\n",
      "Deep Classifier - Ready\n"
     ]
    }
   ],
   "source": [
    "# Re-Load Hyper-parameter Grid\n",
    "exec(open('CV_Grid.py').read())\n",
    "# Re-Load Classifier Function(s)\n",
    "exec(open('Helper_Functions.py').read())"
   ]
  },
  {
   "cell_type": "markdown",
   "metadata": {},
   "source": [
    "Train Deep Classifier"
   ]
  },
  {
   "cell_type": "code",
   "execution_count": 81,
   "metadata": {},
   "outputs": [
    {
     "name": "stdout",
     "output_type": "stream",
     "text": [
      "==========================================\n",
      "Training Classifer Portion of Type-A Model\n",
      "==========================================\n",
      "Fitting 2 folds for each of 1 candidates, totalling 2 fits\n"
     ]
    },
    {
     "name": "stderr",
     "output_type": "stream",
     "text": [
      "[Parallel(n_jobs=4)]: Using backend LokyBackend with 4 concurrent workers.\n",
      "[Parallel(n_jobs=4)]: Done   2 out of   2 | elapsed:    0.9s remaining:    0.0s\n",
      "[Parallel(n_jobs=4)]: Done   2 out of   2 | elapsed:    0.9s finished\n"
     ]
    },
    {
     "name": "stdout",
     "output_type": "stream",
     "text": [
      "Epoch 1/50\n",
      "1/1 [==============================] - 0s 2ms/step - loss: 2.1965 - accuracy: 0.2000\n",
      "Epoch 2/50\n",
      "1/1 [==============================] - 0s 1ms/step - loss: 2.1947 - accuracy: 0.2000\n",
      "Epoch 3/50\n",
      "1/1 [==============================] - 0s 2ms/step - loss: 2.1930 - accuracy: 0.2000\n",
      "Epoch 4/50\n",
      "1/1 [==============================] - 0s 1ms/step - loss: 2.1914 - accuracy: 0.2000\n",
      "Epoch 5/50\n",
      "1/1 [==============================] - 0s 1ms/step - loss: 2.1897 - accuracy: 0.2000\n",
      "Epoch 6/50\n",
      "1/1 [==============================] - 0s 1ms/step - loss: 2.1880 - accuracy: 0.2000\n",
      "Epoch 7/50\n",
      "1/1 [==============================] - 0s 1ms/step - loss: 2.1864 - accuracy: 0.2000\n",
      "Epoch 8/50\n",
      "1/1 [==============================] - 0s 2ms/step - loss: 2.1847 - accuracy: 0.2000\n",
      "Epoch 9/50\n",
      "1/1 [==============================] - 0s 1ms/step - loss: 2.1831 - accuracy: 0.2000\n",
      "Epoch 10/50\n",
      "1/1 [==============================] - 0s 1ms/step - loss: 2.1815 - accuracy: 0.2000\n",
      "Epoch 11/50\n",
      "1/1 [==============================] - 0s 1ms/step - loss: 2.1799 - accuracy: 0.2000\n",
      "Epoch 12/50\n",
      "1/1 [==============================] - 0s 2ms/step - loss: 2.1784 - accuracy: 0.2000\n",
      "Epoch 13/50\n",
      "1/1 [==============================] - 0s 1ms/step - loss: 2.1768 - accuracy: 0.2000\n",
      "Epoch 14/50\n",
      "1/1 [==============================] - 0s 2ms/step - loss: 2.1752 - accuracy: 0.2000\n",
      "Epoch 15/50\n",
      "1/1 [==============================] - 0s 1ms/step - loss: 2.1737 - accuracy: 0.2000\n",
      "Epoch 16/50\n",
      "1/1 [==============================] - 0s 1ms/step - loss: 2.1722 - accuracy: 0.2000\n",
      "Epoch 17/50\n",
      "1/1 [==============================] - 0s 1ms/step - loss: 2.1707 - accuracy: 0.2000\n",
      "Epoch 18/50\n",
      "1/1 [==============================] - 0s 2ms/step - loss: 2.1692 - accuracy: 0.2000\n",
      "Epoch 19/50\n",
      "1/1 [==============================] - 0s 2ms/step - loss: 2.1677 - accuracy: 0.2000\n",
      "Epoch 20/50\n",
      "1/1 [==============================] - 0s 1ms/step - loss: 2.1663 - accuracy: 0.2000\n",
      "Epoch 21/50\n",
      "1/1 [==============================] - 0s 1ms/step - loss: 2.1648 - accuracy: 0.2000\n",
      "Epoch 22/50\n",
      "1/1 [==============================] - 0s 1ms/step - loss: 2.1634 - accuracy: 0.2000\n",
      "Epoch 23/50\n",
      "1/1 [==============================] - 0s 1ms/step - loss: 2.1620 - accuracy: 0.2000\n",
      "Epoch 24/50\n",
      "1/1 [==============================] - 0s 2ms/step - loss: 2.1606 - accuracy: 0.2000\n",
      "Epoch 25/50\n",
      "1/1 [==============================] - 0s 1ms/step - loss: 2.1592 - accuracy: 0.2000\n",
      "Epoch 26/50\n",
      "1/1 [==============================] - 0s 2ms/step - loss: 2.1578 - accuracy: 0.2000\n",
      "Epoch 27/50\n",
      "1/1 [==============================] - 0s 1ms/step - loss: 2.1564 - accuracy: 0.2000\n",
      "Epoch 28/50\n",
      "1/1 [==============================] - 0s 2ms/step - loss: 2.1550 - accuracy: 0.2000\n",
      "Epoch 29/50\n",
      "1/1 [==============================] - 0s 1ms/step - loss: 2.1537 - accuracy: 0.2000\n",
      "Epoch 30/50\n",
      "1/1 [==============================] - 0s 2ms/step - loss: 2.1523 - accuracy: 0.2000\n",
      "Epoch 31/50\n",
      "1/1 [==============================] - 0s 2ms/step - loss: 2.1510 - accuracy: 0.2000\n",
      "Epoch 32/50\n",
      "1/1 [==============================] - 0s 2ms/step - loss: 2.1496 - accuracy: 0.2000\n",
      "Epoch 33/50\n",
      "1/1 [==============================] - 0s 2ms/step - loss: 2.1483 - accuracy: 0.2000\n",
      "Epoch 34/50\n",
      "1/1 [==============================] - 0s 3ms/step - loss: 2.1470 - accuracy: 0.2000\n",
      "Epoch 35/50\n",
      "1/1 [==============================] - 0s 2ms/step - loss: 2.1457 - accuracy: 0.2000\n",
      "Epoch 36/50\n",
      "1/1 [==============================] - 0s 1ms/step - loss: 2.1444 - accuracy: 0.2000\n",
      "Epoch 37/50\n",
      "1/1 [==============================] - 0s 2ms/step - loss: 2.1431 - accuracy: 0.2000\n",
      "Epoch 38/50\n",
      "1/1 [==============================] - 0s 2ms/step - loss: 2.1418 - accuracy: 0.2000\n",
      "Epoch 39/50\n",
      "1/1 [==============================] - 0s 3ms/step - loss: 2.1406 - accuracy: 0.2000\n",
      "Epoch 40/50\n",
      "1/1 [==============================] - 0s 1ms/step - loss: 2.1393 - accuracy: 0.2000\n",
      "Epoch 41/50\n",
      "1/1 [==============================] - 0s 1ms/step - loss: 2.1381 - accuracy: 0.2000\n",
      "Epoch 42/50\n",
      "1/1 [==============================] - 0s 3ms/step - loss: 2.1368 - accuracy: 0.2000\n",
      "Epoch 43/50\n",
      "1/1 [==============================] - 0s 3ms/step - loss: 2.1356 - accuracy: 0.2000\n",
      "Epoch 44/50\n",
      "1/1 [==============================] - 0s 3ms/step - loss: 2.1343 - accuracy: 0.2000\n",
      "Epoch 45/50\n",
      "1/1 [==============================] - 0s 1ms/step - loss: 2.1331 - accuracy: 0.2000\n",
      "Epoch 46/50\n",
      "1/1 [==============================] - 0s 1ms/step - loss: 2.1318 - accuracy: 0.2000\n",
      "Epoch 47/50\n",
      "1/1 [==============================] - 0s 2ms/step - loss: 2.1306 - accuracy: 0.2000\n",
      "Epoch 48/50\n",
      "1/1 [==============================] - 0s 1ms/step - loss: 2.1294 - accuracy: 0.2000\n",
      "Epoch 49/50\n",
      "1/1 [==============================] - 0s 2ms/step - loss: 2.1282 - accuracy: 0.2000\n",
      "Epoch 50/50\n",
      "1/1 [==============================] - 0s 2ms/step - loss: 2.1269 - accuracy: 0.2000\n",
      "1/1 [==============================] - 0s 3ms/step\n",
      "1/1 [==============================] - 0s 2ms/step\n",
      "===============================================\n",
      "Training Classifer Portion of Type Model: Done!\n",
      "===============================================\n"
     ]
    }
   ],
   "source": [
    "print(\"==========================================\")\n",
    "print(\"Training Classifer Portion of Type-A Model\")\n",
    "print(\"==========================================\")\n",
    "\n",
    "# Redefine (Dimension-related) Elements of Grid\n",
    "param_grid_Deep_Classifier['input_dim'] = [problem_dim]\n",
    "param_grid_Deep_Classifier['output_dim'] = [N_Quantizers_to_parameterize]\n",
    "\n",
    "# Train simple deep classifier\n",
    "predicted_classes_train, predicted_classes_test, N_params_deep_classifier, timer_output = build_simple_deep_classifier(n_folds = CV_folds, \n",
    "                                                                                                        n_jobs = n_jobs, \n",
    "                                                                                                        n_iter = n_iter, \n",
    "                                                                                                        param_grid_in=param_grid_Deep_Classifier, \n",
    "                                                                                                        X_train = X_train, \n",
    "                                                                                                        y_train = Train_classes,\n",
    "                                                                                                        X_test = X_test)\n",
    "\n",
    "print(\"===============================================\")\n",
    "print(\"Training Classifer Portion of Type Model: Done!\")\n",
    "print(\"===============================================\")"
   ]
  },
  {
   "cell_type": "markdown",
   "metadata": {},
   "source": [
    "#### Get Predicted Quantized Distributions\n",
    "- Each *row* of \"Predicted_Weights\" is the $\\beta\\in \\Delta_N$.\n",
    "- Each *Column* of \"Barycenters_Array\" denotes the $x_1,\\dots,x_N$ making up the points of the corresponding empirical measures."
   ]
  },
  {
   "cell_type": "code",
   "execution_count": 101,
   "metadata": {},
   "outputs": [
    {
     "name": "stderr",
     "output_type": "stream",
     "text": [
      "100%|██████████| 10/10 [00:00<00:00, 1745.01it/s]"
     ]
    },
    {
     "name": "stdout",
     "output_type": "stream",
     "text": [
      "#---------------------------------------#\n",
      "Building Training Set (Regression): START\n",
      "#---------------------------------------#\n",
      "#-------------------------------------#\n",
      "Building Training Set (Regression): END\n",
      "#-------------------------------------#\n"
     ]
    },
    {
     "name": "stderr",
     "output_type": "stream",
     "text": [
      "\n"
     ]
    }
   ],
   "source": [
    "# Format Weights\n",
    "## Train\n",
    "print(\"#---------------------------------------#\")\n",
    "print(\"Building Training Set (Regression): START\")\n",
    "print(\"#---------------------------------------#\")\n",
    "for i in tqdm(range((X_train.shape[0]))):\n",
    "    for j in range(N_Quantizers_to_parameterize):\n",
    "        b_loop = np.repeat(predicted_classes_train[i,j],N_Monte_Carlo_Samples)\n",
    "        if j == 0:\n",
    "            b = b_loop\n",
    "        else:\n",
    "            b = np.append(b,b_loop)\n",
    "        b = b.reshape(-1,1)\n",
    "\n",
    "    if i == 0:\n",
    "        Predicted_Weights = b\n",
    "    else:\n",
    "        Predicted_Weights = np.append(Predicted_Weights,b,axis=-1)\n",
    "Predicted_Weights = (Predicted_Weights.T)/N_Monte_Carlo_Samples\n",
    "print(\"#-------------------------------------#\")\n",
    "print(\"Building Training Set (Regression): END\")\n",
    "print(\"#-------------------------------------#\")"
   ]
  },
  {
   "cell_type": "code",
   "execution_count": 108,
   "metadata": {},
   "outputs": [
    {
     "name": "stderr",
     "output_type": "stream",
     "text": [
      "100%|██████████| 2/2 [00:00<00:00, 1277.78it/s]"
     ]
    },
    {
     "name": "stdout",
     "output_type": "stream",
     "text": [
      "#-------------------------------------#\n",
      "Building Test Set (Predictions): START\n",
      "#-------------------------------------#\n",
      "#-----------------------------------#\n",
      "Building Test Set (Predictions): END\n",
      "#-----------------------------------#\n"
     ]
    },
    {
     "name": "stderr",
     "output_type": "stream",
     "text": [
      "\n"
     ]
    }
   ],
   "source": [
    "## Test\n",
    "print(\"#-------------------------------------#\")\n",
    "print(\"Building Test Set (Predictions): START\")\n",
    "print(\"#-------------------------------------#\")\n",
    "for i in tqdm(range((X_test.shape[0]))):\n",
    "    for j in range(N_Quantizers_to_parameterize):\n",
    "        b_loop = np.repeat(predicted_classes_test[i,j],N_Monte_Carlo_Samples)\n",
    "        if j == 0:\n",
    "            b = b_loop\n",
    "        else:\n",
    "            b = np.append(b,b_loop)\n",
    "        b = b.reshape(-1,1)\n",
    "\n",
    "    if i == 0:\n",
    "        Predicted_Weights_test = b\n",
    "    else:\n",
    "        Predicted_Weights_test = np.append(Predicted_Weights_test,b,axis=1)\n",
    "Predicted_Weights_test = (Predicted_Weights_test.T)/N_Monte_Carlo_Samples\n",
    "print(\"#-----------------------------------#\")\n",
    "print(\"Building Test Set (Predictions): END\")\n",
    "print(\"#-----------------------------------#\")"
   ]
  },
  {
   "cell_type": "markdown",
   "metadata": {},
   "source": [
    "#### Stop Timer"
   ]
  },
  {
   "cell_type": "code",
   "execution_count": 109,
   "metadata": {},
   "outputs": [],
   "source": [
    "# Stop Timer\n",
    "Type_A_timer_end = time.time()\n",
    "# Compute Lapsed Time Needed For Training\n",
    "Time_Lapse_Model_A = Type_A_timer_end - Type_A_timer_Begin"
   ]
  },
  {
   "cell_type": "markdown",
   "metadata": {},
   "source": [
    "### Get Model Complexities"
   ]
  },
  {
   "cell_type": "code",
   "execution_count": 110,
   "metadata": {},
   "outputs": [],
   "source": [
    "Model_Complexity = pd.DataFrame({\"N_Centers\":N_Quantizers_to_parameterize,\n",
    "                                 \"N_Q\":N_Monte_Carlo_Samples,\n",
    "                                 \"N_Params\":N_params_deep_classifier,\n",
    "                                 \"Training Time\":Time_Lapse_Model_A,\n",
    "                                 \"T_Test/T_Test-MC\": (timer_output/test_DATA_MC),\n",
    "                                 \"Time Test\": timer_output,\n",
    "                                 \"Time EM-MC\": test_DATA_MC},index=[\"Model_Complexity_metrics\"])\n",
    "\n",
    "pd.set_option('display.float_format', '{:.4E}'.format)\n",
    "Model_Complexity.to_latex((results_tables_path+str(\"Roughness_\")+str(Rougness)+\"Latent_Width_NSDE\"+str(width)+\"Problemdimension\"+str(problem_dim)+\"__ModelComplexities.tex\"))"
   ]
  },
  {
   "cell_type": "markdown",
   "metadata": {},
   "source": [
    "## Get Moment Predictions"
   ]
  },
  {
   "cell_type": "markdown",
   "metadata": {},
   "source": [
    "#### Write Predictions"
   ]
  },
  {
   "cell_type": "markdown",
   "metadata": {},
   "source": [
    "### Training-Set Result(s): "
   ]
  },
  {
   "cell_type": "code",
   "execution_count": 111,
   "metadata": {},
   "outputs": [
    {
     "name": "stderr",
     "output_type": "stream",
     "text": [
      "100%|██████████| 10/10 [00:00<00:00, 992.78it/s]"
     ]
    },
    {
     "name": "stdout",
     "output_type": "stream",
     "text": [
      "Building Training Set Performance Metrics\n"
     ]
    },
    {
     "name": "stderr",
     "output_type": "stream",
     "text": [
      "\n"
     ]
    }
   ],
   "source": [
    "print(\"Building Training Set Performance Metrics\")\n",
    "\n",
    "# Initialize Wasserstein-1 Error Distribution\n",
    "W1_errors = np.array([])\n",
    "Mean_errors = np.array([])\n",
    "Var_errors = np.array([])\n",
    "Skewness_errors = np.array([])\n",
    "Kurtosis_errors = np.array([])\n",
    "predictions_mean = np.array([])\n",
    "true_mean = np.array([])\n",
    "#---------------------------------------------------------------------------------------------#\n",
    "\n",
    "# Populate Error Distribution\n",
    "for x_i in tqdm(range(X_train.shape[0])):    \n",
    "    # Get Laws\n",
    "    W1_loop = ot.emd2_1d(Barycenters_Array,\n",
    "                         np.array(Y_train_locations[x_i]).reshape(-1,),\n",
    "                         Predicted_Weights[x_i,].reshape(-1,),\n",
    "                         (np.array(Y_train_weights[x_i])).reshape(-1,))\n",
    "    W1_errors = np.append(W1_errors,W1_loop)\n",
    "    # Get Means\n",
    "    Mu_hat = np.sum((Predicted_Weights[x_i])*(Barycenters_Array))\n",
    "    Mu = np.mean(np.array(Y_train_locations[x_i]))\n",
    "    Mean_errors =  np.append(Mean_errors,(Mu_hat-Mu))\n",
    "    ## Update Erros\n",
    "    predictions_mean = np.append(predictions_mean,Mu_hat)\n",
    "    true_mean = np.append(true_mean,Mu)\n",
    "    # Get Var (non-centered)\n",
    "    Var_hat = np.sum((Barycenters_Array**2)*(Predicted_Weights[x_i]))\n",
    "    Var = np.mean(np.array(Y_train_locations[x_i])**2)\n",
    "    Var_errors = np.append(Var_errors,(Var_hat-Var)**2)\n",
    "    # Get skewness (non-centered)\n",
    "    Skewness_hat = np.sum((Barycenters_Array**3)*(Predicted_Weights[x_i]))\n",
    "    Skewness = np.mean(np.array(Y_train_locations[x_i])**3)\n",
    "    Skewness_errors = np.append(Skewness_errors,(abs(Skewness_hat-Skewness))**(1/3))\n",
    "    # Get skewness (non-centered)\n",
    "    Kurtosis_hat = np.sum((Barycenters_Array**4)*(Predicted_Weights[x_i]))\n",
    "    Kurtosis = np.mean(np.array(Y_train_locations[x_i])**4)\n",
    "    Kurtosis_errors = np.append(Kurtosis_errors,(abs(Kurtosis_hat-Kurtosis))**.25)\n",
    "    \n",
    "#---------------------------------------------------------------------------------------------#\n",
    "W1_95 = bootstrap(W1_errors, n=1000, func=np.mean)(.95)\n",
    "W1_99 = bootstrap(W1_errors, n=1000, func=np.mean)(.99)\n",
    "M_95 = bootstrap(predictions_mean, n=1000, func=np.mean)(.95)\n",
    "M_99 = bootstrap(predictions_mean, n=1000, func=np.mean)(.99)\n",
    "M_95_MC = bootstrap(true_mean, n=1000, func=np.mean)(.95)\n",
    "M_99_MC = bootstrap(true_mean, n=1000, func=np.mean)(.99)\n",
    "#---------------------------------------------------------------------------------------------#\n",
    "# Compute Error Statistics/Descriptors\n",
    "W1_Performance = np.array([np.min(np.abs(W1_errors)),np.mean(np.abs(W1_errors)),np.max(np.abs(W1_errors))])\n",
    "Mean_prediction_Performance = np.array([np.min(np.abs(Mean_errors)),np.mean(np.abs(Mean_errors)),np.max(np.abs(Mean_errors))])\n",
    "Var_prediction_Performance = np.array([np.min(np.abs(Var_errors)),np.mean(np.abs(Var_errors)),np.max(np.abs(Var_errors))])\n",
    "Skewness_prediction_Performance = np.array([np.min(np.abs(Skewness_errors)),np.mean(np.abs(Skewness_errors)),np.max(np.abs(Skewness_errors))])\n",
    "Kurtosis_prediction_Performance = np.array([np.min(np.abs(Kurtosis_errors)),np.mean(np.abs(Kurtosis_errors)),np.max(np.abs(Kurtosis_errors))])\n",
    "\n",
    "Type_A_Prediction = pd.DataFrame({\"W1\":W1_Performance,\n",
    "                                  \"E[X']-E[X]\":Mean_prediction_Performance,\n",
    "                                  \"(E[X'^2]-E[X^2])^.5\":Var_prediction_Performance,\n",
    "                                  \"(E[X'^3]-E[X^3])^(1/3)\":Skewness_prediction_Performance,\n",
    "                                  \"(E[X'^4]-E[X^4])^.25\":Kurtosis_prediction_Performance},index=[\"Min\",\"MAE\",\"Max\"])\n",
    "Type_A_Predictions_and_confidence = pd.DataFrame({\"W1_99_Train\":W1_95,\n",
    "                                                  \"W1error_99_Train\":W1_99,\n",
    "                                                  \"M_95_Train\":M_95,\n",
    "                                                  \"M_99_Train\":M_99,\n",
    "                                                  \"MC_95_Train\":M_95_MC,\n",
    "                                                  \"MC_99_Train\":M_99_MC},index=[\"CL\",\"Mean\",\"CU\"])\n",
    "\n",
    "\n",
    "# Write Performance\n",
    "pd.set_option('display.float_format', '{:.4E}'.format)\n",
    "Type_A_Prediction.to_latex((results_tables_path+str(\"Roughness_\")+str(Rougness)+\"Latent_Width_NSDE\"+str(width)+\"Problemdimension\"+str(problem_dim)+\"__TypeAPrediction_Train.tex\"))\n",
    "pd.set_option('display.float_format', '{:.4E}'.format)\n",
    "(Type_A_Predictions_and_confidence.T).to_latex((results_tables_path+str(\"Roughness_\")+str(Rougness)+\"Latent_Width_NSDE\"+str(width)+\"Problemdimension\"+str(problem_dim)+\"__TypeAPrediction_Train_predictions_w_confidence_intervals.tex\"))\n",
    "\n",
    "# #---------------------------------------------------------------------------------------------#\n",
    "# # Update User\n",
    "# Type_A_Prediction"
   ]
  },
  {
   "cell_type": "markdown",
   "metadata": {},
   "source": [
    "---"
   ]
  },
  {
   "cell_type": "markdown",
   "metadata": {},
   "source": [
    "### Test-Set Result(s): "
   ]
  },
  {
   "cell_type": "code",
   "execution_count": 112,
   "metadata": {},
   "outputs": [
    {
     "name": "stderr",
     "output_type": "stream",
     "text": [
      "100%|██████████| 2/2 [00:00<00:00, 1401.14it/s]"
     ]
    },
    {
     "name": "stdout",
     "output_type": "stream",
     "text": [
      "Building Test Set Performance Metrics\n"
     ]
    },
    {
     "name": "stderr",
     "output_type": "stream",
     "text": [
      "\n"
     ]
    }
   ],
   "source": [
    "print(\"Building Test Set Performance Metrics\")\n",
    "\n",
    "# Initialize Wasserstein-1 Error Distribution\n",
    "W1_errors_test = np.array([])\n",
    "Mean_errors_test = np.array([])\n",
    "Var_errors_test = np.array([])\n",
    "Skewness_errors_test = np.array([])\n",
    "Kurtosis_errors_test = np.array([])\n",
    "# Initialize Prediction Metrics\n",
    "predictions_mean_test = np.array([])\n",
    "true_mean_test = np.array([])\n",
    "#---------------------------------------------------------------------------------------------#\n",
    "\n",
    "# Populate Error Distribution\n",
    "for x_i in tqdm(range(X_test.shape[0])):    \n",
    "    # Get Laws\n",
    "    W1_loop_test = ot.emd2_1d(Barycenters_Array,\n",
    "                         np.array(Y_test_locations[x_i]).reshape(-1,),\n",
    "                         Predicted_Weights_test[x_i,].reshape(-1,),\n",
    "                         (np.array(Y_test_weights[x_i])).reshape(-1,))\n",
    "    W1_errors_test = np.append(W1_errors_test,W1_loop_test)\n",
    "    # Get Means\n",
    "    Mu_hat_test = np.sum((Predicted_Weights_test[x_i])*(Barycenters_Array))\n",
    "    Mu_test = np.mean(np.array(Y_test_locations[x_i]))\n",
    "    Mean_errors_test = np.append(Mean_errors_test,(Mu_hat_test-Mu_test))\n",
    "    ## Update Predictions\n",
    "    predictions_mean_test = np.append(predictions_mean_test,Mu_hat_test)\n",
    "    true_mean_test = np.append(true_mean_test,Mu_test)\n",
    "    # Get Var (non-centered)\n",
    "    Var_hat_test = np.sum((Barycenters_Array**2)*(Predicted_Weights_test[x_i]))\n",
    "    Var_test = np.mean(np.array(Y_test_locations[x_i])**2)\n",
    "    Var_errors_test = np.append(Var_errors_test,(Var_hat_test-Var_test)**2)\n",
    "    # Get skewness (non-centered)\n",
    "    Skewness_hat_test = np.sum((Barycenters_Array**3)*(Predicted_Weights_test[x_i]))\n",
    "    Skewness_test = np.mean(np.array(Y_test_locations[x_i])**3)\n",
    "    Skewness_errors_test = np.append(Skewness_errors_test,(abs(Skewness_hat_test-Skewness_test))**(1/3))\n",
    "    # Get skewness (non-centered)\n",
    "    Kurtosis_hat_test = np.sum((Barycenters_Array**4)*(Predicted_Weights_test[x_i]))\n",
    "    Kurtosis_test = np.mean(np.array(Y_test_locations[x_i])**4)\n",
    "    Kurtosis_errors_test = np.append(Kurtosis_errors_test,(abs(Kurtosis_hat_test-Kurtosis_test))**.25)\n",
    "    \n",
    "#---------------------------------------------------------------------------------------------#\n",
    "W1_95_test = bootstrap(W1_errors_test, n=1000, func=np.mean)(.95)\n",
    "W1_99_test = bootstrap(W1_errors_test, n=1000, func=np.mean)(.99)\n",
    "M_95_test = bootstrap(predictions_mean_test, n=1000, func=np.mean)(.95)\n",
    "M_99_test = bootstrap(predictions_mean_test, n=1000, func=np.mean)(.99)\n",
    "M_95_MC_test = bootstrap(true_mean_test, n=1000, func=np.mean)(.95)\n",
    "M_99_MC_test = bootstrap(true_mean_test, n=1000, func=np.mean)(.99)\n",
    "#---------------------------------------------------------------------------------------------#\n",
    "# Compute Error Statistics/Descriptors\n",
    "W1_Performance_test = np.array([np.min(np.abs(W1_errors_test)),np.mean(np.abs(W1_errors_test)),np.max(np.abs(W1_errors_test))])\n",
    "Mean_prediction_Performance_test = np.array([np.min(np.abs(Mean_errors_test)),np.mean(np.abs(Mean_errors_test)),np.max(np.abs(Mean_errors_test))])\n",
    "Var_prediction_Performance_test = np.array([np.min(np.abs(Var_errors_test)),np.mean(np.abs(Var_errors_test)),np.max(np.abs(Var_errors_test))])\n",
    "Skewness_prediction_Performance_test = np.array([np.min(np.abs(Skewness_errors_test)),np.mean(np.abs(Skewness_errors_test)),np.max(np.abs(Skewness_errors_test))])\n",
    "Kurtosis_prediction_Performance_test = np.array([np.min(np.abs(Kurtosis_errors_test)),np.mean(np.abs(Kurtosis_errors_test)),np.max(np.abs(Kurtosis_errors_test))])\n",
    "\n",
    "Type_A_Prediction_test = pd.DataFrame({\"W1\":W1_Performance_test,\n",
    "                                  \"E[X']-E[X]\":Mean_prediction_Performance_test,\n",
    "                                  \"(E[X'^2]-E[X^2])^.5\":Var_prediction_Performance_test,\n",
    "                                  \"(E[X'^3]-E[X^3])^(1/3)\":Skewness_prediction_Performance_test,\n",
    "                                  \"(E[X'^4]-E[X^4])^.25\":Kurtosis_prediction_Performance_test},index=[\"Min\",\"MAE\",\"Max\"])\n",
    "\n",
    "Type_A_Predictions_and_confidence_test = pd.DataFrame({\"W1_99_Test\":W1_95_test,\n",
    "                                                       \"W1error_99_Test\":W1_99_test,\n",
    "                                                       \"M_95_Test\":M_95_test,\n",
    "                                                       \"M_99_Test\":M_99_test,\n",
    "                                                       \"MC_95_Test\":M_95_MC_test,\n",
    "                                                       \"MC_99_Test\":M_99_MC_test},index=[\"CL\",\"Mean\",\"CU\"])\n",
    "\n",
    "# Write Performance\n",
    "pd.set_option('display.float_format', '{:.4E}'.format)\n",
    "Type_A_Prediction_test.to_latex((results_tables_path+str(\"Roughness_\")+str(Rougness)+\"Latent_Width_NSDE\"+str(width)+\"Problemdimension\"+str(problem_dim)+\"__TypeAPrediction_Test.tex\"))\n",
    "pd.set_option('display.float_format', '{:.4E}'.format)\n",
    "(Type_A_Predictions_and_confidence_test.T).to_latex((results_tables_path+str(\"Roughness_\")+str(Rougness)+\"Latent_Width_NSDE\"+str(width)+\"Problemdimension\"+str(problem_dim)+\"__TypeAPrediction_Test_predictions_w_confidence_intervals.tex\"))"
   ]
  },
  {
   "cell_type": "markdown",
   "metadata": {},
   "source": [
    "## Update User"
   ]
  },
  {
   "cell_type": "markdown",
   "metadata": {},
   "source": [
    "### Print for Terminal Legibility"
   ]
  },
  {
   "cell_type": "code",
   "execution_count": 115,
   "metadata": {},
   "outputs": [
    {
     "name": "stdout",
     "output_type": "stream",
     "text": [
      "#----------------------#\n",
      "Training-Set Performance\n",
      "#----------------------#\n",
      "            W1  E[X']-E[X]  (E[X'^2]-E[X^2])^.5  (E[X'^3]-E[X^3])^(1/3)  \\\n",
      "Min 6.4636E-02  4.8864E-02           1.9868E-03              2.2136E-01   \n",
      "MAE 1.2040E-01  1.9956E-01           2.1336E-01              7.1571E-01   \n",
      "Max 2.9377E-01  4.7484E-01           6.9588E-01              1.0494E+00   \n",
      "\n",
      "     (E[X'^4]-E[X^4])^.25  \n",
      "Min            3.7663E-01  \n",
      "MAE            8.5048E-01  \n",
      "Max            1.1048E+00  \n",
      " \n",
      " \n",
      " \n",
      "#------------------#\n",
      "Test-Set Performance\n",
      "#------------------#\n",
      "            W1  E[X']-E[X]  (E[X'^2]-E[X^2])^.5  (E[X'^3]-E[X^3])^(1/3)  \\\n",
      "Min 7.3575E-02  7.2596E-02           7.8378E-03              3.7284E-01   \n",
      "MAE 9.7451E-02  1.6045E-01           1.4847E-01              6.6945E-01   \n",
      "Max 1.2133E-01  2.4831E-01           2.8911E-01              9.6606E-01   \n",
      "\n",
      "     (E[X'^4]-E[X^4])^.25  \n",
      "Min            4.4984E-01  \n",
      "MAE            7.6665E-01  \n",
      "Max            1.0835E+00  \n",
      " \n",
      " \n",
      " \n"
     ]
    }
   ],
   "source": [
    "print(\"#----------------------#\")\n",
    "print(\"Training-Set Performance\")\n",
    "print(\"#----------------------#\")\n",
    "print(Type_A_Prediction)\n",
    "print(\" \")\n",
    "print(\" \")\n",
    "print(\" \")\n",
    "\n",
    "print(\"#------------------#\")\n",
    "print(\"Test-Set Performance\")\n",
    "print(\"#------------------#\")\n",
    "print(Type_A_Prediction_test)\n",
    "print(\" \")\n",
    "print(\" \")\n",
    "print(\" \")"
   ]
  },
  {
   "cell_type": "markdown",
   "metadata": {},
   "source": [
    "### Training-Set Performance"
   ]
  },
  {
   "cell_type": "code",
   "execution_count": 116,
   "metadata": {},
   "outputs": [
    {
     "data": {
      "text/html": [
       "<div>\n",
       "<style scoped>\n",
       "    .dataframe tbody tr th:only-of-type {\n",
       "        vertical-align: middle;\n",
       "    }\n",
       "\n",
       "    .dataframe tbody tr th {\n",
       "        vertical-align: top;\n",
       "    }\n",
       "\n",
       "    .dataframe thead th {\n",
       "        text-align: right;\n",
       "    }\n",
       "</style>\n",
       "<table border=\"1\" class=\"dataframe\">\n",
       "  <thead>\n",
       "    <tr style=\"text-align: right;\">\n",
       "      <th></th>\n",
       "      <th>W1</th>\n",
       "      <th>E[X']-E[X]</th>\n",
       "      <th>(E[X'^2]-E[X^2])^.5</th>\n",
       "      <th>(E[X'^3]-E[X^3])^(1/3)</th>\n",
       "      <th>(E[X'^4]-E[X^4])^.25</th>\n",
       "    </tr>\n",
       "  </thead>\n",
       "  <tbody>\n",
       "    <tr>\n",
       "      <th>Min</th>\n",
       "      <td>6.4636E-02</td>\n",
       "      <td>4.8864E-02</td>\n",
       "      <td>1.9868E-03</td>\n",
       "      <td>2.2136E-01</td>\n",
       "      <td>3.7663E-01</td>\n",
       "    </tr>\n",
       "    <tr>\n",
       "      <th>MAE</th>\n",
       "      <td>1.2040E-01</td>\n",
       "      <td>1.9956E-01</td>\n",
       "      <td>2.1336E-01</td>\n",
       "      <td>7.1571E-01</td>\n",
       "      <td>8.5048E-01</td>\n",
       "    </tr>\n",
       "    <tr>\n",
       "      <th>Max</th>\n",
       "      <td>2.9377E-01</td>\n",
       "      <td>4.7484E-01</td>\n",
       "      <td>6.9588E-01</td>\n",
       "      <td>1.0494E+00</td>\n",
       "      <td>1.1048E+00</td>\n",
       "    </tr>\n",
       "  </tbody>\n",
       "</table>\n",
       "</div>"
      ],
      "text/plain": [
       "            W1  E[X']-E[X]  (E[X'^2]-E[X^2])^.5  (E[X'^3]-E[X^3])^(1/3)  \\\n",
       "Min 6.4636E-02  4.8864E-02           1.9868E-03              2.2136E-01   \n",
       "MAE 1.2040E-01  1.9956E-01           2.1336E-01              7.1571E-01   \n",
       "Max 2.9377E-01  4.7484E-01           6.9588E-01              1.0494E+00   \n",
       "\n",
       "     (E[X'^4]-E[X^4])^.25  \n",
       "Min            3.7663E-01  \n",
       "MAE            8.5048E-01  \n",
       "Max            1.1048E+00  "
      ]
     },
     "execution_count": 116,
     "metadata": {},
     "output_type": "execute_result"
    }
   ],
   "source": [
    "Type_A_Prediction"
   ]
  },
  {
   "cell_type": "markdown",
   "metadata": {},
   "source": [
    "### Test-Set Performance"
   ]
  },
  {
   "cell_type": "code",
   "execution_count": 117,
   "metadata": {},
   "outputs": [
    {
     "data": {
      "text/html": [
       "<div>\n",
       "<style scoped>\n",
       "    .dataframe tbody tr th:only-of-type {\n",
       "        vertical-align: middle;\n",
       "    }\n",
       "\n",
       "    .dataframe tbody tr th {\n",
       "        vertical-align: top;\n",
       "    }\n",
       "\n",
       "    .dataframe thead th {\n",
       "        text-align: right;\n",
       "    }\n",
       "</style>\n",
       "<table border=\"1\" class=\"dataframe\">\n",
       "  <thead>\n",
       "    <tr style=\"text-align: right;\">\n",
       "      <th></th>\n",
       "      <th>W1</th>\n",
       "      <th>E[X']-E[X]</th>\n",
       "      <th>(E[X'^2]-E[X^2])^.5</th>\n",
       "      <th>(E[X'^3]-E[X^3])^(1/3)</th>\n",
       "      <th>(E[X'^4]-E[X^4])^.25</th>\n",
       "    </tr>\n",
       "  </thead>\n",
       "  <tbody>\n",
       "    <tr>\n",
       "      <th>Min</th>\n",
       "      <td>7.3575E-02</td>\n",
       "      <td>7.2596E-02</td>\n",
       "      <td>7.8378E-03</td>\n",
       "      <td>3.7284E-01</td>\n",
       "      <td>4.4984E-01</td>\n",
       "    </tr>\n",
       "    <tr>\n",
       "      <th>MAE</th>\n",
       "      <td>9.7451E-02</td>\n",
       "      <td>1.6045E-01</td>\n",
       "      <td>1.4847E-01</td>\n",
       "      <td>6.6945E-01</td>\n",
       "      <td>7.6665E-01</td>\n",
       "    </tr>\n",
       "    <tr>\n",
       "      <th>Max</th>\n",
       "      <td>1.2133E-01</td>\n",
       "      <td>2.4831E-01</td>\n",
       "      <td>2.8911E-01</td>\n",
       "      <td>9.6606E-01</td>\n",
       "      <td>1.0835E+00</td>\n",
       "    </tr>\n",
       "  </tbody>\n",
       "</table>\n",
       "</div>"
      ],
      "text/plain": [
       "            W1  E[X']-E[X]  (E[X'^2]-E[X^2])^.5  (E[X'^3]-E[X^3])^(1/3)  \\\n",
       "Min 7.3575E-02  7.2596E-02           7.8378E-03              3.7284E-01   \n",
       "MAE 9.7451E-02  1.6045E-01           1.4847E-01              6.6945E-01   \n",
       "Max 1.2133E-01  2.4831E-01           2.8911E-01              9.6606E-01   \n",
       "\n",
       "     (E[X'^4]-E[X^4])^.25  \n",
       "Min            4.4984E-01  \n",
       "MAE            7.6665E-01  \n",
       "Max            1.0835E+00  "
      ]
     },
     "execution_count": 117,
     "metadata": {},
     "output_type": "execute_result"
    }
   ],
   "source": [
    "Type_A_Prediction_test"
   ]
  },
  {
   "cell_type": "markdown",
   "metadata": {},
   "source": [
    "# Model Complexity"
   ]
  },
  {
   "cell_type": "code",
   "execution_count": 118,
   "metadata": {},
   "outputs": [
    {
     "data": {
      "text/html": [
       "<div>\n",
       "<style scoped>\n",
       "    .dataframe tbody tr th:only-of-type {\n",
       "        vertical-align: middle;\n",
       "    }\n",
       "\n",
       "    .dataframe tbody tr th {\n",
       "        vertical-align: top;\n",
       "    }\n",
       "\n",
       "    .dataframe thead th {\n",
       "        text-align: right;\n",
       "    }\n",
       "</style>\n",
       "<table border=\"1\" class=\"dataframe\">\n",
       "  <thead>\n",
       "    <tr style=\"text-align: right;\">\n",
       "      <th></th>\n",
       "      <th>N_Centers</th>\n",
       "      <th>N_Q</th>\n",
       "      <th>N_Params</th>\n",
       "      <th>Training Time</th>\n",
       "      <th>T_Test/T_Test-MC</th>\n",
       "      <th>Time Test</th>\n",
       "      <th>Time EM-MC</th>\n",
       "    </tr>\n",
       "  </thead>\n",
       "  <tbody>\n",
       "    <tr>\n",
       "      <th>Model_Complexity_metrics</th>\n",
       "      <td>9</td>\n",
       "      <td>5</td>\n",
       "      <td>229</td>\n",
       "      <td>1.6163E+02</td>\n",
       "      <td>2.0696E+01</td>\n",
       "      <td>6.2153E-02</td>\n",
       "      <td>3.0031E-03</td>\n",
       "    </tr>\n",
       "  </tbody>\n",
       "</table>\n",
       "</div>"
      ],
      "text/plain": [
       "                          N_Centers  N_Q  N_Params  Training Time  \\\n",
       "Model_Complexity_metrics          9    5       229     1.6163E+02   \n",
       "\n",
       "                          T_Test/T_Test-MC  Time Test  Time EM-MC  \n",
       "Model_Complexity_metrics        2.0696E+01 6.2153E-02  3.0031E-03  "
      ]
     },
     "execution_count": 118,
     "metadata": {},
     "output_type": "execute_result"
    }
   ],
   "source": [
    "Model_Complexity"
   ]
  },
  {
   "cell_type": "markdown",
   "metadata": {},
   "source": [
    "---"
   ]
  },
  {
   "cell_type": "markdown",
   "metadata": {},
   "source": [
    "---\n",
    "# Fin\n",
    "---"
   ]
  },
  {
   "cell_type": "markdown",
   "metadata": {},
   "source": [
    "---"
   ]
  }
 ],
 "metadata": {
  "kernelspec": {
   "display_name": "Python 3",
   "language": "python",
   "name": "python3"
  },
  "language_info": {
   "codemirror_mode": {
    "name": "ipython",
    "version": 3
   },
   "file_extension": ".py",
   "mimetype": "text/x-python",
   "name": "python",
   "nbconvert_exporter": "python",
   "pygments_lexer": "ipython3",
   "version": "3.7.7"
  }
 },
 "nbformat": 4,
 "nbformat_minor": 2
}
