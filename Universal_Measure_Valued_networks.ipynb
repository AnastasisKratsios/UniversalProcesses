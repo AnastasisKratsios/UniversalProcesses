{
 "cells": [
  {
   "cell_type": "markdown",
   "metadata": {},
   "source": [
    "# Generic Conditional Laws for Random-Fields - via:\n",
    "\n",
    "## Universal $\\mathcal{P}_1(\\mathbb{R})$-Deep Neural Model $\\mathcal{NN}_{1_{\\mathbb{R}^n},\\mathcal{D}}^{\\sigma:\\star}$.\n",
    "\n",
    "---\n",
    "\n",
    "By: [Anastasis Kratsios](https://people.math.ethz.ch/~kratsioa/) - 2021.\n",
    "\n",
    "---\n",
    "\n",
    "## What does this code do?\n",
    "1. Learn Heteroskedastic Non-Linear Regression Problem\n",
    "     - $Y\\sim f_{\\text{unkown}}(x) + \\epsilon$ where $f$ is an known function and $\\epsilon\\sim Laplace(0,\\|x\\|)$\n",
    "2. Learn Random Bayesian Network's Law:\n",
    "    - $Y = W_J Y^{J-1}, \\qquad Y^{j}\\triangleq \\sigma\\bullet A^{j}Y^{j-1} + b^{j}, \\qquad Y^0\\triangleq x$\n",
    "\n",
    "3. In the above example if $A_j = M_j\\odot \\tilde{A_j}$ where $\\tilde{A}_j$ is a deterministic matrix and $M_j$ is a \"mask\", that is, a random matrix with binary entries and $\\odot$ is the Hadamard product then we recover the dropout framework."
   ]
  },
  {
   "cell_type": "markdown",
   "metadata": {},
   "source": [
    "#### Mode:\n",
    "Software/Hardware Testing or Real-Deal?"
   ]
  },
  {
   "cell_type": "code",
   "execution_count": 1,
   "metadata": {},
   "outputs": [],
   "source": [
    "trial_run = True"
   ]
  },
  {
   "cell_type": "markdown",
   "metadata": {},
   "source": [
    "### Simulation Method:"
   ]
  },
  {
   "cell_type": "code",
   "execution_count": 2,
   "metadata": {},
   "outputs": [],
   "source": [
    "# Random DNN\n",
    "f_unknown_mode = \"Heteroskedastic_NonLinear_Regression\"\n",
    "\n",
    "# Random DNN internal noise\n",
    "# f_unknown_mode = \"DNN_with_Random_Weights\"\n",
    "Depth_Bayesian_DNN = 10\n",
    "width = 20\n",
    "\n",
    "# Random Dropout applied to trained DNN\n",
    "# f_unknown_mode = \"DNN_with_Bayesian_Dropout\"\n",
    "Dropout_rate = 0.1\n",
    "\n",
    "# Rough SDE (time 1)\n",
    "# f_unknown_mode = \"Rough_SDE\""
   ]
  },
  {
   "cell_type": "markdown",
   "metadata": {},
   "source": [
    "#### Rough SDE Meta-Parameters"
   ]
  },
  {
   "cell_type": "code",
   "execution_count": 3,
   "metadata": {},
   "outputs": [],
   "source": [
    "# SDE with Rough Driver\n",
    "N_Euler_Steps = 10**1\n",
    "Hurst_Exponent = 0.01\n",
    "\n",
    "def alpha(t,x):\n",
    "    output_drift_update = t-x\n",
    "    return output_drift_update\n",
    "\n",
    "def beta(t,x):\n",
    "    output_vol_update = (t+0.001)*np.diag(np.cos(x))\n",
    "    return output_vol_update"
   ]
  },
  {
   "cell_type": "markdown",
   "metadata": {},
   "source": [
    "---\n",
    "# Training Algorithm:\n",
    "---\n",
    "- Random $\\delta$-bounded partition on input space,\n",
    "- Train deep classifier on infered classes.\n",
    "---\n",
    "---\n",
    "---\n",
    "## Notes - Why the procedure is so computationally efficient?\n",
    "---\n",
    " - The sample barycenters do not require us to solve for any new Wasserstein-1 Barycenters; which is much more computationally costly,\n",
    " - Our training procedure never back-propages through $\\mathcal{W}_1$ since steps 2 and 3 are full-decoupled.  Therefore, training our deep classifier is (comparatively) cheap since it takes values in the standard $N$-simplex.\n",
    "\n",
    "---"
   ]
  },
  {
   "cell_type": "markdown",
   "metadata": {},
   "source": [
    "## Load Auxiliaries"
   ]
  },
  {
   "cell_type": "code",
   "execution_count": 4,
   "metadata": {},
   "outputs": [
    {
     "name": "stderr",
     "output_type": "stream",
     "text": [
      "Using TensorFlow backend.\n"
     ]
    },
    {
     "name": "stdout",
     "output_type": "stream",
     "text": [
      "Deep Feature Builder - Ready\n",
      "Deep Classifier - Ready\n"
     ]
    }
   ],
   "source": [
    "# Load Packages/Modules\n",
    "exec(open('Init_Dump.py').read())\n",
    "# Load Hyper-parameter Grid\n",
    "exec(open('CV_Grid.py').read())\n",
    "# Load Helper Function(s)\n",
    "exec(open('Helper_Functions.py').read())\n",
    "# Import time separately\n",
    "import time\n",
    "os.environ['CUDA_VISIBLE_DEVICES'] = '0'\n",
    "\n",
    "\n",
    "# load dataset\n",
    "results_path = \"./outputs/models/\"\n",
    "results_tables_path = \"./outputs/results/\"\n",
    "raw_data_path_folder = \"./inputs/raw/\"\n",
    "data_path_folder = \"./inputs/data/\"\n",
    "\n",
    "\n",
    "### Set Seed\n",
    "random.seed(2021)\n",
    "np.random.seed(2021)\n",
    "tf.random.set_seed(2021)"
   ]
  },
  {
   "cell_type": "markdown",
   "metadata": {},
   "source": [
    "## Meta-Parameters"
   ]
  },
  {
   "cell_type": "markdown",
   "metadata": {},
   "source": [
    "### Simulation"
   ]
  },
  {
   "cell_type": "markdown",
   "metadata": {},
   "source": [
    "## Problem Dimension"
   ]
  },
  {
   "cell_type": "code",
   "execution_count": 5,
   "metadata": {},
   "outputs": [],
   "source": [
    "problem_dim = 3"
   ]
  },
  {
   "cell_type": "markdown",
   "metadata": {},
   "source": [
    "#### Grid Hyperparameter(s)\n",
    "- Ratio $\\frac{\\text{Testing Datasize}}{\\text{Training Datasize}}$.\n",
    "- Number of Training Points to Generate"
   ]
  },
  {
   "cell_type": "code",
   "execution_count": 6,
   "metadata": {},
   "outputs": [],
   "source": [
    "train_test_ratio = .2\n",
    "N_train_size = 10**2"
   ]
  },
  {
   "cell_type": "markdown",
   "metadata": {},
   "source": [
    "Monte-Carlo Paramters"
   ]
  },
  {
   "cell_type": "code",
   "execution_count": 7,
   "metadata": {},
   "outputs": [],
   "source": [
    "## Monte-Carlo\n",
    "N_Monte_Carlo_Samples = 10**2"
   ]
  },
  {
   "cell_type": "markdown",
   "metadata": {},
   "source": [
    "Initial radis of $\\delta$-bounded random partition of $\\mathcal{X}$!"
   ]
  },
  {
   "cell_type": "code",
   "execution_count": 8,
   "metadata": {},
   "outputs": [],
   "source": [
    "# Hyper-parameters of Cover\n",
    "delta = 0.01\n",
    "Proportion_per_cluster = .5"
   ]
  },
  {
   "cell_type": "markdown",
   "metadata": {},
   "source": [
    "**Note**: Setting *N_Quantizers_to_parameterize* prevents any barycenters and sub-sampling."
   ]
  },
  {
   "cell_type": "markdown",
   "metadata": {},
   "source": [
    "# Simulate from: $Y=f(X,W)$ \n",
    "- Random DNN (internal noise): \n",
    "    - $f(X,W) = f_{\\text{unknown}}(X+U)$\n",
    "- Random DNN: \n",
    "    - $f(X,W) = f_{\\text{unknown}}(X)+W$\n",
    "    \n",
    "*Non-linear dependance on exhaugenous noise.*"
   ]
  },
  {
   "cell_type": "markdown",
   "metadata": {},
   "source": [
    "## Heteroskedastic Regression Problem"
   ]
  },
  {
   "cell_type": "code",
   "execution_count": 9,
   "metadata": {},
   "outputs": [],
   "source": [
    "if f_unknown_mode == \"Heteroskedastic_NonLinear_Regression\":\n",
    "    #-----------#\n",
    "    # Build DNN #\n",
    "    #-----------#\n",
    "    W_feature = np.random.uniform(size=np.array([width,problem_dim]),low=-.5,high=.5)\n",
    "    W_readout = np.random.uniform(size=np.array([1,width]),low=-.5,high=.5)\n",
    "    # Generate Matrices\n",
    "    for i_weights in range(Depth_Bayesian_DNN):\n",
    "        W_hidden_loop = np.random.uniform(size=np.array([width,width]),low=-.5,high=.5)\n",
    "        if i_weights == 0:\n",
    "            W_hidden_list = [W_hidden_loop]\n",
    "        else:\n",
    "            W_hidden_list.append(W_hidden_loop)\n",
    "    # Define DNN Applier\n",
    "    def f_unknown(x):\n",
    "        x_internal = x.reshape(-1,)\n",
    "        x_internal = np.matmul(W_feature,x)\n",
    "        #Deep Layer(s)\n",
    "        for i in range(Depth_Bayesian_DNN):\n",
    "            W_internal = W_hidden_list[i]\n",
    "            x_internal = np.matmul(W_internal,x_internal)\n",
    "            x_internal = np.maximum(0,x_internal)    \n",
    "        # Readout Layer\n",
    "        x_internal = np.matmul(W_readout,x_internal)\n",
    "        return x_internal\n",
    "\n",
    "    # Define Simulator\n",
    "    def Simulator(x_in):\n",
    "        var = np.sqrt(np.sum(x_in**2))\n",
    "        # Pushforward\n",
    "        f_x = f_unknown(x_in)\n",
    "        # Apply Noise After\n",
    "        noise = np.random.laplace(0,var,N_Monte_Carlo_Samples)\n",
    "        f_x_noise = np.cos(f_x) + noise\n",
    "        return f_x_noise"
   ]
  },
  {
   "cell_type": "markdown",
   "metadata": {},
   "source": [
    "## Bayesian DNN"
   ]
  },
  {
   "cell_type": "code",
   "execution_count": 10,
   "metadata": {},
   "outputs": [],
   "source": [
    "if f_unknown_mode == \"DNN_with_Random_Weights\":\n",
    "    def f_unknown(x):\n",
    "        x_internal = x.reshape(-1,) \n",
    "        # Feature Map Layer\n",
    "        W_feature = np.random.uniform(size=np.array([width,problem_dim]),low=-.5,high=.5)\n",
    "        x_internal = np.matmul(W_feature,x)\n",
    "    #     Deep Layer(s)\n",
    "        for i in range(Depth_Bayesian_DNN):\n",
    "            W_internal = np.random.uniform(size=np.array([width,width]),low=-.5,high=.5)\n",
    "            x_internal = np.matmul(W_internal,x_internal)\n",
    "            x_internal = np.maximum(0,x_internal)    \n",
    "        # Readout Layer\n",
    "        W_readout = np.random.uniform(size=np.array([1,width]),low=-.5,high=.5)\n",
    "        x_internal = np.matmul(W_readout,x_internal)\n",
    "        return x_internal\n",
    "\n",
    "\n",
    "    def Simulator(x_in):\n",
    "        for i_MC in range(N_Monte_Carlo_Samples):\n",
    "            y_MC_loop = f_unknown(x_in)\n",
    "            if i_MC == 0:\n",
    "                y_MC = y_MC_loop\n",
    "            else:\n",
    "                y_MC = np.append(y_MC,y_MC_loop)\n",
    "        return y_MC"
   ]
  },
  {
   "cell_type": "markdown",
   "metadata": {},
   "source": [
    "## Bayesian Dropout"
   ]
  },
  {
   "cell_type": "code",
   "execution_count": 11,
   "metadata": {},
   "outputs": [],
   "source": [
    "if f_unknown_mode == \"DNN_with_Bayesian_Dropout\":\n",
    "    # Initialize Drouput Parameters\n",
    "    N_Dropout = int(np.maximum(1,round(width*Dropout_rate)))\n",
    "    \n",
    "    #-----------#\n",
    "    # Build DNN #\n",
    "    #-----------#\n",
    "    W_feature = np.random.uniform(size=np.array([width,problem_dim]),low=-.5,high=.5)\n",
    "    W_readout = np.random.uniform(size=np.array([1,width]),low=-.5,high=.5)\n",
    "    # Generate Matrices\n",
    "    for i_weights in range(Depth_Bayesian_DNN):\n",
    "        W_hidden_loop = np.random.uniform(size=np.array([width,width]),low=-.5,high=.5)\n",
    "        if i_weights == 0:\n",
    "            W_hidden_list = [W_hidden_loop]\n",
    "        else:\n",
    "            W_hidden_list.append(W_hidden_loop)\n",
    "    # Define DNN Applier\n",
    "    def f_unknown(x):\n",
    "        x_internal = x.reshape(-1,)\n",
    "        x_internal = np.matmul(W_feature,x)\n",
    "        #Deep Layer(s)\n",
    "        for i in range(Depth_Bayesian_DNN):\n",
    "            W_internal = W_hidden_list[i]\n",
    "            # Apply Random Dropout\n",
    "            random_mask_coordinates_i = np.random.choice(range(width),N_Dropout)\n",
    "            random_mask_coordinates_j = np.random.choice(range(width),N_Dropout)\n",
    "            W_internal[random_mask_coordinates_i,random_mask_coordinates_j] = 0\n",
    "            # Apply Dropped-out layer\n",
    "            x_internal = np.matmul(W_internal,x_internal)\n",
    "            x_internal = np.maximum(0,x_internal)    \n",
    "        # Readout Layer\n",
    "        x_internal = np.matmul(W_readout,x_internal)\n",
    "        return x_internal\n",
    "\n",
    "    def Simulator(x_in):\n",
    "        for i_MC in range(N_Monte_Carlo_Samples):\n",
    "            y_MC_loop = f_unknown(x_in)\n",
    "            if i_MC == 0:\n",
    "                y_MC = y_MC_loop\n",
    "            else:\n",
    "                y_MC = np.append(y_MC,y_MC_loop)\n",
    "        return y_MC"
   ]
  },
  {
   "cell_type": "markdown",
   "metadata": {},
   "source": [
    "### fSDEs\n",
    "Lean the conditional law of $I_{X_1 \\in Ball(0,1)}$ where $X_t$ solves an SDE with fBM driver."
   ]
  },
  {
   "cell_type": "code",
   "execution_count": 12,
   "metadata": {},
   "outputs": [],
   "source": [
    "if f_unknown_mode == \"Rough_SDE\":\n",
    "    # Initialize Drouput Parameters\n",
    "    N_Dropout = int(np.maximum(1,round(width*Dropout_rate)))\n",
    "    \n",
    "    #-----------#\n",
    "    # Build DNN #\n",
    "    #-----------#\n",
    "    W_feature = np.random.uniform(size=np.array([width,problem_dim]),low=-.5,high=.5)\n",
    "    W_readout = np.random.uniform(size=np.array([1,width]),low=-.5,high=.5)\n",
    "    # Generate Matrices\n",
    "    for i_weights in range(Depth_Bayesian_DNN):\n",
    "        W_hidden_loop = np.random.uniform(size=np.array([width,width]),low=-.5,high=.5)\n",
    "        if i_weights == 0:\n",
    "            W_hidden_list = [W_hidden_loop]\n",
    "        else:\n",
    "            W_hidden_list.append(W_hidden_loop)\n",
    "    # Define DNN Applier\n",
    "    def f_unknown(x):\n",
    "        x_internal = x.reshape(-1,)\n",
    "        # Get fBM path\n",
    "        for d in range(problem_dim):\n",
    "            fBM_gen_loop = (((FBM(n=N_Euler_Steps, hurst=Hurst_Exponent, length=1, method='daviesharte')).fbm())[1:]).reshape(-1,1)\n",
    "            if d == 0:\n",
    "                fBM_gen = fBM_gen_loop\n",
    "            else:\n",
    "                fBM_gen = np.append(fBM_gen,fBM_gen_loop,axis=-1)\n",
    "        # Perform Integral\n",
    "        for t in range(N_Euler_Steps):\n",
    "            drift_update = alpha(t/N_Euler_Steps,x_internal)/N_Euler_Steps\n",
    "            vol_update = beta(t/N_Euler_Steps,x_internal)\n",
    "            x_internal = x_internal + drift_update + np.matmul(vol_update,fBM_gen[t,])\n",
    "        # Sum at output\n",
    "        output_indicator = np.max(x_internal)\n",
    "        return output_indicator\n",
    "\n",
    "    def Simulator(x_in):\n",
    "        for i_MC in range(N_Monte_Carlo_Samples):\n",
    "            y_MC_loop = f_unknown(x_in)\n",
    "            if i_MC == 0:\n",
    "                y_MC = y_MC_loop\n",
    "            else:\n",
    "                y_MC = np.append(y_MC,y_MC_loop)\n",
    "        return y_MC"
   ]
  },
  {
   "cell_type": "markdown",
   "metadata": {},
   "source": [
    "## Initialize Data"
   ]
  },
  {
   "cell_type": "code",
   "execution_count": 13,
   "metadata": {},
   "outputs": [],
   "source": [
    "N_test_size = int(np.round(N_train_size*train_test_ratio,0))"
   ]
  },
  {
   "cell_type": "markdown",
   "metadata": {},
   "source": [
    "### Initialize Training Data (Inputs)"
   ]
  },
  {
   "cell_type": "markdown",
   "metadata": {},
   "source": [
    "Try initial sampling-type implementation!  It worked nicely..i.e.: centers were given!"
   ]
  },
  {
   "cell_type": "code",
   "execution_count": 14,
   "metadata": {},
   "outputs": [],
   "source": [
    "# Get Training Set\n",
    "X_train = np.random.uniform(size=np.array([N_train_size,problem_dim]),low=.5,high=1.5)\n",
    "\n",
    "# Get Testing Set\n",
    "test_set_indices = np.random.choice(range(X_train.shape[0]),N_test_size)\n",
    "X_test = X_train[test_set_indices,]\n",
    "X_test = X_test + np.random.uniform(low=-(delta/np.sqrt(problem_dim)), \n",
    "                                    high = -(delta/np.sqrt(problem_dim)),\n",
    "                                    size = X_test.shape)"
   ]
  },
  {
   "cell_type": "code",
   "execution_count": 15,
   "metadata": {},
   "outputs": [],
   "source": [
    "# Initialize k_means\n",
    "N_Quantizers_to_parameterize = int(np.maximum(2,round(Proportion_per_cluster*X_train.shape[0])))\n",
    "kmeans = KMeans(n_clusters=N_Quantizers_to_parameterize, random_state=0).fit(X_train)\n",
    "# Get Classes\n",
    "Train_classes = np.array(pd.get_dummies(kmeans.labels_))\n",
    "# Get Center Measures\n",
    "Barycenters_Array_x = kmeans.cluster_centers_"
   ]
  },
  {
   "cell_type": "markdown",
   "metadata": {},
   "source": [
    "### Get Barycenters\n",
    "*Here we make the assumption that we can directly resample $f(X=x,U)$ if necessary...or that it is available as part of the dataset.*"
   ]
  },
  {
   "cell_type": "code",
   "execution_count": 16,
   "metadata": {},
   "outputs": [
    {
     "name": "stderr",
     "output_type": "stream",
     "text": [
      "100%|██████████| 50/50 [00:00<00:00, 4100.00it/s]\n"
     ]
    }
   ],
   "source": [
    "for i in tqdm(range(Barycenters_Array_x.shape[0])):\n",
    "    # Put Datum\n",
    "    Bar_x_loop = Barycenters_Array_x[i,]\n",
    "    # Product Monte-Carlo Sample for Input\n",
    "    Bar_y_loop = (Simulator(Bar_x_loop)).reshape(1,-1)\n",
    "\n",
    "    # Update Dataset\n",
    "    if i == 0:\n",
    "        Barycenters_Array = Bar_y_loop\n",
    "    else:\n",
    "        Barycenters_Array = np.append(Barycenters_Array,Bar_y_loop,axis=0)"
   ]
  },
  {
   "cell_type": "markdown",
   "metadata": {},
   "source": [
    "### Initialize Training Data (Outputs)"
   ]
  },
  {
   "cell_type": "markdown",
   "metadata": {},
   "source": [
    "#### Get Training Set"
   ]
  },
  {
   "cell_type": "code",
   "execution_count": 17,
   "metadata": {},
   "outputs": [
    {
     "name": "stderr",
     "output_type": "stream",
     "text": [
      "100%|██████████| 100/100 [00:00<00:00, 2943.37it/s]\n"
     ]
    }
   ],
   "source": [
    "for i in tqdm(range(X_train.shape[0])):\n",
    "    # Put Datum\n",
    "    x_loop = X_train[i,]\n",
    "    # Product Monte-Carlo Sample for Input\n",
    "    y_loop = (Simulator(x_loop)).reshape(1,-1)\n",
    "\n",
    "    # Update Dataset\n",
    "    if i == 0:\n",
    "        Y_train = y_loop\n",
    "        Y_train_mean_emp = np.mean(y_loop)\n",
    "        Y_train_var_emp = np.mean((y_loop - np.mean(y_loop))**2)\n",
    "    else:\n",
    "        Y_train = np.append(Y_train,y_loop,axis=0)\n",
    "        Y_train_mean_emp = np.append(Y_train_mean_emp,np.mean(y_loop))\n",
    "        Y_train_var_emp = np.append(Y_train_var_emp,np.mean((y_loop - np.mean(y_loop))**2))\n",
    "# Join mean and Variance Training Data\n",
    "Y_train_var_emp = np.append(Y_train_mean_emp.reshape(-1,1),Y_train_var_emp.reshape(-1,1),axis=1)"
   ]
  },
  {
   "cell_type": "markdown",
   "metadata": {},
   "source": [
    "#### Get Test Set"
   ]
  },
  {
   "cell_type": "code",
   "execution_count": 18,
   "metadata": {},
   "outputs": [
    {
     "name": "stderr",
     "output_type": "stream",
     "text": [
      "100%|██████████| 20/20 [00:00<00:00, 5061.00it/s]\n"
     ]
    }
   ],
   "source": [
    "# Start Timer\n",
    "Test_Set_PredictionTime_MC = time.time()\n",
    "\n",
    "# Generate Data\n",
    "for i in tqdm(range(X_test.shape[0])):\n",
    "    # Put Datum\n",
    "    x_loop = X_test[i,]\n",
    "    # Product Monte-Carlo Sample for Input\n",
    "    y_loop = (Simulator(x_loop)).reshape(1,-1)\n",
    "\n",
    "    # Update Dataset\n",
    "    if i == 0:\n",
    "        Y_test = y_loop\n",
    "    else:\n",
    "        Y_test = np.append(Y_test,y_loop,axis=0)\n",
    "        \n",
    "# End Timer\n",
    "Test_Set_PredictionTime_MC = time.time() - Test_Set_PredictionTime_MC"
   ]
  },
  {
   "cell_type": "markdown",
   "metadata": {},
   "source": [
    "# Train Model"
   ]
  },
  {
   "cell_type": "markdown",
   "metadata": {},
   "source": [
    "#### Start Timer"
   ]
  },
  {
   "cell_type": "code",
   "execution_count": 19,
   "metadata": {},
   "outputs": [],
   "source": [
    "# Start Timer\n",
    "Type_A_timer_Begin = time.time()"
   ]
  },
  {
   "cell_type": "markdown",
   "metadata": {},
   "source": [
    "### Train Deep Classifier"
   ]
  },
  {
   "cell_type": "markdown",
   "metadata": {},
   "source": [
    "In this step, we train a deep (feed-forward) classifier:\n",
    "$$\n",
    "\\hat{f}\\triangleq \\operatorname{Softmax}_N\\circ W_J\\circ \\sigma \\bullet \\dots \\sigma \\bullet W_1,\n",
    "$$\n",
    "to identify which barycenter we are closest to."
   ]
  },
  {
   "cell_type": "markdown",
   "metadata": {},
   "source": [
    "#### Train Deep Classifier"
   ]
  },
  {
   "cell_type": "markdown",
   "metadata": {},
   "source": [
    "Re-Load Packages and CV Grid"
   ]
  },
  {
   "cell_type": "code",
   "execution_count": 20,
   "metadata": {},
   "outputs": [
    {
     "name": "stdout",
     "output_type": "stream",
     "text": [
      "Deep Feature Builder - Ready\n",
      "Deep Classifier - Ready\n"
     ]
    }
   ],
   "source": [
    "# Re-Load Hyper-parameter Grid\n",
    "exec(open('CV_Grid.py').read())\n",
    "# Re-Load Classifier Function(s)\n",
    "exec(open('Helper_Functions.py').read())"
   ]
  },
  {
   "cell_type": "markdown",
   "metadata": {},
   "source": [
    "Train Deep Classifier"
   ]
  },
  {
   "cell_type": "code",
   "execution_count": 21,
   "metadata": {},
   "outputs": [
    {
     "name": "stdout",
     "output_type": "stream",
     "text": [
      "==========================================\n",
      "Training Classifer Portion of Type-A Model\n",
      "==========================================\n",
      "Fitting 2 folds for each of 1 candidates, totalling 2 fits\n"
     ]
    },
    {
     "name": "stderr",
     "output_type": "stream",
     "text": [
      "[Parallel(n_jobs=4)]: Using backend LokyBackend with 4 concurrent workers.\n",
      "[Parallel(n_jobs=4)]: Done   2 out of   2 | elapsed:    4.1s remaining:    0.0s\n",
      "[Parallel(n_jobs=4)]: Done   2 out of   2 | elapsed:    4.1s finished\n"
     ]
    },
    {
     "name": "stdout",
     "output_type": "stream",
     "text": [
      "Epoch 1/50\n",
      "4/4 [==============================] - 0s 2ms/step - loss: 3.8968 - accuracy: 0.0100\n",
      "Epoch 2/50\n",
      "4/4 [==============================] - 0s 2ms/step - loss: 3.8873 - accuracy: 0.0100\n",
      "Epoch 3/50\n",
      "4/4 [==============================] - 0s 3ms/step - loss: 3.8790 - accuracy: 0.0100\n",
      "Epoch 4/50\n",
      "4/4 [==============================] - 0s 2ms/step - loss: 3.8716 - accuracy: 0.0100\n",
      "Epoch 5/50\n",
      "4/4 [==============================] - 0s 2ms/step - loss: 3.8643 - accuracy: 0.0100\n",
      "Epoch 6/50\n",
      "4/4 [==============================] - 0s 2ms/step - loss: 3.8573 - accuracy: 0.0200\n",
      "Epoch 7/50\n",
      "4/4 [==============================] - 0s 2ms/step - loss: 3.8505 - accuracy: 0.0700\n",
      "Epoch 8/50\n",
      "4/4 [==============================] - 0s 3ms/step - loss: 3.8434 - accuracy: 0.0700\n",
      "Epoch 9/50\n",
      "4/4 [==============================] - 0s 3ms/step - loss: 3.8366 - accuracy: 0.0700\n",
      "Epoch 10/50\n",
      "4/4 [==============================] - 0s 3ms/step - loss: 3.8299 - accuracy: 0.0600\n",
      "Epoch 11/50\n",
      "4/4 [==============================] - 0s 2ms/step - loss: 3.8233 - accuracy: 0.0600\n",
      "Epoch 12/50\n",
      "4/4 [==============================] - 0s 3ms/step - loss: 3.8161 - accuracy: 0.0600\n",
      "Epoch 13/50\n",
      "4/4 [==============================] - 0s 5ms/step - loss: 3.8095 - accuracy: 0.0600\n",
      "Epoch 14/50\n",
      "4/4 [==============================] - 0s 3ms/step - loss: 3.8021 - accuracy: 0.0600\n",
      "Epoch 15/50\n",
      "4/4 [==============================] - 0s 3ms/step - loss: 3.7952 - accuracy: 0.0600\n",
      "Epoch 16/50\n",
      "4/4 [==============================] - 0s 4ms/step - loss: 3.7877 - accuracy: 0.0600\n",
      "Epoch 17/50\n",
      "4/4 [==============================] - 0s 4ms/step - loss: 3.7804 - accuracy: 0.0600\n",
      "Epoch 18/50\n",
      "4/4 [==============================] - 0s 4ms/step - loss: 3.7733 - accuracy: 0.0600\n",
      "Epoch 19/50\n",
      "4/4 [==============================] - 0s 4ms/step - loss: 3.7656 - accuracy: 0.0600\n",
      "Epoch 20/50\n",
      "4/4 [==============================] - 0s 3ms/step - loss: 3.7585 - accuracy: 0.0600\n",
      "Epoch 21/50\n",
      "4/4 [==============================] - 0s 3ms/step - loss: 3.7498 - accuracy: 0.0600\n",
      "Epoch 22/50\n",
      "4/4 [==============================] - 0s 3ms/step - loss: 3.7417 - accuracy: 0.0600\n",
      "Epoch 23/50\n",
      "4/4 [==============================] - 0s 4ms/step - loss: 3.7334 - accuracy: 0.0600\n",
      "Epoch 24/50\n",
      "4/4 [==============================] - 0s 3ms/step - loss: 3.7250 - accuracy: 0.0600\n",
      "Epoch 25/50\n",
      "4/4 [==============================] - 0s 5ms/step - loss: 3.7162 - accuracy: 0.0600\n",
      "Epoch 26/50\n",
      "4/4 [==============================] - 0s 2ms/step - loss: 3.7085 - accuracy: 0.0600\n",
      "Epoch 27/50\n",
      "4/4 [==============================] - 0s 4ms/step - loss: 3.7007 - accuracy: 0.0600\n",
      "Epoch 28/50\n",
      "4/4 [==============================] - 0s 3ms/step - loss: 3.6928 - accuracy: 0.0600\n",
      "Epoch 29/50\n",
      "4/4 [==============================] - 0s 2ms/step - loss: 3.6843 - accuracy: 0.0600\n",
      "Epoch 30/50\n",
      "4/4 [==============================] - 0s 2ms/step - loss: 3.6755 - accuracy: 0.0600\n",
      "Epoch 31/50\n",
      "4/4 [==============================] - 0s 2ms/step - loss: 3.6670 - accuracy: 0.0600\n",
      "Epoch 32/50\n",
      "4/4 [==============================] - 0s 5ms/step - loss: 3.6579 - accuracy: 0.0600\n",
      "Epoch 33/50\n",
      "4/4 [==============================] - 0s 4ms/step - loss: 3.6492 - accuracy: 0.0600\n",
      "Epoch 34/50\n",
      "4/4 [==============================] - 0s 3ms/step - loss: 3.6409 - accuracy: 0.0600\n",
      "Epoch 35/50\n",
      "4/4 [==============================] - 0s 4ms/step - loss: 3.6327 - accuracy: 0.0600\n",
      "Epoch 36/50\n",
      "4/4 [==============================] - 0s 6ms/step - loss: 3.6245 - accuracy: 0.0600\n",
      "Epoch 37/50\n",
      "4/4 [==============================] - 0s 5ms/step - loss: 3.6177 - accuracy: 0.0600\n",
      "Epoch 38/50\n",
      "4/4 [==============================] - 0s 4ms/step - loss: 3.6095 - accuracy: 0.0600\n",
      "Epoch 39/50\n",
      "4/4 [==============================] - 0s 5ms/step - loss: 3.6022 - accuracy: 0.0600\n",
      "Epoch 40/50\n",
      "4/4 [==============================] - 0s 6ms/step - loss: 3.5945 - accuracy: 0.0600\n",
      "Epoch 41/50\n",
      "4/4 [==============================] - 0s 4ms/step - loss: 3.5874 - accuracy: 0.0600\n",
      "Epoch 42/50\n",
      "4/4 [==============================] - 0s 4ms/step - loss: 3.5804 - accuracy: 0.0600\n",
      "Epoch 43/50\n",
      "4/4 [==============================] - 0s 3ms/step - loss: 3.5732 - accuracy: 0.0600\n",
      "Epoch 44/50\n",
      "4/4 [==============================] - 0s 2ms/step - loss: 3.5663 - accuracy: 0.0600\n",
      "Epoch 45/50\n",
      "4/4 [==============================] - 0s 4ms/step - loss: 3.5599 - accuracy: 0.0600\n",
      "Epoch 46/50\n",
      "4/4 [==============================] - 0s 3ms/step - loss: 3.5522 - accuracy: 0.0600\n",
      "Epoch 47/50\n",
      "4/4 [==============================] - 0s 7ms/step - loss: 3.5456 - accuracy: 0.0600\n",
      "Epoch 48/50\n",
      "4/4 [==============================] - 0s 5ms/step - loss: 3.5384 - accuracy: 0.0600\n",
      "Epoch 49/50\n",
      "4/4 [==============================] - 0s 4ms/step - loss: 3.5320 - accuracy: 0.0600\n",
      "Epoch 50/50\n",
      "4/4 [==============================] - 0s 2ms/step - loss: 3.5250 - accuracy: 0.0600\n",
      "4/4 [==============================] - 0s 2ms/step\n",
      "1/1 [==============================] - 0s 3ms/step\n",
      "===============================================\n",
      "Training Classifer Portion of Type Model: Done!\n",
      "===============================================\n"
     ]
    }
   ],
   "source": [
    "print(\"==========================================\")\n",
    "print(\"Training Classifer Portion of Type-A Model\")\n",
    "print(\"==========================================\")\n",
    "\n",
    "# Redefine (Dimension-related) Elements of Grid\n",
    "param_grid_Deep_Classifier['input_dim'] = [problem_dim]\n",
    "param_grid_Deep_Classifier['output_dim'] = [N_Quantizers_to_parameterize]\n",
    "\n",
    "# Train simple deep classifier\n",
    "predicted_classes_train, predicted_classes_test, N_params_deep_classifier, timer_output = build_simple_deep_classifier(n_folds = CV_folds, \n",
    "                                                                                                        n_jobs = n_jobs, \n",
    "                                                                                                        n_iter = n_iter, \n",
    "                                                                                                        param_grid_in=param_grid_Deep_Classifier, \n",
    "                                                                                                        X_train = X_train, \n",
    "                                                                                                        y_train = Train_classes,\n",
    "                                                                                                        X_test = X_test)\n",
    "\n",
    "print(\"===============================================\")\n",
    "print(\"Training Classifer Portion of Type Model: Done!\")\n",
    "print(\"===============================================\")"
   ]
  },
  {
   "cell_type": "markdown",
   "metadata": {},
   "source": [
    "#### Get Predicted Quantized Distributions\n",
    "- Each *row* of \"Predicted_Weights\" is the $\\beta\\in \\Delta_N$.\n",
    "- Each *Column* of \"Barycenters_Array\" denotes the $x_1,\\dots,x_N$ making up the points of the corresponding empirical measures."
   ]
  },
  {
   "cell_type": "code",
   "execution_count": 22,
   "metadata": {},
   "outputs": [],
   "source": [
    "# Initialize Empirical Weights\n",
    "empirical_weights = (np.ones(N_Monte_Carlo_Samples)/N_Monte_Carlo_Samples).reshape(-1,)\n",
    "\n",
    "for i in range(N_Quantizers_to_parameterize):\n",
    "    if i == 0:\n",
    "        points_of_mass = Barycenters_Array[i,]\n",
    "    else:\n",
    "        points_of_mass = np.append(points_of_mass,Barycenters_Array[i,])"
   ]
  },
  {
   "cell_type": "code",
   "execution_count": 23,
   "metadata": {},
   "outputs": [],
   "source": [
    "# Get Noisless Mean\n",
    "direct_facts = np.apply_along_axis(f_unknown, 1, X_train)\n",
    "direct_facts_test = np.apply_along_axis(f_unknown, 1, X_test)"
   ]
  },
  {
   "cell_type": "markdown",
   "metadata": {},
   "source": [
    "#### Get Error(s)"
   ]
  },
  {
   "cell_type": "code",
   "execution_count": 24,
   "metadata": {},
   "outputs": [],
   "source": [
    "# %run Evaluation.ipynb\n",
    "exec(open('Evaluation.py').read())"
   ]
  },
  {
   "cell_type": "markdown",
   "metadata": {},
   "source": [
    "#### Compute *Training* Error(s)"
   ]
  },
  {
   "cell_type": "code",
   "execution_count": 25,
   "metadata": {},
   "outputs": [
    {
     "name": "stderr",
     "output_type": "stream",
     "text": [
      "\r",
      "  0%|          | 0/100 [00:00<?, ?it/s]"
     ]
    },
    {
     "name": "stdout",
     "output_type": "stream",
     "text": [
      "#--------------------#\n",
      " Get Training Error(s)\n",
      "#--------------------#\n"
     ]
    },
    {
     "name": "stderr",
     "output_type": "stream",
     "text": [
      "100%|██████████| 100/100 [00:00<00:00, 178.41it/s]"
     ]
    },
    {
     "name": "stdout",
     "output_type": "stream",
     "text": [
      "#-------------------------#\n",
      " Get Training Error(s): END\n",
      "#-------------------------#\n"
     ]
    },
    {
     "name": "stderr",
     "output_type": "stream",
     "text": [
      "\n"
     ]
    }
   ],
   "source": [
    "print(\"#--------------------#\")\n",
    "print(\" Get Training Error(s)\")\n",
    "print(\"#--------------------#\")\n",
    "for i in tqdm(range((X_train.shape[0]))):\n",
    "    for j in range(N_Quantizers_to_parameterize):\n",
    "        b_loop = np.repeat(predicted_classes_train[i,j],N_Monte_Carlo_Samples)\n",
    "        if j == 0:\n",
    "            b = b_loop\n",
    "        else:\n",
    "            b = np.append(b,b_loop)\n",
    "        b = b.reshape(-1,1)\n",
    "        b = b\n",
    "    b = np.array(b,dtype=float).reshape(-1,)\n",
    "    b = b/N_Monte_Carlo_Samples\n",
    "    \n",
    "    # Compute Error(s)\n",
    "    ## W1\n",
    "    W1_loop = ot.emd2_1d(points_of_mass,\n",
    "                         np.array(Y_train[i,]).reshape(-1,),\n",
    "                         b,\n",
    "                         empirical_weights)\n",
    "    \n",
    "    ## M1\n",
    "    Mu_hat = np.sum(b*(points_of_mass))\n",
    "    Mu_MC = np.mean(np.array(Y_train[i,]))\n",
    "    if f_unknown_mode == \"Heteroskedastic_NonLinear_Regression\":\n",
    "        Mu = direct_facts[i,]\n",
    "    else:\n",
    "        Mu = Mu_MC\n",
    "        \n",
    "    ### Error(s)\n",
    "    Mean_loop = (Mu_hat-Mu)\n",
    "    Mean_loop_MC = (Mu_hat-Mu_MC)\n",
    "    \n",
    "    ## Variance\n",
    "    Var_hat = np.sum(((points_of_mass-Mu_hat)**2)*b)\n",
    "    Var_MC = np.mean(np.array(Y_train[i]-Mu_MC)**2)\n",
    "    if f_unknown_mode == \"Heteroskedastic_NonLinear_Regression\":\n",
    "        Var = 2*np.sum(X_train[i,]**2)\n",
    "    else:\n",
    "        Var = Var_MC     \n",
    "    ### Error(s)\n",
    "    Var_loop = np.abs(Var_hat-Var)\n",
    "    Var_loop_MC = np.abs(Var_MC-Var)\n",
    "        \n",
    "    # Skewness\n",
    "    Skewness_hat = np.sum((((points_of_mass-Mu_hat)/Var)**3)*b)\n",
    "    Skewness_MC = np.mean((np.array(Y_train[i]-Mu_MC)/Var_MC)**3)\n",
    "    if f_unknown_mode == \"Heteroskedastic_NonLinear_Regression\":\n",
    "        Skewness = 0\n",
    "    else:\n",
    "        Skewness = Skewness_MC\n",
    "    ### Error(s)\n",
    "    Skewness_loop = np.abs(Skewness_hat-Skewness)\n",
    "    Skewness_loop_MC = np.abs(Skewness_MC-Skewness)\n",
    "    \n",
    "    # Skewness\n",
    "    Ex_Kurtosis_hat = np.sum((((points_of_mass-Mu_hat)/Var)**4)*b) - 3\n",
    "    Ex_Kurtosis_MC = np.mean((np.array(Y_train[i]-Mu_MC)/Var_MC)**4) - 3\n",
    "    if f_unknown_mode == \"Heteroskedastic_NonLinear_Regression\":\n",
    "        Ex_Kurtosis = 3\n",
    "    else:\n",
    "        Ex_Kurtosis = Ex_Kurtosis_MC\n",
    "    ### Error(s)\n",
    "    Ex_Kurtosis_loop = np.abs(Ex_Kurtosis-Ex_Kurtosis_hat)\n",
    "    Ex_Kurtosis_loop_MC = np.abs(Ex_Kurtosis-Ex_Kurtosis_MC)\n",
    "    \n",
    "    \n",
    "    \n",
    "    # Get Higher Moments Loss\n",
    "    Higher_momentserrors_loop,Higher_MC_momentserrors_loop = Higher_Moments_Loss(b,np.array(Y_train[i,]))\n",
    "    Higher_Moments_Errors_loop = np.abs(Higher_momentserrors_loop-Higher_MC_momentserrors_loop)\n",
    "    \n",
    "    \n",
    "    # Update\n",
    "    if i == 0:\n",
    "        W1_errors = W1_loop\n",
    "        # Moments\n",
    "        ## DNM\n",
    "        Mean_errors =  Mean_loop\n",
    "        Var_errors = Var_loop\n",
    "        Skewness_errors = Skewness_loop\n",
    "        Ex_Kurtosis_errors = Ex_Kurtosis_loop\n",
    "        ## Monte-Carlo\n",
    "        Mean_errors_MC =  Mean_loop_MC\n",
    "        Var_errors_MC = Var_loop_MC\n",
    "        Skewness_errors_MC = Skewness_loop_MC\n",
    "        Ex_Kurtosis_errors_MC = Ex_Kurtosis_loop_MC\n",
    "        # Higher Moments\n",
    "        Higher_Moments_Errors = Higher_Moments_Errors_loop\n",
    "        \n",
    "        \n",
    "    else:\n",
    "        W1_errors = np.append(W1_errors,W1_loop)\n",
    "        # Moments\n",
    "        ## DNM\n",
    "        Mean_errors =  np.append(Mean_errors,Mean_loop)\n",
    "        Var_errors = np.append(Var_errors,Var_loop)\n",
    "        Skewness_errors = np.append(Skewness_errors,Skewness_loop)\n",
    "        Ex_Kurtosis_errors = np.append(Ex_Kurtosis_errors,Ex_Kurtosis_loop)\n",
    "        ## Monte-Carlo\n",
    "        Mean_errors_MC =  np.append(Mean_errors_MC,Mean_loop_MC)\n",
    "        Var_errors_MC = np.append(Var_errors_MC,Var_loop_MC)\n",
    "        Skewness_errors_MC = np.append(Skewness_errors_MC,Skewness_loop_MC)\n",
    "        Ex_Kurtosis_errors_MC = np.append(Ex_Kurtosis_errors_MC,Ex_Kurtosis_loop_MC)\n",
    "        # Higher Moments\n",
    "        Higher_Moments_Errors = np.append(Higher_Moments_Errors,Higher_Moments_Errors_loop)\n",
    "        \n",
    "print(\"#-------------------------#\")\n",
    "print(\" Get Training Error(s): END\")\n",
    "print(\"#-------------------------#\")"
   ]
  },
  {
   "cell_type": "markdown",
   "metadata": {},
   "source": [
    "#### Compute *Testing* Errors"
   ]
  },
  {
   "cell_type": "code",
   "execution_count": 26,
   "metadata": {},
   "outputs": [
    {
     "name": "stderr",
     "output_type": "stream",
     "text": [
      "100%|██████████| 20/20 [00:00<00:00, 226.02it/s]"
     ]
    },
    {
     "name": "stdout",
     "output_type": "stream",
     "text": [
      "#----------------#\n",
      " Get Test Error(s)\n",
      "#----------------#\n",
      "#-------------------------#\n",
      " Get Training Error(s): END\n",
      "#-------------------------#\n"
     ]
    },
    {
     "name": "stderr",
     "output_type": "stream",
     "text": [
      "\n"
     ]
    }
   ],
   "source": [
    "print(\"#----------------#\")\n",
    "print(\" Get Test Error(s)\")\n",
    "print(\"#----------------#\")\n",
    "for i in tqdm(range((X_test.shape[0]))):\n",
    "    for j in range(N_Quantizers_to_parameterize):\n",
    "        b_loop_test = np.repeat(predicted_classes_test[i,j],N_Monte_Carlo_Samples)\n",
    "        if j == 0:\n",
    "            b_test = b_loop_test\n",
    "        else:\n",
    "            b_test = np.append(b,b_loop)\n",
    "        b_test = b_test.reshape(-1,1)\n",
    "    b_test = np.array(b,dtype=float).reshape(-1,)\n",
    "    b_test = b/N_Monte_Carlo_Samples\n",
    "    \n",
    "    # Compute Error(s)\n",
    "    ## W1\n",
    "    W1_loop_test = ot.emd2_1d(points_of_mass,\n",
    "                         np.array(Y_test[i,]).reshape(-1,),\n",
    "                         b,\n",
    "                         empirical_weights)\n",
    "    \n",
    "    ## M1\n",
    "    Mu_hat_test = np.sum(b_test*(points_of_mass))\n",
    "    Mu_MC_test = np.mean(np.array(Y_test[i,]))\n",
    "    if f_unknown_mode == \"Heteroskedastic_NonLinear_Regression\":\n",
    "        Mu_test = direct_facts_test[i,]\n",
    "    else:\n",
    "        Mu_test = Mu_MC_test\n",
    "    Mu_test = direct_facts_test[i,]\n",
    "    ### Error(s)\n",
    "    Mean_loop_test = (Mu_hat_test-Mu_test)\n",
    "    Mean_loop_MC_test = (Mu_hat_test-Mu_MC_test)\n",
    "    \n",
    "    ## M2\n",
    "    Var_hat_test = np.sum(((points_of_mass-Mu_hat_test)**2)*b)\n",
    "    Var_MC_test = np.mean(np.array(Y_test[i]-Mu_MC)**2)\n",
    "    if f_unknown_mode == \"Rough_SDE\":\n",
    "        Var_test = 2*np.sum(X_test[i,]**2)\n",
    "    else:\n",
    "        Var_test = Var_MC\n",
    "    \n",
    "    ### Error(s)\n",
    "    Var_loop_test = np.abs(Var_hat_test-Var_test)\n",
    "    Var_loop_MC_test = np.abs(Var_MC_test-Var_test)\n",
    "    \n",
    "    # Skewness\n",
    "    Skewness_hat_test = np.sum((((points_of_mass-Mu_hat_test)/Var_test)**3)*b)\n",
    "    Skewness_MC_test = np.mean((np.array(Y_test[i]-Mu_MC_test)/Var_MC_test)**3)\n",
    "    if f_unknown_mode == \"Heteroskedastic_NonLinear_Regression\":\n",
    "        Skewness_test = 0\n",
    "    else:\n",
    "        Skewness_test = Skewness_MC_test\n",
    "    ### Error(s)\n",
    "    Skewness_loop_test = np.abs(Skewness_hat_test-Skewness_test)\n",
    "    Skewness_loop_MC_test = np.abs(Skewness_MC_test-Skewness_test)\n",
    "    \n",
    "    # Skewness\n",
    "    Ex_Kurtosis_hat_test = np.sum((((points_of_mass-Mu_hat_test)/Var_test)**4)*b) - 3\n",
    "    Ex_Kurtosis_MC_test = np.mean((np.array(Y_test[i]-Mu_MC_test)/Var_MC_test)**4) - 3\n",
    "    if f_unknown_mode == \"Heteroskedastic_NonLinear_Regression\":\n",
    "        Ex_Kurtosis_test = 3\n",
    "    else:\n",
    "        Ex_Kurtosis_test = Ex_Kurtosis_MC_test\n",
    "    ### Error(s)\n",
    "    Ex_Kurtosis_loop_test = np.abs(Ex_Kurtosis_test-Ex_Kurtosis_hat_test)\n",
    "    Ex_Kurtosis_loop_MC_test = np.abs(Ex_Kurtosis_test-Ex_Kurtosis_MC_test)\n",
    "    \n",
    "    \n",
    "    # Get Higher Moments Loss\n",
    "    Higher_momentserrors_test_loop,Higher_MC_momentserrors_test_loop = Higher_Moments_Loss(b,np.array(Y_test[i,]))\n",
    "    Higher_Moments_Errors_test_loop = np.abs(Higher_momentserrors_test_loop-Higher_MC_momentserrors_test_loop)\n",
    "    \n",
    "    # Update\n",
    "    if i == 0:\n",
    "        W1_errors_test = W1_loop_test\n",
    "        # Moments\n",
    "        ## DNM\n",
    "        Mean_errors_test =  Mean_loop_test\n",
    "        Var_errors_test = Var_loop_test\n",
    "        Skewness_errors_test = Skewness_loop_test\n",
    "        Ex_Kurtosis_errors_test = Ex_Kurtosis_loop_test\n",
    "        ## Monte-Carlo\n",
    "        Mean_errors_MC_test =  Mean_loop_MC_test\n",
    "        Var_errors_MC_test = Var_loop_MC_test\n",
    "        Skewness_errors_MC_test = Skewness_loop_MC_test\n",
    "        Ex_Kurtosis_errors_MC_test = Ex_Kurtosis_loop_MC_test\n",
    "        # Higher Moments\n",
    "        Higher_Moments_test_Errors = Higher_Moments_Errors_test_loop\n",
    "        \n",
    "        \n",
    "    else:\n",
    "        W1_errors_test = np.append(W1_errors_test,W1_loop_test)\n",
    "        # Moments\n",
    "        ## DNM\n",
    "        Mean_errors_test =  np.append(Mean_errors_test,Mean_loop_test)\n",
    "        Var_errors_test = np.append(Var_errors_test,Var_loop_test)\n",
    "        Skewness_errors_test = np.append(Skewness_errors_test,Skewness_loop_test)\n",
    "        Ex_Kurtosis_errors_test = np.append(Ex_Kurtosis_errors_test,Ex_Kurtosis_loop_test)\n",
    "        ## Monte-Carlo\n",
    "        Mean_errors_MC_test =  np.append(Mean_errors_MC_test,Mean_loop_MC_test)\n",
    "        Var_errors_MC_test = np.append(Var_errors_MC_test,Var_loop_MC_test)\n",
    "        Skewness_errors_MC_test = np.append(Skewness_errors_MC_test,Skewness_loop_MC_test)\n",
    "        Ex_Kurtosis_errors_MC_test = np.append(Ex_Kurtosis_errors_MC_test,Ex_Kurtosis_loop_MC_test)\n",
    "        # Higher Moments\n",
    "        Higher_Moments_test_Errors = np.append(Higher_Moments_test_Errors,Higher_Moments_Errors_test_loop)\n",
    "        \n",
    "        \n",
    "print(\"#-------------------------#\")\n",
    "print(\" Get Training Error(s): END\")\n",
    "print(\"#-------------------------#\")"
   ]
  },
  {
   "cell_type": "markdown",
   "metadata": {},
   "source": [
    "#### Stop Timer"
   ]
  },
  {
   "cell_type": "code",
   "execution_count": 27,
   "metadata": {},
   "outputs": [],
   "source": [
    "# Stop Timer\n",
    "Type_A_timer_end = time.time()\n",
    "# Compute Lapsed Time Needed For Training\n",
    "Time_Lapse_Model_A = Type_A_timer_end - Type_A_timer_Begin"
   ]
  },
  {
   "cell_type": "markdown",
   "metadata": {},
   "source": [
    "---\n",
    "# Benchmarks\n",
    "---"
   ]
  },
  {
   "cell_type": "markdown",
   "metadata": {},
   "source": [
    "#### Run Pointmass Benchmark(s)\n",
    "These benchmarks consist of subsets of $C(\\mathbb{R}^d,\\mathbb{R})$ which we lift to models in $C(\\mathbb{R}^d,\\cap_{1\\leq q<\\infty}\\mathscr{P}_{q}(\\mathbb{R}))$ via:\n",
    "$$\n",
    "\\mathbb{R}^d \\ni x \\to f(x) \\to \\delta_{f(x)}\\in \\cap_{1\\leq q<\\infty}\\mathcal{P}_{q}(\\mathbb{R}).\n",
    "$$"
   ]
  },
  {
   "cell_type": "code",
   "execution_count": 28,
   "metadata": {},
   "outputs": [
    {
     "name": "stdout",
     "output_type": "stream",
     "text": [
      "Deep Feature Builder - Ready\n",
      "--------------\n",
      "Training: ENET\n",
      "--------------\n"
     ]
    },
    {
     "name": "stderr",
     "output_type": "stream",
     "text": [
      " 47%|████▋     | 47/100 [00:00<00:00, 463.44it/s]"
     ]
    },
    {
     "name": "stdout",
     "output_type": "stream",
     "text": [
      "#------------#\n",
      " Get Error(s) \n",
      "#------------#\n"
     ]
    },
    {
     "name": "stderr",
     "output_type": "stream",
     "text": [
      "100%|██████████| 100/100 [00:00<00:00, 463.78it/s]\n",
      "100%|██████████| 20/20 [00:00<00:00, 352.57it/s]\n",
      "[Parallel(n_jobs=4)]: Using backend LokyBackend with 4 concurrent workers.\n"
     ]
    },
    {
     "name": "stdout",
     "output_type": "stream",
     "text": [
      "#-----------------#\n",
      " Get Error(s): END \n",
      "#-----------------#\n",
      "#------------#\n",
      " Get Error(s) \n",
      "#------------#\n",
      "#-----------------#\n",
      " Get Error(s): END \n",
      "#-----------------#\n",
      "-----------------\n",
      "Training: K-Ridge\n",
      "-----------------\n",
      "Fitting 2 folds for each of 1 candidates, totalling 2 fits\n"
     ]
    },
    {
     "name": "stderr",
     "output_type": "stream",
     "text": [
      "[Parallel(n_jobs=4)]: Done   2 out of   2 | elapsed:    0.4s remaining:    0.0s\n",
      "[Parallel(n_jobs=4)]: Done   2 out of   2 | elapsed:    0.4s finished\n",
      " 21%|██        | 21/100 [00:00<00:00, 206.99it/s]"
     ]
    },
    {
     "name": "stdout",
     "output_type": "stream",
     "text": [
      "#------------#\n",
      " Get Error(s) \n",
      "#------------#\n"
     ]
    },
    {
     "name": "stderr",
     "output_type": "stream",
     "text": [
      "100%|██████████| 100/100 [00:00<00:00, 349.29it/s]\n",
      "100%|██████████| 20/20 [00:00<00:00, 464.65it/s]\n",
      "[Parallel(n_jobs=4)]: Using backend LokyBackend with 4 concurrent workers.\n"
     ]
    },
    {
     "name": "stdout",
     "output_type": "stream",
     "text": [
      "#-----------------#\n",
      " Get Error(s): END \n",
      "#-----------------#\n",
      "#------------#\n",
      " Get Error(s) \n",
      "#------------#\n",
      "#-----------------#\n",
      " Get Error(s): END \n",
      "#-----------------#\n",
      "--------------\n",
      "Training: GBRF\n",
      "--------------\n",
      "Fitting 2 folds for each of 1 candidates, totalling 2 fits\n"
     ]
    },
    {
     "name": "stderr",
     "output_type": "stream",
     "text": [
      "[Parallel(n_jobs=4)]: Done   2 out of   2 | elapsed:    0.3s remaining:    0.0s\n",
      "[Parallel(n_jobs=4)]: Done   2 out of   2 | elapsed:    0.3s finished\n",
      " 50%|█████     | 50/100 [00:00<00:00, 494.82it/s]"
     ]
    },
    {
     "name": "stdout",
     "output_type": "stream",
     "text": [
      "#------------#\n",
      " Get Error(s) \n",
      "#------------#\n"
     ]
    },
    {
     "name": "stderr",
     "output_type": "stream",
     "text": [
      "100%|██████████| 100/100 [00:00<00:00, 474.20it/s]\n",
      "100%|██████████| 20/20 [00:00<00:00, 407.29it/s]\n",
      "[Parallel(n_jobs=4)]: Using backend LokyBackend with 4 concurrent workers.\n"
     ]
    },
    {
     "name": "stdout",
     "output_type": "stream",
     "text": [
      "#-----------------#\n",
      " Get Error(s): END \n",
      "#-----------------#\n",
      "#------------#\n",
      " Get Error(s) \n",
      "#------------#\n",
      "#-----------------#\n",
      " Get Error(s): END \n",
      "#-----------------#\n",
      "-------------\n",
      "Training: DNN\n",
      "-------------\n",
      "Fitting 2 folds for each of 1 candidates, totalling 2 fits\n"
     ]
    },
    {
     "name": "stderr",
     "output_type": "stream",
     "text": [
      "[Parallel(n_jobs=4)]: Done   2 out of   2 | elapsed:    5.4s remaining:    0.0s\n",
      "[Parallel(n_jobs=4)]: Done   2 out of   2 | elapsed:    5.4s finished\n"
     ]
    },
    {
     "name": "stdout",
     "output_type": "stream",
     "text": [
      "Epoch 1/50\n",
      "4/4 [==============================] - 0s 2ms/step - loss: 1.0175 - mse: 1.1272 - mae: 1.0175 - mape: 107.3556\n",
      "Epoch 2/50\n",
      "4/4 [==============================] - 0s 3ms/step - loss: 1.0161 - mse: 1.1245 - mae: 1.0161 - mape: 107.1663\n",
      "Epoch 3/50\n",
      "4/4 [==============================] - 0s 2ms/step - loss: 1.0148 - mse: 1.1217 - mae: 1.0148 - mape: 106.9144\n",
      "Epoch 4/50\n",
      "4/4 [==============================] - 0s 4ms/step - loss: 1.0134 - mse: 1.1190 - mae: 1.0134 - mape: 106.6939\n",
      "Epoch 5/50\n",
      "4/4 [==============================] - 0s 4ms/step - loss: 1.0121 - mse: 1.1163 - mae: 1.0121 - mape: 106.4709\n",
      "Epoch 6/50\n",
      "4/4 [==============================] - 0s 3ms/step - loss: 1.0107 - mse: 1.1135 - mae: 1.0107 - mape: 106.2820\n",
      "Epoch 7/50\n",
      "4/4 [==============================] - 0s 3ms/step - loss: 1.0093 - mse: 1.1108 - mae: 1.0093 - mape: 106.0138\n",
      "Epoch 8/50\n",
      "4/4 [==============================] - 0s 4ms/step - loss: 1.0080 - mse: 1.1080 - mae: 1.0080 - mape: 105.8112\n",
      "Epoch 9/50\n",
      "4/4 [==============================] - 0s 3ms/step - loss: 1.0066 - mse: 1.1052 - mae: 1.0066 - mape: 105.6182\n",
      "Epoch 10/50\n",
      "4/4 [==============================] - 0s 2ms/step - loss: 1.0052 - mse: 1.1025 - mae: 1.0052 - mape: 105.3934\n",
      "Epoch 11/50\n",
      "4/4 [==============================] - 0s 3ms/step - loss: 1.0038 - mse: 1.0997 - mae: 1.0038 - mape: 105.1363\n",
      "Epoch 12/50\n",
      "4/4 [==============================] - 0s 3ms/step - loss: 1.0024 - mse: 1.0969 - mae: 1.0024 - mape: 104.9254\n",
      "Epoch 13/50\n",
      "4/4 [==============================] - 0s 2ms/step - loss: 1.0010 - mse: 1.0941 - mae: 1.0010 - mape: 104.7138\n",
      "Epoch 14/50\n",
      "4/4 [==============================] - 0s 4ms/step - loss: 0.9996 - mse: 1.0913 - mae: 0.9996 - mape: 104.4668\n",
      "Epoch 15/50\n",
      "4/4 [==============================] - 0s 2ms/step - loss: 0.9982 - mse: 1.0884 - mae: 0.9982 - mape: 104.2326\n",
      "Epoch 16/50\n",
      "4/4 [==============================] - 0s 2ms/step - loss: 0.9967 - mse: 1.0855 - mae: 0.9967 - mape: 104.0214\n",
      "Epoch 17/50\n",
      "4/4 [==============================] - 0s 3ms/step - loss: 0.9953 - mse: 1.0826 - mae: 0.9953 - mape: 103.7699\n",
      "Epoch 18/50\n",
      "4/4 [==============================] - 0s 3ms/step - loss: 0.9938 - mse: 1.0797 - mae: 0.9938 - mape: 103.5193\n",
      "Epoch 19/50\n",
      "4/4 [==============================] - 0s 4ms/step - loss: 0.9924 - mse: 1.0768 - mae: 0.9924 - mape: 103.2782\n",
      "Epoch 20/50\n",
      "4/4 [==============================] - 0s 4ms/step - loss: 0.9909 - mse: 1.0739 - mae: 0.9909 - mape: 103.0199\n",
      "Epoch 21/50\n",
      "4/4 [==============================] - 0s 3ms/step - loss: 0.9894 - mse: 1.0709 - mae: 0.9894 - mape: 102.8251\n",
      "Epoch 22/50\n",
      "4/4 [==============================] - 0s 4ms/step - loss: 0.9879 - mse: 1.0679 - mae: 0.9879 - mape: 102.5445\n",
      "Epoch 23/50\n",
      "4/4 [==============================] - 0s 4ms/step - loss: 0.9863 - mse: 1.0649 - mae: 0.9863 - mape: 102.3180\n",
      "Epoch 24/50\n",
      "4/4 [==============================] - 0s 2ms/step - loss: 0.9848 - mse: 1.0618 - mae: 0.9848 - mape: 102.0637\n",
      "Epoch 25/50\n",
      "4/4 [==============================] - 0s 3ms/step - loss: 0.9832 - mse: 1.0587 - mae: 0.9832 - mape: 101.8268\n",
      "Epoch 26/50\n",
      "4/4 [==============================] - 0s 4ms/step - loss: 0.9816 - mse: 1.0556 - mae: 0.9816 - mape: 101.5346\n",
      "Epoch 27/50\n",
      "4/4 [==============================] - 0s 2ms/step - loss: 0.9800 - mse: 1.0525 - mae: 0.9800 - mape: 101.2749\n",
      "Epoch 28/50\n",
      "4/4 [==============================] - 0s 2ms/step - loss: 0.9784 - mse: 1.0493 - mae: 0.9784 - mape: 101.0352\n",
      "Epoch 29/50\n",
      "4/4 [==============================] - 0s 5ms/step - loss: 0.9767 - mse: 1.0461 - mae: 0.9767 - mape: 100.7887\n",
      "Epoch 30/50\n",
      "4/4 [==============================] - 0s 3ms/step - loss: 0.9751 - mse: 1.0429 - mae: 0.9751 - mape: 100.5013\n",
      "Epoch 31/50\n",
      "4/4 [==============================] - 0s 3ms/step - loss: 0.9734 - mse: 1.0396 - mae: 0.9734 - mape: 100.2107\n",
      "Epoch 32/50\n",
      "4/4 [==============================] - 0s 2ms/step - loss: 0.9717 - mse: 1.0363 - mae: 0.9717 - mape: 99.9312\n",
      "Epoch 33/50\n",
      "4/4 [==============================] - 0s 3ms/step - loss: 0.9700 - mse: 1.0330 - mae: 0.9700 - mape: 99.6939\n",
      "Epoch 34/50\n",
      "4/4 [==============================] - 0s 3ms/step - loss: 0.9682 - mse: 1.0296 - mae: 0.9682 - mape: 99.4096\n",
      "Epoch 35/50\n",
      "4/4 [==============================] - 0s 3ms/step - loss: 0.9665 - mse: 1.0262 - mae: 0.9665 - mape: 99.0841\n",
      "Epoch 36/50\n",
      "4/4 [==============================] - 0s 3ms/step - loss: 0.9647 - mse: 1.0227 - mae: 0.9647 - mape: 98.8172\n",
      "Epoch 37/50\n",
      "4/4 [==============================] - 0s 3ms/step - loss: 0.9629 - mse: 1.0193 - mae: 0.9629 - mape: 98.5429\n",
      "Epoch 38/50\n",
      "4/4 [==============================] - 0s 2ms/step - loss: 0.9610 - mse: 1.0157 - mae: 0.9610 - mape: 98.2480\n",
      "Epoch 39/50\n",
      "4/4 [==============================] - 0s 2ms/step - loss: 0.9592 - mse: 1.0122 - mae: 0.9592 - mape: 97.9042\n",
      "Epoch 40/50\n",
      "4/4 [==============================] - 0s 3ms/step - loss: 0.9573 - mse: 1.0085 - mae: 0.9573 - mape: 97.6067\n",
      "Epoch 41/50\n",
      "4/4 [==============================] - 0s 3ms/step - loss: 0.9554 - mse: 1.0048 - mae: 0.9554 - mape: 97.3365\n",
      "Epoch 42/50\n",
      "4/4 [==============================] - 0s 2ms/step - loss: 0.9534 - mse: 1.0012 - mae: 0.9534 - mape: 96.9787\n",
      "Epoch 43/50\n",
      "4/4 [==============================] - 0s 4ms/step - loss: 0.9515 - mse: 0.9974 - mae: 0.9515 - mape: 96.7119\n",
      "Epoch 44/50\n",
      "4/4 [==============================] - 0s 3ms/step - loss: 0.9495 - mse: 0.9936 - mae: 0.9495 - mape: 96.3134\n",
      "Epoch 45/50\n",
      "4/4 [==============================] - 0s 3ms/step - loss: 0.9474 - mse: 0.9898 - mae: 0.9474 - mape: 96.0537\n",
      "Epoch 46/50\n",
      "4/4 [==============================] - 0s 3ms/step - loss: 0.9454 - mse: 0.9859 - mae: 0.9454 - mape: 95.6811\n",
      "Epoch 47/50\n",
      "4/4 [==============================] - 0s 2ms/step - loss: 0.9433 - mse: 0.9821 - mae: 0.9433 - mape: 95.4104\n",
      "Epoch 48/50\n",
      "4/4 [==============================] - 0s 3ms/step - loss: 0.9413 - mse: 0.9781 - mae: 0.9413 - mape: 95.2461\n",
      "Epoch 49/50\n",
      "4/4 [==============================] - 0s 3ms/step - loss: 0.9392 - mse: 0.9741 - mae: 0.9392 - mape: 95.1097\n",
      "Epoch 50/50\n",
      "4/4 [==============================] - 0s 3ms/step - loss: 0.9371 - mse: 0.9701 - mae: 0.9371 - mape: 94.9620\n",
      "4/4 [==============================] - 0s 2ms/step\n",
      "1/1 [==============================] - 0s 6ms/step\n"
     ]
    },
    {
     "name": "stderr",
     "output_type": "stream",
     "text": [
      "\r",
      "  0%|          | 0/100 [00:00<?, ?it/s]"
     ]
    },
    {
     "name": "stdout",
     "output_type": "stream",
     "text": [
      "#------------#\n",
      " Get Error(s) \n",
      "#------------#\n"
     ]
    },
    {
     "name": "stderr",
     "output_type": "stream",
     "text": [
      "100%|██████████| 100/100 [00:00<00:00, 318.71it/s]\n",
      "100%|██████████| 20/20 [00:00<00:00, 329.26it/s]\n"
     ]
    },
    {
     "name": "stdout",
     "output_type": "stream",
     "text": [
      "#-----------------#\n",
      " Get Error(s): END \n",
      "#-----------------#\n",
      "#------------#\n",
      " Get Error(s) \n",
      "#------------#\n",
      "#-----------------#\n",
      " Get Error(s): END \n",
      "#-----------------#\n",
      "-----------------------\n",
      "Computing Error Metrics\n",
      "-----------------------\n"
     ]
    }
   ],
   "source": [
    "exec(open('CV_Grid.py').read())\n",
    "# Notebook Mode:\n",
    "# %run Evaluation.ipynb\n",
    "# %run Benchmarks_Model_Builder_Pointmass_Based.ipynb\n",
    "# Terminal Mode (Default):\n",
    "exec(open('Evaluation.py').read())\n",
    "exec(open('Benchmarks_Model_Builder_Pointmass_Based.py').read())"
   ]
  },
  {
   "cell_type": "markdown",
   "metadata": {},
   "source": [
    "#### Run Gaussian Benchmark(s)"
   ]
  },
  {
   "cell_type": "markdown",
   "metadata": {},
   "source": [
    "These models train models which assume Gaussianity.  We may view these as models in $\\mathcal{P}_2(\\mathbb{R})$ via:\n",
    "$$\n",
    "\\mathbb{R}^d \\ni x \\to (\\hat{\\mu}(x),\\hat{\\sigma}(x))\\triangleq f(x) \\in \\mathbb{R}\\times [0,\\infty) \\to \\frac1{\\hat{\\sigma}(x)\\sqrt{2\\pi}}\\exp\\left(\\frac{-(\\cdot-\\hat{\\mu}(x))^2}{\\hat{\\sigma(x)}^2}\\right) \\in \\mathcal{G}_1\\subset \\mathcal{P}_2(\\mathbb{R});\n",
    "$$\n",
    "where $\\mathcal{G}_1$ is the set of Gaussian measures on $\\mathbb{R}$ equipped with the relative Wasserstein-1 topology."
   ]
  },
  {
   "cell_type": "code",
   "execution_count": 29,
   "metadata": {},
   "outputs": [
    {
     "name": "stdout",
     "output_type": "stream",
     "text": [
      "Deep Feature Builder - Ready\n",
      "Deep Feature Builder - Ready\n",
      "Fitting 2 folds for each of 1 candidates, totalling 2 fits\n"
     ]
    },
    {
     "name": "stderr",
     "output_type": "stream",
     "text": [
      "[Parallel(n_jobs=4)]: Using backend LokyBackend with 4 concurrent workers.\n",
      "[Parallel(n_jobs=4)]: Done   2 out of   2 | elapsed:    0.5s remaining:    0.0s\n",
      "[Parallel(n_jobs=4)]: Done   2 out of   2 | elapsed:    0.5s finished\n"
     ]
    },
    {
     "name": "stdout",
     "output_type": "stream",
     "text": [
      "===============================\n",
      "Training Deep Gaussian Network!\n",
      "===============================\n",
      "Fitting 2 folds for each of 1 candidates, totalling 2 fits\n"
     ]
    },
    {
     "name": "stderr",
     "output_type": "stream",
     "text": [
      "[Parallel(n_jobs=4)]: Using backend LokyBackend with 4 concurrent workers.\n",
      "[Parallel(n_jobs=4)]: Done   2 out of   2 | elapsed:    4.5s remaining:    0.0s\n",
      "[Parallel(n_jobs=4)]: Done   2 out of   2 | elapsed:    4.5s finished\n"
     ]
    },
    {
     "name": "stdout",
     "output_type": "stream",
     "text": [
      "Epoch 1/50\n",
      "4/4 [==============================] - 0s 1ms/step - loss: 3.4685 - mse: 21.8030 - mae: 3.4685 - mape: 89.8458\n",
      "Epoch 2/50\n",
      "4/4 [==============================] - 0s 2ms/step - loss: 3.4674 - mse: 21.7946 - mae: 3.4674 - mape: 89.7835\n",
      "Epoch 3/50\n",
      "4/4 [==============================] - 0s 4ms/step - loss: 3.4662 - mse: 21.7860 - mae: 3.4662 - mape: 89.7513\n",
      "Epoch 4/50\n",
      "4/4 [==============================] - 0s 2ms/step - loss: 3.4650 - mse: 21.7777 - mae: 3.4650 - mape: 89.7040\n",
      "Epoch 5/50\n",
      "4/4 [==============================] - 0s 3ms/step - loss: 3.4639 - mse: 21.7694 - mae: 3.4639 - mape: 89.6558\n",
      "Epoch 6/50\n",
      "4/4 [==============================] - 0s 5ms/step - loss: 3.4627 - mse: 21.7608 - mae: 3.4627 - mape: 89.5937\n",
      "Epoch 7/50\n",
      "4/4 [==============================] - 0s 3ms/step - loss: 3.4615 - mse: 21.7523 - mae: 3.4615 - mape: 89.5691\n",
      "Epoch 8/50\n",
      "4/4 [==============================] - 0s 3ms/step - loss: 3.4604 - mse: 21.7438 - mae: 3.4604 - mape: 89.5158\n",
      "Epoch 9/50\n",
      "4/4 [==============================] - 0s 3ms/step - loss: 3.4592 - mse: 21.7354 - mae: 3.4592 - mape: 89.4525\n",
      "Epoch 10/50\n",
      "4/4 [==============================] - 0s 3ms/step - loss: 3.4580 - mse: 21.7268 - mae: 3.4580 - mape: 89.4044\n",
      "Epoch 11/50\n",
      "4/4 [==============================] - 0s 3ms/step - loss: 3.4568 - mse: 21.7180 - mae: 3.4568 - mape: 89.3720\n",
      "Epoch 12/50\n",
      "4/4 [==============================] - 0s 3ms/step - loss: 3.4556 - mse: 21.7093 - mae: 3.4556 - mape: 89.3152\n",
      "Epoch 13/50\n",
      "4/4 [==============================] - 0s 4ms/step - loss: 3.4543 - mse: 21.7003 - mae: 3.4543 - mape: 89.2579\n",
      "Epoch 14/50\n",
      "4/4 [==============================] - 0s 3ms/step - loss: 3.4531 - mse: 21.6912 - mae: 3.4531 - mape: 89.2157\n",
      "Epoch 15/50\n",
      "4/4 [==============================] - 0s 4ms/step - loss: 3.4518 - mse: 21.6823 - mae: 3.4518 - mape: 89.1643\n",
      "Epoch 16/50\n",
      "4/4 [==============================] - 0s 3ms/step - loss: 3.4505 - mse: 21.6730 - mae: 3.4505 - mape: 89.1078\n",
      "Epoch 17/50\n",
      "4/4 [==============================] - 0s 4ms/step - loss: 3.4493 - mse: 21.6639 - mae: 3.4493 - mape: 89.0649\n",
      "Epoch 18/50\n",
      "4/4 [==============================] - 0s 3ms/step - loss: 3.4480 - mse: 21.6544 - mae: 3.4480 - mape: 89.0231\n",
      "Epoch 19/50\n",
      "4/4 [==============================] - 0s 3ms/step - loss: 3.4467 - mse: 21.6449 - mae: 3.4467 - mape: 88.9700\n",
      "Epoch 20/50\n",
      "4/4 [==============================] - 0s 3ms/step - loss: 3.4453 - mse: 21.6355 - mae: 3.4453 - mape: 88.9259\n",
      "Epoch 21/50\n",
      "4/4 [==============================] - 0s 4ms/step - loss: 3.4440 - mse: 21.6258 - mae: 3.4440 - mape: 88.8463\n",
      "Epoch 22/50\n",
      "4/4 [==============================] - 0s 3ms/step - loss: 3.4427 - mse: 21.6160 - mae: 3.4427 - mape: 88.8102\n",
      "Epoch 23/50\n",
      "4/4 [==============================] - 0s 4ms/step - loss: 3.4413 - mse: 21.6062 - mae: 3.4413 - mape: 88.7490\n",
      "Epoch 24/50\n",
      "4/4 [==============================] - 0s 2ms/step - loss: 3.4399 - mse: 21.5962 - mae: 3.4399 - mape: 88.6933\n",
      "Epoch 25/50\n",
      "4/4 [==============================] - 0s 3ms/step - loss: 3.4385 - mse: 21.5859 - mae: 3.4385 - mape: 88.6283\n",
      "Epoch 26/50\n",
      "4/4 [==============================] - 0s 4ms/step - loss: 3.4371 - mse: 21.5758 - mae: 3.4371 - mape: 88.5904\n",
      "Epoch 27/50\n",
      "4/4 [==============================] - 0s 3ms/step - loss: 3.4356 - mse: 21.5652 - mae: 3.4356 - mape: 88.5334\n",
      "Epoch 28/50\n",
      "4/4 [==============================] - 0s 3ms/step - loss: 3.4342 - mse: 21.5548 - mae: 3.4342 - mape: 88.4679\n",
      "Epoch 29/50\n",
      "4/4 [==============================] - 0s 2ms/step - loss: 3.4327 - mse: 21.5440 - mae: 3.4327 - mape: 88.4004\n",
      "Epoch 30/50\n",
      "4/4 [==============================] - 0s 3ms/step - loss: 3.4312 - mse: 21.5331 - mae: 3.4312 - mape: 88.3506\n",
      "Epoch 31/50\n",
      "4/4 [==============================] - 0s 3ms/step - loss: 3.4297 - mse: 21.5221 - mae: 3.4297 - mape: 88.3006\n",
      "Epoch 32/50\n",
      "4/4 [==============================] - 0s 3ms/step - loss: 3.4282 - mse: 21.5110 - mae: 3.4282 - mape: 88.2381\n",
      "Epoch 33/50\n",
      "4/4 [==============================] - 0s 2ms/step - loss: 3.4266 - mse: 21.4999 - mae: 3.4266 - mape: 88.1577\n",
      "Epoch 34/50\n",
      "4/4 [==============================] - 0s 2ms/step - loss: 3.4250 - mse: 21.4883 - mae: 3.4250 - mape: 88.0946\n",
      "Epoch 35/50\n",
      "4/4 [==============================] - 0s 3ms/step - loss: 3.4234 - mse: 21.4766 - mae: 3.4234 - mape: 88.0520\n",
      "Epoch 36/50\n",
      "4/4 [==============================] - 0s 2ms/step - loss: 3.4218 - mse: 21.4651 - mae: 3.4218 - mape: 87.9785\n",
      "Epoch 37/50\n",
      "4/4 [==============================] - 0s 4ms/step - loss: 3.4202 - mse: 21.4532 - mae: 3.4202 - mape: 87.9026\n",
      "Epoch 38/50\n",
      "4/4 [==============================] - 0s 3ms/step - loss: 3.4185 - mse: 21.4412 - mae: 3.4185 - mape: 87.8377\n",
      "Epoch 39/50\n",
      "4/4 [==============================] - 0s 4ms/step - loss: 3.4169 - mse: 21.4290 - mae: 3.4169 - mape: 87.7920\n",
      "Epoch 40/50\n",
      "4/4 [==============================] - 0s 3ms/step - loss: 3.4151 - mse: 21.4165 - mae: 3.4151 - mape: 87.7283\n",
      "Epoch 41/50\n",
      "4/4 [==============================] - 0s 3ms/step - loss: 3.4134 - mse: 21.4041 - mae: 3.4134 - mape: 87.6364\n",
      "Epoch 42/50\n",
      "4/4 [==============================] - 0s 3ms/step - loss: 3.4117 - mse: 21.3914 - mae: 3.4117 - mape: 87.5891\n",
      "Epoch 43/50\n",
      "4/4 [==============================] - 0s 3ms/step - loss: 3.4099 - mse: 21.3783 - mae: 3.4099 - mape: 87.4998\n",
      "Epoch 44/50\n",
      "4/4 [==============================] - 0s 4ms/step - loss: 3.4081 - mse: 21.3653 - mae: 3.4081 - mape: 87.4598\n",
      "Epoch 45/50\n",
      "4/4 [==============================] - 0s 2ms/step - loss: 3.4063 - mse: 21.3522 - mae: 3.4063 - mape: 87.3536\n",
      "Epoch 46/50\n",
      "4/4 [==============================] - 0s 3ms/step - loss: 3.4045 - mse: 21.3390 - mae: 3.4045 - mape: 87.3070\n",
      "Epoch 47/50\n",
      "4/4 [==============================] - 0s 3ms/step - loss: 3.4026 - mse: 21.3254 - mae: 3.4026 - mape: 87.2318\n",
      "Epoch 48/50\n",
      "4/4 [==============================] - 0s 2ms/step - loss: 3.4007 - mse: 21.3117 - mae: 3.4007 - mape: 87.1472\n",
      "Epoch 49/50\n",
      "4/4 [==============================] - 0s 4ms/step - loss: 3.3988 - mse: 21.2980 - mae: 3.3988 - mape: 87.0751\n",
      "Epoch 50/50\n",
      "4/4 [==============================] - 0s 2ms/step - loss: 3.3969 - mse: 21.2835 - mae: 3.3969 - mape: 86.9981\n",
      "4/4 [==============================] - 0s 1ms/step\n",
      "1/1 [==============================] - 0s 2ms/step\n"
     ]
    },
    {
     "name": "stderr",
     "output_type": "stream",
     "text": [
      "\r",
      "  0%|          | 0/100 [00:00<?, ?it/s]"
     ]
    },
    {
     "name": "stdout",
     "output_type": "stream",
     "text": [
      "====================================\n",
      "Training Deep Gaussian Network!: END\n",
      "====================================\n",
      "#---------------------------------------#\n",
      " Get Training Errors for: Gaussian Models\n",
      "#---------------------------------------#\n"
     ]
    },
    {
     "name": "stderr",
     "output_type": "stream",
     "text": [
      "\r",
      "100%|██████████| 100/100 [00:00<00:00, 1094.50it/s]"
     ]
    },
    {
     "name": "stdout",
     "output_type": "stream",
     "text": [
      "#-------------------------#\n",
      " Get Training Error(s): END\n",
      "#-------------------------#\n"
     ]
    },
    {
     "name": "stderr",
     "output_type": "stream",
     "text": [
      "\n"
     ]
    }
   ],
   "source": [
    "%run Benchmarks_Model_Builder_Mean_Var.ipynb\n",
    "# exec(open('Benchmarks_Model_Builder_Mean_Var.py').read())"
   ]
  },
  {
   "cell_type": "markdown",
   "metadata": {},
   "source": [
    "# Summary of Mean-Centric Regression Models"
   ]
  },
  {
   "cell_type": "markdown",
   "metadata": {},
   "source": [
    "#### Training Model Facts"
   ]
  },
  {
   "cell_type": "code",
   "execution_count": 30,
   "metadata": {},
   "outputs": [
    {
     "name": "stdout",
     "output_type": "stream",
     "text": [
      "                ENET      kRidge        GBRF        ffNN\n",
      "W1          7.021489    7.021269    7.069638    8.001986\n",
      "Mean        1.020414    1.013535    1.095907    0.081151\n",
      "Var         6.283783    6.283783    6.283783    6.283783\n",
      "Skewness    0.000000    0.000000    0.000000    0.000000\n",
      "Ex_Kur      6.000000    6.000000    6.000000    6.000000\n",
      "Higher    700.561885  700.561885  700.561885  700.561885\n"
     ]
    },
    {
     "data": {
      "text/html": [
       "<div>\n",
       "<style scoped>\n",
       "    .dataframe tbody tr th:only-of-type {\n",
       "        vertical-align: middle;\n",
       "    }\n",
       "\n",
       "    .dataframe tbody tr th {\n",
       "        vertical-align: top;\n",
       "    }\n",
       "\n",
       "    .dataframe thead th {\n",
       "        text-align: right;\n",
       "    }\n",
       "</style>\n",
       "<table border=\"1\" class=\"dataframe\">\n",
       "  <thead>\n",
       "    <tr style=\"text-align: right;\">\n",
       "      <th></th>\n",
       "      <th>ENET</th>\n",
       "      <th>kRidge</th>\n",
       "      <th>GBRF</th>\n",
       "      <th>ffNN</th>\n",
       "    </tr>\n",
       "  </thead>\n",
       "  <tbody>\n",
       "    <tr>\n",
       "      <th>W1</th>\n",
       "      <td>7.021489</td>\n",
       "      <td>7.021269</td>\n",
       "      <td>7.069638</td>\n",
       "      <td>8.001986</td>\n",
       "    </tr>\n",
       "    <tr>\n",
       "      <th>Mean</th>\n",
       "      <td>1.020414</td>\n",
       "      <td>1.013535</td>\n",
       "      <td>1.095907</td>\n",
       "      <td>0.081151</td>\n",
       "    </tr>\n",
       "    <tr>\n",
       "      <th>Var</th>\n",
       "      <td>6.283783</td>\n",
       "      <td>6.283783</td>\n",
       "      <td>6.283783</td>\n",
       "      <td>6.283783</td>\n",
       "    </tr>\n",
       "    <tr>\n",
       "      <th>Skewness</th>\n",
       "      <td>0.000000</td>\n",
       "      <td>0.000000</td>\n",
       "      <td>0.000000</td>\n",
       "      <td>0.000000</td>\n",
       "    </tr>\n",
       "    <tr>\n",
       "      <th>Ex_Kur</th>\n",
       "      <td>6.000000</td>\n",
       "      <td>6.000000</td>\n",
       "      <td>6.000000</td>\n",
       "      <td>6.000000</td>\n",
       "    </tr>\n",
       "    <tr>\n",
       "      <th>Higher</th>\n",
       "      <td>700.561885</td>\n",
       "      <td>700.561885</td>\n",
       "      <td>700.561885</td>\n",
       "      <td>700.561885</td>\n",
       "    </tr>\n",
       "  </tbody>\n",
       "</table>\n",
       "</div>"
      ],
      "text/plain": [
       "                ENET      kRidge        GBRF        ffNN\n",
       "W1          7.021489    7.021269    7.069638    8.001986\n",
       "Mean        1.020414    1.013535    1.095907    0.081151\n",
       "Var         6.283783    6.283783    6.283783    6.283783\n",
       "Skewness    0.000000    0.000000    0.000000    0.000000\n",
       "Ex_Kur      6.000000    6.000000    6.000000    6.000000\n",
       "Higher    700.561885  700.561885  700.561885  700.561885"
      ]
     },
     "execution_count": 30,
     "metadata": {},
     "output_type": "execute_result"
    }
   ],
   "source": [
    "print(Summary_pred_Qual_models)\n",
    "Summary_pred_Qual_models"
   ]
  },
  {
   "cell_type": "markdown",
   "metadata": {},
   "source": [
    "#### Testing Model Facts"
   ]
  },
  {
   "cell_type": "code",
   "execution_count": 31,
   "metadata": {},
   "outputs": [
    {
     "name": "stdout",
     "output_type": "stream",
     "text": [
      "                ENET      kRidge        GBRF        ffNN\n",
      "W1          7.105493    7.105166    7.016260    7.980921\n",
      "Mean        1.020126    1.013256    1.020126    0.084717\n",
      "Var         6.902197    6.902197    6.902197    6.902197\n",
      "Skewness    0.000000    0.000000    0.000000    0.000000\n",
      "Ex_Kur      6.000000    6.000000    6.000000    6.000000\n",
      "Higher    599.550467  599.550467  599.550467  599.550467\n"
     ]
    },
    {
     "data": {
      "text/html": [
       "<div>\n",
       "<style scoped>\n",
       "    .dataframe tbody tr th:only-of-type {\n",
       "        vertical-align: middle;\n",
       "    }\n",
       "\n",
       "    .dataframe tbody tr th {\n",
       "        vertical-align: top;\n",
       "    }\n",
       "\n",
       "    .dataframe thead th {\n",
       "        text-align: right;\n",
       "    }\n",
       "</style>\n",
       "<table border=\"1\" class=\"dataframe\">\n",
       "  <thead>\n",
       "    <tr style=\"text-align: right;\">\n",
       "      <th></th>\n",
       "      <th>ENET</th>\n",
       "      <th>kRidge</th>\n",
       "      <th>GBRF</th>\n",
       "      <th>ffNN</th>\n",
       "    </tr>\n",
       "  </thead>\n",
       "  <tbody>\n",
       "    <tr>\n",
       "      <th>W1</th>\n",
       "      <td>7.105493</td>\n",
       "      <td>7.105166</td>\n",
       "      <td>7.016260</td>\n",
       "      <td>7.980921</td>\n",
       "    </tr>\n",
       "    <tr>\n",
       "      <th>Mean</th>\n",
       "      <td>1.020126</td>\n",
       "      <td>1.013256</td>\n",
       "      <td>1.020126</td>\n",
       "      <td>0.084717</td>\n",
       "    </tr>\n",
       "    <tr>\n",
       "      <th>Var</th>\n",
       "      <td>6.902197</td>\n",
       "      <td>6.902197</td>\n",
       "      <td>6.902197</td>\n",
       "      <td>6.902197</td>\n",
       "    </tr>\n",
       "    <tr>\n",
       "      <th>Skewness</th>\n",
       "      <td>0.000000</td>\n",
       "      <td>0.000000</td>\n",
       "      <td>0.000000</td>\n",
       "      <td>0.000000</td>\n",
       "    </tr>\n",
       "    <tr>\n",
       "      <th>Ex_Kur</th>\n",
       "      <td>6.000000</td>\n",
       "      <td>6.000000</td>\n",
       "      <td>6.000000</td>\n",
       "      <td>6.000000</td>\n",
       "    </tr>\n",
       "    <tr>\n",
       "      <th>Higher</th>\n",
       "      <td>599.550467</td>\n",
       "      <td>599.550467</td>\n",
       "      <td>599.550467</td>\n",
       "      <td>599.550467</td>\n",
       "    </tr>\n",
       "  </tbody>\n",
       "</table>\n",
       "</div>"
      ],
      "text/plain": [
       "                ENET      kRidge        GBRF        ffNN\n",
       "W1          7.105493    7.105166    7.016260    7.980921\n",
       "Mean        1.020126    1.013256    1.020126    0.084717\n",
       "Var         6.902197    6.902197    6.902197    6.902197\n",
       "Skewness    0.000000    0.000000    0.000000    0.000000\n",
       "Ex_Kur      6.000000    6.000000    6.000000    6.000000\n",
       "Higher    599.550467  599.550467  599.550467  599.550467"
      ]
     },
     "execution_count": 31,
     "metadata": {},
     "output_type": "execute_result"
    }
   ],
   "source": [
    "print(Summary_pred_Qual_models_test)\n",
    "Summary_pred_Qual_models_test"
   ]
  },
  {
   "cell_type": "markdown",
   "metadata": {},
   "source": [
    "#### Model Complexitie(s)"
   ]
  },
  {
   "cell_type": "code",
   "execution_count": 32,
   "metadata": {},
   "outputs": [
    {
     "name": "stdout",
     "output_type": "stream",
     "text": [
      "        N_Params    T_Time  T_Test/T_test-MC\n",
      "ENET           6  5.472578          0.010444\n",
      "GBRF       67602  0.901075          0.092355\n",
      "kRidge        12  0.866770          0.043056\n",
      "ffNN         101  8.351452          9.640621\n"
     ]
    },
    {
     "data": {
      "text/html": [
       "<div>\n",
       "<style scoped>\n",
       "    .dataframe tbody tr th:only-of-type {\n",
       "        vertical-align: middle;\n",
       "    }\n",
       "\n",
       "    .dataframe tbody tr th {\n",
       "        vertical-align: top;\n",
       "    }\n",
       "\n",
       "    .dataframe thead th {\n",
       "        text-align: right;\n",
       "    }\n",
       "</style>\n",
       "<table border=\"1\" class=\"dataframe\">\n",
       "  <thead>\n",
       "    <tr style=\"text-align: right;\">\n",
       "      <th></th>\n",
       "      <th>N_Params</th>\n",
       "      <th>T_Time</th>\n",
       "      <th>T_Test/T_test-MC</th>\n",
       "    </tr>\n",
       "  </thead>\n",
       "  <tbody>\n",
       "    <tr>\n",
       "      <th>ENET</th>\n",
       "      <td>6</td>\n",
       "      <td>5.472578</td>\n",
       "      <td>0.010444</td>\n",
       "    </tr>\n",
       "    <tr>\n",
       "      <th>GBRF</th>\n",
       "      <td>67602</td>\n",
       "      <td>0.901075</td>\n",
       "      <td>0.092355</td>\n",
       "    </tr>\n",
       "    <tr>\n",
       "      <th>kRidge</th>\n",
       "      <td>12</td>\n",
       "      <td>0.866770</td>\n",
       "      <td>0.043056</td>\n",
       "    </tr>\n",
       "    <tr>\n",
       "      <th>ffNN</th>\n",
       "      <td>101</td>\n",
       "      <td>8.351452</td>\n",
       "      <td>9.640621</td>\n",
       "    </tr>\n",
       "  </tbody>\n",
       "</table>\n",
       "</div>"
      ],
      "text/plain": [
       "        N_Params    T_Time  T_Test/T_test-MC\n",
       "ENET           6  5.472578          0.010444\n",
       "GBRF       67602  0.901075          0.092355\n",
       "kRidge        12  0.866770          0.043056\n",
       "ffNN         101  8.351452          9.640621"
      ]
     },
     "execution_count": 32,
     "metadata": {},
     "output_type": "execute_result"
    }
   ],
   "source": [
    "print(Summary_Complexity_models)\n",
    "Summary_Complexity_models"
   ]
  },
  {
   "cell_type": "markdown",
   "metadata": {},
   "source": [
    "## Mean+Variance Based Model(s)"
   ]
  },
  {
   "cell_type": "code",
   "execution_count": 71,
   "metadata": {},
   "outputs": [
    {
     "name": "stderr",
     "output_type": "stream",
     "text": [
      "100%|██████████| 20/20 [00:00<00:00, 1484.63it/s]"
     ]
    },
    {
     "name": "stdout",
     "output_type": "stream",
     "text": [
      "#---------------------------------------#\n",
      " Get Testing Errors for: Gaussian Models\n",
      "#---------------------------------------#\n",
      "#------------------------#\n",
      " Get Testing Error(s): END\n",
      "#------------------------#\n"
     ]
    },
    {
     "name": "stderr",
     "output_type": "stream",
     "text": [
      "\n"
     ]
    }
   ],
   "source": [
    "%run Benchmarks_Model_Builder_Mean_Var.ipynb\n",
    "# exec(open('Benchmarks_Model_Builder_Mean_Var.py').read())"
   ]
  },
  {
   "cell_type": "code",
   "execution_count": 73,
   "metadata": {},
   "outputs": [
    {
     "data": {
      "text/plain": [
       "array([array([5.60184214, 6.68513957, 8.18844794]),\n",
       "       array([ 0.23382376,  0.46444047,  0.15443261, -0.12195669,  0.06803102,\n",
       "        0.07913435, -0.11104627,  0.18173762,  0.22221097, -0.60228712,\n",
       "       -0.1460518 , -0.43205251,  0.35017788, -1.19281747,  0.41104533,\n",
       "        0.38669295,  0.02096996,  0.76324378, -0.41241533,  0.10965739]),\n",
       "       array([5.47118035, 6.26243476, 6.95933179]), array([0., 0., 0.]),\n",
       "       array([3., 3., 3.])], dtype=object)"
      ]
     },
     "execution_count": 73,
     "metadata": {},
     "output_type": "execute_result"
    }
   ],
   "source": [
    "Summary_pred_Qual_models_GPR_test"
   ]
  },
  {
   "cell_type": "markdown",
   "metadata": {},
   "source": [
    "---\n",
    "\n",
    "---\n",
    "\n",
    "---"
   ]
  },
  {
   "cell_type": "markdown",
   "metadata": {},
   "source": [
    "## Get Moment Predictions"
   ]
  },
  {
   "cell_type": "markdown",
   "metadata": {},
   "source": [
    "#### Write Predictions"
   ]
  },
  {
   "cell_type": "markdown",
   "metadata": {},
   "source": [
    "### Training-Set Result(s): "
   ]
  },
  {
   "cell_type": "code",
   "execution_count": 35,
   "metadata": {},
   "outputs": [
    {
     "name": "stdout",
     "output_type": "stream",
     "text": [
      "                          N_Centers  N_Q  N_Params  Training Time  \\\n",
      "Model_Complexity_metrics         50  100      1130     7.3712E+00   \n",
      "\n",
      "                          T_Test/T_Test-MC  Time Test  Time EM-MC  \n",
      "Model_Complexity_metrics        6.4897E+00 6.5188E-02  1.0045E-02  \n",
      "              W1         M1      M1_MC        Var     Var_MC       Skew  \\\n",
      "Train 6.1491E-01 1.0902E+00 2.3797E-01 1.4873E+00 1.3361E+00 2.2883E-02   \n",
      "Test  7.3832E-01 5.6005E-02 1.0175E+00 5.0728E+00 6.2828E+00 1.2417E-02   \n",
      "\n",
      "         Skew_MC     Ex_Kur  Ex_Kur_MC       High  N_Centers  N_Q  N_Params  \\\n",
      "Train 2.8985E-02 5.6647E+00 5.8400E+00 5.9955E+02         50  100      1130   \n",
      "Test  3.1887E-02 5.9878E+00 5.8452E+00 7.0056E+02         50  100      1130   \n",
      "\n",
      "       Training Time  T_Test/T_Test-MC  Problem_Dimension  \n",
      "Train     7.3712E+00        6.4897E+00                  3  \n",
      "Test      7.3712E+00        6.4897E+00                  3  \n"
     ]
    }
   ],
   "source": [
    "#---------------------------------------------------------------------------------------------#\n",
    "W1_95 = bootstrap(W1_errors, n=1000, func=np.mean)(.95)\n",
    "W1_99 = bootstrap(W1_errors, n=1000, func=np.mean)(.99)\n",
    "#---------------------------------------------------------------------------------------------#\n",
    "Model_Complexity = pd.DataFrame({\"N_Centers\":N_Quantizers_to_parameterize,\n",
    "                                 \"N_Q\":N_Monte_Carlo_Samples,\n",
    "                                 \"N_Params\":N_params_deep_classifier,\n",
    "                                 \"Training Time\":Time_Lapse_Model_A,\n",
    "                                 \"T_Test/T_Test-MC\": (timer_output/Test_Set_PredictionTime_MC),\n",
    "                                 \"Time Test\": timer_output,\n",
    "                                 \"Time EM-MC\": Test_Set_PredictionTime_MC},index=[\"Model_Complexity_metrics\"])\n",
    "\n",
    "#---------------------------------------------------------------------------------------------#\n",
    "# Compute Error Statistics/Descriptors\n",
    "Summary = pd.DataFrame({\"W1\":np.array([np.mean(np.abs(W1_errors)),np.mean(np.abs(W1_errors_test))]),\n",
    "                        \"M1\":np.array([np.mean(np.abs(Mean_errors)),np.mean(np.abs(Mean_errors_test))]),\n",
    "                        \"M1_MC\":np.array([np.mean(np.abs(Mean_errors_MC)),np.mean(np.abs(Mean_errors_MC_test))]),\n",
    "                        \"Var\":np.array([np.mean(np.abs(Var_errors)),np.mean(np.abs(Var_errors_test))]),\n",
    "                        \"Var_MC\":np.array([np.mean(np.abs(Var_errors_MC)),np.mean(np.abs(Var_errors_MC_test))]),\n",
    "                        \"Skew\":np.array([np.mean(np.abs(Skewness_errors)),np.mean(np.abs(Skewness_errors_test))]),\n",
    "                        \"Skew_MC\":np.array([np.mean(np.abs(Skewness_errors_MC)),np.mean(np.abs(Skewness_errors_MC_test))]),\n",
    "                        \"Ex_Kur\":np.array([np.mean(np.abs(Ex_Kurtosis_errors)),np.mean(np.abs(Ex_Kurtosis_errors_test))]),\n",
    "                        \"Ex_Kur_MC\":np.array([np.mean(np.abs(Ex_Kurtosis_errors_MC)),np.mean(np.abs(Ex_Kurtosis_errors_MC_test))]),\n",
    "                        \"High\": np.array([np.mean(np.abs(Higher_Moments_Errors)),np.mean(np.abs(Higher_Moments_test_Errors))]),\n",
    "                        \"N_Centers\":np.array((N_Quantizers_to_parameterize,N_Quantizers_to_parameterize)),\n",
    "                        \"N_Q\":np.array((N_Monte_Carlo_Samples,N_Monte_Carlo_Samples)),\n",
    "                        \"N_Params\":np.array((N_params_deep_classifier,N_params_deep_classifier)),\n",
    "                        \"Training Time\":np.array((Time_Lapse_Model_A,Time_Lapse_Model_A)),\n",
    "                        \"T_Test/T_Test-MC\":np.array(((timer_output/Test_Set_PredictionTime_MC),(timer_output/Test_Set_PredictionTime_MC))),\n",
    "                        \"Problem_Dimension\":np.array((problem_dim,problem_dim))\n",
    "                       },index=[\"Train\",\"Test\"])\n",
    "\n",
    "\n",
    "# Write Performance Metrics to file #\n",
    "#-----------------------------------#\n",
    "pd.set_option('display.float_format', '{:.4E}'.format)\n",
    "Model_Complexity.to_latex((results_tables_path+\"Latent_Width_NSDE\"+str(width)+\"Problemdimension\"+str(problem_dim)+\"__ModelComplexities.tex\"))\n",
    "pd.set_option('display.float_format', '{:.4E}'.format)\n",
    "Summary.to_latex((results_tables_path+\"Latent_Width_NSDE\"+str(width)+\"Problemdimension\"+str(problem_dim)+\"__SUMMARY_METRICS.tex\"))\n",
    "\n",
    "\n",
    "#---------------------------------------------------------------------------------------------#\n",
    "# Update User\n",
    "print(Model_Complexity)\n",
    "print(Summary)"
   ]
  },
  {
   "cell_type": "markdown",
   "metadata": {},
   "source": [
    "# Update User"
   ]
  },
  {
   "cell_type": "markdown",
   "metadata": {},
   "source": [
    "## Prediction Quality"
   ]
  },
  {
   "cell_type": "code",
   "execution_count": 36,
   "metadata": {},
   "outputs": [
    {
     "data": {
      "text/html": [
       "<div>\n",
       "<style scoped>\n",
       "    .dataframe tbody tr th:only-of-type {\n",
       "        vertical-align: middle;\n",
       "    }\n",
       "\n",
       "    .dataframe tbody tr th {\n",
       "        vertical-align: top;\n",
       "    }\n",
       "\n",
       "    .dataframe thead th {\n",
       "        text-align: right;\n",
       "    }\n",
       "</style>\n",
       "<table border=\"1\" class=\"dataframe\">\n",
       "  <thead>\n",
       "    <tr style=\"text-align: right;\">\n",
       "      <th></th>\n",
       "      <th>W1</th>\n",
       "      <th>M1</th>\n",
       "      <th>M1_MC</th>\n",
       "      <th>Var</th>\n",
       "      <th>Var_MC</th>\n",
       "      <th>Skew</th>\n",
       "      <th>Skew_MC</th>\n",
       "      <th>Ex_Kur</th>\n",
       "      <th>Ex_Kur_MC</th>\n",
       "      <th>High</th>\n",
       "      <th>N_Centers</th>\n",
       "      <th>N_Q</th>\n",
       "      <th>N_Params</th>\n",
       "      <th>Training Time</th>\n",
       "      <th>T_Test/T_Test-MC</th>\n",
       "      <th>Problem_Dimension</th>\n",
       "    </tr>\n",
       "  </thead>\n",
       "  <tbody>\n",
       "    <tr>\n",
       "      <th>Train</th>\n",
       "      <td>6.1491E-01</td>\n",
       "      <td>1.0902E+00</td>\n",
       "      <td>2.3797E-01</td>\n",
       "      <td>1.4873E+00</td>\n",
       "      <td>1.3361E+00</td>\n",
       "      <td>2.2883E-02</td>\n",
       "      <td>2.8985E-02</td>\n",
       "      <td>5.6647E+00</td>\n",
       "      <td>5.8400E+00</td>\n",
       "      <td>5.9955E+02</td>\n",
       "      <td>50</td>\n",
       "      <td>100</td>\n",
       "      <td>1130</td>\n",
       "      <td>7.3712E+00</td>\n",
       "      <td>6.4897E+00</td>\n",
       "      <td>3</td>\n",
       "    </tr>\n",
       "    <tr>\n",
       "      <th>Test</th>\n",
       "      <td>7.3832E-01</td>\n",
       "      <td>5.6005E-02</td>\n",
       "      <td>1.0175E+00</td>\n",
       "      <td>5.0728E+00</td>\n",
       "      <td>6.2828E+00</td>\n",
       "      <td>1.2417E-02</td>\n",
       "      <td>3.1887E-02</td>\n",
       "      <td>5.9878E+00</td>\n",
       "      <td>5.8452E+00</td>\n",
       "      <td>7.0056E+02</td>\n",
       "      <td>50</td>\n",
       "      <td>100</td>\n",
       "      <td>1130</td>\n",
       "      <td>7.3712E+00</td>\n",
       "      <td>6.4897E+00</td>\n",
       "      <td>3</td>\n",
       "    </tr>\n",
       "  </tbody>\n",
       "</table>\n",
       "</div>"
      ],
      "text/plain": [
       "              W1         M1      M1_MC        Var     Var_MC       Skew  \\\n",
       "Train 6.1491E-01 1.0902E+00 2.3797E-01 1.4873E+00 1.3361E+00 2.2883E-02   \n",
       "Test  7.3832E-01 5.6005E-02 1.0175E+00 5.0728E+00 6.2828E+00 1.2417E-02   \n",
       "\n",
       "         Skew_MC     Ex_Kur  Ex_Kur_MC       High  N_Centers  N_Q  N_Params  \\\n",
       "Train 2.8985E-02 5.6647E+00 5.8400E+00 5.9955E+02         50  100      1130   \n",
       "Test  3.1887E-02 5.9878E+00 5.8452E+00 7.0056E+02         50  100      1130   \n",
       "\n",
       "       Training Time  T_Test/T_Test-MC  Problem_Dimension  \n",
       "Train     7.3712E+00        6.4897E+00                  3  \n",
       "Test      7.3712E+00        6.4897E+00                  3  "
      ]
     },
     "execution_count": 36,
     "metadata": {},
     "output_type": "execute_result"
    }
   ],
   "source": [
    "Summary"
   ]
  },
  {
   "cell_type": "markdown",
   "metadata": {},
   "source": [
    "# Performance wrt Mean Prediction"
   ]
  },
  {
   "cell_type": "markdown",
   "metadata": {},
   "source": [
    "---"
   ]
  },
  {
   "cell_type": "markdown",
   "metadata": {},
   "source": [
    "---\n",
    "# Fin\n",
    "---"
   ]
  },
  {
   "cell_type": "markdown",
   "metadata": {},
   "source": [
    "---"
   ]
  }
 ],
 "metadata": {
  "kernelspec": {
   "display_name": "Python 3",
   "language": "python",
   "name": "python3"
  },
  "language_info": {
   "codemirror_mode": {
    "name": "ipython",
    "version": 3
   },
   "file_extension": ".py",
   "mimetype": "text/x-python",
   "name": "python",
   "nbconvert_exporter": "python",
   "pygments_lexer": "ipython3",
   "version": "3.7.7"
  }
 },
 "nbformat": 4,
 "nbformat_minor": 2
}
