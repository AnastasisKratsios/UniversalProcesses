{
 "cells": [
  {
   "cell_type": "markdown",
   "metadata": {},
   "source": [
    "# Distributional Model(s)"
   ]
  },
  {
   "cell_type": "markdown",
   "metadata": {},
   "source": [
    "### Gaussian Process Regressor"
   ]
  },
  {
   "cell_type": "code",
   "execution_count": null,
   "metadata": {},
   "outputs": [],
   "source": [
    "def get_GPR(X_train_in,X_test_in,y_means_in):\n",
    "    # Initialize Cross-Vlidator of GPR\n",
    "    CV_GPR = RandomizedSearchCV(estimator=GaussianProcessRegressor(),\n",
    "                                n_jobs=n_jobs,\n",
    "                                cv=KFold(2, random_state=2020, shuffle=True),\n",
    "                                param_distributions=param_grid_GAUSSIAN,\n",
    "                                n_iter=n_iter,\n",
    "                                return_train_score=True,\n",
    "                                random_state=2021,\n",
    "                                verbose=10)\n",
    "\n",
    "    CV_GPR.fit(X_train,Y_train_mean_emp)\n",
    "    # Get Best Model\n",
    "    best_GPR = CV_GPR.best_estimator_\n",
    "\n",
    "    # Get Training-Set Prediction\n",
    "    GPR_means = best_GPR.predict(X_train,return_std=True)[0]\n",
    "    GPR_vars = (best_GPR.predict(X_train,return_std=True)[1])**2\n",
    "\n",
    "    # Get Test-Set Predictions\n",
    "    GPR_means_test = best_GPR.predict(X_test,return_std=True)[0]\n",
    "    GPR_vars_test = (best_GPR.predict(X_test,return_std=True)[1])**2\n",
    "    \n",
    "    # Return Trained Predictions + Model\n",
    "    GPR_means_test = best_GPR.predict(X_test,return_std=True)[0]\n",
    "    return GPR_means,GPR_vars, GPR_means_test, GPR_vars_test, best_GPR"
   ]
  },
  {
   "cell_type": "markdown",
   "metadata": {},
   "source": [
    "---"
   ]
  },
  {
   "cell_type": "markdown",
   "metadata": {},
   "source": [
    "# Run Model(s)"
   ]
  },
  {
   "cell_type": "markdown",
   "metadata": {},
   "source": [
    "### Perform Gaussian Process Regression"
   ]
  },
  {
   "cell_type": "code",
   "execution_count": null,
   "metadata": {},
   "outputs": [],
   "source": [
    "GPR_means, GPR_vars, GPR_means_test, GPR_vars_test, trash = get_GPR(X_train,X_test,Y_train_mean_emp) "
   ]
  },
  {
   "cell_type": "markdown",
   "metadata": {},
   "source": [
    "---"
   ]
  }
 ],
 "metadata": {
  "kernelspec": {
   "display_name": "Python 3",
   "language": "python",
   "name": "python3"
  },
  "language_info": {
   "codemirror_mode": {
    "name": "ipython",
    "version": 3
   },
   "file_extension": ".py",
   "mimetype": "text/x-python",
   "name": "python",
   "nbconvert_exporter": "python",
   "pygments_lexer": "ipython3",
   "version": "3.7.7"
  }
 },
 "nbformat": 4,
 "nbformat_minor": 2
}
