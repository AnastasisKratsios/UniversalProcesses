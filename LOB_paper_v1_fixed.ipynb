{
 "cells": [
  {
   "cell_type": "code",
   "execution_count": 1,
   "metadata": {},
   "outputs": [],
   "source": [
    "# %reset\n",
    "import pandas as pd\n",
    "from pandas import read_excel\n",
    "import numpy as np\n",
    "from sklearn.cluster import KMeans\n",
    "from collections import Counter\n",
    "\n",
    "# Regression\n",
    "from sklearn.linear_model import LogisticRegression\n",
    "\n",
    "# Optimal Transport\n",
    "import ot\n",
    "\n",
    "# For Plotting\n",
    "import seaborn as sns\n",
    "import matplotlib.pyplot as plt\n",
    "from matplotlib.pyplot import figure"
   ]
  },
  {
   "cell_type": "markdown",
   "metadata": {},
   "source": [
    "## Hyperparameters"
   ]
  },
  {
   "cell_type": "code",
   "execution_count": 2,
   "metadata": {},
   "outputs": [],
   "source": [
    "d = 1 # Problem Dimension (<- we can likely remove this)\n",
    "k = 5  # number of Diracs of the barycenter\n",
    "N_clusters = 5 # Number of clusters\n",
    "train_percentage = .9 # Relative Proportion of Train to Test Set Size (I make it small for debugging)\n",
    "Window_Length = 3 # This is the memory held by the logistic regression"
   ]
  },
  {
   "cell_type": "markdown",
   "metadata": {},
   "source": [
    "---"
   ]
  },
  {
   "cell_type": "code",
   "execution_count": 3,
   "metadata": {},
   "outputs": [
    {
     "ename": "FileNotFoundError",
     "evalue": "[Errno 2] No such file or directory: './lob_bid_shape.xlsx'",
     "output_type": "error",
     "traceback": [
      "\u001b[0;31m---------------------------------------------------------------------------\u001b[0m",
      "\u001b[0;31mFileNotFoundError\u001b[0m                         Traceback (most recent call last)",
      "\u001b[0;32m<ipython-input-3-16829600fa5c>\u001b[0m in \u001b[0;36m<module>\u001b[0;34m\u001b[0m\n\u001b[1;32m      1\u001b[0m \u001b[0mfilepath\u001b[0m \u001b[0;34m=\u001b[0m \u001b[0;34m'./lob_bid_shape.xlsx'\u001b[0m\u001b[0;34m\u001b[0m\u001b[0;34m\u001b[0m\u001b[0m\n\u001b[0;32m----> 2\u001b[0;31m \u001b[0mbid_data\u001b[0m \u001b[0;34m=\u001b[0m \u001b[0mpd\u001b[0m\u001b[0;34m.\u001b[0m\u001b[0mread_excel\u001b[0m\u001b[0;34m(\u001b[0m\u001b[0mfilepath\u001b[0m\u001b[0;34m,\u001b[0m\u001b[0mheader\u001b[0m\u001b[0;34m=\u001b[0m\u001b[0;32mNone\u001b[0m\u001b[0;34m)\u001b[0m\u001b[0;34m\u001b[0m\u001b[0;34m\u001b[0m\u001b[0m\n\u001b[0m\u001b[1;32m      3\u001b[0m \u001b[0mbid_data_np\u001b[0m \u001b[0;34m=\u001b[0m \u001b[0mbid_data\u001b[0m\u001b[0;34m.\u001b[0m\u001b[0mto_numpy\u001b[0m\u001b[0;34m(\u001b[0m\u001b[0mcopy\u001b[0m\u001b[0;34m=\u001b[0m\u001b[0;32mTrue\u001b[0m\u001b[0;34m)\u001b[0m\u001b[0;34m\u001b[0m\u001b[0;34m\u001b[0m\u001b[0m\n\u001b[1;32m      4\u001b[0m \u001b[0mbid_data_new\u001b[0m \u001b[0;34m=\u001b[0m \u001b[0mbid_data_np\u001b[0m\u001b[0;34m[\u001b[0m\u001b[0;34m:\u001b[0m\u001b[0;34m,\u001b[0m\u001b[0;36m1\u001b[0m\u001b[0;34m:\u001b[0m\u001b[0;34m]\u001b[0m\u001b[0;34m\u001b[0m\u001b[0;34m\u001b[0m\u001b[0m\n\u001b[1;32m      5\u001b[0m \u001b[0;34m\u001b[0m\u001b[0m\n",
      "\u001b[0;32m~/.local/lib/python3.7/site-packages/pandas/util/_decorators.py\u001b[0m in \u001b[0;36mwrapper\u001b[0;34m(*args, **kwargs)\u001b[0m\n\u001b[1;32m    294\u001b[0m                 )\n\u001b[1;32m    295\u001b[0m                 \u001b[0mwarnings\u001b[0m\u001b[0;34m.\u001b[0m\u001b[0mwarn\u001b[0m\u001b[0;34m(\u001b[0m\u001b[0mmsg\u001b[0m\u001b[0;34m,\u001b[0m \u001b[0mFutureWarning\u001b[0m\u001b[0;34m,\u001b[0m \u001b[0mstacklevel\u001b[0m\u001b[0;34m=\u001b[0m\u001b[0mstacklevel\u001b[0m\u001b[0;34m)\u001b[0m\u001b[0;34m\u001b[0m\u001b[0;34m\u001b[0m\u001b[0m\n\u001b[0;32m--> 296\u001b[0;31m             \u001b[0;32mreturn\u001b[0m \u001b[0mfunc\u001b[0m\u001b[0;34m(\u001b[0m\u001b[0;34m*\u001b[0m\u001b[0margs\u001b[0m\u001b[0;34m,\u001b[0m \u001b[0;34m**\u001b[0m\u001b[0mkwargs\u001b[0m\u001b[0;34m)\u001b[0m\u001b[0;34m\u001b[0m\u001b[0;34m\u001b[0m\u001b[0m\n\u001b[0m\u001b[1;32m    297\u001b[0m \u001b[0;34m\u001b[0m\u001b[0m\n\u001b[1;32m    298\u001b[0m         \u001b[0;32mreturn\u001b[0m \u001b[0mwrapper\u001b[0m\u001b[0;34m\u001b[0m\u001b[0;34m\u001b[0m\u001b[0m\n",
      "\u001b[0;32m~/.local/lib/python3.7/site-packages/pandas/io/excel/_base.py\u001b[0m in \u001b[0;36mread_excel\u001b[0;34m(io, sheet_name, header, names, index_col, usecols, squeeze, dtype, engine, converters, true_values, false_values, skiprows, nrows, na_values, keep_default_na, na_filter, verbose, parse_dates, date_parser, thousands, comment, skipfooter, convert_float, mangle_dupe_cols)\u001b[0m\n\u001b[1;32m    302\u001b[0m \u001b[0;34m\u001b[0m\u001b[0m\n\u001b[1;32m    303\u001b[0m     \u001b[0;32mif\u001b[0m \u001b[0;32mnot\u001b[0m \u001b[0misinstance\u001b[0m\u001b[0;34m(\u001b[0m\u001b[0mio\u001b[0m\u001b[0;34m,\u001b[0m \u001b[0mExcelFile\u001b[0m\u001b[0;34m)\u001b[0m\u001b[0;34m:\u001b[0m\u001b[0;34m\u001b[0m\u001b[0;34m\u001b[0m\u001b[0m\n\u001b[0;32m--> 304\u001b[0;31m         \u001b[0mio\u001b[0m \u001b[0;34m=\u001b[0m \u001b[0mExcelFile\u001b[0m\u001b[0;34m(\u001b[0m\u001b[0mio\u001b[0m\u001b[0;34m,\u001b[0m \u001b[0mengine\u001b[0m\u001b[0;34m=\u001b[0m\u001b[0mengine\u001b[0m\u001b[0;34m)\u001b[0m\u001b[0;34m\u001b[0m\u001b[0;34m\u001b[0m\u001b[0m\n\u001b[0m\u001b[1;32m    305\u001b[0m     \u001b[0;32melif\u001b[0m \u001b[0mengine\u001b[0m \u001b[0;32mand\u001b[0m \u001b[0mengine\u001b[0m \u001b[0;34m!=\u001b[0m \u001b[0mio\u001b[0m\u001b[0;34m.\u001b[0m\u001b[0mengine\u001b[0m\u001b[0;34m:\u001b[0m\u001b[0;34m\u001b[0m\u001b[0;34m\u001b[0m\u001b[0m\n\u001b[1;32m    306\u001b[0m         raise ValueError(\n",
      "\u001b[0;32m~/.local/lib/python3.7/site-packages/pandas/io/excel/_base.py\u001b[0m in \u001b[0;36m__init__\u001b[0;34m(self, path_or_buffer, engine)\u001b[0m\n\u001b[1;32m    865\u001b[0m         \u001b[0mself\u001b[0m\u001b[0;34m.\u001b[0m\u001b[0m_io\u001b[0m \u001b[0;34m=\u001b[0m \u001b[0mstringify_path\u001b[0m\u001b[0;34m(\u001b[0m\u001b[0mpath_or_buffer\u001b[0m\u001b[0;34m)\u001b[0m\u001b[0;34m\u001b[0m\u001b[0;34m\u001b[0m\u001b[0m\n\u001b[1;32m    866\u001b[0m \u001b[0;34m\u001b[0m\u001b[0m\n\u001b[0;32m--> 867\u001b[0;31m         \u001b[0mself\u001b[0m\u001b[0;34m.\u001b[0m\u001b[0m_reader\u001b[0m \u001b[0;34m=\u001b[0m \u001b[0mself\u001b[0m\u001b[0;34m.\u001b[0m\u001b[0m_engines\u001b[0m\u001b[0;34m[\u001b[0m\u001b[0mengine\u001b[0m\u001b[0;34m]\u001b[0m\u001b[0;34m(\u001b[0m\u001b[0mself\u001b[0m\u001b[0;34m.\u001b[0m\u001b[0m_io\u001b[0m\u001b[0;34m)\u001b[0m\u001b[0;34m\u001b[0m\u001b[0;34m\u001b[0m\u001b[0m\n\u001b[0m\u001b[1;32m    868\u001b[0m \u001b[0;34m\u001b[0m\u001b[0m\n\u001b[1;32m    869\u001b[0m     \u001b[0;32mdef\u001b[0m \u001b[0m__fspath__\u001b[0m\u001b[0;34m(\u001b[0m\u001b[0mself\u001b[0m\u001b[0;34m)\u001b[0m\u001b[0;34m:\u001b[0m\u001b[0;34m\u001b[0m\u001b[0;34m\u001b[0m\u001b[0m\n",
      "\u001b[0;32m~/.local/lib/python3.7/site-packages/pandas/io/excel/_xlrd.py\u001b[0m in \u001b[0;36m__init__\u001b[0;34m(self, filepath_or_buffer)\u001b[0m\n\u001b[1;32m     20\u001b[0m         \u001b[0merr_msg\u001b[0m \u001b[0;34m=\u001b[0m \u001b[0;34m\"Install xlrd >= 1.0.0 for Excel support\"\u001b[0m\u001b[0;34m\u001b[0m\u001b[0;34m\u001b[0m\u001b[0m\n\u001b[1;32m     21\u001b[0m         \u001b[0mimport_optional_dependency\u001b[0m\u001b[0;34m(\u001b[0m\u001b[0;34m\"xlrd\"\u001b[0m\u001b[0;34m,\u001b[0m \u001b[0mextra\u001b[0m\u001b[0;34m=\u001b[0m\u001b[0merr_msg\u001b[0m\u001b[0;34m)\u001b[0m\u001b[0;34m\u001b[0m\u001b[0;34m\u001b[0m\u001b[0m\n\u001b[0;32m---> 22\u001b[0;31m         \u001b[0msuper\u001b[0m\u001b[0;34m(\u001b[0m\u001b[0;34m)\u001b[0m\u001b[0;34m.\u001b[0m\u001b[0m__init__\u001b[0m\u001b[0;34m(\u001b[0m\u001b[0mfilepath_or_buffer\u001b[0m\u001b[0;34m)\u001b[0m\u001b[0;34m\u001b[0m\u001b[0;34m\u001b[0m\u001b[0m\n\u001b[0m\u001b[1;32m     23\u001b[0m \u001b[0;34m\u001b[0m\u001b[0m\n\u001b[1;32m     24\u001b[0m     \u001b[0;34m@\u001b[0m\u001b[0mproperty\u001b[0m\u001b[0;34m\u001b[0m\u001b[0;34m\u001b[0m\u001b[0m\n",
      "\u001b[0;32m~/.local/lib/python3.7/site-packages/pandas/io/excel/_base.py\u001b[0m in \u001b[0;36m__init__\u001b[0;34m(self, filepath_or_buffer)\u001b[0m\n\u001b[1;32m    351\u001b[0m             \u001b[0mself\u001b[0m\u001b[0;34m.\u001b[0m\u001b[0mbook\u001b[0m \u001b[0;34m=\u001b[0m \u001b[0mself\u001b[0m\u001b[0;34m.\u001b[0m\u001b[0mload_workbook\u001b[0m\u001b[0;34m(\u001b[0m\u001b[0mfilepath_or_buffer\u001b[0m\u001b[0;34m)\u001b[0m\u001b[0;34m\u001b[0m\u001b[0;34m\u001b[0m\u001b[0m\n\u001b[1;32m    352\u001b[0m         \u001b[0;32melif\u001b[0m \u001b[0misinstance\u001b[0m\u001b[0;34m(\u001b[0m\u001b[0mfilepath_or_buffer\u001b[0m\u001b[0;34m,\u001b[0m \u001b[0mstr\u001b[0m\u001b[0;34m)\u001b[0m\u001b[0;34m:\u001b[0m\u001b[0;34m\u001b[0m\u001b[0;34m\u001b[0m\u001b[0m\n\u001b[0;32m--> 353\u001b[0;31m             \u001b[0mself\u001b[0m\u001b[0;34m.\u001b[0m\u001b[0mbook\u001b[0m \u001b[0;34m=\u001b[0m \u001b[0mself\u001b[0m\u001b[0;34m.\u001b[0m\u001b[0mload_workbook\u001b[0m\u001b[0;34m(\u001b[0m\u001b[0mfilepath_or_buffer\u001b[0m\u001b[0;34m)\u001b[0m\u001b[0;34m\u001b[0m\u001b[0;34m\u001b[0m\u001b[0m\n\u001b[0m\u001b[1;32m    354\u001b[0m         \u001b[0;32melif\u001b[0m \u001b[0misinstance\u001b[0m\u001b[0;34m(\u001b[0m\u001b[0mfilepath_or_buffer\u001b[0m\u001b[0;34m,\u001b[0m \u001b[0mbytes\u001b[0m\u001b[0;34m)\u001b[0m\u001b[0;34m:\u001b[0m\u001b[0;34m\u001b[0m\u001b[0;34m\u001b[0m\u001b[0m\n\u001b[1;32m    355\u001b[0m             \u001b[0mself\u001b[0m\u001b[0;34m.\u001b[0m\u001b[0mbook\u001b[0m \u001b[0;34m=\u001b[0m \u001b[0mself\u001b[0m\u001b[0;34m.\u001b[0m\u001b[0mload_workbook\u001b[0m\u001b[0;34m(\u001b[0m\u001b[0mBytesIO\u001b[0m\u001b[0;34m(\u001b[0m\u001b[0mfilepath_or_buffer\u001b[0m\u001b[0;34m)\u001b[0m\u001b[0;34m)\u001b[0m\u001b[0;34m\u001b[0m\u001b[0;34m\u001b[0m\u001b[0m\n",
      "\u001b[0;32m~/.local/lib/python3.7/site-packages/pandas/io/excel/_xlrd.py\u001b[0m in \u001b[0;36mload_workbook\u001b[0;34m(self, filepath_or_buffer)\u001b[0m\n\u001b[1;32m     35\u001b[0m             \u001b[0;32mreturn\u001b[0m \u001b[0mopen_workbook\u001b[0m\u001b[0;34m(\u001b[0m\u001b[0mfile_contents\u001b[0m\u001b[0;34m=\u001b[0m\u001b[0mdata\u001b[0m\u001b[0;34m)\u001b[0m\u001b[0;34m\u001b[0m\u001b[0;34m\u001b[0m\u001b[0m\n\u001b[1;32m     36\u001b[0m         \u001b[0;32melse\u001b[0m\u001b[0;34m:\u001b[0m\u001b[0;34m\u001b[0m\u001b[0;34m\u001b[0m\u001b[0m\n\u001b[0;32m---> 37\u001b[0;31m             \u001b[0;32mreturn\u001b[0m \u001b[0mopen_workbook\u001b[0m\u001b[0;34m(\u001b[0m\u001b[0mfilepath_or_buffer\u001b[0m\u001b[0;34m)\u001b[0m\u001b[0;34m\u001b[0m\u001b[0;34m\u001b[0m\u001b[0m\n\u001b[0m\u001b[1;32m     38\u001b[0m \u001b[0;34m\u001b[0m\u001b[0m\n\u001b[1;32m     39\u001b[0m     \u001b[0;34m@\u001b[0m\u001b[0mproperty\u001b[0m\u001b[0;34m\u001b[0m\u001b[0;34m\u001b[0m\u001b[0m\n",
      "\u001b[0;32m/usr/lib/python3.7/site-packages/xlrd/__init__.py\u001b[0m in \u001b[0;36mopen_workbook\u001b[0;34m(filename, logfile, verbosity, use_mmap, file_contents, encoding_override, formatting_info, on_demand, ragged_rows)\u001b[0m\n\u001b[1;32m    109\u001b[0m     \u001b[0;32melse\u001b[0m\u001b[0;34m:\u001b[0m\u001b[0;34m\u001b[0m\u001b[0;34m\u001b[0m\u001b[0m\n\u001b[1;32m    110\u001b[0m         \u001b[0mfilename\u001b[0m \u001b[0;34m=\u001b[0m \u001b[0mos\u001b[0m\u001b[0;34m.\u001b[0m\u001b[0mpath\u001b[0m\u001b[0;34m.\u001b[0m\u001b[0mexpanduser\u001b[0m\u001b[0;34m(\u001b[0m\u001b[0mfilename\u001b[0m\u001b[0;34m)\u001b[0m\u001b[0;34m\u001b[0m\u001b[0;34m\u001b[0m\u001b[0m\n\u001b[0;32m--> 111\u001b[0;31m         \u001b[0;32mwith\u001b[0m \u001b[0mopen\u001b[0m\u001b[0;34m(\u001b[0m\u001b[0mfilename\u001b[0m\u001b[0;34m,\u001b[0m \u001b[0;34m\"rb\"\u001b[0m\u001b[0;34m)\u001b[0m \u001b[0;32mas\u001b[0m \u001b[0mf\u001b[0m\u001b[0;34m:\u001b[0m\u001b[0;34m\u001b[0m\u001b[0;34m\u001b[0m\u001b[0m\n\u001b[0m\u001b[1;32m    112\u001b[0m             \u001b[0mpeek\u001b[0m \u001b[0;34m=\u001b[0m \u001b[0mf\u001b[0m\u001b[0;34m.\u001b[0m\u001b[0mread\u001b[0m\u001b[0;34m(\u001b[0m\u001b[0mpeeksz\u001b[0m\u001b[0;34m)\u001b[0m\u001b[0;34m\u001b[0m\u001b[0;34m\u001b[0m\u001b[0m\n\u001b[1;32m    113\u001b[0m     \u001b[0;32mif\u001b[0m \u001b[0mpeek\u001b[0m \u001b[0;34m==\u001b[0m \u001b[0;34mb\"PK\\x03\\x04\"\u001b[0m\u001b[0;34m:\u001b[0m \u001b[0;31m# a ZIP file\u001b[0m\u001b[0;34m\u001b[0m\u001b[0;34m\u001b[0m\u001b[0m\n",
      "\u001b[0;31mFileNotFoundError\u001b[0m: [Errno 2] No such file or directory: './lob_bid_shape.xlsx'"
     ]
    }
   ],
   "source": [
    "filepath = './lob_bid_shape.xlsx'\n",
    "bid_data = pd.read_excel(filepath,header=None)\n",
    "bid_data_np = bid_data.to_numpy(copy=True)\n",
    "bid_data_new = bid_data_np[:,1:]\n",
    "\n",
    "LL = len(bid_data_new)\n",
    "train_len = np.int(np.floor(train_percentage*LL))\n",
    "test_len  = LL-train_len\n",
    "print(\"Training Size: \"+str(train_len))\n",
    "print(\"Testing Size: \"+str(test_len))\n",
    "\n",
    "## Initialize Training Set\n",
    "bid_data_new_train = bid_data_new[0:train_len,]"
   ]
  },
  {
   "cell_type": "markdown",
   "metadata": {},
   "source": [
    "## Perform Clustering"
   ]
  },
  {
   "cell_type": "code",
   "execution_count": 4,
   "metadata": {},
   "outputs": [
    {
     "name": "stdout",
     "output_type": "stream",
     "text": [
      "[(0, 1127), (1, 814), (2, 2892), (3, 2157), (4, 667)]\n"
     ]
    }
   ],
   "source": [
    "kmeans = KMeans(n_clusters=N_clusters, random_state=0).fit(bid_data_new)\n",
    "\n",
    "datalabels = kmeans.labels_\n",
    "print(sorted(Counter(datalabels).items()))"
   ]
  },
  {
   "cell_type": "markdown",
   "metadata": {},
   "source": [
    "## Get Average LOB Shapes:\n",
    "Via: Wasserstein Barycenters from Each Cluster"
   ]
  },
  {
   "cell_type": "code",
   "execution_count": 5,
   "metadata": {},
   "outputs": [],
   "source": [
    "# Initializations\n",
    "LOB_Shapes = []\n",
    "\n",
    "# Build List of LOB shapes by looping over all clusters\n",
    "for current_cluster in range(N_clusters):\n",
    "\n",
    "    # Extract Data from Current Cluster\n",
    "    idx = np.where(datalabels==current_cluster)\n",
    "    cluster_50 = np.squeeze(bid_data_new[idx,])\n",
    "\n",
    "\n",
    "    # (Internal) Initializations\n",
    "    ## Cluster Size\n",
    "    TT = len(cluster_50)\n",
    "    ## Initialize List\n",
    "    measures_locations_list = []\n",
    "    measures_weights_list = []\n",
    "    ## Initialize Internal Location/Loop\n",
    "    measures_locations_loop = np.zeros(5)\n",
    "    measures_weights_loop   = np.zeros(5)\n",
    "    # Mean Weights of the Shape\n",
    "    measures_weights_mean   = np.zeros(5)\n",
    "\n",
    "    for i in range(TT):\n",
    "        # Get LOB Shape\n",
    "        measures_locations_loop[0] = cluster_50[i,0]\n",
    "        measures_locations_loop[1] = cluster_50[i,2]\n",
    "        measures_locations_loop[2] = cluster_50[i,4]\n",
    "        measures_locations_loop[3] = cluster_50[i,6]\n",
    "        measures_locations_loop[4] = cluster_50[i,8]\n",
    "        measures_weights_loop[0]   = cluster_50[i,1] \n",
    "        measures_weights_loop[1]   = cluster_50[i,3] \n",
    "        measures_weights_loop[2]   = cluster_50[i,5] \n",
    "        measures_weights_loop[3]   = cluster_50[i,7] \n",
    "        measures_weights_loop[4]   = cluster_50[i,9] \n",
    "\n",
    "        # Append to List\n",
    "        measures_weights_list.append(measures_weights_loop)\n",
    "        measures_locations_list.append(measures_locations_loop.reshape(5,1))\n",
    "\n",
    "        # Update Mean\n",
    "        measures_weights_mean += measures_weights_loop\n",
    "\n",
    "\n",
    "    # Get Barycenter\n",
    "    ## Get Barycenter Weights\n",
    "    measures_weights_mean = measures_weights_mean/TT # Normalize Shape\n",
    "    ## Get Barycenter Prices\n",
    "    X_init = np.random.normal(0., 1., (k, 1))  # initial Dirac locations\n",
    "    b = np.ones((k,)) / k  # weights of the barycenter (it will not be optimized, only the locations are optimized)\n",
    "    X = ot.lp.free_support_barycenter(measures_locations_list, measures_weights_list, X_init, b) # Get Wasserstein Locations\n",
    "    ## Set LOB shape of this barycenter\n",
    "    LOB_shape = pd.DataFrame({'prices':np.round(X.reshape(k,),3),'weights':measures_weights_mean}) # Set LOB Shape\n",
    "\n",
    "    # Join LOB shape of this barycenter to list of shapes\n",
    "    LOB_Shapes.append(LOB_shape)"
   ]
  },
  {
   "cell_type": "markdown",
   "metadata": {},
   "source": [
    "## Get Dissimilarity Matrix:\n",
    "$$\n",
    "D_{i,j} = W_2\\left(\n",
    "\\hat{\\mathbb{S}}_i,\\hat{\\mathbb{S}}_j\n",
    "\\right),\n",
    "$$\n",
    "where $\\hat{\\mathbb{S}}_i$ is the $i^{th}$ average LOB shape obtained in the last step.  "
   ]
  },
  {
   "cell_type": "code",
   "execution_count": 6,
   "metadata": {},
   "outputs": [
    {
     "data": {
      "text/html": [
       "<div>\n",
       "<style scoped>\n",
       "    .dataframe tbody tr th:only-of-type {\n",
       "        vertical-align: middle;\n",
       "    }\n",
       "\n",
       "    .dataframe tbody tr th {\n",
       "        vertical-align: top;\n",
       "    }\n",
       "\n",
       "    .dataframe thead th {\n",
       "        text-align: right;\n",
       "    }\n",
       "</style>\n",
       "<table border=\"1\" class=\"dataframe\">\n",
       "  <thead>\n",
       "    <tr style=\"text-align: right;\">\n",
       "      <th></th>\n",
       "      <th>0</th>\n",
       "      <th>1</th>\n",
       "      <th>2</th>\n",
       "      <th>3</th>\n",
       "      <th>4</th>\n",
       "    </tr>\n",
       "  </thead>\n",
       "  <tbody>\n",
       "    <tr>\n",
       "      <th>0</th>\n",
       "      <td>0.000000</td>\n",
       "      <td>1.317477</td>\n",
       "      <td>0.947717</td>\n",
       "      <td>0.765728</td>\n",
       "      <td>1.597348</td>\n",
       "    </tr>\n",
       "    <tr>\n",
       "      <th>1</th>\n",
       "      <td>1.318987</td>\n",
       "      <td>0.000000</td>\n",
       "      <td>1.622340</td>\n",
       "      <td>1.570497</td>\n",
       "      <td>1.548366</td>\n",
       "    </tr>\n",
       "    <tr>\n",
       "      <th>2</th>\n",
       "      <td>0.947102</td>\n",
       "      <td>1.618158</td>\n",
       "      <td>0.000000</td>\n",
       "      <td>0.215919</td>\n",
       "      <td>1.979653</td>\n",
       "    </tr>\n",
       "    <tr>\n",
       "      <th>3</th>\n",
       "      <td>0.766386</td>\n",
       "      <td>1.569230</td>\n",
       "      <td>0.216074</td>\n",
       "      <td>0.000000</td>\n",
       "      <td>1.971700</td>\n",
       "    </tr>\n",
       "    <tr>\n",
       "      <th>4</th>\n",
       "      <td>1.597217</td>\n",
       "      <td>1.547485</td>\n",
       "      <td>1.981103</td>\n",
       "      <td>1.969584</td>\n",
       "      <td>0.000000</td>\n",
       "    </tr>\n",
       "  </tbody>\n",
       "</table>\n",
       "</div>"
      ],
      "text/plain": [
       "          0         1         2         3         4\n",
       "0  0.000000  1.317477  0.947717  0.765728  1.597348\n",
       "1  1.318987  0.000000  1.622340  1.570497  1.548366\n",
       "2  0.947102  1.618158  0.000000  0.215919  1.979653\n",
       "3  0.766386  1.569230  0.216074  0.000000  1.971700\n",
       "4  1.597217  1.547485  1.981103  1.969584  0.000000"
      ]
     },
     "execution_count": 6,
     "metadata": {},
     "output_type": "execute_result"
    }
   ],
   "source": [
    "# Initialize Dissimilarity Matrix\n",
    "Dissimilarity_matrix_ot = np.zeros([N_clusters,N_clusters])\n",
    "# Populate Dissimilarity Matrix\n",
    "for i in range(N_clusters):\n",
    "    for j in range(N_clusters):\n",
    "        Dissimilarity_matrix_ot[i,j] = ot.wasserstein_1d(np.array(LOB_Shapes[i]['weights']),\n",
    "                                                         np.array(LOB_Shapes[j]['weights']),\n",
    "                                                         np.array(LOB_Shapes[i]['prices']),\n",
    "                                                         np.array(LOB_Shapes[j]['prices']))\n",
    "# Format Dissimilarity Matrix (as DataFrame)\n",
    "Dissimilarity_matrix_ot = pd.DataFrame(Dissimilarity_matrix_ot)\n",
    "# View Dissimilarity Matrix\n",
    "pd.DataFrame(Dissimilarity_matrix_ot)"
   ]
  },
  {
   "cell_type": "markdown",
   "metadata": {},
   "source": [
    "# Visualization of LOB Shape"
   ]
  },
  {
   "cell_type": "markdown",
   "metadata": {},
   "source": [
    "Plot two most dissimilar LOB Shapes"
   ]
  },
  {
   "cell_type": "code",
   "execution_count": 7,
   "metadata": {},
   "outputs": [
    {
     "name": "stdout",
     "output_type": "stream",
     "text": [
      "(4, 2)\n"
     ]
    }
   ],
   "source": [
    "# Identify Most Different LOB Shapes\n",
    "Max_Dissimilarity = np.unravel_index(np.argmax(Dissimilarity_matrix_ot, axis=None), Dissimilarity_matrix_ot.shape)\n",
    "print(Max_Dissimilarity)"
   ]
  },
  {
   "cell_type": "code",
   "execution_count": 8,
   "metadata": {},
   "outputs": [
    {
     "name": "stdout",
     "output_type": "stream",
     "text": [
      "AxesSubplot(0.125,0.125;0.775x0.755)\n"
     ]
    },
    {
     "data": {
      "image/png": "[encoded data removed]",
      "text/plain": [
       "<Figure size 432x288 with 1 Axes>"
      ]
     },
     "metadata": {
      "needs_background": "light"
     },
     "output_type": "display_data"
    }
   ],
   "source": [
    "print(LOB_Shapes[Max_Dissimilarity[0]].set_index('prices')['weights'].plot.bar(rot=0))"
   ]
  },
  {
   "cell_type": "code",
   "execution_count": 9,
   "metadata": {},
   "outputs": [
    {
     "name": "stdout",
     "output_type": "stream",
     "text": [
      "AxesSubplot(0.125,0.125;0.775x0.755)\n",
      "Most Dissimilar LOB Shape to: 2 is: 4\n"
     ]
    },
    {
     "data": {
      "image/png": "[encoded data removed]",
      "text/plain": [
       "<Figure size 432x288 with 1 Axes>"
      ]
     },
     "metadata": {
      "needs_background": "light"
     },
     "output_type": "display_data"
    }
   ],
   "source": [
    "print(LOB_Shapes[Max_Dissimilarity[1]].set_index('prices')['weights'].plot.bar(rot=0))\n",
    "print(\"Most Dissimilar LOB Shape to: \" +str(Max_Dissimilarity[1])+\" is: \"+str(Max_Dissimilarity[0]))"
   ]
  },
  {
   "cell_type": "markdown",
   "metadata": {},
   "source": [
    "Plot Most similar LOB Shape to the above"
   ]
  },
  {
   "cell_type": "code",
   "execution_count": 10,
   "metadata": {},
   "outputs": [
    {
     "name": "stdout",
     "output_type": "stream",
     "text": [
      "AxesSubplot(0.125,0.125;0.775x0.755)\n",
      "Most Similar LOB Shape to: 2 is: 3\n"
     ]
    },
    {
     "data": {
      "image/png": "[encoded data removed]",
      "text/plain": [
       "<Figure size 432x288 with 1 Axes>"
      ]
     },
     "metadata": {
      "needs_background": "light"
     },
     "output_type": "display_data"
    }
   ],
   "source": [
    "index_of_most_similar = np.argmax(np.sort(np.array(Dissimilarity_matrix_ot[Max_Dissimilarity[1]]))[1]==np.array(Dissimilarity_matrix_ot[Max_Dissimilarity[1]]))\n",
    "print(LOB_Shapes[index_of_most_similar].set_index('prices')['weights'].plot.bar(rot=0))\n",
    "print(\"Most Similar LOB Shape to: \" +str(Max_Dissimilarity[1])+\" is: \"+str(index_of_most_similar))"
   ]
  },
  {
   "cell_type": "markdown",
   "metadata": {},
   "source": [
    "## Build Classes For Logit\n",
    "\n",
    "Note: We also report the mean dimension reduction error, defined by:\n",
    "$$\n",
    "\\sum_{S_t \\in \\mbox{train}} \\min_{k\\leq K} W_2^2\\left(\n",
    "S_t,\n",
    "S^{\\star:k}\n",
    "\\right),\n",
    "$$\n",
    "where $K$ is the number of main LOB shapes $\\{S^{\\star:k}\\}_{k\\leq K}$.\n",
    "\n",
    "As we expect, this number decreases as the number of main LOB shapes increase (sanity check).  "
   ]
  },
  {
   "cell_type": "code",
   "execution_count": 11,
   "metadata": {},
   "outputs": [
    {
     "name": "stdout",
     "output_type": "stream",
     "text": [
      "The Average Error Incured by the Low-Dimensional Representation is: 0.5327454429817894\n"
     ]
    }
   ],
   "source": [
    "# Initialize Training Labels\n",
    "bid_data_new_train_main_LOB_Shape_Labels = np.zeros([train_len-1])\n",
    "\n",
    "# Initialize dimension reduction error\n",
    "mean_dim_redux_error = 0\n",
    "\n",
    "# Populate Matrix of Labels\n",
    "for i in range(train_len-1):\n",
    "    # Initialize Classes\n",
    "    current_LOB_shape_loop = bid_data_new_train[i,]\n",
    "\n",
    "    # Extract Current LOB Data\n",
    "    ## Get Locations\n",
    "    current_LOB_Shape_locations = np.array([current_LOB_shape_loop[0],\n",
    "                                            current_LOB_shape_loop[2],\n",
    "                                            current_LOB_shape_loop[4],\n",
    "                                            current_LOB_shape_loop[6],\n",
    "                                            current_LOB_shape_loop[8]])\n",
    "    ## Get Weights\n",
    "    current_LOB_Shape_weights = np.array([current_LOB_shape_loop[1],\n",
    "                                          current_LOB_shape_loop[3],\n",
    "                                          current_LOB_shape_loop[5],\n",
    "                                          current_LOB_shape_loop[7],\n",
    "                                          current_LOB_shape_loop[9]])\n",
    "\n",
    "\n",
    "    # Compute Wasserstein Distance with each main LOB shape\n",
    "    ## Initialize Dissimilarity Matrix\n",
    "    Similarity_vector_ot = np.zeros(N_clusters)\n",
    "    for j in range(N_clusters):\n",
    "        Similarity_vector_ot[j] = ot.wasserstein_1d(current_LOB_Shape_weights,\n",
    "                                                    np.array(LOB_Shapes[j]['weights']),\n",
    "                                                    current_LOB_Shape_locations,\n",
    "                                                    np.array(LOB_Shapes[j]['prices']))\n",
    "    ## Identify which is minimum amongst clusters\n",
    "    main_LOB_shape_assosiated_to_current = np.argmin(Similarity_vector_ot)\n",
    "    ## Update Labels Matrix\n",
    "    bid_data_new_train_main_LOB_Shape_Labels[i] = main_LOB_shape_assosiated_to_current\n",
    "    \n",
    "    # Mean Error\n",
    "    mean_dim_redux_error += np.min(Similarity_vector_ot)\n",
    "    \n",
    "# Report Mean Dimension Reduction Error\n",
    "mean_dim_redux_error = mean_dim_redux_error/train_len\n",
    "print(\"The Average Error Incured by the Low-Dimensional Representation is: \"+str(mean_dim_redux_error))"
   ]
  },
  {
   "cell_type": "markdown",
   "metadata": {},
   "source": [
    "## Perform Classification\n",
    "The goal is to predict the next main_LOB_shape using a window of historical data.\n",
    "In this iteration, we use Logistic Regression\n",
    "\n",
    "---\n",
    "*Note:* Erdinç, in this iteration I only used a window of length 1, but please could you make this length euql to the hyperparameter : *\"Window_Length\"*?"
   ]
  },
  {
   "cell_type": "code",
   "execution_count": 12,
   "metadata": {},
   "outputs": [
    {
     "name": "stderr",
     "output_type": "stream",
     "text": [
      "/scratch/users/kratsioa/.local/lib/python3.7/site-packages/sklearn/linear_model/_logistic.py:940: ConvergenceWarning: lbfgs failed to converge (status=1):\n",
      "STOP: TOTAL NO. of ITERATIONS REACHED LIMIT.\n",
      "\n",
      "Increase the number of iterations (max_iter) or scale the data as shown in:\n",
      "    https://scikit-learn.org/stable/modules/preprocessing.html\n",
      "Please also refer to the documentation for alternative solver options:\n",
      "    https://scikit-learn.org/stable/modules/linear_model.html#logistic-regression\n",
      "  extra_warning_msg=_LOGISTIC_SOLVER_CONVERGENCE_MSG)\n"
     ]
    },
    {
     "data": {
      "text/plain": [
       "LogisticRegression(C=1.0, class_weight=None, dual=False, fit_intercept=True,\n",
       "                   intercept_scaling=1, l1_ratio=None, max_iter=100,\n",
       "                   multi_class='auto', n_jobs=None, penalty='l2',\n",
       "                   random_state=2020, solver='lbfgs', tol=0.0001, verbose=0,\n",
       "                   warm_start=False)"
      ]
     },
     "execution_count": 12,
     "metadata": {},
     "output_type": "execute_result"
    }
   ],
   "source": [
    "# Initialize Logistic Regressor\n",
    "logistic_regressor = LogisticRegression(random_state=2020)\n",
    "# Train Logistic Regressor\n",
    "logistic_regressor.fit(bid_data_new_train[1:],bid_data_new_train_main_LOB_Shape_Labels)\n",
    "\n",
    "# Test-Set Predictions"
   ]
  },
  {
   "cell_type": "markdown",
   "metadata": {},
   "source": [
    "# Visualization: LOB Shape Evolution (in-sample)"
   ]
  },
  {
   "cell_type": "code",
   "execution_count": 14,
   "metadata": {},
   "outputs": [
    {
     "name": "stdout",
     "output_type": "stream",
     "text": [
      "Correct LOB Shape Is predicted 0.5397677793904209% of the time.\n",
      "Classifier is Beating Random Guessing by: 0.33976777939042085%\n"
     ]
    },
    {
     "data": {
      "image/png": "[encoded data removed]",
      "text/plain": [
       "<Figure size 432x288 with 1 Axes>"
      ]
     },
     "metadata": {
      "needs_background": "light"
     },
     "output_type": "display_data"
    }
   ],
   "source": [
    "plt.plot(logistic_regressor.predict(bid_data_new_train[1:]))\n",
    "plt.plot(bid_data_new_train_main_LOB_Shape_Labels,color='red')\n",
    "\n",
    "# Report Accuracy\n",
    "accuracy = np.mean(np.abs(bid_data_new_train_main_LOB_Shape_Labels==logistic_regressor.predict(bid_data_new_train[1:])))\n",
    "print(\"Correct LOB Shape Is predicted \" + str(accuracy) + \"% of the time.\")\n",
    "if accuracy>(1/N_clusters):\n",
    "    print(\"Classifier is Beating Random Guessing by: \"+str(accuracy-(1/N_clusters)) +\"%!\")\n",
    "else:\n",
    "    print(\"Classifier is loosing against Random Guessing: \"+str((1/N_clusters)-accuracy) +\"%!\")"
   ]
  },
  {
   "cell_type": "markdown",
   "metadata": {},
   "source": [
    "---"
   ]
  }
 ],
 "metadata": {
  "kernelspec": {
   "display_name": "Python 3",
   "language": "python",
   "name": "python3"
  },
  "language_info": {
   "codemirror_mode": {
    "name": "ipython",
    "version": 3
   },
   "file_extension": ".py",
   "mimetype": "text/x-python",
   "name": "python",
   "nbconvert_exporter": "python",
   "pygments_lexer": "ipython3",
   "version": "3.7.7"
  }
 },
 "nbformat": 4,
 "nbformat_minor": 2
}
