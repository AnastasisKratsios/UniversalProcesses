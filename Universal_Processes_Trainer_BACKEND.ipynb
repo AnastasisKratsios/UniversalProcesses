{
 "cells": [
  {
   "cell_type": "markdown",
   "metadata": {},
   "source": [
    "# Universal $\\mathcal{P}_1(\\mathbb{R})$-Deep Neural Model (Type A)\n",
    "---"
   ]
  },
  {
   "cell_type": "markdown",
   "metadata": {},
   "source": [
    "---\n",
    "# Training Algorithm:\n",
    "---\n",
    "## 1) Generate Data:\n",
    "Generates the empirical measure $\\sum_{n=1}^N \\delta_{X_T(\\omega_n)}$ of $X_T$ conditional on $X_0=x_0\\in \\mathbb{R}$ *($x_0$ and $T>0$ are user-provided)*.\n",
    "\n",
    "## 2) Get \"Sample Barycenters\":\n",
    "Let $\\{\\mu_n\\}_{n=1}^N\\subset\\mathcal{P}_1(\\mathbb{R}^d)$.  Then, the *sample barycenter* is defined by:\n",
    "1. $\\mathcal{M}^{(0)}\\triangleq \\left\\{\\hat{\\mu}_n\\right\\}_{n=1}^N$,\n",
    "2. For $1\\leq n\\leq \\mbox{N sample barycenters}$: \n",
    "    - $\n",
    "\\mu^{\\star}\\in \\underset{\\tilde{\\mu}\\in \\mathcal{M}^{(n)}}{\\operatorname{argmin}}\\, \\sum_{n=1}^N \\mathcal{W}_1\\left(\\mu^{\\star},\\mu_n\\right),\n",
    "$\n",
    "    - $\\mathcal{M}^{(n)}\\triangleq \\mathcal{M}^{(n-1)} - \\{\\mu^{\\star}\\},$\n",
    "*i.e., the closest generated measure form the random sample to all other elements of the random sample.*\n",
    "\n",
    "---\n",
    "**Note:** *We simplify the computational burden of getting the correct classes by putting this right into this next loop.*\n",
    "\n",
    "## 3) Train Deep Classifier:\n",
    "$\\hat{f}\\in \\operatorname{argmin}_{f \\in \\mathcal{NN}_{d:N}^{\\star}} \n",
    "\\sum_{x \\in \\mathbb{X}}\n",
    "\\, \n",
    "\\mathbb{H}\n",
    "\\left(\n",
    "    \\operatorname{Softmax}_N\\circ f(x)_n| I\\left\\{W_1(\\hat{\\mu}_n,\\mu_x),\\inf_{m\\leq N} W_1(\\hat{\\mu}_m,\\mu_x)\\right\\}\n",
    "\\right);\n",
    "$\n",
    "where $\\mathbb{H}$ is the categorical cross-entropy.  \n",
    "\n",
    "---\n",
    "---\n",
    "---\n",
    "## Notes - Why the procedure is so computationally efficient?\n",
    "---\n",
    " - The sample barycenters do not require us to solve for any new Wasserstein-1 Barycenters; which is much more computationally costly,\n",
    " - Our training procedure never back-propages through $\\mathcal{W}_1$ since steps 2 and 3 are full-decoupled.  Therefore, training our deep classifier is (comparatively) cheap since it takes values in the standard $N$-simplex.\n",
    "\n",
    "---"
   ]
  },
  {
   "cell_type": "markdown",
   "metadata": {},
   "source": [
    "## Meta-Parameters"
   ]
  },
  {
   "cell_type": "markdown",
   "metadata": {},
   "source": [
    "### Visualization"
   ]
  },
  {
   "cell_type": "code",
   "execution_count": 1,
   "metadata": {},
   "outputs": [],
   "source": [
    "# How many random polulations to visualize:\n",
    "Visualization_Size = 4"
   ]
  },
  {
   "cell_type": "markdown",
   "metadata": {},
   "source": [
    "### Simulation"
   ]
  },
  {
   "cell_type": "markdown",
   "metadata": {},
   "source": [
    "#### Ground Truth:\n",
    "*The build-in Options:*\n",
    "- rSDE \n",
    "- pfBM\n",
    "- 2lnflow"
   ]
  },
  {
   "cell_type": "code",
   "execution_count": 2,
   "metadata": {},
   "outputs": [],
   "source": [
    "groud_truth = \"2lnflow\""
   ]
  },
  {
   "cell_type": "markdown",
   "metadata": {},
   "source": [
    "#### Grid Hyperparameter(s)"
   ]
  },
  {
   "cell_type": "code",
   "execution_count": 3,
   "metadata": {},
   "outputs": [],
   "source": [
    "## Monte-Carlo\n",
    "N_Euler_Maruyama_Steps = 100\n",
    "N_Monte_Carlo_Samples = 10**3\n",
    "N_Monte_Carlo_Samples_Test = 10**3 # How many MC-samples to draw from test-set?\n",
    "\n",
    "# End times for Time-Grid\n",
    "T_end = 1\n",
    "T_end_test = 1.1\n",
    "\n",
    "\n",
    "## Grid\n",
    "N_Grid_Finess = 3\n",
    "Max_Grid = 1"
   ]
  },
  {
   "cell_type": "markdown",
   "metadata": {},
   "source": [
    "**Note**: Setting *N_Quantizers_to_parameterize* prevents any barycenters and sub-sampling."
   ]
  },
  {
   "cell_type": "markdown",
   "metadata": {},
   "source": [
    "### Random Cover"
   ]
  },
  {
   "cell_type": "code",
   "execution_count": 4,
   "metadata": {},
   "outputs": [],
   "source": [
    "# TEMP:\n",
    "from operator import itemgetter \n",
    "from itertools import compress\n",
    "# Set Minibatch Size\n",
    "Random_Cover_Mini_Batch_Size = 25\n",
    "# Proportion of Clusters per Minibatch Sample\n",
    "Quantization_Proportion = 0.5"
   ]
  },
  {
   "cell_type": "markdown",
   "metadata": {},
   "source": [
    "#### Mode: Code-Testin Parameter(s)"
   ]
  },
  {
   "cell_type": "code",
   "execution_count": 5,
   "metadata": {},
   "outputs": [],
   "source": [
    "trial_run = True"
   ]
  },
  {
   "cell_type": "markdown",
   "metadata": {},
   "source": [
    "### Meta-parameters"
   ]
  },
  {
   "cell_type": "code",
   "execution_count": 6,
   "metadata": {},
   "outputs": [],
   "source": [
    "# Test-size Ratio\n",
    "test_size_ratio = .25"
   ]
  },
  {
   "cell_type": "markdown",
   "metadata": {},
   "source": [
    "## Simulation from Measure-Valued $2$-Parameter Gaussian Flow\n",
    "$$\n",
    "X_{t,x} \\sim \\mathcal{N}\\left(\\alpha(t,x),\\beta(t,x)\\right).\n",
    "$$"
   ]
  },
  {
   "cell_type": "markdown",
   "metadata": {},
   "source": [
    "**Note:** *$\\alpha$ and $\\beta$ are specified below in the SDE Example*."
   ]
  },
  {
   "cell_type": "markdown",
   "metadata": {},
   "source": [
    "## Simulation from Rough SDE\n",
    "Simulate via Euler-M method from:\n",
    "$$ \n",
    "X_T = x + \\int_0^T \\alpha(s,x)ds + \\int_0^T((1-\\eta)\\beta(s,x)+\\eta\\sigma_s^H)dW_s.\n",
    "$$"
   ]
  },
  {
   "cell_type": "markdown",
   "metadata": {},
   "source": [
    "### Drift"
   ]
  },
  {
   "cell_type": "code",
   "execution_count": 7,
   "metadata": {},
   "outputs": [],
   "source": [
    "def alpha(t,x):\n",
    "    return t*np.sin(math.pi*x) #+ np.exp(-t)"
   ]
  },
  {
   "cell_type": "markdown",
   "metadata": {},
   "source": [
    "### Volatility"
   ]
  },
  {
   "cell_type": "code",
   "execution_count": 8,
   "metadata": {},
   "outputs": [],
   "source": [
    "def beta(t,x):\n",
    "    return (1+t) + np.cos(x)"
   ]
  },
  {
   "cell_type": "markdown",
   "metadata": {},
   "source": [
    "### Roughness Meta-parameters"
   ]
  },
  {
   "cell_type": "code",
   "execution_count": 9,
   "metadata": {},
   "outputs": [],
   "source": [
    "Rougness = 0.9 # Hurst Parameter\n",
    "Ratio_fBM_to_typical_vol = 0 # $\\eta$ in equation above."
   ]
  },
  {
   "cell_type": "markdown",
   "metadata": {},
   "source": [
    "## Perturbed Fractional Brownian Motion\n",
    "Simulate from:\n",
    "$$\n",
    "X_t^x(\\omega) = f_1(x)f_2(t) + B_t^H(\\omega).\n",
    "$$"
   ]
  },
  {
   "cell_type": "code",
   "execution_count": 10,
   "metadata": {},
   "outputs": [],
   "source": [
    "def field_dirction_x(x):\n",
    "    return x*np.cos(x)\n",
    "\n",
    "def finite_variation_t(t):\n",
    "    return t*(np.sin(math.pi*t) + np.exp(-t))"
   ]
  },
  {
   "cell_type": "markdown",
   "metadata": {},
   "source": [
    "### Get Paths"
   ]
  },
  {
   "cell_type": "code",
   "execution_count": 11,
   "metadata": {},
   "outputs": [],
   "source": [
    "# load dataset\n",
    "results_path = \"./outputs/models/\"\n",
    "results_tables_path = \"./outputs/results/\"\n",
    "raw_data_path_folder = \"./inputs/raw/\"\n",
    "data_path_folder = \"./inputs/data/\""
   ]
  },
  {
   "cell_type": "markdown",
   "metadata": {},
   "source": [
    "### Import"
   ]
  },
  {
   "cell_type": "code",
   "execution_count": 12,
   "metadata": {},
   "outputs": [
    {
     "name": "stderr",
     "output_type": "stream",
     "text": [
      "Using TensorFlow backend.\n"
     ]
    },
    {
     "name": "stdout",
     "output_type": "stream",
     "text": [
      "Deep Feature Builder - Ready\n",
      "Deep Classifier - Ready\n"
     ]
    }
   ],
   "source": [
    "# Load Packages/Modules\n",
    "exec(open('Init_Dump.py').read())\n",
    "# Load Hyper-parameter Grid\n",
    "exec(open('CV_Grid.py').read())\n",
    "# Load Helper Function(s)\n",
    "# %run ParaGAN_Backend.ipynb\n",
    "exec(open('Helper_Functions.py').read())\n",
    "# Import time separately\n",
    "import time"
   ]
  },
  {
   "cell_type": "markdown",
   "metadata": {},
   "source": [
    "### Set Seed"
   ]
  },
  {
   "cell_type": "code",
   "execution_count": 13,
   "metadata": {},
   "outputs": [],
   "source": [
    "random.seed(2021)\n",
    "np.random.seed(2021)\n",
    "tf.random.set_seed(2021)"
   ]
  },
  {
   "cell_type": "markdown",
   "metadata": {},
   "source": [
    "## Get Internal (Hyper)-Parameter(s)\n",
    "*Initialize the hyperparameters which are fully-specified by the user-provided hyperparameter(s).*"
   ]
  },
  {
   "cell_type": "markdown",
   "metadata": {},
   "source": [
    "### Initialize Grid\n",
    "This is $\\mathbb{X}$ and it represents the grid of initial states."
   ]
  },
  {
   "cell_type": "code",
   "execution_count": 14,
   "metadata": {},
   "outputs": [
    {
     "name": "stdout",
     "output_type": "stream",
     "text": [
      "Number of points in each minibatch grid axis:  5\n",
      "• Grid Instances:  303 and : 1976  Testing instances.\n"
     ]
    }
   ],
   "source": [
    "# Get Input Data\n",
    "#----------------------------------------------------------#\n",
    "## Train\n",
    "x_Grid = np.arange(start=-Max_Grid,\n",
    "                   stop=Max_Grid,\n",
    "                   step=(2*Max_Grid/N_Grid_Finess))\n",
    "t_Grid = np.linspace(0,T_end,(1+N_Euler_Maruyama_Steps))\n",
    "## Get Number of Instances in Grid: Training\n",
    "N_Grid_Instances_x = len(x_Grid)\n",
    "N_Grid_Instances_t = len(t_Grid)\n",
    "N_Grid_Instances = N_Grid_Instances_x*N_Grid_Instances_t \n",
    "\n",
    "#----------------------------------------------------------#\n",
    "## Test\n",
    "x_Grid_test = np.sort(np.random.uniform(low=-Max_Grid,\n",
    "                                        high=Max_Grid,\n",
    "                                        size = round(N_Grid_Instances*test_size_ratio)))\n",
    "t_Grid_test = np.linspace(T_end+0.001,T_end_test,(1+round(N_Euler_Maruyama_Steps*test_size_ratio)))\n",
    "# Get Number of Instances in Grid: Test\n",
    "N_Grid_Instances_x_test = len(x_Grid_test)\n",
    "N_Grid_Instances_t_test = len(t_Grid_test)\n",
    "N_Grid_Instances_test = N_Grid_Instances_x_test*N_Grid_Instances_t_test\n",
    "#----------------------------------------------------------#\n",
    "\n",
    "# Set Minibatch size\n",
    "Covering_Mini_Batch_Size = int(np.max(round(np.sqrt(Random_Cover_Mini_Batch_Size),1)))\n",
    "print(\"Number of points in each minibatch grid axis: \", Covering_Mini_Batch_Size)\n",
    "\n",
    "# Updater User\n",
    "print(\"\\u2022 Grid Instances: \", N_Grid_Instances, \"and :\",N_Grid_Instances_test,\" Testing instances.\")"
   ]
  },
  {
   "cell_type": "markdown",
   "metadata": {},
   "source": [
    "### Initialize Counting Parameters\n",
    "Initialize the \"conting\" type parameters which will help us to determine the length of loops and to intialize object's size later on.  "
   ]
  },
  {
   "cell_type": "code",
   "execution_count": 15,
   "metadata": {},
   "outputs": [
    {
     "name": "stdout",
     "output_type": "stream",
     "text": [
      "• 152  Centers will be produced; from a total datasize of:  3 !  (That's  0.5  percent).\n",
      "• Each Wasserstein-1 Ball should contain:  2 elements from the training set.\n"
     ]
    }
   ],
   "source": [
    "# Get Internal (Counting) Parameters\n",
    "N_Quantizers_to_parameterize = round(Quantization_Proportion*N_Grid_Instances)\n",
    "N_Elements_Per_Cluster = int(round(N_Grid_Instances/N_Quantizers_to_parameterize))\n",
    "\n",
    "# Update User\n",
    "print(\"\\u2022\",N_Quantizers_to_parameterize,\" Centers will be produced; from a total datasize of: \",N_Grid_Finess,\n",
    "      \"!  (That's \",Quantization_Proportion,\n",
    "      \" percent).\")\n",
    "print(\"\\u2022 Each Wasserstein-1 Ball should contain: \",\n",
    "      N_Elements_Per_Cluster, \n",
    "      \"elements from the training set.\")"
   ]
  },
  {
   "cell_type": "markdown",
   "metadata": {},
   "source": [
    "---"
   ]
  },
  {
   "cell_type": "markdown",
   "metadata": {},
   "source": [
    "### Simulate from non-Markovian SDE with rough volatility:\n",
    "$d X_t = \\alpha(t,X_t)dt + ((1-\\eta)\\beta(t,X_t)+\\eta\\sigma_t^H)dW_t ;\\qquad X_0 =x$\n",
    "Where $(\\sigma_t^H)_t$ is a fBM with Hurst parameter $H=0.01$ and $\\eta \\in [0,1]$ controlls the 'abount of long-term memory and roughness in $X_t$'."
   ]
  },
  {
   "cell_type": "markdown",
   "metadata": {},
   "source": [
    "### Define Sampler - Data-Generator"
   ]
  },
  {
   "cell_type": "markdown",
   "metadata": {},
   "source": [
    "Generates the empirical measure $\\sum_{n=1}^N \\delta_{X_T(\\omega_n)}$ of $X_T$ conditional on $X_0=x_0\\in \\mathbb{R}$ *($x_0$ and $T>0$ are user-provided)*."
   ]
  },
  {
   "cell_type": "code",
   "execution_count": 16,
   "metadata": {},
   "outputs": [],
   "source": [
    "def Euler_Maruyama_Generator(x_0,\n",
    "                             N_Euler_Maruyama_Steps = 10,\n",
    "                             N_Monte_Carlo_Samples = 100,\n",
    "                             T = 1,\n",
    "                             Hurst = 0.1,\n",
    "                             Ratio_fBM_to_typical_vol = 0.5): \n",
    "    \n",
    "    #----------------------------#    \n",
    "    # DEFINE INTERNAL PARAMETERS #\n",
    "    #----------------------------#\n",
    "    # Initialize Empirical Measure\n",
    "    X_T_Empirical = np.zeros([N_Euler_Maruyama_Steps,N_Monte_Carlo_Samples])\n",
    "\n",
    "\n",
    "    # Internal Initialization(s)\n",
    "    ## Initialize current state\n",
    "    n_sample = 0\n",
    "    ## Initialize Incriments\n",
    "    dt = T/N_Euler_Maruyama_Steps\n",
    "    sqrt_dt = np.sqrt(dt)\n",
    "\n",
    "    #-----------------------------#    \n",
    "    # Generate Monte-Carlo Sample #\n",
    "    #-----------------------------#\n",
    "    while n_sample < N_Monte_Carlo_Samples:\n",
    "        # Reset Step Counter\n",
    "        t = 1\n",
    "        # Initialize Current State \n",
    "        X_current = x_0\n",
    "        # Generate roughness\n",
    "        sigma_rough = FBM(n=N_Euler_Maruyama_Steps, hurst=0.75, length=1, method='daviesharte').fbm()\n",
    "        # Perform Euler-Maruyama Simulation\n",
    "        while t<(N_Euler_Maruyama_Steps-1):\n",
    "            # Update Internal Parameters\n",
    "            ## Get Current Time\n",
    "            t_current = t*(T/N_Euler_Maruyama_Steps)\n",
    "\n",
    "            # Update Generated Path\n",
    "            drift_t = alpha(t_current,X_current)*dt\n",
    "            vol_t = ((1-Ratio_fBM_to_typical_vol)*beta(t_current,X_current)+Ratio_fBM_to_typical_vol*(sigma_rough[t]))*np.random.normal(0,sqrt_dt)\n",
    "            X_current = X_current + drift_t + vol_t\n",
    "\n",
    "            # Update Counter (EM)\n",
    "            t = t+1\n",
    "\n",
    "            # Update Empirical Measure\n",
    "            X_T_Empirical[t,n_sample] = X_current\n",
    "\n",
    "        # Update Counter (MC)\n",
    "        n_sample = n_sample + 1\n",
    "\n",
    "    return X_T_Empirical"
   ]
  },
  {
   "cell_type": "markdown",
   "metadata": {},
   "source": [
    "---"
   ]
  },
  {
   "cell_type": "markdown",
   "metadata": {},
   "source": [
    "### Initializations"
   ]
  },
  {
   "cell_type": "code",
   "execution_count": 17,
   "metadata": {},
   "outputs": [],
   "source": [
    "# Initialize List of Barycenters\n",
    "Wasserstein_Barycenters = []\n",
    "# Initialize Terminal-Time Empirical Measures\n",
    "## Training Outputs\n",
    "measures_locations_list = []\n",
    "measures_weights_list = []\n",
    "## Testing Outputs\n",
    "measures_locations_test_list = []\n",
    "measures_weights_test_list = []\n",
    "# Grid (Training and Testing inputs (t,x))\n",
    "X_train = []\n",
    "X_test = []\n",
    "\n",
    "# Initialize (Empirical) Weight(s)\n",
    "measure_weights = np.ones(N_Monte_Carlo_Samples)/N_Monte_Carlo_Samples\n",
    "measure_weights_test = np.ones(N_Monte_Carlo_Samples_Test)/N_Monte_Carlo_Samples_Test\n",
    "# Initialize Quantizer\n",
    "Init_Quantizer_generic = np.ones(N_Monte_Carlo_Samples)/N_Monte_Carlo_Samples"
   ]
  },
  {
   "cell_type": "markdown",
   "metadata": {},
   "source": [
    "## Generate $\\{\\hat{\\nu}^{N}_{T,x}\\}_{x \\in \\mathbb{X}}$ Build Wasserstein Cover"
   ]
  },
  {
   "cell_type": "markdown",
   "metadata": {},
   "source": [
    "Generate Training and Testing Data:"
   ]
  },
  {
   "cell_type": "markdown",
   "metadata": {},
   "source": [
    "### Gaussian $2$-Parameter Flow"
   ]
  },
  {
   "cell_type": "code",
   "execution_count": 18,
   "metadata": {},
   "outputs": [
    {
     "name": "stderr",
     "output_type": "stream",
     "text": [
      "\r",
      "  0%|          | 0/3 [00:00<?, ?it/s]"
     ]
    },
    {
     "name": "stdout",
     "output_type": "stream",
     "text": [
      "Direct Sampling from Distribution for 2-Parameter Flow.\n",
      "===================================\n",
      "Start Simulation Step: Training Set\n",
      "===================================\n"
     ]
    },
    {
     "name": "stderr",
     "output_type": "stream",
     "text": [
      "100%|██████████| 3/3 [00:00<00:00, 16.79it/s]\n",
      "  0%|          | 0/76 [00:00<?, ?it/s]"
     ]
    },
    {
     "name": "stdout",
     "output_type": "stream",
     "text": [
      "==================================\n",
      "Done Simulation Step: Training Set\n",
      "==================================\n",
      "===============================--------------------------------------===============================\n",
      "===============================--------------------------------------===============================\n",
      "===============================--------------------------------------===============================\n",
      "===============================\n",
      "Start Simulation Step: Test Set\n",
      "===============================\n"
     ]
    },
    {
     "name": "stderr",
     "output_type": "stream",
     "text": [
      "100%|██████████| 76/76 [00:00<00:00, 83.71it/s]"
     ]
    },
    {
     "name": "stdout",
     "output_type": "stream",
     "text": [
      "==============================\n",
      "Done Simulation Step: Test Set\n",
      "==============================\n"
     ]
    },
    {
     "name": "stderr",
     "output_type": "stream",
     "text": [
      "\n"
     ]
    }
   ],
   "source": [
    "if groud_truth == \"2lnflow\":\n",
    "    print(\"Direct Sampling from Distribution for 2-Parameter Flow.\")\n",
    "    #----------------------------------------------------------------------------------------------#\n",
    "    # Update User\n",
    "    print(\"===================================\")\n",
    "    print(\"Start Simulation Step: Training Set\")\n",
    "    print(\"===================================\")\n",
    "    # Perform Monte-Carlo Data Generation\n",
    "    for i in tqdm(range(N_Grid_Instances_x)):\n",
    "        x_loop = x_Grid[i]\n",
    "        # Generate finite-variation path (since it stays unchanged)\n",
    "        for j in range(N_Grid_Instances_t):\n",
    "            t_loop = t_Grid[j]\n",
    "            measures_locations_loop = np.random.normal(alpha(t_loop,x_loop),\n",
    "                                                          beta(t_loop,x_loop),\n",
    "                                                          N_Monte_Carlo_Samples)\n",
    "        \n",
    "            # Update Inputs\n",
    "            if (i==0 and j==0):\n",
    "                X_train = np.array([t_loop,x_loop]).reshape(1,-1)\n",
    "            else:\n",
    "                X_train = np.append(X_train,np.array([t_loop,x_loop]).reshape(1,-1),axis=0)\n",
    "        \n",
    "            # Append to List\n",
    "            measures_locations_list = measures_locations_list + [measures_locations_loop]\n",
    "            measures_weights_list.append(measure_weights)\n",
    "        \n",
    "        \n",
    "    \n",
    "    # Update User\n",
    "    print(\"==================================\")\n",
    "    print(\"Done Simulation Step: Training Set\")\n",
    "    print(\"==================================\")\n",
    "\n",
    "\n",
    "print(\"===============================--------------------------------------===============================\")\n",
    "print(\"===============================--------------------------------------===============================\")\n",
    "print(\"===============================--------------------------------------===============================\")\n",
    "\n",
    "if groud_truth == \"2lnflow\":\n",
    "    print(\"===============================\")\n",
    "    print(\"Start Simulation Step: Test Set\")\n",
    "    print(\"===============================\")\n",
    "    # Perform Monte-Carlo Data Generation\n",
    "    for i in tqdm(range(N_Grid_Instances_x_test)):\n",
    "        x_loop = x_Grid_test[i]\n",
    "        # Generate finite-variation path (since it stays unchanged)\n",
    "        for j in range(N_Grid_Instances_t_test):\n",
    "            t_loop = t_Grid_test[j]\n",
    "            measures_locations_loop = np.random.normal(alpha(t_loop,x_loop),\n",
    "                                                          beta(t_loop,x_loop),\n",
    "                                                          N_Monte_Carlo_Samples_Test)\n",
    "        \n",
    "            # Update Inputs\n",
    "            if (i==0 and j==0):\n",
    "                X_test = np.array([t_loop,x_loop]).reshape(1,-1)\n",
    "            else:\n",
    "                X_test = np.append(X_test,np.array([t_loop,x_loop]).reshape(1,-1),axis=0)\n",
    "        \n",
    "            # Append to List\n",
    "            measures_locations_test_list = measures_locations_test_list + [measures_locations_loop]\n",
    "            measures_weights_test_list.append(measure_weights_test)\n",
    "    print(\"==============================\")\n",
    "    print(\"Done Simulation Step: Test Set\")\n",
    "    print(\"==============================\")"
   ]
  },
  {
   "cell_type": "markdown",
   "metadata": {},
   "source": [
    "### Rough SDE Simulator:"
   ]
  },
  {
   "cell_type": "code",
   "execution_count": 19,
   "metadata": {},
   "outputs": [
    {
     "name": "stdout",
     "output_type": "stream",
     "text": [
      "===============================--------------------------------------===============================\n",
      "===============================--------------------------------------===============================\n",
      "===============================--------------------------------------===============================\n"
     ]
    }
   ],
   "source": [
    "if groud_truth == \"rSDE\":\n",
    "    print(\"Using Euler-Maruyama distritization + Monte-Carlo Sampling.\")\n",
    "    #----------------------------------------------------------------------------------------------#\n",
    "    # Update User\n",
    "    print(\"===================================\")\n",
    "    print(\"Start Simulation Step: Training Set\")\n",
    "    print(\"===================================\")\n",
    "    # Initialize fBM Generator\n",
    "    fBM_Generator = FBM(n=N_Euler_Maruyama_Steps, hurst=0.75, length=1, method='daviesharte')\n",
    "\n",
    "    # Perform Monte-Carlo Data Generation\n",
    "    for i in tqdm(range(N_Grid_Instances_x)):\n",
    "        # Get x\n",
    "        field_loop_x = field_dirction_x(x_Grid[i])\n",
    "        # Get omega and t\n",
    "        # Generate finite-variation path (since it stays unchanged)\n",
    "        finite_variation_path = finite_variation_t(t_Grid).reshape(-1,1) +field_loop_x\n",
    "        # Simulate Paths\n",
    "        paths_loop = Euler_Maruyama_Generator(x_0=x_Grid[i],\n",
    "                                              N_Euler_Maruyama_Steps = len(t_Grid),\n",
    "                                              N_Monte_Carlo_Samples = N_Monte_Carlo_Samples,\n",
    "                                              T = T_end,\n",
    "                                              Hurst=Rougness,\n",
    "                                              Ratio_fBM_to_typical_vol=Ratio_fBM_to_typical_vol)\n",
    "        \n",
    "        # Map numpy to list\n",
    "        measures_locations_loop = paths_loop.tolist()\n",
    "        # Get inputs\n",
    "        X_train_loop = np.append(np.repeat(x_Grid[i],(N_Euler_Maruyama_Steps+1)).reshape(-1,1),\n",
    "                                 t_Grid.reshape(-1,1),\n",
    "                                 axis=1)\n",
    "        \n",
    "        # Append to List\n",
    "        measures_locations_list = measures_locations_list + measures_locations_loop\n",
    "        measures_weights_list.append(measure_weights)\n",
    "        \n",
    "        # Update Inputs\n",
    "        if i==0:\n",
    "            X_train = X_train_loop\n",
    "        else:\n",
    "            X_train = np.append(X_train,X_train_loop,axis=0)\n",
    "    \n",
    "    # Update User\n",
    "    print(\"==================================\")\n",
    "    print(\"Done Simulation Step: Training Set\")\n",
    "    print(\"==================================\")\n",
    "\n",
    "\n",
    "print(\"===============================--------------------------------------===============================\")\n",
    "print(\"===============================--------------------------------------===============================\")\n",
    "print(\"===============================--------------------------------------===============================\")\n",
    "\n",
    "if groud_truth == \"rSDE\":\n",
    "    print(\"===============================\")\n",
    "    print(\"Start Simulation Step: Test Set\")\n",
    "    print(\"===============================\")\n",
    "    # Initialize fBM Generator\n",
    "    fBM_Generator_test = FBM(n=(len(t_Grid_test)-1), hurst=0.75, length=1, method='daviesharte')\n",
    "\n",
    "    # Perform Monte-Carlo Data Generation\n",
    "    for i in tqdm(range(N_Grid_Instances_x_test)):\n",
    "        # Get x\n",
    "        field_loop_x = field_dirction_x(x_Grid_test[i])\n",
    "        # Get omega and t\n",
    "        # Generate finite-variation path (since it stays unchanged)\n",
    "        finite_variation_path = finite_variation_t(t_Grid_test).reshape(-1,1) +field_loop_x\n",
    "        paths_loop = Euler_Maruyama_Generator(x_0=x_Grid_test[i],\n",
    "                                              N_Euler_Maruyama_Steps = len(t_Grid_test),\n",
    "                                              N_Monte_Carlo_Samples = N_Monte_Carlo_Samples_Test,\n",
    "                                              T = T_end_test,\n",
    "                                              Hurst=Rougness,\n",
    "                                              Ratio_fBM_to_typical_vol=Ratio_fBM_to_typical_vol)\n",
    "        \n",
    "        # Map numpy to list\n",
    "        measures_locations_loop = paths_loop.tolist()\n",
    "        # Get inputs\n",
    "        X_test_loop = np.append(np.repeat(x_Grid_test[i],len(t_Grid_test)).reshape(-1,1),\n",
    "                                 t_Grid_test.reshape(-1,1),\n",
    "                                 axis=1)\n",
    "        \n",
    "        # Append to List\n",
    "        measures_locations_test_list = measures_locations_test_list + measures_locations_loop\n",
    "        measures_weights_test_list.append(measure_weights_test)\n",
    "        \n",
    "        # Update Inputs\n",
    "        if i==0:\n",
    "            X_test = X_test_loop\n",
    "        else:\n",
    "            X_test = np.append(X_test,X_test_loop,axis=0)\n",
    "    print(\"==============================\")\n",
    "    print(\"Done Simulation Step: Test Set\")\n",
    "    print(\"==============================\")"
   ]
  },
  {
   "cell_type": "markdown",
   "metadata": {},
   "source": [
    "### Perturbed fBM Generator:"
   ]
  },
  {
   "cell_type": "code",
   "execution_count": 20,
   "metadata": {},
   "outputs": [
    {
     "name": "stdout",
     "output_type": "stream",
     "text": [
      "Current Monte-Carlo Step:\n",
      "===============================--------------------------------------===============================\n",
      "===============================--------------------------------------===============================\n",
      "===============================--------------------------------------===============================\n",
      "===============================--------------------------------------===============================\n",
      "===============================--------------------------------------===============================\n",
      "===============================--------------------------------------===============================\n"
     ]
    }
   ],
   "source": [
    "# Update User\n",
    "print(\"Current Monte-Carlo Step:\")\n",
    "if groud_truth == \"pfBM\":\n",
    "    print(\"===================================\")\n",
    "    print(\"Start Simulation Step: Training Set\")\n",
    "    print(\"===================================\")\n",
    "    # Initialize fBM Generator\n",
    "    fBM_Generator = FBM(n=N_Euler_Maruyama_Steps, hurst=0.75, length=1, method='daviesharte')\n",
    "\n",
    "    # Perform Monte-Carlo Data Generation\n",
    "    for i in tqdm(range(N_Grid_Instances_x)):\n",
    "        # Get x\n",
    "        field_loop_x = field_dirction_x(x_Grid[i])\n",
    "        # Get omega and t\n",
    "        # Generate finite-variation path (since it stays unchanged)\n",
    "        finite_variation_path = finite_variation_t(t_Grid).reshape(-1,1) +field_loop_x\n",
    "        for n_MC in range(N_Monte_Carlo_Samples):\n",
    "            fBM_variation_path_loop = fBM_Generator.fbm().reshape(-1,1)\n",
    "            generated_path_loop = finite_variation_path + fBM_variation_path_loop\n",
    "            if n_MC == 0:\n",
    "                paths_loop = generated_path_loop\n",
    "            else:\n",
    "                paths_loop = np.append(paths_loop,generated_path_loop,axis=-1)\n",
    "        \n",
    "        # Map numpy to list\n",
    "        measures_locations_loop = paths_loop.tolist()\n",
    "        # Get inputs\n",
    "        X_train_loop = np.append(np.repeat(x_Grid[i],(N_Euler_Maruyama_Steps+1)).reshape(-1,1),\n",
    "                                 t_Grid.reshape(-1,1),\n",
    "                                 axis=1)\n",
    "        \n",
    "        # Append to List\n",
    "        measures_locations_list = measures_locations_list + measures_locations_loop\n",
    "        measures_weights_list.append(measure_weights)\n",
    "        \n",
    "        # Update Inputs\n",
    "        if i==0:\n",
    "            X_train = X_train_loop\n",
    "        else:\n",
    "            X_train = np.append(X_train,X_train_loop,axis=0)\n",
    "    \n",
    "    # Update User\n",
    "    print(\"==================================\")\n",
    "    print(\"Done Simulation Step: Training Set\")\n",
    "    print(\"==================================\")\n",
    "\n",
    "\n",
    "print(\"===============================--------------------------------------===============================\")\n",
    "print(\"===============================--------------------------------------===============================\")\n",
    "print(\"===============================--------------------------------------===============================\")\n",
    "\n",
    "if groud_truth == \"pfBM\":\n",
    "    print(\"===============================\")\n",
    "    print(\"Start Simulation Step: Test Set\")\n",
    "    print(\"===============================\")\n",
    "    # Initialize fBM Generator\n",
    "    fBM_Generator_test = FBM(n=(len(t_Grid_test)-1), hurst=0.75, length=1, method='daviesharte')\n",
    "\n",
    "    # Perform Monte-Carlo Data Generation\n",
    "    for i in tqdm(range(N_Grid_Instances_x_test)):\n",
    "        # Get x\n",
    "        field_loop_x = field_dirction_x(x_Grid_test[i])\n",
    "        # Get omega and t\n",
    "        # Generate finite-variation path (since it stays unchanged)\n",
    "        finite_variation_path = finite_variation_t(t_Grid_test).reshape(-1,1) +field_loop_x\n",
    "        for n_MC in range(N_Monte_Carlo_Samples_Test):\n",
    "            fBM_variation_path_loop = fBM_Generator_test.fbm().reshape(-1,1)\n",
    "            generated_path_loop = finite_variation_path + fBM_variation_path_loop\n",
    "            if n_MC == 0:\n",
    "                paths_loop = generated_path_loop\n",
    "            else:\n",
    "                paths_loop = np.append(paths_loop,generated_path_loop,axis=-1)\n",
    "        \n",
    "        # Map numpy to list\n",
    "        measures_locations_loop = paths_loop.tolist()\n",
    "        # Get inputs\n",
    "        X_test_loop = np.append(np.repeat(x_Grid_test[i],len(t_Grid_test)).reshape(-1,1),\n",
    "                                 t_Grid_test.reshape(-1,1),\n",
    "                                 axis=1)\n",
    "        \n",
    "        # Append to List\n",
    "        measures_locations_test_list = measures_locations_test_list + measures_locations_loop\n",
    "        measures_weights_test_list.append(measure_weights_test)\n",
    "        \n",
    "        # Update Inputs\n",
    "        if i==0:\n",
    "            X_test = X_test_loop\n",
    "        else:\n",
    "            X_test = np.append(X_test,X_test_loop,axis=0)\n",
    "    print(\"==============================\")\n",
    "    print(\"Done Simulation Step: Test Set\")\n",
    "    print(\"==============================\")\n",
    "    \n",
    "print(\"===============================--------------------------------------===============================\")\n",
    "print(\"===============================--------------------------------------===============================\")\n",
    "print(\"===============================--------------------------------------===============================\")"
   ]
  },
  {
   "cell_type": "markdown",
   "metadata": {},
   "source": [
    "#### Start Timer (Model Type A)"
   ]
  },
  {
   "cell_type": "code",
   "execution_count": 21,
   "metadata": {},
   "outputs": [],
   "source": [
    "# Start Timer\n",
    "Type_A_timer_Begin = time.time()"
   ]
  },
  {
   "cell_type": "markdown",
   "metadata": {},
   "source": [
    "## Get \"Sample Barycenters\":\n",
    "Let $\\{\\mu_n\\}_{n=1}^N\\subset\\mathcal{P}_1(\\mathbb{R}^d)$.  Then, the *sample barycenter* is defined by:\n",
    "1. $\\mathcal{M}^{(0)}\\triangleq \\left\\{\\hat{\\mu}_n\\right\\}_{n=1}^N$,\n",
    "2. For $1\\leq n\\leq \\mbox{N sample barycenters}$: \n",
    "    - $\n",
    "\\mu^{\\star}\\in \\underset{\\tilde{\\mu}\\in \\mathcal{M}^{(n)}}{\\operatorname{argmin}}\\, \\sum_{n=1}^N \\mathcal{W}_1\\left(\\mu^{\\star},\\mu_n\\right),\n",
    "$\n",
    "    - $\\mathcal{M}^{(n)}\\triangleq \\mathcal{M}^{(n-1)} - \\{\\mu^{\\star}\\},$\n",
    "*i.e., the closest generated measure form the random sample to all other elements of the random sample.*\n",
    "\n",
    "---\n",
    "**Note:** *We simplify the computational burden of getting the correct classes by putting this right into this next loop.*\n",
    "\n",
    "---"
   ]
  },
  {
   "cell_type": "markdown",
   "metadata": {},
   "source": [
    "## Build Dissimilarity (Distance) Matrix\n",
    "*In this step we build a dissimularity matrix of the dataset on the Wasserstein-1 space.  Namely:*\n",
    "$$\n",
    "\\operatorname{Mat}_{\\# \\mathbb{X},\\# \\mathbb{X}}\\left(\\mathbb{R}\\right)\\ni D; \\text{ where}\\qquad \\, D_{i,j}\\triangleq \\mathcal{W}_1\\left(f(x_i),f(x_j)\\right)\n",
    ";\n",
    "$$\n",
    "*where $f\\in C\\left((\\mathcal{X},\\mathcal{P}_1(\\mathcal{Y})\\right)$ is the \"target\" function we are learning.*\n",
    "\n",
    "**Note**: *Computing the dissimularity matrix is the most costly part of the entire algorithm with a complexity of at-most $\\mathcal{O}\\left(E_{W} \\# \\mathbb{X})^2\\right)$ where $E_W$ denotes the complexity of a single Wasserstein-1 evaluation between two elements of the dataset.*"
   ]
  },
  {
   "cell_type": "markdown",
   "metadata": {},
   "source": [
    "### Get Minibatch Cover"
   ]
  },
  {
   "cell_type": "code",
   "execution_count": 22,
   "metadata": {},
   "outputs": [
    {
     "name": "stderr",
     "output_type": "stream",
     "text": [
      "100%|██████████| 5/5 [00:00<00:00, 61.39it/s]\n",
      "  0%|          | 0/152 [00:00<?, ?it/s]/usr/lib/python3.7/site-packages/ipykernel_launcher.py:98: RuntimeWarning: invalid value encountered in multiply\n"
     ]
    },
    {
     "name": "stdout",
     "output_type": "stream",
     "text": [
      "😀  Building Random Covering 😀 !\n",
      "Data-Points per Random Sample:  25\n",
      "⤢ Current iteration of Mini-Batch Random Covering:  0\n",
      "Remaining points to cluster:  303\n"
     ]
    },
    {
     "name": "stderr",
     "output_type": "stream",
     "text": [
      "100%|██████████| 152/152 [00:00<00:00, 456.69it/s]\n",
      "100%|██████████| 5/5 [00:00<00:00, 79.21it/s]\n",
      " 69%|██████▉   | 105/152 [00:00<00:00, 1046.88it/s]"
     ]
    },
    {
     "name": "stdout",
     "output_type": "stream",
     "text": [
      "⤢ Current iteration of Mini-Batch Random Covering:  1\n",
      "Remaining points to cluster:  298\n"
     ]
    },
    {
     "name": "stderr",
     "output_type": "stream",
     "text": [
      "100%|██████████| 152/152 [00:00<00:00, 715.52it/s] \n",
      "100%|██████████| 5/5 [00:00<00:00, 79.36it/s]\n",
      " 68%|██████▊   | 103/152 [00:00<00:00, 1019.42it/s]"
     ]
    },
    {
     "name": "stdout",
     "output_type": "stream",
     "text": [
      "⤢ Current iteration of Mini-Batch Random Covering:  2\n",
      "Remaining points to cluster:  293\n"
     ]
    },
    {
     "name": "stderr",
     "output_type": "stream",
     "text": [
      "100%|██████████| 152/152 [00:00<00:00, 698.28it/s] \n",
      "100%|██████████| 5/5 [00:00<00:00, 72.84it/s]\n",
      " 72%|███████▏  | 110/152 [00:00<00:00, 1099.38it/s]"
     ]
    },
    {
     "name": "stdout",
     "output_type": "stream",
     "text": [
      "⤢ Current iteration of Mini-Batch Random Covering:  3\n",
      "Remaining points to cluster:  288\n"
     ]
    },
    {
     "name": "stderr",
     "output_type": "stream",
     "text": [
      "100%|██████████| 152/152 [00:00<00:00, 760.56it/s] \n",
      "100%|██████████| 5/5 [00:00<00:00, 66.65it/s]\n",
      " 72%|███████▏  | 109/152 [00:00<00:00, 1087.73it/s]"
     ]
    },
    {
     "name": "stdout",
     "output_type": "stream",
     "text": [
      "⤢ Current iteration of Mini-Batch Random Covering:  4\n",
      "Remaining points to cluster:  283\n"
     ]
    },
    {
     "name": "stderr",
     "output_type": "stream",
     "text": [
      "100%|██████████| 152/152 [00:00<00:00, 721.99it/s] \n",
      "100%|██████████| 5/5 [00:00<00:00, 58.95it/s]\n",
      " 60%|█████▉    | 91/152 [00:00<00:00, 893.70it/s]"
     ]
    },
    {
     "name": "stdout",
     "output_type": "stream",
     "text": [
      "⤢ Current iteration of Mini-Batch Random Covering:  5\n",
      "Remaining points to cluster:  278\n"
     ]
    },
    {
     "name": "stderr",
     "output_type": "stream",
     "text": [
      "100%|██████████| 152/152 [00:00<00:00, 572.81it/s]\n",
      "100%|██████████| 5/5 [00:00<00:00, 64.01it/s]\n",
      " 58%|█████▊    | 88/152 [00:00<00:00, 861.94it/s]"
     ]
    },
    {
     "name": "stdout",
     "output_type": "stream",
     "text": [
      "⤢ Current iteration of Mini-Batch Random Covering:  6\n",
      "Remaining points to cluster:  273\n"
     ]
    },
    {
     "name": "stderr",
     "output_type": "stream",
     "text": [
      "100%|██████████| 152/152 [00:00<00:00, 555.08it/s]\n",
      "100%|██████████| 5/5 [00:00<00:00, 62.09it/s]\n",
      " 59%|█████▊    | 89/152 [00:00<00:00, 884.75it/s]"
     ]
    },
    {
     "name": "stdout",
     "output_type": "stream",
     "text": [
      "⤢ Current iteration of Mini-Batch Random Covering:  7\n",
      "Remaining points to cluster:  268\n"
     ]
    },
    {
     "name": "stderr",
     "output_type": "stream",
     "text": [
      "100%|██████████| 152/152 [00:00<00:00, 552.78it/s]\n",
      "100%|██████████| 5/5 [00:00<00:00, 63.62it/s]\n",
      " 61%|██████    | 93/152 [00:00<00:00, 928.52it/s]"
     ]
    },
    {
     "name": "stdout",
     "output_type": "stream",
     "text": [
      "⤢ Current iteration of Mini-Batch Random Covering:  8\n",
      "Remaining points to cluster:  263\n"
     ]
    },
    {
     "name": "stderr",
     "output_type": "stream",
     "text": [
      "100%|██████████| 152/152 [00:00<00:00, 534.95it/s]\n",
      "100%|██████████| 5/5 [00:00<00:00, 62.91it/s]\n",
      " 59%|█████▉    | 90/152 [00:00<00:00, 893.54it/s]"
     ]
    },
    {
     "name": "stdout",
     "output_type": "stream",
     "text": [
      "⤢ Current iteration of Mini-Batch Random Covering:  9\n",
      "Remaining points to cluster:  258\n"
     ]
    },
    {
     "name": "stderr",
     "output_type": "stream",
     "text": [
      "100%|██████████| 152/152 [00:00<00:00, 533.37it/s]\n",
      "100%|██████████| 5/5 [00:00<00:00, 60.25it/s]\n",
      " 62%|██████▎   | 95/152 [00:00<00:00, 934.68it/s]"
     ]
    },
    {
     "name": "stdout",
     "output_type": "stream",
     "text": [
      "⤢ Current iteration of Mini-Batch Random Covering:  10\n",
      "Remaining points to cluster:  253\n"
     ]
    },
    {
     "name": "stderr",
     "output_type": "stream",
     "text": [
      "100%|██████████| 152/152 [00:00<00:00, 575.58it/s]\n",
      "100%|██████████| 5/5 [00:00<00:00, 64.02it/s]\n",
      " 63%|██████▎   | 96/152 [00:00<00:00, 944.69it/s]"
     ]
    },
    {
     "name": "stdout",
     "output_type": "stream",
     "text": [
      "⤢ Current iteration of Mini-Batch Random Covering:  11\n",
      "Remaining points to cluster:  248\n"
     ]
    },
    {
     "name": "stderr",
     "output_type": "stream",
     "text": [
      "100%|██████████| 152/152 [00:00<00:00, 549.55it/s]\n",
      "100%|██████████| 5/5 [00:00<00:00, 65.26it/s]\n",
      " 61%|██████    | 93/152 [00:00<00:00, 926.84it/s]"
     ]
    },
    {
     "name": "stdout",
     "output_type": "stream",
     "text": [
      "⤢ Current iteration of Mini-Batch Random Covering:  12\n",
      "Remaining points to cluster:  243\n"
     ]
    },
    {
     "name": "stderr",
     "output_type": "stream",
     "text": [
      "100%|██████████| 152/152 [00:00<00:00, 549.50it/s]\n",
      "100%|██████████| 5/5 [00:00<00:00, 57.70it/s]\n",
      " 60%|█████▉    | 91/152 [00:00<00:00, 907.01it/s]"
     ]
    },
    {
     "name": "stdout",
     "output_type": "stream",
     "text": [
      "⤢ Current iteration of Mini-Batch Random Covering:  13\n",
      "Remaining points to cluster:  238\n"
     ]
    },
    {
     "name": "stderr",
     "output_type": "stream",
     "text": [
      "100%|██████████| 152/152 [00:00<00:00, 581.12it/s]\n",
      "100%|██████████| 5/5 [00:00<00:00, 68.30it/s]\n",
      " 66%|██████▌   | 100/152 [00:00<00:00, 983.01it/s]"
     ]
    },
    {
     "name": "stdout",
     "output_type": "stream",
     "text": [
      "⤢ Current iteration of Mini-Batch Random Covering:  14\n",
      "Remaining points to cluster:  233\n"
     ]
    },
    {
     "name": "stderr",
     "output_type": "stream",
     "text": [
      "100%|██████████| 152/152 [00:00<00:00, 686.01it/s]\n",
      "100%|██████████| 5/5 [00:00<00:00, 71.38it/s]\n",
      " 69%|██████▉   | 105/152 [00:00<00:00, 1038.65it/s]"
     ]
    },
    {
     "name": "stdout",
     "output_type": "stream",
     "text": [
      "⤢ Current iteration of Mini-Batch Random Covering:  15\n",
      "Remaining points to cluster:  228\n"
     ]
    },
    {
     "name": "stderr",
     "output_type": "stream",
     "text": [
      "100%|██████████| 152/152 [00:00<00:00, 723.32it/s] \n",
      "100%|██████████| 5/5 [00:00<00:00, 90.18it/s]\n",
      " 74%|███████▎  | 112/152 [00:00<00:00, 1118.89it/s]"
     ]
    },
    {
     "name": "stdout",
     "output_type": "stream",
     "text": [
      "⤢ Current iteration of Mini-Batch Random Covering:  16\n",
      "Remaining points to cluster:  223\n"
     ]
    },
    {
     "name": "stderr",
     "output_type": "stream",
     "text": [
      "100%|██████████| 152/152 [00:00<00:00, 819.68it/s] \n",
      "100%|██████████| 5/5 [00:00<00:00, 81.31it/s]\n",
      " 75%|███████▌  | 114/152 [00:00<00:00, 1123.15it/s]"
     ]
    },
    {
     "name": "stdout",
     "output_type": "stream",
     "text": [
      "⤢ Current iteration of Mini-Batch Random Covering:  17\n",
      "Remaining points to cluster:  218\n"
     ]
    },
    {
     "name": "stderr",
     "output_type": "stream",
     "text": [
      "100%|██████████| 152/152 [00:00<00:00, 796.85it/s] \n",
      "100%|██████████| 5/5 [00:00<00:00, 82.55it/s]\n",
      " 78%|███████▊  | 119/152 [00:00<00:00, 1175.38it/s]"
     ]
    },
    {
     "name": "stdout",
     "output_type": "stream",
     "text": [
      "⤢ Current iteration of Mini-Batch Random Covering:  18\n",
      "Remaining points to cluster:  213\n"
     ]
    },
    {
     "name": "stderr",
     "output_type": "stream",
     "text": [
      "100%|██████████| 152/152 [00:00<00:00, 865.08it/s] \n",
      "100%|██████████| 5/5 [00:00<00:00, 74.23it/s]\n",
      " 65%|██████▌   | 99/152 [00:00<00:00, 978.31it/s]"
     ]
    },
    {
     "name": "stdout",
     "output_type": "stream",
     "text": [
      "⤢ Current iteration of Mini-Batch Random Covering:  19\n",
      "Remaining points to cluster:  208\n"
     ]
    },
    {
     "name": "stderr",
     "output_type": "stream",
     "text": [
      "100%|██████████| 152/152 [00:00<00:00, 667.52it/s]\n",
      "100%|██████████| 5/5 [00:00<00:00, 77.56it/s]\n",
      " 69%|██████▉   | 105/152 [00:00<00:00, 1040.51it/s]"
     ]
    },
    {
     "name": "stdout",
     "output_type": "stream",
     "text": [
      "⤢ Current iteration of Mini-Batch Random Covering:  20\n",
      "Remaining points to cluster:  203\n"
     ]
    },
    {
     "name": "stderr",
     "output_type": "stream",
     "text": [
      "100%|██████████| 152/152 [00:00<00:00, 629.22it/s] \n",
      "100%|██████████| 5/5 [00:00<00:00, 65.03it/s]\n",
      " 57%|█████▋    | 86/152 [00:00<00:00, 847.95it/s]"
     ]
    },
    {
     "name": "stdout",
     "output_type": "stream",
     "text": [
      "⤢ Current iteration of Mini-Batch Random Covering:  21\n",
      "Remaining points to cluster:  198\n"
     ]
    },
    {
     "name": "stderr",
     "output_type": "stream",
     "text": [
      "100%|██████████| 152/152 [00:00<00:00, 520.80it/s]\n",
      "100%|██████████| 5/5 [00:00<00:00, 67.18it/s]\n",
      " 68%|██████▊   | 103/152 [00:00<00:00, 1016.38it/s]"
     ]
    },
    {
     "name": "stdout",
     "output_type": "stream",
     "text": [
      "⤢ Current iteration of Mini-Batch Random Covering:  22\n",
      "Remaining points to cluster:  193\n"
     ]
    },
    {
     "name": "stderr",
     "output_type": "stream",
     "text": [
      "100%|██████████| 152/152 [00:00<00:00, 620.15it/s] \n",
      "100%|██████████| 5/5 [00:00<00:00, 61.18it/s]\n",
      " 64%|██████▍   | 98/152 [00:00<00:00, 970.33it/s]"
     ]
    },
    {
     "name": "stdout",
     "output_type": "stream",
     "text": [
      "⤢ Current iteration of Mini-Batch Random Covering:  23\n",
      "Remaining points to cluster:  188\n"
     ]
    },
    {
     "name": "stderr",
     "output_type": "stream",
     "text": [
      "100%|██████████| 152/152 [00:00<00:00, 594.35it/s]\n",
      "100%|██████████| 5/5 [00:00<00:00, 69.64it/s]\n",
      " 61%|██████    | 93/152 [00:00<00:00, 916.90it/s]"
     ]
    },
    {
     "name": "stdout",
     "output_type": "stream",
     "text": [
      "⤢ Current iteration of Mini-Batch Random Covering:  24\n",
      "Remaining points to cluster:  183\n"
     ]
    },
    {
     "name": "stderr",
     "output_type": "stream",
     "text": [
      "100%|██████████| 152/152 [00:00<00:00, 675.01it/s]\n",
      "100%|██████████| 5/5 [00:00<00:00, 79.81it/s]\n",
      " 68%|██████▊   | 103/152 [00:00<00:00, 1010.17it/s]"
     ]
    },
    {
     "name": "stdout",
     "output_type": "stream",
     "text": [
      "⤢ Current iteration of Mini-Batch Random Covering:  25\n",
      "Remaining points to cluster:  178\n"
     ]
    },
    {
     "name": "stderr",
     "output_type": "stream",
     "text": [
      "100%|██████████| 152/152 [00:00<00:00, 661.50it/s] \n",
      "100%|██████████| 5/5 [00:00<00:00, 77.78it/s]\n",
      " 71%|███████   | 108/152 [00:00<00:00, 1064.60it/s]"
     ]
    },
    {
     "name": "stdout",
     "output_type": "stream",
     "text": [
      "⤢ Current iteration of Mini-Batch Random Covering:  26\n",
      "Remaining points to cluster:  173\n"
     ]
    },
    {
     "name": "stderr",
     "output_type": "stream",
     "text": [
      "100%|██████████| 152/152 [00:00<00:00, 771.42it/s] \n",
      "100%|██████████| 5/5 [00:00<00:00, 73.50it/s]\n",
      " 75%|███████▌  | 114/152 [00:00<00:00, 1137.08it/s]"
     ]
    },
    {
     "name": "stdout",
     "output_type": "stream",
     "text": [
      "⤢ Current iteration of Mini-Batch Random Covering:  27\n",
      "Remaining points to cluster:  168\n"
     ]
    },
    {
     "name": "stderr",
     "output_type": "stream",
     "text": [
      "100%|██████████| 152/152 [00:00<00:00, 803.83it/s] \n",
      "100%|██████████| 5/5 [00:00<00:00, 77.26it/s]\n",
      " 76%|███████▋  | 116/152 [00:00<00:00, 1142.27it/s]"
     ]
    },
    {
     "name": "stdout",
     "output_type": "stream",
     "text": [
      "⤢ Current iteration of Mini-Batch Random Covering:  28\n",
      "Remaining points to cluster:  163\n"
     ]
    },
    {
     "name": "stderr",
     "output_type": "stream",
     "text": [
      "100%|██████████| 152/152 [00:00<00:00, 828.06it/s] \n",
      "100%|██████████| 5/5 [00:00<00:00, 74.88it/s]\n",
      " 66%|██████▋   | 101/152 [00:00<00:00, 1009.26it/s]"
     ]
    },
    {
     "name": "stdout",
     "output_type": "stream",
     "text": [
      "⤢ Current iteration of Mini-Batch Random Covering:  29\n",
      "Remaining points to cluster:  158\n"
     ]
    },
    {
     "name": "stderr",
     "output_type": "stream",
     "text": [
      "100%|██████████| 152/152 [00:00<00:00, 691.00it/s] \n",
      "100%|██████████| 5/5 [00:00<00:00, 81.97it/s]\n",
      " 71%|███████   | 108/152 [00:00<00:00, 1065.26it/s]"
     ]
    },
    {
     "name": "stdout",
     "output_type": "stream",
     "text": [
      "⤢ Current iteration of Mini-Batch Random Covering:  30\n",
      "Remaining points to cluster:  153\n"
     ]
    },
    {
     "name": "stderr",
     "output_type": "stream",
     "text": [
      "100%|██████████| 152/152 [00:00<00:00, 769.35it/s] \n",
      "100%|██████████| 5/5 [00:00<00:00, 83.49it/s]\n",
      " 68%|██████▊   | 104/152 [00:00<00:00, 1022.76it/s]"
     ]
    },
    {
     "name": "stdout",
     "output_type": "stream",
     "text": [
      "⤢ Current iteration of Mini-Batch Random Covering:  31\n",
      "Remaining points to cluster:  148\n"
     ]
    },
    {
     "name": "stderr",
     "output_type": "stream",
     "text": [
      "100%|██████████| 152/152 [00:00<00:00, 706.34it/s] \n",
      "100%|██████████| 5/5 [00:00<00:00, 66.29it/s]\n",
      " 71%|███████   | 108/152 [00:00<00:00, 1073.99it/s]"
     ]
    },
    {
     "name": "stdout",
     "output_type": "stream",
     "text": [
      "⤢ Current iteration of Mini-Batch Random Covering:  32\n",
      "Remaining points to cluster:  143\n"
     ]
    },
    {
     "name": "stderr",
     "output_type": "stream",
     "text": [
      "100%|██████████| 152/152 [00:00<00:00, 764.45it/s] \n",
      "100%|██████████| 5/5 [00:00<00:00, 68.93it/s]\n",
      " 66%|██████▋   | 101/152 [00:00<00:00, 1002.98it/s]"
     ]
    },
    {
     "name": "stdout",
     "output_type": "stream",
     "text": [
      "⤢ Current iteration of Mini-Batch Random Covering:  33\n",
      "Remaining points to cluster:  138\n"
     ]
    },
    {
     "name": "stderr",
     "output_type": "stream",
     "text": [
      "100%|██████████| 152/152 [00:00<00:00, 692.43it/s] \n",
      "100%|██████████| 5/5 [00:00<00:00, 78.70it/s]\n",
      " 74%|███████▍  | 113/152 [00:00<00:00, 1116.49it/s]"
     ]
    },
    {
     "name": "stdout",
     "output_type": "stream",
     "text": [
      "⤢ Current iteration of Mini-Batch Random Covering:  34\n",
      "Remaining points to cluster:  133\n"
     ]
    },
    {
     "name": "stderr",
     "output_type": "stream",
     "text": [
      "100%|██████████| 152/152 [00:00<00:00, 788.12it/s] \n",
      "100%|██████████| 5/5 [00:00<00:00, 84.47it/s]\n",
      " 69%|██████▉   | 105/152 [00:00<00:00, 1035.46it/s]"
     ]
    },
    {
     "name": "stdout",
     "output_type": "stream",
     "text": [
      "⤢ Current iteration of Mini-Batch Random Covering:  35\n",
      "Remaining points to cluster:  128\n"
     ]
    },
    {
     "name": "stderr",
     "output_type": "stream",
     "text": [
      "100%|██████████| 152/152 [00:00<00:00, 723.73it/s] \n",
      "100%|██████████| 5/5 [00:00<00:00, 80.92it/s]\n",
      " 76%|███████▋  | 116/152 [00:00<00:00, 1155.99it/s]"
     ]
    },
    {
     "name": "stdout",
     "output_type": "stream",
     "text": [
      "⤢ Current iteration of Mini-Batch Random Covering:  36\n",
      "Remaining points to cluster:  123\n"
     ]
    },
    {
     "name": "stderr",
     "output_type": "stream",
     "text": [
      "100%|██████████| 152/152 [00:00<00:00, 845.85it/s] \n",
      "100%|██████████| 5/5 [00:00<00:00, 78.22it/s]\n",
      " 72%|███████▏  | 109/152 [00:00<00:00, 1084.52it/s]"
     ]
    },
    {
     "name": "stdout",
     "output_type": "stream",
     "text": [
      "⤢ Current iteration of Mini-Batch Random Covering:  37\n",
      "Remaining points to cluster:  118\n"
     ]
    },
    {
     "name": "stderr",
     "output_type": "stream",
     "text": [
      "100%|██████████| 152/152 [00:00<00:00, 747.20it/s] \n",
      "100%|██████████| 5/5 [00:00<00:00, 77.65it/s]\n",
      " 73%|███████▎  | 111/152 [00:00<00:00, 1104.18it/s]"
     ]
    },
    {
     "name": "stdout",
     "output_type": "stream",
     "text": [
      "⤢ Current iteration of Mini-Batch Random Covering:  38\n",
      "Remaining points to cluster:  113\n"
     ]
    },
    {
     "name": "stderr",
     "output_type": "stream",
     "text": [
      "100%|██████████| 152/152 [00:00<00:00, 786.55it/s] \n",
      "100%|██████████| 5/5 [00:00<00:00, 83.99it/s]\n",
      " 73%|███████▎  | 111/152 [00:00<00:00, 1088.83it/s]"
     ]
    },
    {
     "name": "stdout",
     "output_type": "stream",
     "text": [
      "⤢ Current iteration of Mini-Batch Random Covering:  39\n",
      "Remaining points to cluster:  108\n"
     ]
    },
    {
     "name": "stderr",
     "output_type": "stream",
     "text": [
      "100%|██████████| 152/152 [00:00<00:00, 760.67it/s] \n",
      "100%|██████████| 5/5 [00:00<00:00, 79.72it/s]\n",
      " 76%|███████▋  | 116/152 [00:00<00:00, 1143.08it/s]"
     ]
    },
    {
     "name": "stdout",
     "output_type": "stream",
     "text": [
      "⤢ Current iteration of Mini-Batch Random Covering:  40\n",
      "Remaining points to cluster:  103\n"
     ]
    },
    {
     "name": "stderr",
     "output_type": "stream",
     "text": [
      "100%|██████████| 152/152 [00:00<00:00, 826.33it/s] \n",
      "100%|██████████| 5/5 [00:00<00:00, 77.66it/s]\n",
      " 73%|███████▎  | 111/152 [00:00<00:00, 1097.74it/s]"
     ]
    },
    {
     "name": "stdout",
     "output_type": "stream",
     "text": [
      "⤢ Current iteration of Mini-Batch Random Covering:  41\n",
      "Remaining points to cluster:  98\n"
     ]
    },
    {
     "name": "stderr",
     "output_type": "stream",
     "text": [
      "100%|██████████| 152/152 [00:00<00:00, 753.04it/s] \n",
      "100%|██████████| 5/5 [00:00<00:00, 70.58it/s]\n",
      " 75%|███████▌  | 114/152 [00:00<00:00, 1123.85it/s]"
     ]
    },
    {
     "name": "stdout",
     "output_type": "stream",
     "text": [
      "⤢ Current iteration of Mini-Batch Random Covering:  42\n",
      "Remaining points to cluster:  93\n"
     ]
    },
    {
     "name": "stderr",
     "output_type": "stream",
     "text": [
      "100%|██████████| 152/152 [00:00<00:00, 784.76it/s] \n",
      "100%|██████████| 5/5 [00:00<00:00, 76.48it/s]\n",
      " 72%|███████▏  | 110/152 [00:00<00:00, 1093.45it/s]"
     ]
    },
    {
     "name": "stdout",
     "output_type": "stream",
     "text": [
      "⤢ Current iteration of Mini-Batch Random Covering:  43\n",
      "Remaining points to cluster:  88\n"
     ]
    },
    {
     "name": "stderr",
     "output_type": "stream",
     "text": [
      "100%|██████████| 152/152 [00:00<00:00, 760.69it/s] \n",
      "100%|██████████| 5/5 [00:00<00:00, 78.47it/s]\n",
      " 74%|███████▍  | 113/152 [00:00<00:00, 1125.67it/s]"
     ]
    },
    {
     "name": "stdout",
     "output_type": "stream",
     "text": [
      "⤢ Current iteration of Mini-Batch Random Covering:  44\n",
      "Remaining points to cluster:  83\n"
     ]
    },
    {
     "name": "stderr",
     "output_type": "stream",
     "text": [
      "100%|██████████| 152/152 [00:00<00:00, 798.67it/s] \n",
      "100%|██████████| 5/5 [00:00<00:00, 83.52it/s]\n",
      " 66%|██████▌   | 100/152 [00:00<00:00, 988.19it/s]"
     ]
    },
    {
     "name": "stdout",
     "output_type": "stream",
     "text": [
      "⤢ Current iteration of Mini-Batch Random Covering:  45\n",
      "Remaining points to cluster:  78\n"
     ]
    },
    {
     "name": "stderr",
     "output_type": "stream",
     "text": [
      "100%|██████████| 152/152 [00:00<00:00, 694.33it/s]\n",
      "100%|██████████| 5/5 [00:00<00:00, 75.79it/s]\n",
      " 72%|███████▏  | 109/152 [00:00<00:00, 1088.35it/s]"
     ]
    },
    {
     "name": "stdout",
     "output_type": "stream",
     "text": [
      "⤢ Current iteration of Mini-Batch Random Covering:  46\n",
      "Remaining points to cluster:  73\n"
     ]
    },
    {
     "name": "stderr",
     "output_type": "stream",
     "text": [
      "100%|██████████| 152/152 [00:00<00:00, 772.83it/s] \n",
      "100%|██████████| 5/5 [00:00<00:00, 74.11it/s]\n",
      " 74%|███████▎  | 112/152 [00:00<00:00, 1119.10it/s]"
     ]
    },
    {
     "name": "stdout",
     "output_type": "stream",
     "text": [
      "⤢ Current iteration of Mini-Batch Random Covering:  47\n",
      "Remaining points to cluster:  68\n"
     ]
    },
    {
     "name": "stderr",
     "output_type": "stream",
     "text": [
      "100%|██████████| 152/152 [00:00<00:00, 767.50it/s] \n",
      "100%|██████████| 5/5 [00:00<00:00, 75.77it/s]\n",
      " 74%|███████▎  | 112/152 [00:00<00:00, 1100.10it/s]"
     ]
    },
    {
     "name": "stdout",
     "output_type": "stream",
     "text": [
      "⤢ Current iteration of Mini-Batch Random Covering:  48\n",
      "Remaining points to cluster:  63\n"
     ]
    },
    {
     "name": "stderr",
     "output_type": "stream",
     "text": [
      "100%|██████████| 152/152 [00:00<00:00, 788.91it/s] \n",
      "100%|██████████| 5/5 [00:00<00:00, 77.67it/s]\n",
      " 68%|██████▊   | 103/152 [00:00<00:00, 1028.81it/s]"
     ]
    },
    {
     "name": "stdout",
     "output_type": "stream",
     "text": [
      "⤢ Current iteration of Mini-Batch Random Covering:  49\n",
      "Remaining points to cluster:  58\n"
     ]
    },
    {
     "name": "stderr",
     "output_type": "stream",
     "text": [
      "100%|██████████| 152/152 [00:00<00:00, 712.52it/s] \n",
      "100%|██████████| 5/5 [00:00<00:00, 82.78it/s]\n",
      " 70%|███████   | 107/152 [00:00<00:00, 1068.78it/s]"
     ]
    },
    {
     "name": "stdout",
     "output_type": "stream",
     "text": [
      "⤢ Current iteration of Mini-Batch Random Covering:  50\n",
      "Remaining points to cluster:  53\n"
     ]
    },
    {
     "name": "stderr",
     "output_type": "stream",
     "text": [
      "100%|██████████| 152/152 [00:00<00:00, 764.06it/s] \n",
      "100%|██████████| 5/5 [00:00<00:00, 73.94it/s]\n",
      " 72%|███████▏  | 110/152 [00:00<00:00, 1084.03it/s]"
     ]
    },
    {
     "name": "stdout",
     "output_type": "stream",
     "text": [
      "⤢ Current iteration of Mini-Batch Random Covering:  51\n",
      "Remaining points to cluster:  48\n"
     ]
    },
    {
     "name": "stderr",
     "output_type": "stream",
     "text": [
      "100%|██████████| 152/152 [00:00<00:00, 747.87it/s] \n",
      "100%|██████████| 5/5 [00:00<00:00, 69.93it/s]\n",
      " 78%|███████▊  | 118/152 [00:00<00:00, 1165.08it/s]"
     ]
    },
    {
     "name": "stdout",
     "output_type": "stream",
     "text": [
      "⤢ Current iteration of Mini-Batch Random Covering:  52\n",
      "Remaining points to cluster:  43\n"
     ]
    },
    {
     "name": "stderr",
     "output_type": "stream",
     "text": [
      "100%|██████████| 152/152 [00:00<00:00, 834.00it/s] \n",
      "100%|██████████| 5/5 [00:00<00:00, 77.27it/s]\n",
      " 72%|███████▏  | 109/152 [00:00<00:00, 1082.95it/s]"
     ]
    },
    {
     "name": "stdout",
     "output_type": "stream",
     "text": [
      "⤢ Current iteration of Mini-Batch Random Covering:  53\n",
      "Remaining points to cluster:  38\n"
     ]
    },
    {
     "name": "stderr",
     "output_type": "stream",
     "text": [
      "100%|██████████| 152/152 [00:00<00:00, 749.61it/s] \n",
      "100%|██████████| 5/5 [00:00<00:00, 76.64it/s]\n",
      " 71%|███████   | 108/152 [00:00<00:00, 1060.53it/s]"
     ]
    },
    {
     "name": "stdout",
     "output_type": "stream",
     "text": [
      "⤢ Current iteration of Mini-Batch Random Covering:  54\n",
      "Remaining points to cluster:  33\n"
     ]
    },
    {
     "name": "stderr",
     "output_type": "stream",
     "text": [
      "100%|██████████| 152/152 [00:00<00:00, 753.04it/s] \n",
      "100%|██████████| 5/5 [00:00<00:00, 84.45it/s]\n",
      " 70%|██████▉   | 106/152 [00:00<00:00, 1043.69it/s]"
     ]
    },
    {
     "name": "stdout",
     "output_type": "stream",
     "text": [
      "⤢ Current iteration of Mini-Batch Random Covering:  55\n",
      "Remaining points to cluster:  28\n"
     ]
    },
    {
     "name": "stderr",
     "output_type": "stream",
     "text": [
      "100%|██████████| 152/152 [00:00<00:00, 717.16it/s] \n",
      "100%|██████████| 5/5 [00:00<00:00, 76.61it/s]\n",
      " 72%|███████▏  | 110/152 [00:00<00:00, 1097.02it/s]"
     ]
    },
    {
     "name": "stdout",
     "output_type": "stream",
     "text": [
      "⤢ Current iteration of Mini-Batch Random Covering:  56\n",
      "Remaining points to cluster:  23\n"
     ]
    },
    {
     "name": "stderr",
     "output_type": "stream",
     "text": [
      "100%|██████████| 152/152 [00:00<00:00, 791.99it/s] \n",
      "100%|██████████| 5/5 [00:00<00:00, 75.98it/s]\n",
      " 67%|██████▋   | 102/152 [00:00<00:00, 1006.96it/s]"
     ]
    },
    {
     "name": "stdout",
     "output_type": "stream",
     "text": [
      "⤢ Current iteration of Mini-Batch Random Covering:  57\n",
      "Remaining points to cluster:  18\n"
     ]
    },
    {
     "name": "stderr",
     "output_type": "stream",
     "text": [
      "100%|██████████| 152/152 [00:00<00:00, 711.04it/s] \n",
      "100%|██████████| 5/5 [00:00<00:00, 73.46it/s]\n",
      " 77%|███████▋  | 117/152 [00:00<00:00, 1153.64it/s]"
     ]
    },
    {
     "name": "stdout",
     "output_type": "stream",
     "text": [
      "⤢ Current iteration of Mini-Batch Random Covering:  58\n",
      "Remaining points to cluster:  13\n"
     ]
    },
    {
     "name": "stderr",
     "output_type": "stream",
     "text": [
      "100%|██████████| 152/152 [00:00<00:00, 827.37it/s] \n",
      "100%|██████████| 5/5 [00:00<00:00, 79.59it/s]\n",
      " 72%|███████▏  | 109/152 [00:00<00:00, 1078.37it/s]"
     ]
    },
    {
     "name": "stdout",
     "output_type": "stream",
     "text": [
      "⤢ Current iteration of Mini-Batch Random Covering:  59\n",
      "Remaining points to cluster:  8\n"
     ]
    },
    {
     "name": "stderr",
     "output_type": "stream",
     "text": [
      "\r",
      "100%|██████████| 152/152 [00:00<00:00, 747.87it/s] "
     ]
    },
    {
     "name": "stdout",
     "output_type": "stream",
     "text": [
      "⤢ Current iteration of Mini-Batch Random Covering:  60\n",
      "Remaining points to cluster:  3\n",
      "----------------------------------------------------------------------------------------------\n",
      "Average Classes Per Sample Barycenter:  1.0033003300330032\n",
      "Left-Overs: 0\n",
      "----------------------------------------------------------------------------------------------\n",
      "😀  Done Random Covering 😀 !\n"
     ]
    },
    {
     "name": "stderr",
     "output_type": "stream",
     "text": [
      "\n"
     ]
    }
   ],
   "source": [
    "# Update User\n",
    "print(\"\\U0001F600\",\" Building Random Covering\",\"\\U0001F600\",\"!\")\n",
    "\n",
    "\n",
    "#-----------------#\n",
    "# Initializations #\n",
    "#-----------------#\n",
    "print(\"Data-Points per Random Sample: \", Covering_Mini_Batch_Size**2)\n",
    "\n",
    "# Initialize Inder for intput/output data\n",
    "index_remaining = np.array(range(len(measures_locations_list)))\n",
    "# Count number of remaining datums to cluster:\n",
    "length_of_sample = len(index_remaining)\n",
    "# Initialize Mini-batch iteration counter\n",
    "mini_batch_iteration_counter = 0\n",
    "# Number of iteration:\n",
    "# len(measures_locations_list)/Covering_Mini_Batch_Size\n",
    "\n",
    "#--------------------#\n",
    "# Build Random-Cover #\n",
    "#--------------------#\n",
    "while length_of_sample >0:\n",
    "    print(\"\\u2922 Current iteration of Mini-Batch Random Covering: \",mini_batch_iteration_counter)\n",
    "    # Update User\n",
    "    print(\"Remaining points to cluster: \",length_of_sample)\n",
    "    \n",
    "    #---------------------------------#\n",
    "    # Get Random Sample for Minibatch #\n",
    "    #---------------------------------#\n",
    "    ## Get indices\n",
    "    which_to_sample = np.random.choice(index_remaining.shape[0], min(Covering_Mini_Batch_Size,length_of_sample), replace=False) \n",
    "    clustering_indices_minibatch = index_remaining[which_to_sample]\n",
    "    ## Get Indices for current sample\n",
    "    indices_to_remove_loop = np.flatnonzero(np.isin(index_remaining,clustering_indices_minibatch))\n",
    "    ## UPDATE: Remove Indices from \"Remaining Data\"\n",
    "    index_remaining = np.delete(index_remaining,indices_to_remove_loop)\n",
    "    ## UPDATE: Length of Sample\n",
    "    length_of_sample = len(index_remaining)\n",
    "    ## UPDATE: Mini-batch iteration counter\n",
    "    mini_batch_iteration_counter = mini_batch_iteration_counter+1\n",
    "    \n",
    "    ## FAILSAFE\n",
    "    if length_of_sample ==0:\n",
    "        break\n",
    "\n",
    "    #---------------------------#\n",
    "    # Build Disimilarity Matrix #\n",
    "    #---------------------------#\n",
    "    Dissimilarity_matrix_ot_current = np.zeros([Covering_Mini_Batch_Size,Covering_Mini_Batch_Size])\n",
    "    # Build Disimilarity Matrix\n",
    "    for i in tqdm(range(Covering_Mini_Batch_Size)):\n",
    "        index_i = indices_to_remove_loop[i]\n",
    "        for j in range(Covering_Mini_Batch_Size):\n",
    "            index_j = indices_to_remove_loop[j]\n",
    "            Dissimilarity_matrix_ot_current[i,j] = ot.emd2_1d(measures_locations_list[index_j],\n",
    "                                                              measures_locations_list[index_i])\n",
    "\n",
    "\n",
    "    #----------------------------#\n",
    "    # Inidialize Looping Indices #\n",
    "    #----------------------------#\n",
    "    # Initialize \"Internal to loop\" subset of measures\n",
    "    measures_locations_list_current = [measures_locations_list[i] for i in indices_to_remove_loop]\n",
    "    # Initialize masker vector\n",
    "    masker = np.ones(Covering_Mini_Batch_Size)\n",
    "    # Initialize Sorting Reference Vector (This helps us efficiently scroll through the disimularity matrix to identify the barycenter without having to re-compute the dissimultarity matrix of a sub-saple at every iteration (which is the most costly part of the algorithm!))\n",
    "    Distances_Loop = Dissimilarity_matrix_ot_current.sum(axis=1)\n",
    "    # Initialize Classes\n",
    "    Classifer_Wasserstein_Centers = np.zeros([N_Quantizers_to_parameterize,N_Grid_Instances])\n",
    "\n",
    "\n",
    "\n",
    "    #--------------------------#\n",
    "    # Build Sample Barycenters #\n",
    "    #--------------------------#\n",
    "    # Identify Sample Barycenters\n",
    "    for i in tqdm(range(N_Quantizers_to_parameterize)):    \n",
    "        # GET BARYCENTER #\n",
    "        #----------------#\n",
    "        ## Identify row with minimum total distance\n",
    "        Barycenter_index = int(Distances_Loop.argsort()[:1][0])\n",
    "        ## Get Barycenter\n",
    "        ## Update Barycenters Array ##\n",
    "        #----------------------------#\n",
    "        ### Get next Barycenter\n",
    "        new_barycenter_loop = np.array(measures_locations_list_current[Barycenter_index]).reshape(-1,1)\n",
    "        ### Update Array of Barycenters\n",
    "        if i == 0:\n",
    "            # Initialize Barycenters Array\n",
    "            Barycenters_Array = new_barycenter_loop\n",
    "        else:\n",
    "            # Populate Barycenters Array\n",
    "            Barycenters_Array = np.append(Barycenters_Array,new_barycenter_loop,axis=-1)\n",
    "\n",
    "        # GET CLUSTER #\n",
    "        #-------------#\n",
    "        # Identify Cluster for this barycenter (which elements are closest to it)\n",
    "        Cluster_indices = (masker*Dissimilarity_matrix_ot_current[:,Barycenter_index]).argsort()[:N_Elements_Per_Cluster]\n",
    "        ## UPDATES Set  M^{(n)}  ##\n",
    "        #-------------------------#\n",
    "        Dissimilarity_matrix_ot_current[Cluster_indices,:] = 0\n",
    "        # Distance-Based Sorting\n",
    "        Distances_Loop[Cluster_indices] = math.inf\n",
    "\n",
    "        # Update Cluster\n",
    "        masker[Cluster_indices] = math.inf\n",
    "\n",
    "        # Update Classes\n",
    "        Classifer_Wasserstein_Centers[i,(indices_to_remove_loop[Cluster_indices])] = 1\n",
    "\n",
    "    # pd.DataFrame(Classifer_Wasserstein_Centers)\n",
    "    # print(np.sum(Classifer_Wasserstein_Centers,axis=0))\n",
    "print(\"----------------------------------------------------------------------------------------------\")\n",
    "print(\"Average Classes Per Sample Barycenter: \", np.mean(np.sum(Classifer_Wasserstein_Centers,axis=0)))\n",
    "print(\"Left-Overs:\",length_of_sample)\n",
    "print(\"----------------------------------------------------------------------------------------------\")\n",
    "\n",
    "# Update User\n",
    "print(\"\\U0001F600\",\" Done Random Covering\",\"\\U0001F600\",\"!\")"
   ]
  },
  {
   "cell_type": "markdown",
   "metadata": {},
   "source": [
    "---"
   ]
  },
  {
   "cell_type": "markdown",
   "metadata": {},
   "source": [
    "### Train Deep Classifier"
   ]
  },
  {
   "cell_type": "markdown",
   "metadata": {},
   "source": [
    "In this step, we train a deep (feed-forward) classifier:\n",
    "$$\n",
    "\\hat{f}\\triangleq \\operatorname{Softmax}_N\\circ W_J\\circ \\sigma \\bullet \\dots \\sigma \\bullet W_1,\n",
    "$$\n",
    "to identify which barycenter we are closest to."
   ]
  },
  {
   "cell_type": "markdown",
   "metadata": {},
   "source": [
    "Re-Load Grid and Redefine Relevant Input/Output dimensions in dictionary."
   ]
  },
  {
   "cell_type": "markdown",
   "metadata": {},
   "source": [
    "#### Train Deep Classifier"
   ]
  },
  {
   "cell_type": "code",
   "execution_count": 23,
   "metadata": {},
   "outputs": [
    {
     "name": "stdout",
     "output_type": "stream",
     "text": [
      "Deep Feature Builder - Ready\n",
      "Deep Classifier - Ready\n"
     ]
    }
   ],
   "source": [
    "# Re-Load Hyper-parameter Grid\n",
    "exec(open('CV_Grid.py').read())\n",
    "# Re-Load Classifier Function(s)\n",
    "exec(open('Helper_Functions.py').read())"
   ]
  },
  {
   "cell_type": "code",
   "execution_count": 24,
   "metadata": {},
   "outputs": [
    {
     "name": "stdout",
     "output_type": "stream",
     "text": [
      "Fitting 2 folds for each of 1 candidates, totalling 2 fits\n"
     ]
    },
    {
     "name": "stderr",
     "output_type": "stream",
     "text": [
      "[Parallel(n_jobs=4)]: Using backend LokyBackend with 4 concurrent workers.\n",
      "[Parallel(n_jobs=4)]: Done   2 out of   2 | elapsed:   16.4s remaining:    0.0s\n",
      "[Parallel(n_jobs=4)]: Done   2 out of   2 | elapsed:   16.4s finished\n"
     ]
    },
    {
     "name": "stdout",
     "output_type": "stream",
     "text": [
      "Epoch 1/400\n",
      "10/10 [==============================] - 0s 4ms/step - loss: 5.0415 - accuracy: 0.0264\n",
      "Epoch 2/400\n",
      "10/10 [==============================] - 0s 3ms/step - loss: 5.0426 - accuracy: 0.0000e+00\n",
      "Epoch 3/400\n",
      "10/10 [==============================] - 0s 4ms/step - loss: 5.0470 - accuracy: 0.0000e+00\n",
      "Epoch 4/400\n",
      "10/10 [==============================] - 0s 4ms/step - loss: 5.0481 - accuracy: 0.0000e+00\n",
      "Epoch 5/400\n",
      "10/10 [==============================] - 0s 4ms/step - loss: 5.0624 - accuracy: 0.0000e+00\n",
      "Epoch 6/400\n",
      "10/10 [==============================] - 0s 5ms/step - loss: 5.0871 - accuracy: 0.0990    \n",
      "Epoch 7/400\n",
      "10/10 [==============================] - 0s 5ms/step - loss: 5.1703 - accuracy: 0.0099\n",
      "Epoch 8/400\n",
      "10/10 [==============================] - 0s 4ms/step - loss: 5.2992 - accuracy: 0.0033\n",
      "Epoch 9/400\n",
      "10/10 [==============================] - 0s 5ms/step - loss: 5.5004 - accuracy: 0.0099\n",
      "Epoch 10/400\n",
      "10/10 [==============================] - 0s 5ms/step - loss: 5.8079 - accuracy: 0.2904    \n",
      "Epoch 11/400\n",
      "10/10 [==============================] - 0s 4ms/step - loss: 6.0480 - accuracy: 0.0891    \n",
      "Epoch 12/400\n",
      "10/10 [==============================] - 0s 4ms/step - loss: 6.4404 - accuracy: 0.0000e+00\n",
      "Epoch 13/400\n",
      "10/10 [==============================] - 0s 4ms/step - loss: 6.8217 - accuracy: 0.0033    \n",
      "Epoch 14/400\n",
      "10/10 [==============================] - 0s 3ms/step - loss: 7.2025 - accuracy: 0.0000e+00\n",
      "Epoch 15/400\n",
      "10/10 [==============================] - 0s 4ms/step - loss: 9.9404 - accuracy: 0.1023    \n",
      "Epoch 16/400\n",
      "10/10 [==============================] - 0s 4ms/step - loss: 15.4888 - accuracy: 0.0000e+00\n",
      "Epoch 17/400\n",
      "10/10 [==============================] - 0s 5ms/step - loss: 15.2948 - accuracy: 0.0000e+00\n",
      "Epoch 18/400\n",
      "10/10 [==============================] - 0s 4ms/step - loss: 25.4449 - accuracy: 0.0000e+00\n",
      "Epoch 19/400\n",
      "10/10 [==============================] - 0s 5ms/step - loss: 55.7890 - accuracy: 0.0000e+00\n",
      "Epoch 20/400\n",
      "10/10 [==============================] - 0s 4ms/step - loss: 106.2404 - accuracy: 0.0000e+00\n",
      "Epoch 21/400\n",
      "10/10 [==============================] - 0s 4ms/step - loss: 99.5739 - accuracy: 0.0000e+00\n",
      "Epoch 22/400\n",
      "10/10 [==============================] - 0s 4ms/step - loss: 106.1546 - accuracy: 0.0000e+00\n",
      "Epoch 23/400\n",
      "10/10 [==============================] - 0s 4ms/step - loss: 105.2670 - accuracy: 0.0000e+00\n",
      "Epoch 24/400\n",
      "10/10 [==============================] - 0s 4ms/step - loss: 144.2166 - accuracy: 0.0000e+00\n",
      "Epoch 25/400\n",
      "10/10 [==============================] - 0s 4ms/step - loss: 151.9919 - accuracy: 0.0000e+00\n",
      "Epoch 26/400\n",
      "10/10 [==============================] - 0s 4ms/step - loss: 212.9297 - accuracy: 0.0000e+00\n",
      "Epoch 27/400\n",
      "10/10 [==============================] - 0s 4ms/step - loss: 170.9443 - accuracy: 0.0000e+00\n",
      "Epoch 28/400\n",
      "10/10 [==============================] - 0s 4ms/step - loss: 138.0923 - accuracy: 0.0000e+00\n",
      "Epoch 29/400\n",
      "10/10 [==============================] - 0s 5ms/step - loss: 164.8631 - accuracy: 0.1023\n",
      "Epoch 30/400\n",
      "10/10 [==============================] - 0s 4ms/step - loss: 191.4309 - accuracy: 0.0000e+00\n",
      "Epoch 31/400\n",
      "10/10 [==============================] - 0s 4ms/step - loss: 228.8612 - accuracy: 0.0000e+00\n",
      "Epoch 32/400\n",
      "10/10 [==============================] - 0s 4ms/step - loss: 301.3520 - accuracy: 0.0000e+00\n",
      "Epoch 33/400\n",
      "10/10 [==============================] - 0s 4ms/step - loss: 436.5341 - accuracy: 0.0000e+00\n",
      "Epoch 34/400\n",
      "10/10 [==============================] - 0s 4ms/step - loss: 571.3851 - accuracy: 0.0000e+00\n",
      "Epoch 35/400\n",
      "10/10 [==============================] - 0s 4ms/step - loss: 651.4034 - accuracy: 0.0000e+00\n",
      "Epoch 36/400\n",
      "10/10 [==============================] - 0s 4ms/step - loss: 593.4911 - accuracy: 0.0000e+00\n",
      "Epoch 37/400\n",
      "10/10 [==============================] - 0s 4ms/step - loss: 749.1057 - accuracy: 0.0000e+00\n",
      "Epoch 38/400\n",
      "10/10 [==============================] - 0s 4ms/step - loss: 828.3995 - accuracy: 0.0000e+00\n",
      "Epoch 39/400\n",
      "10/10 [==============================] - 0s 5ms/step - loss: 861.0710 - accuracy: 0.0000e+00\n",
      "Epoch 40/400\n",
      "10/10 [==============================] - 0s 4ms/step - loss: 833.4536 - accuracy: 0.0000e+00\n",
      "Epoch 41/400\n",
      "10/10 [==============================] - 0s 5ms/step - loss: 857.6895 - accuracy: 0.0000e+00\n",
      "Epoch 42/400\n",
      "10/10 [==============================] - 0s 5ms/step - loss: 1010.5683 - accuracy: 0.1023 \n",
      "Epoch 43/400\n",
      "10/10 [==============================] - 0s 4ms/step - loss: 1121.2809 - accuracy: 0.0000e+00\n",
      "Epoch 44/400\n",
      "10/10 [==============================] - 0s 4ms/step - loss: 1167.8872 - accuracy: 0.0000e+00\n",
      "Epoch 45/400\n",
      "10/10 [==============================] - 0s 4ms/step - loss: 1178.5219 - accuracy: 0.0000e+00\n",
      "Epoch 46/400\n",
      "10/10 [==============================] - 0s 4ms/step - loss: 1440.1147 - accuracy: 0.0000e+00\n",
      "Epoch 47/400\n",
      "10/10 [==============================] - 0s 3ms/step - loss: 1657.0953 - accuracy: 0.0000e+00\n",
      "Epoch 48/400\n",
      "10/10 [==============================] - 0s 4ms/step - loss: 1768.0798 - accuracy: 0.0000e+00\n",
      "Epoch 49/400\n",
      "10/10 [==============================] - 0s 4ms/step - loss: 1918.9922 - accuracy: 0.0000e+00\n",
      "Epoch 50/400\n",
      "10/10 [==============================] - 0s 6ms/step - loss: 2250.3809 - accuracy: 0.0000e+00\n",
      "Epoch 51/400\n",
      "10/10 [==============================] - 0s 4ms/step - loss: 2328.0437 - accuracy: 0.0000e+00\n",
      "Epoch 52/400\n",
      "10/10 [==============================] - 0s 4ms/step - loss: 2282.2131 - accuracy: 0.0000e+00\n",
      "Epoch 53/400\n",
      "10/10 [==============================] - 0s 4ms/step - loss: 2485.6482 - accuracy: 0.0000e+00\n",
      "Epoch 54/400\n",
      "10/10 [==============================] - 0s 4ms/step - loss: 2616.3665 - accuracy: 0.0000e+00\n",
      "Epoch 55/400\n",
      "10/10 [==============================] - 0s 4ms/step - loss: 2735.3733 - accuracy: 0.0000e+00\n",
      "Epoch 56/400\n",
      "10/10 [==============================] - 0s 4ms/step - loss: 3303.3301 - accuracy: 0.0000e+00\n",
      "Epoch 57/400\n",
      "10/10 [==============================] - 0s 3ms/step - loss: 3060.9048 - accuracy: 0.1023 \n",
      "Epoch 58/400\n",
      "10/10 [==============================] - 0s 5ms/step - loss: 2951.5647 - accuracy: 0.0000e+00\n",
      "Epoch 59/400\n",
      "10/10 [==============================] - 0s 4ms/step - loss: 2896.1338 - accuracy: 0.0000e+00\n",
      "Epoch 60/400\n",
      "10/10 [==============================] - 0s 4ms/step - loss: 3113.1650 - accuracy: 0.0000e+00\n",
      "Epoch 61/400\n",
      "10/10 [==============================] - 0s 4ms/step - loss: 3178.4380 - accuracy: 0.0000e+00\n",
      "Epoch 62/400\n",
      "10/10 [==============================] - 0s 7ms/step - loss: 3417.5735 - accuracy: 0.0000e+00\n",
      "Epoch 63/400\n",
      "10/10 [==============================] - 0s 6ms/step - loss: 3584.9126 - accuracy: 0.0000e+00\n",
      "Epoch 64/400\n",
      "10/10 [==============================] - 0s 7ms/step - loss: 3725.7983 - accuracy: 0.0000e+00\n",
      "Epoch 65/400\n",
      "10/10 [==============================] - 0s 4ms/step - loss: 4220.4297 - accuracy: 0.0000e+00\n",
      "Epoch 66/400\n",
      "10/10 [==============================] - 0s 4ms/step - loss: 4527.7568 - accuracy: 0.0000e+00\n",
      "Epoch 67/400\n",
      "10/10 [==============================] - 0s 4ms/step - loss: 4916.1821 - accuracy: 0.0000e+00\n",
      "Epoch 68/400\n",
      "10/10 [==============================] - 0s 4ms/step - loss: 4990.5977 - accuracy: 0.0000e+00\n",
      "Epoch 69/400\n",
      "10/10 [==============================] - 0s 4ms/step - loss: 5263.1636 - accuracy: 0.0000e+00\n",
      "Epoch 70/400\n",
      "10/10 [==============================] - 0s 4ms/step - loss: 6263.5205 - accuracy: 0.0000e+00\n",
      "Epoch 71/400\n",
      "10/10 [==============================] - 0s 3ms/step - loss: 6628.5283 - accuracy: 0.0000e+00\n",
      "Epoch 72/400\n",
      "10/10 [==============================] - 0s 4ms/step - loss: 6903.4941 - accuracy: 0.1023 \n",
      "Epoch 73/400\n",
      "10/10 [==============================] - 0s 4ms/step - loss: 7670.3755 - accuracy: 0.0000e+00\n",
      "Epoch 74/400\n",
      "10/10 [==============================] - 0s 3ms/step - loss: 8345.1699 - accuracy: 0.0000e+00\n",
      "Epoch 75/400\n",
      "10/10 [==============================] - 0s 4ms/step - loss: 7701.9976 - accuracy: 0.0000e+00\n",
      "Epoch 76/400\n",
      "10/10 [==============================] - 0s 4ms/step - loss: 7694.1289 - accuracy: 0.0000e+00\n",
      "Epoch 77/400\n",
      "10/10 [==============================] - 0s 3ms/step - loss: 7372.3623 - accuracy: 0.0000e+00\n",
      "Epoch 78/400\n"
     ]
    },
    {
     "name": "stdout",
     "output_type": "stream",
     "text": [
      "10/10 [==============================] - 0s 4ms/step - loss: 8289.0908 - accuracy: 0.0000e+00\n",
      "Epoch 79/400\n",
      "10/10 [==============================] - 0s 3ms/step - loss: 8074.8481 - accuracy: 0.0000e+00\n",
      "Epoch 80/400\n",
      "10/10 [==============================] - 0s 3ms/step - loss: 7910.2705 - accuracy: 0.0000e+00\n",
      "Epoch 81/400\n",
      "10/10 [==============================] - 0s 4ms/step - loss: 8182.4438 - accuracy: 0.0066\n",
      "Epoch 82/400\n",
      "10/10 [==============================] - 0s 3ms/step - loss: 8997.9072 - accuracy: 0.0000e+00\n",
      "Epoch 83/400\n",
      "10/10 [==============================] - 0s 4ms/step - loss: 9667.0547 - accuracy: 0.0000e+00\n",
      "Epoch 84/400\n",
      "10/10 [==============================] - 0s 3ms/step - loss: 10646.8008 - accuracy: 0.0033\n",
      "Epoch 85/400\n",
      "10/10 [==============================] - 0s 4ms/step - loss: 10792.5625 - accuracy: 0.0000e+00\n",
      "Epoch 86/400\n",
      "10/10 [==============================] - 0s 4ms/step - loss: 11700.9023 - accuracy: 0.1188\n",
      "Epoch 87/400\n",
      "10/10 [==============================] - 0s 3ms/step - loss: 12620.1602 - accuracy: 0.0000e+00\n",
      "Epoch 88/400\n",
      "10/10 [==============================] - 0s 3ms/step - loss: 12720.0342 - accuracy: 0.0000e+00\n",
      "Epoch 89/400\n",
      "10/10 [==============================] - 0s 4ms/step - loss: 13436.5518 - accuracy: 0.0000e+00\n",
      "Epoch 90/400\n",
      "10/10 [==============================] - 0s 5ms/step - loss: 14364.5723 - accuracy: 0.0000e+00\n",
      "Epoch 91/400\n",
      "10/10 [==============================] - 0s 5ms/step - loss: 14935.7529 - accuracy: 0.0000e+00\n",
      "Epoch 92/400\n",
      "10/10 [==============================] - 0s 4ms/step - loss: 16070.6836 - accuracy: 0.0000e+00\n",
      "Epoch 93/400\n",
      "10/10 [==============================] - 0s 5ms/step - loss: 17470.5820 - accuracy: 0.0000e+00\n",
      "Epoch 94/400\n",
      "10/10 [==============================] - 0s 5ms/step - loss: 16945.1406 - accuracy: 0.0000e+00\n",
      "Epoch 95/400\n",
      "10/10 [==============================] - 0s 5ms/step - loss: 17069.1113 - accuracy: 0.0000e+00\n",
      "Epoch 96/400\n",
      "10/10 [==============================] - 0s 6ms/step - loss: 18479.3027 - accuracy: 0.0000e+00\n",
      "Epoch 97/400\n",
      "10/10 [==============================] - 0s 4ms/step - loss: 18940.5508 - accuracy: 0.0000e+00\n",
      "Epoch 98/400\n",
      "10/10 [==============================] - 0s 4ms/step - loss: 20824.2188 - accuracy: 0.0000e+00\n",
      "Epoch 99/400\n",
      "10/10 [==============================] - 0s 4ms/step - loss: 20844.6738 - accuracy: 0.0000e+00\n",
      "Epoch 100/400\n",
      "10/10 [==============================] - 0s 5ms/step - loss: 20013.1758 - accuracy: 0.0495\n",
      "Epoch 101/400\n",
      "10/10 [==============================] - 0s 4ms/step - loss: 21011.4512 - accuracy: 0.0000e+00\n",
      "Epoch 102/400\n",
      "10/10 [==============================] - 0s 5ms/step - loss: 19438.9199 - accuracy: 0.0000e+00\n",
      "Epoch 103/400\n",
      "10/10 [==============================] - 0s 4ms/step - loss: 19199.2480 - accuracy: 0.0000e+00\n",
      "Epoch 104/400\n",
      "10/10 [==============================] - 0s 6ms/step - loss: 20018.4473 - accuracy: 0.0000e+00\n",
      "Epoch 105/400\n",
      "10/10 [==============================] - 0s 4ms/step - loss: 21809.5801 - accuracy: 0.0000e+00\n",
      "Epoch 106/400\n",
      "10/10 [==============================] - 0s 4ms/step - loss: 22736.0195 - accuracy: 0.0000e+00\n",
      "Epoch 107/400\n",
      "10/10 [==============================] - 0s 5ms/step - loss: 24463.8828 - accuracy: 0.0000e+00\n",
      "Epoch 108/400\n",
      "10/10 [==============================] - 0s 5ms/step - loss: 26668.5723 - accuracy: 0.0000e+00\n",
      "Epoch 109/400\n",
      "10/10 [==============================] - 0s 5ms/step - loss: 25934.7695 - accuracy: 0.0000e+00\n",
      "Epoch 110/400\n",
      "10/10 [==============================] - 0s 4ms/step - loss: 27013.3574 - accuracy: 0.0000e+00\n",
      "Epoch 111/400\n",
      "10/10 [==============================] - 0s 6ms/step - loss: 26444.5469 - accuracy: 0.0000e+00\n",
      "Epoch 112/400\n",
      "10/10 [==============================] - 0s 4ms/step - loss: 28818.5215 - accuracy: 0.0000e+00\n",
      "Epoch 113/400\n",
      "10/10 [==============================] - 0s 4ms/step - loss: 29043.9844 - accuracy: 0.0000e+00\n",
      "Epoch 114/400\n",
      "10/10 [==============================] - 0s 4ms/step - loss: 31164.6133 - accuracy: 0.0000e+00\n",
      "Epoch 115/400\n",
      "10/10 [==============================] - 0s 3ms/step - loss: 30375.0820 - accuracy: 0.0000e+00\n",
      "Epoch 116/400\n",
      "10/10 [==============================] - 0s 4ms/step - loss: 31715.7715 - accuracy: 0.0660\n",
      "Epoch 117/400\n",
      "10/10 [==============================] - 0s 5ms/step - loss: 31552.2715 - accuracy: 0.0000e+00\n",
      "Epoch 118/400\n",
      "10/10 [==============================] - 0s 5ms/step - loss: 31460.1719 - accuracy: 0.0000e+00\n",
      "Epoch 119/400\n",
      "10/10 [==============================] - 0s 4ms/step - loss: 30222.4688 - accuracy: 0.0990 \n",
      "Epoch 120/400\n",
      "10/10 [==============================] - 0s 4ms/step - loss: 31868.5059 - accuracy: 0.0000e+00\n",
      "Epoch 121/400\n",
      "10/10 [==============================] - 0s 5ms/step - loss: 36831.4492 - accuracy: 0.0000e+00\n",
      "Epoch 122/400\n",
      "10/10 [==============================] - 0s 4ms/step - loss: 36586.7617 - accuracy: 0.0000e+00\n",
      "Epoch 123/400\n",
      "10/10 [==============================] - 0s 5ms/step - loss: 35866.4141 - accuracy: 0.0000e+00\n",
      "Epoch 124/400\n",
      "10/10 [==============================] - 0s 4ms/step - loss: 37518.1641 - accuracy: 0.0000e+00\n",
      "Epoch 125/400\n",
      "10/10 [==============================] - 0s 5ms/step - loss: 40480.2305 - accuracy: 0.0000e+00\n",
      "Epoch 126/400\n",
      "10/10 [==============================] - 0s 5ms/step - loss: 40784.1719 - accuracy: 0.0000e+00\n",
      "Epoch 127/400\n",
      "10/10 [==============================] - 0s 4ms/step - loss: 43287.8984 - accuracy: 0.0000e+00\n",
      "Epoch 128/400\n",
      "10/10 [==============================] - 0s 4ms/step - loss: 45338.0391 - accuracy: 0.0000e+00\n",
      "Epoch 129/400\n",
      "10/10 [==============================] - 0s 4ms/step - loss: 47909.8086 - accuracy: 0.0000e+00\n",
      "Epoch 130/400\n",
      "10/10 [==============================] - 0s 5ms/step - loss: 47239.2812 - accuracy: 0.0000e+00\n",
      "Epoch 131/400\n",
      "10/10 [==============================] - 0s 4ms/step - loss: 49535.7500 - accuracy: 0.0000e+00\n",
      "Epoch 132/400\n",
      "10/10 [==============================] - 0s 5ms/step - loss: 49053.6172 - accuracy: 0.0000e+00\n",
      "Epoch 133/400\n",
      "10/10 [==============================] - 0s 5ms/step - loss: 45143.8125 - accuracy: 0.0000e+00\n",
      "Epoch 134/400\n",
      "10/10 [==============================] - 0s 5ms/step - loss: 47949.3242 - accuracy: 0.0924\n",
      "Epoch 135/400\n",
      "10/10 [==============================] - 0s 4ms/step - loss: 47626.2500 - accuracy: 0.0000e+00\n",
      "Epoch 136/400\n",
      "10/10 [==============================] - 0s 6ms/step - loss: 50549.5820 - accuracy: 0.0000e+00\n",
      "Epoch 137/400\n",
      "10/10 [==============================] - 0s 5ms/step - loss: 51195.6914 - accuracy: 0.0000e+00\n",
      "Epoch 138/400\n",
      "10/10 [==============================] - 0s 4ms/step - loss: 52852.5273 - accuracy: 0.0000e+00\n",
      "Epoch 139/400\n",
      "10/10 [==============================] - 0s 5ms/step - loss: 55652.6992 - accuracy: 0.0000e+00\n",
      "Epoch 140/400\n",
      "10/10 [==============================] - 0s 4ms/step - loss: 56496.9453 - accuracy: 0.0000e+00\n",
      "Epoch 141/400\n",
      "10/10 [==============================] - 0s 4ms/step - loss: 55268.7812 - accuracy: 0.0000e+00\n",
      "Epoch 142/400\n",
      "10/10 [==============================] - 0s 4ms/step - loss: 60753.8750 - accuracy: 0.0000e+00\n",
      "Epoch 143/400\n",
      "10/10 [==============================] - 0s 4ms/step - loss: 61046.3359 - accuracy: 0.0000e+00\n",
      "Epoch 144/400\n",
      "10/10 [==============================] - 0s 5ms/step - loss: 60918.6055 - accuracy: 0.0000e+00\n",
      "Epoch 145/400\n",
      "10/10 [==============================] - 0s 5ms/step - loss: 65861.9375 - accuracy: 0.0000e+00\n",
      "Epoch 146/400\n",
      "10/10 [==============================] - 0s 5ms/step - loss: 68421.8984 - accuracy: 0.0000e+00\n",
      "Epoch 147/400\n",
      "10/10 [==============================] - 0s 4ms/step - loss: 60294.2656 - accuracy: 0.0000e+00\n",
      "Epoch 148/400\n",
      "10/10 [==============================] - 0s 5ms/step - loss: 65574.0469 - accuracy: 0.0957\n",
      "Epoch 149/400\n",
      "10/10 [==============================] - 0s 5ms/step - loss: 63795.9023 - accuracy: 0.0000e+00\n",
      "Epoch 150/400\n",
      "10/10 [==============================] - 0s 4ms/step - loss: 64615.4805 - accuracy: 0.0000e+00\n",
      "Epoch 151/400\n",
      "10/10 [==============================] - 0s 5ms/step - loss: 67062.0703 - accuracy: 0.0000e+00\n",
      "Epoch 152/400\n",
      "10/10 [==============================] - 0s 4ms/step - loss: 66279.2578 - accuracy: 0.0000e+00\n",
      "Epoch 153/400\n"
     ]
    },
    {
     "name": "stdout",
     "output_type": "stream",
     "text": [
      "10/10 [==============================] - 0s 4ms/step - loss: 68731.8281 - accuracy: 0.0000e+00\n",
      "Epoch 154/400\n",
      "10/10 [==============================] - 0s 4ms/step - loss: 72716.9453 - accuracy: 0.0000e+00\n",
      "Epoch 155/400\n",
      "10/10 [==============================] - 0s 3ms/step - loss: 71555.5078 - accuracy: 0.0000e+00\n",
      "Epoch 156/400\n",
      "10/10 [==============================] - 0s 4ms/step - loss: 72026.4688 - accuracy: 0.0000e+00\n",
      "Epoch 157/400\n",
      "10/10 [==============================] - 0s 4ms/step - loss: 74611.9844 - accuracy: 0.0000e+00\n",
      "Epoch 158/400\n",
      "10/10 [==============================] - 0s 4ms/step - loss: 76679.9844 - accuracy: 0.0000e+00\n",
      "Epoch 159/400\n",
      "10/10 [==============================] - 0s 4ms/step - loss: 77380.4062 - accuracy: 0.0000e+00\n",
      "Epoch 160/400\n",
      "10/10 [==============================] - 0s 4ms/step - loss: 82990.4297 - accuracy: 0.0000e+00\n",
      "Epoch 161/400\n",
      "10/10 [==============================] - 0s 4ms/step - loss: 85635.0312 - accuracy: 0.0000e+00\n",
      "Epoch 162/400\n",
      "10/10 [==============================] - 0s 6ms/step - loss: 85848.2578 - accuracy: 0.0858\n",
      "Epoch 163/400\n",
      "10/10 [==============================] - 0s 4ms/step - loss: 88510.3438 - accuracy: 0.0000e+00\n",
      "Epoch 164/400\n",
      "10/10 [==============================] - 0s 4ms/step - loss: 85477.8672 - accuracy: 0.0000e+00\n",
      "Epoch 165/400\n",
      "10/10 [==============================] - 0s 4ms/step - loss: 85540.4531 - accuracy: 0.0000e+00\n",
      "Epoch 166/400\n",
      "10/10 [==============================] - 0s 3ms/step - loss: 89567.7969 - accuracy: 0.0000e+00\n",
      "Epoch 167/400\n",
      "10/10 [==============================] - 0s 5ms/step - loss: 88672.1562 - accuracy: 0.0000e+00\n",
      "Epoch 168/400\n",
      "10/10 [==============================] - 0s 3ms/step - loss: 89261.5000 - accuracy: 0.0000e+00\n",
      "Epoch 169/400\n",
      "10/10 [==============================] - 0s 4ms/step - loss: 87661.3281 - accuracy: 0.0000e+00\n",
      "Epoch 170/400\n",
      "10/10 [==============================] - 0s 4ms/step - loss: 93767.1328 - accuracy: 0.0000e+00\n",
      "Epoch 171/400\n",
      "10/10 [==============================] - 0s 4ms/step - loss: 97021.5859 - accuracy: 0.0000e+00\n",
      "Epoch 172/400\n",
      "10/10 [==============================] - 0s 4ms/step - loss: 93948.0234 - accuracy: 0.0000e+00\n",
      "Epoch 173/400\n",
      "10/10 [==============================] - 0s 4ms/step - loss: 95533.7422 - accuracy: 0.0033\n",
      "Epoch 174/400\n",
      "10/10 [==============================] - 0s 4ms/step - loss: 98054.4062 - accuracy: 0.0000e+00\n",
      "Epoch 175/400\n",
      "10/10 [==============================] - 0s 3ms/step - loss: 108407.2500 - accuracy: 0.1023\n",
      "Epoch 176/400\n",
      "10/10 [==============================] - 0s 3ms/step - loss: 108104.5938 - accuracy: 0.0000e+00\n",
      "Epoch 177/400\n",
      "10/10 [==============================] - 0s 3ms/step - loss: 105778.9141 - accuracy: 0.0000e+00\n",
      "Epoch 178/400\n",
      "10/10 [==============================] - 0s 4ms/step - loss: 104768.1094 - accuracy: 0.0000e+00\n",
      "Epoch 179/400\n",
      "10/10 [==============================] - 0s 4ms/step - loss: 102397.6094 - accuracy: 0.0000e+00\n",
      "Epoch 180/400\n",
      "10/10 [==============================] - 0s 3ms/step - loss: 109799.6328 - accuracy: 0.0000e+00\n",
      "Epoch 181/400\n",
      "10/10 [==============================] - 0s 3ms/step - loss: 107352.3125 - accuracy: 0.0000e+00\n",
      "Epoch 182/400\n",
      "10/10 [==============================] - 0s 4ms/step - loss: 108001.1562 - accuracy: 0.0000e+00\n",
      "Epoch 183/400\n",
      "10/10 [==============================] - 0s 4ms/step - loss: 116953.9375 - accuracy: 0.0000e+00\n",
      "Epoch 184/400\n",
      "10/10 [==============================] - 0s 4ms/step - loss: 112177.8750 - accuracy: 0.0000e+00\n",
      "Epoch 185/400\n",
      "10/10 [==============================] - 0s 5ms/step - loss: 117716.9141 - accuracy: 0.0000e+00\n",
      "Epoch 186/400\n",
      "10/10 [==============================] - 0s 4ms/step - loss: 120207.7500 - accuracy: 0.0000e+00\n",
      "Epoch 187/400\n",
      "10/10 [==============================] - 0s 4ms/step - loss: 122111.0781 - accuracy: 0.0000e+00\n",
      "Epoch 188/400\n",
      "10/10 [==============================] - 0s 4ms/step - loss: 121766.7188 - accuracy: 0.0000e+00\n",
      "Epoch 189/400\n",
      "10/10 [==============================] - 0s 4ms/step - loss: 128158.4844 - accuracy: 0.0462\n",
      "Epoch 190/400\n",
      "10/10 [==============================] - 0s 6ms/step - loss: 137133.8125 - accuracy: 0.0000e+00\n",
      "Epoch 191/400\n",
      "10/10 [==============================] - 0s 6ms/step - loss: 138357.3906 - accuracy: 0.0000e+00\n",
      "Epoch 192/400\n",
      "10/10 [==============================] - 0s 6ms/step - loss: 135526.2031 - accuracy: 0.0000e+00\n",
      "Epoch 193/400\n",
      "10/10 [==============================] - 0s 6ms/step - loss: 141379.0156 - accuracy: 0.0000e+00\n",
      "Epoch 194/400\n",
      "10/10 [==============================] - 0s 4ms/step - loss: 143563.1875 - accuracy: 0.0000e+00\n",
      "Epoch 195/400\n",
      "10/10 [==============================] - 0s 5ms/step - loss: 136424.0938 - accuracy: 0.0000e+00\n",
      "Epoch 196/400\n",
      "10/10 [==============================] - 0s 5ms/step - loss: 141723.4375 - accuracy: 0.0000e+00\n",
      "Epoch 197/400\n",
      "10/10 [==============================] - 0s 6ms/step - loss: 138186.5156 - accuracy: 0.0000e+00\n",
      "Epoch 198/400\n",
      "10/10 [==============================] - 0s 4ms/step - loss: 147265.4844 - accuracy: 0.0000e+00\n",
      "Epoch 199/400\n",
      "10/10 [==============================] - 0s 5ms/step - loss: 140500.6719 - accuracy: 0.0000e+00\n",
      "Epoch 200/400\n",
      "10/10 [==============================] - 0s 4ms/step - loss: 141887.2812 - accuracy: 0.0000e+00\n",
      "Epoch 201/400\n",
      "10/10 [==============================] - 0s 4ms/step - loss: 150527.0312 - accuracy: 0.0000e+00\n",
      "Epoch 202/400\n",
      "10/10 [==============================] - 0s 5ms/step - loss: 146666.9844 - accuracy: 0.0000e+00\n",
      "Epoch 203/400\n",
      "10/10 [==============================] - 0s 5ms/step - loss: 158403.8281 - accuracy: 0.0000e+00\n",
      "Epoch 204/400\n",
      "10/10 [==============================] - 0s 5ms/step - loss: 169971.4062 - accuracy: 0.0000e+00\n",
      "Epoch 205/400\n",
      "10/10 [==============================] - 0s 5ms/step - loss: 161461.1406 - accuracy: 0.0132\n",
      "Epoch 206/400\n",
      "10/10 [==============================] - 0s 5ms/step - loss: 166286.9219 - accuracy: 0.1023\n",
      "Epoch 207/400\n",
      "10/10 [==============================] - 0s 5ms/step - loss: 172015.7344 - accuracy: 0.0000e+00\n",
      "Epoch 208/400\n",
      "10/10 [==============================] - 0s 6ms/step - loss: 166115.1875 - accuracy: 0.0000e+00\n",
      "Epoch 209/400\n",
      "10/10 [==============================] - 0s 6ms/step - loss: 173242.9844 - accuracy: 0.0000e+00\n",
      "Epoch 210/400\n",
      "10/10 [==============================] - 0s 5ms/step - loss: 173981.3281 - accuracy: 0.0000e+00\n",
      "Epoch 211/400\n",
      "10/10 [==============================] - 0s 4ms/step - loss: 157609.6719 - accuracy: 0.0000e+00\n",
      "Epoch 212/400\n",
      "10/10 [==============================] - 0s 6ms/step - loss: 163104.3125 - accuracy: 0.0000e+00\n",
      "Epoch 213/400\n",
      "10/10 [==============================] - 0s 5ms/step - loss: 166682.6562 - accuracy: 0.0000e+00\n",
      "Epoch 214/400\n",
      "10/10 [==============================] - 0s 5ms/step - loss: 161844.2188 - accuracy: 0.0000e+00\n",
      "Epoch 215/400\n",
      "10/10 [==============================] - 0s 5ms/step - loss: 173008.4688 - accuracy: 0.0000e+00\n",
      "Epoch 216/400\n",
      "10/10 [==============================] - 0s 4ms/step - loss: 179449.9062 - accuracy: 0.0000e+00\n",
      "Epoch 217/400\n",
      "10/10 [==============================] - 0s 5ms/step - loss: 174607.9531 - accuracy: 0.0000e+00\n",
      "Epoch 218/400\n",
      "10/10 [==============================] - 0s 6ms/step - loss: 176342.3125 - accuracy: 0.0000e+00\n",
      "Epoch 219/400\n",
      "10/10 [==============================] - 0s 6ms/step - loss: 181288.0781 - accuracy: 0.0000e+00\n",
      "Epoch 220/400\n",
      "10/10 [==============================] - 0s 5ms/step - loss: 191703.1562 - accuracy: 0.0957\n",
      "Epoch 221/400\n",
      "10/10 [==============================] - 0s 6ms/step - loss: 194350.5938 - accuracy: 0.0000e+00\n",
      "Epoch 222/400\n",
      "10/10 [==============================] - 0s 4ms/step - loss: 200763.1250 - accuracy: 0.0000e+00\n",
      "Epoch 223/400\n",
      "10/10 [==============================] - 0s 4ms/step - loss: 198788.5938 - accuracy: 0.0000e+00\n",
      "Epoch 224/400\n",
      "10/10 [==============================] - 0s 5ms/step - loss: 186377.5469 - accuracy: 0.0000e+00\n",
      "Epoch 225/400\n",
      "10/10 [==============================] - 0s 5ms/step - loss: 188845.1562 - accuracy: 0.0000e+00\n",
      "Epoch 226/400\n",
      "10/10 [==============================] - 0s 5ms/step - loss: 195685.4531 - accuracy: 0.0000e+00\n",
      "Epoch 227/400\n",
      "10/10 [==============================] - 0s 4ms/step - loss: 206624.7344 - accuracy: 0.0000e+00\n",
      "Epoch 228/400\n"
     ]
    },
    {
     "name": "stdout",
     "output_type": "stream",
     "text": [
      "10/10 [==============================] - 0s 5ms/step - loss: 201683.9688 - accuracy: 0.0000e+00\n",
      "Epoch 229/400\n",
      "10/10 [==============================] - 0s 4ms/step - loss: 207060.7812 - accuracy: 0.0000e+00\n",
      "Epoch 230/400\n",
      "10/10 [==============================] - 0s 5ms/step - loss: 204401.7656 - accuracy: 0.0000e+00\n",
      "Epoch 231/400\n",
      "10/10 [==============================] - 0s 4ms/step - loss: 211925.8594 - accuracy: 0.0000e+00\n",
      "Epoch 232/400\n",
      "10/10 [==============================] - 0s 5ms/step - loss: 218464.3438 - accuracy: 0.0000e+00\n",
      "Epoch 233/400\n",
      "10/10 [==============================] - 0s 4ms/step - loss: 220683.7812 - accuracy: 0.0000e+00\n",
      "Epoch 234/400\n",
      "10/10 [==============================] - 0s 4ms/step - loss: 213503.4531 - accuracy: 0.0000e+00\n",
      "Epoch 235/400\n",
      "10/10 [==============================] - 0s 5ms/step - loss: 233260.2188 - accuracy: 0.0957\n",
      "Epoch 236/400\n",
      "10/10 [==============================] - 0s 4ms/step - loss: 233523.4062 - accuracy: 0.0000e+00\n",
      "Epoch 237/400\n",
      "10/10 [==============================] - 0s 4ms/step - loss: 233212.2500 - accuracy: 0.0000e+00\n",
      "Epoch 238/400\n",
      "10/10 [==============================] - 0s 5ms/step - loss: 240489.0312 - accuracy: 0.0000e+00\n",
      "Epoch 239/400\n",
      "10/10 [==============================] - 0s 4ms/step - loss: 247423.1562 - accuracy: 0.0000e+00\n",
      "Epoch 240/400\n",
      "10/10 [==============================] - 0s 4ms/step - loss: 231415.5469 - accuracy: 0.0000e+00\n",
      "Epoch 241/400\n",
      "10/10 [==============================] - 0s 5ms/step - loss: 225213.1562 - accuracy: 0.0000e+00\n",
      "Epoch 242/400\n",
      "10/10 [==============================] - 0s 5ms/step - loss: 231950.8594 - accuracy: 0.0000e+00\n",
      "Epoch 243/400\n",
      "10/10 [==============================] - 0s 5ms/step - loss: 238883.9062 - accuracy: 0.0000e+00\n",
      "Epoch 244/400\n",
      "10/10 [==============================] - 0s 5ms/step - loss: 231661.8594 - accuracy: 0.0000e+00\n",
      "Epoch 245/400\n",
      "10/10 [==============================] - 0s 5ms/step - loss: 255092.8906 - accuracy: 0.0000e+00\n",
      "Epoch 246/400\n",
      "10/10 [==============================] - 0s 4ms/step - loss: 254843.3281 - accuracy: 0.0000e+00\n",
      "Epoch 247/400\n",
      "10/10 [==============================] - 0s 4ms/step - loss: 260322.0625 - accuracy: 0.0000e+00\n",
      "Epoch 248/400\n",
      "10/10 [==============================] - 0s 6ms/step - loss: 266607.4062 - accuracy: 0.0033\n",
      "Epoch 249/400\n",
      "10/10 [==============================] - 0s 3ms/step - loss: 268831.2500 - accuracy: 0.0363\n",
      "Epoch 250/400\n",
      "10/10 [==============================] - 0s 4ms/step - loss: 265765.0625 - accuracy: 0.1023\n",
      "Epoch 251/400\n",
      "10/10 [==============================] - 0s 6ms/step - loss: 276652.9375 - accuracy: 0.0000e+00\n",
      "Epoch 252/400\n",
      "10/10 [==============================] - 0s 7ms/step - loss: 279775.1250 - accuracy: 0.0000e+00\n",
      "Epoch 253/400\n",
      "10/10 [==============================] - 0s 6ms/step - loss: 282758.7188 - accuracy: 0.0000e+00\n",
      "Epoch 254/400\n",
      "10/10 [==============================] - 0s 5ms/step - loss: 262529.5312 - accuracy: 0.0000e+00\n",
      "Epoch 255/400\n",
      "10/10 [==============================] - 0s 5ms/step - loss: 254224.3906 - accuracy: 0.0000e+00\n",
      "Epoch 256/400\n",
      "10/10 [==============================] - 0s 5ms/step - loss: 263361.4688 - accuracy: 0.0000e+00\n",
      "Epoch 257/400\n",
      "10/10 [==============================] - 0s 4ms/step - loss: 259712.1250 - accuracy: 0.0000e+00\n",
      "Epoch 258/400\n",
      "10/10 [==============================] - 0s 4ms/step - loss: 262794.6875 - accuracy: 0.0000e+00\n",
      "Epoch 259/400\n",
      "10/10 [==============================] - 0s 5ms/step - loss: 264512.2812 - accuracy: 0.0000e+00\n",
      "Epoch 260/400\n",
      "10/10 [==============================] - 0s 4ms/step - loss: 274845.2188 - accuracy: 0.0000e+00\n",
      "Epoch 261/400\n",
      "10/10 [==============================] - 0s 5ms/step - loss: 301080.2812 - accuracy: 0.0000e+00\n",
      "Epoch 262/400\n",
      "10/10 [==============================] - 0s 5ms/step - loss: 297787.3125 - accuracy: 0.0000e+00\n",
      "Epoch 263/400\n",
      "10/10 [==============================] - 0s 5ms/step - loss: 303745.1875 - accuracy: 0.0000e+00\n",
      "Epoch 264/400\n",
      "10/10 [==============================] - 0s 5ms/step - loss: 308409.0312 - accuracy: 0.0000e+00\n",
      "Epoch 265/400\n",
      "10/10 [==============================] - 0s 4ms/step - loss: 316185.0938 - accuracy: 0.1056\n",
      "Epoch 266/400\n",
      "10/10 [==============================] - 0s 4ms/step - loss: 308599.2812 - accuracy: 0.0000e+00\n",
      "Epoch 267/400\n",
      "10/10 [==============================] - 0s 4ms/step - loss: 308482.2812 - accuracy: 0.0000e+00\n",
      "Epoch 268/400\n",
      "10/10 [==============================] - 0s 5ms/step - loss: 300887.7812 - accuracy: 0.0000e+00\n",
      "Epoch 269/400\n",
      "10/10 [==============================] - 0s 4ms/step - loss: 330202.5625 - accuracy: 0.0000e+00\n",
      "Epoch 270/400\n",
      "10/10 [==============================] - 0s 6ms/step - loss: 319380.4375 - accuracy: 0.0000e+00\n",
      "Epoch 271/400\n",
      "10/10 [==============================] - 0s 5ms/step - loss: 318753.2812 - accuracy: 0.0000e+00\n",
      "Epoch 272/400\n",
      "10/10 [==============================] - 0s 5ms/step - loss: 320710.2500 - accuracy: 0.0000e+00\n",
      "Epoch 273/400\n",
      "10/10 [==============================] - 0s 4ms/step - loss: 322266.5000 - accuracy: 0.0000e+00\n",
      "Epoch 274/400\n",
      "10/10 [==============================] - 0s 4ms/step - loss: 323286.8750 - accuracy: 0.0000e+00\n",
      "Epoch 275/400\n",
      "10/10 [==============================] - 0s 5ms/step - loss: 321137.6250 - accuracy: 0.0000e+00\n",
      "Epoch 276/400\n",
      "10/10 [==============================] - 0s 5ms/step - loss: 323065.1875 - accuracy: 0.0000e+00\n",
      "Epoch 277/400\n",
      "10/10 [==============================] - 0s 4ms/step - loss: 332218.0000 - accuracy: 0.0000e+00\n",
      "Epoch 278/400\n",
      "10/10 [==============================] - 0s 4ms/step - loss: 335738.3438 - accuracy: 0.0000e+00\n",
      "Epoch 279/400\n",
      "10/10 [==============================] - 0s 4ms/step - loss: 351574.9375 - accuracy: 0.0000e+00\n",
      "Epoch 280/400\n",
      "10/10 [==============================] - 0s 5ms/step - loss: 362818.9688 - accuracy: 0.0924\n",
      "Epoch 281/400\n",
      "10/10 [==============================] - 0s 5ms/step - loss: 382512.3750 - accuracy: 0.0000e+00\n",
      "Epoch 282/400\n",
      "10/10 [==============================] - 0s 4ms/step - loss: 371591.9062 - accuracy: 0.0000e+00\n",
      "Epoch 283/400\n",
      "10/10 [==============================] - 0s 4ms/step - loss: 382386.4688 - accuracy: 0.0000e+00\n",
      "Epoch 284/400\n",
      "10/10 [==============================] - 0s 4ms/step - loss: 362890.5000 - accuracy: 0.0000e+00\n",
      "Epoch 285/400\n",
      "10/10 [==============================] - 0s 5ms/step - loss: 354624.1562 - accuracy: 0.0000e+00\n",
      "Epoch 286/400\n",
      "10/10 [==============================] - 0s 5ms/step - loss: 366164.3438 - accuracy: 0.0000e+00\n",
      "Epoch 287/400\n",
      "10/10 [==============================] - 0s 5ms/step - loss: 355759.9688 - accuracy: 0.0000e+00\n",
      "Epoch 288/400\n",
      "10/10 [==============================] - 0s 4ms/step - loss: 333060.9062 - accuracy: 0.0000e+00\n",
      "Epoch 289/400\n",
      "10/10 [==============================] - 0s 5ms/step - loss: 354602.0000 - accuracy: 0.0000e+00\n",
      "Epoch 290/400\n",
      "10/10 [==============================] - 0s 6ms/step - loss: 347077.8438 - accuracy: 0.0000e+00\n",
      "Epoch 291/400\n",
      "10/10 [==============================] - 0s 7ms/step - loss: 342128.0938 - accuracy: 0.0000e+00\n",
      "Epoch 292/400\n",
      "10/10 [==============================] - 0s 6ms/step - loss: 340578.4688 - accuracy: 0.1023\n",
      "Epoch 293/400\n",
      "10/10 [==============================] - 0s 8ms/step - loss: 366213.1250 - accuracy: 0.0000e+00\n",
      "Epoch 294/400\n",
      "10/10 [==============================] - 0s 7ms/step - loss: 388457.6250 - accuracy: 0.0000e+00\n",
      "Epoch 295/400\n",
      "10/10 [==============================] - 0s 7ms/step - loss: 386146.1250 - accuracy: 0.0000e+00\n",
      "Epoch 296/400\n",
      "10/10 [==============================] - 0s 6ms/step - loss: 405710.1250 - accuracy: 0.0000e+00\n",
      "Epoch 297/400\n",
      "10/10 [==============================] - 0s 5ms/step - loss: 422834.8125 - accuracy: 0.0000e+00\n",
      "Epoch 298/400\n",
      "10/10 [==============================] - 0s 5ms/step - loss: 375066.6250 - accuracy: 0.0000e+00\n",
      "Epoch 299/400\n",
      "10/10 [==============================] - 0s 5ms/step - loss: 381789.8438 - accuracy: 0.0000e+00\n",
      "Epoch 300/400\n",
      "10/10 [==============================] - 0s 4ms/step - loss: 403595.7812 - accuracy: 0.0000e+00\n",
      "Epoch 301/400\n",
      "10/10 [==============================] - 0s 4ms/step - loss: 389834.2500 - accuracy: 0.0000e+00\n",
      "Epoch 302/400\n"
     ]
    },
    {
     "name": "stdout",
     "output_type": "stream",
     "text": [
      "10/10 [==============================] - 0s 7ms/step - loss: 373090.8438 - accuracy: 0.0000e+00\n",
      "Epoch 303/400\n",
      "10/10 [==============================] - 0s 5ms/step - loss: 374261.6875 - accuracy: 0.0000e+00\n",
      "Epoch 304/400\n",
      "10/10 [==============================] - 0s 4ms/step - loss: 370622.2188 - accuracy: 0.0990 \n",
      "Epoch 305/400\n",
      "10/10 [==============================] - 0s 5ms/step - loss: 400272.4375 - accuracy: 0.0000e+00\n",
      "Epoch 306/400\n",
      "10/10 [==============================] - 0s 4ms/step - loss: 396291.3125 - accuracy: 0.0033\n",
      "Epoch 307/400\n",
      "10/10 [==============================] - 0s 3ms/step - loss: 415078.3438 - accuracy: 0.0000e+00\n",
      "Epoch 308/400\n",
      "10/10 [==============================] - 0s 4ms/step - loss: 410480.9688 - accuracy: 0.0000e+00\n",
      "Epoch 309/400\n",
      "10/10 [==============================] - 0s 4ms/step - loss: 416046.2500 - accuracy: 0.0000e+00\n",
      "Epoch 310/400\n",
      "10/10 [==============================] - 0s 3ms/step - loss: 435698.2500 - accuracy: 0.0000e+00\n",
      "Epoch 311/400\n",
      "10/10 [==============================] - 0s 3ms/step - loss: 441348.5625 - accuracy: 0.0000e+00\n",
      "Epoch 312/400\n",
      "10/10 [==============================] - 0s 4ms/step - loss: 451604.3750 - accuracy: 0.0000e+00\n",
      "Epoch 313/400\n",
      "10/10 [==============================] - 0s 3ms/step - loss: 438404.2188 - accuracy: 0.0000e+00\n",
      "Epoch 314/400\n",
      "10/10 [==============================] - 0s 4ms/step - loss: 437302.6562 - accuracy: 0.0000e+00\n",
      "Epoch 315/400\n",
      "10/10 [==============================] - 0s 4ms/step - loss: 452974.8438 - accuracy: 0.0000e+00\n",
      "Epoch 316/400\n",
      "10/10 [==============================] - 0s 3ms/step - loss: 467758.9375 - accuracy: 0.0000e+00\n",
      "Epoch 317/400\n",
      "10/10 [==============================] - 0s 4ms/step - loss: 448710.8125 - accuracy: 0.0000e+00\n",
      "Epoch 318/400\n",
      "10/10 [==============================] - 0s 4ms/step - loss: 485667.6562 - accuracy: 0.1188\n",
      "Epoch 319/400\n",
      "10/10 [==============================] - 0s 3ms/step - loss: 447280.6875 - accuracy: 0.0000e+00\n",
      "Epoch 320/400\n",
      "10/10 [==============================] - 0s 4ms/step - loss: 440291.6562 - accuracy: 0.0000e+00\n",
      "Epoch 321/400\n",
      "10/10 [==============================] - 0s 4ms/step - loss: 457322.7812 - accuracy: 0.0000e+00\n",
      "Epoch 322/400\n",
      "10/10 [==============================] - 0s 3ms/step - loss: 449250.6250 - accuracy: 0.0000e+00\n",
      "Epoch 323/400\n",
      "10/10 [==============================] - 0s 3ms/step - loss: 449543.3438 - accuracy: 0.0000e+00\n",
      "Epoch 324/400\n",
      "10/10 [==============================] - 0s 4ms/step - loss: 479135.6875 - accuracy: 0.0000e+00\n",
      "Epoch 325/400\n",
      "10/10 [==============================] - 0s 4ms/step - loss: 482087.2812 - accuracy: 0.0000e+00\n",
      "Epoch 326/400\n",
      "10/10 [==============================] - 0s 4ms/step - loss: 492427.2500 - accuracy: 0.0000e+00\n",
      "Epoch 327/400\n",
      "10/10 [==============================] - 0s 4ms/step - loss: 503801.7188 - accuracy: 0.0000e+00\n",
      "Epoch 328/400\n",
      "10/10 [==============================] - 0s 4ms/step - loss: 505331.6875 - accuracy: 0.0000e+00\n",
      "Epoch 329/400\n",
      "10/10 [==============================] - 0s 4ms/step - loss: 488691.5938 - accuracy: 0.0000e+00\n",
      "Epoch 330/400\n",
      "10/10 [==============================] - 0s 4ms/step - loss: 490294.7500 - accuracy: 0.0000e+00\n",
      "Epoch 331/400\n",
      "10/10 [==============================] - 0s 4ms/step - loss: 488077.0938 - accuracy: 0.0000e+00\n",
      "Epoch 332/400\n",
      "10/10 [==============================] - 0s 4ms/step - loss: 471492.1562 - accuracy: 0.0000e+00\n",
      "Epoch 333/400\n",
      "10/10 [==============================] - 0s 4ms/step - loss: 510021.8125 - accuracy: 0.0891\n",
      "Epoch 334/400\n",
      "10/10 [==============================] - 0s 4ms/step - loss: 505225.0312 - accuracy: 0.0000e+00\n",
      "Epoch 335/400\n",
      "10/10 [==============================] - 0s 4ms/step - loss: 470660.4375 - accuracy: 0.0000e+00\n",
      "Epoch 336/400\n",
      "10/10 [==============================] - 0s 4ms/step - loss: 482978.3125 - accuracy: 0.0000e+00\n",
      "Epoch 337/400\n",
      "10/10 [==============================] - 0s 4ms/step - loss: 479454.5312 - accuracy: 0.0000e+00\n",
      "Epoch 338/400\n",
      "10/10 [==============================] - 0s 3ms/step - loss: 529599.5625 - accuracy: 0.0000e+00\n",
      "Epoch 339/400\n",
      "10/10 [==============================] - 0s 3ms/step - loss: 544081.8125 - accuracy: 0.0033\n",
      "Epoch 340/400\n",
      "10/10 [==============================] - 0s 4ms/step - loss: 540413.3750 - accuracy: 0.0000e+00\n",
      "Epoch 341/400\n",
      "10/10 [==============================] - 0s 4ms/step - loss: 544924.3125 - accuracy: 0.0000e+00\n",
      "Epoch 342/400\n",
      "10/10 [==============================] - 0s 4ms/step - loss: 564097.4375 - accuracy: 0.0000e+00\n",
      "Epoch 343/400\n",
      "10/10 [==============================] - 0s 5ms/step - loss: 535513.2500 - accuracy: 0.0000e+00\n",
      "Epoch 344/400\n",
      "10/10 [==============================] - 0s 7ms/step - loss: 529809.1250 - accuracy: 0.0000e+00\n",
      "Epoch 345/400\n",
      "10/10 [==============================] - 0s 4ms/step - loss: 511582.8438 - accuracy: 0.0000e+00\n",
      "Epoch 346/400\n",
      "10/10 [==============================] - 0s 4ms/step - loss: 529790.6250 - accuracy: 0.0000e+00\n",
      "Epoch 347/400\n",
      "10/10 [==============================] - 0s 4ms/step - loss: 550359.4375 - accuracy: 0.1056\n",
      "Epoch 348/400\n",
      "10/10 [==============================] - 0s 4ms/step - loss: 540529.5625 - accuracy: 0.0000e+00\n",
      "Epoch 349/400\n",
      "10/10 [==============================] - 0s 5ms/step - loss: 554877.5625 - accuracy: 0.0000e+00\n",
      "Epoch 350/400\n",
      "10/10 [==============================] - 0s 4ms/step - loss: 572516.2500 - accuracy: 0.0000e+00\n",
      "Epoch 351/400\n",
      "10/10 [==============================] - 0s 4ms/step - loss: 537743.5000 - accuracy: 0.0000e+00\n",
      "Epoch 352/400\n",
      "10/10 [==============================] - 0s 3ms/step - loss: 564669.3125 - accuracy: 0.0000e+00\n",
      "Epoch 353/400\n",
      "10/10 [==============================] - 0s 6ms/step - loss: 567670.6250 - accuracy: 0.0000e+00\n",
      "Epoch 354/400\n",
      "10/10 [==============================] - 0s 4ms/step - loss: 588498.1875 - accuracy: 0.0000e+00\n",
      "Epoch 355/400\n",
      "10/10 [==============================] - 0s 4ms/step - loss: 612410.8125 - accuracy: 0.0000e+00\n",
      "Epoch 356/400\n",
      "10/10 [==============================] - 0s 4ms/step - loss: 613438.5000 - accuracy: 0.0000e+00\n",
      "Epoch 357/400\n",
      "10/10 [==============================] - 0s 3ms/step - loss: 623832.5000 - accuracy: 0.0000e+00\n",
      "Epoch 358/400\n",
      "10/10 [==============================] - 0s 3ms/step - loss: 624978.8750 - accuracy: 0.0000e+00\n",
      "Epoch 359/400\n",
      "10/10 [==============================] - 0s 4ms/step - loss: 619255.4375 - accuracy: 0.0000e+00\n",
      "Epoch 360/400\n",
      "10/10 [==============================] - 0s 4ms/step - loss: 577705.6875 - accuracy: 0.0000e+00\n",
      "Epoch 361/400\n",
      "10/10 [==============================] - 0s 4ms/step - loss: 580951.3750 - accuracy: 0.1056\n",
      "Epoch 362/400\n",
      "10/10 [==============================] - 0s 6ms/step - loss: 597971.8750 - accuracy: 0.0000e+00\n",
      "Epoch 363/400\n",
      "10/10 [==============================] - 0s 4ms/step - loss: 615733.1250 - accuracy: 0.0000e+00\n",
      "Epoch 364/400\n",
      "10/10 [==============================] - 0s 4ms/step - loss: 615948.0625 - accuracy: 0.0000e+00\n",
      "Epoch 365/400\n",
      "10/10 [==============================] - 0s 4ms/step - loss: 599811.2500 - accuracy: 0.0000e+00\n",
      "Epoch 366/400\n",
      "10/10 [==============================] - 0s 3ms/step - loss: 596936.2500 - accuracy: 0.0000e+00\n",
      "Epoch 367/400\n",
      "10/10 [==============================] - 0s 4ms/step - loss: 612383.9375 - accuracy: 0.0000e+00\n",
      "Epoch 368/400\n",
      "10/10 [==============================] - 0s 3ms/step - loss: 623764.9375 - accuracy: 0.0000e+00\n",
      "Epoch 369/400\n",
      "10/10 [==============================] - 0s 4ms/step - loss: 615225.6875 - accuracy: 0.0000e+00\n",
      "Epoch 370/400\n",
      "10/10 [==============================] - 0s 4ms/step - loss: 654509.5000 - accuracy: 0.0000e+00\n",
      "Epoch 371/400\n",
      "10/10 [==============================] - 0s 4ms/step - loss: 655240.1875 - accuracy: 0.0000e+00\n",
      "Epoch 372/400\n",
      "10/10 [==============================] - 0s 4ms/step - loss: 650166.6250 - accuracy: 0.0000e+00\n",
      "Epoch 373/400\n",
      "10/10 [==============================] - 0s 5ms/step - loss: 639952.0625 - accuracy: 0.0000e+00\n",
      "Epoch 374/400\n",
      "10/10 [==============================] - 0s 8ms/step - loss: 657944.8125 - accuracy: 0.0000e+00\n",
      "Epoch 375/400\n",
      "10/10 [==============================] - 0s 8ms/step - loss: 691431.8750 - accuracy: 0.0429\n",
      "Epoch 376/400\n"
     ]
    },
    {
     "name": "stdout",
     "output_type": "stream",
     "text": [
      "10/10 [==============================] - 0s 7ms/step - loss: 693832.1250 - accuracy: 0.0000e+00\n",
      "Epoch 377/400\n",
      "10/10 [==============================] - 0s 5ms/step - loss: 667060.9375 - accuracy: 0.0000e+00\n",
      "Epoch 378/400\n",
      "10/10 [==============================] - 0s 8ms/step - loss: 656285.1875 - accuracy: 0.0000e+00\n",
      "Epoch 379/400\n",
      "10/10 [==============================] - 0s 6ms/step - loss: 664725.6250 - accuracy: 0.0000e+00\n",
      "Epoch 380/400\n",
      "10/10 [==============================] - 0s 6ms/step - loss: 665658.1875 - accuracy: 0.0000e+00\n",
      "Epoch 381/400\n",
      "10/10 [==============================] - 0s 7ms/step - loss: 667915.6875 - accuracy: 0.0000e+00\n",
      "Epoch 382/400\n",
      "10/10 [==============================] - 0s 6ms/step - loss: 650959.5000 - accuracy: 0.0000e+00\n",
      "Epoch 383/400\n",
      "10/10 [==============================] - 0s 6ms/step - loss: 661050.3750 - accuracy: 0.0000e+00\n",
      "Epoch 384/400\n",
      "10/10 [==============================] - 0s 7ms/step - loss: 665088.3125 - accuracy: 0.0000e+00\n",
      "Epoch 385/400\n",
      "10/10 [==============================] - 0s 7ms/step - loss: 670435.5625 - accuracy: 0.0000e+00\n",
      "Epoch 386/400\n",
      "10/10 [==============================] - 0s 5ms/step - loss: 696191.8125 - accuracy: 0.0000e+00\n",
      "Epoch 387/400\n",
      "10/10 [==============================] - 0s 4ms/step - loss: 694250.7500 - accuracy: 0.0000e+00\n",
      "Epoch 388/400\n",
      "10/10 [==============================] - 0s 6ms/step - loss: 727382.1250 - accuracy: 0.0000e+00\n",
      "Epoch 389/400\n",
      "10/10 [==============================] - 0s 7ms/step - loss: 703837.8125 - accuracy: 0.1023\n",
      "Epoch 390/400\n",
      "10/10 [==============================] - 0s 4ms/step - loss: 751662.0625 - accuracy: 0.0000e+00\n",
      "Epoch 391/400\n",
      "10/10 [==============================] - 0s 6ms/step - loss: 725957.1250 - accuracy: 0.0000e+00\n",
      "Epoch 392/400\n",
      "10/10 [==============================] - 0s 8ms/step - loss: 666651.1875 - accuracy: 0.0000e+00\n",
      "Epoch 393/400\n",
      "10/10 [==============================] - 0s 5ms/step - loss: 696465.8125 - accuracy: 0.0000e+00\n",
      "Epoch 394/400\n",
      "10/10 [==============================] - 0s 5ms/step - loss: 693818.5000 - accuracy: 0.0000e+00\n",
      "Epoch 395/400\n",
      "10/10 [==============================] - 0s 4ms/step - loss: 695706.8125 - accuracy: 0.0000e+00\n",
      "Epoch 396/400\n",
      "10/10 [==============================] - 0s 3ms/step - loss: 721964.7500 - accuracy: 0.0000e+00\n",
      "Epoch 397/400\n",
      "10/10 [==============================] - 0s 4ms/step - loss: 719465.8125 - accuracy: 0.0000e+00\n",
      "Epoch 398/400\n",
      "10/10 [==============================] - 0s 3ms/step - loss: 751542.7500 - accuracy: 0.0000e+00\n",
      "Epoch 399/400\n",
      "10/10 [==============================] - 0s 3ms/step - loss: 785352.3750 - accuracy: 0.0000e+00\n",
      "Epoch 400/400\n",
      "10/10 [==============================] - 0s 3ms/step - loss: 795006.0625 - accuracy: 0.0000e+00\n",
      "10/10 [==============================] - 0s 1ms/step\n",
      "62/62 [==============================] - 0s 1ms/step\n"
     ]
    }
   ],
   "source": [
    "# Redefine (Dimension-related) Elements of Grid\n",
    "param_grid_Deep_Classifier['input_dim'] = [2]\n",
    "param_grid_Deep_Classifier['output_dim'] = [N_Quantizers_to_parameterize]\n",
    "\n",
    "# Train simple deep classifier\n",
    "predicted_classes_train, predicted_classes_test, N_params_deep_classifier = build_simple_deep_classifier(n_folds = CV_folds, \n",
    "                                                                                                        n_jobs = n_jobs, \n",
    "                                                                                                        n_iter = n_iter, \n",
    "                                                                                                        param_grid_in=param_grid_Deep_Classifier, \n",
    "                                                                                                        X_train = X_train, \n",
    "                                                                                                        y_train = Classifer_Wasserstein_Centers.T,\n",
    "                                                                                                        X_test = X_test)"
   ]
  },
  {
   "cell_type": "markdown",
   "metadata": {},
   "source": [
    "#### Get Predicted Quantized Distributions\n",
    "- Each *row* of \"Predicted_Weights\" is the $\\beta\\in \\Delta_N$.\n",
    "- Each *Column* of \"Barycenters_Array\" denotes the $x_1,\\dots,x_N$ making up the points of the corresponding empirical measures."
   ]
  },
  {
   "cell_type": "code",
   "execution_count": 25,
   "metadata": {},
   "outputs": [
    {
     "name": "stderr",
     "output_type": "stream",
     "text": [
      "\r",
      "  0%|          | 0/152 [00:00<?, ?it/s]"
     ]
    },
    {
     "name": "stdout",
     "output_type": "stream",
     "text": [
      "#---------------------------------------#\n",
      "Building Training Set (Regression): START\n",
      "#---------------------------------------#\n"
     ]
    },
    {
     "name": "stderr",
     "output_type": "stream",
     "text": [
      "100%|██████████| 152/152 [00:56<00:00,  2.70it/s]\n",
      "  1%|          | 1/152 [00:00<00:15,  9.71it/s]"
     ]
    },
    {
     "name": "stdout",
     "output_type": "stream",
     "text": [
      "#-------------------------------------#\n",
      "Building Training Set (Regression): END\n",
      "#-------------------------------------#\n",
      "#-------------------------------------#\n",
      "Building Test Set (Predictions): START\n",
      "#-------------------------------------#\n"
     ]
    },
    {
     "name": "stderr",
     "output_type": "stream",
     "text": [
      " 25%|██▌       | 38/152 [01:19<03:57,  2.08s/it]\n"
     ]
    },
    {
     "ename": "KeyboardInterrupt",
     "evalue": "",
     "output_type": "error",
     "traceback": [
      "\u001b[0;31m---------------------------------------------------------------------------\u001b[0m",
      "\u001b[0;31mKeyboardInterrupt\u001b[0m                         Traceback (most recent call last)",
      "\u001b[0;32m<ipython-input-25-06952c34ef62>\u001b[0m in \u001b[0;36m<module>\u001b[0;34m\u001b[0m\n\u001b[1;32m     27\u001b[0m         \u001b[0mPredicted_Weights_test\u001b[0m \u001b[0;34m=\u001b[0m \u001b[0mb_test\u001b[0m\u001b[0;34m\u001b[0m\u001b[0;34m\u001b[0m\u001b[0m\n\u001b[1;32m     28\u001b[0m     \u001b[0;32melse\u001b[0m\u001b[0;34m:\u001b[0m\u001b[0;34m\u001b[0m\u001b[0;34m\u001b[0m\u001b[0m\n\u001b[0;32m---> 29\u001b[0;31m         \u001b[0mPredicted_Weights_test\u001b[0m \u001b[0;34m=\u001b[0m \u001b[0mnp\u001b[0m\u001b[0;34m.\u001b[0m\u001b[0mappend\u001b[0m\u001b[0;34m(\u001b[0m\u001b[0mPredicted_Weights_test\u001b[0m\u001b[0;34m,\u001b[0m\u001b[0mb_test\u001b[0m\u001b[0;34m,\u001b[0m\u001b[0maxis\u001b[0m\u001b[0;34m=\u001b[0m\u001b[0;36m1\u001b[0m\u001b[0;34m)\u001b[0m\u001b[0;34m\u001b[0m\u001b[0;34m\u001b[0m\u001b[0m\n\u001b[0m\u001b[1;32m     30\u001b[0m \u001b[0mprint\u001b[0m\u001b[0;34m(\u001b[0m\u001b[0;34m\"#-----------------------------------#\"\u001b[0m\u001b[0;34m)\u001b[0m\u001b[0;34m\u001b[0m\u001b[0;34m\u001b[0m\u001b[0m\n\u001b[1;32m     31\u001b[0m \u001b[0mprint\u001b[0m\u001b[0;34m(\u001b[0m\u001b[0;34m\"Building Test Set (Predictions): END\"\u001b[0m\u001b[0;34m)\u001b[0m\u001b[0;34m\u001b[0m\u001b[0;34m\u001b[0m\u001b[0m\n",
      "\u001b[0;32m/usr/lib64/python3.7/site-packages/numpy/lib/function_base.py\u001b[0m in \u001b[0;36mappend\u001b[0;34m(arr, values, axis)\u001b[0m\n\u001b[1;32m   4692\u001b[0m         \u001b[0mvalues\u001b[0m \u001b[0;34m=\u001b[0m \u001b[0mravel\u001b[0m\u001b[0;34m(\u001b[0m\u001b[0mvalues\u001b[0m\u001b[0;34m)\u001b[0m\u001b[0;34m\u001b[0m\u001b[0;34m\u001b[0m\u001b[0m\n\u001b[1;32m   4693\u001b[0m         \u001b[0maxis\u001b[0m \u001b[0;34m=\u001b[0m \u001b[0marr\u001b[0m\u001b[0;34m.\u001b[0m\u001b[0mndim\u001b[0m\u001b[0;34m-\u001b[0m\u001b[0;36m1\u001b[0m\u001b[0;34m\u001b[0m\u001b[0;34m\u001b[0m\u001b[0m\n\u001b[0;32m-> 4694\u001b[0;31m     \u001b[0;32mreturn\u001b[0m \u001b[0mconcatenate\u001b[0m\u001b[0;34m(\u001b[0m\u001b[0;34m(\u001b[0m\u001b[0marr\u001b[0m\u001b[0;34m,\u001b[0m \u001b[0mvalues\u001b[0m\u001b[0;34m)\u001b[0m\u001b[0;34m,\u001b[0m \u001b[0maxis\u001b[0m\u001b[0;34m=\u001b[0m\u001b[0maxis\u001b[0m\u001b[0;34m)\u001b[0m\u001b[0;34m\u001b[0m\u001b[0;34m\u001b[0m\u001b[0m\n\u001b[0m\u001b[1;32m   4695\u001b[0m \u001b[0;34m\u001b[0m\u001b[0m\n\u001b[1;32m   4696\u001b[0m \u001b[0;34m\u001b[0m\u001b[0m\n",
      "\u001b[0;31mKeyboardInterrupt\u001b[0m: "
     ]
    }
   ],
   "source": [
    "# Format Weights\n",
    "## Train\n",
    "print(\"#---------------------------------------#\")\n",
    "print(\"Building Training Set (Regression): START\")\n",
    "print(\"#---------------------------------------#\")\n",
    "Predicted_Weights = np.array([])\n",
    "for i in tqdm(range(N_Quantizers_to_parameterize)):    \n",
    "    b = np.repeat(np.array(predicted_classes_train[:,i],dtype='float').reshape(-1,1),N_Monte_Carlo_Samples,axis=-1)\n",
    "    b = b/N_Monte_Carlo_Samples\n",
    "    if i ==0 :\n",
    "        Predicted_Weights = b\n",
    "    else:\n",
    "        Predicted_Weights = np.append(Predicted_Weights,b,axis=1)\n",
    "print(\"#-------------------------------------#\")\n",
    "print(\"Building Training Set (Regression): END\")\n",
    "print(\"#-------------------------------------#\")\n",
    "\n",
    "## Test\n",
    "print(\"#-------------------------------------#\")\n",
    "print(\"Building Test Set (Predictions): START\")\n",
    "print(\"#-------------------------------------#\")\n",
    "Predicted_Weights_test = np.array([])\n",
    "for i in tqdm(range(N_Quantizers_to_parameterize)):\n",
    "    b_test = np.repeat(np.array(predicted_classes_test[:,i],dtype='float').reshape(-1,1),N_Monte_Carlo_Samples,axis=-1)\n",
    "    b_test = b_test/N_Monte_Carlo_Samples\n",
    "    if i ==0 :\n",
    "        Predicted_Weights_test = b_test\n",
    "    else:\n",
    "        Predicted_Weights_test = np.append(Predicted_Weights_test,b_test,axis=1)\n",
    "print(\"#-----------------------------------#\")\n",
    "print(\"Building Test Set (Predictions): END\")\n",
    "print(\"#-----------------------------------#\")\n",
    "        \n",
    "# Format Points of Mass\n",
    "print(\"#-----------------------------#\")\n",
    "print(\"Building Barycenters Set: START\")\n",
    "print(\"#-----------------------------#\")\n",
    "Barycenters_Array = Barycenters_Array.T.reshape(-1,)\n",
    "print(\"#-----------------------------#\")\n",
    "print(\"Building Barycenters Set: END\")\n",
    "print(\"#-----------------------------#\")"
   ]
  },
  {
   "cell_type": "markdown",
   "metadata": {},
   "source": [
    "#### Stop Timer"
   ]
  },
  {
   "cell_type": "code",
   "execution_count": null,
   "metadata": {},
   "outputs": [],
   "source": [
    "# Stop Timer\n",
    "Type_A_timer_end = time.time()\n",
    "# Compute Lapsed Time Needed For Training\n",
    "Time_Lapse_Model_A = Type_A_timer_end - Type_A_timer_Begin"
   ]
  },
  {
   "cell_type": "markdown",
   "metadata": {},
   "source": [
    "## Get Moment Predictions"
   ]
  },
  {
   "cell_type": "markdown",
   "metadata": {},
   "source": [
    "#### Write Predictions"
   ]
  },
  {
   "cell_type": "markdown",
   "metadata": {},
   "source": [
    "### Training-Set Result(s): "
   ]
  },
  {
   "cell_type": "code",
   "execution_count": null,
   "metadata": {},
   "outputs": [],
   "source": [
    "print(\"Building Training Set Performance Metrics\")\n",
    "\n",
    "# Initialize Wasserstein-1 Error Distribution\n",
    "W1_errors = np.array([])\n",
    "Mean_errors = np.array([])\n",
    "Var_errors = np.array([])\n",
    "Skewness_errors = np.array([])\n",
    "Kurtosis_errors = np.array([])\n",
    "#---------------------------------------------------------------------------------------------#\n",
    "\n",
    "# Populate Error Distribution\n",
    "for x_i in tqdm(range(len(measures_locations_list)-1)):    \n",
    "    # Get Laws\n",
    "    W1_loop = ot.emd2_1d(Barycenters_Array,\n",
    "                         np.array(measures_locations_list[x_i]).reshape(-1,),\n",
    "                         Predicted_Weights[x_i,].reshape(-1,),\n",
    "                         measure_weights.reshape(-1,))\n",
    "    W1_errors = np.append(W1_errors,W1_loop)\n",
    "    # Get Means\n",
    "    Mu_hat = np.sum((Predicted_Weights[x_i])*(Barycenters_Array))\n",
    "    Mu = np.mean(np.array(measures_locations_list[x_i]))\n",
    "    Mean_errors =  np.append(Mean_errors,(Mu_hat-Mu))\n",
    "    # Get Var (non-centered)\n",
    "    Var_hat = np.sum((Barycenters_Array**2)*(Predicted_Weights[x_i]))\n",
    "    Var = np.mean(np.array(measures_locations_list[x_i])**2)\n",
    "    Var_errors = np.append(Var_errors,(Var_hat-Var)**2)\n",
    "    # Get skewness (non-centered)\n",
    "    Skewness_hat = np.sum((Barycenters_Array**3)*(Predicted_Weights[x_i]))\n",
    "    Skewness = np.mean(np.array(measures_locations_list[x_i])**3)\n",
    "    Skewness_errors = np.append(Skewness_errors,(abs(Skewness_hat-Skewness))**(1/3))\n",
    "    # Get skewness (non-centered)\n",
    "    Kurtosis_hat = np.sum((Barycenters_Array**4)*(Predicted_Weights[x_i]))\n",
    "    Kurtosis = np.mean(np.array(measures_locations_list[x_i])**4)\n",
    "    Kurtosis_errors = np.append(Kurtosis_errors,(abs(Kurtosis_hat-Kurtosis))**.25)\n",
    "    \n",
    "#---------------------------------------------------------------------------------------------#\n",
    "# Compute Error Statistics/Descriptors\n",
    "W1_Performance = np.array([np.min(np.abs(W1_errors)),np.mean(np.abs(W1_errors)),np.max(np.abs(W1_errors))])\n",
    "Mean_prediction_Performance = np.array([np.min(np.abs(Mean_errors)),np.mean(np.abs(Mean_errors)),np.max(np.abs(Mean_errors))])\n",
    "Var_prediction_Performance = np.array([np.min(np.abs(Var_errors)),np.mean(np.abs(Var_errors)),np.max(np.abs(Var_errors))])\n",
    "Skewness_prediction_Performance = np.array([np.min(np.abs(Skewness_errors)),np.mean(np.abs(Skewness_errors)),np.max(np.abs(Skewness_errors))])\n",
    "Kurtosis_prediction_Performance = np.array([np.min(np.abs(Kurtosis_errors)),np.mean(np.abs(Kurtosis_errors)),np.max(np.abs(Kurtosis_errors))])\n",
    "\n",
    "Type_A_Prediction = pd.DataFrame({\"W1\":W1_Performance,\n",
    "                                  \"E[X']-E[X]\":Mean_prediction_Performance,\n",
    "                                  \"(E[X'^2]-E[X^2])^.5\":Var_prediction_Performance,\n",
    "                                  \"(E[X'^3]-E[X^3])^(1/3)\":Skewness_prediction_Performance,\n",
    "                                  \"(E[X'^4]-E[X^4])^.25\":Kurtosis_prediction_Performance},index=[\"Min\",\"MAE\",\"Max\"])\n",
    "\n",
    "# Write Performance\n",
    "Type_A_Prediction.to_latex((results_tables_path+str(\"Roughness_\")+str(Rougness)+str(\"__RatiofBM_\")+str(Ratio_fBM_to_typical_vol)+\n",
    " \"__TypeAPrediction_Train.tex\"))\n",
    "\n",
    "\n",
    "#---------------------------------------------------------------------------------------------#\n",
    "# Update User\n",
    "print(Type_A_Prediction)"
   ]
  },
  {
   "cell_type": "markdown",
   "metadata": {},
   "source": [
    "---"
   ]
  },
  {
   "cell_type": "markdown",
   "metadata": {},
   "source": [
    "### Test-Set Result(s): "
   ]
  },
  {
   "cell_type": "code",
   "execution_count": null,
   "metadata": {},
   "outputs": [],
   "source": [
    "print(\"Building Test Set Performance Metrics\")\n",
    "\n",
    "# Initialize Wasserstein-1 Error Distribution\n",
    "W1_errors_test = np.array([])\n",
    "Mean_errors_test = np.array([])\n",
    "Var_errors_test = np.array([])\n",
    "Skewness_errors_test = np.array([])\n",
    "Kurtosis_errors_test = np.array([])\n",
    "#---------------------------------------------------------------------------------------------#\n",
    "\n",
    "# Populate Error Distribution\n",
    "for x_i in tqdm(range(len(measures_locations_test_list)-1)):    \n",
    "    # Get Laws\n",
    "    W1_loop_test = ot.emd2_1d(Barycenters_Array,\n",
    "                         np.array(measures_locations_test_list[x_i]).reshape(-1,),\n",
    "                         Predicted_Weights_test[x_i,].reshape(-1,),\n",
    "                         measure_weights_test.reshape(-1,))\n",
    "    W1_errors_test = np.append(W1_errors_test,W1_loop_test)\n",
    "    # Get Means\n",
    "    Mu_hat_test = np.sum((Predicted_Weights_test[x_i])*(Barycenters_Array))\n",
    "    Mu_test = np.mean(np.array(measures_locations_test_list[x_i]))\n",
    "    Mean_errors_test =  np.append(Mean_errors_test,(Mu_hat_test-Mu_test))\n",
    "    # Get Var (non-centered)\n",
    "    Var_hat_test = np.sum((Barycenters_Array**2)*(Predicted_Weights_test[x_i]))\n",
    "    Var_test = np.mean(np.array(measures_locations_test_list[x_i])**2)\n",
    "    Var_errors_test = np.append(Var_errors_test,(Var_hat_test-Var_test)**2)\n",
    "    # Get skewness (non-centered)\n",
    "    Skewness_hat_test = np.sum((Barycenters_Array**3)*(Predicted_Weights_test[x_i]))\n",
    "    Skewness_test = np.mean(np.array(measures_locations_test_list[x_i])**3)\n",
    "    Skewness_errors_test = np.append(Skewness_errors_test,(abs(Skewness_hat_test-Skewness_test))**(1/3))\n",
    "    # Get skewness (non-centered)\n",
    "    Kurtosis_hat_test = np.sum((Barycenters_Array**4)*(Predicted_Weights_test[x_i]))\n",
    "    Kurtosis_test = np.mean(np.array(measures_locations_test_list[x_i])**4)\n",
    "    Kurtosis_errors_test = np.append(Kurtosis_errors_test,(abs(Kurtosis_hat_test-Kurtosis_test))**.25)\n",
    "    \n",
    "#---------------------------------------------------------------------------------------------#\n",
    "# Compute Error Statistics/Descriptors\n",
    "W1_Performance_test = np.array([np.min(np.abs(W1_errors_test)),np.mean(np.abs(W1_errors_test)),np.mean(np.abs(W1_errors_test))])\n",
    "Mean_prediction_Performance_test = np.array([np.min(np.abs(Mean_errors_test)),np.mean(np.abs(Mean_errors_test)),np.mean(np.abs(Mean_errors_test))])\n",
    "Var_prediction_Performance_test = np.array([np.min(np.abs(Var_errors_test)),np.mean(np.abs(Var_errors_test)),np.mean(np.abs(Var_errors_test))])\n",
    "Skewness_prediction_Performance_test = np.array([np.min(np.abs(Skewness_errors_test)),np.mean(np.abs(Skewness_errors_test)),np.mean(np.abs(Skewness_errors_test))])\n",
    "Kurtosis_prediction_Performance_test = np.array([np.min(np.abs(Kurtosis_errors_test)),np.mean(np.abs(Kurtosis_errors_test)),np.mean(np.abs(Kurtosis_errors_test))])\n",
    "\n",
    "Type_A_Prediction_test = pd.DataFrame({\"W1\":W1_Performance_test,\n",
    "                                  \"E[X']-E[X]\":Mean_prediction_Performance_test,\n",
    "                                  \"(E[X'^2]-E[X^2])^.5\":Var_prediction_Performance_test,\n",
    "                                  \"(E[X'^3]-E[X^3])^(1/3)\":Skewness_prediction_Performance_test,\n",
    "                                  \"(E[X'^4]-E[X^4])^.25\":Kurtosis_prediction_Performance_test},index=[\"Min\",\"MAE\",\"Max\"])\n",
    "\n",
    "# Write Performance\n",
    "Type_A_Prediction_test.to_latex((results_tables_path+str(\"Roughness_\")+str(Rougness)+str(\"__RatiofBM_\")+str(Ratio_fBM_to_typical_vol)+\n",
    " \"__TypeAPrediction_Test.tex\"))"
   ]
  },
  {
   "cell_type": "markdown",
   "metadata": {},
   "source": [
    "## Update User"
   ]
  },
  {
   "cell_type": "markdown",
   "metadata": {},
   "source": [
    "### Print for Terminal Legibility"
   ]
  },
  {
   "cell_type": "code",
   "execution_count": null,
   "metadata": {},
   "outputs": [],
   "source": [
    "print(\"#----------------------#\")\n",
    "print(\"Training-Set Performance\")\n",
    "print(\"#----------------------#\")\n",
    "print(Type_A_Prediction)\n",
    "print(\" \")\n",
    "print(\" \")\n",
    "print(\" \")\n",
    "\n",
    "print(\"#------------------#\")\n",
    "print(\"Test-Set Performance\")\n",
    "print(\"#------------------#\")\n",
    "print(Type_A_Prediction_test)\n",
    "print(\" \")\n",
    "print(\" \")\n",
    "print(\" \")"
   ]
  },
  {
   "cell_type": "markdown",
   "metadata": {},
   "source": [
    "### Facts of Simulation Experiment:"
   ]
  },
  {
   "cell_type": "code",
   "execution_count": null,
   "metadata": {},
   "outputs": [],
   "source": [
    "# Update User\n",
    "print(\"====================\")\n",
    "print(\" Experiment's Facts \")\n",
    "print(\"====================\")\n",
    "print(\"------------------------------------------------------\")\n",
    "print(\"=====\")\n",
    "print(\"Model\")\n",
    "print(\"=====\")\n",
    "print(\"\\u2022 N Centers:\",N_Quantizers_to_parameterize)\n",
    "print(\"\\u2022 Each Wasserstein-1 Ball should contain: \",\n",
    "      N_Elements_Per_Cluster, \n",
    "      \"elements from the training set.\")\n",
    "print(\"------------------------------------------------------\")\n",
    "print(\"========\")\n",
    "print(\"Training\")\n",
    "print(\"========\")\n",
    "print(\"\\u2022 Data-size:\",(len(x_Grid)*len(t_Grid)))\n",
    "print(\"\\u2022 N Points per training datum:\",N_Monte_Carlo_Samples)\n",
    "print(\"------------------------------------------------------\")\n",
    "print(\"=======\")\n",
    "print(\"Testing\")\n",
    "print(\"=======\")\n",
    "print(\"\\u2022 Data-size Test:\",(len(x_Grid_test)*len(t_Grid_test)))\n",
    "print(\"\\u2022 N Points per testing datum:\",N_Monte_Carlo_Samples_Test)\n",
    "print(\"------------------------------------------------------\")\n",
    "print(\"------------------------------------------------------\")"
   ]
  },
  {
   "cell_type": "markdown",
   "metadata": {},
   "source": [
    "### Training-Set Performance"
   ]
  },
  {
   "cell_type": "code",
   "execution_count": null,
   "metadata": {},
   "outputs": [],
   "source": [
    "Type_A_Prediction"
   ]
  },
  {
   "cell_type": "markdown",
   "metadata": {},
   "source": [
    "### Test-Set Performance"
   ]
  },
  {
   "cell_type": "code",
   "execution_count": null,
   "metadata": {},
   "outputs": [],
   "source": [
    "Type_A_Prediction_test"
   ]
  },
  {
   "cell_type": "markdown",
   "metadata": {},
   "source": [
    "# Visualization"
   ]
  },
  {
   "cell_type": "code",
   "execution_count": null,
   "metadata": {},
   "outputs": [],
   "source": [
    "# Get Testing Predictions\n",
    "Mu_hat = np.array([])\n",
    "Mu = np.array([])\n",
    "# Populate Error Distribution\n",
    "for x_i in tqdm(range(len(measures_locations_list)-1)):    \n",
    "    # Get Laws\n",
    "    Mu_hat = np.append(Mu_hat,np.sum((Predicted_Weights[x_i])*(Barycenters_Array)))\n",
    "    Mu = np.append(Mu,np.mean(np.array(measures_locations_list[x_i])))\n",
    "\n",
    "# Get Training Predictions\n",
    "Mu_hat_test = np.array([])\n",
    "Mu_test = np.array([])\n",
    "Var_hat_test = np.array([])\n",
    "# Populate Error Distribution\n",
    "for x_i in tqdm(range(len(measures_locations_test_list)-1)):    \n",
    "    # Get Laws\n",
    "    Mu_hat_test = np.append(Mu_hat_test,np.sum((Predicted_Weights_test[x_i])*(Barycenters_Array)))\n",
    "    Mu_test = np.append(Mu_test,np.mean(np.array(measures_locations_test_list[x_i])))\n",
    "    ## Error Bands\n",
    "    Var_hat_test = np.append(Var_hat_test,np.sqrt(np.sum((Barycenters_Array**2)*(Predicted_Weights_test[x_i]))))"
   ]
  },
  {
   "cell_type": "markdown",
   "metadata": {},
   "source": [
    "---"
   ]
  },
  {
   "cell_type": "markdown",
   "metadata": {},
   "source": [
    "---\n",
    "# Fin\n",
    "---"
   ]
  },
  {
   "cell_type": "markdown",
   "metadata": {},
   "source": [
    "---"
   ]
  }
 ],
 "metadata": {
  "kernelspec": {
   "display_name": "Python 3",
   "language": "python",
   "name": "python3"
  },
  "language_info": {
   "codemirror_mode": {
    "name": "ipython",
    "version": 3
   },
   "file_extension": ".py",
   "mimetype": "text/x-python",
   "name": "python",
   "nbconvert_exporter": "python",
   "pygments_lexer": "ipython3",
   "version": "3.7.7"
  }
 },
 "nbformat": 4,
 "nbformat_minor": 2
}
