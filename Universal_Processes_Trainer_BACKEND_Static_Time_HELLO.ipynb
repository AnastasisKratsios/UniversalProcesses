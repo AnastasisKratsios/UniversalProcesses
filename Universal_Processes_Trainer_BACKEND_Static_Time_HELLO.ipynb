{
 "cells": [
  {
   "cell_type": "markdown",
   "metadata": {},
   "source": [
    "# Generic Conditional Laws for Random-Fields - via:\n",
    "\n",
    "## Universal $\\mathcal{P}_1(\\mathbb{R})$-Deep Neural Model $\\mathcal{NN}_{1_{\\mathbb{R}^n},\\mathcal{D}}^{\\sigma:\\star}$.\n",
    "\n",
    "---\n",
    "\n",
    "By: [Anastasis Kratsios](https://people.math.ethz.ch/~kratsioa/) - 2021.\n",
    "\n",
    "---"
   ]
  },
  {
   "cell_type": "code",
   "execution_count": 1,
   "metadata": {},
   "outputs": [],
   "source": [
    "# Software/Hardware Testing or Real-Deal?\n",
    "trial_run = False"
   ]
  },
  {
   "cell_type": "markdown",
   "metadata": {},
   "source": [
    "---\n",
    "# Training Algorithm:\n",
    "---\n",
    "- Random $\\delta$-bounded partition on input space,\n",
    "- Train deep classifier on infered classes.\n",
    "---\n",
    "---\n",
    "---\n",
    "## Notes - Why the procedure is so computationally efficient?\n",
    "---\n",
    " - The sample barycenters do not require us to solve for any new Wasserstein-1 Barycenters; which is much more computationally costly,\n",
    " - Our training procedure never back-propages through $\\mathcal{W}_1$ since steps 2 and 3 are full-decoupled.  Therefore, training our deep classifier is (comparatively) cheap since it takes values in the standard $N$-simplex.\n",
    "\n",
    "---"
   ]
  },
  {
   "cell_type": "markdown",
   "metadata": {},
   "source": [
    "## Load Auxiliaries"
   ]
  },
  {
   "cell_type": "code",
   "execution_count": 2,
   "metadata": {},
   "outputs": [
    {
     "name": "stderr",
     "output_type": "stream",
     "text": [
      "Using TensorFlow backend.\n"
     ]
    },
    {
     "name": "stdout",
     "output_type": "stream",
     "text": [
      "Deep Feature Builder - Ready\n",
      "Deep Classifier - Ready\n"
     ]
    }
   ],
   "source": [
    "# Load Packages/Modules\n",
    "exec(open('Init_Dump.py').read())\n",
    "# Load Hyper-parameter Grid\n",
    "exec(open('CV_Grid.py').read())\n",
    "# Load Helper Function(s)\n",
    "exec(open('Helper_Functions.py').read())\n",
    "# Import time separately\n",
    "import time\n",
    "\n",
    "\n",
    "# load dataset\n",
    "results_path = \"./outputs/models/\"\n",
    "results_tables_path = \"./outputs/results/\"\n",
    "raw_data_path_folder = \"./inputs/raw/\"\n",
    "data_path_folder = \"./inputs/data/\"\n",
    "\n",
    "\n",
    "### Set Seed\n",
    "random.seed(2021)\n",
    "np.random.seed(2021)\n",
    "tf.random.set_seed(2021)"
   ]
  },
  {
   "cell_type": "markdown",
   "metadata": {},
   "source": [
    "## Meta-Parameters"
   ]
  },
  {
   "cell_type": "markdown",
   "metadata": {},
   "source": [
    "### Simulation"
   ]
  },
  {
   "cell_type": "markdown",
   "metadata": {},
   "source": [
    "#### Grid Hyperparameter(s)\n",
    "- Ratio $\\frac{\\text{Testing Datasize}}{\\text{Training Datasize}}$.\n",
    "- Number of Training Points to Generate"
   ]
  },
  {
   "cell_type": "code",
   "execution_count": 3,
   "metadata": {},
   "outputs": [],
   "source": [
    "train_test_ratio = .2\n",
    "N_train_size = 10**3"
   ]
  },
  {
   "cell_type": "markdown",
   "metadata": {},
   "source": [
    "Monte-Carlo Paramters"
   ]
  },
  {
   "cell_type": "code",
   "execution_count": 4,
   "metadata": {},
   "outputs": [],
   "source": [
    "## Monte-Carlo\n",
    "# N_Euler_Maruyama_Steps = 2\n",
    "N_Monte_Carlo_Samples = 10**3\n",
    "\n",
    "# End times for Time-Grid\n",
    "T_end = 1"
   ]
  },
  {
   "cell_type": "markdown",
   "metadata": {},
   "source": [
    "Initial radis of $\\delta$-bounded random partition of $\\mathcal{X}$!"
   ]
  },
  {
   "cell_type": "code",
   "execution_count": 5,
   "metadata": {},
   "outputs": [],
   "source": [
    "# Hyper-parameters of Cover\n",
    "delta = 0.001\n",
    "Proportion_per_cluster = .1"
   ]
  },
  {
   "cell_type": "markdown",
   "metadata": {},
   "source": [
    "**Note**: Setting *N_Quantizers_to_parameterize* prevents any barycenters and sub-sampling."
   ]
  },
  {
   "cell_type": "code",
   "execution_count": 6,
   "metadata": {},
   "outputs": [],
   "source": [
    "trial_run = True"
   ]
  },
  {
   "cell_type": "markdown",
   "metadata": {},
   "source": [
    "## Problem Dimension"
   ]
  },
  {
   "cell_type": "code",
   "execution_count": 7,
   "metadata": {},
   "outputs": [],
   "source": [
    "problem_dim = 5\n",
    "width = 10"
   ]
  },
  {
   "cell_type": "markdown",
   "metadata": {},
   "source": [
    "# Simulate from: $Y=f(X,U) = f_{\\text{unknown}}(X+U)$ \n",
    "*Non-linear dependance on exhaugenous noise.*"
   ]
  },
  {
   "cell_type": "code",
   "execution_count": 20,
   "metadata": {},
   "outputs": [],
   "source": [
    "# Easy\n",
    "# def f_unknown(x_in):\n",
    "#     return np.sum(x_in)\n",
    "\n",
    "# Hard\n",
    "W_2a = np.random.uniform(size=np.array([1,width]),low=-.5,high=.5)\n",
    "W_1a = np.random.uniform(size=np.array([width,problem_dim]),low=-.5,high=.5)\n",
    "def f_unknown(x):\n",
    "    x_internal = x.reshape(-1,)\n",
    "    x_internal = np.matmul(W_1a,x_internal)\n",
    "    x_internal = np.matmul(W_2a,np.cos(x_internal))\n",
    "    return x_internal"
   ]
  },
  {
   "cell_type": "code",
   "execution_count": 21,
   "metadata": {},
   "outputs": [],
   "source": [
    "def Simulator(x_in):\n",
    "    # Initialize Gaussian\n",
    "#     cov = np.diag(np.ones(problem_dim))*0.01\n",
    "#     ready = np.random.multivariate_normal(x_in, cov, N_Monte_Carlo_Samples)\n",
    "#     f_x = np.apply_along_axis(f_unknown, 1, x_in)\n",
    "    # Pushforward\n",
    "    f_x = f_unknown(x_in)\n",
    "    # Apply Noise After\n",
    "    f_x_noise = f_x + np.random.normal(0,0.01,N_Monte_Carlo_Samples)\n",
    "    return f_x_noise"
   ]
  },
  {
   "cell_type": "markdown",
   "metadata": {},
   "source": [
    "## Initialize Data"
   ]
  },
  {
   "cell_type": "code",
   "execution_count": 23,
   "metadata": {},
   "outputs": [],
   "source": [
    "N_test_size = int(np.round(N_train_size*train_test_ratio,0))"
   ]
  },
  {
   "cell_type": "markdown",
   "metadata": {},
   "source": [
    "### Initialize Training Data (Inputs)"
   ]
  },
  {
   "cell_type": "markdown",
   "metadata": {},
   "source": [
    "Try initial sampling-type implementation!  It worked nicely..i.e.: centers were given!"
   ]
  },
  {
   "cell_type": "code",
   "execution_count": 24,
   "metadata": {},
   "outputs": [],
   "source": [
    "# Get Training Set\n",
    "X_train = np.random.uniform(size=np.array([N_train_size,problem_dim]),low=.5,high=1.5)\n",
    "\n",
    "# Get Testing Set\n",
    "test_set_indices = np.random.choice(range(X_train.shape[0]),N_test_size)\n",
    "X_test = X_train[test_set_indices,]\n",
    "X_test = X_test + np.random.uniform(low=-(delta/np.sqrt(problem_dim)), \n",
    "                                    high = -(delta/np.sqrt(problem_dim)),\n",
    "                                    size = X_test.shape)"
   ]
  },
  {
   "cell_type": "code",
   "execution_count": 25,
   "metadata": {},
   "outputs": [],
   "source": [
    "from sklearn.cluster import KMeans"
   ]
  },
  {
   "cell_type": "code",
   "execution_count": 26,
   "metadata": {},
   "outputs": [],
   "source": [
    "# Initialize k_means\n",
    "N_Quantizers_to_parameterize = int(round(Proportion_per_cluster*X_train.shape[0]))\n",
    "kmeans = KMeans(n_clusters=N_Quantizers_to_parameterize, random_state=0).fit(X_train)\n",
    "# Get Classes\n",
    "Train_classes = np.array(pd.get_dummies(kmeans.labels_))\n",
    "# Get Center Measures\n",
    "Barycenters_Array_x = kmeans.cluster_centers_"
   ]
  },
  {
   "cell_type": "markdown",
   "metadata": {},
   "source": [
    "### Get Barycenters\n",
    "*Here we make the assumption that we can directly resample $f(X=x,U)$ if necessary...or that it is available as part of the dataset.*"
   ]
  },
  {
   "cell_type": "code",
   "execution_count": 27,
   "metadata": {},
   "outputs": [
    {
     "name": "stderr",
     "output_type": "stream",
     "text": [
      "100%|██████████| 100/100 [00:00<00:00, 2942.46it/s]\n"
     ]
    }
   ],
   "source": [
    "for i in tqdm(range(Barycenters_Array_x.shape[0])):\n",
    "    # Put Datum\n",
    "    Bar_x_loop = Barycenters_Array_x[i,]\n",
    "    # Product Monte-Carlo Sample for Input\n",
    "    Bar_y_loop = (Simulator(Bar_x_loop)).reshape(1,-1)\n",
    "\n",
    "    # Update Dataset\n",
    "    if i == 0:\n",
    "        Barycenters_Array = Bar_y_loop\n",
    "    else:\n",
    "        Barycenters_Array = np.append(Barycenters_Array,Bar_y_loop,axis=0)"
   ]
  },
  {
   "cell_type": "markdown",
   "metadata": {},
   "source": [
    "### Initialize Training Data (Outputs)"
   ]
  },
  {
   "cell_type": "markdown",
   "metadata": {},
   "source": [
    "#### Get Training Set"
   ]
  },
  {
   "cell_type": "code",
   "execution_count": 28,
   "metadata": {},
   "outputs": [
    {
     "name": "stderr",
     "output_type": "stream",
     "text": [
      "100%|██████████| 1000/1000 [00:01<00:00, 502.55it/s]\n"
     ]
    }
   ],
   "source": [
    "for i in tqdm(range(X_train.shape[0])):\n",
    "    # Put Datum\n",
    "    x_loop = X_train[i,]\n",
    "    # Product Monte-Carlo Sample for Input\n",
    "    y_loop = (Simulator(x_loop)).reshape(1,-1)\n",
    "\n",
    "    # Update Dataset\n",
    "    if i == 0:\n",
    "        Y_train = y_loop\n",
    "    else:\n",
    "        Y_train = np.append(Y_train,y_loop,axis=0)"
   ]
  },
  {
   "cell_type": "markdown",
   "metadata": {},
   "source": [
    "#### Get Test Set"
   ]
  },
  {
   "cell_type": "code",
   "execution_count": 29,
   "metadata": {},
   "outputs": [
    {
     "name": "stderr",
     "output_type": "stream",
     "text": [
      "100%|██████████| 200/200 [00:00<00:00, 4727.89it/s]\n"
     ]
    }
   ],
   "source": [
    "# Start Timer\n",
    "Test_Set_PredictionTime_MC = time.time()\n",
    "\n",
    "# Generate Data\n",
    "for i in tqdm(range(X_test.shape[0])):\n",
    "    # Put Datum\n",
    "    x_loop = X_test[i,]\n",
    "    # Product Monte-Carlo Sample for Input\n",
    "    y_loop = (Simulator(x_loop)).reshape(1,-1)\n",
    "\n",
    "    # Update Dataset\n",
    "    if i == 0:\n",
    "        Y_test = y_loop\n",
    "    else:\n",
    "        Y_test = np.append(Y_test,y_loop,axis=0)\n",
    "        \n",
    "# End Timer\n",
    "Test_Set_PredictionTime_MC = time.time() - Test_Set_PredictionTime_MC"
   ]
  },
  {
   "cell_type": "markdown",
   "metadata": {},
   "source": [
    "# Train Model"
   ]
  },
  {
   "cell_type": "markdown",
   "metadata": {},
   "source": [
    "#### Start Timer"
   ]
  },
  {
   "cell_type": "code",
   "execution_count": 30,
   "metadata": {},
   "outputs": [],
   "source": [
    "# Start Timer\n",
    "Type_A_timer_Begin = time.time()"
   ]
  },
  {
   "cell_type": "markdown",
   "metadata": {},
   "source": [
    "### Train Deep Classifier"
   ]
  },
  {
   "cell_type": "markdown",
   "metadata": {},
   "source": [
    "In this step, we train a deep (feed-forward) classifier:\n",
    "$$\n",
    "\\hat{f}\\triangleq \\operatorname{Softmax}_N\\circ W_J\\circ \\sigma \\bullet \\dots \\sigma \\bullet W_1,\n",
    "$$\n",
    "to identify which barycenter we are closest to."
   ]
  },
  {
   "cell_type": "markdown",
   "metadata": {},
   "source": [
    "#### Train Deep Classifier"
   ]
  },
  {
   "cell_type": "markdown",
   "metadata": {},
   "source": [
    "Re-Load Packages and CV Grid"
   ]
  },
  {
   "cell_type": "code",
   "execution_count": 31,
   "metadata": {},
   "outputs": [
    {
     "name": "stdout",
     "output_type": "stream",
     "text": [
      "Deep Feature Builder - Ready\n",
      "Deep Classifier - Ready\n"
     ]
    }
   ],
   "source": [
    "# Re-Load Hyper-parameter Grid\n",
    "exec(open('CV_Grid.py').read())\n",
    "# Re-Load Classifier Function(s)\n",
    "exec(open('Helper_Functions.py').read())"
   ]
  },
  {
   "cell_type": "markdown",
   "metadata": {},
   "source": [
    "Train Deep Classifier"
   ]
  },
  {
   "cell_type": "code",
   "execution_count": 32,
   "metadata": {},
   "outputs": [
    {
     "name": "stdout",
     "output_type": "stream",
     "text": [
      "==========================================\n",
      "Training Classifer Portion of Type-A Model\n",
      "==========================================\n",
      "Fitting 2 folds for each of 1 candidates, totalling 2 fits\n"
     ]
    },
    {
     "name": "stderr",
     "output_type": "stream",
     "text": [
      "[Parallel(n_jobs=4)]: Using backend LokyBackend with 4 concurrent workers.\n",
      "[Parallel(n_jobs=4)]: Done   2 out of   2 | elapsed:    7.4s remaining:    0.0s\n",
      "[Parallel(n_jobs=4)]: Done   2 out of   2 | elapsed:    7.4s finished\n"
     ]
    },
    {
     "name": "stdout",
     "output_type": "stream",
     "text": [
      "Epoch 1/50\n",
      "32/32 [==============================] - 0s 2ms/step - loss: 4.6023 - accuracy: 0.0010\n",
      "Epoch 2/50\n",
      "32/32 [==============================] - 0s 2ms/step - loss: 4.5665 - accuracy: 0.0180\n",
      "Epoch 3/50\n",
      "32/32 [==============================] - 0s 2ms/step - loss: 4.5263 - accuracy: 0.0300\n",
      "Epoch 4/50\n",
      "32/32 [==============================] - 0s 2ms/step - loss: 4.4741 - accuracy: 0.0400\n",
      "Epoch 5/50\n",
      "32/32 [==============================] - 0s 2ms/step - loss: 4.4109 - accuracy: 0.0600\n",
      "Epoch 6/50\n",
      "32/32 [==============================] - 0s 2ms/step - loss: 4.3430 - accuracy: 0.0800\n",
      "Epoch 7/50\n",
      "32/32 [==============================] - 0s 2ms/step - loss: 4.2716 - accuracy: 0.0990\n",
      "Epoch 8/50\n",
      "32/32 [==============================] - 0s 2ms/step - loss: 4.1991 - accuracy: 0.1090\n",
      "Epoch 9/50\n",
      "32/32 [==============================] - 0s 2ms/step - loss: 4.1225 - accuracy: 0.1300\n",
      "Epoch 10/50\n",
      "32/32 [==============================] - 0s 2ms/step - loss: 4.0440 - accuracy: 0.1390\n",
      "Epoch 11/50\n",
      "32/32 [==============================] - 0s 2ms/step - loss: 3.9656 - accuracy: 0.1560\n",
      "Epoch 12/50\n",
      "32/32 [==============================] - 0s 2ms/step - loss: 3.8863 - accuracy: 0.1910\n",
      "Epoch 13/50\n",
      "32/32 [==============================] - 0s 2ms/step - loss: 3.8062 - accuracy: 0.1980\n",
      "Epoch 14/50\n",
      "32/32 [==============================] - 0s 2ms/step - loss: 3.7277 - accuracy: 0.2230\n",
      "Epoch 15/50\n",
      "32/32 [==============================] - 0s 2ms/step - loss: 3.6479 - accuracy: 0.2380\n",
      "Epoch 16/50\n",
      "32/32 [==============================] - 0s 2ms/step - loss: 3.5686 - accuracy: 0.2610\n",
      "Epoch 17/50\n",
      "32/32 [==============================] - 0s 2ms/step - loss: 3.4911 - accuracy: 0.2920\n",
      "Epoch 18/50\n",
      "32/32 [==============================] - 0s 2ms/step - loss: 3.4116 - accuracy: 0.3200\n",
      "Epoch 19/50\n",
      "32/32 [==============================] - 0s 2ms/step - loss: 3.3293 - accuracy: 0.3470\n",
      "Epoch 20/50\n",
      "32/32 [==============================] - 0s 2ms/step - loss: 3.2501 - accuracy: 0.3630\n",
      "Epoch 21/50\n",
      "32/32 [==============================] - 0s 2ms/step - loss: 3.1744 - accuracy: 0.3790\n",
      "Epoch 22/50\n",
      "32/32 [==============================] - 0s 2ms/step - loss: 3.0988 - accuracy: 0.4100\n",
      "Epoch 23/50\n",
      "32/32 [==============================] - 0s 2ms/step - loss: 3.0271 - accuracy: 0.4090\n",
      "Epoch 24/50\n",
      "32/32 [==============================] - 0s 2ms/step - loss: 2.9569 - accuracy: 0.4430\n",
      "Epoch 25/50\n",
      "32/32 [==============================] - 0s 2ms/step - loss: 2.8905 - accuracy: 0.4510\n",
      "Epoch 26/50\n",
      "32/32 [==============================] - 0s 2ms/step - loss: 2.8260 - accuracy: 0.4590\n",
      "Epoch 27/50\n",
      "32/32 [==============================] - 0s 2ms/step - loss: 2.7625 - accuracy: 0.4760\n",
      "Epoch 28/50\n",
      "32/32 [==============================] - 0s 2ms/step - loss: 2.7034 - accuracy: 0.4830\n",
      "Epoch 29/50\n",
      "32/32 [==============================] - 0s 2ms/step - loss: 2.6454 - accuracy: 0.4940\n",
      "Epoch 30/50\n",
      "32/32 [==============================] - 0s 2ms/step - loss: 2.5895 - accuracy: 0.5160\n",
      "Epoch 31/50\n",
      "32/32 [==============================] - 0s 2ms/step - loss: 2.5355 - accuracy: 0.5310\n",
      "Epoch 32/50\n",
      "32/32 [==============================] - 0s 2ms/step - loss: 2.4846 - accuracy: 0.5340\n",
      "Epoch 33/50\n",
      "32/32 [==============================] - 0s 2ms/step - loss: 2.4334 - accuracy: 0.5540\n",
      "Epoch 34/50\n",
      "32/32 [==============================] - 0s 3ms/step - loss: 2.3855 - accuracy: 0.5530\n",
      "Epoch 35/50\n",
      "32/32 [==============================] - 0s 2ms/step - loss: 2.3390 - accuracy: 0.5710\n",
      "Epoch 36/50\n",
      "32/32 [==============================] - ETA: 0s - loss: 2.2929 - accuracy: 0.59 - 0s 2ms/step - loss: 2.2938 - accuracy: 0.5960\n",
      "Epoch 37/50\n",
      "32/32 [==============================] - 0s 2ms/step - loss: 2.2500 - accuracy: 0.5930\n",
      "Epoch 38/50\n",
      "32/32 [==============================] - 0s 2ms/step - loss: 2.2086 - accuracy: 0.5920\n",
      "Epoch 39/50\n",
      "32/32 [==============================] - 0s 2ms/step - loss: 2.1694 - accuracy: 0.6120\n",
      "Epoch 40/50\n",
      "32/32 [==============================] - 0s 2ms/step - loss: 2.1293 - accuracy: 0.6000\n",
      "Epoch 41/50\n",
      "32/32 [==============================] - 0s 2ms/step - loss: 2.0910 - accuracy: 0.6190\n",
      "Epoch 42/50\n",
      "32/32 [==============================] - 0s 3ms/step - loss: 2.0536 - accuracy: 0.6410\n",
      "Epoch 43/50\n",
      "32/32 [==============================] - 0s 3ms/step - loss: 2.0207 - accuracy: 0.6470\n",
      "Epoch 44/50\n",
      "32/32 [==============================] - 0s 3ms/step - loss: 1.9861 - accuracy: 0.6610\n",
      "Epoch 45/50\n",
      "32/32 [==============================] - 0s 2ms/step - loss: 1.9526 - accuracy: 0.6650\n",
      "Epoch 46/50\n",
      "32/32 [==============================] - 0s 2ms/step - loss: 1.9232 - accuracy: 0.6810\n",
      "Epoch 47/50\n",
      "32/32 [==============================] - 0s 2ms/step - loss: 1.8899 - accuracy: 0.6880\n",
      "Epoch 48/50\n",
      "32/32 [==============================] - 0s 2ms/step - loss: 1.8609 - accuracy: 0.6830\n",
      "Epoch 49/50\n",
      "32/32 [==============================] - 0s 1ms/step - loss: 1.8285 - accuracy: 0.7000\n",
      "Epoch 50/50\n",
      "32/32 [==============================] - 0s 2ms/step - loss: 1.8013 - accuracy: 0.7190\n",
      "32/32 [==============================] - 0s 775us/step\n",
      "7/7 [==============================] - 0s 1ms/step\n",
      "===============================================\n",
      "Training Classifer Portion of Type Model: Done!\n",
      "===============================================\n"
     ]
    }
   ],
   "source": [
    "print(\"==========================================\")\n",
    "print(\"Training Classifer Portion of Type-A Model\")\n",
    "print(\"==========================================\")\n",
    "\n",
    "# Redefine (Dimension-related) Elements of Grid\n",
    "param_grid_Deep_Classifier['input_dim'] = [problem_dim]\n",
    "param_grid_Deep_Classifier['output_dim'] = [N_Quantizers_to_parameterize]\n",
    "\n",
    "# Train simple deep classifier\n",
    "predicted_classes_train, predicted_classes_test, N_params_deep_classifier, timer_output = build_simple_deep_classifier(n_folds = CV_folds, \n",
    "                                                                                                        n_jobs = n_jobs, \n",
    "                                                                                                        n_iter = n_iter, \n",
    "                                                                                                        param_grid_in=param_grid_Deep_Classifier, \n",
    "                                                                                                        X_train = X_train, \n",
    "                                                                                                        y_train = Train_classes,\n",
    "                                                                                                        X_test = X_test)\n",
    "\n",
    "print(\"===============================================\")\n",
    "print(\"Training Classifer Portion of Type Model: Done!\")\n",
    "print(\"===============================================\")"
   ]
  },
  {
   "cell_type": "markdown",
   "metadata": {},
   "source": [
    "#### Get Predicted Quantized Distributions\n",
    "- Each *row* of \"Predicted_Weights\" is the $\\beta\\in \\Delta_N$.\n",
    "- Each *Column* of \"Barycenters_Array\" denotes the $x_1,\\dots,x_N$ making up the points of the corresponding empirical measures."
   ]
  },
  {
   "cell_type": "code",
   "execution_count": 33,
   "metadata": {},
   "outputs": [],
   "source": [
    "# Initialize Empirical Weights\n",
    "empirical_weights = (np.ones(N_Monte_Carlo_Samples)/N_Monte_Carlo_Samples).reshape(-1,)\n",
    "\n",
    "for i in range(N_Quantizers_to_parameterize):\n",
    "    if i == 0:\n",
    "        points_of_mass = Barycenters_Array[i,]\n",
    "    else:\n",
    "        points_of_mass = np.append(points_of_mass,Barycenters_Array[i,])"
   ]
  },
  {
   "cell_type": "code",
   "execution_count": 34,
   "metadata": {},
   "outputs": [],
   "source": [
    "direct_facts = np.apply_along_axis(f_unknown, 1, X_train)"
   ]
  },
  {
   "cell_type": "code",
   "execution_count": 35,
   "metadata": {},
   "outputs": [
    {
     "name": "stderr",
     "output_type": "stream",
     "text": [
      "\r",
      "  0%|          | 0/1000 [00:00<?, ?it/s]"
     ]
    },
    {
     "name": "stdout",
     "output_type": "stream",
     "text": [
      "#--------------------#\n",
      " Get Training Error(s)\n",
      "#--------------------#\n"
     ]
    },
    {
     "name": "stderr",
     "output_type": "stream",
     "text": [
      "100%|██████████| 1000/1000 [00:17<00:00, 56.43it/s]"
     ]
    },
    {
     "name": "stdout",
     "output_type": "stream",
     "text": [
      "#-------------------------#\n",
      " Get Training Error(s): END\n",
      "#-------------------------#\n"
     ]
    },
    {
     "name": "stderr",
     "output_type": "stream",
     "text": [
      "\n"
     ]
    }
   ],
   "source": [
    "print(\"#--------------------#\")\n",
    "print(\" Get Training Error(s)\")\n",
    "print(\"#--------------------#\")\n",
    "for i in tqdm(range((X_train.shape[0]))):\n",
    "    for j in range(N_Quantizers_to_parameterize):\n",
    "        b_loop = np.repeat(predicted_classes_train[i,j],N_Monte_Carlo_Samples)\n",
    "        if j == 0:\n",
    "            b = b_loop\n",
    "        else:\n",
    "            b = np.append(b,b_loop)\n",
    "        b = b.reshape(-1,1)\n",
    "        b = b\n",
    "    b = np.array(b,dtype=float).reshape(-1,)\n",
    "    b = b/N_Monte_Carlo_Samples\n",
    "    \n",
    "    # Compute Error(s)\n",
    "    ## W1\n",
    "    W1_loop = ot.emd2_1d(points_of_mass,\n",
    "                         np.array(Y_train[i,]).reshape(-1,),\n",
    "                         b,\n",
    "                         empirical_weights)\n",
    "    \n",
    "    ## M1\n",
    "    Mu_hat = np.sum(b*(points_of_mass))\n",
    "    Mu_MC = np.mean(np.array(Y_train[i,]))\n",
    "    Mu = direct_facts[i,]\n",
    "    ### Error(s)\n",
    "    Mean_loop = (Mu_hat-Mu)\n",
    "    Mean_loop_MC = (Mu_hat-Mu_MC)\n",
    "    \n",
    "    ## M2\n",
    "    Var_hat = np.sum(((points_of_mass-Mu_hat)**2)*b)\n",
    "    Var_MC = np.mean(np.array(Y_train[i]-Mu_MC)**2)\n",
    "    Var = np.mean((direct_facts[i,]-Mu)**2)\n",
    "    \n",
    "    ### Error(s)\n",
    "    Var_loop = np.abs(Var_hat-Var)\n",
    "    Var_loop_MC = np.abs(Var_MC-Var)\n",
    "    \n",
    "    # Update\n",
    "    if i == 0:\n",
    "        W1_errors = W1_loop\n",
    "        Mean_errors =  Mean_loop\n",
    "        Var_errors = Var_loop\n",
    "        Mean_errors_MC =  Mean_loop_MC\n",
    "        Var_errors_MC = Var_loop_MC\n",
    "        \n",
    "        \n",
    "    else:\n",
    "        W1_errors = np.append(W1_errors,W1_loop)\n",
    "        Mean_errors =  np.append(Mean_errors,Mean_loop)\n",
    "        Var_errors = np.append(Var_errors,Var_loop)\n",
    "        Mean_errors_MC =  np.append(Mean_errors_MC,Mean_loop_MC)\n",
    "        Var_errors_MC = np.append(Var_errors_MC,Var_loop_MC)\n",
    "        \n",
    "print(\"#-------------------------#\")\n",
    "print(\" Get Training Error(s): END\")\n",
    "print(\"#-------------------------#\")"
   ]
  },
  {
   "cell_type": "code",
   "execution_count": 39,
   "metadata": {},
   "outputs": [
    {
     "name": "stderr",
     "output_type": "stream",
     "text": [
      "  2%|▎         | 5/200 [00:00<00:04, 48.18it/s]"
     ]
    },
    {
     "name": "stdout",
     "output_type": "stream",
     "text": [
      "#----------------#\n",
      " Get Test Error(s)\n",
      "#----------------#\n"
     ]
    },
    {
     "name": "stderr",
     "output_type": "stream",
     "text": [
      "100%|██████████| 200/200 [00:03<00:00, 56.23it/s]"
     ]
    },
    {
     "name": "stdout",
     "output_type": "stream",
     "text": [
      "#-------------------------#\n",
      " Get Training Error(s): END\n",
      "#-------------------------#\n"
     ]
    },
    {
     "name": "stderr",
     "output_type": "stream",
     "text": [
      "\n"
     ]
    }
   ],
   "source": [
    "print(\"#----------------#\")\n",
    "print(\" Get Test Error(s)\")\n",
    "print(\"#----------------#\")\n",
    "for i in tqdm(range((X_test.shape[0]))):\n",
    "    for j in range(N_Quantizers_to_parameterize):\n",
    "        b_loop = np.repeat(predicted_classes_test[i,j],N_Monte_Carlo_Samples)\n",
    "        if j == 0:\n",
    "            b = b_loop\n",
    "        else:\n",
    "            b = np.append(b,b_loop)\n",
    "        b = b.reshape(-1,1)\n",
    "        b = b\n",
    "    b = np.array(b,dtype=float).reshape(-1,)\n",
    "    b = b/N_Monte_Carlo_Samples\n",
    "    \n",
    "    # Compute Error(s)\n",
    "    ## W1\n",
    "    W1_loop = ot.emd2_1d(points_of_mass,\n",
    "                         np.array(Y_test[i,]).reshape(-1,),\n",
    "                         b,\n",
    "                         empirical_weights)\n",
    "    \n",
    "    ## M1\n",
    "    Mu_hat = np.sum(b*(points_of_mass))\n",
    "    Mu_MC = np.mean(np.array(Y_test[i,]))\n",
    "    Mu = direct_facts[i,]\n",
    "    ### Error(s)\n",
    "    Mean_loop = (Mu_hat-Mu)\n",
    "    Mean_loop_MC = (Mu_hat-Mu_MC)\n",
    "    \n",
    "    ## M2\n",
    "    Var_hat = np.sum(((points_of_mass-Mu_hat)**2)*b)\n",
    "    Var_MC = np.mean(np.array(Y_test[i]-Mu_MC)**2)\n",
    "    Var = np.mean((direct_facts[i,]-Mu)**2)\n",
    "    \n",
    "    ### Error(s)\n",
    "    Var_loop = np.abs(Var_hat-Var)\n",
    "    Var_loop_MC = np.abs(Var_MC-Var)\n",
    "    \n",
    "    # Update\n",
    "    if i == 0:\n",
    "        W1_errors_test = W1_loop\n",
    "        Mean_errors_test =  Mean_loop\n",
    "        Var_errors_test = Var_loop\n",
    "        Mean_errors_MC_test =  Mean_loop_MC\n",
    "        Var_errors_MC_test = Var_loop_MC\n",
    "        \n",
    "        \n",
    "    else:\n",
    "        W1_errors_test = np.append(W1_errors,W1_loop)\n",
    "        Mean_errors_test =  np.append(Mean_errors,Mean_loop)\n",
    "        Var_errors_test = np.append(Var_errors,Var_loop)\n",
    "        Mean_errors_MC_test =  np.append(Mean_errors_MC,Mean_loop_MC)\n",
    "        Var_errors_MC_test = np.append(Var_errors_MC,Var_loop_MC)\n",
    "        \n",
    "print(\"#-------------------------#\")\n",
    "print(\" Get Training Error(s): END\")\n",
    "print(\"#-------------------------#\")"
   ]
  },
  {
   "cell_type": "markdown",
   "metadata": {},
   "source": [
    "#### Stop Timer"
   ]
  },
  {
   "cell_type": "code",
   "execution_count": 40,
   "metadata": {},
   "outputs": [],
   "source": [
    "# Stop Timer\n",
    "Type_A_timer_end = time.time()\n",
    "# Compute Lapsed Time Needed For Training\n",
    "Time_Lapse_Model_A = Type_A_timer_end - Type_A_timer_Begin"
   ]
  },
  {
   "cell_type": "markdown",
   "metadata": {},
   "source": [
    "## Get Moment Predictions"
   ]
  },
  {
   "cell_type": "markdown",
   "metadata": {},
   "source": [
    "#### Write Predictions"
   ]
  },
  {
   "cell_type": "markdown",
   "metadata": {},
   "source": [
    "### Training-Set Result(s): "
   ]
  },
  {
   "cell_type": "code",
   "execution_count": 81,
   "metadata": {},
   "outputs": [
    {
     "name": "stdout",
     "output_type": "stream",
     "text": [
      "      W1_99_Train  W1error_99_Train\n",
      "CL     1.9665E-03        1.9375E-03\n",
      "Mean   2.0507E-03        2.0507E-03\n",
      "CU     2.1345E-03        2.1584E-03\n",
      "              W1         M1   M1/M1_MC         M2   M2/M2_MC  N_Centers   N_Q  \\\n",
      "Train 2.0507E-03 2.4562E-02 1.0008E+00 1.8708E-03 1.8699E+01        100  1000   \n",
      "Test  2.0507E-03 2.4562E-02 1.0008E+00 1.8708E-03 1.8699E+01        100  1000   \n",
      "\n",
      "       N_Params  Training Time  T_Test/T_Test-MC  \n",
      "Train      2220     1.3967E+02        1.4443E+00  \n",
      "Test       2220     1.3967E+02        1.4443E+00  \n"
     ]
    }
   ],
   "source": [
    "#---------------------------------------------------------------------------------------------#\n",
    "W1_95 = bootstrap(W1_errors, n=1000, func=np.mean)(.95)\n",
    "W1_99 = bootstrap(W1_errors, n=1000, func=np.mean)(.99)\n",
    "#---------------------------------------------------------------------------------------------#\n",
    "Model_Complexity = pd.DataFrame({\"N_Centers\":N_Quantizers_to_parameterize,\n",
    "                                 \"N_Q\":N_Monte_Carlo_Samples,\n",
    "                                 \"N_Params\":N_params_deep_classifier,\n",
    "                                 \"Training Time\":Time_Lapse_Model_A,\n",
    "                                 \"T_Test/T_Test-MC\": (timer_output/Test_Set_PredictionTime_MC),\n",
    "                                 \"Time Test\": timer_output,\n",
    "                                 \"Time EM-MC\": Test_Set_PredictionTime_MC},index=[\"Model_Complexity_metrics\"])\n",
    "\n",
    "#---------------------------------------------------------------------------------------------#\n",
    "# Compute Error Statistics/Descriptors\n",
    "## Train\n",
    "W1_Performance = np.array([np.min(np.abs(W1_errors)),np.mean(np.abs(W1_errors)),np.max(np.abs(W1_errors))])\n",
    "Mean_prediction_Performance = np.array([np.min(np.abs(Mean_errors)),np.mean(np.abs(Mean_errors)),np.max(np.abs(Mean_errors))])\n",
    "Var_prediction_Performance = np.array([np.min(np.abs(Var_errors)),np.mean(np.abs(Var_errors)),np.max(np.abs(Var_errors))])\n",
    "Mean_prediction_Performance_MC = np.array([np.min(np.abs(Mean_errors_MC)),np.mean(np.abs(Mean_errors_MC)),np.max(np.abs(Mean_errors_MC))])\n",
    "Var_prediction_Performance_MC = np.array([np.min(np.abs(Var_errors_MC)),np.mean(np.abs(Var_errors_MC)),np.max(np.abs(Var_errors_MC))])\n",
    "## Test\n",
    "W1_Performance_test = np.array([np.min(np.abs(W1_errors_test)),np.mean(np.abs(W1_errors_test)),np.max(np.abs(W1_errors_test))])\n",
    "Mean_prediction_Performance_test = np.array([np.min(np.abs(Mean_errors_test)),np.mean(np.abs(Mean_errors_test)),np.max(np.abs(Mean_errors_test))])\n",
    "Var_prediction_Performance_test = np.array([np.min(np.abs(Var_errors_test)),np.mean(np.abs(Var_errors_test)),np.max(np.abs(Var_errors_test))])\n",
    "Mean_prediction_Performance_MC_test = np.array([np.min(np.abs(Mean_errors_MC_test)),np.mean(np.abs(Mean_errors_MC_test)),np.max(np.abs(Mean_errors_MC_test))])\n",
    "Var_prediction_Performance_MC_test = np.array([np.min(np.abs(Var_errors_MC_test)),np.mean(np.abs(Var_errors_MC_test)),np.max(np.abs(Var_errors_MC_test))])\n",
    "#---------------------------------------------------------------------------------------------#\n",
    "\n",
    "Type_A_Prediction = pd.DataFrame({\"W1\":W1_Performance,\n",
    "                                  \"M1\":Mean_prediction_Performance,\n",
    "                                  \"M1/M1_MC\":Mean_prediction_Performance/Mean_prediction_Performance_MC,\n",
    "                                  \"M2\":Var_prediction_Performance,\n",
    "                                  \"M2/M2_MC\":Var_prediction_Performance/Var_prediction_Performance_MC},index=[\"Min\",\"MAE\",\"Max\"])\n",
    "Type_A_Prediction_test = pd.DataFrame({\"W1\":W1_Performance_test,\n",
    "                                  \"M1\":Mean_prediction_Performance_test,\n",
    "                                  \"M1/M1_MC\":Mean_prediction_Performance_test/Mean_prediction_Performance_MC_test,\n",
    "                                  \"M2\":Var_prediction_Performance_test,\n",
    "                                  \"M2/M2_MC\":Var_prediction_Performance_test/Var_prediction_Performance_MC_test},index=[\"Min\",\"MAE\",\"Max\"])\n",
    "\n",
    "Type_A_Predictions_and_confidence = pd.DataFrame({\"W1_99_Train\":W1_95,\n",
    "                                                  \"W1error_99_Train\":W1_99},index=[\"CL\",\"Mean\",\"CU\"])\n",
    "\n",
    "Summary = pd.DataFrame({\"W1\":[np.array(W1_Performance[1],W1_Performance_test[1])],\n",
    "                        \"M1\":[np.array(Mean_prediction_Performance[1],\n",
    "                                       Mean_prediction_Performance_test[1])],\n",
    "                        \"M1/M1_MC\":[np.array(Mean_prediction_Performance[1]/Mean_prediction_Performance_MC[1],\n",
    "                                             Mean_prediction_Performance_test[1]/Mean_prediction_Performance_MC_test[1])],\n",
    "                        \"M2\":[np.array(Var_prediction_Performance[1],\n",
    "                                       Var_prediction_Performance_test[1])],\n",
    "                        \"M2/M2_MC\":[np.array(Var_prediction_Performance[1]/Var_prediction_Performance_MC[1],\n",
    "                                             Var_prediction_Performance_test[1]/Var_prediction_Performance_MC_test[1])],\n",
    "                        \"N_Centers\":np.array((N_Quantizers_to_parameterize,N_Quantizers_to_parameterize)),\n",
    "                        \"N_Q\":np.array((N_Monte_Carlo_Samples,N_Monte_Carlo_Samples)),\n",
    "                        \"N_Params\":np.array((N_params_deep_classifier,N_params_deep_classifier)),\n",
    "                        \"Training Time\":np.array((Time_Lapse_Model_A,Time_Lapse_Model_A)),\n",
    "                        \"T_Test/T_Test-MC\":np.array(((timer_output/Test_Set_PredictionTime_MC),(timer_output/Test_Set_PredictionTime_MC)))\n",
    "                       },index=[\"Train\",\"Test\"])\n",
    "\n",
    "\n",
    "# Write Performance Metrics to file #\n",
    "#-----------------------------------#\n",
    "pd.set_option('display.float_format', '{:.4E}'.format)\n",
    "Type_A_Prediction.to_latex((results_tables_path+\"Latent_Width_NSDE\"+str(width)+\"Problemdimension\"+str(problem_dim)+\"__TypeAPrediction_Train.tex\"))\n",
    "Type_A_Prediction_test.to_latex((results_tables_path+\"Latent_Width_NSDE\"+str(width)+\"Problemdimension\"+str(problem_dim)+\"__TypeAPrediction_Train.tex\"))\n",
    "pd.set_option('display.float_format', '{:.4E}'.format)\n",
    "(Type_A_Predictions_and_confidence.T).to_latex((results_tables_path+\"Latent_Width_NSDE\"+str(width)+\"Problemdimension\"+str(problem_dim)+\"__TypeAPrediction_Train_predictions_w_confidence_intervals.tex\"))\n",
    "pd.set_option('display.float_format', '{:.4E}'.format)\n",
    "Model_Complexity.to_latex((results_tables_path+\"Latent_Width_NSDE\"+str(width)+\"Problemdimension\"+str(problem_dim)+\"__ModelComplexities.tex\"))\n",
    "pd.set_option('display.float_format', '{:.4E}'.format)\n",
    "Summary.to_latex((results_tables_path+\"Latent_Width_NSDE\"+str(width)+\"Problemdimension\"+str(problem_dim)+\"__SUMMARY_METRICS.tex\"))\n",
    "\n",
    "\n",
    "#---------------------------------------------------------------------------------------------#\n",
    "# Update User\n",
    "print(Type_A_Predictions_and_confidence)\n",
    "print(Summary)"
   ]
  },
  {
   "cell_type": "markdown",
   "metadata": {},
   "source": [
    "# Update User"
   ]
  },
  {
   "cell_type": "markdown",
   "metadata": {},
   "source": [
    "## Training Set Prediction Quality"
   ]
  },
  {
   "cell_type": "code",
   "execution_count": 78,
   "metadata": {},
   "outputs": [
    {
     "data": {
      "text/html": [
       "<div>\n",
       "<style scoped>\n",
       "    .dataframe tbody tr th:only-of-type {\n",
       "        vertical-align: middle;\n",
       "    }\n",
       "\n",
       "    .dataframe tbody tr th {\n",
       "        vertical-align: top;\n",
       "    }\n",
       "\n",
       "    .dataframe thead th {\n",
       "        text-align: right;\n",
       "    }\n",
       "</style>\n",
       "<table border=\"1\" class=\"dataframe\">\n",
       "  <thead>\n",
       "    <tr style=\"text-align: right;\">\n",
       "      <th></th>\n",
       "      <th>W1</th>\n",
       "      <th>M1</th>\n",
       "      <th>M1/M1_MC</th>\n",
       "      <th>M2</th>\n",
       "      <th>M2/M2_MC</th>\n",
       "      <th>N_Centers</th>\n",
       "      <th>N_Q</th>\n",
       "      <th>N_Params</th>\n",
       "      <th>Training Time</th>\n",
       "      <th>T_Test/T_Test-MC</th>\n",
       "    </tr>\n",
       "  </thead>\n",
       "  <tbody>\n",
       "    <tr>\n",
       "      <th>Train</th>\n",
       "      <td>2.0507E-03</td>\n",
       "      <td>2.4562E-02</td>\n",
       "      <td>1.0008E+00</td>\n",
       "      <td>1.8708E-03</td>\n",
       "      <td>1.8699E+01</td>\n",
       "      <td>[100, 100]</td>\n",
       "      <td>[1000, 1000]</td>\n",
       "      <td>[2220, 2220]</td>\n",
       "      <td>[139.67454409599304, 139.67454409599304]</td>\n",
       "      <td>[1.4443448572420332, 1.4443448572420332]</td>\n",
       "    </tr>\n",
       "    <tr>\n",
       "      <th>Test</th>\n",
       "      <td>2.0507E-03</td>\n",
       "      <td>2.4562E-02</td>\n",
       "      <td>1.0008E+00</td>\n",
       "      <td>1.8708E-03</td>\n",
       "      <td>1.8699E+01</td>\n",
       "      <td>[100, 100]</td>\n",
       "      <td>[1000, 1000]</td>\n",
       "      <td>[2220, 2220]</td>\n",
       "      <td>[139.67454409599304, 139.67454409599304]</td>\n",
       "      <td>[1.4443448572420332, 1.4443448572420332]</td>\n",
       "    </tr>\n",
       "  </tbody>\n",
       "</table>\n",
       "</div>"
      ],
      "text/plain": [
       "              W1         M1   M1/M1_MC         M2   M2/M2_MC   N_Centers  \\\n",
       "Train 2.0507E-03 2.4562E-02 1.0008E+00 1.8708E-03 1.8699E+01  [100, 100]   \n",
       "Test  2.0507E-03 2.4562E-02 1.0008E+00 1.8708E-03 1.8699E+01  [100, 100]   \n",
       "\n",
       "                N_Q      N_Params                             Training Time  \\\n",
       "Train  [1000, 1000]  [2220, 2220]  [139.67454409599304, 139.67454409599304]   \n",
       "Test   [1000, 1000]  [2220, 2220]  [139.67454409599304, 139.67454409599304]   \n",
       "\n",
       "                               T_Test/T_Test-MC  \n",
       "Train  [1.4443448572420332, 1.4443448572420332]  \n",
       "Test   [1.4443448572420332, 1.4443448572420332]  "
      ]
     },
     "execution_count": 78,
     "metadata": {},
     "output_type": "execute_result"
    }
   ],
   "source": [
    "Summary"
   ]
  },
  {
   "cell_type": "markdown",
   "metadata": {},
   "source": [
    "---"
   ]
  },
  {
   "cell_type": "markdown",
   "metadata": {},
   "source": [
    "---\n",
    "# Fin\n",
    "---"
   ]
  },
  {
   "cell_type": "markdown",
   "metadata": {},
   "source": [
    "---"
   ]
  }
 ],
 "metadata": {
  "kernelspec": {
   "display_name": "Python 3",
   "language": "python",
   "name": "python3"
  },
  "language_info": {
   "codemirror_mode": {
    "name": "ipython",
    "version": 3
   },
   "file_extension": ".py",
   "mimetype": "text/x-python",
   "name": "python",
   "nbconvert_exporter": "python",
   "pygments_lexer": "ipython3",
   "version": "3.7.7"
  }
 },
 "nbformat": 4,
 "nbformat_minor": 2
}
