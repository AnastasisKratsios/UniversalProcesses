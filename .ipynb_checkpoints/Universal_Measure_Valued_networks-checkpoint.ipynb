{
 "cells": [
  {
   "cell_type": "markdown",
   "metadata": {},
   "source": [
    "# Generic Conditional Laws for Random-Fields - via:\n",
    "\n",
    "## Universal $\\mathcal{P}_1(\\mathbb{R})$-Deep Neural Model $\\mathcal{NN}_{1_{\\mathbb{R}^n},\\mathcal{D}}^{\\sigma:\\star}$.\n",
    "\n",
    "---\n",
    "\n",
    "By: [Anastasis Kratsios](https://people.math.ethz.ch/~kratsioa/) - 2021.\n",
    "\n",
    "---\n",
    "\n",
    "## What does this code do?\n",
    "1. Learn Heteroskedastic Non-Linear Regression Problem\n",
    "     - $Y\\sim f_{\\text{unkown}}(x) + \\epsilon$ where $f$ is an known function and $\\epsilon\\sim Laplace(0,\\|x\\|)$\n",
    "2. Learn Random Bayesian Network's Law:\n",
    "    - $Y = W_J Y^{J-1}, \\qquad Y^{j}\\triangleq \\sigma\\bullet A^{j}Y^{j-1} + b^{j}, \\qquad Y^0\\triangleq x$\n",
    "\n",
    "3. In the above example if $A_j = M_j\\odot \\tilde{A_j}$ where $\\tilde{A}_j$ is a deterministic matrix and $M_j$ is a \"mask\", that is, a random matrix with binary entries and $\\odot$ is the Hadamard product then we recover the dropout framework."
   ]
  },
  {
   "cell_type": "markdown",
   "metadata": {},
   "source": [
    "#### Mode:\n",
    "Software/Hardware Testing or Real-Deal?"
   ]
  },
  {
   "cell_type": "code",
   "execution_count": 1,
   "metadata": {},
   "outputs": [],
   "source": [
    "trial_run = True"
   ]
  },
  {
   "cell_type": "markdown",
   "metadata": {},
   "source": [
    "### Simulation Method:"
   ]
  },
  {
   "cell_type": "code",
   "execution_count": 2,
   "metadata": {},
   "outputs": [],
   "source": [
    "# Random DNN\n",
    "f_unknown_mode = \"Heteroskedastic_NonLinear_Regression\"\n",
    "\n",
    "# Random DNN internal noise\n",
    "# f_unknown_mode = \"DNN_with_Random_Weights\"\n",
    "Depth_Bayesian_DNN = 10\n",
    "width = 20\n",
    "\n",
    "# Random Dropout applied to trained DNN\n",
    "# f_unknown_mode = \"DNN_with_Bayesian_Dropout\"\n",
    "Dropout_rate = 0.1\n",
    "\n",
    "# Rough SDE (time 1)\n",
    "# f_unknown_mode = \"Rough_SDE\""
   ]
  },
  {
   "cell_type": "markdown",
   "metadata": {},
   "source": [
    "#### Rough SDE Meta-Parameters"
   ]
  },
  {
   "cell_type": "code",
   "execution_count": 4,
   "metadata": {},
   "outputs": [],
   "source": [
    "# SDE with Rough Driver\n",
    "N_Euler_Steps = 10**1\n",
    "Hurst_Exponent = 0.01\n",
    "\n",
    "def alpha(t,x):\n",
    "    output_drift_update = t-x\n",
    "    return output_drift_update\n",
    "\n",
    "def beta(t,x):\n",
    "    output_vol_update = (t+0.001)*np.diag(np.cos(x))\n",
    "    return output_vol_update"
   ]
  },
  {
   "cell_type": "markdown",
   "metadata": {},
   "source": [
    "---\n",
    "# Training Algorithm:\n",
    "---\n",
    "- Random $\\delta$-bounded partition on input space,\n",
    "- Train deep classifier on infered classes.\n",
    "---\n",
    "---\n",
    "---\n",
    "## Notes - Why the procedure is so computationally efficient?\n",
    "---\n",
    " - The sample barycenters do not require us to solve for any new Wasserstein-1 Barycenters; which is much more computationally costly,\n",
    " - Our training procedure never back-propages through $\\mathcal{W}_1$ since steps 2 and 3 are full-decoupled.  Therefore, training our deep classifier is (comparatively) cheap since it takes values in the standard $N$-simplex.\n",
    "\n",
    "---"
   ]
  },
  {
   "cell_type": "markdown",
   "metadata": {},
   "source": [
    "## Load Auxiliaries"
   ]
  },
  {
   "cell_type": "code",
   "execution_count": 47,
   "metadata": {},
   "outputs": [
    {
     "name": "stdout",
     "output_type": "stream",
     "text": [
      "Deep Feature Builder - Ready\n",
      "Deep Classifier - Ready\n"
     ]
    }
   ],
   "source": [
    "# Load Packages/Modules\n",
    "exec(open('Init_Dump.py').read())\n",
    "# Load Hyper-parameter Grid\n",
    "exec(open('CV_Grid.py').read())\n",
    "# Load Helper Function(s)\n",
    "exec(open('Helper_Functions.py').read())\n",
    "# Import time separately\n",
    "import time\n",
    "os.environ['CUDA_VISIBLE_DEVICES'] = '0'\n",
    "\n",
    "\n",
    "# load dataset\n",
    "results_path = \"./outputs/models/\"\n",
    "results_tables_path = \"./outputs/results/\"\n",
    "raw_data_path_folder = \"./inputs/raw/\"\n",
    "data_path_folder = \"./inputs/data/\"\n",
    "\n",
    "\n",
    "### Set Seed\n",
    "random.seed(2021)\n",
    "np.random.seed(2021)\n",
    "tf.random.set_seed(2021)"
   ]
  },
  {
   "cell_type": "markdown",
   "metadata": {},
   "source": [
    "## Meta-Parameters"
   ]
  },
  {
   "cell_type": "markdown",
   "metadata": {},
   "source": [
    "### Simulation"
   ]
  },
  {
   "cell_type": "markdown",
   "metadata": {},
   "source": [
    "## Problem Dimension"
   ]
  },
  {
   "cell_type": "code",
   "execution_count": 6,
   "metadata": {},
   "outputs": [],
   "source": [
    "problem_dim = 3"
   ]
  },
  {
   "cell_type": "markdown",
   "metadata": {},
   "source": [
    "#### Grid Hyperparameter(s)\n",
    "- Ratio $\\frac{\\text{Testing Datasize}}{\\text{Training Datasize}}$.\n",
    "- Number of Training Points to Generate"
   ]
  },
  {
   "cell_type": "code",
   "execution_count": 9,
   "metadata": {},
   "outputs": [],
   "source": [
    "train_test_ratio = .2\n",
    "N_train_size = 10**2"
   ]
  },
  {
   "cell_type": "markdown",
   "metadata": {},
   "source": [
    "Monte-Carlo Paramters"
   ]
  },
  {
   "cell_type": "code",
   "execution_count": 10,
   "metadata": {},
   "outputs": [],
   "source": [
    "## Monte-Carlo\n",
    "N_Monte_Carlo_Samples = 10**2"
   ]
  },
  {
   "cell_type": "markdown",
   "metadata": {},
   "source": [
    "Initial radis of $\\delta$-bounded random partition of $\\mathcal{X}$!"
   ]
  },
  {
   "cell_type": "code",
   "execution_count": 11,
   "metadata": {},
   "outputs": [],
   "source": [
    "# Hyper-parameters of Cover\n",
    "delta = 0.01\n",
    "Proportion_per_cluster = .5"
   ]
  },
  {
   "cell_type": "markdown",
   "metadata": {},
   "source": [
    "**Note**: Setting *N_Quantizers_to_parameterize* prevents any barycenters and sub-sampling."
   ]
  },
  {
   "cell_type": "markdown",
   "metadata": {},
   "source": [
    "# Simulate from: $Y=f(X,W)$ \n",
    "- Random DNN (internal noise): \n",
    "    - $f(X,W) = f_{\\text{unknown}}(X+U)$\n",
    "- Random DNN: \n",
    "    - $f(X,W) = f_{\\text{unknown}}(X)+W$\n",
    "    \n",
    "*Non-linear dependance on exhaugenous noise.*"
   ]
  },
  {
   "cell_type": "markdown",
   "metadata": {},
   "source": [
    "## Heteroskedastic Regression Problem"
   ]
  },
  {
   "cell_type": "code",
   "execution_count": 12,
   "metadata": {},
   "outputs": [],
   "source": [
    "if f_unknown_mode == \"Heteroskedastic_NonLinear_Regression\":\n",
    "    #-----------#\n",
    "    # Build DNN #\n",
    "    #-----------#\n",
    "    W_feature = np.random.uniform(size=np.array([width,problem_dim]),low=-.5,high=.5)\n",
    "    W_readout = np.random.uniform(size=np.array([1,width]),low=-.5,high=.5)\n",
    "    # Generate Matrices\n",
    "    for i_weights in range(Depth_Bayesian_DNN):\n",
    "        W_hidden_loop = np.random.uniform(size=np.array([width,width]),low=-.5,high=.5)\n",
    "        if i_weights == 0:\n",
    "            W_hidden_list = [W_hidden_loop]\n",
    "        else:\n",
    "            W_hidden_list.append(W_hidden_loop)\n",
    "    # Define DNN Applier\n",
    "    def f_unknown(x):\n",
    "        x_internal = x.reshape(-1,)\n",
    "        x_internal = np.matmul(W_feature,x)\n",
    "        #Deep Layer(s)\n",
    "        for i in range(Depth_Bayesian_DNN):\n",
    "            W_internal = W_hidden_list[i]\n",
    "            x_internal = np.matmul(W_internal,x_internal)\n",
    "            x_internal = np.maximum(0,x_internal)    \n",
    "        # Readout Layer\n",
    "        x_internal = np.matmul(W_readout,x_internal)\n",
    "        return x_internal\n",
    "\n",
    "    # Define Simulator\n",
    "    def Simulator(x_in):\n",
    "        var = np.sqrt(np.sum(x_in**2))\n",
    "        # Pushforward\n",
    "        f_x = f_unknown(x_in)\n",
    "        # Apply Noise After\n",
    "        noise = np.random.laplace(0,var,N_Monte_Carlo_Samples)\n",
    "        f_x_noise = np.cos(f_x) + noise\n",
    "        return f_x_noise"
   ]
  },
  {
   "cell_type": "markdown",
   "metadata": {},
   "source": [
    "## Bayesian DNN"
   ]
  },
  {
   "cell_type": "code",
   "execution_count": 13,
   "metadata": {},
   "outputs": [],
   "source": [
    "if f_unknown_mode == \"DNN_with_Random_Weights\":\n",
    "    def f_unknown(x):\n",
    "        x_internal = x.reshape(-1,) \n",
    "        # Feature Map Layer\n",
    "        W_feature = np.random.uniform(size=np.array([width,problem_dim]),low=-.5,high=.5)\n",
    "        x_internal = np.matmul(W_feature,x)\n",
    "    #     Deep Layer(s)\n",
    "        for i in range(Depth_Bayesian_DNN):\n",
    "            W_internal = np.random.uniform(size=np.array([width,width]),low=-.5,high=.5)\n",
    "            x_internal = np.matmul(W_internal,x_internal)\n",
    "            x_internal = np.maximum(0,x_internal)    \n",
    "        # Readout Layer\n",
    "        W_readout = np.random.uniform(size=np.array([1,width]),low=-.5,high=.5)\n",
    "        x_internal = np.matmul(W_readout,x_internal)\n",
    "        return x_internal\n",
    "\n",
    "\n",
    "    def Simulator(x_in):\n",
    "        for i_MC in range(N_Monte_Carlo_Samples):\n",
    "            y_MC_loop = f_unknown(x_in)\n",
    "            if i_MC == 0:\n",
    "                y_MC = y_MC_loop\n",
    "            else:\n",
    "                y_MC = np.append(y_MC,y_MC_loop)\n",
    "        return y_MC"
   ]
  },
  {
   "cell_type": "markdown",
   "metadata": {},
   "source": [
    "## Bayesian Dropout"
   ]
  },
  {
   "cell_type": "code",
   "execution_count": 14,
   "metadata": {},
   "outputs": [],
   "source": [
    "if f_unknown_mode == \"DNN_with_Bayesian_Dropout\":\n",
    "    # Initialize Drouput Parameters\n",
    "    N_Dropout = int(np.maximum(1,round(width*Dropout_rate)))\n",
    "    \n",
    "    #-----------#\n",
    "    # Build DNN #\n",
    "    #-----------#\n",
    "    W_feature = np.random.uniform(size=np.array([width,problem_dim]),low=-.5,high=.5)\n",
    "    W_readout = np.random.uniform(size=np.array([1,width]),low=-.5,high=.5)\n",
    "    # Generate Matrices\n",
    "    for i_weights in range(Depth_Bayesian_DNN):\n",
    "        W_hidden_loop = np.random.uniform(size=np.array([width,width]),low=-.5,high=.5)\n",
    "        if i_weights == 0:\n",
    "            W_hidden_list = [W_hidden_loop]\n",
    "        else:\n",
    "            W_hidden_list.append(W_hidden_loop)\n",
    "    # Define DNN Applier\n",
    "    def f_unknown(x):\n",
    "        x_internal = x.reshape(-1,)\n",
    "        x_internal = np.matmul(W_feature,x)\n",
    "        #Deep Layer(s)\n",
    "        for i in range(Depth_Bayesian_DNN):\n",
    "            W_internal = W_hidden_list[i]\n",
    "            # Apply Random Dropout\n",
    "            random_mask_coordinates_i = np.random.choice(range(width),N_Dropout)\n",
    "            random_mask_coordinates_j = np.random.choice(range(width),N_Dropout)\n",
    "            W_internal[random_mask_coordinates_i,random_mask_coordinates_j] = 0\n",
    "            # Apply Dropped-out layer\n",
    "            x_internal = np.matmul(W_internal,x_internal)\n",
    "            x_internal = np.maximum(0,x_internal)    \n",
    "        # Readout Layer\n",
    "        x_internal = np.matmul(W_readout,x_internal)\n",
    "        return x_internal\n",
    "\n",
    "    def Simulator(x_in):\n",
    "        for i_MC in range(N_Monte_Carlo_Samples):\n",
    "            y_MC_loop = f_unknown(x_in)\n",
    "            if i_MC == 0:\n",
    "                y_MC = y_MC_loop\n",
    "            else:\n",
    "                y_MC = np.append(y_MC,y_MC_loop)\n",
    "        return y_MC"
   ]
  },
  {
   "cell_type": "markdown",
   "metadata": {},
   "source": [
    "### fSDEs\n",
    "Lean the conditional law of $I_{X_1 \\in Ball(0,1)}$ where $X_t$ solves an SDE with fBM driver."
   ]
  },
  {
   "cell_type": "code",
   "execution_count": 15,
   "metadata": {},
   "outputs": [],
   "source": [
    "if f_unknown_mode == \"Rough_SDE\":\n",
    "    # Initialize Drouput Parameters\n",
    "    N_Dropout = int(np.maximum(1,round(width*Dropout_rate)))\n",
    "    \n",
    "    #-----------#\n",
    "    # Build DNN #\n",
    "    #-----------#\n",
    "    W_feature = np.random.uniform(size=np.array([width,problem_dim]),low=-.5,high=.5)\n",
    "    W_readout = np.random.uniform(size=np.array([1,width]),low=-.5,high=.5)\n",
    "    # Generate Matrices\n",
    "    for i_weights in range(Depth_Bayesian_DNN):\n",
    "        W_hidden_loop = np.random.uniform(size=np.array([width,width]),low=-.5,high=.5)\n",
    "        if i_weights == 0:\n",
    "            W_hidden_list = [W_hidden_loop]\n",
    "        else:\n",
    "            W_hidden_list.append(W_hidden_loop)\n",
    "    # Define DNN Applier\n",
    "    def f_unknown(x):\n",
    "        x_internal = x.reshape(-1,)\n",
    "        # Get fBM path\n",
    "        for d in range(problem_dim):\n",
    "            fBM_gen_loop = (((FBM(n=N_Euler_Steps, hurst=Hurst_Exponent, length=1, method='daviesharte')).fbm())[1:]).reshape(-1,1)\n",
    "            if d == 0:\n",
    "                fBM_gen = fBM_gen_loop\n",
    "            else:\n",
    "                fBM_gen = np.append(fBM_gen,fBM_gen_loop,axis=-1)\n",
    "        # Perform Integral\n",
    "        for t in range(N_Euler_Steps):\n",
    "            drift_update = alpha(t/N_Euler_Steps,x_internal)/N_Euler_Steps\n",
    "            vol_update = beta(t/N_Euler_Steps,x_internal)\n",
    "            x_internal = x_internal + drift_update + np.matmul(vol_update,fBM_gen[t,])\n",
    "        # Sum at output\n",
    "        output_indicator = np.max(x_internal)\n",
    "        return output_indicator\n",
    "\n",
    "    def Simulator(x_in):\n",
    "        for i_MC in range(N_Monte_Carlo_Samples):\n",
    "            y_MC_loop = f_unknown(x_in)\n",
    "            if i_MC == 0:\n",
    "                y_MC = y_MC_loop\n",
    "            else:\n",
    "                y_MC = np.append(y_MC,y_MC_loop)\n",
    "        return y_MC"
   ]
  },
  {
   "cell_type": "markdown",
   "metadata": {},
   "source": [
    "## Initialize Data"
   ]
  },
  {
   "cell_type": "code",
   "execution_count": 16,
   "metadata": {},
   "outputs": [],
   "source": [
    "N_test_size = int(np.round(N_train_size*train_test_ratio,0))"
   ]
  },
  {
   "cell_type": "markdown",
   "metadata": {},
   "source": [
    "### Initialize Training Data (Inputs)"
   ]
  },
  {
   "cell_type": "markdown",
   "metadata": {},
   "source": [
    "Try initial sampling-type implementation!  It worked nicely..i.e.: centers were given!"
   ]
  },
  {
   "cell_type": "code",
   "execution_count": 17,
   "metadata": {},
   "outputs": [],
   "source": [
    "# Get Training Set\n",
    "X_train = np.random.uniform(size=np.array([N_train_size,problem_dim]),low=.5,high=1.5)\n",
    "\n",
    "# Get Testing Set\n",
    "test_set_indices = np.random.choice(range(X_train.shape[0]),N_test_size)\n",
    "X_test = X_train[test_set_indices,]\n",
    "X_test = X_test + np.random.uniform(low=-(delta/np.sqrt(problem_dim)), \n",
    "                                    high = -(delta/np.sqrt(problem_dim)),\n",
    "                                    size = X_test.shape)"
   ]
  },
  {
   "cell_type": "code",
   "execution_count": 18,
   "metadata": {},
   "outputs": [],
   "source": [
    "# Initialize k_means\n",
    "N_Quantizers_to_parameterize = int(np.maximum(2,round(Proportion_per_cluster*X_train.shape[0])))\n",
    "kmeans = KMeans(n_clusters=N_Quantizers_to_parameterize, random_state=0).fit(X_train)\n",
    "# Get Classes\n",
    "Train_classes = np.array(pd.get_dummies(kmeans.labels_))\n",
    "# Get Center Measures\n",
    "Barycenters_Array_x = kmeans.cluster_centers_"
   ]
  },
  {
   "cell_type": "markdown",
   "metadata": {},
   "source": [
    "### Get Barycenters\n",
    "*Here we make the assumption that we can directly resample $f(X=x,U)$ if necessary...or that it is available as part of the dataset.*"
   ]
  },
  {
   "cell_type": "code",
   "execution_count": 19,
   "metadata": {},
   "outputs": [
    {
     "name": "stderr",
     "output_type": "stream",
     "text": [
      "100%|██████████| 50/50 [00:00<00:00, 7195.58it/s]\n"
     ]
    }
   ],
   "source": [
    "for i in tqdm(range(Barycenters_Array_x.shape[0])):\n",
    "    # Put Datum\n",
    "    Bar_x_loop = Barycenters_Array_x[i,]\n",
    "    # Product Monte-Carlo Sample for Input\n",
    "    Bar_y_loop = (Simulator(Bar_x_loop)).reshape(1,-1)\n",
    "\n",
    "    # Update Dataset\n",
    "    if i == 0:\n",
    "        Barycenters_Array = Bar_y_loop\n",
    "    else:\n",
    "        Barycenters_Array = np.append(Barycenters_Array,Bar_y_loop,axis=0)"
   ]
  },
  {
   "cell_type": "markdown",
   "metadata": {},
   "source": [
    "### Initialize Training Data (Outputs)"
   ]
  },
  {
   "cell_type": "markdown",
   "metadata": {},
   "source": [
    "#### Get Training Set"
   ]
  },
  {
   "cell_type": "code",
   "execution_count": 75,
   "metadata": {},
   "outputs": [
    {
     "name": "stderr",
     "output_type": "stream",
     "text": [
      "100%|██████████| 100/100 [00:00<00:00, 2373.94it/s]\n"
     ]
    }
   ],
   "source": [
    "for i in tqdm(range(X_train.shape[0])):\n",
    "    # Put Datum\n",
    "    x_loop = X_train[i,]\n",
    "    # Product Monte-Carlo Sample for Input\n",
    "    y_loop = (Simulator(x_loop)).reshape(1,-1)\n",
    "\n",
    "    # Update Dataset\n",
    "    if i == 0:\n",
    "        Y_train = y_loop\n",
    "        Y_train_mean_emp = np.mean(y_loop)\n",
    "        Y_train_var_emp = np.mean((y_loop - np.mean(y_loop))**2)\n",
    "    else:\n",
    "        Y_train = np.append(Y_train,y_loop,axis=0)\n",
    "        Y_train_mean_emp = np.append(Y_train_mean_emp,np.mean(y_loop))\n",
    "        Y_train_var_emp = np.append(Y_train_var_emp,np.mean((y_loop - np.mean(y_loop))**2))\n",
    "# Join mean and Variance Training Data\n",
    "Y_train_var_emp = np.append(Y_train_mean_emp.reshape(-1,1),Y_train_var_emp.reshape(-1,1),axis=1)"
   ]
  },
  {
   "cell_type": "markdown",
   "metadata": {},
   "source": [
    "#### Get Test Set"
   ]
  },
  {
   "cell_type": "code",
   "execution_count": 26,
   "metadata": {},
   "outputs": [
    {
     "name": "stderr",
     "output_type": "stream",
     "text": [
      "100%|██████████| 20/20 [00:00<00:00, 4618.51it/s]\n"
     ]
    }
   ],
   "source": [
    "# Start Timer\n",
    "Test_Set_PredictionTime_MC = time.time()\n",
    "\n",
    "# Generate Data\n",
    "for i in tqdm(range(X_test.shape[0])):\n",
    "    # Put Datum\n",
    "    x_loop = X_test[i,]\n",
    "    # Product Monte-Carlo Sample for Input\n",
    "    y_loop = (Simulator(x_loop)).reshape(1,-1)\n",
    "\n",
    "    # Update Dataset\n",
    "    if i == 0:\n",
    "        Y_test = y_loop\n",
    "    else:\n",
    "        Y_test = np.append(Y_test,y_loop,axis=0)\n",
    "        \n",
    "# End Timer\n",
    "Test_Set_PredictionTime_MC = time.time() - Test_Set_PredictionTime_MC"
   ]
  },
  {
   "cell_type": "markdown",
   "metadata": {},
   "source": [
    "# Train Model"
   ]
  },
  {
   "cell_type": "markdown",
   "metadata": {},
   "source": [
    "#### Start Timer"
   ]
  },
  {
   "cell_type": "code",
   "execution_count": 27,
   "metadata": {},
   "outputs": [],
   "source": [
    "# Start Timer\n",
    "Type_A_timer_Begin = time.time()"
   ]
  },
  {
   "cell_type": "markdown",
   "metadata": {},
   "source": [
    "### Train Deep Classifier"
   ]
  },
  {
   "cell_type": "markdown",
   "metadata": {},
   "source": [
    "In this step, we train a deep (feed-forward) classifier:\n",
    "$$\n",
    "\\hat{f}\\triangleq \\operatorname{Softmax}_N\\circ W_J\\circ \\sigma \\bullet \\dots \\sigma \\bullet W_1,\n",
    "$$\n",
    "to identify which barycenter we are closest to."
   ]
  },
  {
   "cell_type": "markdown",
   "metadata": {},
   "source": [
    "#### Train Deep Classifier"
   ]
  },
  {
   "cell_type": "markdown",
   "metadata": {},
   "source": [
    "Re-Load Packages and CV Grid"
   ]
  },
  {
   "cell_type": "code",
   "execution_count": 28,
   "metadata": {},
   "outputs": [
    {
     "name": "stdout",
     "output_type": "stream",
     "text": [
      "Deep Feature Builder - Ready\n",
      "Deep Classifier - Ready\n"
     ]
    }
   ],
   "source": [
    "# Re-Load Hyper-parameter Grid\n",
    "exec(open('CV_Grid.py').read())\n",
    "# Re-Load Classifier Function(s)\n",
    "exec(open('Helper_Functions.py').read())"
   ]
  },
  {
   "cell_type": "markdown",
   "metadata": {},
   "source": [
    "Train Deep Classifier"
   ]
  },
  {
   "cell_type": "code",
   "execution_count": 34,
   "metadata": {},
   "outputs": [
    {
     "name": "stdout",
     "output_type": "stream",
     "text": [
      "==========================================\n",
      "Training Classifer Portion of Type-A Model\n",
      "==========================================\n",
      "Fitting 2 folds for each of 1 candidates, totalling 2 fits\n"
     ]
    },
    {
     "name": "stderr",
     "output_type": "stream",
     "text": [
      "[Parallel(n_jobs=4)]: Using backend LokyBackend with 4 concurrent workers.\n",
      "[Parallel(n_jobs=4)]: Done   2 out of   2 | elapsed:    3.3s remaining:    0.0s\n",
      "[Parallel(n_jobs=4)]: Done   2 out of   2 | elapsed:    3.3s finished\n"
     ]
    },
    {
     "name": "stdout",
     "output_type": "stream",
     "text": [
      "Epoch 1/50\n",
      "4/4 [==============================] - 0s 1ms/step - loss: 3.8805 - accuracy: 0.0000e+00\n",
      "Epoch 2/50\n",
      "4/4 [==============================] - 0s 2ms/step - loss: 3.8713 - accuracy: 0.0300\n",
      "Epoch 3/50\n",
      "4/4 [==============================] - 0s 1ms/step - loss: 3.8635 - accuracy: 0.0400\n",
      "Epoch 4/50\n",
      "4/4 [==============================] - 0s 2ms/step - loss: 3.8567 - accuracy: 0.0400\n",
      "Epoch 5/50\n",
      "4/4 [==============================] - 0s 3ms/step - loss: 3.8499 - accuracy: 0.0400\n",
      "Epoch 6/50\n",
      "4/4 [==============================] - 0s 3ms/step - loss: 3.8434 - accuracy: 0.0400\n",
      "Epoch 7/50\n",
      "4/4 [==============================] - 0s 2ms/step - loss: 3.8371 - accuracy: 0.0600\n",
      "Epoch 8/50\n",
      "4/4 [==============================] - 0s 3ms/step - loss: 3.8307 - accuracy: 0.0700\n",
      "Epoch 9/50\n",
      "4/4 [==============================] - 0s 2ms/step - loss: 3.8248 - accuracy: 0.0700\n",
      "Epoch 10/50\n",
      "4/4 [==============================] - 0s 3ms/step - loss: 3.8189 - accuracy: 0.0700\n",
      "Epoch 11/50\n",
      "4/4 [==============================] - 0s 2ms/step - loss: 3.8132 - accuracy: 0.0700\n",
      "Epoch 12/50\n",
      "4/4 [==============================] - 0s 3ms/step - loss: 3.8071 - accuracy: 0.0700\n",
      "Epoch 13/50\n",
      "4/4 [==============================] - 0s 1ms/step - loss: 3.8016 - accuracy: 0.0700\n",
      "Epoch 14/50\n",
      "4/4 [==============================] - 0s 2ms/step - loss: 3.7955 - accuracy: 0.0700\n",
      "Epoch 15/50\n",
      "4/4 [==============================] - 0s 3ms/step - loss: 3.7901 - accuracy: 0.0700\n",
      "Epoch 16/50\n",
      "4/4 [==============================] - 0s 2ms/step - loss: 3.7842 - accuracy: 0.0700\n",
      "Epoch 17/50\n",
      "4/4 [==============================] - 0s 1ms/step - loss: 3.7786 - accuracy: 0.0700\n",
      "Epoch 18/50\n",
      "4/4 [==============================] - 0s 3ms/step - loss: 3.7732 - accuracy: 0.0700\n",
      "Epoch 19/50\n",
      "4/4 [==============================] - 0s 2ms/step - loss: 3.7675 - accuracy: 0.0800\n",
      "Epoch 20/50\n",
      "4/4 [==============================] - 0s 2ms/step - loss: 3.7621 - accuracy: 0.1000\n",
      "Epoch 21/50\n",
      "4/4 [==============================] - 0s 2ms/step - loss: 3.7555 - accuracy: 0.1000\n",
      "Epoch 22/50\n",
      "4/4 [==============================] - 0s 4ms/step - loss: 3.7495 - accuracy: 0.1000\n",
      "Epoch 23/50\n",
      "4/4 [==============================] - 0s 2ms/step - loss: 3.7433 - accuracy: 0.0900\n",
      "Epoch 24/50\n",
      "4/4 [==============================] - 0s 2ms/step - loss: 3.7374 - accuracy: 0.0900\n",
      "Epoch 25/50\n",
      "4/4 [==============================] - 0s 2ms/step - loss: 3.7309 - accuracy: 0.1000\n",
      "Epoch 26/50\n",
      "4/4 [==============================] - 0s 2ms/step - loss: 3.7253 - accuracy: 0.1000\n",
      "Epoch 27/50\n",
      "4/4 [==============================] - 0s 2ms/step - loss: 3.7199 - accuracy: 0.1000\n",
      "Epoch 28/50\n",
      "4/4 [==============================] - 0s 2ms/step - loss: 3.7143 - accuracy: 0.1000\n",
      "Epoch 29/50\n",
      "4/4 [==============================] - 0s 3ms/step - loss: 3.7083 - accuracy: 0.1000\n",
      "Epoch 30/50\n",
      "4/4 [==============================] - 0s 3ms/step - loss: 3.7023 - accuracy: 0.1000\n",
      "Epoch 31/50\n",
      "4/4 [==============================] - 0s 3ms/step - loss: 3.6962 - accuracy: 0.1000\n",
      "Epoch 32/50\n",
      "4/4 [==============================] - 0s 2ms/step - loss: 3.6898 - accuracy: 0.1000\n",
      "Epoch 33/50\n",
      "4/4 [==============================] - 0s 3ms/step - loss: 3.6836 - accuracy: 0.1000\n",
      "Epoch 34/50\n",
      "4/4 [==============================] - 0s 2ms/step - loss: 3.6776 - accuracy: 0.1000\n",
      "Epoch 35/50\n",
      "4/4 [==============================] - 0s 3ms/step - loss: 3.6715 - accuracy: 0.1000\n",
      "Epoch 36/50\n",
      "4/4 [==============================] - 0s 2ms/step - loss: 3.6655 - accuracy: 0.1000\n",
      "Epoch 37/50\n",
      "4/4 [==============================] - 0s 2ms/step - loss: 3.6607 - accuracy: 0.1000\n",
      "Epoch 38/50\n",
      "4/4 [==============================] - 0s 4ms/step - loss: 3.6544 - accuracy: 0.1000\n",
      "Epoch 39/50\n",
      "4/4 [==============================] - 0s 1ms/step - loss: 3.6489 - accuracy: 0.1000\n",
      "Epoch 40/50\n",
      "4/4 [==============================] - 0s 2ms/step - loss: 3.6431 - accuracy: 0.1000\n",
      "Epoch 41/50\n",
      "4/4 [==============================] - 0s 2ms/step - loss: 3.6376 - accuracy: 0.1000\n",
      "Epoch 42/50\n",
      "4/4 [==============================] - 0s 2ms/step - loss: 3.6321 - accuracy: 0.1000\n",
      "Epoch 43/50\n",
      "4/4 [==============================] - 0s 2ms/step - loss: 3.6265 - accuracy: 0.1000\n",
      "Epoch 44/50\n",
      "4/4 [==============================] - 0s 5ms/step - loss: 3.6209 - accuracy: 0.1000\n",
      "Epoch 45/50\n",
      "4/4 [==============================] - 0s 2ms/step - loss: 3.6159 - accuracy: 0.1000\n",
      "Epoch 46/50\n",
      "4/4 [==============================] - 0s 3ms/step - loss: 3.6099 - accuracy: 0.1000\n",
      "Epoch 47/50\n",
      "4/4 [==============================] - 0s 1ms/step - loss: 3.6043 - accuracy: 0.1000\n",
      "Epoch 48/50\n",
      "4/4 [==============================] - 0s 2ms/step - loss: 3.5984 - accuracy: 0.1000\n",
      "Epoch 49/50\n",
      "4/4 [==============================] - 0s 2ms/step - loss: 3.5928 - accuracy: 0.1000\n",
      "Epoch 50/50\n",
      "4/4 [==============================] - 0s 3ms/step - loss: 3.5868 - accuracy: 0.1000\n",
      "4/4 [==============================] - 0s 2ms/step\n",
      "1/1 [==============================] - 0s 1ms/step\n",
      "===============================================\n",
      "Training Classifer Portion of Type Model: Done!\n",
      "===============================================\n"
     ]
    }
   ],
   "source": [
    "print(\"==========================================\")\n",
    "print(\"Training Classifer Portion of Type-A Model\")\n",
    "print(\"==========================================\")\n",
    "\n",
    "# Redefine (Dimension-related) Elements of Grid\n",
    "param_grid_Deep_Classifier['input_dim'] = [problem_dim]\n",
    "param_grid_Deep_Classifier['output_dim'] = [N_Quantizers_to_parameterize]\n",
    "\n",
    "# Train simple deep classifier\n",
    "predicted_classes_train, predicted_classes_test, N_params_deep_classifier, timer_output = build_simple_deep_classifier(n_folds = CV_folds, \n",
    "                                                                                                        n_jobs = n_jobs, \n",
    "                                                                                                        n_iter = n_iter, \n",
    "                                                                                                        param_grid_in=param_grid_Deep_Classifier, \n",
    "                                                                                                        X_train = X_train, \n",
    "                                                                                                        y_train = Train_classes,\n",
    "                                                                                                        X_test = X_test)\n",
    "\n",
    "print(\"===============================================\")\n",
    "print(\"Training Classifer Portion of Type Model: Done!\")\n",
    "print(\"===============================================\")"
   ]
  },
  {
   "cell_type": "markdown",
   "metadata": {},
   "source": [
    "#### Get Predicted Quantized Distributions\n",
    "- Each *row* of \"Predicted_Weights\" is the $\\beta\\in \\Delta_N$.\n",
    "- Each *Column* of \"Barycenters_Array\" denotes the $x_1,\\dots,x_N$ making up the points of the corresponding empirical measures."
   ]
  },
  {
   "cell_type": "code",
   "execution_count": 42,
   "metadata": {},
   "outputs": [],
   "source": [
    "# Initialize Empirical Weights\n",
    "empirical_weights = (np.ones(N_Monte_Carlo_Samples)/N_Monte_Carlo_Samples).reshape(-1,)\n",
    "\n",
    "for i in range(N_Quantizers_to_parameterize):\n",
    "    if i == 0:\n",
    "        points_of_mass = Barycenters_Array[i,]\n",
    "    else:\n",
    "        points_of_mass = np.append(points_of_mass,Barycenters_Array[i,])"
   ]
  },
  {
   "cell_type": "code",
   "execution_count": 43,
   "metadata": {},
   "outputs": [],
   "source": [
    "# Get Noisless Mean\n",
    "direct_facts = np.apply_along_axis(f_unknown, 1, X_train)\n",
    "direct_facts_test = np.apply_along_axis(f_unknown, 1, X_test)"
   ]
  },
  {
   "cell_type": "markdown",
   "metadata": {},
   "source": [
    "#### Get Error(s)"
   ]
  },
  {
   "cell_type": "code",
   "execution_count": 49,
   "metadata": {},
   "outputs": [],
   "source": [
    "# %run Evaluation.ipynb\n",
    "exec(open('Evaluation.py').read())"
   ]
  },
  {
   "cell_type": "markdown",
   "metadata": {},
   "source": [
    "#### Compute *Training* Error(s)"
   ]
  },
  {
   "cell_type": "code",
   "execution_count": 50,
   "metadata": {},
   "outputs": [
    {
     "name": "stderr",
     "output_type": "stream",
     "text": [
      " 25%|██▌       | 25/100 [00:00<00:00, 245.36it/s]"
     ]
    },
    {
     "name": "stdout",
     "output_type": "stream",
     "text": [
      "#--------------------#\n",
      " Get Training Error(s)\n",
      "#--------------------#\n"
     ]
    },
    {
     "name": "stderr",
     "output_type": "stream",
     "text": [
      "100%|██████████| 100/100 [00:00<00:00, 284.28it/s]"
     ]
    },
    {
     "name": "stdout",
     "output_type": "stream",
     "text": [
      "#-------------------------#\n",
      " Get Training Error(s): END\n",
      "#-------------------------#\n"
     ]
    },
    {
     "name": "stderr",
     "output_type": "stream",
     "text": [
      "\n"
     ]
    }
   ],
   "source": [
    "print(\"#--------------------#\")\n",
    "print(\" Get Training Error(s)\")\n",
    "print(\"#--------------------#\")\n",
    "for i in tqdm(range((X_train.shape[0]))):\n",
    "    for j in range(N_Quantizers_to_parameterize):\n",
    "        b_loop = np.repeat(predicted_classes_train[i,j],N_Monte_Carlo_Samples)\n",
    "        if j == 0:\n",
    "            b = b_loop\n",
    "        else:\n",
    "            b = np.append(b,b_loop)\n",
    "        b = b.reshape(-1,1)\n",
    "        b = b\n",
    "    b = np.array(b,dtype=float).reshape(-1,)\n",
    "    b = b/N_Monte_Carlo_Samples\n",
    "    \n",
    "    # Compute Error(s)\n",
    "    ## W1\n",
    "    W1_loop = ot.emd2_1d(points_of_mass,\n",
    "                         np.array(Y_train[i,]).reshape(-1,),\n",
    "                         b,\n",
    "                         empirical_weights)\n",
    "    \n",
    "    ## M1\n",
    "    Mu_hat = np.sum(b*(points_of_mass))\n",
    "    Mu_MC = np.mean(np.array(Y_train[i,]))\n",
    "    if f_unknown_mode == \"Heteroskedastic_NonLinear_Regression\":\n",
    "        Mu = direct_facts[i,]\n",
    "    else:\n",
    "        Mu = Mu_MC\n",
    "        \n",
    "    ### Error(s)\n",
    "    Mean_loop = (Mu_hat-Mu)\n",
    "    Mean_loop_MC = (Mu_hat-Mu_MC)\n",
    "    \n",
    "    ## Variance\n",
    "    Var_hat = np.sum(((points_of_mass-Mu_hat)**2)*b)\n",
    "    Var_MC = np.mean(np.array(Y_train[i]-Mu_MC)**2)\n",
    "    if f_unknown_mode == \"Heteroskedastic_NonLinear_Regression\":\n",
    "        Var = 2*np.sum(X_train[i,]**2)\n",
    "    else:\n",
    "        Var = Var_MC     \n",
    "    ### Error(s)\n",
    "    Var_loop = np.abs(Var_hat-Var)\n",
    "    Var_loop_MC = np.abs(Var_MC-Var)\n",
    "        \n",
    "    # Skewness\n",
    "    Skewness_hat = np.sum((((points_of_mass-Mu_hat)/Var)**3)*b)\n",
    "    Skewness_MC = np.mean((np.array(Y_train[i]-Mu_MC)/Var_MC)**3)\n",
    "    if f_unknown_mode == \"Heteroskedastic_NonLinear_Regression\":\n",
    "        Skewness = 0\n",
    "    else:\n",
    "        Skewness = Skewness_MC\n",
    "    ### Error(s)\n",
    "    Skewness_loop = np.abs(Skewness_hat-Skewness)\n",
    "    Skewness_loop_MC = np.abs(Skewness_MC-Skewness)\n",
    "    \n",
    "    # Skewness\n",
    "    Ex_Kurtosis_hat = np.sum((((points_of_mass-Mu_hat)/Var)**4)*b) - 3\n",
    "    Ex_Kurtosis_MC = np.mean((np.array(Y_train[i]-Mu_MC)/Var_MC)**4) - 3\n",
    "    if f_unknown_mode == \"Heteroskedastic_NonLinear_Regression\":\n",
    "        Ex_Kurtosis = 3\n",
    "    else:\n",
    "        Ex_Kurtosis = Ex_Kurtosis_MC\n",
    "    ### Error(s)\n",
    "    Ex_Kurtosis_loop = np.abs(Ex_Kurtosis-Ex_Kurtosis_hat)\n",
    "    Ex_Kurtosis_loop_MC = np.abs(Ex_Kurtosis-Ex_Kurtosis_MC)\n",
    "    \n",
    "    \n",
    "    \n",
    "    # Get Higher Moments Loss\n",
    "    Higher_momentserrors_loop,Higher_MC_momentserrors_loop = Higher_Moments_Loss(b,np.array(Y_train[i,]))\n",
    "    Higher_Moments_Errors_loop = np.abs(Higher_momentserrors_loop-Higher_MC_momentserrors_loop)\n",
    "    \n",
    "    \n",
    "    # Update\n",
    "    if i == 0:\n",
    "        W1_errors = W1_loop\n",
    "        # Moments\n",
    "        ## DNM\n",
    "        Mean_errors =  Mean_loop\n",
    "        Var_errors = Var_loop\n",
    "        Skewness_errors = Skewness_loop\n",
    "        Ex_Kurtosis_errors = Ex_Kurtosis_loop\n",
    "        ## Monte-Carlo\n",
    "        Mean_errors_MC =  Mean_loop_MC\n",
    "        Var_errors_MC = Var_loop_MC\n",
    "        Skewness_errors_MC = Skewness_loop_MC\n",
    "        Ex_Kurtosis_errors_MC = Ex_Kurtosis_loop_MC\n",
    "        # Higher Moments\n",
    "        Higher_Moments_Errors = Higher_Moments_Errors_loop\n",
    "        \n",
    "        \n",
    "    else:\n",
    "        W1_errors = np.append(W1_errors,W1_loop)\n",
    "        # Moments\n",
    "        ## DNM\n",
    "        Mean_errors =  np.append(Mean_errors,Mean_loop)\n",
    "        Var_errors = np.append(Var_errors,Var_loop)\n",
    "        Skewness_errors = np.append(Skewness_errors,Skewness_loop)\n",
    "        Ex_Kurtosis_errors = np.append(Ex_Kurtosis_errors,Ex_Kurtosis_loop)\n",
    "        ## Monte-Carlo\n",
    "        Mean_errors_MC =  np.append(Mean_errors_MC,Mean_loop_MC)\n",
    "        Var_errors_MC = np.append(Var_errors_MC,Var_loop_MC)\n",
    "        Skewness_errors_MC = np.append(Skewness_errors_MC,Skewness_loop_MC)\n",
    "        Ex_Kurtosis_errors_MC = np.append(Ex_Kurtosis_errors_MC,Ex_Kurtosis_loop_MC)\n",
    "        # Higher Moments\n",
    "        Higher_Moments_Errors = np.append(Higher_Moments_Errors,Higher_Moments_Errors_loop)\n",
    "        \n",
    "print(\"#-------------------------#\")\n",
    "print(\" Get Training Error(s): END\")\n",
    "print(\"#-------------------------#\")"
   ]
  },
  {
   "cell_type": "markdown",
   "metadata": {},
   "source": [
    "#### Compute *Testing* Errors"
   ]
  },
  {
   "cell_type": "code",
   "execution_count": 51,
   "metadata": {},
   "outputs": [
    {
     "name": "stderr",
     "output_type": "stream",
     "text": [
      "100%|██████████| 20/20 [00:00<00:00, 246.80it/s]"
     ]
    },
    {
     "name": "stdout",
     "output_type": "stream",
     "text": [
      "#----------------#\n",
      " Get Test Error(s)\n",
      "#----------------#\n",
      "#-------------------------#\n",
      " Get Training Error(s): END\n",
      "#-------------------------#\n"
     ]
    },
    {
     "name": "stderr",
     "output_type": "stream",
     "text": [
      "\n"
     ]
    }
   ],
   "source": [
    "print(\"#----------------#\")\n",
    "print(\" Get Test Error(s)\")\n",
    "print(\"#----------------#\")\n",
    "for i in tqdm(range((X_test.shape[0]))):\n",
    "    for j in range(N_Quantizers_to_parameterize):\n",
    "        b_loop_test = np.repeat(predicted_classes_test[i,j],N_Monte_Carlo_Samples)\n",
    "        if j == 0:\n",
    "            b_test = b_loop_test\n",
    "        else:\n",
    "            b_test = np.append(b,b_loop)\n",
    "        b_test = b_test.reshape(-1,1)\n",
    "    b_test = np.array(b,dtype=float).reshape(-1,)\n",
    "    b_test = b/N_Monte_Carlo_Samples\n",
    "    \n",
    "    # Compute Error(s)\n",
    "    ## W1\n",
    "    W1_loop_test = ot.emd2_1d(points_of_mass,\n",
    "                         np.array(Y_test[i,]).reshape(-1,),\n",
    "                         b,\n",
    "                         empirical_weights)\n",
    "    \n",
    "    ## M1\n",
    "    Mu_hat_test = np.sum(b_test*(points_of_mass))\n",
    "    Mu_MC_test = np.mean(np.array(Y_test[i,]))\n",
    "    if f_unknown_mode == \"Heteroskedastic_NonLinear_Regression\":\n",
    "        Mu_test = direct_facts_test[i,]\n",
    "    else:\n",
    "        Mu_test = Mu_MC_test\n",
    "    Mu_test = direct_facts_test[i,]\n",
    "    ### Error(s)\n",
    "    Mean_loop_test = (Mu_hat_test-Mu_test)\n",
    "    Mean_loop_MC_test = (Mu_hat_test-Mu_MC_test)\n",
    "    \n",
    "    ## M2\n",
    "    Var_hat_test = np.sum(((points_of_mass-Mu_hat_test)**2)*b)\n",
    "    Var_MC_test = np.mean(np.array(Y_test[i]-Mu_MC)**2)\n",
    "    if f_unknown_mode == \"Rough_SDE\":\n",
    "        Var_test = 2*np.sum(X_test[i,]**2)\n",
    "    else:\n",
    "        Var_test = Var_MC\n",
    "    \n",
    "    ### Error(s)\n",
    "    Var_loop_test = np.abs(Var_hat_test-Var_test)\n",
    "    Var_loop_MC_test = np.abs(Var_MC_test-Var_test)\n",
    "    \n",
    "    # Skewness\n",
    "    Skewness_hat_test = np.sum((((points_of_mass-Mu_hat_test)/Var_test)**3)*b)\n",
    "    Skewness_MC_test = np.mean((np.array(Y_test[i]-Mu_MC_test)/Var_MC_test)**3)\n",
    "    if f_unknown_mode == \"Heteroskedastic_NonLinear_Regression\":\n",
    "        Skewness_test = 0\n",
    "    else:\n",
    "        Skewness_test = Skewness_MC_test\n",
    "    ### Error(s)\n",
    "    Skewness_loop_test = np.abs(Skewness_hat_test-Skewness_test)\n",
    "    Skewness_loop_MC_test = np.abs(Skewness_MC_test-Skewness_test)\n",
    "    \n",
    "    # Skewness\n",
    "    Ex_Kurtosis_hat_test = np.sum((((points_of_mass-Mu_hat_test)/Var_test)**4)*b) - 3\n",
    "    Ex_Kurtosis_MC_test = np.mean((np.array(Y_test[i]-Mu_MC_test)/Var_MC_test)**4) - 3\n",
    "    if f_unknown_mode == \"Heteroskedastic_NonLinear_Regression\":\n",
    "        Ex_Kurtosis_test = 3\n",
    "    else:\n",
    "        Ex_Kurtosis_test = Ex_Kurtosis_MC_test\n",
    "    ### Error(s)\n",
    "    Ex_Kurtosis_loop_test = np.abs(Ex_Kurtosis_test-Ex_Kurtosis_hat_test)\n",
    "    Ex_Kurtosis_loop_MC_test = np.abs(Ex_Kurtosis_test-Ex_Kurtosis_MC_test)\n",
    "    \n",
    "    \n",
    "    # Get Higher Moments Loss\n",
    "    Higher_momentserrors_test_loop,Higher_MC_momentserrors_test_loop = Higher_Moments_Loss(b,np.array(Y_test[i,]))\n",
    "    Higher_Moments_Errors_test_loop = np.abs(Higher_momentserrors_test_loop-Higher_MC_momentserrors_test_loop)\n",
    "    \n",
    "    # Update\n",
    "    if i == 0:\n",
    "        W1_errors_test = W1_loop_test\n",
    "        # Moments\n",
    "        ## DNM\n",
    "        Mean_errors_test =  Mean_loop_test\n",
    "        Var_errors_test = Var_loop_test\n",
    "        Skewness_errors_test = Skewness_loop_test\n",
    "        Ex_Kurtosis_errors_test = Ex_Kurtosis_loop_test\n",
    "        ## Monte-Carlo\n",
    "        Mean_errors_MC_test =  Mean_loop_MC_test\n",
    "        Var_errors_MC_test = Var_loop_MC_test\n",
    "        Skewness_errors_MC_test = Skewness_loop_MC_test\n",
    "        Ex_Kurtosis_errors_MC_test = Ex_Kurtosis_loop_MC_test\n",
    "        # Higher Moments\n",
    "        Higher_Moments_test_Errors = Higher_Moments_Errors_test_loop\n",
    "        \n",
    "        \n",
    "    else:\n",
    "        W1_errors_test = np.append(W1_errors_test,W1_loop_test)\n",
    "        # Moments\n",
    "        ## DNM\n",
    "        Mean_errors_test =  np.append(Mean_errors_test,Mean_loop_test)\n",
    "        Var_errors_test = np.append(Var_errors_test,Var_loop_test)\n",
    "        Skewness_errors_test = np.append(Skewness_errors_test,Skewness_loop_test)\n",
    "        Ex_Kurtosis_errors_test = np.append(Ex_Kurtosis_errors_test,Ex_Kurtosis_loop_test)\n",
    "        ## Monte-Carlo\n",
    "        Mean_errors_MC_test =  np.append(Mean_errors_MC_test,Mean_loop_MC_test)\n",
    "        Var_errors_MC_test = np.append(Var_errors_MC_test,Var_loop_MC_test)\n",
    "        Skewness_errors_MC_test = np.append(Skewness_errors_MC_test,Skewness_loop_MC_test)\n",
    "        Ex_Kurtosis_errors_MC_test = np.append(Ex_Kurtosis_errors_MC_test,Ex_Kurtosis_loop_MC_test)\n",
    "        # Higher Moments\n",
    "        Higher_Moments_test_Errors = np.append(Higher_Moments_test_Errors,Higher_Moments_Errors_test_loop)\n",
    "        \n",
    "        \n",
    "print(\"#-------------------------#\")\n",
    "print(\" Get Training Error(s): END\")\n",
    "print(\"#-------------------------#\")"
   ]
  },
  {
   "cell_type": "markdown",
   "metadata": {},
   "source": [
    "#### Stop Timer"
   ]
  },
  {
   "cell_type": "code",
   "execution_count": 52,
   "metadata": {},
   "outputs": [],
   "source": [
    "# Stop Timer\n",
    "Type_A_timer_end = time.time()\n",
    "# Compute Lapsed Time Needed For Training\n",
    "Time_Lapse_Model_A = Type_A_timer_end - Type_A_timer_Begin"
   ]
  },
  {
   "cell_type": "markdown",
   "metadata": {},
   "source": [
    "---\n",
    "# Benchmarks\n",
    "---"
   ]
  },
  {
   "cell_type": "markdown",
   "metadata": {},
   "source": [
    "#### Run Pointmass Benchmark(s)\n",
    "These benchmarks consist of subsets of $C(\\mathbb{R}^d,\\mathbb{R})$ which we lift to models in $C(\\mathbb{R}^d,\\cap_{1\\leq q<\\infty}\\mathscr{P}_{q}(\\mathbb{R}))$ via:\n",
    "$$\n",
    "\\mathbb{R}^d \\ni x \\to f(x) \\to \\delta_{f(x)}\\in \\cap_{1\\leq q<\\infty}\\mathcal{P}_{q}(\\mathbb{R}).\n",
    "$$"
   ]
  },
  {
   "cell_type": "code",
   "execution_count": 55,
   "metadata": {},
   "outputs": [
    {
     "name": "stdout",
     "output_type": "stream",
     "text": [
      "Deep Feature Builder - Ready\n",
      "--------------\n",
      "Training: ENET\n",
      "--------------\n"
     ]
    },
    {
     "name": "stderr",
     "output_type": "stream",
     "text": [
      "100%|██████████| 100/100 [00:00<00:00, 571.16it/s]\n",
      "  0%|          | 0/20 [00:00<?, ?it/s]"
     ]
    },
    {
     "name": "stdout",
     "output_type": "stream",
     "text": [
      "#------------#\n",
      " Get Error(s) \n",
      "#------------#\n",
      "#-----------------#\n",
      " Get Error(s): END \n",
      "#-----------------#\n",
      "#------------#\n",
      " Get Error(s) \n",
      "#------------#\n"
     ]
    },
    {
     "name": "stderr",
     "output_type": "stream",
     "text": [
      "100%|██████████| 20/20 [00:00<00:00, 466.46it/s]\n",
      "[Parallel(n_jobs=4)]: Using backend LokyBackend with 4 concurrent workers.\n",
      "[Parallel(n_jobs=4)]: Batch computation too fast (0.0337s.) Setting batch_size=2.\n",
      "[Parallel(n_jobs=4)]: Done   2 out of   2 | elapsed:    0.0s remaining:    0.0s\n",
      "[Parallel(n_jobs=4)]: Done   2 out of   2 | elapsed:    0.0s finished\n",
      " 32%|███▏      | 32/100 [00:00<00:00, 318.90it/s]"
     ]
    },
    {
     "name": "stdout",
     "output_type": "stream",
     "text": [
      "#-----------------#\n",
      " Get Error(s): END \n",
      "#-----------------#\n",
      "-----------------\n",
      "Training: K-Ridge\n",
      "-----------------\n",
      "Fitting 2 folds for each of 1 candidates, totalling 2 fits\n",
      "#------------#\n",
      " Get Error(s) \n",
      "#------------#\n"
     ]
    },
    {
     "name": "stderr",
     "output_type": "stream",
     "text": [
      "100%|██████████| 100/100 [00:00<00:00, 427.16it/s]\n",
      "100%|██████████| 20/20 [00:00<00:00, 477.66it/s]\n",
      "[Parallel(n_jobs=4)]: Using backend LokyBackend with 4 concurrent workers.\n"
     ]
    },
    {
     "name": "stdout",
     "output_type": "stream",
     "text": [
      "#-----------------#\n",
      " Get Error(s): END \n",
      "#-----------------#\n",
      "#------------#\n",
      " Get Error(s) \n",
      "#------------#\n",
      "#-----------------#\n",
      " Get Error(s): END \n",
      "#-----------------#\n",
      "--------------\n",
      "Training: GBRF\n",
      "--------------\n",
      "Fitting 2 folds for each of 1 candidates, totalling 2 fits\n"
     ]
    },
    {
     "name": "stderr",
     "output_type": "stream",
     "text": [
      "[Parallel(n_jobs=4)]: Batch computation too fast (0.1954s.) Setting batch_size=2.\n",
      "[Parallel(n_jobs=4)]: Done   2 out of   2 | elapsed:    0.2s remaining:    0.0s\n",
      "[Parallel(n_jobs=4)]: Done   2 out of   2 | elapsed:    0.2s finished\n",
      "100%|██████████| 100/100 [00:00<00:00, 515.19it/s]"
     ]
    },
    {
     "name": "stdout",
     "output_type": "stream",
     "text": [
      "#------------#\n",
      " Get Error(s) \n",
      "#------------#\n"
     ]
    },
    {
     "name": "stderr",
     "output_type": "stream",
     "text": [
      "\n",
      "100%|██████████| 20/20 [00:00<00:00, 324.53it/s]\n",
      "[Parallel(n_jobs=4)]: Using backend LokyBackend with 4 concurrent workers.\n"
     ]
    },
    {
     "name": "stdout",
     "output_type": "stream",
     "text": [
      "#-----------------#\n",
      " Get Error(s): END \n",
      "#-----------------#\n",
      "#------------#\n",
      " Get Error(s) \n",
      "#------------#\n",
      "#-----------------#\n",
      " Get Error(s): END \n",
      "#-----------------#\n",
      "-------------\n",
      "Training: DNN\n",
      "-------------\n",
      "Fitting 2 folds for each of 1 candidates, totalling 2 fits\n"
     ]
    },
    {
     "name": "stderr",
     "output_type": "stream",
     "text": [
      "[Parallel(n_jobs=4)]: Done   2 out of   2 | elapsed:    1.3s remaining:    0.0s\n",
      "[Parallel(n_jobs=4)]: Done   2 out of   2 | elapsed:    1.3s finished\n"
     ]
    },
    {
     "name": "stdout",
     "output_type": "stream",
     "text": [
      "Epoch 1/50\n",
      "4/4 [==============================] - 0s 2ms/step - loss: 1.0582 - mse: 1.1996 - mae: 1.0582 - mape: 104.8241\n",
      "Epoch 2/50\n",
      "4/4 [==============================] - 0s 4ms/step - loss: 1.0569 - mse: 1.1969 - mae: 1.0569 - mape: 104.6878\n",
      "Epoch 3/50\n",
      "4/4 [==============================] - 0s 3ms/step - loss: 1.0556 - mse: 1.1942 - mae: 1.0556 - mape: 104.5516\n",
      "Epoch 4/50\n",
      "4/4 [==============================] - 0s 3ms/step - loss: 1.0544 - mse: 1.1916 - mae: 1.0544 - mape: 104.4155\n",
      "Epoch 5/50\n",
      "4/4 [==============================] - 0s 2ms/step - loss: 1.0531 - mse: 1.1889 - mae: 1.0531 - mape: 104.2779\n",
      "Epoch 6/50\n",
      "4/4 [==============================] - 0s 2ms/step - loss: 1.0518 - mse: 1.1862 - mae: 1.0518 - mape: 104.1418\n",
      "Epoch 7/50\n",
      "4/4 [==============================] - 0s 1ms/step - loss: 1.0505 - mse: 1.1835 - mae: 1.0505 - mape: 104.0058\n",
      "Epoch 8/50\n",
      "4/4 [==============================] - 0s 2ms/step - loss: 1.0492 - mse: 1.1808 - mae: 1.0492 - mape: 103.8673\n",
      "Epoch 9/50\n",
      "4/4 [==============================] - 0s 3ms/step - loss: 1.0480 - mse: 1.1781 - mae: 1.0480 - mape: 103.7291\n",
      "Epoch 10/50\n",
      "4/4 [==============================] - 0s 1ms/step - loss: 1.0466 - mse: 1.1754 - mae: 1.0466 - mape: 103.5889\n",
      "Epoch 11/50\n",
      "4/4 [==============================] - 0s 3ms/step - loss: 1.0453 - mse: 1.1726 - mae: 1.0453 - mape: 103.4476\n",
      "Epoch 12/50\n",
      "4/4 [==============================] - 0s 1ms/step - loss: 1.0440 - mse: 1.1698 - mae: 1.0440 - mape: 103.3100\n",
      "Epoch 13/50\n",
      "4/4 [==============================] - 0s 3ms/step - loss: 1.0427 - mse: 1.1671 - mae: 1.0427 - mape: 103.1653\n",
      "Epoch 14/50\n",
      "4/4 [==============================] - 0s 1ms/step - loss: 1.0414 - mse: 1.1643 - mae: 1.0414 - mape: 103.0221\n",
      "Epoch 15/50\n",
      "4/4 [==============================] - 0s 1ms/step - loss: 1.0400 - mse: 1.1615 - mae: 1.0400 - mape: 102.8791\n",
      "Epoch 16/50\n",
      "4/4 [==============================] - 0s 2ms/step - loss: 1.0386 - mse: 1.1586 - mae: 1.0386 - mape: 102.7306\n",
      "Epoch 17/50\n",
      "4/4 [==============================] - 0s 2ms/step - loss: 1.0373 - mse: 1.1558 - mae: 1.0373 - mape: 102.5839\n",
      "Epoch 18/50\n",
      "4/4 [==============================] - 0s 1ms/step - loss: 1.0359 - mse: 1.1529 - mae: 1.0359 - mape: 102.4371\n",
      "Epoch 19/50\n",
      "4/4 [==============================] - 0s 2ms/step - loss: 1.0345 - mse: 1.1500 - mae: 1.0345 - mape: 102.2864\n",
      "Epoch 20/50\n",
      "4/4 [==============================] - 0s 2ms/step - loss: 1.0331 - mse: 1.1471 - mae: 1.0331 - mape: 102.1348\n",
      "Epoch 21/50\n",
      "4/4 [==============================] - 0s 2ms/step - loss: 1.0316 - mse: 1.1441 - mae: 1.0316 - mape: 101.9804\n",
      "Epoch 22/50\n",
      "4/4 [==============================] - 0s 2ms/step - loss: 1.0302 - mse: 1.1411 - mae: 1.0302 - mape: 101.8281\n",
      "Epoch 23/50\n",
      "4/4 [==============================] - 0s 1ms/step - loss: 1.0288 - mse: 1.1381 - mae: 1.0288 - mape: 101.6723\n",
      "Epoch 24/50\n",
      "4/4 [==============================] - 0s 2ms/step - loss: 1.0273 - mse: 1.1351 - mae: 1.0273 - mape: 101.5136\n",
      "Epoch 25/50\n",
      "4/4 [==============================] - 0s 2ms/step - loss: 1.0258 - mse: 1.1321 - mae: 1.0258 - mape: 101.3552\n",
      "Epoch 26/50\n",
      "4/4 [==============================] - 0s 2ms/step - loss: 1.0243 - mse: 1.1290 - mae: 1.0243 - mape: 101.1933\n",
      "Epoch 27/50\n",
      "4/4 [==============================] - 0s 2ms/step - loss: 1.0228 - mse: 1.1259 - mae: 1.0228 - mape: 101.0311\n",
      "Epoch 28/50\n",
      "4/4 [==============================] - 0s 2ms/step - loss: 1.0213 - mse: 1.1227 - mae: 1.0213 - mape: 100.8676\n",
      "Epoch 29/50\n",
      "4/4 [==============================] - 0s 2ms/step - loss: 1.0197 - mse: 1.1196 - mae: 1.0197 - mape: 100.7027\n",
      "Epoch 30/50\n",
      "4/4 [==============================] - 0s 2ms/step - loss: 1.0181 - mse: 1.1164 - mae: 1.0181 - mape: 100.5337\n",
      "Epoch 31/50\n",
      "4/4 [==============================] - 0s 2ms/step - loss: 1.0166 - mse: 1.1132 - mae: 1.0166 - mape: 100.3655\n",
      "Epoch 32/50\n",
      "4/4 [==============================] - 0s 2ms/step - loss: 1.0150 - mse: 1.1099 - mae: 1.0150 - mape: 100.1916\n",
      "Epoch 33/50\n",
      "4/4 [==============================] - 0s 2ms/step - loss: 1.0133 - mse: 1.1066 - mae: 1.0133 - mape: 100.0204\n",
      "Epoch 34/50\n",
      "4/4 [==============================] - 0s 2ms/step - loss: 1.0117 - mse: 1.1033 - mae: 1.0117 - mape: 99.8437\n",
      "Epoch 35/50\n",
      "4/4 [==============================] - 0s 2ms/step - loss: 1.0100 - mse: 1.0999 - mae: 1.0100 - mape: 99.6664\n",
      "Epoch 36/50\n",
      "4/4 [==============================] - 0s 2ms/step - loss: 1.0084 - mse: 1.0966 - mae: 1.0084 - mape: 99.4871\n",
      "Epoch 37/50\n",
      "4/4 [==============================] - 0s 2ms/step - loss: 1.0067 - mse: 1.0931 - mae: 1.0067 - mape: 99.3055\n",
      "Epoch 38/50\n",
      "4/4 [==============================] - 0s 2ms/step - loss: 1.0050 - mse: 1.0896 - mae: 1.0050 - mape: 99.1218\n",
      "Epoch 39/50\n",
      "4/4 [==============================] - 0s 3ms/step - loss: 1.0032 - mse: 1.0862 - mae: 1.0032 - mape: 98.9332\n",
      "Epoch 40/50\n",
      "4/4 [==============================] - 0s 2ms/step - loss: 1.0015 - mse: 1.0826 - mae: 1.0015 - mape: 98.7476\n",
      "Epoch 41/50\n",
      "4/4 [==============================] - 0s 2ms/step - loss: 0.9997 - mse: 1.0790 - mae: 0.9997 - mape: 98.5561\n",
      "Epoch 42/50\n",
      "4/4 [==============================] - 0s 3ms/step - loss: 0.9979 - mse: 1.0755 - mae: 0.9979 - mape: 98.3594\n",
      "Epoch 43/50\n",
      "4/4 [==============================] - 0s 2ms/step - loss: 0.9960 - mse: 1.0718 - mae: 0.9960 - mape: 98.1631\n",
      "Epoch 44/50\n",
      "4/4 [==============================] - 0s 2ms/step - loss: 0.9942 - mse: 1.0681 - mae: 0.9942 - mape: 97.9624\n",
      "Epoch 45/50\n",
      "4/4 [==============================] - 0s 2ms/step - loss: 0.9923 - mse: 1.0644 - mae: 0.9923 - mape: 97.7645\n",
      "Epoch 46/50\n",
      "4/4 [==============================] - 0s 1ms/step - loss: 0.9904 - mse: 1.0605 - mae: 0.9904 - mape: 97.5618\n",
      "Epoch 47/50\n",
      "4/4 [==============================] - 0s 2ms/step - loss: 0.9885 - mse: 1.0568 - mae: 0.9885 - mape: 97.3532\n",
      "Epoch 48/50\n",
      "4/4 [==============================] - 0s 2ms/step - loss: 0.9865 - mse: 1.0529 - mae: 0.9865 - mape: 97.1437\n",
      "Epoch 49/50\n",
      "4/4 [==============================] - 0s 2ms/step - loss: 0.9846 - mse: 1.0491 - mae: 0.9846 - mape: 96.9336\n",
      "Epoch 50/50\n",
      "4/4 [==============================] - 0s 2ms/step - loss: 0.9826 - mse: 1.0451 - mae: 0.9826 - mape: 96.7224\n",
      "4/4 [==============================] - 0s 1ms/step\n",
      "1/1 [==============================] - 0s 1ms/step\n"
     ]
    },
    {
     "name": "stderr",
     "output_type": "stream",
     "text": [
      "\r",
      "  0%|          | 0/100 [00:00<?, ?it/s]"
     ]
    },
    {
     "name": "stdout",
     "output_type": "stream",
     "text": [
      "#------------#\n",
      " Get Error(s) \n",
      "#------------#\n"
     ]
    },
    {
     "name": "stderr",
     "output_type": "stream",
     "text": [
      "100%|██████████| 100/100 [00:00<00:00, 532.37it/s]\n",
      "  0%|          | 0/20 [00:00<?, ?it/s]"
     ]
    },
    {
     "name": "stdout",
     "output_type": "stream",
     "text": [
      "#-----------------#\n",
      " Get Error(s): END \n",
      "#-----------------#\n",
      "#------------#\n",
      " Get Error(s) \n",
      "#------------#\n"
     ]
    },
    {
     "name": "stderr",
     "output_type": "stream",
     "text": [
      "\r",
      "100%|██████████| 20/20 [00:00<00:00, 539.40it/s]"
     ]
    },
    {
     "name": "stdout",
     "output_type": "stream",
     "text": [
      "#-----------------#\n",
      " Get Error(s): END \n",
      "#-----------------#\n",
      "-----------------------\n",
      "Computing Error Metrics\n",
      "-----------------------\n"
     ]
    },
    {
     "name": "stderr",
     "output_type": "stream",
     "text": [
      "\n"
     ]
    }
   ],
   "source": [
    "exec(open('CV_Grid.py').read())\n",
    "# Notebook Mode:\n",
    "# %run Evaluation.ipynb\n",
    "# %run Benchmarks_Model_Builder_Pointmass_Based.ipynb\n",
    "# Terminal Mode (Default):\n",
    "exec(open('Evaluation.py').read())\n",
    "exec(open('Benchmarks_Model_Builder_Pointmass_Based.py').read())"
   ]
  },
  {
   "cell_type": "markdown",
   "metadata": {},
   "source": [
    "#### Run Gaussian Benchmark(s)"
   ]
  },
  {
   "cell_type": "markdown",
   "metadata": {},
   "source": [
    "These models train models which assume Gaussianity.  We may view these as models in $\\mathcal{P}_2(\\mathbb{R})$ via:\n",
    "$$\n",
    "\\mathbb{R}^d \\ni x \\to (\\hat{\\mu}(x),\\hat{\\sigma}(x))\\triangleq f(x) \\in \\mathbb{R}\\times [0,\\infty) \\to \\frac1{\\hat{\\sigma}(x)\\sqrt{2\\pi}}\\exp\\left(\\frac{-(\\cdot-\\hat{\\mu}(x))^2}{\\hat{\\sigma(x)}^2}\\right) \\in \\mathcal{G}_1\\subset \\mathcal{P}_2(\\mathbb{R});\n",
    "$$\n",
    "where $\\mathcal{G}_1$ is the set of Gaussian measures on $\\mathbb{R}$ equipped with the relative Wasserstein-1 topology."
   ]
  },
  {
   "cell_type": "code",
   "execution_count": 121,
   "metadata": {},
   "outputs": [
    {
     "name": "stdout",
     "output_type": "stream",
     "text": [
      "Deep Feature Builder - Ready\n",
      "Deep Feature Builder - Ready\n",
      "Fitting 2 folds for each of 1 candidates, totalling 2 fits\n"
     ]
    },
    {
     "name": "stderr",
     "output_type": "stream",
     "text": [
      "[Parallel(n_jobs=4)]: Using backend LokyBackend with 4 concurrent workers.\n",
      "[Parallel(n_jobs=4)]: Batch computation too fast (0.0948s.) Setting batch_size=2.\n",
      "[Parallel(n_jobs=4)]: Done   2 out of   2 | elapsed:    0.1s remaining:    0.0s\n",
      "[Parallel(n_jobs=4)]: Done   2 out of   2 | elapsed:    0.1s finished\n"
     ]
    },
    {
     "name": "stdout",
     "output_type": "stream",
     "text": [
      "===============================\n",
      "Training Deep Gaussian Network!\n",
      "===============================\n",
      "Fitting 2 folds for each of 1 candidates, totalling 2 fits\n"
     ]
    },
    {
     "name": "stderr",
     "output_type": "stream",
     "text": [
      "[Parallel(n_jobs=4)]: Using backend LokyBackend with 4 concurrent workers.\n",
      "[Parallel(n_jobs=4)]: Done   2 out of   2 | elapsed:    1.2s remaining:    0.0s\n",
      "[Parallel(n_jobs=4)]: Done   2 out of   2 | elapsed:    1.2s finished\n"
     ]
    },
    {
     "name": "stdout",
     "output_type": "stream",
     "text": [
      "Epoch 1/50\n",
      "4/4 [==============================] - 0s 1ms/step - loss: 3.3560 - mse: 19.5612 - mae: 3.3560 - mape: 93.1738\n",
      "Epoch 2/50\n",
      "4/4 [==============================] - 0s 2ms/step - loss: 3.3547 - mse: 19.5528 - mae: 3.3547 - mape: 93.0962\n",
      "Epoch 3/50\n",
      "4/4 [==============================] - 0s 2ms/step - loss: 3.3535 - mse: 19.5443 - mae: 3.3535 - mape: 93.0184\n",
      "Epoch 4/50\n",
      "4/4 [==============================] - 0s 2ms/step - loss: 3.3523 - mse: 19.5361 - mae: 3.3523 - mape: 92.9429\n",
      "Epoch 5/50\n",
      "4/4 [==============================] - 0s 2ms/step - loss: 3.3510 - mse: 19.5279 - mae: 3.3510 - mape: 92.8650\n",
      "Epoch 6/50\n",
      "4/4 [==============================] - 0s 2ms/step - loss: 3.3498 - mse: 19.5193 - mae: 3.3498 - mape: 92.7877\n",
      "Epoch 7/50\n",
      "4/4 [==============================] - 0s 2ms/step - loss: 3.3486 - mse: 19.5110 - mae: 3.3486 - mape: 92.7109\n",
      "Epoch 8/50\n",
      "4/4 [==============================] - 0s 1ms/step - loss: 3.3473 - mse: 19.5025 - mae: 3.3473 - mape: 92.6336\n",
      "Epoch 9/50\n",
      "4/4 [==============================] - 0s 2ms/step - loss: 3.3461 - mse: 19.4941 - mae: 3.3461 - mape: 92.5561\n",
      "Epoch 10/50\n",
      "4/4 [==============================] - 0s 3ms/step - loss: 3.3448 - mse: 19.4856 - mae: 3.3448 - mape: 92.4772\n",
      "Epoch 11/50\n",
      "4/4 [==============================] - 0s 2ms/step - loss: 3.3436 - mse: 19.4771 - mae: 3.3436 - mape: 92.3985\n",
      "Epoch 12/50\n",
      "4/4 [==============================] - 0s 2ms/step - loss: 3.3423 - mse: 19.4685 - mae: 3.3423 - mape: 92.3195\n",
      "Epoch 13/50\n",
      "4/4 [==============================] - 0s 1ms/step - loss: 3.3410 - mse: 19.4599 - mae: 3.3410 - mape: 92.2389\n",
      "Epoch 14/50\n",
      "4/4 [==============================] - 0s 3ms/step - loss: 3.3398 - mse: 19.4510 - mae: 3.3398 - mape: 92.1592\n",
      "Epoch 15/50\n",
      "4/4 [==============================] - 0s 3ms/step - loss: 3.3385 - mse: 19.4423 - mae: 3.3385 - mape: 92.0790\n",
      "Epoch 16/50\n",
      "4/4 [==============================] - 0s 2ms/step - loss: 3.3371 - mse: 19.4333 - mae: 3.3371 - mape: 91.9972\n",
      "Epoch 17/50\n",
      "4/4 [==============================] - 0s 1ms/step - loss: 3.3358 - mse: 19.4243 - mae: 3.3358 - mape: 91.9142\n",
      "Epoch 18/50\n",
      "4/4 [==============================] - 0s 1ms/step - loss: 3.3345 - mse: 19.4154 - mae: 3.3345 - mape: 91.8317\n",
      "Epoch 19/50\n",
      "4/4 [==============================] - 0s 2ms/step - loss: 3.3332 - mse: 19.4062 - mae: 3.3332 - mape: 91.7487\n",
      "Epoch 20/50\n",
      "4/4 [==============================] - 0s 2ms/step - loss: 3.3318 - mse: 19.3971 - mae: 3.3318 - mape: 91.6641\n",
      "Epoch 21/50\n",
      "4/4 [==============================] - 0s 2ms/step - loss: 3.3304 - mse: 19.3877 - mae: 3.3304 - mape: 91.5792\n",
      "Epoch 22/50\n",
      "4/4 [==============================] - 0s 2ms/step - loss: 3.3291 - mse: 19.3782 - mae: 3.3291 - mape: 91.4934\n",
      "Epoch 23/50\n",
      "4/4 [==============================] - 0s 3ms/step - loss: 3.3277 - mse: 19.3688 - mae: 3.3277 - mape: 91.4072\n",
      "Epoch 24/50\n",
      "4/4 [==============================] - 0s 1ms/step - loss: 3.3263 - mse: 19.3592 - mae: 3.3263 - mape: 91.3199\n",
      "Epoch 25/50\n",
      "4/4 [==============================] - 0s 2ms/step - loss: 3.3248 - mse: 19.3495 - mae: 3.3248 - mape: 91.2312\n",
      "Epoch 26/50\n",
      "4/4 [==============================] - 0s 3ms/step - loss: 3.3234 - mse: 19.3399 - mae: 3.3234 - mape: 91.1430\n",
      "Epoch 27/50\n",
      "4/4 [==============================] - 0s 2ms/step - loss: 3.3220 - mse: 19.3299 - mae: 3.3220 - mape: 91.0539\n",
      "Epoch 28/50\n",
      "4/4 [==============================] - 0s 2ms/step - loss: 3.3205 - mse: 19.3199 - mae: 3.3205 - mape: 90.9632\n",
      "Epoch 29/50\n",
      "4/4 [==============================] - 0s 2ms/step - loss: 3.3190 - mse: 19.3099 - mae: 3.3190 - mape: 90.8716\n",
      "Epoch 30/50\n",
      "4/4 [==============================] - 0s 2ms/step - loss: 3.3175 - mse: 19.2999 - mae: 3.3175 - mape: 90.7792\n",
      "Epoch 31/50\n",
      "4/4 [==============================] - 0s 3ms/step - loss: 3.3160 - mse: 19.2895 - mae: 3.3160 - mape: 90.6867\n",
      "Epoch 32/50\n",
      "4/4 [==============================] - 0s 2ms/step - loss: 3.3145 - mse: 19.2792 - mae: 3.3145 - mape: 90.5925\n",
      "Epoch 33/50\n",
      "4/4 [==============================] - 0s 3ms/step - loss: 3.3130 - mse: 19.2688 - mae: 3.3130 - mape: 90.4969\n",
      "Epoch 34/50\n",
      "4/4 [==============================] - 0s 2ms/step - loss: 3.3114 - mse: 19.2581 - mae: 3.3114 - mape: 90.4016\n",
      "Epoch 35/50\n",
      "4/4 [==============================] - 0s 2ms/step - loss: 3.3099 - mse: 19.2473 - mae: 3.3099 - mape: 90.3039\n",
      "Epoch 36/50\n",
      "4/4 [==============================] - 0s 2ms/step - loss: 3.3083 - mse: 19.2365 - mae: 3.3083 - mape: 90.2059\n",
      "Epoch 37/50\n",
      "4/4 [==============================] - 0s 2ms/step - loss: 3.3067 - mse: 19.2258 - mae: 3.3067 - mape: 90.1077\n",
      "Epoch 38/50\n",
      "4/4 [==============================] - 0s 3ms/step - loss: 3.3050 - mse: 19.2144 - mae: 3.3050 - mape: 90.0072\n",
      "Epoch 39/50\n",
      "4/4 [==============================] - 0s 1ms/step - loss: 3.3034 - mse: 19.2033 - mae: 3.3034 - mape: 89.9055\n",
      "Epoch 40/50\n",
      "4/4 [==============================] - 0s 1ms/step - loss: 3.3017 - mse: 19.1919 - mae: 3.3017 - mape: 89.8044\n",
      "Epoch 41/50\n",
      "4/4 [==============================] - 0s 2ms/step - loss: 3.3001 - mse: 19.1804 - mae: 3.3001 - mape: 89.7008\n",
      "Epoch 42/50\n",
      "4/4 [==============================] - 0s 3ms/step - loss: 3.2984 - mse: 19.1686 - mae: 3.2984 - mape: 89.5962\n",
      "Epoch 43/50\n",
      "4/4 [==============================] - 0s 3ms/step - loss: 3.2966 - mse: 19.1569 - mae: 3.2966 - mape: 89.4893\n",
      "Epoch 44/50\n",
      "4/4 [==============================] - 0s 2ms/step - loss: 3.2949 - mse: 19.1450 - mae: 3.2949 - mape: 89.3816\n",
      "Epoch 45/50\n",
      "4/4 [==============================] - 0s 2ms/step - loss: 3.2931 - mse: 19.1328 - mae: 3.2931 - mape: 89.2735\n",
      "Epoch 46/50\n",
      "4/4 [==============================] - 0s 3ms/step - loss: 3.2913 - mse: 19.1206 - mae: 3.2913 - mape: 89.1631\n",
      "Epoch 47/50\n",
      "4/4 [==============================] - 0s 2ms/step - loss: 3.2895 - mse: 19.1081 - mae: 3.2895 - mape: 89.0516\n",
      "Epoch 48/50\n",
      "4/4 [==============================] - 0s 1ms/step - loss: 3.2876 - mse: 19.0954 - mae: 3.2876 - mape: 88.9377\n",
      "Epoch 49/50\n",
      "4/4 [==============================] - 0s 2ms/step - loss: 3.2858 - mse: 19.0830 - mae: 3.2858 - mape: 88.8260\n",
      "Epoch 50/50\n",
      "4/4 [==============================] - 0s 2ms/step - loss: 3.2839 - mse: 19.0700 - mae: 3.2839 - mape: 88.7091\n",
      "4/4 [==============================] - 0s 886us/step\n",
      "1/1 [==============================] - 0s 862us/step\n",
      "====================================\n",
      "Training Deep Gaussian Network!: END\n",
      "====================================\n"
     ]
    }
   ],
   "source": [
    "%run Benchmarks_Model_Builder_Mean_Var.ipynb\n",
    "# exec(open('Benchmarks_Model_Builder_Mean_Var.py').read())"
   ]
  },
  {
   "cell_type": "markdown",
   "metadata": {},
   "source": [
    "# Summary of Mean-Centric Regression Models"
   ]
  },
  {
   "cell_type": "markdown",
   "metadata": {},
   "source": [
    "#### Training Model Facts"
   ]
  },
  {
   "cell_type": "code",
   "execution_count": 56,
   "metadata": {},
   "outputs": [
    {
     "name": "stdout",
     "output_type": "stream",
     "text": [
      "                ENET      kRidge        GBRF        ffNN\n",
      "W1          6.148427    6.148783    6.236483    7.227314\n",
      "Mean        1.056932    1.051987    1.029966    0.076402\n",
      "Var         6.283783    6.283783    6.283783    6.283783\n",
      "Skewness    0.000000    0.000000    0.000000    0.000000\n",
      "Ex_Kur      6.000000    6.000000    6.000000    6.000000\n",
      "Higher    575.904530  575.904530  575.904530  575.904530\n"
     ]
    },
    {
     "data": {
      "text/html": [
       "<div>\n",
       "<style scoped>\n",
       "    .dataframe tbody tr th:only-of-type {\n",
       "        vertical-align: middle;\n",
       "    }\n",
       "\n",
       "    .dataframe tbody tr th {\n",
       "        vertical-align: top;\n",
       "    }\n",
       "\n",
       "    .dataframe thead th {\n",
       "        text-align: right;\n",
       "    }\n",
       "</style>\n",
       "<table border=\"1\" class=\"dataframe\">\n",
       "  <thead>\n",
       "    <tr style=\"text-align: right;\">\n",
       "      <th></th>\n",
       "      <th>ENET</th>\n",
       "      <th>kRidge</th>\n",
       "      <th>GBRF</th>\n",
       "      <th>ffNN</th>\n",
       "    </tr>\n",
       "  </thead>\n",
       "  <tbody>\n",
       "    <tr>\n",
       "      <th>W1</th>\n",
       "      <td>6.148427</td>\n",
       "      <td>6.148783</td>\n",
       "      <td>6.236483</td>\n",
       "      <td>7.227314</td>\n",
       "    </tr>\n",
       "    <tr>\n",
       "      <th>Mean</th>\n",
       "      <td>1.056932</td>\n",
       "      <td>1.051987</td>\n",
       "      <td>1.029966</td>\n",
       "      <td>0.076402</td>\n",
       "    </tr>\n",
       "    <tr>\n",
       "      <th>Var</th>\n",
       "      <td>6.283783</td>\n",
       "      <td>6.283783</td>\n",
       "      <td>6.283783</td>\n",
       "      <td>6.283783</td>\n",
       "    </tr>\n",
       "    <tr>\n",
       "      <th>Skewness</th>\n",
       "      <td>0.000000</td>\n",
       "      <td>0.000000</td>\n",
       "      <td>0.000000</td>\n",
       "      <td>0.000000</td>\n",
       "    </tr>\n",
       "    <tr>\n",
       "      <th>Ex_Kur</th>\n",
       "      <td>6.000000</td>\n",
       "      <td>6.000000</td>\n",
       "      <td>6.000000</td>\n",
       "      <td>6.000000</td>\n",
       "    </tr>\n",
       "    <tr>\n",
       "      <th>Higher</th>\n",
       "      <td>575.904530</td>\n",
       "      <td>575.904530</td>\n",
       "      <td>575.904530</td>\n",
       "      <td>575.904530</td>\n",
       "    </tr>\n",
       "  </tbody>\n",
       "</table>\n",
       "</div>"
      ],
      "text/plain": [
       "                ENET      kRidge        GBRF        ffNN\n",
       "W1          6.148427    6.148783    6.236483    7.227314\n",
       "Mean        1.056932    1.051987    1.029966    0.076402\n",
       "Var         6.283783    6.283783    6.283783    6.283783\n",
       "Skewness    0.000000    0.000000    0.000000    0.000000\n",
       "Ex_Kur      6.000000    6.000000    6.000000    6.000000\n",
       "Higher    575.904530  575.904530  575.904530  575.904530"
      ]
     },
     "execution_count": 56,
     "metadata": {},
     "output_type": "execute_result"
    }
   ],
   "source": [
    "print(Summary_pred_Qual_models)\n",
    "Summary_pred_Qual_models"
   ]
  },
  {
   "cell_type": "markdown",
   "metadata": {},
   "source": [
    "#### Testing Model Facts"
   ]
  },
  {
   "cell_type": "code",
   "execution_count": 57,
   "metadata": {},
   "outputs": [
    {
     "name": "stdout",
     "output_type": "stream",
     "text": [
      "                ENET      kRidge        GBRF        ffNN\n",
      "W1          6.952133    6.952813    6.874186    7.914867\n",
      "Mean        1.059098    1.052128    1.059098    0.078013\n",
      "Var         6.902197    6.902197    6.902197    6.902197\n",
      "Skewness    0.000000    0.000000    0.000000    0.000000\n",
      "Ex_Kur      6.000000    6.000000    6.000000    6.000000\n",
      "Higher    704.877441  704.877441  704.877441  704.877441\n"
     ]
    },
    {
     "data": {
      "text/html": [
       "<div>\n",
       "<style scoped>\n",
       "    .dataframe tbody tr th:only-of-type {\n",
       "        vertical-align: middle;\n",
       "    }\n",
       "\n",
       "    .dataframe tbody tr th {\n",
       "        vertical-align: top;\n",
       "    }\n",
       "\n",
       "    .dataframe thead th {\n",
       "        text-align: right;\n",
       "    }\n",
       "</style>\n",
       "<table border=\"1\" class=\"dataframe\">\n",
       "  <thead>\n",
       "    <tr style=\"text-align: right;\">\n",
       "      <th></th>\n",
       "      <th>ENET</th>\n",
       "      <th>kRidge</th>\n",
       "      <th>GBRF</th>\n",
       "      <th>ffNN</th>\n",
       "    </tr>\n",
       "  </thead>\n",
       "  <tbody>\n",
       "    <tr>\n",
       "      <th>W1</th>\n",
       "      <td>6.952133</td>\n",
       "      <td>6.952813</td>\n",
       "      <td>6.874186</td>\n",
       "      <td>7.914867</td>\n",
       "    </tr>\n",
       "    <tr>\n",
       "      <th>Mean</th>\n",
       "      <td>1.059098</td>\n",
       "      <td>1.052128</td>\n",
       "      <td>1.059098</td>\n",
       "      <td>0.078013</td>\n",
       "    </tr>\n",
       "    <tr>\n",
       "      <th>Var</th>\n",
       "      <td>6.902197</td>\n",
       "      <td>6.902197</td>\n",
       "      <td>6.902197</td>\n",
       "      <td>6.902197</td>\n",
       "    </tr>\n",
       "    <tr>\n",
       "      <th>Skewness</th>\n",
       "      <td>0.000000</td>\n",
       "      <td>0.000000</td>\n",
       "      <td>0.000000</td>\n",
       "      <td>0.000000</td>\n",
       "    </tr>\n",
       "    <tr>\n",
       "      <th>Ex_Kur</th>\n",
       "      <td>6.000000</td>\n",
       "      <td>6.000000</td>\n",
       "      <td>6.000000</td>\n",
       "      <td>6.000000</td>\n",
       "    </tr>\n",
       "    <tr>\n",
       "      <th>Higher</th>\n",
       "      <td>704.877441</td>\n",
       "      <td>704.877441</td>\n",
       "      <td>704.877441</td>\n",
       "      <td>704.877441</td>\n",
       "    </tr>\n",
       "  </tbody>\n",
       "</table>\n",
       "</div>"
      ],
      "text/plain": [
       "                ENET      kRidge        GBRF        ffNN\n",
       "W1          6.952133    6.952813    6.874186    7.914867\n",
       "Mean        1.059098    1.052128    1.059098    0.078013\n",
       "Var         6.902197    6.902197    6.902197    6.902197\n",
       "Skewness    0.000000    0.000000    0.000000    0.000000\n",
       "Ex_Kur      6.000000    6.000000    6.000000    6.000000\n",
       "Higher    704.877441  704.877441  704.877441  704.877441"
      ]
     },
     "execution_count": 57,
     "metadata": {},
     "output_type": "execute_result"
    }
   ],
   "source": [
    "print(Summary_pred_Qual_models_test)\n",
    "Summary_pred_Qual_models_test"
   ]
  },
  {
   "cell_type": "markdown",
   "metadata": {},
   "source": [
    "#### Model Complexitie(s)"
   ]
  },
  {
   "cell_type": "code",
   "execution_count": 58,
   "metadata": {},
   "outputs": [
    {
     "name": "stdout",
     "output_type": "stream",
     "text": [
      "        N_Params    T_Time  T_Test/T_test-MC\n",
      "ENET           6  4.541832          0.008632\n",
      "GBRF       70152  0.718837          0.126138\n",
      "kRidge        12  0.379076          0.066125\n",
      "ffNN         101  2.964410          5.962732\n"
     ]
    },
    {
     "data": {
      "text/html": [
       "<div>\n",
       "<style scoped>\n",
       "    .dataframe tbody tr th:only-of-type {\n",
       "        vertical-align: middle;\n",
       "    }\n",
       "\n",
       "    .dataframe tbody tr th {\n",
       "        vertical-align: top;\n",
       "    }\n",
       "\n",
       "    .dataframe thead th {\n",
       "        text-align: right;\n",
       "    }\n",
       "</style>\n",
       "<table border=\"1\" class=\"dataframe\">\n",
       "  <thead>\n",
       "    <tr style=\"text-align: right;\">\n",
       "      <th></th>\n",
       "      <th>N_Params</th>\n",
       "      <th>T_Time</th>\n",
       "      <th>T_Test/T_test-MC</th>\n",
       "    </tr>\n",
       "  </thead>\n",
       "  <tbody>\n",
       "    <tr>\n",
       "      <th>ENET</th>\n",
       "      <td>6</td>\n",
       "      <td>4.541832</td>\n",
       "      <td>0.008632</td>\n",
       "    </tr>\n",
       "    <tr>\n",
       "      <th>GBRF</th>\n",
       "      <td>70152</td>\n",
       "      <td>0.718837</td>\n",
       "      <td>0.126138</td>\n",
       "    </tr>\n",
       "    <tr>\n",
       "      <th>kRidge</th>\n",
       "      <td>12</td>\n",
       "      <td>0.379076</td>\n",
       "      <td>0.066125</td>\n",
       "    </tr>\n",
       "    <tr>\n",
       "      <th>ffNN</th>\n",
       "      <td>101</td>\n",
       "      <td>2.964410</td>\n",
       "      <td>5.962732</td>\n",
       "    </tr>\n",
       "  </tbody>\n",
       "</table>\n",
       "</div>"
      ],
      "text/plain": [
       "        N_Params    T_Time  T_Test/T_test-MC\n",
       "ENET           6  4.541832          0.008632\n",
       "GBRF       70152  0.718837          0.126138\n",
       "kRidge        12  0.379076          0.066125\n",
       "ffNN         101  2.964410          5.962732"
      ]
     },
     "execution_count": 58,
     "metadata": {},
     "output_type": "execute_result"
    }
   ],
   "source": [
    "print(Summary_Complexity_models)\n",
    "Summary_Complexity_models"
   ]
  },
  {
   "cell_type": "markdown",
   "metadata": {},
   "source": [
    "## Mean+Variance Based Model(s)"
   ]
  },
  {
   "cell_type": "code",
   "execution_count": 62,
   "metadata": {},
   "outputs": [],
   "source": [
    "# exec(open('Benchmarks_Model_Builder_Mean_Var.py').read())"
   ]
  },
  {
   "cell_type": "markdown",
   "metadata": {},
   "source": [
    "#### Gaussian Proecess Regressor"
   ]
  },
  {
   "cell_type": "code",
   "execution_count": 63,
   "metadata": {},
   "outputs": [],
   "source": [
    "# GPR_means, GPR_vars, GPR_means_test, GPR_vars_test, trash = get_GPR(X_train,X_test,Y_train_mean_emp) "
   ]
  },
  {
   "cell_type": "markdown",
   "metadata": {},
   "source": [
    "#### Deep Gaussian Networks"
   ]
  },
  {
   "cell_type": "code",
   "execution_count": null,
   "metadata": {},
   "outputs": [],
   "source": []
  },
  {
   "cell_type": "markdown",
   "metadata": {},
   "source": [
    "---\n",
    "\n",
    "---\n",
    "\n",
    "---"
   ]
  },
  {
   "cell_type": "markdown",
   "metadata": {},
   "source": [
    "## Get Moment Predictions"
   ]
  },
  {
   "cell_type": "markdown",
   "metadata": {},
   "source": [
    "#### Write Predictions"
   ]
  },
  {
   "cell_type": "markdown",
   "metadata": {},
   "source": [
    "### Training-Set Result(s): "
   ]
  },
  {
   "cell_type": "code",
   "execution_count": 64,
   "metadata": {},
   "outputs": [
    {
     "name": "stdout",
     "output_type": "stream",
     "text": [
      "                          N_Centers  N_Q  N_Params  Training Time  \\\n",
      "Model_Complexity_metrics         50  100      1130     1.1939E+02   \n",
      "\n",
      "                          T_Test/T_Test-MC  Time Test  Time EM-MC  \n",
      "Model_Complexity_metrics        6.8014E+00 5.1474E-02  7.5681E-03  \n",
      "              W1         M1      M1_MC        Var     Var_MC       Skew  \\\n",
      "Train 6.1336E-01 1.0817E+00 2.1900E-01 1.4786E+00 1.3465E+00 2.1281E-02   \n",
      "Test  5.5856E-01 5.5807E-02 1.0609E+00 1.8744E-02 2.4295E+00 5.4009E-02   \n",
      "\n",
      "         Skew_MC     Ex_Kur  Ex_Kur_MC       High  N_Centers  N_Q  N_Params  \\\n",
      "Train 3.2537E-02 5.6591E+00 5.8367E+00 7.0488E+02         50  100      1130   \n",
      "Test  4.8624E-02 5.9085E+00 5.7758E+00 5.7590E+02         50  100      1130   \n",
      "\n",
      "       Training Time  T_Test/T_Test-MC  Problem_Dimension  \n",
      "Train     1.1939E+02        6.8014E+00                  3  \n",
      "Test      1.1939E+02        6.8014E+00                  3  \n"
     ]
    }
   ],
   "source": [
    "#---------------------------------------------------------------------------------------------#\n",
    "W1_95 = bootstrap(W1_errors, n=1000, func=np.mean)(.95)\n",
    "W1_99 = bootstrap(W1_errors, n=1000, func=np.mean)(.99)\n",
    "#---------------------------------------------------------------------------------------------#\n",
    "Model_Complexity = pd.DataFrame({\"N_Centers\":N_Quantizers_to_parameterize,\n",
    "                                 \"N_Q\":N_Monte_Carlo_Samples,\n",
    "                                 \"N_Params\":N_params_deep_classifier,\n",
    "                                 \"Training Time\":Time_Lapse_Model_A,\n",
    "                                 \"T_Test/T_Test-MC\": (timer_output/Test_Set_PredictionTime_MC),\n",
    "                                 \"Time Test\": timer_output,\n",
    "                                 \"Time EM-MC\": Test_Set_PredictionTime_MC},index=[\"Model_Complexity_metrics\"])\n",
    "\n",
    "#---------------------------------------------------------------------------------------------#\n",
    "# Compute Error Statistics/Descriptors\n",
    "Summary = pd.DataFrame({\"W1\":np.array([np.mean(np.abs(W1_errors)),np.mean(np.abs(W1_errors_test))]),\n",
    "                        \"M1\":np.array([np.mean(np.abs(Mean_errors)),np.mean(np.abs(Mean_errors_test))]),\n",
    "                        \"M1_MC\":np.array([np.mean(np.abs(Mean_errors_MC)),np.mean(np.abs(Mean_errors_MC_test))]),\n",
    "                        \"Var\":np.array([np.mean(np.abs(Var_errors)),np.mean(np.abs(Var_errors_test))]),\n",
    "                        \"Var_MC\":np.array([np.mean(np.abs(Var_errors_MC)),np.mean(np.abs(Var_errors_MC_test))]),\n",
    "                        \"Skew\":np.array([np.mean(np.abs(Skewness_errors)),np.mean(np.abs(Skewness_errors_test))]),\n",
    "                        \"Skew_MC\":np.array([np.mean(np.abs(Skewness_errors_MC)),np.mean(np.abs(Skewness_errors_MC_test))]),\n",
    "                        \"Ex_Kur\":np.array([np.mean(np.abs(Ex_Kurtosis_errors)),np.mean(np.abs(Ex_Kurtosis_errors_test))]),\n",
    "                        \"Ex_Kur_MC\":np.array([np.mean(np.abs(Ex_Kurtosis_errors_MC)),np.mean(np.abs(Ex_Kurtosis_errors_MC_test))]),\n",
    "                        \"High\": np.array([np.mean(np.abs(Higher_Moments_Errors)),np.mean(np.abs(Higher_Moments_test_Errors))]),\n",
    "                        \"N_Centers\":np.array((N_Quantizers_to_parameterize,N_Quantizers_to_parameterize)),\n",
    "                        \"N_Q\":np.array((N_Monte_Carlo_Samples,N_Monte_Carlo_Samples)),\n",
    "                        \"N_Params\":np.array((N_params_deep_classifier,N_params_deep_classifier)),\n",
    "                        \"Training Time\":np.array((Time_Lapse_Model_A,Time_Lapse_Model_A)),\n",
    "                        \"T_Test/T_Test-MC\":np.array(((timer_output/Test_Set_PredictionTime_MC),(timer_output/Test_Set_PredictionTime_MC))),\n",
    "                        \"Problem_Dimension\":np.array((problem_dim,problem_dim))\n",
    "                       },index=[\"Train\",\"Test\"])\n",
    "\n",
    "\n",
    "# Write Performance Metrics to file #\n",
    "#-----------------------------------#\n",
    "pd.set_option('display.float_format', '{:.4E}'.format)\n",
    "Model_Complexity.to_latex((results_tables_path+\"Latent_Width_NSDE\"+str(width)+\"Problemdimension\"+str(problem_dim)+\"__ModelComplexities.tex\"))\n",
    "pd.set_option('display.float_format', '{:.4E}'.format)\n",
    "Summary.to_latex((results_tables_path+\"Latent_Width_NSDE\"+str(width)+\"Problemdimension\"+str(problem_dim)+\"__SUMMARY_METRICS.tex\"))\n",
    "\n",
    "\n",
    "#---------------------------------------------------------------------------------------------#\n",
    "# Update User\n",
    "print(Model_Complexity)\n",
    "print(Summary)"
   ]
  },
  {
   "cell_type": "markdown",
   "metadata": {},
   "source": [
    "# Update User"
   ]
  },
  {
   "cell_type": "markdown",
   "metadata": {},
   "source": [
    "## Prediction Quality"
   ]
  },
  {
   "cell_type": "code",
   "execution_count": 65,
   "metadata": {},
   "outputs": [
    {
     "data": {
      "text/html": [
       "<div>\n",
       "<style scoped>\n",
       "    .dataframe tbody tr th:only-of-type {\n",
       "        vertical-align: middle;\n",
       "    }\n",
       "\n",
       "    .dataframe tbody tr th {\n",
       "        vertical-align: top;\n",
       "    }\n",
       "\n",
       "    .dataframe thead th {\n",
       "        text-align: right;\n",
       "    }\n",
       "</style>\n",
       "<table border=\"1\" class=\"dataframe\">\n",
       "  <thead>\n",
       "    <tr style=\"text-align: right;\">\n",
       "      <th></th>\n",
       "      <th>W1</th>\n",
       "      <th>M1</th>\n",
       "      <th>M1_MC</th>\n",
       "      <th>Var</th>\n",
       "      <th>Var_MC</th>\n",
       "      <th>Skew</th>\n",
       "      <th>Skew_MC</th>\n",
       "      <th>Ex_Kur</th>\n",
       "      <th>Ex_Kur_MC</th>\n",
       "      <th>High</th>\n",
       "      <th>N_Centers</th>\n",
       "      <th>N_Q</th>\n",
       "      <th>N_Params</th>\n",
       "      <th>Training Time</th>\n",
       "      <th>T_Test/T_Test-MC</th>\n",
       "      <th>Problem_Dimension</th>\n",
       "    </tr>\n",
       "  </thead>\n",
       "  <tbody>\n",
       "    <tr>\n",
       "      <th>Train</th>\n",
       "      <td>6.1336E-01</td>\n",
       "      <td>1.0817E+00</td>\n",
       "      <td>2.1900E-01</td>\n",
       "      <td>1.4786E+00</td>\n",
       "      <td>1.3465E+00</td>\n",
       "      <td>2.1281E-02</td>\n",
       "      <td>3.2537E-02</td>\n",
       "      <td>5.6591E+00</td>\n",
       "      <td>5.8367E+00</td>\n",
       "      <td>7.0488E+02</td>\n",
       "      <td>50</td>\n",
       "      <td>100</td>\n",
       "      <td>1130</td>\n",
       "      <td>1.1939E+02</td>\n",
       "      <td>6.8014E+00</td>\n",
       "      <td>3</td>\n",
       "    </tr>\n",
       "    <tr>\n",
       "      <th>Test</th>\n",
       "      <td>5.5856E-01</td>\n",
       "      <td>5.5807E-02</td>\n",
       "      <td>1.0609E+00</td>\n",
       "      <td>1.8744E-02</td>\n",
       "      <td>2.4295E+00</td>\n",
       "      <td>5.4009E-02</td>\n",
       "      <td>4.8624E-02</td>\n",
       "      <td>5.9085E+00</td>\n",
       "      <td>5.7758E+00</td>\n",
       "      <td>5.7590E+02</td>\n",
       "      <td>50</td>\n",
       "      <td>100</td>\n",
       "      <td>1130</td>\n",
       "      <td>1.1939E+02</td>\n",
       "      <td>6.8014E+00</td>\n",
       "      <td>3</td>\n",
       "    </tr>\n",
       "  </tbody>\n",
       "</table>\n",
       "</div>"
      ],
      "text/plain": [
       "              W1         M1      M1_MC        Var     Var_MC       Skew  \\\n",
       "Train 6.1336E-01 1.0817E+00 2.1900E-01 1.4786E+00 1.3465E+00 2.1281E-02   \n",
       "Test  5.5856E-01 5.5807E-02 1.0609E+00 1.8744E-02 2.4295E+00 5.4009E-02   \n",
       "\n",
       "         Skew_MC     Ex_Kur  Ex_Kur_MC       High  N_Centers  N_Q  N_Params  \\\n",
       "Train 3.2537E-02 5.6591E+00 5.8367E+00 7.0488E+02         50  100      1130   \n",
       "Test  4.8624E-02 5.9085E+00 5.7758E+00 5.7590E+02         50  100      1130   \n",
       "\n",
       "       Training Time  T_Test/T_Test-MC  Problem_Dimension  \n",
       "Train     1.1939E+02        6.8014E+00                  3  \n",
       "Test      1.1939E+02        6.8014E+00                  3  "
      ]
     },
     "execution_count": 65,
     "metadata": {},
     "output_type": "execute_result"
    }
   ],
   "source": [
    "Summary"
   ]
  },
  {
   "cell_type": "markdown",
   "metadata": {},
   "source": [
    "# Performance wrt Mean Prediction"
   ]
  },
  {
   "cell_type": "markdown",
   "metadata": {},
   "source": [
    "---"
   ]
  },
  {
   "cell_type": "code",
   "execution_count": 182,
   "metadata": {},
   "outputs": [
    {
     "name": "stderr",
     "output_type": "stream",
     "text": [
      "100%|██████████| 100/100 [00:00<00:00, 1807.91it/s]"
     ]
    },
    {
     "name": "stdout",
     "output_type": "stream",
     "text": [
      "#---------------------------------------#\n",
      " Get Training Errors for: Gaussian Models\n",
      "#---------------------------------------#\n",
      "#-------------------------#\n",
      " Get Training Error(s): END\n",
      "#-------------------------#\n"
     ]
    },
    {
     "name": "stderr",
     "output_type": "stream",
     "text": [
      "\n"
     ]
    }
   ],
   "source": [
    "N_Bootstraps = N_Boostraps_BCA\n",
    "print(\"#---------------------------------------#\")\n",
    "print(\" Get Training Errors for: Gaussian Models\")\n",
    "print(\"#---------------------------------------#\")\n",
    "for i in tqdm(range((X_train.shape[0]))):    \n",
    "    # Get Samples\n",
    "    ## From: Deep Gaussian Network (DGN)\n",
    "    hat_mu_DGaussianNet = Deep_Gaussian_train_parameters[i,][0]\n",
    "    hat_sd_DGaussianNet = np.sqrt(Deep_Gaussian_train_parameters[i,][1])\n",
    "    sample_DGaussianNet = np.random.normal(hat_mu_DGaussianNet,hat_sd_DGaussianNet,N_Monte_Carlo_Samples)\n",
    "    ## From: Gaussian Process Regressor (GPR)\n",
    "    hat_mu_GRP = GPR_means[i]\n",
    "    hat_sd_GPR = np.sqrt(GPR_vars[i])\n",
    "    sample_GRP = np.random.normal(hat_mu_GRP,hat_sd_GPR,N_Monte_Carlo_Samples)\n",
    "    \n",
    "    # Compute Error(s)\n",
    "    ## W1\n",
    "    ### DGN\n",
    "    W1_loop_DGN = ot.emd2_1d(sample_DGaussianNet,\n",
    "                             np.array(Y_train[i,]).reshape(-1,),\n",
    "                             empirical_weights,\n",
    "                             empirical_weights)\n",
    "    ### GPR\n",
    "    W1_loop_GPR = ot.emd2_1d(sample_GRP,\n",
    "                             np.array(Y_train[i,]).reshape(-1,),\n",
    "                             empirical_weights,\n",
    "                             empirical_weights)\n",
    "    \n",
    "    ## M1\n",
    "    Mu_MC = np.mean(np.array(Y_train[i,]))\n",
    "    if f_unknown_mode == \"Heteroskedastic_NonLinear_Regression\":\n",
    "        Mu = direct_facts[i,]\n",
    "    else:\n",
    "        Mu = Mu_MC\n",
    "    ### Error(s)\n",
    "    Mean_loop_DGN = (hat_mu_DGaussianNet-Mu)\n",
    "    Mean_loop_GPR = (hat_mu_GRP-Mu_MC)\n",
    "    \n",
    "    ## Variance\n",
    "    Var_loop_DGN = hat_sd_DGaussianNet**2\n",
    "    Var_loop_GPR = hat_sd_GPR**2\n",
    "    if f_unknown_mode == \"Heteroskedastic_NonLinear_Regression\":\n",
    "        Var = 2*np.sum(X_train[i,]**2)\n",
    "    else:\n",
    "        Var_MC = np.mean(np.array(Y_train[i]-Mu_MC)**2)\n",
    "        Var = Var_MC     \n",
    "    ### Error(s)\n",
    "    Var_loop_DGN = np.abs(Var_loop_DGN-Var)\n",
    "    Var_loop_GPR = np.abs(Mean_loop_GPR-Var)\n",
    "        \n",
    "    # Skewness\n",
    "    Skewness_DGN = 0\n",
    "    Skewness_GPR = 0\n",
    "    if f_unknown_mode == \"Heteroskedastic_NonLinear_Regression\":\n",
    "        Skewness = 0\n",
    "    else:\n",
    "        Skewness_MC = np.mean((np.array(Y_train[i]-Mu_MC)/Var_MC)**3)\n",
    "        Skewness = Skewness_MC\n",
    "    ### Error(s)\n",
    "    Skewness_loop_DGN = np.abs(Skewness_DGN-Skewness)\n",
    "    Skewness_loop_GPR = np.abs(Skewness_GPR-Skewness)\n",
    "    \n",
    "    # Skewness\n",
    "    Ex_Kurtosis_DGN = 0\n",
    "    Ex_Kurtosis_GPR = 0\n",
    "    if f_unknown_mode == \"Heteroskedastic_NonLinear_Regression\":\n",
    "        Ex_Kurtosis = 3\n",
    "    else:\n",
    "        Ex_Kurtosis_MC = np.mean((np.array(Y_train[i]-Mu_MC)/Var_MC)**4) - 3\n",
    "        Ex_Kurtosis = Ex_Kurtosis_MC\n",
    "    ### Error(s)\n",
    "    Ex_Kurtosis_loop_DGN = np.abs(Ex_Kurtosis-Ex_Kurtosis_DGN)\n",
    "    Ex_Kurtosis_loop_GPR = np.abs(Ex_Kurtosis-Ex_Kurtosis_GPR)\n",
    "    \n",
    "    \n",
    "    \n",
    "    # Get Higher Moments Loss\n",
    "#     Higher_momentserrors_loop_GPR,Higher_MC_momentserrors_loop_GPR = Higher_Moments_Loss(sample_GRP,np.array(Y_train[i,]))\n",
    "#     Higher_momentserrors_loop_DGN,Higher_MC_momentserrors_loop_DGN = Higher_Moments_Loss(sample_DGaussianNet,np.array(Y_train[i,]))\n",
    "    \n",
    "    \n",
    "    # Update\n",
    "    if i == 0:\n",
    "        W1_Errors_GPR = W1_loop_GPR\n",
    "        W1_Errors_DGN = W1_loop_DGN\n",
    "        # Moments\n",
    "        ## GPR\n",
    "        Mean_Errors_GPR =  Mean_loop_GPR\n",
    "        Var_Errors_GPR = Var_loop_GPR\n",
    "        Skewness_Errors_GPR = Skewness_loop_GPR\n",
    "        Ex_Kurtosis_Errors_GPR = Ex_Kurtosis_loop_GPR\n",
    "#         Higher_Moments_Errors_GPR = Higher_momentserrors_loop_GPR\n",
    "        ## DGN\n",
    "        Mean_Errors_DGN =  Mean_loop_DGN\n",
    "        Var_Errors_DGN = Var_loop_DGN\n",
    "        Skewness_Errors_DGN = Skewness_loop_DGN\n",
    "        Ex_Kurtosis_Errors_DGN = Ex_Kurtosis_loop_DGN\n",
    "#         Higher_Moments_Errors_DGN = Higher_momentserrors_loop_DGN\n",
    "        \n",
    "        \n",
    "    else:\n",
    "        W1_Errors_GPR = np.append(W1_Errors_GPR,W1_loop_GPR)\n",
    "        W1_Errors_DGN = np.append(W1_Errors_DGN,W1_loop_DGN)\n",
    "        # Moments\n",
    "        ## GPR\n",
    "        Mean_Errors_GPR =  np.append(Mean_Errors_GPR,Mean_loop_GPR)\n",
    "        Var_Errors_GPR = np.append(Var_Errors_GPR,Var_loop_GPR)\n",
    "        Skewness_Errors_GPR = np.append(Skewness_Errors_GPR,Skewness_loop_GPR)\n",
    "        Ex_Kurtosis_Errors_GPR = np.append(Ex_Kurtosis_Errors_GPR,Ex_Kurtosis_loop_GPR)\n",
    "#         Higher_Moments_Errors_GPR = np.append(Higher_Moments_Errors_GPR,Higher_momentserrors_loop_GPR)\n",
    "        ## DGN\n",
    "        Mean_Errors_DGN =  np.append(Mean_Errors_DGN,Mean_loop_DGN)\n",
    "        Var_Errors_DGN = np.append(Var_Errors_DGN,Var_loop_DGN)\n",
    "        Skewness_Errors_DGN = np.append(Skewness_Errors_DGN,Skewness_loop_DGN)\n",
    "        Ex_Kurtosis_Errors_DGN = np.append(Ex_Kurtosis_Errors_DGN,Ex_Kurtosis_loop_DGN)\n",
    "#         Higher_Moments_Errors_DGN = np.append(Higher_Moments_Errors_DGN,Higher_momentserrors_loop_DGN)\n",
    "        \n",
    "    \n",
    "# Compute Error Metrics with Bootstrapped Confidence Intervals\n",
    "W1_Errors_GPR = np.array(bootstrap(np.abs(W1_errors_GPR),n=N_Bootstraps)(.95))\n",
    "W1_Errors_DGN = np.array(bootstrap(np.abs(W1_errors_DGN),n=N_Bootstraps)(.95))\n",
    "# Mean_Errors_GPR = np.array(bootstrap(np.abs(Mean_Errors_GPR),n=N_Bootstraps)(.95))\n",
    "Mean_Errors_DGN = np.array(bootstrap(np.abs(Mean_Errors_DGN),n=N_Bootstraps)(.95))\n",
    "Var_Errors_GPR = np.array(bootstrap(np.abs(Var_Errors_GPR),n=N_Bootstraps)(.95))\n",
    "Var_Errors_DGN = np.array(bootstrap(np.abs(Var_Errors_DGN),n=N_Bootstraps)(.95))\n",
    "Skewness_Errors_GPR = np.array(bootstrap(np.abs(Skewness_errors_GPR),n=N_Bootstraps)(.95))\n",
    "Skewness_Errors_DGN = np.array(bootstrap(np.abs(Skewness_errors_DGN),n=N_Bootstraps)(.95))\n",
    "Ex_Kurtosis_Errors_GPR = np.array(bootstrap(np.abs(Ex_Kurtosis_errors_GPR),n=N_Bootstraps)(.95))\n",
    "Ex_Kurtosis_Errors_DGN = np.array(bootstrap(np.abs(Ex_Kurtosis_errors_DGN),n=N_Bootstraps)(.95))\n",
    "#     Higher_Moment_Errors = np.array(bootstrap(np.abs(Higher_Moments_Errors),n=N_Bootstraps)(.95))\n",
    "\n",
    "# Format Error Metrics\n",
    "Summary_pred_Qual_models_DGN_train = np.array([W1_Errors_DGN,Mean_Errors_DGN,Var_Errors_DGN,Skewness_Errors_DGN,Ex_Kurtosis_Errors_DGN])\n",
    "Summary_pred_Qual_models_GPR_train = np.array([W1_Errors_GPR,Mean_Errors_GPR,Var_Errors_GPR,Skewness_Errors_GPR,Ex_Kurtosis_Errors_GPR])\n",
    "print(\"#-------------------------#\")\n",
    "print(\" Get Training Error(s): END\")\n",
    "print(\"#-------------------------#\")"
   ]
  },
  {
   "cell_type": "markdown",
   "metadata": {},
   "source": [
    "---\n",
    "# Fin\n",
    "---"
   ]
  },
  {
   "cell_type": "markdown",
   "metadata": {},
   "source": [
    "---"
   ]
  }
 ],
 "metadata": {
  "kernelspec": {
   "display_name": "Python 3",
   "language": "python",
   "name": "python3"
  },
  "language_info": {
   "codemirror_mode": {
    "name": "ipython",
    "version": 3
   },
   "file_extension": ".py",
   "mimetype": "text/x-python",
   "name": "python",
   "nbconvert_exporter": "python",
   "pygments_lexer": "ipython3",
   "version": "3.7.7"
  }
 },
 "nbformat": 4,
 "nbformat_minor": 2
}
