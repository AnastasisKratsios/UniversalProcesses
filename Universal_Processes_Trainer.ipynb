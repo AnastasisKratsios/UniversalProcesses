{
 "cells": [
  {
   "cell_type": "markdown",
   "metadata": {},
   "source": [
    "# Deep Weak Stochastic Processes\n",
    "---"
   ]
  },
  {
   "cell_type": "markdown",
   "metadata": {},
   "source": [
    "## Meta-Parameters"
   ]
  },
  {
   "cell_type": "markdown",
   "metadata": {},
   "source": [
    "### Simulation"
   ]
  },
  {
   "cell_type": "code",
   "execution_count": 1,
   "metadata": {},
   "outputs": [],
   "source": [
    "## Monte-Carlo\n",
    "N_Euler_Maruyama_Steps = 2\n",
    "N_Monte_Carlo_Samples = 2\n",
    "\n",
    "## Grid\n",
    "N_Grid_Finess = 10**1\n",
    "Max_Grid = 2"
   ]
  },
  {
   "cell_type": "markdown",
   "metadata": {},
   "source": [
    "### Quantization\n",
    "*This hyperparameter describes the proportion of the data used as sample-barycenters.*"
   ]
  },
  {
   "cell_type": "code",
   "execution_count": 2,
   "metadata": {},
   "outputs": [],
   "source": [
    "Quantization_Proportion = 1"
   ]
  },
  {
   "cell_type": "markdown",
   "metadata": {},
   "source": [
    "**Note**: Setting *N_Quantizers_to_parameterize* prevents any barycenters and sub-sampling."
   ]
  },
  {
   "cell_type": "markdown",
   "metadata": {},
   "source": [
    "# Training Algorithm\n",
    "---\n",
    "Given a set of training inputs $\\mathbb{X}$ and a stochastic process $(X_t)_{t\\geq 0}$ which we can sample from:\n",
    "1. **For:** x in $\\mathbb{X}$:\n",
    "    - *Simulate:* $\\{x\\mapsto X_T(\\omega_n)\\}_{n=1}^N$\n",
    "    - *Set*: $\\hat{\\nu}_{x,T}\\triangleq \\frac1{N}\\sum_{n=1}^N \\delta_{X_T(\\omega_n)}$\n",
    "2. **Learn:** Wasserstein Barycenters $\\hat{\\mu}_1,\\dots,\\hat{\\mu}_N\n",
    "    \\in \\underset{{\\hat{\\mu}_n\\in\\mathscr{P}_{N}(\\mathbb{R}^d)}}{\\operatorname{argmin}}\n",
    "    \\, \\sum_{n=1}^N W_1(\\hat{\\mu_n},\\hat{\\nu}_{x,T})$\n",
    "3. **Train Classifier:** $\\hat{f}:x\\mapsto \\operatorname{n\\leq N}\\, W_1(\\hat{\\mu_n},\\hat{\\nu}_{x,T})$"
   ]
  },
  {
   "cell_type": "markdown",
   "metadata": {},
   "source": [
    "#### Mode: Code-Testin Parameter(s)"
   ]
  },
  {
   "cell_type": "code",
   "execution_count": 3,
   "metadata": {},
   "outputs": [],
   "source": [
    "trial_run = True"
   ]
  },
  {
   "cell_type": "markdown",
   "metadata": {},
   "source": [
    "### Meta-parameters"
   ]
  },
  {
   "cell_type": "code",
   "execution_count": 4,
   "metadata": {},
   "outputs": [],
   "source": [
    "# Test-size Ratio\n",
    "test_size_ratio = 1"
   ]
  },
  {
   "cell_type": "markdown",
   "metadata": {},
   "source": [
    "### Hyperparameters\n",
    "\n",
    "Only turn of if running code directly here, typically this script should be run be called by other notebooks.  "
   ]
  },
  {
   "cell_type": "code",
   "execution_count": 5,
   "metadata": {},
   "outputs": [],
   "source": [
    "# load dataset\n",
    "results_path = \"./outputs/models/\"\n",
    "results_tables_path = \"./outputs/results/\"\n",
    "raw_data_path_folder = \"./inputs/raw/\"\n",
    "data_path_folder = \"./inputs/data/\""
   ]
  },
  {
   "cell_type": "markdown",
   "metadata": {},
   "source": [
    "### Import"
   ]
  },
  {
   "cell_type": "code",
   "execution_count": 6,
   "metadata": {},
   "outputs": [
    {
     "name": "stderr",
     "output_type": "stream",
     "text": [
      "Using TensorFlow backend.\n"
     ]
    },
    {
     "name": "stdout",
     "output_type": "stream",
     "text": [
      "Deep Feature Builder - Ready\n",
      "Deep Classifier - Ready\n"
     ]
    }
   ],
   "source": [
    "# Load Packages/Modules\n",
    "exec(open('Init_Dump.py').read())\n",
    "# Load Hyper-parameter Grid\n",
    "exec(open('Grid_Enhanced_Network.py').read())\n",
    "# Load Helper Function(s)\n",
    "exec(open('Helper_Functions.py').read())\n",
    "# Import time separately\n",
    "import time"
   ]
  },
  {
   "cell_type": "markdown",
   "metadata": {},
   "source": [
    "## Get Internal (Hyper)-Parameter(s)\n",
    "*Initialize the hyperparameters which are fully-specified by the user-provided hyperparameter(s).*"
   ]
  },
  {
   "cell_type": "markdown",
   "metadata": {},
   "source": [
    "### Initialize Grid\n",
    "This is $\\mathbb{X}$ and it represents the grid of initial states."
   ]
  },
  {
   "cell_type": "code",
   "execution_count": 7,
   "metadata": {},
   "outputs": [
    {
     "name": "stdout",
     "output_type": "stream",
     "text": [
      "• Grid Instances:  10\n"
     ]
    }
   ],
   "source": [
    "# Get Input Data\n",
    "x_Grid = np.arange(start=-Max_Grid,\n",
    "                   stop=Max_Grid,\n",
    "                   step=(2*Max_Grid/N_Grid_Finess))\n",
    "\n",
    "# Get Number of Instances in Grid\n",
    "N_Grid_Instances = len(x_Grid)\n",
    "\n",
    "# Updater User\n",
    "print(\"\\u2022 Grid Instances: \", N_Grid_Instances)"
   ]
  },
  {
   "cell_type": "markdown",
   "metadata": {},
   "source": [
    "### Initialize Counting Parameters\n",
    "Initialize the \"conting\" type parameters which will help us to determine the length of loops and to intialize object's size later on.  "
   ]
  },
  {
   "cell_type": "code",
   "execution_count": 8,
   "metadata": {},
   "outputs": [
    {
     "name": "stdout",
     "output_type": "stream",
     "text": [
      "• 10  Centers will be produced; from a total datasize of:  10 !  (That's  1  percent).\n",
      "• Each Wasserstein-1 Ball should contain:  1 elements from the training set.\n"
     ]
    }
   ],
   "source": [
    "# Get Internal (Counting) Parameters\n",
    "N_Quantizers_to_parameterize = round(Quantization_Proportion*N_Grid_Finess)\n",
    "N_Elements_Per_Cluster = int(round(N_Grid_Instances/N_Quantizers_to_parameterize))\n",
    "\n",
    "# Update User\n",
    "print(\"\\u2022\",N_Quantizers_to_parameterize,\" Centers will be produced; from a total datasize of: \",N_Grid_Finess,\n",
    "      \"!  (That's \",Quantization_Proportion,\n",
    "      \" percent).\")\n",
    "print(\"\\u2022 Each Wasserstein-1 Ball should contain: \",\n",
    "      N_Elements_Per_Cluster, \n",
    "      \"elements from the training set.\")"
   ]
  },
  {
   "cell_type": "markdown",
   "metadata": {},
   "source": [
    "### Set Seed"
   ]
  },
  {
   "cell_type": "code",
   "execution_count": 9,
   "metadata": {},
   "outputs": [],
   "source": [
    "random.seed(2021)\n",
    "np.random.seed(2021)\n",
    "tf.random.set_seed(2021)"
   ]
  },
  {
   "cell_type": "markdown",
   "metadata": {},
   "source": [
    "---"
   ]
  },
  {
   "cell_type": "markdown",
   "metadata": {},
   "source": [
    "### Simulate Path\n",
    "$d X_t = \\alpha(t,x)dt + \\beta(t,x)dW_t ;\\qquad X_0 =x$"
   ]
  },
  {
   "cell_type": "markdown",
   "metadata": {},
   "source": [
    "### Drift"
   ]
  },
  {
   "cell_type": "code",
   "execution_count": 10,
   "metadata": {},
   "outputs": [],
   "source": [
    "def alpha(t,x):\n",
    "    return 0#np.sin(math.pi*t)"
   ]
  },
  {
   "cell_type": "markdown",
   "metadata": {},
   "source": [
    "### Volatility"
   ]
  },
  {
   "cell_type": "code",
   "execution_count": 11,
   "metadata": {},
   "outputs": [],
   "source": [
    "def beta(t,x):\n",
    "    return 1#(t+1)**.5"
   ]
  },
  {
   "cell_type": "markdown",
   "metadata": {},
   "source": [
    "---"
   ]
  },
  {
   "cell_type": "code",
   "execution_count": 12,
   "metadata": {},
   "outputs": [],
   "source": [
    "# Initialize List of Barycenters\n",
    "Wasserstein_Barycenters = []\n",
    "# Initialize Terminal-Time Empirical Measures\n",
    "measures_locations_list = []\n",
    "measures_weights_list = []\n",
    "# Initialize (Empirical) Weight(s)\n",
    "measure_weights = np.ones(N_Monte_Carlo_Samples)/N_Monte_Carlo_Samples\n",
    "# Initialize Quantizer\n",
    "Init_Quantizer_generic = np.ones(N_Monte_Carlo_Samples)/N_Monte_Carlo_Samples"
   ]
  },
  {
   "cell_type": "markdown",
   "metadata": {},
   "source": [
    "## Generate $\\{\\hat{\\nu}^{N}_{T,x}\\}_{x \\in \\mathbb{X}}$ Build Wasserstein Cover"
   ]
  },
  {
   "cell_type": "markdown",
   "metadata": {},
   "source": [
    "#### Get Data"
   ]
  },
  {
   "cell_type": "code",
   "execution_count": 13,
   "metadata": {},
   "outputs": [
    {
     "name": "stderr",
     "output_type": "stream",
     "text": [
      "100%|██████████| 10/10 [00:00<00:00, 13688.98it/s]"
     ]
    },
    {
     "name": "stdout",
     "output_type": "stream",
     "text": [
      "Current Monte-Carlo Step:\n",
      "Done Simulation Step\n"
     ]
    },
    {
     "name": "stderr",
     "output_type": "stream",
     "text": [
      "\n"
     ]
    }
   ],
   "source": [
    "# Update User\n",
    "print(\"Current Monte-Carlo Step:\")\n",
    "\n",
    "# Perform Monte-Carlo Data Generation\n",
    "for i in tqdm(range(N_Grid_Instances)):\n",
    "    # Get Terminal Distribution Shape\n",
    "    ###\n",
    "    # DIRECT SAMPLING\n",
    "    measures_locations_loop = (np.random.normal(x_Grid[i],np.abs(x_Grid[i]), N_Monte_Carlo_Samples).reshape(-1,))/N_Monte_Carlo_Samples\n",
    "    \n",
    "    # Append to List\n",
    "    measures_locations_list.append(measures_locations_loop.reshape(-1,1))\n",
    "    measures_weights_list.append(measure_weights)\n",
    "    \n",
    "# Update User\n",
    "print(\"Done Simulation Step\")"
   ]
  },
  {
   "cell_type": "markdown",
   "metadata": {},
   "source": [
    "#### Get Cover"
   ]
  },
  {
   "cell_type": "markdown",
   "metadata": {},
   "source": [
    "## Get \"Sample Barycenters\":\n",
    "Let $\\{\\mu_n\\}_{n=1}^N\\subset\\mathcal{P}_1(\\mathbb{R}^d)$.  Then, the *sample barycenter* is defined by:\n",
    "1. $\\mathcal{M}^{(0)}\\triangleq \\left\\{\\hat{\\mu}_n\\right\\}_{n=1}^N$,\n",
    "2. For $1\\leq n\\leq \\mbox{N sample barycenters}$: \n",
    "    - $\n",
    "\\mu^{\\star}\\in \\underset{\\tilde{\\mu}\\in \\mathcal{M}^{(n)}}{\\operatorname{argmin}}\\, \\sum_{n=1}^N \\mathcal{W}_1\\left(\\mu^{\\star},\\mu_n\\right),\n",
    "$\n",
    "    - $\\mathcal{M}^{(n)}\\triangleq \\mathcal{M}^{(n-1)} - \\{\\mu^{\\star}\\},$\n",
    "*i.e., the closest generated measure form the random sample to all other elements of the random sample.*\n",
    "\n",
    "---\n",
    "**Note:** *We simplify the computational burden of getting the correct classes by putting this right into this next loop.*\n",
    "\n",
    "---"
   ]
  },
  {
   "cell_type": "markdown",
   "metadata": {},
   "source": [
    "## Build Dissimilarity (Distance) Matrix\n",
    "*In this step we build a dissimularity matrix of the dataset on the Wasserstein-1 space.  Namely:*\n",
    "$$\n",
    "\\operatorname{Mat}_{\\# \\mathbb{X},\\# \\mathbb{X}}\\left(\\mathbb{R}\\right)\\ni D; \\text{ where}\\qquad \\, D_{i,j}\\triangleq \\mathcal{W}_1\\left(f(x_i),f(x_j)\\right)\n",
    ";\n",
    "$$\n",
    "*where $f\\in C\\left((\\mathcal{X},\\mathcal{P}_1(\\mathcal{Y})\\right)$ is the \"target\" function we are learning.*\n",
    "\n",
    "**Note**: *Computing the dissimularity matrix is the most costly part of the entire algorithm with a complexity of at-most $\\mathcal{O}\\left(E_{W} \\# \\mathbb{X})^2\\right)$ where $E_W$ denotes the complexity of a single Wasserstein-1 evaluation between two elements of the dataset.*"
   ]
  },
  {
   "cell_type": "code",
   "execution_count": 256,
   "metadata": {},
   "outputs": [
    {
     "name": "stderr",
     "output_type": "stream",
     "text": [
      "100%|██████████| 10/10 [00:00<00:00, 549.91it/s]"
     ]
    },
    {
     "name": "stdout",
     "output_type": "stream",
     "text": [
      "😚  Begin Building Distance Matrix  😚\n",
      "😀  Done Building Distance Matrix 😀 !\n"
     ]
    },
    {
     "name": "stderr",
     "output_type": "stream",
     "text": [
      "\n"
     ]
    }
   ],
   "source": [
    "# Initialize Disimilarity Matrix\n",
    "Dissimilarity_matrix_ot = np.zeros([N_Grid_Instances,N_Grid_Instances])\n",
    "\n",
    "\n",
    "# Update User\n",
    "print(\"\\U0001F61A\",\" Begin Building Distance Matrix\",\" \\U0001F61A\")\n",
    "# Build Disimilarity Matrix\n",
    "for i in tqdm(range(N_Grid_Instances)):\n",
    "    for j in range(N_Grid_Instances):\n",
    "        Dissimilarity_matrix_ot[i,j] = ot.emd2_1d(measures_locations_list[j],\n",
    "                                                  measures_locations_list[i])\n",
    "# Update User\n",
    "print(\"\\U0001F600\",\" Done Building Distance Matrix\",\"\\U0001F600\",\"!\")"
   ]
  },
  {
   "cell_type": "markdown",
   "metadata": {},
   "source": [
    "## Initialize Quantities to Loop Over"
   ]
  },
  {
   "cell_type": "markdown",
   "metadata": {},
   "source": [
    "## Get \"Sample Barycenters\" and Generate Classes"
   ]
  },
  {
   "cell_type": "code",
   "execution_count": 257,
   "metadata": {},
   "outputs": [],
   "source": [
    "# Initialize Locations Matrix (Internal to Loop)\n",
    "measures_locations_list_current = copy.copy(measures_locations_list)\n",
    "Dissimilarity_matrix_ot_current = copy.copy(Dissimilarity_matrix_ot)\n",
    "Barycenters_sample = []\n",
    "Barycenters_indices = np.array([])\n",
    "running_infinity_indices = np.array([])\n",
    "Distances_Loop = Dissimilarity_matrix_ot_current.sum(axis=1)\n",
    "\n",
    "# Initialize Classes (In-Sample)\n",
    "Classifer_Wasserstein_Centers = np.zeros([N_Grid_Instances,N_Quantizers_to_parameterize])\n",
    "\n",
    "# i=0"
   ]
  },
  {
   "cell_type": "code",
   "execution_count": 259,
   "metadata": {},
   "outputs": [
    {
     "name": "stderr",
     "output_type": "stream",
     "text": [
      "100%|██████████| 10/10 [00:00<00:00, 26596.73it/s]"
     ]
    },
    {
     "name": "stdout",
     "output_type": "stream",
     "text": [
      "😚  Begin Identifying Sample Barycenters  😚\n",
      "😀  Done Identifying Sample Barycenters 😀 !\n"
     ]
    },
    {
     "name": "stderr",
     "output_type": "stream",
     "text": [
      "\n"
     ]
    }
   ],
   "source": [
    "# Update User\n",
    "print(\"\\U0001F61A\",\" Begin Identifying Sample Barycenters\",\" \\U0001F61A\")\n",
    "\n",
    "# Identify Sample Barycenters\n",
    "for i in tqdm(range(N_Quantizers_to_parameterize)):    \n",
    "    # GET BARYCENTER #\n",
    "    #----------------#\n",
    "    ## Identify row with minimum total distance\n",
    "    Barycenter_index = int(Distances_Loop.argsort()[:1][0])\n",
    "    ## Get Barycenter\n",
    "    ## Update Barycenters Array ##\n",
    "    #----------------------------#\n",
    "    ### Get next Barycenter\n",
    "    new_barycenter_loop = measures_locations_list_current[Barycenter_index].reshape(-1,1)\n",
    "    ### Update Array of Barycenters\n",
    "    if i == 0:\n",
    "        # Initialize Barycenters Array\n",
    "        Barycenters_Array = new_barycenter_loop\n",
    "    else:\n",
    "        # Populate Barycenters Array\n",
    "        Barycenters_Array = np.append(Barycenters_Array,new_barycenter_loop,axis=-1)\n",
    "\n",
    "    # GET CLUSTER #\n",
    "    #-------------#\n",
    "    # Identify Cluster for this barycenter (which elements are closest to it)\n",
    "    Cluster_indices = (Dissimilarity_matrix_ot_current[:,Barycenter_index]).argsort()[:N_Elements_Per_Cluster]\n",
    "    ## UPDATES Set  M^{(n)}  ##\n",
    "    #-------------------------#\n",
    "    Dissimilarity_matrix_ot_current[Barycenter_index,:] = 0\n",
    "    # Barycenters_indices = np.append(Barycenters_indices,Barycenter_index) # HERE!\n",
    "    # Distance-Based Sorting\n",
    "    Distances_Loop[Barycenter_index] = math.inf\n",
    "\n",
    "    # # Update Classes\n",
    "    Classifer_Wasserstein_Centers[i,Barycenter_index] = 1\n",
    "\n",
    "# Update User\n",
    "print(\"\\U0001F600\",\" Done Identifying Sample Barycenters\",\"\\U0001F600\",\"!\")"
   ]
  },
  {
   "cell_type": "markdown",
   "metadata": {},
   "source": [
    "---"
   ]
  },
  {
   "cell_type": "markdown",
   "metadata": {},
   "source": [
    "### Train Classifier"
   ]
  },
  {
   "cell_type": "markdown",
   "metadata": {},
   "source": [
    "In this step, we train a deep (feed-forward) classifier:\n",
    "$$\n",
    "\\hat{f}\\triangleq \\operatorname{Softmax}_N\\circ W_J\\circ \\sigma \\bullet \\dots \\sigma \\bullet W_1,\n",
    "$$\n",
    "to identify which barycenter we are closest to."
   ]
  },
  {
   "cell_type": "markdown",
   "metadata": {},
   "source": [
    "#### Deep Classifier\n",
    "Prepare Labels/Classes"
   ]
  },
  {
   "cell_type": "code",
   "execution_count": 261,
   "metadata": {},
   "outputs": [],
   "source": [
    "# Time-Elapsed Training Deep Classifier\n",
    "Type_A_timer_Begin = time.time()"
   ]
  },
  {
   "cell_type": "markdown",
   "metadata": {},
   "source": [
    "Re-Load Grid and Redefine Relevant Input/Output dimensions in dictionary."
   ]
  },
  {
   "cell_type": "markdown",
   "metadata": {},
   "source": [
    "#### Train Deep Classifier"
   ]
  },
  {
   "cell_type": "code",
   "execution_count": 262,
   "metadata": {},
   "outputs": [
    {
     "name": "stdout",
     "output_type": "stream",
     "text": [
      "Deep Feature Builder - Ready\n",
      "Deep Classifier - Ready\n"
     ]
    }
   ],
   "source": [
    "# # Re-Load Hyper-parameter Grid\n",
    "# exec(open('Grid_Enhanced_Network.py').read())\n",
    "# # Re-Load Helper Function(s)\n",
    "# exec(open('Helper_Functions.py').read())\n",
    "%run ParaGAN_Backend.ipynb\n",
    "\n",
    "# Redefine (Dimension-related) Elements of Grid\n",
    "param_grid_Deep_Classifier['input_dim'] = [1]\n",
    "param_grid_Deep_Classifier['output_dim'] = [N_Quantizers_to_parameterize]"
   ]
  },
  {
   "cell_type": "code",
   "execution_count": 263,
   "metadata": {},
   "outputs": [
    {
     "name": "stdout",
     "output_type": "stream",
     "text": [
      "Fitting 2 folds for each of 1 candidates, totalling 2 fits\n"
     ]
    },
    {
     "name": "stderr",
     "output_type": "stream",
     "text": [
      "[Parallel(n_jobs=4)]: Using backend LokyBackend with 4 concurrent workers.\n",
      "[Parallel(n_jobs=4)]: Done   2 out of   2 | elapsed:    4.6s remaining:    0.0s\n",
      "[Parallel(n_jobs=4)]: Done   2 out of   2 | elapsed:    4.6s finished\n"
     ]
    },
    {
     "name": "stdout",
     "output_type": "stream",
     "text": [
      "Epoch 1/400\n",
      "1/1 [==============================] - 0s 1ms/step - loss: 0.3235 - accuracy: 0.1000\n",
      "Epoch 2/400\n",
      "1/1 [==============================] - 0s 1ms/step - loss: 0.3195 - accuracy: 0.2000\n",
      "Epoch 3/400\n",
      "1/1 [==============================] - 0s 2ms/step - loss: 0.3158 - accuracy: 0.2000\n",
      "Epoch 4/400\n",
      "1/1 [==============================] - 0s 3ms/step - loss: 0.3124 - accuracy: 0.2000\n",
      "Epoch 5/400\n",
      "1/1 [==============================] - 0s 1ms/step - loss: 0.3091 - accuracy: 0.2000\n",
      "Epoch 6/400\n",
      "1/1 [==============================] - 0s 4ms/step - loss: 0.3059 - accuracy: 0.2000\n",
      "Epoch 7/400\n",
      "1/1 [==============================] - 0s 1ms/step - loss: 0.3028 - accuracy: 0.3000\n",
      "Epoch 8/400\n",
      "1/1 [==============================] - 0s 1ms/step - loss: 0.2998 - accuracy: 0.3000\n",
      "Epoch 9/400\n",
      "1/1 [==============================] - 0s 3ms/step - loss: 0.2968 - accuracy: 0.3000\n",
      "Epoch 10/400\n",
      "1/1 [==============================] - 0s 2ms/step - loss: 0.2938 - accuracy: 0.3000\n",
      "Epoch 11/400\n",
      "1/1 [==============================] - 0s 1ms/step - loss: 0.2909 - accuracy: 0.3000\n",
      "Epoch 12/400\n",
      "1/1 [==============================] - 0s 1ms/step - loss: 0.2880 - accuracy: 0.3000\n",
      "Epoch 13/400\n",
      "1/1 [==============================] - 0s 1ms/step - loss: 0.2851 - accuracy: 0.3000\n",
      "Epoch 14/400\n",
      "1/1 [==============================] - 0s 1ms/step - loss: 0.2824 - accuracy: 0.3000\n",
      "Epoch 15/400\n",
      "1/1 [==============================] - 0s 1ms/step - loss: 0.2796 - accuracy: 0.3000\n",
      "Epoch 16/400\n",
      "1/1 [==============================] - 0s 2ms/step - loss: 0.2770 - accuracy: 0.3000\n",
      "Epoch 17/400\n",
      "1/1 [==============================] - 0s 988us/step - loss: 0.2744 - accuracy: 0.3000\n",
      "Epoch 18/400\n",
      "1/1 [==============================] - 0s 1ms/step - loss: 0.2719 - accuracy: 0.3000\n",
      "Epoch 19/400\n",
      "1/1 [==============================] - 0s 2ms/step - loss: 0.2696 - accuracy: 0.3000\n",
      "Epoch 20/400\n",
      "1/1 [==============================] - 0s 1ms/step - loss: 0.2673 - accuracy: 0.3000\n",
      "Epoch 21/400\n",
      "1/1 [==============================] - 0s 1ms/step - loss: 0.2652 - accuracy: 0.3000\n",
      "Epoch 22/400\n",
      "1/1 [==============================] - 0s 2ms/step - loss: 0.2631 - accuracy: 0.3000\n",
      "Epoch 23/400\n",
      "1/1 [==============================] - 0s 3ms/step - loss: 0.2612 - accuracy: 0.3000\n",
      "Epoch 24/400\n",
      "1/1 [==============================] - 0s 3ms/step - loss: 0.2594 - accuracy: 0.3000\n",
      "Epoch 25/400\n",
      "1/1 [==============================] - 0s 2ms/step - loss: 0.2577 - accuracy: 0.3000\n",
      "Epoch 26/400\n",
      "1/1 [==============================] - 0s 4ms/step - loss: 0.2559 - accuracy: 0.3000\n",
      "Epoch 27/400\n",
      "1/1 [==============================] - 0s 2ms/step - loss: 0.2543 - accuracy: 0.3000\n",
      "Epoch 28/400\n",
      "1/1 [==============================] - 0s 1ms/step - loss: 0.2527 - accuracy: 0.3000\n",
      "Epoch 29/400\n",
      "1/1 [==============================] - 0s 2ms/step - loss: 0.2512 - accuracy: 0.3000\n",
      "Epoch 30/400\n",
      "1/1 [==============================] - 0s 1ms/step - loss: 0.2497 - accuracy: 0.3000\n",
      "Epoch 31/400\n",
      "1/1 [==============================] - 0s 5ms/step - loss: 0.2483 - accuracy: 0.3000\n",
      "Epoch 32/400\n",
      "1/1 [==============================] - 0s 1ms/step - loss: 0.2469 - accuracy: 0.3000\n",
      "Epoch 33/400\n",
      "1/1 [==============================] - 0s 4ms/step - loss: 0.2455 - accuracy: 0.3000\n",
      "Epoch 34/400\n",
      "1/1 [==============================] - 0s 1ms/step - loss: 0.2443 - accuracy: 0.3000\n",
      "Epoch 35/400\n",
      "1/1 [==============================] - 0s 1ms/step - loss: 0.2430 - accuracy: 0.3000\n",
      "Epoch 36/400\n",
      "1/1 [==============================] - 0s 1ms/step - loss: 0.2418 - accuracy: 0.3000\n",
      "Epoch 37/400\n",
      "1/1 [==============================] - 0s 2ms/step - loss: 0.2406 - accuracy: 0.3000\n",
      "Epoch 38/400\n",
      "1/1 [==============================] - 0s 4ms/step - loss: 0.2394 - accuracy: 0.3000\n",
      "Epoch 39/400\n",
      "1/1 [==============================] - 0s 5ms/step - loss: 0.2382 - accuracy: 0.3000\n",
      "Epoch 40/400\n",
      "1/1 [==============================] - 0s 5ms/step - loss: 0.2370 - accuracy: 0.3000\n",
      "Epoch 41/400\n",
      "1/1 [==============================] - 0s 1ms/step - loss: 0.2359 - accuracy: 0.3000\n",
      "Epoch 42/400\n",
      "1/1 [==============================] - 0s 4ms/step - loss: 0.2348 - accuracy: 0.3000\n",
      "Epoch 43/400\n",
      "1/1 [==============================] - 0s 1ms/step - loss: 0.2336 - accuracy: 0.3000\n",
      "Epoch 44/400\n",
      "1/1 [==============================] - 0s 2ms/step - loss: 0.2325 - accuracy: 0.3000\n",
      "Epoch 45/400\n",
      "1/1 [==============================] - 0s 954us/step - loss: 0.2313 - accuracy: 0.3000\n",
      "Epoch 46/400\n",
      "1/1 [==============================] - 0s 2ms/step - loss: 0.2302 - accuracy: 0.3000\n",
      "Epoch 47/400\n",
      "1/1 [==============================] - 0s 2ms/step - loss: 0.2290 - accuracy: 0.3000\n",
      "Epoch 48/400\n",
      "1/1 [==============================] - 0s 2ms/step - loss: 0.2278 - accuracy: 0.4000\n",
      "Epoch 49/400\n",
      "1/1 [==============================] - 0s 5ms/step - loss: 0.2265 - accuracy: 0.4000\n",
      "Epoch 50/400\n",
      "1/1 [==============================] - 0s 2ms/step - loss: 0.2252 - accuracy: 0.4000\n",
      "Epoch 51/400\n",
      "1/1 [==============================] - 0s 1ms/step - loss: 0.2239 - accuracy: 0.5000\n",
      "Epoch 52/400\n",
      "1/1 [==============================] - 0s 2ms/step - loss: 0.2226 - accuracy: 0.5000\n",
      "Epoch 53/400\n",
      "1/1 [==============================] - 0s 4ms/step - loss: 0.2212 - accuracy: 0.5000\n",
      "Epoch 54/400\n",
      "1/1 [==============================] - 0s 2ms/step - loss: 0.2198 - accuracy: 0.5000\n",
      "Epoch 55/400\n",
      "1/1 [==============================] - 0s 2ms/step - loss: 0.2184 - accuracy: 0.5000\n",
      "Epoch 56/400\n",
      "1/1 [==============================] - 0s 1ms/step - loss: 0.2169 - accuracy: 0.5000\n",
      "Epoch 57/400\n",
      "1/1 [==============================] - 0s 2ms/step - loss: 0.2154 - accuracy: 0.5000\n",
      "Epoch 58/400\n",
      "1/1 [==============================] - 0s 2ms/step - loss: 0.2138 - accuracy: 0.5000\n",
      "Epoch 59/400\n",
      "1/1 [==============================] - 0s 1ms/step - loss: 0.2122 - accuracy: 0.5000\n",
      "Epoch 60/400\n",
      "1/1 [==============================] - 0s 2ms/step - loss: 0.2105 - accuracy: 0.5000\n",
      "Epoch 61/400\n",
      "1/1 [==============================] - 0s 1ms/step - loss: 0.2088 - accuracy: 0.5000\n",
      "Epoch 62/400\n",
      "1/1 [==============================] - 0s 3ms/step - loss: 0.2071 - accuracy: 0.5000\n",
      "Epoch 63/400\n",
      "1/1 [==============================] - 0s 2ms/step - loss: 0.2053 - accuracy: 0.5000\n",
      "Epoch 64/400\n",
      "1/1 [==============================] - 0s 3ms/step - loss: 0.2034 - accuracy: 0.5000\n",
      "Epoch 65/400\n",
      "1/1 [==============================] - 0s 2ms/step - loss: 0.2015 - accuracy: 0.5000\n",
      "Epoch 66/400\n",
      "1/1 [==============================] - 0s 2ms/step - loss: 0.1995 - accuracy: 0.5000\n",
      "Epoch 67/400\n",
      "1/1 [==============================] - 0s 1ms/step - loss: 0.1976 - accuracy: 0.6000\n",
      "Epoch 68/400\n",
      "1/1 [==============================] - 0s 2ms/step - loss: 0.1955 - accuracy: 0.6000\n",
      "Epoch 69/400\n",
      "1/1 [==============================] - 0s 2ms/step - loss: 0.1934 - accuracy: 0.6000\n",
      "Epoch 70/400\n",
      "1/1 [==============================] - 0s 2ms/step - loss: 0.1913 - accuracy: 0.6000\n",
      "Epoch 71/400\n",
      "1/1 [==============================] - 0s 2ms/step - loss: 0.1891 - accuracy: 0.6000\n",
      "Epoch 72/400\n",
      "1/1 [==============================] - 0s 1ms/step - loss: 0.1869 - accuracy: 0.6000\n",
      "Epoch 73/400\n",
      "1/1 [==============================] - 0s 1ms/step - loss: 0.1847 - accuracy: 0.6000\n",
      "Epoch 74/400\n",
      "1/1 [==============================] - 0s 1ms/step - loss: 0.1824 - accuracy: 0.7000\n",
      "Epoch 75/400\n",
      "1/1 [==============================] - 0s 1ms/step - loss: 0.1802 - accuracy: 0.7000\n",
      "Epoch 76/400\n",
      "1/1 [==============================] - 0s 1ms/step - loss: 0.1779 - accuracy: 0.7000\n",
      "Epoch 77/400\n",
      "1/1 [==============================] - 0s 1ms/step - loss: 0.1756 - accuracy: 0.7000\n",
      "Epoch 78/400\n",
      "1/1 [==============================] - 0s 1ms/step - loss: 0.1733 - accuracy: 0.7000\n",
      "Epoch 79/400\n",
      "1/1 [==============================] - 0s 3ms/step - loss: 0.1711 - accuracy: 0.7000\n",
      "Epoch 80/400\n",
      "1/1 [==============================] - 0s 1ms/step - loss: 0.1688 - accuracy: 0.7000\n",
      "Epoch 81/400\n",
      "1/1 [==============================] - 0s 3ms/step - loss: 0.1665 - accuracy: 0.7000\n",
      "Epoch 82/400\n",
      "1/1 [==============================] - 0s 973us/step - loss: 0.1642 - accuracy: 0.7000\n",
      "Epoch 83/400\n",
      "1/1 [==============================] - 0s 1ms/step - loss: 0.1620 - accuracy: 0.7000\n",
      "Epoch 84/400\n"
     ]
    },
    {
     "name": "stdout",
     "output_type": "stream",
     "text": [
      "1/1 [==============================] - 0s 2ms/step - loss: 0.1597 - accuracy: 0.7000\n",
      "Epoch 85/400\n",
      "1/1 [==============================] - 0s 1ms/step - loss: 0.1575 - accuracy: 0.7000\n",
      "Epoch 86/400\n",
      "1/1 [==============================] - 0s 1ms/step - loss: 0.1552 - accuracy: 0.7000\n",
      "Epoch 87/400\n",
      "1/1 [==============================] - 0s 1ms/step - loss: 0.1530 - accuracy: 0.7000\n",
      "Epoch 88/400\n",
      "1/1 [==============================] - 0s 1ms/step - loss: 0.1508 - accuracy: 0.7000\n",
      "Epoch 89/400\n",
      "1/1 [==============================] - 0s 1ms/step - loss: 0.1486 - accuracy: 0.7000\n",
      "Epoch 90/400\n",
      "1/1 [==============================] - 0s 2ms/step - loss: 0.1464 - accuracy: 0.7000\n",
      "Epoch 91/400\n",
      "1/1 [==============================] - 0s 2ms/step - loss: 0.1443 - accuracy: 0.8000\n",
      "Epoch 92/400\n",
      "1/1 [==============================] - 0s 3ms/step - loss: 0.1421 - accuracy: 0.8000\n",
      "Epoch 93/400\n",
      "1/1 [==============================] - 0s 1ms/step - loss: 0.1399 - accuracy: 0.8000\n",
      "Epoch 94/400\n",
      "1/1 [==============================] - 0s 3ms/step - loss: 0.1378 - accuracy: 0.8000\n",
      "Epoch 95/400\n",
      "1/1 [==============================] - 0s 2ms/step - loss: 0.1356 - accuracy: 0.8000\n",
      "Epoch 96/400\n",
      "1/1 [==============================] - 0s 4ms/step - loss: 0.1335 - accuracy: 0.8000\n",
      "Epoch 97/400\n",
      "1/1 [==============================] - 0s 2ms/step - loss: 0.1315 - accuracy: 0.8000\n",
      "Epoch 98/400\n",
      "1/1 [==============================] - 0s 2ms/step - loss: 0.1294 - accuracy: 0.8000\n",
      "Epoch 99/400\n",
      "1/1 [==============================] - 0s 1ms/step - loss: 0.1274 - accuracy: 0.8000\n",
      "Epoch 100/400\n",
      "1/1 [==============================] - 0s 2ms/step - loss: 0.1254 - accuracy: 0.8000\n",
      "Epoch 101/400\n",
      "1/1 [==============================] - 0s 1ms/step - loss: 0.1234 - accuracy: 0.8000\n",
      "Epoch 102/400\n",
      "1/1 [==============================] - 0s 1ms/step - loss: 0.1214 - accuracy: 0.8000\n",
      "Epoch 103/400\n",
      "1/1 [==============================] - 0s 1ms/step - loss: 0.1195 - accuracy: 0.8000\n",
      "Epoch 104/400\n",
      "1/1 [==============================] - 0s 1ms/step - loss: 0.1175 - accuracy: 0.8000\n",
      "Epoch 105/400\n",
      "1/1 [==============================] - 0s 6ms/step - loss: 0.1157 - accuracy: 0.8000\n",
      "Epoch 106/400\n",
      "1/1 [==============================] - 0s 2ms/step - loss: 0.1138 - accuracy: 0.8000\n",
      "Epoch 107/400\n",
      "1/1 [==============================] - 0s 1ms/step - loss: 0.1120 - accuracy: 0.8000\n",
      "Epoch 108/400\n",
      "1/1 [==============================] - 0s 2ms/step - loss: 0.1102 - accuracy: 0.8000\n",
      "Epoch 109/400\n",
      "1/1 [==============================] - 0s 4ms/step - loss: 0.1084 - accuracy: 0.9000\n",
      "Epoch 110/400\n",
      "1/1 [==============================] - 0s 2ms/step - loss: 0.1066 - accuracy: 0.9000\n",
      "Epoch 111/400\n",
      "1/1 [==============================] - 0s 4ms/step - loss: 0.1049 - accuracy: 0.9000\n",
      "Epoch 112/400\n",
      "1/1 [==============================] - 0s 2ms/step - loss: 0.1032 - accuracy: 0.9000\n",
      "Epoch 113/400\n",
      "1/1 [==============================] - 0s 5ms/step - loss: 0.1014 - accuracy: 0.9000\n",
      "Epoch 114/400\n",
      "1/1 [==============================] - 0s 2ms/step - loss: 0.0997 - accuracy: 0.9000\n",
      "Epoch 115/400\n",
      "1/1 [==============================] - 0s 1ms/step - loss: 0.0981 - accuracy: 0.9000\n",
      "Epoch 116/400\n",
      "1/1 [==============================] - 0s 1ms/step - loss: 0.0964 - accuracy: 0.9000\n",
      "Epoch 117/400\n",
      "1/1 [==============================] - 0s 2ms/step - loss: 0.0948 - accuracy: 0.9000\n",
      "Epoch 118/400\n",
      "1/1 [==============================] - 0s 1ms/step - loss: 0.0932 - accuracy: 0.9000\n",
      "Epoch 119/400\n",
      "1/1 [==============================] - 0s 5ms/step - loss: 0.0916 - accuracy: 0.9000\n",
      "Epoch 120/400\n",
      "1/1 [==============================] - 0s 3ms/step - loss: 0.0900 - accuracy: 0.9000\n",
      "Epoch 121/400\n",
      "1/1 [==============================] - 0s 2ms/step - loss: 0.0884 - accuracy: 0.9000\n",
      "Epoch 122/400\n",
      "1/1 [==============================] - 0s 3ms/step - loss: 0.0869 - accuracy: 0.9000\n",
      "Epoch 123/400\n",
      "1/1 [==============================] - 0s 2ms/step - loss: 0.0854 - accuracy: 0.9000\n",
      "Epoch 124/400\n",
      "1/1 [==============================] - 0s 2ms/step - loss: 0.0839 - accuracy: 0.9000\n",
      "Epoch 125/400\n",
      "1/1 [==============================] - 0s 1ms/step - loss: 0.0824 - accuracy: 0.9000\n",
      "Epoch 126/400\n",
      "1/1 [==============================] - 0s 1ms/step - loss: 0.0809 - accuracy: 0.9000\n",
      "Epoch 127/400\n",
      "1/1 [==============================] - 0s 2ms/step - loss: 0.0794 - accuracy: 0.9000\n",
      "Epoch 128/400\n",
      "1/1 [==============================] - 0s 2ms/step - loss: 0.0780 - accuracy: 0.9000\n",
      "Epoch 129/400\n",
      "1/1 [==============================] - 0s 2ms/step - loss: 0.0766 - accuracy: 0.9000\n",
      "Epoch 130/400\n",
      "1/1 [==============================] - 0s 2ms/step - loss: 0.0751 - accuracy: 0.9000\n",
      "Epoch 131/400\n",
      "1/1 [==============================] - 0s 2ms/step - loss: 0.0738 - accuracy: 0.9000\n",
      "Epoch 132/400\n",
      "1/1 [==============================] - 0s 1ms/step - loss: 0.0724 - accuracy: 0.9000\n",
      "Epoch 133/400\n",
      "1/1 [==============================] - 0s 1ms/step - loss: 0.0711 - accuracy: 0.9000\n",
      "Epoch 134/400\n",
      "1/1 [==============================] - 0s 3ms/step - loss: 0.0697 - accuracy: 1.0000\n",
      "Epoch 135/400\n",
      "1/1 [==============================] - 0s 2ms/step - loss: 0.0684 - accuracy: 1.0000\n",
      "Epoch 136/400\n",
      "1/1 [==============================] - 0s 2ms/step - loss: 0.0671 - accuracy: 1.0000\n",
      "Epoch 137/400\n",
      "1/1 [==============================] - 0s 2ms/step - loss: 0.0658 - accuracy: 1.0000\n",
      "Epoch 138/400\n",
      "1/1 [==============================] - 0s 2ms/step - loss: 0.0646 - accuracy: 1.0000\n",
      "Epoch 139/400\n",
      "1/1 [==============================] - 0s 2ms/step - loss: 0.0633 - accuracy: 1.0000\n",
      "Epoch 140/400\n",
      "1/1 [==============================] - 0s 1ms/step - loss: 0.0621 - accuracy: 1.0000\n",
      "Epoch 141/400\n",
      "1/1 [==============================] - 0s 3ms/step - loss: 0.0608 - accuracy: 1.0000\n",
      "Epoch 142/400\n",
      "1/1 [==============================] - 0s 2ms/step - loss: 0.0596 - accuracy: 1.0000\n",
      "Epoch 143/400\n",
      "1/1 [==============================] - 0s 2ms/step - loss: 0.0584 - accuracy: 1.0000\n",
      "Epoch 144/400\n",
      "1/1 [==============================] - 0s 1ms/step - loss: 0.0573 - accuracy: 1.0000\n",
      "Epoch 145/400\n",
      "1/1 [==============================] - 0s 1ms/step - loss: 0.0561 - accuracy: 1.0000\n",
      "Epoch 146/400\n",
      "1/1 [==============================] - 0s 2ms/step - loss: 0.0550 - accuracy: 1.0000\n",
      "Epoch 147/400\n",
      "1/1 [==============================] - 0s 3ms/step - loss: 0.0539 - accuracy: 1.0000\n",
      "Epoch 148/400\n",
      "1/1 [==============================] - 0s 2ms/step - loss: 0.0528 - accuracy: 1.0000\n",
      "Epoch 149/400\n",
      "1/1 [==============================] - 0s 2ms/step - loss: 0.0517 - accuracy: 1.0000\n",
      "Epoch 150/400\n",
      "1/1 [==============================] - 0s 4ms/step - loss: 0.0506 - accuracy: 1.0000\n",
      "Epoch 151/400\n",
      "1/1 [==============================] - 0s 2ms/step - loss: 0.0496 - accuracy: 1.0000\n",
      "Epoch 152/400\n",
      "1/1 [==============================] - 0s 2ms/step - loss: 0.0485 - accuracy: 1.0000\n",
      "Epoch 153/400\n",
      "1/1 [==============================] - 0s 2ms/step - loss: 0.0475 - accuracy: 1.0000\n",
      "Epoch 154/400\n",
      "1/1 [==============================] - 0s 4ms/step - loss: 0.0465 - accuracy: 1.0000\n",
      "Epoch 155/400\n",
      "1/1 [==============================] - 0s 2ms/step - loss: 0.0455 - accuracy: 1.0000\n",
      "Epoch 156/400\n",
      "1/1 [==============================] - 0s 1ms/step - loss: 0.0446 - accuracy: 1.0000\n",
      "Epoch 157/400\n",
      "1/1 [==============================] - 0s 2ms/step - loss: 0.0436 - accuracy: 1.0000\n",
      "Epoch 158/400\n",
      "1/1 [==============================] - 0s 2ms/step - loss: 0.0427 - accuracy: 1.0000\n",
      "Epoch 159/400\n",
      "1/1 [==============================] - 0s 2ms/step - loss: 0.0417 - accuracy: 1.0000\n",
      "Epoch 160/400\n",
      "1/1 [==============================] - 0s 1ms/step - loss: 0.0408 - accuracy: 1.0000\n",
      "Epoch 161/400\n",
      "1/1 [==============================] - 0s 2ms/step - loss: 0.0399 - accuracy: 1.0000\n",
      "Epoch 162/400\n",
      "1/1 [==============================] - 0s 977us/step - loss: 0.0391 - accuracy: 1.0000\n",
      "Epoch 163/400\n",
      "1/1 [==============================] - 0s 4ms/step - loss: 0.0382 - accuracy: 1.0000\n",
      "Epoch 164/400\n",
      "1/1 [==============================] - 0s 2ms/step - loss: 0.0374 - accuracy: 1.0000\n",
      "Epoch 165/400\n",
      "1/1 [==============================] - 0s 1ms/step - loss: 0.0365 - accuracy: 1.0000\n",
      "Epoch 166/400\n",
      "1/1 [==============================] - 0s 2ms/step - loss: 0.0357 - accuracy: 1.0000\n",
      "Epoch 167/400\n"
     ]
    },
    {
     "name": "stdout",
     "output_type": "stream",
     "text": [
      "1/1 [==============================] - 0s 4ms/step - loss: 0.0349 - accuracy: 1.0000\n",
      "Epoch 168/400\n",
      "1/1 [==============================] - 0s 8ms/step - loss: 0.0342 - accuracy: 1.0000\n",
      "Epoch 169/400\n",
      "1/1 [==============================] - 0s 2ms/step - loss: 0.0334 - accuracy: 1.0000\n",
      "Epoch 170/400\n",
      "1/1 [==============================] - 0s 2ms/step - loss: 0.0326 - accuracy: 1.0000\n",
      "Epoch 171/400\n",
      "1/1 [==============================] - 0s 2ms/step - loss: 0.0319 - accuracy: 1.0000\n",
      "Epoch 172/400\n",
      "1/1 [==============================] - 0s 2ms/step - loss: 0.0312 - accuracy: 1.0000\n",
      "Epoch 173/400\n",
      "1/1 [==============================] - 0s 3ms/step - loss: 0.0305 - accuracy: 1.0000\n",
      "Epoch 174/400\n",
      "1/1 [==============================] - 0s 2ms/step - loss: 0.0298 - accuracy: 1.0000\n",
      "Epoch 175/400\n",
      "1/1 [==============================] - 0s 2ms/step - loss: 0.0291 - accuracy: 1.0000\n",
      "Epoch 176/400\n",
      "1/1 [==============================] - 0s 2ms/step - loss: 0.0284 - accuracy: 1.0000\n",
      "Epoch 177/400\n",
      "1/1 [==============================] - 0s 2ms/step - loss: 0.0278 - accuracy: 1.0000\n",
      "Epoch 178/400\n",
      "1/1 [==============================] - 0s 2ms/step - loss: 0.0271 - accuracy: 1.0000\n",
      "Epoch 179/400\n",
      "1/1 [==============================] - 0s 1ms/step - loss: 0.0265 - accuracy: 1.0000\n",
      "Epoch 180/400\n",
      "1/1 [==============================] - 0s 2ms/step - loss: 0.0259 - accuracy: 1.0000\n",
      "Epoch 181/400\n",
      "1/1 [==============================] - 0s 2ms/step - loss: 0.0253 - accuracy: 1.0000\n",
      "Epoch 182/400\n",
      "1/1 [==============================] - 0s 6ms/step - loss: 0.0247 - accuracy: 1.0000\n",
      "Epoch 183/400\n",
      "1/1 [==============================] - 0s 1ms/step - loss: 0.0241 - accuracy: 1.0000\n",
      "Epoch 184/400\n",
      "1/1 [==============================] - 0s 2ms/step - loss: 0.0236 - accuracy: 1.0000\n",
      "Epoch 185/400\n",
      "1/1 [==============================] - 0s 2ms/step - loss: 0.0230 - accuracy: 1.0000\n",
      "Epoch 186/400\n",
      "1/1 [==============================] - 0s 3ms/step - loss: 0.0225 - accuracy: 1.0000\n",
      "Epoch 187/400\n",
      "1/1 [==============================] - 0s 2ms/step - loss: 0.0220 - accuracy: 1.0000\n",
      "Epoch 188/400\n",
      "1/1 [==============================] - 0s 2ms/step - loss: 0.0215 - accuracy: 1.0000\n",
      "Epoch 189/400\n",
      "1/1 [==============================] - 0s 2ms/step - loss: 0.0210 - accuracy: 1.0000\n",
      "Epoch 190/400\n",
      "1/1 [==============================] - 0s 2ms/step - loss: 0.0205 - accuracy: 1.0000\n",
      "Epoch 191/400\n",
      "1/1 [==============================] - 0s 2ms/step - loss: 0.0200 - accuracy: 1.0000\n",
      "Epoch 192/400\n",
      "1/1 [==============================] - 0s 2ms/step - loss: 0.0196 - accuracy: 1.0000\n",
      "Epoch 193/400\n",
      "1/1 [==============================] - 0s 3ms/step - loss: 0.0191 - accuracy: 1.0000\n",
      "Epoch 194/400\n",
      "1/1 [==============================] - 0s 2ms/step - loss: 0.0187 - accuracy: 1.0000\n",
      "Epoch 195/400\n",
      "1/1 [==============================] - 0s 1ms/step - loss: 0.0182 - accuracy: 1.0000\n",
      "Epoch 196/400\n",
      "1/1 [==============================] - 0s 2ms/step - loss: 0.0178 - accuracy: 1.0000\n",
      "Epoch 197/400\n",
      "1/1 [==============================] - 0s 2ms/step - loss: 0.0174 - accuracy: 1.0000\n",
      "Epoch 198/400\n",
      "1/1 [==============================] - 0s 2ms/step - loss: 0.0170 - accuracy: 1.0000\n",
      "Epoch 199/400\n",
      "1/1 [==============================] - 0s 2ms/step - loss: 0.0167 - accuracy: 1.0000\n",
      "Epoch 200/400\n",
      "1/1 [==============================] - 0s 2ms/step - loss: 0.0163 - accuracy: 1.0000\n",
      "Epoch 201/400\n",
      "1/1 [==============================] - 0s 1ms/step - loss: 0.0159 - accuracy: 1.0000\n",
      "Epoch 202/400\n",
      "1/1 [==============================] - 0s 2ms/step - loss: 0.0156 - accuracy: 1.0000\n",
      "Epoch 203/400\n",
      "1/1 [==============================] - 0s 2ms/step - loss: 0.0152 - accuracy: 1.0000\n",
      "Epoch 204/400\n",
      "1/1 [==============================] - 0s 2ms/step - loss: 0.0149 - accuracy: 1.0000\n",
      "Epoch 205/400\n",
      "1/1 [==============================] - 0s 2ms/step - loss: 0.0145 - accuracy: 1.0000\n",
      "Epoch 206/400\n",
      "1/1 [==============================] - 0s 2ms/step - loss: 0.0142 - accuracy: 1.0000\n",
      "Epoch 207/400\n",
      "1/1 [==============================] - 0s 2ms/step - loss: 0.0139 - accuracy: 1.0000\n",
      "Epoch 208/400\n",
      "1/1 [==============================] - 0s 2ms/step - loss: 0.0136 - accuracy: 1.0000\n",
      "Epoch 209/400\n",
      "1/1 [==============================] - 0s 2ms/step - loss: 0.0133 - accuracy: 1.0000\n",
      "Epoch 210/400\n",
      "1/1 [==============================] - 0s 2ms/step - loss: 0.0130 - accuracy: 1.0000\n",
      "Epoch 211/400\n",
      "1/1 [==============================] - 0s 2ms/step - loss: 0.0127 - accuracy: 1.0000\n",
      "Epoch 212/400\n",
      "1/1 [==============================] - 0s 2ms/step - loss: 0.0124 - accuracy: 1.0000\n",
      "Epoch 213/400\n",
      "1/1 [==============================] - 0s 3ms/step - loss: 0.0122 - accuracy: 1.0000\n",
      "Epoch 214/400\n",
      "1/1 [==============================] - 0s 2ms/step - loss: 0.0119 - accuracy: 1.0000\n",
      "Epoch 215/400\n",
      "1/1 [==============================] - 0s 2ms/step - loss: 0.0116 - accuracy: 1.0000\n",
      "Epoch 216/400\n",
      "1/1 [==============================] - 0s 3ms/step - loss: 0.0114 - accuracy: 1.0000\n",
      "Epoch 217/400\n",
      "1/1 [==============================] - 0s 3ms/step - loss: 0.0112 - accuracy: 1.0000\n",
      "Epoch 218/400\n",
      "1/1 [==============================] - 0s 1ms/step - loss: 0.0109 - accuracy: 1.0000\n",
      "Epoch 219/400\n",
      "1/1 [==============================] - 0s 2ms/step - loss: 0.0107 - accuracy: 1.0000\n",
      "Epoch 220/400\n",
      "1/1 [==============================] - 0s 1ms/step - loss: 0.0105 - accuracy: 1.0000\n",
      "Epoch 221/400\n",
      "1/1 [==============================] - 0s 2ms/step - loss: 0.0103 - accuracy: 1.0000\n",
      "Epoch 222/400\n",
      "1/1 [==============================] - 0s 3ms/step - loss: 0.0100 - accuracy: 1.0000\n",
      "Epoch 223/400\n",
      "1/1 [==============================] - 0s 2ms/step - loss: 0.0098 - accuracy: 1.0000\n",
      "Epoch 224/400\n",
      "1/1 [==============================] - 0s 3ms/step - loss: 0.0096 - accuracy: 1.0000\n",
      "Epoch 225/400\n",
      "1/1 [==============================] - 0s 2ms/step - loss: 0.0094 - accuracy: 1.0000\n",
      "Epoch 226/400\n",
      "1/1 [==============================] - 0s 1ms/step - loss: 0.0093 - accuracy: 1.0000\n",
      "Epoch 227/400\n",
      "1/1 [==============================] - 0s 1ms/step - loss: 0.0091 - accuracy: 1.0000\n",
      "Epoch 228/400\n",
      "1/1 [==============================] - 0s 1ms/step - loss: 0.0089 - accuracy: 1.0000\n",
      "Epoch 229/400\n",
      "1/1 [==============================] - 0s 5ms/step - loss: 0.0087 - accuracy: 1.0000\n",
      "Epoch 230/400\n",
      "1/1 [==============================] - 0s 2ms/step - loss: 0.0085 - accuracy: 1.0000\n",
      "Epoch 231/400\n",
      "1/1 [==============================] - 0s 2ms/step - loss: 0.0084 - accuracy: 1.0000\n",
      "Epoch 232/400\n",
      "1/1 [==============================] - 0s 3ms/step - loss: 0.0082 - accuracy: 1.0000\n",
      "Epoch 233/400\n",
      "1/1 [==============================] - 0s 1ms/step - loss: 0.0081 - accuracy: 1.0000\n",
      "Epoch 234/400\n",
      "1/1 [==============================] - 0s 2ms/step - loss: 0.0079 - accuracy: 1.0000\n",
      "Epoch 235/400\n",
      "1/1 [==============================] - 0s 2ms/step - loss: 0.0078 - accuracy: 1.0000\n",
      "Epoch 236/400\n",
      "1/1 [==============================] - 0s 2ms/step - loss: 0.0076 - accuracy: 1.0000\n",
      "Epoch 237/400\n",
      "1/1 [==============================] - 0s 3ms/step - loss: 0.0075 - accuracy: 1.0000\n",
      "Epoch 238/400\n",
      "1/1 [==============================] - 0s 2ms/step - loss: 0.0073 - accuracy: 1.0000\n",
      "Epoch 239/400\n",
      "1/1 [==============================] - 0s 2ms/step - loss: 0.0072 - accuracy: 1.0000\n",
      "Epoch 240/400\n",
      "1/1 [==============================] - 0s 2ms/step - loss: 0.0071 - accuracy: 1.0000\n",
      "Epoch 241/400\n",
      "1/1 [==============================] - 0s 2ms/step - loss: 0.0070 - accuracy: 1.0000\n",
      "Epoch 242/400\n",
      "1/1 [==============================] - 0s 2ms/step - loss: 0.0068 - accuracy: 1.0000\n",
      "Epoch 243/400\n",
      "1/1 [==============================] - 0s 2ms/step - loss: 0.0067 - accuracy: 1.0000\n",
      "Epoch 244/400\n",
      "1/1 [==============================] - 0s 5ms/step - loss: 0.0066 - accuracy: 1.0000\n",
      "Epoch 245/400\n",
      "1/1 [==============================] - 0s 2ms/step - loss: 0.0065 - accuracy: 1.0000\n",
      "Epoch 246/400\n",
      "1/1 [==============================] - 0s 3ms/step - loss: 0.0064 - accuracy: 1.0000\n",
      "Epoch 247/400\n",
      "1/1 [==============================] - 0s 2ms/step - loss: 0.0063 - accuracy: 1.0000\n",
      "Epoch 248/400\n",
      "1/1 [==============================] - 0s 2ms/step - loss: 0.0062 - accuracy: 1.0000\n",
      "Epoch 249/400\n"
     ]
    },
    {
     "name": "stdout",
     "output_type": "stream",
     "text": [
      "1/1 [==============================] - 0s 2ms/step - loss: 0.0061 - accuracy: 1.0000\n",
      "Epoch 250/400\n",
      "1/1 [==============================] - 0s 7ms/step - loss: 0.0060 - accuracy: 1.0000\n",
      "Epoch 251/400\n",
      "1/1 [==============================] - 0s 2ms/step - loss: 0.0059 - accuracy: 1.0000\n",
      "Epoch 252/400\n",
      "1/1 [==============================] - 0s 2ms/step - loss: 0.0058 - accuracy: 1.0000\n",
      "Epoch 253/400\n",
      "1/1 [==============================] - 0s 4ms/step - loss: 0.0057 - accuracy: 1.0000\n",
      "Epoch 254/400\n",
      "1/1 [==============================] - 0s 2ms/step - loss: 0.0056 - accuracy: 1.0000\n",
      "Epoch 255/400\n",
      "1/1 [==============================] - 0s 2ms/step - loss: 0.0055 - accuracy: 1.0000\n",
      "Epoch 256/400\n",
      "1/1 [==============================] - ETA: 0s - loss: 0.0054 - accuracy: 1.00 - 0s 1ms/step - loss: 0.0054 - accuracy: 1.0000\n",
      "Epoch 257/400\n",
      "1/1 [==============================] - 0s 1ms/step - loss: 0.0053 - accuracy: 1.0000\n",
      "Epoch 258/400\n",
      "1/1 [==============================] - 0s 2ms/step - loss: 0.0052 - accuracy: 1.0000\n",
      "Epoch 259/400\n",
      "1/1 [==============================] - 0s 1ms/step - loss: 0.0052 - accuracy: 1.0000\n",
      "Epoch 260/400\n",
      "1/1 [==============================] - 0s 1ms/step - loss: 0.0051 - accuracy: 1.0000\n",
      "Epoch 261/400\n",
      "1/1 [==============================] - 0s 3ms/step - loss: 0.0050 - accuracy: 1.0000\n",
      "Epoch 262/400\n",
      "1/1 [==============================] - 0s 1ms/step - loss: 0.0049 - accuracy: 1.0000\n",
      "Epoch 263/400\n",
      "1/1 [==============================] - 0s 4ms/step - loss: 0.0048 - accuracy: 1.0000\n",
      "Epoch 264/400\n",
      "1/1 [==============================] - 0s 2ms/step - loss: 0.0048 - accuracy: 1.0000\n",
      "Epoch 265/400\n",
      "1/1 [==============================] - 0s 2ms/step - loss: 0.0047 - accuracy: 1.0000\n",
      "Epoch 266/400\n",
      "1/1 [==============================] - 0s 2ms/step - loss: 0.0046 - accuracy: 1.0000\n",
      "Epoch 267/400\n",
      "1/1 [==============================] - 0s 1ms/step - loss: 0.0046 - accuracy: 1.0000\n",
      "Epoch 268/400\n",
      "1/1 [==============================] - 0s 2ms/step - loss: 0.0045 - accuracy: 1.0000\n",
      "Epoch 269/400\n",
      "1/1 [==============================] - 0s 2ms/step - loss: 0.0044 - accuracy: 1.0000\n",
      "Epoch 270/400\n",
      "1/1 [==============================] - 0s 2ms/step - loss: 0.0044 - accuracy: 1.0000\n",
      "Epoch 271/400\n",
      "1/1 [==============================] - 0s 3ms/step - loss: 0.0043 - accuracy: 1.0000\n",
      "Epoch 272/400\n",
      "1/1 [==============================] - 0s 1ms/step - loss: 0.0042 - accuracy: 1.0000\n",
      "Epoch 273/400\n",
      "1/1 [==============================] - 0s 1ms/step - loss: 0.0042 - accuracy: 1.0000\n",
      "Epoch 274/400\n",
      "1/1 [==============================] - 0s 1ms/step - loss: 0.0041 - accuracy: 1.0000\n",
      "Epoch 275/400\n",
      "1/1 [==============================] - 0s 3ms/step - loss: 0.0041 - accuracy: 1.0000\n",
      "Epoch 276/400\n",
      "1/1 [==============================] - 0s 2ms/step - loss: 0.0040 - accuracy: 1.0000\n",
      "Epoch 277/400\n",
      "1/1 [==============================] - 0s 2ms/step - loss: 0.0040 - accuracy: 1.0000\n",
      "Epoch 278/400\n",
      "1/1 [==============================] - 0s 1ms/step - loss: 0.0039 - accuracy: 1.0000\n",
      "Epoch 279/400\n",
      "1/1 [==============================] - 0s 2ms/step - loss: 0.0039 - accuracy: 1.0000\n",
      "Epoch 280/400\n",
      "1/1 [==============================] - 0s 1ms/step - loss: 0.0038 - accuracy: 1.0000\n",
      "Epoch 281/400\n",
      "1/1 [==============================] - 0s 1ms/step - loss: 0.0038 - accuracy: 1.0000\n",
      "Epoch 282/400\n",
      "1/1 [==============================] - 0s 2ms/step - loss: 0.0037 - accuracy: 1.0000\n",
      "Epoch 283/400\n",
      "1/1 [==============================] - 0s 1ms/step - loss: 0.0037 - accuracy: 1.0000\n",
      "Epoch 284/400\n",
      "1/1 [==============================] - 0s 2ms/step - loss: 0.0036 - accuracy: 1.0000\n",
      "Epoch 285/400\n",
      "1/1 [==============================] - 0s 1ms/step - loss: 0.0036 - accuracy: 1.0000\n",
      "Epoch 286/400\n",
      "1/1 [==============================] - 0s 3ms/step - loss: 0.0035 - accuracy: 1.0000\n",
      "Epoch 287/400\n",
      "1/1 [==============================] - 0s 3ms/step - loss: 0.0035 - accuracy: 1.0000\n",
      "Epoch 288/400\n",
      "1/1 [==============================] - 0s 4ms/step - loss: 0.0034 - accuracy: 1.0000\n",
      "Epoch 289/400\n",
      "1/1 [==============================] - 0s 2ms/step - loss: 0.0034 - accuracy: 1.0000\n",
      "Epoch 290/400\n",
      "1/1 [==============================] - 0s 1ms/step - loss: 0.0033 - accuracy: 1.0000\n",
      "Epoch 291/400\n",
      "1/1 [==============================] - 0s 4ms/step - loss: 0.0033 - accuracy: 1.0000\n",
      "Epoch 292/400\n",
      "1/1 [==============================] - 0s 1ms/step - loss: 0.0033 - accuracy: 1.0000\n",
      "Epoch 293/400\n",
      "1/1 [==============================] - 0s 5ms/step - loss: 0.0032 - accuracy: 1.0000\n",
      "Epoch 294/400\n",
      "1/1 [==============================] - 0s 5ms/step - loss: 0.0032 - accuracy: 1.0000\n",
      "Epoch 295/400\n",
      "1/1 [==============================] - 0s 2ms/step - loss: 0.0031 - accuracy: 1.0000\n",
      "Epoch 296/400\n",
      "1/1 [==============================] - 0s 2ms/step - loss: 0.0031 - accuracy: 1.0000\n",
      "Epoch 297/400\n",
      "1/1 [==============================] - 0s 1ms/step - loss: 0.0031 - accuracy: 1.0000\n",
      "Epoch 298/400\n",
      "1/1 [==============================] - 0s 2ms/step - loss: 0.0030 - accuracy: 1.0000\n",
      "Epoch 299/400\n",
      "1/1 [==============================] - 0s 2ms/step - loss: 0.0030 - accuracy: 1.0000\n",
      "Epoch 300/400\n",
      "1/1 [==============================] - ETA: 0s - loss: 0.0030 - accuracy: 1.00 - 0s 1ms/step - loss: 0.0030 - accuracy: 1.0000\n",
      "Epoch 301/400\n",
      "1/1 [==============================] - 0s 2ms/step - loss: 0.0029 - accuracy: 1.0000\n",
      "Epoch 302/400\n",
      "1/1 [==============================] - 0s 4ms/step - loss: 0.0029 - accuracy: 1.0000\n",
      "Epoch 303/400\n",
      "1/1 [==============================] - 0s 2ms/step - loss: 0.0029 - accuracy: 1.0000\n",
      "Epoch 304/400\n",
      "1/1 [==============================] - 0s 2ms/step - loss: 0.0028 - accuracy: 1.0000\n",
      "Epoch 305/400\n",
      "1/1 [==============================] - 0s 2ms/step - loss: 0.0028 - accuracy: 1.0000\n",
      "Epoch 306/400\n",
      "1/1 [==============================] - 0s 4ms/step - loss: 0.0028 - accuracy: 1.0000\n",
      "Epoch 307/400\n",
      "1/1 [==============================] - 0s 2ms/step - loss: 0.0027 - accuracy: 1.0000\n",
      "Epoch 308/400\n",
      "1/1 [==============================] - 0s 1ms/step - loss: 0.0027 - accuracy: 1.0000\n",
      "Epoch 309/400\n",
      "1/1 [==============================] - 0s 2ms/step - loss: 0.0027 - accuracy: 1.0000\n",
      "Epoch 310/400\n",
      "1/1 [==============================] - 0s 1ms/step - loss: 0.0026 - accuracy: 1.0000\n",
      "Epoch 311/400\n",
      "1/1 [==============================] - 0s 1ms/step - loss: 0.0026 - accuracy: 1.0000\n",
      "Epoch 312/400\n",
      "1/1 [==============================] - 0s 2ms/step - loss: 0.0026 - accuracy: 1.0000\n",
      "Epoch 313/400\n",
      "1/1 [==============================] - 0s 974us/step - loss: 0.0025 - accuracy: 1.0000\n",
      "Epoch 314/400\n",
      "1/1 [==============================] - 0s 2ms/step - loss: 0.0025 - accuracy: 1.0000\n",
      "Epoch 315/400\n",
      "1/1 [==============================] - 0s 1ms/step - loss: 0.0025 - accuracy: 1.0000\n",
      "Epoch 316/400\n",
      "1/1 [==============================] - 0s 2ms/step - loss: 0.0025 - accuracy: 1.0000\n",
      "Epoch 317/400\n",
      "1/1 [==============================] - 0s 1ms/step - loss: 0.0024 - accuracy: 1.0000\n",
      "Epoch 318/400\n",
      "1/1 [==============================] - 0s 2ms/step - loss: 0.0024 - accuracy: 1.0000\n",
      "Epoch 319/400\n",
      "1/1 [==============================] - 0s 1ms/step - loss: 0.0024 - accuracy: 1.0000\n",
      "Epoch 320/400\n",
      "1/1 [==============================] - 0s 4ms/step - loss: 0.0024 - accuracy: 1.0000\n",
      "Epoch 321/400\n",
      "1/1 [==============================] - 0s 1ms/step - loss: 0.0023 - accuracy: 1.0000\n",
      "Epoch 322/400\n",
      "1/1 [==============================] - 0s 4ms/step - loss: 0.0023 - accuracy: 1.0000\n",
      "Epoch 323/400\n",
      "1/1 [==============================] - 0s 2ms/step - loss: 0.0023 - accuracy: 1.0000\n",
      "Epoch 324/400\n",
      "1/1 [==============================] - 0s 4ms/step - loss: 0.0023 - accuracy: 1.0000\n",
      "Epoch 325/400\n",
      "1/1 [==============================] - 0s 2ms/step - loss: 0.0022 - accuracy: 1.0000\n",
      "Epoch 326/400\n",
      "1/1 [==============================] - 0s 2ms/step - loss: 0.0022 - accuracy: 1.0000\n",
      "Epoch 327/400\n",
      "1/1 [==============================] - 0s 4ms/step - loss: 0.0022 - accuracy: 1.0000\n",
      "Epoch 328/400\n",
      "1/1 [==============================] - 0s 2ms/step - loss: 0.0022 - accuracy: 1.0000\n",
      "Epoch 329/400\n",
      "1/1 [==============================] - 0s 2ms/step - loss: 0.0022 - accuracy: 1.0000\n",
      "Epoch 330/400\n",
      "1/1 [==============================] - 0s 2ms/step - loss: 0.0021 - accuracy: 1.0000\n",
      "Epoch 331/400\n"
     ]
    },
    {
     "name": "stdout",
     "output_type": "stream",
     "text": [
      "1/1 [==============================] - 0s 4ms/step - loss: 0.0021 - accuracy: 1.0000\n",
      "Epoch 332/400\n",
      "1/1 [==============================] - 0s 2ms/step - loss: 0.0021 - accuracy: 1.0000\n",
      "Epoch 333/400\n",
      "1/1 [==============================] - 0s 2ms/step - loss: 0.0021 - accuracy: 1.0000\n",
      "Epoch 334/400\n",
      "1/1 [==============================] - 0s 2ms/step - loss: 0.0021 - accuracy: 1.0000\n",
      "Epoch 335/400\n",
      "1/1 [==============================] - 0s 2ms/step - loss: 0.0020 - accuracy: 1.0000\n",
      "Epoch 336/400\n",
      "1/1 [==============================] - 0s 3ms/step - loss: 0.0020 - accuracy: 1.0000\n",
      "Epoch 337/400\n",
      "1/1 [==============================] - 0s 2ms/step - loss: 0.0020 - accuracy: 1.0000\n",
      "Epoch 338/400\n",
      "1/1 [==============================] - 0s 2ms/step - loss: 0.0020 - accuracy: 1.0000\n",
      "Epoch 339/400\n",
      "1/1 [==============================] - 0s 2ms/step - loss: 0.0020 - accuracy: 1.0000\n",
      "Epoch 340/400\n",
      "1/1 [==============================] - 0s 2ms/step - loss: 0.0019 - accuracy: 1.0000\n",
      "Epoch 341/400\n",
      "1/1 [==============================] - 0s 2ms/step - loss: 0.0019 - accuracy: 1.0000\n",
      "Epoch 342/400\n",
      "1/1 [==============================] - 0s 3ms/step - loss: 0.0019 - accuracy: 1.0000\n",
      "Epoch 343/400\n",
      "1/1 [==============================] - 0s 2ms/step - loss: 0.0019 - accuracy: 1.0000\n",
      "Epoch 344/400\n",
      "1/1 [==============================] - 0s 2ms/step - loss: 0.0019 - accuracy: 1.0000\n",
      "Epoch 345/400\n",
      "1/1 [==============================] - 0s 3ms/step - loss: 0.0019 - accuracy: 1.0000\n",
      "Epoch 346/400\n",
      "1/1 [==============================] - 0s 2ms/step - loss: 0.0018 - accuracy: 1.0000\n",
      "Epoch 347/400\n",
      "1/1 [==============================] - 0s 2ms/step - loss: 0.0018 - accuracy: 1.0000\n",
      "Epoch 348/400\n",
      "1/1 [==============================] - 0s 3ms/step - loss: 0.0018 - accuracy: 1.0000\n",
      "Epoch 349/400\n",
      "1/1 [==============================] - 0s 4ms/step - loss: 0.0018 - accuracy: 1.0000\n",
      "Epoch 350/400\n",
      "1/1 [==============================] - 0s 2ms/step - loss: 0.0018 - accuracy: 1.0000\n",
      "Epoch 351/400\n",
      "1/1 [==============================] - 0s 2ms/step - loss: 0.0018 - accuracy: 1.0000\n",
      "Epoch 352/400\n",
      "1/1 [==============================] - 0s 2ms/step - loss: 0.0017 - accuracy: 1.0000\n",
      "Epoch 353/400\n",
      "1/1 [==============================] - 0s 2ms/step - loss: 0.0017 - accuracy: 1.0000\n",
      "Epoch 354/400\n",
      "1/1 [==============================] - 0s 2ms/step - loss: 0.0017 - accuracy: 1.0000\n",
      "Epoch 355/400\n",
      "1/1 [==============================] - 0s 2ms/step - loss: 0.0017 - accuracy: 1.0000\n",
      "Epoch 356/400\n",
      "1/1 [==============================] - 0s 2ms/step - loss: 0.0017 - accuracy: 1.0000\n",
      "Epoch 357/400\n",
      "1/1 [==============================] - 0s 3ms/step - loss: 0.0017 - accuracy: 1.0000\n",
      "Epoch 358/400\n",
      "1/1 [==============================] - 0s 3ms/step - loss: 0.0016 - accuracy: 1.0000\n",
      "Epoch 359/400\n",
      "1/1 [==============================] - 0s 2ms/step - loss: 0.0016 - accuracy: 1.0000\n",
      "Epoch 360/400\n",
      "1/1 [==============================] - 0s 2ms/step - loss: 0.0016 - accuracy: 1.0000\n",
      "Epoch 361/400\n",
      "1/1 [==============================] - 0s 1ms/step - loss: 0.0016 - accuracy: 1.0000\n",
      "Epoch 362/400\n",
      "1/1 [==============================] - 0s 1ms/step - loss: 0.0016 - accuracy: 1.0000\n",
      "Epoch 363/400\n",
      "1/1 [==============================] - 0s 2ms/step - loss: 0.0016 - accuracy: 1.0000\n",
      "Epoch 364/400\n",
      "1/1 [==============================] - 0s 2ms/step - loss: 0.0016 - accuracy: 1.0000\n",
      "Epoch 365/400\n",
      "1/1 [==============================] - 0s 2ms/step - loss: 0.0016 - accuracy: 1.0000\n",
      "Epoch 366/400\n",
      "1/1 [==============================] - 0s 7ms/step - loss: 0.0015 - accuracy: 1.0000\n",
      "Epoch 367/400\n",
      "1/1 [==============================] - 0s 1ms/step - loss: 0.0015 - accuracy: 1.0000\n",
      "Epoch 368/400\n",
      "1/1 [==============================] - 0s 1ms/step - loss: 0.0015 - accuracy: 1.0000\n",
      "Epoch 369/400\n",
      "1/1 [==============================] - 0s 2ms/step - loss: 0.0015 - accuracy: 1.0000\n",
      "Epoch 370/400\n",
      "1/1 [==============================] - 0s 1ms/step - loss: 0.0015 - accuracy: 1.0000\n",
      "Epoch 371/400\n",
      "1/1 [==============================] - 0s 2ms/step - loss: 0.0015 - accuracy: 1.0000\n",
      "Epoch 372/400\n",
      "1/1 [==============================] - 0s 1ms/step - loss: 0.0015 - accuracy: 1.0000\n",
      "Epoch 373/400\n",
      "1/1 [==============================] - 0s 2ms/step - loss: 0.0015 - accuracy: 1.0000\n",
      "Epoch 374/400\n",
      "1/1 [==============================] - 0s 1ms/step - loss: 0.0014 - accuracy: 1.0000\n",
      "Epoch 375/400\n",
      "1/1 [==============================] - 0s 3ms/step - loss: 0.0014 - accuracy: 1.0000\n",
      "Epoch 376/400\n",
      "1/1 [==============================] - 0s 1ms/step - loss: 0.0014 - accuracy: 1.0000\n",
      "Epoch 377/400\n",
      "1/1 [==============================] - 0s 2ms/step - loss: 0.0014 - accuracy: 1.0000\n",
      "Epoch 378/400\n",
      "1/1 [==============================] - 0s 3ms/step - loss: 0.0014 - accuracy: 1.0000\n",
      "Epoch 379/400\n",
      "1/1 [==============================] - 0s 3ms/step - loss: 0.0014 - accuracy: 1.0000\n",
      "Epoch 380/400\n",
      "1/1 [==============================] - 0s 1ms/step - loss: 0.0014 - accuracy: 1.0000\n",
      "Epoch 381/400\n",
      "1/1 [==============================] - 0s 2ms/step - loss: 0.0014 - accuracy: 1.0000\n",
      "Epoch 382/400\n",
      "1/1 [==============================] - 0s 1ms/step - loss: 0.0014 - accuracy: 1.0000\n",
      "Epoch 383/400\n",
      "1/1 [==============================] - 0s 2ms/step - loss: 0.0013 - accuracy: 1.0000\n",
      "Epoch 384/400\n",
      "1/1 [==============================] - 0s 2ms/step - loss: 0.0013 - accuracy: 1.0000\n",
      "Epoch 385/400\n",
      "1/1 [==============================] - 0s 2ms/step - loss: 0.0013 - accuracy: 1.0000\n",
      "Epoch 386/400\n",
      "1/1 [==============================] - 0s 3ms/step - loss: 0.0013 - accuracy: 1.0000\n",
      "Epoch 387/400\n",
      "1/1 [==============================] - 0s 1ms/step - loss: 0.0013 - accuracy: 1.0000\n",
      "Epoch 388/400\n",
      "1/1 [==============================] - 0s 2ms/step - loss: 0.0013 - accuracy: 1.0000\n",
      "Epoch 389/400\n",
      "1/1 [==============================] - 0s 1ms/step - loss: 0.0013 - accuracy: 1.0000\n",
      "Epoch 390/400\n",
      "1/1 [==============================] - 0s 2ms/step - loss: 0.0013 - accuracy: 1.0000\n",
      "Epoch 391/400\n",
      "1/1 [==============================] - 0s 8ms/step - loss: 0.0013 - accuracy: 1.0000\n",
      "Epoch 392/400\n",
      "1/1 [==============================] - 0s 4ms/step - loss: 0.0013 - accuracy: 1.0000\n",
      "Epoch 393/400\n",
      "1/1 [==============================] - 0s 2ms/step - loss: 0.0012 - accuracy: 1.0000\n",
      "Epoch 394/400\n",
      "1/1 [==============================] - 0s 1ms/step - loss: 0.0012 - accuracy: 1.0000\n",
      "Epoch 395/400\n",
      "1/1 [==============================] - 0s 3ms/step - loss: 0.0012 - accuracy: 1.0000\n",
      "Epoch 396/400\n",
      "1/1 [==============================] - 0s 1ms/step - loss: 0.0012 - accuracy: 1.0000\n",
      "Epoch 397/400\n",
      "1/1 [==============================] - 0s 1ms/step - loss: 0.0012 - accuracy: 1.0000\n",
      "Epoch 398/400\n",
      "1/1 [==============================] - 0s 2ms/step - loss: 0.0012 - accuracy: 1.0000\n",
      "Epoch 399/400\n",
      "1/1 [==============================] - 0s 2ms/step - loss: 0.0012 - accuracy: 1.0000\n",
      "Epoch 400/400\n",
      "1/1 [==============================] - 0s 5ms/step - loss: 0.0012 - accuracy: 1.0000\n",
      "1/1 [==============================] - ETA:  - 0s 1ms/step\n",
      "1/1 [==============================] - 0s 1ms/step\n"
     ]
    }
   ],
   "source": [
    "# Train simple deep classifier\n",
    "predicted_classes_train, predicted_classes_test, N_params_deep_classifier = build_simple_deep_classifier(n_folds = CV_folds, \n",
    "                                                                                                        n_jobs = n_jobs, \n",
    "                                                                                                        n_iter =n_iter, \n",
    "                                                                                                        param_grid_in=param_grid_Deep_Classifier, \n",
    "                                                                                                        X_train = x_Grid, \n",
    "                                                                                                        y_train = Classifer_Wasserstein_Centers,\n",
    "                                                                                                        X_test = x_Grid)"
   ]
  },
  {
   "cell_type": "code",
   "execution_count": 264,
   "metadata": {},
   "outputs": [],
   "source": [
    "# Time-Elapsed Training Deep Classifier\n",
    "Type_A_timer_End = time.time() - Type_A_timer_Begin"
   ]
  },
  {
   "cell_type": "markdown",
   "metadata": {},
   "source": [
    "#### Get Predicted Quantized Distributions"
   ]
  },
  {
   "cell_type": "code",
   "execution_count": 332,
   "metadata": {},
   "outputs": [],
   "source": [
    "Predictions_Train = np.matmul(Barycenters_Array,predicted_classes_train).T\n",
    "Predictions_Test = np.matmul(Barycenters_Array,predicted_classes_test).T"
   ]
  },
  {
   "cell_type": "markdown",
   "metadata": {},
   "source": [
    "#### Write Predictions"
   ]
  },
  {
   "cell_type": "markdown",
   "metadata": {},
   "source": [
    "Compute Performance"
   ]
  },
  {
   "cell_type": "code",
   "execution_count": 267,
   "metadata": {},
   "outputs": [
    {
     "name": "stdout",
     "output_type": "stream",
     "text": [
      "           W1        EX\n",
      "MAE  0.663858  0.304696\n",
      "MSE  0.885631  0.092840\n"
     ]
    }
   ],
   "source": [
    "# Initialize Wasserstein-1 Error Distribution\n",
    "W1_errors = np.array([])\n",
    "Mean_errors = np.array([])\n",
    "\n",
    "# Get Predicted Means\n",
    "predicted_means = Predictions_Train.mean(axis=1)\n",
    "#---------------------------------------------------------------------------------------------#\n",
    "\n",
    "# Populate Error Distribution\n",
    "for x_i in range(len(measures_locations_list)):\n",
    "    # Get Laws\n",
    "    W1_errors = np.append(W1_errors,ot.emd2_1d(Predictions_Train[x_i,].reshape(-1,),\n",
    "                                               measures_locations_list[x_i].reshape(-1,)))\n",
    "    # Get Means\n",
    "    Mean_errors = np.array(predicted_means[x_i]-np.mean(measures_locations_list[x_i]))\n",
    "    \n",
    "#---------------------------------------------------------------------------------------------#\n",
    "# Compute Error Statistics/Descriptors\n",
    "W1_Performance = np.array([np.mean(np.abs(W1_errors)),np.mean(W1_errors**2)])\n",
    "Mean_prediction_Performance = np.array([np.mean(np.abs(Mean_errors)),np.mean(Mean_errors**2)])\n",
    "\n",
    "Type_A_Prediction = pd.DataFrame({\"W1\":W1_Performance,\"EX\":Mean_prediction_Performance},index=[\"MAE\",\"MSE\"])\n",
    "\n",
    "# Write Performance\n",
    "Type_A_Prediction.to_latex((results_tables_path+\"Type_A_Prediction.tex\"))\n",
    "\n",
    "\n",
    "#---------------------------------------------------------------------------------------------#\n",
    "# Update User\n",
    "print(Type_A_Prediction)"
   ]
  },
  {
   "cell_type": "markdown",
   "metadata": {},
   "source": [
    "---"
   ]
  },
  {
   "cell_type": "markdown",
   "metadata": {},
   "source": [
    "---\n",
    "# Fin\n",
    "---"
   ]
  },
  {
   "cell_type": "markdown",
   "metadata": {},
   "source": [
    "---"
   ]
  }
 ],
 "metadata": {
  "kernelspec": {
   "display_name": "Python 3",
   "language": "python",
   "name": "python3"
  },
  "language_info": {
   "codemirror_mode": {
    "name": "ipython",
    "version": 3
   },
   "file_extension": ".py",
   "mimetype": "text/x-python",
   "name": "python",
   "nbconvert_exporter": "python",
   "pygments_lexer": "ipython3",
   "version": "3.7.7"
  }
 },
 "nbformat": 4,
 "nbformat_minor": 2
}
