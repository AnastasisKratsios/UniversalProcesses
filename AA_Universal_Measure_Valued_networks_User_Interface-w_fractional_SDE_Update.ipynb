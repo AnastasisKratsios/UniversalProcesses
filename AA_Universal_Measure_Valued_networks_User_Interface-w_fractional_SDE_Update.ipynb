{
 "cells": [
  {
   "cell_type": "markdown",
   "metadata": {},
   "source": [
    "# Deep Universal Regular Conditional Expectations:\n",
    "\n",
    "---\n",
    "This implements the universal deep neural model of $\\mathcal{NN}_{1_{\\mathbb{R}^n},\\mathcal{D}}^{\\sigma:\\star}$ [Anastasis Kratsios](https://people.math.ethz.ch/~kratsioa/) - 2021.\n",
    "\n",
    "---\n",
    "\n",
    "## What does this code do?\n",
    "1. Learn Heteroskedastic Non-Linear Regression Problem\n",
    "     - $Y\\sim f_{\\text{unkown}}(x) + \\epsilon$ where $f$ is an known function and $\\epsilon\\sim Laplace(0,\\|x\\|)$\n",
    "2. Learn Random Bayesian Network's Law:\n",
    "    - $Y = W_J Y^{J-1}, \\qquad Y^{j}\\triangleq \\sigma\\bullet A^{j}Y^{j-1} + b^{j}, \\qquad Y^0\\triangleq x$\n",
    "\n",
    "3. In the above example if $A_j = M_j\\odot \\tilde{A_j}$ where $\\tilde{A}_j$ is a deterministic matrix and $M_j$ is a \"mask\", that is, a random matrix with binary entries and $\\odot$ is the Hadamard product then we recover the dropout framework.\n",
    "4. Learn the probability distribution that the unique strong solution to the rough SDE with uniformly Lipschitz drivers driven by a factional Brownian motion with Hurst exponent $H \\in [\\frac1{2},1)$:\n",
    "$$\n",
    "X_t^x = x + \\int_0^t \\alpha(s,X_s^x)ds + \\int_0^t \\beta(s,X_s^x)dB_s^H\n",
    "$$\n",
    "belongs, at time $t=1$, to a ball about the initial point $x$ of random radius given by an independant exponential random-variable with shape parameter $\\lambda=2$\n",
    "5. Train a DNN to predict the returns of bitcoin with GD.  Since this has random initialization then each prediction of a given $x$ is stochastic...We learn the distribution of this conditional RV (conditioned on x in the input space).\n",
    "$$\n",
    "Y_x \\triangleq \\hat{f}_{\\theta_{T}}(x), \\qquad \\theta_{(t+1)}\\triangleq \\theta_{(t)} + \\lambda \\sum_{x \\in \\mathbb{X}} \\nabla_{\\theta}\\|\\hat{f}_{\\theta_t}(x) - f(x)\\|, \\qquad \\theta_0 \\sim N_d(0,1);\n",
    "$$\n",
    "$T\\in \\mathbb{N}$ is a fixed number of \"SGD\" iterations (typically identified by cross-validation on a single SGD trajectory for a single initialization) and where $\\theta \\in \\mathbb{R}^{(d_{J}+1)+\\sum_{j=0}^{J-1} (d_{j+1}d_j + 1)}$ and $d_j$ is the dimension of the \"bias\" vector $b_j$ defining each layer of the DNN with layer dimensions:\n",
    "$$\n",
    "\\hat{f}_{\\theta}(x)\\triangleq A^{(J)}x^{(J)} + b^{(J)},\\qquad x^{(j+1)}\\triangleq \\sigma\\bullet A^{j}x^{(j)} + b^{j},\\qquad x^{(0)}\\triangleq x\n",
    ".\n",
    "$$\n",
    "\n",
    "6. Extreme Learning Machines: \n",
    "    Just like the Bayesian network but then last layer is trained on the training set using KRidge!"
   ]
  },
  {
   "cell_type": "markdown",
   "metadata": {},
   "source": [
    "#### Mode:\n",
    "Software/Hardware Testing or Real-Deal?"
   ]
  },
  {
   "cell_type": "code",
   "execution_count": 1,
   "metadata": {},
   "outputs": [],
   "source": [
    "trial_run = True"
   ]
  },
  {
   "cell_type": "markdown",
   "metadata": {},
   "source": [
    "### Simulation Method:"
   ]
  },
  {
   "cell_type": "code",
   "execution_count": 2,
   "metadata": {},
   "outputs": [],
   "source": [
    "# Random DNN\n",
    "# f_unknown_mode = \"Heteroskedastic_NonLinear_Regression\"\n",
    "\n",
    "# Random DNN internal noise\n",
    "## Real-world data version\n",
    "f_unknown_mode = \"Extreme_Learning_Machine\"\n",
    "### General Parameters\n",
    "# activation_function == 'thresholding'\n",
    "activation_function = 'sigmoid'\n",
    "### Dataset Option 1\n",
    "dataset_option = 'SnP'\n",
    "### Dataset Option 2\n",
    "# dataset_option = 'crypto'\n",
    "Depth_Bayesian_DNN = 1\n",
    "N_Random_Features = 10**3\n",
    "## Simulated Data version\n",
    "# f_unknown_mode = \"DNN_with_Random_Weights\"\n",
    "width = 10**3\n",
    "\n",
    "# Random Dropout applied to trained DNN\n",
    "# f_unknown_mode = \"DNN_with_Bayesian_Dropout\"\n",
    "Dropout_rate = 0.75\n",
    "\n",
    "# GD with Randomized Input\n",
    "# f_unknown_mode = \"GD_with_randomized_input\"\n",
    "# GD_epochs = 50\n",
    "\n",
    "# SDE with fractional Driver\n",
    "f_unknown_mode = \"Rough_SDE\"\n",
    "N_Euler_Steps = 50\n",
    "Hurst_Exponent = 0.51\n",
    "\n",
    "f_unknown_mode = \"Rough_SDE_Vanilla\"\n",
    "## Define Process' dynamics in (2) cell(s) below."
   ]
  },
  {
   "cell_type": "markdown",
   "metadata": {},
   "source": [
    "---\n",
    "#### More Meta-Parameters for \"Vanilla\" fractional SDE"
   ]
  },
  {
   "cell_type": "code",
   "execution_count": 3,
   "metadata": {},
   "outputs": [],
   "source": [
    "## Monte-Carlo\n",
    "N_Euler_Maruyama_Steps = 50\n",
    "N_Monte_Carlo_Samples = 10**2\n",
    "N_Monte_Carlo_Samples_Test = 10**1 # How many MC-samples to draw from test-set?\n",
    "\n",
    "# End times for Time-Grid\n",
    "T_end = 1\n",
    "T_end_test = 1.1\n",
    "\n",
    "\n",
    "## Grid\n",
    "N_Grid_Finess = 5\n",
    "Max_Grid = 0.5\n",
    "x_0 = 1\n",
    "\n",
    "# Number of Centers (\\hat{\\mu}_s)\n",
    "N_Quantizers_to_parameterize = 10\n",
    "Hurst_Exponent = 0.5\n",
    "uniform_noise_level = 0\n",
    "\n",
    "# Hyper-parameters of Cover\n",
    "delta = 0.1\n",
    "N_measures_per_center = 100"
   ]
  },
  {
   "cell_type": "markdown",
   "metadata": {},
   "source": [
    "#### Vanilla Drift"
   ]
  },
  {
   "cell_type": "code",
   "execution_count": 4,
   "metadata": {},
   "outputs": [],
   "source": [
    "def alpha(t,x):\n",
    "    return .1*(.1-.5*(.01**2))*t + np.cos(x)"
   ]
  },
  {
   "cell_type": "markdown",
   "metadata": {},
   "source": [
    "#### Vanilla Vol"
   ]
  },
  {
   "cell_type": "code",
   "execution_count": 5,
   "metadata": {},
   "outputs": [],
   "source": [
    "def beta(t,x):\n",
    "    return 0.01+t*np.cos(x)"
   ]
  },
  {
   "cell_type": "markdown",
   "metadata": {},
   "source": [
    "---"
   ]
  },
  {
   "cell_type": "markdown",
   "metadata": {},
   "source": [
    "## Problem Dimension"
   ]
  },
  {
   "cell_type": "code",
   "execution_count": 6,
   "metadata": {},
   "outputs": [],
   "source": [
    "problem_dim = 2\n",
    "if f_unknown_mode != 'Extreme_Learning_Machine':\n",
    "    width = int(2*(problem_dim+1))"
   ]
  },
  {
   "cell_type": "markdown",
   "metadata": {},
   "source": [
    "#### Vanilla fractional SDE:\n",
    "If f_unknown_mode == \"Rough_SDE_Vanilla\" is selected, then we can specify the process's dynamics.  "
   ]
  },
  {
   "cell_type": "code",
   "execution_count": 7,
   "metadata": {},
   "outputs": [],
   "source": [
    "# Depricated\n",
    "# #--------------------------#\n",
    "# # Define Process' Dynamics #\n",
    "# #--------------------------#\n",
    "# drift_constant = 0.1\n",
    "# volatility_constant = 0.01\n",
    "\n",
    "# # Define DNN Applier\n",
    "# def f_unknown_drift_vanilla(x):\n",
    "# #     x_internal = drift_constant*np.ones(problem_dim)\n",
    "#     x_internal = drift_constant*np.sin(x)\n",
    "#     return x_internal\n",
    "# def f_unknown_vol_vanilla(x):\n",
    "# #     x_internal = volatility_constant*np.diag(np.ones(problem_dim))\n",
    "#     x_internal = volatility_constant*np.diag(np.cos(x))\n",
    "#     return x_internal"
   ]
  },
  {
   "cell_type": "markdown",
   "metadata": {},
   "source": [
    "## Note: *Why the procedure is so computationally efficient*?\n",
    "---\n",
    " - The sample barycenters do not require us to solve for any new Wasserstein-1 Barycenters; which is much more computationally costly,\n",
    " - Our training procedure never back-propages through $\\mathcal{W}_1$ since steps 2 and 3 are full-decoupled.  Therefore, training our deep classifier is (comparatively) cheap since it takes values in the standard $N$-simplex.\n",
    "\n",
    "---"
   ]
  },
  {
   "cell_type": "markdown",
   "metadata": {},
   "source": [
    "#### Grid Hyperparameter(s)\n",
    "- Ratio $\\frac{\\text{Testing Datasize}}{\\text{Training Datasize}}$.\n",
    "- Number of Training Points to Generate"
   ]
  },
  {
   "cell_type": "code",
   "execution_count": 8,
   "metadata": {},
   "outputs": [],
   "source": [
    "train_test_ratio = .1\n",
    "N_train_size = 100"
   ]
  },
  {
   "cell_type": "markdown",
   "metadata": {},
   "source": [
    "Monte-Carlo Paramters"
   ]
  },
  {
   "cell_type": "code",
   "execution_count": 9,
   "metadata": {},
   "outputs": [],
   "source": [
    "## Monte-Carlo\n",
    "N_Monte_Carlo_Samples = 10**3"
   ]
  },
  {
   "cell_type": "markdown",
   "metadata": {},
   "source": [
    "Initial radis of $\\delta$-bounded random partition of $\\mathcal{X}$!"
   ]
  },
  {
   "cell_type": "code",
   "execution_count": 10,
   "metadata": {},
   "outputs": [],
   "source": [
    "# Hyper-parameters of Cover\n",
    "delta = 0.1\n",
    "Proportion_per_cluster = .1"
   ]
  },
  {
   "cell_type": "markdown",
   "metadata": {},
   "source": [
    "## Dependencies and Auxiliary Script(s)"
   ]
  },
  {
   "cell_type": "code",
   "execution_count": 11,
   "metadata": {},
   "outputs": [
    {
     "name": "stderr",
     "output_type": "stream",
     "text": [
      "Using TensorFlow backend.\n"
     ]
    },
    {
     "name": "stdout",
     "output_type": "stream",
     "text": [
      "Deep Feature Builder - Ready\n",
      "Deep Classifier - Ready\n",
      "Deep Feature Builder - Ready\n"
     ]
    }
   ],
   "source": [
    "# %run Loader.ipynb\n",
    "exec(open('Loader.py').read())\n",
    "# Load Packages/Modules\n",
    "exec(open('Init_Dump.py').read())\n",
    "import time as time #<- Note sure why...but its always seems to need 'its own special loading...'"
   ]
  },
  {
   "cell_type": "markdown",
   "metadata": {},
   "source": [
    "# Simulate or Parse Data"
   ]
  },
  {
   "cell_type": "code",
   "execution_count": 12,
   "metadata": {},
   "outputs": [
    {
     "name": "stderr",
     "output_type": "stream",
     "text": [
      "  0%|          | 0/1 [00:00<?, ?it/s]\n",
      "  0%|          | 0/10 [00:00<?, ?it/s]\u001b[A"
     ]
    },
    {
     "name": "stdout",
     "output_type": "stream",
     "text": [
      "Generating/Prasing Data and Training MC-Oracle\n",
      "Building Training + Testing Set - rough-SDE Ground-Truth\n"
     ]
    },
    {
     "name": "stderr",
     "output_type": "stream",
     "text": [
      "\n",
      " 10%|█         | 1/10 [00:00<00:08,  1.06it/s]\u001b[A\n",
      " 20%|██        | 2/10 [00:01<00:07,  1.02it/s]\u001b[A\n",
      " 30%|███       | 3/10 [00:02<00:06,  1.04it/s]\u001b[A\n",
      " 40%|████      | 4/10 [00:03<00:05,  1.06it/s]\u001b[A\n",
      " 50%|█████     | 5/10 [00:04<00:04,  1.04it/s]\u001b[A\n",
      " 60%|██████    | 6/10 [00:05<00:03,  1.05it/s]\u001b[A\n",
      " 70%|███████   | 7/10 [00:06<00:02,  1.04it/s]\u001b[A\n",
      " 80%|████████  | 8/10 [00:07<00:02,  1.02s/it]\u001b[A\n",
      " 90%|█████████ | 9/10 [00:09<00:01,  1.08s/it]\u001b[A\n",
      "100%|██████████| 10/10 [00:10<00:00,  1.03s/it]\u001b[A\n",
      "100%|██████████| 1/1 [00:10<00:00, 10.32s/it]"
     ]
    },
    {
     "name": "stdout",
     "output_type": "stream",
     "text": [
      "Generated Data:\n",
      "Number of Training Datums:50\n",
      "Number of Testing Datums:50\n"
     ]
    },
    {
     "name": "stderr",
     "output_type": "stream",
     "text": [
      "\n"
     ]
    }
   ],
   "source": [
    "#-------------------------------------------------------#\n",
    "print(\"Generating/Prasing Data and Training MC-Oracle\")\n",
    "#-------------------------------------------------------#\n",
    "if (f_unknown_mode != 'Rough_SDE') and (f_unknown_mode != 'Rough_SDE_Vanilla'):\n",
    "    # %run Data_Simulator_and_Parser.ipynb\n",
    "    exec(open('Data_Simulator_and_Parser.py').read())\n",
    "else:\n",
    "    # Renaming Some internal Parameter(s)\n",
    "    groud_truth = \"rSDE\"\n",
    "    test_size_ratio = train_test_ratio\n",
    "    Ratio_fBM_to_typical_vol = 1\n",
    "    output_dim = problem_dim\n",
    "    T_begin = 0\n",
    "    T_end = 1\n",
    "    # Run da code\n",
    "    %run Fractional_SDE/fractional_SDE_Simulator.ipynb\n",
    "    %run Fractional_SDE/Data_Simulator_and_Parser___fractional_SDE.ipynb\n",
    "#     exec(open('Fractional_SDE/fractional_SDE_Simulator.py').read())\n",
    "#     exec(open('Fractional_SDE/Data_Simulator_and_Parser___fractional_SDE.py').read())\n",
    "\n",
    "# Verbosity is nice\n",
    "print(\"Generated Data:\")\n",
    "print(\"Number of Training Datums:\"+str(X_train.shape[0]))\n",
    "print(\"Number of Testing Datums:\"+str(X_test.shape[0]))"
   ]
  },
  {
   "cell_type": "markdown",
   "metadata": {},
   "source": [
    "### Rescale"
   ]
  },
  {
   "cell_type": "code",
   "execution_count": 13,
   "metadata": {},
   "outputs": [],
   "source": [
    "# Rescale\n",
    "scaler = StandardScaler()\n",
    "scaler.fit(X_train)\n",
    "\n",
    "X_train = scaler.transform(X_train)\n",
    "X_test = scaler.transform(X_test)"
   ]
  },
  {
   "cell_type": "markdown",
   "metadata": {},
   "source": [
    "## Run: Main (DNM) and Oracle Models"
   ]
  },
  {
   "cell_type": "code",
   "execution_count": 14,
   "metadata": {},
   "outputs": [
    {
     "name": "stderr",
     "output_type": "stream",
     "text": [
      "100%|██████████| 5/5 [00:00<00:00, 13609.03it/s]"
     ]
    },
    {
     "name": "stdout",
     "output_type": "stream",
     "text": [
      "------------------------------\n",
      "Running script for main model!\n",
      "------------------------------\n",
      "Deep Feature Builder - Ready\n",
      "Deep Classifier - Ready\n",
      "==========================================\n",
      "Training Classifer Portion of Type-A Model\n",
      "==========================================\n",
      "Fitting 2 folds for each of 1 candidates, totalling 2 fits\n"
     ]
    },
    {
     "name": "stderr",
     "output_type": "stream",
     "text": [
      "\n",
      "[Parallel(n_jobs=4)]: Using backend LokyBackend with 4 concurrent workers.\n",
      "[Parallel(n_jobs=4)]: Done   2 out of   2 | elapsed:    4.5s remaining:    0.0s\n",
      "[Parallel(n_jobs=4)]: Done   2 out of   2 | elapsed:    4.5s finished\n"
     ]
    },
    {
     "name": "stdout",
     "output_type": "stream",
     "text": [
      "Epoch 1/2\n",
      "4/4 [==============================] - 0s 1ms/step - loss: 1.6083 - accuracy: 0.2200\n",
      "Epoch 2/2\n",
      "4/4 [==============================] - 0s 2ms/step - loss: 1.6078 - accuracy: 0.2200\n",
      "4/4 [==============================] - 0s 1ms/step\n",
      "4/4 [==============================] - 0s 905us/step\n",
      "===============================================\n",
      "Training Classifer Portion of Type Model: Done!\n",
      "===============================================\n",
      "------------------------------------\n",
      "Done: Running script for main model!\n",
      "------------------------------------\n"
     ]
    }
   ],
   "source": [
    "print(\"------------------------------\")\n",
    "print(\"Running script for main model!\")\n",
    "print(\"------------------------------\")\n",
    "%run Universal_Measure_Valued_Networks_Backend.ipynb\n",
    "# exec(open('Universal_Measure_Valued_Networks_Backend.py').read())\n",
    "\n",
    "print(\"------------------------------------\")\n",
    "print(\"Done: Running script for main model!\")\n",
    "print(\"------------------------------------\")"
   ]
  },
  {
   "cell_type": "markdown",
   "metadata": {},
   "source": [
    "### Evaluate Main and Oracle Model's Performance"
   ]
  },
  {
   "cell_type": "code",
   "execution_count": 15,
   "metadata": {},
   "outputs": [
    {
     "name": "stderr",
     "output_type": "stream",
     "text": [
      "\r",
      "  0%|          | 0/50 [00:00<?, ?it/s]"
     ]
    },
    {
     "name": "stdout",
     "output_type": "stream",
     "text": [
      "#--------------------#\n",
      " Get Training Error(s)\n",
      "#--------------------#\n"
     ]
    },
    {
     "name": "stderr",
     "output_type": "stream",
     "text": [
      "100%|██████████| 50/50 [00:01<00:00, 49.70it/s]\n",
      "  8%|▊         | 4/50 [00:00<00:01, 37.49it/s]"
     ]
    },
    {
     "name": "stdout",
     "output_type": "stream",
     "text": [
      "#-------------------------#\n",
      " Get Training Error(s): END\n",
      "#-------------------------#\n",
      "#----------------#\n",
      " Get Test Error(s)\n",
      "#----------------#\n"
     ]
    },
    {
     "name": "stderr",
     "output_type": "stream",
     "text": [
      "100%|██████████| 50/50 [00:00<00:00, 52.52it/s]\n"
     ]
    },
    {
     "name": "stdout",
     "output_type": "stream",
     "text": [
      "#------------------------#\n",
      " Get Testing Error(s): END\n",
      "#------------------------#\n",
      "                                     DNM  MC-Oracle\n",
      "W1-95L                          7.418265   0.000000\n",
      "W1                              8.417237   0.000000\n",
      "W1-95R                          9.337770   0.000000\n",
      "M-95L                           0.283303   0.000000\n",
      "M                               0.343522   0.000000\n",
      "M-95R                           0.400752   0.000000\n",
      "N_Par                          23.000000   0.000000\n",
      "Train_Time                      7.625761   0.944898\n",
      "Test_Time/MC-Oracle_Test_Time   0.055351   1.000000\n"
     ]
    }
   ],
   "source": [
    "%run Universal_Measure_Valued_Networks_Backend_EVALUATOR.ipynb\n",
    "# exec(open(Universal_Measure_Valued_Networks_Backend_EVALUATOR.py).read())"
   ]
  },
  {
   "cell_type": "markdown",
   "metadata": {},
   "source": [
    "## 1) *Pointmass Benchmark(s)*\n",
    "These benchmarks consist of subsets of $C(\\mathbb{R}^d,\\mathbb{R})$ which we lift to models in $C(\\mathbb{R}^d,\\cap_{1\\leq q<\\infty}\\mathscr{P}_{q}(\\mathbb{R}))$ via:\n",
    "$$\n",
    "\\mathbb{R}^d \\ni x \\to f(x) \\to \\delta_{f(x)}\\in \\cap_{1\\leq q<\\infty}\\mathcal{P}_{q}(\\mathbb{R}).\n",
    "$$"
   ]
  },
  {
   "cell_type": "code",
   "execution_count": 17,
   "metadata": {},
   "outputs": [],
   "source": [
    "# # Transport-problem initializations #\n",
    "# #-----------------------------------#\n",
    "# if output_dim != 1:\n",
    "#     ## Multi-dimensional\n",
    "#     # Externally Update Empirical Weights for multi-dimensional case\n",
    "#     empirical_weights = np.full((N_Monte_Carlo_Samples,),1/N_Monte_Carlo_Samples)\n",
    "#     # Also Initialize\n",
    "#     Sinkhorn_regularization = 0.1\n",
    "# else:\n",
    "#     ## Single-Dimensional\n",
    "#     # Initialize Empirical Weights\n",
    "#     empirical_weights = (np.ones(N_Monte_Carlo_Samples)/N_Monte_Carlo_Samples).reshape(-1,)\n",
    "\n",
    "# #-------------------------#\n",
    "# # Define Transport Solver #\n",
    "# #-------------------------#\n",
    "# def transport_dist(x_source,w_source,x_sink,w_sink,output_dim,OT_method=\"Sliced\"):\n",
    "#     # Decide which problem to solve (1D or multi-D)?\n",
    "#     if output_dim == 1:\n",
    "#         OT_out = ot.emd2_1d(x_source,\n",
    "#                             x_sink,\n",
    "#                             w_source,\n",
    "#                             w_sink)\n",
    "#     else:\n",
    "#         # COERCSION\n",
    "#         ## Update Source Distribution\n",
    "#         x_source = points_of_mass.reshape(-1,output_dim)\n",
    "#         ## Update Sink Distribution\n",
    "#         x_sink = np.array(Y_train[i,]).reshape(-1,output_dim)\n",
    "        \n",
    "#         if OT_method == \"Sinkhorn\":\n",
    "#             OT_out = ot.bregman.empirical_sinkhorn2(X_s = x_source, \n",
    "#                                                     X_t = x_sink,\n",
    "#                                                     a = w_source, \n",
    "#                                                     b = w_sink, \n",
    "#                                                     reg=0.01, \n",
    "#                                                     verbose=False,\n",
    "#                                                     method = \"sinkhorn_stabilized\")\n",
    "#             # COERSION\n",
    "#             OT_out = float(OT_out[0])\n",
    "#         else:\n",
    "#             OT_out = ot.sliced.sliced_wasserstein_distance(X_s = x_source, \n",
    "#                                                     X_t = x_sink,\n",
    "#                                                     a = w_source, \n",
    "#                                                     b = w_sink, \n",
    "#                                                     seed = 2020)\n",
    "#             # COERSION\n",
    "#             OT_out = float(OT_out)\n",
    "#     # Return (regularized?) Transport Distance\n",
    "#     return OT_out"
   ]
  },
  {
   "cell_type": "code",
   "execution_count": 18,
   "metadata": {},
   "outputs": [
    {
     "name": "stderr",
     "output_type": "stream",
     "text": [
      "\r",
      "  0%|          | 0/2 [00:00<?, ?it/s]"
     ]
    },
    {
     "name": "stdout",
     "output_type": "stream",
     "text": [
      "Deep Feature Builder - Ready\n",
      "--------------\n",
      "Training: ENET\n",
      "--------------\n"
     ]
    },
    {
     "name": "stderr",
     "output_type": "stream",
     "text": [
      "100%|██████████| 2/2 [00:08<00:00,  4.44s/it]\n",
      " 20%|██        | 10/50 [00:00<00:00, 97.53it/s]"
     ]
    },
    {
     "name": "stdout",
     "output_type": "stream",
     "text": [
      "---------------------\n",
      "Training: ENET - Done\n",
      "---------------------\n",
      "#------------#\n",
      " Get Error(s) \n",
      "#------------#\n"
     ]
    },
    {
     "name": "stderr",
     "output_type": "stream",
     "text": [
      "100%|██████████| 50/50 [00:00<00:00, 98.78it/s]\n",
      " 22%|██▏       | 11/50 [00:00<00:00, 99.83it/s]"
     ]
    },
    {
     "name": "stdout",
     "output_type": "stream",
     "text": [
      "#-----------------#\n",
      " Get Error(s): END \n",
      "#-----------------#\n",
      "#------------#\n",
      " Get Error(s) \n",
      "#------------#\n"
     ]
    },
    {
     "name": "stderr",
     "output_type": "stream",
     "text": [
      "100%|██████████| 50/50 [00:00<00:00, 97.19it/s] \n",
      "[Parallel(n_jobs=4)]: Using backend LokyBackend with 4 concurrent workers.\n",
      "[Parallel(n_jobs=4)]: Done   1 tasks      | elapsed:    0.1s\n",
      "[Parallel(n_jobs=4)]: Batch computation too fast (0.0493s.) Setting batch_size=2.\n",
      "[Parallel(n_jobs=4)]: Done   2 out of   4 | elapsed:    0.1s remaining:    0.1s\n"
     ]
    },
    {
     "name": "stdout",
     "output_type": "stream",
     "text": [
      "#-----------------#\n",
      " Get Error(s): END \n",
      "#-----------------#\n",
      "Updated DataFrame\n",
      "                                     DNM  MC-Oracle         ENET\n",
      "W1-95L                          7.614287   0.000000            -\n",
      "W1                              8.417237   0.000000            -\n",
      "W1-95R                          9.337770   0.000000            -\n",
      "M-95L                           0.416545   0.000000    0.0920916\n",
      "M                               0.468905   0.000000     0.121827\n",
      "M-95R                           0.531640   0.000000     0.148096\n",
      "N_Par                          23.000000   0.000000          106\n",
      "Train_Time                      7.625761   0.944898  1.62084e+09\n",
      "Test_Time/MC-Oracle_Test_Time   0.055351   1.000000   0.00012336\n",
      "------------------------------------------------\n",
      "Updated Performance Metrics Dataframe and Saved!\n",
      "------------------------------------------------\n",
      "-----------------\n",
      "Training: K-Ridge\n",
      "-----------------\n",
      "Fitting 2 folds for each of 2 candidates, totalling 4 fits\n"
     ]
    },
    {
     "name": "stderr",
     "output_type": "stream",
     "text": [
      "[Parallel(n_jobs=4)]: Done   4 out of   4 | elapsed:    0.4s remaining:    0.0s\n",
      "[Parallel(n_jobs=4)]: Done   4 out of   4 | elapsed:    0.4s finished\n",
      " 14%|█▍        | 7/50 [00:00<00:00, 66.96it/s]"
     ]
    },
    {
     "name": "stdout",
     "output_type": "stream",
     "text": [
      "#------------#\n",
      " Get Error(s) \n",
      "#------------#\n"
     ]
    },
    {
     "name": "stderr",
     "output_type": "stream",
     "text": [
      "100%|██████████| 50/50 [00:00<00:00, 86.54it/s]\n",
      " 20%|██        | 10/50 [00:00<00:00, 93.87it/s]"
     ]
    },
    {
     "name": "stdout",
     "output_type": "stream",
     "text": [
      "#-----------------#\n",
      " Get Error(s): END \n",
      "#-----------------#\n",
      "#------------#\n",
      " Get Error(s) \n",
      "#------------#\n"
     ]
    },
    {
     "name": "stderr",
     "output_type": "stream",
     "text": [
      "100%|██████████| 50/50 [00:00<00:00, 93.11it/s]\n",
      "[Parallel(n_jobs=4)]: Using backend LokyBackend with 4 concurrent workers.\n",
      "[Parallel(n_jobs=4)]: Batch computation too fast (0.0350s.) Setting batch_size=2.\n",
      "[Parallel(n_jobs=4)]: Done   2 out of   2 | elapsed:    0.0s remaining:    0.0s\n",
      "[Parallel(n_jobs=4)]: Done   2 out of   2 | elapsed:    0.0s finished\n",
      "[Parallel(n_jobs=4)]: Using backend LokyBackend with 4 concurrent workers.\n",
      "[Parallel(n_jobs=4)]: Batch computation too fast (0.0447s.) Setting batch_size=2.\n",
      "[Parallel(n_jobs=4)]: Done   2 out of   2 | elapsed:    0.0s remaining:    0.0s\n",
      "[Parallel(n_jobs=4)]: Done   2 out of   2 | elapsed:    0.0s finished\n",
      "  0%|          | 0/50 [00:00<?, ?it/s]"
     ]
    },
    {
     "name": "stdout",
     "output_type": "stream",
     "text": [
      "#-----------------#\n",
      " Get Error(s): END \n",
      "#-----------------#\n",
      "Updated DataFrame\n",
      "                                     DNM  MC-Oracle         ENET       KRidge\n",
      "W1-95L                          7.614287   0.000000            -            -\n",
      "W1                              8.417237   0.000000            -            -\n",
      "W1-95R                          9.337770   0.000000            -            -\n",
      "M-95L                           0.416545   0.000000    0.0920916  8.41396e+42\n",
      "M                               0.468905   0.000000     0.121827  8.41396e+42\n",
      "M-95R                           0.531640   0.000000     0.148096  8.41396e+42\n",
      "N_Par                          23.000000   0.000000          106            0\n",
      "Train_Time                      7.625761   0.944898  1.62084e+09       1.6049\n",
      "Test_Time/MC-Oracle_Test_Time   0.055351   1.000000   0.00012336  0.000450491\n",
      "------------------------------------------------\n",
      "Updated Performance Metrics Dataframe and Saved!\n",
      "------------------------------------------------\n",
      "--------------\n",
      "Training: GBRF\n",
      "--------------\n",
      "Fitting 2 folds for each of 1 candidates, totalling 2 fits\n",
      "Fitting 2 folds for each of 1 candidates, totalling 2 fits\n",
      "#------------#\n",
      " Get Error(s) \n",
      "#------------#\n"
     ]
    },
    {
     "name": "stderr",
     "output_type": "stream",
     "text": [
      "100%|██████████| 50/50 [00:00<00:00, 95.77it/s]\n",
      " 20%|██        | 10/50 [00:00<00:00, 96.93it/s]"
     ]
    },
    {
     "name": "stdout",
     "output_type": "stream",
     "text": [
      "#-----------------#\n",
      " Get Error(s): END \n",
      "#-----------------#\n",
      "#------------#\n",
      " Get Error(s) \n",
      "#------------#\n"
     ]
    },
    {
     "name": "stderr",
     "output_type": "stream",
     "text": [
      "100%|██████████| 50/50 [00:00<00:00, 96.82it/s]\n",
      "[Parallel(n_jobs=4)]: Using backend LokyBackend with 4 concurrent workers.\n"
     ]
    },
    {
     "name": "stdout",
     "output_type": "stream",
     "text": [
      "#-----------------#\n",
      " Get Error(s): END \n",
      "#-----------------#\n",
      "Updated DataFrame\n",
      "                                     DNM  MC-Oracle         ENET       KRidge  \\\n",
      "W1-95L                          7.614287   0.000000            -            -   \n",
      "W1                              8.417237   0.000000            -            -   \n",
      "W1-95R                          9.337770   0.000000            -            -   \n",
      "M-95L                           0.416545   0.000000    0.0920916  8.41396e+42   \n",
      "M                               0.468905   0.000000     0.121827  8.41396e+42   \n",
      "M-95R                           0.531640   0.000000     0.148096  8.41396e+42   \n",
      "N_Par                          23.000000   0.000000          106            0   \n",
      "Train_Time                      7.625761   0.944898  1.62084e+09       1.6049   \n",
      "Test_Time/MC-Oracle_Test_Time   0.055351   1.000000   0.00012336  0.000450491   \n",
      "\n",
      "                                      GBRF  \n",
      "W1-95L                                   -  \n",
      "W1                                       -  \n",
      "W1-95R                                   -  \n",
      "M-95L                             0.344304  \n",
      "M                                  0.42216  \n",
      "M-95R                             0.473096  \n",
      "N_Par                                  924  \n",
      "Train_Time                         1.16024  \n",
      "Test_Time/MC-Oracle_Test_Time  0.000324029  \n",
      "------------------------------------------------\n",
      "Updated Performance Metrics Dataframe and Saved!\n",
      "------------------------------------------------\n",
      "-------------\n",
      "Training: DNN\n",
      "-------------\n",
      "Fitting 2 folds for each of 1 candidates, totalling 2 fits\n"
     ]
    },
    {
     "name": "stderr",
     "output_type": "stream",
     "text": [
      "[Parallel(n_jobs=4)]: Done   2 out of   2 | elapsed:    1.0s remaining:    0.0s\n",
      "[Parallel(n_jobs=4)]: Done   2 out of   2 | elapsed:    1.0s finished\n"
     ]
    },
    {
     "name": "stdout",
     "output_type": "stream",
     "text": [
      "Epoch 1/2\n",
      "4/4 [==============================] - 0s 1ms/step - loss: 0.2421 - mse: 0.0744 - mae: 0.2421 - mape: 233.2092\n",
      "Epoch 2/2\n",
      "4/4 [==============================] - 0s 1ms/step - loss: 0.2421 - mse: 0.0744 - mae: 0.2421 - mape: 233.1287\n",
      "4/4 [==============================] - 0s 981us/step\n",
      "4/4 [==============================] - 0s 2ms/step\n"
     ]
    },
    {
     "name": "stderr",
     "output_type": "stream",
     "text": [
      "\r",
      "  0%|          | 0/50 [00:00<?, ?it/s]"
     ]
    },
    {
     "name": "stdout",
     "output_type": "stream",
     "text": [
      "#------------#\n",
      " Get Error(s) \n",
      "#------------#\n"
     ]
    },
    {
     "name": "stderr",
     "output_type": "stream",
     "text": [
      "100%|██████████| 50/50 [00:00<00:00, 88.85it/s]\n",
      " 20%|██        | 10/50 [00:00<00:00, 95.20it/s]"
     ]
    },
    {
     "name": "stdout",
     "output_type": "stream",
     "text": [
      "#-----------------#\n",
      " Get Error(s): END \n",
      "#-----------------#\n",
      "#------------#\n",
      " Get Error(s) \n",
      "#------------#\n"
     ]
    },
    {
     "name": "stderr",
     "output_type": "stream",
     "text": [
      "100%|██████████| 50/50 [00:00<00:00, 94.37it/s]"
     ]
    },
    {
     "name": "stdout",
     "output_type": "stream",
     "text": [
      "#-----------------#\n",
      " Get Error(s): END \n",
      "#-----------------#\n",
      "Updated DataFrame\n",
      "                                     DNM  MC-Oracle         ENET       KRidge  \\\n",
      "W1-95L                          7.614287   0.000000            -            -   \n",
      "W1                              8.417237   0.000000            -            -   \n",
      "W1-95R                          9.337770   0.000000            -            -   \n",
      "M-95L                           0.416545   0.000000    0.0920916  8.41396e+42   \n",
      "M                               0.468905   0.000000     0.121827  8.41396e+42   \n",
      "M-95R                           0.531640   0.000000     0.148096  8.41396e+42   \n",
      "N_Par                          23.000000   0.000000          106            0   \n",
      "Train_Time                      7.625761   0.944898  1.62084e+09       1.6049   \n",
      "Test_Time/MC-Oracle_Test_Time   0.055351   1.000000   0.00012336  0.000450491   \n",
      "\n",
      "                                      GBRF          DNN  \n",
      "W1-95L                                   -            -  \n",
      "W1                                       -            -  \n",
      "W1-95R                                   -            -  \n",
      "M-95L                             0.344304  6.48093e+11  \n",
      "M                                  0.42216  6.48093e+11  \n",
      "M-95R                             0.473096  6.48093e+11  \n",
      "N_Par                                  924           14  \n",
      "Train_Time                         1.16024      2.93983  \n",
      "Test_Time/MC-Oracle_Test_Time  0.000324029     0.052523  \n",
      "------------------------------------------------\n",
      "Updated Performance Metrics Dataframe and Saved!\n",
      "------------------------------------------------\n"
     ]
    },
    {
     "name": "stderr",
     "output_type": "stream",
     "text": [
      "\n"
     ]
    }
   ],
   "source": [
    "exec(open('CV_Grid.py').read())\n",
    "# Notebook Mode:\n",
    "# %run Evaluation.ipynb\n",
    "# %run Benchmarks_Model_Builder_Pointmass_Based.ipynb\n",
    "# Terminal Mode (Default):\n",
    "exec(open('Evaluation.py').read())\n",
    "exec(open('Benchmarks_Model_Builder_Pointmass_Based.py').read())"
   ]
  },
  {
   "cell_type": "markdown",
   "metadata": {},
   "source": [
    "# Summary of Point-Mass Regression Models"
   ]
  },
  {
   "cell_type": "markdown",
   "metadata": {},
   "source": [
    "#### Training Model Facts"
   ]
  },
  {
   "cell_type": "code",
   "execution_count": 19,
   "metadata": {},
   "outputs": [
    {
     "name": "stdout",
     "output_type": "stream",
     "text": [
      "                                     DNM  MC-Oracle         ENET       KRidge  \\\n",
      "W1-95L                          7.614287   0.000000            -            -   \n",
      "W1                              8.417237   0.000000            -            -   \n",
      "W1-95R                          9.337770   0.000000            -            -   \n",
      "M-95L                           0.416545   0.000000    0.0920916  8.41396e+42   \n",
      "M                               0.468905   0.000000     0.121827  8.41396e+42   \n",
      "M-95R                           0.531640   0.000000     0.148096  8.41396e+42   \n",
      "N_Par                          23.000000   0.000000          106            0   \n",
      "Train_Time                      7.625761   0.944898  1.62084e+09       1.6049   \n",
      "Test_Time/MC-Oracle_Test_Time   0.055351   1.000000   0.00012336  0.000450491   \n",
      "\n",
      "                                      GBRF          DNN  \n",
      "W1-95L                                   -            -  \n",
      "W1                                       -            -  \n",
      "W1-95R                                   -            -  \n",
      "M-95L                             0.344304  6.48093e+11  \n",
      "M                                  0.42216  6.48093e+11  \n",
      "M-95R                             0.473096  6.48093e+11  \n",
      "N_Par                                  924           14  \n",
      "Train_Time                         1.16024      2.93983  \n",
      "Test_Time/MC-Oracle_Test_Time  0.000324029     0.052523  \n"
     ]
    },
    {
     "data": {
      "text/html": [
       "<div>\n",
       "<style scoped>\n",
       "    .dataframe tbody tr th:only-of-type {\n",
       "        vertical-align: middle;\n",
       "    }\n",
       "\n",
       "    .dataframe tbody tr th {\n",
       "        vertical-align: top;\n",
       "    }\n",
       "\n",
       "    .dataframe thead th {\n",
       "        text-align: right;\n",
       "    }\n",
       "</style>\n",
       "<table border=\"1\" class=\"dataframe\">\n",
       "  <thead>\n",
       "    <tr style=\"text-align: right;\">\n",
       "      <th></th>\n",
       "      <th>DNM</th>\n",
       "      <th>MC-Oracle</th>\n",
       "      <th>ENET</th>\n",
       "      <th>KRidge</th>\n",
       "      <th>GBRF</th>\n",
       "      <th>DNN</th>\n",
       "    </tr>\n",
       "  </thead>\n",
       "  <tbody>\n",
       "    <tr>\n",
       "      <th>W1-95L</th>\n",
       "      <td>7.614287</td>\n",
       "      <td>0.000000</td>\n",
       "      <td>-</td>\n",
       "      <td>-</td>\n",
       "      <td>-</td>\n",
       "      <td>-</td>\n",
       "    </tr>\n",
       "    <tr>\n",
       "      <th>W1</th>\n",
       "      <td>8.417237</td>\n",
       "      <td>0.000000</td>\n",
       "      <td>-</td>\n",
       "      <td>-</td>\n",
       "      <td>-</td>\n",
       "      <td>-</td>\n",
       "    </tr>\n",
       "    <tr>\n",
       "      <th>W1-95R</th>\n",
       "      <td>9.337770</td>\n",
       "      <td>0.000000</td>\n",
       "      <td>-</td>\n",
       "      <td>-</td>\n",
       "      <td>-</td>\n",
       "      <td>-</td>\n",
       "    </tr>\n",
       "    <tr>\n",
       "      <th>M-95L</th>\n",
       "      <td>0.416545</td>\n",
       "      <td>0.000000</td>\n",
       "      <td>0.0920916</td>\n",
       "      <td>8.41396e+42</td>\n",
       "      <td>0.344304</td>\n",
       "      <td>6.48093e+11</td>\n",
       "    </tr>\n",
       "    <tr>\n",
       "      <th>M</th>\n",
       "      <td>0.468905</td>\n",
       "      <td>0.000000</td>\n",
       "      <td>0.121827</td>\n",
       "      <td>8.41396e+42</td>\n",
       "      <td>0.42216</td>\n",
       "      <td>6.48093e+11</td>\n",
       "    </tr>\n",
       "    <tr>\n",
       "      <th>M-95R</th>\n",
       "      <td>0.531640</td>\n",
       "      <td>0.000000</td>\n",
       "      <td>0.148096</td>\n",
       "      <td>8.41396e+42</td>\n",
       "      <td>0.473096</td>\n",
       "      <td>6.48093e+11</td>\n",
       "    </tr>\n",
       "    <tr>\n",
       "      <th>N_Par</th>\n",
       "      <td>23.000000</td>\n",
       "      <td>0.000000</td>\n",
       "      <td>106</td>\n",
       "      <td>0</td>\n",
       "      <td>924</td>\n",
       "      <td>14</td>\n",
       "    </tr>\n",
       "    <tr>\n",
       "      <th>Train_Time</th>\n",
       "      <td>7.625761</td>\n",
       "      <td>0.944898</td>\n",
       "      <td>1.62084e+09</td>\n",
       "      <td>1.6049</td>\n",
       "      <td>1.16024</td>\n",
       "      <td>2.93983</td>\n",
       "    </tr>\n",
       "    <tr>\n",
       "      <th>Test_Time/MC-Oracle_Test_Time</th>\n",
       "      <td>0.055351</td>\n",
       "      <td>1.000000</td>\n",
       "      <td>0.00012336</td>\n",
       "      <td>0.000450491</td>\n",
       "      <td>0.000324029</td>\n",
       "      <td>0.052523</td>\n",
       "    </tr>\n",
       "  </tbody>\n",
       "</table>\n",
       "</div>"
      ],
      "text/plain": [
       "                                     DNM  MC-Oracle         ENET       KRidge  \\\n",
       "W1-95L                          7.614287   0.000000            -            -   \n",
       "W1                              8.417237   0.000000            -            -   \n",
       "W1-95R                          9.337770   0.000000            -            -   \n",
       "M-95L                           0.416545   0.000000    0.0920916  8.41396e+42   \n",
       "M                               0.468905   0.000000     0.121827  8.41396e+42   \n",
       "M-95R                           0.531640   0.000000     0.148096  8.41396e+42   \n",
       "N_Par                          23.000000   0.000000          106            0   \n",
       "Train_Time                      7.625761   0.944898  1.62084e+09       1.6049   \n",
       "Test_Time/MC-Oracle_Test_Time   0.055351   1.000000   0.00012336  0.000450491   \n",
       "\n",
       "                                      GBRF          DNN  \n",
       "W1-95L                                   -            -  \n",
       "W1                                       -            -  \n",
       "W1-95R                                   -            -  \n",
       "M-95L                             0.344304  6.48093e+11  \n",
       "M                                  0.42216  6.48093e+11  \n",
       "M-95R                             0.473096  6.48093e+11  \n",
       "N_Par                                  924           14  \n",
       "Train_Time                         1.16024      2.93983  \n",
       "Test_Time/MC-Oracle_Test_Time  0.000324029     0.052523  "
      ]
     },
     "execution_count": 19,
     "metadata": {},
     "output_type": "execute_result"
    }
   ],
   "source": [
    "print(Summary_pred_Qual_models)\n",
    "Summary_pred_Qual_models"
   ]
  },
  {
   "cell_type": "markdown",
   "metadata": {},
   "source": [
    "#### Testing Model Facts"
   ]
  },
  {
   "cell_type": "code",
   "execution_count": 20,
   "metadata": {},
   "outputs": [
    {
     "name": "stdout",
     "output_type": "stream",
     "text": [
      "                                     DNM  MC-Oracle          ENET  \\\n",
      "W1-95L                          7.418265   0.000000  9.470811e+00   \n",
      "W1                              8.417237   0.000000  1.130337e+01   \n",
      "W1-95R                          9.337770   0.000000  1.344438e+01   \n",
      "M-95L                           0.283303   0.000000  9.209162e-02   \n",
      "M                               0.343522   0.000000  1.218272e-01   \n",
      "M-95R                           0.400752   0.000000  1.480957e-01   \n",
      "N_Par                          23.000000   0.000000  1.060000e+02   \n",
      "Train_Time                      7.625761   0.944898  1.620839e+09   \n",
      "Test_Time/MC-Oracle_Test_Time   0.055351   1.000000  1.233601e-04   \n",
      "\n",
      "                                     KRidge        GBRF           DNN  \n",
      "W1-95L                         4.920840e+42    8.961968  3.274312e+11  \n",
      "W1                             4.975703e+42   11.311635  3.311580e+11  \n",
      "W1-95R                         5.056688e+42   14.036639  3.354489e+11  \n",
      "M-95L                          8.413963e+42    0.259302  6.480934e+11  \n",
      "M                              8.413963e+42    0.306053  6.480934e+11  \n",
      "M-95R                          8.413963e+42    0.350270  6.480934e+11  \n",
      "N_Par                          0.000000e+00  924.000000  1.400000e+01  \n",
      "Train_Time                     1.604898e+00    1.160245  2.939826e+00  \n",
      "Test_Time/MC-Oracle_Test_Time  4.504912e-04    0.000324  5.252303e-02  \n"
     ]
    },
    {
     "data": {
      "text/html": [
       "<div>\n",
       "<style scoped>\n",
       "    .dataframe tbody tr th:only-of-type {\n",
       "        vertical-align: middle;\n",
       "    }\n",
       "\n",
       "    .dataframe tbody tr th {\n",
       "        vertical-align: top;\n",
       "    }\n",
       "\n",
       "    .dataframe thead th {\n",
       "        text-align: right;\n",
       "    }\n",
       "</style>\n",
       "<table border=\"1\" class=\"dataframe\">\n",
       "  <thead>\n",
       "    <tr style=\"text-align: right;\">\n",
       "      <th></th>\n",
       "      <th>DNM</th>\n",
       "      <th>MC-Oracle</th>\n",
       "      <th>ENET</th>\n",
       "      <th>KRidge</th>\n",
       "      <th>GBRF</th>\n",
       "      <th>DNN</th>\n",
       "    </tr>\n",
       "  </thead>\n",
       "  <tbody>\n",
       "    <tr>\n",
       "      <th>W1-95L</th>\n",
       "      <td>7.418265</td>\n",
       "      <td>0.000000</td>\n",
       "      <td>9.470811e+00</td>\n",
       "      <td>4.920840e+42</td>\n",
       "      <td>8.961968</td>\n",
       "      <td>3.274312e+11</td>\n",
       "    </tr>\n",
       "    <tr>\n",
       "      <th>W1</th>\n",
       "      <td>8.417237</td>\n",
       "      <td>0.000000</td>\n",
       "      <td>1.130337e+01</td>\n",
       "      <td>4.975703e+42</td>\n",
       "      <td>11.311635</td>\n",
       "      <td>3.311580e+11</td>\n",
       "    </tr>\n",
       "    <tr>\n",
       "      <th>W1-95R</th>\n",
       "      <td>9.337770</td>\n",
       "      <td>0.000000</td>\n",
       "      <td>1.344438e+01</td>\n",
       "      <td>5.056688e+42</td>\n",
       "      <td>14.036639</td>\n",
       "      <td>3.354489e+11</td>\n",
       "    </tr>\n",
       "    <tr>\n",
       "      <th>M-95L</th>\n",
       "      <td>0.283303</td>\n",
       "      <td>0.000000</td>\n",
       "      <td>9.209162e-02</td>\n",
       "      <td>8.413963e+42</td>\n",
       "      <td>0.259302</td>\n",
       "      <td>6.480934e+11</td>\n",
       "    </tr>\n",
       "    <tr>\n",
       "      <th>M</th>\n",
       "      <td>0.343522</td>\n",
       "      <td>0.000000</td>\n",
       "      <td>1.218272e-01</td>\n",
       "      <td>8.413963e+42</td>\n",
       "      <td>0.306053</td>\n",
       "      <td>6.480934e+11</td>\n",
       "    </tr>\n",
       "    <tr>\n",
       "      <th>M-95R</th>\n",
       "      <td>0.400752</td>\n",
       "      <td>0.000000</td>\n",
       "      <td>1.480957e-01</td>\n",
       "      <td>8.413963e+42</td>\n",
       "      <td>0.350270</td>\n",
       "      <td>6.480934e+11</td>\n",
       "    </tr>\n",
       "    <tr>\n",
       "      <th>N_Par</th>\n",
       "      <td>23.000000</td>\n",
       "      <td>0.000000</td>\n",
       "      <td>1.060000e+02</td>\n",
       "      <td>0.000000e+00</td>\n",
       "      <td>924.000000</td>\n",
       "      <td>1.400000e+01</td>\n",
       "    </tr>\n",
       "    <tr>\n",
       "      <th>Train_Time</th>\n",
       "      <td>7.625761</td>\n",
       "      <td>0.944898</td>\n",
       "      <td>1.620839e+09</td>\n",
       "      <td>1.604898e+00</td>\n",
       "      <td>1.160245</td>\n",
       "      <td>2.939826e+00</td>\n",
       "    </tr>\n",
       "    <tr>\n",
       "      <th>Test_Time/MC-Oracle_Test_Time</th>\n",
       "      <td>0.055351</td>\n",
       "      <td>1.000000</td>\n",
       "      <td>1.233601e-04</td>\n",
       "      <td>4.504912e-04</td>\n",
       "      <td>0.000324</td>\n",
       "      <td>5.252303e-02</td>\n",
       "    </tr>\n",
       "  </tbody>\n",
       "</table>\n",
       "</div>"
      ],
      "text/plain": [
       "                                     DNM  MC-Oracle          ENET  \\\n",
       "W1-95L                          7.418265   0.000000  9.470811e+00   \n",
       "W1                              8.417237   0.000000  1.130337e+01   \n",
       "W1-95R                          9.337770   0.000000  1.344438e+01   \n",
       "M-95L                           0.283303   0.000000  9.209162e-02   \n",
       "M                               0.343522   0.000000  1.218272e-01   \n",
       "M-95R                           0.400752   0.000000  1.480957e-01   \n",
       "N_Par                          23.000000   0.000000  1.060000e+02   \n",
       "Train_Time                      7.625761   0.944898  1.620839e+09   \n",
       "Test_Time/MC-Oracle_Test_Time   0.055351   1.000000  1.233601e-04   \n",
       "\n",
       "                                     KRidge        GBRF           DNN  \n",
       "W1-95L                         4.920840e+42    8.961968  3.274312e+11  \n",
       "W1                             4.975703e+42   11.311635  3.311580e+11  \n",
       "W1-95R                         5.056688e+42   14.036639  3.354489e+11  \n",
       "M-95L                          8.413963e+42    0.259302  6.480934e+11  \n",
       "M                              8.413963e+42    0.306053  6.480934e+11  \n",
       "M-95R                          8.413963e+42    0.350270  6.480934e+11  \n",
       "N_Par                          0.000000e+00  924.000000  1.400000e+01  \n",
       "Train_Time                     1.604898e+00    1.160245  2.939826e+00  \n",
       "Test_Time/MC-Oracle_Test_Time  4.504912e-04    0.000324  5.252303e-02  "
      ]
     },
     "execution_count": 20,
     "metadata": {},
     "output_type": "execute_result"
    }
   ],
   "source": [
    "print(Summary_pred_Qual_models_test)\n",
    "Summary_pred_Qual_models_test"
   ]
  },
  {
   "cell_type": "markdown",
   "metadata": {},
   "source": [
    "## 2) *Gaussian Benchmarks*"
   ]
  },
  {
   "cell_type": "markdown",
   "metadata": {},
   "source": [
    "- Bencharm 1: [Gaussian Process Regressor](https://scikit-learn.org/stable/modules/gaussian_process.html)\n",
    "- Benchmark 2: Deep Gaussian Networks:\n",
    "These models train models which assume Gaussianity.  We may view these as models in $\\mathcal{P}_2(\\mathbb{R})$ via:\n",
    "$$\n",
    "\\mathbb{R}^d \\ni x \\to (\\hat{\\mu}(x),\\hat{\\Sigma}(x)\\hat{\\Sigma}^{\\top})\\triangleq f(x) \\in \\mathbb{R}\\times [0,\\infty) \\to \n",
    "(2\\pi)^{-\\frac{d}{2}}\\det(\\hat{\\Sigma}(x))^{-\\frac{1}{2}} \\, e^{ -\\frac{1}{2}(\\cdot - \\hat{\\mu}(x))^{{{\\!\\mathsf{T}}}} \\hat{\\Sigma}(x)^{-1}(\\cdot - \\hat{\\mu}(x)) } \\mu \\in \\mathcal{G}_d\\subset \\mathcal{P}_2(\\mathbb{R});\n",
    "$$\n",
    "where $\\mathcal{G}_1$ is the set of Gaussian measures on $\\mathbb{R}$ equipped with the relative Wasserstein-1 topology.\n",
    "\n",
    "Examples of this type of architecture are especially prevalent in uncertainty quantification; see ([Deep Ensembles](https://arxiv.org/abs/1612.01474)] or [NOMU: Neural Optimization-based Model Uncertainty](https://arxiv.org/abs/2102.13640).  Moreover, their universality in $C(\\mathbb{R}^d,\\mathcal{G}_2)$ is known, and has been shown in [Corollary 4.7](https://arxiv.org/abs/2101.05390)."
   ]
  },
  {
   "cell_type": "code",
   "execution_count": null,
   "metadata": {},
   "outputs": [],
   "source": [
    "# %run Benchmarks_Model_Builder_Mean_Var.ipynb\n",
    "exec(open('Benchmarks_Model_Builder_Mean_Var.py').read())"
   ]
  },
  {
   "cell_type": "code",
   "execution_count": null,
   "metadata": {},
   "outputs": [],
   "source": [
    "print(\"Prediction Quality (Updated): Test\")\n",
    "print(Summary_pred_Qual_models_test)\n",
    "Summary_pred_Qual_models_test"
   ]
  },
  {
   "cell_type": "code",
   "execution_count": null,
   "metadata": {},
   "outputs": [],
   "source": [
    "print(\"Prediction Quality (Updated): Train\")\n",
    "print(Summary_pred_Qual_models)\n",
    "Summary_pred_Qual_models"
   ]
  },
  {
   "cell_type": "markdown",
   "metadata": {},
   "source": [
    "# 3) The natural Universal Benchmark: [Bishop's Mixture Density Network](https://publications.aston.ac.uk/id/eprint/373/1/NCRG_94_004.pdf)\n",
    "\n",
    "This implementation is as follows:\n",
    "- For every $x$ in the trainingdata-set we fit a GMM $\\hat{\\nu}_x$, using the [Expectation-Maximization (EM) algorithm](https://en.wikipedia.org/wiki/Expectation%E2%80%93maximization_algorithm), with the same number of centers as the deep neural model in $\\mathcal{NN}_{1_{\\mathbb{R}^d},\\mathcal{D}}^{\\sigma:\\star}$ which we are evaluating.  \n",
    "- A Mixture density network is then trained to predict the infered parameters; given any $x \\in \\mathbb{R}^d$."
   ]
  },
  {
   "cell_type": "code",
   "execution_count": null,
   "metadata": {},
   "outputs": [],
   "source": [
    "if output_dim == 1:\n",
    "    # %run Mixture_Density_Network.ipynb\n",
    "    exec(open('Mixture_Density_Network.py').read())"
   ]
  },
  {
   "cell_type": "markdown",
   "metadata": {},
   "source": [
    "## Get Final Outputs\n",
    "Now we piece together all the numerical experiments and report a nice summary."
   ]
  },
  {
   "cell_type": "markdown",
   "metadata": {},
   "source": [
    "---\n",
    "# Final Results\n",
    "---"
   ]
  },
  {
   "cell_type": "markdown",
   "metadata": {},
   "source": [
    "## Prasing Quality Metric Results"
   ]
  },
  {
   "cell_type": "markdown",
   "metadata": {},
   "source": [
    "#### Finalizing Saving\n",
    "**Note:** *We do it in two steps since the grid sometimes does not want to write nicely...*"
   ]
  },
  {
   "cell_type": "code",
   "execution_count": null,
   "metadata": {},
   "outputs": [],
   "source": [
    "## Write Performance Metrics\n",
    "### Incase caption breaks\n",
    "Summary_pred_Qual_models.to_latex((results_tables_path+\"/Final_Results/\"+\"Performance_metrics_Problem_Type_\"+str(f_unknown_mode)+\"Problemdimension\"+str(problem_dim)+\"__SUMMARY_METRICS.tex\"),\n",
    "                                 float_format=\"{:0.3g}\".format)\n",
    "text_file = open((results_tables_path+\"/Final_Results/\"+\"ZZZ_CAPTION_Performance_metrics_Problem_Type_\"+str(f_unknown_mode)+\"Problemdimension\"+str(problem_dim)+\"__SUMMARY_METRICS___CAPTION.tex\"), \"w\")\n",
    "text_file.write(\"Quality Metrics; d:\"+str(problem_dim)+\", D:\"+str(output_dim)+\", Depth:\"+str(Depth_Bayesian_DNN)+\", Width:\"+str(width)+\", Dropout rate:\"+str(Dropout_rate)+\".\")\n",
    "text_file.close()\n",
    "\n",
    "\n",
    "### Incase caption does not break\n",
    "Summary_pred_Qual_models.to_latex((results_tables_path+\"/Final_Results/\"+\"Performance_metrics_Problem_Type_\"+str(f_unknown_mode)+\"Problemdimension\"+str(problem_dim)+\"__SUMMARY_METRICS.tex\"),\n",
    "                                 caption=(\"Quality Metrics; d:\"+str(problem_dim)+\", D:\"+str(output_dim)+\", Depth:\"+str(Depth_Bayesian_DNN)+\", Width:\"+str(width)+\", Dropout rate:\"+str(Dropout_rate)+\".\"),\n",
    "                                 float_format=\"{:0.3g}\".format)"
   ]
  },
  {
   "cell_type": "markdown",
   "metadata": {},
   "source": [
    "# For Terminal Runner(s):"
   ]
  },
  {
   "cell_type": "code",
   "execution_count": null,
   "metadata": {},
   "outputs": [],
   "source": [
    "# For Terminal Running\n",
    "print(\"===================\")\n",
    "print(\"Predictive Quality:\")\n",
    "print(\"===================\")\n",
    "print(Summary_pred_Qual_models)\n",
    "print(\"===================\")\n",
    "print(\" \")\n",
    "print(\" \")\n",
    "print(\" \")\n",
    "print(\"Kernel_Used_in_GPR: \"+str(GPR_trash.kernel))\n",
    "print(\"🙃🙃 Have a wonderful day! 🙃🙃\")\n",
    "Summary_pred_Qual_models"
   ]
  },
  {
   "cell_type": "markdown",
   "metadata": {},
   "source": [
    "---\n",
    "# Fin\n",
    "---"
   ]
  },
  {
   "cell_type": "markdown",
   "metadata": {},
   "source": [
    "---"
   ]
  }
 ],
 "metadata": {
  "kernelspec": {
   "display_name": "Python 3",
   "language": "python",
   "name": "python3"
  },
  "language_info": {
   "codemirror_mode": {
    "name": "ipython",
    "version": 3
   },
   "file_extension": ".py",
   "mimetype": "text/x-python",
   "name": "python",
   "nbconvert_exporter": "python",
   "pygments_lexer": "ipython3",
   "version": "3.7.7"
  }
 },
 "nbformat": 4,
 "nbformat_minor": 2
}
