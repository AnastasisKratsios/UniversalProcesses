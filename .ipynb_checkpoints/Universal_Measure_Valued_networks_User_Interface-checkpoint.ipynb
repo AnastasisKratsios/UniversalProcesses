{
 "cells": [
  {
   "cell_type": "markdown",
   "metadata": {},
   "source": [
    "# Deep Universal Regular Conditional Expectations:\n",
    "\n",
    "---\n",
    "This implements the universal deep neural model of $\\mathcal{NN}_{1_{\\mathbb{R}^n},\\mathcal{D}}^{\\sigma:\\star}$ [Anastasis Kratsios](https://people.math.ethz.ch/~kratsioa/) - 2021.\n",
    "\n",
    "---\n",
    "\n",
    "## What does this code do?\n",
    "1. Learn Heteroskedastic Non-Linear Regression Problem\n",
    "     - $Y\\sim f_{\\text{unkown}}(x) + \\epsilon$ where $f$ is an known function and $\\epsilon\\sim Laplace(0,\\|x\\|)$\n",
    "2. Learn Random Bayesian Network's Law:\n",
    "    - $Y = W_J Y^{J-1}, \\qquad Y^{j}\\triangleq \\sigma\\bullet A^{j}Y^{j-1} + b^{j}, \\qquad Y^0\\triangleq x$\n",
    "\n",
    "3. In the above example if $A_j = M_j\\odot \\tilde{A_j}$ where $\\tilde{A}_j$ is a deterministic matrix and $M_j$ is a \"mask\", that is, a random matrix with binary entries and $\\odot$ is the Hadamard product then we recover the dropout framework.\n",
    "4. Learn the probability distribution that the unique strong solution to the rough SDE with uniformly Lipschitz drivers driven by a factional Brownian motion with Hurst exponent $H \\in [\\frac1{2},1)$:\n",
    "$$\n",
    "X_t^x = x + \\int_0^t \\alpha(s,X_s^x)ds + \\int_0^t \\beta(s,X_s^x)dB_s^H\n",
    "$$\n",
    "belongs, at time $t=1$, to a ball about the initial point $x$ of random radius given by an independant exponential random-variable with shape parameter $\\lambda=2$\n",
    "5. Train a DNN to predict the returns of bitcoin with GD.  Since this has random initialization then each prediction of a given $x$ is stochastic...We learn the distribution of this conditional RV (conditioned on x in the input space).\n",
    "$$\n",
    "Y_x \\triangleq \\hat{f}_{\\theta_{T}}(x), \\qquad \\theta_{(t+1)}\\triangleq \\theta_{(t)} + \\lambda \\sum_{x \\in \\mathbb{X}} \\nabla_{\\theta}\\|\\hat{f}_{\\theta_t}(x) - f(x)\\|, \\qquad \\theta_0 \\sim N_d(0,1);\n",
    "$$\n",
    "$T\\in \\mathbb{N}$ is a fixed number of \"SGD\" iterations (typically identified by cross-validation on a single SGD trajectory for a single initialization) and where $\\theta \\in \\mathbb{R}^{(d_{J}+1)+\\sum_{j=0}^{J-1} (d_{j+1}d_j + 1)}$ and $d_j$ is the dimension of the \"bias\" vector $b_j$ defining each layer of the DNN with layer dimensions:\n",
    "$$\n",
    "\\hat{f}_{\\theta}(x)\\triangleq A^{(J)}x^{(J)} + b^{(J)},\\qquad x^{(j+1)}\\triangleq \\sigma\\bullet A^{j}x^{(j)} + b^{j},\\qquad x^{(0)}\\triangleq x\n",
    ".\n",
    "$$"
   ]
  },
  {
   "cell_type": "markdown",
   "metadata": {},
   "source": [
    "#### Mode:\n",
    "Software/Hardware Testing or Real-Deal?"
   ]
  },
  {
   "cell_type": "code",
   "execution_count": 1,
   "metadata": {},
   "outputs": [],
   "source": [
    "trial_run = True"
   ]
  },
  {
   "cell_type": "markdown",
   "metadata": {},
   "source": [
    "### Simulation Method:"
   ]
  },
  {
   "cell_type": "code",
   "execution_count": 2,
   "metadata": {},
   "outputs": [],
   "source": [
    "# # Random DNN\n",
    "# f_unknown_mode = \"Heteroskedastic_NonLinear_Regression\"\n",
    "\n",
    "# # Random DNN internal noise\n",
    "# # f_unknown_mode = \"DNN_with_Random_Weights\"\n",
    "Depth_Bayesian_DNN = 2\n",
    "width = 50\n",
    "\n",
    "# # Random Dropout applied to trained DNN\n",
    "# f_unknown_mode = \"DNN_with_Bayesian_Dropout\"\n",
    "Dropout_rate = 0.1\n",
    "\n",
    "# GD with Randomized Input\n",
    "# f_unknown_mode = \"GD_with_randomized_input\"\n",
    "GD_epochs = 100\n",
    "\n",
    "# SDE with fractional Driver\n",
    "f_unknown_mode = \"Rough_SDE\"\n",
    "N_Euler_Steps = 10**1\n",
    "Hurst_Exponent = 0.5"
   ]
  },
  {
   "cell_type": "markdown",
   "metadata": {},
   "source": [
    "## Problem Dimension"
   ]
  },
  {
   "cell_type": "code",
   "execution_count": 3,
   "metadata": {},
   "outputs": [],
   "source": [
    "problem_dim = 3"
   ]
  },
  {
   "cell_type": "markdown",
   "metadata": {},
   "source": [
    "## Note: *Why the procedure is so computationally efficient*?\n",
    "---\n",
    " - The sample barycenters do not require us to solve for any new Wasserstein-1 Barycenters; which is much more computationally costly,\n",
    " - Our training procedure never back-propages through $\\mathcal{W}_1$ since steps 2 and 3 are full-decoupled.  Therefore, training our deep classifier is (comparatively) cheap since it takes values in the standard $N$-simplex.\n",
    "\n",
    "---"
   ]
  },
  {
   "cell_type": "markdown",
   "metadata": {},
   "source": [
    "#### Grid Hyperparameter(s)\n",
    "- Ratio $\\frac{\\text{Testing Datasize}}{\\text{Training Datasize}}$.\n",
    "- Number of Training Points to Generate"
   ]
  },
  {
   "cell_type": "code",
   "execution_count": 4,
   "metadata": {},
   "outputs": [],
   "source": [
    "train_test_ratio = .2\n",
    "N_train_size = 20"
   ]
  },
  {
   "cell_type": "markdown",
   "metadata": {},
   "source": [
    "Monte-Carlo Paramters"
   ]
  },
  {
   "cell_type": "code",
   "execution_count": 5,
   "metadata": {},
   "outputs": [],
   "source": [
    "## Monte-Carlo\n",
    "N_Monte_Carlo_Samples = 10**1"
   ]
  },
  {
   "cell_type": "markdown",
   "metadata": {},
   "source": [
    "Initial radis of $\\delta$-bounded random partition of $\\mathcal{X}$!"
   ]
  },
  {
   "cell_type": "code",
   "execution_count": 6,
   "metadata": {},
   "outputs": [],
   "source": [
    "# Hyper-parameters of Cover\n",
    "delta = 0.01\n",
    "Proportion_per_cluster = .75"
   ]
  },
  {
   "cell_type": "markdown",
   "metadata": {},
   "source": [
    "## Dependencies and Auxiliary Script(s)"
   ]
  },
  {
   "cell_type": "code",
   "execution_count": 7,
   "metadata": {},
   "outputs": [
    {
     "name": "stderr",
     "output_type": "stream",
     "text": [
      "Using TensorFlow backend.\n"
     ]
    },
    {
     "name": "stdout",
     "output_type": "stream",
     "text": [
      "Deep Feature Builder - Ready\n",
      "Deep Classifier - Ready\n",
      "Deep Feature Builder - Ready\n"
     ]
    }
   ],
   "source": [
    "# %run Loader.ipynb\n",
    "exec(open('Loader.py').read())\n",
    "# Load Packages/Modules\n",
    "exec(open('Init_Dump.py').read())\n",
    "import time as time #<- Note sure why...but its always seems to need 'its own special loading...'"
   ]
  },
  {
   "cell_type": "markdown",
   "metadata": {},
   "source": [
    "# Simulate or Parse Data"
   ]
  },
  {
   "cell_type": "code",
   "execution_count": 8,
   "metadata": {},
   "outputs": [
    {
     "name": "stderr",
     "output_type": "stream",
     "text": [
      "100%|██████████| 20/20 [00:00<00:00, 113.22it/s]\n",
      "  0%|          | 0/4 [00:00<?, ?it/s]"
     ]
    },
    {
     "name": "stdout",
     "output_type": "stream",
     "text": [
      "---------------------------------------\n",
      "Beginning Data-Parsing/Simulation Phase\n",
      "---------------------------------------\n",
      "Deciding on Which Simulator/Parser To Load\n",
      "Setting/Defining: Internal Parameters\n",
      "Deciding on Which Type of Data to Get/Simulate\n",
      "Simulating Output Data for given input data\n"
     ]
    },
    {
     "name": "stderr",
     "output_type": "stream",
     "text": [
      "\r",
      "100%|██████████| 4/4 [00:00<00:00, 74.35it/s]"
     ]
    },
    {
     "name": "stdout",
     "output_type": "stream",
     "text": [
      "----------------------------------\n",
      "Done Data-Parsing/Simulation Phase\n",
      "----------------------------------\n"
     ]
    },
    {
     "name": "stderr",
     "output_type": "stream",
     "text": [
      "\n"
     ]
    }
   ],
   "source": [
    "# %run Data_Simulator_and_Parser.ipynb\n",
    "exec(open('Data_Simulator_and_Parser.py').read())"
   ]
  },
  {
   "cell_type": "markdown",
   "metadata": {},
   "source": [
    "# Run Main:"
   ]
  },
  {
   "cell_type": "code",
   "execution_count": 9,
   "metadata": {},
   "outputs": [
    {
     "name": "stdout",
     "output_type": "stream",
     "text": [
      "------------------------------\n",
      "Running script for main model!\n",
      "------------------------------\n"
     ]
    },
    {
     "name": "stderr",
     "output_type": "stream",
     "text": [
      "100%|██████████| 150/150 [00:00<00:00, 15594.53it/s]"
     ]
    },
    {
     "name": "stdout",
     "output_type": "stream",
     "text": [
      "Deep Feature Builder - Ready\n",
      "Deep Classifier - Ready\n",
      "==========================================\n",
      "Training Classifer Portion of Type-A Model\n",
      "==========================================\n",
      "Fitting 2 folds for each of 1 candidates, totalling 2 fits\n"
     ]
    },
    {
     "name": "stderr",
     "output_type": "stream",
     "text": [
      "\n",
      "[Parallel(n_jobs=4)]: Using backend LokyBackend with 4 concurrent workers.\n",
      "[Parallel(n_jobs=4)]: Done   2 out of   2 | elapsed:    4.9s remaining:    0.0s\n",
      "[Parallel(n_jobs=4)]: Done   2 out of   2 | elapsed:    4.9s finished\n"
     ]
    },
    {
     "name": "stdout",
     "output_type": "stream",
     "text": [
      "Epoch 1/5\n",
      "25/25 [==============================] - 0s 2ms/step - loss: 5.0276 - accuracy: 0.0000e+00\n",
      "Epoch 2/5\n",
      "25/25 [==============================] - 0s 1ms/step - loss: 5.0059 - accuracy: 0.0100\n",
      "Epoch 3/5\n",
      "25/25 [==============================] - 0s 2ms/step - loss: 4.9945 - accuracy: 0.0200\n",
      "Epoch 4/5\n",
      "25/25 [==============================] - 0s 2ms/step - loss: 4.9836 - accuracy: 0.0200\n",
      "Epoch 5/5\n",
      "25/25 [==============================] - 0s 2ms/step - loss: 4.9728 - accuracy: 0.0200\n",
      "25/25 [==============================] - 0s 697us/step\n",
      "5/5 [==============================] - 0s 834us/step\n"
     ]
    },
    {
     "name": "stderr",
     "output_type": "stream",
     "text": [
      "\r",
      "  0%|          | 0/200 [00:00<?, ?it/s]"
     ]
    },
    {
     "name": "stdout",
     "output_type": "stream",
     "text": [
      "===============================================\n",
      "Training Classifer Portion of Type Model: Done!\n",
      "===============================================\n",
      "#--------------------#\n",
      " Get Training Error(s)\n",
      "#--------------------#\n"
     ]
    },
    {
     "name": "stderr",
     "output_type": "stream",
     "text": [
      "100%|██████████| 200/200 [00:03<00:00, 60.87it/s]\n",
      " 15%|█▌        | 6/40 [00:00<00:00, 56.63it/s]"
     ]
    },
    {
     "name": "stdout",
     "output_type": "stream",
     "text": [
      "#-------------------------#\n",
      " Get Training Error(s): END\n",
      "#-------------------------#\n",
      "#----------------#\n",
      " Get Test Error(s)\n",
      "#----------------#\n"
     ]
    },
    {
     "name": "stderr",
     "output_type": "stream",
     "text": [
      "100%|██████████| 40/40 [00:00<00:00, 59.29it/s]"
     ]
    },
    {
     "name": "stdout",
     "output_type": "stream",
     "text": [
      "#------------------------#\n",
      " Get Testing Error(s): END\n",
      "#------------------------#\n",
      "                                       DNM  MC-Oracle\n",
      "W1-95L                            2.897322   0.000000\n",
      "W1                                3.332798   0.000000\n",
      "W1-95R                            3.921041   0.000000\n",
      "M-95L                             2.579966   2.728475\n",
      "M                                 3.214154   3.214154\n",
      "M-95R                             3.664703   3.614930\n",
      "N_Par                          1700.000000   0.000000\n",
      "Train_Time                       10.061492   0.255111\n",
      "Test_Time/MC-Oracle_Test_Time     0.997033   1.000000\n",
      "------------------------------------\n",
      "Done: Running script for main model!\n",
      "------------------------------------\n"
     ]
    },
    {
     "name": "stderr",
     "output_type": "stream",
     "text": [
      "\n"
     ]
    }
   ],
   "source": [
    "print(\"------------------------------\")\n",
    "print(\"Running script for main model!\")\n",
    "print(\"------------------------------\")\n",
    "# %run Universal_Measure_Valued_Networks_Backend.ipynb\n",
    "exec(open('Universal_Measure_Valued_Networks_Backend.py').read())\n",
    "\n",
    "print(\"------------------------------------\")\n",
    "print(\"Done: Running script for main model!\")\n",
    "print(\"------------------------------------\")"
   ]
  },
  {
   "cell_type": "markdown",
   "metadata": {},
   "source": [
    "---\n",
    "# Run: All Benchmarks"
   ]
  },
  {
   "cell_type": "markdown",
   "metadata": {},
   "source": [
    "## 1) *Pointmass Benchmark(s)*\n",
    "These benchmarks consist of subsets of $C(\\mathbb{R}^d,\\mathbb{R})$ which we lift to models in $C(\\mathbb{R}^d,\\cap_{1\\leq q<\\infty}\\mathscr{P}_{q}(\\mathbb{R}))$ via:\n",
    "$$\n",
    "\\mathbb{R}^d \\ni x \\to f(x) \\to \\delta_{f(x)}\\in \\cap_{1\\leq q<\\infty}\\mathcal{P}_{q}(\\mathbb{R}).\n",
    "$$"
   ]
  },
  {
   "cell_type": "code",
   "execution_count": 10,
   "metadata": {},
   "outputs": [
    {
     "name": "stderr",
     "output_type": "stream",
     "text": [
      "\r",
      "  0%|          | 0/3 [00:00<?, ?it/s]"
     ]
    },
    {
     "name": "stdout",
     "output_type": "stream",
     "text": [
      "Deep Feature Builder - Ready\n",
      "--------------\n",
      "Training: ENET\n",
      "--------------\n"
     ]
    },
    {
     "name": "stderr",
     "output_type": "stream",
     "text": [
      "100%|██████████| 3/3 [00:17<00:00,  5.88s/it]\n",
      "  8%|▊         | 15/200 [00:00<00:01, 147.82it/s]"
     ]
    },
    {
     "name": "stdout",
     "output_type": "stream",
     "text": [
      "---------------------\n",
      "Training: ENET - Done\n",
      "---------------------\n",
      "#------------#\n",
      " Get Error(s) \n",
      "#------------#\n"
     ]
    },
    {
     "name": "stderr",
     "output_type": "stream",
     "text": [
      "100%|██████████| 200/200 [00:01<00:00, 163.83it/s]\n",
      " 45%|████▌     | 18/40 [00:00<00:00, 177.17it/s]"
     ]
    },
    {
     "name": "stdout",
     "output_type": "stream",
     "text": [
      "#-----------------#\n",
      " Get Error(s): END \n",
      "#-----------------#\n",
      "#------------#\n",
      " Get Error(s) \n",
      "#------------#\n"
     ]
    },
    {
     "name": "stderr",
     "output_type": "stream",
     "text": [
      "100%|██████████| 40/40 [00:00<00:00, 172.23it/s]\n",
      "[Parallel(n_jobs=4)]: Using backend LokyBackend with 4 concurrent workers.\n",
      "[Parallel(n_jobs=4)]: Done   1 tasks      | elapsed:    0.0s\n",
      "[Parallel(n_jobs=4)]: Batch computation too fast (0.0445s.) Setting batch_size=2.\n",
      "[Parallel(n_jobs=4)]: Done   2 out of   4 | elapsed:    0.1s remaining:    0.1s\n"
     ]
    },
    {
     "name": "stdout",
     "output_type": "stream",
     "text": [
      "#-----------------#\n",
      " Get Error(s): END \n",
      "#-----------------#\n",
      "Updated DataFrame\n",
      "                                       DNM  MC-Oracle          ENET\n",
      "W1-95L                            2.897322   0.000000  1.890991e+01\n",
      "W1                                3.332798   0.000000  2.191562e+01\n",
      "W1-95R                            3.921041   0.000000  2.492850e+01\n",
      "M-95L                             2.579966   2.728475  5.652614e+01\n",
      "M                                 3.214154   3.214154  6.335596e+01\n",
      "M-95R                             3.664703   3.614930  7.233046e+01\n",
      "N_Par                          1700.000000   0.000000  1.200000e+03\n",
      "Train_Time                       10.061492   0.255111  1.619748e+09\n",
      "Test_Time/MC-Oracle_Test_Time     0.997033   1.000000  4.933229e-03\n",
      "-----------------\n",
      "Training: K-Ridge\n",
      "-----------------\n",
      "Fitting 2 folds for each of 2 candidates, totalling 4 fits\n"
     ]
    },
    {
     "name": "stderr",
     "output_type": "stream",
     "text": [
      "[Parallel(n_jobs=4)]: Done   4 out of   4 | elapsed:    0.4s remaining:    0.0s\n",
      "[Parallel(n_jobs=4)]: Done   4 out of   4 | elapsed:    0.4s finished\n",
      "  8%|▊         | 16/200 [00:00<00:01, 156.39it/s]"
     ]
    },
    {
     "name": "stdout",
     "output_type": "stream",
     "text": [
      "#------------#\n",
      " Get Error(s) \n",
      "#------------#\n"
     ]
    },
    {
     "name": "stderr",
     "output_type": "stream",
     "text": [
      "100%|██████████| 200/200 [00:01<00:00, 148.29it/s]\n",
      " 38%|███▊      | 15/40 [00:00<00:00, 146.46it/s]"
     ]
    },
    {
     "name": "stdout",
     "output_type": "stream",
     "text": [
      "#-----------------#\n",
      " Get Error(s): END \n",
      "#-----------------#\n",
      "#------------#\n",
      " Get Error(s) \n",
      "#------------#\n"
     ]
    },
    {
     "name": "stderr",
     "output_type": "stream",
     "text": [
      "100%|██████████| 40/40 [00:00<00:00, 148.63it/s]\n",
      "[Parallel(n_jobs=4)]: Using backend LokyBackend with 4 concurrent workers.\n"
     ]
    },
    {
     "name": "stdout",
     "output_type": "stream",
     "text": [
      "#-----------------#\n",
      " Get Error(s): END \n",
      "#-----------------#\n",
      "Updated DataFrame\n",
      "                                       DNM  MC-Oracle          ENET     KRidge\n",
      "W1-95L                            2.897322   0.000000  1.890991e+01  16.022305\n",
      "W1                                3.332798   0.000000  2.191562e+01  20.100115\n",
      "W1-95R                            3.921041   0.000000  2.492850e+01  24.218884\n",
      "M-95L                             2.579966   2.728475  5.652614e+01  49.617061\n",
      "M                                 3.214154   3.214154  6.335596e+01  57.563568\n",
      "M-95R                             3.664703   3.614930  7.233046e+01  64.689076\n",
      "N_Par                          1700.000000   0.000000  1.200000e+03   0.000000\n",
      "Train_Time                       10.061492   0.255111  1.619748e+09   2.134742\n",
      "Test_Time/MC-Oracle_Test_Time     0.997033   1.000000  4.933229e-03   0.187009\n",
      "--------------\n",
      "Training: GBRF\n",
      "--------------\n",
      "Fitting 2 folds for each of 1 candidates, totalling 2 fits\n"
     ]
    },
    {
     "name": "stderr",
     "output_type": "stream",
     "text": [
      "[Parallel(n_jobs=4)]: Done   2 out of   2 | elapsed:    0.3s remaining:    0.0s\n",
      "[Parallel(n_jobs=4)]: Done   2 out of   2 | elapsed:    0.3s finished\n"
     ]
    },
    {
     "name": "stdout",
     "output_type": "stream",
     "text": [
      "Fitting 2 folds for each of 1 candidates, totalling 2 fits\n"
     ]
    },
    {
     "name": "stderr",
     "output_type": "stream",
     "text": [
      "[Parallel(n_jobs=4)]: Using backend LokyBackend with 4 concurrent workers.\n",
      "[Parallel(n_jobs=4)]: Done   2 out of   2 | elapsed:    0.4s remaining:    0.0s\n",
      "[Parallel(n_jobs=4)]: Done   2 out of   2 | elapsed:    0.4s finished\n"
     ]
    },
    {
     "name": "stdout",
     "output_type": "stream",
     "text": [
      "Fitting 2 folds for each of 1 candidates, totalling 2 fits\n"
     ]
    },
    {
     "name": "stderr",
     "output_type": "stream",
     "text": [
      "[Parallel(n_jobs=4)]: Using backend LokyBackend with 4 concurrent workers.\n",
      "[Parallel(n_jobs=4)]: Done   2 out of   2 | elapsed:    0.3s remaining:    0.0s\n",
      "[Parallel(n_jobs=4)]: Done   2 out of   2 | elapsed:    0.3s finished\n",
      "  8%|▊         | 15/200 [00:00<00:01, 148.35it/s]"
     ]
    },
    {
     "name": "stdout",
     "output_type": "stream",
     "text": [
      "#------------#\n",
      " Get Error(s) \n",
      "#------------#\n"
     ]
    },
    {
     "name": "stderr",
     "output_type": "stream",
     "text": [
      "100%|██████████| 200/200 [00:01<00:00, 165.25it/s]\n",
      " 42%|████▎     | 17/40 [00:00<00:00, 165.88it/s]"
     ]
    },
    {
     "name": "stdout",
     "output_type": "stream",
     "text": [
      "#-----------------#\n",
      " Get Error(s): END \n",
      "#-----------------#\n",
      "#------------#\n",
      " Get Error(s) \n",
      "#------------#\n"
     ]
    },
    {
     "name": "stderr",
     "output_type": "stream",
     "text": [
      "100%|██████████| 40/40 [00:00<00:00, 160.40it/s]\n",
      "[Parallel(n_jobs=4)]: Using backend LokyBackend with 4 concurrent workers.\n"
     ]
    },
    {
     "name": "stdout",
     "output_type": "stream",
     "text": [
      "#-----------------#\n",
      " Get Error(s): END \n",
      "#-----------------#\n",
      "Updated DataFrame\n",
      "                                       DNM  MC-Oracle          ENET  \\\n",
      "W1-95L                            2.897322   0.000000  1.890991e+01   \n",
      "W1                                3.332798   0.000000  2.191562e+01   \n",
      "W1-95R                            3.921041   0.000000  2.492850e+01   \n",
      "M-95L                             2.579966   2.728475  5.652614e+01   \n",
      "M                                 3.214154   3.214154  6.335596e+01   \n",
      "M-95R                             3.664703   3.614930  7.233046e+01   \n",
      "N_Par                          1700.000000   0.000000  1.200000e+03   \n",
      "Train_Time                       10.061492   0.255111  1.619748e+09   \n",
      "Test_Time/MC-Oracle_Test_Time     0.997033   1.000000  4.933229e-03   \n",
      "\n",
      "                                  KRidge           GBRF  \n",
      "W1-95L                         16.022305      18.028566  \n",
      "W1                             20.100115      21.706040  \n",
      "W1-95R                         24.218884      25.053287  \n",
      "M-95L                          49.617061      48.239933  \n",
      "M                              57.563568      61.579472  \n",
      "M-95R                          64.689076      71.948686  \n",
      "N_Par                           0.000000  629992.000000  \n",
      "Train_Time                      2.134742       3.535231  \n",
      "Test_Time/MC-Oracle_Test_Time   0.187009       0.088088  \n",
      "-------------\n",
      "Training: DNN\n",
      "-------------\n",
      "Fitting 2 folds for each of 1 candidates, totalling 2 fits\n"
     ]
    },
    {
     "name": "stderr",
     "output_type": "stream",
     "text": [
      "[Parallel(n_jobs=4)]: Done   2 out of   2 | elapsed:    4.4s remaining:    0.0s\n",
      "[Parallel(n_jobs=4)]: Done   2 out of   2 | elapsed:    4.4s finished\n"
     ]
    },
    {
     "name": "stdout",
     "output_type": "stream",
     "text": [
      "Epoch 1/5\n",
      "25/25 [==============================] - 0s 1ms/step - loss: 21.8524 - mse: 796.8091 - mae: 21.8524 - mape: 100.2793\n",
      "Epoch 2/5\n",
      "25/25 [==============================] - 0s 2ms/step - loss: 21.8519 - mse: 796.7870 - mae: 21.8519 - mape: 100.2761\n",
      "Epoch 3/5\n",
      "25/25 [==============================] - 0s 2ms/step - loss: 21.8514 - mse: 796.7649 - mae: 21.8514 - mape: 100.2724\n",
      "Epoch 4/5\n",
      "25/25 [==============================] - 0s 2ms/step - loss: 21.8509 - mse: 796.7444 - mae: 21.8509 - mape: 100.2686\n",
      "Epoch 5/5\n",
      "25/25 [==============================] - 0s 1ms/step - loss: 21.8504 - mse: 796.7219 - mae: 21.8504 - mape: 100.2653\n",
      "25/25 [==============================] - 0s 798us/step\n",
      "5/5 [==============================] - 0s 1ms/step\n"
     ]
    },
    {
     "name": "stderr",
     "output_type": "stream",
     "text": [
      "\r",
      "  0%|          | 0/200 [00:00<?, ?it/s]"
     ]
    },
    {
     "name": "stdout",
     "output_type": "stream",
     "text": [
      "#------------#\n",
      " Get Error(s) \n",
      "#------------#\n"
     ]
    },
    {
     "name": "stderr",
     "output_type": "stream",
     "text": [
      "100%|██████████| 200/200 [00:01<00:00, 146.03it/s]\n",
      " 32%|███▎      | 13/40 [00:00<00:00, 123.26it/s]"
     ]
    },
    {
     "name": "stdout",
     "output_type": "stream",
     "text": [
      "#-----------------#\n",
      " Get Error(s): END \n",
      "#-----------------#\n",
      "#------------#\n",
      " Get Error(s) \n",
      "#------------#\n"
     ]
    },
    {
     "name": "stderr",
     "output_type": "stream",
     "text": [
      "100%|██████████| 40/40 [00:00<00:00, 107.02it/s]"
     ]
    },
    {
     "name": "stdout",
     "output_type": "stream",
     "text": [
      "#-----------------#\n",
      " Get Error(s): END \n",
      "#-----------------#\n",
      "Updated DataFrame\n",
      "                                       DNM  MC-Oracle          ENET  \\\n",
      "W1-95L                            2.897322   0.000000  1.890991e+01   \n",
      "W1                                3.332798   0.000000  2.191562e+01   \n",
      "W1-95R                            3.921041   0.000000  2.492850e+01   \n",
      "M-95L                             2.579966   2.728475  5.652614e+01   \n",
      "M                                 3.214154   3.214154  6.335596e+01   \n",
      "M-95R                             3.664703   3.614930  7.233046e+01   \n",
      "N_Par                          1700.000000   0.000000  1.200000e+03   \n",
      "Train_Time                       10.061492   0.255111  1.619748e+09   \n",
      "Test_Time/MC-Oracle_Test_Time     0.997033   1.000000  4.933229e-03   \n",
      "\n",
      "                                  KRidge           GBRF        DNN  \n",
      "W1-95L                         16.022305      18.028566   2.266287  \n",
      "W1                             20.100115      21.706040   2.873513  \n",
      "W1-95R                         24.218884      25.053287   3.436761  \n",
      "M-95L                          49.617061      48.239933   4.850791  \n",
      "M                              57.563568      61.579472   5.521194  \n",
      "M-95R                          64.689076      71.948686   6.983036  \n",
      "N_Par                           0.000000  629992.000000  83.000000  \n",
      "Train_Time                      2.134742       3.535231   7.630949  \n",
      "Test_Time/MC-Oracle_Test_Time   0.187009       0.088088   0.908832  \n"
     ]
    },
    {
     "name": "stderr",
     "output_type": "stream",
     "text": [
      "\n"
     ]
    }
   ],
   "source": [
    "exec(open('CV_Grid.py').read())\n",
    "# Notebook Mode:\n",
    "# %run Evaluation.ipynb\n",
    "# %run Benchmarks_Model_Builder_Pointmass_Based.ipynb\n",
    "# Terminal Mode (Default):\n",
    "exec(open('Evaluation.py').read())\n",
    "exec(open('Benchmarks_Model_Builder_Pointmass_Based.py').read())"
   ]
  },
  {
   "cell_type": "markdown",
   "metadata": {},
   "source": [
    "# Summary of Point-Mass Regression Models"
   ]
  },
  {
   "cell_type": "markdown",
   "metadata": {},
   "source": [
    "#### Training Model Facts"
   ]
  },
  {
   "cell_type": "code",
   "execution_count": 11,
   "metadata": {},
   "outputs": [
    {
     "name": "stdout",
     "output_type": "stream",
     "text": [
      "                                       DNM  MC-Oracle          ENET  \\\n",
      "W1-95L                            3.010526   0.000000  1.923002e+01   \n",
      "W1                                3.135224   0.000000  2.094574e+01   \n",
      "W1-95R                            3.328051   0.000000  2.212816e+01   \n",
      "M-95L                             3.442797   3.436852  5.425567e+01   \n",
      "M                                 3.793445   3.793445  6.002986e+01   \n",
      "M-95R                             4.181763   4.114122  6.422160e+01   \n",
      "N_Par                          1700.000000   0.000000  1.200000e+03   \n",
      "Train_Time                       10.061492   0.255111  1.619748e+09   \n",
      "Test_Time/MC-Oracle_Test_Time     0.997033   1.000000  4.933229e-03   \n",
      "\n",
      "                                  KRidge           GBRF        DNN  \n",
      "W1-95L                         18.876752      18.593683   2.970763  \n",
      "W1                             20.426765      20.823730   3.250533  \n",
      "W1-95R                         22.377103      22.451315   3.541715  \n",
      "M-95L                          53.310638      53.910234   6.159437  \n",
      "M                              58.666335      58.881752   6.631497  \n",
      "M-95R                          63.566266      64.213129   7.139201  \n",
      "N_Par                           0.000000  629992.000000  83.000000  \n",
      "Train_Time                      2.134742       3.535231   7.630949  \n",
      "Test_Time/MC-Oracle_Test_Time   0.187009       0.088088   0.908832  \n"
     ]
    },
    {
     "data": {
      "text/html": [
       "<div>\n",
       "<style scoped>\n",
       "    .dataframe tbody tr th:only-of-type {\n",
       "        vertical-align: middle;\n",
       "    }\n",
       "\n",
       "    .dataframe tbody tr th {\n",
       "        vertical-align: top;\n",
       "    }\n",
       "\n",
       "    .dataframe thead th {\n",
       "        text-align: right;\n",
       "    }\n",
       "</style>\n",
       "<table border=\"1\" class=\"dataframe\">\n",
       "  <thead>\n",
       "    <tr style=\"text-align: right;\">\n",
       "      <th></th>\n",
       "      <th>DNM</th>\n",
       "      <th>MC-Oracle</th>\n",
       "      <th>ENET</th>\n",
       "      <th>KRidge</th>\n",
       "      <th>GBRF</th>\n",
       "      <th>DNN</th>\n",
       "    </tr>\n",
       "  </thead>\n",
       "  <tbody>\n",
       "    <tr>\n",
       "      <th>W1-95L</th>\n",
       "      <td>3.010526</td>\n",
       "      <td>0.000000</td>\n",
       "      <td>1.923002e+01</td>\n",
       "      <td>18.876752</td>\n",
       "      <td>18.593683</td>\n",
       "      <td>2.970763</td>\n",
       "    </tr>\n",
       "    <tr>\n",
       "      <th>W1</th>\n",
       "      <td>3.135224</td>\n",
       "      <td>0.000000</td>\n",
       "      <td>2.094574e+01</td>\n",
       "      <td>20.426765</td>\n",
       "      <td>20.823730</td>\n",
       "      <td>3.250533</td>\n",
       "    </tr>\n",
       "    <tr>\n",
       "      <th>W1-95R</th>\n",
       "      <td>3.328051</td>\n",
       "      <td>0.000000</td>\n",
       "      <td>2.212816e+01</td>\n",
       "      <td>22.377103</td>\n",
       "      <td>22.451315</td>\n",
       "      <td>3.541715</td>\n",
       "    </tr>\n",
       "    <tr>\n",
       "      <th>M-95L</th>\n",
       "      <td>3.442797</td>\n",
       "      <td>3.436852</td>\n",
       "      <td>5.425567e+01</td>\n",
       "      <td>53.310638</td>\n",
       "      <td>53.910234</td>\n",
       "      <td>6.159437</td>\n",
       "    </tr>\n",
       "    <tr>\n",
       "      <th>M</th>\n",
       "      <td>3.793445</td>\n",
       "      <td>3.793445</td>\n",
       "      <td>6.002986e+01</td>\n",
       "      <td>58.666335</td>\n",
       "      <td>58.881752</td>\n",
       "      <td>6.631497</td>\n",
       "    </tr>\n",
       "    <tr>\n",
       "      <th>M-95R</th>\n",
       "      <td>4.181763</td>\n",
       "      <td>4.114122</td>\n",
       "      <td>6.422160e+01</td>\n",
       "      <td>63.566266</td>\n",
       "      <td>64.213129</td>\n",
       "      <td>7.139201</td>\n",
       "    </tr>\n",
       "    <tr>\n",
       "      <th>N_Par</th>\n",
       "      <td>1700.000000</td>\n",
       "      <td>0.000000</td>\n",
       "      <td>1.200000e+03</td>\n",
       "      <td>0.000000</td>\n",
       "      <td>629992.000000</td>\n",
       "      <td>83.000000</td>\n",
       "    </tr>\n",
       "    <tr>\n",
       "      <th>Train_Time</th>\n",
       "      <td>10.061492</td>\n",
       "      <td>0.255111</td>\n",
       "      <td>1.619748e+09</td>\n",
       "      <td>2.134742</td>\n",
       "      <td>3.535231</td>\n",
       "      <td>7.630949</td>\n",
       "    </tr>\n",
       "    <tr>\n",
       "      <th>Test_Time/MC-Oracle_Test_Time</th>\n",
       "      <td>0.997033</td>\n",
       "      <td>1.000000</td>\n",
       "      <td>4.933229e-03</td>\n",
       "      <td>0.187009</td>\n",
       "      <td>0.088088</td>\n",
       "      <td>0.908832</td>\n",
       "    </tr>\n",
       "  </tbody>\n",
       "</table>\n",
       "</div>"
      ],
      "text/plain": [
       "                                       DNM  MC-Oracle          ENET  \\\n",
       "W1-95L                            3.010526   0.000000  1.923002e+01   \n",
       "W1                                3.135224   0.000000  2.094574e+01   \n",
       "W1-95R                            3.328051   0.000000  2.212816e+01   \n",
       "M-95L                             3.442797   3.436852  5.425567e+01   \n",
       "M                                 3.793445   3.793445  6.002986e+01   \n",
       "M-95R                             4.181763   4.114122  6.422160e+01   \n",
       "N_Par                          1700.000000   0.000000  1.200000e+03   \n",
       "Train_Time                       10.061492   0.255111  1.619748e+09   \n",
       "Test_Time/MC-Oracle_Test_Time     0.997033   1.000000  4.933229e-03   \n",
       "\n",
       "                                  KRidge           GBRF        DNN  \n",
       "W1-95L                         18.876752      18.593683   2.970763  \n",
       "W1                             20.426765      20.823730   3.250533  \n",
       "W1-95R                         22.377103      22.451315   3.541715  \n",
       "M-95L                          53.310638      53.910234   6.159437  \n",
       "M                              58.666335      58.881752   6.631497  \n",
       "M-95R                          63.566266      64.213129   7.139201  \n",
       "N_Par                           0.000000  629992.000000  83.000000  \n",
       "Train_Time                      2.134742       3.535231   7.630949  \n",
       "Test_Time/MC-Oracle_Test_Time   0.187009       0.088088   0.908832  "
      ]
     },
     "execution_count": 11,
     "metadata": {},
     "output_type": "execute_result"
    }
   ],
   "source": [
    "print(Summary_pred_Qual_models)\n",
    "Summary_pred_Qual_models"
   ]
  },
  {
   "cell_type": "markdown",
   "metadata": {},
   "source": [
    "#### Testing Model Facts"
   ]
  },
  {
   "cell_type": "code",
   "execution_count": 12,
   "metadata": {},
   "outputs": [
    {
     "name": "stdout",
     "output_type": "stream",
     "text": [
      "                                       DNM  MC-Oracle          ENET  \\\n",
      "W1-95L                            2.897322   0.000000  1.890991e+01   \n",
      "W1                                3.332798   0.000000  2.191562e+01   \n",
      "W1-95R                            3.921041   0.000000  2.492850e+01   \n",
      "M-95L                             2.579966   2.728475  5.652614e+01   \n",
      "M                                 3.214154   3.214154  6.335596e+01   \n",
      "M-95R                             3.664703   3.614930  7.233046e+01   \n",
      "N_Par                          1700.000000   0.000000  1.200000e+03   \n",
      "Train_Time                       10.061492   0.255111  1.619748e+09   \n",
      "Test_Time/MC-Oracle_Test_Time     0.997033   1.000000  4.933229e-03   \n",
      "\n",
      "                                  KRidge           GBRF        DNN  \n",
      "W1-95L                         16.022305      18.028566   2.266287  \n",
      "W1                             20.100115      21.706040   2.873513  \n",
      "W1-95R                         24.218884      25.053287   3.436761  \n",
      "M-95L                          49.617061      48.239933   4.850791  \n",
      "M                              57.563568      61.579472   5.521194  \n",
      "M-95R                          64.689076      71.948686   6.983036  \n",
      "N_Par                           0.000000  629992.000000  83.000000  \n",
      "Train_Time                      2.134742       3.535231   7.630949  \n",
      "Test_Time/MC-Oracle_Test_Time   0.187009       0.088088   0.908832  \n"
     ]
    },
    {
     "data": {
      "text/html": [
       "<div>\n",
       "<style scoped>\n",
       "    .dataframe tbody tr th:only-of-type {\n",
       "        vertical-align: middle;\n",
       "    }\n",
       "\n",
       "    .dataframe tbody tr th {\n",
       "        vertical-align: top;\n",
       "    }\n",
       "\n",
       "    .dataframe thead th {\n",
       "        text-align: right;\n",
       "    }\n",
       "</style>\n",
       "<table border=\"1\" class=\"dataframe\">\n",
       "  <thead>\n",
       "    <tr style=\"text-align: right;\">\n",
       "      <th></th>\n",
       "      <th>DNM</th>\n",
       "      <th>MC-Oracle</th>\n",
       "      <th>ENET</th>\n",
       "      <th>KRidge</th>\n",
       "      <th>GBRF</th>\n",
       "      <th>DNN</th>\n",
       "    </tr>\n",
       "  </thead>\n",
       "  <tbody>\n",
       "    <tr>\n",
       "      <th>W1-95L</th>\n",
       "      <td>2.897322</td>\n",
       "      <td>0.000000</td>\n",
       "      <td>1.890991e+01</td>\n",
       "      <td>16.022305</td>\n",
       "      <td>18.028566</td>\n",
       "      <td>2.266287</td>\n",
       "    </tr>\n",
       "    <tr>\n",
       "      <th>W1</th>\n",
       "      <td>3.332798</td>\n",
       "      <td>0.000000</td>\n",
       "      <td>2.191562e+01</td>\n",
       "      <td>20.100115</td>\n",
       "      <td>21.706040</td>\n",
       "      <td>2.873513</td>\n",
       "    </tr>\n",
       "    <tr>\n",
       "      <th>W1-95R</th>\n",
       "      <td>3.921041</td>\n",
       "      <td>0.000000</td>\n",
       "      <td>2.492850e+01</td>\n",
       "      <td>24.218884</td>\n",
       "      <td>25.053287</td>\n",
       "      <td>3.436761</td>\n",
       "    </tr>\n",
       "    <tr>\n",
       "      <th>M-95L</th>\n",
       "      <td>2.579966</td>\n",
       "      <td>2.728475</td>\n",
       "      <td>5.652614e+01</td>\n",
       "      <td>49.617061</td>\n",
       "      <td>48.239933</td>\n",
       "      <td>4.850791</td>\n",
       "    </tr>\n",
       "    <tr>\n",
       "      <th>M</th>\n",
       "      <td>3.214154</td>\n",
       "      <td>3.214154</td>\n",
       "      <td>6.335596e+01</td>\n",
       "      <td>57.563568</td>\n",
       "      <td>61.579472</td>\n",
       "      <td>5.521194</td>\n",
       "    </tr>\n",
       "    <tr>\n",
       "      <th>M-95R</th>\n",
       "      <td>3.664703</td>\n",
       "      <td>3.614930</td>\n",
       "      <td>7.233046e+01</td>\n",
       "      <td>64.689076</td>\n",
       "      <td>71.948686</td>\n",
       "      <td>6.983036</td>\n",
       "    </tr>\n",
       "    <tr>\n",
       "      <th>N_Par</th>\n",
       "      <td>1700.000000</td>\n",
       "      <td>0.000000</td>\n",
       "      <td>1.200000e+03</td>\n",
       "      <td>0.000000</td>\n",
       "      <td>629992.000000</td>\n",
       "      <td>83.000000</td>\n",
       "    </tr>\n",
       "    <tr>\n",
       "      <th>Train_Time</th>\n",
       "      <td>10.061492</td>\n",
       "      <td>0.255111</td>\n",
       "      <td>1.619748e+09</td>\n",
       "      <td>2.134742</td>\n",
       "      <td>3.535231</td>\n",
       "      <td>7.630949</td>\n",
       "    </tr>\n",
       "    <tr>\n",
       "      <th>Test_Time/MC-Oracle_Test_Time</th>\n",
       "      <td>0.997033</td>\n",
       "      <td>1.000000</td>\n",
       "      <td>4.933229e-03</td>\n",
       "      <td>0.187009</td>\n",
       "      <td>0.088088</td>\n",
       "      <td>0.908832</td>\n",
       "    </tr>\n",
       "  </tbody>\n",
       "</table>\n",
       "</div>"
      ],
      "text/plain": [
       "                                       DNM  MC-Oracle          ENET  \\\n",
       "W1-95L                            2.897322   0.000000  1.890991e+01   \n",
       "W1                                3.332798   0.000000  2.191562e+01   \n",
       "W1-95R                            3.921041   0.000000  2.492850e+01   \n",
       "M-95L                             2.579966   2.728475  5.652614e+01   \n",
       "M                                 3.214154   3.214154  6.335596e+01   \n",
       "M-95R                             3.664703   3.614930  7.233046e+01   \n",
       "N_Par                          1700.000000   0.000000  1.200000e+03   \n",
       "Train_Time                       10.061492   0.255111  1.619748e+09   \n",
       "Test_Time/MC-Oracle_Test_Time     0.997033   1.000000  4.933229e-03   \n",
       "\n",
       "                                  KRidge           GBRF        DNN  \n",
       "W1-95L                         16.022305      18.028566   2.266287  \n",
       "W1                             20.100115      21.706040   2.873513  \n",
       "W1-95R                         24.218884      25.053287   3.436761  \n",
       "M-95L                          49.617061      48.239933   4.850791  \n",
       "M                              57.563568      61.579472   5.521194  \n",
       "M-95R                          64.689076      71.948686   6.983036  \n",
       "N_Par                           0.000000  629992.000000  83.000000  \n",
       "Train_Time                      2.134742       3.535231   7.630949  \n",
       "Test_Time/MC-Oracle_Test_Time   0.187009       0.088088   0.908832  "
      ]
     },
     "execution_count": 12,
     "metadata": {},
     "output_type": "execute_result"
    }
   ],
   "source": [
    "print(Summary_pred_Qual_models_test)\n",
    "Summary_pred_Qual_models_test"
   ]
  },
  {
   "cell_type": "markdown",
   "metadata": {},
   "source": [
    "## 2) *Gaussian Benchmarks*"
   ]
  },
  {
   "cell_type": "markdown",
   "metadata": {},
   "source": [
    "- Bencharm 1: [Gaussian Process Regressor](https://scikit-learn.org/stable/modules/gaussian_process.html)\n",
    "- Benchmark 2: Deep Gaussian Networks:\n",
    "These models train models which assume Gaussianity.  We may view these as models in $\\mathcal{P}_2(\\mathbb{R})$ via:\n",
    "$$\n",
    "\\mathbb{R}^d \\ni x \\to (\\hat{\\mu}(x),\\hat{\\sigma}(x))\\triangleq f(x) \\in \\mathbb{R}\\times [0,\\infty) \\to \\frac1{\\hat{\\sigma}(x)\\sqrt{2\\pi}}\\exp\\left(\\frac{-(\\cdot-\\hat{\\mu}(x))^2}{\\hat{\\sigma(x)}^2}\\right) \\in \\mathcal{G}_1\\subset \\mathcal{P}_2(\\mathbb{R});\n",
    "$$\n",
    "where $\\mathcal{G}_1$ is the set of Gaussian measures on $\\mathbb{R}$ equipped with the relative Wasserstein-1 topology.\n",
    "\n",
    "Examples of this type of architecture are especially prevalent in uncertainty quantification; see ([Deep Ensembles](https://arxiv.org/abs/1612.01474)] or [NOMU: Neural Optimization-based Model Uncertainty](https://arxiv.org/abs/2102.13640).  Moreover, their universality in $C(\\mathbb{R}^d,\\mathcal{G}_2)$ is known, and has been shown in [Corollary 4.7](https://arxiv.org/abs/2101.05390)."
   ]
  },
  {
   "cell_type": "code",
   "execution_count": 14,
   "metadata": {},
   "outputs": [
    {
     "name": "stdout",
     "output_type": "stream",
     "text": [
      "Deep Feature Builder - Ready\n",
      "Deep Feature Builder - Ready\n",
      "Fitting 2 folds for each of 2 candidates, totalling 4 fits\n"
     ]
    },
    {
     "name": "stderr",
     "output_type": "stream",
     "text": [
      "[Parallel(n_jobs=4)]: Using backend LokyBackend with 4 concurrent workers.\n",
      "[Parallel(n_jobs=4)]: Done   1 tasks      | elapsed:    0.4s\n",
      "[Parallel(n_jobs=4)]: Done   2 out of   4 | elapsed:    0.4s remaining:    0.4s\n",
      "[Parallel(n_jobs=4)]: Done   4 out of   4 | elapsed:    0.6s remaining:    0.0s\n",
      "[Parallel(n_jobs=4)]: Done   4 out of   4 | elapsed:    0.6s finished\n",
      "  2%|▎         | 5/200 [00:00<00:04, 39.33it/s]"
     ]
    },
    {
     "name": "stdout",
     "output_type": "stream",
     "text": [
      "Infering Parameters for Deep Gaussian Network to train on!\n"
     ]
    },
    {
     "name": "stderr",
     "output_type": "stream",
     "text": [
      "100%|██████████| 200/200 [00:03<00:00, 60.05it/s]\n",
      "[Parallel(n_jobs=4)]: Using backend LokyBackend with 4 concurrent workers.\n"
     ]
    },
    {
     "name": "stdout",
     "output_type": "stream",
     "text": [
      "Done Getting Parameters for Deep Gaussian Network!\n",
      "===============================\n",
      "Training Deep Gaussian Network!\n",
      "===============================\n",
      "Fitting 2 folds for each of 1 candidates, totalling 2 fits\n"
     ]
    },
    {
     "name": "stderr",
     "output_type": "stream",
     "text": [
      "[Parallel(n_jobs=4)]: Done   2 out of   2 | elapsed:    4.8s remaining:    0.0s\n",
      "[Parallel(n_jobs=4)]: Done   2 out of   2 | elapsed:    4.8s finished\n"
     ]
    },
    {
     "name": "stdout",
     "output_type": "stream",
     "text": [
      "Epoch 1/5\n",
      "25/25 [==============================] - 0s 1ms/step - loss: 1.8851 - mse: 6.5040 - mae: 1.8851 - mape: 87.3552\n",
      "Epoch 2/5\n",
      "25/25 [==============================] - 0s 1ms/step - loss: 1.8847 - mse: 6.5021 - mae: 1.8847 - mape: 87.3450\n",
      "Epoch 3/5\n",
      "25/25 [==============================] - 0s 2ms/step - loss: 1.8843 - mse: 6.5001 - mae: 1.8843 - mape: 87.3333\n",
      "Epoch 4/5\n",
      "25/25 [==============================] - 0s 2ms/step - loss: 1.8840 - mse: 6.4984 - mae: 1.8840 - mape: 87.3249\n",
      "Epoch 5/5\n",
      "25/25 [==============================] - 0s 1ms/step - loss: 1.8836 - mse: 6.4964 - mae: 1.8836 - mape: 87.3146\n",
      "25/25 [==============================] - 0s 1ms/step\n",
      "5/5 [==============================] - 0s 1ms/step\n"
     ]
    },
    {
     "name": "stderr",
     "output_type": "stream",
     "text": [
      "\r",
      "  0%|          | 0/200 [00:00<?, ?it/s]"
     ]
    },
    {
     "name": "stdout",
     "output_type": "stream",
     "text": [
      "====================================\n",
      "Training Deep Gaussian Network!: END\n",
      "====================================\n",
      "#---------------------------------------#\n",
      " Get Training Errors for: Gaussian Models\n",
      "#---------------------------------------#\n"
     ]
    },
    {
     "name": "stderr",
     "output_type": "stream",
     "text": [
      "  0%|          | 0/200 [00:00<?, ?it/s]\n"
     ]
    },
    {
     "ename": "ValueError",
     "evalue": "shape mismatch: objects cannot be broadcast to a single shape",
     "output_type": "error",
     "traceback": [
      "\u001b[0;31m---------------------------------------------------------------------------\u001b[0m",
      "\u001b[0;31mValueError\u001b[0m                                Traceback (most recent call last)",
      "\u001b[0;32m<ipython-input-14-33daceb5366a>\u001b[0m in \u001b[0;36m<module>\u001b[0;34m\u001b[0m\n\u001b[1;32m      1\u001b[0m \u001b[0;31m# %run Benchmarks_Model_Builder_Mean_Var.ipynb\u001b[0m\u001b[0;34m\u001b[0m\u001b[0;34m\u001b[0m\u001b[0;34m\u001b[0m\u001b[0m\n\u001b[0;32m----> 2\u001b[0;31m \u001b[0mexec\u001b[0m\u001b[0;34m(\u001b[0m\u001b[0mopen\u001b[0m\u001b[0;34m(\u001b[0m\u001b[0;34m'Benchmarks_Model_Builder_Mean_Var.py'\u001b[0m\u001b[0;34m)\u001b[0m\u001b[0;34m.\u001b[0m\u001b[0mread\u001b[0m\u001b[0;34m(\u001b[0m\u001b[0;34m)\u001b[0m\u001b[0;34m)\u001b[0m\u001b[0;34m\u001b[0m\u001b[0;34m\u001b[0m\u001b[0m\n\u001b[0m",
      "\u001b[0;32m<string>\u001b[0m in \u001b[0;36m<module>\u001b[0;34m\u001b[0m\n",
      "\u001b[0;32mmtrand.pyx\u001b[0m in \u001b[0;36mmtrand.RandomState.normal\u001b[0;34m()\u001b[0m\n",
      "\u001b[0;32mmtrand.pyx\u001b[0m in \u001b[0;36mmtrand.cont2_array\u001b[0;34m()\u001b[0m\n",
      "\u001b[0;31mValueError\u001b[0m: shape mismatch: objects cannot be broadcast to a single shape"
     ]
    }
   ],
   "source": [
    "# %run Benchmarks_Model_Builder_Mean_Var.ipynb\n",
    "exec(open('Benchmarks_Model_Builder_Mean_Var.py').read())"
   ]
  },
  {
   "cell_type": "code",
   "execution_count": 15,
   "metadata": {},
   "outputs": [
    {
     "name": "stdout",
     "output_type": "stream",
     "text": [
      "Prediction Quality (Updated)\n",
      "                                       DNM  MC-Oracle          ENET  \\\n",
      "W1-95L                            2.897322   0.000000  1.890991e+01   \n",
      "W1                                3.332798   0.000000  2.191562e+01   \n",
      "W1-95R                            3.921041   0.000000  2.492850e+01   \n",
      "M-95L                             2.579966   2.728475  5.652614e+01   \n",
      "M                                 3.214154   3.214154  6.335596e+01   \n",
      "M-95R                             3.664703   3.614930  7.233046e+01   \n",
      "N_Par                          1700.000000   0.000000  1.200000e+03   \n",
      "Train_Time                       10.061492   0.255111  1.619748e+09   \n",
      "Test_Time/MC-Oracle_Test_Time     0.997033   1.000000  4.933229e-03   \n",
      "\n",
      "                                  KRidge           GBRF        DNN  \n",
      "W1-95L                         16.022305      18.028566   2.266287  \n",
      "W1                             20.100115      21.706040   2.873513  \n",
      "W1-95R                         24.218884      25.053287   3.436761  \n",
      "M-95L                          49.617061      48.239933   4.850791  \n",
      "M                              57.563568      61.579472   5.521194  \n",
      "M-95R                          64.689076      71.948686   6.983036  \n",
      "N_Par                           0.000000  629992.000000  83.000000  \n",
      "Train_Time                      2.134742       3.535231   7.630949  \n",
      "Test_Time/MC-Oracle_Test_Time   0.187009       0.088088   0.908832  \n"
     ]
    },
    {
     "data": {
      "text/html": [
       "<div>\n",
       "<style scoped>\n",
       "    .dataframe tbody tr th:only-of-type {\n",
       "        vertical-align: middle;\n",
       "    }\n",
       "\n",
       "    .dataframe tbody tr th {\n",
       "        vertical-align: top;\n",
       "    }\n",
       "\n",
       "    .dataframe thead th {\n",
       "        text-align: right;\n",
       "    }\n",
       "</style>\n",
       "<table border=\"1\" class=\"dataframe\">\n",
       "  <thead>\n",
       "    <tr style=\"text-align: right;\">\n",
       "      <th></th>\n",
       "      <th>DNM</th>\n",
       "      <th>MC-Oracle</th>\n",
       "      <th>ENET</th>\n",
       "      <th>KRidge</th>\n",
       "      <th>GBRF</th>\n",
       "      <th>DNN</th>\n",
       "    </tr>\n",
       "  </thead>\n",
       "  <tbody>\n",
       "    <tr>\n",
       "      <th>W1-95L</th>\n",
       "      <td>2.897322</td>\n",
       "      <td>0.000000</td>\n",
       "      <td>1.890991e+01</td>\n",
       "      <td>16.022305</td>\n",
       "      <td>18.028566</td>\n",
       "      <td>2.266287</td>\n",
       "    </tr>\n",
       "    <tr>\n",
       "      <th>W1</th>\n",
       "      <td>3.332798</td>\n",
       "      <td>0.000000</td>\n",
       "      <td>2.191562e+01</td>\n",
       "      <td>20.100115</td>\n",
       "      <td>21.706040</td>\n",
       "      <td>2.873513</td>\n",
       "    </tr>\n",
       "    <tr>\n",
       "      <th>W1-95R</th>\n",
       "      <td>3.921041</td>\n",
       "      <td>0.000000</td>\n",
       "      <td>2.492850e+01</td>\n",
       "      <td>24.218884</td>\n",
       "      <td>25.053287</td>\n",
       "      <td>3.436761</td>\n",
       "    </tr>\n",
       "    <tr>\n",
       "      <th>M-95L</th>\n",
       "      <td>2.579966</td>\n",
       "      <td>2.728475</td>\n",
       "      <td>5.652614e+01</td>\n",
       "      <td>49.617061</td>\n",
       "      <td>48.239933</td>\n",
       "      <td>4.850791</td>\n",
       "    </tr>\n",
       "    <tr>\n",
       "      <th>M</th>\n",
       "      <td>3.214154</td>\n",
       "      <td>3.214154</td>\n",
       "      <td>6.335596e+01</td>\n",
       "      <td>57.563568</td>\n",
       "      <td>61.579472</td>\n",
       "      <td>5.521194</td>\n",
       "    </tr>\n",
       "    <tr>\n",
       "      <th>M-95R</th>\n",
       "      <td>3.664703</td>\n",
       "      <td>3.614930</td>\n",
       "      <td>7.233046e+01</td>\n",
       "      <td>64.689076</td>\n",
       "      <td>71.948686</td>\n",
       "      <td>6.983036</td>\n",
       "    </tr>\n",
       "    <tr>\n",
       "      <th>N_Par</th>\n",
       "      <td>1700.000000</td>\n",
       "      <td>0.000000</td>\n",
       "      <td>1.200000e+03</td>\n",
       "      <td>0.000000</td>\n",
       "      <td>629992.000000</td>\n",
       "      <td>83.000000</td>\n",
       "    </tr>\n",
       "    <tr>\n",
       "      <th>Train_Time</th>\n",
       "      <td>10.061492</td>\n",
       "      <td>0.255111</td>\n",
       "      <td>1.619748e+09</td>\n",
       "      <td>2.134742</td>\n",
       "      <td>3.535231</td>\n",
       "      <td>7.630949</td>\n",
       "    </tr>\n",
       "    <tr>\n",
       "      <th>Test_Time/MC-Oracle_Test_Time</th>\n",
       "      <td>0.997033</td>\n",
       "      <td>1.000000</td>\n",
       "      <td>4.933229e-03</td>\n",
       "      <td>0.187009</td>\n",
       "      <td>0.088088</td>\n",
       "      <td>0.908832</td>\n",
       "    </tr>\n",
       "  </tbody>\n",
       "</table>\n",
       "</div>"
      ],
      "text/plain": [
       "                                       DNM  MC-Oracle          ENET  \\\n",
       "W1-95L                            2.897322   0.000000  1.890991e+01   \n",
       "W1                                3.332798   0.000000  2.191562e+01   \n",
       "W1-95R                            3.921041   0.000000  2.492850e+01   \n",
       "M-95L                             2.579966   2.728475  5.652614e+01   \n",
       "M                                 3.214154   3.214154  6.335596e+01   \n",
       "M-95R                             3.664703   3.614930  7.233046e+01   \n",
       "N_Par                          1700.000000   0.000000  1.200000e+03   \n",
       "Train_Time                       10.061492   0.255111  1.619748e+09   \n",
       "Test_Time/MC-Oracle_Test_Time     0.997033   1.000000  4.933229e-03   \n",
       "\n",
       "                                  KRidge           GBRF        DNN  \n",
       "W1-95L                         16.022305      18.028566   2.266287  \n",
       "W1                             20.100115      21.706040   2.873513  \n",
       "W1-95R                         24.218884      25.053287   3.436761  \n",
       "M-95L                          49.617061      48.239933   4.850791  \n",
       "M                              57.563568      61.579472   5.521194  \n",
       "M-95R                          64.689076      71.948686   6.983036  \n",
       "N_Par                           0.000000  629992.000000  83.000000  \n",
       "Train_Time                      2.134742       3.535231   7.630949  \n",
       "Test_Time/MC-Oracle_Test_Time   0.187009       0.088088   0.908832  "
      ]
     },
     "execution_count": 15,
     "metadata": {},
     "output_type": "execute_result"
    }
   ],
   "source": [
    "print(\"Prediction Quality (Updated): Test\")\n",
    "print(Summary_pred_Qual_models_test)\n",
    "Summary_pred_Qual_models_test"
   ]
  },
  {
   "cell_type": "code",
   "execution_count": 16,
   "metadata": {},
   "outputs": [
    {
     "name": "stdout",
     "output_type": "stream",
     "text": [
      "Model Complexities Quality (Updated)\n"
     ]
    },
    {
     "ename": "NameError",
     "evalue": "name 'Summary_Complexity_models' is not defined",
     "output_type": "error",
     "traceback": [
      "\u001b[0;31m---------------------------------------------------------------------------\u001b[0m",
      "\u001b[0;31mNameError\u001b[0m                                 Traceback (most recent call last)",
      "\u001b[0;32m<ipython-input-16-795d3ea986f2>\u001b[0m in \u001b[0;36m<module>\u001b[0;34m\u001b[0m\n\u001b[1;32m      1\u001b[0m \u001b[0mprint\u001b[0m\u001b[0;34m(\u001b[0m\u001b[0;34m\"Model Complexities Quality (Updated)\"\u001b[0m\u001b[0;34m)\u001b[0m\u001b[0;34m\u001b[0m\u001b[0;34m\u001b[0m\u001b[0m\n\u001b[0;32m----> 2\u001b[0;31m \u001b[0mprint\u001b[0m\u001b[0;34m(\u001b[0m\u001b[0mSummary_Complexity_models\u001b[0m\u001b[0;34m)\u001b[0m\u001b[0;34m\u001b[0m\u001b[0;34m\u001b[0m\u001b[0m\n\u001b[0m\u001b[1;32m      3\u001b[0m \u001b[0mSummary_Complexity_models\u001b[0m\u001b[0;34m\u001b[0m\u001b[0;34m\u001b[0m\u001b[0m\n",
      "\u001b[0;31mNameError\u001b[0m: name 'Summary_Complexity_models' is not defined"
     ]
    }
   ],
   "source": [
    "print(\"Prediction Quality (Updated): Train\")\n",
    "print(Summary_pred_Qual_models)\n",
    "Summary_pred_Qual_models"
   ]
  },
  {
   "cell_type": "markdown",
   "metadata": {},
   "source": [
    "# 3) The natural Universal Benchmark: [Bishop's Mixture Density Network](https://publications.aston.ac.uk/id/eprint/373/1/NCRG_94_004.pdf)\n",
    "\n",
    "This implementation is as follows:\n",
    "- For every $x$ in the trainingdata-set we fit a GMM $\\hat{\\nu}_x$, using the [Expectation-Maximization (EM) algorithm](https://en.wikipedia.org/wiki/Expectation%E2%80%93maximization_algorithm), with the same number of centers as the deep neural model in $\\mathcal{NN}_{1_{\\mathbb{R}^d},\\mathcal{D}}^{\\sigma:\\star}$ which we are evaluating.  \n",
    "- A Mixture density network is then trained to predict the infered parameters; given any $x \\in \\mathbb{R}^d$."
   ]
  },
  {
   "cell_type": "code",
   "execution_count": null,
   "metadata": {},
   "outputs": [],
   "source": [
    "# %run Mixture_Density_Network.ipynb\n",
    "exec(open('Mixture_Density_Network.py').read())"
   ]
  },
  {
   "cell_type": "markdown",
   "metadata": {},
   "source": [
    "## Get Final Outputs\n",
    "Now we piece together all the numerical experiments and report a nice summary."
   ]
  },
  {
   "cell_type": "code",
   "execution_count": null,
   "metadata": {},
   "outputs": [],
   "source": [
    "# %run WrapUp_Summarizer.ipynb\n",
    "exec(open('WrapUp_Summarizer.py').read())"
   ]
  },
  {
   "cell_type": "markdown",
   "metadata": {},
   "source": [
    "# Result(s)"
   ]
  },
  {
   "cell_type": "markdown",
   "metadata": {},
   "source": [
    "## Model Complexities"
   ]
  },
  {
   "cell_type": "code",
   "execution_count": null,
   "metadata": {},
   "outputs": [],
   "source": [
    "Summary_Complexity_models"
   ]
  },
  {
   "cell_type": "markdown",
   "metadata": {},
   "source": [
    "## Prediction Quality"
   ]
  },
  {
   "cell_type": "markdown",
   "metadata": {},
   "source": [
    "#### Training"
   ]
  },
  {
   "cell_type": "code",
   "execution_count": null,
   "metadata": {},
   "outputs": [],
   "source": [
    "PredictivePerformance_Metrics_Train"
   ]
  },
  {
   "cell_type": "markdown",
   "metadata": {},
   "source": [
    "#### Test"
   ]
  },
  {
   "cell_type": "code",
   "execution_count": null,
   "metadata": {},
   "outputs": [],
   "source": [
    "PredictivePerformance_Metrics_Test"
   ]
  },
  {
   "cell_type": "markdown",
   "metadata": {},
   "source": [
    "# For Terminal Runner(s):"
   ]
  },
  {
   "cell_type": "code",
   "execution_count": null,
   "metadata": {},
   "outputs": [],
   "source": [
    "# For Terminal Running\n",
    "print(\" \")\n",
    "print(\" \")\n",
    "print(\" \")\n",
    "print(\"====================================\")\n",
    "print(\"Model Complexity Predictive Quality:\")\n",
    "print(\"====================================\")\n",
    "print(\" \")\n",
    "print(\" \")\n",
    "print(\" \")\n",
    "print(Summary_Complexity_models)\n",
    "print(\" \")\n",
    "print(\" \")\n",
    "print(\" \")\n",
    "print(\"============================\")\n",
    "print(\"Training Predictive Quality:\")\n",
    "print(\"============================\")\n",
    "print(PredictivePerformance_Metrics_Train)\n",
    "print(\" \")\n",
    "print(\" \")\n",
    "print(\" \")\n",
    "print(\"===========================\")\n",
    "print(\"Testing Predictive Quality:\")\n",
    "print(\"===========================\")\n",
    "print(PredictivePerformance_Metrics_Test)\n",
    "print(\"================================\")\n",
    "print(\" \")\n",
    "print(\" \")\n",
    "print(\" \")\n",
    "print(\"Kernel_Used_in_GPR: \"+str(GPR_trash.kernel))\n",
    "print(\"🙃🙃 Have a wonderful day! 🙃🙃\")"
   ]
  },
  {
   "cell_type": "markdown",
   "metadata": {},
   "source": [
    "---\n",
    "# Fin\n",
    "---"
   ]
  },
  {
   "cell_type": "markdown",
   "metadata": {},
   "source": [
    "---"
   ]
  }
 ],
 "metadata": {
  "kernelspec": {
   "display_name": "Python 3",
   "language": "python",
   "name": "python3"
  },
  "language_info": {
   "codemirror_mode": {
    "name": "ipython",
    "version": 3
   },
   "file_extension": ".py",
   "mimetype": "text/x-python",
   "name": "python",
   "nbconvert_exporter": "python",
   "pygments_lexer": "ipython3",
   "version": "3.7.7"
  }
 },
 "nbformat": 4,
 "nbformat_minor": 2
}
