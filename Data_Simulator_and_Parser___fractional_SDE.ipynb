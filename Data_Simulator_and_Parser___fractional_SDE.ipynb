{
 "cells": [
  {
   "cell_type": "markdown",
   "metadata": {},
   "source": [
    "# Simulate and Parse Data Generated from SDE \n",
    "## with: *fractional Brownian Driver*"
   ]
  },
  {
   "cell_type": "markdown",
   "metadata": {},
   "source": [
    "---"
   ]
  },
  {
   "cell_type": "markdown",
   "metadata": {},
   "source": [
    "# Get Path(s)"
   ]
  },
  {
   "cell_type": "code",
   "execution_count": 1,
   "metadata": {},
   "outputs": [],
   "source": [
    "# load dataset\n",
    "results_path = \"./outputs/models/\"\n",
    "results_tables_path = \"./outputs/results/\"\n",
    "raw_data_path_folder = \"./inputs/raw/\"\n",
    "data_path_folder = \"./inputs/data/\""
   ]
  },
  {
   "cell_type": "markdown",
   "metadata": {},
   "source": [
    "## Set: Seeds"
   ]
  },
  {
   "cell_type": "code",
   "execution_count": null,
   "metadata": {},
   "outputs": [],
   "source": [
    "random.seed(2021)\n",
    "np.random.seed(2021)\n",
    "tf.random.set_seed(2021)"
   ]
  },
  {
   "cell_type": "markdown",
   "metadata": {},
   "source": [
    "## Get Internal (Hyper)-Parameter(s)\n",
    "*Initialize the hyperparameters which are fully-specified by the user-provided hyperparameter(s).*"
   ]
  },
  {
   "cell_type": "markdown",
   "metadata": {},
   "source": [
    "## Initialization of Auxiliary Internal-Variable(s)"
   ]
  },
  {
   "cell_type": "code",
   "execution_count": null,
   "metadata": {},
   "outputs": [],
   "source": [
    "# Initialize (Empirical) Weight(s)\n",
    "measure_weights = np.ones(N_Monte_Carlo_Samples)/N_Monte_Carlo_Samples\n",
    "measure_weights_test = np.ones(N_Monte_Carlo_Samples_Test)/N_Monte_Carlo_Samples_Test\n",
    "\n",
    "# Get number of centers\n",
    "N_Centers_per_box = max(1,int(round(np.sqrt(N_Quantizers_to_parameterize))))"
   ]
  },
  {
   "cell_type": "markdown",
   "metadata": {},
   "source": [
    "## Get Barycenters"
   ]
  },
  {
   "cell_type": "code",
   "execution_count": null,
   "metadata": {},
   "outputs": [],
   "source": [
    "x_Grid_barycenters = np.random.uniform(low=-Max_Grid,\n",
    "                                       high = Max_Grid, \n",
    "                                       size = np.array([N_Centers_per_box,problem_dim]))"
   ]
  },
  {
   "cell_type": "markdown",
   "metadata": {},
   "source": [
    "# Get Training and Testing Data"
   ]
  },
  {
   "cell_type": "code",
   "execution_count": null,
   "metadata": {},
   "outputs": [],
   "source": [
    "# NEW?\n",
    "if groud_truth == \"rSDE\":\n",
    "    print(\"Building Training + Testing Set - rough-SDE Ground-Truth\")\n",
    "    \n",
    "    # Initialize position Counter\n",
    "    position_counter = 0\n",
    "    # Iniitalize uniform weights vector\n",
    "    measures_weights_list_loop = np.ones(N_Monte_Carlo_Samples)/N_Monte_Carlo_Samples\n",
    "\n",
    "    # For simplicity override:\n",
    "    N_Monte_Carlo_Samples_Test = N_Monte_Carlo_Samples\n",
    "    \n",
    "    # Overrine Number of Centers\n",
    "    N_x = x_Grid_barycenters.shape[0]\n",
    "    N_t = len(t_Grid_barycenters)\n",
    "    N_Quantizers_to_parameterize = N_x*N_t\n",
    "    Q_How_many_time_steps_to_sample_per_x = int(round(N_Euler_Maruyama_Steps*Proportion_per_cluster))\n",
    "    \n",
    "    # Initialize number of training and testing to grab from each initial condition\n",
    "    N_train = int(N_Euler_Maruyama_Steps*(1-test_size_ratio))\n",
    "    N_test = N_Euler_Maruyama_Steps - N_train\n",
    "\n",
    "    # Initialize Times List\n",
    "    t_Grid = np.linspace(T_begin,T_end,N_Euler_Maruyama_Steps).reshape(-1,1)\n",
    "    \n",
    "    for x_bary_i in tqdm(range(N_x)):\n",
    "        # Get Current Locations\n",
    "        x_barycenter = x_Grid_barycenters[x_bary_i,]\n",
    "\n",
    "        for x_i in tqdm(range(N_points_per_barycenter),leave=True):\n",
    "            # Get Current x_init by sampling near the barycenter\n",
    "            x_center = x_barycenter + np.random.uniform(low=delta/2,high=delta/2,size = problem_dim)\n",
    "            \n",
    "            # Update X Grid of Loop\n",
    "            X_grid_loop = np.repeat((x_center.reshape(1,-1)),\n",
    "                                    N_Euler_Maruyama_Steps,axis=0)\n",
    "            X_grid_loop = np.append(t_Grid,X_grid_loop,axis=1)\n",
    "         \n",
    "            # Get Sample Paths for this x_init\n",
    "            current_cover = Euler_Maruyama_Generator(x_0 = x_center,\n",
    "                                                     N_Euler_Maruyama_Steps = N_Euler_Maruyama_Steps,\n",
    "                                                     N_Monte_Carlo_Samples = N_Monte_Carlo_Samples,\n",
    "                                                     T_begin = T_begin,\n",
    "                                                     T_end = T_end,\n",
    "                                                     Hurst = Rougness,\n",
    "                                                     Ratio_fBM_to_typical_vol = Ratio_fBM_to_typical_vol)\n",
    "        \n",
    "            \n",
    "            # Update(s) #\n",
    "            #-----------#\n",
    "            # Identify Which Elements to Add to Barycenters Array\n",
    "            ## Identify Which Rows Belong to this Barycenter\n",
    "            t_indices_barycenters_loop = np.sort(np.random.choice(range(N_Euler_Maruyama_Steps),size = Q_How_many_time_steps_to_sample_per_x))\n",
    "            X_grid_barycenters_loop = X_grid_loop[t_indices_barycenters_loop,:]\n",
    "            # Get Barycenters for this loop\n",
    "            Barycenter_update_loop = current_cover[t_indices_barycenters_loop,:,:]\n",
    "            \n",
    "            # Append\n",
    "            ## Decide if we should initialize or append?...\n",
    "            if x_bary_i == 0:\n",
    "                if x_i == 0:\n",
    "                    # Initialize Barycenters\n",
    "                    Barycenters_Array = Barycenter_update_loop\n",
    "                    # Initialize Training Set\n",
    "                    X_train = X_grid_loop\n",
    "                    Y_train = current_cover\n",
    "                # Initialize Test Set\n",
    "                if x_i == (N_points_per_barycenter-1):\n",
    "                    X_test = X_grid_loop\n",
    "                    Y_test = current_cover\n",
    "            # Update arrays (Now that they're all nice and initialized)\n",
    "            else:\n",
    "                if x_i != (N_points_per_barycenter-1):\n",
    "                    # Update Barycenters\n",
    "                    Barycenters_Array = np.append(Barycenters_Array,Barycenter_update_loop,axis=0)\n",
    "                    # Update Training Data\n",
    "                    X_train = np.append(X_train,X_grid_loop,axis = 0)\n",
    "                    Y_train = np.append(Y_train,current_cover,axis = 0)\n",
    "                else:\n",
    "                    # Update Testing Data\n",
    "                    X_test = np.append(X_test,X_grid_loop,axis = 0)\n",
    "                    Y_test = np.append(Y_test,current_cover,axis = 0)"
   ]
  },
  {
   "cell_type": "markdown",
   "metadata": {},
   "source": [
    "---\n",
    "# Fin\n",
    "---"
   ]
  }
 ],
 "metadata": {
  "kernelspec": {
   "display_name": "Python 3",
   "language": "python",
   "name": "python3"
  },
  "language_info": {
   "codemirror_mode": {
    "name": "ipython",
    "version": 3
   },
   "file_extension": ".py",
   "mimetype": "text/x-python",
   "name": "python",
   "nbconvert_exporter": "python",
   "pygments_lexer": "ipython3",
   "version": "3.7.7"
  }
 },
 "nbformat": 4,
 "nbformat_minor": 2
}
