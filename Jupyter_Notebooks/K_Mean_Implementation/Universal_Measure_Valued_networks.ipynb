{
 "cells": [
  {
   "cell_type": "markdown",
   "metadata": {},
   "source": [
    "# Generic Conditional Laws for Random-Fields - via:\n",
    "\n",
    "## Universal $\\mathcal{P}_1(\\mathbb{R})$-Deep Neural Model $\\mathcal{NN}_{1_{\\mathbb{R}^n},\\mathcal{D}}^{\\sigma:\\star}$.\n",
    "\n",
    "---\n",
    "\n",
    "By: [Anastasis Kratsios](https://people.math.ethz.ch/~kratsioa/) - 2021.\n",
    "\n",
    "---\n",
    "\n",
    "## What does this code do?\n",
    "1. Learn Heteroskedastic Non-Linear Regression Problem\n",
    "     - $Y\\sim f_{\\text{unkown}}(x) + \\epsilon$ where $f$ is an known function and $\\epsilon\\sim Laplace(0,\\|x\\|)$\n",
    "2. Learn Random Bayesian Network's Law:\n",
    "    - $Y = W_J Y^{J-1}, \\qquad Y^{j}\\triangleq \\sigma\\bullet A^{j}Y^{j-1} + b^{j}, \\qquad Y^0\\triangleq x$\n",
    "\n",
    "3. In the above example if $A_j = M_j\\odot \\tilde{A_j}$ where $\\tilde{A}_j$ is a deterministic matrix and $M_j$ is a \"mask\", that is, a random matrix with binary entries and $\\odot$ is the Hadamard product then we recover the dropout framework."
   ]
  },
  {
   "cell_type": "markdown",
   "metadata": {},
   "source": [
    "#### Mode:\n",
    "Software/Hardware Testing or Real-Deal?"
   ]
  },
  {
   "cell_type": "code",
   "execution_count": 46,
   "metadata": {},
   "outputs": [],
   "source": [
    "trial_run = False"
   ]
  },
  {
   "cell_type": "markdown",
   "metadata": {},
   "source": [
    "### Simulation Method:"
   ]
  },
  {
   "cell_type": "code",
   "execution_count": 47,
   "metadata": {},
   "outputs": [],
   "source": [
    "# Random DNN\n",
    "# f_unknown_mode = \"Heteroskedastic_NonLinear_Regression\"\n",
    "\n",
    "# Random DNN internal noise\n",
    "# f_unknown_mode = \"DNN_with_Random_Weights\"\n",
    "Depth_Bayesian_DNN = 10\n",
    "width = 20\n",
    "\n",
    "# Random Dropout applied to trained DNN\n",
    "f_unknown_mode = \"DNN_with_Bayesian_Dropout\"\n",
    "Dropout_rate = 0.1\n",
    "\n",
    "# Rough SDE (time 1)\n",
    "f_unknown_mode = \"Rough_SDE\""
   ]
  },
  {
   "cell_type": "markdown",
   "metadata": {},
   "source": [
    "#### Rough SDE Meta-Parameters"
   ]
  },
  {
   "cell_type": "code",
   "execution_count": 48,
   "metadata": {},
   "outputs": [],
   "source": [
    "# SDE with Rough Driver\n",
    "N_Euler_Steps = 10**2\n",
    "Hurst_Exponent = 0.001\n",
    "\n",
    "def alpha(t,x):\n",
    "    output_drift_update = t-x\n",
    "    return output_drift_update\n",
    "\n",
    "def beta(t,x):\n",
    "    output_vol_update = (t+0.001)*np.diag(np.cos(x))\n",
    "    return output_vol_update"
   ]
  },
  {
   "cell_type": "markdown",
   "metadata": {},
   "source": [
    "---\n",
    "# Training Algorithm:\n",
    "---\n",
    "- Random $\\delta$-bounded partition on input space,\n",
    "- Train deep classifier on infered classes.\n",
    "---\n",
    "---\n",
    "---\n",
    "## Notes - Why the procedure is so computationally efficient?\n",
    "---\n",
    " - The sample barycenters do not require us to solve for any new Wasserstein-1 Barycenters; which is much more computationally costly,\n",
    " - Our training procedure never back-propages through $\\mathcal{W}_1$ since steps 2 and 3 are full-decoupled.  Therefore, training our deep classifier is (comparatively) cheap since it takes values in the standard $N$-simplex.\n",
    "\n",
    "---"
   ]
  },
  {
   "cell_type": "markdown",
   "metadata": {},
   "source": [
    "## Load Auxiliaries"
   ]
  },
  {
   "cell_type": "code",
   "execution_count": 49,
   "metadata": {},
   "outputs": [
    {
     "name": "stdout",
     "output_type": "stream",
     "text": [
      "Deep Feature Builder - Ready\n",
      "Deep Classifier - Ready\n"
     ]
    }
   ],
   "source": [
    "# Load Packages/Modules\n",
    "exec(open('Init_Dump.py').read())\n",
    "# Load Hyper-parameter Grid\n",
    "exec(open('CV_Grid.py').read())\n",
    "# Load Helper Function(s)\n",
    "exec(open('Helper_Functions.py').read())\n",
    "# Import time separately\n",
    "import time\n",
    "os.environ['CUDA_VISIBLE_DEVICES'] = '0'\n",
    "\n",
    "\n",
    "# load dataset\n",
    "results_path = \"./outputs/models/\"\n",
    "results_tables_path = \"./outputs/results/\"\n",
    "raw_data_path_folder = \"./inputs/raw/\"\n",
    "data_path_folder = \"./inputs/data/\"\n",
    "\n",
    "\n",
    "### Set Seed\n",
    "random.seed(2021)\n",
    "np.random.seed(2021)\n",
    "tf.random.set_seed(2021)"
   ]
  },
  {
   "cell_type": "markdown",
   "metadata": {},
   "source": [
    "## Meta-Parameters"
   ]
  },
  {
   "cell_type": "markdown",
   "metadata": {},
   "source": [
    "### Simulation"
   ]
  },
  {
   "cell_type": "markdown",
   "metadata": {},
   "source": [
    "## Problem Dimension"
   ]
  },
  {
   "cell_type": "code",
   "execution_count": 50,
   "metadata": {},
   "outputs": [],
   "source": [
    "problem_dim = 2"
   ]
  },
  {
   "cell_type": "markdown",
   "metadata": {},
   "source": [
    "#### Grid Hyperparameter(s)\n",
    "- Ratio $\\frac{\\text{Testing Datasize}}{\\text{Training Datasize}}$.\n",
    "- Number of Training Points to Generate"
   ]
  },
  {
   "cell_type": "code",
   "execution_count": 52,
   "metadata": {},
   "outputs": [],
   "source": [
    "train_test_ratio = .2\n",
    "N_train_size = 10**2"
   ]
  },
  {
   "cell_type": "markdown",
   "metadata": {},
   "source": [
    "Monte-Carlo Paramters"
   ]
  },
  {
   "cell_type": "code",
   "execution_count": 7,
   "metadata": {},
   "outputs": [],
   "source": [
    "## Monte-Carlo\n",
    "N_Monte_Carlo_Samples = 10**3"
   ]
  },
  {
   "cell_type": "markdown",
   "metadata": {},
   "source": [
    "Initial radis of $\\delta$-bounded random partition of $\\mathcal{X}$!"
   ]
  },
  {
   "cell_type": "code",
   "execution_count": 8,
   "metadata": {},
   "outputs": [],
   "source": [
    "# Hyper-parameters of Cover\n",
    "delta = 0.01\n",
    "Proportion_per_cluster = .5"
   ]
  },
  {
   "cell_type": "markdown",
   "metadata": {},
   "source": [
    "**Note**: Setting *N_Quantizers_to_parameterize* prevents any barycenters and sub-sampling."
   ]
  },
  {
   "cell_type": "markdown",
   "metadata": {},
   "source": [
    "# Simulate from: $Y=f(X,W)$ \n",
    "- Random DNN (internal noise): \n",
    "    - $f(X,W) = f_{\\text{unknown}}(X+U)$\n",
    "- Random DNN: \n",
    "    - $f(X,W) = f_{\\text{unknown}}(X)+W$\n",
    "    \n",
    "*Non-linear dependance on exhaugenous noise.*"
   ]
  },
  {
   "cell_type": "markdown",
   "metadata": {},
   "source": [
    "## Heteroskedastic Regression Problem"
   ]
  },
  {
   "cell_type": "code",
   "execution_count": 9,
   "metadata": {},
   "outputs": [],
   "source": [
    "if f_unknown_mode == \"Heteroskedastic_NonLinear_Regression\":\n",
    "    #-----------#\n",
    "    # Build DNN #\n",
    "    #-----------#\n",
    "    W_feature = np.random.uniform(size=np.array([width,problem_dim]),low=-.5,high=.5)\n",
    "    W_readout = np.random.uniform(size=np.array([1,width]),low=-.5,high=.5)\n",
    "    # Generate Matrices\n",
    "    for i_weights in range(Depth_Bayesian_DNN):\n",
    "        W_hidden_loop = np.random.uniform(size=np.array([width,width]),low=-.5,high=.5)\n",
    "        if i_weights == 0:\n",
    "            W_hidden_list = [W_hidden_loop]\n",
    "        else:\n",
    "            W_hidden_list.append(W_hidden_loop)\n",
    "    # Define DNN Applier\n",
    "    def f_unknown(x):\n",
    "        x_internal = x.reshape(-1,)\n",
    "        x_internal = np.matmul(W_feature,x)\n",
    "        #Deep Layer(s)\n",
    "        for i in range(Depth_Bayesian_DNN):\n",
    "            W_internal = W_hidden_list[i]\n",
    "            x_internal = np.matmul(W_internal,x_internal)\n",
    "            x_internal = np.maximum(0,x_internal)    \n",
    "        # Readout Layer\n",
    "        x_internal = np.matmul(W_readout,x_internal)\n",
    "        return x_internal\n",
    "\n",
    "    # Define Simulator\n",
    "    def Simulator(x_in):\n",
    "        var = np.sqrt(np.sum(x_in**2))\n",
    "        # Pushforward\n",
    "        f_x = f_unknown(x_in)\n",
    "        # Apply Noise After\n",
    "        noise = np.random.laplace(0,var,N_Monte_Carlo_Samples)\n",
    "        f_x_noise = np.cos(f_x) + noise\n",
    "        return f_x_noise"
   ]
  },
  {
   "cell_type": "markdown",
   "metadata": {},
   "source": [
    "## Bayesian DNN"
   ]
  },
  {
   "cell_type": "code",
   "execution_count": 10,
   "metadata": {},
   "outputs": [],
   "source": [
    "if f_unknown_mode == \"DNN_with_Random_Weights\":\n",
    "    def f_unknown(x):\n",
    "        x_internal = x.reshape(-1,) \n",
    "        # Feature Map Layer\n",
    "        W_feature = np.random.uniform(size=np.array([width,problem_dim]),low=-.5,high=.5)\n",
    "        x_internal = np.matmul(W_feature,x)\n",
    "    #     Deep Layer(s)\n",
    "        for i in range(Depth_Bayesian_DNN):\n",
    "            W_internal = np.random.uniform(size=np.array([width,width]),low=-.5,high=.5)\n",
    "            x_internal = np.matmul(W_internal,x_internal)\n",
    "            x_internal = np.maximum(0,x_internal)    \n",
    "        # Readout Layer\n",
    "        W_readout = np.random.uniform(size=np.array([1,width]),low=-.5,high=.5)\n",
    "        x_internal = np.matmul(W_readout,x_internal)\n",
    "        return x_internal\n",
    "\n",
    "\n",
    "    def Simulator(x_in):\n",
    "        for i_MC in range(N_Monte_Carlo_Samples):\n",
    "            y_MC_loop = f_unknown(x_in)\n",
    "            if i_MC == 0:\n",
    "                y_MC = y_MC_loop\n",
    "            else:\n",
    "                y_MC = np.append(y_MC,y_MC_loop)\n",
    "        return y_MC"
   ]
  },
  {
   "cell_type": "markdown",
   "metadata": {},
   "source": [
    "## Bayesian Dropout"
   ]
  },
  {
   "cell_type": "code",
   "execution_count": 11,
   "metadata": {},
   "outputs": [],
   "source": [
    "if f_unknown_mode == \"DNN_with_Bayesian_Dropout\":\n",
    "    # Initialize Drouput Parameters\n",
    "    N_Dropout = int(np.maximum(1,round(width*Dropout_rate)))\n",
    "    \n",
    "    #-----------#\n",
    "    # Build DNN #\n",
    "    #-----------#\n",
    "    W_feature = np.random.uniform(size=np.array([width,problem_dim]),low=-.5,high=.5)\n",
    "    W_readout = np.random.uniform(size=np.array([1,width]),low=-.5,high=.5)\n",
    "    # Generate Matrices\n",
    "    for i_weights in range(Depth_Bayesian_DNN):\n",
    "        W_hidden_loop = np.random.uniform(size=np.array([width,width]),low=-.5,high=.5)\n",
    "        if i_weights == 0:\n",
    "            W_hidden_list = [W_hidden_loop]\n",
    "        else:\n",
    "            W_hidden_list.append(W_hidden_loop)\n",
    "    # Define DNN Applier\n",
    "    def f_unknown(x):\n",
    "        x_internal = x.reshape(-1,)\n",
    "        x_internal = np.matmul(W_feature,x)\n",
    "        #Deep Layer(s)\n",
    "        for i in range(Depth_Bayesian_DNN):\n",
    "            W_internal = W_hidden_list[i]\n",
    "            # Apply Random Dropout\n",
    "            random_mask_coordinates_i = np.random.choice(range(width),N_Dropout)\n",
    "            random_mask_coordinates_j = np.random.choice(range(width),N_Dropout)\n",
    "            W_internal[random_mask_coordinates_i,random_mask_coordinates_j] = 0\n",
    "            # Apply Dropped-out layer\n",
    "            x_internal = np.matmul(W_internal,x_internal)\n",
    "            x_internal = np.maximum(0,x_internal)    \n",
    "        # Readout Layer\n",
    "        x_internal = np.matmul(W_readout,x_internal)\n",
    "        return x_internal\n",
    "\n",
    "    def Simulator(x_in):\n",
    "        for i_MC in range(N_Monte_Carlo_Samples):\n",
    "            y_MC_loop = f_unknown(x_in)\n",
    "            if i_MC == 0:\n",
    "                y_MC = y_MC_loop\n",
    "            else:\n",
    "                y_MC = np.append(y_MC,y_MC_loop)\n",
    "        return y_MC"
   ]
  },
  {
   "cell_type": "markdown",
   "metadata": {},
   "source": [
    "### fSDEs\n",
    "Lean the conditional law of $I_{X_1 \\in Ball(0,1)}$ where $X_t$ solves an SDE with fBM driver."
   ]
  },
  {
   "cell_type": "code",
   "execution_count": 12,
   "metadata": {},
   "outputs": [],
   "source": [
    "if f_unknown_mode == \"Rough_SDE\":\n",
    "    # Initialize Drouput Parameters\n",
    "    N_Dropout = int(np.maximum(1,round(width*Dropout_rate)))\n",
    "    \n",
    "    #-----------#\n",
    "    # Build DNN #\n",
    "    #-----------#\n",
    "    W_feature = np.random.uniform(size=np.array([width,problem_dim]),low=-.5,high=.5)\n",
    "    W_readout = np.random.uniform(size=np.array([1,width]),low=-.5,high=.5)\n",
    "    # Generate Matrices\n",
    "    for i_weights in range(Depth_Bayesian_DNN):\n",
    "        W_hidden_loop = np.random.uniform(size=np.array([width,width]),low=-.5,high=.5)\n",
    "        if i_weights == 0:\n",
    "            W_hidden_list = [W_hidden_loop]\n",
    "        else:\n",
    "            W_hidden_list.append(W_hidden_loop)\n",
    "    # Define DNN Applier\n",
    "    def f_unknown(x):\n",
    "        x_internal = x.reshape(-1,)\n",
    "        # Get fBM path\n",
    "        for d in range(problem_dim):\n",
    "            fBM_gen_loop = (((FBM(n=N_Euler_Steps, hurst=Hurst_Exponent, length=1, method='daviesharte')).fbm())[1:]).reshape(-1,1)\n",
    "            if d == 0:\n",
    "                fBM_gen = fBM_gen_loop\n",
    "            else:\n",
    "                fBM_gen = np.append(fBM_gen,fBM_gen_loop,axis=-1)\n",
    "        # Perform Integral\n",
    "        for t in range(N_Euler_Steps):\n",
    "            drift_update = alpha(t/N_Euler_Steps,x_internal)/N_Euler_Steps\n",
    "            vol_update = beta(t/N_Euler_Steps,x_internal)\n",
    "            x_internal = x_internal + drift_update + np.matmul(vol_update,fBM_gen[t,])\n",
    "        # Sum at output\n",
    "        output_indicator = np.max(x_internal)\n",
    "        return output_indicator\n",
    "\n",
    "    def Simulator(x_in):\n",
    "        for i_MC in range(N_Monte_Carlo_Samples):\n",
    "            y_MC_loop = f_unknown(x_in)\n",
    "            if i_MC == 0:\n",
    "                y_MC = y_MC_loop\n",
    "            else:\n",
    "                y_MC = np.append(y_MC,y_MC_loop)\n",
    "        return y_MC"
   ]
  },
  {
   "cell_type": "markdown",
   "metadata": {},
   "source": [
    "## Initialize Data"
   ]
  },
  {
   "cell_type": "code",
   "execution_count": 13,
   "metadata": {},
   "outputs": [],
   "source": [
    "N_test_size = int(np.round(N_train_size*train_test_ratio,0))"
   ]
  },
  {
   "cell_type": "markdown",
   "metadata": {},
   "source": [
    "### Initialize Training Data (Inputs)"
   ]
  },
  {
   "cell_type": "markdown",
   "metadata": {},
   "source": [
    "Try initial sampling-type implementation!  It worked nicely..i.e.: centers were given!"
   ]
  },
  {
   "cell_type": "code",
   "execution_count": 14,
   "metadata": {},
   "outputs": [],
   "source": [
    "# Get Training Set\n",
    "X_train = np.random.uniform(size=np.array([N_train_size,problem_dim]),low=.5,high=1.5)\n",
    "\n",
    "# Get Testing Set\n",
    "test_set_indices = np.random.choice(range(X_train.shape[0]),N_test_size)\n",
    "X_test = X_train[test_set_indices,]\n",
    "X_test = X_test + np.random.uniform(low=-(delta/np.sqrt(problem_dim)), \n",
    "                                    high = -(delta/np.sqrt(problem_dim)),\n",
    "                                    size = X_test.shape)"
   ]
  },
  {
   "cell_type": "code",
   "execution_count": 15,
   "metadata": {},
   "outputs": [],
   "source": [
    "# Initialize k_means\n",
    "N_Quantizers_to_parameterize = int(np.maximum(2,round(Proportion_per_cluster*X_train.shape[0])))\n",
    "kmeans = KMeans(n_clusters=N_Quantizers_to_parameterize, random_state=0).fit(X_train)\n",
    "# Get Classes\n",
    "Train_classes = np.array(pd.get_dummies(kmeans.labels_))\n",
    "# Get Center Measures\n",
    "Barycenters_Array_x = kmeans.cluster_centers_"
   ]
  },
  {
   "cell_type": "markdown",
   "metadata": {},
   "source": [
    "### Get Barycenters\n",
    "*Here we make the assumption that we can directly resample $f(X=x,U)$ if necessary...or that it is available as part of the dataset.*"
   ]
  },
  {
   "cell_type": "code",
   "execution_count": 16,
   "metadata": {},
   "outputs": [
    {
     "name": "stderr",
     "output_type": "stream",
     "text": [
      "100%|██████████| 5/5 [00:00<00:00, 16.56it/s]\n"
     ]
    }
   ],
   "source": [
    "for i in tqdm(range(Barycenters_Array_x.shape[0])):\n",
    "    # Put Datum\n",
    "    Bar_x_loop = Barycenters_Array_x[i,]\n",
    "    # Product Monte-Carlo Sample for Input\n",
    "    Bar_y_loop = (Simulator(Bar_x_loop)).reshape(1,-1)\n",
    "\n",
    "    # Update Dataset\n",
    "    if i == 0:\n",
    "        Barycenters_Array = Bar_y_loop\n",
    "    else:\n",
    "        Barycenters_Array = np.append(Barycenters_Array,Bar_y_loop,axis=0)"
   ]
  },
  {
   "cell_type": "markdown",
   "metadata": {},
   "source": [
    "### Initialize Training Data (Outputs)"
   ]
  },
  {
   "cell_type": "markdown",
   "metadata": {},
   "source": [
    "#### Get Training Set"
   ]
  },
  {
   "cell_type": "code",
   "execution_count": 17,
   "metadata": {},
   "outputs": [
    {
     "name": "stderr",
     "output_type": "stream",
     "text": [
      "100%|██████████| 10/10 [00:00<00:00, 16.32it/s]\n"
     ]
    }
   ],
   "source": [
    "for i in tqdm(range(X_train.shape[0])):\n",
    "    # Put Datum\n",
    "    x_loop = X_train[i,]\n",
    "    # Product Monte-Carlo Sample for Input\n",
    "    y_loop = (Simulator(x_loop)).reshape(1,-1)\n",
    "\n",
    "    # Update Dataset\n",
    "    if i == 0:\n",
    "        Y_train = y_loop\n",
    "        Y_train_mean_emp = np.mean(y_loop)\n",
    "    else:\n",
    "        Y_train = np.append(Y_train,y_loop,axis=0)\n",
    "        Y_train_mean_emp = np.append(Y_train_mean_emp,np.mean(y_loop))"
   ]
  },
  {
   "cell_type": "markdown",
   "metadata": {},
   "source": [
    "#### Get Test Set"
   ]
  },
  {
   "cell_type": "code",
   "execution_count": 18,
   "metadata": {},
   "outputs": [
    {
     "name": "stderr",
     "output_type": "stream",
     "text": [
      "100%|██████████| 2/2 [00:00<00:00, 13.35it/s]\n"
     ]
    }
   ],
   "source": [
    "# Start Timer\n",
    "Test_Set_PredictionTime_MC = time.time()\n",
    "\n",
    "# Generate Data\n",
    "for i in tqdm(range(X_test.shape[0])):\n",
    "    # Put Datum\n",
    "    x_loop = X_test[i,]\n",
    "    # Product Monte-Carlo Sample for Input\n",
    "    y_loop = (Simulator(x_loop)).reshape(1,-1)\n",
    "\n",
    "    # Update Dataset\n",
    "    if i == 0:\n",
    "        Y_test = y_loop\n",
    "    else:\n",
    "        Y_test = np.append(Y_test,y_loop,axis=0)\n",
    "        \n",
    "# End Timer\n",
    "Test_Set_PredictionTime_MC = time.time() - Test_Set_PredictionTime_MC"
   ]
  },
  {
   "cell_type": "markdown",
   "metadata": {},
   "source": [
    "# Train Model"
   ]
  },
  {
   "cell_type": "markdown",
   "metadata": {},
   "source": [
    "#### Start Timer"
   ]
  },
  {
   "cell_type": "code",
   "execution_count": 19,
   "metadata": {},
   "outputs": [],
   "source": [
    "# Start Timer\n",
    "Type_A_timer_Begin = time.time()"
   ]
  },
  {
   "cell_type": "markdown",
   "metadata": {},
   "source": [
    "### Train Deep Classifier"
   ]
  },
  {
   "cell_type": "markdown",
   "metadata": {},
   "source": [
    "In this step, we train a deep (feed-forward) classifier:\n",
    "$$\n",
    "\\hat{f}\\triangleq \\operatorname{Softmax}_N\\circ W_J\\circ \\sigma \\bullet \\dots \\sigma \\bullet W_1,\n",
    "$$\n",
    "to identify which barycenter we are closest to."
   ]
  },
  {
   "cell_type": "markdown",
   "metadata": {},
   "source": [
    "#### Train Deep Classifier"
   ]
  },
  {
   "cell_type": "markdown",
   "metadata": {},
   "source": [
    "Re-Load Packages and CV Grid"
   ]
  },
  {
   "cell_type": "code",
   "execution_count": 20,
   "metadata": {},
   "outputs": [
    {
     "name": "stdout",
     "output_type": "stream",
     "text": [
      "Deep Feature Builder - Ready\n",
      "Deep Classifier - Ready\n"
     ]
    }
   ],
   "source": [
    "# Re-Load Hyper-parameter Grid\n",
    "exec(open('CV_Grid.py').read())\n",
    "# Re-Load Classifier Function(s)\n",
    "exec(open('Helper_Functions.py').read())"
   ]
  },
  {
   "cell_type": "markdown",
   "metadata": {},
   "source": [
    "Train Deep Classifier"
   ]
  },
  {
   "cell_type": "code",
   "execution_count": 21,
   "metadata": {},
   "outputs": [
    {
     "name": "stdout",
     "output_type": "stream",
     "text": [
      "==========================================\n",
      "Training Classifer Portion of Type-A Model\n",
      "==========================================\n",
      "Fitting 2 folds for each of 1 candidates, totalling 2 fits\n"
     ]
    },
    {
     "name": "stderr",
     "output_type": "stream",
     "text": [
      "[Parallel(n_jobs=4)]: Using backend LokyBackend with 4 concurrent workers.\n",
      "[Parallel(n_jobs=4)]: Done   2 out of   2 | elapsed:    4.4s remaining:    0.0s\n",
      "[Parallel(n_jobs=4)]: Done   2 out of   2 | elapsed:    4.4s finished\n"
     ]
    },
    {
     "name": "stdout",
     "output_type": "stream",
     "text": [
      "Epoch 1/50\n",
      "1/1 [==============================] - 0s 1ms/step - loss: 1.7354 - accuracy: 0.2000\n",
      "Epoch 2/50\n",
      "1/1 [==============================] - 0s 1ms/step - loss: 1.7304 - accuracy: 0.2000\n",
      "Epoch 3/50\n",
      "1/1 [==============================] - 0s 2ms/step - loss: 1.7255 - accuracy: 0.2000\n",
      "Epoch 4/50\n",
      "1/1 [==============================] - 0s 1ms/step - loss: 1.7206 - accuracy: 0.2000\n",
      "Epoch 5/50\n",
      "1/1 [==============================] - 0s 977us/step - loss: 1.7158 - accuracy: 0.4000\n",
      "Epoch 6/50\n",
      "1/1 [==============================] - 0s 2ms/step - loss: 1.7110 - accuracy: 0.4000\n",
      "Epoch 7/50\n",
      "1/1 [==============================] - 0s 2ms/step - loss: 1.7063 - accuracy: 0.4000\n",
      "Epoch 8/50\n",
      "1/1 [==============================] - 0s 1ms/step - loss: 1.7017 - accuracy: 0.4000\n",
      "Epoch 9/50\n",
      "1/1 [==============================] - 0s 2ms/step - loss: 1.6971 - accuracy: 0.4000\n",
      "Epoch 10/50\n",
      "1/1 [==============================] - 0s 2ms/step - loss: 1.6926 - accuracy: 0.4000\n",
      "Epoch 11/50\n",
      "1/1 [==============================] - 0s 1ms/step - loss: 1.6881 - accuracy: 0.4000\n",
      "Epoch 12/50\n",
      "1/1 [==============================] - 0s 1ms/step - loss: 1.6836 - accuracy: 0.4000\n",
      "Epoch 13/50\n",
      "1/1 [==============================] - 0s 6ms/step - loss: 1.6792 - accuracy: 0.4000\n",
      "Epoch 14/50\n",
      "1/1 [==============================] - 0s 3ms/step - loss: 1.6748 - accuracy: 0.4000\n",
      "Epoch 15/50\n",
      "1/1 [==============================] - 0s 3ms/step - loss: 1.6705 - accuracy: 0.4000\n",
      "Epoch 16/50\n",
      "1/1 [==============================] - 0s 2ms/step - loss: 1.6662 - accuracy: 0.4000\n",
      "Epoch 17/50\n",
      "1/1 [==============================] - 0s 4ms/step - loss: 1.6620 - accuracy: 0.4000\n",
      "Epoch 18/50\n",
      "1/1 [==============================] - 0s 2ms/step - loss: 1.6578 - accuracy: 0.4000\n",
      "Epoch 19/50\n",
      "1/1 [==============================] - 0s 1ms/step - loss: 1.6537 - accuracy: 0.4000\n",
      "Epoch 20/50\n",
      "1/1 [==============================] - 0s 1ms/step - loss: 1.6497 - accuracy: 0.4000\n",
      "Epoch 21/50\n",
      "1/1 [==============================] - 0s 1ms/step - loss: 1.6457 - accuracy: 0.4000\n",
      "Epoch 22/50\n",
      "1/1 [==============================] - 0s 1ms/step - loss: 1.6418 - accuracy: 0.4000\n",
      "Epoch 23/50\n",
      "1/1 [==============================] - 0s 1ms/step - loss: 1.6380 - accuracy: 0.4000\n",
      "Epoch 24/50\n",
      "1/1 [==============================] - 0s 2ms/step - loss: 1.6342 - accuracy: 0.4000\n",
      "Epoch 25/50\n",
      "1/1 [==============================] - 0s 2ms/step - loss: 1.6305 - accuracy: 0.4000\n",
      "Epoch 26/50\n",
      "1/1 [==============================] - 0s 2ms/step - loss: 1.6269 - accuracy: 0.4000\n",
      "Epoch 27/50\n",
      "1/1 [==============================] - 0s 3ms/step - loss: 1.6233 - accuracy: 0.4000\n",
      "Epoch 28/50\n",
      "1/1 [==============================] - 0s 2ms/step - loss: 1.6197 - accuracy: 0.4000\n",
      "Epoch 29/50\n",
      "1/1 [==============================] - 0s 3ms/step - loss: 1.6161 - accuracy: 0.4000\n",
      "Epoch 30/50\n",
      "1/1 [==============================] - 0s 2ms/step - loss: 1.6125 - accuracy: 0.4000\n",
      "Epoch 31/50\n",
      "1/1 [==============================] - 0s 2ms/step - loss: 1.6090 - accuracy: 0.4000\n",
      "Epoch 32/50\n",
      "1/1 [==============================] - 0s 2ms/step - loss: 1.6054 - accuracy: 0.4000\n",
      "Epoch 33/50\n",
      "1/1 [==============================] - 0s 2ms/step - loss: 1.6018 - accuracy: 0.4000\n",
      "Epoch 34/50\n",
      "1/1 [==============================] - 0s 1ms/step - loss: 1.5982 - accuracy: 0.4000\n",
      "Epoch 35/50\n",
      "1/1 [==============================] - 0s 2ms/step - loss: 1.5947 - accuracy: 0.3000\n",
      "Epoch 36/50\n",
      "1/1 [==============================] - 0s 4ms/step - loss: 1.5912 - accuracy: 0.3000\n",
      "Epoch 37/50\n",
      "1/1 [==============================] - 0s 2ms/step - loss: 1.5878 - accuracy: 0.3000\n",
      "Epoch 38/50\n",
      "1/1 [==============================] - ETA: 0s - loss: 1.5844 - accuracy: 0.30 - 0s 1ms/step - loss: 1.5844 - accuracy: 0.3000\n",
      "Epoch 39/50\n",
      "1/1 [==============================] - 0s 3ms/step - loss: 1.5810 - accuracy: 0.3000\n",
      "Epoch 40/50\n",
      "1/1 [==============================] - 0s 1ms/step - loss: 1.5776 - accuracy: 0.3000\n",
      "Epoch 41/50\n",
      "1/1 [==============================] - 0s 2ms/step - loss: 1.5742 - accuracy: 0.3000\n",
      "Epoch 42/50\n",
      "1/1 [==============================] - 0s 1ms/step - loss: 1.5709 - accuracy: 0.3000\n",
      "Epoch 43/50\n",
      "1/1 [==============================] - 0s 3ms/step - loss: 1.5676 - accuracy: 0.3000\n",
      "Epoch 44/50\n",
      "1/1 [==============================] - 0s 1ms/step - loss: 1.5644 - accuracy: 0.3000\n",
      "Epoch 45/50\n",
      "1/1 [==============================] - 0s 4ms/step - loss: 1.5611 - accuracy: 0.3000\n",
      "Epoch 46/50\n",
      "1/1 [==============================] - 0s 2ms/step - loss: 1.5578 - accuracy: 0.3000\n",
      "Epoch 47/50\n",
      "1/1 [==============================] - 0s 2ms/step - loss: 1.5545 - accuracy: 0.3000\n",
      "Epoch 48/50\n",
      "1/1 [==============================] - 0s 3ms/step - loss: 1.5513 - accuracy: 0.3000\n",
      "Epoch 49/50\n",
      "1/1 [==============================] - 0s 1ms/step - loss: 1.5480 - accuracy: 0.3000\n",
      "Epoch 50/50\n",
      "1/1 [==============================] - 0s 2ms/step - loss: 1.5448 - accuracy: 0.3000\n",
      "1/1 [==============================] - 0s 2ms/step\n",
      "1/1 [==============================] - 0s 1ms/step\n",
      "===============================================\n",
      "Training Classifer Portion of Type Model: Done!\n",
      "===============================================\n"
     ]
    }
   ],
   "source": [
    "print(\"==========================================\")\n",
    "print(\"Training Classifer Portion of Type-A Model\")\n",
    "print(\"==========================================\")\n",
    "\n",
    "# Redefine (Dimension-related) Elements of Grid\n",
    "param_grid_Deep_Classifier['input_dim'] = [problem_dim]\n",
    "param_grid_Deep_Classifier['output_dim'] = [N_Quantizers_to_parameterize]\n",
    "\n",
    "# Train simple deep classifier\n",
    "predicted_classes_train, predicted_classes_test, N_params_deep_classifier, timer_output = build_simple_deep_classifier(n_folds = CV_folds, \n",
    "                                                                                                        n_jobs = n_jobs, \n",
    "                                                                                                        n_iter = n_iter, \n",
    "                                                                                                        param_grid_in=param_grid_Deep_Classifier, \n",
    "                                                                                                        X_train = X_train, \n",
    "                                                                                                        y_train = Train_classes,\n",
    "                                                                                                        X_test = X_test)\n",
    "\n",
    "print(\"===============================================\")\n",
    "print(\"Training Classifer Portion of Type Model: Done!\")\n",
    "print(\"===============================================\")"
   ]
  },
  {
   "cell_type": "markdown",
   "metadata": {},
   "source": [
    "#### Get Predicted Quantized Distributions\n",
    "- Each *row* of \"Predicted_Weights\" is the $\\beta\\in \\Delta_N$.\n",
    "- Each *Column* of \"Barycenters_Array\" denotes the $x_1,\\dots,x_N$ making up the points of the corresponding empirical measures."
   ]
  },
  {
   "cell_type": "code",
   "execution_count": 22,
   "metadata": {},
   "outputs": [],
   "source": [
    "# Initialize Empirical Weights\n",
    "empirical_weights = (np.ones(N_Monte_Carlo_Samples)/N_Monte_Carlo_Samples).reshape(-1,)\n",
    "\n",
    "for i in range(N_Quantizers_to_parameterize):\n",
    "    if i == 0:\n",
    "        points_of_mass = Barycenters_Array[i,]\n",
    "    else:\n",
    "        points_of_mass = np.append(points_of_mass,Barycenters_Array[i,])"
   ]
  },
  {
   "cell_type": "code",
   "execution_count": 23,
   "metadata": {},
   "outputs": [],
   "source": [
    "# Get Noisless Mean\n",
    "direct_facts = np.apply_along_axis(f_unknown, 1, X_train)\n",
    "direct_facts_test = np.apply_along_axis(f_unknown, 1, X_test)"
   ]
  },
  {
   "cell_type": "markdown",
   "metadata": {},
   "source": [
    "#### Get Error(s)"
   ]
  },
  {
   "cell_type": "markdown",
   "metadata": {},
   "source": [
    "Initialize \"Higher Moments\" Loss Metric"
   ]
  },
  {
   "cell_type": "code",
   "execution_count": 24,
   "metadata": {},
   "outputs": [],
   "source": [
    "def Higher_Moments_Loss(Mu_hat_input,Mu_hat_MC_input):\n",
    "    for k in range(10):\n",
    "        moment_hat_loop = np.sum((Mu_hat_input**k)*points_of_mass)/np.math.factorial(k)\n",
    "        moment_MC_hat_loop = np.mean(Mu_hat_MC_input**k)/np.math.factorial(k)\n",
    "        if k == 0:\n",
    "            moment_hat = moment_hat_loop\n",
    "            moment_MC_hat = moment_MC_hat_loop\n",
    "        else:\n",
    "            moment_hat = np.append(moment_hat,moment_hat_loop)\n",
    "            moment_MC_hat = np.append(moment_MC_hat,moment_MC_hat_loop)\n",
    "\n",
    "    return moment_hat,moment_MC_hat"
   ]
  },
  {
   "cell_type": "markdown",
   "metadata": {},
   "source": [
    "#### Compute *Training* Error(s)"
   ]
  },
  {
   "cell_type": "code",
   "execution_count": 41,
   "metadata": {},
   "outputs": [
    {
     "name": "stderr",
     "output_type": "stream",
     "text": [
      "100%|██████████| 10/10 [00:00<00:00, 837.52it/s]"
     ]
    },
    {
     "name": "stdout",
     "output_type": "stream",
     "text": [
      "#--------------------#\n",
      " Get Training Error(s)\n",
      "#--------------------#\n",
      "#-------------------------#\n",
      " Get Training Error(s): END\n",
      "#-------------------------#\n"
     ]
    },
    {
     "name": "stderr",
     "output_type": "stream",
     "text": [
      "\n"
     ]
    }
   ],
   "source": [
    "print(\"#--------------------#\")\n",
    "print(\" Get Training Error(s)\")\n",
    "print(\"#--------------------#\")\n",
    "for i in tqdm(range((X_train.shape[0]))):\n",
    "    for j in range(N_Quantizers_to_parameterize):\n",
    "        b_loop = np.repeat(predicted_classes_train[i,j],N_Monte_Carlo_Samples)\n",
    "        if j == 0:\n",
    "            b = b_loop\n",
    "        else:\n",
    "            b = np.append(b,b_loop)\n",
    "        b = b.reshape(-1,1)\n",
    "        b = b\n",
    "    b = np.array(b,dtype=float).reshape(-1,)\n",
    "    b = b/N_Monte_Carlo_Samples\n",
    "    \n",
    "    # Compute Error(s)\n",
    "    ## W1\n",
    "    W1_loop = ot.emd2_1d(points_of_mass,\n",
    "                         np.array(Y_train[i,]).reshape(-1,),\n",
    "                         b,\n",
    "                         empirical_weights)\n",
    "    \n",
    "    ## M1\n",
    "    Mu_hat = np.sum(b*(points_of_mass))\n",
    "    Mu_MC = np.mean(np.array(Y_train[i,]))\n",
    "    if f_unknown_mode == \"Heteroskedastic_NonLinear_Regression\":\n",
    "        Mu = direct_facts[i,]\n",
    "    else:\n",
    "        Mu = Mu_MC\n",
    "        \n",
    "    ### Error(s)\n",
    "    Mean_loop = (Mu_hat-Mu)\n",
    "    Mean_loop_MC = (Mu_hat-Mu_MC)\n",
    "    \n",
    "    ## M2\n",
    "    Var_hat = np.sum(((points_of_mass-Mu_hat)**2)*b)\n",
    "    Var_MC = np.mean(np.array(Y_train[i]-Mu_MC)**2)\n",
    "    if f_unknown_mode == \"Heteroskedastic_NonLinear_Regression\":\n",
    "        Var = np.mean((direct_facts[i,]-Mu)**2)\n",
    "    else:\n",
    "        Var = Var_MC        \n",
    "    \n",
    "    ### Error(s)\n",
    "    Var_loop = np.abs(Var_hat-Var)\n",
    "    Var_loop_MC = np.abs(Var_MC-Var)\n",
    "    \n",
    "    # Get Higher Moments Loss\n",
    "    Higher_momentserrors_loop,Higher_MC_momentserrors_loop = Higher_Moments_Loss(b,np.array(Y_train[i,]))\n",
    "    Higher_Moments_Errors_loop = np.abs(Higher_momentserrors_loop-Higher_MC_momentserrors_loop)\n",
    "    \n",
    "    \n",
    "    # Update\n",
    "    if i == 0:\n",
    "        W1_errors = W1_loop\n",
    "        Mean_errors =  Mean_loop\n",
    "        Var_errors = Var_loop\n",
    "        Mean_errors_MC =  Mean_loop_MC\n",
    "        Var_errors_MC = Var_loop_MC\n",
    "        Higher_Moments_Errors = Higher_Moments_Errors_loop\n",
    "        \n",
    "        \n",
    "    else:\n",
    "        W1_errors = np.append(W1_errors,W1_loop)\n",
    "        Mean_errors =  np.append(Mean_errors,Mean_loop)\n",
    "        Var_errors = np.append(Var_errors,Var_loop)\n",
    "        Mean_errors_MC =  np.append(Mean_errors_MC,Mean_loop_MC)\n",
    "        Var_errors_MC = np.append(Var_errors_MC,Var_loop_MC)\n",
    "        Higher_Moments_Errors = np.append(Higher_Moments_Errors,Higher_Moments_Errors_loop)\n",
    "        \n",
    "print(\"#-------------------------#\")\n",
    "print(\" Get Training Error(s): END\")\n",
    "print(\"#-------------------------#\")"
   ]
  },
  {
   "cell_type": "markdown",
   "metadata": {},
   "source": [
    "#### Compute *Testing* Errors"
   ]
  },
  {
   "cell_type": "code",
   "execution_count": 42,
   "metadata": {},
   "outputs": [
    {
     "name": "stderr",
     "output_type": "stream",
     "text": [
      "100%|██████████| 2/2 [00:00<00:00, 912.60it/s]"
     ]
    },
    {
     "name": "stdout",
     "output_type": "stream",
     "text": [
      "#----------------#\n",
      " Get Test Error(s)\n",
      "#----------------#\n",
      "#-------------------------#\n",
      " Get Training Error(s): END\n",
      "#-------------------------#\n"
     ]
    },
    {
     "name": "stderr",
     "output_type": "stream",
     "text": [
      "\n"
     ]
    }
   ],
   "source": [
    "print(\"#----------------#\")\n",
    "print(\" Get Test Error(s)\")\n",
    "print(\"#----------------#\")\n",
    "for i in tqdm(range((X_test.shape[0]))):\n",
    "    for j in range(N_Quantizers_to_parameterize):\n",
    "        b_loop_test = np.repeat(predicted_classes_test[i,j],N_Monte_Carlo_Samples)\n",
    "        if j == 0:\n",
    "            b_test = b_loop_test\n",
    "        else:\n",
    "            b_test = np.append(b,b_loop)\n",
    "        b_test = b_test.reshape(-1,1)\n",
    "    b_test = np.array(b,dtype=float).reshape(-1,)\n",
    "    b_test = b/N_Monte_Carlo_Samples\n",
    "    \n",
    "    # Compute Error(s)\n",
    "    ## W1\n",
    "    W1_loop_test = ot.emd2_1d(points_of_mass,\n",
    "                         np.array(Y_test[i,]).reshape(-1,),\n",
    "                         b,\n",
    "                         empirical_weights)\n",
    "    \n",
    "    ## M1\n",
    "    Mu_hat_test = np.sum(b_test*(points_of_mass))\n",
    "    Mu_MC_test = np.mean(np.array(Y_test[i,]))\n",
    "    if f_unknown_mode == \"Rough_SDE\":\n",
    "        Mu_test = Mu_MC_test\n",
    "    else:\n",
    "        Mu_test = direct_facts_test[i,]\n",
    "    Mu_test = direct_facts_test[i,]\n",
    "    ### Error(s)\n",
    "    Mean_loop_test = (Mu_hat_test-Mu_test)\n",
    "    Mean_loop_MC_test = (Mu_hat_test-Mu_MC_test)\n",
    "    \n",
    "    ## M2\n",
    "    Var_hat_test = np.sum(((points_of_mass-Mu_hat_test)**2)*b)\n",
    "    Var_MC_test = np.mean(np.array(Y_test[i]-Mu_MC)**2)\n",
    "    if f_unknown_mode == \"Rough_SDE\":\n",
    "        Var_test = Var_MC_test\n",
    "    else:\n",
    "        Var_test = np.mean((direct_facts_test[i,]-Mu)**2)\n",
    "    \n",
    "    ### Error(s)\n",
    "    Var_loop_test = np.abs(Var_hat_test-Var_test)\n",
    "    Var_loop_MC_test = np.abs(Var_MC_test-Var_test)\n",
    "    \n",
    "    # Get Higher Moments Loss\n",
    "    Higher_momentserrors_test_loop,Higher_MC_momentserrors_test_loop = Higher_Moments_Loss(b,np.array(Y_test[i,]))\n",
    "    Higher_Moments_Errors_test_loop = np.abs(Higher_momentserrors_test_loop-Higher_MC_momentserrors_test_loop)\n",
    "    \n",
    "    # Update\n",
    "    if i == 0:\n",
    "        W1_errors_test = W1_loop_test\n",
    "        Mean_errors_test =  Mean_loop_test\n",
    "        Var_errors_test = Var_loop_test\n",
    "        Mean_errors_MC_test =  Mean_loop_MC_test\n",
    "        Var_errors_MC_test = Var_loop_MC_test\n",
    "        Higher_Moments_test_Errors = Higher_Moments_Errors_test_loop\n",
    "        \n",
    "        \n",
    "    else:\n",
    "        W1_errors_test = np.append(W1_errors_test,W1_loop_test)\n",
    "        Mean_errors_test =  np.append(Mean_errors_test,Mean_loop_test)\n",
    "        Var_errors_test = np.append(Var_errors_test,Var_loop_test)\n",
    "        Mean_errors_MC_test =  np.append(Mean_errors_MC_test,Mean_loop_MC_test)\n",
    "        Var_errors_MC_test = np.append(Var_errors_MC_test,Var_loop_MC_test)\n",
    "        Higher_Moments_test_Errors = np.append(Higher_Moments_test_Errors,Higher_Moments_Errors_test_loop)\n",
    "        \n",
    "        \n",
    "print(\"#-------------------------#\")\n",
    "print(\" Get Training Error(s): END\")\n",
    "print(\"#-------------------------#\")"
   ]
  },
  {
   "cell_type": "markdown",
   "metadata": {},
   "source": [
    "#### Stop Timer"
   ]
  },
  {
   "cell_type": "code",
   "execution_count": 38,
   "metadata": {},
   "outputs": [],
   "source": [
    "# Stop Timer\n",
    "Type_A_timer_end = time.time()\n",
    "# Compute Lapsed Time Needed For Training\n",
    "Time_Lapse_Model_A = Type_A_timer_end - Type_A_timer_Begin"
   ]
  },
  {
   "cell_type": "markdown",
   "metadata": {},
   "source": [
    "---\n",
    "# Benchmarks\n",
    "---"
   ]
  },
  {
   "cell_type": "code",
   "execution_count": 39,
   "metadata": {},
   "outputs": [
    {
     "name": "stdout",
     "output_type": "stream",
     "text": [
      "Deep Feature Builder - Ready\n"
     ]
    }
   ],
   "source": [
    "# %run Benchmarks_Model_Builder.ipynb\n",
    "exec(open('Benchmarks_Model_Builder.py').read())\n",
    "exec(open('CV_Grid.py').read())"
   ]
  },
  {
   "cell_type": "markdown",
   "metadata": {},
   "source": [
    "Implements the Elastic-Net Regression- only predicting mean"
   ]
  },
  {
   "cell_type": "code",
   "execution_count": 29,
   "metadata": {},
   "outputs": [],
   "source": [
    "# Fit Elastic Net Model\n",
    "Lin_reg.fit(X_train,Y_train_mean_emp)\n",
    "\n",
    "# Get Predictions\n",
    "ENET_predict = Lin_reg.predict(X_train)\n",
    "ENET_predict_test = Lin_reg.predict(X_test)\n",
    "\n",
    "# Get Prediction Errors\n",
    "## Train\n",
    "for i in range(X_train.shape[0]):\n",
    "    Mu = direct_facts[i,]\n",
    "    error_loop = np.abs(Mu-ENET_predict[i])\n",
    "    if i == 0:\n",
    "        Mean_errors_ENET = error_loop\n",
    "    else:\n",
    "        Mean_errors_ENET = np.append(Mean_errors_ENET,error_loop)\n",
    "## Test\n",
    "for i in range(X_test.shape[0]):\n",
    "    Mu_test = direct_facts[i,]\n",
    "    error_loop_test = np.abs(Mu-ENET_predict_test[i])\n",
    "    if i == 0:\n",
    "        Mean_errors_ENET_test = error_loop_test\n",
    "    else:\n",
    "        Mean_errors_ENET_test = np.append(Mean_errors_ENET_test,error_loop_test)"
   ]
  },
  {
   "cell_type": "markdown",
   "metadata": {},
   "source": [
    "### Kernel Ridge Regression"
   ]
  },
  {
   "cell_type": "code",
   "execution_count": 30,
   "metadata": {},
   "outputs": [
    {
     "name": "stdout",
     "output_type": "stream",
     "text": [
      "Fitting 2 folds for each of 1 candidates, totalling 2 fits\n"
     ]
    },
    {
     "name": "stderr",
     "output_type": "stream",
     "text": [
      "[Parallel(n_jobs=4)]: Using backend LokyBackend with 4 concurrent workers.\n",
      "[Parallel(n_jobs=4)]: Done   2 out of   2 | elapsed:    0.4s remaining:    0.0s\n",
      "[Parallel(n_jobs=4)]: Done   2 out of   2 | elapsed:    0.4s finished\n"
     ]
    }
   ],
   "source": [
    "Xhat_Kridge, Xhat_Kridge_test , relic = get_Kernel_Ridge_Regressor(X_train,X_test,Y_train_mean_emp)\n",
    "\n",
    "\n",
    "# Get Prediction Errors\n",
    "## Train\n",
    "for i in range(X_train.shape[0]):\n",
    "    Mu = direct_facts[i,]\n",
    "    error_loop = np.abs(Mu-Xhat_Kridge[i])\n",
    "    if i == 0:\n",
    "        Mean_errors_KRidge = error_loop\n",
    "    else:\n",
    "        Mean_errors_KRidge = np.append(Mean_errors_KRidge,error_loop)\n",
    "## Test\n",
    "for i in range(X_test.shape[0]):\n",
    "    Mu_test = direct_facts[i,]\n",
    "    error_loop_test = np.abs(Mu-Xhat_Kridge_test[i])\n",
    "    if i == 0:\n",
    "        Mean_errors_KRidge_test = error_loop_test\n",
    "    else:\n",
    "        Mean_errors_KRidge_test = np.append(Mean_errors_KRidge_test,error_loop_test)"
   ]
  },
  {
   "cell_type": "markdown",
   "metadata": {},
   "source": [
    "## Gradient-Boosted Random Forest Regressor"
   ]
  },
  {
   "cell_type": "code",
   "execution_count": 31,
   "metadata": {},
   "outputs": [
    {
     "name": "stderr",
     "output_type": "stream",
     "text": [
      "[Parallel(n_jobs=4)]: Using backend LokyBackend with 4 concurrent workers.\n"
     ]
    },
    {
     "name": "stdout",
     "output_type": "stream",
     "text": [
      "Fitting 2 folds for each of 1 candidates, totalling 2 fits\n"
     ]
    },
    {
     "name": "stderr",
     "output_type": "stream",
     "text": [
      "[Parallel(n_jobs=4)]: Batch computation too fast (0.1917s.) Setting batch_size=2.\n",
      "[Parallel(n_jobs=4)]: Done   2 out of   2 | elapsed:    0.2s remaining:    0.0s\n",
      "[Parallel(n_jobs=4)]: Done   2 out of   2 | elapsed:    0.2s finished\n"
     ]
    }
   ],
   "source": [
    "GBRF_y_hat_train, GBRF_y_hat_test, GBRF_model = get_GBRF(X_train,X_test,Y_train_mean_emp)\n",
    "\n",
    "# Get Prediction Errors\n",
    "## Train\n",
    "for i in range(X_train.shape[0]):\n",
    "    Mu = direct_facts[i,]\n",
    "    error_loop = np.abs(Mu-GBRF_y_hat_train[i])\n",
    "    if i == 0:\n",
    "        Mean_errors_GBRF = error_loop\n",
    "    else:\n",
    "        Mean_errors_GBRF = np.append(Mean_errors_GBRF,error_loop)\n",
    "## Test\n",
    "for i in range(X_test.shape[0]):\n",
    "    Mu_test = direct_facts[i,]\n",
    "    error_loop = np.abs(Mu-GBRF_y_hat_test[i])\n",
    "    if i == 0:\n",
    "        Mean_errors_GBRF_test = error_loop_test\n",
    "    else:\n",
    "        Mean_errors_GBRF_test = np.append(Mean_errors_GBRF_test,error_loop_test)"
   ]
  },
  {
   "cell_type": "markdown",
   "metadata": {},
   "source": [
    "## Feed-Forward (Vanilla)"
   ]
  },
  {
   "cell_type": "code",
   "execution_count": 32,
   "metadata": {},
   "outputs": [
    {
     "name": "stderr",
     "output_type": "stream",
     "text": [
      "[Parallel(n_jobs=4)]: Using backend LokyBackend with 4 concurrent workers.\n"
     ]
    },
    {
     "name": "stdout",
     "output_type": "stream",
     "text": [
      "Fitting 2 folds for each of 1 candidates, totalling 2 fits\n"
     ]
    },
    {
     "name": "stderr",
     "output_type": "stream",
     "text": [
      "[Parallel(n_jobs=4)]: Done   2 out of   2 | elapsed:    4.2s remaining:    0.0s\n",
      "[Parallel(n_jobs=4)]: Done   2 out of   2 | elapsed:    4.2s finished\n"
     ]
    },
    {
     "name": "stdout",
     "output_type": "stream",
     "text": [
      "Epoch 1/50\n",
      "1/1 [==============================] - 0s 1ms/step - loss: 1.0141 - mse: 1.1895 - mae: 1.0141 - mape: 105.4296\n",
      "Epoch 2/50\n",
      "1/1 [==============================] - 0s 2ms/step - loss: 1.0138 - mse: 1.1889 - mae: 1.0138 - mape: 105.3931\n",
      "Epoch 3/50\n",
      "1/1 [==============================] - 0s 2ms/step - loss: 1.0135 - mse: 1.1883 - mae: 1.0135 - mape: 105.3565\n",
      "Epoch 4/50\n",
      "1/1 [==============================] - 0s 2ms/step - loss: 1.0132 - mse: 1.1877 - mae: 1.0132 - mape: 105.3199\n",
      "Epoch 5/50\n",
      "1/1 [==============================] - 0s 1ms/step - loss: 1.0129 - mse: 1.1871 - mae: 1.0129 - mape: 105.2833\n",
      "Epoch 6/50\n",
      "1/1 [==============================] - 0s 5ms/step - loss: 1.0126 - mse: 1.1865 - mae: 1.0126 - mape: 105.2467\n",
      "Epoch 7/50\n",
      "1/1 [==============================] - 0s 2ms/step - loss: 1.0123 - mse: 1.1859 - mae: 1.0123 - mape: 105.2100\n",
      "Epoch 8/50\n",
      "1/1 [==============================] - 0s 2ms/step - loss: 1.0120 - mse: 1.1854 - mae: 1.0120 - mape: 105.1733\n",
      "Epoch 9/50\n",
      "1/1 [==============================] - 0s 3ms/step - loss: 1.0117 - mse: 1.1848 - mae: 1.0117 - mape: 105.1366\n",
      "Epoch 10/50\n",
      "1/1 [==============================] - 0s 2ms/step - loss: 1.0115 - mse: 1.1842 - mae: 1.0115 - mape: 105.0998\n",
      "Epoch 11/50\n",
      "1/1 [==============================] - 0s 2ms/step - loss: 1.0112 - mse: 1.1836 - mae: 1.0112 - mape: 105.0630\n",
      "Epoch 12/50\n",
      "1/1 [==============================] - 0s 2ms/step - loss: 1.0109 - mse: 1.1830 - mae: 1.0109 - mape: 105.0261\n",
      "Epoch 13/50\n",
      "1/1 [==============================] - 0s 3ms/step - loss: 1.0106 - mse: 1.1824 - mae: 1.0106 - mape: 104.9893\n",
      "Epoch 14/50\n",
      "1/1 [==============================] - 0s 2ms/step - loss: 1.0103 - mse: 1.1818 - mae: 1.0103 - mape: 104.9523\n",
      "Epoch 15/50\n",
      "1/1 [==============================] - 0s 2ms/step - loss: 1.0100 - mse: 1.1812 - mae: 1.0100 - mape: 104.9154\n",
      "Epoch 16/50\n",
      "1/1 [==============================] - 0s 1ms/step - loss: 1.0097 - mse: 1.1806 - mae: 1.0097 - mape: 104.8784\n",
      "Epoch 17/50\n",
      "1/1 [==============================] - 0s 1ms/step - loss: 1.0094 - mse: 1.1801 - mae: 1.0094 - mape: 104.8414\n",
      "Epoch 18/50\n",
      "1/1 [==============================] - 0s 1ms/step - loss: 1.0091 - mse: 1.1795 - mae: 1.0091 - mape: 104.8043\n",
      "Epoch 19/50\n",
      "1/1 [==============================] - 0s 2ms/step - loss: 1.0088 - mse: 1.1789 - mae: 1.0088 - mape: 104.7672\n",
      "Epoch 20/50\n",
      "1/1 [==============================] - 0s 1ms/step - loss: 1.0085 - mse: 1.1783 - mae: 1.0085 - mape: 104.7300\n",
      "Epoch 21/50\n",
      "1/1 [==============================] - 0s 2ms/step - loss: 1.0082 - mse: 1.1777 - mae: 1.0082 - mape: 104.6928\n",
      "Epoch 22/50\n",
      "1/1 [==============================] - 0s 1ms/step - loss: 1.0079 - mse: 1.1771 - mae: 1.0079 - mape: 104.6555\n",
      "Epoch 23/50\n",
      "1/1 [==============================] - 0s 2ms/step - loss: 1.0076 - mse: 1.1765 - mae: 1.0076 - mape: 104.6182\n",
      "Epoch 24/50\n",
      "1/1 [==============================] - 0s 3ms/step - loss: 1.0074 - mse: 1.1759 - mae: 1.0074 - mape: 104.5809\n",
      "Epoch 25/50\n",
      "1/1 [==============================] - 0s 1ms/step - loss: 1.0071 - mse: 1.1753 - mae: 1.0071 - mape: 104.5435\n",
      "Epoch 26/50\n",
      "1/1 [==============================] - 0s 7ms/step - loss: 1.0068 - mse: 1.1747 - mae: 1.0068 - mape: 104.5061\n",
      "Epoch 27/50\n",
      "1/1 [==============================] - 0s 1ms/step - loss: 1.0065 - mse: 1.1741 - mae: 1.0065 - mape: 104.4686\n",
      "Epoch 28/50\n",
      "1/1 [==============================] - 0s 2ms/step - loss: 1.0062 - mse: 1.1735 - mae: 1.0062 - mape: 104.4311\n",
      "Epoch 29/50\n",
      "1/1 [==============================] - 0s 2ms/step - loss: 1.0059 - mse: 1.1729 - mae: 1.0059 - mape: 104.3935\n",
      "Epoch 30/50\n",
      "1/1 [==============================] - 0s 2ms/step - loss: 1.0056 - mse: 1.1723 - mae: 1.0056 - mape: 104.3559\n",
      "Epoch 31/50\n",
      "1/1 [==============================] - 0s 4ms/step - loss: 1.0053 - mse: 1.1717 - mae: 1.0053 - mape: 104.3182\n",
      "Epoch 32/50\n",
      "1/1 [==============================] - 0s 5ms/step - loss: 1.0050 - mse: 1.1711 - mae: 1.0050 - mape: 104.2804\n",
      "Epoch 33/50\n",
      "1/1 [==============================] - 0s 3ms/step - loss: 1.0047 - mse: 1.1705 - mae: 1.0047 - mape: 104.2427\n",
      "Epoch 34/50\n",
      "1/1 [==============================] - 0s 2ms/step - loss: 1.0044 - mse: 1.1699 - mae: 1.0044 - mape: 104.2048\n",
      "Epoch 35/50\n",
      "1/1 [==============================] - 0s 2ms/step - loss: 1.0041 - mse: 1.1693 - mae: 1.0041 - mape: 104.1669\n",
      "Epoch 36/50\n",
      "1/1 [==============================] - 0s 7ms/step - loss: 1.0038 - mse: 1.1687 - mae: 1.0038 - mape: 104.1290\n",
      "Epoch 37/50\n",
      "1/1 [==============================] - 0s 4ms/step - loss: 1.0035 - mse: 1.1681 - mae: 1.0035 - mape: 104.0910\n",
      "Epoch 38/50\n",
      "1/1 [==============================] - 0s 2ms/step - loss: 1.0032 - mse: 1.1675 - mae: 1.0032 - mape: 104.0529\n",
      "Epoch 39/50\n",
      "1/1 [==============================] - 0s 2ms/step - loss: 1.0029 - mse: 1.1669 - mae: 1.0029 - mape: 104.0148\n",
      "Epoch 40/50\n",
      "1/1 [==============================] - 0s 2ms/step - loss: 1.0026 - mse: 1.1663 - mae: 1.0026 - mape: 103.9766\n",
      "Epoch 41/50\n",
      "1/1 [==============================] - 0s 2ms/step - loss: 1.0023 - mse: 1.1657 - mae: 1.0023 - mape: 103.9383\n",
      "Epoch 42/50\n",
      "1/1 [==============================] - 0s 1ms/step - loss: 1.0020 - mse: 1.1651 - mae: 1.0020 - mape: 103.9000\n",
      "Epoch 43/50\n",
      "1/1 [==============================] - 0s 3ms/step - loss: 1.0017 - mse: 1.1645 - mae: 1.0017 - mape: 103.8617\n",
      "Epoch 44/50\n",
      "1/1 [==============================] - 0s 9ms/step - loss: 1.0014 - mse: 1.1639 - mae: 1.0014 - mape: 103.8233\n",
      "Epoch 45/50\n",
      "1/1 [==============================] - 0s 4ms/step - loss: 1.0011 - mse: 1.1633 - mae: 1.0011 - mape: 103.7848\n",
      "Epoch 46/50\n",
      "1/1 [==============================] - 0s 2ms/step - loss: 1.0008 - mse: 1.1626 - mae: 1.0008 - mape: 103.7462\n",
      "Epoch 47/50\n",
      "1/1 [==============================] - 0s 1ms/step - loss: 1.0005 - mse: 1.1620 - mae: 1.0005 - mape: 103.7076\n",
      "Epoch 48/50\n",
      "1/1 [==============================] - 0s 1ms/step - loss: 1.0001 - mse: 1.1614 - mae: 1.0001 - mape: 103.6689\n",
      "Epoch 49/50\n",
      "1/1 [==============================] - 0s 2ms/step - loss: 0.9998 - mse: 1.1608 - mae: 0.9998 - mape: 103.6302\n",
      "Epoch 50/50\n",
      "1/1 [==============================] - 0s 6ms/step - loss: 0.9995 - mse: 1.1602 - mae: 0.9995 - mape: 103.5914\n",
      "1/1 [==============================] - 0s 1ms/step\n",
      "1/1 [==============================] - 0s 1ms/step\n"
     ]
    }
   ],
   "source": [
    "# Redefine (Dimension-related) Elements of Grid\n",
    "param_grid_Deep_Classifier['input_dim'] = [problem_dim]\n",
    "param_grid_Deep_Classifier['output_dim'] = [1]\n",
    "\n",
    "YHat_ffNN, YHat_ffNN_test = build_ffNN(n_folds = CV_folds,\n",
    "                                              n_jobs = n_jobs, \n",
    "                                              n_iter = n_iter, \n",
    "                                              param_grid_in = param_grid_Deep_Classifier,  \n",
    "                                              X_train = X_train, \n",
    "                                              y_train = Y_train_mean_emp,\n",
    "                                              X_test = X_test)\n",
    "\n",
    "\n",
    "# Get Prediction Errors\n",
    "## Train\n",
    "for i in range(X_train.shape[0]):\n",
    "    Mu = direct_facts[i,]\n",
    "    error_loop = np.abs(Mu-YHat_ffNN[i])\n",
    "    if i == 0:\n",
    "        Mean_errors_ffNN = error_loop\n",
    "    else:\n",
    "        Mean_errors_ffNN = np.append(Mean_errors_ffNN,error_loop)\n",
    "## Test\n",
    "for i in range(X_test.shape[0]):\n",
    "    Mu_test = direct_facts[i,]\n",
    "    error_loop = np.abs(Mu-YHat_ffNN_test[i])\n",
    "    if i == 0:\n",
    "        Mean_errors_ffNN_test = error_loop_test\n",
    "    else:\n",
    "        Mean_errors_ffNN_test = np.append(Mean_errors_ffNN_test,error_loop_test)"
   ]
  },
  {
   "cell_type": "markdown",
   "metadata": {},
   "source": [
    "# Summary of Mean-Centric Regression Models"
   ]
  },
  {
   "cell_type": "code",
   "execution_count": 33,
   "metadata": {},
   "outputs": [
    {
     "name": "stdout",
     "output_type": "stream",
     "text": [
      "             M1     M1_MC   M1_ENET  M1_KRidge  M1_GBRFR   M1_ffNN\n",
      "Train  0.388134  0.388134  1.141932   1.167377  1.132491  1.541591\n",
      "Test   1.498517  0.877124  0.591709   0.661346  0.657579  0.657579\n"
     ]
    }
   ],
   "source": [
    "Summary_mean_models = pd.DataFrame({\"M1\":np.array([np.mean(np.abs(Mean_errors)),np.mean(np.abs(Mean_errors_test))]),\n",
    "                                    \"M1_MC\":np.array([np.mean(np.abs(Mean_errors_MC)),np.mean(np.abs(Mean_errors_MC_test))]),\n",
    "                                    \"M1_ENET\":np.array([np.mean(np.abs(Mean_errors_ENET)),np.mean(np.abs(Mean_errors_ENET_test))]),\n",
    "                                    \"M1_KRidge\":np.array([np.mean(np.abs(Mean_errors_KRidge)),np.mean(np.abs(Mean_errors_KRidge_test))]),\n",
    "                                    \"M1_GBRFR\":np.array([np.mean(np.abs(Mean_errors_GBRF)),np.mean(np.abs(Mean_errors_GBRF_test))]),\n",
    "                                    \"M1_ffNN\":np.array([np.mean(np.abs(Mean_errors_ffNN)),np.mean(np.abs(Mean_errors_ffNN_test))])\n",
    "                                   },index=[\"Train\",\"Test\"])\n",
    "\n",
    "print(Summary_mean_models)"
   ]
  },
  {
   "cell_type": "markdown",
   "metadata": {},
   "source": [
    "---\n",
    "\n",
    "---\n",
    "\n",
    "---"
   ]
  },
  {
   "cell_type": "markdown",
   "metadata": {},
   "source": [
    "## Get Moment Predictions"
   ]
  },
  {
   "cell_type": "markdown",
   "metadata": {},
   "source": [
    "#### Write Predictions"
   ]
  },
  {
   "cell_type": "markdown",
   "metadata": {},
   "source": [
    "### Training-Set Result(s): "
   ]
  },
  {
   "cell_type": "code",
   "execution_count": 43,
   "metadata": {},
   "outputs": [
    {
     "name": "stdout",
     "output_type": "stream",
     "text": [
      "                          N_Centers  N_Q  N_Params  Training Time  \\\n",
      "Model_Complexity_metrics          5   10       165     3.6477E+02   \n",
      "\n",
      "                          T_Test/T_Test-MC  Time Test  Time EM-MC  \n",
      "Model_Complexity_metrics        4.4934E-01 6.8443E-02  1.5232E-01  \n",
      "              W1         M1      M1_MC        Var     Var_MC       High  \\\n",
      "Train 1.0837E+00 3.8813E-01 3.8813E-01 7.3102E-01 0.0000E+00 3.3465E+00   \n",
      "Test  8.9628E-01 1.4985E+00 8.7712E-01 6.3685E-01 0.0000E+00 3.3400E+00   \n",
      "\n",
      "       N_Centers  N_Q  N_Params  Training Time  T_Test/T_Test-MC  \\\n",
      "Train          5   10       165     3.6477E+02        4.4934E-01   \n",
      "Test           5   10       165     3.6477E+02        4.4934E-01   \n",
      "\n",
      "       Problem_Dimension  \n",
      "Train                  2  \n",
      "Test                   2  \n"
     ]
    }
   ],
   "source": [
    "#---------------------------------------------------------------------------------------------#\n",
    "W1_95 = bootstrap(W1_errors, n=1000, func=np.mean)(.95)\n",
    "W1_99 = bootstrap(W1_errors, n=1000, func=np.mean)(.99)\n",
    "#---------------------------------------------------------------------------------------------#\n",
    "Model_Complexity = pd.DataFrame({\"N_Centers\":N_Quantizers_to_parameterize,\n",
    "                                 \"N_Q\":N_Monte_Carlo_Samples,\n",
    "                                 \"N_Params\":N_params_deep_classifier,\n",
    "                                 \"Training Time\":Time_Lapse_Model_A,\n",
    "                                 \"T_Test/T_Test-MC\": (timer_output/Test_Set_PredictionTime_MC),\n",
    "                                 \"Time Test\": timer_output,\n",
    "                                 \"Time EM-MC\": Test_Set_PredictionTime_MC},index=[\"Model_Complexity_metrics\"])\n",
    "\n",
    "#---------------------------------------------------------------------------------------------#\n",
    "# Compute Error Statistics/Descriptors\n",
    "Summary = pd.DataFrame({\"W1\":np.array([np.mean(np.abs(W1_errors)),np.mean(np.abs(W1_errors_test))]),\n",
    "                        \"M1\":np.array([np.mean(np.abs(Mean_errors)),np.mean(np.abs(Mean_errors_test))]),\n",
    "                        \"M1_MC\":np.array([np.mean(np.abs(Mean_errors_MC)),np.mean(np.abs(Mean_errors_MC_test))]),\n",
    "                        \"Var\":np.array([np.mean(np.abs(Var_errors)),np.mean(np.abs(Var_errors_test))]),\n",
    "                        \"Var_MC\":np.array([np.mean(np.abs(Var_errors_MC)),np.mean(np.abs(Var_errors_MC_test))]),\n",
    "                        \"High\": np.array([np.mean(np.abs(Higher_Moments_Errors)),np.mean(np.abs(Higher_Moments_test_Errors))]),\n",
    "                        \"N_Centers\":np.array((N_Quantizers_to_parameterize,N_Quantizers_to_parameterize)),\n",
    "                        \"N_Q\":np.array((N_Monte_Carlo_Samples,N_Monte_Carlo_Samples)),\n",
    "                        \"N_Params\":np.array((N_params_deep_classifier,N_params_deep_classifier)),\n",
    "                        \"Training Time\":np.array((Time_Lapse_Model_A,Time_Lapse_Model_A)),\n",
    "                        \"T_Test/T_Test-MC\":np.array(((timer_output/Test_Set_PredictionTime_MC),(timer_output/Test_Set_PredictionTime_MC))),\n",
    "                        \"Problem_Dimension\":np.array((problem_dim,problem_dim))\n",
    "                       },index=[\"Train\",\"Test\"])\n",
    "\n",
    "\n",
    "# Write Performance Metrics to file #\n",
    "#-----------------------------------#\n",
    "pd.set_option('display.float_format', '{:.4E}'.format)\n",
    "Model_Complexity.to_latex((results_tables_path+\"Latent_Width_NSDE\"+str(width)+\"Problemdimension\"+str(problem_dim)+\"__ModelComplexities.tex\"))\n",
    "pd.set_option('display.float_format', '{:.4E}'.format)\n",
    "Summary.to_latex((results_tables_path+\"Latent_Width_NSDE\"+str(width)+\"Problemdimension\"+str(problem_dim)+\"__SUMMARY_METRICS.tex\"))\n",
    "\n",
    "\n",
    "#---------------------------------------------------------------------------------------------#\n",
    "# Update User\n",
    "print(Model_Complexity)\n",
    "print(Summary)"
   ]
  },
  {
   "cell_type": "markdown",
   "metadata": {},
   "source": [
    "# Update User"
   ]
  },
  {
   "cell_type": "markdown",
   "metadata": {},
   "source": [
    "## Prediction Quality"
   ]
  },
  {
   "cell_type": "code",
   "execution_count": 44,
   "metadata": {},
   "outputs": [
    {
     "data": {
      "text/html": [
       "<div>\n",
       "<style scoped>\n",
       "    .dataframe tbody tr th:only-of-type {\n",
       "        vertical-align: middle;\n",
       "    }\n",
       "\n",
       "    .dataframe tbody tr th {\n",
       "        vertical-align: top;\n",
       "    }\n",
       "\n",
       "    .dataframe thead th {\n",
       "        text-align: right;\n",
       "    }\n",
       "</style>\n",
       "<table border=\"1\" class=\"dataframe\">\n",
       "  <thead>\n",
       "    <tr style=\"text-align: right;\">\n",
       "      <th></th>\n",
       "      <th>W1</th>\n",
       "      <th>M1</th>\n",
       "      <th>M1_MC</th>\n",
       "      <th>Var</th>\n",
       "      <th>Var_MC</th>\n",
       "      <th>High</th>\n",
       "      <th>N_Centers</th>\n",
       "      <th>N_Q</th>\n",
       "      <th>N_Params</th>\n",
       "      <th>Training Time</th>\n",
       "      <th>T_Test/T_Test-MC</th>\n",
       "      <th>Problem_Dimension</th>\n",
       "    </tr>\n",
       "  </thead>\n",
       "  <tbody>\n",
       "    <tr>\n",
       "      <th>Train</th>\n",
       "      <td>1.0837E+00</td>\n",
       "      <td>3.8813E-01</td>\n",
       "      <td>3.8813E-01</td>\n",
       "      <td>7.3102E-01</td>\n",
       "      <td>0.0000E+00</td>\n",
       "      <td>3.3465E+00</td>\n",
       "      <td>5</td>\n",
       "      <td>10</td>\n",
       "      <td>165</td>\n",
       "      <td>3.6477E+02</td>\n",
       "      <td>4.4934E-01</td>\n",
       "      <td>2</td>\n",
       "    </tr>\n",
       "    <tr>\n",
       "      <th>Test</th>\n",
       "      <td>8.9628E-01</td>\n",
       "      <td>1.4985E+00</td>\n",
       "      <td>8.7712E-01</td>\n",
       "      <td>6.3685E-01</td>\n",
       "      <td>0.0000E+00</td>\n",
       "      <td>3.3400E+00</td>\n",
       "      <td>5</td>\n",
       "      <td>10</td>\n",
       "      <td>165</td>\n",
       "      <td>3.6477E+02</td>\n",
       "      <td>4.4934E-01</td>\n",
       "      <td>2</td>\n",
       "    </tr>\n",
       "  </tbody>\n",
       "</table>\n",
       "</div>"
      ],
      "text/plain": [
       "              W1         M1      M1_MC        Var     Var_MC       High  \\\n",
       "Train 1.0837E+00 3.8813E-01 3.8813E-01 7.3102E-01 0.0000E+00 3.3465E+00   \n",
       "Test  8.9628E-01 1.4985E+00 8.7712E-01 6.3685E-01 0.0000E+00 3.3400E+00   \n",
       "\n",
       "       N_Centers  N_Q  N_Params  Training Time  T_Test/T_Test-MC  \\\n",
       "Train          5   10       165     3.6477E+02        4.4934E-01   \n",
       "Test           5   10       165     3.6477E+02        4.4934E-01   \n",
       "\n",
       "       Problem_Dimension  \n",
       "Train                  2  \n",
       "Test                   2  "
      ]
     },
     "execution_count": 44,
     "metadata": {},
     "output_type": "execute_result"
    }
   ],
   "source": [
    "Summary"
   ]
  },
  {
   "cell_type": "markdown",
   "metadata": {},
   "source": [
    "# Performance wrt Mean Prediction"
   ]
  },
  {
   "cell_type": "code",
   "execution_count": 45,
   "metadata": {},
   "outputs": [
    {
     "data": {
      "text/html": [
       "<div>\n",
       "<style scoped>\n",
       "    .dataframe tbody tr th:only-of-type {\n",
       "        vertical-align: middle;\n",
       "    }\n",
       "\n",
       "    .dataframe tbody tr th {\n",
       "        vertical-align: top;\n",
       "    }\n",
       "\n",
       "    .dataframe thead th {\n",
       "        text-align: right;\n",
       "    }\n",
       "</style>\n",
       "<table border=\"1\" class=\"dataframe\">\n",
       "  <thead>\n",
       "    <tr style=\"text-align: right;\">\n",
       "      <th></th>\n",
       "      <th>M1</th>\n",
       "      <th>M1_MC</th>\n",
       "      <th>M1_ENET</th>\n",
       "      <th>M1_KRidge</th>\n",
       "      <th>M1_GBRFR</th>\n",
       "      <th>M1_ffNN</th>\n",
       "    </tr>\n",
       "  </thead>\n",
       "  <tbody>\n",
       "    <tr>\n",
       "      <th>Train</th>\n",
       "      <td>3.8813E-01</td>\n",
       "      <td>3.8813E-01</td>\n",
       "      <td>1.1419E+00</td>\n",
       "      <td>1.1674E+00</td>\n",
       "      <td>1.1325E+00</td>\n",
       "      <td>1.5416E+00</td>\n",
       "    </tr>\n",
       "    <tr>\n",
       "      <th>Test</th>\n",
       "      <td>1.4985E+00</td>\n",
       "      <td>8.7712E-01</td>\n",
       "      <td>5.9171E-01</td>\n",
       "      <td>6.6135E-01</td>\n",
       "      <td>6.5758E-01</td>\n",
       "      <td>6.5758E-01</td>\n",
       "    </tr>\n",
       "  </tbody>\n",
       "</table>\n",
       "</div>"
      ],
      "text/plain": [
       "              M1      M1_MC    M1_ENET  M1_KRidge   M1_GBRFR    M1_ffNN\n",
       "Train 3.8813E-01 3.8813E-01 1.1419E+00 1.1674E+00 1.1325E+00 1.5416E+00\n",
       "Test  1.4985E+00 8.7712E-01 5.9171E-01 6.6135E-01 6.5758E-01 6.5758E-01"
      ]
     },
     "execution_count": 45,
     "metadata": {},
     "output_type": "execute_result"
    }
   ],
   "source": [
    "Summary_mean_models"
   ]
  },
  {
   "cell_type": "markdown",
   "metadata": {},
   "source": [
    "---"
   ]
  },
  {
   "cell_type": "markdown",
   "metadata": {},
   "source": [
    "---\n",
    "# Fin\n",
    "---"
   ]
  },
  {
   "cell_type": "markdown",
   "metadata": {},
   "source": [
    "---"
   ]
  }
 ],
 "metadata": {
  "kernelspec": {
   "display_name": "Python 3",
   "language": "python",
   "name": "python3"
  },
  "language_info": {
   "codemirror_mode": {
    "name": "ipython",
    "version": 3
   },
   "file_extension": ".py",
   "mimetype": "text/x-python",
   "name": "python",
   "nbconvert_exporter": "python",
   "pygments_lexer": "ipython3",
   "version": "3.7.7"
  }
 },
 "nbformat": 4,
 "nbformat_minor": 2
}
