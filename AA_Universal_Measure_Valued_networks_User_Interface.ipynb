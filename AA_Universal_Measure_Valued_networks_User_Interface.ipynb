{
 "cells": [
  {
   "cell_type": "markdown",
   "metadata": {},
   "source": [
    "# Deep Universal Regular Conditional Expectations:\n",
    "\n",
    "---\n",
    "This implements the universal deep neural model of $\\mathcal{NN}_{1_{\\mathbb{R}^n},\\mathcal{D}}^{\\sigma:\\star}$ [Anastasis Kratsios](https://people.math.ethz.ch/~kratsioa/) - 2021.\n",
    "\n",
    "---\n",
    "\n",
    "## What does this code do?\n",
    "1. Learn Heteroskedastic Non-Linear Regression Problem\n",
    "     - $Y\\sim f_{\\text{unkown}}(x) + \\epsilon$ where $f$ is an known function and $\\epsilon\\sim Laplace(0,\\|x\\|)$\n",
    "2. Learn Random Bayesian Network's Law:\n",
    "    - $Y = W_J Y^{J-1}, \\qquad Y^{j}\\triangleq \\sigma\\bullet A^{j}Y^{j-1} + b^{j}, \\qquad Y^0\\triangleq x$\n",
    "\n",
    "3. In the above example if $A_j = M_j\\odot \\tilde{A_j}$ where $\\tilde{A}_j$ is a deterministic matrix and $M_j$ is a \"mask\", that is, a random matrix with binary entries and $\\odot$ is the Hadamard product then we recover the dropout framework.\n",
    "4. Learn the probability distribution that the unique strong solution to the rough SDE with uniformly Lipschitz drivers driven by a factional Brownian motion with Hurst exponent $H \\in [\\frac1{2},1)$:\n",
    "$$\n",
    "X_t^x = x + \\int_0^t \\alpha(s,X_s^x)ds + \\int_0^t \\beta(s,X_s^x)dB_s^H\n",
    "$$\n",
    "belongs, at time $t=1$, to a ball about the initial point $x$ of random radius given by an independant exponential random-variable with shape parameter $\\lambda=2$\n",
    "5. Train a DNN to predict the returns of bitcoin with GD.  Since this has random initialization then each prediction of a given $x$ is stochastic...We learn the distribution of this conditional RV (conditioned on x in the input space).\n",
    "$$\n",
    "Y_x \\triangleq \\hat{f}_{\\theta_{T}}(x), \\qquad \\theta_{(t+1)}\\triangleq \\theta_{(t)} + \\lambda \\sum_{x \\in \\mathbb{X}} \\nabla_{\\theta}\\|\\hat{f}_{\\theta_t}(x) - f(x)\\|, \\qquad \\theta_0 \\sim N_d(0,1);\n",
    "$$\n",
    "$T\\in \\mathbb{N}$ is a fixed number of \"SGD\" iterations (typically identified by cross-validation on a single SGD trajectory for a single initialization) and where $\\theta \\in \\mathbb{R}^{(d_{J}+1)+\\sum_{j=0}^{J-1} (d_{j+1}d_j + 1)}$ and $d_j$ is the dimension of the \"bias\" vector $b_j$ defining each layer of the DNN with layer dimensions:\n",
    "$$\n",
    "\\hat{f}_{\\theta}(x)\\triangleq A^{(J)}x^{(J)} + b^{(J)},\\qquad x^{(j+1)}\\triangleq \\sigma\\bullet A^{j}x^{(j)} + b^{j},\\qquad x^{(0)}\\triangleq x\n",
    ".\n",
    "$$\n",
    "\n",
    "6. Extreme Learning Machines: \n",
    "    Just like the Bayesian network but then last layer is trained on the training set using KRidge!"
   ]
  },
  {
   "cell_type": "markdown",
   "metadata": {},
   "source": [
    "#### Mode:\n",
    "Software/Hardware Testing or Real-Deal?"
   ]
  },
  {
   "cell_type": "code",
   "execution_count": 25,
   "metadata": {},
   "outputs": [],
   "source": [
    "trial_run = True"
   ]
  },
  {
   "cell_type": "markdown",
   "metadata": {},
   "source": [
    "### Simulation Method:"
   ]
  },
  {
   "cell_type": "code",
   "execution_count": 26,
   "metadata": {},
   "outputs": [],
   "source": [
    "# Random DNN\n",
    "# f_unknown_mode = \"Heteroskedastic_NonLinear_Regression\"\n",
    "\n",
    "# Random DNN internal noise\n",
    "## Real-world data version\n",
    "f_unknown_mode = \"Extreme_Learning_Machine\"\n",
    "### Dataset Option 1\n",
    "dataset_option = 'SnP'\n",
    "### Dataset Option 2\n",
    "# dataset_option = 'crypto'\n",
    "Depth_Bayesian_DNN = 1\n",
    "N_Random_Features = 10**1\n",
    "## Simulated Data version\n",
    "# f_unknown_mode = \"DNN_with_Random_Weights\"\n",
    "width = 10\n",
    "\n",
    "# Random Dropout applied to trained DNN\n",
    "# f_unknown_mode = \"DNN_with_Bayesian_Dropout\"\n",
    "Dropout_rate = 0.1\n",
    "\n",
    "# GD with Randomized Input\n",
    "# f_unknown_mode = \"GD_with_randomized_input\"\n",
    "# GD_epochs = 50\n",
    "\n",
    "# SDE with fractional Driver\n",
    "# f_unknown_mode = \"Rough_SDE\"\n",
    "N_Euler_Steps = 10**2\n",
    "Hurst_Exponent = 0.75\n",
    "\n",
    "# f_unknown_mode = \"Rough_SDE_Vanilla\"\n",
    "## Define Process' dynamics in (2) cell(s) below."
   ]
  },
  {
   "cell_type": "markdown",
   "metadata": {},
   "source": [
    "## Problem Dimension"
   ]
  },
  {
   "cell_type": "code",
   "execution_count": 27,
   "metadata": {},
   "outputs": [],
   "source": [
    "problem_dim = 1\n",
    "if f_unknown_mode != 'Extreme_Learning_Machine':\n",
    "    width = int(2*(problem_dim+1))"
   ]
  },
  {
   "cell_type": "markdown",
   "metadata": {},
   "source": [
    "#### Vanilla fractional SDE:\n",
    "If f_unknown_mode == \"Rough_SDE_Vanilla\" is selected, then we can specify the process's dynamics.  "
   ]
  },
  {
   "cell_type": "code",
   "execution_count": 28,
   "metadata": {},
   "outputs": [],
   "source": [
    "#--------------------------#\n",
    "# Define Process' Dynamics #\n",
    "#--------------------------#\n",
    "drift_constant = 0.1\n",
    "volatility_constant = 0.01\n",
    "\n",
    "# Define DNN Applier\n",
    "def f_unknown_drift_vanilla(x):\n",
    "    x_internal = x\n",
    "    x_internal = drift_constant*x_internal\n",
    "    return x_internal\n",
    "def f_unknown_vol_vanilla(x):\n",
    "    x_internal = volatility_constant*np.diag(np.ones(problem_dim))\n",
    "    return x_internal"
   ]
  },
  {
   "cell_type": "markdown",
   "metadata": {},
   "source": [
    "## Note: *Why the procedure is so computationally efficient*?\n",
    "---\n",
    " - The sample barycenters do not require us to solve for any new Wasserstein-1 Barycenters; which is much more computationally costly,\n",
    " - Our training procedure never back-propages through $\\mathcal{W}_1$ since steps 2 and 3 are full-decoupled.  Therefore, training our deep classifier is (comparatively) cheap since it takes values in the standard $N$-simplex.\n",
    "\n",
    "---"
   ]
  },
  {
   "cell_type": "markdown",
   "metadata": {},
   "source": [
    "#### Grid Hyperparameter(s)\n",
    "- Ratio $\\frac{\\text{Testing Datasize}}{\\text{Training Datasize}}$.\n",
    "- Number of Training Points to Generate"
   ]
  },
  {
   "cell_type": "code",
   "execution_count": 29,
   "metadata": {},
   "outputs": [],
   "source": [
    "train_test_ratio = .2\n",
    "N_train_size = 10"
   ]
  },
  {
   "cell_type": "markdown",
   "metadata": {},
   "source": [
    "Monte-Carlo Paramters"
   ]
  },
  {
   "cell_type": "code",
   "execution_count": 30,
   "metadata": {},
   "outputs": [],
   "source": [
    "## Monte-Carlo\n",
    "N_Monte_Carlo_Samples = 10**2"
   ]
  },
  {
   "cell_type": "markdown",
   "metadata": {},
   "source": [
    "Initial radis of $\\delta$-bounded random partition of $\\mathcal{X}$!"
   ]
  },
  {
   "cell_type": "code",
   "execution_count": 31,
   "metadata": {},
   "outputs": [],
   "source": [
    "# Hyper-parameters of Cover\n",
    "delta = 0.1\n",
    "Proportion_per_cluster = .75"
   ]
  },
  {
   "cell_type": "markdown",
   "metadata": {},
   "source": [
    "## Dependencies and Auxiliary Script(s)"
   ]
  },
  {
   "cell_type": "code",
   "execution_count": 32,
   "metadata": {},
   "outputs": [
    {
     "name": "stdout",
     "output_type": "stream",
     "text": [
      "Deep Feature Builder - Ready\n",
      "Deep Classifier - Ready\n",
      "Deep Feature Builder - Ready\n"
     ]
    }
   ],
   "source": [
    "# %run Loader.ipynb\n",
    "exec(open('Loader.py').read())\n",
    "# Load Packages/Modules\n",
    "exec(open('Init_Dump.py').read())\n",
    "import time as time #<- Note sure why...but its always seems to need 'its own special loading...'"
   ]
  },
  {
   "cell_type": "markdown",
   "metadata": {},
   "source": [
    "# Simulate or Parse Data"
   ]
  },
  {
   "cell_type": "code",
   "execution_count": 33,
   "metadata": {},
   "outputs": [
    {
     "name": "stdout",
     "output_type": "stream",
     "text": [
      "---------------------------------------\n",
      "Beginning Data-Parsing/Simulation Phase\n",
      "---------------------------------------\n",
      "Deciding on Which Simulator/Parser To Load\n",
      "Setting/Defining: Internal Parameters\n",
      "Deciding on Which Type of Data to Get/Simulate\n"
     ]
    },
    {
     "name": "stderr",
     "output_type": "stream",
     "text": [
      " 16%|█▌        | 16/100 [00:00<00:00, 153.92it/s]"
     ]
    },
    {
     "name": "stdout",
     "output_type": "stream",
     "text": [
      "#================================================#\n",
      " Training Datasize: 479 and test datasize: 120.  \n",
      "#================================================#\n",
      "Simulating Output Data for given input data\n"
     ]
    },
    {
     "name": "stderr",
     "output_type": "stream",
     "text": [
      "100%|██████████| 100/100 [00:00<00:00, 171.30it/s]"
     ]
    },
    {
     "name": "stdout",
     "output_type": "stream",
     "text": [
      "----------------------------------\n",
      "Done Data-Parsing/Simulation Phase\n",
      "----------------------------------\n"
     ]
    },
    {
     "name": "stderr",
     "output_type": "stream",
     "text": [
      "\n"
     ]
    }
   ],
   "source": [
    "# %run Data_Simulator_and_Parser.ipynb\n",
    "exec(open('Data_Simulator_and_Parser.py').read())"
   ]
  },
  {
   "cell_type": "markdown",
   "metadata": {},
   "source": [
    "#### Scale Data\n",
    "This is especially important to avoid exploding gradient problems when training the ML-models."
   ]
  },
  {
   "cell_type": "code",
   "execution_count": 34,
   "metadata": {},
   "outputs": [],
   "source": [
    "scaler = StandardScaler()\n",
    "scaler.fit(X_train)\n",
    "\n",
    "X_train = scaler.transform(X_train)\n",
    "X_test = scaler.transform(X_test)"
   ]
  },
  {
   "cell_type": "markdown",
   "metadata": {},
   "source": [
    "# Run Main:"
   ]
  },
  {
   "cell_type": "code",
   "execution_count": 35,
   "metadata": {
    "scrolled": true
   },
   "outputs": [
    {
     "name": "stdout",
     "output_type": "stream",
     "text": [
      "------------------------------\n",
      "Running script for main model!\n",
      "------------------------------\n"
     ]
    },
    {
     "name": "stderr",
     "output_type": "stream",
     "text": [
      "100%|██████████| 359/359 [00:00<00:00, 4217.29it/s]"
     ]
    },
    {
     "name": "stdout",
     "output_type": "stream",
     "text": [
      "Deep Feature Builder - Ready\n",
      "Deep Classifier - Ready\n",
      "==========================================\n",
      "Training Classifer Portion of Type-A Model\n",
      "==========================================\n",
      "Fitting 2 folds for each of 1 candidates, totalling 2 fits\n"
     ]
    },
    {
     "name": "stderr",
     "output_type": "stream",
     "text": [
      "\n",
      "[Parallel(n_jobs=4)]: Using backend LokyBackend with 4 concurrent workers.\n",
      "[Parallel(n_jobs=4)]: Done   2 out of   2 | elapsed:    5.1s remaining:    0.0s\n",
      "[Parallel(n_jobs=4)]: Done   2 out of   2 | elapsed:    5.1s finished\n"
     ]
    },
    {
     "name": "stdout",
     "output_type": "stream",
     "text": [
      "Epoch 1/2\n",
      "30/30 [==============================] - 0s 2ms/step - loss: 5.9128 - accuracy: 0.0000e+00\n",
      "Epoch 2/2\n",
      "30/30 [==============================] - 0s 2ms/step - loss: 5.8700 - accuracy: 0.0021\n",
      "30/30 [==============================] - 0s 1ms/step\n",
      "8/8 [==============================] - 0s 1ms/step\n",
      "===============================================\n",
      "Training Classifer Portion of Type Model: Done!\n",
      "===============================================\n"
     ]
    },
    {
     "name": "stderr",
     "output_type": "stream",
     "text": [
      "\r",
      "  0%|          | 0/479 [00:00<?, ?it/s]"
     ]
    },
    {
     "name": "stdout",
     "output_type": "stream",
     "text": [
      "#--------------------#\n",
      " Get Training Error(s)\n",
      "#--------------------#\n"
     ]
    },
    {
     "name": "stderr",
     "output_type": "stream",
     "text": [
      "100%|██████████| 479/479 [00:11<00:00, 41.30it/s]\n",
      "  3%|▎         | 4/120 [00:00<00:03, 31.72it/s]"
     ]
    },
    {
     "name": "stdout",
     "output_type": "stream",
     "text": [
      "#-------------------------#\n",
      " Get Training Error(s): END\n",
      "#-------------------------#\n",
      "#----------------#\n",
      " Get Test Error(s)\n",
      "#----------------#\n"
     ]
    },
    {
     "name": "stderr",
     "output_type": "stream",
     "text": [
      "100%|██████████| 120/120 [00:03<00:00, 30.15it/s]"
     ]
    },
    {
     "name": "stdout",
     "output_type": "stream",
     "text": [
      "#------------------------#\n",
      " Get Testing Error(s): END\n",
      "#------------------------#\n",
      "                                        DNM     MC-Oracle\n",
      "W1-95L                             0.007710  0.000000e+00\n",
      "W1                                 0.008373  0.000000e+00\n",
      "W1-95R                             0.008952  0.000000e+00\n",
      "M-95L                              0.010786  0.000000e+00\n",
      "M                                  0.011770  0.000000e+00\n",
      "M-95R                              0.012559  0.000000e+00\n",
      "N_Par                          18909.000000  0.000000e+00\n",
      "Train_Time                        21.544275  1.620220e+09\n",
      "Test_Time/MC-Oracle_Test_Time      0.666456  1.000000e+00\n",
      "------------------------------------\n",
      "Done: Running script for main model!\n",
      "------------------------------------\n"
     ]
    },
    {
     "name": "stderr",
     "output_type": "stream",
     "text": [
      "\n"
     ]
    }
   ],
   "source": [
    "print(\"------------------------------\")\n",
    "print(\"Running script for main model!\")\n",
    "print(\"------------------------------\")\n",
    "# %run Universal_Measure_Valued_Networks_Backend.ipynb\n",
    "exec(open('Universal_Measure_Valued_Networks_Backend.py').read())\n",
    "\n",
    "print(\"------------------------------------\")\n",
    "print(\"Done: Running script for main model!\")\n",
    "print(\"------------------------------------\")"
   ]
  },
  {
   "cell_type": "markdown",
   "metadata": {},
   "source": [
    "---\n",
    "# Run: All Benchmarks"
   ]
  },
  {
   "cell_type": "markdown",
   "metadata": {},
   "source": [
    "## 1) *Pointmass Benchmark(s)*\n",
    "These benchmarks consist of subsets of $C(\\mathbb{R}^d,\\mathbb{R})$ which we lift to models in $C(\\mathbb{R}^d,\\cap_{1\\leq q<\\infty}\\mathscr{P}_{q}(\\mathbb{R}))$ via:\n",
    "$$\n",
    "\\mathbb{R}^d \\ni x \\to f(x) \\to \\delta_{f(x)}\\in \\cap_{1\\leq q<\\infty}\\mathcal{P}_{q}(\\mathbb{R}).\n",
    "$$"
   ]
  },
  {
   "cell_type": "code",
   "execution_count": 36,
   "metadata": {},
   "outputs": [
    {
     "name": "stdout",
     "output_type": "stream",
     "text": [
      "Deep Feature Builder - Ready\n",
      "--------------\n",
      "Training: ENET\n",
      "--------------\n"
     ]
    },
    {
     "name": "stderr",
     "output_type": "stream",
     "text": [
      "100%|██████████| 479/479 [00:00<00:00, 4212.80it/s]\n",
      "100%|██████████| 120/120 [00:00<00:00, 4281.65it/s]"
     ]
    },
    {
     "name": "stdout",
     "output_type": "stream",
     "text": [
      "---------------------\n",
      "Training: ENET - Done\n",
      "---------------------\n",
      "#------------#\n",
      " Get Error(s) \n",
      "#------------#\n",
      "#-----------------#\n",
      " Get Error(s): END \n",
      "#-----------------#\n",
      "#------------#\n",
      " Get Error(s) \n",
      "#------------#\n",
      "#-----------------#\n",
      " Get Error(s): END \n",
      "#-----------------#\n",
      "Updated DataFrame\n",
      "                                        DNM     MC-Oracle         ENET\n",
      "W1-95L                             0.008006  0.000000e+00            -\n",
      "W1                                 0.008373  0.000000e+00            -\n",
      "W1-95R                             0.008952  0.000000e+00            -\n",
      "M-95L                              0.010786  0.000000e+00   0.00726812\n",
      "M                                  0.011770  0.000000e+00   0.00770548\n",
      "M-95R                              0.012559  0.000000e+00   0.00816749\n",
      "N_Par                          18909.000000  0.000000e+00          958\n",
      "Train_Time                        21.544275  1.620220e+09  1.62022e+09\n",
      "Test_Time/MC-Oracle_Test_Time      0.666456  1.000000e+00  0.000914406\n",
      "------------------------------------------------\n",
      "Updated Performance Metrics Dataframe and Saved!\n",
      "------------------------------------------------\n",
      "-----------------\n",
      "Training: K-Ridge\n",
      "-----------------\n",
      "Fitting 2 folds for each of 2 candidates, totalling 4 fits\n"
     ]
    },
    {
     "name": "stderr",
     "output_type": "stream",
     "text": [
      "\n",
      "[Parallel(n_jobs=4)]: Using backend LokyBackend with 4 concurrent workers.\n",
      "[Parallel(n_jobs=4)]: Done   1 tasks      | elapsed:    0.1s\n",
      "[Parallel(n_jobs=4)]: Batch computation too fast (0.0840s.) Setting batch_size=2.\n",
      "[Parallel(n_jobs=4)]: Done   2 out of   4 | elapsed:    0.1s remaining:    0.1s\n",
      "[Parallel(n_jobs=4)]: Done   4 out of   4 | elapsed:    0.4s remaining:    0.0s\n",
      "[Parallel(n_jobs=4)]: Done   4 out of   4 | elapsed:    0.4s finished\n",
      "100%|██████████| 479/479 [00:00<00:00, 3404.61it/s]\n",
      "100%|██████████| 120/120 [00:00<00:00, 4530.10it/s]"
     ]
    },
    {
     "name": "stdout",
     "output_type": "stream",
     "text": [
      "#------------#\n",
      " Get Error(s) \n",
      "#------------#\n",
      "#-----------------#\n",
      " Get Error(s): END \n",
      "#-----------------#\n",
      "#------------#\n",
      " Get Error(s) \n",
      "#------------#\n",
      "#-----------------#\n",
      " Get Error(s): END \n",
      "#-----------------#\n",
      "Updated DataFrame\n"
     ]
    },
    {
     "name": "stderr",
     "output_type": "stream",
     "text": [
      "\n",
      "[Parallel(n_jobs=4)]: Using backend LokyBackend with 4 concurrent workers.\n"
     ]
    },
    {
     "name": "stdout",
     "output_type": "stream",
     "text": [
      "                                        DNM     MC-Oracle         ENET  \\\n",
      "W1-95L                             0.008006  0.000000e+00            -   \n",
      "W1                                 0.008373  0.000000e+00            -   \n",
      "W1-95R                             0.008952  0.000000e+00            -   \n",
      "M-95L                              0.010786  0.000000e+00   0.00726812   \n",
      "M                                  0.011770  0.000000e+00   0.00770548   \n",
      "M-95R                              0.012559  0.000000e+00   0.00816749   \n",
      "N_Par                          18909.000000  0.000000e+00          958   \n",
      "Train_Time                        21.544275  1.620220e+09  1.62022e+09   \n",
      "Test_Time/MC-Oracle_Test_Time      0.666456  1.000000e+00  0.000914406   \n",
      "\n",
      "                                  KRidge  \n",
      "W1-95L                                 -  \n",
      "W1                                     -  \n",
      "W1-95R                                 -  \n",
      "M-95L                          0.0486667  \n",
      "M                              0.0766662  \n",
      "M-95R                           0.105086  \n",
      "N_Par                                  0  \n",
      "Train_Time                      0.762621  \n",
      "Test_Time/MC-Oracle_Test_Time  0.0961755  \n",
      "------------------------------------------------\n",
      "Updated Performance Metrics Dataframe and Saved!\n",
      "------------------------------------------------\n",
      "--------------\n",
      "Training: GBRF\n",
      "--------------\n",
      "Fitting 2 folds for each of 1 candidates, totalling 2 fits\n"
     ]
    },
    {
     "name": "stderr",
     "output_type": "stream",
     "text": [
      "[Parallel(n_jobs=4)]: Done   2 out of   2 | elapsed:    1.4s remaining:    0.0s\n",
      "[Parallel(n_jobs=4)]: Done   2 out of   2 | elapsed:    1.4s finished\n",
      "100%|██████████| 479/479 [00:00<00:00, 5617.83it/s]\n",
      "100%|██████████| 120/120 [00:00<00:00, 4345.57it/s]"
     ]
    },
    {
     "name": "stdout",
     "output_type": "stream",
     "text": [
      "#------------#\n",
      " Get Error(s) \n",
      "#------------#\n",
      "#-----------------#\n",
      " Get Error(s): END \n",
      "#-----------------#\n",
      "#------------#\n",
      " Get Error(s) \n",
      "#------------#\n",
      "#-----------------#\n",
      " Get Error(s): END \n",
      "#-----------------#\n",
      "Updated DataFrame\n",
      "                                        DNM     MC-Oracle         ENET  \\\n",
      "W1-95L                             0.008006  0.000000e+00            -   \n",
      "W1                                 0.008373  0.000000e+00            -   \n",
      "W1-95R                             0.008952  0.000000e+00            -   \n",
      "M-95L                              0.010786  0.000000e+00   0.00726812   \n",
      "M                                  0.011770  0.000000e+00   0.00770548   \n",
      "M-95R                              0.012559  0.000000e+00   0.00816749   \n",
      "N_Par                          18909.000000  0.000000e+00          958   \n",
      "Train_Time                        21.544275  1.620220e+09  1.62022e+09   \n",
      "Test_Time/MC-Oracle_Test_Time      0.666456  1.000000e+00  0.000914406   \n",
      "\n",
      "                                  KRidge        GBRF  \n",
      "W1-95L                                 -           -  \n",
      "W1                                     -           -  \n",
      "W1-95R                                 -           -  \n",
      "M-95L                          0.0486667  0.00210335  \n",
      "M                              0.0766662  0.00257861  \n",
      "M-95R                           0.105086  0.00305558  \n",
      "N_Par                                  0      470690  \n",
      "Train_Time                      0.762621     3.90242  \n",
      "Test_Time/MC-Oracle_Test_Time  0.0961755   0.0403798  \n",
      "------------------------------------------------\n",
      "Updated Performance Metrics Dataframe and Saved!\n",
      "------------------------------------------------\n",
      "-------------\n",
      "Training: DNN\n",
      "-------------\n",
      "Fitting 2 folds for each of 1 candidates, totalling 2 fits\n"
     ]
    },
    {
     "name": "stderr",
     "output_type": "stream",
     "text": [
      "\n",
      "[Parallel(n_jobs=4)]: Using backend LokyBackend with 4 concurrent workers.\n",
      "[Parallel(n_jobs=4)]: Done   2 out of   2 | elapsed:    3.8s remaining:    0.0s\n",
      "[Parallel(n_jobs=4)]: Done   2 out of   2 | elapsed:    3.8s finished\n"
     ]
    },
    {
     "name": "stdout",
     "output_type": "stream",
     "text": [
      "Epoch 1/2\n",
      "30/30 [==============================] - 0s 1ms/step - loss: 0.0292 - mse: 0.0013 - mae: 0.0292 - mape: 68.3805\n",
      "Epoch 2/2\n",
      "30/30 [==============================] - 0s 1ms/step - loss: 0.0284 - mse: 0.0012 - mae: 0.0284 - mape: 66.3069\n",
      "30/30 [==============================] - 0s 849us/step\n",
      "8/8 [==============================] - 0s 854us/step\n"
     ]
    },
    {
     "name": "stderr",
     "output_type": "stream",
     "text": [
      "\r",
      "  0%|          | 0/479 [00:00<?, ?it/s]"
     ]
    },
    {
     "name": "stdout",
     "output_type": "stream",
     "text": [
      "#------------#\n",
      " Get Error(s) \n",
      "#------------#\n"
     ]
    },
    {
     "name": "stderr",
     "output_type": "stream",
     "text": [
      "100%|██████████| 479/479 [00:00<00:00, 4864.05it/s]\n",
      "  0%|          | 0/120 [00:00<?, ?it/s]"
     ]
    },
    {
     "name": "stdout",
     "output_type": "stream",
     "text": [
      "#-----------------#\n",
      " Get Error(s): END \n",
      "#-----------------#\n",
      "#------------#\n",
      " Get Error(s) \n",
      "#------------#\n"
     ]
    },
    {
     "name": "stderr",
     "output_type": "stream",
     "text": [
      "\r",
      "100%|██████████| 120/120 [00:00<00:00, 4350.19it/s]"
     ]
    },
    {
     "name": "stdout",
     "output_type": "stream",
     "text": [
      "#-----------------#\n",
      " Get Error(s): END \n",
      "#-----------------#\n",
      "Updated DataFrame\n",
      "                                        DNM     MC-Oracle         ENET  \\\n",
      "W1-95L                             0.008006  0.000000e+00            -   \n",
      "W1                                 0.008373  0.000000e+00            -   \n",
      "W1-95R                             0.008952  0.000000e+00            -   \n",
      "M-95L                              0.010786  0.000000e+00   0.00726812   \n",
      "M                                  0.011770  0.000000e+00   0.00770548   \n",
      "M-95R                              0.012559  0.000000e+00   0.00816749   \n",
      "N_Par                          18909.000000  0.000000e+00          958   \n",
      "Train_Time                        21.544275  1.620220e+09  1.62022e+09   \n",
      "Test_Time/MC-Oracle_Test_Time      0.666456  1.000000e+00  0.000914406   \n",
      "\n",
      "                                  KRidge        GBRF        DNN  \n",
      "W1-95L                                 -           -          -  \n",
      "W1                                     -           -          -  \n",
      "W1-95R                                 -           -          -  \n",
      "M-95L                          0.0486667  0.00210335  0.0281057  \n",
      "M                              0.0766662  0.00257861  0.0317936  \n",
      "M-95R                           0.105086  0.00305558  0.0378587  \n",
      "N_Par                                  0      470690        651  \n",
      "Train_Time                      0.762621     3.90242    5.11038  \n",
      "Test_Time/MC-Oracle_Test_Time  0.0961755   0.0403798    0.58296  \n",
      "------------------------------------------------\n",
      "Updated Performance Metrics Dataframe and Saved!\n",
      "------------------------------------------------\n"
     ]
    },
    {
     "name": "stderr",
     "output_type": "stream",
     "text": [
      "\n"
     ]
    }
   ],
   "source": [
    "exec(open('CV_Grid.py').read())\n",
    "# Notebook Mode:\n",
    "# %run Evaluation.ipynb\n",
    "# %run Benchmarks_Model_Builder_Pointmass_Based.ipynb\n",
    "# Terminal Mode (Default):\n",
    "exec(open('Evaluation.py').read())\n",
    "exec(open('Benchmarks_Model_Builder_Pointmass_Based.py').read())"
   ]
  },
  {
   "cell_type": "markdown",
   "metadata": {},
   "source": [
    "# Summary of Point-Mass Regression Models"
   ]
  },
  {
   "cell_type": "markdown",
   "metadata": {},
   "source": [
    "#### Training Model Facts"
   ]
  },
  {
   "cell_type": "code",
   "execution_count": 37,
   "metadata": {},
   "outputs": [
    {
     "name": "stdout",
     "output_type": "stream",
     "text": [
      "                                        DNM     MC-Oracle         ENET  \\\n",
      "W1-95L                             0.008006  0.000000e+00            -   \n",
      "W1                                 0.008373  0.000000e+00            -   \n",
      "W1-95R                             0.008952  0.000000e+00            -   \n",
      "M-95L                              0.010786  0.000000e+00   0.00726812   \n",
      "M                                  0.011770  0.000000e+00   0.00770548   \n",
      "M-95R                              0.012559  0.000000e+00   0.00816749   \n",
      "N_Par                          18909.000000  0.000000e+00          958   \n",
      "Train_Time                        21.544275  1.620220e+09  1.62022e+09   \n",
      "Test_Time/MC-Oracle_Test_Time      0.666456  1.000000e+00  0.000914406   \n",
      "\n",
      "                                  KRidge        GBRF        DNN  \n",
      "W1-95L                                 -           -          -  \n",
      "W1                                     -           -          -  \n",
      "W1-95R                                 -           -          -  \n",
      "M-95L                          0.0486667  0.00210335  0.0281057  \n",
      "M                              0.0766662  0.00257861  0.0317936  \n",
      "M-95R                           0.105086  0.00305558  0.0378587  \n",
      "N_Par                                  0      470690        651  \n",
      "Train_Time                      0.762621     3.90242    5.11038  \n",
      "Test_Time/MC-Oracle_Test_Time  0.0961755   0.0403798    0.58296  \n"
     ]
    },
    {
     "data": {
      "text/html": [
       "<div>\n",
       "<style scoped>\n",
       "    .dataframe tbody tr th:only-of-type {\n",
       "        vertical-align: middle;\n",
       "    }\n",
       "\n",
       "    .dataframe tbody tr th {\n",
       "        vertical-align: top;\n",
       "    }\n",
       "\n",
       "    .dataframe thead th {\n",
       "        text-align: right;\n",
       "    }\n",
       "</style>\n",
       "<table border=\"1\" class=\"dataframe\">\n",
       "  <thead>\n",
       "    <tr style=\"text-align: right;\">\n",
       "      <th></th>\n",
       "      <th>DNM</th>\n",
       "      <th>MC-Oracle</th>\n",
       "      <th>ENET</th>\n",
       "      <th>KRidge</th>\n",
       "      <th>GBRF</th>\n",
       "      <th>DNN</th>\n",
       "    </tr>\n",
       "  </thead>\n",
       "  <tbody>\n",
       "    <tr>\n",
       "      <th>W1-95L</th>\n",
       "      <td>0.008006</td>\n",
       "      <td>0.000000e+00</td>\n",
       "      <td>-</td>\n",
       "      <td>-</td>\n",
       "      <td>-</td>\n",
       "      <td>-</td>\n",
       "    </tr>\n",
       "    <tr>\n",
       "      <th>W1</th>\n",
       "      <td>0.008373</td>\n",
       "      <td>0.000000e+00</td>\n",
       "      <td>-</td>\n",
       "      <td>-</td>\n",
       "      <td>-</td>\n",
       "      <td>-</td>\n",
       "    </tr>\n",
       "    <tr>\n",
       "      <th>W1-95R</th>\n",
       "      <td>0.008952</td>\n",
       "      <td>0.000000e+00</td>\n",
       "      <td>-</td>\n",
       "      <td>-</td>\n",
       "      <td>-</td>\n",
       "      <td>-</td>\n",
       "    </tr>\n",
       "    <tr>\n",
       "      <th>M-95L</th>\n",
       "      <td>0.010786</td>\n",
       "      <td>0.000000e+00</td>\n",
       "      <td>0.00726812</td>\n",
       "      <td>0.0486667</td>\n",
       "      <td>0.00210335</td>\n",
       "      <td>0.0281057</td>\n",
       "    </tr>\n",
       "    <tr>\n",
       "      <th>M</th>\n",
       "      <td>0.011770</td>\n",
       "      <td>0.000000e+00</td>\n",
       "      <td>0.00770548</td>\n",
       "      <td>0.0766662</td>\n",
       "      <td>0.00257861</td>\n",
       "      <td>0.0317936</td>\n",
       "    </tr>\n",
       "    <tr>\n",
       "      <th>M-95R</th>\n",
       "      <td>0.012559</td>\n",
       "      <td>0.000000e+00</td>\n",
       "      <td>0.00816749</td>\n",
       "      <td>0.105086</td>\n",
       "      <td>0.00305558</td>\n",
       "      <td>0.0378587</td>\n",
       "    </tr>\n",
       "    <tr>\n",
       "      <th>N_Par</th>\n",
       "      <td>18909.000000</td>\n",
       "      <td>0.000000e+00</td>\n",
       "      <td>958</td>\n",
       "      <td>0</td>\n",
       "      <td>470690</td>\n",
       "      <td>651</td>\n",
       "    </tr>\n",
       "    <tr>\n",
       "      <th>Train_Time</th>\n",
       "      <td>21.544275</td>\n",
       "      <td>1.620220e+09</td>\n",
       "      <td>1.62022e+09</td>\n",
       "      <td>0.762621</td>\n",
       "      <td>3.90242</td>\n",
       "      <td>5.11038</td>\n",
       "    </tr>\n",
       "    <tr>\n",
       "      <th>Test_Time/MC-Oracle_Test_Time</th>\n",
       "      <td>0.666456</td>\n",
       "      <td>1.000000e+00</td>\n",
       "      <td>0.000914406</td>\n",
       "      <td>0.0961755</td>\n",
       "      <td>0.0403798</td>\n",
       "      <td>0.58296</td>\n",
       "    </tr>\n",
       "  </tbody>\n",
       "</table>\n",
       "</div>"
      ],
      "text/plain": [
       "                                        DNM     MC-Oracle         ENET  \\\n",
       "W1-95L                             0.008006  0.000000e+00            -   \n",
       "W1                                 0.008373  0.000000e+00            -   \n",
       "W1-95R                             0.008952  0.000000e+00            -   \n",
       "M-95L                              0.010786  0.000000e+00   0.00726812   \n",
       "M                                  0.011770  0.000000e+00   0.00770548   \n",
       "M-95R                              0.012559  0.000000e+00   0.00816749   \n",
       "N_Par                          18909.000000  0.000000e+00          958   \n",
       "Train_Time                        21.544275  1.620220e+09  1.62022e+09   \n",
       "Test_Time/MC-Oracle_Test_Time      0.666456  1.000000e+00  0.000914406   \n",
       "\n",
       "                                  KRidge        GBRF        DNN  \n",
       "W1-95L                                 -           -          -  \n",
       "W1                                     -           -          -  \n",
       "W1-95R                                 -           -          -  \n",
       "M-95L                          0.0486667  0.00210335  0.0281057  \n",
       "M                              0.0766662  0.00257861  0.0317936  \n",
       "M-95R                           0.105086  0.00305558  0.0378587  \n",
       "N_Par                                  0      470690        651  \n",
       "Train_Time                      0.762621     3.90242    5.11038  \n",
       "Test_Time/MC-Oracle_Test_Time  0.0961755   0.0403798    0.58296  "
      ]
     },
     "execution_count": 37,
     "metadata": {},
     "output_type": "execute_result"
    }
   ],
   "source": [
    "print(Summary_pred_Qual_models)\n",
    "Summary_pred_Qual_models"
   ]
  },
  {
   "cell_type": "markdown",
   "metadata": {},
   "source": [
    "#### Testing Model Facts"
   ]
  },
  {
   "cell_type": "code",
   "execution_count": 38,
   "metadata": {},
   "outputs": [
    {
     "name": "stdout",
     "output_type": "stream",
     "text": [
      "                                        DNM     MC-Oracle          ENET  \\\n",
      "W1-95L                             0.007710  0.000000e+00  7.633688e-03   \n",
      "W1                                 0.008373  0.000000e+00  8.463183e-03   \n",
      "W1-95R                             0.008952  0.000000e+00  9.630304e-03   \n",
      "M-95L                              0.010786  0.000000e+00  5.672209e-03   \n",
      "M                                  0.011770  0.000000e+00  6.462542e-03   \n",
      "M-95R                              0.012559  0.000000e+00  7.293723e-03   \n",
      "N_Par                          18909.000000  0.000000e+00  9.580000e+02   \n",
      "Train_Time                        21.544275  1.620220e+09  1.620220e+09   \n",
      "Test_Time/MC-Oracle_Test_Time      0.666456  1.000000e+00  9.144058e-04   \n",
      "\n",
      "                                 KRidge           GBRF         DNN  \n",
      "W1-95L                         0.020189       0.007268    0.008595  \n",
      "W1                             0.042885       0.008421    0.010016  \n",
      "W1-95R                         0.081862       0.009251    0.011057  \n",
      "M-95L                          0.048667       0.002103    0.028106  \n",
      "M                              0.076666       0.002579    0.031794  \n",
      "M-95R                          0.105086       0.003056    0.037859  \n",
      "N_Par                          0.000000  470690.000000  651.000000  \n",
      "Train_Time                     0.762621       3.902419    5.110375  \n",
      "Test_Time/MC-Oracle_Test_Time  0.096176       0.040380    0.582960  \n"
     ]
    },
    {
     "data": {
      "text/html": [
       "<div>\n",
       "<style scoped>\n",
       "    .dataframe tbody tr th:only-of-type {\n",
       "        vertical-align: middle;\n",
       "    }\n",
       "\n",
       "    .dataframe tbody tr th {\n",
       "        vertical-align: top;\n",
       "    }\n",
       "\n",
       "    .dataframe thead th {\n",
       "        text-align: right;\n",
       "    }\n",
       "</style>\n",
       "<table border=\"1\" class=\"dataframe\">\n",
       "  <thead>\n",
       "    <tr style=\"text-align: right;\">\n",
       "      <th></th>\n",
       "      <th>DNM</th>\n",
       "      <th>MC-Oracle</th>\n",
       "      <th>ENET</th>\n",
       "      <th>KRidge</th>\n",
       "      <th>GBRF</th>\n",
       "      <th>DNN</th>\n",
       "    </tr>\n",
       "  </thead>\n",
       "  <tbody>\n",
       "    <tr>\n",
       "      <th>W1-95L</th>\n",
       "      <td>0.007710</td>\n",
       "      <td>0.000000e+00</td>\n",
       "      <td>7.633688e-03</td>\n",
       "      <td>0.020189</td>\n",
       "      <td>0.007268</td>\n",
       "      <td>0.008595</td>\n",
       "    </tr>\n",
       "    <tr>\n",
       "      <th>W1</th>\n",
       "      <td>0.008373</td>\n",
       "      <td>0.000000e+00</td>\n",
       "      <td>8.463183e-03</td>\n",
       "      <td>0.042885</td>\n",
       "      <td>0.008421</td>\n",
       "      <td>0.010016</td>\n",
       "    </tr>\n",
       "    <tr>\n",
       "      <th>W1-95R</th>\n",
       "      <td>0.008952</td>\n",
       "      <td>0.000000e+00</td>\n",
       "      <td>9.630304e-03</td>\n",
       "      <td>0.081862</td>\n",
       "      <td>0.009251</td>\n",
       "      <td>0.011057</td>\n",
       "    </tr>\n",
       "    <tr>\n",
       "      <th>M-95L</th>\n",
       "      <td>0.010786</td>\n",
       "      <td>0.000000e+00</td>\n",
       "      <td>5.672209e-03</td>\n",
       "      <td>0.048667</td>\n",
       "      <td>0.002103</td>\n",
       "      <td>0.028106</td>\n",
       "    </tr>\n",
       "    <tr>\n",
       "      <th>M</th>\n",
       "      <td>0.011770</td>\n",
       "      <td>0.000000e+00</td>\n",
       "      <td>6.462542e-03</td>\n",
       "      <td>0.076666</td>\n",
       "      <td>0.002579</td>\n",
       "      <td>0.031794</td>\n",
       "    </tr>\n",
       "    <tr>\n",
       "      <th>M-95R</th>\n",
       "      <td>0.012559</td>\n",
       "      <td>0.000000e+00</td>\n",
       "      <td>7.293723e-03</td>\n",
       "      <td>0.105086</td>\n",
       "      <td>0.003056</td>\n",
       "      <td>0.037859</td>\n",
       "    </tr>\n",
       "    <tr>\n",
       "      <th>N_Par</th>\n",
       "      <td>18909.000000</td>\n",
       "      <td>0.000000e+00</td>\n",
       "      <td>9.580000e+02</td>\n",
       "      <td>0.000000</td>\n",
       "      <td>470690.000000</td>\n",
       "      <td>651.000000</td>\n",
       "    </tr>\n",
       "    <tr>\n",
       "      <th>Train_Time</th>\n",
       "      <td>21.544275</td>\n",
       "      <td>1.620220e+09</td>\n",
       "      <td>1.620220e+09</td>\n",
       "      <td>0.762621</td>\n",
       "      <td>3.902419</td>\n",
       "      <td>5.110375</td>\n",
       "    </tr>\n",
       "    <tr>\n",
       "      <th>Test_Time/MC-Oracle_Test_Time</th>\n",
       "      <td>0.666456</td>\n",
       "      <td>1.000000e+00</td>\n",
       "      <td>9.144058e-04</td>\n",
       "      <td>0.096176</td>\n",
       "      <td>0.040380</td>\n",
       "      <td>0.582960</td>\n",
       "    </tr>\n",
       "  </tbody>\n",
       "</table>\n",
       "</div>"
      ],
      "text/plain": [
       "                                        DNM     MC-Oracle          ENET  \\\n",
       "W1-95L                             0.007710  0.000000e+00  7.633688e-03   \n",
       "W1                                 0.008373  0.000000e+00  8.463183e-03   \n",
       "W1-95R                             0.008952  0.000000e+00  9.630304e-03   \n",
       "M-95L                              0.010786  0.000000e+00  5.672209e-03   \n",
       "M                                  0.011770  0.000000e+00  6.462542e-03   \n",
       "M-95R                              0.012559  0.000000e+00  7.293723e-03   \n",
       "N_Par                          18909.000000  0.000000e+00  9.580000e+02   \n",
       "Train_Time                        21.544275  1.620220e+09  1.620220e+09   \n",
       "Test_Time/MC-Oracle_Test_Time      0.666456  1.000000e+00  9.144058e-04   \n",
       "\n",
       "                                 KRidge           GBRF         DNN  \n",
       "W1-95L                         0.020189       0.007268    0.008595  \n",
       "W1                             0.042885       0.008421    0.010016  \n",
       "W1-95R                         0.081862       0.009251    0.011057  \n",
       "M-95L                          0.048667       0.002103    0.028106  \n",
       "M                              0.076666       0.002579    0.031794  \n",
       "M-95R                          0.105086       0.003056    0.037859  \n",
       "N_Par                          0.000000  470690.000000  651.000000  \n",
       "Train_Time                     0.762621       3.902419    5.110375  \n",
       "Test_Time/MC-Oracle_Test_Time  0.096176       0.040380    0.582960  "
      ]
     },
     "execution_count": 38,
     "metadata": {},
     "output_type": "execute_result"
    }
   ],
   "source": [
    "print(Summary_pred_Qual_models_test)\n",
    "Summary_pred_Qual_models_test"
   ]
  },
  {
   "cell_type": "markdown",
   "metadata": {},
   "source": [
    "## 2) *Gaussian Benchmarks*"
   ]
  },
  {
   "cell_type": "markdown",
   "metadata": {},
   "source": [
    "- Bencharm 1: [Gaussian Process Regressor](https://scikit-learn.org/stable/modules/gaussian_process.html)\n",
    "- Benchmark 2: Deep Gaussian Networks:\n",
    "These models train models which assume Gaussianity.  We may view these as models in $\\mathcal{P}_2(\\mathbb{R})$ via:\n",
    "$$\n",
    "\\mathbb{R}^d \\ni x \\to (\\hat{\\mu}(x),\\hat{\\Sigma}(x)\\hat{\\Sigma}^{\\top})\\triangleq f(x) \\in \\mathbb{R}\\times [0,\\infty) \\to \n",
    "(2\\pi)^{-\\frac{d}{2}}\\det(\\hat{\\Sigma}(x))^{-\\frac{1}{2}} \\, e^{ -\\frac{1}{2}(\\cdot - \\hat{\\mu}(x))^{{{\\!\\mathsf{T}}}} \\hat{\\Sigma}(x)^{-1}(\\cdot - \\hat{\\mu}(x)) } \\mu \\in \\mathcal{G}_d\\subset \\mathcal{P}_2(\\mathbb{R});\n",
    "$$\n",
    "where $\\mathcal{G}_1$ is the set of Gaussian measures on $\\mathbb{R}$ equipped with the relative Wasserstein-1 topology.\n",
    "\n",
    "Examples of this type of architecture are especially prevalent in uncertainty quantification; see ([Deep Ensembles](https://arxiv.org/abs/1612.01474)] or [NOMU: Neural Optimization-based Model Uncertainty](https://arxiv.org/abs/2102.13640).  Moreover, their universality in $C(\\mathbb{R}^d,\\mathcal{G}_2)$ is known, and has been shown in [Corollary 4.7](https://arxiv.org/abs/2101.05390)."
   ]
  },
  {
   "cell_type": "code",
   "execution_count": 39,
   "metadata": {},
   "outputs": [
    {
     "name": "stdout",
     "output_type": "stream",
     "text": [
      "Deep Feature Builder - Ready\n",
      "Fitting 2 folds for each of 2 candidates, totalling 4 fits\n"
     ]
    },
    {
     "name": "stderr",
     "output_type": "stream",
     "text": [
      "[Parallel(n_jobs=4)]: Using backend LokyBackend with 4 concurrent workers.\n",
      "[Parallel(n_jobs=4)]: Done   1 tasks      | elapsed:    1.5s\n",
      "[Parallel(n_jobs=4)]: Done   2 out of   4 | elapsed:    1.8s remaining:    1.8s\n",
      "[Parallel(n_jobs=4)]: Done   4 out of   4 | elapsed:    2.1s remaining:    0.0s\n",
      "[Parallel(n_jobs=4)]: Done   4 out of   4 | elapsed:    2.1s finished\n",
      "100%|██████████| 479/479 [00:00<00:00, 4402.18it/s]"
     ]
    },
    {
     "name": "stdout",
     "output_type": "stream",
     "text": [
      "Infering Parameters for Deep Gaussian Network to train on!\n",
      "Done Getting Parameters for Deep Gaussian Network!\n",
      "===============================\n",
      "Training Deep Gaussian Network!\n",
      "===============================\n",
      "Fitting 2 folds for each of 1 candidates, totalling 2 fits\n"
     ]
    },
    {
     "name": "stderr",
     "output_type": "stream",
     "text": [
      "\n",
      "[Parallel(n_jobs=4)]: Using backend LokyBackend with 4 concurrent workers.\n",
      "[Parallel(n_jobs=4)]: Done   2 out of   2 | elapsed:    3.1s remaining:    0.0s\n",
      "[Parallel(n_jobs=4)]: Done   2 out of   2 | elapsed:    3.1s finished\n"
     ]
    },
    {
     "name": "stdout",
     "output_type": "stream",
     "text": [
      "Epoch 1/2\n",
      "30/30 [==============================] - 0s 1ms/step - loss: 0.4826 - mse: 0.4003 - mae: 0.4826 - mape: 709.4232\n",
      "Epoch 2/2\n",
      "30/30 [==============================] - 0s 1ms/step - loss: 0.4826 - mse: 0.4010 - mae: 0.4826 - mape: 708.8324\n",
      "30/30 [==============================] - 0s 775us/step\n",
      "8/8 [==============================] - 0s 830us/step\n"
     ]
    },
    {
     "name": "stderr",
     "output_type": "stream",
     "text": [
      " 61%|██████    | 290/479 [00:00<00:00, 2899.66it/s]"
     ]
    },
    {
     "name": "stdout",
     "output_type": "stream",
     "text": [
      "====================================\n",
      "Training Deep Gaussian Network!: END\n",
      "====================================\n",
      "#---------------------------------------#\n",
      " Get Training Errors for: Gaussian Models\n",
      "#---------------------------------------#\n"
     ]
    },
    {
     "name": "stderr",
     "output_type": "stream",
     "text": [
      "100%|██████████| 479/479 [00:00<00:00, 2794.31it/s]\n",
      "  0%|          | 0/120 [00:00<?, ?it/s]"
     ]
    },
    {
     "name": "stdout",
     "output_type": "stream",
     "text": [
      "#-------------------------#\n",
      " Get Training Error(s): END\n",
      "#-------------------------#\n",
      "#--------------------------------------#\n",
      " Get Testing Errors for: Gaussian Models\n",
      "#--------------------------------------#\n"
     ]
    },
    {
     "name": "stderr",
     "output_type": "stream",
     "text": [
      "\r",
      "100%|██████████| 120/120 [00:00<00:00, 2522.31it/s]"
     ]
    },
    {
     "name": "stdout",
     "output_type": "stream",
     "text": [
      "#-------------------------#\n",
      " Get Training Error(s): END\n",
      "#-------------------------#\n",
      "-------------------------------------------------\n",
      "Updating Performance Metrics Dataframe and Saved!\n",
      "-------------------------------------------------\n",
      "                                        DNM     MC-Oracle         ENET  \\\n",
      "W1-95L                             0.008006  0.000000e+00            -   \n",
      "W1                                 0.008373  0.000000e+00            -   \n",
      "W1-95R                             0.008952  0.000000e+00            -   \n",
      "M-95L                              0.010786  0.000000e+00   0.00726812   \n",
      "M                                  0.011770  0.000000e+00   0.00770548   \n",
      "M-95R                              0.012559  0.000000e+00   0.00816749   \n",
      "N_Par                          18909.000000  0.000000e+00          958   \n",
      "Train_Time                        21.544275  1.620220e+09  1.62022e+09   \n",
      "Test_Time/MC-Oracle_Test_Time      0.666456  1.000000e+00  0.000914406   \n",
      "\n",
      "                                  KRidge        GBRF        DNN       GPR  \\\n",
      "W1-95L                                 -           -          -  0.026742   \n",
      "W1                                     -           -          -  0.047363   \n",
      "W1-95R                                 -           -          -  0.064547   \n",
      "M-95L                          0.0486667  0.00210335  0.0281057  0.045379   \n",
      "M                              0.0766662  0.00257861  0.0317936  0.057781   \n",
      "M-95R                           0.105086  0.00305558  0.0378587  0.069837   \n",
      "N_Par                                  0      470690        651  0.000000   \n",
      "Train_Time                      0.762621     3.90242    5.11038  6.620785   \n",
      "Test_Time/MC-Oracle_Test_Time  0.0961755   0.0403798    0.58296  0.222001   \n",
      "\n",
      "                                      DGN  \n",
      "W1-95L                           0.930756  \n",
      "W1                               0.941348  \n",
      "W1-95R                           0.954946  \n",
      "M-95L                            0.071870  \n",
      "M                                0.072942  \n",
      "M-95R                            0.074750  \n",
      "N_Par                          651.000000  \n",
      "Train_Time                       4.255152  \n",
      "Test_Time/MC-Oracle_Test_Time    0.565207  \n",
      "------------------------------------------------\n",
      "Updated Performance Metrics Dataframe and Saved!\n",
      "------------------------------------------------\n"
     ]
    },
    {
     "name": "stderr",
     "output_type": "stream",
     "text": [
      "\n"
     ]
    }
   ],
   "source": [
    "# %run Benchmarks_Model_Builder_Mean_Var.ipynb\n",
    "exec(open('Benchmarks_Model_Builder_Mean_Var.py').read())"
   ]
  },
  {
   "cell_type": "code",
   "execution_count": 40,
   "metadata": {},
   "outputs": [
    {
     "name": "stdout",
     "output_type": "stream",
     "text": [
      "Prediction Quality (Updated): Test\n",
      "                                        DNM     MC-Oracle          ENET  \\\n",
      "W1-95L                             0.007710  0.000000e+00  7.633688e-03   \n",
      "W1                                 0.008373  0.000000e+00  8.463183e-03   \n",
      "W1-95R                             0.008952  0.000000e+00  9.630304e-03   \n",
      "M-95L                              0.010786  0.000000e+00  5.672209e-03   \n",
      "M                                  0.011770  0.000000e+00  6.462542e-03   \n",
      "M-95R                              0.012559  0.000000e+00  7.293723e-03   \n",
      "N_Par                          18909.000000  0.000000e+00  9.580000e+02   \n",
      "Train_Time                        21.544275  1.620220e+09  1.620220e+09   \n",
      "Test_Time/MC-Oracle_Test_Time      0.666456  1.000000e+00  9.144058e-04   \n",
      "\n",
      "                                 KRidge           GBRF         DNN       GPR  \\\n",
      "W1-95L                         0.020189       0.007268    0.008595  0.026742   \n",
      "W1                             0.042885       0.008421    0.010016  0.047363   \n",
      "W1-95R                         0.081862       0.009251    0.011057  0.064547   \n",
      "M-95L                          0.048667       0.002103    0.028106  0.045379   \n",
      "M                              0.076666       0.002579    0.031794  0.057781   \n",
      "M-95R                          0.105086       0.003056    0.037859  0.069837   \n",
      "N_Par                          0.000000  470690.000000  651.000000  0.000000   \n",
      "Train_Time                     0.762621       3.902419    5.110375  6.620785   \n",
      "Test_Time/MC-Oracle_Test_Time  0.096176       0.040380    0.582960  0.222001   \n",
      "\n",
      "                                      DGN  \n",
      "W1-95L                           0.905528  \n",
      "W1                               0.930014  \n",
      "W1-95R                           0.950431  \n",
      "M-95L                            0.063727  \n",
      "M                                0.068120  \n",
      "M-95R                            0.070762  \n",
      "N_Par                          651.000000  \n",
      "Train_Time                       4.255152  \n",
      "Test_Time/MC-Oracle_Test_Time    0.565207  \n"
     ]
    },
    {
     "data": {
      "text/html": [
       "<div>\n",
       "<style scoped>\n",
       "    .dataframe tbody tr th:only-of-type {\n",
       "        vertical-align: middle;\n",
       "    }\n",
       "\n",
       "    .dataframe tbody tr th {\n",
       "        vertical-align: top;\n",
       "    }\n",
       "\n",
       "    .dataframe thead th {\n",
       "        text-align: right;\n",
       "    }\n",
       "</style>\n",
       "<table border=\"1\" class=\"dataframe\">\n",
       "  <thead>\n",
       "    <tr style=\"text-align: right;\">\n",
       "      <th></th>\n",
       "      <th>DNM</th>\n",
       "      <th>MC-Oracle</th>\n",
       "      <th>ENET</th>\n",
       "      <th>KRidge</th>\n",
       "      <th>GBRF</th>\n",
       "      <th>DNN</th>\n",
       "      <th>GPR</th>\n",
       "      <th>DGN</th>\n",
       "    </tr>\n",
       "  </thead>\n",
       "  <tbody>\n",
       "    <tr>\n",
       "      <th>W1-95L</th>\n",
       "      <td>0.007710</td>\n",
       "      <td>0.000000e+00</td>\n",
       "      <td>7.633688e-03</td>\n",
       "      <td>0.020189</td>\n",
       "      <td>0.007268</td>\n",
       "      <td>0.008595</td>\n",
       "      <td>0.026742</td>\n",
       "      <td>0.905528</td>\n",
       "    </tr>\n",
       "    <tr>\n",
       "      <th>W1</th>\n",
       "      <td>0.008373</td>\n",
       "      <td>0.000000e+00</td>\n",
       "      <td>8.463183e-03</td>\n",
       "      <td>0.042885</td>\n",
       "      <td>0.008421</td>\n",
       "      <td>0.010016</td>\n",
       "      <td>0.047363</td>\n",
       "      <td>0.930014</td>\n",
       "    </tr>\n",
       "    <tr>\n",
       "      <th>W1-95R</th>\n",
       "      <td>0.008952</td>\n",
       "      <td>0.000000e+00</td>\n",
       "      <td>9.630304e-03</td>\n",
       "      <td>0.081862</td>\n",
       "      <td>0.009251</td>\n",
       "      <td>0.011057</td>\n",
       "      <td>0.064547</td>\n",
       "      <td>0.950431</td>\n",
       "    </tr>\n",
       "    <tr>\n",
       "      <th>M-95L</th>\n",
       "      <td>0.010786</td>\n",
       "      <td>0.000000e+00</td>\n",
       "      <td>5.672209e-03</td>\n",
       "      <td>0.048667</td>\n",
       "      <td>0.002103</td>\n",
       "      <td>0.028106</td>\n",
       "      <td>0.045379</td>\n",
       "      <td>0.063727</td>\n",
       "    </tr>\n",
       "    <tr>\n",
       "      <th>M</th>\n",
       "      <td>0.011770</td>\n",
       "      <td>0.000000e+00</td>\n",
       "      <td>6.462542e-03</td>\n",
       "      <td>0.076666</td>\n",
       "      <td>0.002579</td>\n",
       "      <td>0.031794</td>\n",
       "      <td>0.057781</td>\n",
       "      <td>0.068120</td>\n",
       "    </tr>\n",
       "    <tr>\n",
       "      <th>M-95R</th>\n",
       "      <td>0.012559</td>\n",
       "      <td>0.000000e+00</td>\n",
       "      <td>7.293723e-03</td>\n",
       "      <td>0.105086</td>\n",
       "      <td>0.003056</td>\n",
       "      <td>0.037859</td>\n",
       "      <td>0.069837</td>\n",
       "      <td>0.070762</td>\n",
       "    </tr>\n",
       "    <tr>\n",
       "      <th>N_Par</th>\n",
       "      <td>18909.000000</td>\n",
       "      <td>0.000000e+00</td>\n",
       "      <td>9.580000e+02</td>\n",
       "      <td>0.000000</td>\n",
       "      <td>470690.000000</td>\n",
       "      <td>651.000000</td>\n",
       "      <td>0.000000</td>\n",
       "      <td>651.000000</td>\n",
       "    </tr>\n",
       "    <tr>\n",
       "      <th>Train_Time</th>\n",
       "      <td>21.544275</td>\n",
       "      <td>1.620220e+09</td>\n",
       "      <td>1.620220e+09</td>\n",
       "      <td>0.762621</td>\n",
       "      <td>3.902419</td>\n",
       "      <td>5.110375</td>\n",
       "      <td>6.620785</td>\n",
       "      <td>4.255152</td>\n",
       "    </tr>\n",
       "    <tr>\n",
       "      <th>Test_Time/MC-Oracle_Test_Time</th>\n",
       "      <td>0.666456</td>\n",
       "      <td>1.000000e+00</td>\n",
       "      <td>9.144058e-04</td>\n",
       "      <td>0.096176</td>\n",
       "      <td>0.040380</td>\n",
       "      <td>0.582960</td>\n",
       "      <td>0.222001</td>\n",
       "      <td>0.565207</td>\n",
       "    </tr>\n",
       "  </tbody>\n",
       "</table>\n",
       "</div>"
      ],
      "text/plain": [
       "                                        DNM     MC-Oracle          ENET  \\\n",
       "W1-95L                             0.007710  0.000000e+00  7.633688e-03   \n",
       "W1                                 0.008373  0.000000e+00  8.463183e-03   \n",
       "W1-95R                             0.008952  0.000000e+00  9.630304e-03   \n",
       "M-95L                              0.010786  0.000000e+00  5.672209e-03   \n",
       "M                                  0.011770  0.000000e+00  6.462542e-03   \n",
       "M-95R                              0.012559  0.000000e+00  7.293723e-03   \n",
       "N_Par                          18909.000000  0.000000e+00  9.580000e+02   \n",
       "Train_Time                        21.544275  1.620220e+09  1.620220e+09   \n",
       "Test_Time/MC-Oracle_Test_Time      0.666456  1.000000e+00  9.144058e-04   \n",
       "\n",
       "                                 KRidge           GBRF         DNN       GPR  \\\n",
       "W1-95L                         0.020189       0.007268    0.008595  0.026742   \n",
       "W1                             0.042885       0.008421    0.010016  0.047363   \n",
       "W1-95R                         0.081862       0.009251    0.011057  0.064547   \n",
       "M-95L                          0.048667       0.002103    0.028106  0.045379   \n",
       "M                              0.076666       0.002579    0.031794  0.057781   \n",
       "M-95R                          0.105086       0.003056    0.037859  0.069837   \n",
       "N_Par                          0.000000  470690.000000  651.000000  0.000000   \n",
       "Train_Time                     0.762621       3.902419    5.110375  6.620785   \n",
       "Test_Time/MC-Oracle_Test_Time  0.096176       0.040380    0.582960  0.222001   \n",
       "\n",
       "                                      DGN  \n",
       "W1-95L                           0.905528  \n",
       "W1                               0.930014  \n",
       "W1-95R                           0.950431  \n",
       "M-95L                            0.063727  \n",
       "M                                0.068120  \n",
       "M-95R                            0.070762  \n",
       "N_Par                          651.000000  \n",
       "Train_Time                       4.255152  \n",
       "Test_Time/MC-Oracle_Test_Time    0.565207  "
      ]
     },
     "execution_count": 40,
     "metadata": {},
     "output_type": "execute_result"
    }
   ],
   "source": [
    "print(\"Prediction Quality (Updated): Test\")\n",
    "print(Summary_pred_Qual_models_test)\n",
    "Summary_pred_Qual_models_test"
   ]
  },
  {
   "cell_type": "code",
   "execution_count": 41,
   "metadata": {},
   "outputs": [
    {
     "name": "stdout",
     "output_type": "stream",
     "text": [
      "Prediction Quality (Updated): Train\n",
      "                                        DNM     MC-Oracle         ENET  \\\n",
      "W1-95L                             0.008006  0.000000e+00            -   \n",
      "W1                                 0.008373  0.000000e+00            -   \n",
      "W1-95R                             0.008952  0.000000e+00            -   \n",
      "M-95L                              0.010786  0.000000e+00   0.00726812   \n",
      "M                                  0.011770  0.000000e+00   0.00770548   \n",
      "M-95R                              0.012559  0.000000e+00   0.00816749   \n",
      "N_Par                          18909.000000  0.000000e+00          958   \n",
      "Train_Time                        21.544275  1.620220e+09  1.62022e+09   \n",
      "Test_Time/MC-Oracle_Test_Time      0.666456  1.000000e+00  0.000914406   \n",
      "\n",
      "                                  KRidge        GBRF        DNN       GPR  \\\n",
      "W1-95L                                 -           -          -  0.026742   \n",
      "W1                                     -           -          -  0.047363   \n",
      "W1-95R                                 -           -          -  0.064547   \n",
      "M-95L                          0.0486667  0.00210335  0.0281057  0.045379   \n",
      "M                              0.0766662  0.00257861  0.0317936  0.057781   \n",
      "M-95R                           0.105086  0.00305558  0.0378587  0.069837   \n",
      "N_Par                                  0      470690        651  0.000000   \n",
      "Train_Time                      0.762621     3.90242    5.11038  6.620785   \n",
      "Test_Time/MC-Oracle_Test_Time  0.0961755   0.0403798    0.58296  0.222001   \n",
      "\n",
      "                                      DGN  \n",
      "W1-95L                           0.930756  \n",
      "W1                               0.941348  \n",
      "W1-95R                           0.954946  \n",
      "M-95L                            0.071870  \n",
      "M                                0.072942  \n",
      "M-95R                            0.074750  \n",
      "N_Par                          651.000000  \n",
      "Train_Time                       4.255152  \n",
      "Test_Time/MC-Oracle_Test_Time    0.565207  \n"
     ]
    },
    {
     "data": {
      "text/html": [
       "<div>\n",
       "<style scoped>\n",
       "    .dataframe tbody tr th:only-of-type {\n",
       "        vertical-align: middle;\n",
       "    }\n",
       "\n",
       "    .dataframe tbody tr th {\n",
       "        vertical-align: top;\n",
       "    }\n",
       "\n",
       "    .dataframe thead th {\n",
       "        text-align: right;\n",
       "    }\n",
       "</style>\n",
       "<table border=\"1\" class=\"dataframe\">\n",
       "  <thead>\n",
       "    <tr style=\"text-align: right;\">\n",
       "      <th></th>\n",
       "      <th>DNM</th>\n",
       "      <th>MC-Oracle</th>\n",
       "      <th>ENET</th>\n",
       "      <th>KRidge</th>\n",
       "      <th>GBRF</th>\n",
       "      <th>DNN</th>\n",
       "      <th>GPR</th>\n",
       "      <th>DGN</th>\n",
       "    </tr>\n",
       "  </thead>\n",
       "  <tbody>\n",
       "    <tr>\n",
       "      <th>W1-95L</th>\n",
       "      <td>0.008006</td>\n",
       "      <td>0.000000e+00</td>\n",
       "      <td>-</td>\n",
       "      <td>-</td>\n",
       "      <td>-</td>\n",
       "      <td>-</td>\n",
       "      <td>0.026742</td>\n",
       "      <td>0.930756</td>\n",
       "    </tr>\n",
       "    <tr>\n",
       "      <th>W1</th>\n",
       "      <td>0.008373</td>\n",
       "      <td>0.000000e+00</td>\n",
       "      <td>-</td>\n",
       "      <td>-</td>\n",
       "      <td>-</td>\n",
       "      <td>-</td>\n",
       "      <td>0.047363</td>\n",
       "      <td>0.941348</td>\n",
       "    </tr>\n",
       "    <tr>\n",
       "      <th>W1-95R</th>\n",
       "      <td>0.008952</td>\n",
       "      <td>0.000000e+00</td>\n",
       "      <td>-</td>\n",
       "      <td>-</td>\n",
       "      <td>-</td>\n",
       "      <td>-</td>\n",
       "      <td>0.064547</td>\n",
       "      <td>0.954946</td>\n",
       "    </tr>\n",
       "    <tr>\n",
       "      <th>M-95L</th>\n",
       "      <td>0.010786</td>\n",
       "      <td>0.000000e+00</td>\n",
       "      <td>0.00726812</td>\n",
       "      <td>0.0486667</td>\n",
       "      <td>0.00210335</td>\n",
       "      <td>0.0281057</td>\n",
       "      <td>0.045379</td>\n",
       "      <td>0.071870</td>\n",
       "    </tr>\n",
       "    <tr>\n",
       "      <th>M</th>\n",
       "      <td>0.011770</td>\n",
       "      <td>0.000000e+00</td>\n",
       "      <td>0.00770548</td>\n",
       "      <td>0.0766662</td>\n",
       "      <td>0.00257861</td>\n",
       "      <td>0.0317936</td>\n",
       "      <td>0.057781</td>\n",
       "      <td>0.072942</td>\n",
       "    </tr>\n",
       "    <tr>\n",
       "      <th>M-95R</th>\n",
       "      <td>0.012559</td>\n",
       "      <td>0.000000e+00</td>\n",
       "      <td>0.00816749</td>\n",
       "      <td>0.105086</td>\n",
       "      <td>0.00305558</td>\n",
       "      <td>0.0378587</td>\n",
       "      <td>0.069837</td>\n",
       "      <td>0.074750</td>\n",
       "    </tr>\n",
       "    <tr>\n",
       "      <th>N_Par</th>\n",
       "      <td>18909.000000</td>\n",
       "      <td>0.000000e+00</td>\n",
       "      <td>958</td>\n",
       "      <td>0</td>\n",
       "      <td>470690</td>\n",
       "      <td>651</td>\n",
       "      <td>0.000000</td>\n",
       "      <td>651.000000</td>\n",
       "    </tr>\n",
       "    <tr>\n",
       "      <th>Train_Time</th>\n",
       "      <td>21.544275</td>\n",
       "      <td>1.620220e+09</td>\n",
       "      <td>1.62022e+09</td>\n",
       "      <td>0.762621</td>\n",
       "      <td>3.90242</td>\n",
       "      <td>5.11038</td>\n",
       "      <td>6.620785</td>\n",
       "      <td>4.255152</td>\n",
       "    </tr>\n",
       "    <tr>\n",
       "      <th>Test_Time/MC-Oracle_Test_Time</th>\n",
       "      <td>0.666456</td>\n",
       "      <td>1.000000e+00</td>\n",
       "      <td>0.000914406</td>\n",
       "      <td>0.0961755</td>\n",
       "      <td>0.0403798</td>\n",
       "      <td>0.58296</td>\n",
       "      <td>0.222001</td>\n",
       "      <td>0.565207</td>\n",
       "    </tr>\n",
       "  </tbody>\n",
       "</table>\n",
       "</div>"
      ],
      "text/plain": [
       "                                        DNM     MC-Oracle         ENET  \\\n",
       "W1-95L                             0.008006  0.000000e+00            -   \n",
       "W1                                 0.008373  0.000000e+00            -   \n",
       "W1-95R                             0.008952  0.000000e+00            -   \n",
       "M-95L                              0.010786  0.000000e+00   0.00726812   \n",
       "M                                  0.011770  0.000000e+00   0.00770548   \n",
       "M-95R                              0.012559  0.000000e+00   0.00816749   \n",
       "N_Par                          18909.000000  0.000000e+00          958   \n",
       "Train_Time                        21.544275  1.620220e+09  1.62022e+09   \n",
       "Test_Time/MC-Oracle_Test_Time      0.666456  1.000000e+00  0.000914406   \n",
       "\n",
       "                                  KRidge        GBRF        DNN       GPR  \\\n",
       "W1-95L                                 -           -          -  0.026742   \n",
       "W1                                     -           -          -  0.047363   \n",
       "W1-95R                                 -           -          -  0.064547   \n",
       "M-95L                          0.0486667  0.00210335  0.0281057  0.045379   \n",
       "M                              0.0766662  0.00257861  0.0317936  0.057781   \n",
       "M-95R                           0.105086  0.00305558  0.0378587  0.069837   \n",
       "N_Par                                  0      470690        651  0.000000   \n",
       "Train_Time                      0.762621     3.90242    5.11038  6.620785   \n",
       "Test_Time/MC-Oracle_Test_Time  0.0961755   0.0403798    0.58296  0.222001   \n",
       "\n",
       "                                      DGN  \n",
       "W1-95L                           0.930756  \n",
       "W1                               0.941348  \n",
       "W1-95R                           0.954946  \n",
       "M-95L                            0.071870  \n",
       "M                                0.072942  \n",
       "M-95R                            0.074750  \n",
       "N_Par                          651.000000  \n",
       "Train_Time                       4.255152  \n",
       "Test_Time/MC-Oracle_Test_Time    0.565207  "
      ]
     },
     "execution_count": 41,
     "metadata": {},
     "output_type": "execute_result"
    }
   ],
   "source": [
    "print(\"Prediction Quality (Updated): Train\")\n",
    "print(Summary_pred_Qual_models)\n",
    "Summary_pred_Qual_models"
   ]
  },
  {
   "cell_type": "markdown",
   "metadata": {},
   "source": [
    "# 3) The natural Universal Benchmark: [Bishop's Mixture Density Network](https://publications.aston.ac.uk/id/eprint/373/1/NCRG_94_004.pdf)\n",
    "\n",
    "This implementation is as follows:\n",
    "- For every $x$ in the trainingdata-set we fit a GMM $\\hat{\\nu}_x$, using the [Expectation-Maximization (EM) algorithm](https://en.wikipedia.org/wiki/Expectation%E2%80%93maximization_algorithm), with the same number of centers as the deep neural model in $\\mathcal{NN}_{1_{\\mathbb{R}^d},\\mathcal{D}}^{\\sigma:\\star}$ which we are evaluating.  \n",
    "- A Mixture density network is then trained to predict the infered parameters; given any $x \\in \\mathbb{R}^d$."
   ]
  },
  {
   "cell_type": "code",
   "execution_count": 42,
   "metadata": {},
   "outputs": [
    {
     "name": "stderr",
     "output_type": "stream",
     "text": [
      "\r",
      "  0%|          | 0/479 [00:00<?, ?it/s]"
     ]
    },
    {
     "name": "stdout",
     "output_type": "stream",
     "text": [
      "======================================================\n",
      "Preparing Training Outputs for MDNs using EM-Algorithm\n",
      "======================================================\n"
     ]
    },
    {
     "name": "stderr",
     "output_type": "stream",
     "text": [
      "100%|██████████| 479/479 [00:58<00:00,  8.14it/s]"
     ]
    },
    {
     "name": "stdout",
     "output_type": "stream",
     "text": [
      "======================================================\n",
      "Prepared Training Outputs for MDNs using EM-Algorithm!\n",
      "======================================================\n",
      "Deep Feature Builder - Ready\n",
      "(0)\n",
      "=====================================================\n",
      "Training Mixture Density Network (MDN): Means: Start!\n",
      "=====================================================\n",
      "Fitting 2 folds for each of 1 candidates, totalling 2 fits\n"
     ]
    },
    {
     "name": "stderr",
     "output_type": "stream",
     "text": [
      "\n",
      "[Parallel(n_jobs=4)]: Using backend LokyBackend with 4 concurrent workers.\n",
      "[Parallel(n_jobs=4)]: Done   2 out of   2 | elapsed:    3.1s remaining:    0.0s\n",
      "[Parallel(n_jobs=4)]: Done   2 out of   2 | elapsed:    3.1s finished\n"
     ]
    },
    {
     "name": "stdout",
     "output_type": "stream",
     "text": [
      "Epoch 1/2\n",
      "30/30 [==============================] - 0s 1ms/step - loss: 0.0563 - mse: 0.0110 - mae: 0.0563 - mape: 43009412.0000\n",
      "Epoch 2/2\n",
      "30/30 [==============================] - 0s 1ms/step - loss: 0.0557 - mse: 0.0109 - mae: 0.0557 - mape: 42449468.0000\n",
      "30/30 [==============================] - 0s 746us/step\n",
      "8/8 [==============================] - 0s 809us/step\n",
      "===================================================\n",
      "Training Mixture Density Network (MDN): Means: END!\n",
      "===================================================\n",
      "(1)\n",
      "===================================================\n",
      "Training Mixture Density Network (MDN): SD: Start!\n",
      "===================================================\n",
      "Fitting 2 folds for each of 1 candidates, totalling 2 fits\n"
     ]
    },
    {
     "name": "stderr",
     "output_type": "stream",
     "text": [
      "[Parallel(n_jobs=4)]: Using backend LokyBackend with 4 concurrent workers.\n",
      "[Parallel(n_jobs=4)]: Done   2 out of   2 | elapsed:    3.3s remaining:    0.0s\n",
      "[Parallel(n_jobs=4)]: Done   2 out of   2 | elapsed:    3.3s finished\n"
     ]
    },
    {
     "name": "stdout",
     "output_type": "stream",
     "text": [
      "Epoch 1/2\n",
      "30/30 [==============================] - 0s 1ms/step - loss: 1.0033 - mse: 1.0098 - mae: 1.0033 - mape: 100327320.0000\n",
      "Epoch 2/2\n",
      "30/30 [==============================] - 0s 1ms/step - loss: 1.0027 - mse: 1.0085 - mae: 1.0027 - mape: 100264936.0000\n",
      "30/30 [==============================] - 0s 655us/step\n",
      "8/8 [==============================] - 0s 746us/step\n",
      "=================================================\n",
      "Training Mixture Density Network (MDN): SD: END!\n",
      "=================================================\n",
      "(2)\n",
      "====================================================================\n",
      "Training Mixture Density Network (MDN): Mixture Coefficients: Start!\n",
      "====================================================================\n",
      "Fitting 2 folds for each of 1 candidates, totalling 2 fits\n"
     ]
    },
    {
     "name": "stderr",
     "output_type": "stream",
     "text": [
      "[Parallel(n_jobs=4)]: Using backend LokyBackend with 4 concurrent workers.\n",
      "[Parallel(n_jobs=4)]: Done   2 out of   2 | elapsed:    3.1s remaining:    0.0s\n",
      "[Parallel(n_jobs=4)]: Done   2 out of   2 | elapsed:    3.1s finished\n"
     ]
    },
    {
     "name": "stdout",
     "output_type": "stream",
     "text": [
      "Epoch 1/2\n",
      "30/30 [==============================] - 0s 1ms/step - loss: 3.6776 - accuracy: 0.7787\n",
      "Epoch 2/2\n",
      "30/30 [==============================] - 0s 1ms/step - loss: 2.1890 - accuracy: 0.9812\n",
      "30/30 [==============================] - 0s 632us/step\n",
      "8/8 [==============================] - 0s 1ms/step\n"
     ]
    },
    {
     "name": "stderr",
     "output_type": "stream",
     "text": [
      "\r",
      "  0%|          | 0/479 [00:00<?, ?it/s]"
     ]
    },
    {
     "name": "stdout",
     "output_type": "stream",
     "text": [
      "==================================================================\n",
      "Training Mixture Density Network (MDN): Mixture Coefficients: END!\n",
      "==================================================================\n",
      "#--------------------#\n",
      " Get Training Error(s)\n",
      "#--------------------#\n"
     ]
    },
    {
     "name": "stderr",
     "output_type": "stream",
     "text": [
      "100%|██████████| 479/479 [00:02<00:00, 186.04it/s]\n",
      " 16%|█▌        | 19/120 [00:00<00:00, 181.74it/s]"
     ]
    },
    {
     "name": "stdout",
     "output_type": "stream",
     "text": [
      "#-------------------------#\n",
      " Get Training Error(s): END\n",
      "#-------------------------#\n",
      "#--------------------#\n",
      " Get Test Error(s)\n",
      "#--------------------#\n"
     ]
    },
    {
     "name": "stderr",
     "output_type": "stream",
     "text": [
      "100%|██████████| 120/120 [00:00<00:00, 183.54it/s]"
     ]
    },
    {
     "name": "stdout",
     "output_type": "stream",
     "text": [
      "#---------------------#\n",
      " Get Test Error(s): END\n",
      "#---------------------#\n",
      "#---------------------------#\n",
      " Get Training Error(s): Begin\n",
      "#---------------------------#\n",
      "#-------------------------#\n",
      " Get Training Error(s): END\n",
      "#-------------------------#\n",
      "#--------------------------#\n",
      " Get Testing Error(s): Begin\n",
      "#--------------------------#\n",
      "#------------------------#\n",
      " Get Testing Error(s): END\n",
      "#------------------------#\n",
      "-------------------------------------------------\n",
      "Updating Performance Metrics Dataframe and Saved!\n",
      "-------------------------------------------------\n",
      "Updated DataFrame\n",
      "-------------------------------------------------\n",
      "Train\n",
      "                                        DNM     MC-Oracle         ENET  \\\n",
      "W1-95L                             0.008006  0.000000e+00            -   \n",
      "W1                                 0.008373  0.000000e+00            -   \n",
      "W1-95R                             0.008952  0.000000e+00            -   \n",
      "M-95L                              0.010786  0.000000e+00   0.00726812   \n",
      "M                                  0.011770  0.000000e+00   0.00770548   \n",
      "M-95R                              0.012559  0.000000e+00   0.00816749   \n",
      "N_Par                          18909.000000  0.000000e+00          958   \n",
      "Train_Time                        21.544275  1.620220e+09  1.62022e+09   \n",
      "Test_Time/MC-Oracle_Test_Time      0.666456  1.000000e+00  0.000914406   \n",
      "\n",
      "                                  KRidge        GBRF        DNN       GPR  \\\n",
      "W1-95L                                 -           -          -  0.026742   \n",
      "W1                                     -           -          -  0.047363   \n",
      "W1-95R                                 -           -          -  0.064547   \n",
      "M-95L                          0.0486667  0.00210335  0.0281057  0.045379   \n",
      "M                              0.0766662  0.00257861  0.0317936  0.057781   \n",
      "M-95R                           0.105086  0.00305558  0.0378587  0.069837   \n",
      "N_Par                                  0      470690        651  0.000000   \n",
      "Train_Time                      0.762621     3.90242    5.11038  6.620785   \n",
      "Test_Time/MC-Oracle_Test_Time  0.0961755   0.0403798    0.58296  0.222001   \n",
      "\n",
      "                                      DGN  \n",
      "W1-95L                           0.930756  \n",
      "W1                               0.941348  \n",
      "W1-95R                           0.954946  \n",
      "M-95L                            0.071870  \n",
      "M                                0.072942  \n",
      "M-95R                            0.074750  \n",
      "N_Par                          651.000000  \n",
      "Train_Time                       4.255152  \n",
      "Test_Time/MC-Oracle_Test_Time    0.565207  \n",
      "-------------------------------------------------\n",
      "Test\n",
      "                                        DNM     MC-Oracle          ENET  \\\n",
      "W1-95L                             0.007710  0.000000e+00  7.633688e-03   \n",
      "W1                                 0.008373  0.000000e+00  8.463183e-03   \n",
      "W1-95R                             0.008952  0.000000e+00  9.630304e-03   \n",
      "M-95L                              0.010786  0.000000e+00  5.672209e-03   \n",
      "M                                  0.011770  0.000000e+00  6.462542e-03   \n",
      "M-95R                              0.012559  0.000000e+00  7.293723e-03   \n",
      "N_Par                          18909.000000  0.000000e+00  9.580000e+02   \n",
      "Train_Time                        21.544275  1.620220e+09  1.620220e+09   \n",
      "Test_Time/MC-Oracle_Test_Time      0.666456  1.000000e+00  9.144058e-04   \n",
      "\n",
      "                                 KRidge           GBRF         DNN       GPR  \\\n",
      "W1-95L                         0.020189       0.007268    0.008595  0.026742   \n",
      "W1                             0.042885       0.008421    0.010016  0.047363   \n",
      "W1-95R                         0.081862       0.009251    0.011057  0.064547   \n",
      "M-95L                          0.048667       0.002103    0.028106  0.045379   \n",
      "M                              0.076666       0.002579    0.031794  0.057781   \n",
      "M-95R                          0.105086       0.003056    0.037859  0.069837   \n",
      "N_Par                          0.000000  470690.000000  651.000000  0.000000   \n",
      "Train_Time                     0.762621       3.902419    5.110375  6.620785   \n",
      "Test_Time/MC-Oracle_Test_Time  0.096176       0.040380    0.582960  0.222001   \n",
      "\n",
      "                                      DGN           MDN  \n",
      "W1-95L                           0.905528      1.004274  \n",
      "W1                               0.930014      1.020559  \n",
      "W1-95R                           0.950431      1.049264  \n",
      "M-95L                            0.063727      0.059280  \n",
      "M                                0.068120      0.063356  \n",
      "M-95R                            0.070762      0.068432  \n",
      "N_Par                          651.000000  16947.000000  \n",
      "Train_Time                       4.255152      0.174989  \n",
      "Test_Time/MC-Oracle_Test_Time    0.565207    754.183479  \n",
      "-------------------------------------------------\n",
      "                                        DNM     MC-Oracle         ENET  \\\n",
      "W1-95L                             0.008006  0.000000e+00            -   \n",
      "W1                                 0.008373  0.000000e+00            -   \n",
      "W1-95R                             0.008952  0.000000e+00            -   \n",
      "M-95L                              0.010786  0.000000e+00   0.00726812   \n",
      "M                                  0.011770  0.000000e+00   0.00770548   \n",
      "M-95R                              0.012559  0.000000e+00   0.00816749   \n",
      "N_Par                          18909.000000  0.000000e+00          958   \n",
      "Train_Time                        21.544275  1.620220e+09  1.62022e+09   \n",
      "Test_Time/MC-Oracle_Test_Time      0.666456  1.000000e+00  0.000914406   \n",
      "\n",
      "                                  KRidge        GBRF        DNN       GPR  \\\n",
      "W1-95L                                 -           -          -  0.026742   \n",
      "W1                                     -           -          -  0.047363   \n",
      "W1-95R                                 -           -          -  0.064547   \n",
      "M-95L                          0.0486667  0.00210335  0.0281057  0.045379   \n",
      "M                              0.0766662  0.00257861  0.0317936  0.057781   \n",
      "M-95R                           0.105086  0.00305558  0.0378587  0.069837   \n",
      "N_Par                                  0      470690        651  0.000000   \n",
      "Train_Time                      0.762621     3.90242    5.11038  6.620785   \n",
      "Test_Time/MC-Oracle_Test_Time  0.0961755   0.0403798    0.58296  0.222001   \n",
      "\n",
      "                                      DGN           MDN  \n",
      "W1-95L                           0.930756      1.004274  \n",
      "W1                               0.941348      1.020559  \n",
      "W1-95R                           0.954946      1.049264  \n",
      "M-95L                            0.071870      0.069465  \n",
      "M                                0.072942      0.072350  \n",
      "M-95R                            0.074750      0.076754  \n",
      "N_Par                          651.000000  16947.000000  \n",
      "Train_Time                       4.255152      0.174989  \n",
      "Test_Time/MC-Oracle_Test_Time    0.565207    754.183479  \n",
      "------------------------------------------------\n",
      "Updated Performance Metrics Dataframe and Saved!\n",
      "------------------------------------------------\n",
      "Have a jolly old day!\n"
     ]
    },
    {
     "name": "stderr",
     "output_type": "stream",
     "text": [
      "\n"
     ]
    }
   ],
   "source": [
    "if output_dim == 1:\n",
    "    # %run Mixture_Density_Network.ipynb\n",
    "    exec(open('Mixture_Density_Network.py').read())"
   ]
  },
  {
   "cell_type": "markdown",
   "metadata": {},
   "source": [
    "## Get Final Outputs\n",
    "Now we piece together all the numerical experiments and report a nice summary."
   ]
  },
  {
   "cell_type": "markdown",
   "metadata": {},
   "source": [
    "---\n",
    "# Final Results\n",
    "---"
   ]
  },
  {
   "cell_type": "markdown",
   "metadata": {},
   "source": [
    "## Prasing Quality Metric Results"
   ]
  },
  {
   "cell_type": "markdown",
   "metadata": {},
   "source": [
    "#### Finalizing Saving\n",
    "**Note:** *We do it in two steps since the grid sometimes does not want to write nicely...*"
   ]
  },
  {
   "cell_type": "code",
   "execution_count": 43,
   "metadata": {},
   "outputs": [],
   "source": [
    "## Write Performance Metrics\n",
    "### Incase caption breaks\n",
    "Summary_pred_Qual_models.to_latex((results_tables_path+\"/Final_Results/\"+\"Performance_metrics_Problem_Type_\"+str(f_unknown_mode)+\"Problemdimension\"+str(problem_dim)+\"__SUMMARY_METRICS.tex\"),\n",
    "                                 float_format=\"{:0.3g}\".format)\n",
    "text_file = open((results_tables_path+\"/Final_Results/\"+\"ZZZ_CAPTION_Performance_metrics_Problem_Type_\"+str(f_unknown_mode)+\"Problemdimension\"+str(problem_dim)+\"__SUMMARY_METRICS___CAPTION.tex\"), \"w\")\n",
    "text_file.write(\"Quality Metrics; d:\"+str(problem_dim)+\", D:\"+str(output_dim)+\", Depth:\"+str(Depth_Bayesian_DNN)+\", Width:\"+str(width)+\", Dropout rate:\"+str(Dropout_rate)+\".\")\n",
    "text_file.close()\n",
    "\n",
    "\n",
    "### Incase caption does not break\n",
    "Summary_pred_Qual_models.to_latex((results_tables_path+\"/Final_Results/\"+\"Performance_metrics_Problem_Type_\"+str(f_unknown_mode)+\"Problemdimension\"+str(problem_dim)+\"__SUMMARY_METRICS.tex\"),\n",
    "                                 caption=(\"Quality Metrics; d:\"+str(problem_dim)+\", D:\"+str(output_dim)+\", Depth:\"+str(Depth_Bayesian_DNN)+\", Width:\"+str(width)+\", Dropout rate:\"+str(Dropout_rate)+\".\"),\n",
    "                                 float_format=\"{:0.3g}\".format)"
   ]
  },
  {
   "cell_type": "markdown",
   "metadata": {},
   "source": [
    "# For Terminal Runner(s):"
   ]
  },
  {
   "cell_type": "code",
   "execution_count": 44,
   "metadata": {},
   "outputs": [
    {
     "name": "stdout",
     "output_type": "stream",
     "text": [
      "===================\n",
      "Predictive Quality:\n",
      "===================\n",
      "                                        DNM     MC-Oracle         ENET  \\\n",
      "W1-95L                             0.008006  0.000000e+00            -   \n",
      "W1                                 0.008373  0.000000e+00            -   \n",
      "W1-95R                             0.008952  0.000000e+00            -   \n",
      "M-95L                              0.010786  0.000000e+00   0.00726812   \n",
      "M                                  0.011770  0.000000e+00   0.00770548   \n",
      "M-95R                              0.012559  0.000000e+00   0.00816749   \n",
      "N_Par                          18909.000000  0.000000e+00          958   \n",
      "Train_Time                        21.544275  1.620220e+09  1.62022e+09   \n",
      "Test_Time/MC-Oracle_Test_Time      0.666456  1.000000e+00  0.000914406   \n",
      "\n",
      "                                  KRidge        GBRF        DNN       GPR  \\\n",
      "W1-95L                                 -           -          -  0.026742   \n",
      "W1                                     -           -          -  0.047363   \n",
      "W1-95R                                 -           -          -  0.064547   \n",
      "M-95L                          0.0486667  0.00210335  0.0281057  0.045379   \n",
      "M                              0.0766662  0.00257861  0.0317936  0.057781   \n",
      "M-95R                           0.105086  0.00305558  0.0378587  0.069837   \n",
      "N_Par                                  0      470690        651  0.000000   \n",
      "Train_Time                      0.762621     3.90242    5.11038  6.620785   \n",
      "Test_Time/MC-Oracle_Test_Time  0.0961755   0.0403798    0.58296  0.222001   \n",
      "\n",
      "                                      DGN           MDN  \n",
      "W1-95L                           0.930756      1.004274  \n",
      "W1                               0.941348      1.020559  \n",
      "W1-95R                           0.954946      1.049264  \n",
      "M-95L                            0.071870      0.069465  \n",
      "M                                0.072942      0.072350  \n",
      "M-95R                            0.074750      0.076754  \n",
      "N_Par                          651.000000  16947.000000  \n",
      "Train_Time                       4.255152      0.174989  \n",
      "Test_Time/MC-Oracle_Test_Time    0.565207    754.183479  \n",
      "===================\n",
      " \n",
      " \n",
      " \n",
      "Kernel_Used_in_GPR: RBF(length_scale=1)\n",
      "🙃🙃 Have a wonderful day! 🙃🙃\n"
     ]
    },
    {
     "data": {
      "text/html": [
       "<div>\n",
       "<style scoped>\n",
       "    .dataframe tbody tr th:only-of-type {\n",
       "        vertical-align: middle;\n",
       "    }\n",
       "\n",
       "    .dataframe tbody tr th {\n",
       "        vertical-align: top;\n",
       "    }\n",
       "\n",
       "    .dataframe thead th {\n",
       "        text-align: right;\n",
       "    }\n",
       "</style>\n",
       "<table border=\"1\" class=\"dataframe\">\n",
       "  <thead>\n",
       "    <tr style=\"text-align: right;\">\n",
       "      <th></th>\n",
       "      <th>DNM</th>\n",
       "      <th>MC-Oracle</th>\n",
       "      <th>ENET</th>\n",
       "      <th>KRidge</th>\n",
       "      <th>GBRF</th>\n",
       "      <th>DNN</th>\n",
       "      <th>GPR</th>\n",
       "      <th>DGN</th>\n",
       "      <th>MDN</th>\n",
       "    </tr>\n",
       "  </thead>\n",
       "  <tbody>\n",
       "    <tr>\n",
       "      <th>W1-95L</th>\n",
       "      <td>0.008006</td>\n",
       "      <td>0.000000e+00</td>\n",
       "      <td>-</td>\n",
       "      <td>-</td>\n",
       "      <td>-</td>\n",
       "      <td>-</td>\n",
       "      <td>0.026742</td>\n",
       "      <td>0.930756</td>\n",
       "      <td>1.004274</td>\n",
       "    </tr>\n",
       "    <tr>\n",
       "      <th>W1</th>\n",
       "      <td>0.008373</td>\n",
       "      <td>0.000000e+00</td>\n",
       "      <td>-</td>\n",
       "      <td>-</td>\n",
       "      <td>-</td>\n",
       "      <td>-</td>\n",
       "      <td>0.047363</td>\n",
       "      <td>0.941348</td>\n",
       "      <td>1.020559</td>\n",
       "    </tr>\n",
       "    <tr>\n",
       "      <th>W1-95R</th>\n",
       "      <td>0.008952</td>\n",
       "      <td>0.000000e+00</td>\n",
       "      <td>-</td>\n",
       "      <td>-</td>\n",
       "      <td>-</td>\n",
       "      <td>-</td>\n",
       "      <td>0.064547</td>\n",
       "      <td>0.954946</td>\n",
       "      <td>1.049264</td>\n",
       "    </tr>\n",
       "    <tr>\n",
       "      <th>M-95L</th>\n",
       "      <td>0.010786</td>\n",
       "      <td>0.000000e+00</td>\n",
       "      <td>0.00726812</td>\n",
       "      <td>0.0486667</td>\n",
       "      <td>0.00210335</td>\n",
       "      <td>0.0281057</td>\n",
       "      <td>0.045379</td>\n",
       "      <td>0.071870</td>\n",
       "      <td>0.069465</td>\n",
       "    </tr>\n",
       "    <tr>\n",
       "      <th>M</th>\n",
       "      <td>0.011770</td>\n",
       "      <td>0.000000e+00</td>\n",
       "      <td>0.00770548</td>\n",
       "      <td>0.0766662</td>\n",
       "      <td>0.00257861</td>\n",
       "      <td>0.0317936</td>\n",
       "      <td>0.057781</td>\n",
       "      <td>0.072942</td>\n",
       "      <td>0.072350</td>\n",
       "    </tr>\n",
       "    <tr>\n",
       "      <th>M-95R</th>\n",
       "      <td>0.012559</td>\n",
       "      <td>0.000000e+00</td>\n",
       "      <td>0.00816749</td>\n",
       "      <td>0.105086</td>\n",
       "      <td>0.00305558</td>\n",
       "      <td>0.0378587</td>\n",
       "      <td>0.069837</td>\n",
       "      <td>0.074750</td>\n",
       "      <td>0.076754</td>\n",
       "    </tr>\n",
       "    <tr>\n",
       "      <th>N_Par</th>\n",
       "      <td>18909.000000</td>\n",
       "      <td>0.000000e+00</td>\n",
       "      <td>958</td>\n",
       "      <td>0</td>\n",
       "      <td>470690</td>\n",
       "      <td>651</td>\n",
       "      <td>0.000000</td>\n",
       "      <td>651.000000</td>\n",
       "      <td>16947.000000</td>\n",
       "    </tr>\n",
       "    <tr>\n",
       "      <th>Train_Time</th>\n",
       "      <td>21.544275</td>\n",
       "      <td>1.620220e+09</td>\n",
       "      <td>1.62022e+09</td>\n",
       "      <td>0.762621</td>\n",
       "      <td>3.90242</td>\n",
       "      <td>5.11038</td>\n",
       "      <td>6.620785</td>\n",
       "      <td>4.255152</td>\n",
       "      <td>0.174989</td>\n",
       "    </tr>\n",
       "    <tr>\n",
       "      <th>Test_Time/MC-Oracle_Test_Time</th>\n",
       "      <td>0.666456</td>\n",
       "      <td>1.000000e+00</td>\n",
       "      <td>0.000914406</td>\n",
       "      <td>0.0961755</td>\n",
       "      <td>0.0403798</td>\n",
       "      <td>0.58296</td>\n",
       "      <td>0.222001</td>\n",
       "      <td>0.565207</td>\n",
       "      <td>754.183479</td>\n",
       "    </tr>\n",
       "  </tbody>\n",
       "</table>\n",
       "</div>"
      ],
      "text/plain": [
       "                                        DNM     MC-Oracle         ENET  \\\n",
       "W1-95L                             0.008006  0.000000e+00            -   \n",
       "W1                                 0.008373  0.000000e+00            -   \n",
       "W1-95R                             0.008952  0.000000e+00            -   \n",
       "M-95L                              0.010786  0.000000e+00   0.00726812   \n",
       "M                                  0.011770  0.000000e+00   0.00770548   \n",
       "M-95R                              0.012559  0.000000e+00   0.00816749   \n",
       "N_Par                          18909.000000  0.000000e+00          958   \n",
       "Train_Time                        21.544275  1.620220e+09  1.62022e+09   \n",
       "Test_Time/MC-Oracle_Test_Time      0.666456  1.000000e+00  0.000914406   \n",
       "\n",
       "                                  KRidge        GBRF        DNN       GPR  \\\n",
       "W1-95L                                 -           -          -  0.026742   \n",
       "W1                                     -           -          -  0.047363   \n",
       "W1-95R                                 -           -          -  0.064547   \n",
       "M-95L                          0.0486667  0.00210335  0.0281057  0.045379   \n",
       "M                              0.0766662  0.00257861  0.0317936  0.057781   \n",
       "M-95R                           0.105086  0.00305558  0.0378587  0.069837   \n",
       "N_Par                                  0      470690        651  0.000000   \n",
       "Train_Time                      0.762621     3.90242    5.11038  6.620785   \n",
       "Test_Time/MC-Oracle_Test_Time  0.0961755   0.0403798    0.58296  0.222001   \n",
       "\n",
       "                                      DGN           MDN  \n",
       "W1-95L                           0.930756      1.004274  \n",
       "W1                               0.941348      1.020559  \n",
       "W1-95R                           0.954946      1.049264  \n",
       "M-95L                            0.071870      0.069465  \n",
       "M                                0.072942      0.072350  \n",
       "M-95R                            0.074750      0.076754  \n",
       "N_Par                          651.000000  16947.000000  \n",
       "Train_Time                       4.255152      0.174989  \n",
       "Test_Time/MC-Oracle_Test_Time    0.565207    754.183479  "
      ]
     },
     "execution_count": 44,
     "metadata": {},
     "output_type": "execute_result"
    }
   ],
   "source": [
    "# For Terminal Running\n",
    "print(\"===================\")\n",
    "print(\"Predictive Quality:\")\n",
    "print(\"===================\")\n",
    "print(Summary_pred_Qual_models)\n",
    "print(\"===================\")\n",
    "print(\" \")\n",
    "print(\" \")\n",
    "print(\" \")\n",
    "print(\"Kernel_Used_in_GPR: \"+str(GPR_trash.kernel))\n",
    "print(\"🙃🙃 Have a wonderful day! 🙃🙃\")\n",
    "Summary_pred_Qual_models"
   ]
  },
  {
   "cell_type": "markdown",
   "metadata": {},
   "source": [
    "---\n",
    "# Fin\n",
    "---"
   ]
  },
  {
   "cell_type": "markdown",
   "metadata": {},
   "source": [
    "---"
   ]
  }
 ],
 "metadata": {
  "kernelspec": {
   "display_name": "Python 3",
   "language": "python",
   "name": "python3"
  },
  "language_info": {
   "codemirror_mode": {
    "name": "ipython",
    "version": 3
   },
   "file_extension": ".py",
   "mimetype": "text/x-python",
   "name": "python",
   "nbconvert_exporter": "python",
   "pygments_lexer": "ipython3",
   "version": "3.7.7"
  }
 },
 "nbformat": 4,
 "nbformat_minor": 2
}
