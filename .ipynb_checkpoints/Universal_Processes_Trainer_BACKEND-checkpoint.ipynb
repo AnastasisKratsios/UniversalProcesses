{
 "cells": [
  {
   "cell_type": "markdown",
   "metadata": {},
   "source": [
    "# Universal $\\mathcal{P}_1(\\mathbb{R})$-Deep Neural Model (Type A)\n",
    "---"
   ]
  },
  {
   "cell_type": "markdown",
   "metadata": {},
   "source": [
    "---\n",
    "# Training Algorithm:\n",
    "---\n",
    "## 1) Generate Data:\n",
    "Generates the empirical measure $\\sum_{n=1}^N \\delta_{X_T(\\omega_n)}$ of $X_T$ conditional on $X_0=x_0\\in \\mathbb{R}$ *($x_0$ and $T>0$ are user-provided)* by simulating from:\n",
    "$$ \n",
    "X_T = x + \\int_0^T \\alpha(s,x)ds + \\int_0^T(\\beta(s,x)+\\sigma_s^H)dW_s.\n",
    "$$\n",
    "\n",
    "## 2) Get \"Sample Barycenters\":\n",
    "Let $\\{\\mu_n\\}_{n=1}^N\\subset\\mathcal{P}_1(\\mathbb{R}^d)$.  Then, the *sample barycenter* is defined by:\n",
    "1. $\\mathcal{M}^{(0)}\\triangleq \\left\\{\\hat{\\mu}_n\\right\\}_{n=1}^N$,\n",
    "2. For $1\\leq n\\leq \\mbox{N sample barycenters}$: \n",
    "    - $\n",
    "\\mu^{\\star}\\in \\underset{\\tilde{\\mu}\\in \\mathcal{M}^{(n)}}{\\operatorname{argmin}}\\, \\sum_{n=1}^N \\mathcal{W}_1\\left(\\mu^{\\star},\\mu_n\\right),\n",
    "$\n",
    "    - $\\mathcal{M}^{(n)}\\triangleq \\mathcal{M}^{(n-1)} - \\{\\mu^{\\star}\\},$\n",
    "*i.e., the closest generated measure form the random sample to all other elements of the random sample.*\n",
    "\n",
    "---\n",
    "**Note:** *We simplify the computational burden of getting the correct classes by putting this right into this next loop.*\n",
    "\n",
    "## 3) Train Deep Classifier:\n",
    "$\\hat{f}\\in \\operatorname{argmin}_{f \\in \\mathcal{NN}_{d:N}^{\\star}} \n",
    "\\sum_{x \\in \\mathbb{X}}\n",
    "\\, \n",
    "\\mathbb{H}\n",
    "\\left(\n",
    "    \\operatorname{Softmax}_N\\circ f(x)_n| I\\left\\{W_1(\\hat{\\mu}_n,\\mu_x),\\inf_{m\\leq N} W_1(\\hat{\\mu}_m,\\mu_x)\\right\\}\n",
    "\\right);\n",
    "$\n",
    "where $\\mathbb{H}$ is the categorical cross-entropy.  \n",
    "\n",
    "---\n",
    "---\n",
    "---\n",
    "## Notes - Why the procedure is so computationally efficient?\n",
    "---\n",
    " - The sample barycenters do not require us to solve for any new Wasserstein-1 Barycenters; which is much more computationally costly,\n",
    " - Our training procedure never back-propages through $\\mathcal{W}_1$ since steps 2 and 3 are full-decoupled.  Therefore, training our deep classifier is (comparatively) cheap since it takes values in the standard $N$-simplex.\n",
    "\n",
    "---"
   ]
  },
  {
   "cell_type": "markdown",
   "metadata": {},
   "source": [
    "## Meta-Parameters"
   ]
  },
  {
   "cell_type": "markdown",
   "metadata": {},
   "source": [
    "### Visualization"
   ]
  },
  {
   "cell_type": "code",
   "execution_count": 1,
   "metadata": {},
   "outputs": [],
   "source": [
    "# How many random polulations to visualize:\n",
    "Visualization_Size = 4"
   ]
  },
  {
   "cell_type": "markdown",
   "metadata": {},
   "source": [
    "### Quantization\n",
    "*This hyperparameter describes the proportion of the data used as sample-barycenters.*"
   ]
  },
  {
   "cell_type": "code",
   "execution_count": 2,
   "metadata": {},
   "outputs": [],
   "source": [
    "Quantization_Proportion = 0.75"
   ]
  },
  {
   "cell_type": "markdown",
   "metadata": {},
   "source": [
    "### Simulation"
   ]
  },
  {
   "cell_type": "code",
   "execution_count": 4,
   "metadata": {},
   "outputs": [],
   "source": [
    "## Monte-Carlo\n",
    "N_Euler_Maruyama_Steps = 5\n",
    "N_Monte_Carlo_Samples = 10**1\n",
    "N_Monte_Carlo_Samples_Test = 10**1 # How many MC-samples to draw from test-set?\n",
    "\n",
    "# Roughness\n",
    "Rougness = 0.1\n",
    "Ratio_fBM_to_typical_vol = 0.1\n",
    "\n",
    "T_end = 1\n",
    "Direct_Sampling = True #This hyperparameter determines if we use a Euler-Maryama scheme or if we use something else.  \n",
    "\n",
    "## Grid\n",
    "N_Grid_Finess = 5\n",
    "Max_Grid = 1"
   ]
  },
  {
   "cell_type": "markdown",
   "metadata": {},
   "source": [
    "**Note**: Setting *N_Quantizers_to_parameterize* prevents any barycenters and sub-sampling."
   ]
  },
  {
   "cell_type": "markdown",
   "metadata": {},
   "source": [
    "#### Mode: Code-Testin Parameter(s)"
   ]
  },
  {
   "cell_type": "code",
   "execution_count": 5,
   "metadata": {},
   "outputs": [],
   "source": [
    "trial_run = True"
   ]
  },
  {
   "cell_type": "markdown",
   "metadata": {},
   "source": [
    "### Meta-parameters"
   ]
  },
  {
   "cell_type": "code",
   "execution_count": 6,
   "metadata": {},
   "outputs": [],
   "source": [
    "# Test-size Ratio\n",
    "test_size_ratio = .75"
   ]
  },
  {
   "cell_type": "markdown",
   "metadata": {},
   "source": [
    "## SDE Simulation Hyper-Parameter(s)"
   ]
  },
  {
   "cell_type": "markdown",
   "metadata": {},
   "source": [
    "### Drift"
   ]
  },
  {
   "cell_type": "code",
   "execution_count": 7,
   "metadata": {},
   "outputs": [],
   "source": [
    "def alpha(t,x):\n",
    "    return t*np.sin(math.pi*x) #+ np.exp(-t)"
   ]
  },
  {
   "cell_type": "markdown",
   "metadata": {},
   "source": [
    "### Volatility"
   ]
  },
  {
   "cell_type": "code",
   "execution_count": 8,
   "metadata": {},
   "outputs": [],
   "source": [
    "def beta(t,x):\n",
    "    return (1+t) + np.cos(x)"
   ]
  },
  {
   "cell_type": "markdown",
   "metadata": {},
   "source": [
    "### Get Paths"
   ]
  },
  {
   "cell_type": "code",
   "execution_count": 9,
   "metadata": {},
   "outputs": [],
   "source": [
    "# load dataset\n",
    "results_path = \"./outputs/models/\"\n",
    "results_tables_path = \"./outputs/results/\"\n",
    "raw_data_path_folder = \"./inputs/raw/\"\n",
    "data_path_folder = \"./inputs/data/\""
   ]
  },
  {
   "cell_type": "markdown",
   "metadata": {},
   "source": [
    "### Import"
   ]
  },
  {
   "cell_type": "code",
   "execution_count": 10,
   "metadata": {},
   "outputs": [
    {
     "name": "stderr",
     "output_type": "stream",
     "text": [
      "Using TensorFlow backend.\n"
     ]
    },
    {
     "name": "stdout",
     "output_type": "stream",
     "text": [
      "Deep Feature Builder - Ready\n",
      "Deep Classifier - Ready\n"
     ]
    }
   ],
   "source": [
    "# Load Packages/Modules\n",
    "exec(open('Init_Dump.py').read())\n",
    "# Load Hyper-parameter Grid\n",
    "exec(open('CV_Grid.py').read())\n",
    "# Load Helper Function(s)\n",
    "# %run ParaGAN_Backend.ipynb\n",
    "exec(open('Helper_Functions.py').read())\n",
    "# Import time separately\n",
    "import time"
   ]
  },
  {
   "cell_type": "markdown",
   "metadata": {},
   "source": [
    "### Set Seed"
   ]
  },
  {
   "cell_type": "code",
   "execution_count": 11,
   "metadata": {},
   "outputs": [],
   "source": [
    "random.seed(2021)\n",
    "np.random.seed(2021)\n",
    "tf.random.set_seed(2021)"
   ]
  },
  {
   "cell_type": "markdown",
   "metadata": {},
   "source": [
    "## Get Internal (Hyper)-Parameter(s)\n",
    "*Initialize the hyperparameters which are fully-specified by the user-provided hyperparameter(s).*"
   ]
  },
  {
   "cell_type": "markdown",
   "metadata": {},
   "source": [
    "### Initialize Grid\n",
    "This is $\\mathbb{X}$ and it represents the grid of initial states."
   ]
  },
  {
   "cell_type": "code",
   "execution_count": 12,
   "metadata": {},
   "outputs": [
    {
     "name": "stdout",
     "output_type": "stream",
     "text": [
      "• Grid Instances:  5 and : 4  Testing instances.\n"
     ]
    }
   ],
   "source": [
    "# Get Input Data\n",
    "#----------------------------------------------------------#\n",
    "## Train\n",
    "x_Grid = np.arange(start=-Max_Grid,\n",
    "                   stop=Max_Grid,\n",
    "                   step=(2*Max_Grid/N_Grid_Finess))\n",
    "## Get Number of Instances in Grid: Training\n",
    "N_Grid_Instances = len(x_Grid)\n",
    "\n",
    "#----------------------------------------------------------#\n",
    "## Test\n",
    "x_Grid_test = np.sort(np.random.uniform(low=-Max_Grid,\n",
    "                                        high=Max_Grid,\n",
    "                                        size = round(N_Grid_Instances*test_size_ratio)))\n",
    "# Get Number of Instances in Grid: Test\n",
    "N_Grid_Instances_test = len(x_Grid_test)\n",
    "#----------------------------------------------------------#\n",
    "\n",
    "# Updater User\n",
    "print(\"\\u2022 Grid Instances: \", N_Grid_Instances, \"and :\",N_Grid_Instances_test,\" Testing instances.\")"
   ]
  },
  {
   "cell_type": "markdown",
   "metadata": {},
   "source": [
    "### Initialize Counting Parameters\n",
    "Initialize the \"conting\" type parameters which will help us to determine the length of loops and to intialize object's size later on.  "
   ]
  },
  {
   "cell_type": "code",
   "execution_count": 13,
   "metadata": {},
   "outputs": [
    {
     "name": "stdout",
     "output_type": "stream",
     "text": [
      "• 4  Centers will be produced; from a total datasize of:  5 !  (That's  0.75  percent).\n",
      "• Each Wasserstein-1 Ball should contain:  1 elements from the training set.\n"
     ]
    }
   ],
   "source": [
    "# Get Internal (Counting) Parameters\n",
    "N_Quantizers_to_parameterize = round(Quantization_Proportion*N_Grid_Finess)\n",
    "N_Elements_Per_Cluster = int(round(N_Grid_Instances/N_Quantizers_to_parameterize))\n",
    "\n",
    "# Update User\n",
    "print(\"\\u2022\",N_Quantizers_to_parameterize,\" Centers will be produced; from a total datasize of: \",N_Grid_Finess,\n",
    "      \"!  (That's \",Quantization_Proportion,\n",
    "      \" percent).\")\n",
    "print(\"\\u2022 Each Wasserstein-1 Ball should contain: \",\n",
    "      N_Elements_Per_Cluster, \n",
    "      \"elements from the training set.\")"
   ]
  },
  {
   "cell_type": "markdown",
   "metadata": {},
   "source": [
    "---"
   ]
  },
  {
   "cell_type": "markdown",
   "metadata": {},
   "source": [
    "### Simulate \"Rough\" SDE:\n",
    "$d X_t = \\alpha(t,x)dt + (\\beta(t,x)+\\sigma_t^H)dW_t ;\\qquad X_0 =x$\n",
    "Where $(\\sigma_t^H)_t$ is a fBM with Hurst parameter $H=0.01$.  "
   ]
  },
  {
   "cell_type": "markdown",
   "metadata": {},
   "source": [
    "### Define Sampler - Data-Generator"
   ]
  },
  {
   "cell_type": "markdown",
   "metadata": {},
   "source": [
    "Generates the empirical measure $\\sum_{n=1}^N \\delta_{X_T(\\omega_n)}$ of $X_T$ conditional on $X_0=x_0\\in \\mathbb{R}$ *($x_0$ and $T>0$ are user-provided)*."
   ]
  },
  {
   "cell_type": "code",
   "execution_count": 14,
   "metadata": {},
   "outputs": [],
   "source": [
    "def Euler_Maruyama_Generator(x_0,\n",
    "                             N_Euler_Maruyama_Steps = 100,\n",
    "                             N_Monte_Carlo_Samples = 100,\n",
    "                             T = 1,\n",
    "                             Hurst = 0.01,\n",
    "                             Ratio_fBM_to_typical_vol = 0.5): \n",
    "    \n",
    "    #----------------------------#    \n",
    "    # DEFINE INTERNAL PARAMETERS #\n",
    "    #----------------------------#\n",
    "    # Initialize Empirical Measure\n",
    "    X_T_Empirical = np.zeros(N_Monte_Carlo_Samples)\n",
    "\n",
    "\n",
    "    # Internal Initialization(s)\n",
    "    ## Initialize current state\n",
    "    n_sample = 0\n",
    "    ## Initialize Incriments\n",
    "    dt = T/N_Euler_Maruyama_Steps\n",
    "    sqrt_dt = np.sqrt(dt)\n",
    "\n",
    "    #-----------------------------#    \n",
    "    # Generate Monte-Carlo Sample #\n",
    "    #-----------------------------#\n",
    "    while n_sample < N_Monte_Carlo_Samples:\n",
    "        # Reset Step Counter\n",
    "        t = 1\n",
    "        # Initialize Current State \n",
    "        X_current = x_0\n",
    "        # Generate roughness\n",
    "        sigma_rough = FBM(n=N_Euler_Maruyama_Steps, hurst=0.75, length=1, method='daviesharte').fbm()\n",
    "        # Perform Euler-Maruyama Simulation\n",
    "        while t<N_Euler_Maruyama_Steps:\n",
    "            # Update Internal Parameters\n",
    "            ## Get Current Time\n",
    "            t_current = t*(T/N_Euler_Maruyama_Steps)\n",
    "\n",
    "            # Update Generated Path\n",
    "            drift_t = alpha(t_current,X_current)*dt\n",
    "            vol_t = ((1-Ratio_fBM_to_typical_vol)*beta(t_current,X_current)+Ratio_fBM_to_typical_vol*(sigma_rough[t]))*np.random.normal(0,sqrt_dt)\n",
    "            X_current = X_current + drift_t + vol_t\n",
    "\n",
    "            # Update Counter (EM)\n",
    "            t = t+1\n",
    "\n",
    "        # Update Empirical Measure\n",
    "        X_T_Empirical[n_sample] = X_current\n",
    "\n",
    "        # Update Counter (MC)\n",
    "        n_sample = n_sample + 1\n",
    "\n",
    "    return X_T_Empirical"
   ]
  },
  {
   "cell_type": "markdown",
   "metadata": {},
   "source": [
    "---"
   ]
  },
  {
   "cell_type": "markdown",
   "metadata": {},
   "source": [
    "### Initializations"
   ]
  },
  {
   "cell_type": "code",
   "execution_count": 15,
   "metadata": {},
   "outputs": [],
   "source": [
    "# Initialize List of Barycenters\n",
    "Wasserstein_Barycenters = []\n",
    "# Initialize Terminal-Time Empirical Measures\n",
    "## Training Outputs\n",
    "measures_locations_list = []\n",
    "measures_weights_list = []\n",
    "## Testing Outputs\n",
    "measures_locations_test_list = []\n",
    "measures_weights_test_list = []\n",
    "\n",
    "# Initialize (Empirical) Weight(s)\n",
    "measure_weights = np.ones(N_Monte_Carlo_Samples)/N_Monte_Carlo_Samples\n",
    "measure_weights_test = np.ones(N_Monte_Carlo_Samples_Test)/N_Monte_Carlo_Samples_Test\n",
    "# Initialize Quantizer\n",
    "Init_Quantizer_generic = np.ones(N_Monte_Carlo_Samples)/N_Monte_Carlo_Samples"
   ]
  },
  {
   "cell_type": "markdown",
   "metadata": {},
   "source": [
    "## Generate $\\{\\hat{\\nu}^{N}_{T,x}\\}_{x \\in \\mathbb{X}}$ Build Wasserstein Cover"
   ]
  },
  {
   "cell_type": "markdown",
   "metadata": {},
   "source": [
    "#### Get Data"
   ]
  },
  {
   "cell_type": "code",
   "execution_count": 16,
   "metadata": {},
   "outputs": [
    {
     "name": "stderr",
     "output_type": "stream",
     "text": [
      "100%|██████████| 5/5 [00:00<00:00, 6584.46it/s]\n",
      "100%|██████████| 4/4 [00:00<00:00, 3222.05it/s]"
     ]
    },
    {
     "name": "stdout",
     "output_type": "stream",
     "text": [
      "Current Monte-Carlo Step:\n",
      "Using Euler-Maruyama distritization + Monte-Carlo Sampling.\n",
      "===================================\n",
      "Start Simulation Step: Training Set\n",
      "===================================\n",
      "==================================\n",
      "Done Simulation Step: Training Set\n",
      "==================================\n",
      "===============================\n",
      "Start Simulation Step: Test Set\n",
      "===============================\n",
      "===============================\n",
      "Start Simulation Step: Test Set\n",
      "===============================\n"
     ]
    },
    {
     "name": "stderr",
     "output_type": "stream",
     "text": [
      "\n"
     ]
    }
   ],
   "source": [
    "# Update User\n",
    "print(\"Current Monte-Carlo Step:\")\n",
    "if Direct_Sampling == True:\n",
    "    print(\"Using Euler-Maruyama distritization + Monte-Carlo Sampling.\")\n",
    "else:\n",
    "    print(\"Using Monte-Carlo Sampling directly from measure at time-T of X_T.\")\n",
    "\n",
    "print(\"===================================\")\n",
    "print(\"Start Simulation Step: Training Set\")\n",
    "print(\"===================================\")\n",
    "# Perform Monte-Carlo Data Generation\n",
    "for i in tqdm(range(N_Grid_Instances)):\n",
    "    # Get Terminal Distribution Shape\n",
    "    ###\n",
    "    \n",
    "    if Direct_Sampling == True:\n",
    "        # DIRECT SAMPLING\n",
    "        measures_locations_loop = (np.random.normal(alpha(1,x_Grid[i]),\n",
    "                                                    beta(1,x_Grid[i]),\n",
    "                                                    N_Monte_Carlo_Samples).reshape(-1,))/N_Monte_Carlo_Samples\n",
    "    else:\n",
    "        measures_locations_loop = Euler_Maruyama_Generator(x_0=x_Grid[i],\n",
    "                                                           N_Euler_Maruyama_Steps = N_Euler_Maruyama_Steps,\n",
    "                                                           N_Monte_Carlo_Samples = N_Monte_Carlo_Samples,\n",
    "                                                           T = T_end,\n",
    "                                                           Hurst=Rougness,\n",
    "                                                           Ratio_fBM_to_typical_vol=Ratio_fBM_to_typical_vol)\n",
    "    \n",
    "    # Append to List\n",
    "    measures_locations_list.append(measures_locations_loop.reshape(-1,1))\n",
    "    measures_weights_list.append(measure_weights)\n",
    "    \n",
    "# Update User\n",
    "print(\"==================================\")\n",
    "print(\"Done Simulation Step: Training Set\")\n",
    "print(\"==================================\")\n",
    "\n",
    "#----------------------------------------------------------------------------------------------#\n",
    "\n",
    "# Perform Monte-Carlo Data Generation\n",
    "print(\"===============================\")\n",
    "print(\"Start Simulation Step: Test Set\")\n",
    "print(\"===============================\")\n",
    "for i in tqdm(range(N_Grid_Instances_test)):\n",
    "    # Get Terminal Distribution Shape\n",
    "    ###\n",
    "    \n",
    "     \n",
    "    if Direct_Sampling == True:\n",
    "        # DIRECT SAMPLING\n",
    "        measures_locations_test_loop = (np.random.normal(alpha(1,x_Grid[i]),\n",
    "                                                    beta(1,x_Grid[i]),\n",
    "                                                    N_Monte_Carlo_Samples_Test).reshape(-1,))/N_Monte_Carlo_Samples_Test\n",
    "    else:\n",
    "        measures_locations_test_loop = Euler_Maruyama_Generator(x_0=x_Grid[i],\n",
    "                                                                N_Euler_Maruyama_Steps = N_Euler_Maruyama_Steps,\n",
    "                                                                N_Monte_Carlo_Samples = N_Monte_Carlo_Samples_Test,\n",
    "                                                                T = T_end,\n",
    "                                                                Hurst=Rougness,\n",
    "                                                                Ratio_fBM_to_typical_vol=Ratio_fBM_to_typical_vol)\n",
    "    \n",
    "    \n",
    "    # Append to List\n",
    "    measures_locations_test_list.append(measures_locations_test_loop.reshape(-1,1))\n",
    "    measures_weights_test_list.append(measure_weights_test)\n",
    "    \n",
    "# Update User\n",
    "print(\"===============================\")\n",
    "print(\"Start Simulation Step: Test Set\")\n",
    "print(\"===============================\")"
   ]
  },
  {
   "cell_type": "markdown",
   "metadata": {},
   "source": [
    "#### Start Timer (Model Type A)"
   ]
  },
  {
   "cell_type": "code",
   "execution_count": 17,
   "metadata": {},
   "outputs": [],
   "source": [
    "# Start Timer\n",
    "Type_A_timer_Begin = time.time()"
   ]
  },
  {
   "cell_type": "markdown",
   "metadata": {},
   "source": [
    "## Get \"Sample Barycenters\":\n",
    "Let $\\{\\mu_n\\}_{n=1}^N\\subset\\mathcal{P}_1(\\mathbb{R}^d)$.  Then, the *sample barycenter* is defined by:\n",
    "1. $\\mathcal{M}^{(0)}\\triangleq \\left\\{\\hat{\\mu}_n\\right\\}_{n=1}^N$,\n",
    "2. For $1\\leq n\\leq \\mbox{N sample barycenters}$: \n",
    "    - $\n",
    "\\mu^{\\star}\\in \\underset{\\tilde{\\mu}\\in \\mathcal{M}^{(n)}}{\\operatorname{argmin}}\\, \\sum_{n=1}^N \\mathcal{W}_1\\left(\\mu^{\\star},\\mu_n\\right),\n",
    "$\n",
    "    - $\\mathcal{M}^{(n)}\\triangleq \\mathcal{M}^{(n-1)} - \\{\\mu^{\\star}\\},$\n",
    "*i.e., the closest generated measure form the random sample to all other elements of the random sample.*\n",
    "\n",
    "---\n",
    "**Note:** *We simplify the computational burden of getting the correct classes by putting this right into this next loop.*\n",
    "\n",
    "---"
   ]
  },
  {
   "cell_type": "markdown",
   "metadata": {},
   "source": [
    "## Build Dissimilarity (Distance) Matrix\n",
    "*In this step we build a dissimularity matrix of the dataset on the Wasserstein-1 space.  Namely:*\n",
    "$$\n",
    "\\operatorname{Mat}_{\\# \\mathbb{X},\\# \\mathbb{X}}\\left(\\mathbb{R}\\right)\\ni D; \\text{ where}\\qquad \\, D_{i,j}\\triangleq \\mathcal{W}_1\\left(f(x_i),f(x_j)\\right)\n",
    ";\n",
    "$$\n",
    "*where $f\\in C\\left((\\mathcal{X},\\mathcal{P}_1(\\mathcal{Y})\\right)$ is the \"target\" function we are learning.*\n",
    "\n",
    "**Note**: *Computing the dissimularity matrix is the most costly part of the entire algorithm with a complexity of at-most $\\mathcal{O}\\left(E_{W} \\# \\mathbb{X})^2\\right)$ where $E_W$ denotes the complexity of a single Wasserstein-1 evaluation between two elements of the dataset.*"
   ]
  },
  {
   "cell_type": "code",
   "execution_count": 18,
   "metadata": {},
   "outputs": [
    {
     "name": "stderr",
     "output_type": "stream",
     "text": [
      "100%|██████████| 5/5 [00:00<00:00, 198.72it/s]"
     ]
    },
    {
     "name": "stdout",
     "output_type": "stream",
     "text": [
      "😚  Begin Building Distance Matrix  😚\n",
      "😀  Done Building Distance Matrix 😀 !\n"
     ]
    },
    {
     "name": "stderr",
     "output_type": "stream",
     "text": [
      "\n"
     ]
    }
   ],
   "source": [
    "# Initialize Disimilarity Matrix\n",
    "Dissimilarity_matrix_ot = np.zeros([N_Grid_Instances,N_Grid_Instances])\n",
    "\n",
    "\n",
    "# Update User\n",
    "print(\"\\U0001F61A\",\" Begin Building Distance Matrix\",\" \\U0001F61A\")\n",
    "# Build Disimilarity Matrix\n",
    "for i in tqdm(range(N_Grid_Instances)):\n",
    "    for j in range(N_Grid_Instances):\n",
    "        Dissimilarity_matrix_ot[i,j] = ot.emd2_1d(measures_locations_list[j],\n",
    "                                                  measures_locations_list[i])\n",
    "# Update User\n",
    "print(\"\\U0001F600\",\" Done Building Distance Matrix\",\"\\U0001F600\",\"!\")"
   ]
  },
  {
   "cell_type": "markdown",
   "metadata": {},
   "source": [
    "## Initialize Quantities to Loop Over"
   ]
  },
  {
   "cell_type": "markdown",
   "metadata": {},
   "source": [
    "## Get \"Sample Barycenters\" and Generate Classes"
   ]
  },
  {
   "cell_type": "code",
   "execution_count": 19,
   "metadata": {},
   "outputs": [],
   "source": [
    "# Initialize Locations Matrix (Internal to Loop)\n",
    "measures_locations_list_current = copy.copy(measures_locations_list)\n",
    "Dissimilarity_matrix_ot_current = copy.copy(Dissimilarity_matrix_ot)\n",
    "\n",
    "# Initialize masker vector\n",
    "masker = np.ones(N_Grid_Instances)\n",
    "\n",
    "# Initialize Sorting Reference Vector (This helps us efficiently scroll through the disimularity matrix to identify the barycenter without having to re-compute the dissimultarity matrix of a sub-saple at every iteration (which is the most costly part of the algorithm!))\n",
    "Distances_Loop = Dissimilarity_matrix_ot_current.sum(axis=1)\n",
    "\n",
    "# Initialize Classes (In-Sample)\n",
    "Classifer_Wasserstein_Centers = np.zeros([N_Quantizers_to_parameterize,N_Grid_Instances])"
   ]
  },
  {
   "cell_type": "code",
   "execution_count": 20,
   "metadata": {},
   "outputs": [
    {
     "name": "stderr",
     "output_type": "stream",
     "text": [
      "  0%|          | 0/4 [00:00<?, ?it/s]/usr/lib/python3.7/site-packages/ipykernel_launcher.py:26: RuntimeWarning: invalid value encountered in multiply\n",
      "100%|██████████| 4/4 [00:00<00:00, 1028.58it/s]"
     ]
    },
    {
     "name": "stdout",
     "output_type": "stream",
     "text": [
      "😚  Begin Identifying Sample Barycenters  😚\n",
      "😀  Done Identifying Sample Barycenters 😀 !\n",
      "[[1. 0. 0. 0. 0.]\n",
      " [0. 0. 0. 0. 1.]\n",
      " [0. 1. 0. 0. 0.]\n",
      " [0. 0. 0. 1. 0.]]\n"
     ]
    },
    {
     "name": "stderr",
     "output_type": "stream",
     "text": [
      "\n"
     ]
    }
   ],
   "source": [
    "# Update User\n",
    "print(\"\\U0001F61A\",\" Begin Identifying Sample Barycenters\",\" \\U0001F61A\")\n",
    "\n",
    "# Identify Sample Barycenters\n",
    "for i in tqdm(range(N_Quantizers_to_parameterize)):    \n",
    "    # GET BARYCENTER #\n",
    "    #----------------#\n",
    "    ## Identify row with minimum total distance\n",
    "    Barycenter_index = int(Distances_Loop.argsort()[:1][0])\n",
    "    ## Get Barycenter\n",
    "    ## Update Barycenters Array ##\n",
    "    #----------------------------#\n",
    "    ### Get next Barycenter\n",
    "    new_barycenter_loop = measures_locations_list_current[Barycenter_index].reshape(-1,1)\n",
    "    ### Update Array of Barycenters\n",
    "    if i == 0:\n",
    "        # Initialize Barycenters Array\n",
    "        Barycenters_Array = new_barycenter_loop\n",
    "    else:\n",
    "        # Populate Barycenters Array\n",
    "        Barycenters_Array = np.append(Barycenters_Array,new_barycenter_loop,axis=-1)\n",
    "\n",
    "    # GET CLUSTER #\n",
    "    #-------------#\n",
    "    # Identify Cluster for this barycenter (which elements are closest to it)\n",
    "    Cluster_indices = (masker*Dissimilarity_matrix_ot_current[:,Barycenter_index]).argsort()[:N_Elements_Per_Cluster]\n",
    "    ## UPDATES Set  M^{(n)}  ##\n",
    "    #-------------------------#\n",
    "    Dissimilarity_matrix_ot_current[Cluster_indices,:] = 0\n",
    "    # Distance-Based Sorting\n",
    "    Distances_Loop[Cluster_indices] = math.inf\n",
    "\n",
    "    # Update Cluster\n",
    "    masker[Cluster_indices] = math.inf\n",
    "    \n",
    "    # Update Classes\n",
    "    Classifer_Wasserstein_Centers[i,Cluster_indices] = 1\n",
    "#     print(Cluster_indices)\n",
    "\n",
    "# Update User\n",
    "print(\"\\U0001F600\",\" Done Identifying Sample Barycenters\",\"\\U0001F600\",\"!\")\n",
    "print(Classifer_Wasserstein_Centers)"
   ]
  },
  {
   "cell_type": "markdown",
   "metadata": {},
   "source": [
    "---"
   ]
  },
  {
   "cell_type": "markdown",
   "metadata": {},
   "source": [
    "### Train Deep Classifier"
   ]
  },
  {
   "cell_type": "markdown",
   "metadata": {},
   "source": [
    "In this step, we train a deep (feed-forward) classifier:\n",
    "$$\n",
    "\\hat{f}\\triangleq \\operatorname{Softmax}_N\\circ W_J\\circ \\sigma \\bullet \\dots \\sigma \\bullet W_1,\n",
    "$$\n",
    "to identify which barycenter we are closest to."
   ]
  },
  {
   "cell_type": "markdown",
   "metadata": {},
   "source": [
    "Re-Load Grid and Redefine Relevant Input/Output dimensions in dictionary."
   ]
  },
  {
   "cell_type": "markdown",
   "metadata": {},
   "source": [
    "#### Train Deep Classifier"
   ]
  },
  {
   "cell_type": "code",
   "execution_count": 21,
   "metadata": {},
   "outputs": [
    {
     "name": "stdout",
     "output_type": "stream",
     "text": [
      "Deep Feature Builder - Ready\n",
      "Deep Classifier - Ready\n"
     ]
    }
   ],
   "source": [
    "# Re-Load Hyper-parameter Grid\n",
    "exec(open('CV_Grid.py').read())\n",
    "# Re-Load Classifier Function(s)\n",
    "exec(open('Helper_Functions.py').read())"
   ]
  },
  {
   "cell_type": "code",
   "execution_count": 22,
   "metadata": {},
   "outputs": [
    {
     "name": "stdout",
     "output_type": "stream",
     "text": [
      "Fitting 2 folds for each of 1 candidates, totalling 2 fits\n"
     ]
    },
    {
     "name": "stderr",
     "output_type": "stream",
     "text": [
      "[Parallel(n_jobs=4)]: Using backend LokyBackend with 4 concurrent workers.\n",
      "[Parallel(n_jobs=4)]: Done   2 out of   2 | elapsed:    5.5s remaining:    0.0s\n",
      "[Parallel(n_jobs=4)]: Done   2 out of   2 | elapsed:    5.5s finished\n"
     ]
    },
    {
     "name": "stdout",
     "output_type": "stream",
     "text": [
      "Epoch 1/400\n",
      "1/1 [==============================] - 0s 1ms/step - loss: 1.1007 - accuracy: 0.2000\n",
      "Epoch 2/400\n",
      "1/1 [==============================] - 0s 1ms/step - loss: 1.0757 - accuracy: 0.4000\n",
      "Epoch 3/400\n",
      "1/1 [==============================] - 0s 1ms/step - loss: 1.0545 - accuracy: 0.4000\n",
      "Epoch 4/400\n",
      "1/1 [==============================] - 0s 1ms/step - loss: 1.0345 - accuracy: 0.4000\n",
      "Epoch 5/400\n",
      "1/1 [==============================] - 0s 1ms/step - loss: 1.0141 - accuracy: 0.4000\n",
      "Epoch 6/400\n",
      "1/1 [==============================] - 0s 1ms/step - loss: 0.9930 - accuracy: 0.4000\n",
      "Epoch 7/400\n",
      "1/1 [==============================] - 0s 1ms/step - loss: 0.9705 - accuracy: 0.4000\n",
      "Epoch 8/400\n",
      "1/1 [==============================] - 0s 1ms/step - loss: 0.9477 - accuracy: 0.4000\n",
      "Epoch 9/400\n",
      "1/1 [==============================] - 0s 3ms/step - loss: 0.9239 - accuracy: 0.6000\n",
      "Epoch 10/400\n",
      "1/1 [==============================] - 0s 1ms/step - loss: 0.8991 - accuracy: 0.6000\n",
      "Epoch 11/400\n",
      "1/1 [==============================] - 0s 5ms/step - loss: 0.8734 - accuracy: 0.6000\n",
      "Epoch 12/400\n",
      "1/1 [==============================] - 0s 1ms/step - loss: 0.8472 - accuracy: 0.6000\n",
      "Epoch 13/400\n",
      "1/1 [==============================] - 0s 2ms/step - loss: 0.8210 - accuracy: 0.6000\n",
      "Epoch 14/400\n",
      "1/1 [==============================] - 0s 1ms/step - loss: 0.7950 - accuracy: 0.6000\n",
      "Epoch 15/400\n",
      "1/1 [==============================] - 0s 2ms/step - loss: 0.7701 - accuracy: 0.6000\n",
      "Epoch 16/400\n",
      "1/1 [==============================] - 0s 2ms/step - loss: 0.7461 - accuracy: 0.6000\n",
      "Epoch 17/400\n",
      "1/1 [==============================] - 0s 1ms/step - loss: 0.7236 - accuracy: 0.6000\n",
      "Epoch 18/400\n",
      "1/1 [==============================] - 0s 2ms/step - loss: 0.7020 - accuracy: 0.6000\n",
      "Epoch 19/400\n",
      "1/1 [==============================] - 0s 2ms/step - loss: 0.6813 - accuracy: 0.6000\n",
      "Epoch 20/400\n",
      "1/1 [==============================] - 0s 4ms/step - loss: 0.6615 - accuracy: 0.6000\n",
      "Epoch 21/400\n",
      "1/1 [==============================] - 0s 3ms/step - loss: 0.6427 - accuracy: 0.6000\n",
      "Epoch 22/400\n",
      "1/1 [==============================] - 0s 2ms/step - loss: 0.6254 - accuracy: 0.6000\n",
      "Epoch 23/400\n",
      "1/1 [==============================] - 0s 1ms/step - loss: 0.6092 - accuracy: 0.4000\n",
      "Epoch 24/400\n",
      "1/1 [==============================] - 0s 4ms/step - loss: 0.5949 - accuracy: 0.4000\n",
      "Epoch 25/400\n",
      "1/1 [==============================] - 0s 1ms/step - loss: 0.5819 - accuracy: 0.4000\n",
      "Epoch 26/400\n",
      "1/1 [==============================] - 0s 1ms/step - loss: 0.5696 - accuracy: 0.4000\n",
      "Epoch 27/400\n",
      "1/1 [==============================] - 0s 1ms/step - loss: 0.5574 - accuracy: 0.4000\n",
      "Epoch 28/400\n",
      "1/1 [==============================] - 0s 4ms/step - loss: 0.5453 - accuracy: 0.4000\n",
      "Epoch 29/400\n",
      "1/1 [==============================] - 0s 2ms/step - loss: 0.5331 - accuracy: 0.4000\n",
      "Epoch 30/400\n",
      "1/1 [==============================] - 0s 3ms/step - loss: 0.5210 - accuracy: 0.4000\n",
      "Epoch 31/400\n",
      "1/1 [==============================] - 0s 991us/step - loss: 0.5095 - accuracy: 0.4000\n",
      "Epoch 32/400\n",
      "1/1 [==============================] - 0s 7ms/step - loss: 0.4986 - accuracy: 0.4000\n",
      "Epoch 33/400\n",
      "1/1 [==============================] - 0s 2ms/step - loss: 0.4875 - accuracy: 0.4000\n",
      "Epoch 34/400\n",
      "1/1 [==============================] - 0s 1ms/step - loss: 0.4763 - accuracy: 0.4000\n",
      "Epoch 35/400\n",
      "1/1 [==============================] - 0s 1ms/step - loss: 0.4651 - accuracy: 0.4000\n",
      "Epoch 36/400\n",
      "1/1 [==============================] - 0s 2ms/step - loss: 0.4548 - accuracy: 0.6000\n",
      "Epoch 37/400\n",
      "1/1 [==============================] - 0s 1ms/step - loss: 0.4448 - accuracy: 0.6000\n",
      "Epoch 38/400\n",
      "1/1 [==============================] - 0s 2ms/step - loss: 0.4337 - accuracy: 0.6000\n",
      "Epoch 39/400\n",
      "1/1 [==============================] - 0s 1ms/step - loss: 0.4220 - accuracy: 0.6000\n",
      "Epoch 40/400\n",
      "1/1 [==============================] - 0s 1ms/step - loss: 0.4102 - accuracy: 0.6000\n",
      "Epoch 41/400\n",
      "1/1 [==============================] - 0s 2ms/step - loss: 0.3981 - accuracy: 0.8000\n",
      "Epoch 42/400\n",
      "1/1 [==============================] - 0s 2ms/step - loss: 0.3855 - accuracy: 0.8000\n",
      "Epoch 43/400\n",
      "1/1 [==============================] - 0s 1ms/step - loss: 0.3721 - accuracy: 0.8000\n",
      "Epoch 44/400\n",
      "1/1 [==============================] - 0s 1ms/step - loss: 0.3589 - accuracy: 0.8000\n",
      "Epoch 45/400\n",
      "1/1 [==============================] - 0s 1ms/step - loss: 0.3454 - accuracy: 0.8000\n",
      "Epoch 46/400\n",
      "1/1 [==============================] - 0s 4ms/step - loss: 0.3320 - accuracy: 0.8000\n",
      "Epoch 47/400\n",
      "1/1 [==============================] - 0s 1ms/step - loss: 0.3180 - accuracy: 0.8000\n",
      "Epoch 48/400\n",
      "1/1 [==============================] - 0s 2ms/step - loss: 0.3033 - accuracy: 0.8000\n",
      "Epoch 49/400\n",
      "1/1 [==============================] - 0s 1ms/step - loss: 0.2886 - accuracy: 0.8000\n",
      "Epoch 50/400\n",
      "1/1 [==============================] - 0s 1ms/step - loss: 0.2742 - accuracy: 0.8000\n",
      "Epoch 51/400\n",
      "1/1 [==============================] - 0s 1ms/step - loss: 0.2596 - accuracy: 0.8000\n",
      "Epoch 52/400\n",
      "1/1 [==============================] - 0s 2ms/step - loss: 0.2448 - accuracy: 0.8000\n",
      "Epoch 53/400\n",
      "1/1 [==============================] - 0s 1ms/step - loss: 0.2301 - accuracy: 0.8000\n",
      "Epoch 54/400\n",
      "1/1 [==============================] - 0s 2ms/step - loss: 0.2165 - accuracy: 0.8000\n",
      "Epoch 55/400\n",
      "1/1 [==============================] - 0s 2ms/step - loss: 0.2030 - accuracy: 0.8000\n",
      "Epoch 56/400\n",
      "1/1 [==============================] - 0s 2ms/step - loss: 0.1899 - accuracy: 0.8000\n",
      "Epoch 57/400\n",
      "1/1 [==============================] - 0s 2ms/step - loss: 0.1776 - accuracy: 0.8000\n",
      "Epoch 58/400\n",
      "1/1 [==============================] - 0s 1ms/step - loss: 0.1662 - accuracy: 0.8000\n",
      "Epoch 59/400\n",
      "1/1 [==============================] - 0s 3ms/step - loss: 0.1557 - accuracy: 0.8000\n",
      "Epoch 60/400\n",
      "1/1 [==============================] - 0s 3ms/step - loss: 0.1460 - accuracy: 0.8000\n",
      "Epoch 61/400\n",
      "1/1 [==============================] - 0s 2ms/step - loss: 0.1368 - accuracy: 0.8000\n",
      "Epoch 62/400\n",
      "1/1 [==============================] - 0s 1ms/step - loss: 0.1296 - accuracy: 0.8000\n",
      "Epoch 63/400\n",
      "1/1 [==============================] - 0s 1ms/step - loss: 0.1223 - accuracy: 0.8000\n",
      "Epoch 64/400\n",
      "1/1 [==============================] - 0s 2ms/step - loss: 0.1169 - accuracy: 0.8000\n",
      "Epoch 65/400\n",
      "1/1 [==============================] - 0s 2ms/step - loss: 0.1110 - accuracy: 0.8000\n",
      "Epoch 66/400\n",
      "1/1 [==============================] - 0s 2ms/step - loss: 0.1056 - accuracy: 0.8000\n",
      "Epoch 67/400\n",
      "1/1 [==============================] - 0s 4ms/step - loss: 0.1001 - accuracy: 0.8000\n",
      "Epoch 68/400\n",
      "1/1 [==============================] - 0s 2ms/step - loss: 0.0953 - accuracy: 0.8000\n",
      "Epoch 69/400\n",
      "1/1 [==============================] - 0s 1ms/step - loss: 0.0926 - accuracy: 0.8000\n",
      "Epoch 70/400\n",
      "1/1 [==============================] - 0s 4ms/step - loss: 0.0886 - accuracy: 0.8000\n",
      "Epoch 71/400\n",
      "1/1 [==============================] - 0s 2ms/step - loss: 0.0847 - accuracy: 0.8000\n",
      "Epoch 72/400\n",
      "1/1 [==============================] - 0s 1ms/step - loss: 0.0805 - accuracy: 0.8000\n",
      "Epoch 73/400\n",
      "1/1 [==============================] - 0s 1ms/step - loss: 0.0771 - accuracy: 0.8000\n",
      "Epoch 74/400\n",
      "1/1 [==============================] - 0s 2ms/step - loss: 0.0751 - accuracy: 0.8000\n",
      "Epoch 75/400\n",
      "1/1 [==============================] - 0s 1ms/step - loss: 0.0733 - accuracy: 0.8000\n",
      "Epoch 76/400\n",
      "1/1 [==============================] - 0s 2ms/step - loss: 0.0707 - accuracy: 0.8000\n",
      "Epoch 77/400\n",
      "1/1 [==============================] - 0s 3ms/step - loss: 0.0676 - accuracy: 0.8000\n",
      "Epoch 78/400\n",
      "1/1 [==============================] - 0s 1ms/step - loss: 0.0657 - accuracy: 0.8000\n",
      "Epoch 79/400\n",
      "1/1 [==============================] - 0s 2ms/step - loss: 0.0639 - accuracy: 0.8000\n",
      "Epoch 80/400\n",
      "1/1 [==============================] - 0s 2ms/step - loss: 0.0626 - accuracy: 0.8000\n",
      "Epoch 81/400\n",
      "1/1 [==============================] - 0s 2ms/step - loss: 0.0615 - accuracy: 0.8000\n",
      "Epoch 82/400\n",
      "1/1 [==============================] - 0s 2ms/step - loss: 0.0595 - accuracy: 0.8000\n",
      "Epoch 83/400\n",
      "1/1 [==============================] - 0s 1ms/step - loss: 0.0585 - accuracy: 0.8000\n",
      "Epoch 84/400\n"
     ]
    },
    {
     "name": "stdout",
     "output_type": "stream",
     "text": [
      "1/1 [==============================] - 0s 1ms/step - loss: 0.0571 - accuracy: 0.8000\n",
      "Epoch 85/400\n",
      "1/1 [==============================] - 0s 2ms/step - loss: 0.0550 - accuracy: 0.8000\n",
      "Epoch 86/400\n",
      "1/1 [==============================] - 0s 1ms/step - loss: 0.0555 - accuracy: 0.8000\n",
      "Epoch 87/400\n",
      "1/1 [==============================] - 0s 1ms/step - loss: 0.0559 - accuracy: 0.8000\n",
      "Epoch 88/400\n",
      "1/1 [==============================] - 0s 2ms/step - loss: 0.0558 - accuracy: 0.8000\n",
      "Epoch 89/400\n",
      "1/1 [==============================] - 0s 1ms/step - loss: 0.0569 - accuracy: 0.8000\n",
      "Epoch 90/400\n",
      "1/1 [==============================] - 0s 3ms/step - loss: 0.0562 - accuracy: 0.8000\n",
      "Epoch 91/400\n",
      "1/1 [==============================] - 0s 1ms/step - loss: 0.0548 - accuracy: 0.8000\n",
      "Epoch 92/400\n",
      "1/1 [==============================] - 0s 3ms/step - loss: 0.0532 - accuracy: 0.8000\n",
      "Epoch 93/400\n",
      "1/1 [==============================] - 0s 1ms/step - loss: 0.0533 - accuracy: 0.8000\n",
      "Epoch 94/400\n",
      "1/1 [==============================] - 0s 3ms/step - loss: 0.0516 - accuracy: 0.8000\n",
      "Epoch 95/400\n",
      "1/1 [==============================] - 0s 1ms/step - loss: 0.0515 - accuracy: 0.8000\n",
      "Epoch 96/400\n",
      "1/1 [==============================] - 0s 2ms/step - loss: 0.0503 - accuracy: 0.8000\n",
      "Epoch 97/400\n",
      "1/1 [==============================] - 0s 3ms/step - loss: 0.0519 - accuracy: 0.8000\n",
      "Epoch 98/400\n",
      "1/1 [==============================] - 0s 2ms/step - loss: 0.0507 - accuracy: 0.8000\n",
      "Epoch 99/400\n",
      "1/1 [==============================] - 0s 2ms/step - loss: 0.0503 - accuracy: 0.8000\n",
      "Epoch 100/400\n",
      "1/1 [==============================] - 0s 2ms/step - loss: 0.0549 - accuracy: 0.8000\n",
      "Epoch 101/400\n",
      "1/1 [==============================] - 0s 1ms/step - loss: 0.0522 - accuracy: 0.8000\n",
      "Epoch 102/400\n",
      "1/1 [==============================] - 0s 3ms/step - loss: 0.0489 - accuracy: 0.8000\n",
      "Epoch 103/400\n",
      "1/1 [==============================] - 0s 2ms/step - loss: 0.0494 - accuracy: 0.8000\n",
      "Epoch 104/400\n",
      "1/1 [==============================] - 0s 2ms/step - loss: 0.0539 - accuracy: 0.8000\n",
      "Epoch 105/400\n",
      "1/1 [==============================] - 0s 2ms/step - loss: 0.0429 - accuracy: 0.8000\n",
      "Epoch 106/400\n",
      "1/1 [==============================] - 0s 2ms/step - loss: 0.0460 - accuracy: 0.8000\n",
      "Epoch 107/400\n",
      "1/1 [==============================] - 0s 2ms/step - loss: 0.0488 - accuracy: 0.8000\n",
      "Epoch 108/400\n",
      "1/1 [==============================] - 0s 2ms/step - loss: 0.0530 - accuracy: 0.8000\n",
      "Epoch 109/400\n",
      "1/1 [==============================] - 0s 2ms/step - loss: 0.0518 - accuracy: 0.8000\n",
      "Epoch 110/400\n",
      "1/1 [==============================] - 0s 2ms/step - loss: 0.0475 - accuracy: 0.8000\n",
      "Epoch 111/400\n",
      "1/1 [==============================] - 0s 3ms/step - loss: 0.0483 - accuracy: 0.8000\n",
      "Epoch 112/400\n",
      "1/1 [==============================] - 0s 3ms/step - loss: 0.0534 - accuracy: 0.8000\n",
      "Epoch 113/400\n",
      "1/1 [==============================] - 0s 5ms/step - loss: 0.0441 - accuracy: 0.8000\n",
      "Epoch 114/400\n",
      "1/1 [==============================] - 0s 1ms/step - loss: 0.0501 - accuracy: 0.8000\n",
      "Epoch 115/400\n",
      "1/1 [==============================] - 0s 1ms/step - loss: 0.0631 - accuracy: 0.8000\n",
      "Epoch 116/400\n",
      "1/1 [==============================] - 0s 2ms/step - loss: 0.0425 - accuracy: 0.8000\n",
      "Epoch 117/400\n",
      "1/1 [==============================] - 0s 3ms/step - loss: 0.0372 - accuracy: 0.8000\n",
      "Epoch 118/400\n",
      "1/1 [==============================] - 0s 1ms/step - loss: 0.0428 - accuracy: 0.8000\n",
      "Epoch 119/400\n",
      "1/1 [==============================] - 0s 1ms/step - loss: 0.0492 - accuracy: 0.8000\n",
      "Epoch 120/400\n",
      "1/1 [==============================] - 0s 2ms/step - loss: 0.0441 - accuracy: 0.8000\n",
      "Epoch 121/400\n",
      "1/1 [==============================] - 0s 1ms/step - loss: 0.0506 - accuracy: 0.8000\n",
      "Epoch 122/400\n",
      "1/1 [==============================] - 0s 2ms/step - loss: 0.0541 - accuracy: 0.8000\n",
      "Epoch 123/400\n",
      "1/1 [==============================] - 0s 2ms/step - loss: 0.0534 - accuracy: 0.8000\n",
      "Epoch 124/400\n",
      "1/1 [==============================] - 0s 2ms/step - loss: 0.0419 - accuracy: 0.8000\n",
      "Epoch 125/400\n",
      "1/1 [==============================] - 0s 2ms/step - loss: 0.0508 - accuracy: 0.8000\n",
      "Epoch 126/400\n",
      "1/1 [==============================] - 0s 2ms/step - loss: 0.0373 - accuracy: 0.8000\n",
      "Epoch 127/400\n",
      "1/1 [==============================] - 0s 2ms/step - loss: 0.0580 - accuracy: 0.8000\n",
      "Epoch 128/400\n",
      "1/1 [==============================] - 0s 2ms/step - loss: 0.0388 - accuracy: 0.8000\n",
      "Epoch 129/400\n",
      "1/1 [==============================] - 0s 1ms/step - loss: 0.0681 - accuracy: 0.8000\n",
      "Epoch 130/400\n",
      "1/1 [==============================] - 0s 1ms/step - loss: 0.0348 - accuracy: 0.8000\n",
      "Epoch 131/400\n",
      "1/1 [==============================] - 0s 2ms/step - loss: 0.0536 - accuracy: 0.8000\n",
      "Epoch 132/400\n",
      "1/1 [==============================] - 0s 2ms/step - loss: 0.0513 - accuracy: 0.8000\n",
      "Epoch 133/400\n",
      "1/1 [==============================] - 0s 1ms/step - loss: 0.0587 - accuracy: 0.8000\n",
      "Epoch 134/400\n",
      "1/1 [==============================] - 0s 2ms/step - loss: 0.0442 - accuracy: 0.8000\n",
      "Epoch 135/400\n",
      "1/1 [==============================] - 0s 1ms/step - loss: 0.0874 - accuracy: 0.8000\n",
      "Epoch 136/400\n",
      "1/1 [==============================] - 0s 2ms/step - loss: 0.1286 - accuracy: 0.8000\n",
      "Epoch 137/400\n",
      "1/1 [==============================] - 0s 1ms/step - loss: 1.3143 - accuracy: 0.8000\n",
      "Epoch 138/400\n",
      "1/1 [==============================] - 0s 1ms/step - loss: 1.0507 - accuracy: 0.4000\n",
      "Epoch 139/400\n",
      "1/1 [==============================] - 0s 1ms/step - loss: 0.8269 - accuracy: 0.8000\n",
      "Epoch 140/400\n",
      "1/1 [==============================] - 0s 1ms/step - loss: 0.1953 - accuracy: 0.6000\n",
      "Epoch 141/400\n",
      "1/1 [==============================] - 0s 2ms/step - loss: 0.1031 - accuracy: 0.8000\n",
      "Epoch 142/400\n",
      "1/1 [==============================] - 0s 2ms/step - loss: 0.3256 - accuracy: 0.8000\n",
      "Epoch 143/400\n",
      "1/1 [==============================] - 0s 3ms/step - loss: 0.2772 - accuracy: 0.6000\n",
      "Epoch 144/400\n",
      "1/1 [==============================] - 0s 2ms/step - loss: 1.3538 - accuracy: 0.6000\n",
      "Epoch 145/400\n",
      "1/1 [==============================] - 0s 1ms/step - loss: 0.0340 - accuracy: 0.8000\n",
      "Epoch 146/400\n",
      "1/1 [==============================] - 0s 2ms/step - loss: 1.2589 - accuracy: 0.6000\n",
      "Epoch 147/400\n",
      "1/1 [==============================] - 0s 2ms/step - loss: 1.0047 - accuracy: 0.8000\n",
      "Epoch 148/400\n",
      "1/1 [==============================] - 0s 1ms/step - loss: 0.1121 - accuracy: 0.8000\n",
      "Epoch 149/400\n",
      "1/1 [==============================] - 0s 1ms/step - loss: 0.3008 - accuracy: 0.6000\n",
      "Epoch 150/400\n",
      "1/1 [==============================] - 0s 1ms/step - loss: 1.0469 - accuracy: 0.6000\n",
      "Epoch 151/400\n",
      "1/1 [==============================] - 0s 2ms/step - loss: 0.2255 - accuracy: 0.6000\n",
      "Epoch 152/400\n",
      "1/1 [==============================] - 0s 1ms/step - loss: 1.1375 - accuracy: 0.6000\n",
      "Epoch 153/400\n",
      "1/1 [==============================] - 0s 1ms/step - loss: 0.9316 - accuracy: 0.8000\n",
      "Epoch 154/400\n",
      "1/1 [==============================] - 0s 2ms/step - loss: 0.0326 - accuracy: 0.8000\n",
      "Epoch 155/400\n",
      "1/1 [==============================] - 0s 2ms/step - loss: 0.0765 - accuracy: 0.8000\n",
      "Epoch 156/400\n",
      "1/1 [==============================] - 0s 2ms/step - loss: 0.1346 - accuracy: 0.8000\n",
      "Epoch 157/400\n",
      "1/1 [==============================] - 0s 2ms/step - loss: 0.0408 - accuracy: 0.8000\n",
      "Epoch 158/400\n",
      "1/1 [==============================] - 0s 1ms/step - loss: 0.5218 - accuracy: 0.6000\n",
      "Epoch 159/400\n",
      "1/1 [==============================] - 0s 1ms/step - loss: 0.0701 - accuracy: 0.8000\n",
      "Epoch 160/400\n",
      "1/1 [==============================] - 0s 1ms/step - loss: 0.7541 - accuracy: 0.6000\n",
      "Epoch 161/400\n",
      "1/1 [==============================] - 0s 1ms/step - loss: 2.4799 - accuracy: 0.6000\n",
      "Epoch 162/400\n",
      "1/1 [==============================] - 0s 1ms/step - loss: 1.7417 - accuracy: 0.6000\n",
      "Epoch 163/400\n",
      "1/1 [==============================] - 0s 1ms/step - loss: 0.3982 - accuracy: 0.6000\n",
      "Epoch 164/400\n",
      "1/1 [==============================] - 0s 2ms/step - loss: 0.0375 - accuracy: 0.8000\n",
      "Epoch 165/400\n",
      "1/1 [==============================] - 0s 1ms/step - loss: 2.2237 - accuracy: 0.4000\n",
      "Epoch 166/400\n",
      "1/1 [==============================] - 0s 2ms/step - loss: 0.0232 - accuracy: 0.8000\n",
      "Epoch 167/400\n"
     ]
    },
    {
     "name": "stdout",
     "output_type": "stream",
     "text": [
      "1/1 [==============================] - 0s 1ms/step - loss: 0.8149 - accuracy: 0.6000\n",
      "Epoch 168/400\n",
      "1/1 [==============================] - 0s 3ms/step - loss: 0.5701 - accuracy: 0.8000\n",
      "Epoch 169/400\n",
      "1/1 [==============================] - 0s 1ms/step - loss: 2.7053 - accuracy: 0.6000\n",
      "Epoch 170/400\n",
      "1/1 [==============================] - 0s 1ms/step - loss: 0.4984 - accuracy: 0.6000\n",
      "Epoch 171/400\n",
      "1/1 [==============================] - 0s 3ms/step - loss: 0.1886 - accuracy: 0.6000\n",
      "Epoch 172/400\n",
      "1/1 [==============================] - 0s 1ms/step - loss: 1.7420 - accuracy: 0.6000\n",
      "Epoch 173/400\n",
      "1/1 [==============================] - 0s 1ms/step - loss: 2.1620 - accuracy: 0.8000\n",
      "Epoch 174/400\n",
      "1/1 [==============================] - 0s 1ms/step - loss: 0.0805 - accuracy: 0.8000\n",
      "Epoch 175/400\n",
      "1/1 [==============================] - 0s 1ms/step - loss: 0.9575 - accuracy: 0.6000\n",
      "Epoch 176/400\n",
      "1/1 [==============================] - 0s 1ms/step - loss: 3.2827 - accuracy: 0.6000\n",
      "Epoch 177/400\n",
      "1/1 [==============================] - 0s 1ms/step - loss: 2.4752 - accuracy: 0.6000\n",
      "Epoch 178/400\n",
      "1/1 [==============================] - 0s 2ms/step - loss: 2.3414 - accuracy: 0.6000\n",
      "Epoch 179/400\n",
      "1/1 [==============================] - 0s 1ms/step - loss: 0.0958 - accuracy: 0.8000\n",
      "Epoch 180/400\n",
      "1/1 [==============================] - 0s 2ms/step - loss: 4.2549 - accuracy: 0.6000\n",
      "Epoch 181/400\n",
      "1/1 [==============================] - 0s 2ms/step - loss: 0.4315 - accuracy: 0.6000\n",
      "Epoch 182/400\n",
      "1/1 [==============================] - 0s 3ms/step - loss: 6.9008 - accuracy: 0.6000\n",
      "Epoch 183/400\n",
      "1/1 [==============================] - 0s 2ms/step - loss: 4.7834 - accuracy: 0.6000\n",
      "Epoch 184/400\n",
      "1/1 [==============================] - 0s 1ms/step - loss: 4.3449 - accuracy: 0.8000\n",
      "Epoch 185/400\n",
      "1/1 [==============================] - 0s 4ms/step - loss: 6.2305 - accuracy: 0.8000\n",
      "Epoch 186/400\n",
      "1/1 [==============================] - 0s 1ms/step - loss: 2.4471 - accuracy: 0.6000\n",
      "Epoch 187/400\n",
      "1/1 [==============================] - 0s 3ms/step - loss: 8.2395 - accuracy: 0.4000\n",
      "Epoch 188/400\n",
      "1/1 [==============================] - 0s 1ms/step - loss: 5.5571 - accuracy: 0.4000\n",
      "Epoch 189/400\n",
      "1/1 [==============================] - 0s 3ms/step - loss: 12.9542 - accuracy: 0.6000\n",
      "Epoch 190/400\n",
      "1/1 [==============================] - 0s 2ms/step - loss: 13.4077 - accuracy: 0.6000\n",
      "Epoch 191/400\n",
      "1/1 [==============================] - 0s 2ms/step - loss: 5.8598 - accuracy: 0.6000\n",
      "Epoch 192/400\n",
      "1/1 [==============================] - 0s 1ms/step - loss: 5.5319 - accuracy: 0.4000\n",
      "Epoch 193/400\n",
      "1/1 [==============================] - 0s 3ms/step - loss: 12.4681 - accuracy: 0.4000\n",
      "Epoch 194/400\n",
      "1/1 [==============================] - 0s 1ms/step - loss: 8.1548 - accuracy: 0.2000\n",
      "Epoch 195/400\n",
      "1/1 [==============================] - 0s 2ms/step - loss: 9.9879 - accuracy: 0.6000\n",
      "Epoch 196/400\n",
      "1/1 [==============================] - 0s 2ms/step - loss: 15.2043 - accuracy: 0.6000\n",
      "Epoch 197/400\n",
      "1/1 [==============================] - 0s 2ms/step - loss: 10.7858 - accuracy: 0.6000\n",
      "Epoch 198/400\n",
      "1/1 [==============================] - 0s 2ms/step - loss: 7.9316 - accuracy: 0.4000\n",
      "Epoch 199/400\n",
      "1/1 [==============================] - 0s 2ms/step - loss: 8.2250 - accuracy: 0.4000\n",
      "Epoch 200/400\n",
      "1/1 [==============================] - 0s 2ms/step - loss: 1.0319 - accuracy: 0.6000\n",
      "Epoch 201/400\n",
      "1/1 [==============================] - 0s 2ms/step - loss: 2.3974 - accuracy: 0.8000\n",
      "Epoch 202/400\n",
      "1/1 [==============================] - 0s 2ms/step - loss: 5.2189 - accuracy: 0.4000\n",
      "Epoch 203/400\n",
      "1/1 [==============================] - 0s 4ms/step - loss: 0.9573 - accuracy: 0.6000\n",
      "Epoch 204/400\n",
      "1/1 [==============================] - 0s 1ms/step - loss: 4.7563 - accuracy: 0.4000\n",
      "Epoch 205/400\n",
      "1/1 [==============================] - 0s 2ms/step - loss: 6.6593 - accuracy: 0.6000\n",
      "Epoch 206/400\n",
      "1/1 [==============================] - 0s 2ms/step - loss: 4.5757 - accuracy: 0.6000\n",
      "Epoch 207/400\n",
      "1/1 [==============================] - 0s 3ms/step - loss: 2.1150 - accuracy: 0.6000\n",
      "Epoch 208/400\n",
      "1/1 [==============================] - 0s 1ms/step - loss: 0.0012 - accuracy: 0.8000\n",
      "Epoch 209/400\n",
      "1/1 [==============================] - 0s 1ms/step - loss: 0.9781 - accuracy: 0.4000\n",
      "Epoch 210/400\n",
      "1/1 [==============================] - 0s 2ms/step - loss: 8.3659 - accuracy: 0.6000\n",
      "Epoch 211/400\n",
      "1/1 [==============================] - 0s 2ms/step - loss: 8.2474 - accuracy: 0.6000\n",
      "Epoch 212/400\n",
      "1/1 [==============================] - 0s 1ms/step - loss: 1.2581 - accuracy: 0.8000\n",
      "Epoch 213/400\n",
      "1/1 [==============================] - 0s 1ms/step - loss: 18.8365 - accuracy: 0.4000\n",
      "Epoch 214/400\n",
      "1/1 [==============================] - 0s 1ms/step - loss: 17.8064 - accuracy: 0.4000\n",
      "Epoch 215/400\n",
      "1/1 [==============================] - 0s 2ms/step - loss: 0.7303 - accuracy: 0.6000\n",
      "Epoch 216/400\n",
      "1/1 [==============================] - 0s 1ms/step - loss: 5.4775 - accuracy: 0.6000\n",
      "Epoch 217/400\n",
      "1/1 [==============================] - 0s 1ms/step - loss: 1.6600 - accuracy: 0.6000\n",
      "Epoch 218/400\n",
      "1/1 [==============================] - 0s 2ms/step - loss: 14.6017 - accuracy: 0.4000\n",
      "Epoch 219/400\n",
      "1/1 [==============================] - 0s 1ms/step - loss: 11.3245 - accuracy: 0.4000\n",
      "Epoch 220/400\n",
      "1/1 [==============================] - 0s 1ms/step - loss: 6.2397 - accuracy: 0.8000\n",
      "Epoch 221/400\n",
      "1/1 [==============================] - 0s 2ms/step - loss: 8.0928 - accuracy: 0.6000\n",
      "Epoch 222/400\n",
      "1/1 [==============================] - 0s 1ms/step - loss: 3.3623 - accuracy: 0.6000\n",
      "Epoch 223/400\n",
      "1/1 [==============================] - 0s 2ms/step - loss: 13.5152 - accuracy: 0.4000\n",
      "Epoch 224/400\n",
      "1/1 [==============================] - 0s 2ms/step - loss: 8.2821 - accuracy: 0.6000\n",
      "Epoch 225/400\n",
      "1/1 [==============================] - 0s 1ms/step - loss: 23.6303 - accuracy: 0.6000\n",
      "Epoch 226/400\n",
      "1/1 [==============================] - 0s 1ms/step - loss: 19.5715 - accuracy: 0.6000\n",
      "Epoch 227/400\n",
      "1/1 [==============================] - 0s 2ms/step - loss: 0.4233 - accuracy: 0.6000\n",
      "Epoch 228/400\n",
      "1/1 [==============================] - 0s 1ms/step - loss: 18.2566 - accuracy: 0.4000\n",
      "Epoch 229/400\n",
      "1/1 [==============================] - 0s 1ms/step - loss: 0.1760 - accuracy: 0.8000\n",
      "Epoch 230/400\n",
      "1/1 [==============================] - 0s 2ms/step - loss: 11.4225 - accuracy: 0.6000\n",
      "Epoch 231/400\n",
      "1/1 [==============================] - 0s 3ms/step - loss: 5.9555 - accuracy: 0.6000\n",
      "Epoch 232/400\n",
      "1/1 [==============================] - 0s 2ms/step - loss: 6.5846 - accuracy: 0.6000\n",
      "Epoch 233/400\n",
      "1/1 [==============================] - 0s 1ms/step - loss: 4.5634 - accuracy: 0.6000\n",
      "Epoch 234/400\n",
      "1/1 [==============================] - 0s 2ms/step - loss: 20.9461 - accuracy: 0.4000\n",
      "Epoch 235/400\n",
      "1/1 [==============================] - 0s 1ms/step - loss: 9.3280 - accuracy: 0.4000\n",
      "Epoch 236/400\n",
      "1/1 [==============================] - 0s 1ms/step - loss: 4.4569 - accuracy: 0.6000\n",
      "Epoch 237/400\n",
      "1/1 [==============================] - 0s 1ms/step - loss: 2.7152 - accuracy: 0.4000\n",
      "Epoch 238/400\n",
      "1/1 [==============================] - 0s 1ms/step - loss: 1.4399 - accuracy: 0.4000\n",
      "Epoch 239/400\n",
      "1/1 [==============================] - 0s 1ms/step - loss: 0.1002 - accuracy: 0.8000\n",
      "Epoch 240/400\n",
      "1/1 [==============================] - 0s 1ms/step - loss: 0.0388 - accuracy: 0.8000\n",
      "Epoch 241/400\n",
      "1/1 [==============================] - 0s 1ms/step - loss: 2.8006 - accuracy: 0.6000\n",
      "Epoch 242/400\n",
      "1/1 [==============================] - 0s 1ms/step - loss: 8.2947 - accuracy: 0.6000\n",
      "Epoch 243/400\n",
      "1/1 [==============================] - 0s 1ms/step - loss: 11.0867 - accuracy: 0.4000\n",
      "Epoch 244/400\n",
      "1/1 [==============================] - 0s 1ms/step - loss: 13.0618 - accuracy: 0.6000\n",
      "Epoch 245/400\n",
      "1/1 [==============================] - 0s 1ms/step - loss: 11.3155 - accuracy: 0.6000\n",
      "Epoch 246/400\n",
      "1/1 [==============================] - 0s 1ms/step - loss: 14.2455 - accuracy: 0.6000\n",
      "Epoch 247/400\n",
      "1/1 [==============================] - 0s 2ms/step - loss: 17.6461 - accuracy: 0.6000\n",
      "Epoch 248/400\n",
      "1/1 [==============================] - 0s 2ms/step - loss: 17.2328 - accuracy: 0.4000\n",
      "Epoch 249/400\n"
     ]
    },
    {
     "name": "stdout",
     "output_type": "stream",
     "text": [
      "1/1 [==============================] - 0s 1ms/step - loss: 0.5036 - accuracy: 0.6000\n",
      "Epoch 250/400\n",
      "1/1 [==============================] - 0s 1ms/step - loss: 24.4825 - accuracy: 0.4000\n",
      "Epoch 251/400\n",
      "1/1 [==============================] - 0s 2ms/step - loss: 0.0020 - accuracy: 0.8000\n",
      "Epoch 252/400\n",
      "1/1 [==============================] - 0s 2ms/step - loss: 6.5370 - accuracy: 0.6000\n",
      "Epoch 253/400\n",
      "1/1 [==============================] - 0s 2ms/step - loss: 19.4223 - accuracy: 0.4000\n",
      "Epoch 254/400\n",
      "1/1 [==============================] - 0s 2ms/step - loss: 4.6890 - accuracy: 0.4000\n",
      "Epoch 255/400\n",
      "1/1 [==============================] - 0s 2ms/step - loss: 24.8495 - accuracy: 0.6000\n",
      "Epoch 256/400\n",
      "1/1 [==============================] - 0s 1ms/step - loss: 34.8156 - accuracy: 0.4000\n",
      "Epoch 257/400\n",
      "1/1 [==============================] - 0s 3ms/step - loss: 37.6934 - accuracy: 0.6000\n",
      "Epoch 258/400\n",
      "1/1 [==============================] - 0s 1ms/step - loss: 20.9067 - accuracy: 0.6000\n",
      "Epoch 259/400\n",
      "1/1 [==============================] - 0s 2ms/step - loss: 14.7531 - accuracy: 0.6000\n",
      "Epoch 260/400\n",
      "1/1 [==============================] - 0s 2ms/step - loss: 27.6951 - accuracy: 0.6000\n",
      "Epoch 261/400\n",
      "1/1 [==============================] - 0s 3ms/step - loss: 23.2266 - accuracy: 0.4000\n",
      "Epoch 262/400\n",
      "1/1 [==============================] - 0s 2ms/step - loss: 2.9471 - accuracy: 0.6000\n",
      "Epoch 263/400\n",
      "1/1 [==============================] - 0s 3ms/step - loss: 26.0672 - accuracy: 0.6000\n",
      "Epoch 264/400\n",
      "1/1 [==============================] - 0s 2ms/step - loss: 16.0672 - accuracy: 0.6000\n",
      "Epoch 265/400\n",
      "1/1 [==============================] - 0s 2ms/step - loss: 45.9684 - accuracy: 0.4000\n",
      "Epoch 266/400\n",
      "1/1 [==============================] - 0s 1ms/step - loss: 42.7523 - accuracy: 0.4000\n",
      "Epoch 267/400\n",
      "1/1 [==============================] - 0s 1ms/step - loss: 10.2184 - accuracy: 0.2000\n",
      "Epoch 268/400\n",
      "1/1 [==============================] - 0s 1ms/step - loss: 27.9125 - accuracy: 0.4000\n",
      "Epoch 269/400\n",
      "1/1 [==============================] - 0s 2ms/step - loss: 49.5178 - accuracy: 0.6000\n",
      "Epoch 270/400\n",
      "1/1 [==============================] - 0s 1ms/step - loss: 46.2375 - accuracy: 0.6000\n",
      "Epoch 271/400\n",
      "1/1 [==============================] - 0s 1ms/step - loss: 33.8677 - accuracy: 0.4000\n",
      "Epoch 272/400\n",
      "1/1 [==============================] - 0s 1ms/step - loss: 41.5404 - accuracy: 0.2000\n",
      "Epoch 273/400\n",
      "1/1 [==============================] - 0s 6ms/step - loss: 49.1514 - accuracy: 0.6000\n",
      "Epoch 274/400\n",
      "1/1 [==============================] - 0s 1ms/step - loss: 51.4813 - accuracy: 0.6000\n",
      "Epoch 275/400\n",
      "1/1 [==============================] - 0s 2ms/step - loss: 43.7652 - accuracy: 0.2000\n",
      "Epoch 276/400\n",
      "1/1 [==============================] - 0s 1ms/step - loss: 61.0658 - accuracy: 0.2000\n",
      "Epoch 277/400\n",
      "1/1 [==============================] - 0s 2ms/step - loss: 45.1816 - accuracy: 0.4000\n",
      "Epoch 278/400\n",
      "1/1 [==============================] - 0s 1ms/step - loss: 75.2416 - accuracy: 0.4000\n",
      "Epoch 279/400\n",
      "1/1 [==============================] - 0s 1ms/step - loss: 60.5484 - accuracy: 0.4000\n",
      "Epoch 280/400\n",
      "1/1 [==============================] - 0s 2ms/step - loss: 30.8551 - accuracy: 0.4000\n",
      "Epoch 281/400\n",
      "1/1 [==============================] - 0s 1ms/step - loss: 17.4879 - accuracy: 0.4000\n",
      "Epoch 282/400\n",
      "1/1 [==============================] - 0s 1ms/step - loss: 30.7305 - accuracy: 0.4000\n",
      "Epoch 283/400\n",
      "1/1 [==============================] - 0s 1ms/step - loss: 79.0266 - accuracy: 0.4000\n",
      "Epoch 284/400\n",
      "1/1 [==============================] - 0s 2ms/step - loss: 65.0180 - accuracy: 0.2000\n",
      "Epoch 285/400\n",
      "1/1 [==============================] - 0s 2ms/step - loss: 58.5704 - accuracy: 0.6000\n",
      "Epoch 286/400\n",
      "1/1 [==============================] - 0s 1ms/step - loss: 42.7854 - accuracy: 0.6000\n",
      "Epoch 287/400\n",
      "1/1 [==============================] - 0s 1ms/step - loss: 25.0635 - accuracy: 0.2000\n",
      "Epoch 288/400\n",
      "1/1 [==============================] - 0s 2ms/step - loss: 64.9387 - accuracy: 0.2000\n",
      "Epoch 289/400\n",
      "1/1 [==============================] - 0s 2ms/step - loss: 76.5002 - accuracy: 0.2000\n",
      "Epoch 290/400\n",
      "1/1 [==============================] - 0s 2ms/step - loss: 72.0435 - accuracy: 0.4000\n",
      "Epoch 291/400\n",
      "1/1 [==============================] - 0s 2ms/step - loss: 78.7813 - accuracy: 0.4000\n",
      "Epoch 292/400\n",
      "1/1 [==============================] - 0s 1ms/step - loss: 49.8657 - accuracy: 0.2000\n",
      "Epoch 293/400\n",
      "1/1 [==============================] - 0s 2ms/step - loss: 34.2145 - accuracy: 0.4000\n",
      "Epoch 294/400\n",
      "1/1 [==============================] - 0s 2ms/step - loss: 7.4462 - accuracy: 0.4000\n",
      "Epoch 295/400\n",
      "1/1 [==============================] - 0s 1ms/step - loss: 42.6860 - accuracy: 0.2000\n",
      "Epoch 296/400\n",
      "1/1 [==============================] - 0s 1ms/step - loss: 11.8625 - accuracy: 0.6000\n",
      "Epoch 297/400\n",
      "1/1 [==============================] - 0s 3ms/step - loss: 19.4379 - accuracy: 0.6000\n",
      "Epoch 298/400\n",
      "1/1 [==============================] - 0s 2ms/step - loss: 53.3610 - accuracy: 0.4000\n",
      "Epoch 299/400\n",
      "1/1 [==============================] - 0s 1ms/step - loss: 63.1111 - accuracy: 0.2000\n",
      "Epoch 300/400\n",
      "1/1 [==============================] - 0s 1ms/step - loss: 46.6720 - accuracy: 0.4000\n",
      "Epoch 301/400\n",
      "1/1 [==============================] - 0s 2ms/step - loss: 52.2950 - accuracy: 0.6000\n",
      "Epoch 302/400\n",
      "1/1 [==============================] - 0s 1ms/step - loss: 55.0195 - accuracy: 0.4000\n",
      "Epoch 303/400\n",
      "1/1 [==============================] - 0s 3ms/step - loss: 46.0891 - accuracy: 0.6000\n",
      "Epoch 304/400\n",
      "1/1 [==============================] - 0s 2ms/step - loss: 20.2971 - accuracy: 0.6000\n",
      "Epoch 305/400\n",
      "1/1 [==============================] - 0s 2ms/step - loss: 3.3554 - accuracy: 0.4000\n",
      "Epoch 306/400\n",
      "1/1 [==============================] - 0s 1ms/step - loss: 80.8078 - accuracy: 0.2000\n",
      "Epoch 307/400\n",
      "1/1 [==============================] - 0s 1ms/step - loss: 47.9922 - accuracy: 0.2000\n",
      "Epoch 308/400\n",
      "1/1 [==============================] - 0s 1ms/step - loss: 50.5142 - accuracy: 0.6000\n",
      "Epoch 309/400\n",
      "1/1 [==============================] - 0s 1ms/step - loss: 43.8494 - accuracy: 0.6000\n",
      "Epoch 310/400\n",
      "1/1 [==============================] - 0s 2ms/step - loss: 112.1315 - accuracy: 0.2000\n",
      "Epoch 311/400\n",
      "1/1 [==============================] - 0s 2ms/step - loss: 126.8500 - accuracy: 0.4000\n",
      "Epoch 312/400\n",
      "1/1 [==============================] - 0s 1ms/step - loss: 75.4453 - accuracy: 0.4000\n",
      "Epoch 313/400\n",
      "1/1 [==============================] - 0s 955us/step - loss: 103.4203 - accuracy: 0.6000\n",
      "Epoch 314/400\n",
      "1/1 [==============================] - 0s 2ms/step - loss: 124.2719 - accuracy: 0.6000\n",
      "Epoch 315/400\n",
      "1/1 [==============================] - 0s 1ms/step - loss: 91.9758 - accuracy: 0.6000\n",
      "Epoch 316/400\n",
      "1/1 [==============================] - 0s 1ms/step - loss: 53.6500 - accuracy: 0.2000\n",
      "Epoch 317/400\n",
      "1/1 [==============================] - 0s 1ms/step - loss: 106.0547 - accuracy: 0.4000\n",
      "Epoch 318/400\n",
      "1/1 [==============================] - 0s 2ms/step - loss: 64.3328 - accuracy: 0.4000\n",
      "Epoch 319/400\n",
      "1/1 [==============================] - 0s 1ms/step - loss: 108.8758 - accuracy: 0.4000\n",
      "Epoch 320/400\n",
      "1/1 [==============================] - 0s 3ms/step - loss: 110.7805 - accuracy: 0.2000\n",
      "Epoch 321/400\n",
      "1/1 [==============================] - 0s 2ms/step - loss: 75.1335 - accuracy: 0.4000\n",
      "Epoch 322/400\n",
      "1/1 [==============================] - 0s 3ms/step - loss: 114.5270 - accuracy: 0.4000\n",
      "Epoch 323/400\n",
      "1/1 [==============================] - 0s 1ms/step - loss: 84.1559 - accuracy: 0.4000\n",
      "Epoch 324/400\n",
      "1/1 [==============================] - 0s 3ms/step - loss: 106.8059 - accuracy: 0.2000\n",
      "Epoch 325/400\n",
      "1/1 [==============================] - 0s 1ms/step - loss: 86.8598 - accuracy: 0.2000\n",
      "Epoch 326/400\n",
      "1/1 [==============================] - 0s 3ms/step - loss: 9.7820 - accuracy: 0.4000\n",
      "Epoch 327/400\n",
      "1/1 [==============================] - 0s 2ms/step - loss: 49.0531 - accuracy: 0.4000\n",
      "Epoch 328/400\n",
      "1/1 [==============================] - 0s 4ms/step - loss: 67.1750 - accuracy: 0.8000\n",
      "Epoch 329/400\n",
      "1/1 [==============================] - 0s 2ms/step - loss: 61.8281 - accuracy: 0.8000\n",
      "Epoch 330/400\n",
      "1/1 [==============================] - 0s 2ms/step - loss: 33.1844 - accuracy: 0.4000\n",
      "Epoch 331/400\n"
     ]
    },
    {
     "name": "stdout",
     "output_type": "stream",
     "text": [
      "1/1 [==============================] - 0s 2ms/step - loss: 16.7042 - accuracy: 0.4000\n",
      "Epoch 332/400\n",
      "1/1 [==============================] - 0s 2ms/step - loss: 44.2156 - accuracy: 0.6000\n",
      "Epoch 333/400\n",
      "1/1 [==============================] - 0s 2ms/step - loss: 58.0727 - accuracy: 0.4000\n",
      "Epoch 334/400\n",
      "1/1 [==============================] - 0s 2ms/step - loss: 63.9336 - accuracy: 0.6000\n",
      "Epoch 335/400\n",
      "1/1 [==============================] - 0s 2ms/step - loss: 41.1886 - accuracy: 0.6000\n",
      "Epoch 336/400\n",
      "1/1 [==============================] - 0s 2ms/step - loss: 28.1789 - accuracy: 0.6000\n",
      "Epoch 337/400\n",
      "1/1 [==============================] - 0s 2ms/step - loss: 16.9955 - accuracy: 0.6000\n",
      "Epoch 338/400\n",
      "1/1 [==============================] - 0s 2ms/step - loss: 6.7557 - accuracy: 0.4000\n",
      "Epoch 339/400\n",
      "1/1 [==============================] - 0s 2ms/step - loss: 19.5734 - accuracy: 0.4000\n",
      "Epoch 340/400\n",
      "1/1 [==============================] - 0s 2ms/step - loss: 13.3195 - accuracy: 0.4000\n",
      "Epoch 341/400\n",
      "1/1 [==============================] - 0s 2ms/step - loss: 30.6875 - accuracy: 0.6000\n",
      "Epoch 342/400\n",
      "1/1 [==============================] - 0s 2ms/step - loss: 46.7640 - accuracy: 0.6000\n",
      "Epoch 343/400\n",
      "1/1 [==============================] - 0s 2ms/step - loss: 45.2734 - accuracy: 0.4000\n",
      "Epoch 344/400\n",
      "1/1 [==============================] - 0s 1ms/step - loss: 51.0984 - accuracy: 0.6000\n",
      "Epoch 345/400\n",
      "1/1 [==============================] - 0s 2ms/step - loss: 14.8539 - accuracy: 0.6000\n",
      "Epoch 346/400\n",
      "1/1 [==============================] - 0s 2ms/step - loss: 42.3187 - accuracy: 0.6000\n",
      "Epoch 347/400\n",
      "1/1 [==============================] - 0s 1ms/step - loss: 135.8422 - accuracy: 0.4000\n",
      "Epoch 348/400\n",
      "1/1 [==============================] - 0s 2ms/step - loss: 80.1125 - accuracy: 0.4000\n",
      "Epoch 349/400\n",
      "1/1 [==============================] - 0s 2ms/step - loss: 48.4653 - accuracy: 0.2000\n",
      "Epoch 350/400\n",
      "1/1 [==============================] - 0s 2ms/step - loss: 74.6836 - accuracy: 0.6000\n",
      "Epoch 351/400\n",
      "1/1 [==============================] - 0s 1ms/step - loss: 83.9906 - accuracy: 0.4000\n",
      "Epoch 352/400\n",
      "1/1 [==============================] - 0s 2ms/step - loss: 125.7883 - accuracy: 0.4000\n",
      "Epoch 353/400\n",
      "1/1 [==============================] - 0s 4ms/step - loss: 109.1125 - accuracy: 0.6000\n",
      "Epoch 354/400\n",
      "1/1 [==============================] - 0s 2ms/step - loss: 103.6062 - accuracy: 0.2000\n",
      "Epoch 355/400\n",
      "1/1 [==============================] - 0s 3ms/step - loss: 87.6539 - accuracy: 0.2000\n",
      "Epoch 356/400\n",
      "1/1 [==============================] - 0s 1ms/step - loss: 106.6797 - accuracy: 0.6000\n",
      "Epoch 357/400\n",
      "1/1 [==============================] - 0s 2ms/step - loss: 68.3578 - accuracy: 0.6000\n",
      "Epoch 358/400\n",
      "1/1 [==============================] - 0s 1ms/step - loss: 15.9047 - accuracy: 0.4000\n",
      "Epoch 359/400\n",
      "1/1 [==============================] - 0s 2ms/step - loss: 128.1938 - accuracy: 0.2000\n",
      "Epoch 360/400\n",
      "1/1 [==============================] - 0s 4ms/step - loss: 41.2844 - accuracy: 0.4000\n",
      "Epoch 361/400\n",
      "1/1 [==============================] - 0s 2ms/step - loss: 69.6000 - accuracy: 0.4000\n",
      "Epoch 362/400\n",
      "1/1 [==============================] - 0s 1ms/step - loss: 98.2312 - accuracy: 0.6000\n",
      "Epoch 363/400\n",
      "1/1 [==============================] - 0s 2ms/step - loss: 129.4922 - accuracy: 0.6000\n",
      "Epoch 364/400\n",
      "1/1 [==============================] - 0s 1ms/step - loss: 128.3062 - accuracy: 0.4000\n",
      "Epoch 365/400\n",
      "1/1 [==============================] - 0s 3ms/step - loss: 121.0088 - accuracy: 0.4000\n",
      "Epoch 366/400\n",
      "1/1 [==============================] - 0s 1ms/step - loss: 113.7500 - accuracy: 0.4000\n",
      "Epoch 367/400\n",
      "1/1 [==============================] - 0s 3ms/step - loss: 154.6516 - accuracy: 0.6000\n",
      "Epoch 368/400\n",
      "1/1 [==============================] - 0s 2ms/step - loss: 127.0719 - accuracy: 0.6000\n",
      "Epoch 369/400\n",
      "1/1 [==============================] - 0s 2ms/step - loss: 53.8662 - accuracy: 0.4000\n",
      "Epoch 370/400\n",
      "1/1 [==============================] - 0s 1ms/step - loss: 15.1969 - accuracy: 0.6000\n",
      "Epoch 371/400\n",
      "1/1 [==============================] - 0s 4ms/step - loss: 101.2781 - accuracy: 0.4000\n",
      "Epoch 372/400\n",
      "1/1 [==============================] - 0s 1ms/step - loss: 83.9531 - accuracy: 0.4000\n",
      "Epoch 373/400\n",
      "1/1 [==============================] - 0s 2ms/step - loss: 90.0594 - accuracy: 0.6000\n",
      "Epoch 374/400\n",
      "1/1 [==============================] - 0s 1ms/step - loss: 73.8922 - accuracy: 0.6000\n",
      "Epoch 375/400\n",
      "1/1 [==============================] - 0s 1ms/step - loss: 130.3125 - accuracy: 0.4000\n",
      "Epoch 376/400\n",
      "1/1 [==============================] - 0s 1ms/step - loss: 153.4969 - accuracy: 0.4000\n",
      "Epoch 377/400\n",
      "1/1 [==============================] - 0s 2ms/step - loss: 55.9922 - accuracy: 0.4000\n",
      "Epoch 378/400\n",
      "1/1 [==============================] - 0s 1ms/step - loss: 160.6812 - accuracy: 0.6000\n",
      "Epoch 379/400\n",
      "1/1 [==============================] - 0s 2ms/step - loss: 195.1594 - accuracy: 0.6000\n",
      "Epoch 380/400\n",
      "1/1 [==============================] - 0s 2ms/step - loss: 149.1938 - accuracy: 0.8000\n",
      "Epoch 381/400\n",
      "1/1 [==============================] - 0s 3ms/step - loss: 248.0344 - accuracy: 0.4000\n",
      "Epoch 382/400\n",
      "1/1 [==============================] - 0s 2ms/step - loss: 200.2188 - accuracy: 0.4000\n",
      "Epoch 383/400\n",
      "1/1 [==============================] - 0s 2ms/step - loss: 108.3250 - accuracy: 0.2000\n",
      "Epoch 384/400\n",
      "1/1 [==============================] - 0s 1ms/step - loss: 134.1125 - accuracy: 0.4000\n",
      "Epoch 385/400\n",
      "1/1 [==============================] - 0s 7ms/step - loss: 114.0680 - accuracy: 0.2000\n",
      "Epoch 386/400\n",
      "1/1 [==============================] - 0s 2ms/step - loss: 248.4062 - accuracy: 0.4000\n",
      "Epoch 387/400\n",
      "1/1 [==============================] - 0s 1ms/step - loss: 321.6805 - accuracy: 0.4000\n",
      "Epoch 388/400\n",
      "1/1 [==============================] - 0s 3ms/step - loss: 271.1695 - accuracy: 0.4000\n",
      "Epoch 389/400\n",
      "1/1 [==============================] - 0s 2ms/step - loss: 148.3344 - accuracy: 0.2000\n",
      "Epoch 390/400\n",
      "1/1 [==============================] - 0s 1ms/step - loss: 130.8523 - accuracy: 0.2000\n",
      "Epoch 391/400\n",
      "1/1 [==============================] - 0s 3ms/step - loss: 114.7758 - accuracy: 0.4000\n",
      "Epoch 392/400\n",
      "1/1 [==============================] - 0s 2ms/step - loss: 112.2593 - accuracy: 0.4000\n",
      "Epoch 393/400\n",
      "1/1 [==============================] - 0s 4ms/step - loss: 161.9375 - accuracy: 0.2000\n",
      "Epoch 394/400\n",
      "1/1 [==============================] - 0s 3ms/step - loss: 19.0297 - accuracy: 0.4000\n",
      "Epoch 395/400\n",
      "1/1 [==============================] - 0s 2ms/step - loss: 83.0203 - accuracy: 0.4000\n",
      "Epoch 396/400\n",
      "1/1 [==============================] - 0s 2ms/step - loss: 47.9347 - accuracy: 0.6000\n",
      "Epoch 397/400\n",
      "1/1 [==============================] - 0s 2ms/step - loss: 105.6891 - accuracy: 0.6000\n",
      "Epoch 398/400\n",
      "1/1 [==============================] - 0s 2ms/step - loss: 105.7469 - accuracy: 0.6000\n",
      "Epoch 399/400\n",
      "1/1 [==============================] - 0s 1ms/step - loss: 180.4656 - accuracy: 0.2000\n",
      "Epoch 400/400\n",
      "1/1 [==============================] - 0s 2ms/step - loss: 185.4656 - accuracy: 0.4000\n",
      "1/1 [==============================] - 0s 832us/step\n",
      "1/1 [==============================] - 0s 785us/step\n"
     ]
    }
   ],
   "source": [
    "# Redefine (Dimension-related) Elements of Grid\n",
    "# param_grid_Deep_Classifier['input_dim'] = [1]\n",
    "param_grid_Deep_Classifier['output_dim'] = [N_Quantizers_to_parameterize]\n",
    "\n",
    "# Train simple deep classifier\n",
    "predicted_classes_train, predicted_classes_test, N_params_deep_classifier = build_simple_deep_classifier(n_folds = CV_folds, \n",
    "                                                                                                        n_jobs = n_jobs, \n",
    "                                                                                                        n_iter = n_iter, \n",
    "                                                                                                        param_grid_in=param_grid_Deep_Classifier, \n",
    "                                                                                                        X_train = x_Grid, \n",
    "                                                                                                        y_train = Classifer_Wasserstein_Centers.T,\n",
    "                                                                                                        X_test = x_Grid_test)"
   ]
  },
  {
   "cell_type": "markdown",
   "metadata": {},
   "source": [
    "#### Get Predicted Quantized Distributions\n",
    "- Each *row* of \"Predicted_Weights\" is the $\\beta\\in \\Delta_N$.\n",
    "- Each *Column* of \"Barycenters_Array\" denotes the $x_1,\\dots,x_N$ making up the points of the corresponding empirical measures."
   ]
  },
  {
   "cell_type": "code",
   "execution_count": 23,
   "metadata": {},
   "outputs": [
    {
     "name": "stderr",
     "output_type": "stream",
     "text": [
      "\r",
      "  0%|          | 0/4 [00:00<?, ?it/s]"
     ]
    },
    {
     "name": "stdout",
     "output_type": "stream",
     "text": [
      "#---------------------------------------#\n",
      "Building Training Set (Regression): START\n",
      "#---------------------------------------#\n"
     ]
    },
    {
     "name": "stderr",
     "output_type": "stream",
     "text": [
      "\r",
      "100%|██████████| 4/4 [00:00<00:00, 13718.08it/s]"
     ]
    },
    {
     "name": "stdout",
     "output_type": "stream",
     "text": [
      "#-------------------------------------#\n"
     ]
    },
    {
     "name": "stderr",
     "output_type": "stream",
     "text": [
      "\n",
      "\r",
      "  0%|          | 0/4 [00:00<?, ?it/s]"
     ]
    },
    {
     "name": "stdout",
     "output_type": "stream",
     "text": [
      "Building Training Set (Regression): END\n",
      "#-------------------------------------#\n",
      "#-------------------------------------#\n",
      "Building Test Set (Predictions): START\n",
      "#-------------------------------------#\n"
     ]
    },
    {
     "name": "stderr",
     "output_type": "stream",
     "text": [
      "\r",
      "100%|██████████| 4/4 [00:00<00:00, 5592.41it/s]"
     ]
    },
    {
     "name": "stdout",
     "output_type": "stream",
     "text": [
      "#-----------------------------------#\n",
      "Building Test Set (Predictions): END\n",
      "#-----------------------------------#\n",
      "#-----------------------------#\n",
      "Building Barycenters Set: START\n",
      "#-----------------------------#\n",
      "#-----------------------------#\n",
      "Building Barycenters Set: END\n",
      "#-----------------------------#\n"
     ]
    },
    {
     "name": "stderr",
     "output_type": "stream",
     "text": [
      "\n"
     ]
    }
   ],
   "source": [
    "# Format Weights\n",
    "## Train\n",
    "print(\"#---------------------------------------#\")\n",
    "print(\"Building Training Set (Regression): START\")\n",
    "print(\"#---------------------------------------#\")\n",
    "Predicted_Weights = np.array([])\n",
    "for i in tqdm(range(N_Quantizers_to_parameterize)):    \n",
    "    b = np.repeat(np.array(predicted_classes_train[:,i],dtype='float').reshape(-1,1),N_Monte_Carlo_Samples,axis=-1)\n",
    "    b = b/N_Monte_Carlo_Samples\n",
    "    if i ==0 :\n",
    "        Predicted_Weights = b\n",
    "    else:\n",
    "        Predicted_Weights = np.append(Predicted_Weights,b,axis=1)\n",
    "print(\"#-------------------------------------#\")\n",
    "print(\"Building Training Set (Regression): END\")\n",
    "print(\"#-------------------------------------#\")\n",
    "\n",
    "## Test\n",
    "print(\"#-------------------------------------#\")\n",
    "print(\"Building Test Set (Predictions): START\")\n",
    "print(\"#-------------------------------------#\")\n",
    "Predicted_Weights_test = np.array([])\n",
    "for i in tqdm(range(N_Quantizers_to_parameterize)):\n",
    "    b_test = np.repeat(np.array(predicted_classes_test[:,i],dtype='float').reshape(-1,1),N_Monte_Carlo_Samples,axis=-1)\n",
    "    b_test = b_test/N_Monte_Carlo_Samples\n",
    "    if i ==0 :\n",
    "        Predicted_Weights_test = b_test\n",
    "    else:\n",
    "        Predicted_Weights_test = np.append(Predicted_Weights_test,b_test,axis=1)\n",
    "print(\"#-----------------------------------#\")\n",
    "print(\"Building Test Set (Predictions): END\")\n",
    "print(\"#-----------------------------------#\")\n",
    "        \n",
    "# Format Points of Mass\n",
    "print(\"#-----------------------------#\")\n",
    "print(\"Building Barycenters Set: START\")\n",
    "print(\"#-----------------------------#\")\n",
    "Barycenters_Array = Barycenters_Array.T.reshape(-1,)\n",
    "print(\"#-----------------------------#\")\n",
    "print(\"Building Barycenters Set: END\")\n",
    "print(\"#-----------------------------#\")"
   ]
  },
  {
   "cell_type": "markdown",
   "metadata": {},
   "source": [
    "#### Stop Timer"
   ]
  },
  {
   "cell_type": "code",
   "execution_count": 24,
   "metadata": {},
   "outputs": [],
   "source": [
    "# Stop Timer\n",
    "Type_A_timer_end = time.time()\n",
    "# Compute Lapsed Time Needed For Training\n",
    "Time_Lapse_Model_A = Type_A_timer_end - Type_A_timer_Begin"
   ]
  },
  {
   "cell_type": "markdown",
   "metadata": {},
   "source": [
    "## Get Moment Predictions"
   ]
  },
  {
   "cell_type": "markdown",
   "metadata": {},
   "source": [
    "#### Write Predictions"
   ]
  },
  {
   "cell_type": "markdown",
   "metadata": {},
   "source": [
    "### Training-Set Result(s): "
   ]
  },
  {
   "cell_type": "code",
   "execution_count": 25,
   "metadata": {},
   "outputs": [
    {
     "name": "stderr",
     "output_type": "stream",
     "text": [
      "100%|██████████| 4/4 [00:00<00:00, 2499.59it/s]"
     ]
    },
    {
     "name": "stdout",
     "output_type": "stream",
     "text": [
      "Building Training Set Performance Metrics\n",
      "           W1  E[X']-E[X]  (E[X'^2]-E[X^2])^.5  (E[X'^3]-E[X^3])^(1/3)  \\\n",
      "MAE  0.045912    0.068022             0.004885                0.224913   \n",
      "MSE  0.002821    0.009138             0.000051                0.073141   \n",
      "\n",
      "     (E[X'^4]-E[X^4])^.25  \n",
      "MAE              0.289420  \n",
      "MSE              0.115405  \n"
     ]
    },
    {
     "name": "stderr",
     "output_type": "stream",
     "text": [
      "\n"
     ]
    }
   ],
   "source": [
    "print(\"Building Training Set Performance Metrics\")\n",
    "\n",
    "# Initialize Wasserstein-1 Error Distribution\n",
    "W1_errors = np.array([])\n",
    "Mean_errors = np.array([])\n",
    "Var_errors = np.array([])\n",
    "Skewness_errors = np.array([])\n",
    "Kurtosis_errors = np.array([])\n",
    "#---------------------------------------------------------------------------------------------#\n",
    "\n",
    "# Populate Error Distribution\n",
    "for x_i in tqdm(range(len(measures_locations_list)-1)):    \n",
    "    # Get Laws\n",
    "    W1_loop = ot.emd2_1d(Barycenters_Array,\n",
    "                         measures_locations_list[x_i].reshape(-1,),\n",
    "                         Predicted_Weights[x_i,].reshape(-1,),\n",
    "                         measures_weights_list[x_i].reshape(-1,))\n",
    "    W1_errors = np.append(W1_errors,W1_loop)\n",
    "    # Get Means\n",
    "    Mu_hat = np.sum((Predicted_Weights[x_i])*(Barycenters_Array))\n",
    "    Mu = np.mean(measures_locations_list[x_i])\n",
    "    Mean_errors =  np.append(Mean_errors,(Mu_hat-Mu))\n",
    "    # Get Var (non-centered)\n",
    "    Var_hat = np.sum((Barycenters_Array**2)*(Predicted_Weights[x_i]))\n",
    "    Var = np.mean(measures_locations_list[x_i]**2)\n",
    "    Var_errors = np.append(Var_errors,(Var_hat-Var)**2)\n",
    "    # Get skewness (non-centered)\n",
    "    Skewness_hat = np.sum((Barycenters_Array**3)*(Predicted_Weights[x_i]))\n",
    "    Skewness = np.mean(measures_locations_list[x_i]**3)\n",
    "    Skewness_errors = np.append(Skewness_errors,(abs(Skewness_hat-Skewness))**(1/3))\n",
    "    # Get skewness (non-centered)\n",
    "    Kurtosis_hat = np.sum((Barycenters_Array**4)*(Predicted_Weights[x_i]))\n",
    "    Kurtosis = np.mean(measures_locations_list[x_i]**4)\n",
    "    Kurtosis_errors = np.append(Kurtosis_errors,(abs(Kurtosis_hat-Kurtosis))**.25)\n",
    "    \n",
    "#---------------------------------------------------------------------------------------------#\n",
    "# Compute Error Statistics/Descriptors\n",
    "W1_Performance = np.array([np.mean(np.abs(W1_errors)),np.mean(W1_errors**2)])\n",
    "Mean_prediction_Performance = np.array([np.mean(np.abs(Mean_errors)),np.mean(Mean_errors**2)])\n",
    "Var_prediction_Performance = np.array([np.mean(np.abs(Var_errors)),np.mean(Var_errors**2)])\n",
    "Skewness_prediction_Performance = np.array([np.mean(np.abs(Skewness_errors)),np.mean(Skewness_errors**2)])\n",
    "Kurtosis_prediction_Performance = np.array([np.mean(np.abs(Kurtosis_errors)),np.mean(Kurtosis_errors**2)])\n",
    "\n",
    "Type_A_Prediction = pd.DataFrame({\"W1\":W1_Performance,\n",
    "                                  \"E[X']-E[X]\":Mean_prediction_Performance,\n",
    "                                  \"(E[X'^2]-E[X^2])^.5\":Var_prediction_Performance,\n",
    "                                  \"(E[X'^3]-E[X^3])^(1/3)\":Skewness_prediction_Performance,\n",
    "                                  \"(E[X'^4]-E[X^4])^.25\":Kurtosis_prediction_Performance},index=[\"MAE\",\"MSE\"])\n",
    "\n",
    "# Write Performance\n",
    "Type_A_Prediction.to_latex((results_tables_path+str(\"Roughness_\")+str(Rougness)+str(\"__RatiofBM_\")+str(Ratio_fBM_to_typical_vol)+\n",
    " \"__TypeAPrediction_Train.tex\"))\n",
    "\n",
    "\n",
    "#---------------------------------------------------------------------------------------------#\n",
    "# Update User\n",
    "print(Type_A_Prediction)"
   ]
  },
  {
   "cell_type": "markdown",
   "metadata": {},
   "source": [
    "---"
   ]
  },
  {
   "cell_type": "markdown",
   "metadata": {},
   "source": [
    "### Test-Set Result(s): "
   ]
  },
  {
   "cell_type": "code",
   "execution_count": 26,
   "metadata": {},
   "outputs": [
    {
     "name": "stderr",
     "output_type": "stream",
     "text": [
      "\r",
      "  0%|          | 0/3 [00:00<?, ?it/s]"
     ]
    },
    {
     "name": "stdout",
     "output_type": "stream",
     "text": [
      "Building Test Set Performance Metrics\n"
     ]
    },
    {
     "name": "stderr",
     "output_type": "stream",
     "text": [
      "100%|██████████| 3/3 [00:00<00:00, 598.79it/s]\n"
     ]
    }
   ],
   "source": [
    "print(\"Building Test Set Performance Metrics\")\n",
    "\n",
    "# Initialize Wasserstein-1 Error Distribution\n",
    "W1_errors_test = np.array([])\n",
    "Mean_errors_test = np.array([])\n",
    "Var_errors_test = np.array([])\n",
    "Skewness_errors_test = np.array([])\n",
    "Kurtosis_errors_test = np.array([])\n",
    "#---------------------------------------------------------------------------------------------#\n",
    "\n",
    "# Populate Error Distribution\n",
    "for x_i in tqdm(range(len(measures_locations_test_list)-1)):    \n",
    "    # Get Laws\n",
    "    W1_loop_test = ot.emd2_1d(Barycenters_Array,\n",
    "                         measures_locations_test_list[x_i].reshape(-1,),\n",
    "                         Predicted_Weights_test[x_i,].reshape(-1,),\n",
    "                         measures_weights_test_list[x_i].reshape(-1,))\n",
    "    W1_errors_test = np.append(W1_errors_test,W1_loop_test)\n",
    "    # Get Means\n",
    "    Mu_hat_test = np.sum((Predicted_Weights_test[x_i])*(Barycenters_Array))\n",
    "    Mu_test = np.mean(measures_locations_test_list[x_i])\n",
    "    Mean_errors_test =  np.append(Mean_errors_test,(Mu_hat_test-Mu_test))\n",
    "    # Get Var (non-centered)\n",
    "    Var_hat_test = np.sum((Barycenters_Array**2)*(Predicted_Weights_test[x_i]))\n",
    "    Var_test = np.mean(measures_locations_test_list[x_i]**2)\n",
    "    Var_errors_test = np.append(Var_errors_test,(Var_hat_test-Var_test)**2)\n",
    "    # Get skewness (non-centered)\n",
    "    Skewness_hat_test = np.sum((Barycenters_Array**3)*(Predicted_Weights_test[x_i]))\n",
    "    Skewness_test = np.mean(measures_locations_test_list[x_i]**3)\n",
    "    Skewness_errors_test = np.append(Skewness_errors_test,(abs(Skewness_hat_test-Skewness_test))**(1/3))\n",
    "    # Get skewness (non-centered)\n",
    "    Kurtosis_hat_test = np.sum((Barycenters_Array**4)*(Predicted_Weights_test[x_i]))\n",
    "    Kurtosis_test = np.mean(measures_locations_test_list[x_i]**4)\n",
    "    Kurtosis_errors_test = np.append(Kurtosis_errors_test,(abs(Kurtosis_hat_test-Kurtosis_test))**.25)\n",
    "    \n",
    "#---------------------------------------------------------------------------------------------#\n",
    "# Compute Error Statistics/Descriptors\n",
    "W1_Performance_test = np.array([np.mean(np.abs(W1_errors_test)),np.mean(W1_errors_test**2)])\n",
    "Mean_prediction_Performance_test = np.array([np.mean(np.abs(Mean_errors_test)),np.mean(Mean_errors_test**2)])\n",
    "Var_prediction_Performance_test = np.array([np.mean(np.abs(Var_errors_test)),np.mean(Var_errors_test**2)])\n",
    "Skewness_prediction_Performance_test = np.array([np.mean(np.abs(Skewness_errors_test)),np.mean(Skewness_errors_test**2)])\n",
    "Kurtosis_prediction_Performance_test = np.array([np.mean(np.abs(Kurtosis_errors_test)),np.mean(Kurtosis_errors_test**2)])\n",
    "\n",
    "Type_A_Prediction_test = pd.DataFrame({\"W1\":W1_Performance_test,\n",
    "                                  \"E[X']-E[X]\":Mean_prediction_Performance_test,\n",
    "                                  \"(E[X'^2]-E[X^2])^.5\":Var_prediction_Performance_test,\n",
    "                                  \"(E[X'^3]-E[X^3])^(1/3)\":Skewness_prediction_Performance_test,\n",
    "                                  \"(E[X'^4]-E[X^4])^.25\":Kurtosis_prediction_Performance_test},index=[\"MAE\",\"MSE\"])\n",
    "\n",
    "# Write Performance\n",
    "Type_A_Prediction_test.to_latex((results_tables_path+str(\"Roughness_\")+str(Rougness)+str(\"__RatiofBM_\")+str(Ratio_fBM_to_typical_vol)+\n",
    " \"__TypeAPrediction_Test.tex\"))"
   ]
  },
  {
   "cell_type": "markdown",
   "metadata": {},
   "source": [
    "## Update User"
   ]
  },
  {
   "cell_type": "markdown",
   "metadata": {},
   "source": [
    "### Training-Set Performance"
   ]
  },
  {
   "cell_type": "code",
   "execution_count": 27,
   "metadata": {},
   "outputs": [
    {
     "data": {
      "text/html": [
       "<div>\n",
       "<style scoped>\n",
       "    .dataframe tbody tr th:only-of-type {\n",
       "        vertical-align: middle;\n",
       "    }\n",
       "\n",
       "    .dataframe tbody tr th {\n",
       "        vertical-align: top;\n",
       "    }\n",
       "\n",
       "    .dataframe thead th {\n",
       "        text-align: right;\n",
       "    }\n",
       "</style>\n",
       "<table border=\"1\" class=\"dataframe\">\n",
       "  <thead>\n",
       "    <tr style=\"text-align: right;\">\n",
       "      <th></th>\n",
       "      <th>W1</th>\n",
       "      <th>E[X']-E[X]</th>\n",
       "      <th>(E[X'^2]-E[X^2])^.5</th>\n",
       "      <th>(E[X'^3]-E[X^3])^(1/3)</th>\n",
       "      <th>(E[X'^4]-E[X^4])^.25</th>\n",
       "    </tr>\n",
       "  </thead>\n",
       "  <tbody>\n",
       "    <tr>\n",
       "      <th>MAE</th>\n",
       "      <td>0.045912</td>\n",
       "      <td>0.068022</td>\n",
       "      <td>0.004885</td>\n",
       "      <td>0.224913</td>\n",
       "      <td>0.289420</td>\n",
       "    </tr>\n",
       "    <tr>\n",
       "      <th>MSE</th>\n",
       "      <td>0.002821</td>\n",
       "      <td>0.009138</td>\n",
       "      <td>0.000051</td>\n",
       "      <td>0.073141</td>\n",
       "      <td>0.115405</td>\n",
       "    </tr>\n",
       "  </tbody>\n",
       "</table>\n",
       "</div>"
      ],
      "text/plain": [
       "           W1  E[X']-E[X]  (E[X'^2]-E[X^2])^.5  (E[X'^3]-E[X^3])^(1/3)  \\\n",
       "MAE  0.045912    0.068022             0.004885                0.224913   \n",
       "MSE  0.002821    0.009138             0.000051                0.073141   \n",
       "\n",
       "     (E[X'^4]-E[X^4])^.25  \n",
       "MAE              0.289420  \n",
       "MSE              0.115405  "
      ]
     },
     "execution_count": 27,
     "metadata": {},
     "output_type": "execute_result"
    }
   ],
   "source": [
    "Type_A_Prediction"
   ]
  },
  {
   "cell_type": "markdown",
   "metadata": {},
   "source": [
    "### Test-Set Performance"
   ]
  },
  {
   "cell_type": "code",
   "execution_count": 28,
   "metadata": {},
   "outputs": [
    {
     "data": {
      "text/html": [
       "<div>\n",
       "<style scoped>\n",
       "    .dataframe tbody tr th:only-of-type {\n",
       "        vertical-align: middle;\n",
       "    }\n",
       "\n",
       "    .dataframe tbody tr th {\n",
       "        vertical-align: top;\n",
       "    }\n",
       "\n",
       "    .dataframe thead th {\n",
       "        text-align: right;\n",
       "    }\n",
       "</style>\n",
       "<table border=\"1\" class=\"dataframe\">\n",
       "  <thead>\n",
       "    <tr style=\"text-align: right;\">\n",
       "      <th></th>\n",
       "      <th>W1</th>\n",
       "      <th>E[X']-E[X]</th>\n",
       "      <th>(E[X'^2]-E[X^2])^.5</th>\n",
       "      <th>(E[X'^3]-E[X^3])^(1/3)</th>\n",
       "      <th>(E[X'^4]-E[X^4])^.25</th>\n",
       "    </tr>\n",
       "  </thead>\n",
       "  <tbody>\n",
       "    <tr>\n",
       "      <th>MAE</th>\n",
       "      <td>0.030840</td>\n",
       "      <td>0.047238</td>\n",
       "      <td>0.006411</td>\n",
       "      <td>0.232626</td>\n",
       "      <td>0.430831</td>\n",
       "    </tr>\n",
       "    <tr>\n",
       "      <th>MSE</th>\n",
       "      <td>0.001125</td>\n",
       "      <td>0.003810</td>\n",
       "      <td>0.000044</td>\n",
       "      <td>0.055643</td>\n",
       "      <td>0.185727</td>\n",
       "    </tr>\n",
       "  </tbody>\n",
       "</table>\n",
       "</div>"
      ],
      "text/plain": [
       "           W1  E[X']-E[X]  (E[X'^2]-E[X^2])^.5  (E[X'^3]-E[X^3])^(1/3)  \\\n",
       "MAE  0.030840    0.047238             0.006411                0.232626   \n",
       "MSE  0.001125    0.003810             0.000044                0.055643   \n",
       "\n",
       "     (E[X'^4]-E[X^4])^.25  \n",
       "MAE              0.430831  \n",
       "MSE              0.185727  "
      ]
     },
     "execution_count": 28,
     "metadata": {},
     "output_type": "execute_result"
    }
   ],
   "source": [
    "Type_A_Prediction_test"
   ]
  },
  {
   "cell_type": "markdown",
   "metadata": {},
   "source": [
    "### Print for Terminal Legibility"
   ]
  },
  {
   "cell_type": "code",
   "execution_count": 29,
   "metadata": {},
   "outputs": [
    {
     "name": "stdout",
     "output_type": "stream",
     "text": [
      "#----------------------#\n",
      "Training-Set Performance\n",
      "#----------------------#\n",
      "           W1  E[X']-E[X]  (E[X'^2]-E[X^2])^.5  (E[X'^3]-E[X^3])^(1/3)  \\\n",
      "MAE  0.045912    0.068022             0.004885                0.224913   \n",
      "MSE  0.002821    0.009138             0.000051                0.073141   \n",
      "\n",
      "     (E[X'^4]-E[X^4])^.25  \n",
      "MAE              0.289420  \n",
      "MSE              0.115405  \n",
      " \n",
      " \n",
      " \n",
      "#------------------#\n",
      "Test-Set Performance\n",
      "#------------------#\n",
      "           W1  E[X']-E[X]  (E[X'^2]-E[X^2])^.5  (E[X'^3]-E[X^3])^(1/3)  \\\n",
      "MAE  0.030840    0.047238             0.006411                0.232626   \n",
      "MSE  0.001125    0.003810             0.000044                0.055643   \n",
      "\n",
      "     (E[X'^4]-E[X^4])^.25  \n",
      "MAE              0.430831  \n",
      "MSE              0.185727  \n",
      " \n",
      " \n",
      " \n"
     ]
    }
   ],
   "source": [
    "print(\"#----------------------#\")\n",
    "print(\"Training-Set Performance\")\n",
    "print(\"#----------------------#\")\n",
    "print(Type_A_Prediction)\n",
    "print(\" \")\n",
    "print(\" \")\n",
    "print(\" \")\n",
    "\n",
    "print(\"#------------------#\")\n",
    "print(\"Test-Set Performance\")\n",
    "print(\"#------------------#\")\n",
    "print(Type_A_Prediction_test)\n",
    "print(\" \")\n",
    "print(\" \")\n",
    "print(\" \")"
   ]
  },
  {
   "cell_type": "markdown",
   "metadata": {},
   "source": [
    "# Visualization of Performance\n",
    "Randomly subsample from output space and visualize empirical measures!"
   ]
  },
  {
   "cell_type": "code",
   "execution_count": 30,
   "metadata": {},
   "outputs": [],
   "source": [
    "# # Adjust if is number of plots to visualizes is larger than number of output distributions (But only if there is not enough data!)\n",
    "# if N_Grid_Instances <= Visualization_Size**2:\n",
    "#         Visualization_Size = int(round(np.sqrt(min(N_Grid_Instances,Visualization_Size**2)))-1)\n",
    "\n",
    "\n",
    "# # Initialize Random Sample of input-output pairs to visualize\n",
    "# plotting_distribution_indices = random.sample(range(N_Grid_Instances), (Visualization_Size)**2)\n",
    "\n",
    "# # Generate Plot\n",
    "# f, axarr = plt.subplots(Visualization_Size,Visualization_Size,figsize=(6, 6), dpi=80, facecolor='w', edgecolor='k')\n",
    "# plt.suptitle(\"Sample of Predictions\")\n",
    "# for i in range(Visualization_Size):\n",
    "#     for j in range(Visualization_Size):\n",
    "#         # Get Current (Randomly chosen (uniformly)) Index\n",
    "#         current_index = (i*Visualization_Size + j)\n",
    "#         current_random_index = plotting_distribution_indices[current_index]\n",
    "#         # Generate Current Plot\n",
    "#         axarr[i,j].bar(Barycenters_Array,(Predicted_Weights[current_random_index].reshape(-1,)), alpha=0.5,label=\"Prediction\",color=\"chartreuse\")\n",
    "#         axarr[i,j].bar(measures_locations_list[current_random_index].reshape(-1,),measures_weights_list[current_random_index], alpha=0.5,label=\"Target\",color=\"purple\")"
   ]
  },
  {
   "cell_type": "markdown",
   "metadata": {},
   "source": [
    "---"
   ]
  },
  {
   "cell_type": "markdown",
   "metadata": {},
   "source": [
    "---\n",
    "# Fin\n",
    "---"
   ]
  },
  {
   "cell_type": "markdown",
   "metadata": {},
   "source": [
    "---"
   ]
  }
 ],
 "metadata": {
  "kernelspec": {
   "display_name": "Python 3",
   "language": "python",
   "name": "python3"
  },
  "language_info": {
   "codemirror_mode": {
    "name": "ipython",
    "version": 3
   },
   "file_extension": ".py",
   "mimetype": "text/x-python",
   "name": "python",
   "nbconvert_exporter": "python",
   "pygments_lexer": "ipython3",
   "version": "3.7.7"
  }
 },
 "nbformat": 4,
 "nbformat_minor": 2
}
