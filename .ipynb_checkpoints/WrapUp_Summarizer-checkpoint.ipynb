{
 "cells": [
  {
   "cell_type": "markdown",
   "metadata": {},
   "source": [
    "---\n",
    "# This Script Wraps-Ups and Saves the Final Experiment's Final Results \n",
    "---"
   ]
  },
  {
   "cell_type": "markdown",
   "metadata": {},
   "source": [
    "## Initialize Final Path"
   ]
  },
  {
   "cell_type": "code",
   "execution_count": 1,
   "metadata": {},
   "outputs": [],
   "source": [
    "# Final Outputs\n",
    "results_tables_path_final = \"./outputs/results/Final_Results/\"\n",
    "Path(results_tables_path_final).mkdir(parents=True, exist_ok=True)"
   ]
  },
  {
   "cell_type": "markdown",
   "metadata": {},
   "source": [
    "## Save and Summarize Model Complexitie(s)"
   ]
  },
  {
   "cell_type": "markdown",
   "metadata": {},
   "source": [
    "#### Compute"
   ]
  },
  {
   "cell_type": "code",
   "execution_count": null,
   "metadata": {},
   "outputs": [],
   "source": [
    "# Coercion\n",
    "Summary_Complexity_models = Summary_Complexity_models.T\n",
    "# Compute Complexity Metrics for GPR\n",
    "Deep_Neural_Model_Facts = np.array([(N_Monte_Carlo_Samples*(X_train.shape[0]+X_test.shape[0])),Test_Set_PredictionTime_MC,1])\n",
    "MCOracle_Facts = np.array([(N_Monte_Carlo_Samples*(X_train.shape[0]+X_test.shape[0])),Test_Set_PredictionTime_MC,1])\n",
    "# Update Model Complexities\n",
    "Summary_Complexity_models[\"DNM\"] = pd.Series(Deep_Neural_Model_Facts, index=Summary_Complexity_models.index)\n",
    "Summary_Complexity_models[\"MC_Oracle\"] = pd.Series(MCOracle_Facts, index=Summary_Complexity_models.index)\n",
    "# Coercion\n",
    "Summary_Complexity_models = Summary_Complexity_models\n",
    "Model_Complexities_Final = Summary_Complexity_models"
   ]
  },
  {
   "cell_type": "markdown",
   "metadata": {},
   "source": [
    "#### Write"
   ]
  },
  {
   "cell_type": "code",
   "execution_count": null,
   "metadata": {},
   "outputs": [],
   "source": [
    "# Save #\n",
    "pd.set_option('display.float_format', '{:.4E}'.format)\n",
    "Model_Complexities_Final.to_latex((results_tables_path_final+\"Latent_Width_NSDE\"+str(width)+\"Problemdimension\"+str(problem_dim)+\"__ModelComplexities.tex\"))"
   ]
  },
  {
   "cell_type": "markdown",
   "metadata": {},
   "source": [
    "## Prediction Metrics"
   ]
  },
  {
   "cell_type": "markdown",
   "metadata": {},
   "source": [
    "### Compute"
   ]
  },
  {
   "cell_type": "code",
   "execution_count": null,
   "metadata": {},
   "outputs": [],
   "source": [
    "# Get DNM Prediction Quality Metrics\n",
    "## Train\n",
    "W1_Errors_DNM_train = np.array([np.mean(np.abs(W1_errors)),\n",
    "                                np.mean(np.abs(Mean_errors)),\n",
    "                                np.mean(np.abs(Var_errors)),\n",
    "                                np.mean(np.abs(Skewness_errors)),\n",
    "                                np.mean(np.abs(Ex_Kurtosis_errors))])\n",
    "## Test\n",
    "W1_Errors_DNM_test =np.array([np.mean(np.abs(W1_errors_test)),\n",
    "                              np.mean(np.abs(Mean_errors_test)),\n",
    "                              np.mean(np.abs(Var_errors_test)),\n",
    "                              np.mean(np.abs(Skewness_errors_test)),\n",
    "                              np.mean(np.abs(Ex_Kurtosis_errors_test))])\n",
    "# Get MC-Oracle Quality Metrics\n",
    "## Train\n",
    "W1_Errors_MCOracle_train = np.array([0,\n",
    "                                np.mean(np.abs(Mean_errors_MC)),\n",
    "                                np.mean(np.abs(Var_errors_MC)),\n",
    "                                np.mean(np.abs(Skewness_errors_MC)),\n",
    "                                np.mean(np.abs(Ex_Kurtosis_errors_MC))])\n",
    "## Test\n",
    "W1_Errors_MCOracle_test =np.array([0,\n",
    "                              np.mean(np.abs(Mean_errors_MC_test)),\n",
    "                              np.mean(np.abs(Var_errors_MC_test)),\n",
    "                              np.mean(np.abs(Skewness_errors_MC_test)),\n",
    "                              np.mean(np.abs(Ex_Kurtosis_errors_MC_test))])"
   ]
  },
  {
   "cell_type": "markdown",
   "metadata": {},
   "source": [
    "### Summarize and Write"
   ]
  },
  {
   "cell_type": "code",
   "execution_count": null,
   "metadata": {},
   "outputs": [],
   "source": [
    "print(\"-------------------------------------------------\")\n",
    "print(\"Updating Performance Metrics Dataframe and Saved!\")\n",
    "print(\"-------------------------------------------------\")\n",
    "# Append Gaussian Process Regressor Performance\n",
    "## Train\n",
    "Summary_pred_Qual_models[\"MC-Oracle\"] = pd.Series((W1_Errors_MCOracle_train), index=Summary_pred_Qual_models.index)\n",
    "## Test\n",
    "Summary_pred_Qual_models_test[\"MC-Oracle\"] = pd.Series((W1_Errors_MCOracle_test), index=Summary_pred_Qual_models_test.index)\n",
    "\n",
    "# Append Deep Gaussian Network Performance\n",
    "## Train\n",
    "Summary_pred_Qual_models[\"DNM\"] = pd.Series((W1_Errors_DNM_train), index=Summary_pred_Qual_models.index)\n",
    "## Test\n",
    "Summary_pred_Qual_models_test[\"DNM\"] = pd.Series((W1_Errors_DNM_test), index=Summary_pred_Qual_models_test.index)\n",
    "\n",
    "# Rename\n",
    "PredictivePerformance_Metrics_Train = Summary_pred_Qual_models\n",
    "PredictivePerformance_Metrics_Test = Summary_pred_Qual_models_test\n",
    "\n",
    "# Update Performance Metrics\n",
    "## Train\n",
    "PredictivePerformance_Metrics_Train.to_latex((results_tables_path_final+str(f_unknown_mode)+\"Problemdimension\"+str(problem_dim)+\"__SUMMARY_METRICS.tex\"))\n",
    "## Test\n",
    "PredictivePerformance_Metrics_Test.to_latex((results_tables_path_final+str(f_unknown_mode)+\"Problemdimension\"+str(problem_dim)+\"__SUMMARY_METRICS_test.tex\"))\n",
    "\n",
    "print(\"------------------------------------------------\")\n",
    "print(\"Updated Performance Metrics Dataframe and Saved!\")\n",
    "print(\"------------------------------------------------\")"
   ]
  },
  {
   "cell_type": "markdown",
   "metadata": {},
   "source": [
    "---\n",
    "# Fin\n",
    "---"
   ]
  }
 ],
 "metadata": {
  "kernelspec": {
   "display_name": "Python 3",
   "language": "python",
   "name": "python3"
  },
  "language_info": {
   "codemirror_mode": {
    "name": "ipython",
    "version": 3
   },
   "file_extension": ".py",
   "mimetype": "text/x-python",
   "name": "python",
   "nbconvert_exporter": "python",
   "pygments_lexer": "ipython3",
   "version": "3.7.7"
  }
 },
 "nbformat": 4,
 "nbformat_minor": 2
}
