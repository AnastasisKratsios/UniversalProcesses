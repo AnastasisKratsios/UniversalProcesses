{
 "cells": [
  {
   "cell_type": "markdown",
   "metadata": {},
   "source": [
    "# Generic Conditional Laws for Random-Fields - via:\n",
    "\n",
    "## Universal $\\mathcal{P}_1(\\mathbb{R})$-Deep Neural Model $\\mathcal{NN}_{1_{\\mathbb{R}^n},\\mathcal{D}}^{\\sigma:\\star}$.\n",
    "\n",
    "---\n",
    "\n",
    "By: [Anastasis Kratsios](https://people.math.ethz.ch/~kratsioa/) - 2021.\n",
    "\n",
    "---\n",
    "\n",
    "## What does this code do?\n",
    "1. Learn Heteroskedastic Non-Linear Regression Problem\n",
    "     - $Y\\sim f_{\\text{unkown}}(x) + \\epsilon$ where $f$ is an known function and $\\epsilon\\sim Laplace(0,\\|x\\|)$\n",
    "2. Learn Random Bayesian Network's Law:\n",
    "    - $Y = W_J Y^{J-1}, \\qquad Y^{j}\\triangleq \\sigma\\bullet A^{j}Y^{j-1} + b^{j}, \\qquad Y^0\\triangleq x$\n",
    "\n",
    "3. In the above example if $A_j = M_j\\odot \\tilde{A_j}$ where $\\tilde{A}_j$ is a deterministic matrix and $M_j$ is a \"mask\", that is, a random matrix with binary entries and $\\odot$ is the Hadamard product then we recover the dropout framework."
   ]
  },
  {
   "cell_type": "markdown",
   "metadata": {},
   "source": [
    "#### Mode:\n",
    "Software/Hardware Testing or Real-Deal?"
   ]
  },
  {
   "cell_type": "code",
   "execution_count": 82,
   "metadata": {},
   "outputs": [],
   "source": [
    "trial_run = False"
   ]
  },
  {
   "cell_type": "markdown",
   "metadata": {},
   "source": [
    "### Simulation Method:"
   ]
  },
  {
   "cell_type": "code",
   "execution_count": 83,
   "metadata": {},
   "outputs": [],
   "source": [
    "# Random DNN\n",
    "f_unknown_mode = \"Heteroskedastic_NonLinear_Regression\"\n",
    "\n",
    "# Random DNN internal noise\n",
    "# f_unknown_mode = \"DNN_with_Random_Weights\"\n",
    "Depth_Bayesian_DNN = 10\n",
    "width = 20\n",
    "\n",
    "# Random Dropout applied to trained DNN\n",
    "# f_unknown_mode = \"DNN_with_Bayesian_Dropout\"\n",
    "Dropout_rate = 0.1\n",
    "\n",
    "# Rough SDE (time 1)\n",
    "# f_unknown_mode = \"Rough_SDE\""
   ]
  },
  {
   "cell_type": "markdown",
   "metadata": {},
   "source": [
    "#### Rough SDE Meta-Parameters"
   ]
  },
  {
   "cell_type": "code",
   "execution_count": 84,
   "metadata": {},
   "outputs": [],
   "source": [
    "# SDE with Rough Driver\n",
    "N_Euler_Steps = 10**1\n",
    "Hurst_Exponent = 0.001\n",
    "\n",
    "def alpha(t,x):\n",
    "    output_drift_update = t-x\n",
    "    return output_drift_update\n",
    "\n",
    "def beta(t,x):\n",
    "    output_vol_update = (t+0.001)*np.diag(np.cos(x))\n",
    "    return output_vol_update"
   ]
  },
  {
   "cell_type": "markdown",
   "metadata": {},
   "source": [
    "---\n",
    "# Training Algorithm:\n",
    "---\n",
    "- Random $\\delta$-bounded partition on input space,\n",
    "- Train deep classifier on infered classes.\n",
    "---\n",
    "---\n",
    "---\n",
    "## Notes - Why the procedure is so computationally efficient?\n",
    "---\n",
    " - The sample barycenters do not require us to solve for any new Wasserstein-1 Barycenters; which is much more computationally costly,\n",
    " - Our training procedure never back-propages through $\\mathcal{W}_1$ since steps 2 and 3 are full-decoupled.  Therefore, training our deep classifier is (comparatively) cheap since it takes values in the standard $N$-simplex.\n",
    "\n",
    "---"
   ]
  },
  {
   "cell_type": "markdown",
   "metadata": {},
   "source": [
    "## Load Auxiliaries"
   ]
  },
  {
   "cell_type": "code",
   "execution_count": 85,
   "metadata": {},
   "outputs": [
    {
     "name": "stdout",
     "output_type": "stream",
     "text": [
      "Deep Feature Builder - Ready\n",
      "Deep Classifier - Ready\n"
     ]
    }
   ],
   "source": [
    "# Load Packages/Modules\n",
    "exec(open('Init_Dump.py').read())\n",
    "# Load Hyper-parameter Grid\n",
    "exec(open('CV_Grid.py').read())\n",
    "# Load Helper Function(s)\n",
    "exec(open('Helper_Functions.py').read())\n",
    "# Import time separately\n",
    "import time\n",
    "os.environ['CUDA_VISIBLE_DEVICES'] = '0'\n",
    "\n",
    "\n",
    "# load dataset\n",
    "results_path = \"./outputs/models/\"\n",
    "results_tables_path = \"./outputs/results/\"\n",
    "raw_data_path_folder = \"./inputs/raw/\"\n",
    "data_path_folder = \"./inputs/data/\"\n",
    "\n",
    "\n",
    "### Set Seed\n",
    "random.seed(2021)\n",
    "np.random.seed(2021)\n",
    "tf.random.set_seed(2021)"
   ]
  },
  {
   "cell_type": "markdown",
   "metadata": {},
   "source": [
    "## Meta-Parameters"
   ]
  },
  {
   "cell_type": "markdown",
   "metadata": {},
   "source": [
    "### Simulation"
   ]
  },
  {
   "cell_type": "markdown",
   "metadata": {},
   "source": [
    "## Problem Dimension"
   ]
  },
  {
   "cell_type": "code",
   "execution_count": 86,
   "metadata": {},
   "outputs": [],
   "source": [
    "problem_dim = 10"
   ]
  },
  {
   "cell_type": "markdown",
   "metadata": {},
   "source": [
    "#### Grid Hyperparameter(s)\n",
    "- Ratio $\\frac{\\text{Testing Datasize}}{\\text{Training Datasize}}$.\n",
    "- Number of Training Points to Generate"
   ]
  },
  {
   "cell_type": "code",
   "execution_count": 87,
   "metadata": {},
   "outputs": [],
   "source": [
    "train_test_ratio = .2\n",
    "N_train_size = 10**2"
   ]
  },
  {
   "cell_type": "markdown",
   "metadata": {},
   "source": [
    "Monte-Carlo Paramters"
   ]
  },
  {
   "cell_type": "code",
   "execution_count": 88,
   "metadata": {},
   "outputs": [],
   "source": [
    "## Monte-Carlo\n",
    "N_Monte_Carlo_Samples = 10**3"
   ]
  },
  {
   "cell_type": "markdown",
   "metadata": {},
   "source": [
    "Initial radis of $\\delta$-bounded random partition of $\\mathcal{X}$!"
   ]
  },
  {
   "cell_type": "code",
   "execution_count": 89,
   "metadata": {},
   "outputs": [],
   "source": [
    "# Hyper-parameters of Cover\n",
    "delta = 0.01\n",
    "Proportion_per_cluster = .5"
   ]
  },
  {
   "cell_type": "markdown",
   "metadata": {},
   "source": [
    "**Note**: Setting *N_Quantizers_to_parameterize* prevents any barycenters and sub-sampling."
   ]
  },
  {
   "cell_type": "markdown",
   "metadata": {},
   "source": [
    "# Simulate from: $Y=f(X,W)$ \n",
    "- Random DNN (internal noise): \n",
    "    - $f(X,W) = f_{\\text{unknown}}(X+U)$\n",
    "- Random DNN: \n",
    "    - $f(X,W) = f_{\\text{unknown}}(X)+W$\n",
    "    \n",
    "*Non-linear dependance on exhaugenous noise.*"
   ]
  },
  {
   "cell_type": "markdown",
   "metadata": {},
   "source": [
    "## Heteroskedastic Regression Problem"
   ]
  },
  {
   "cell_type": "code",
   "execution_count": 90,
   "metadata": {},
   "outputs": [],
   "source": [
    "if f_unknown_mode == \"Heteroskedastic_NonLinear_Regression\":\n",
    "    #-----------#\n",
    "    # Build DNN #\n",
    "    #-----------#\n",
    "    W_feature = np.random.uniform(size=np.array([width,problem_dim]),low=-.5,high=.5)\n",
    "    W_readout = np.random.uniform(size=np.array([1,width]),low=-.5,high=.5)\n",
    "    # Generate Matrices\n",
    "    for i_weights in range(Depth_Bayesian_DNN):\n",
    "        W_hidden_loop = np.random.uniform(size=np.array([width,width]),low=-.5,high=.5)\n",
    "        if i_weights == 0:\n",
    "            W_hidden_list = [W_hidden_loop]\n",
    "        else:\n",
    "            W_hidden_list.append(W_hidden_loop)\n",
    "    # Define DNN Applier\n",
    "    def f_unknown(x):\n",
    "        x_internal = x.reshape(-1,)\n",
    "        x_internal = np.matmul(W_feature,x)\n",
    "        #Deep Layer(s)\n",
    "        for i in range(Depth_Bayesian_DNN):\n",
    "            W_internal = W_hidden_list[i]\n",
    "            x_internal = np.matmul(W_internal,x_internal)\n",
    "            x_internal = np.maximum(0,x_internal)    \n",
    "        # Readout Layer\n",
    "        x_internal = np.matmul(W_readout,x_internal)\n",
    "        return x_internal\n",
    "\n",
    "    # Define Simulator\n",
    "    def Simulator(x_in):\n",
    "        var = np.sqrt(np.sum(x_in**2))\n",
    "        # Pushforward\n",
    "        f_x = f_unknown(x_in)\n",
    "        # Apply Noise After\n",
    "        noise = np.random.laplace(0,var,N_Monte_Carlo_Samples)\n",
    "        f_x_noise = np.cos(f_x) + noise\n",
    "        return f_x_noise"
   ]
  },
  {
   "cell_type": "markdown",
   "metadata": {},
   "source": [
    "## Bayesian DNN"
   ]
  },
  {
   "cell_type": "code",
   "execution_count": 91,
   "metadata": {},
   "outputs": [],
   "source": [
    "if f_unknown_mode == \"DNN_with_Random_Weights\":\n",
    "    def f_unknown(x):\n",
    "        x_internal = x.reshape(-1,) \n",
    "        # Feature Map Layer\n",
    "        W_feature = np.random.uniform(size=np.array([width,problem_dim]),low=-.5,high=.5)\n",
    "        x_internal = np.matmul(W_feature,x)\n",
    "    #     Deep Layer(s)\n",
    "        for i in range(Depth_Bayesian_DNN):\n",
    "            W_internal = np.random.uniform(size=np.array([width,width]),low=-.5,high=.5)\n",
    "            x_internal = np.matmul(W_internal,x_internal)\n",
    "            x_internal = np.maximum(0,x_internal)    \n",
    "        # Readout Layer\n",
    "        W_readout = np.random.uniform(size=np.array([1,width]),low=-.5,high=.5)\n",
    "        x_internal = np.matmul(W_readout,x_internal)\n",
    "        return x_internal\n",
    "\n",
    "\n",
    "    def Simulator(x_in):\n",
    "        for i_MC in range(N_Monte_Carlo_Samples):\n",
    "            y_MC_loop = f_unknown(x_in)\n",
    "            if i_MC == 0:\n",
    "                y_MC = y_MC_loop\n",
    "            else:\n",
    "                y_MC = np.append(y_MC,y_MC_loop)\n",
    "        return y_MC"
   ]
  },
  {
   "cell_type": "markdown",
   "metadata": {},
   "source": [
    "## Bayesian Dropout"
   ]
  },
  {
   "cell_type": "code",
   "execution_count": 92,
   "metadata": {},
   "outputs": [],
   "source": [
    "if f_unknown_mode == \"DNN_with_Bayesian_Dropout\":\n",
    "    # Initialize Drouput Parameters\n",
    "    N_Dropout = int(np.maximum(1,round(width*Dropout_rate)))\n",
    "    \n",
    "    #-----------#\n",
    "    # Build DNN #\n",
    "    #-----------#\n",
    "    W_feature = np.random.uniform(size=np.array([width,problem_dim]),low=-.5,high=.5)\n",
    "    W_readout = np.random.uniform(size=np.array([1,width]),low=-.5,high=.5)\n",
    "    # Generate Matrices\n",
    "    for i_weights in range(Depth_Bayesian_DNN):\n",
    "        W_hidden_loop = np.random.uniform(size=np.array([width,width]),low=-.5,high=.5)\n",
    "        if i_weights == 0:\n",
    "            W_hidden_list = [W_hidden_loop]\n",
    "        else:\n",
    "            W_hidden_list.append(W_hidden_loop)\n",
    "    # Define DNN Applier\n",
    "    def f_unknown(x):\n",
    "        x_internal = x.reshape(-1,)\n",
    "        x_internal = np.matmul(W_feature,x)\n",
    "        #Deep Layer(s)\n",
    "        for i in range(Depth_Bayesian_DNN):\n",
    "            W_internal = W_hidden_list[i]\n",
    "            # Apply Random Dropout\n",
    "            random_mask_coordinates_i = np.random.choice(range(width),N_Dropout)\n",
    "            random_mask_coordinates_j = np.random.choice(range(width),N_Dropout)\n",
    "            W_internal[random_mask_coordinates_i,random_mask_coordinates_j] = 0\n",
    "            # Apply Dropped-out layer\n",
    "            x_internal = np.matmul(W_internal,x_internal)\n",
    "            x_internal = np.maximum(0,x_internal)    \n",
    "        # Readout Layer\n",
    "        x_internal = np.matmul(W_readout,x_internal)\n",
    "        return x_internal\n",
    "\n",
    "    def Simulator(x_in):\n",
    "        for i_MC in range(N_Monte_Carlo_Samples):\n",
    "            y_MC_loop = f_unknown(x_in)\n",
    "            if i_MC == 0:\n",
    "                y_MC = y_MC_loop\n",
    "            else:\n",
    "                y_MC = np.append(y_MC,y_MC_loop)\n",
    "        return y_MC"
   ]
  },
  {
   "cell_type": "markdown",
   "metadata": {},
   "source": [
    "### fSDEs\n",
    "Lean the conditional law of $I_{X_1 \\in Ball(0,1)}$ where $X_t$ solves an SDE with fBM driver."
   ]
  },
  {
   "cell_type": "code",
   "execution_count": 93,
   "metadata": {},
   "outputs": [],
   "source": [
    "if f_unknown_mode == \"Rough_SDE\":\n",
    "    # Initialize Drouput Parameters\n",
    "    N_Dropout = int(np.maximum(1,round(width*Dropout_rate)))\n",
    "    \n",
    "    #-----------#\n",
    "    # Build DNN #\n",
    "    #-----------#\n",
    "    W_feature = np.random.uniform(size=np.array([width,problem_dim]),low=-.5,high=.5)\n",
    "    W_readout = np.random.uniform(size=np.array([1,width]),low=-.5,high=.5)\n",
    "    # Generate Matrices\n",
    "    for i_weights in range(Depth_Bayesian_DNN):\n",
    "        W_hidden_loop = np.random.uniform(size=np.array([width,width]),low=-.5,high=.5)\n",
    "        if i_weights == 0:\n",
    "            W_hidden_list = [W_hidden_loop]\n",
    "        else:\n",
    "            W_hidden_list.append(W_hidden_loop)\n",
    "    # Define DNN Applier\n",
    "    def f_unknown(x):\n",
    "        x_internal = x.reshape(-1,)\n",
    "        # Get fBM path\n",
    "        for d in range(problem_dim):\n",
    "            fBM_gen_loop = (((FBM(n=N_Euler_Steps, hurst=Hurst_Exponent, length=1, method='daviesharte')).fbm())[1:]).reshape(-1,1)\n",
    "            if d == 0:\n",
    "                fBM_gen = fBM_gen_loop\n",
    "            else:\n",
    "                fBM_gen = np.append(fBM_gen,fBM_gen_loop,axis=-1)\n",
    "        # Perform Integral\n",
    "        for t in range(N_Euler_Steps):\n",
    "            drift_update = alpha(t/N_Euler_Steps,x_internal)/N_Euler_Steps\n",
    "            vol_update = beta(t/N_Euler_Steps,x_internal)\n",
    "            x_internal = x_internal + drift_update + np.matmul(vol_update,fBM_gen[t,])\n",
    "        # Sum at output\n",
    "        output_indicator = np.max(x_internal)\n",
    "        return output_indicator\n",
    "\n",
    "    def Simulator(x_in):\n",
    "        for i_MC in range(N_Monte_Carlo_Samples):\n",
    "            y_MC_loop = f_unknown(x_in)\n",
    "            if i_MC == 0:\n",
    "                y_MC = y_MC_loop\n",
    "            else:\n",
    "                y_MC = np.append(y_MC,y_MC_loop)\n",
    "        return y_MC"
   ]
  },
  {
   "cell_type": "markdown",
   "metadata": {},
   "source": [
    "## Initialize Data"
   ]
  },
  {
   "cell_type": "code",
   "execution_count": 94,
   "metadata": {},
   "outputs": [],
   "source": [
    "N_test_size = int(np.round(N_train_size*train_test_ratio,0))"
   ]
  },
  {
   "cell_type": "markdown",
   "metadata": {},
   "source": [
    "### Initialize Training Data (Inputs)"
   ]
  },
  {
   "cell_type": "markdown",
   "metadata": {},
   "source": [
    "Try initial sampling-type implementation!  It worked nicely..i.e.: centers were given!"
   ]
  },
  {
   "cell_type": "code",
   "execution_count": 95,
   "metadata": {},
   "outputs": [],
   "source": [
    "# Get Training Set\n",
    "X_train = np.random.uniform(size=np.array([N_train_size,problem_dim]),low=.5,high=1.5)\n",
    "\n",
    "# Get Testing Set\n",
    "test_set_indices = np.random.choice(range(X_train.shape[0]),N_test_size)\n",
    "X_test = X_train[test_set_indices,]\n",
    "X_test = X_test + np.random.uniform(low=-(delta/np.sqrt(problem_dim)), \n",
    "                                    high = -(delta/np.sqrt(problem_dim)),\n",
    "                                    size = X_test.shape)"
   ]
  },
  {
   "cell_type": "code",
   "execution_count": 96,
   "metadata": {},
   "outputs": [],
   "source": [
    "# Initialize k_means\n",
    "N_Quantizers_to_parameterize = int(np.maximum(2,round(Proportion_per_cluster*X_train.shape[0])))\n",
    "kmeans = KMeans(n_clusters=N_Quantizers_to_parameterize, random_state=0).fit(X_train)\n",
    "# Get Classes\n",
    "Train_classes = np.array(pd.get_dummies(kmeans.labels_))\n",
    "# Get Center Measures\n",
    "Barycenters_Array_x = kmeans.cluster_centers_"
   ]
  },
  {
   "cell_type": "markdown",
   "metadata": {},
   "source": [
    "### Get Barycenters\n",
    "*Here we make the assumption that we can directly resample $f(X=x,U)$ if necessary...or that it is available as part of the dataset.*"
   ]
  },
  {
   "cell_type": "code",
   "execution_count": 97,
   "metadata": {},
   "outputs": [
    {
     "name": "stderr",
     "output_type": "stream",
     "text": [
      "100%|██████████| 50/50 [00:00<00:00, 1624.59it/s]\n"
     ]
    }
   ],
   "source": [
    "for i in tqdm(range(Barycenters_Array_x.shape[0])):\n",
    "    # Put Datum\n",
    "    Bar_x_loop = Barycenters_Array_x[i,]\n",
    "    # Product Monte-Carlo Sample for Input\n",
    "    Bar_y_loop = (Simulator(Bar_x_loop)).reshape(1,-1)\n",
    "\n",
    "    # Update Dataset\n",
    "    if i == 0:\n",
    "        Barycenters_Array = Bar_y_loop\n",
    "    else:\n",
    "        Barycenters_Array = np.append(Barycenters_Array,Bar_y_loop,axis=0)"
   ]
  },
  {
   "cell_type": "markdown",
   "metadata": {},
   "source": [
    "### Initialize Training Data (Outputs)"
   ]
  },
  {
   "cell_type": "markdown",
   "metadata": {},
   "source": [
    "#### Get Training Set"
   ]
  },
  {
   "cell_type": "code",
   "execution_count": 98,
   "metadata": {},
   "outputs": [
    {
     "name": "stderr",
     "output_type": "stream",
     "text": [
      "100%|██████████| 100/100 [00:00<00:00, 1989.95it/s]\n"
     ]
    }
   ],
   "source": [
    "for i in tqdm(range(X_train.shape[0])):\n",
    "    # Put Datum\n",
    "    x_loop = X_train[i,]\n",
    "    # Product Monte-Carlo Sample for Input\n",
    "    y_loop = (Simulator(x_loop)).reshape(1,-1)\n",
    "\n",
    "    # Update Dataset\n",
    "    if i == 0:\n",
    "        Y_train = y_loop\n",
    "        Y_train_mean_emp = np.mean(y_loop)\n",
    "    else:\n",
    "        Y_train = np.append(Y_train,y_loop,axis=0)\n",
    "        Y_train_mean_emp = np.append(Y_train_mean_emp,np.mean(y_loop))"
   ]
  },
  {
   "cell_type": "markdown",
   "metadata": {},
   "source": [
    "#### Get Test Set"
   ]
  },
  {
   "cell_type": "code",
   "execution_count": 99,
   "metadata": {},
   "outputs": [
    {
     "name": "stderr",
     "output_type": "stream",
     "text": [
      "100%|██████████| 20/20 [00:00<00:00, 3204.20it/s]\n"
     ]
    }
   ],
   "source": [
    "# Start Timer\n",
    "Test_Set_PredictionTime_MC = time.time()\n",
    "\n",
    "# Generate Data\n",
    "for i in tqdm(range(X_test.shape[0])):\n",
    "    # Put Datum\n",
    "    x_loop = X_test[i,]\n",
    "    # Product Monte-Carlo Sample for Input\n",
    "    y_loop = (Simulator(x_loop)).reshape(1,-1)\n",
    "\n",
    "    # Update Dataset\n",
    "    if i == 0:\n",
    "        Y_test = y_loop\n",
    "    else:\n",
    "        Y_test = np.append(Y_test,y_loop,axis=0)\n",
    "        \n",
    "# End Timer\n",
    "Test_Set_PredictionTime_MC = time.time() - Test_Set_PredictionTime_MC"
   ]
  },
  {
   "cell_type": "markdown",
   "metadata": {},
   "source": [
    "# Train Model"
   ]
  },
  {
   "cell_type": "markdown",
   "metadata": {},
   "source": [
    "#### Start Timer"
   ]
  },
  {
   "cell_type": "code",
   "execution_count": 100,
   "metadata": {},
   "outputs": [],
   "source": [
    "# Start Timer\n",
    "Type_A_timer_Begin = time.time()"
   ]
  },
  {
   "cell_type": "markdown",
   "metadata": {},
   "source": [
    "### Train Deep Classifier"
   ]
  },
  {
   "cell_type": "markdown",
   "metadata": {},
   "source": [
    "In this step, we train a deep (feed-forward) classifier:\n",
    "$$\n",
    "\\hat{f}\\triangleq \\operatorname{Softmax}_N\\circ W_J\\circ \\sigma \\bullet \\dots \\sigma \\bullet W_1,\n",
    "$$\n",
    "to identify which barycenter we are closest to."
   ]
  },
  {
   "cell_type": "markdown",
   "metadata": {},
   "source": [
    "#### Train Deep Classifier"
   ]
  },
  {
   "cell_type": "markdown",
   "metadata": {},
   "source": [
    "Re-Load Packages and CV Grid"
   ]
  },
  {
   "cell_type": "code",
   "execution_count": 101,
   "metadata": {},
   "outputs": [
    {
     "name": "stdout",
     "output_type": "stream",
     "text": [
      "Deep Feature Builder - Ready\n",
      "Deep Classifier - Ready\n"
     ]
    }
   ],
   "source": [
    "# Re-Load Hyper-parameter Grid\n",
    "exec(open('CV_Grid.py').read())\n",
    "# Re-Load Classifier Function(s)\n",
    "exec(open('Helper_Functions.py').read())"
   ]
  },
  {
   "cell_type": "markdown",
   "metadata": {},
   "source": [
    "Train Deep Classifier"
   ]
  },
  {
   "cell_type": "code",
   "execution_count": 102,
   "metadata": {},
   "outputs": [
    {
     "name": "stdout",
     "output_type": "stream",
     "text": [
      "==========================================\n",
      "Training Classifer Portion of Type-A Model\n",
      "==========================================\n",
      "Fitting 4 folds for each of 5 candidates, totalling 20 fits\n"
     ]
    },
    {
     "name": "stderr",
     "output_type": "stream",
     "text": [
      "[Parallel(n_jobs=4)]: Using backend LokyBackend with 4 concurrent workers.\n",
      "[Parallel(n_jobs=4)]: Done   5 tasks      | elapsed:   37.0s\n",
      "[Parallel(n_jobs=4)]: Done  10 tasks      | elapsed:   46.4s\n",
      "[Parallel(n_jobs=4)]: Done  16 out of  20 | elapsed:  1.0min remaining:   15.1s\n",
      "[Parallel(n_jobs=4)]: Done  20 out of  20 | elapsed:  1.1min finished\n"
     ]
    },
    {
     "name": "stdout",
     "output_type": "stream",
     "text": [
      "Epoch 1/200\n",
      "4/4 [==============================] - 0s 3ms/step - loss: 3.9170 - accuracy: 0.0300\n",
      "Epoch 2/200\n",
      "4/4 [==============================] - 0s 3ms/step - loss: 3.8396 - accuracy: 0.1200\n",
      "Epoch 3/200\n",
      "4/4 [==============================] - 0s 2ms/step - loss: 3.7909 - accuracy: 0.0800\n",
      "Epoch 4/200\n",
      "4/4 [==============================] - 0s 5ms/step - loss: 3.7367 - accuracy: 0.0800\n",
      "Epoch 5/200\n",
      "4/4 [==============================] - 0s 5ms/step - loss: 3.6889 - accuracy: 0.0800\n",
      "Epoch 6/200\n",
      "4/4 [==============================] - 0s 5ms/step - loss: 3.6397 - accuracy: 0.0800\n",
      "Epoch 7/200\n",
      "4/4 [==============================] - 0s 6ms/step - loss: 3.5859 - accuracy: 0.0800\n",
      "Epoch 8/200\n",
      "4/4 [==============================] - 0s 3ms/step - loss: 3.5351 - accuracy: 0.0800\n",
      "Epoch 9/200\n",
      "4/4 [==============================] - 0s 5ms/step - loss: 3.4864 - accuracy: 0.0800\n",
      "Epoch 10/200\n",
      "4/4 [==============================] - 0s 4ms/step - loss: 3.4289 - accuracy: 0.0900\n",
      "Epoch 11/200\n",
      "4/4 [==============================] - 0s 4ms/step - loss: 3.3763 - accuracy: 0.1200\n",
      "Epoch 12/200\n",
      "4/4 [==============================] - 0s 4ms/step - loss: 3.3205 - accuracy: 0.1300\n",
      "Epoch 13/200\n",
      "4/4 [==============================] - 0s 6ms/step - loss: 3.2600 - accuracy: 0.1300\n",
      "Epoch 14/200\n",
      "4/4 [==============================] - 0s 5ms/step - loss: 3.1962 - accuracy: 0.1700\n",
      "Epoch 15/200\n",
      "4/4 [==============================] - 0s 4ms/step - loss: 3.1228 - accuracy: 0.2100\n",
      "Epoch 16/200\n",
      "4/4 [==============================] - 0s 6ms/step - loss: 3.0385 - accuracy: 0.2700\n",
      "Epoch 17/200\n",
      "4/4 [==============================] - 0s 4ms/step - loss: 2.9614 - accuracy: 0.3200\n",
      "Epoch 18/200\n",
      "4/4 [==============================] - 0s 3ms/step - loss: 2.8818 - accuracy: 0.3900\n",
      "Epoch 19/200\n",
      "4/4 [==============================] - 0s 4ms/step - loss: 2.7961 - accuracy: 0.4200\n",
      "Epoch 20/200\n",
      "4/4 [==============================] - 0s 4ms/step - loss: 2.7043 - accuracy: 0.4400\n",
      "Epoch 21/200\n",
      "4/4 [==============================] - 0s 3ms/step - loss: 2.6060 - accuracy: 0.4800\n",
      "Epoch 22/200\n",
      "4/4 [==============================] - 0s 3ms/step - loss: 2.5063 - accuracy: 0.4900\n",
      "Epoch 23/200\n",
      "4/4 [==============================] - 0s 4ms/step - loss: 2.4130 - accuracy: 0.5200\n",
      "Epoch 24/200\n",
      "4/4 [==============================] - 0s 4ms/step - loss: 2.3243 - accuracy: 0.5900\n",
      "Epoch 25/200\n",
      "4/4 [==============================] - 0s 5ms/step - loss: 2.2283 - accuracy: 0.5900\n",
      "Epoch 26/200\n",
      "4/4 [==============================] - 0s 4ms/step - loss: 2.1244 - accuracy: 0.5700\n",
      "Epoch 27/200\n",
      "4/4 [==============================] - 0s 6ms/step - loss: 2.0221 - accuracy: 0.5500\n",
      "Epoch 28/200\n",
      "4/4 [==============================] - 0s 4ms/step - loss: 1.9263 - accuracy: 0.5500\n",
      "Epoch 29/200\n",
      "4/4 [==============================] - 0s 4ms/step - loss: 1.8445 - accuracy: 0.5700\n",
      "Epoch 30/200\n",
      "4/4 [==============================] - 0s 5ms/step - loss: 1.7507 - accuracy: 0.6400\n",
      "Epoch 31/200\n",
      "4/4 [==============================] - 0s 4ms/step - loss: 1.6573 - accuracy: 0.6800\n",
      "Epoch 32/200\n",
      "4/4 [==============================] - 0s 5ms/step - loss: 1.5656 - accuracy: 0.7400\n",
      "Epoch 33/200\n",
      "4/4 [==============================] - 0s 4ms/step - loss: 1.4914 - accuracy: 0.7800\n",
      "Epoch 34/200\n",
      "4/4 [==============================] - 0s 5ms/step - loss: 1.3995 - accuracy: 0.8100\n",
      "Epoch 35/200\n",
      "4/4 [==============================] - 0s 4ms/step - loss: 1.3153 - accuracy: 0.8700\n",
      "Epoch 36/200\n",
      "4/4 [==============================] - 0s 4ms/step - loss: 1.2576 - accuracy: 0.8500\n",
      "Epoch 37/200\n",
      "4/4 [==============================] - 0s 4ms/step - loss: 1.1823 - accuracy: 0.8000\n",
      "Epoch 38/200\n",
      "4/4 [==============================] - 0s 5ms/step - loss: 1.1100 - accuracy: 0.8000\n",
      "Epoch 39/200\n",
      "4/4 [==============================] - 0s 4ms/step - loss: 1.0423 - accuracy: 0.8100\n",
      "Epoch 40/200\n",
      "4/4 [==============================] - 0s 5ms/step - loss: 0.9724 - accuracy: 0.8700\n",
      "Epoch 41/200\n",
      "4/4 [==============================] - 0s 3ms/step - loss: 0.9159 - accuracy: 0.8700\n",
      "Epoch 42/200\n",
      "4/4 [==============================] - 0s 7ms/step - loss: 0.8496 - accuracy: 0.9100\n",
      "Epoch 43/200\n",
      "4/4 [==============================] - 0s 4ms/step - loss: 0.7936 - accuracy: 0.9600\n",
      "Epoch 44/200\n",
      "4/4 [==============================] - 0s 5ms/step - loss: 0.7510 - accuracy: 0.9700\n",
      "Epoch 45/200\n",
      "4/4 [==============================] - 0s 4ms/step - loss: 0.7165 - accuracy: 0.9600\n",
      "Epoch 46/200\n",
      "4/4 [==============================] - 0s 4ms/step - loss: 0.6692 - accuracy: 0.9600\n",
      "Epoch 47/200\n",
      "4/4 [==============================] - 0s 3ms/step - loss: 0.6368 - accuracy: 0.9600\n",
      "Epoch 48/200\n",
      "4/4 [==============================] - 0s 3ms/step - loss: 0.6019 - accuracy: 0.9700\n",
      "Epoch 49/200\n",
      "4/4 [==============================] - 0s 3ms/step - loss: 0.5689 - accuracy: 0.9800\n",
      "Epoch 50/200\n",
      "4/4 [==============================] - 0s 4ms/step - loss: 0.5282 - accuracy: 0.9800\n",
      "Epoch 51/200\n",
      "4/4 [==============================] - 0s 5ms/step - loss: 0.5016 - accuracy: 0.9700\n",
      "Epoch 52/200\n",
      "4/4 [==============================] - 0s 4ms/step - loss: 0.4694 - accuracy: 0.9900\n",
      "Epoch 53/200\n",
      "4/4 [==============================] - 0s 3ms/step - loss: 0.4471 - accuracy: 1.0000\n",
      "Epoch 54/200\n",
      "4/4 [==============================] - 0s 3ms/step - loss: 0.4221 - accuracy: 1.0000\n",
      "Epoch 55/200\n",
      "4/4 [==============================] - 0s 3ms/step - loss: 0.4042 - accuracy: 0.9900\n",
      "Epoch 56/200\n",
      "4/4 [==============================] - 0s 4ms/step - loss: 0.3963 - accuracy: 0.9500\n",
      "Epoch 57/200\n",
      "4/4 [==============================] - 0s 4ms/step - loss: 0.3625 - accuracy: 0.9800\n",
      "Epoch 58/200\n",
      "4/4 [==============================] - 0s 5ms/step - loss: 0.3491 - accuracy: 0.9900\n",
      "Epoch 59/200\n",
      "4/4 [==============================] - 0s 6ms/step - loss: 0.3423 - accuracy: 0.9900\n",
      "Epoch 60/200\n",
      "4/4 [==============================] - 0s 6ms/step - loss: 0.3245 - accuracy: 0.9900\n",
      "Epoch 61/200\n",
      "4/4 [==============================] - 0s 3ms/step - loss: 0.2969 - accuracy: 0.9900\n",
      "Epoch 62/200\n",
      "4/4 [==============================] - 0s 4ms/step - loss: 0.2784 - accuracy: 1.0000\n",
      "Epoch 63/200\n",
      "4/4 [==============================] - 0s 5ms/step - loss: 0.2706 - accuracy: 1.0000\n",
      "Epoch 64/200\n",
      "4/4 [==============================] - 0s 3ms/step - loss: 0.2621 - accuracy: 1.0000\n",
      "Epoch 65/200\n",
      "4/4 [==============================] - 0s 6ms/step - loss: 0.2498 - accuracy: 1.0000\n",
      "Epoch 66/200\n",
      "4/4 [==============================] - 0s 3ms/step - loss: 0.2351 - accuracy: 1.0000\n",
      "Epoch 67/200\n",
      "4/4 [==============================] - 0s 4ms/step - loss: 0.2369 - accuracy: 0.9800\n",
      "Epoch 68/200\n",
      "4/4 [==============================] - 0s 5ms/step - loss: 0.2231 - accuracy: 0.9900\n",
      "Epoch 69/200\n",
      "4/4 [==============================] - 0s 4ms/step - loss: 0.2067 - accuracy: 1.0000\n",
      "Epoch 70/200\n",
      "4/4 [==============================] - 0s 6ms/step - loss: 0.2021 - accuracy: 1.0000\n",
      "Epoch 71/200\n",
      "4/4 [==============================] - 0s 8ms/step - loss: 0.1982 - accuracy: 1.0000\n",
      "Epoch 72/200\n",
      "4/4 [==============================] - 0s 4ms/step - loss: 0.1913 - accuracy: 1.0000\n",
      "Epoch 73/200\n",
      "4/4 [==============================] - 0s 4ms/step - loss: 0.1837 - accuracy: 1.0000\n",
      "Epoch 74/200\n",
      "4/4 [==============================] - 0s 4ms/step - loss: 0.1706 - accuracy: 1.0000\n",
      "Epoch 75/200\n",
      "4/4 [==============================] - 0s 3ms/step - loss: 0.1701 - accuracy: 1.0000\n",
      "Epoch 76/200\n",
      "4/4 [==============================] - 0s 4ms/step - loss: 0.1715 - accuracy: 1.0000\n",
      "Epoch 77/200\n",
      "4/4 [==============================] - 0s 4ms/step - loss: 0.1596 - accuracy: 1.0000\n",
      "Epoch 78/200\n",
      "4/4 [==============================] - 0s 3ms/step - loss: 0.1489 - accuracy: 1.0000\n",
      "Epoch 79/200\n",
      "4/4 [==============================] - 0s 4ms/step - loss: 0.1439 - accuracy: 1.0000\n",
      "Epoch 80/200\n",
      "4/4 [==============================] - 0s 3ms/step - loss: 0.1436 - accuracy: 1.0000\n",
      "Epoch 81/200\n",
      "4/4 [==============================] - 0s 6ms/step - loss: 0.1404 - accuracy: 1.0000\n",
      "Epoch 82/200\n",
      "4/4 [==============================] - 0s 3ms/step - loss: 0.1402 - accuracy: 1.0000\n",
      "Epoch 83/200\n",
      "4/4 [==============================] - 0s 6ms/step - loss: 0.1280 - accuracy: 1.0000\n",
      "Epoch 84/200\n"
     ]
    },
    {
     "name": "stdout",
     "output_type": "stream",
     "text": [
      "4/4 [==============================] - 0s 3ms/step - loss: 0.1333 - accuracy: 0.9900\n",
      "Epoch 85/200\n",
      "4/4 [==============================] - 0s 4ms/step - loss: 0.1339 - accuracy: 0.9900\n",
      "Epoch 86/200\n",
      "4/4 [==============================] - 0s 5ms/step - loss: 0.1232 - accuracy: 0.9900\n",
      "Epoch 87/200\n",
      "4/4 [==============================] - 0s 5ms/step - loss: 0.1140 - accuracy: 1.0000\n",
      "Epoch 88/200\n",
      "4/4 [==============================] - 0s 4ms/step - loss: 0.1083 - accuracy: 1.0000\n",
      "Epoch 89/200\n",
      "4/4 [==============================] - 0s 6ms/step - loss: 0.1069 - accuracy: 1.0000\n",
      "Epoch 90/200\n",
      "4/4 [==============================] - 0s 5ms/step - loss: 0.1052 - accuracy: 1.0000\n",
      "Epoch 91/200\n",
      "4/4 [==============================] - 0s 4ms/step - loss: 0.1022 - accuracy: 1.0000\n",
      "Epoch 92/200\n",
      "4/4 [==============================] - 0s 3ms/step - loss: 0.1005 - accuracy: 0.9900\n",
      "Epoch 93/200\n",
      "4/4 [==============================] - 0s 4ms/step - loss: 0.0967 - accuracy: 1.0000\n",
      "Epoch 94/200\n",
      "4/4 [==============================] - 0s 3ms/step - loss: 0.0930 - accuracy: 1.0000\n",
      "Epoch 95/200\n",
      "4/4 [==============================] - 0s 4ms/step - loss: 0.0895 - accuracy: 1.0000\n",
      "Epoch 96/200\n",
      "4/4 [==============================] - 0s 4ms/step - loss: 0.0897 - accuracy: 1.0000\n",
      "Epoch 97/200\n",
      "4/4 [==============================] - 0s 4ms/step - loss: 0.0874 - accuracy: 1.0000\n",
      "Epoch 98/200\n",
      "4/4 [==============================] - 0s 4ms/step - loss: 0.0848 - accuracy: 1.0000\n",
      "Epoch 99/200\n",
      "4/4 [==============================] - 0s 4ms/step - loss: 0.0806 - accuracy: 1.0000\n",
      "Epoch 100/200\n",
      "4/4 [==============================] - 0s 5ms/step - loss: 0.0790 - accuracy: 1.0000\n",
      "Epoch 101/200\n",
      "4/4 [==============================] - 0s 5ms/step - loss: 0.0770 - accuracy: 1.0000\n",
      "Epoch 102/200\n",
      "4/4 [==============================] - 0s 4ms/step - loss: 0.0754 - accuracy: 1.0000\n",
      "Epoch 103/200\n",
      "4/4 [==============================] - 0s 4ms/step - loss: 0.0735 - accuracy: 1.0000\n",
      "Epoch 104/200\n",
      "4/4 [==============================] - 0s 4ms/step - loss: 0.0720 - accuracy: 1.0000\n",
      "Epoch 105/200\n",
      "4/4 [==============================] - 0s 4ms/step - loss: 0.0702 - accuracy: 1.0000\n",
      "Epoch 106/200\n",
      "4/4 [==============================] - 0s 5ms/step - loss: 0.0691 - accuracy: 1.0000\n",
      "Epoch 107/200\n",
      "4/4 [==============================] - 0s 4ms/step - loss: 0.0705 - accuracy: 1.0000\n",
      "Epoch 108/200\n",
      "4/4 [==============================] - 0s 5ms/step - loss: 0.0707 - accuracy: 1.0000\n",
      "Epoch 109/200\n",
      "4/4 [==============================] - 0s 5ms/step - loss: 0.0683 - accuracy: 1.0000\n",
      "Epoch 110/200\n",
      "4/4 [==============================] - 0s 4ms/step - loss: 0.0639 - accuracy: 1.0000\n",
      "Epoch 111/200\n",
      "4/4 [==============================] - 0s 4ms/step - loss: 0.0620 - accuracy: 1.0000\n",
      "Epoch 112/200\n",
      "4/4 [==============================] - 0s 5ms/step - loss: 0.0608 - accuracy: 1.0000\n",
      "Epoch 113/200\n",
      "4/4 [==============================] - 0s 3ms/step - loss: 0.0596 - accuracy: 1.0000\n",
      "Epoch 114/200\n",
      "4/4 [==============================] - 0s 5ms/step - loss: 0.0588 - accuracy: 1.0000\n",
      "Epoch 115/200\n",
      "4/4 [==============================] - 0s 4ms/step - loss: 0.0570 - accuracy: 1.0000\n",
      "Epoch 116/200\n",
      "4/4 [==============================] - 0s 5ms/step - loss: 0.0558 - accuracy: 1.0000\n",
      "Epoch 117/200\n",
      "4/4 [==============================] - 0s 6ms/step - loss: 0.0558 - accuracy: 1.0000\n",
      "Epoch 118/200\n",
      "4/4 [==============================] - 0s 4ms/step - loss: 0.0548 - accuracy: 1.0000\n",
      "Epoch 119/200\n",
      "4/4 [==============================] - 0s 7ms/step - loss: 0.0539 - accuracy: 1.0000\n",
      "Epoch 120/200\n",
      "4/4 [==============================] - 0s 3ms/step - loss: 0.0520 - accuracy: 1.0000\n",
      "Epoch 121/200\n",
      "4/4 [==============================] - 0s 7ms/step - loss: 0.0568 - accuracy: 1.0000\n",
      "Epoch 122/200\n",
      "4/4 [==============================] - 0s 8ms/step - loss: 0.0597 - accuracy: 1.0000\n",
      "Epoch 123/200\n",
      "4/4 [==============================] - 0s 3ms/step - loss: 0.0511 - accuracy: 1.0000\n",
      "Epoch 124/200\n",
      "4/4 [==============================] - 0s 4ms/step - loss: 0.0468 - accuracy: 1.0000\n",
      "Epoch 125/200\n",
      "4/4 [==============================] - 0s 4ms/step - loss: 0.0485 - accuracy: 1.0000\n",
      "Epoch 126/200\n",
      "4/4 [==============================] - 0s 4ms/step - loss: 0.0474 - accuracy: 1.0000\n",
      "Epoch 127/200\n",
      "4/4 [==============================] - 0s 3ms/step - loss: 0.0464 - accuracy: 1.0000\n",
      "Epoch 128/200\n",
      "4/4 [==============================] - 0s 3ms/step - loss: 0.0464 - accuracy: 1.0000\n",
      "Epoch 129/200\n",
      "4/4 [==============================] - 0s 3ms/step - loss: 0.0443 - accuracy: 1.0000\n",
      "Epoch 130/200\n",
      "4/4 [==============================] - 0s 3ms/step - loss: 0.0427 - accuracy: 1.0000\n",
      "Epoch 131/200\n",
      "4/4 [==============================] - 0s 4ms/step - loss: 0.0421 - accuracy: 1.0000\n",
      "Epoch 132/200\n",
      "4/4 [==============================] - 0s 3ms/step - loss: 0.0407 - accuracy: 1.0000\n",
      "Epoch 133/200\n",
      "4/4 [==============================] - 0s 4ms/step - loss: 0.0400 - accuracy: 1.0000\n",
      "Epoch 134/200\n",
      "4/4 [==============================] - 0s 4ms/step - loss: 0.0393 - accuracy: 1.0000\n",
      "Epoch 135/200\n",
      "4/4 [==============================] - 0s 4ms/step - loss: 0.0390 - accuracy: 1.0000\n",
      "Epoch 136/200\n",
      "4/4 [==============================] - 0s 4ms/step - loss: 0.0382 - accuracy: 1.0000\n",
      "Epoch 137/200\n",
      "4/4 [==============================] - 0s 3ms/step - loss: 0.0395 - accuracy: 1.0000\n",
      "Epoch 138/200\n",
      "4/4 [==============================] - 0s 4ms/step - loss: 0.0402 - accuracy: 1.0000\n",
      "Epoch 139/200\n",
      "4/4 [==============================] - 0s 3ms/step - loss: 0.0371 - accuracy: 1.0000\n",
      "Epoch 140/200\n",
      "4/4 [==============================] - 0s 5ms/step - loss: 0.0383 - accuracy: 1.0000\n",
      "Epoch 141/200\n",
      "4/4 [==============================] - 0s 3ms/step - loss: 0.0381 - accuracy: 1.0000\n",
      "Epoch 142/200\n",
      "4/4 [==============================] - 0s 4ms/step - loss: 0.0357 - accuracy: 1.0000\n",
      "Epoch 143/200\n",
      "4/4 [==============================] - 0s 4ms/step - loss: 0.0343 - accuracy: 1.0000\n",
      "Epoch 144/200\n",
      "4/4 [==============================] - 0s 4ms/step - loss: 0.0373 - accuracy: 1.0000\n",
      "Epoch 145/200\n",
      "4/4 [==============================] - 0s 4ms/step - loss: 0.0362 - accuracy: 1.0000\n",
      "Epoch 146/200\n",
      "4/4 [==============================] - 0s 4ms/step - loss: 0.0331 - accuracy: 1.0000\n",
      "Epoch 147/200\n",
      "4/4 [==============================] - 0s 4ms/step - loss: 0.0323 - accuracy: 1.0000\n",
      "Epoch 148/200\n",
      "4/4 [==============================] - 0s 4ms/step - loss: 0.0325 - accuracy: 1.0000\n",
      "Epoch 149/200\n",
      "4/4 [==============================] - 0s 3ms/step - loss: 0.0328 - accuracy: 1.0000\n",
      "Epoch 150/200\n",
      "4/4 [==============================] - 0s 4ms/step - loss: 0.0326 - accuracy: 1.0000\n",
      "Epoch 151/200\n",
      "4/4 [==============================] - 0s 4ms/step - loss: 0.0304 - accuracy: 1.0000\n",
      "Epoch 152/200\n",
      "4/4 [==============================] - 0s 4ms/step - loss: 0.0292 - accuracy: 1.0000\n",
      "Epoch 153/200\n",
      "4/4 [==============================] - 0s 5ms/step - loss: 0.0291 - accuracy: 1.0000\n",
      "Epoch 154/200\n",
      "4/4 [==============================] - 0s 5ms/step - loss: 0.0285 - accuracy: 1.0000\n",
      "Epoch 155/200\n",
      "4/4 [==============================] - 0s 5ms/step - loss: 0.0280 - accuracy: 1.0000\n",
      "Epoch 156/200\n",
      "4/4 [==============================] - 0s 3ms/step - loss: 0.0277 - accuracy: 1.0000\n",
      "Epoch 157/200\n",
      "4/4 [==============================] - 0s 4ms/step - loss: 0.0281 - accuracy: 1.0000\n",
      "Epoch 158/200\n",
      "4/4 [==============================] - 0s 3ms/step - loss: 0.0276 - accuracy: 1.0000\n",
      "Epoch 159/200\n",
      "4/4 [==============================] - 0s 3ms/step - loss: 0.0270 - accuracy: 1.0000\n",
      "Epoch 160/200\n",
      "4/4 [==============================] - 0s 3ms/step - loss: 0.0261 - accuracy: 1.0000\n",
      "Epoch 161/200\n",
      "4/4 [==============================] - 0s 4ms/step - loss: 0.0257 - accuracy: 1.0000\n",
      "Epoch 162/200\n",
      "4/4 [==============================] - 0s 4ms/step - loss: 0.0253 - accuracy: 1.0000\n",
      "Epoch 163/200\n",
      "4/4 [==============================] - 0s 4ms/step - loss: 0.0249 - accuracy: 1.0000\n",
      "Epoch 164/200\n",
      "4/4 [==============================] - 0s 3ms/step - loss: 0.0246 - accuracy: 1.0000\n",
      "Epoch 165/200\n",
      "4/4 [==============================] - 0s 4ms/step - loss: 0.0243 - accuracy: 1.0000\n",
      "Epoch 166/200\n",
      "4/4 [==============================] - 0s 4ms/step - loss: 0.0239 - accuracy: 1.0000\n",
      "Epoch 167/200\n"
     ]
    },
    {
     "name": "stdout",
     "output_type": "stream",
     "text": [
      "4/4 [==============================] - 0s 4ms/step - loss: 0.0239 - accuracy: 1.0000\n",
      "Epoch 168/200\n",
      "4/4 [==============================] - 0s 5ms/step - loss: 0.0259 - accuracy: 1.0000\n",
      "Epoch 169/200\n",
      "4/4 [==============================] - 0s 4ms/step - loss: 0.0248 - accuracy: 1.0000\n",
      "Epoch 170/200\n",
      "4/4 [==============================] - 0s 4ms/step - loss: 0.0243 - accuracy: 1.0000\n",
      "Epoch 171/200\n",
      "4/4 [==============================] - 0s 4ms/step - loss: 0.0253 - accuracy: 1.0000\n",
      "Epoch 172/200\n",
      "4/4 [==============================] - 0s 5ms/step - loss: 0.0247 - accuracy: 1.0000\n",
      "Epoch 173/200\n",
      "4/4 [==============================] - 0s 4ms/step - loss: 0.0226 - accuracy: 1.0000\n",
      "Epoch 174/200\n",
      "4/4 [==============================] - 0s 3ms/step - loss: 0.0218 - accuracy: 1.0000\n",
      "Epoch 175/200\n",
      "4/4 [==============================] - 0s 5ms/step - loss: 0.0213 - accuracy: 1.0000\n",
      "Epoch 176/200\n",
      "4/4 [==============================] - 0s 4ms/step - loss: 0.0217 - accuracy: 1.0000\n",
      "Epoch 177/200\n",
      "4/4 [==============================] - 0s 4ms/step - loss: 0.0219 - accuracy: 1.0000\n",
      "Epoch 178/200\n",
      "4/4 [==============================] - 0s 4ms/step - loss: 0.0215 - accuracy: 1.0000\n",
      "Epoch 179/200\n",
      "4/4 [==============================] - 0s 3ms/step - loss: 0.0207 - accuracy: 1.0000\n",
      "Epoch 180/200\n",
      "4/4 [==============================] - 0s 4ms/step - loss: 0.0202 - accuracy: 1.0000\n",
      "Epoch 181/200\n",
      "4/4 [==============================] - 0s 4ms/step - loss: 0.0196 - accuracy: 1.0000\n",
      "Epoch 182/200\n",
      "4/4 [==============================] - 0s 4ms/step - loss: 0.0196 - accuracy: 1.0000\n",
      "Epoch 183/200\n",
      "4/4 [==============================] - 0s 4ms/step - loss: 0.0192 - accuracy: 1.0000\n",
      "Epoch 184/200\n",
      "4/4 [==============================] - 0s 4ms/step - loss: 0.0190 - accuracy: 1.0000\n",
      "Epoch 185/200\n",
      "4/4 [==============================] - 0s 4ms/step - loss: 0.0188 - accuracy: 1.0000\n",
      "Epoch 186/200\n",
      "4/4 [==============================] - 0s 3ms/step - loss: 0.0185 - accuracy: 1.0000\n",
      "Epoch 187/200\n",
      "4/4 [==============================] - 0s 4ms/step - loss: 0.0182 - accuracy: 1.0000\n",
      "Epoch 188/200\n",
      "4/4 [==============================] - 0s 4ms/step - loss: 0.0182 - accuracy: 1.0000\n",
      "Epoch 189/200\n",
      "4/4 [==============================] - 0s 3ms/step - loss: 0.0182 - accuracy: 1.0000\n",
      "Epoch 190/200\n",
      "4/4 [==============================] - 0s 4ms/step - loss: 0.0179 - accuracy: 1.0000\n",
      "Epoch 191/200\n",
      "4/4 [==============================] - 0s 4ms/step - loss: 0.0175 - accuracy: 1.0000\n",
      "Epoch 192/200\n",
      "4/4 [==============================] - 0s 4ms/step - loss: 0.0172 - accuracy: 1.0000\n",
      "Epoch 193/200\n",
      "4/4 [==============================] - 0s 3ms/step - loss: 0.0169 - accuracy: 1.0000\n",
      "Epoch 194/200\n",
      "4/4 [==============================] - 0s 3ms/step - loss: 0.0170 - accuracy: 1.0000\n",
      "Epoch 195/200\n",
      "4/4 [==============================] - 0s 3ms/step - loss: 0.0173 - accuracy: 1.0000\n",
      "Epoch 196/200\n",
      "4/4 [==============================] - 0s 3ms/step - loss: 0.0169 - accuracy: 1.0000\n",
      "Epoch 197/200\n",
      "4/4 [==============================] - 0s 3ms/step - loss: 0.0165 - accuracy: 1.0000\n",
      "Epoch 198/200\n",
      "4/4 [==============================] - 0s 4ms/step - loss: 0.0159 - accuracy: 1.0000\n",
      "Epoch 199/200\n",
      "4/4 [==============================] - 0s 4ms/step - loss: 0.0158 - accuracy: 1.0000\n",
      "Epoch 200/200\n",
      "4/4 [==============================] - 0s 4ms/step - loss: 0.0157 - accuracy: 1.0000\n",
      "4/4 [==============================] - 0s 2ms/step\n",
      "1/1 [==============================] - 0s 5ms/step\n",
      "===============================================\n",
      "Training Classifer Portion of Type Model: Done!\n",
      "===============================================\n"
     ]
    }
   ],
   "source": [
    "print(\"==========================================\")\n",
    "print(\"Training Classifer Portion of Type-A Model\")\n",
    "print(\"==========================================\")\n",
    "\n",
    "# Redefine (Dimension-related) Elements of Grid\n",
    "param_grid_Deep_Classifier['input_dim'] = [problem_dim]\n",
    "param_grid_Deep_Classifier['output_dim'] = [N_Quantizers_to_parameterize]\n",
    "\n",
    "# Train simple deep classifier\n",
    "predicted_classes_train, predicted_classes_test, N_params_deep_classifier, timer_output = build_simple_deep_classifier(n_folds = CV_folds, \n",
    "                                                                                                        n_jobs = n_jobs, \n",
    "                                                                                                        n_iter = n_iter, \n",
    "                                                                                                        param_grid_in=param_grid_Deep_Classifier, \n",
    "                                                                                                        X_train = X_train, \n",
    "                                                                                                        y_train = Train_classes,\n",
    "                                                                                                        X_test = X_test)\n",
    "\n",
    "print(\"===============================================\")\n",
    "print(\"Training Classifer Portion of Type Model: Done!\")\n",
    "print(\"===============================================\")"
   ]
  },
  {
   "cell_type": "markdown",
   "metadata": {},
   "source": [
    "#### Get Predicted Quantized Distributions\n",
    "- Each *row* of \"Predicted_Weights\" is the $\\beta\\in \\Delta_N$.\n",
    "- Each *Column* of \"Barycenters_Array\" denotes the $x_1,\\dots,x_N$ making up the points of the corresponding empirical measures."
   ]
  },
  {
   "cell_type": "code",
   "execution_count": 103,
   "metadata": {},
   "outputs": [],
   "source": [
    "# Initialize Empirical Weights\n",
    "empirical_weights = (np.ones(N_Monte_Carlo_Samples)/N_Monte_Carlo_Samples).reshape(-1,)\n",
    "\n",
    "for i in range(N_Quantizers_to_parameterize):\n",
    "    if i == 0:\n",
    "        points_of_mass = Barycenters_Array[i,]\n",
    "    else:\n",
    "        points_of_mass = np.append(points_of_mass,Barycenters_Array[i,])"
   ]
  },
  {
   "cell_type": "code",
   "execution_count": 104,
   "metadata": {},
   "outputs": [],
   "source": [
    "# Get Noisless Mean\n",
    "direct_facts = np.apply_along_axis(f_unknown, 1, X_train)\n",
    "direct_facts_test = np.apply_along_axis(f_unknown, 1, X_test)"
   ]
  },
  {
   "cell_type": "markdown",
   "metadata": {},
   "source": [
    "#### Get Error(s)"
   ]
  },
  {
   "cell_type": "code",
   "execution_count": 110,
   "metadata": {},
   "outputs": [],
   "source": [
    "%run Evaluation.ipynb"
   ]
  },
  {
   "cell_type": "markdown",
   "metadata": {},
   "source": [
    "#### Compute *Training* Error(s)"
   ]
  },
  {
   "cell_type": "code",
   "execution_count": 106,
   "metadata": {},
   "outputs": [
    {
     "name": "stderr",
     "output_type": "stream",
     "text": [
      "\r",
      "  0%|          | 0/100 [00:00<?, ?it/s]"
     ]
    },
    {
     "name": "stdout",
     "output_type": "stream",
     "text": [
      "#--------------------#\n",
      " Get Training Error(s)\n",
      "#--------------------#\n"
     ]
    },
    {
     "name": "stderr",
     "output_type": "stream",
     "text": [
      "100%|██████████| 100/100 [00:03<00:00, 32.17it/s]"
     ]
    },
    {
     "name": "stdout",
     "output_type": "stream",
     "text": [
      "#-------------------------#\n",
      " Get Training Error(s): END\n",
      "#-------------------------#\n"
     ]
    },
    {
     "name": "stderr",
     "output_type": "stream",
     "text": [
      "\n"
     ]
    }
   ],
   "source": [
    "print(\"#--------------------#\")\n",
    "print(\" Get Training Error(s)\")\n",
    "print(\"#--------------------#\")\n",
    "for i in tqdm(range((X_train.shape[0]))):\n",
    "    for j in range(N_Quantizers_to_parameterize):\n",
    "        b_loop = np.repeat(predicted_classes_train[i,j],N_Monte_Carlo_Samples)\n",
    "        if j == 0:\n",
    "            b = b_loop\n",
    "        else:\n",
    "            b = np.append(b,b_loop)\n",
    "        b = b.reshape(-1,1)\n",
    "        b = b\n",
    "    b = np.array(b,dtype=float).reshape(-1,)\n",
    "    b = b/N_Monte_Carlo_Samples\n",
    "    \n",
    "    # Compute Error(s)\n",
    "    ## W1\n",
    "    W1_loop = ot.emd2_1d(points_of_mass,\n",
    "                         np.array(Y_train[i,]).reshape(-1,),\n",
    "                         b,\n",
    "                         empirical_weights)\n",
    "    \n",
    "    ## M1\n",
    "    Mu_hat = np.sum(b*(points_of_mass))\n",
    "    Mu_MC = np.mean(np.array(Y_train[i,]))\n",
    "    if f_unknown_mode == \"Heteroskedastic_NonLinear_Regression\":\n",
    "        Mu = direct_facts[i,]\n",
    "    else:\n",
    "        Mu = Mu_MC\n",
    "        \n",
    "    ### Error(s)\n",
    "    Mean_loop = (Mu_hat-Mu)\n",
    "    Mean_loop_MC = (Mu_hat-Mu_MC)\n",
    "    \n",
    "    ## Variance\n",
    "    Var_hat = np.sum(((points_of_mass-Mu_hat)**2)*b)\n",
    "    Var_MC = np.mean(np.array(Y_train[i]-Mu_MC)**2)\n",
    "    if f_unknown_mode == \"Heteroskedastic_NonLinear_Regression\":\n",
    "        Var = 2*np.sum(X_train[i,]**2)\n",
    "    else:\n",
    "        Var = Var_MC     \n",
    "    ### Error(s)\n",
    "    Var_loop = np.abs(Var_hat-Var)\n",
    "    Var_loop_MC = np.abs(Var_MC-Var)\n",
    "        \n",
    "    # Skewness\n",
    "    Skewness_hat = np.sum((((points_of_mass-Mu_hat)/Var)**3)*b)\n",
    "    Skewness_MC = np.mean((np.array(Y_train[i]-Mu_MC)/Var_MC)**3)\n",
    "    if f_unknown_mode == \"Heteroskedastic_NonLinear_Regression\":\n",
    "        Skewness = 0\n",
    "    else:\n",
    "        Skewness = Skewness_MC\n",
    "    ### Error(s)\n",
    "    Skewness_loop = np.abs(Skewness_hat-Skewness)\n",
    "    Skewness_loop_MC = np.abs(Skewness_MC-Skewness)\n",
    "    \n",
    "    # Skewness\n",
    "    Ex_Kurtosis_hat = np.sum((((points_of_mass-Mu_hat)/Var)**4)*b) - 3\n",
    "    Ex_Kurtosis_MC = np.mean((np.array(Y_train[i]-Mu_MC)/Var_MC)**4) - 3\n",
    "    if f_unknown_mode == \"Heteroskedastic_NonLinear_Regression\":\n",
    "        Ex_Kurtosis = 3\n",
    "    else:\n",
    "        Ex_Kurtosis = Ex_Kurtosis_MC\n",
    "    ### Error(s)\n",
    "    Ex_Kurtosis_loop = np.abs(Ex_Kurtosis-Ex_Kurtosis_hat)\n",
    "    Ex_Kurtosis_loop_MC = np.abs(Ex_Kurtosis-Ex_Kurtosis_MC)\n",
    "    \n",
    "    \n",
    "    \n",
    "    # Get Higher Moments Loss\n",
    "    Higher_momentserrors_loop,Higher_MC_momentserrors_loop = Higher_Moments_Loss(b,np.array(Y_train[i,]))\n",
    "    Higher_Moments_Errors_loop = np.abs(Higher_momentserrors_loop-Higher_MC_momentserrors_loop)\n",
    "    \n",
    "    \n",
    "    # Update\n",
    "    if i == 0:\n",
    "        W1_errors = W1_loop\n",
    "        # Moments\n",
    "        ## DNM\n",
    "        Mean_errors =  Mean_loop\n",
    "        Var_errors = Var_loop\n",
    "        Skewness_errors = Skewness_loop\n",
    "        Ex_Kurtosis_errors = Ex_Kurtosis_loop\n",
    "        ## Monte-Carlo\n",
    "        Mean_errors_MC =  Mean_loop_MC\n",
    "        Var_errors_MC = Var_loop_MC\n",
    "        Skewness_errors_MC = Skewness_loop_MC\n",
    "        Ex_Kurtosis_errors_MC = Ex_Kurtosis_loop_MC\n",
    "        # Higher Moments\n",
    "        Higher_Moments_Errors = Higher_Moments_Errors_loop\n",
    "        \n",
    "        \n",
    "    else:\n",
    "        W1_errors = np.append(W1_errors,W1_loop)\n",
    "        # Moments\n",
    "        ## DNM\n",
    "        Mean_errors =  np.append(Mean_errors,Mean_loop)\n",
    "        Var_errors = np.append(Var_errors,Var_loop)\n",
    "        Skewness_errors = np.append(Skewness_errors,Skewness_loop)\n",
    "        Ex_Kurtosis_errors = np.append(Ex_Kurtosis_errors,Ex_Kurtosis_loop)\n",
    "        ## Monte-Carlo\n",
    "        Mean_errors_MC =  np.append(Mean_errors_MC,Mean_loop_MC)\n",
    "        Var_errors_MC = np.append(Var_errors_MC,Var_loop_MC)\n",
    "        Skewness_errors_MC = np.append(Skewness_errors_MC,Skewness_loop_MC)\n",
    "        Ex_Kurtosis_errors_MC = np.append(Ex_Kurtosis_errors_MC,Ex_Kurtosis_loop_MC)\n",
    "        # Higher Moments\n",
    "        Higher_Moments_Errors = np.append(Higher_Moments_Errors,Higher_Moments_Errors_loop)\n",
    "        \n",
    "print(\"#-------------------------#\")\n",
    "print(\" Get Training Error(s): END\")\n",
    "print(\"#-------------------------#\")"
   ]
  },
  {
   "cell_type": "markdown",
   "metadata": {},
   "source": [
    "#### Compute *Testing* Errors"
   ]
  },
  {
   "cell_type": "code",
   "execution_count": 111,
   "metadata": {},
   "outputs": [
    {
     "name": "stderr",
     "output_type": "stream",
     "text": [
      " 20%|██        | 4/20 [00:00<00:00, 31.47it/s]"
     ]
    },
    {
     "name": "stdout",
     "output_type": "stream",
     "text": [
      "#----------------#\n",
      " Get Test Error(s)\n",
      "#----------------#\n"
     ]
    },
    {
     "name": "stderr",
     "output_type": "stream",
     "text": [
      "100%|██████████| 20/20 [00:00<00:00, 32.82it/s]"
     ]
    },
    {
     "name": "stdout",
     "output_type": "stream",
     "text": [
      "#-------------------------#\n",
      " Get Training Error(s): END\n",
      "#-------------------------#\n"
     ]
    },
    {
     "name": "stderr",
     "output_type": "stream",
     "text": [
      "\n"
     ]
    }
   ],
   "source": [
    "print(\"#----------------#\")\n",
    "print(\" Get Test Error(s)\")\n",
    "print(\"#----------------#\")\n",
    "for i in tqdm(range((X_test.shape[0]))):\n",
    "    for j in range(N_Quantizers_to_parameterize):\n",
    "        b_loop_test = np.repeat(predicted_classes_test[i,j],N_Monte_Carlo_Samples)\n",
    "        if j == 0:\n",
    "            b_test = b_loop_test\n",
    "        else:\n",
    "            b_test = np.append(b,b_loop)\n",
    "        b_test = b_test.reshape(-1,1)\n",
    "    b_test = np.array(b,dtype=float).reshape(-1,)\n",
    "    b_test = b/N_Monte_Carlo_Samples\n",
    "    \n",
    "    # Compute Error(s)\n",
    "    ## W1\n",
    "    W1_loop_test = ot.emd2_1d(points_of_mass,\n",
    "                         np.array(Y_test[i,]).reshape(-1,),\n",
    "                         b,\n",
    "                         empirical_weights)\n",
    "    \n",
    "    ## M1\n",
    "    Mu_hat_test = np.sum(b_test*(points_of_mass))\n",
    "    Mu_MC_test = np.mean(np.array(Y_test[i,]))\n",
    "    if f_unknown_mode == \"Heteroskedastic_NonLinear_Regression\":\n",
    "        Mu_test = direct_facts_test[i,]\n",
    "    else:\n",
    "        Mu_test = Mu_MC_test\n",
    "    Mu_test = direct_facts_test[i,]\n",
    "    ### Error(s)\n",
    "    Mean_loop_test = (Mu_hat_test-Mu_test)\n",
    "    Mean_loop_MC_test = (Mu_hat_test-Mu_MC_test)\n",
    "    \n",
    "    ## M2\n",
    "    Var_hat_test = np.sum(((points_of_mass-Mu_hat_test)**2)*b)\n",
    "    Var_MC_test = np.mean(np.array(Y_test[i]-Mu_MC)**2)\n",
    "    if f_unknown_mode == \"Rough_SDE\":\n",
    "        Var_test = 2*np.sum(X_test[i,]**2)\n",
    "    else:\n",
    "        Var_test = Var_MC\n",
    "    \n",
    "    ### Error(s)\n",
    "    Var_loop_test = np.abs(Var_hat_test-Var_test)\n",
    "    Var_loop_MC_test = np.abs(Var_MC_test-Var_test)\n",
    "    \n",
    "    # Skewness\n",
    "    Skewness_hat_test = np.sum((((points_of_mass-Mu_hat_test)/Var_test)**3)*b)\n",
    "    Skewness_MC_test = np.mean((np.array(Y_test[i]-Mu_MC_test)/Var_MC_test)**3)\n",
    "    if f_unknown_mode == \"Heteroskedastic_NonLinear_Regression\":\n",
    "        Skewness_test = 0\n",
    "    else:\n",
    "        Skewness_test = Skewness_MC_test\n",
    "    ### Error(s)\n",
    "    Skewness_loop_test = np.abs(Skewness_hat_test-Skewness_test)\n",
    "    Skewness_loop_MC_test = np.abs(Skewness_MC_test-Skewness_test)\n",
    "    \n",
    "    # Skewness\n",
    "    Ex_Kurtosis_hat_test = np.sum((((points_of_mass-Mu_hat_test)/Var_test)**4)*b) - 3\n",
    "    Ex_Kurtosis_MC_test = np.mean((np.array(Y_test[i]-Mu_MC_test)/Var_MC_test)**4) - 3\n",
    "    if f_unknown_mode == \"Heteroskedastic_NonLinear_Regression\":\n",
    "        Ex_Kurtosis_test = 3\n",
    "    else:\n",
    "        Ex_Kurtosis_test = Ex_Kurtosis_MC_test\n",
    "    ### Error(s)\n",
    "    Ex_Kurtosis_loop_test = np.abs(Ex_Kurtosis_test-Ex_Kurtosis_hat_test)\n",
    "    Ex_Kurtosis_loop_MC_test = np.abs(Ex_Kurtosis_test-Ex_Kurtosis_MC_test)\n",
    "    \n",
    "    \n",
    "    # Get Higher Moments Loss\n",
    "    Higher_momentserrors_test_loop,Higher_MC_momentserrors_test_loop = Higher_Moments_Loss(b,np.array(Y_test[i,]))\n",
    "    Higher_Moments_Errors_test_loop = np.abs(Higher_momentserrors_test_loop-Higher_MC_momentserrors_test_loop)\n",
    "    \n",
    "    # Update\n",
    "    if i == 0:\n",
    "        W1_errors_test = W1_loop_test\n",
    "        # Moments\n",
    "        ## DNM\n",
    "        Mean_errors_test =  Mean_loop_test\n",
    "        Var_errors_test = Var_loop_test\n",
    "        Skewness_errors_test = Skewness_loop_test\n",
    "        Ex_Kurtosis_errors_test = Ex_Kurtosis_loop_test\n",
    "        ## Monte-Carlo\n",
    "        Mean_errors_MC_test =  Mean_loop_MC_test\n",
    "        Var_errors_MC_test = Var_loop_MC_test\n",
    "        Skewness_errors_MC_test = Skewness_loop_MC_test\n",
    "        Ex_Kurtosis_errors_MC_test = Ex_Kurtosis_loop_MC_test\n",
    "        # Higher Moments\n",
    "        Higher_Moments_test_Errors = Higher_Moments_Errors_test_loop\n",
    "        \n",
    "        \n",
    "    else:\n",
    "        W1_errors_test = np.append(W1_errors_test,W1_loop_test)\n",
    "        # Moments\n",
    "        ## DNM\n",
    "        Mean_errors_test =  np.append(Mean_errors_test,Mean_loop_test)\n",
    "        Var_errors_test = np.append(Var_errors_test,Var_loop_test)\n",
    "        Skewness_errors_test = np.append(Skewness_errors_test,Skewness_loop_test)\n",
    "        Ex_Kurtosis_errors_test = np.append(Ex_Kurtosis_errors_test,Ex_Kurtosis_loop_test)\n",
    "        ## Monte-Carlo\n",
    "        Mean_errors_MC_test =  np.append(Mean_errors_MC_test,Mean_loop_MC_test)\n",
    "        Var_errors_MC_test = np.append(Var_errors_MC_test,Var_loop_MC_test)\n",
    "        Skewness_errors_MC_test = np.append(Skewness_errors_MC_test,Skewness_loop_MC_test)\n",
    "        Ex_Kurtosis_errors_MC_test = np.append(Ex_Kurtosis_errors_MC_test,Ex_Kurtosis_loop_MC_test)\n",
    "        # Higher Moments\n",
    "        Higher_Moments_test_Errors = np.append(Higher_Moments_test_Errors,Higher_Moments_Errors_test_loop)\n",
    "        \n",
    "        \n",
    "print(\"#-------------------------#\")\n",
    "print(\" Get Training Error(s): END\")\n",
    "print(\"#-------------------------#\")"
   ]
  },
  {
   "cell_type": "markdown",
   "metadata": {},
   "source": [
    "#### Stop Timer"
   ]
  },
  {
   "cell_type": "code",
   "execution_count": 29,
   "metadata": {},
   "outputs": [],
   "source": [
    "# Stop Timer\n",
    "Type_A_timer_end = time.time()\n",
    "# Compute Lapsed Time Needed For Training\n",
    "Time_Lapse_Model_A = Type_A_timer_end - Type_A_timer_Begin"
   ]
  },
  {
   "cell_type": "markdown",
   "metadata": {},
   "source": [
    "---\n",
    "# Benchmarks\n",
    "---"
   ]
  },
  {
   "cell_type": "code",
   "execution_count": 30,
   "metadata": {},
   "outputs": [
    {
     "name": "stdout",
     "output_type": "stream",
     "text": [
      "Deep Feature Builder - Ready\n"
     ]
    }
   ],
   "source": [
    "# %run Benchmarks_Model_Builder.ipynb\n",
    "exec(open('Benchmarks_Model_Builder_Pointmass_Based.ipynb.py').read())\n",
    "exec(open('CV_Grid.py').read())"
   ]
  },
  {
   "cell_type": "markdown",
   "metadata": {},
   "source": [
    "# Summary of Mean-Centric Regression Models"
   ]
  },
  {
   "cell_type": "code",
   "execution_count": null,
   "metadata": {},
   "outputs": [],
   "source": [
    "print(Summary_mean_models)\n",
    "Summary_mean_models"
   ]
  },
  {
   "cell_type": "markdown",
   "metadata": {},
   "source": [
    "## Mean+Variance Based Model(s)"
   ]
  },
  {
   "cell_type": "code",
   "execution_count": null,
   "metadata": {},
   "outputs": [],
   "source": [
    "exec(open('Benchmarks_Model_Builder_Mean_Var.ipynb.py').read())"
   ]
  },
  {
   "cell_type": "markdown",
   "metadata": {},
   "source": [
    "#### Gaussian Proecess Regressor"
   ]
  },
  {
   "cell_type": "code",
   "execution_count": 108,
   "metadata": {},
   "outputs": [
    {
     "name": "stdout",
     "output_type": "stream",
     "text": [
      "Fitting 2 folds for each of 5 candidates, totalling 10 fits\n"
     ]
    },
    {
     "name": "stderr",
     "output_type": "stream",
     "text": [
      "[Parallel(n_jobs=4)]: Using backend LokyBackend with 4 concurrent workers.\n",
      "[Parallel(n_jobs=4)]: Batch computation too fast (0.1157s.) Setting batch_size=2.\n",
      "[Parallel(n_jobs=4)]: Done   5 out of  10 | elapsed:    0.4s remaining:    0.4s\n",
      "[Parallel(n_jobs=4)]: Done   7 out of  10 | elapsed:    0.7s remaining:    0.3s\n",
      "[Parallel(n_jobs=4)]: Done  10 out of  10 | elapsed:    1.1s finished\n"
     ]
    }
   ],
   "source": [
    "GPR_means, GPR_vars, GPR_means_test, GPR_vars_test, trash = get_GPR(X_train,X_test,Y_train_mean_emp) "
   ]
  },
  {
   "cell_type": "markdown",
   "metadata": {},
   "source": [
    "---\n",
    "\n",
    "---\n",
    "\n",
    "---"
   ]
  },
  {
   "cell_type": "markdown",
   "metadata": {},
   "source": [
    "## Get Moment Predictions"
   ]
  },
  {
   "cell_type": "markdown",
   "metadata": {},
   "source": [
    "#### Write Predictions"
   ]
  },
  {
   "cell_type": "markdown",
   "metadata": {},
   "source": [
    "### Training-Set Result(s): "
   ]
  },
  {
   "cell_type": "code",
   "execution_count": 36,
   "metadata": {},
   "outputs": [
    {
     "name": "stdout",
     "output_type": "stream",
     "text": [
      "                          N_Centers   N_Q  N_Params  Training Time  \\\n",
      "Model_Complexity_metrics         50  1000     52450     1.0042E+02   \n",
      "\n",
      "                          T_Test/T_Test-MC  Time Test  Time EM-MC  \n",
      "Model_Complexity_metrics        6.0284E+00 7.8318E-02  1.2992E-02  \n",
      "              W1         M1      M1_MC        Var     Var_MC       Skew  \\\n",
      "Train 2.9956E-01 1.0099E+00 1.4446E-01 1.7101E+00 1.1360E+00 1.4867E-03   \n",
      "Test  4.6753E-01 4.1265E-02 1.0207E+00 3.4705E+00 2.9167E+00 4.7894E-03   \n",
      "\n",
      "         Skew_MC     Ex_Kur  Ex_Kur_MC       High  N_Centers   N_Q  N_Params  \\\n",
      "Train 1.8635E-03 5.9868E+00 5.9860E+00 8.7855E+03         50  1000     52450   \n",
      "Test  2.2800E-03 5.9935E+00 5.9869E+00 8.7926E+03         50  1000     52450   \n",
      "\n",
      "       Training Time  T_Test/T_Test-MC  Problem_Dimension  \n",
      "Train     1.0042E+02        6.0284E+00                 10  \n",
      "Test      1.0042E+02        6.0284E+00                 10  \n"
     ]
    }
   ],
   "source": [
    "#---------------------------------------------------------------------------------------------#\n",
    "W1_95 = bootstrap(W1_errors, n=1000, func=np.mean)(.95)\n",
    "W1_99 = bootstrap(W1_errors, n=1000, func=np.mean)(.99)\n",
    "#---------------------------------------------------------------------------------------------#\n",
    "Model_Complexity = pd.DataFrame({\"N_Centers\":N_Quantizers_to_parameterize,\n",
    "                                 \"N_Q\":N_Monte_Carlo_Samples,\n",
    "                                 \"N_Params\":N_params_deep_classifier,\n",
    "                                 \"Training Time\":Time_Lapse_Model_A,\n",
    "                                 \"T_Test/T_Test-MC\": (timer_output/Test_Set_PredictionTime_MC),\n",
    "                                 \"Time Test\": timer_output,\n",
    "                                 \"Time EM-MC\": Test_Set_PredictionTime_MC},index=[\"Model_Complexity_metrics\"])\n",
    "\n",
    "#---------------------------------------------------------------------------------------------#\n",
    "# Compute Error Statistics/Descriptors\n",
    "Summary = pd.DataFrame({\"W1\":np.array([np.mean(np.abs(W1_errors)),np.mean(np.abs(W1_errors_test))]),\n",
    "                        \"M1\":np.array([np.mean(np.abs(Mean_errors)),np.mean(np.abs(Mean_errors_test))]),\n",
    "                        \"M1_MC\":np.array([np.mean(np.abs(Mean_errors_MC)),np.mean(np.abs(Mean_errors_MC_test))]),\n",
    "                        \"Var\":np.array([np.mean(np.abs(Var_errors)),np.mean(np.abs(Var_errors_test))]),\n",
    "                        \"Var_MC\":np.array([np.mean(np.abs(Var_errors_MC)),np.mean(np.abs(Var_errors_MC_test))]),\n",
    "                        \"Skew\":np.array([np.mean(np.abs(Skewness_errors)),np.mean(np.abs(Skewness_errors_test))]),\n",
    "                        \"Skew_MC\":np.array([np.mean(np.abs(Skewness_errors_MC)),np.mean(np.abs(Skewness_errors_MC_test))]),\n",
    "                        \"Ex_Kur\":np.array([np.mean(np.abs(Ex_Kurtosis_errors)),np.mean(np.abs(Ex_Kurtosis_errors_test))]),\n",
    "                        \"Ex_Kur_MC\":np.array([np.mean(np.abs(Ex_Kurtosis_errors_MC)),np.mean(np.abs(Ex_Kurtosis_errors_MC_test))]),\n",
    "                        \"High\": np.array([np.mean(np.abs(Higher_Moments_Errors)),np.mean(np.abs(Higher_Moments_test_Errors))]),\n",
    "                        \"N_Centers\":np.array((N_Quantizers_to_parameterize,N_Quantizers_to_parameterize)),\n",
    "                        \"N_Q\":np.array((N_Monte_Carlo_Samples,N_Monte_Carlo_Samples)),\n",
    "                        \"N_Params\":np.array((N_params_deep_classifier,N_params_deep_classifier)),\n",
    "                        \"Training Time\":np.array((Time_Lapse_Model_A,Time_Lapse_Model_A)),\n",
    "                        \"T_Test/T_Test-MC\":np.array(((timer_output/Test_Set_PredictionTime_MC),(timer_output/Test_Set_PredictionTime_MC))),\n",
    "                        \"Problem_Dimension\":np.array((problem_dim,problem_dim))\n",
    "                       },index=[\"Train\",\"Test\"])\n",
    "\n",
    "\n",
    "# Write Performance Metrics to file #\n",
    "#-----------------------------------#\n",
    "pd.set_option('display.float_format', '{:.4E}'.format)\n",
    "Model_Complexity.to_latex((results_tables_path+\"Latent_Width_NSDE\"+str(width)+\"Problemdimension\"+str(problem_dim)+\"__ModelComplexities.tex\"))\n",
    "pd.set_option('display.float_format', '{:.4E}'.format)\n",
    "Summary.to_latex((results_tables_path+\"Latent_Width_NSDE\"+str(width)+\"Problemdimension\"+str(problem_dim)+\"__SUMMARY_METRICS.tex\"))\n",
    "\n",
    "\n",
    "#---------------------------------------------------------------------------------------------#\n",
    "# Update User\n",
    "print(Model_Complexity)\n",
    "print(Summary)"
   ]
  },
  {
   "cell_type": "markdown",
   "metadata": {},
   "source": [
    "# Update User"
   ]
  },
  {
   "cell_type": "markdown",
   "metadata": {},
   "source": [
    "## Prediction Quality"
   ]
  },
  {
   "cell_type": "code",
   "execution_count": 37,
   "metadata": {},
   "outputs": [
    {
     "data": {
      "text/html": [
       "<div>\n",
       "<style scoped>\n",
       "    .dataframe tbody tr th:only-of-type {\n",
       "        vertical-align: middle;\n",
       "    }\n",
       "\n",
       "    .dataframe tbody tr th {\n",
       "        vertical-align: top;\n",
       "    }\n",
       "\n",
       "    .dataframe thead th {\n",
       "        text-align: right;\n",
       "    }\n",
       "</style>\n",
       "<table border=\"1\" class=\"dataframe\">\n",
       "  <thead>\n",
       "    <tr style=\"text-align: right;\">\n",
       "      <th></th>\n",
       "      <th>W1</th>\n",
       "      <th>M1</th>\n",
       "      <th>M1_MC</th>\n",
       "      <th>Var</th>\n",
       "      <th>Var_MC</th>\n",
       "      <th>Skew</th>\n",
       "      <th>Skew_MC</th>\n",
       "      <th>Ex_Kur</th>\n",
       "      <th>Ex_Kur_MC</th>\n",
       "      <th>High</th>\n",
       "      <th>N_Centers</th>\n",
       "      <th>N_Q</th>\n",
       "      <th>N_Params</th>\n",
       "      <th>Training Time</th>\n",
       "      <th>T_Test/T_Test-MC</th>\n",
       "      <th>Problem_Dimension</th>\n",
       "    </tr>\n",
       "  </thead>\n",
       "  <tbody>\n",
       "    <tr>\n",
       "      <th>Train</th>\n",
       "      <td>2.9956E-01</td>\n",
       "      <td>1.0099E+00</td>\n",
       "      <td>1.4446E-01</td>\n",
       "      <td>1.7101E+00</td>\n",
       "      <td>1.1360E+00</td>\n",
       "      <td>1.4867E-03</td>\n",
       "      <td>1.8635E-03</td>\n",
       "      <td>5.9868E+00</td>\n",
       "      <td>5.9860E+00</td>\n",
       "      <td>8.7855E+03</td>\n",
       "      <td>50</td>\n",
       "      <td>1000</td>\n",
       "      <td>52450</td>\n",
       "      <td>1.0042E+02</td>\n",
       "      <td>6.0284E+00</td>\n",
       "      <td>10</td>\n",
       "    </tr>\n",
       "    <tr>\n",
       "      <th>Test</th>\n",
       "      <td>4.6753E-01</td>\n",
       "      <td>4.1265E-02</td>\n",
       "      <td>1.0207E+00</td>\n",
       "      <td>3.4705E+00</td>\n",
       "      <td>2.9167E+00</td>\n",
       "      <td>4.7894E-03</td>\n",
       "      <td>2.2800E-03</td>\n",
       "      <td>5.9935E+00</td>\n",
       "      <td>5.9869E+00</td>\n",
       "      <td>8.7926E+03</td>\n",
       "      <td>50</td>\n",
       "      <td>1000</td>\n",
       "      <td>52450</td>\n",
       "      <td>1.0042E+02</td>\n",
       "      <td>6.0284E+00</td>\n",
       "      <td>10</td>\n",
       "    </tr>\n",
       "  </tbody>\n",
       "</table>\n",
       "</div>"
      ],
      "text/plain": [
       "              W1         M1      M1_MC        Var     Var_MC       Skew  \\\n",
       "Train 2.9956E-01 1.0099E+00 1.4446E-01 1.7101E+00 1.1360E+00 1.4867E-03   \n",
       "Test  4.6753E-01 4.1265E-02 1.0207E+00 3.4705E+00 2.9167E+00 4.7894E-03   \n",
       "\n",
       "         Skew_MC     Ex_Kur  Ex_Kur_MC       High  N_Centers   N_Q  N_Params  \\\n",
       "Train 1.8635E-03 5.9868E+00 5.9860E+00 8.7855E+03         50  1000     52450   \n",
       "Test  2.2800E-03 5.9935E+00 5.9869E+00 8.7926E+03         50  1000     52450   \n",
       "\n",
       "       Training Time  T_Test/T_Test-MC  Problem_Dimension  \n",
       "Train     1.0042E+02        6.0284E+00                 10  \n",
       "Test      1.0042E+02        6.0284E+00                 10  "
      ]
     },
     "execution_count": 37,
     "metadata": {},
     "output_type": "execute_result"
    }
   ],
   "source": [
    "Summary"
   ]
  },
  {
   "cell_type": "markdown",
   "metadata": {},
   "source": [
    "# Performance wrt Mean Prediction"
   ]
  },
  {
   "cell_type": "code",
   "execution_count": 38,
   "metadata": {},
   "outputs": [
    {
     "data": {
      "text/html": [
       "<div>\n",
       "<style scoped>\n",
       "    .dataframe tbody tr th:only-of-type {\n",
       "        vertical-align: middle;\n",
       "    }\n",
       "\n",
       "    .dataframe tbody tr th {\n",
       "        vertical-align: top;\n",
       "    }\n",
       "\n",
       "    .dataframe thead th {\n",
       "        text-align: right;\n",
       "    }\n",
       "</style>\n",
       "<table border=\"1\" class=\"dataframe\">\n",
       "  <thead>\n",
       "    <tr style=\"text-align: right;\">\n",
       "      <th></th>\n",
       "      <th>M1</th>\n",
       "      <th>M1_MC</th>\n",
       "      <th>M1_ENET</th>\n",
       "      <th>M1_KRidge</th>\n",
       "      <th>M1_GBRFR</th>\n",
       "      <th>M1_ffNN</th>\n",
       "    </tr>\n",
       "  </thead>\n",
       "  <tbody>\n",
       "    <tr>\n",
       "      <th>Train</th>\n",
       "      <td>1.0099E+00</td>\n",
       "      <td>1.4446E-01</td>\n",
       "      <td>1.0239E+00</td>\n",
       "      <td>1.0229E+00</td>\n",
       "      <td>1.0239E+00</td>\n",
       "      <td>1.0206E+00</td>\n",
       "    </tr>\n",
       "    <tr>\n",
       "      <th>Test</th>\n",
       "      <td>4.1265E-02</td>\n",
       "      <td>1.0207E+00</td>\n",
       "      <td>9.7017E-01</td>\n",
       "      <td>9.6917E-01</td>\n",
       "      <td>9.6917E-01</td>\n",
       "      <td>9.6917E-01</td>\n",
       "    </tr>\n",
       "  </tbody>\n",
       "</table>\n",
       "</div>"
      ],
      "text/plain": [
       "              M1      M1_MC    M1_ENET  M1_KRidge   M1_GBRFR    M1_ffNN\n",
       "Train 1.0099E+00 1.4446E-01 1.0239E+00 1.0229E+00 1.0239E+00 1.0206E+00\n",
       "Test  4.1265E-02 1.0207E+00 9.7017E-01 9.6917E-01 9.6917E-01 9.6917E-01"
      ]
     },
     "execution_count": 38,
     "metadata": {},
     "output_type": "execute_result"
    }
   ],
   "source": [
    "Summary_mean_models"
   ]
  },
  {
   "cell_type": "markdown",
   "metadata": {},
   "source": [
    "---"
   ]
  },
  {
   "cell_type": "markdown",
   "metadata": {},
   "source": [
    "---\n",
    "# Fin\n",
    "---"
   ]
  },
  {
   "cell_type": "markdown",
   "metadata": {},
   "source": [
    "---"
   ]
  }
 ],
 "metadata": {
  "kernelspec": {
   "display_name": "Python 3",
   "language": "python",
   "name": "python3"
  },
  "language_info": {
   "codemirror_mode": {
    "name": "ipython",
    "version": 3
   },
   "file_extension": ".py",
   "mimetype": "text/x-python",
   "name": "python",
   "nbconvert_exporter": "python",
   "pygments_lexer": "ipython3",
   "version": "3.7.7"
  }
 },
 "nbformat": 4,
 "nbformat_minor": 2
}
