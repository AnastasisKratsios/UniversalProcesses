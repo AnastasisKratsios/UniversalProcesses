{
 "cells": [
  {
   "cell_type": "markdown",
   "metadata": {},
   "source": [
    "# Deep Universal Regular Conditional Expectations:\n",
    "\n",
    "---\n",
    "This implements the universal deep neural model of $\\mathcal{NN}_{1_{\\mathbb{R}^n},\\mathcal{D}}^{\\sigma:\\star}$ [Anastasis Kratsios](https://people.math.ethz.ch/~kratsioa/) - 2021.\n",
    "\n",
    "---\n",
    "\n",
    "## What does this code do?\n",
    "1. Learn Heteroskedastic Non-Linear Regression Problem\n",
    "     - $Y\\sim f_{\\text{unkown}}(x) + \\epsilon$ where $f$ is an known function and $\\epsilon\\sim Laplace(0,\\|x\\|)$\n",
    "2. Learn Random Bayesian Network's Law:\n",
    "    - $Y = W_J Y^{J-1}, \\qquad Y^{j}\\triangleq \\sigma\\bullet A^{j}Y^{j-1} + b^{j}, \\qquad Y^0\\triangleq x$\n",
    "\n",
    "3. In the above example if $A_j = M_j\\odot \\tilde{A_j}$ where $\\tilde{A}_j$ is a deterministic matrix and $M_j$ is a \"mask\", that is, a random matrix with binary entries and $\\odot$ is the Hadamard product then we recover the dropout framework.\n",
    "4. Learn the probability distribution that the unique strong solution to the rough SDE with uniformly Lipschitz drivers driven by a factional Brownian motion with Hurst exponent $H \\in [\\frac1{2},1)$:\n",
    "$$\n",
    "X_t^x = x + \\int_0^t \\alpha(s,X_s^x)ds + \\int_0^t \\beta(s,X_s^x)dB_s^H\n",
    "$$\n",
    "belongs, at time $t=1$, to a ball about the initial point $x$ of random radius given by an independant exponential random-variable with shape parameter $\\lambda=2$\n",
    "5. Train a DNN to predict the returns of bitcoin with GD.  Since this has random initialization then each prediction of a given $x$ is stochastic...We learn the distribution of this conditional RV (conditioned on x in the input space).\n",
    "$$\n",
    "Y_x \\triangleq \\hat{f}_{\\theta_{T}}(x), \\qquad \\theta_{(t+1)}\\triangleq \\theta_{(t)} + \\lambda \\sum_{x \\in \\mathbb{X}} \\nabla_{\\theta}\\|\\hat{f}_{\\theta_t}(x) - f(x)\\|, \\qquad \\theta_0 \\sim N_d(0,1);\n",
    "$$\n",
    "$T\\in \\mathbb{N}$ is a fixed number of \"SGD\" iterations (typically identified by cross-validation on a single SGD trajectory for a single initialization) and where $\\theta \\in \\mathbb{R}^{(d_{J}+1)+\\sum_{j=0}^{J-1} (d_{j+1}d_j + 1)}$ and $d_j$ is the dimension of the \"bias\" vector $b_j$ defining each layer of the DNN with layer dimensions:\n",
    "$$\n",
    "\\hat{f}_{\\theta}(x)\\triangleq A^{(J)}x^{(J)} + b^{(J)},\\qquad x^{(j+1)}\\triangleq \\sigma\\bullet A^{j}x^{(j)} + b^{j},\\qquad x^{(0)}\\triangleq x\n",
    ".\n",
    "$$"
   ]
  },
  {
   "cell_type": "markdown",
   "metadata": {},
   "source": [
    "#### Mode:\n",
    "Software/Hardware Testing or Real-Deal?"
   ]
  },
  {
   "cell_type": "code",
   "execution_count": 1,
   "metadata": {},
   "outputs": [],
   "source": [
    "trial_run = True"
   ]
  },
  {
   "cell_type": "markdown",
   "metadata": {},
   "source": [
    "### Simulation Method:"
   ]
  },
  {
   "cell_type": "code",
   "execution_count": 2,
   "metadata": {},
   "outputs": [],
   "source": [
    "# # Random DNN\n",
    "# f_unknown_mode = \"Heteroskedastic_NonLinear_Regression\"\n",
    "\n",
    "# # Random DNN internal noise\n",
    "# # f_unknown_mode = \"DNN_with_Random_Weights\"\n",
    "Depth_Bayesian_DNN = 1\n",
    "width = 5\n",
    "\n",
    "# # Random Dropout applied to trained DNN\n",
    "f_unknown_mode = \"DNN_with_Bayesian_Dropout\"\n",
    "Dropout_rate = 0.1\n",
    "\n",
    "# GD with Randomized Input\n",
    "# f_unknown_mode = \"GD_with_randomized_input\"\n",
    "GD_epochs = 100\n",
    "\n",
    "# SDE with fractional Driver\n",
    "# f_unknown_mode = \"Rough_SDE\"\n",
    "N_Euler_Steps = 10**1\n",
    "Hurst_Exponent = 0.5"
   ]
  },
  {
   "cell_type": "markdown",
   "metadata": {},
   "source": [
    "## Problem Dimension"
   ]
  },
  {
   "cell_type": "code",
   "execution_count": 3,
   "metadata": {},
   "outputs": [],
   "source": [
    "problem_dim = 3"
   ]
  },
  {
   "cell_type": "markdown",
   "metadata": {},
   "source": [
    "## Note: *Why the procedure is so computationally efficient*?\n",
    "---\n",
    " - The sample barycenters do not require us to solve for any new Wasserstein-1 Barycenters; which is much more computationally costly,\n",
    " - Our training procedure never back-propages through $\\mathcal{W}_1$ since steps 2 and 3 are full-decoupled.  Therefore, training our deep classifier is (comparatively) cheap since it takes values in the standard $N$-simplex.\n",
    "\n",
    "---"
   ]
  },
  {
   "cell_type": "markdown",
   "metadata": {},
   "source": [
    "#### Grid Hyperparameter(s)\n",
    "- Ratio $\\frac{\\text{Testing Datasize}}{\\text{Training Datasize}}$.\n",
    "- Number of Training Points to Generate"
   ]
  },
  {
   "cell_type": "code",
   "execution_count": 4,
   "metadata": {},
   "outputs": [],
   "source": [
    "train_test_ratio = .2\n",
    "N_train_size = 20"
   ]
  },
  {
   "cell_type": "markdown",
   "metadata": {},
   "source": [
    "Monte-Carlo Paramters"
   ]
  },
  {
   "cell_type": "code",
   "execution_count": 5,
   "metadata": {},
   "outputs": [],
   "source": [
    "## Monte-Carlo\n",
    "N_Monte_Carlo_Samples = 10**1"
   ]
  },
  {
   "cell_type": "markdown",
   "metadata": {},
   "source": [
    "Initial radis of $\\delta$-bounded random partition of $\\mathcal{X}$!"
   ]
  },
  {
   "cell_type": "code",
   "execution_count": 6,
   "metadata": {},
   "outputs": [],
   "source": [
    "# Hyper-parameters of Cover\n",
    "delta = 0.01\n",
    "Proportion_per_cluster = .75"
   ]
  },
  {
   "cell_type": "markdown",
   "metadata": {},
   "source": [
    "## Dependencies and Auxiliary Script(s)"
   ]
  },
  {
   "cell_type": "code",
   "execution_count": 7,
   "metadata": {},
   "outputs": [
    {
     "name": "stderr",
     "output_type": "stream",
     "text": [
      "Using TensorFlow backend.\n"
     ]
    },
    {
     "name": "stdout",
     "output_type": "stream",
     "text": [
      "Deep Feature Builder - Ready\n",
      "Deep Classifier - Ready\n",
      "Deep Feature Builder - Ready\n"
     ]
    }
   ],
   "source": [
    "# %run Loader.ipynb\n",
    "exec(open('Loader.py').read())\n",
    "# Load Packages/Modules\n",
    "exec(open('Init_Dump.py').read())\n",
    "import time as time #<- Note sure why...but its always seems to need 'its own special loading...'"
   ]
  },
  {
   "cell_type": "markdown",
   "metadata": {},
   "source": [
    "# Simulate or Parse Data"
   ]
  },
  {
   "cell_type": "code",
   "execution_count": 8,
   "metadata": {},
   "outputs": [
    {
     "name": "stderr",
     "output_type": "stream",
     "text": [
      "100%|██████████| 20/20 [00:00<00:00, 1014.78it/s]\n",
      "100%|██████████| 4/4 [00:00<00:00, 707.66it/s]"
     ]
    },
    {
     "name": "stdout",
     "output_type": "stream",
     "text": [
      "---------------------------------------\n",
      "Beginning Data-Parsing/Simulation Phase\n",
      "---------------------------------------\n",
      "Deciding on Which Simulator/Parser To Load\n",
      "Setting/Defining: Internal Parameters\n",
      "Deciding on Which Type of Data to Get/Simulate\n",
      "Simulating Output Data for given input data\n",
      "----------------------------------\n",
      "Done Data-Parsing/Simulation Phase\n",
      "----------------------------------\n"
     ]
    },
    {
     "name": "stderr",
     "output_type": "stream",
     "text": [
      "\n"
     ]
    }
   ],
   "source": [
    "# %run Data_Simulator_and_Parser.ipynb\n",
    "exec(open('Data_Simulator_and_Parser.py').read())"
   ]
  },
  {
   "cell_type": "markdown",
   "metadata": {},
   "source": [
    "# Run Main:"
   ]
  },
  {
   "cell_type": "code",
   "execution_count": 9,
   "metadata": {},
   "outputs": [
    {
     "name": "stderr",
     "output_type": "stream",
     "text": [
      "100%|██████████| 15/15 [00:00<00:00, 13656.30it/s]"
     ]
    },
    {
     "name": "stdout",
     "output_type": "stream",
     "text": [
      "------------------------------\n",
      "Running script for main model!\n",
      "------------------------------\n",
      "Deep Feature Builder - Ready\n",
      "Deep Classifier - Ready\n",
      "==========================================\n",
      "Training Classifer Portion of Type-A Model\n",
      "==========================================\n",
      "Fitting 2 folds for each of 1 candidates, totalling 2 fits\n"
     ]
    },
    {
     "name": "stderr",
     "output_type": "stream",
     "text": [
      "\n",
      "[Parallel(n_jobs=4)]: Using backend LokyBackend with 4 concurrent workers.\n",
      "[Parallel(n_jobs=4)]: Done   2 out of   2 | elapsed:    3.9s remaining:    0.0s\n",
      "[Parallel(n_jobs=4)]: Done   2 out of   2 | elapsed:    3.9s finished\n"
     ]
    },
    {
     "name": "stdout",
     "output_type": "stream",
     "text": [
      "Epoch 1/5\n",
      "3/3 [==============================] - 0s 1ms/step - loss: 2.8049 - accuracy: 0.0500\n",
      "Epoch 2/5\n",
      "3/3 [==============================] - 0s 3ms/step - loss: 2.7985 - accuracy: 0.0500\n",
      "Epoch 3/5\n",
      "3/3 [==============================] - 0s 3ms/step - loss: 2.7938 - accuracy: 0.0500\n",
      "Epoch 4/5\n",
      "3/3 [==============================] - 0s 2ms/step - loss: 2.7886 - accuracy: 0.0500\n",
      "Epoch 5/5\n",
      "3/3 [==============================] - 0s 3ms/step - loss: 2.7832 - accuracy: 0.0500\n",
      "3/3 [==============================] - 0s 2ms/step\n",
      "1/1 [==============================] - 0s 2ms/step\n"
     ]
    },
    {
     "name": "stderr",
     "output_type": "stream",
     "text": [
      "\r",
      "  0%|          | 0/20 [00:00<?, ?it/s]"
     ]
    },
    {
     "name": "stdout",
     "output_type": "stream",
     "text": [
      "===============================================\n",
      "Training Classifer Portion of Type Model: Done!\n",
      "===============================================\n",
      "#--------------------#\n",
      " Get Training Error(s)\n",
      "#--------------------#\n"
     ]
    },
    {
     "name": "stderr",
     "output_type": "stream",
     "text": [
      "100%|██████████| 20/20 [00:00<00:00, 1030.28it/s]\n",
      "  0%|          | 0/4 [00:00<?, ?it/s]"
     ]
    },
    {
     "name": "stdout",
     "output_type": "stream",
     "text": [
      "#-------------------------#\n",
      " Get Training Error(s): END\n",
      "#-------------------------#\n",
      "#----------------#\n",
      " Get Test Error(s)\n",
      "#----------------#\n"
     ]
    },
    {
     "name": "stderr",
     "output_type": "stream",
     "text": [
      "\r",
      "100%|██████████| 4/4 [00:00<00:00, 1315.86it/s]"
     ]
    },
    {
     "name": "stdout",
     "output_type": "stream",
     "text": [
      "#------------------------#\n",
      " Get Testing Error(s): END\n",
      "#------------------------#\n",
      "                                      DNM  MC-Oracle\n",
      "W1-95L                           0.001210   0.000000\n",
      "W1                               0.001210   0.000000\n",
      "W1-95R                           0.001210   0.000000\n",
      "M-95L                            0.000178   0.000178\n",
      "M                                0.000178   0.000178\n",
      "M-95R                            0.000178   0.000178\n",
      "N_Par                          205.000000   0.000000\n",
      "Train_Time                       4.895916   0.034667\n",
      "Test_Time/MC-Oracle_Test_Time    5.574900   1.000000\n",
      "------------------------------------\n",
      "Done: Running script for main model!\n",
      "------------------------------------\n"
     ]
    },
    {
     "name": "stderr",
     "output_type": "stream",
     "text": [
      "\n"
     ]
    }
   ],
   "source": [
    "print(\"------------------------------\")\n",
    "print(\"Running script for main model!\")\n",
    "print(\"------------------------------\")\n",
    "# %run Universal_Measure_Valued_Networks_Backend.ipynb\n",
    "exec(open('Universal_Measure_Valued_Networks_Backend.py').read())\n",
    "\n",
    "print(\"------------------------------------\")\n",
    "print(\"Done: Running script for main model!\")\n",
    "print(\"------------------------------------\")"
   ]
  },
  {
   "cell_type": "markdown",
   "metadata": {},
   "source": [
    "---\n",
    "# Run: All Benchmarks"
   ]
  },
  {
   "cell_type": "markdown",
   "metadata": {},
   "source": [
    "## 1) *Pointmass Benchmark(s)*\n",
    "These benchmarks consist of subsets of $C(\\mathbb{R}^d,\\mathbb{R})$ which we lift to models in $C(\\mathbb{R}^d,\\cap_{1\\leq q<\\infty}\\mathscr{P}_{q}(\\mathbb{R}))$ via:\n",
    "$$\n",
    "\\mathbb{R}^d \\ni x \\to f(x) \\to \\delta_{f(x)}\\in \\cap_{1\\leq q<\\infty}\\mathcal{P}_{q}(\\mathbb{R}).\n",
    "$$"
   ]
  },
  {
   "cell_type": "code",
   "execution_count": 10,
   "metadata": {},
   "outputs": [
    {
     "name": "stdout",
     "output_type": "stream",
     "text": [
      "Deep Feature Builder - Ready\n",
      "--------------\n",
      "Training: ENET\n",
      "--------------\n"
     ]
    },
    {
     "name": "stderr",
     "output_type": "stream",
     "text": [
      "100%|██████████| 20/20 [00:00<00:00, 3324.99it/s]\n",
      "100%|██████████| 4/4 [00:00<00:00, 2292.91it/s]"
     ]
    },
    {
     "name": "stdout",
     "output_type": "stream",
     "text": [
      "---------------------\n",
      "Training: ENET - Done\n",
      "---------------------\n",
      "#------------#\n",
      " Get Error(s) \n",
      "#------------#\n",
      "#-----------------#\n",
      " Get Error(s): END \n",
      "#-----------------#\n",
      "#------------#\n",
      " Get Error(s) \n",
      "#------------#\n",
      "#-----------------#\n",
      " Get Error(s): END \n",
      "#-----------------#\n",
      "Updated DataFrame\n",
      "                                      DNM  MC-Oracle          ENET\n",
      "W1-95L                           0.001210   0.000000  1.898448e-06\n",
      "W1                               0.001210   0.000000  1.898448e-06\n",
      "W1-95R                           0.001210   0.000000  1.898448e-06\n",
      "M-95L                            0.000178   0.000178  1.377842e-03\n",
      "M                                0.000178   0.000178  1.377842e-03\n",
      "M-95R                            0.000178   0.000178  1.377842e-03\n",
      "N_Par                          205.000000   0.000000  4.000000e+01\n",
      "Train_Time                       4.895916   0.034667  1.619792e+09\n",
      "Test_Time/MC-Oracle_Test_Time    5.574900   1.000000  7.690109e-03\n",
      "-----------------\n",
      "Training: K-Ridge\n",
      "-----------------\n",
      "Fitting 2 folds for each of 2 candidates, totalling 4 fits\n"
     ]
    },
    {
     "name": "stderr",
     "output_type": "stream",
     "text": [
      "\n",
      "[Parallel(n_jobs=4)]: Using backend LokyBackend with 4 concurrent workers.\n",
      "[Parallel(n_jobs=4)]: Done   1 tasks      | elapsed:    0.1s\n",
      "[Parallel(n_jobs=4)]: Batch computation too fast (0.0769s.) Setting batch_size=2.\n",
      "[Parallel(n_jobs=4)]: Done   2 out of   4 | elapsed:    0.1s remaining:    0.1s\n",
      "[Parallel(n_jobs=4)]: Done   4 out of   4 | elapsed:    0.3s remaining:    0.0s\n",
      "[Parallel(n_jobs=4)]: Done   4 out of   4 | elapsed:    0.3s finished\n",
      "100%|██████████| 20/20 [00:00<00:00, 1206.56it/s]\n",
      "100%|██████████| 4/4 [00:00<00:00, 1854.25it/s]\n",
      "[Parallel(n_jobs=4)]: Using backend LokyBackend with 4 concurrent workers.\n"
     ]
    },
    {
     "name": "stdout",
     "output_type": "stream",
     "text": [
      "#------------#\n",
      " Get Error(s) \n",
      "#------------#\n",
      "#-----------------#\n",
      " Get Error(s): END \n",
      "#-----------------#\n",
      "#------------#\n",
      " Get Error(s) \n",
      "#------------#\n",
      "#-----------------#\n",
      " Get Error(s): END \n",
      "#-----------------#\n",
      "Updated DataFrame\n",
      "                                      DNM  MC-Oracle          ENET    KRidge\n",
      "W1-95L                           0.001210   0.000000  1.898448e-06  0.000001\n",
      "W1                               0.001210   0.000000  1.898448e-06  0.000002\n",
      "W1-95R                           0.001210   0.000000  1.898448e-06  0.000002\n",
      "M-95L                            0.000178   0.000178  1.377842e-03  0.000985\n",
      "M                                0.000178   0.000178  1.377842e-03  0.001261\n",
      "M-95R                            0.000178   0.000178  1.377842e-03  0.001518\n",
      "N_Par                          205.000000   0.000000  4.000000e+01  0.000000\n",
      "Train_Time                       4.895916   0.034667  1.619792e+09  0.421357\n",
      "Test_Time/MC-Oracle_Test_Time    5.574900   1.000000  7.690109e-03  0.034077\n",
      "--------------\n",
      "Training: GBRF\n",
      "--------------\n",
      "Fitting 2 folds for each of 1 candidates, totalling 2 fits\n"
     ]
    },
    {
     "name": "stderr",
     "output_type": "stream",
     "text": [
      "[Parallel(n_jobs=4)]: Batch computation too fast (0.1686s.) Setting batch_size=2.\n",
      "[Parallel(n_jobs=4)]: Done   2 out of   2 | elapsed:    0.2s remaining:    0.0s\n",
      "[Parallel(n_jobs=4)]: Done   2 out of   2 | elapsed:    0.2s finished\n",
      "100%|██████████| 20/20 [00:00<00:00, 3472.25it/s]\n",
      "100%|██████████| 4/4 [00:00<00:00, 2320.82it/s]\n",
      "[Parallel(n_jobs=4)]: Using backend LokyBackend with 4 concurrent workers.\n"
     ]
    },
    {
     "name": "stdout",
     "output_type": "stream",
     "text": [
      "#------------#\n",
      " Get Error(s) \n",
      "#------------#\n",
      "#-----------------#\n",
      " Get Error(s): END \n",
      "#-----------------#\n",
      "#------------#\n",
      " Get Error(s) \n",
      "#------------#\n",
      "#-----------------#\n",
      " Get Error(s): END \n",
      "#-----------------#\n",
      "Updated DataFrame\n",
      "                                      DNM  MC-Oracle          ENET    KRidge  \\\n",
      "W1-95L                           0.001210   0.000000  1.898448e-06  0.000001   \n",
      "W1                               0.001210   0.000000  1.898448e-06  0.000002   \n",
      "W1-95R                           0.001210   0.000000  1.898448e-06  0.000002   \n",
      "M-95L                            0.000178   0.000178  1.377842e-03  0.000985   \n",
      "M                                0.000178   0.000178  1.377842e-03  0.001261   \n",
      "M-95R                            0.000178   0.000178  1.377842e-03  0.001518   \n",
      "N_Par                          205.000000   0.000000  4.000000e+01  0.000000   \n",
      "Train_Time                       4.895916   0.034667  1.619792e+09  0.421357   \n",
      "Test_Time/MC-Oracle_Test_Time    5.574900   1.000000  7.690109e-03  0.034077   \n",
      "\n",
      "                                       GBRF  \n",
      "W1-95L                             0.000009  \n",
      "W1                                 0.000387  \n",
      "W1-95R                             0.001120  \n",
      "M-95L                              0.002020  \n",
      "M                                  0.012755  \n",
      "M-95R                              0.029843  \n",
      "N_Par                          15714.000000  \n",
      "Train_Time                         0.337573  \n",
      "Test_Time/MC-Oracle_Test_Time      0.034934  \n",
      "-------------\n",
      "Training: DNN\n",
      "-------------\n",
      "Fitting 2 folds for each of 1 candidates, totalling 2 fits\n"
     ]
    },
    {
     "name": "stderr",
     "output_type": "stream",
     "text": [
      "[Parallel(n_jobs=4)]: Done   2 out of   2 | elapsed:    2.8s remaining:    0.0s\n",
      "[Parallel(n_jobs=4)]: Done   2 out of   2 | elapsed:    2.8s finished\n"
     ]
    },
    {
     "name": "stdout",
     "output_type": "stream",
     "text": [
      "Epoch 1/5\n",
      "3/3 [==============================] - 0s 2ms/step - loss: 0.0610 - mse: 0.0041 - mae: 0.0610 - mape: 35120128.0000\n",
      "Epoch 2/5\n",
      "3/3 [==============================] - 0s 2ms/step - loss: 0.0609 - mse: 0.0041 - mae: 0.0609 - mape: 35079892.0000\n",
      "Epoch 3/5\n",
      "3/3 [==============================] - 0s 3ms/step - loss: 0.0608 - mse: 0.0040 - mae: 0.0608 - mape: 35034932.0000\n",
      "Epoch 4/5\n",
      "3/3 [==============================] - 0s 1ms/step - loss: 0.0608 - mse: 0.0040 - mae: 0.0608 - mape: 34994972.0000\n",
      "Epoch 5/5\n",
      "3/3 [==============================] - 0s 4ms/step - loss: 0.0607 - mse: 0.0040 - mae: 0.0607 - mape: 34950468.0000\n",
      "3/3 [==============================] - 0s 732us/step\n",
      "1/1 [==============================] - 0s 916us/step\n"
     ]
    },
    {
     "name": "stderr",
     "output_type": "stream",
     "text": [
      "100%|██████████| 20/20 [00:00<00:00, 2959.57it/s]\n",
      "100%|██████████| 4/4 [00:00<00:00, 1841.42it/s]"
     ]
    },
    {
     "name": "stdout",
     "output_type": "stream",
     "text": [
      "#------------#\n",
      " Get Error(s) \n",
      "#------------#\n",
      "#-----------------#\n",
      " Get Error(s): END \n",
      "#-----------------#\n",
      "#------------#\n",
      " Get Error(s) \n",
      "#------------#\n",
      "#-----------------#\n",
      " Get Error(s): END \n",
      "#-----------------#\n",
      "Updated DataFrame\n",
      "                                      DNM  MC-Oracle          ENET    KRidge  \\\n",
      "W1-95L                           0.001210   0.000000  1.898448e-06  0.000001   \n",
      "W1                               0.001210   0.000000  1.898448e-06  0.000002   \n",
      "W1-95R                           0.001210   0.000000  1.898448e-06  0.000002   \n",
      "M-95L                            0.000178   0.000178  1.377842e-03  0.000985   \n",
      "M                                0.000178   0.000178  1.377842e-03  0.001261   \n",
      "M-95R                            0.000178   0.000178  1.377842e-03  0.001518   \n",
      "N_Par                          205.000000   0.000000  4.000000e+01  0.000000   \n",
      "Train_Time                       4.895916   0.034667  1.619792e+09  0.421357   \n",
      "Test_Time/MC-Oracle_Test_Time    5.574900   1.000000  7.690109e-03  0.034077   \n",
      "\n",
      "                                       GBRF        DNN  \n",
      "W1-95L                             0.000009   0.003163  \n",
      "W1                                 0.000387   0.003291  \n",
      "W1-95R                             0.001120   0.003442  \n",
      "M-95L                              0.002020   0.055257  \n",
      "M                                  0.012755   0.057342  \n",
      "M-95R                              0.029843   0.058669  \n",
      "N_Par                          15714.000000  51.000000  \n",
      "Train_Time                         0.337573   3.839654  \n",
      "Test_Time/MC-Oracle_Test_Time      0.034934   5.399857  \n"
     ]
    },
    {
     "name": "stderr",
     "output_type": "stream",
     "text": [
      "\n"
     ]
    }
   ],
   "source": [
    "exec(open('CV_Grid.py').read())\n",
    "# Notebook Mode:\n",
    "# %run Evaluation.ipynb\n",
    "# %run Benchmarks_Model_Builder_Pointmass_Based.ipynb\n",
    "# Terminal Mode (Default):\n",
    "exec(open('Evaluation.py').read())\n",
    "exec(open('Benchmarks_Model_Builder_Pointmass_Based.py').read())"
   ]
  },
  {
   "cell_type": "markdown",
   "metadata": {},
   "source": [
    "# Summary of Point-Mass Regression Models"
   ]
  },
  {
   "cell_type": "markdown",
   "metadata": {},
   "source": [
    "#### Training Model Facts"
   ]
  },
  {
   "cell_type": "code",
   "execution_count": 11,
   "metadata": {},
   "outputs": [
    {
     "name": "stdout",
     "output_type": "stream",
     "text": [
      "                                      DNM  MC-Oracle          ENET    KRidge  \\\n",
      "W1-95L                           0.001242   0.000000  2.750411e-04  0.000157   \n",
      "W1                               0.001916   0.000000  1.020414e-03  0.001022   \n",
      "W1-95R                           0.002898   0.000000  1.751098e-03  0.001974   \n",
      "M-95L                            0.002217   0.003737  4.178969e-03  0.005014   \n",
      "M                                0.013350   0.013350  1.333898e-02  0.013199   \n",
      "M-95R                            0.026006   0.021930  3.103843e-02  0.023282   \n",
      "N_Par                          205.000000   0.000000  4.000000e+01  0.000000   \n",
      "Train_Time                       4.895916   0.034667  1.619792e+09  0.421357   \n",
      "Test_Time/MC-Oracle_Test_Time    5.574900   1.000000  7.690109e-03  0.034077   \n",
      "\n",
      "                                       GBRF        DNN  \n",
      "W1-95L                             0.000020   0.003130  \n",
      "W1                                 0.000288   0.004245  \n",
      "W1-95R                             0.000597   0.005497  \n",
      "M-95L                              0.003013   0.052409  \n",
      "M                                  0.005358   0.060635  \n",
      "M-95R                              0.007424   0.071310  \n",
      "N_Par                          15714.000000  51.000000  \n",
      "Train_Time                         0.337573   3.839654  \n",
      "Test_Time/MC-Oracle_Test_Time      0.034934   5.399857  \n"
     ]
    },
    {
     "data": {
      "text/html": [
       "<div>\n",
       "<style scoped>\n",
       "    .dataframe tbody tr th:only-of-type {\n",
       "        vertical-align: middle;\n",
       "    }\n",
       "\n",
       "    .dataframe tbody tr th {\n",
       "        vertical-align: top;\n",
       "    }\n",
       "\n",
       "    .dataframe thead th {\n",
       "        text-align: right;\n",
       "    }\n",
       "</style>\n",
       "<table border=\"1\" class=\"dataframe\">\n",
       "  <thead>\n",
       "    <tr style=\"text-align: right;\">\n",
       "      <th></th>\n",
       "      <th>DNM</th>\n",
       "      <th>MC-Oracle</th>\n",
       "      <th>ENET</th>\n",
       "      <th>KRidge</th>\n",
       "      <th>GBRF</th>\n",
       "      <th>DNN</th>\n",
       "    </tr>\n",
       "  </thead>\n",
       "  <tbody>\n",
       "    <tr>\n",
       "      <th>W1-95L</th>\n",
       "      <td>0.001242</td>\n",
       "      <td>0.000000</td>\n",
       "      <td>2.750411e-04</td>\n",
       "      <td>0.000157</td>\n",
       "      <td>0.000020</td>\n",
       "      <td>0.003130</td>\n",
       "    </tr>\n",
       "    <tr>\n",
       "      <th>W1</th>\n",
       "      <td>0.001916</td>\n",
       "      <td>0.000000</td>\n",
       "      <td>1.020414e-03</td>\n",
       "      <td>0.001022</td>\n",
       "      <td>0.000288</td>\n",
       "      <td>0.004245</td>\n",
       "    </tr>\n",
       "    <tr>\n",
       "      <th>W1-95R</th>\n",
       "      <td>0.002898</td>\n",
       "      <td>0.000000</td>\n",
       "      <td>1.751098e-03</td>\n",
       "      <td>0.001974</td>\n",
       "      <td>0.000597</td>\n",
       "      <td>0.005497</td>\n",
       "    </tr>\n",
       "    <tr>\n",
       "      <th>M-95L</th>\n",
       "      <td>0.002217</td>\n",
       "      <td>0.003737</td>\n",
       "      <td>4.178969e-03</td>\n",
       "      <td>0.005014</td>\n",
       "      <td>0.003013</td>\n",
       "      <td>0.052409</td>\n",
       "    </tr>\n",
       "    <tr>\n",
       "      <th>M</th>\n",
       "      <td>0.013350</td>\n",
       "      <td>0.013350</td>\n",
       "      <td>1.333898e-02</td>\n",
       "      <td>0.013199</td>\n",
       "      <td>0.005358</td>\n",
       "      <td>0.060635</td>\n",
       "    </tr>\n",
       "    <tr>\n",
       "      <th>M-95R</th>\n",
       "      <td>0.026006</td>\n",
       "      <td>0.021930</td>\n",
       "      <td>3.103843e-02</td>\n",
       "      <td>0.023282</td>\n",
       "      <td>0.007424</td>\n",
       "      <td>0.071310</td>\n",
       "    </tr>\n",
       "    <tr>\n",
       "      <th>N_Par</th>\n",
       "      <td>205.000000</td>\n",
       "      <td>0.000000</td>\n",
       "      <td>4.000000e+01</td>\n",
       "      <td>0.000000</td>\n",
       "      <td>15714.000000</td>\n",
       "      <td>51.000000</td>\n",
       "    </tr>\n",
       "    <tr>\n",
       "      <th>Train_Time</th>\n",
       "      <td>4.895916</td>\n",
       "      <td>0.034667</td>\n",
       "      <td>1.619792e+09</td>\n",
       "      <td>0.421357</td>\n",
       "      <td>0.337573</td>\n",
       "      <td>3.839654</td>\n",
       "    </tr>\n",
       "    <tr>\n",
       "      <th>Test_Time/MC-Oracle_Test_Time</th>\n",
       "      <td>5.574900</td>\n",
       "      <td>1.000000</td>\n",
       "      <td>7.690109e-03</td>\n",
       "      <td>0.034077</td>\n",
       "      <td>0.034934</td>\n",
       "      <td>5.399857</td>\n",
       "    </tr>\n",
       "  </tbody>\n",
       "</table>\n",
       "</div>"
      ],
      "text/plain": [
       "                                      DNM  MC-Oracle          ENET    KRidge  \\\n",
       "W1-95L                           0.001242   0.000000  2.750411e-04  0.000157   \n",
       "W1                               0.001916   0.000000  1.020414e-03  0.001022   \n",
       "W1-95R                           0.002898   0.000000  1.751098e-03  0.001974   \n",
       "M-95L                            0.002217   0.003737  4.178969e-03  0.005014   \n",
       "M                                0.013350   0.013350  1.333898e-02  0.013199   \n",
       "M-95R                            0.026006   0.021930  3.103843e-02  0.023282   \n",
       "N_Par                          205.000000   0.000000  4.000000e+01  0.000000   \n",
       "Train_Time                       4.895916   0.034667  1.619792e+09  0.421357   \n",
       "Test_Time/MC-Oracle_Test_Time    5.574900   1.000000  7.690109e-03  0.034077   \n",
       "\n",
       "                                       GBRF        DNN  \n",
       "W1-95L                             0.000020   0.003130  \n",
       "W1                                 0.000288   0.004245  \n",
       "W1-95R                             0.000597   0.005497  \n",
       "M-95L                              0.003013   0.052409  \n",
       "M                                  0.005358   0.060635  \n",
       "M-95R                              0.007424   0.071310  \n",
       "N_Par                          15714.000000  51.000000  \n",
       "Train_Time                         0.337573   3.839654  \n",
       "Test_Time/MC-Oracle_Test_Time      0.034934   5.399857  "
      ]
     },
     "execution_count": 11,
     "metadata": {},
     "output_type": "execute_result"
    }
   ],
   "source": [
    "print(Summary_pred_Qual_models)\n",
    "Summary_pred_Qual_models"
   ]
  },
  {
   "cell_type": "markdown",
   "metadata": {},
   "source": [
    "#### Testing Model Facts"
   ]
  },
  {
   "cell_type": "code",
   "execution_count": 12,
   "metadata": {},
   "outputs": [
    {
     "name": "stdout",
     "output_type": "stream",
     "text": [
      "                                      DNM  MC-Oracle          ENET    KRidge  \\\n",
      "W1-95L                           0.001210   0.000000  1.898448e-06  0.000001   \n",
      "W1                               0.001210   0.000000  1.898448e-06  0.000002   \n",
      "W1-95R                           0.001210   0.000000  1.898448e-06  0.000002   \n",
      "M-95L                            0.000178   0.000178  1.377842e-03  0.000985   \n",
      "M                                0.000178   0.000178  1.377842e-03  0.001261   \n",
      "M-95R                            0.000178   0.000178  1.377842e-03  0.001518   \n",
      "N_Par                          205.000000   0.000000  4.000000e+01  0.000000   \n",
      "Train_Time                       4.895916   0.034667  1.619792e+09  0.421357   \n",
      "Test_Time/MC-Oracle_Test_Time    5.574900   1.000000  7.690109e-03  0.034077   \n",
      "\n",
      "                                       GBRF        DNN  \n",
      "W1-95L                             0.000009   0.003163  \n",
      "W1                                 0.000387   0.003291  \n",
      "W1-95R                             0.001120   0.003442  \n",
      "M-95L                              0.002020   0.055257  \n",
      "M                                  0.012755   0.057342  \n",
      "M-95R                              0.029843   0.058669  \n",
      "N_Par                          15714.000000  51.000000  \n",
      "Train_Time                         0.337573   3.839654  \n",
      "Test_Time/MC-Oracle_Test_Time      0.034934   5.399857  \n"
     ]
    },
    {
     "data": {
      "text/html": [
       "<div>\n",
       "<style scoped>\n",
       "    .dataframe tbody tr th:only-of-type {\n",
       "        vertical-align: middle;\n",
       "    }\n",
       "\n",
       "    .dataframe tbody tr th {\n",
       "        vertical-align: top;\n",
       "    }\n",
       "\n",
       "    .dataframe thead th {\n",
       "        text-align: right;\n",
       "    }\n",
       "</style>\n",
       "<table border=\"1\" class=\"dataframe\">\n",
       "  <thead>\n",
       "    <tr style=\"text-align: right;\">\n",
       "      <th></th>\n",
       "      <th>DNM</th>\n",
       "      <th>MC-Oracle</th>\n",
       "      <th>ENET</th>\n",
       "      <th>KRidge</th>\n",
       "      <th>GBRF</th>\n",
       "      <th>DNN</th>\n",
       "    </tr>\n",
       "  </thead>\n",
       "  <tbody>\n",
       "    <tr>\n",
       "      <th>W1-95L</th>\n",
       "      <td>0.001210</td>\n",
       "      <td>0.000000</td>\n",
       "      <td>1.898448e-06</td>\n",
       "      <td>0.000001</td>\n",
       "      <td>0.000009</td>\n",
       "      <td>0.003163</td>\n",
       "    </tr>\n",
       "    <tr>\n",
       "      <th>W1</th>\n",
       "      <td>0.001210</td>\n",
       "      <td>0.000000</td>\n",
       "      <td>1.898448e-06</td>\n",
       "      <td>0.000002</td>\n",
       "      <td>0.000387</td>\n",
       "      <td>0.003291</td>\n",
       "    </tr>\n",
       "    <tr>\n",
       "      <th>W1-95R</th>\n",
       "      <td>0.001210</td>\n",
       "      <td>0.000000</td>\n",
       "      <td>1.898448e-06</td>\n",
       "      <td>0.000002</td>\n",
       "      <td>0.001120</td>\n",
       "      <td>0.003442</td>\n",
       "    </tr>\n",
       "    <tr>\n",
       "      <th>M-95L</th>\n",
       "      <td>0.000178</td>\n",
       "      <td>0.000178</td>\n",
       "      <td>1.377842e-03</td>\n",
       "      <td>0.000985</td>\n",
       "      <td>0.002020</td>\n",
       "      <td>0.055257</td>\n",
       "    </tr>\n",
       "    <tr>\n",
       "      <th>M</th>\n",
       "      <td>0.000178</td>\n",
       "      <td>0.000178</td>\n",
       "      <td>1.377842e-03</td>\n",
       "      <td>0.001261</td>\n",
       "      <td>0.012755</td>\n",
       "      <td>0.057342</td>\n",
       "    </tr>\n",
       "    <tr>\n",
       "      <th>M-95R</th>\n",
       "      <td>0.000178</td>\n",
       "      <td>0.000178</td>\n",
       "      <td>1.377842e-03</td>\n",
       "      <td>0.001518</td>\n",
       "      <td>0.029843</td>\n",
       "      <td>0.058669</td>\n",
       "    </tr>\n",
       "    <tr>\n",
       "      <th>N_Par</th>\n",
       "      <td>205.000000</td>\n",
       "      <td>0.000000</td>\n",
       "      <td>4.000000e+01</td>\n",
       "      <td>0.000000</td>\n",
       "      <td>15714.000000</td>\n",
       "      <td>51.000000</td>\n",
       "    </tr>\n",
       "    <tr>\n",
       "      <th>Train_Time</th>\n",
       "      <td>4.895916</td>\n",
       "      <td>0.034667</td>\n",
       "      <td>1.619792e+09</td>\n",
       "      <td>0.421357</td>\n",
       "      <td>0.337573</td>\n",
       "      <td>3.839654</td>\n",
       "    </tr>\n",
       "    <tr>\n",
       "      <th>Test_Time/MC-Oracle_Test_Time</th>\n",
       "      <td>5.574900</td>\n",
       "      <td>1.000000</td>\n",
       "      <td>7.690109e-03</td>\n",
       "      <td>0.034077</td>\n",
       "      <td>0.034934</td>\n",
       "      <td>5.399857</td>\n",
       "    </tr>\n",
       "  </tbody>\n",
       "</table>\n",
       "</div>"
      ],
      "text/plain": [
       "                                      DNM  MC-Oracle          ENET    KRidge  \\\n",
       "W1-95L                           0.001210   0.000000  1.898448e-06  0.000001   \n",
       "W1                               0.001210   0.000000  1.898448e-06  0.000002   \n",
       "W1-95R                           0.001210   0.000000  1.898448e-06  0.000002   \n",
       "M-95L                            0.000178   0.000178  1.377842e-03  0.000985   \n",
       "M                                0.000178   0.000178  1.377842e-03  0.001261   \n",
       "M-95R                            0.000178   0.000178  1.377842e-03  0.001518   \n",
       "N_Par                          205.000000   0.000000  4.000000e+01  0.000000   \n",
       "Train_Time                       4.895916   0.034667  1.619792e+09  0.421357   \n",
       "Test_Time/MC-Oracle_Test_Time    5.574900   1.000000  7.690109e-03  0.034077   \n",
       "\n",
       "                                       GBRF        DNN  \n",
       "W1-95L                             0.000009   0.003163  \n",
       "W1                                 0.000387   0.003291  \n",
       "W1-95R                             0.001120   0.003442  \n",
       "M-95L                              0.002020   0.055257  \n",
       "M                                  0.012755   0.057342  \n",
       "M-95R                              0.029843   0.058669  \n",
       "N_Par                          15714.000000  51.000000  \n",
       "Train_Time                         0.337573   3.839654  \n",
       "Test_Time/MC-Oracle_Test_Time      0.034934   5.399857  "
      ]
     },
     "execution_count": 12,
     "metadata": {},
     "output_type": "execute_result"
    }
   ],
   "source": [
    "print(Summary_pred_Qual_models_test)\n",
    "Summary_pred_Qual_models_test"
   ]
  },
  {
   "cell_type": "markdown",
   "metadata": {},
   "source": [
    "## 2) *Gaussian Benchmarks*"
   ]
  },
  {
   "cell_type": "markdown",
   "metadata": {},
   "source": [
    "- Bencharm 1: [Gaussian Process Regressor](https://scikit-learn.org/stable/modules/gaussian_process.html)\n",
    "- Benchmark 2: Deep Gaussian Networks:\n",
    "These models train models which assume Gaussianity.  We may view these as models in $\\mathcal{P}_2(\\mathbb{R})$ via:\n",
    "$$\n",
    "\\mathbb{R}^d \\ni x \\to (\\hat{\\mu}(x),\\hat{\\sigma}(x))\\triangleq f(x) \\in \\mathbb{R}\\times [0,\\infty) \\to \\frac1{\\hat{\\sigma}(x)\\sqrt{2\\pi}}\\exp\\left(\\frac{-(\\cdot-\\hat{\\mu}(x))^2}{\\hat{\\sigma(x)}^2}\\right) \\in \\mathcal{G}_1\\subset \\mathcal{P}_2(\\mathbb{R});\n",
    "$$\n",
    "where $\\mathcal{G}_1$ is the set of Gaussian measures on $\\mathbb{R}$ equipped with the relative Wasserstein-1 topology.\n",
    "\n",
    "Examples of this type of architecture are especially prevalent in uncertainty quantification; see ([Deep Ensembles](https://arxiv.org/abs/1612.01474)] or [NOMU: Neural Optimization-based Model Uncertainty](https://arxiv.org/abs/2102.13640).  Moreover, their universality in $C(\\mathbb{R}^d,\\mathcal{G}_2)$ is known, and has been shown in [Corollary 4.7](https://arxiv.org/abs/2101.05390)."
   ]
  },
  {
   "cell_type": "code",
   "execution_count": 13,
   "metadata": {},
   "outputs": [
    {
     "name": "stdout",
     "output_type": "stream",
     "text": [
      "Deep Feature Builder - Ready\n",
      "Deep Feature Builder - Ready\n",
      "Fitting 2 folds for each of 2 candidates, totalling 4 fits\n"
     ]
    },
    {
     "name": "stderr",
     "output_type": "stream",
     "text": [
      "[Parallel(n_jobs=4)]: Using backend LokyBackend with 4 concurrent workers.\n",
      "[Parallel(n_jobs=4)]: Done   1 tasks      | elapsed:    0.1s\n",
      "[Parallel(n_jobs=4)]: Batch computation too fast (0.1038s.) Setting batch_size=2.\n",
      "[Parallel(n_jobs=4)]: Done   2 out of   4 | elapsed:    0.2s remaining:    0.2s\n",
      "[Parallel(n_jobs=4)]: Done   4 out of   4 | elapsed:    0.3s remaining:    0.0s\n",
      "[Parallel(n_jobs=4)]: Done   4 out of   4 | elapsed:    0.3s finished\n",
      " 10%|█         | 2/20 [00:00<00:01, 17.50it/s]"
     ]
    },
    {
     "name": "stdout",
     "output_type": "stream",
     "text": [
      "Infering Parameters for Deep Gaussian Network to train on!\n"
     ]
    },
    {
     "name": "stderr",
     "output_type": "stream",
     "text": [
      "100%|██████████| 20/20 [00:00<00:00, 21.43it/s]\n",
      "[Parallel(n_jobs=4)]: Using backend LokyBackend with 4 concurrent workers.\n"
     ]
    },
    {
     "name": "stdout",
     "output_type": "stream",
     "text": [
      "Done Getting Parameters for Deep Gaussian Network!\n",
      "===============================\n",
      "Training Deep Gaussian Network!\n",
      "===============================\n",
      "Fitting 2 folds for each of 1 candidates, totalling 2 fits\n"
     ]
    },
    {
     "name": "stderr",
     "output_type": "stream",
     "text": [
      "[Parallel(n_jobs=4)]: Done   2 out of   2 | elapsed:    0.8s remaining:    0.0s\n",
      "[Parallel(n_jobs=4)]: Done   2 out of   2 | elapsed:    0.8s finished\n"
     ]
    },
    {
     "name": "stdout",
     "output_type": "stream",
     "text": [
      "Epoch 1/5\n",
      "3/3 [==============================] - 0s 1ms/step - loss: 0.5277 - mse: 0.5227 - mae: 0.5277 - mape: 342756224.0000\n",
      "Epoch 2/5\n",
      "3/3 [==============================] - 0s 2ms/step - loss: 0.5277 - mse: 0.5226 - mae: 0.5277 - mape: 342720320.0000\n",
      "Epoch 3/5\n",
      "3/3 [==============================] - 0s 2ms/step - loss: 0.5276 - mse: 0.5226 - mae: 0.5276 - mape: 342682560.0000\n",
      "Epoch 4/5\n",
      "3/3 [==============================] - 0s 3ms/step - loss: 0.5276 - mse: 0.5225 - mae: 0.5276 - mape: 342646368.0000\n",
      "Epoch 5/5\n",
      "3/3 [==============================] - 0s 3ms/step - loss: 0.5275 - mse: 0.5224 - mae: 0.5275 - mape: 342607232.0000\n",
      "3/3 [==============================] - 0s 789us/step\n",
      "1/1 [==============================] - 0s 816us/step\n"
     ]
    },
    {
     "name": "stderr",
     "output_type": "stream",
     "text": [
      "\r",
      "  0%|          | 0/20 [00:00<?, ?it/s]"
     ]
    },
    {
     "name": "stdout",
     "output_type": "stream",
     "text": [
      "====================================\n",
      "Training Deep Gaussian Network!: END\n",
      "====================================\n",
      "#---------------------------------------#\n",
      " Get Training Errors for: Gaussian Models\n",
      "#---------------------------------------#\n"
     ]
    },
    {
     "name": "stderr",
     "output_type": "stream",
     "text": [
      "100%|██████████| 20/20 [00:00<00:00, 1111.09it/s]\n",
      "100%|██████████| 4/4 [00:00<00:00, 931.50it/s]"
     ]
    },
    {
     "name": "stdout",
     "output_type": "stream",
     "text": [
      "#-------------------------#\n",
      " Get Training Error(s): END\n",
      "#-------------------------#\n",
      "#---------------------------------------#\n",
      " Get Testing Errors for: Gaussian Models\n",
      "#---------------------------------------#\n",
      "#------------------------#\n",
      " Get Testing Error(s): END\n",
      "#------------------------#\n",
      "-------------------------------------------------\n",
      "Updating Performance Metrics Dataframe and Saved!\n",
      "-------------------------------------------------\n"
     ]
    },
    {
     "name": "stderr",
     "output_type": "stream",
     "text": [
      "\n"
     ]
    },
    {
     "ename": "ValueError",
     "evalue": "Length of passed values is 5, index implies 9.",
     "output_type": "error",
     "traceback": [
      "\u001b[0;31m------------------------------------------------------------------------\u001b[0m",
      "\u001b[0;31mValueError\u001b[0m                             Traceback (most recent call last)",
      "\u001b[0;32m<ipython-input-13-33daceb5366a>\u001b[0m in \u001b[0;36m<module>\u001b[0;34m\u001b[0m\n\u001b[1;32m      1\u001b[0m \u001b[0;31m# %run Benchmarks_Model_Builder_Mean_Var.ipynb\u001b[0m\u001b[0;34m\u001b[0m\u001b[0;34m\u001b[0m\u001b[0;34m\u001b[0m\u001b[0m\n\u001b[0;32m----> 2\u001b[0;31m \u001b[0mexec\u001b[0m\u001b[0;34m(\u001b[0m\u001b[0mopen\u001b[0m\u001b[0;34m(\u001b[0m\u001b[0;34m'Benchmarks_Model_Builder_Mean_Var.py'\u001b[0m\u001b[0;34m)\u001b[0m\u001b[0;34m.\u001b[0m\u001b[0mread\u001b[0m\u001b[0;34m(\u001b[0m\u001b[0;34m)\u001b[0m\u001b[0;34m)\u001b[0m\u001b[0;34m\u001b[0m\u001b[0;34m\u001b[0m\u001b[0m\n\u001b[0m",
      "\u001b[0;32m<string>\u001b[0m in \u001b[0;36m<module>\u001b[0;34m\u001b[0m\n",
      "\u001b[0;32m~/.local/lib/python3.7/site-packages/pandas/core/series.py\u001b[0m in \u001b[0;36m__init__\u001b[0;34m(self, data, index, dtype, name, copy, fastpath)\u001b[0m\n\u001b[1;32m    312\u001b[0m                     \u001b[0;32mif\u001b[0m \u001b[0mlen\u001b[0m\u001b[0;34m(\u001b[0m\u001b[0mindex\u001b[0m\u001b[0;34m)\u001b[0m \u001b[0;34m!=\u001b[0m \u001b[0mlen\u001b[0m\u001b[0;34m(\u001b[0m\u001b[0mdata\u001b[0m\u001b[0;34m)\u001b[0m\u001b[0;34m:\u001b[0m\u001b[0;34m\u001b[0m\u001b[0;34m\u001b[0m\u001b[0m\n\u001b[1;32m    313\u001b[0m                         raise ValueError(\n\u001b[0;32m--> 314\u001b[0;31m                             \u001b[0;34mf\"Length of passed values is {len(data)}, \"\u001b[0m\u001b[0;34m\u001b[0m\u001b[0;34m\u001b[0m\u001b[0m\n\u001b[0m\u001b[1;32m    315\u001b[0m                             \u001b[0;34mf\"index implies {len(index)}.\"\u001b[0m\u001b[0;34m\u001b[0m\u001b[0;34m\u001b[0m\u001b[0m\n\u001b[1;32m    316\u001b[0m                         )\n",
      "\u001b[0;31mValueError\u001b[0m: Length of passed values is 5, index implies 9."
     ]
    }
   ],
   "source": [
    "# %run Benchmarks_Model_Builder_Mean_Var.ipynb\n",
    "exec(open('Benchmarks_Model_Builder_Mean_Var.py').read())"
   ]
  },
  {
   "cell_type": "code",
   "execution_count": null,
   "metadata": {},
   "outputs": [],
   "source": [
    "print(\"Prediction Quality (Updated): Test\")\n",
    "print(Summary_pred_Qual_models_test)\n",
    "Summary_pred_Qual_models_test"
   ]
  },
  {
   "cell_type": "code",
   "execution_count": null,
   "metadata": {},
   "outputs": [],
   "source": [
    "print(\"Prediction Quality (Updated): Train\")\n",
    "print(Summary_pred_Qual_models)\n",
    "Summary_pred_Qual_models"
   ]
  },
  {
   "cell_type": "markdown",
   "metadata": {},
   "source": [
    "# 3) The natural Universal Benchmark: [Bishop's Mixture Density Network](https://publications.aston.ac.uk/id/eprint/373/1/NCRG_94_004.pdf)\n",
    "\n",
    "This implementation is as follows:\n",
    "- For every $x$ in the trainingdata-set we fit a GMM $\\hat{\\nu}_x$, using the [Expectation-Maximization (EM) algorithm](https://en.wikipedia.org/wiki/Expectation%E2%80%93maximization_algorithm), with the same number of centers as the deep neural model in $\\mathcal{NN}_{1_{\\mathbb{R}^d},\\mathcal{D}}^{\\sigma:\\star}$ which we are evaluating.  \n",
    "- A Mixture density network is then trained to predict the infered parameters; given any $x \\in \\mathbb{R}^d$."
   ]
  },
  {
   "cell_type": "code",
   "execution_count": null,
   "metadata": {},
   "outputs": [],
   "source": [
    "if output_dim == 1:\n",
    "    # %run Mixture_Density_Network.ipynb\n",
    "    exec(open('Mixture_Density_Network.py').read())"
   ]
  },
  {
   "cell_type": "markdown",
   "metadata": {},
   "source": [
    "## Get Final Outputs\n",
    "Now we piece together all the numerical experiments and report a nice summary."
   ]
  },
  {
   "cell_type": "markdown",
   "metadata": {},
   "source": [
    "# Result(s)"
   ]
  },
  {
   "cell_type": "markdown",
   "metadata": {},
   "source": [
    "## Prediction Quality"
   ]
  },
  {
   "cell_type": "markdown",
   "metadata": {},
   "source": [
    "#### Training"
   ]
  },
  {
   "cell_type": "code",
   "execution_count": null,
   "metadata": {},
   "outputs": [],
   "source": [
    "print(\"Final Test-Set Result(s)\")\n",
    "Summary_pred_Qual_models"
   ]
  },
  {
   "cell_type": "markdown",
   "metadata": {},
   "source": [
    "#### Test"
   ]
  },
  {
   "cell_type": "code",
   "execution_count": null,
   "metadata": {},
   "outputs": [],
   "source": [
    "print(\"Final Training-Set Result(s)\")\n",
    "Summary_pred_Qual_models_test"
   ]
  },
  {
   "cell_type": "markdown",
   "metadata": {},
   "source": [
    "# For Terminal Runner(s):"
   ]
  },
  {
   "cell_type": "code",
   "execution_count": null,
   "metadata": {},
   "outputs": [],
   "source": [
    "# For Terminal Running\n",
    "print(\"============================\")\n",
    "print(\"Training Predictive Quality:\")\n",
    "print(\"============================\")\n",
    "print(Summary_pred_Qual_models)\n",
    "print(\" \")\n",
    "print(\" \")\n",
    "print(\" \")\n",
    "print(\"===========================\")\n",
    "print(\"Testing Predictive Quality:\")\n",
    "print(\"===========================\")\n",
    "print(Summary_pred_Qual_models_test)\n",
    "print(\"================================\")\n",
    "print(\" \")\n",
    "print(\" \")\n",
    "print(\" \")\n",
    "print(\"Kernel_Used_in_GPR: \"+str(GPR_trash.kernel))\n",
    "print(\"🙃🙃 Have a wonderful day! 🙃🙃\")"
   ]
  },
  {
   "cell_type": "markdown",
   "metadata": {},
   "source": [
    "---\n",
    "# Fin\n",
    "---"
   ]
  },
  {
   "cell_type": "markdown",
   "metadata": {},
   "source": [
    "---"
   ]
  }
 ],
 "metadata": {
  "kernelspec": {
   "display_name": "Python 3",
   "language": "python",
   "name": "python3"
  },
  "language_info": {
   "codemirror_mode": {
    "name": "ipython",
    "version": 3
   },
   "file_extension": ".py",
   "mimetype": "text/x-python",
   "name": "python",
   "nbconvert_exporter": "python",
   "pygments_lexer": "ipython3",
   "version": "3.7.7"
  }
 },
 "nbformat": 4,
 "nbformat_minor": 2
}
