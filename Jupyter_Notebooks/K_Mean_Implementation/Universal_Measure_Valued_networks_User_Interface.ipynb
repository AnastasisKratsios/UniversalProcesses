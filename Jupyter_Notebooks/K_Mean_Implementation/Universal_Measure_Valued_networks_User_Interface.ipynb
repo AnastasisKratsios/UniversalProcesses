{
 "cells": [
  {
   "cell_type": "markdown",
   "metadata": {},
   "source": [
    "# Deep Universal Regular Conditional Expectations:\n",
    "\n",
    "---\n",
    "This implements the universal deep neural model of $\\mathcal{NN}_{1_{\\mathbb{R}^n},\\mathcal{D}}^{\\sigma:\\star}$ [Anastasis Kratsios](https://people.math.ethz.ch/~kratsioa/) - 2021.\n",
    "\n",
    "---\n",
    "\n",
    "## What does this code do?\n",
    "1. Learn Heteroskedastic Non-Linear Regression Problem\n",
    "     - $Y\\sim f_{\\text{unkown}}(x) + \\epsilon$ where $f$ is an known function and $\\epsilon\\sim Laplace(0,\\|x\\|)$\n",
    "2. Learn Random Bayesian Network's Law:\n",
    "    - $Y = W_J Y^{J-1}, \\qquad Y^{j}\\triangleq \\sigma\\bullet A^{j}Y^{j-1} + b^{j}, \\qquad Y^0\\triangleq x$\n",
    "\n",
    "3. In the above example if $A_j = M_j\\odot \\tilde{A_j}$ where $\\tilde{A}_j$ is a deterministic matrix and $M_j$ is a \"mask\", that is, a random matrix with binary entries and $\\odot$ is the Hadamard product then we recover the dropout framework.\n",
    "4. Learn the probability distribution that the unique strong solution to the rough SDE with uniformly Lipschitz drivers driven by a factional Brownian motion with Hurst exponent $H \\in [\\frac1{2},1)$:\n",
    "$$\n",
    "X_t^x = x + \\int_0^t \\alpha(s,X_s^x)ds + \\int_0^t \\beta(s,X_s^x)dB_s^H\n",
    "$$\n",
    "belongs, at time $t=1$, to a ball about the initial point $x$ of random radius given by an independant exponential random-variable with shape parameter $\\lambda=2$"
   ]
  },
  {
   "cell_type": "code",
   "execution_count": 25,
   "metadata": {},
   "outputs": [],
   "source": [
    "# Load Packages/Modules\n",
    "exec(open('Init_Dump.py').read())"
   ]
  },
  {
   "cell_type": "markdown",
   "metadata": {},
   "source": [
    "#### Mode:\n",
    "Software/Hardware Testing or Real-Deal?"
   ]
  },
  {
   "cell_type": "code",
   "execution_count": 26,
   "metadata": {},
   "outputs": [],
   "source": [
    "trial_run = True"
   ]
  },
  {
   "cell_type": "markdown",
   "metadata": {},
   "source": [
    "### Simulation Method:"
   ]
  },
  {
   "cell_type": "code",
   "execution_count": 27,
   "metadata": {},
   "outputs": [],
   "source": [
    "# Random DNN\n",
    "# f_unknown_mode = \"Heteroskedastic_NonLinear_Regression\"\n",
    "\n",
    "# Random DNN internal noise\n",
    "# f_unknown_mode = \"DNN_with_Random_Weights\"\n",
    "Depth_Bayesian_DNN = 2\n",
    "width = 2\n",
    "\n",
    "# Random Dropout applied to trained DNN\n",
    "# f_unknown_mode = \"DNN_with_Bayesian_Dropout\"\n",
    "Dropout_rate = 0.25\n",
    "\n",
    "# Rough SDE (time 1)\n",
    "f_unknown_mode = \"Rough_SDE\""
   ]
  },
  {
   "cell_type": "markdown",
   "metadata": {},
   "source": [
    "## Problem Dimension"
   ]
  },
  {
   "cell_type": "code",
   "execution_count": 28,
   "metadata": {},
   "outputs": [],
   "source": [
    "problem_dim = 2"
   ]
  },
  {
   "cell_type": "markdown",
   "metadata": {},
   "source": [
    "## Note: *Why the procedure is so computationally efficient*?\n",
    "---\n",
    " - The sample barycenters do not require us to solve for any new Wasserstein-1 Barycenters; which is much more computationally costly,\n",
    " - Our training procedure never back-propages through $\\mathcal{W}_1$ since steps 2 and 3 are full-decoupled.  Therefore, training our deep classifier is (comparatively) cheap since it takes values in the standard $N$-simplex.\n",
    "\n",
    "---"
   ]
  },
  {
   "cell_type": "markdown",
   "metadata": {},
   "source": [
    "#### Rough SDE Meta-Parameters"
   ]
  },
  {
   "cell_type": "code",
   "execution_count": 29,
   "metadata": {},
   "outputs": [],
   "source": [
    "# SDE with Rough Driver\n",
    "N_Euler_Steps = 10**1\n",
    "Hurst_Exponent = 0.01\n",
    "\n",
    "def alpha(t,x):\n",
    "    output_drift_update = t-x\n",
    "    return output_drift_update\n",
    "\n",
    "def beta(t,x):\n",
    "    output_vol_update = (t+0.001)*np.diag(np.cos(x))\n",
    "    return output_vol_update"
   ]
  },
  {
   "cell_type": "markdown",
   "metadata": {},
   "source": [
    "#### Grid Hyperparameter(s)\n",
    "- Ratio $\\frac{\\text{Testing Datasize}}{\\text{Training Datasize}}$.\n",
    "- Number of Training Points to Generate"
   ]
  },
  {
   "cell_type": "code",
   "execution_count": 30,
   "metadata": {},
   "outputs": [],
   "source": [
    "train_test_ratio = .2\n",
    "N_train_size = 10**1"
   ]
  },
  {
   "cell_type": "markdown",
   "metadata": {},
   "source": [
    "Monte-Carlo Paramters"
   ]
  },
  {
   "cell_type": "code",
   "execution_count": 31,
   "metadata": {},
   "outputs": [],
   "source": [
    "## Monte-Carlo\n",
    "N_Monte_Carlo_Samples = 10**1"
   ]
  },
  {
   "cell_type": "markdown",
   "metadata": {},
   "source": [
    "Initial radis of $\\delta$-bounded random partition of $\\mathcal{X}$!"
   ]
  },
  {
   "cell_type": "code",
   "execution_count": 32,
   "metadata": {},
   "outputs": [],
   "source": [
    "# Hyper-parameters of Cover\n",
    "delta = 0.01\n",
    "Proportion_per_cluster = .01"
   ]
  },
  {
   "cell_type": "markdown",
   "metadata": {},
   "source": [
    "# Run Main:"
   ]
  },
  {
   "cell_type": "code",
   "execution_count": 33,
   "metadata": {},
   "outputs": [
    {
     "name": "stderr",
     "output_type": "stream",
     "text": [
      "100%|██████████| 2/2 [00:00<00:00, 56.02it/s]\n",
      " 70%|███████   | 7/10 [00:00<00:00, 66.90it/s]"
     ]
    },
    {
     "name": "stdout",
     "output_type": "stream",
     "text": [
      "------------------------------\n",
      "Running script for main model!\n",
      "------------------------------\n",
      "Deep Feature Builder - Ready\n",
      "Deep Classifier - Ready\n"
     ]
    },
    {
     "name": "stderr",
     "output_type": "stream",
     "text": [
      "100%|██████████| 10/10 [00:00<00:00, 65.12it/s]\n",
      "100%|██████████| 2/2 [00:00<00:00, 59.32it/s]\n",
      "/scratch/users/kratsioa/.local/lib/python3.7/site-packages/sklearn/model_selection/_search.py:281: UserWarning: The total space of parameters 1 is smaller than n_iter=2. Running 1 iterations. For exhaustive searches, use GridSearchCV.\n",
      "  % (grid_size, self.n_iter, grid_size), UserWarning)\n",
      "[Parallel(n_jobs=4)]: Using backend LokyBackend with 4 concurrent workers.\n"
     ]
    },
    {
     "name": "stdout",
     "output_type": "stream",
     "text": [
      "Deep Feature Builder - Ready\n",
      "Deep Classifier - Ready\n",
      "==========================================\n",
      "Training Classifer Portion of Type-A Model\n",
      "==========================================\n",
      "Fitting 2 folds for each of 1 candidates, totalling 2 fits\n"
     ]
    },
    {
     "name": "stderr",
     "output_type": "stream",
     "text": [
      "[Parallel(n_jobs=4)]: Done   2 out of   2 | elapsed:    3.5s remaining:    0.0s\n",
      "[Parallel(n_jobs=4)]: Done   2 out of   2 | elapsed:    3.5s finished\n"
     ]
    },
    {
     "name": "stdout",
     "output_type": "stream",
     "text": [
      "Epoch 1/50\n",
      "1/1 [==============================] - 0s 942us/step - loss: 0.6394 - accuracy: 0.5000\n",
      "Epoch 2/50\n",
      "1/1 [==============================] - 0s 1ms/step - loss: 0.6376 - accuracy: 0.5000\n",
      "Epoch 3/50\n",
      "1/1 [==============================] - 0s 2ms/step - loss: 0.6358 - accuracy: 0.5000\n",
      "Epoch 4/50\n",
      "1/1 [==============================] - 0s 1ms/step - loss: 0.6340 - accuracy: 0.5000\n",
      "Epoch 5/50\n",
      "1/1 [==============================] - 0s 1ms/step - loss: 0.6322 - accuracy: 0.5000\n",
      "Epoch 6/50\n",
      "1/1 [==============================] - 0s 1ms/step - loss: 0.6304 - accuracy: 0.5000\n",
      "Epoch 7/50\n",
      "1/1 [==============================] - 0s 1ms/step - loss: 0.6286 - accuracy: 0.5000\n",
      "Epoch 8/50\n",
      "1/1 [==============================] - 0s 1ms/step - loss: 0.6268 - accuracy: 0.5000\n",
      "Epoch 9/50\n",
      "1/1 [==============================] - 0s 2ms/step - loss: 0.6250 - accuracy: 0.5000\n",
      "Epoch 10/50\n",
      "1/1 [==============================] - 0s 2ms/step - loss: 0.6233 - accuracy: 0.5000\n",
      "Epoch 11/50\n",
      "1/1 [==============================] - 0s 2ms/step - loss: 0.6215 - accuracy: 0.5000\n",
      "Epoch 12/50\n",
      "1/1 [==============================] - 0s 1ms/step - loss: 0.6198 - accuracy: 0.5000\n",
      "Epoch 13/50\n",
      "1/1 [==============================] - 0s 2ms/step - loss: 0.6180 - accuracy: 0.6000\n",
      "Epoch 14/50\n",
      "1/1 [==============================] - 0s 2ms/step - loss: 0.6163 - accuracy: 0.6000\n",
      "Epoch 15/50\n",
      "1/1 [==============================] - 0s 2ms/step - loss: 0.6146 - accuracy: 0.6000\n",
      "Epoch 16/50\n",
      "1/1 [==============================] - 0s 2ms/step - loss: 0.6130 - accuracy: 0.6000\n",
      "Epoch 17/50\n",
      "1/1 [==============================] - 0s 3ms/step - loss: 0.6113 - accuracy: 0.6000\n",
      "Epoch 18/50\n",
      "1/1 [==============================] - 0s 1ms/step - loss: 0.6097 - accuracy: 0.6000\n",
      "Epoch 19/50\n",
      "1/1 [==============================] - 0s 1ms/step - loss: 0.6082 - accuracy: 0.6000\n",
      "Epoch 20/50\n",
      "1/1 [==============================] - 0s 1ms/step - loss: 0.6066 - accuracy: 0.6000\n",
      "Epoch 21/50\n",
      "1/1 [==============================] - 0s 1ms/step - loss: 0.6051 - accuracy: 0.6000\n",
      "Epoch 22/50\n",
      "1/1 [==============================] - 0s 4ms/step - loss: 0.6036 - accuracy: 0.6000\n",
      "Epoch 23/50\n",
      "1/1 [==============================] - 0s 2ms/step - loss: 0.6020 - accuracy: 0.6000\n",
      "Epoch 24/50\n",
      "1/1 [==============================] - 0s 1ms/step - loss: 0.6005 - accuracy: 0.6000\n",
      "Epoch 25/50\n",
      "1/1 [==============================] - 0s 1ms/step - loss: 0.5990 - accuracy: 0.6000\n",
      "Epoch 26/50\n",
      "1/1 [==============================] - 0s 6ms/step - loss: 0.5976 - accuracy: 0.6000\n",
      "Epoch 27/50\n",
      "1/1 [==============================] - 0s 2ms/step - loss: 0.5962 - accuracy: 0.6000\n",
      "Epoch 28/50\n",
      "1/1 [==============================] - 0s 3ms/step - loss: 0.5948 - accuracy: 0.6000\n",
      "Epoch 29/50\n",
      "1/1 [==============================] - 0s 6ms/step - loss: 0.5934 - accuracy: 0.6000\n",
      "Epoch 30/50\n",
      "1/1 [==============================] - 0s 4ms/step - loss: 0.5920 - accuracy: 0.6000\n",
      "Epoch 31/50\n",
      "1/1 [==============================] - 0s 3ms/step - loss: 0.5906 - accuracy: 0.6000\n",
      "Epoch 32/50\n",
      "1/1 [==============================] - 0s 3ms/step - loss: 0.5892 - accuracy: 0.6000\n",
      "Epoch 33/50\n",
      "1/1 [==============================] - 0s 1ms/step - loss: 0.5879 - accuracy: 0.6000\n",
      "Epoch 34/50\n",
      "1/1 [==============================] - 0s 3ms/step - loss: 0.5865 - accuracy: 0.6000\n",
      "Epoch 35/50\n",
      "1/1 [==============================] - 0s 1ms/step - loss: 0.5851 - accuracy: 0.7000\n",
      "Epoch 36/50\n",
      "1/1 [==============================] - 0s 2ms/step - loss: 0.5837 - accuracy: 0.7000\n",
      "Epoch 37/50\n",
      "1/1 [==============================] - 0s 2ms/step - loss: 0.5824 - accuracy: 0.7000\n",
      "Epoch 38/50\n",
      "1/1 [==============================] - 0s 3ms/step - loss: 0.5810 - accuracy: 0.7000\n",
      "Epoch 39/50\n",
      "1/1 [==============================] - 0s 4ms/step - loss: 0.5796 - accuracy: 0.7000\n",
      "Epoch 40/50\n",
      "1/1 [==============================] - 0s 2ms/step - loss: 0.5783 - accuracy: 0.7000\n",
      "Epoch 41/50\n",
      "1/1 [==============================] - 0s 3ms/step - loss: 0.5769 - accuracy: 0.7000\n",
      "Epoch 42/50\n",
      "1/1 [==============================] - 0s 1ms/step - loss: 0.5755 - accuracy: 0.7000\n",
      "Epoch 43/50\n",
      "1/1 [==============================] - 0s 5ms/step - loss: 0.5742 - accuracy: 0.7000\n",
      "Epoch 44/50\n",
      "1/1 [==============================] - 0s 2ms/step - loss: 0.5728 - accuracy: 0.7000\n",
      "Epoch 45/50\n",
      "1/1 [==============================] - 0s 2ms/step - loss: 0.5714 - accuracy: 0.7000\n",
      "Epoch 46/50\n",
      "1/1 [==============================] - 0s 2ms/step - loss: 0.5701 - accuracy: 0.7000\n",
      "Epoch 47/50\n",
      "1/1 [==============================] - 0s 5ms/step - loss: 0.5689 - accuracy: 0.7000\n",
      "Epoch 48/50\n",
      "1/1 [==============================] - 0s 2ms/step - loss: 0.5676 - accuracy: 0.7000\n",
      "Epoch 49/50\n",
      "1/1 [==============================] - 0s 1ms/step - loss: 0.5663 - accuracy: 0.8000\n",
      "Epoch 50/50\n",
      "1/1 [==============================] - 0s 2ms/step - loss: 0.5650 - accuracy: 0.8000\n",
      "1/1 [==============================] - 0s 924us/step\n",
      "1/1 [==============================] - 0s 953us/step\n",
      "===============================================\n",
      "Training Classifer Portion of Type Model: Done!\n",
      "===============================================\n"
     ]
    },
    {
     "name": "stderr",
     "output_type": "stream",
     "text": [
      "\r",
      "  0%|          | 0/10 [00:00<?, ?it/s]"
     ]
    },
    {
     "name": "stdout",
     "output_type": "stream",
     "text": [
      "#--------------------#\n",
      " Get Training Error(s)\n",
      "#--------------------#\n"
     ]
    },
    {
     "name": "stderr",
     "output_type": "stream",
     "text": [
      "/usr/lib/python3.7/site-packages/ipykernel_launcher.py:664: RuntimeWarning: invalid value encountered in true_divide\n",
      "/usr/lib/python3.7/site-packages/ipykernel_launcher.py:675: RuntimeWarning: invalid value encountered in true_divide\n",
      "/usr/lib/python3.7/site-packages/ipykernel_launcher.py:663: RuntimeWarning: invalid value encountered in true_divide\n",
      "/usr/lib/python3.7/site-packages/ipykernel_launcher.py:674: RuntimeWarning: invalid value encountered in true_divide\n",
      "100%|██████████| 10/10 [00:00<00:00, 432.23it/s]\n",
      "  0%|          | 0/2 [00:00<?, ?it/s]"
     ]
    },
    {
     "name": "stdout",
     "output_type": "stream",
     "text": [
      "#-------------------------#\n",
      " Get Training Error(s): END\n",
      "#-------------------------#\n",
      "#----------------#\n",
      " Get Test Error(s)\n",
      "#----------------#\n"
     ]
    },
    {
     "name": "stderr",
     "output_type": "stream",
     "text": [
      "/usr/lib/python3.7/site-packages/ipykernel_launcher.py:782: RuntimeWarning: invalid value encountered in true_divide\n",
      "/usr/lib/python3.7/site-packages/ipykernel_launcher.py:793: RuntimeWarning: invalid value encountered in true_divide\n",
      "\r",
      "100%|██████████| 2/2 [00:00<00:00, 585.84it/s]"
     ]
    },
    {
     "name": "stdout",
     "output_type": "stream",
     "text": [
      "#-------------------------#\n",
      " Get Training Error(s): END\n",
      "#-------------------------#\n",
      "------------------------------------\n",
      "Done: Running script for main model!\n",
      "------------------------------------\n"
     ]
    },
    {
     "name": "stderr",
     "output_type": "stream",
     "text": [
      "\n"
     ]
    }
   ],
   "source": [
    "print(\"------------------------------\")\n",
    "print(\"Running script for main model!\")\n",
    "print(\"------------------------------\")\n",
    "# %run Universal_Measure_Valued_Networks_Backend.ipynb\n",
    "exec(open('Universal_Measure_Valued_Networks_Backend.py').read())\n",
    "\n",
    "print(\"------------------------------------\")\n",
    "print(\"Done: Running script for main model!\")\n",
    "print(\"------------------------------------\")"
   ]
  },
  {
   "cell_type": "markdown",
   "metadata": {},
   "source": [
    "---\n",
    "# Run: All Benchmarks"
   ]
  },
  {
   "cell_type": "markdown",
   "metadata": {},
   "source": [
    "## 1) *Pointmass Benchmark(s)*\n",
    "These benchmarks consist of subsets of $C(\\mathbb{R}^d,\\mathbb{R})$ which we lift to models in $C(\\mathbb{R}^d,\\cap_{1\\leq q<\\infty}\\mathscr{P}_{q}(\\mathbb{R}))$ via:\n",
    "$$\n",
    "\\mathbb{R}^d \\ni x \\to f(x) \\to \\delta_{f(x)}\\in \\cap_{1\\leq q<\\infty}\\mathcal{P}_{q}(\\mathbb{R}).\n",
    "$$"
   ]
  },
  {
   "cell_type": "code",
   "execution_count": 34,
   "metadata": {},
   "outputs": [
    {
     "name": "stdout",
     "output_type": "stream",
     "text": [
      "Deep Feature Builder - Ready\n",
      "--------------\n",
      "Training: ENET\n",
      "--------------\n"
     ]
    },
    {
     "name": "stderr",
     "output_type": "stream",
     "text": [
      "100%|██████████| 10/10 [00:00<00:00, 866.05it/s]\n",
      "100%|██████████| 2/2 [00:00<00:00, 670.61it/s]\n",
      "[Parallel(n_jobs=4)]: Using backend LokyBackend with 4 concurrent workers.\n",
      "[Parallel(n_jobs=4)]: Done   1 tasks      | elapsed:    0.0s\n",
      "[Parallel(n_jobs=4)]: Batch computation too fast (0.0363s.) Setting batch_size=2.\n",
      "[Parallel(n_jobs=4)]: Done   2 out of   4 | elapsed:    0.0s remaining:    0.0s\n",
      "[Parallel(n_jobs=4)]: Done   4 out of   4 | elapsed:    0.1s remaining:    0.0s\n",
      "[Parallel(n_jobs=4)]: Done   4 out of   4 | elapsed:    0.1s finished\n",
      "100%|██████████| 10/10 [00:00<00:00, 434.48it/s]\n",
      "100%|██████████| 2/2 [00:00<00:00, 569.07it/s]"
     ]
    },
    {
     "name": "stdout",
     "output_type": "stream",
     "text": [
      "#------------#\n",
      " Get Error(s) \n",
      "#------------#\n",
      "#-----------------#\n",
      " Get Error(s): END \n",
      "#-----------------#\n",
      "#------------#\n",
      " Get Error(s) \n",
      "#------------#\n",
      "#-----------------#\n",
      " Get Error(s): END \n",
      "#-----------------#\n",
      "-----------------\n",
      "Training: K-Ridge\n",
      "-----------------\n",
      "Fitting 2 folds for each of 2 candidates, totalling 4 fits\n",
      "#------------#\n",
      " Get Error(s) \n",
      "#------------#\n",
      "#-----------------#\n",
      " Get Error(s): END \n",
      "#-----------------#\n",
      "#------------#\n",
      " Get Error(s) \n",
      "#------------#\n"
     ]
    },
    {
     "name": "stderr",
     "output_type": "stream",
     "text": [
      "\n",
      "[Parallel(n_jobs=4)]: Using backend LokyBackend with 4 concurrent workers.\n",
      "[Parallel(n_jobs=4)]: Batch computation too fast (0.1690s.) Setting batch_size=2.\n"
     ]
    },
    {
     "name": "stdout",
     "output_type": "stream",
     "text": [
      "#-----------------#\n",
      " Get Error(s): END \n",
      "#-----------------#\n",
      "--------------\n",
      "Training: GBRF\n",
      "--------------\n",
      "Fitting 2 folds for each of 1 candidates, totalling 2 fits\n"
     ]
    },
    {
     "name": "stderr",
     "output_type": "stream",
     "text": [
      "[Parallel(n_jobs=4)]: Done   2 out of   2 | elapsed:    0.2s remaining:    0.0s\n",
      "[Parallel(n_jobs=4)]: Done   2 out of   2 | elapsed:    0.2s finished\n",
      "100%|██████████| 10/10 [00:00<00:00, 915.33it/s]\n",
      "100%|██████████| 2/2 [00:00<00:00, 673.84it/s]\n",
      "[Parallel(n_jobs=4)]: Using backend LokyBackend with 4 concurrent workers.\n"
     ]
    },
    {
     "name": "stdout",
     "output_type": "stream",
     "text": [
      "#------------#\n",
      " Get Error(s) \n",
      "#------------#\n",
      "#-----------------#\n",
      " Get Error(s): END \n",
      "#-----------------#\n",
      "#------------#\n",
      " Get Error(s) \n",
      "#------------#\n",
      "#-----------------#\n",
      " Get Error(s): END \n",
      "#-----------------#\n",
      "-------------\n",
      "Training: DNN\n",
      "-------------\n",
      "Fitting 2 folds for each of 1 candidates, totalling 2 fits\n"
     ]
    },
    {
     "name": "stderr",
     "output_type": "stream",
     "text": [
      "[Parallel(n_jobs=4)]: Done   2 out of   2 | elapsed:    1.9s remaining:    0.0s\n",
      "[Parallel(n_jobs=4)]: Done   2 out of   2 | elapsed:    1.9s finished\n"
     ]
    },
    {
     "name": "stdout",
     "output_type": "stream",
     "text": [
      "Epoch 1/50\n",
      "1/1 [==============================] - 0s 2ms/step - loss: 1.0425 - mse: 1.0868 - mae: 1.0425 - mape: 104.2492\n",
      "Epoch 2/50\n",
      "1/1 [==============================] - 0s 1ms/step - loss: 1.0425 - mse: 1.0867 - mae: 1.0425 - mape: 104.2463\n",
      "Epoch 3/50\n",
      "1/1 [==============================] - 0s 1ms/step - loss: 1.0424 - mse: 1.0867 - mae: 1.0424 - mape: 104.2434\n",
      "Epoch 4/50\n",
      "1/1 [==============================] - 0s 2ms/step - loss: 1.0424 - mse: 1.0866 - mae: 1.0424 - mape: 104.2404\n",
      "Epoch 5/50\n",
      "1/1 [==============================] - 0s 4ms/step - loss: 1.0424 - mse: 1.0866 - mae: 1.0424 - mape: 104.2375\n",
      "Epoch 6/50\n",
      "1/1 [==============================] - 0s 964us/step - loss: 1.0423 - mse: 1.0865 - mae: 1.0423 - mape: 104.2346\n",
      "Epoch 7/50\n",
      "1/1 [==============================] - 0s 1ms/step - loss: 1.0423 - mse: 1.0864 - mae: 1.0423 - mape: 104.2317\n",
      "Epoch 8/50\n",
      "1/1 [==============================] - 0s 899us/step - loss: 1.0423 - mse: 1.0864 - mae: 1.0423 - mape: 104.2287\n",
      "Epoch 9/50\n",
      "1/1 [==============================] - 0s 1ms/step - loss: 1.0423 - mse: 1.0863 - mae: 1.0423 - mape: 104.2258\n",
      "Epoch 10/50\n",
      "1/1 [==============================] - 0s 976us/step - loss: 1.0422 - mse: 1.0862 - mae: 1.0422 - mape: 104.2228\n",
      "Epoch 11/50\n",
      "1/1 [==============================] - 0s 2ms/step - loss: 1.0422 - mse: 1.0862 - mae: 1.0422 - mape: 104.2199\n",
      "Epoch 12/50\n",
      "1/1 [==============================] - 0s 5ms/step - loss: 1.0422 - mse: 1.0861 - mae: 1.0422 - mape: 104.2170\n",
      "Epoch 13/50\n",
      "1/1 [==============================] - 0s 1ms/step - loss: 1.0421 - mse: 1.0861 - mae: 1.0421 - mape: 104.2140\n",
      "Epoch 14/50\n",
      "1/1 [==============================] - 0s 1ms/step - loss: 1.0421 - mse: 1.0860 - mae: 1.0421 - mape: 104.2111\n",
      "Epoch 15/50\n",
      "1/1 [==============================] - 0s 1ms/step - loss: 1.0421 - mse: 1.0859 - mae: 1.0421 - mape: 104.2082\n",
      "Epoch 16/50\n",
      "1/1 [==============================] - 0s 977us/step - loss: 1.0421 - mse: 1.0859 - mae: 1.0421 - mape: 104.2052\n",
      "Epoch 17/50\n",
      "1/1 [==============================] - 0s 5ms/step - loss: 1.0420 - mse: 1.0858 - mae: 1.0420 - mape: 104.2023\n",
      "Epoch 18/50\n",
      "1/1 [==============================] - 0s 2ms/step - loss: 1.0420 - mse: 1.0858 - mae: 1.0420 - mape: 104.1994\n",
      "Epoch 19/50\n",
      "1/1 [==============================] - 0s 5ms/step - loss: 1.0420 - mse: 1.0857 - mae: 1.0420 - mape: 104.1964\n",
      "Epoch 20/50\n",
      "1/1 [==============================] - 0s 2ms/step - loss: 1.0419 - mse: 1.0856 - mae: 1.0419 - mape: 104.1935\n",
      "Epoch 21/50\n",
      "1/1 [==============================] - 0s 2ms/step - loss: 1.0419 - mse: 1.0856 - mae: 1.0419 - mape: 104.1906\n",
      "Epoch 22/50\n",
      "1/1 [==============================] - 0s 953us/step - loss: 1.0419 - mse: 1.0855 - mae: 1.0419 - mape: 104.1876\n",
      "Epoch 23/50\n",
      "1/1 [==============================] - 0s 2ms/step - loss: 1.0418 - mse: 1.0854 - mae: 1.0418 - mape: 104.1847\n",
      "Epoch 24/50\n",
      "1/1 [==============================] - 0s 1ms/step - loss: 1.0418 - mse: 1.0854 - mae: 1.0418 - mape: 104.1817\n",
      "Epoch 25/50\n",
      "1/1 [==============================] - 0s 4ms/step - loss: 1.0418 - mse: 1.0853 - mae: 1.0418 - mape: 104.1788\n",
      "Epoch 26/50\n",
      "1/1 [==============================] - 0s 2ms/step - loss: 1.0418 - mse: 1.0853 - mae: 1.0418 - mape: 104.1759\n",
      "Epoch 27/50\n",
      "1/1 [==============================] - 0s 2ms/step - loss: 1.0417 - mse: 1.0852 - mae: 1.0417 - mape: 104.1729\n",
      "Epoch 28/50\n",
      "1/1 [==============================] - 0s 3ms/step - loss: 1.0417 - mse: 1.0851 - mae: 1.0417 - mape: 104.1700\n",
      "Epoch 29/50\n",
      "1/1 [==============================] - 0s 4ms/step - loss: 1.0417 - mse: 1.0851 - mae: 1.0417 - mape: 104.1670\n",
      "Epoch 30/50\n",
      "1/1 [==============================] - 0s 3ms/step - loss: 1.0416 - mse: 1.0850 - mae: 1.0416 - mape: 104.1641\n",
      "Epoch 31/50\n",
      "1/1 [==============================] - 0s 1ms/step - loss: 1.0416 - mse: 1.0850 - mae: 1.0416 - mape: 104.1612\n",
      "Epoch 32/50\n",
      "1/1 [==============================] - 0s 1ms/step - loss: 1.0416 - mse: 1.0849 - mae: 1.0416 - mape: 104.1582\n",
      "Epoch 33/50\n",
      "1/1 [==============================] - 0s 2ms/step - loss: 1.0416 - mse: 1.0848 - mae: 1.0416 - mape: 104.1553\n",
      "Epoch 34/50\n",
      "1/1 [==============================] - 0s 1ms/step - loss: 1.0415 - mse: 1.0848 - mae: 1.0415 - mape: 104.1523\n",
      "Epoch 35/50\n",
      "1/1 [==============================] - 0s 2ms/step - loss: 1.0415 - mse: 1.0847 - mae: 1.0415 - mape: 104.1494\n",
      "Epoch 36/50\n",
      "1/1 [==============================] - 0s 2ms/step - loss: 1.0415 - mse: 1.0847 - mae: 1.0415 - mape: 104.1465\n",
      "Epoch 37/50\n",
      "1/1 [==============================] - 0s 6ms/step - loss: 1.0414 - mse: 1.0846 - mae: 1.0414 - mape: 104.1435\n",
      "Epoch 38/50\n",
      "1/1 [==============================] - 0s 2ms/step - loss: 1.0414 - mse: 1.0845 - mae: 1.0414 - mape: 104.1406\n",
      "Epoch 39/50\n",
      "1/1 [==============================] - 0s 2ms/step - loss: 1.0414 - mse: 1.0845 - mae: 1.0414 - mape: 104.1376\n",
      "Epoch 40/50\n",
      "1/1 [==============================] - 0s 2ms/step - loss: 1.0413 - mse: 1.0844 - mae: 1.0413 - mape: 104.1347\n",
      "Epoch 41/50\n",
      "1/1 [==============================] - 0s 2ms/step - loss: 1.0413 - mse: 1.0843 - mae: 1.0413 - mape: 104.1317\n",
      "Epoch 42/50\n",
      "1/1 [==============================] - 0s 3ms/step - loss: 1.0413 - mse: 1.0843 - mae: 1.0413 - mape: 104.1288\n",
      "Epoch 43/50\n",
      "1/1 [==============================] - 0s 2ms/step - loss: 1.0413 - mse: 1.0842 - mae: 1.0413 - mape: 104.1259\n",
      "Epoch 44/50\n",
      "1/1 [==============================] - 0s 8ms/step - loss: 1.0412 - mse: 1.0842 - mae: 1.0412 - mape: 104.1229\n",
      "Epoch 45/50\n",
      "1/1 [==============================] - 0s 2ms/step - loss: 1.0412 - mse: 1.0841 - mae: 1.0412 - mape: 104.1200\n",
      "Epoch 46/50\n",
      "1/1 [==============================] - 0s 3ms/step - loss: 1.0412 - mse: 1.0840 - mae: 1.0412 - mape: 104.1170\n",
      "Epoch 47/50\n",
      "1/1 [==============================] - 0s 5ms/step - loss: 1.0411 - mse: 1.0840 - mae: 1.0411 - mape: 104.1141\n",
      "Epoch 48/50\n",
      "1/1 [==============================] - 0s 3ms/step - loss: 1.0411 - mse: 1.0839 - mae: 1.0411 - mape: 104.1111\n",
      "Epoch 49/50\n",
      "1/1 [==============================] - 0s 2ms/step - loss: 1.0411 - mse: 1.0839 - mae: 1.0411 - mape: 104.1082\n",
      "Epoch 50/50\n",
      "1/1 [==============================] - 0s 2ms/step - loss: 1.0411 - mse: 1.0838 - mae: 1.0411 - mape: 104.1052\n",
      "1/1 [==============================] - 0s 2ms/step\n",
      "1/1 [==============================] - 0s 2ms/step\n"
     ]
    },
    {
     "name": "stderr",
     "output_type": "stream",
     "text": [
      "100%|██████████| 10/10 [00:00<00:00, 600.14it/s]\n",
      "100%|██████████| 2/2 [00:00<00:00, 466.45it/s]"
     ]
    },
    {
     "name": "stdout",
     "output_type": "stream",
     "text": [
      "#------------#\n",
      " Get Error(s) \n",
      "#------------#\n",
      "#-----------------#\n",
      " Get Error(s): END \n",
      "#-----------------#\n",
      "#------------#\n",
      " Get Error(s) \n",
      "#------------#\n",
      "#-----------------#\n",
      " Get Error(s): END \n",
      "#-----------------#\n",
      "-----------------------\n",
      "Computing Error Metrics\n",
      "-----------------------\n"
     ]
    },
    {
     "name": "stderr",
     "output_type": "stream",
     "text": [
      "\n"
     ]
    }
   ],
   "source": [
    "exec(open('CV_Grid.py').read())\n",
    "# Notebook Mode:\n",
    "# %run Evaluation.ipynb\n",
    "# %run Benchmarks_Model_Builder_Pointmass_Based.ipynb\n",
    "# Terminal Mode (Default):\n",
    "exec(open('Evaluation.py').read())\n",
    "exec(open('Benchmarks_Model_Builder_Pointmass_Based.py').read())"
   ]
  },
  {
   "cell_type": "markdown",
   "metadata": {},
   "source": [
    "# Summary of Point-Mass Regression Models"
   ]
  },
  {
   "cell_type": "markdown",
   "metadata": {},
   "source": [
    "#### Training Model Facts"
   ]
  },
  {
   "cell_type": "code",
   "execution_count": 35,
   "metadata": {},
   "outputs": [
    {
     "name": "stdout",
     "output_type": "stream",
     "text": [
      "          ENET    kRidge  GBRF      ffNN\n",
      "W1         0.0  0.005669   0.0  1.090057\n",
      "Mean       0.0  0.074936   0.0  1.044058\n",
      "Var        0.0  0.000000   0.0  0.000000\n",
      "Skewness   NaN       NaN   NaN       NaN\n",
      "Ex_Kur     NaN       NaN   NaN       NaN\n"
     ]
    },
    {
     "data": {
      "text/html": [
       "<div>\n",
       "<style scoped>\n",
       "    .dataframe tbody tr th:only-of-type {\n",
       "        vertical-align: middle;\n",
       "    }\n",
       "\n",
       "    .dataframe tbody tr th {\n",
       "        vertical-align: top;\n",
       "    }\n",
       "\n",
       "    .dataframe thead th {\n",
       "        text-align: right;\n",
       "    }\n",
       "</style>\n",
       "<table border=\"1\" class=\"dataframe\">\n",
       "  <thead>\n",
       "    <tr style=\"text-align: right;\">\n",
       "      <th></th>\n",
       "      <th>ENET</th>\n",
       "      <th>kRidge</th>\n",
       "      <th>GBRF</th>\n",
       "      <th>ffNN</th>\n",
       "    </tr>\n",
       "  </thead>\n",
       "  <tbody>\n",
       "    <tr>\n",
       "      <th>W1</th>\n",
       "      <td>0.0</td>\n",
       "      <td>0.005669</td>\n",
       "      <td>0.0</td>\n",
       "      <td>1.090057</td>\n",
       "    </tr>\n",
       "    <tr>\n",
       "      <th>Mean</th>\n",
       "      <td>0.0</td>\n",
       "      <td>0.074936</td>\n",
       "      <td>0.0</td>\n",
       "      <td>1.044058</td>\n",
       "    </tr>\n",
       "    <tr>\n",
       "      <th>Var</th>\n",
       "      <td>0.0</td>\n",
       "      <td>0.000000</td>\n",
       "      <td>0.0</td>\n",
       "      <td>0.000000</td>\n",
       "    </tr>\n",
       "    <tr>\n",
       "      <th>Skewness</th>\n",
       "      <td>NaN</td>\n",
       "      <td>NaN</td>\n",
       "      <td>NaN</td>\n",
       "      <td>NaN</td>\n",
       "    </tr>\n",
       "    <tr>\n",
       "      <th>Ex_Kur</th>\n",
       "      <td>NaN</td>\n",
       "      <td>NaN</td>\n",
       "      <td>NaN</td>\n",
       "      <td>NaN</td>\n",
       "    </tr>\n",
       "  </tbody>\n",
       "</table>\n",
       "</div>"
      ],
      "text/plain": [
       "          ENET    kRidge  GBRF      ffNN\n",
       "W1         0.0  0.005669   0.0  1.090057\n",
       "Mean       0.0  0.074936   0.0  1.044058\n",
       "Var        0.0  0.000000   0.0  0.000000\n",
       "Skewness   NaN       NaN   NaN       NaN\n",
       "Ex_Kur     NaN       NaN   NaN       NaN"
      ]
     },
     "execution_count": 35,
     "metadata": {},
     "output_type": "execute_result"
    }
   ],
   "source": [
    "print(Summary_pred_Qual_models)\n",
    "Summary_pred_Qual_models"
   ]
  },
  {
   "cell_type": "markdown",
   "metadata": {},
   "source": [
    "#### Testing Model Facts"
   ]
  },
  {
   "cell_type": "code",
   "execution_count": 36,
   "metadata": {},
   "outputs": [
    {
     "name": "stdout",
     "output_type": "stream",
     "text": [
      "          ENET    kRidge  GBRF      ffNN\n",
      "W1         0.0  0.004458   0.0  1.083733\n",
      "Mean       0.0  0.066470   0.0  1.041023\n",
      "Var        0.0  0.000000   0.0  0.000000\n",
      "Skewness   NaN       NaN   NaN       NaN\n",
      "Ex_Kur     NaN       NaN   NaN       NaN\n"
     ]
    },
    {
     "data": {
      "text/html": [
       "<div>\n",
       "<style scoped>\n",
       "    .dataframe tbody tr th:only-of-type {\n",
       "        vertical-align: middle;\n",
       "    }\n",
       "\n",
       "    .dataframe tbody tr th {\n",
       "        vertical-align: top;\n",
       "    }\n",
       "\n",
       "    .dataframe thead th {\n",
       "        text-align: right;\n",
       "    }\n",
       "</style>\n",
       "<table border=\"1\" class=\"dataframe\">\n",
       "  <thead>\n",
       "    <tr style=\"text-align: right;\">\n",
       "      <th></th>\n",
       "      <th>ENET</th>\n",
       "      <th>kRidge</th>\n",
       "      <th>GBRF</th>\n",
       "      <th>ffNN</th>\n",
       "    </tr>\n",
       "  </thead>\n",
       "  <tbody>\n",
       "    <tr>\n",
       "      <th>W1</th>\n",
       "      <td>0.0</td>\n",
       "      <td>0.004458</td>\n",
       "      <td>0.0</td>\n",
       "      <td>1.083733</td>\n",
       "    </tr>\n",
       "    <tr>\n",
       "      <th>Mean</th>\n",
       "      <td>0.0</td>\n",
       "      <td>0.066470</td>\n",
       "      <td>0.0</td>\n",
       "      <td>1.041023</td>\n",
       "    </tr>\n",
       "    <tr>\n",
       "      <th>Var</th>\n",
       "      <td>0.0</td>\n",
       "      <td>0.000000</td>\n",
       "      <td>0.0</td>\n",
       "      <td>0.000000</td>\n",
       "    </tr>\n",
       "    <tr>\n",
       "      <th>Skewness</th>\n",
       "      <td>NaN</td>\n",
       "      <td>NaN</td>\n",
       "      <td>NaN</td>\n",
       "      <td>NaN</td>\n",
       "    </tr>\n",
       "    <tr>\n",
       "      <th>Ex_Kur</th>\n",
       "      <td>NaN</td>\n",
       "      <td>NaN</td>\n",
       "      <td>NaN</td>\n",
       "      <td>NaN</td>\n",
       "    </tr>\n",
       "  </tbody>\n",
       "</table>\n",
       "</div>"
      ],
      "text/plain": [
       "          ENET    kRidge  GBRF      ffNN\n",
       "W1         0.0  0.004458   0.0  1.083733\n",
       "Mean       0.0  0.066470   0.0  1.041023\n",
       "Var        0.0  0.000000   0.0  0.000000\n",
       "Skewness   NaN       NaN   NaN       NaN\n",
       "Ex_Kur     NaN       NaN   NaN       NaN"
      ]
     },
     "execution_count": 36,
     "metadata": {},
     "output_type": "execute_result"
    }
   ],
   "source": [
    "print(Summary_pred_Qual_models_test)\n",
    "Summary_pred_Qual_models_test"
   ]
  },
  {
   "cell_type": "markdown",
   "metadata": {},
   "source": [
    "#### Model Complexitie(s)"
   ]
  },
  {
   "cell_type": "code",
   "execution_count": 37,
   "metadata": {
    "scrolled": true
   },
   "outputs": [
    {
     "name": "stdout",
     "output_type": "stream",
     "text": [
      "        N_Params_Trainable  N_Params    T_Time  T_Test/T_test-MC\n",
      "ENET                     4         4  8.540087          0.001699\n",
      "GBRF                  1000      1000  0.372330          0.009013\n",
      "kRidge                  10        10  0.165996          0.006692\n",
      "ffNN                    81        81  3.580964          2.393632\n"
     ]
    },
    {
     "data": {
      "text/html": [
       "<div>\n",
       "<style scoped>\n",
       "    .dataframe tbody tr th:only-of-type {\n",
       "        vertical-align: middle;\n",
       "    }\n",
       "\n",
       "    .dataframe tbody tr th {\n",
       "        vertical-align: top;\n",
       "    }\n",
       "\n",
       "    .dataframe thead th {\n",
       "        text-align: right;\n",
       "    }\n",
       "</style>\n",
       "<table border=\"1\" class=\"dataframe\">\n",
       "  <thead>\n",
       "    <tr style=\"text-align: right;\">\n",
       "      <th></th>\n",
       "      <th>N_Params_Trainable</th>\n",
       "      <th>N_Params</th>\n",
       "      <th>T_Time</th>\n",
       "      <th>T_Test/T_test-MC</th>\n",
       "    </tr>\n",
       "  </thead>\n",
       "  <tbody>\n",
       "    <tr>\n",
       "      <th>ENET</th>\n",
       "      <td>4</td>\n",
       "      <td>4</td>\n",
       "      <td>8.540087</td>\n",
       "      <td>0.001699</td>\n",
       "    </tr>\n",
       "    <tr>\n",
       "      <th>GBRF</th>\n",
       "      <td>1000</td>\n",
       "      <td>1000</td>\n",
       "      <td>0.372330</td>\n",
       "      <td>0.009013</td>\n",
       "    </tr>\n",
       "    <tr>\n",
       "      <th>kRidge</th>\n",
       "      <td>10</td>\n",
       "      <td>10</td>\n",
       "      <td>0.165996</td>\n",
       "      <td>0.006692</td>\n",
       "    </tr>\n",
       "    <tr>\n",
       "      <th>ffNN</th>\n",
       "      <td>81</td>\n",
       "      <td>81</td>\n",
       "      <td>3.580964</td>\n",
       "      <td>2.393632</td>\n",
       "    </tr>\n",
       "  </tbody>\n",
       "</table>\n",
       "</div>"
      ],
      "text/plain": [
       "        N_Params_Trainable  N_Params    T_Time  T_Test/T_test-MC\n",
       "ENET                     4         4  8.540087          0.001699\n",
       "GBRF                  1000      1000  0.372330          0.009013\n",
       "kRidge                  10        10  0.165996          0.006692\n",
       "ffNN                    81        81  3.580964          2.393632"
      ]
     },
     "execution_count": 37,
     "metadata": {},
     "output_type": "execute_result"
    }
   ],
   "source": [
    "print(Summary_Complexity_models)\n",
    "Summary_Complexity_models"
   ]
  },
  {
   "cell_type": "markdown",
   "metadata": {},
   "source": [
    "## 2) *Gaussian Benchmarks*"
   ]
  },
  {
   "cell_type": "markdown",
   "metadata": {},
   "source": [
    "- Bencharm 1: [Gaussian Process Regressor](https://scikit-learn.org/stable/modules/gaussian_process.html)\n",
    "- Benchmark 2: Deep Gaussian Networks:\n",
    "These models train models which assume Gaussianity.  We may view these as models in $\\mathcal{P}_2(\\mathbb{R})$ via:\n",
    "$$\n",
    "\\mathbb{R}^d \\ni x \\to (\\hat{\\mu}(x),\\hat{\\sigma}(x))\\triangleq f(x) \\in \\mathbb{R}\\times [0,\\infty) \\to \\frac1{\\hat{\\sigma}(x)\\sqrt{2\\pi}}\\exp\\left(\\frac{-(\\cdot-\\hat{\\mu}(x))^2}{\\hat{\\sigma(x)}^2}\\right) \\in \\mathcal{G}_1\\subset \\mathcal{P}_2(\\mathbb{R});\n",
    "$$\n",
    "where $\\mathcal{G}_1$ is the set of Gaussian measures on $\\mathbb{R}$ equipped with the relative Wasserstein-1 topology.\n",
    "\n",
    "Examples of this type of architecture are especially prevalent in uncertainty quantification; see ([Deep Ensembles](https://arxiv.org/abs/1612.01474)] or [NOMU: Neural Optimization-based Model Uncertainty](https://arxiv.org/abs/2102.13640).  Moreover, their universality in $C(\\mathbb{R}^d,\\mathcal{G}_2)$ is known, and has been shown in [Corollary 4.7](https://arxiv.org/abs/2101.05390)."
   ]
  },
  {
   "cell_type": "code",
   "execution_count": 38,
   "metadata": {},
   "outputs": [
    {
     "name": "stdout",
     "output_type": "stream",
     "text": [
      "Deep Feature Builder - Ready\n",
      "Deep Feature Builder - Ready\n",
      "Fitting 2 folds for each of 2 candidates, totalling 4 fits\n"
     ]
    },
    {
     "name": "stderr",
     "output_type": "stream",
     "text": [
      "[Parallel(n_jobs=4)]: Using backend LokyBackend with 4 concurrent workers.\n",
      "[Parallel(n_jobs=4)]: Done   1 tasks      | elapsed:    0.1s\n",
      "[Parallel(n_jobs=4)]: Batch computation too fast (0.0966s.) Setting batch_size=2.\n",
      "[Parallel(n_jobs=4)]: Done   2 out of   4 | elapsed:    0.1s remaining:    0.1s\n",
      "[Parallel(n_jobs=4)]: Done   4 out of   4 | elapsed:    0.1s remaining:    0.0s\n",
      "[Parallel(n_jobs=4)]: Done   4 out of   4 | elapsed:    0.1s finished\n",
      "\r",
      "  0%|          | 0/10 [00:00<?, ?it/s]"
     ]
    },
    {
     "name": "stdout",
     "output_type": "stream",
     "text": [
      "Infering Parameters for Deep Gaussian Network to train on!\n"
     ]
    },
    {
     "name": "stderr",
     "output_type": "stream",
     "text": [
      "100%|██████████| 10/10 [00:00<00:00, 14.29it/s]\n",
      "[Parallel(n_jobs=4)]: Using backend LokyBackend with 4 concurrent workers.\n"
     ]
    },
    {
     "name": "stdout",
     "output_type": "stream",
     "text": [
      "Done Getting Parameters for Deep Gaussian Network!\n",
      "===============================\n",
      "Training Deep Gaussian Network!\n",
      "===============================\n",
      "Fitting 2 folds for each of 1 candidates, totalling 2 fits\n"
     ]
    },
    {
     "name": "stderr",
     "output_type": "stream",
     "text": [
      "[Parallel(n_jobs=4)]: Done   2 out of   2 | elapsed:    1.4s remaining:    0.0s\n",
      "[Parallel(n_jobs=4)]: Done   2 out of   2 | elapsed:    1.4s finished\n"
     ]
    },
    {
     "name": "stdout",
     "output_type": "stream",
     "text": [
      "Epoch 1/50\n",
      "1/1 [==============================] - 0s 1ms/step - loss: 1.0001 - mse: 1.0008 - mae: 1.0001 - mape: 511724544.0000\n",
      "Epoch 2/50\n",
      "1/1 [==============================] - 0s 941us/step - loss: 1.0001 - mse: 1.0008 - mae: 1.0001 - mape: 511711488.0000\n",
      "Epoch 3/50\n",
      "1/1 [==============================] - 0s 1ms/step - loss: 1.0001 - mse: 1.0008 - mae: 1.0001 - mape: 511698432.0000\n",
      "Epoch 4/50\n",
      "1/1 [==============================] - 0s 877us/step - loss: 1.0001 - mse: 1.0008 - mae: 1.0001 - mape: 511685312.0000\n",
      "Epoch 5/50\n",
      "1/1 [==============================] - 0s 4ms/step - loss: 1.0001 - mse: 1.0008 - mae: 1.0001 - mape: 511672256.0000\n",
      "Epoch 6/50\n",
      "1/1 [==============================] - 0s 883us/step - loss: 1.0001 - mse: 1.0008 - mae: 1.0001 - mape: 511659104.0000\n",
      "Epoch 7/50\n",
      "1/1 [==============================] - 0s 1ms/step - loss: 1.0001 - mse: 1.0008 - mae: 1.0001 - mape: 511646048.0000\n",
      "Epoch 8/50\n",
      "1/1 [==============================] - 0s 1ms/step - loss: 1.0001 - mse: 1.0008 - mae: 1.0001 - mape: 511632960.0000\n",
      "Epoch 9/50\n",
      "1/1 [==============================] - 0s 1ms/step - loss: 1.0001 - mse: 1.0008 - mae: 1.0001 - mape: 511619840.0000\n",
      "Epoch 10/50\n",
      "1/1 [==============================] - 0s 2ms/step - loss: 1.0001 - mse: 1.0008 - mae: 1.0001 - mape: 511606720.0000\n",
      "Epoch 11/50\n",
      "1/1 [==============================] - 0s 1ms/step - loss: 1.0001 - mse: 1.0008 - mae: 1.0001 - mape: 511593664.0000\n",
      "Epoch 12/50\n",
      "1/1 [==============================] - 0s 1ms/step - loss: 1.0001 - mse: 1.0008 - mae: 1.0001 - mape: 511580576.0000\n",
      "Epoch 13/50\n",
      "1/1 [==============================] - 0s 1ms/step - loss: 1.0001 - mse: 1.0008 - mae: 1.0001 - mape: 511567456.0000\n",
      "Epoch 14/50\n",
      "1/1 [==============================] - 0s 1ms/step - loss: 1.0001 - mse: 1.0008 - mae: 1.0001 - mape: 511554368.0000\n",
      "Epoch 15/50\n",
      "1/1 [==============================] - 0s 1ms/step - loss: 1.0001 - mse: 1.0008 - mae: 1.0001 - mape: 511541248.0000\n",
      "Epoch 16/50\n",
      "1/1 [==============================] - 0s 1ms/step - loss: 1.0001 - mse: 1.0008 - mae: 1.0001 - mape: 511528128.0000\n",
      "Epoch 17/50\n",
      "1/1 [==============================] - 0s 1ms/step - loss: 1.0001 - mse: 1.0008 - mae: 1.0001 - mape: 511515040.0000\n",
      "Epoch 18/50\n",
      "1/1 [==============================] - 0s 977us/step - loss: 1.0001 - mse: 1.0008 - mae: 1.0001 - mape: 511501984.0000\n",
      "Epoch 19/50\n",
      "1/1 [==============================] - 0s 1ms/step - loss: 1.0001 - mse: 1.0008 - mae: 1.0001 - mape: 511488928.0000\n",
      "Epoch 20/50\n",
      "1/1 [==============================] - 0s 1ms/step - loss: 1.0001 - mse: 1.0008 - mae: 1.0001 - mape: 511475776.0000\n",
      "Epoch 21/50\n",
      "1/1 [==============================] - 0s 945us/step - loss: 1.0001 - mse: 1.0008 - mae: 1.0001 - mape: 511462720.0000\n",
      "Epoch 22/50\n",
      "1/1 [==============================] - 0s 1ms/step - loss: 1.0001 - mse: 1.0008 - mae: 1.0001 - mape: 511449600.0000\n",
      "Epoch 23/50\n",
      "1/1 [==============================] - 0s 2ms/step - loss: 1.0001 - mse: 1.0008 - mae: 1.0001 - mape: 511436544.0000\n",
      "Epoch 24/50\n",
      "1/1 [==============================] - 0s 1ms/step - loss: 1.0001 - mse: 1.0008 - mae: 1.0001 - mape: 511423424.0000\n",
      "Epoch 25/50\n",
      "1/1 [==============================] - 0s 1ms/step - loss: 1.0001 - mse: 1.0008 - mae: 1.0001 - mape: 511410368.0000\n",
      "Epoch 26/50\n",
      "1/1 [==============================] - 0s 1ms/step - loss: 1.0001 - mse: 1.0008 - mae: 1.0001 - mape: 511397312.0000\n",
      "Epoch 27/50\n",
      "1/1 [==============================] - 0s 1ms/step - loss: 1.0001 - mse: 1.0008 - mae: 1.0001 - mape: 511384320.0000\n",
      "Epoch 28/50\n",
      "1/1 [==============================] - 0s 2ms/step - loss: 1.0001 - mse: 1.0008 - mae: 1.0001 - mape: 511371200.0000\n",
      "Epoch 29/50\n",
      "1/1 [==============================] - 0s 839us/step - loss: 1.0001 - mse: 1.0008 - mae: 1.0001 - mape: 511358144.0000\n",
      "Epoch 30/50\n",
      "1/1 [==============================] - 0s 886us/step - loss: 1.0001 - mse: 1.0008 - mae: 1.0001 - mape: 511345152.0000\n",
      "Epoch 31/50\n",
      "1/1 [==============================] - 0s 1ms/step - loss: 1.0001 - mse: 1.0008 - mae: 1.0001 - mape: 511332096.0000\n",
      "Epoch 32/50\n",
      "1/1 [==============================] - 0s 3ms/step - loss: 1.0001 - mse: 1.0008 - mae: 1.0001 - mape: 511319040.0000\n",
      "Epoch 33/50\n",
      "1/1 [==============================] - 0s 1ms/step - loss: 1.0001 - mse: 1.0008 - mae: 1.0001 - mape: 511305984.0000\n",
      "Epoch 34/50\n",
      "1/1 [==============================] - 0s 1ms/step - loss: 1.0001 - mse: 1.0008 - mae: 1.0001 - mape: 511292992.0000\n",
      "Epoch 35/50\n",
      "1/1 [==============================] - 0s 1ms/step - loss: 1.0001 - mse: 1.0008 - mae: 1.0001 - mape: 511279936.0000\n",
      "Epoch 36/50\n",
      "1/1 [==============================] - 0s 1ms/step - loss: 1.0001 - mse: 1.0008 - mae: 1.0001 - mape: 511266912.0000\n",
      "Epoch 37/50\n",
      "1/1 [==============================] - 0s 1ms/step - loss: 1.0001 - mse: 1.0008 - mae: 1.0001 - mape: 511253920.0000\n",
      "Epoch 38/50\n",
      "1/1 [==============================] - 0s 4ms/step - loss: 1.0001 - mse: 1.0008 - mae: 1.0001 - mape: 511240896.0000\n",
      "Epoch 39/50\n",
      "1/1 [==============================] - 0s 832us/step - loss: 1.0001 - mse: 1.0008 - mae: 1.0001 - mape: 511227904.0000\n",
      "Epoch 40/50\n",
      "1/1 [==============================] - 0s 2ms/step - loss: 1.0001 - mse: 1.0007 - mae: 1.0001 - mape: 511214912.0000\n",
      "Epoch 41/50\n",
      "1/1 [==============================] - 0s 1ms/step - loss: 1.0001 - mse: 1.0007 - mae: 1.0001 - mape: 511201888.0000\n",
      "Epoch 42/50\n",
      "1/1 [==============================] - 0s 1ms/step - loss: 1.0001 - mse: 1.0007 - mae: 1.0001 - mape: 511188896.0000\n",
      "Epoch 43/50\n",
      "1/1 [==============================] - 0s 1ms/step - loss: 1.0001 - mse: 1.0007 - mae: 1.0001 - mape: 511175872.0000\n",
      "Epoch 44/50\n",
      "1/1 [==============================] - 0s 1ms/step - loss: 1.0001 - mse: 1.0007 - mae: 1.0001 - mape: 511162944.0000\n",
      "Epoch 45/50\n",
      "1/1 [==============================] - 0s 1ms/step - loss: 1.0001 - mse: 1.0007 - mae: 1.0001 - mape: 511149984.0000\n",
      "Epoch 46/50\n",
      "1/1 [==============================] - 0s 2ms/step - loss: 1.0001 - mse: 1.0007 - mae: 1.0001 - mape: 511137024.0000\n",
      "Epoch 47/50\n",
      "1/1 [==============================] - 0s 1ms/step - loss: 1.0001 - mse: 1.0007 - mae: 1.0001 - mape: 511124064.0000\n",
      "Epoch 48/50\n",
      "1/1 [==============================] - 0s 1ms/step - loss: 1.0001 - mse: 1.0007 - mae: 1.0001 - mape: 511111072.0000\n",
      "Epoch 49/50\n",
      "1/1 [==============================] - 0s 2ms/step - loss: 1.0001 - mse: 1.0007 - mae: 1.0001 - mape: 511098176.0000\n",
      "Epoch 50/50\n",
      "1/1 [==============================] - 0s 950us/step - loss: 1.0001 - mse: 1.0007 - mae: 1.0001 - mape: 511085216.0000\n",
      "1/1 [==============================] - 0s 918us/step\n",
      "1/1 [==============================] - 0s 845us/step\n"
     ]
    },
    {
     "name": "stderr",
     "output_type": "stream",
     "text": [
      "\r",
      "  0%|          | 0/10 [00:00<?, ?it/s]"
     ]
    },
    {
     "name": "stdout",
     "output_type": "stream",
     "text": [
      "====================================\n",
      "Training Deep Gaussian Network!: END\n",
      "====================================\n",
      "#---------------------------------------#\n",
      " Get Training Errors for: Gaussian Models\n",
      "#---------------------------------------#\n"
     ]
    },
    {
     "name": "stderr",
     "output_type": "stream",
     "text": [
      "100%|██████████| 10/10 [00:00<00:00, 1138.46it/s]\n",
      "  0%|          | 0/2 [00:00<?, ?it/s]"
     ]
    },
    {
     "name": "stdout",
     "output_type": "stream",
     "text": [
      "#-------------------------#\n",
      " Get Training Error(s): END\n",
      "#-------------------------#\n",
      "#---------------------------------------#\n",
      " Get Testing Errors for: Gaussian Models\n",
      "#---------------------------------------#\n"
     ]
    },
    {
     "name": "stderr",
     "output_type": "stream",
     "text": [
      "\r",
      "100%|██████████| 2/2 [00:00<00:00, 770.73it/s]"
     ]
    },
    {
     "name": "stdout",
     "output_type": "stream",
     "text": [
      "#------------------------#\n",
      " Get Testing Error(s): END\n",
      "#------------------------#\n",
      "-------------------------------------------------\n",
      "Updating Performance Metrics Dataframe and Saved!\n",
      "-------------------------------------------------\n",
      "------------------------------------------------\n",
      "Updated Performance Metrics Dataframe and Saved!\n",
      "------------------------------------------------\n",
      "--------------------------------------------\n",
      "Computing and Updating Complexity Metrics...\n",
      "--------------------------------------------\n",
      "-----------------------------------------------\n",
      "Updated Complexity Metrics Dataframe and Saved!\n",
      "-----------------------------------------------\n"
     ]
    },
    {
     "name": "stderr",
     "output_type": "stream",
     "text": [
      "\n"
     ]
    }
   ],
   "source": [
    "# %run Benchmarks_Model_Builder_Mean_Var.ipynb\n",
    "exec(open('Benchmarks_Model_Builder_Mean_Var.py').read())"
   ]
  },
  {
   "cell_type": "code",
   "execution_count": 39,
   "metadata": {},
   "outputs": [
    {
     "name": "stdout",
     "output_type": "stream",
     "text": [
      "Prediction Quality (Updated)\n",
      "          ENET    kRidge  GBRF      ffNN           GPR       DGN\n",
      "W1         0.0  0.004458   0.0  1.083733  6.777927e-06  1.772334\n",
      "Mean       0.0  0.066470   0.0  1.041023  1.356143e-11  0.978058\n",
      "Var        0.0  0.000000   0.0  0.000000  1.356143e-11  1.022186\n",
      "Skewness   NaN       NaN   NaN       NaN  0.000000e+00  0.000000\n",
      "Ex_Kur     NaN       NaN   NaN       NaN           NaN       NaN\n"
     ]
    },
    {
     "data": {
      "text/html": [
       "<div>\n",
       "<style scoped>\n",
       "    .dataframe tbody tr th:only-of-type {\n",
       "        vertical-align: middle;\n",
       "    }\n",
       "\n",
       "    .dataframe tbody tr th {\n",
       "        vertical-align: top;\n",
       "    }\n",
       "\n",
       "    .dataframe thead th {\n",
       "        text-align: right;\n",
       "    }\n",
       "</style>\n",
       "<table border=\"1\" class=\"dataframe\">\n",
       "  <thead>\n",
       "    <tr style=\"text-align: right;\">\n",
       "      <th></th>\n",
       "      <th>ENET</th>\n",
       "      <th>kRidge</th>\n",
       "      <th>GBRF</th>\n",
       "      <th>ffNN</th>\n",
       "      <th>GPR</th>\n",
       "      <th>DGN</th>\n",
       "    </tr>\n",
       "  </thead>\n",
       "  <tbody>\n",
       "    <tr>\n",
       "      <th>W1</th>\n",
       "      <td>0.0</td>\n",
       "      <td>0.004458</td>\n",
       "      <td>0.0</td>\n",
       "      <td>1.083733</td>\n",
       "      <td>6.777927e-06</td>\n",
       "      <td>1.772334</td>\n",
       "    </tr>\n",
       "    <tr>\n",
       "      <th>Mean</th>\n",
       "      <td>0.0</td>\n",
       "      <td>0.066470</td>\n",
       "      <td>0.0</td>\n",
       "      <td>1.041023</td>\n",
       "      <td>1.356143e-11</td>\n",
       "      <td>0.978058</td>\n",
       "    </tr>\n",
       "    <tr>\n",
       "      <th>Var</th>\n",
       "      <td>0.0</td>\n",
       "      <td>0.000000</td>\n",
       "      <td>0.0</td>\n",
       "      <td>0.000000</td>\n",
       "      <td>1.356143e-11</td>\n",
       "      <td>1.022186</td>\n",
       "    </tr>\n",
       "    <tr>\n",
       "      <th>Skewness</th>\n",
       "      <td>NaN</td>\n",
       "      <td>NaN</td>\n",
       "      <td>NaN</td>\n",
       "      <td>NaN</td>\n",
       "      <td>0.000000e+00</td>\n",
       "      <td>0.000000</td>\n",
       "    </tr>\n",
       "    <tr>\n",
       "      <th>Ex_Kur</th>\n",
       "      <td>NaN</td>\n",
       "      <td>NaN</td>\n",
       "      <td>NaN</td>\n",
       "      <td>NaN</td>\n",
       "      <td>NaN</td>\n",
       "      <td>NaN</td>\n",
       "    </tr>\n",
       "  </tbody>\n",
       "</table>\n",
       "</div>"
      ],
      "text/plain": [
       "          ENET    kRidge  GBRF      ffNN           GPR       DGN\n",
       "W1         0.0  0.004458   0.0  1.083733  6.777927e-06  1.772334\n",
       "Mean       0.0  0.066470   0.0  1.041023  1.356143e-11  0.978058\n",
       "Var        0.0  0.000000   0.0  0.000000  1.356143e-11  1.022186\n",
       "Skewness   NaN       NaN   NaN       NaN  0.000000e+00  0.000000\n",
       "Ex_Kur     NaN       NaN   NaN       NaN           NaN       NaN"
      ]
     },
     "execution_count": 39,
     "metadata": {},
     "output_type": "execute_result"
    }
   ],
   "source": [
    "print(\"Prediction Quality (Updated)\")\n",
    "print(Summary_pred_Qual_models_test)\n",
    "Summary_pred_Qual_models_test"
   ]
  },
  {
   "cell_type": "code",
   "execution_count": 40,
   "metadata": {},
   "outputs": [
    {
     "name": "stdout",
     "output_type": "stream",
     "text": [
      "Model Complexities Quality (Updated)\n",
      "        N_Params_Trainable  N_Params        T_Time  T_Test/T_test-MC\n",
      "ENET                   4.0       4.0  8.540087e+00          0.001699\n",
      "GBRF                1000.0    1000.0  3.723297e-01          0.009013\n",
      "kRidge                10.0      10.0  1.659961e-01          0.006692\n",
      "ffNN                  81.0      81.0  3.580964e+00          2.393632\n",
      "GPR                    0.0       0.0  1.959026e-01          0.006910\n",
      "DGN                   81.0      81.0  1.619552e+09          1.205454\n"
     ]
    },
    {
     "data": {
      "text/html": [
       "<div>\n",
       "<style scoped>\n",
       "    .dataframe tbody tr th:only-of-type {\n",
       "        vertical-align: middle;\n",
       "    }\n",
       "\n",
       "    .dataframe tbody tr th {\n",
       "        vertical-align: top;\n",
       "    }\n",
       "\n",
       "    .dataframe thead th {\n",
       "        text-align: right;\n",
       "    }\n",
       "</style>\n",
       "<table border=\"1\" class=\"dataframe\">\n",
       "  <thead>\n",
       "    <tr style=\"text-align: right;\">\n",
       "      <th></th>\n",
       "      <th>N_Params_Trainable</th>\n",
       "      <th>N_Params</th>\n",
       "      <th>T_Time</th>\n",
       "      <th>T_Test/T_test-MC</th>\n",
       "    </tr>\n",
       "  </thead>\n",
       "  <tbody>\n",
       "    <tr>\n",
       "      <th>ENET</th>\n",
       "      <td>4.0</td>\n",
       "      <td>4.0</td>\n",
       "      <td>8.540087e+00</td>\n",
       "      <td>0.001699</td>\n",
       "    </tr>\n",
       "    <tr>\n",
       "      <th>GBRF</th>\n",
       "      <td>1000.0</td>\n",
       "      <td>1000.0</td>\n",
       "      <td>3.723297e-01</td>\n",
       "      <td>0.009013</td>\n",
       "    </tr>\n",
       "    <tr>\n",
       "      <th>kRidge</th>\n",
       "      <td>10.0</td>\n",
       "      <td>10.0</td>\n",
       "      <td>1.659961e-01</td>\n",
       "      <td>0.006692</td>\n",
       "    </tr>\n",
       "    <tr>\n",
       "      <th>ffNN</th>\n",
       "      <td>81.0</td>\n",
       "      <td>81.0</td>\n",
       "      <td>3.580964e+00</td>\n",
       "      <td>2.393632</td>\n",
       "    </tr>\n",
       "    <tr>\n",
       "      <th>GPR</th>\n",
       "      <td>0.0</td>\n",
       "      <td>0.0</td>\n",
       "      <td>1.959026e-01</td>\n",
       "      <td>0.006910</td>\n",
       "    </tr>\n",
       "    <tr>\n",
       "      <th>DGN</th>\n",
       "      <td>81.0</td>\n",
       "      <td>81.0</td>\n",
       "      <td>1.619552e+09</td>\n",
       "      <td>1.205454</td>\n",
       "    </tr>\n",
       "  </tbody>\n",
       "</table>\n",
       "</div>"
      ],
      "text/plain": [
       "        N_Params_Trainable  N_Params        T_Time  T_Test/T_test-MC\n",
       "ENET                   4.0       4.0  8.540087e+00          0.001699\n",
       "GBRF                1000.0    1000.0  3.723297e-01          0.009013\n",
       "kRidge                10.0      10.0  1.659961e-01          0.006692\n",
       "ffNN                  81.0      81.0  3.580964e+00          2.393632\n",
       "GPR                    0.0       0.0  1.959026e-01          0.006910\n",
       "DGN                   81.0      81.0  1.619552e+09          1.205454"
      ]
     },
     "execution_count": 40,
     "metadata": {},
     "output_type": "execute_result"
    }
   ],
   "source": [
    "print(\"Model Complexities Quality (Updated)\")\n",
    "print(Summary_Complexity_models)\n",
    "Summary_Complexity_models"
   ]
  },
  {
   "cell_type": "markdown",
   "metadata": {},
   "source": [
    "# 3) The natural Universal Benchmark: [Bishop's Mixture Density Network](https://publications.aston.ac.uk/id/eprint/373/1/NCRG_94_004.pdf)\n",
    "\n",
    "This implementation is as follows:\n",
    "- For every $x$ in the trainingdata-set we fit a GMM $\\hat{\\nu}_x$, using the [Expectation-Maximization (EM) algorithm](https://en.wikipedia.org/wiki/Expectation%E2%80%93maximization_algorithm), with the same number of centers as the deep neural model in $\\mathcal{NN}_{1_{\\mathbb{R}^d},\\mathcal{D}}^{\\sigma:\\star}$ which we are evaluating.  \n",
    "- A Mixture density network is then trained to predict the infered parameters; given any $x \\in \\mathbb{R}^d$."
   ]
  },
  {
   "cell_type": "code",
   "execution_count": null,
   "metadata": {},
   "outputs": [
    {
     "name": "stderr",
     "output_type": "stream",
     "text": [
      "\r",
      "  0%|          | 0/10 [00:00<?, ?it/s]"
     ]
    },
    {
     "name": "stdout",
     "output_type": "stream",
     "text": [
      "======================================================\n",
      "Preparing Training Outputs for MDNs using EM-Algorithm\n",
      "======================================================\n"
     ]
    },
    {
     "name": "stderr",
     "output_type": "stream",
     "text": [
      "\r",
      " 20%|██        | 2/10 [00:00<00:00, 11.11it/s]"
     ]
    }
   ],
   "source": [
    "# %run Mixture_Density_Network.ipynb\n",
    "exec(open('Mixture_Density_Network.py').read())"
   ]
  },
  {
   "cell_type": "markdown",
   "metadata": {},
   "source": [
    "## Get Final Outputs\n",
    "Now we piece together all the numerical experiments and report a nice summary."
   ]
  },
  {
   "cell_type": "code",
   "execution_count": null,
   "metadata": {},
   "outputs": [],
   "source": [
    "# %run WrapUp_Summarizer.ipynb\n",
    "exec(open('WrapUp_Summarizer.py').read())"
   ]
  },
  {
   "cell_type": "markdown",
   "metadata": {},
   "source": [
    "# Result(s)"
   ]
  },
  {
   "cell_type": "markdown",
   "metadata": {},
   "source": [
    "## Model Complexities"
   ]
  },
  {
   "cell_type": "code",
   "execution_count": null,
   "metadata": {},
   "outputs": [],
   "source": [
    "Summary_Complexity_models"
   ]
  },
  {
   "cell_type": "markdown",
   "metadata": {},
   "source": [
    "## Prediction Quality"
   ]
  },
  {
   "cell_type": "markdown",
   "metadata": {},
   "source": [
    "#### Training"
   ]
  },
  {
   "cell_type": "code",
   "execution_count": null,
   "metadata": {},
   "outputs": [],
   "source": [
    "PredictivePerformance_Metrics_Train"
   ]
  },
  {
   "cell_type": "markdown",
   "metadata": {},
   "source": [
    "#### Test"
   ]
  },
  {
   "cell_type": "code",
   "execution_count": null,
   "metadata": {},
   "outputs": [],
   "source": [
    "PredictivePerformance_Metrics_Test"
   ]
  },
  {
   "cell_type": "markdown",
   "metadata": {},
   "source": [
    "# For Terminal Runner(s):"
   ]
  },
  {
   "cell_type": "code",
   "execution_count": null,
   "metadata": {},
   "outputs": [],
   "source": [
    "# For Terminal Running\n",
    "print(\" \")\n",
    "print(\" \")\n",
    "print(\" \")\n",
    "print(\"====================================\")\n",
    "print(\"Model Complexity Predictive Quality:\")\n",
    "print(\"====================================\")\n",
    "print(\" \")\n",
    "print(\" \")\n",
    "print(\" \")\n",
    "print(Summary_Complexity_models)\n",
    "print(\" \")\n",
    "print(\" \")\n",
    "print(\" \")\n",
    "print(\"============================\")\n",
    "print(\"Training Predictive Quality:\")\n",
    "print(\"============================\")\n",
    "print(PredictivePerformance_Metrics_Train)\n",
    "print(\" \")\n",
    "print(\" \")\n",
    "print(\" \")\n",
    "print(\"===========================\")\n",
    "print(\"Testing Predictive Quality:\")\n",
    "print(\"===========================\")\n",
    "print(PredictivePerformance_Metrics_Test)\n",
    "print(\"================================\")\n",
    "print(\" \")\n",
    "print(\" \")\n",
    "print(\" \")\n",
    "print(\"Kernel_Used_in_GPR: \"+str(GPR_trash.kernel))\n",
    "print(\"🙃🙃 Have a wonderful day! 🙃🙃\")"
   ]
  },
  {
   "cell_type": "markdown",
   "metadata": {},
   "source": [
    "---\n",
    "# Fin\n",
    "---"
   ]
  },
  {
   "cell_type": "markdown",
   "metadata": {},
   "source": [
    "---"
   ]
  }
 ],
 "metadata": {
  "kernelspec": {
   "display_name": "Python 3",
   "language": "python",
   "name": "python3"
  },
  "language_info": {
   "codemirror_mode": {
    "name": "ipython",
    "version": 3
   },
   "file_extension": ".py",
   "mimetype": "text/x-python",
   "name": "python",
   "nbconvert_exporter": "python",
   "pygments_lexer": "ipython3",
   "version": "3.7.7"
  }
 },
 "nbformat": 4,
 "nbformat_minor": 2
}
