{
 "cells": [
  {
   "cell_type": "markdown",
   "metadata": {},
   "source": [
    "# Deep Universal Regular Conditional Expectations:\n",
    "\n",
    "---\n",
    "This implements the universal deep neural model of $\\mathcal{NN}_{1_{\\mathbb{R}^n},\\mathcal{D}}^{\\sigma:\\star}$ [Anastasis Kratsios](https://people.math.ethz.ch/~kratsioa/) - 2021.\n",
    "\n",
    "---\n",
    "\n",
    "## What does this code do?\n",
    "1. Learn Heteroskedastic Non-Linear Regression Problem\n",
    "     - $Y\\sim f_{\\text{unkown}}(x) + \\epsilon$ where $f$ is an known function and $\\epsilon\\sim Laplace(0,\\|x\\|)$\n",
    "2. Learn Random Bayesian Network's Law:\n",
    "    - $Y = W_J Y^{J-1}, \\qquad Y^{j}\\triangleq \\sigma\\bullet A^{j}Y^{j-1} + b^{j}, \\qquad Y^0\\triangleq x$\n",
    "\n",
    "3. In the above example if $A_j = M_j\\odot \\tilde{A_j}$ where $\\tilde{A}_j$ is a deterministic matrix and $M_j$ is a \"mask\", that is, a random matrix with binary entries and $\\odot$ is the Hadamard product then we recover the dropout framework.\n",
    "4. Learn the probability distribution that the unique strong solution to the rough SDE with uniformly Lipschitz drivers driven by a factional Brownian motion with Hurst exponent $H \\in [\\frac1{2},1)$:\n",
    "$$\n",
    "X_t^x = x + \\int_0^t \\alpha(s,X_s^x)ds + \\int_0^t \\beta(s,X_s^x)dB_s^H\n",
    "$$\n",
    "belongs, at time $t=1$, to a ball about the initial point $x$ of random radius given by an independant exponential random-variable with shape parameter $\\lambda=2$\n",
    "5. Train a DNN to predict the returns of bitcoin with GD.  Since this has random initialization then each prediction of a given $x$ is stochastic...We learn the distribution of this conditional RV (conditioned on x in the input space).\n",
    "$$\n",
    "Y_x \\triangleq \\hat{f}_{\\theta_{T}}(x), \\qquad \\theta_{(t+1)}\\triangleq \\theta_{(t)} + \\lambda \\sum_{x \\in \\mathbb{X}} \\nabla_{\\theta}\\|\\hat{f}_{\\theta_t}(x) - f(x)\\|, \\qquad \\theta_0 \\sim N_d(0,1);\n",
    "$$\n",
    "$T\\in \\mathbb{N}$ is a fixed number of \"SGD\" iterations (typically identified by cross-validation on a single SGD trajectory for a single initialization) and where $\\theta \\in \\mathbb{R}^{(d_{J}+1)+\\sum_{j=0}^{J-1} (d_{j+1}d_j + 1)}$ and $d_j$ is the dimension of the \"bias\" vector $b_j$ defining each layer of the DNN with layer dimensions:\n",
    "$$\n",
    "\\hat{f}_{\\theta}(x)\\triangleq A^{(J)}x^{(J)} + b^{(J)},\\qquad x^{(j+1)}\\sigma\\bullet A^{j}x^{(j)} + b^{j},\\qquad x^{(0)}\\triangleq x\n",
    ".\n",
    "$$"
   ]
  },
  {
   "cell_type": "code",
   "execution_count": 1,
   "metadata": {},
   "outputs": [
    {
     "name": "stderr",
     "output_type": "stream",
     "text": [
      "Using TensorFlow backend.\n"
     ]
    }
   ],
   "source": [
    "# Load Packages/Modules\n",
    "exec(open('Init_Dump.py').read())"
   ]
  },
  {
   "cell_type": "markdown",
   "metadata": {},
   "source": [
    "#### Mode:\n",
    "Software/Hardware Testing or Real-Deal?"
   ]
  },
  {
   "cell_type": "code",
   "execution_count": 2,
   "metadata": {},
   "outputs": [],
   "source": [
    "trial_run = True"
   ]
  },
  {
   "cell_type": "markdown",
   "metadata": {},
   "source": [
    "### Simulation Method:"
   ]
  },
  {
   "cell_type": "code",
   "execution_count": 3,
   "metadata": {},
   "outputs": [],
   "source": [
    "# # Random DNN\n",
    "# f_unknown_mode = \"Heteroskedastic_NonLinear_Regression\"\n",
    "\n",
    "# # Random DNN internal noise\n",
    "# # f_unknown_mode = \"DNN_with_Random_Weights\"\n",
    "Depth_Bayesian_DNN = 2\n",
    "width = 20\n",
    "\n",
    "# # Random Dropout applied to trained DNN\n",
    "# f_unknown_mode = \"DNN_with_Bayesian_Dropout\"\n",
    "Dropout_rate = 0.1\n",
    "\n",
    "# # Rough SDE (time 1)\n",
    "# f_unknown_mode = \"Rough_SDE\"\n",
    "\n",
    "# GD with Randomized Input\n",
    "f_unknown_mode = \"GD_with_randomized_input\"\n",
    "GD_epochs = 2"
   ]
  },
  {
   "cell_type": "markdown",
   "metadata": {},
   "source": [
    "## Problem Dimension"
   ]
  },
  {
   "cell_type": "code",
   "execution_count": 4,
   "metadata": {},
   "outputs": [],
   "source": [
    "problem_dim = 2"
   ]
  },
  {
   "cell_type": "markdown",
   "metadata": {},
   "source": [
    "## Note: *Why the procedure is so computationally efficient*?\n",
    "---\n",
    " - The sample barycenters do not require us to solve for any new Wasserstein-1 Barycenters; which is much more computationally costly,\n",
    " - Our training procedure never back-propages through $\\mathcal{W}_1$ since steps 2 and 3 are full-decoupled.  Therefore, training our deep classifier is (comparatively) cheap since it takes values in the standard $N$-simplex.\n",
    "\n",
    "---"
   ]
  },
  {
   "cell_type": "markdown",
   "metadata": {},
   "source": [
    "#### Rough SDE Meta-Parameters"
   ]
  },
  {
   "cell_type": "code",
   "execution_count": 5,
   "metadata": {},
   "outputs": [],
   "source": [
    "# SDE with Rough Driver\n",
    "N_Euler_Steps = 10**1\n",
    "Hurst_Exponent = 0.01\n",
    "\n",
    "def alpha(t,x):\n",
    "    output_drift_update = t-x\n",
    "    return output_drift_update\n",
    "\n",
    "def beta(t,x):\n",
    "    output_vol_update = (t+0.001)*np.diag(np.cos(x))\n",
    "    return output_vol_update"
   ]
  },
  {
   "cell_type": "markdown",
   "metadata": {},
   "source": [
    "#### Grid Hyperparameter(s)\n",
    "- Ratio $\\frac{\\text{Testing Datasize}}{\\text{Training Datasize}}$.\n",
    "- Number of Training Points to Generate"
   ]
  },
  {
   "cell_type": "code",
   "execution_count": 6,
   "metadata": {},
   "outputs": [],
   "source": [
    "train_test_ratio = .2\n",
    "N_train_size = 10**1"
   ]
  },
  {
   "cell_type": "markdown",
   "metadata": {},
   "source": [
    "Monte-Carlo Paramters"
   ]
  },
  {
   "cell_type": "code",
   "execution_count": 7,
   "metadata": {},
   "outputs": [],
   "source": [
    "## Monte-Carlo\n",
    "N_Monte_Carlo_Samples = 10**1"
   ]
  },
  {
   "cell_type": "markdown",
   "metadata": {},
   "source": [
    "Initial radis of $\\delta$-bounded random partition of $\\mathcal{X}$!"
   ]
  },
  {
   "cell_type": "code",
   "execution_count": 8,
   "metadata": {},
   "outputs": [],
   "source": [
    "# Hyper-parameters of Cover\n",
    "delta = 0.01\n",
    "Proportion_per_cluster = .01"
   ]
  },
  {
   "cell_type": "markdown",
   "metadata": {},
   "source": [
    "# Run Main:"
   ]
  },
  {
   "cell_type": "code",
   "execution_count": 9,
   "metadata": {},
   "outputs": [
    {
     "name": "stderr",
     "output_type": "stream",
     "text": [
      "100%|██████████| 10/10 [00:00<00:00, 361.78it/s]\n",
      "100%|██████████| 2/2 [00:00<00:00, 397.04it/s]\n",
      "100%|██████████| 2/2 [00:00<00:00, 6091.94it/s]"
     ]
    },
    {
     "name": "stdout",
     "output_type": "stream",
     "text": [
      "------------------------------\n",
      "Running script for main model!\n",
      "------------------------------\n",
      "Deep Feature Builder - Ready\n",
      "Deep Classifier - Ready\n",
      "Deep Feature Builder - Ready\n",
      "Deep Feature Builder - Ready\n",
      "Deep Classifier - Ready\n",
      "==========================================\n",
      "Training Classifer Portion of Type-A Model\n",
      "==========================================\n",
      "Fitting 2 folds for each of 1 candidates, totalling 2 fits\n"
     ]
    },
    {
     "name": "stderr",
     "output_type": "stream",
     "text": [
      "\n",
      "[Parallel(n_jobs=4)]: Using backend LokyBackend with 4 concurrent workers.\n",
      "[Parallel(n_jobs=4)]: Done   2 out of   2 | elapsed:    3.6s remaining:    0.0s\n",
      "[Parallel(n_jobs=4)]: Done   2 out of   2 | elapsed:    3.6s finished\n"
     ]
    },
    {
     "name": "stdout",
     "output_type": "stream",
     "text": [
      "Epoch 1/50\n",
      "1/1 [==============================] - 0s 1ms/step - loss: 0.8764 - accuracy: 0.4000\n",
      "Epoch 2/50\n",
      "1/1 [==============================] - 0s 1ms/step - loss: 0.8714 - accuracy: 0.3000\n",
      "Epoch 3/50\n",
      "1/1 [==============================] - 0s 1ms/step - loss: 0.8664 - accuracy: 0.3000\n",
      "Epoch 4/50\n",
      "1/1 [==============================] - 0s 3ms/step - loss: 0.8614 - accuracy: 0.3000\n",
      "Epoch 5/50\n",
      "1/1 [==============================] - 0s 2ms/step - loss: 0.8565 - accuracy: 0.3000\n",
      "Epoch 6/50\n",
      "1/1 [==============================] - 0s 1ms/step - loss: 0.8517 - accuracy: 0.3000\n",
      "Epoch 7/50\n",
      "1/1 [==============================] - 0s 4ms/step - loss: 0.8469 - accuracy: 0.3000\n",
      "Epoch 8/50\n",
      "1/1 [==============================] - 0s 5ms/step - loss: 0.8422 - accuracy: 0.3000\n",
      "Epoch 9/50\n",
      "1/1 [==============================] - 0s 1ms/step - loss: 0.8374 - accuracy: 0.3000\n",
      "Epoch 10/50\n",
      "1/1 [==============================] - 0s 2ms/step - loss: 0.8328 - accuracy: 0.3000\n",
      "Epoch 11/50\n",
      "1/1 [==============================] - 0s 2ms/step - loss: 0.8282 - accuracy: 0.3000\n",
      "Epoch 12/50\n",
      "1/1 [==============================] - 0s 2ms/step - loss: 0.8236 - accuracy: 0.3000\n",
      "Epoch 13/50\n",
      "1/1 [==============================] - 0s 2ms/step - loss: 0.8192 - accuracy: 0.3000\n",
      "Epoch 14/50\n",
      "1/1 [==============================] - 0s 1ms/step - loss: 0.8148 - accuracy: 0.3000\n",
      "Epoch 15/50\n",
      "1/1 [==============================] - 0s 5ms/step - loss: 0.8105 - accuracy: 0.3000\n",
      "Epoch 16/50\n",
      "1/1 [==============================] - 0s 1ms/step - loss: 0.8062 - accuracy: 0.3000\n",
      "Epoch 17/50\n",
      "1/1 [==============================] - 0s 2ms/step - loss: 0.8020 - accuracy: 0.3000\n",
      "Epoch 18/50\n",
      "1/1 [==============================] - 0s 1ms/step - loss: 0.7978 - accuracy: 0.3000\n",
      "Epoch 19/50\n",
      "1/1 [==============================] - 0s 2ms/step - loss: 0.7937 - accuracy: 0.3000\n",
      "Epoch 20/50\n",
      "1/1 [==============================] - 0s 1ms/step - loss: 0.7896 - accuracy: 0.3000\n",
      "Epoch 21/50\n",
      "1/1 [==============================] - 0s 3ms/step - loss: 0.7856 - accuracy: 0.3000\n",
      "Epoch 22/50\n",
      "1/1 [==============================] - 0s 3ms/step - loss: 0.7817 - accuracy: 0.3000\n",
      "Epoch 23/50\n",
      "1/1 [==============================] - 0s 2ms/step - loss: 0.7778 - accuracy: 0.3000\n",
      "Epoch 24/50\n",
      "1/1 [==============================] - 0s 2ms/step - loss: 0.7739 - accuracy: 0.3000\n",
      "Epoch 25/50\n",
      "1/1 [==============================] - 0s 3ms/step - loss: 0.7702 - accuracy: 0.3000\n",
      "Epoch 26/50\n",
      "1/1 [==============================] - 0s 4ms/step - loss: 0.7665 - accuracy: 0.3000\n",
      "Epoch 27/50\n",
      "1/1 [==============================] - 0s 1ms/step - loss: 0.7628 - accuracy: 0.3000\n",
      "Epoch 28/50\n",
      "1/1 [==============================] - 0s 3ms/step - loss: 0.7592 - accuracy: 0.3000\n",
      "Epoch 29/50\n",
      "1/1 [==============================] - 0s 2ms/step - loss: 0.7557 - accuracy: 0.3000\n",
      "Epoch 30/50\n",
      "1/1 [==============================] - 0s 1ms/step - loss: 0.7522 - accuracy: 0.3000\n",
      "Epoch 31/50\n",
      "1/1 [==============================] - 0s 2ms/step - loss: 0.7489 - accuracy: 0.3000\n",
      "Epoch 32/50\n",
      "1/1 [==============================] - 0s 1ms/step - loss: 0.7455 - accuracy: 0.3000\n",
      "Epoch 33/50\n",
      "1/1 [==============================] - 0s 2ms/step - loss: 0.7423 - accuracy: 0.3000\n",
      "Epoch 34/50\n",
      "1/1 [==============================] - 0s 1ms/step - loss: 0.7391 - accuracy: 0.3000\n",
      "Epoch 35/50\n",
      "1/1 [==============================] - 0s 1ms/step - loss: 0.7360 - accuracy: 0.3000\n",
      "Epoch 36/50\n",
      "1/1 [==============================] - 0s 1ms/step - loss: 0.7329 - accuracy: 0.3000\n",
      "Epoch 37/50\n",
      "1/1 [==============================] - 0s 1ms/step - loss: 0.7299 - accuracy: 0.3000\n",
      "Epoch 38/50\n",
      "1/1 [==============================] - 0s 2ms/step - loss: 0.7269 - accuracy: 0.4000\n",
      "Epoch 39/50\n",
      "1/1 [==============================] - 0s 1ms/step - loss: 0.7240 - accuracy: 0.4000\n",
      "Epoch 40/50\n",
      "1/1 [==============================] - 0s 2ms/step - loss: 0.7211 - accuracy: 0.4000\n",
      "Epoch 41/50\n",
      "1/1 [==============================] - 0s 6ms/step - loss: 0.7182 - accuracy: 0.4000\n",
      "Epoch 42/50\n",
      "1/1 [==============================] - ETA: 0s - loss: 0.7154 - accuracy: 0.40 - 0s 2ms/step - loss: 0.7154 - accuracy: 0.4000\n",
      "Epoch 43/50\n",
      "1/1 [==============================] - 0s 2ms/step - loss: 0.7126 - accuracy: 0.3000\n",
      "Epoch 44/50\n",
      "1/1 [==============================] - 0s 3ms/step - loss: 0.7098 - accuracy: 0.3000\n",
      "Epoch 45/50\n",
      "1/1 [==============================] - 0s 2ms/step - loss: 0.7071 - accuracy: 0.3000\n",
      "Epoch 46/50\n",
      "1/1 [==============================] - 0s 4ms/step - loss: 0.7044 - accuracy: 0.3000\n",
      "Epoch 47/50\n",
      "1/1 [==============================] - 0s 4ms/step - loss: 0.7017 - accuracy: 0.4000\n",
      "Epoch 48/50\n",
      "1/1 [==============================] - 0s 1ms/step - loss: 0.6991 - accuracy: 0.4000\n",
      "Epoch 49/50\n",
      "1/1 [==============================] - 0s 3ms/step - loss: 0.6965 - accuracy: 0.4000\n",
      "Epoch 50/50\n",
      "1/1 [==============================] - 0s 4ms/step - loss: 0.6939 - accuracy: 0.4000\n",
      "1/1 [==============================] - 0s 1ms/step\n",
      "1/1 [==============================] - 0s 1ms/step\n"
     ]
    },
    {
     "name": "stderr",
     "output_type": "stream",
     "text": [
      "100%|██████████| 10/10 [00:00<00:00, 588.98it/s]\n",
      "100%|██████████| 2/2 [00:00<00:00, 547.31it/s]"
     ]
    },
    {
     "name": "stdout",
     "output_type": "stream",
     "text": [
      "===============================================\n",
      "Training Classifer Portion of Type Model: Done!\n",
      "===============================================\n",
      "#--------------------#\n",
      " Get Training Error(s)\n",
      "#--------------------#\n",
      "#-------------------------#\n",
      " Get Training Error(s): END\n",
      "#-------------------------#\n",
      "#----------------#\n",
      " Get Test Error(s)\n",
      "#----------------#\n",
      "#-------------------------#\n",
      " Get Training Error(s): END\n",
      "#-------------------------#\n",
      "------------------------------------\n",
      "Done: Running script for main model!\n",
      "------------------------------------\n"
     ]
    },
    {
     "name": "stderr",
     "output_type": "stream",
     "text": [
      "\n"
     ]
    }
   ],
   "source": [
    "print(\"------------------------------\")\n",
    "print(\"Running script for main model!\")\n",
    "print(\"------------------------------\")\n",
    "# %run Universal_Measure_Valued_Networks_Backend.ipynb\n",
    "exec(open('Universal_Measure_Valued_Networks_Backend.py').read())\n",
    "\n",
    "print(\"------------------------------------\")\n",
    "print(\"Done: Running script for main model!\")\n",
    "print(\"------------------------------------\")"
   ]
  },
  {
   "cell_type": "markdown",
   "metadata": {},
   "source": [
    "---\n",
    "# Run: All Benchmarks"
   ]
  },
  {
   "cell_type": "markdown",
   "metadata": {},
   "source": [
    "## 1) *Pointmass Benchmark(s)*\n",
    "These benchmarks consist of subsets of $C(\\mathbb{R}^d,\\mathbb{R})$ which we lift to models in $C(\\mathbb{R}^d,\\cap_{1\\leq q<\\infty}\\mathscr{P}_{q}(\\mathbb{R}))$ via:\n",
    "$$\n",
    "\\mathbb{R}^d \\ni x \\to f(x) \\to \\delta_{f(x)}\\in \\cap_{1\\leq q<\\infty}\\mathcal{P}_{q}(\\mathbb{R}).\n",
    "$$"
   ]
  },
  {
   "cell_type": "code",
   "execution_count": 10,
   "metadata": {},
   "outputs": [
    {
     "name": "stdout",
     "output_type": "stream",
     "text": [
      "Deep Feature Builder - Ready\n",
      "--------------\n",
      "Training: ENET\n",
      "--------------\n"
     ]
    },
    {
     "name": "stderr",
     "output_type": "stream",
     "text": [
      "100%|██████████| 10/10 [00:00<00:00, 1247.45it/s]\n",
      "100%|██████████| 2/2 [00:00<00:00, 810.10it/s]"
     ]
    },
    {
     "name": "stdout",
     "output_type": "stream",
     "text": [
      "#------------#\n",
      " Get Error(s) \n",
      "#------------#\n",
      "#-----------------#\n",
      " Get Error(s): END \n",
      "#-----------------#\n",
      "#------------#\n",
      " Get Error(s) \n",
      "#------------#\n",
      "#-----------------#\n",
      " Get Error(s): END \n",
      "#-----------------#\n",
      "-----------------\n",
      "Training: K-Ridge\n",
      "-----------------\n",
      "Fitting 2 folds for each of 2 candidates, totalling 4 fits\n"
     ]
    },
    {
     "name": "stderr",
     "output_type": "stream",
     "text": [
      "\n",
      "[Parallel(n_jobs=4)]: Using backend LokyBackend with 4 concurrent workers.\n",
      "[Parallel(n_jobs=4)]: Done   1 tasks      | elapsed:    0.0s\n",
      "[Parallel(n_jobs=4)]: Batch computation too fast (0.0354s.) Setting batch_size=2.\n",
      "[Parallel(n_jobs=4)]: Done   2 out of   4 | elapsed:    0.0s remaining:    0.0s\n",
      "[Parallel(n_jobs=4)]: Done   4 out of   4 | elapsed:    0.3s remaining:    0.0s\n",
      "[Parallel(n_jobs=4)]: Done   4 out of   4 | elapsed:    0.3s finished\n",
      "100%|██████████| 10/10 [00:00<00:00, 780.80it/s]\n",
      "100%|██████████| 2/2 [00:00<00:00, 1167.19it/s]\n",
      "[Parallel(n_jobs=4)]: Using backend LokyBackend with 4 concurrent workers.\n"
     ]
    },
    {
     "name": "stdout",
     "output_type": "stream",
     "text": [
      "#------------#\n",
      " Get Error(s) \n",
      "#------------#\n",
      "#-----------------#\n",
      " Get Error(s): END \n",
      "#-----------------#\n",
      "#------------#\n",
      " Get Error(s) \n",
      "#------------#\n",
      "#-----------------#\n",
      " Get Error(s): END \n",
      "#-----------------#\n",
      "--------------\n",
      "Training: GBRF\n",
      "--------------\n",
      "Fitting 2 folds for each of 1 candidates, totalling 2 fits\n"
     ]
    },
    {
     "name": "stderr",
     "output_type": "stream",
     "text": [
      "[Parallel(n_jobs=4)]: Batch computation too fast (0.1563s.) Setting batch_size=2.\n",
      "[Parallel(n_jobs=4)]: Done   2 out of   2 | elapsed:    0.2s remaining:    0.0s\n",
      "[Parallel(n_jobs=4)]: Done   2 out of   2 | elapsed:    0.2s finished\n",
      "100%|██████████| 10/10 [00:00<00:00, 945.07it/s]\n",
      "100%|██████████| 2/2 [00:00<00:00, 891.36it/s]\n",
      "[Parallel(n_jobs=4)]: Using backend LokyBackend with 4 concurrent workers.\n"
     ]
    },
    {
     "name": "stdout",
     "output_type": "stream",
     "text": [
      "#------------#\n",
      " Get Error(s) \n",
      "#------------#\n",
      "#-----------------#\n",
      " Get Error(s): END \n",
      "#-----------------#\n",
      "#------------#\n",
      " Get Error(s) \n",
      "#------------#\n",
      "#-----------------#\n",
      " Get Error(s): END \n",
      "#-----------------#\n",
      "-------------\n",
      "Training: DNN\n",
      "-------------\n",
      "Fitting 2 folds for each of 1 candidates, totalling 2 fits\n"
     ]
    },
    {
     "name": "stderr",
     "output_type": "stream",
     "text": [
      "[Parallel(n_jobs=4)]: Done   2 out of   2 | elapsed:    3.5s remaining:    0.0s\n",
      "[Parallel(n_jobs=4)]: Done   2 out of   2 | elapsed:    3.5s finished\n"
     ]
    },
    {
     "name": "stdout",
     "output_type": "stream",
     "text": [
      "Epoch 1/50\n",
      "1/1 [==============================] - 0s 1ms/step - loss: 0.3882 - mse: 0.1630 - mae: 0.3882 - mape: 114.0914\n",
      "Epoch 2/50\n",
      "1/1 [==============================] - 0s 2ms/step - loss: 0.3882 - mse: 0.1630 - mae: 0.3882 - mape: 114.0825\n",
      "Epoch 3/50\n",
      "1/1 [==============================] - 0s 1ms/step - loss: 0.3881 - mse: 0.1630 - mae: 0.3881 - mape: 114.0736\n",
      "Epoch 4/50\n",
      "1/1 [==============================] - 0s 2ms/step - loss: 0.3881 - mse: 0.1630 - mae: 0.3881 - mape: 114.0646\n",
      "Epoch 5/50\n",
      "1/1 [==============================] - 0s 1ms/step - loss: 0.3881 - mse: 0.1629 - mae: 0.3881 - mape: 114.0557\n",
      "Epoch 6/50\n",
      "1/1 [==============================] - 0s 2ms/step - loss: 0.3880 - mse: 0.1629 - mae: 0.3880 - mape: 114.0467\n",
      "Epoch 7/50\n",
      "1/1 [==============================] - 0s 8ms/step - loss: 0.3880 - mse: 0.1629 - mae: 0.3880 - mape: 114.0378\n",
      "Epoch 8/50\n",
      "1/1 [==============================] - 0s 2ms/step - loss: 0.3880 - mse: 0.1629 - mae: 0.3880 - mape: 114.0288\n",
      "Epoch 9/50\n",
      "1/1 [==============================] - 0s 1ms/step - loss: 0.3880 - mse: 0.1629 - mae: 0.3880 - mape: 114.0199\n",
      "Epoch 10/50\n",
      "1/1 [==============================] - 0s 2ms/step - loss: 0.3879 - mse: 0.1628 - mae: 0.3879 - mape: 114.0109\n",
      "Epoch 11/50\n",
      "1/1 [==============================] - 0s 2ms/step - loss: 0.3879 - mse: 0.1628 - mae: 0.3879 - mape: 114.0020\n",
      "Epoch 12/50\n",
      "1/1 [==============================] - 0s 2ms/step - loss: 0.3879 - mse: 0.1628 - mae: 0.3879 - mape: 113.9931\n",
      "Epoch 13/50\n",
      "1/1 [==============================] - 0s 2ms/step - loss: 0.3878 - mse: 0.1628 - mae: 0.3878 - mape: 113.9841\n",
      "Epoch 14/50\n",
      "1/1 [==============================] - 0s 4ms/step - loss: 0.3878 - mse: 0.1627 - mae: 0.3878 - mape: 113.9752\n",
      "Epoch 15/50\n",
      "1/1 [==============================] - 0s 4ms/step - loss: 0.3878 - mse: 0.1627 - mae: 0.3878 - mape: 113.9662\n",
      "Epoch 16/50\n",
      "1/1 [==============================] - 0s 1ms/step - loss: 0.3878 - mse: 0.1627 - mae: 0.3878 - mape: 113.9573\n",
      "Epoch 17/50\n",
      "1/1 [==============================] - 0s 1ms/step - loss: 0.3877 - mse: 0.1627 - mae: 0.3877 - mape: 113.9483\n",
      "Epoch 18/50\n",
      "1/1 [==============================] - 0s 3ms/step - loss: 0.3877 - mse: 0.1627 - mae: 0.3877 - mape: 113.9393\n",
      "Epoch 19/50\n",
      "1/1 [==============================] - 0s 1ms/step - loss: 0.3877 - mse: 0.1626 - mae: 0.3877 - mape: 113.9304\n",
      "Epoch 20/50\n",
      "1/1 [==============================] - 0s 2ms/step - loss: 0.3876 - mse: 0.1626 - mae: 0.3876 - mape: 113.9214\n",
      "Epoch 21/50\n",
      "1/1 [==============================] - 0s 2ms/step - loss: 0.3876 - mse: 0.1626 - mae: 0.3876 - mape: 113.9125\n",
      "Epoch 22/50\n",
      "1/1 [==============================] - 0s 3ms/step - loss: 0.3876 - mse: 0.1626 - mae: 0.3876 - mape: 113.9035\n",
      "Epoch 23/50\n",
      "1/1 [==============================] - 0s 2ms/step - loss: 0.3876 - mse: 0.1625 - mae: 0.3876 - mape: 113.8946\n",
      "Epoch 24/50\n",
      "1/1 [==============================] - 0s 3ms/step - loss: 0.3875 - mse: 0.1625 - mae: 0.3875 - mape: 113.8856\n",
      "Epoch 25/50\n",
      "1/1 [==============================] - 0s 3ms/step - loss: 0.3875 - mse: 0.1625 - mae: 0.3875 - mape: 113.8766\n",
      "Epoch 26/50\n",
      "1/1 [==============================] - 0s 2ms/step - loss: 0.3875 - mse: 0.1625 - mae: 0.3875 - mape: 113.8677\n",
      "Epoch 27/50\n",
      "1/1 [==============================] - 0s 2ms/step - loss: 0.3874 - mse: 0.1625 - mae: 0.3874 - mape: 113.8587\n",
      "Epoch 28/50\n",
      "1/1 [==============================] - 0s 2ms/step - loss: 0.3874 - mse: 0.1624 - mae: 0.3874 - mape: 113.8497\n",
      "Epoch 29/50\n",
      "1/1 [==============================] - 0s 2ms/step - loss: 0.3874 - mse: 0.1624 - mae: 0.3874 - mape: 113.8408\n",
      "Epoch 30/50\n",
      "1/1 [==============================] - 0s 2ms/step - loss: 0.3874 - mse: 0.1624 - mae: 0.3874 - mape: 113.8318\n",
      "Epoch 31/50\n",
      "1/1 [==============================] - 0s 1ms/step - loss: 0.3873 - mse: 0.1624 - mae: 0.3873 - mape: 113.8229\n",
      "Epoch 32/50\n",
      "1/1 [==============================] - 0s 2ms/step - loss: 0.3873 - mse: 0.1623 - mae: 0.3873 - mape: 113.8139\n",
      "Epoch 33/50\n",
      "1/1 [==============================] - 0s 5ms/step - loss: 0.3873 - mse: 0.1623 - mae: 0.3873 - mape: 113.8049\n",
      "Epoch 34/50\n",
      "1/1 [==============================] - 0s 2ms/step - loss: 0.3872 - mse: 0.1623 - mae: 0.3872 - mape: 113.7959\n",
      "Epoch 35/50\n",
      "1/1 [==============================] - 0s 4ms/step - loss: 0.3872 - mse: 0.1623 - mae: 0.3872 - mape: 113.7870\n",
      "Epoch 36/50\n",
      "1/1 [==============================] - 0s 1ms/step - loss: 0.3872 - mse: 0.1622 - mae: 0.3872 - mape: 113.7780\n",
      "Epoch 37/50\n",
      "1/1 [==============================] - 0s 2ms/step - loss: 0.3872 - mse: 0.1622 - mae: 0.3872 - mape: 113.7690\n",
      "Epoch 38/50\n",
      "1/1 [==============================] - 0s 2ms/step - loss: 0.3871 - mse: 0.1622 - mae: 0.3871 - mape: 113.7601\n",
      "Epoch 39/50\n",
      "1/1 [==============================] - 0s 2ms/step - loss: 0.3871 - mse: 0.1622 - mae: 0.3871 - mape: 113.7511\n",
      "Epoch 40/50\n",
      "1/1 [==============================] - 0s 2ms/step - loss: 0.3871 - mse: 0.1622 - mae: 0.3871 - mape: 113.7421\n",
      "Epoch 41/50\n",
      "1/1 [==============================] - 0s 3ms/step - loss: 0.3870 - mse: 0.1621 - mae: 0.3870 - mape: 113.7331\n",
      "Epoch 42/50\n",
      "1/1 [==============================] - 0s 3ms/step - loss: 0.3870 - mse: 0.1621 - mae: 0.3870 - mape: 113.7241\n",
      "Epoch 43/50\n",
      "1/1 [==============================] - 0s 1ms/step - loss: 0.3870 - mse: 0.1621 - mae: 0.3870 - mape: 113.7152\n",
      "Epoch 44/50\n",
      "1/1 [==============================] - 0s 2ms/step - loss: 0.3870 - mse: 0.1621 - mae: 0.3870 - mape: 113.7062\n",
      "Epoch 45/50\n",
      "1/1 [==============================] - 0s 1ms/step - loss: 0.3869 - mse: 0.1620 - mae: 0.3869 - mape: 113.6972\n",
      "Epoch 46/50\n",
      "1/1 [==============================] - 0s 2ms/step - loss: 0.3869 - mse: 0.1620 - mae: 0.3869 - mape: 113.6882\n",
      "Epoch 47/50\n",
      "1/1 [==============================] - 0s 3ms/step - loss: 0.3869 - mse: 0.1620 - mae: 0.3869 - mape: 113.6792\n",
      "Epoch 48/50\n",
      "1/1 [==============================] - 0s 2ms/step - loss: 0.3868 - mse: 0.1620 - mae: 0.3868 - mape: 113.6702\n",
      "Epoch 49/50\n",
      "1/1 [==============================] - 0s 3ms/step - loss: 0.3868 - mse: 0.1620 - mae: 0.3868 - mape: 113.6613\n",
      "Epoch 50/50\n",
      "1/1 [==============================] - 0s 1ms/step - loss: 0.3868 - mse: 0.1619 - mae: 0.3868 - mape: 113.6523\n",
      "1/1 [==============================] - 0s 1ms/step\n",
      "1/1 [==============================] - 0s 2ms/step\n"
     ]
    },
    {
     "name": "stderr",
     "output_type": "stream",
     "text": [
      "\r",
      "  0%|          | 0/10 [00:00<?, ?it/s]"
     ]
    },
    {
     "name": "stdout",
     "output_type": "stream",
     "text": [
      "#------------#\n",
      " Get Error(s) \n",
      "#------------#\n"
     ]
    },
    {
     "name": "stderr",
     "output_type": "stream",
     "text": [
      "100%|██████████| 10/10 [00:00<00:00, 683.63it/s]\n",
      "100%|██████████| 2/2 [00:00<00:00, 655.67it/s]"
     ]
    },
    {
     "name": "stdout",
     "output_type": "stream",
     "text": [
      "#-----------------#\n",
      " Get Error(s): END \n",
      "#-----------------#\n",
      "#------------#\n",
      " Get Error(s) \n",
      "#------------#\n",
      "#-----------------#\n",
      " Get Error(s): END \n",
      "#-----------------#\n",
      "-----------------------\n",
      "Computing Error Metrics\n",
      "-----------------------\n"
     ]
    },
    {
     "name": "stderr",
     "output_type": "stream",
     "text": [
      "\n"
     ]
    }
   ],
   "source": [
    "exec(open('CV_Grid.py').read())\n",
    "# Notebook Mode:\n",
    "# %run Evaluation.ipynb\n",
    "# %run Benchmarks_Model_Builder_Pointmass_Based.ipynb\n",
    "# Terminal Mode (Default):\n",
    "exec(open('Evaluation.py').read())\n",
    "exec(open('Benchmarks_Model_Builder_Pointmass_Based.py').read())"
   ]
  },
  {
   "cell_type": "markdown",
   "metadata": {},
   "source": [
    "# Summary of Point-Mass Regression Models"
   ]
  },
  {
   "cell_type": "markdown",
   "metadata": {},
   "source": [
    "#### Training Model Facts"
   ]
  },
  {
   "cell_type": "code",
   "execution_count": 11,
   "metadata": {},
   "outputs": [
    {
     "name": "stdout",
     "output_type": "stream",
     "text": [
      "                  ENET        kRidge          GBRF          ffNN\n",
      "W1        2.615522e-04  6.434712e-04  5.522462e-03  1.537479e-01\n",
      "Mean      1.333822e-02  1.940543e-02  7.273067e-02  3.638196e-01\n",
      "Var       8.222246e-05  8.222246e-05  8.222246e-05  8.222246e-05\n",
      "Skewness  5.514620e+05  5.514620e+05  5.514620e+05  5.514620e+05\n",
      "Ex_Kur    4.426439e+08  4.426439e+08  4.426439e+08  4.426439e+08\n"
     ]
    },
    {
     "data": {
      "text/html": [
       "<div>\n",
       "<style scoped>\n",
       "    .dataframe tbody tr th:only-of-type {\n",
       "        vertical-align: middle;\n",
       "    }\n",
       "\n",
       "    .dataframe tbody tr th {\n",
       "        vertical-align: top;\n",
       "    }\n",
       "\n",
       "    .dataframe thead th {\n",
       "        text-align: right;\n",
       "    }\n",
       "</style>\n",
       "<table border=\"1\" class=\"dataframe\">\n",
       "  <thead>\n",
       "    <tr style=\"text-align: right;\">\n",
       "      <th></th>\n",
       "      <th>ENET</th>\n",
       "      <th>kRidge</th>\n",
       "      <th>GBRF</th>\n",
       "      <th>ffNN</th>\n",
       "    </tr>\n",
       "  </thead>\n",
       "  <tbody>\n",
       "    <tr>\n",
       "      <th>W1</th>\n",
       "      <td>2.615522e-04</td>\n",
       "      <td>6.434712e-04</td>\n",
       "      <td>5.522462e-03</td>\n",
       "      <td>1.537479e-01</td>\n",
       "    </tr>\n",
       "    <tr>\n",
       "      <th>Mean</th>\n",
       "      <td>1.333822e-02</td>\n",
       "      <td>1.940543e-02</td>\n",
       "      <td>7.273067e-02</td>\n",
       "      <td>3.638196e-01</td>\n",
       "    </tr>\n",
       "    <tr>\n",
       "      <th>Var</th>\n",
       "      <td>8.222246e-05</td>\n",
       "      <td>8.222246e-05</td>\n",
       "      <td>8.222246e-05</td>\n",
       "      <td>8.222246e-05</td>\n",
       "    </tr>\n",
       "    <tr>\n",
       "      <th>Skewness</th>\n",
       "      <td>5.514620e+05</td>\n",
       "      <td>5.514620e+05</td>\n",
       "      <td>5.514620e+05</td>\n",
       "      <td>5.514620e+05</td>\n",
       "    </tr>\n",
       "    <tr>\n",
       "      <th>Ex_Kur</th>\n",
       "      <td>4.426439e+08</td>\n",
       "      <td>4.426439e+08</td>\n",
       "      <td>4.426439e+08</td>\n",
       "      <td>4.426439e+08</td>\n",
       "    </tr>\n",
       "  </tbody>\n",
       "</table>\n",
       "</div>"
      ],
      "text/plain": [
       "                  ENET        kRidge          GBRF          ffNN\n",
       "W1        2.615522e-04  6.434712e-04  5.522462e-03  1.537479e-01\n",
       "Mean      1.333822e-02  1.940543e-02  7.273067e-02  3.638196e-01\n",
       "Var       8.222246e-05  8.222246e-05  8.222246e-05  8.222246e-05\n",
       "Skewness  5.514620e+05  5.514620e+05  5.514620e+05  5.514620e+05\n",
       "Ex_Kur    4.426439e+08  4.426439e+08  4.426439e+08  4.426439e+08"
      ]
     },
     "execution_count": 11,
     "metadata": {},
     "output_type": "execute_result"
    }
   ],
   "source": [
    "print(Summary_pred_Qual_models)\n",
    "Summary_pred_Qual_models"
   ]
  },
  {
   "cell_type": "markdown",
   "metadata": {},
   "source": [
    "#### Testing Model Facts"
   ]
  },
  {
   "cell_type": "code",
   "execution_count": 12,
   "metadata": {},
   "outputs": [
    {
     "name": "stdout",
     "output_type": "stream",
     "text": [
      "                  ENET        kRidge          GBRF          ffNN\n",
      "W1        4.868745e-03  4.937549e-03  2.571989e-03  1.627244e-01\n",
      "Mean      5.508836e-02  5.449849e-02  3.564712e-02  3.867625e-01\n",
      "Var       8.119958e-04  8.119958e-04  8.119958e-04  8.119958e-04\n",
      "Skewness  1.540415e+05  1.540415e+05  1.540415e+05  1.540415e+05\n",
      "Ex_Kur    3.827872e+07  3.827872e+07  3.827872e+07  3.827872e+07\n"
     ]
    },
    {
     "data": {
      "text/html": [
       "<div>\n",
       "<style scoped>\n",
       "    .dataframe tbody tr th:only-of-type {\n",
       "        vertical-align: middle;\n",
       "    }\n",
       "\n",
       "    .dataframe tbody tr th {\n",
       "        vertical-align: top;\n",
       "    }\n",
       "\n",
       "    .dataframe thead th {\n",
       "        text-align: right;\n",
       "    }\n",
       "</style>\n",
       "<table border=\"1\" class=\"dataframe\">\n",
       "  <thead>\n",
       "    <tr style=\"text-align: right;\">\n",
       "      <th></th>\n",
       "      <th>ENET</th>\n",
       "      <th>kRidge</th>\n",
       "      <th>GBRF</th>\n",
       "      <th>ffNN</th>\n",
       "    </tr>\n",
       "  </thead>\n",
       "  <tbody>\n",
       "    <tr>\n",
       "      <th>W1</th>\n",
       "      <td>4.868745e-03</td>\n",
       "      <td>4.937549e-03</td>\n",
       "      <td>2.571989e-03</td>\n",
       "      <td>1.627244e-01</td>\n",
       "    </tr>\n",
       "    <tr>\n",
       "      <th>Mean</th>\n",
       "      <td>5.508836e-02</td>\n",
       "      <td>5.449849e-02</td>\n",
       "      <td>3.564712e-02</td>\n",
       "      <td>3.867625e-01</td>\n",
       "    </tr>\n",
       "    <tr>\n",
       "      <th>Var</th>\n",
       "      <td>8.119958e-04</td>\n",
       "      <td>8.119958e-04</td>\n",
       "      <td>8.119958e-04</td>\n",
       "      <td>8.119958e-04</td>\n",
       "    </tr>\n",
       "    <tr>\n",
       "      <th>Skewness</th>\n",
       "      <td>1.540415e+05</td>\n",
       "      <td>1.540415e+05</td>\n",
       "      <td>1.540415e+05</td>\n",
       "      <td>1.540415e+05</td>\n",
       "    </tr>\n",
       "    <tr>\n",
       "      <th>Ex_Kur</th>\n",
       "      <td>3.827872e+07</td>\n",
       "      <td>3.827872e+07</td>\n",
       "      <td>3.827872e+07</td>\n",
       "      <td>3.827872e+07</td>\n",
       "    </tr>\n",
       "  </tbody>\n",
       "</table>\n",
       "</div>"
      ],
      "text/plain": [
       "                  ENET        kRidge          GBRF          ffNN\n",
       "W1        4.868745e-03  4.937549e-03  2.571989e-03  1.627244e-01\n",
       "Mean      5.508836e-02  5.449849e-02  3.564712e-02  3.867625e-01\n",
       "Var       8.119958e-04  8.119958e-04  8.119958e-04  8.119958e-04\n",
       "Skewness  1.540415e+05  1.540415e+05  1.540415e+05  1.540415e+05\n",
       "Ex_Kur    3.827872e+07  3.827872e+07  3.827872e+07  3.827872e+07"
      ]
     },
     "execution_count": 12,
     "metadata": {},
     "output_type": "execute_result"
    }
   ],
   "source": [
    "print(Summary_pred_Qual_models_test)\n",
    "Summary_pred_Qual_models_test"
   ]
  },
  {
   "cell_type": "markdown",
   "metadata": {},
   "source": [
    "#### Model Complexitie(s)"
   ]
  },
  {
   "cell_type": "code",
   "execution_count": 13,
   "metadata": {
    "scrolled": true
   },
   "outputs": [
    {
     "name": "stdout",
     "output_type": "stream",
     "text": [
      "        N_Params_Trainable  N_Params    T_Time  T_Test/T_test-MC\n",
      "ENET                     4         4  3.835630          0.011919\n",
      "GBRF                  5000      5000  0.329652          0.036505\n",
      "kRidge                  10        10  0.375161          0.032714\n",
      "ffNN                    81        81  5.310286          8.588391\n"
     ]
    },
    {
     "data": {
      "text/html": [
       "<div>\n",
       "<style scoped>\n",
       "    .dataframe tbody tr th:only-of-type {\n",
       "        vertical-align: middle;\n",
       "    }\n",
       "\n",
       "    .dataframe tbody tr th {\n",
       "        vertical-align: top;\n",
       "    }\n",
       "\n",
       "    .dataframe thead th {\n",
       "        text-align: right;\n",
       "    }\n",
       "</style>\n",
       "<table border=\"1\" class=\"dataframe\">\n",
       "  <thead>\n",
       "    <tr style=\"text-align: right;\">\n",
       "      <th></th>\n",
       "      <th>N_Params_Trainable</th>\n",
       "      <th>N_Params</th>\n",
       "      <th>T_Time</th>\n",
       "      <th>T_Test/T_test-MC</th>\n",
       "    </tr>\n",
       "  </thead>\n",
       "  <tbody>\n",
       "    <tr>\n",
       "      <th>ENET</th>\n",
       "      <td>4</td>\n",
       "      <td>4</td>\n",
       "      <td>3.835630</td>\n",
       "      <td>0.011919</td>\n",
       "    </tr>\n",
       "    <tr>\n",
       "      <th>GBRF</th>\n",
       "      <td>5000</td>\n",
       "      <td>5000</td>\n",
       "      <td>0.329652</td>\n",
       "      <td>0.036505</td>\n",
       "    </tr>\n",
       "    <tr>\n",
       "      <th>kRidge</th>\n",
       "      <td>10</td>\n",
       "      <td>10</td>\n",
       "      <td>0.375161</td>\n",
       "      <td>0.032714</td>\n",
       "    </tr>\n",
       "    <tr>\n",
       "      <th>ffNN</th>\n",
       "      <td>81</td>\n",
       "      <td>81</td>\n",
       "      <td>5.310286</td>\n",
       "      <td>8.588391</td>\n",
       "    </tr>\n",
       "  </tbody>\n",
       "</table>\n",
       "</div>"
      ],
      "text/plain": [
       "        N_Params_Trainable  N_Params    T_Time  T_Test/T_test-MC\n",
       "ENET                     4         4  3.835630          0.011919\n",
       "GBRF                  5000      5000  0.329652          0.036505\n",
       "kRidge                  10        10  0.375161          0.032714\n",
       "ffNN                    81        81  5.310286          8.588391"
      ]
     },
     "execution_count": 13,
     "metadata": {},
     "output_type": "execute_result"
    }
   ],
   "source": [
    "print(Summary_Complexity_models)\n",
    "Summary_Complexity_models"
   ]
  },
  {
   "cell_type": "markdown",
   "metadata": {},
   "source": [
    "## 2) *Gaussian Benchmarks*"
   ]
  },
  {
   "cell_type": "markdown",
   "metadata": {},
   "source": [
    "- Bencharm 1: [Gaussian Process Regressor](https://scikit-learn.org/stable/modules/gaussian_process.html)\n",
    "- Benchmark 2: Deep Gaussian Networks:\n",
    "These models train models which assume Gaussianity.  We may view these as models in $\\mathcal{P}_2(\\mathbb{R})$ via:\n",
    "$$\n",
    "\\mathbb{R}^d \\ni x \\to (\\hat{\\mu}(x),\\hat{\\sigma}(x))\\triangleq f(x) \\in \\mathbb{R}\\times [0,\\infty) \\to \\frac1{\\hat{\\sigma}(x)\\sqrt{2\\pi}}\\exp\\left(\\frac{-(\\cdot-\\hat{\\mu}(x))^2}{\\hat{\\sigma(x)}^2}\\right) \\in \\mathcal{G}_1\\subset \\mathcal{P}_2(\\mathbb{R});\n",
    "$$\n",
    "where $\\mathcal{G}_1$ is the set of Gaussian measures on $\\mathbb{R}$ equipped with the relative Wasserstein-1 topology.\n",
    "\n",
    "Examples of this type of architecture are especially prevalent in uncertainty quantification; see ([Deep Ensembles](https://arxiv.org/abs/1612.01474)] or [NOMU: Neural Optimization-based Model Uncertainty](https://arxiv.org/abs/2102.13640).  Moreover, their universality in $C(\\mathbb{R}^d,\\mathcal{G}_2)$ is known, and has been shown in [Corollary 4.7](https://arxiv.org/abs/2101.05390)."
   ]
  },
  {
   "cell_type": "code",
   "execution_count": 14,
   "metadata": {},
   "outputs": [
    {
     "name": "stdout",
     "output_type": "stream",
     "text": [
      "Deep Feature Builder - Ready\n",
      "Deep Feature Builder - Ready\n",
      "Fitting 2 folds for each of 2 candidates, totalling 4 fits\n"
     ]
    },
    {
     "name": "stderr",
     "output_type": "stream",
     "text": [
      "[Parallel(n_jobs=4)]: Using backend LokyBackend with 4 concurrent workers.\n",
      "[Parallel(n_jobs=4)]: Done   1 tasks      | elapsed:    0.1s\n",
      "[Parallel(n_jobs=4)]: Batch computation too fast (0.0671s.) Setting batch_size=2.\n",
      "[Parallel(n_jobs=4)]: Done   2 out of   4 | elapsed:    0.1s remaining:    0.1s\n",
      "[Parallel(n_jobs=4)]: Done   4 out of   4 | elapsed:    0.2s remaining:    0.0s\n",
      "[Parallel(n_jobs=4)]: Done   4 out of   4 | elapsed:    0.2s finished\n",
      "100%|██████████| 10/10 [00:00<00:00, 65.97it/s]"
     ]
    },
    {
     "name": "stdout",
     "output_type": "stream",
     "text": [
      "Infering Parameters for Deep Gaussian Network to train on!\n",
      "Done Getting Parameters for Deep Gaussian Network!\n",
      "===============================\n",
      "Training Deep Gaussian Network!\n",
      "===============================\n",
      "Fitting 2 folds for each of 1 candidates, totalling 2 fits\n"
     ]
    },
    {
     "name": "stderr",
     "output_type": "stream",
     "text": [
      "\n",
      "[Parallel(n_jobs=4)]: Using backend LokyBackend with 4 concurrent workers.\n",
      "[Parallel(n_jobs=4)]: Done   2 out of   2 | elapsed:    1.1s remaining:    0.0s\n",
      "[Parallel(n_jobs=4)]: Done   2 out of   2 | elapsed:    1.1s finished\n"
     ]
    },
    {
     "name": "stdout",
     "output_type": "stream",
     "text": [
      "Epoch 1/50\n",
      "1/1 [==============================] - 0s 1ms/step - loss: 0.6603 - mse: 0.5577 - mae: 0.6603 - mape: 2662.9827\n",
      "Epoch 2/50\n",
      "1/1 [==============================] - 0s 1ms/step - loss: 0.6603 - mse: 0.5577 - mae: 0.6603 - mape: 2662.9224\n",
      "Epoch 3/50\n",
      "1/1 [==============================] - 0s 1ms/step - loss: 0.6603 - mse: 0.5577 - mae: 0.6603 - mape: 2662.8616\n",
      "Epoch 4/50\n",
      "1/1 [==============================] - 0s 1ms/step - loss: 0.6603 - mse: 0.5577 - mae: 0.6603 - mape: 2662.8013\n",
      "Epoch 5/50\n",
      "1/1 [==============================] - 0s 2ms/step - loss: 0.6603 - mse: 0.5577 - mae: 0.6603 - mape: 2662.7407\n",
      "Epoch 6/50\n",
      "1/1 [==============================] - 0s 2ms/step - loss: 0.6603 - mse: 0.5576 - mae: 0.6603 - mape: 2662.6802\n",
      "Epoch 7/50\n",
      "1/1 [==============================] - 0s 2ms/step - loss: 0.6603 - mse: 0.5576 - mae: 0.6603 - mape: 2662.6191\n",
      "Epoch 8/50\n",
      "1/1 [==============================] - 0s 3ms/step - loss: 0.6603 - mse: 0.5576 - mae: 0.6603 - mape: 2662.5588\n",
      "Epoch 9/50\n",
      "1/1 [==============================] - 0s 3ms/step - loss: 0.6603 - mse: 0.5576 - mae: 0.6603 - mape: 2662.4980\n",
      "Epoch 10/50\n",
      "1/1 [==============================] - 0s 1ms/step - loss: 0.6603 - mse: 0.5576 - mae: 0.6603 - mape: 2662.4375\n",
      "Epoch 11/50\n",
      "1/1 [==============================] - 0s 1ms/step - loss: 0.6603 - mse: 0.5576 - mae: 0.6603 - mape: 2662.3770\n",
      "Epoch 12/50\n",
      "1/1 [==============================] - 0s 2ms/step - loss: 0.6603 - mse: 0.5575 - mae: 0.6603 - mape: 2662.3162\n",
      "Epoch 13/50\n",
      "1/1 [==============================] - 0s 1ms/step - loss: 0.6603 - mse: 0.5575 - mae: 0.6603 - mape: 2662.2554\n",
      "Epoch 14/50\n",
      "1/1 [==============================] - 0s 1ms/step - loss: 0.6603 - mse: 0.5575 - mae: 0.6603 - mape: 2662.1948\n",
      "Epoch 15/50\n",
      "1/1 [==============================] - 0s 1ms/step - loss: 0.6603 - mse: 0.5575 - mae: 0.6603 - mape: 2662.1343\n",
      "Epoch 16/50\n",
      "1/1 [==============================] - 0s 1ms/step - loss: 0.6603 - mse: 0.5575 - mae: 0.6603 - mape: 2662.0737\n",
      "Epoch 17/50\n",
      "1/1 [==============================] - 0s 2ms/step - loss: 0.6603 - mse: 0.5575 - mae: 0.6603 - mape: 2662.0132\n",
      "Epoch 18/50\n",
      "1/1 [==============================] - 0s 3ms/step - loss: 0.6603 - mse: 0.5574 - mae: 0.6603 - mape: 2661.9526\n",
      "Epoch 19/50\n",
      "1/1 [==============================] - 0s 3ms/step - loss: 0.6603 - mse: 0.5574 - mae: 0.6603 - mape: 2661.8921\n",
      "Epoch 20/50\n",
      "1/1 [==============================] - 0s 1ms/step - loss: 0.6603 - mse: 0.5574 - mae: 0.6603 - mape: 2661.8315\n",
      "Epoch 21/50\n",
      "1/1 [==============================] - 0s 1ms/step - loss: 0.6603 - mse: 0.5574 - mae: 0.6603 - mape: 2661.7710\n",
      "Epoch 22/50\n",
      "1/1 [==============================] - 0s 7ms/step - loss: 0.6603 - mse: 0.5574 - mae: 0.6603 - mape: 2661.7102\n",
      "Epoch 23/50\n",
      "1/1 [==============================] - 0s 1ms/step - loss: 0.6603 - mse: 0.5574 - mae: 0.6603 - mape: 2661.6499\n",
      "Epoch 24/50\n",
      "1/1 [==============================] - 0s 2ms/step - loss: 0.6603 - mse: 0.5573 - mae: 0.6603 - mape: 2661.5894\n",
      "Epoch 25/50\n",
      "1/1 [==============================] - 0s 6ms/step - loss: 0.6603 - mse: 0.5573 - mae: 0.6603 - mape: 2661.5288\n",
      "Epoch 26/50\n",
      "1/1 [==============================] - 0s 2ms/step - loss: 0.6603 - mse: 0.5573 - mae: 0.6603 - mape: 2661.4683\n",
      "Epoch 27/50\n",
      "1/1 [==============================] - 0s 2ms/step - loss: 0.6603 - mse: 0.5573 - mae: 0.6603 - mape: 2661.4077\n",
      "Epoch 28/50\n",
      "1/1 [==============================] - 0s 1ms/step - loss: 0.6603 - mse: 0.5573 - mae: 0.6603 - mape: 2661.3474\n",
      "Epoch 29/50\n",
      "1/1 [==============================] - 0s 2ms/step - loss: 0.6603 - mse: 0.5573 - mae: 0.6603 - mape: 2661.2871\n",
      "Epoch 30/50\n",
      "1/1 [==============================] - 0s 2ms/step - loss: 0.6603 - mse: 0.5572 - mae: 0.6603 - mape: 2661.2266\n",
      "Epoch 31/50\n",
      "1/1 [==============================] - 0s 1ms/step - loss: 0.6603 - mse: 0.5572 - mae: 0.6603 - mape: 2661.1663\n",
      "Epoch 32/50\n",
      "1/1 [==============================] - 0s 1ms/step - loss: 0.6603 - mse: 0.5572 - mae: 0.6603 - mape: 2661.1060\n",
      "Epoch 33/50\n",
      "1/1 [==============================] - 0s 3ms/step - loss: 0.6603 - mse: 0.5572 - mae: 0.6603 - mape: 2661.0454\n",
      "Epoch 34/50\n",
      "1/1 [==============================] - 0s 1ms/step - loss: 0.6603 - mse: 0.5572 - mae: 0.6603 - mape: 2660.9854\n",
      "Epoch 35/50\n",
      "1/1 [==============================] - 0s 2ms/step - loss: 0.6603 - mse: 0.5571 - mae: 0.6603 - mape: 2660.9250\n",
      "Epoch 36/50\n",
      "1/1 [==============================] - 0s 1ms/step - loss: 0.6603 - mse: 0.5571 - mae: 0.6603 - mape: 2660.8647\n",
      "Epoch 37/50\n",
      "1/1 [==============================] - 0s 1ms/step - loss: 0.6603 - mse: 0.5571 - mae: 0.6603 - mape: 2660.8044\n",
      "Epoch 38/50\n",
      "1/1 [==============================] - 0s 3ms/step - loss: 0.6603 - mse: 0.5571 - mae: 0.6603 - mape: 2660.7444\n",
      "Epoch 39/50\n",
      "1/1 [==============================] - 0s 2ms/step - loss: 0.6603 - mse: 0.5571 - mae: 0.6603 - mape: 2660.6841\n",
      "Epoch 40/50\n",
      "1/1 [==============================] - 0s 2ms/step - loss: 0.6603 - mse: 0.5571 - mae: 0.6603 - mape: 2660.6240\n",
      "Epoch 41/50\n",
      "1/1 [==============================] - 0s 1ms/step - loss: 0.6603 - mse: 0.5570 - mae: 0.6603 - mape: 2660.5637\n",
      "Epoch 42/50\n",
      "1/1 [==============================] - 0s 2ms/step - loss: 0.6603 - mse: 0.5570 - mae: 0.6603 - mape: 2660.5034\n",
      "Epoch 43/50\n",
      "1/1 [==============================] - 0s 4ms/step - loss: 0.6603 - mse: 0.5570 - mae: 0.6603 - mape: 2660.4436\n",
      "Epoch 44/50\n",
      "1/1 [==============================] - 0s 1ms/step - loss: 0.6603 - mse: 0.5570 - mae: 0.6603 - mape: 2660.3833\n",
      "Epoch 45/50\n",
      "1/1 [==============================] - 0s 4ms/step - loss: 0.6603 - mse: 0.5570 - mae: 0.6603 - mape: 2660.3235\n",
      "Epoch 46/50\n",
      "1/1 [==============================] - 0s 7ms/step - loss: 0.6603 - mse: 0.5570 - mae: 0.6603 - mape: 2660.2634\n",
      "Epoch 47/50\n",
      "1/1 [==============================] - 0s 2ms/step - loss: 0.6603 - mse: 0.5569 - mae: 0.6603 - mape: 2660.2031\n",
      "Epoch 48/50\n",
      "1/1 [==============================] - 0s 4ms/step - loss: 0.6603 - mse: 0.5569 - mae: 0.6603 - mape: 2660.1433\n",
      "Epoch 49/50\n",
      "1/1 [==============================] - 0s 4ms/step - loss: 0.6603 - mse: 0.5569 - mae: 0.6603 - mape: 2660.0833\n",
      "Epoch 50/50\n",
      "1/1 [==============================] - 0s 2ms/step - loss: 0.6603 - mse: 0.5569 - mae: 0.6603 - mape: 2660.0234\n",
      "1/1 [==============================] - ETA:  - 0s 1ms/step\n",
      "1/1 [==============================] - 0s 1ms/step\n"
     ]
    },
    {
     "name": "stderr",
     "output_type": "stream",
     "text": [
      "\r",
      "  0%|          | 0/10 [00:00<?, ?it/s]"
     ]
    },
    {
     "name": "stdout",
     "output_type": "stream",
     "text": [
      "====================================\n",
      "Training Deep Gaussian Network!: END\n",
      "====================================\n",
      "#---------------------------------------#\n",
      " Get Training Errors for: Gaussian Models\n",
      "#---------------------------------------#\n"
     ]
    },
    {
     "name": "stderr",
     "output_type": "stream",
     "text": [
      "100%|██████████| 10/10 [00:00<00:00, 737.82it/s]\n",
      "100%|██████████| 2/2 [00:00<00:00, 996.63it/s]"
     ]
    },
    {
     "name": "stdout",
     "output_type": "stream",
     "text": [
      "#-------------------------#\n",
      " Get Training Error(s): END\n",
      "#-------------------------#\n",
      "#---------------------------------------#\n",
      " Get Testing Errors for: Gaussian Models\n",
      "#---------------------------------------#\n",
      "#------------------------#\n",
      " Get Testing Error(s): END\n",
      "#------------------------#\n",
      "-------------------------------------------------\n",
      "Updating Performance Metrics Dataframe and Saved!\n",
      "-------------------------------------------------\n",
      "------------------------------------------------\n",
      "Updated Performance Metrics Dataframe and Saved!\n",
      "------------------------------------------------\n",
      "--------------------------------------------\n",
      "Computing and Updating Complexity Metrics...\n",
      "--------------------------------------------\n",
      "-----------------------------------------------\n",
      "Updated Complexity Metrics Dataframe and Saved!\n",
      "-----------------------------------------------\n"
     ]
    },
    {
     "name": "stderr",
     "output_type": "stream",
     "text": [
      "\n"
     ]
    }
   ],
   "source": [
    "# %run Benchmarks_Model_Builder_Mean_Var.ipynb\n",
    "exec(open('Benchmarks_Model_Builder_Mean_Var.py').read())"
   ]
  },
  {
   "cell_type": "code",
   "execution_count": 15,
   "metadata": {},
   "outputs": [
    {
     "name": "stdout",
     "output_type": "stream",
     "text": [
      "Prediction Quality (Updated)\n",
      "                  ENET        kRidge          GBRF          ffNN  \\\n",
      "W1        4.868745e-03  4.937549e-03  2.571989e-03  1.627244e-01   \n",
      "Mean      5.508836e-02  5.449849e-02  3.564712e-02  3.867625e-01   \n",
      "Var       8.119958e-04  8.119958e-04  8.119958e-04  8.119958e-04   \n",
      "Skewness  1.540415e+05  1.540415e+05  1.540415e+05  1.540415e+05   \n",
      "Ex_Kur    3.827872e+07  3.827872e+07  3.827872e+07  3.827872e+07   \n",
      "\n",
      "                   GPR           DGN  \n",
      "W1        5.951454e-03  1.276742e+00  \n",
      "Mean      6.581447e-02  2.974808e-01  \n",
      "Var       6.573225e-02  1.024494e+00  \n",
      "Skewness  0.000000e+00  0.000000e+00  \n",
      "Ex_Kur    3.033505e+13  3.033505e+13  \n"
     ]
    },
    {
     "data": {
      "text/html": [
       "<div>\n",
       "<style scoped>\n",
       "    .dataframe tbody tr th:only-of-type {\n",
       "        vertical-align: middle;\n",
       "    }\n",
       "\n",
       "    .dataframe tbody tr th {\n",
       "        vertical-align: top;\n",
       "    }\n",
       "\n",
       "    .dataframe thead th {\n",
       "        text-align: right;\n",
       "    }\n",
       "</style>\n",
       "<table border=\"1\" class=\"dataframe\">\n",
       "  <thead>\n",
       "    <tr style=\"text-align: right;\">\n",
       "      <th></th>\n",
       "      <th>ENET</th>\n",
       "      <th>kRidge</th>\n",
       "      <th>GBRF</th>\n",
       "      <th>ffNN</th>\n",
       "      <th>GPR</th>\n",
       "      <th>DGN</th>\n",
       "    </tr>\n",
       "  </thead>\n",
       "  <tbody>\n",
       "    <tr>\n",
       "      <th>W1</th>\n",
       "      <td>4.868745e-03</td>\n",
       "      <td>4.937549e-03</td>\n",
       "      <td>2.571989e-03</td>\n",
       "      <td>1.627244e-01</td>\n",
       "      <td>5.951454e-03</td>\n",
       "      <td>1.276742e+00</td>\n",
       "    </tr>\n",
       "    <tr>\n",
       "      <th>Mean</th>\n",
       "      <td>5.508836e-02</td>\n",
       "      <td>5.449849e-02</td>\n",
       "      <td>3.564712e-02</td>\n",
       "      <td>3.867625e-01</td>\n",
       "      <td>6.581447e-02</td>\n",
       "      <td>2.974808e-01</td>\n",
       "    </tr>\n",
       "    <tr>\n",
       "      <th>Var</th>\n",
       "      <td>8.119958e-04</td>\n",
       "      <td>8.119958e-04</td>\n",
       "      <td>8.119958e-04</td>\n",
       "      <td>8.119958e-04</td>\n",
       "      <td>6.573225e-02</td>\n",
       "      <td>1.024494e+00</td>\n",
       "    </tr>\n",
       "    <tr>\n",
       "      <th>Skewness</th>\n",
       "      <td>1.540415e+05</td>\n",
       "      <td>1.540415e+05</td>\n",
       "      <td>1.540415e+05</td>\n",
       "      <td>1.540415e+05</td>\n",
       "      <td>0.000000e+00</td>\n",
       "      <td>0.000000e+00</td>\n",
       "    </tr>\n",
       "    <tr>\n",
       "      <th>Ex_Kur</th>\n",
       "      <td>3.827872e+07</td>\n",
       "      <td>3.827872e+07</td>\n",
       "      <td>3.827872e+07</td>\n",
       "      <td>3.827872e+07</td>\n",
       "      <td>3.033505e+13</td>\n",
       "      <td>3.033505e+13</td>\n",
       "    </tr>\n",
       "  </tbody>\n",
       "</table>\n",
       "</div>"
      ],
      "text/plain": [
       "                  ENET        kRidge          GBRF          ffNN  \\\n",
       "W1        4.868745e-03  4.937549e-03  2.571989e-03  1.627244e-01   \n",
       "Mean      5.508836e-02  5.449849e-02  3.564712e-02  3.867625e-01   \n",
       "Var       8.119958e-04  8.119958e-04  8.119958e-04  8.119958e-04   \n",
       "Skewness  1.540415e+05  1.540415e+05  1.540415e+05  1.540415e+05   \n",
       "Ex_Kur    3.827872e+07  3.827872e+07  3.827872e+07  3.827872e+07   \n",
       "\n",
       "                   GPR           DGN  \n",
       "W1        5.951454e-03  1.276742e+00  \n",
       "Mean      6.581447e-02  2.974808e-01  \n",
       "Var       6.573225e-02  1.024494e+00  \n",
       "Skewness  0.000000e+00  0.000000e+00  \n",
       "Ex_Kur    3.033505e+13  3.033505e+13  "
      ]
     },
     "execution_count": 15,
     "metadata": {},
     "output_type": "execute_result"
    }
   ],
   "source": [
    "print(\"Prediction Quality (Updated)\")\n",
    "print(Summary_pred_Qual_models_test)\n",
    "Summary_pred_Qual_models_test"
   ]
  },
  {
   "cell_type": "code",
   "execution_count": 16,
   "metadata": {},
   "outputs": [
    {
     "name": "stdout",
     "output_type": "stream",
     "text": [
      "Model Complexities Quality (Updated)\n",
      "        N_Params_Trainable  N_Params        T_Time  T_Test/T_test-MC\n",
      "ENET                   4.0       4.0  3.835630e+00          0.011919\n",
      "GBRF                5000.0    5000.0  3.296518e-01          0.036505\n",
      "kRidge                10.0      10.0  3.751614e-01          0.032714\n",
      "ffNN                  81.0      81.0  5.310286e+00          8.588391\n",
      "GPR                    0.0       0.0  3.968196e-01          0.036591\n",
      "DGN                   81.0      81.0  1.619614e+09          9.390068\n"
     ]
    },
    {
     "data": {
      "text/html": [
       "<div>\n",
       "<style scoped>\n",
       "    .dataframe tbody tr th:only-of-type {\n",
       "        vertical-align: middle;\n",
       "    }\n",
       "\n",
       "    .dataframe tbody tr th {\n",
       "        vertical-align: top;\n",
       "    }\n",
       "\n",
       "    .dataframe thead th {\n",
       "        text-align: right;\n",
       "    }\n",
       "</style>\n",
       "<table border=\"1\" class=\"dataframe\">\n",
       "  <thead>\n",
       "    <tr style=\"text-align: right;\">\n",
       "      <th></th>\n",
       "      <th>N_Params_Trainable</th>\n",
       "      <th>N_Params</th>\n",
       "      <th>T_Time</th>\n",
       "      <th>T_Test/T_test-MC</th>\n",
       "    </tr>\n",
       "  </thead>\n",
       "  <tbody>\n",
       "    <tr>\n",
       "      <th>ENET</th>\n",
       "      <td>4.0</td>\n",
       "      <td>4.0</td>\n",
       "      <td>3.835630e+00</td>\n",
       "      <td>0.011919</td>\n",
       "    </tr>\n",
       "    <tr>\n",
       "      <th>GBRF</th>\n",
       "      <td>5000.0</td>\n",
       "      <td>5000.0</td>\n",
       "      <td>3.296518e-01</td>\n",
       "      <td>0.036505</td>\n",
       "    </tr>\n",
       "    <tr>\n",
       "      <th>kRidge</th>\n",
       "      <td>10.0</td>\n",
       "      <td>10.0</td>\n",
       "      <td>3.751614e-01</td>\n",
       "      <td>0.032714</td>\n",
       "    </tr>\n",
       "    <tr>\n",
       "      <th>ffNN</th>\n",
       "      <td>81.0</td>\n",
       "      <td>81.0</td>\n",
       "      <td>5.310286e+00</td>\n",
       "      <td>8.588391</td>\n",
       "    </tr>\n",
       "    <tr>\n",
       "      <th>GPR</th>\n",
       "      <td>0.0</td>\n",
       "      <td>0.0</td>\n",
       "      <td>3.968196e-01</td>\n",
       "      <td>0.036591</td>\n",
       "    </tr>\n",
       "    <tr>\n",
       "      <th>DGN</th>\n",
       "      <td>81.0</td>\n",
       "      <td>81.0</td>\n",
       "      <td>1.619614e+09</td>\n",
       "      <td>9.390068</td>\n",
       "    </tr>\n",
       "  </tbody>\n",
       "</table>\n",
       "</div>"
      ],
      "text/plain": [
       "        N_Params_Trainable  N_Params        T_Time  T_Test/T_test-MC\n",
       "ENET                   4.0       4.0  3.835630e+00          0.011919\n",
       "GBRF                5000.0    5000.0  3.296518e-01          0.036505\n",
       "kRidge                10.0      10.0  3.751614e-01          0.032714\n",
       "ffNN                  81.0      81.0  5.310286e+00          8.588391\n",
       "GPR                    0.0       0.0  3.968196e-01          0.036591\n",
       "DGN                   81.0      81.0  1.619614e+09          9.390068"
      ]
     },
     "execution_count": 16,
     "metadata": {},
     "output_type": "execute_result"
    }
   ],
   "source": [
    "print(\"Model Complexities Quality (Updated)\")\n",
    "print(Summary_Complexity_models)\n",
    "Summary_Complexity_models"
   ]
  },
  {
   "cell_type": "markdown",
   "metadata": {},
   "source": [
    "# 3) The natural Universal Benchmark: [Bishop's Mixture Density Network](https://publications.aston.ac.uk/id/eprint/373/1/NCRG_94_004.pdf)\n",
    "\n",
    "This implementation is as follows:\n",
    "- For every $x$ in the trainingdata-set we fit a GMM $\\hat{\\nu}_x$, using the [Expectation-Maximization (EM) algorithm](https://en.wikipedia.org/wiki/Expectation%E2%80%93maximization_algorithm), with the same number of centers as the deep neural model in $\\mathcal{NN}_{1_{\\mathbb{R}^d},\\mathcal{D}}^{\\sigma:\\star}$ which we are evaluating.  \n",
    "- A Mixture density network is then trained to predict the infered parameters; given any $x \\in \\mathbb{R}^d$."
   ]
  },
  {
   "cell_type": "code",
   "execution_count": null,
   "metadata": {},
   "outputs": [
    {
     "name": "stderr",
     "output_type": "stream",
     "text": [
      "\r",
      "  0%|          | 0/10 [00:00<?, ?it/s]"
     ]
    },
    {
     "name": "stdout",
     "output_type": "stream",
     "text": [
      "======================================================\n",
      "Preparing Training Outputs for MDNs using EM-Algorithm\n",
      "======================================================\n"
     ]
    },
    {
     "name": "stderr",
     "output_type": "stream",
     "text": [
      "100%|██████████| 10/10 [00:00<00:00, 168.51it/s]\n"
     ]
    },
    {
     "name": "stdout",
     "output_type": "stream",
     "text": [
      "======================================================\n",
      "Prepared Training Outputs for MDNs using EM-Algorithm!\n",
      "======================================================\n",
      "Deep Feature Builder - Ready\n",
      "(0)\n",
      "=====================================================\n",
      "Training Mixture Density Network (MDN): Means: Start!\n",
      "=====================================================\n"
     ]
    },
    {
     "name": "stderr",
     "output_type": "stream",
     "text": [
      "[Parallel(n_jobs=4)]: Using backend LokyBackend with 4 concurrent workers.\n"
     ]
    },
    {
     "name": "stdout",
     "output_type": "stream",
     "text": [
      "Fitting 2 folds for each of 1 candidates, totalling 2 fits\n"
     ]
    }
   ],
   "source": [
    "# %run Mixture_Density_Network.ipynb\n",
    "exec(open('Mixture_Density_Network.py').read())"
   ]
  },
  {
   "cell_type": "markdown",
   "metadata": {},
   "source": [
    "## Get Final Outputs\n",
    "Now we piece together all the numerical experiments and report a nice summary."
   ]
  },
  {
   "cell_type": "code",
   "execution_count": null,
   "metadata": {},
   "outputs": [],
   "source": [
    "# %run WrapUp_Summarizer.ipynb\n",
    "exec(open('WrapUp_Summarizer.py').read())"
   ]
  },
  {
   "cell_type": "markdown",
   "metadata": {},
   "source": [
    "# Result(s)"
   ]
  },
  {
   "cell_type": "markdown",
   "metadata": {},
   "source": [
    "## Model Complexities"
   ]
  },
  {
   "cell_type": "code",
   "execution_count": null,
   "metadata": {},
   "outputs": [],
   "source": [
    "Summary_Complexity_models"
   ]
  },
  {
   "cell_type": "markdown",
   "metadata": {},
   "source": [
    "## Prediction Quality"
   ]
  },
  {
   "cell_type": "markdown",
   "metadata": {},
   "source": [
    "#### Training"
   ]
  },
  {
   "cell_type": "code",
   "execution_count": null,
   "metadata": {},
   "outputs": [],
   "source": [
    "PredictivePerformance_Metrics_Train"
   ]
  },
  {
   "cell_type": "markdown",
   "metadata": {},
   "source": [
    "#### Test"
   ]
  },
  {
   "cell_type": "code",
   "execution_count": null,
   "metadata": {},
   "outputs": [],
   "source": [
    "PredictivePerformance_Metrics_Test"
   ]
  },
  {
   "cell_type": "markdown",
   "metadata": {},
   "source": [
    "# For Terminal Runner(s):"
   ]
  },
  {
   "cell_type": "code",
   "execution_count": null,
   "metadata": {},
   "outputs": [],
   "source": [
    "# For Terminal Running\n",
    "print(\" \")\n",
    "print(\" \")\n",
    "print(\" \")\n",
    "print(\"====================================\")\n",
    "print(\"Model Complexity Predictive Quality:\")\n",
    "print(\"====================================\")\n",
    "print(\" \")\n",
    "print(\" \")\n",
    "print(\" \")\n",
    "print(Summary_Complexity_models)\n",
    "print(\" \")\n",
    "print(\" \")\n",
    "print(\" \")\n",
    "print(\"============================\")\n",
    "print(\"Training Predictive Quality:\")\n",
    "print(\"============================\")\n",
    "print(PredictivePerformance_Metrics_Train)\n",
    "print(\" \")\n",
    "print(\" \")\n",
    "print(\" \")\n",
    "print(\"===========================\")\n",
    "print(\"Testing Predictive Quality:\")\n",
    "print(\"===========================\")\n",
    "print(PredictivePerformance_Metrics_Test)\n",
    "print(\"================================\")\n",
    "print(\" \")\n",
    "print(\" \")\n",
    "print(\" \")\n",
    "print(\"Kernel_Used_in_GPR: \"+str(GPR_trash.kernel))\n",
    "print(\"🙃🙃 Have a wonderful day! 🙃🙃\")"
   ]
  },
  {
   "cell_type": "markdown",
   "metadata": {},
   "source": [
    "---\n",
    "# Fin\n",
    "---"
   ]
  },
  {
   "cell_type": "markdown",
   "metadata": {},
   "source": [
    "---"
   ]
  }
 ],
 "metadata": {
  "kernelspec": {
   "display_name": "Python 3",
   "language": "python",
   "name": "python3"
  },
  "language_info": {
   "codemirror_mode": {
    "name": "ipython",
    "version": 3
   },
   "file_extension": ".py",
   "mimetype": "text/x-python",
   "name": "python",
   "nbconvert_exporter": "python",
   "pygments_lexer": "ipython3",
   "version": "3.7.7"
  }
 },
 "nbformat": 4,
 "nbformat_minor": 2
}
