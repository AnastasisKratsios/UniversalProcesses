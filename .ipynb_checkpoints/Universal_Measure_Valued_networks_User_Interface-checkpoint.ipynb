{
 "cells": [
  {
   "cell_type": "markdown",
   "metadata": {},
   "source": [
    "# Deep Universal Regular Conditional Expectations:\n",
    "\n",
    "---\n",
    "This implements the universal deep neural model of $\\mathcal{NN}_{1_{\\mathbb{R}^n},\\mathcal{D}}^{\\sigma:\\star}$ [Anastasis Kratsios](https://people.math.ethz.ch/~kratsioa/) - 2021.\n",
    "\n",
    "---\n",
    "\n",
    "## What does this code do?\n",
    "1. Learn Heteroskedastic Non-Linear Regression Problem\n",
    "     - $Y\\sim f_{\\text{unkown}}(x) + \\epsilon$ where $f$ is an known function and $\\epsilon\\sim Laplace(0,\\|x\\|)$\n",
    "2. Learn Random Bayesian Network's Law:\n",
    "    - $Y = W_J Y^{J-1}, \\qquad Y^{j}\\triangleq \\sigma\\bullet A^{j}Y^{j-1} + b^{j}, \\qquad Y^0\\triangleq x$\n",
    "\n",
    "3. In the above example if $A_j = M_j\\odot \\tilde{A_j}$ where $\\tilde{A}_j$ is a deterministic matrix and $M_j$ is a \"mask\", that is, a random matrix with binary entries and $\\odot$ is the Hadamard product then we recover the dropout framework."
   ]
  },
  {
   "cell_type": "code",
   "execution_count": 1,
   "metadata": {},
   "outputs": [
    {
     "name": "stderr",
     "output_type": "stream",
     "text": [
      "Using TensorFlow backend.\n"
     ]
    }
   ],
   "source": [
    "# Load Packages/Modules\n",
    "exec(open('Init_Dump.py').read())"
   ]
  },
  {
   "cell_type": "markdown",
   "metadata": {},
   "source": [
    "#### Mode:\n",
    "Software/Hardware Testing or Real-Deal?"
   ]
  },
  {
   "cell_type": "code",
   "execution_count": 2,
   "metadata": {},
   "outputs": [],
   "source": [
    "trial_run = False"
   ]
  },
  {
   "cell_type": "markdown",
   "metadata": {},
   "source": [
    "### Simulation Method:"
   ]
  },
  {
   "cell_type": "code",
   "execution_count": 3,
   "metadata": {},
   "outputs": [],
   "source": [
    "# Random DNN\n",
    "f_unknown_mode = \"Heteroskedastic_NonLinear_Regression\"\n",
    "\n",
    "# Random DNN internal noise\n",
    "# f_unknown_mode = \"DNN_with_Random_Weights\"\n",
    "Depth_Bayesian_DNN = 10\n",
    "width = 200\n",
    "\n",
    "# Random Dropout applied to trained DNN\n",
    "# f_unknown_mode = \"DNN_with_Bayesian_Dropout\"\n",
    "Dropout_rate = 0.25\n",
    "\n",
    "# Rough SDE (time 1)\n",
    "# f_unknown_mode = \"Rough_SDE\""
   ]
  },
  {
   "cell_type": "markdown",
   "metadata": {},
   "source": [
    "## Problem Dimension"
   ]
  },
  {
   "cell_type": "code",
   "execution_count": 4,
   "metadata": {},
   "outputs": [],
   "source": [
    "problem_dim = 50"
   ]
  },
  {
   "cell_type": "markdown",
   "metadata": {},
   "source": [
    "## Note: *Why the procedure is so computationally efficient*?\n",
    "---\n",
    " - The sample barycenters do not require us to solve for any new Wasserstein-1 Barycenters; which is much more computationally costly,\n",
    " - Our training procedure never back-propages through $\\mathcal{W}_1$ since steps 2 and 3 are full-decoupled.  Therefore, training our deep classifier is (comparatively) cheap since it takes values in the standard $N$-simplex.\n",
    "\n",
    "---"
   ]
  },
  {
   "cell_type": "markdown",
   "metadata": {},
   "source": [
    "#### Rough SDE Meta-Parameters"
   ]
  },
  {
   "cell_type": "code",
   "execution_count": 5,
   "metadata": {},
   "outputs": [],
   "source": [
    "# SDE with Rough Driver\n",
    "N_Euler_Steps = 10**1\n",
    "Hurst_Exponent = 0.01\n",
    "\n",
    "def alpha(t,x):\n",
    "    output_drift_update = t-x\n",
    "    return output_drift_update\n",
    "\n",
    "def beta(t,x):\n",
    "    output_vol_update = (t+0.001)*np.diag(np.cos(x))\n",
    "    return output_vol_update"
   ]
  },
  {
   "cell_type": "markdown",
   "metadata": {},
   "source": [
    "#### Grid Hyperparameter(s)\n",
    "- Ratio $\\frac{\\text{Testing Datasize}}{\\text{Training Datasize}}$.\n",
    "- Number of Training Points to Generate"
   ]
  },
  {
   "cell_type": "code",
   "execution_count": 6,
   "metadata": {},
   "outputs": [],
   "source": [
    "train_test_ratio = .2\n",
    "N_train_size = 10**3"
   ]
  },
  {
   "cell_type": "markdown",
   "metadata": {},
   "source": [
    "Monte-Carlo Paramters"
   ]
  },
  {
   "cell_type": "code",
   "execution_count": 7,
   "metadata": {},
   "outputs": [],
   "source": [
    "## Monte-Carlo\n",
    "N_Monte_Carlo_Samples = 10**3"
   ]
  },
  {
   "cell_type": "markdown",
   "metadata": {},
   "source": [
    "Initial radis of $\\delta$-bounded random partition of $\\mathcal{X}$!"
   ]
  },
  {
   "cell_type": "code",
   "execution_count": 8,
   "metadata": {},
   "outputs": [],
   "source": [
    "# Hyper-parameters of Cover\n",
    "delta = 0.1\n",
    "Proportion_per_cluster = .5"
   ]
  },
  {
   "cell_type": "markdown",
   "metadata": {},
   "source": [
    "# Run Main:"
   ]
  },
  {
   "cell_type": "code",
   "execution_count": 9,
   "metadata": {},
   "outputs": [
    {
     "name": "stdout",
     "output_type": "stream",
     "text": [
      "Deep Feature Builder - Ready\n",
      "Deep Classifier - Ready\n"
     ]
    },
    {
     "name": "stderr",
     "output_type": "stream",
     "text": [
      "100%|██████████| 500/500 [00:01<00:00, 462.68it/s]\n",
      "100%|██████████| 1000/1000 [00:04<00:00, 208.07it/s]\n",
      "100%|██████████| 200/200 [00:00<00:00, 500.83it/s]"
     ]
    },
    {
     "name": "stdout",
     "output_type": "stream",
     "text": [
      "Deep Feature Builder - Ready\n",
      "Deep Classifier - Ready\n",
      "==========================================\n",
      "Training Classifer Portion of Type-A Model\n",
      "==========================================\n",
      "Fitting 4 folds for each of 5 candidates, totalling 20 fits\n"
     ]
    },
    {
     "name": "stderr",
     "output_type": "stream",
     "text": [
      "\n",
      "[Parallel(n_jobs=4)]: Using backend LokyBackend with 4 concurrent workers.\n",
      "[Parallel(n_jobs=4)]: Done   5 tasks      | elapsed:  1.3min\n",
      "[Parallel(n_jobs=4)]: Done  10 tasks      | elapsed:  2.0min\n",
      "[Parallel(n_jobs=4)]: Done  16 out of  20 | elapsed:  2.8min remaining:   41.3s\n",
      "[Parallel(n_jobs=4)]: Done  20 out of  20 | elapsed:  3.6min finished\n"
     ]
    },
    {
     "name": "stdout",
     "output_type": "stream",
     "text": [
      "Epoch 1/200\n",
      "32/32 [==============================] - 0s 3ms/step - loss: 6.2337 - accuracy: 0.0060\n",
      "Epoch 2/200\n",
      "32/32 [==============================] - 0s 3ms/step - loss: 6.0418 - accuracy: 0.0200\n",
      "Epoch 3/200\n",
      "32/32 [==============================] - 0s 3ms/step - loss: 5.8296 - accuracy: 0.0190\n",
      "Epoch 4/200\n",
      "32/32 [==============================] - 0s 3ms/step - loss: 5.5402 - accuracy: 0.0390\n",
      "Epoch 5/200\n",
      "32/32 [==============================] - 0s 3ms/step - loss: 5.1910 - accuracy: 0.1030\n",
      "Epoch 6/200\n",
      "32/32 [==============================] - 0s 3ms/step - loss: 4.7075 - accuracy: 0.2130\n",
      "Epoch 7/200\n",
      "32/32 [==============================] - 0s 3ms/step - loss: 4.1180 - accuracy: 0.2790\n",
      "Epoch 8/200\n",
      "32/32 [==============================] - 0s 3ms/step - loss: 3.3240 - accuracy: 0.4710\n",
      "Epoch 9/200\n",
      "32/32 [==============================] - 0s 3ms/step - loss: 2.5204 - accuracy: 0.6630\n",
      "Epoch 10/200\n",
      "32/32 [==============================] - 0s 4ms/step - loss: 1.8212 - accuracy: 0.8220\n",
      "Epoch 11/200\n",
      "32/32 [==============================] - 0s 4ms/step - loss: 1.2415 - accuracy: 0.8960\n",
      "Epoch 12/200\n",
      "32/32 [==============================] - 0s 4ms/step - loss: 0.8341 - accuracy: 0.9390\n",
      "Epoch 13/200\n",
      "32/32 [==============================] - 0s 3ms/step - loss: 0.5981 - accuracy: 0.9570\n",
      "Epoch 14/200\n",
      "32/32 [==============================] - 0s 4ms/step - loss: 0.4402 - accuracy: 0.9730\n",
      "Epoch 15/200\n",
      "32/32 [==============================] - 0s 3ms/step - loss: 0.3311 - accuracy: 0.9820\n",
      "Epoch 16/200\n",
      "32/32 [==============================] - 0s 3ms/step - loss: 0.2846 - accuracy: 0.9870\n",
      "Epoch 17/200\n",
      "32/32 [==============================] - 0s 4ms/step - loss: 0.2177 - accuracy: 0.9850\n",
      "Epoch 18/200\n",
      "32/32 [==============================] - 0s 4ms/step - loss: 0.1665 - accuracy: 0.9950\n",
      "Epoch 19/200\n",
      "32/32 [==============================] - 0s 5ms/step - loss: 0.1375 - accuracy: 0.9950\n",
      "Epoch 20/200\n",
      "32/32 [==============================] - 0s 4ms/step - loss: 0.1163 - accuracy: 0.9980\n",
      "Epoch 21/200\n",
      "32/32 [==============================] - 0s 3ms/step - loss: 0.0980 - accuracy: 0.9990\n",
      "Epoch 22/200\n",
      "32/32 [==============================] - 0s 3ms/step - loss: 0.0822 - accuracy: 1.0000\n",
      "Epoch 23/200\n",
      "32/32 [==============================] - 0s 4ms/step - loss: 0.0735 - accuracy: 1.0000\n",
      "Epoch 24/200\n",
      "32/32 [==============================] - 0s 4ms/step - loss: 0.0619 - accuracy: 1.0000\n",
      "Epoch 25/200\n",
      "32/32 [==============================] - 0s 3ms/step - loss: 0.0546 - accuracy: 0.9990\n",
      "Epoch 26/200\n",
      "32/32 [==============================] - 0s 3ms/step - loss: 0.0488 - accuracy: 1.0000\n",
      "Epoch 27/200\n",
      "32/32 [==============================] - 0s 3ms/step - loss: 0.0445 - accuracy: 1.0000\n",
      "Epoch 28/200\n",
      "32/32 [==============================] - 0s 3ms/step - loss: 0.0420 - accuracy: 1.0000\n",
      "Epoch 29/200\n",
      "32/32 [==============================] - 0s 3ms/step - loss: 0.0370 - accuracy: 1.0000\n",
      "Epoch 30/200\n",
      "32/32 [==============================] - 0s 3ms/step - loss: 0.0338 - accuracy: 1.0000\n",
      "Epoch 31/200\n",
      "32/32 [==============================] - 0s 3ms/step - loss: 0.0294 - accuracy: 1.0000\n",
      "Epoch 32/200\n",
      "32/32 [==============================] - 0s 3ms/step - loss: 0.0267 - accuracy: 1.0000\n",
      "Epoch 33/200\n",
      "32/32 [==============================] - 0s 3ms/step - loss: 0.0248 - accuracy: 1.0000\n",
      "Epoch 34/200\n",
      "32/32 [==============================] - 0s 3ms/step - loss: 0.0234 - accuracy: 1.0000\n",
      "Epoch 35/200\n",
      "32/32 [==============================] - 0s 3ms/step - loss: 0.0222 - accuracy: 1.0000\n",
      "Epoch 36/200\n",
      "32/32 [==============================] - 0s 3ms/step - loss: 0.0208 - accuracy: 1.0000\n",
      "Epoch 37/200\n",
      "32/32 [==============================] - 0s 3ms/step - loss: 0.0191 - accuracy: 1.0000\n",
      "Epoch 38/200\n",
      "32/32 [==============================] - 0s 3ms/step - loss: 0.0180 - accuracy: 1.0000\n",
      "Epoch 39/200\n",
      "32/32 [==============================] - 0s 3ms/step - loss: 0.0170 - accuracy: 1.0000\n",
      "Epoch 40/200\n",
      "32/32 [==============================] - 0s 3ms/step - loss: 0.0163 - accuracy: 1.0000\n",
      "Epoch 41/200\n",
      "32/32 [==============================] - 0s 4ms/step - loss: 0.0154 - accuracy: 1.0000\n",
      "Epoch 42/200\n",
      "32/32 [==============================] - 0s 3ms/step - loss: 0.0148 - accuracy: 1.0000\n",
      "Epoch 43/200\n",
      "32/32 [==============================] - 0s 4ms/step - loss: 0.0136 - accuracy: 1.0000\n",
      "Epoch 44/200\n",
      "32/32 [==============================] - 0s 3ms/step - loss: 0.0129 - accuracy: 1.0000\n",
      "Epoch 45/200\n",
      "32/32 [==============================] - 0s 3ms/step - loss: 0.0124 - accuracy: 1.0000\n",
      "Epoch 46/200\n",
      "32/32 [==============================] - 0s 3ms/step - loss: 0.0115 - accuracy: 1.0000\n",
      "Epoch 47/200\n",
      "32/32 [==============================] - 0s 3ms/step - loss: 0.0111 - accuracy: 1.0000\n",
      "Epoch 48/200\n",
      "32/32 [==============================] - 0s 3ms/step - loss: 0.0106 - accuracy: 1.0000\n",
      "Epoch 49/200\n",
      "32/32 [==============================] - 0s 3ms/step - loss: 0.0102 - accuracy: 1.0000\n",
      "Epoch 50/200\n",
      "32/32 [==============================] - 0s 4ms/step - loss: 0.0095 - accuracy: 1.0000\n",
      "Epoch 51/200\n",
      "32/32 [==============================] - 0s 3ms/step - loss: 0.0093 - accuracy: 1.0000\n",
      "Epoch 52/200\n",
      "32/32 [==============================] - 0s 3ms/step - loss: 0.0087 - accuracy: 1.0000\n",
      "Epoch 53/200\n",
      "32/32 [==============================] - 0s 3ms/step - loss: 0.0084 - accuracy: 1.0000\n",
      "Epoch 54/200\n",
      "32/32 [==============================] - 0s 3ms/step - loss: 0.0080 - accuracy: 1.0000\n",
      "Epoch 55/200\n",
      "32/32 [==============================] - 0s 4ms/step - loss: 0.0076 - accuracy: 1.0000\n",
      "Epoch 56/200\n",
      "32/32 [==============================] - 0s 4ms/step - loss: 0.0073 - accuracy: 1.0000\n",
      "Epoch 57/200\n",
      "32/32 [==============================] - 0s 4ms/step - loss: 0.0070 - accuracy: 1.0000\n",
      "Epoch 58/200\n",
      "32/32 [==============================] - 0s 3ms/step - loss: 0.0068 - accuracy: 1.0000\n",
      "Epoch 59/200\n",
      "32/32 [==============================] - 0s 4ms/step - loss: 0.0065 - accuracy: 1.0000\n",
      "Epoch 60/200\n",
      "32/32 [==============================] - 0s 4ms/step - loss: 0.0062 - accuracy: 1.0000\n",
      "Epoch 61/200\n",
      "32/32 [==============================] - 0s 4ms/step - loss: 0.0060 - accuracy: 1.0000\n",
      "Epoch 62/200\n",
      "32/32 [==============================] - 0s 3ms/step - loss: 0.0058 - accuracy: 1.0000\n",
      "Epoch 63/200\n",
      "32/32 [==============================] - 0s 3ms/step - loss: 0.0056 - accuracy: 1.0000\n",
      "Epoch 64/200\n",
      "32/32 [==============================] - 0s 3ms/step - loss: 0.0054 - accuracy: 1.0000\n",
      "Epoch 65/200\n",
      "32/32 [==============================] - 0s 3ms/step - loss: 0.0053 - accuracy: 1.0000\n",
      "Epoch 66/200\n",
      "32/32 [==============================] - 0s 4ms/step - loss: 0.0050 - accuracy: 1.0000\n",
      "Epoch 67/200\n",
      "32/32 [==============================] - 0s 4ms/step - loss: 0.0049 - accuracy: 1.0000\n",
      "Epoch 68/200\n",
      "32/32 [==============================] - 0s 4ms/step - loss: 0.0047 - accuracy: 1.0000\n",
      "Epoch 69/200\n",
      "32/32 [==============================] - 0s 4ms/step - loss: 0.0045 - accuracy: 1.0000\n",
      "Epoch 70/200\n",
      "32/32 [==============================] - 0s 4ms/step - loss: 0.0044 - accuracy: 1.0000\n",
      "Epoch 71/200\n",
      "32/32 [==============================] - 0s 4ms/step - loss: 0.0042 - accuracy: 1.0000\n",
      "Epoch 72/200\n",
      "32/32 [==============================] - 0s 4ms/step - loss: 0.0041 - accuracy: 1.0000\n",
      "Epoch 73/200\n",
      "32/32 [==============================] - 0s 4ms/step - loss: 0.0040 - accuracy: 1.0000\n",
      "Epoch 74/200\n",
      "32/32 [==============================] - 0s 4ms/step - loss: 0.0039 - accuracy: 1.0000\n",
      "Epoch 75/200\n",
      "32/32 [==============================] - 0s 5ms/step - loss: 0.0037 - accuracy: 1.0000\n",
      "Epoch 76/200\n",
      "32/32 [==============================] - 0s 4ms/step - loss: 0.0037 - accuracy: 1.0000\n",
      "Epoch 77/200\n",
      "32/32 [==============================] - 0s 4ms/step - loss: 0.0035 - accuracy: 1.0000\n",
      "Epoch 78/200\n",
      "32/32 [==============================] - 0s 4ms/step - loss: 0.0034 - accuracy: 1.0000\n",
      "Epoch 79/200\n",
      "32/32 [==============================] - 0s 3ms/step - loss: 0.0033 - accuracy: 1.0000\n",
      "Epoch 80/200\n",
      "32/32 [==============================] - 0s 4ms/step - loss: 0.0032 - accuracy: 1.0000\n",
      "Epoch 81/200\n",
      "32/32 [==============================] - 0s 4ms/step - loss: 0.0031 - accuracy: 1.0000\n",
      "Epoch 82/200\n",
      "32/32 [==============================] - 0s 3ms/step - loss: 0.0030 - accuracy: 1.0000\n",
      "Epoch 83/200\n"
     ]
    },
    {
     "name": "stdout",
     "output_type": "stream",
     "text": [
      "32/32 [==============================] - 0s 5ms/step - loss: 0.0029 - accuracy: 1.0000\n",
      "Epoch 84/200\n",
      "32/32 [==============================] - 0s 4ms/step - loss: 0.0028 - accuracy: 1.0000\n",
      "Epoch 85/200\n",
      "32/32 [==============================] - 0s 3ms/step - loss: 0.0027 - accuracy: 1.0000\n",
      "Epoch 86/200\n",
      "32/32 [==============================] - 0s 4ms/step - loss: 0.0027 - accuracy: 1.0000\n",
      "Epoch 87/200\n",
      "32/32 [==============================] - 0s 4ms/step - loss: 0.0026 - accuracy: 1.0000\n",
      "Epoch 88/200\n",
      "32/32 [==============================] - 0s 4ms/step - loss: 0.0025 - accuracy: 1.0000\n",
      "Epoch 89/200\n",
      "32/32 [==============================] - 0s 3ms/step - loss: 0.0025 - accuracy: 1.0000\n",
      "Epoch 90/200\n",
      "32/32 [==============================] - 0s 3ms/step - loss: 0.0024 - accuracy: 1.0000\n",
      "Epoch 91/200\n",
      "32/32 [==============================] - 0s 3ms/step - loss: 0.0023 - accuracy: 1.0000\n",
      "Epoch 92/200\n",
      "32/32 [==============================] - 0s 4ms/step - loss: 0.0022 - accuracy: 1.0000\n",
      "Epoch 93/200\n",
      "32/32 [==============================] - 0s 3ms/step - loss: 0.0022 - accuracy: 1.0000\n",
      "Epoch 94/200\n",
      "32/32 [==============================] - 0s 4ms/step - loss: 0.0021 - accuracy: 1.0000\n",
      "Epoch 95/200\n",
      "32/32 [==============================] - 0s 4ms/step - loss: 0.0021 - accuracy: 1.0000\n",
      "Epoch 96/200\n",
      "32/32 [==============================] - 0s 4ms/step - loss: 0.0020 - accuracy: 1.0000\n",
      "Epoch 97/200\n",
      "32/32 [==============================] - 0s 3ms/step - loss: 0.0020 - accuracy: 1.0000\n",
      "Epoch 98/200\n",
      "32/32 [==============================] - 0s 4ms/step - loss: 0.0019 - accuracy: 1.0000\n",
      "Epoch 99/200\n",
      "32/32 [==============================] - 0s 3ms/step - loss: 0.0019 - accuracy: 1.0000\n",
      "Epoch 100/200\n",
      "32/32 [==============================] - 0s 3ms/step - loss: 0.0018 - accuracy: 1.0000\n",
      "Epoch 101/200\n",
      "32/32 [==============================] - 0s 3ms/step - loss: 0.0018 - accuracy: 1.0000\n",
      "Epoch 102/200\n",
      "32/32 [==============================] - 0s 3ms/step - loss: 0.0017 - accuracy: 1.0000\n",
      "Epoch 103/200\n",
      "32/32 [==============================] - 0s 4ms/step - loss: 0.0017 - accuracy: 1.0000\n",
      "Epoch 104/200\n",
      "32/32 [==============================] - 0s 4ms/step - loss: 0.0016 - accuracy: 1.0000\n",
      "Epoch 105/200\n",
      "32/32 [==============================] - 0s 4ms/step - loss: 0.0016 - accuracy: 1.0000\n",
      "Epoch 106/200\n",
      "32/32 [==============================] - 0s 4ms/step - loss: 0.0016 - accuracy: 1.0000\n",
      "Epoch 107/200\n",
      "32/32 [==============================] - 0s 4ms/step - loss: 0.0015 - accuracy: 1.0000\n",
      "Epoch 108/200\n",
      "32/32 [==============================] - 0s 4ms/step - loss: 0.0015 - accuracy: 1.0000\n",
      "Epoch 109/200\n",
      "32/32 [==============================] - 0s 4ms/step - loss: 0.0014 - accuracy: 1.0000\n",
      "Epoch 110/200\n",
      "32/32 [==============================] - 0s 3ms/step - loss: 0.0014 - accuracy: 1.0000\n",
      "Epoch 111/200\n",
      "32/32 [==============================] - 0s 4ms/step - loss: 0.0014 - accuracy: 1.0000\n",
      "Epoch 112/200\n",
      "32/32 [==============================] - 0s 4ms/step - loss: 0.0013 - accuracy: 1.0000\n",
      "Epoch 113/200\n",
      "32/32 [==============================] - 0s 4ms/step - loss: 0.0013 - accuracy: 1.0000\n",
      "Epoch 114/200\n",
      "32/32 [==============================] - 0s 3ms/step - loss: 0.0013 - accuracy: 1.0000\n",
      "Epoch 115/200\n",
      "32/32 [==============================] - 0s 4ms/step - loss: 0.0013 - accuracy: 1.0000\n",
      "Epoch 116/200\n",
      "32/32 [==============================] - 0s 4ms/step - loss: 0.0012 - accuracy: 1.0000\n",
      "Epoch 117/200\n",
      "32/32 [==============================] - 0s 3ms/step - loss: 0.0012 - accuracy: 1.0000\n",
      "Epoch 118/200\n",
      "32/32 [==============================] - 0s 4ms/step - loss: 0.0012 - accuracy: 1.0000\n",
      "Epoch 119/200\n",
      "32/32 [==============================] - 0s 4ms/step - loss: 0.0011 - accuracy: 1.0000\n",
      "Epoch 120/200\n",
      "32/32 [==============================] - 0s 3ms/step - loss: 0.0011 - accuracy: 1.0000\n",
      "Epoch 121/200\n",
      "32/32 [==============================] - 0s 4ms/step - loss: 0.0011 - accuracy: 1.0000\n",
      "Epoch 122/200\n",
      "32/32 [==============================] - 0s 3ms/step - loss: 0.0011 - accuracy: 1.0000\n",
      "Epoch 123/200\n",
      "32/32 [==============================] - 0s 3ms/step - loss: 0.0010 - accuracy: 1.0000\n",
      "Epoch 124/200\n",
      "32/32 [==============================] - 0s 4ms/step - loss: 0.0010 - accuracy: 1.0000\n",
      "Epoch 125/200\n",
      "32/32 [==============================] - 0s 4ms/step - loss: 9.8842e-04 - accuracy: 1.0000\n",
      "Epoch 126/200\n",
      "32/32 [==============================] - 0s 4ms/step - loss: 9.6703e-04 - accuracy: 1.0000\n",
      "Epoch 127/200\n",
      "32/32 [==============================] - 0s 4ms/step - loss: 9.3942e-04 - accuracy: 1.0000\n",
      "Epoch 128/200\n",
      "32/32 [==============================] - 0s 4ms/step - loss: 9.3081e-04 - accuracy: 1.0000\n",
      "Epoch 129/200\n",
      "32/32 [==============================] - 0s 4ms/step - loss: 9.0507e-04 - accuracy: 1.0000\n",
      "Epoch 130/200\n",
      "32/32 [==============================] - 0s 5ms/step - loss: 8.8409e-04 - accuracy: 1.0000\n",
      "Epoch 131/200\n",
      "32/32 [==============================] - 0s 4ms/step - loss: 8.6024e-04 - accuracy: 1.0000\n",
      "Epoch 132/200\n",
      "32/32 [==============================] - 0s 4ms/step - loss: 8.4560e-04 - accuracy: 1.0000\n",
      "Epoch 133/200\n",
      "32/32 [==============================] - 0s 4ms/step - loss: 8.3262e-04 - accuracy: 1.0000\n",
      "Epoch 134/200\n",
      "32/32 [==============================] - 0s 5ms/step - loss: 8.0595e-04 - accuracy: 1.0000\n",
      "Epoch 135/200\n",
      "32/32 [==============================] - 0s 4ms/step - loss: 7.8322e-04 - accuracy: 1.0000\n",
      "Epoch 136/200\n",
      "32/32 [==============================] - 0s 4ms/step - loss: 7.6778e-04 - accuracy: 1.0000\n",
      "Epoch 137/200\n",
      "32/32 [==============================] - 0s 4ms/step - loss: 7.5381e-04 - accuracy: 1.0000\n",
      "Epoch 138/200\n",
      "32/32 [==============================] - 0s 3ms/step - loss: 7.3597e-04 - accuracy: 1.0000\n",
      "Epoch 139/200\n",
      "32/32 [==============================] - 0s 5ms/step - loss: 7.2131e-04 - accuracy: 1.0000\n",
      "Epoch 140/200\n",
      "32/32 [==============================] - 0s 4ms/step - loss: 7.0595e-04 - accuracy: 1.0000\n",
      "Epoch 141/200\n",
      "32/32 [==============================] - 0s 4ms/step - loss: 6.9211e-04 - accuracy: 1.0000\n",
      "Epoch 142/200\n",
      "32/32 [==============================] - 0s 3ms/step - loss: 6.7748e-04 - accuracy: 1.0000\n",
      "Epoch 143/200\n",
      "32/32 [==============================] - 0s 4ms/step - loss: 6.7551e-04 - accuracy: 1.0000\n",
      "Epoch 144/200\n",
      "32/32 [==============================] - 0s 4ms/step - loss: 6.4916e-04 - accuracy: 1.0000\n",
      "Epoch 145/200\n",
      "32/32 [==============================] - 0s 3ms/step - loss: 6.3124e-04 - accuracy: 1.0000\n",
      "Epoch 146/200\n",
      "32/32 [==============================] - 0s 4ms/step - loss: 6.1558e-04 - accuracy: 1.0000\n",
      "Epoch 147/200\n",
      "32/32 [==============================] - 0s 5ms/step - loss: 6.0518e-04 - accuracy: 1.0000\n",
      "Epoch 148/200\n",
      "32/32 [==============================] - 0s 4ms/step - loss: 5.9014e-04 - accuracy: 1.0000\n",
      "Epoch 149/200\n",
      "32/32 [==============================] - 0s 4ms/step - loss: 5.8172e-04 - accuracy: 1.0000\n",
      "Epoch 150/200\n",
      "32/32 [==============================] - 0s 5ms/step - loss: 5.6574e-04 - accuracy: 1.0000\n",
      "Epoch 151/200\n",
      "32/32 [==============================] - 0s 4ms/step - loss: 5.5762e-04 - accuracy: 1.0000\n",
      "Epoch 152/200\n",
      "32/32 [==============================] - 0s 5ms/step - loss: 5.4354e-04 - accuracy: 1.0000\n",
      "Epoch 153/200\n",
      "32/32 [==============================] - 0s 4ms/step - loss: 5.3308e-04 - accuracy: 1.0000\n",
      "Epoch 154/200\n",
      "32/32 [==============================] - 0s 3ms/step - loss: 5.2218e-04 - accuracy: 1.0000\n",
      "Epoch 155/200\n",
      "32/32 [==============================] - 0s 3ms/step - loss: 5.0934e-04 - accuracy: 1.0000\n",
      "Epoch 156/200\n",
      "32/32 [==============================] - 0s 4ms/step - loss: 4.9862e-04 - accuracy: 1.0000\n",
      "Epoch 157/200\n",
      "32/32 [==============================] - 0s 5ms/step - loss: 4.9230e-04 - accuracy: 1.0000\n",
      "Epoch 158/200\n",
      "32/32 [==============================] - 0s 4ms/step - loss: 4.8007e-04 - accuracy: 1.0000\n",
      "Epoch 159/200\n",
      "32/32 [==============================] - 0s 5ms/step - loss: 4.7134e-04 - accuracy: 1.0000\n",
      "Epoch 160/200\n",
      "32/32 [==============================] - 0s 4ms/step - loss: 4.6000e-04 - accuracy: 1.0000\n",
      "Epoch 161/200\n",
      "32/32 [==============================] - 0s 4ms/step - loss: 4.5463e-04 - accuracy: 1.0000\n",
      "Epoch 162/200\n"
     ]
    },
    {
     "name": "stdout",
     "output_type": "stream",
     "text": [
      "32/32 [==============================] - 0s 4ms/step - loss: 4.4220e-04 - accuracy: 1.0000\n",
      "Epoch 163/200\n",
      "32/32 [==============================] - 0s 3ms/step - loss: 4.3228e-04 - accuracy: 1.0000\n",
      "Epoch 164/200\n",
      "32/32 [==============================] - 0s 3ms/step - loss: 4.2215e-04 - accuracy: 1.0000\n",
      "Epoch 165/200\n",
      "32/32 [==============================] - 0s 3ms/step - loss: 4.1590e-04 - accuracy: 1.0000\n",
      "Epoch 166/200\n",
      "32/32 [==============================] - 0s 3ms/step - loss: 4.0607e-04 - accuracy: 1.0000\n",
      "Epoch 167/200\n",
      "32/32 [==============================] - 0s 4ms/step - loss: 3.9703e-04 - accuracy: 1.0000\n",
      "Epoch 168/200\n",
      "32/32 [==============================] - 0s 4ms/step - loss: 3.8879e-04 - accuracy: 1.0000\n",
      "Epoch 169/200\n",
      "32/32 [==============================] - 0s 3ms/step - loss: 3.8295e-04 - accuracy: 1.0000\n",
      "Epoch 170/200\n",
      "32/32 [==============================] - 0s 4ms/step - loss: 3.7492e-04 - accuracy: 1.0000\n",
      "Epoch 171/200\n",
      "32/32 [==============================] - 0s 3ms/step - loss: 3.6775e-04 - accuracy: 1.0000\n",
      "Epoch 172/200\n",
      "32/32 [==============================] - 0s 3ms/step - loss: 3.6226e-04 - accuracy: 1.0000\n",
      "Epoch 173/200\n",
      "32/32 [==============================] - 0s 3ms/step - loss: 3.5303e-04 - accuracy: 1.0000\n",
      "Epoch 174/200\n",
      "32/32 [==============================] - 0s 3ms/step - loss: 3.4886e-04 - accuracy: 1.0000\n",
      "Epoch 175/200\n",
      "32/32 [==============================] - 0s 3ms/step - loss: 3.3739e-04 - accuracy: 1.0000\n",
      "Epoch 176/200\n",
      "32/32 [==============================] - 0s 3ms/step - loss: 3.3156e-04 - accuracy: 1.0000\n",
      "Epoch 177/200\n",
      "32/32 [==============================] - 0s 4ms/step - loss: 3.2696e-04 - accuracy: 1.0000\n",
      "Epoch 178/200\n",
      "32/32 [==============================] - 0s 4ms/step - loss: 3.1887e-04 - accuracy: 1.0000\n",
      "Epoch 179/200\n",
      "32/32 [==============================] - 0s 3ms/step - loss: 3.1257e-04 - accuracy: 1.0000\n",
      "Epoch 180/200\n",
      "32/32 [==============================] - 0s 3ms/step - loss: 3.0763e-04 - accuracy: 1.0000\n",
      "Epoch 181/200\n",
      "32/32 [==============================] - 0s 3ms/step - loss: 3.0006e-04 - accuracy: 1.0000\n",
      "Epoch 182/200\n",
      "32/32 [==============================] - 0s 3ms/step - loss: 2.9421e-04 - accuracy: 1.0000\n",
      "Epoch 183/200\n",
      "32/32 [==============================] - 0s 4ms/step - loss: 2.8983e-04 - accuracy: 1.0000\n",
      "Epoch 184/200\n",
      "32/32 [==============================] - 0s 4ms/step - loss: 2.8560e-04 - accuracy: 1.0000\n",
      "Epoch 185/200\n",
      "32/32 [==============================] - 0s 4ms/step - loss: 2.7727e-04 - accuracy: 1.0000\n",
      "Epoch 186/200\n",
      "32/32 [==============================] - 0s 3ms/step - loss: 2.7265e-04 - accuracy: 1.0000\n",
      "Epoch 187/200\n",
      "32/32 [==============================] - 0s 3ms/step - loss: 2.6939e-04 - accuracy: 1.0000\n",
      "Epoch 188/200\n",
      "32/32 [==============================] - 0s 4ms/step - loss: 2.6185e-04 - accuracy: 1.0000\n",
      "Epoch 189/200\n",
      "32/32 [==============================] - 0s 3ms/step - loss: 2.5772e-04 - accuracy: 1.0000\n",
      "Epoch 190/200\n",
      "32/32 [==============================] - 0s 4ms/step - loss: 2.5162e-04 - accuracy: 1.0000\n",
      "Epoch 191/200\n",
      "32/32 [==============================] - 0s 4ms/step - loss: 2.4743e-04 - accuracy: 1.0000\n",
      "Epoch 192/200\n",
      "32/32 [==============================] - 0s 4ms/step - loss: 2.4267e-04 - accuracy: 1.0000\n",
      "Epoch 193/200\n",
      "32/32 [==============================] - 0s 4ms/step - loss: 2.3729e-04 - accuracy: 1.0000\n",
      "Epoch 194/200\n",
      "32/32 [==============================] - 0s 4ms/step - loss: 2.3258e-04 - accuracy: 1.0000\n",
      "Epoch 195/200\n",
      "32/32 [==============================] - 0s 4ms/step - loss: 2.2893e-04 - accuracy: 1.0000\n",
      "Epoch 196/200\n",
      "32/32 [==============================] - 0s 3ms/step - loss: 2.2422e-04 - accuracy: 1.0000\n",
      "Epoch 197/200\n",
      "32/32 [==============================] - 0s 3ms/step - loss: 2.1959e-04 - accuracy: 1.0000\n",
      "Epoch 198/200\n",
      "32/32 [==============================] - 0s 3ms/step - loss: 2.1470e-04 - accuracy: 1.0000\n",
      "Epoch 199/200\n",
      "32/32 [==============================] - 0s 4ms/step - loss: 2.1160e-04 - accuracy: 1.0000\n",
      "Epoch 200/200\n",
      "32/32 [==============================] - 0s 4ms/step - loss: 2.0616e-04 - accuracy: 1.0000\n",
      "32/32 [==============================] - 0s 2ms/step\n",
      "7/7 [==============================] - 0s 2ms/step\n",
      "===============================================\n",
      "Training Classifer Portion of Type Model: Done!\n",
      "===============================================\n"
     ]
    },
    {
     "name": "stderr",
     "output_type": "stream",
     "text": [
      "\r",
      "  0%|          | 0/1000 [00:00<?, ?it/s]"
     ]
    },
    {
     "name": "stdout",
     "output_type": "stream",
     "text": [
      "#--------------------#\n",
      " Get Training Error(s)\n",
      "#--------------------#\n"
     ]
    },
    {
     "name": "stderr",
     "output_type": "stream",
     "text": [
      "100%|██████████| 1000/1000 [05:17<00:00,  3.15it/s]\n",
      "  0%|          | 0/200 [00:00<?, ?it/s]"
     ]
    },
    {
     "name": "stdout",
     "output_type": "stream",
     "text": [
      "#-------------------------#\n",
      " Get Training Error(s): END\n",
      "#-------------------------#\n",
      "#----------------#\n",
      " Get Test Error(s)\n",
      "#----------------#\n"
     ]
    },
    {
     "name": "stderr",
     "output_type": "stream",
     "text": [
      "100%|██████████| 200/200 [01:17<00:00,  2.59it/s]"
     ]
    },
    {
     "name": "stdout",
     "output_type": "stream",
     "text": [
      "#-------------------------#\n",
      " Get Training Error(s): END\n",
      "#-------------------------#\n"
     ]
    },
    {
     "name": "stderr",
     "output_type": "stream",
     "text": [
      "\n"
     ]
    }
   ],
   "source": [
    "# %run Universal_Measure_Valued_Networks_Backend.ipynb\n",
    "exec(open('Universal_Measure_Valued_Networks_Backend.py').read())"
   ]
  },
  {
   "cell_type": "markdown",
   "metadata": {},
   "source": [
    "---\n",
    "# Run: All Benchmarks"
   ]
  },
  {
   "cell_type": "markdown",
   "metadata": {},
   "source": [
    "## 1) *Pointmass Benchmark(s)*\n",
    "These benchmarks consist of subsets of $C(\\mathbb{R}^d,\\mathbb{R})$ which we lift to models in $C(\\mathbb{R}^d,\\cap_{1\\leq q<\\infty}\\mathscr{P}_{q}(\\mathbb{R}))$ via:\n",
    "$$\n",
    "\\mathbb{R}^d \\ni x \\to f(x) \\to \\delta_{f(x)}\\in \\cap_{1\\leq q<\\infty}\\mathcal{P}_{q}(\\mathbb{R}).\n",
    "$$"
   ]
  },
  {
   "cell_type": "code",
   "execution_count": 10,
   "metadata": {},
   "outputs": [
    {
     "name": "stdout",
     "output_type": "stream",
     "text": [
      "Deep Feature Builder - Ready\n",
      "--------------\n",
      "Training: ENET\n",
      "--------------\n"
     ]
    },
    {
     "name": "stderr",
     "output_type": "stream",
     "text": [
      "  0%|          | 1/1000 [00:00<02:51,  5.82it/s]"
     ]
    },
    {
     "name": "stdout",
     "output_type": "stream",
     "text": [
      "#------------#\n",
      " Get Error(s) \n",
      "#------------#\n"
     ]
    },
    {
     "name": "stderr",
     "output_type": "stream",
     "text": [
      "100%|██████████| 1000/1000 [01:35<00:00, 10.52it/s]\n",
      "  0%|          | 1/200 [00:00<00:21,  9.47it/s]"
     ]
    },
    {
     "name": "stdout",
     "output_type": "stream",
     "text": [
      "#-----------------#\n",
      " Get Error(s): END \n",
      "#-----------------#\n",
      "#------------#\n",
      " Get Error(s) \n",
      "#------------#\n"
     ]
    },
    {
     "name": "stderr",
     "output_type": "stream",
     "text": [
      "100%|██████████| 200/200 [00:20<00:00,  9.66it/s]\n"
     ]
    },
    {
     "name": "stdout",
     "output_type": "stream",
     "text": [
      "#-----------------#\n",
      " Get Error(s): END \n",
      "#-----------------#\n",
      "-----------------\n",
      "Training: K-Ridge\n",
      "-----------------\n",
      "Fitting 4 folds for each of 5 candidates, totalling 20 fits\n"
     ]
    },
    {
     "name": "stderr",
     "output_type": "stream",
     "text": [
      "[Parallel(n_jobs=4)]: Using backend LokyBackend with 4 concurrent workers.\n",
      "[Parallel(n_jobs=4)]: Done   5 tasks      | elapsed:    1.2s\n",
      "[Parallel(n_jobs=4)]: Done  10 tasks      | elapsed:    1.4s\n",
      "[Parallel(n_jobs=4)]: Done  16 out of  20 | elapsed:    1.6s remaining:    0.4s\n",
      "[Parallel(n_jobs=4)]: Done  20 out of  20 | elapsed:    1.7s finished\n",
      "  0%|          | 1/1000 [00:00<02:22,  7.02it/s]"
     ]
    },
    {
     "name": "stdout",
     "output_type": "stream",
     "text": [
      "#------------#\n",
      " Get Error(s) \n",
      "#------------#\n"
     ]
    },
    {
     "name": "stderr",
     "output_type": "stream",
     "text": [
      "100%|██████████| 1000/1000 [01:39<00:00, 10.04it/s]\n",
      "  1%|          | 2/200 [00:00<00:18, 10.88it/s]"
     ]
    },
    {
     "name": "stdout",
     "output_type": "stream",
     "text": [
      "#-----------------#\n",
      " Get Error(s): END \n",
      "#-----------------#\n",
      "#------------#\n",
      " Get Error(s) \n",
      "#------------#\n"
     ]
    },
    {
     "name": "stderr",
     "output_type": "stream",
     "text": [
      "100%|██████████| 200/200 [00:19<00:00, 10.51it/s]\n",
      "[Parallel(n_jobs=4)]: Using backend LokyBackend with 4 concurrent workers.\n"
     ]
    },
    {
     "name": "stdout",
     "output_type": "stream",
     "text": [
      "#-----------------#\n",
      " Get Error(s): END \n",
      "#-----------------#\n",
      "--------------\n",
      "Training: GBRF\n",
      "--------------\n",
      "Fitting 4 folds for each of 1 candidates, totalling 4 fits\n"
     ]
    },
    {
     "name": "stderr",
     "output_type": "stream",
     "text": [
      "[Parallel(n_jobs=4)]: Done   1 tasks      | elapsed:   47.8s\n",
      "[Parallel(n_jobs=4)]: Done   2 out of   4 | elapsed:   49.2s remaining:   49.2s\n",
      "[Parallel(n_jobs=4)]: Done   4 out of   4 | elapsed:   50.2s remaining:    0.0s\n",
      "[Parallel(n_jobs=4)]: Done   4 out of   4 | elapsed:   50.2s finished\n",
      "  0%|          | 1/1000 [00:00<01:45,  9.44it/s]"
     ]
    },
    {
     "name": "stdout",
     "output_type": "stream",
     "text": [
      "#------------#\n",
      " Get Error(s) \n",
      "#------------#\n"
     ]
    },
    {
     "name": "stderr",
     "output_type": "stream",
     "text": [
      "100%|██████████| 1000/1000 [01:39<00:00, 10.01it/s]\n",
      "  1%|          | 2/200 [00:00<00:17, 11.06it/s]"
     ]
    },
    {
     "name": "stdout",
     "output_type": "stream",
     "text": [
      "#-----------------#\n",
      " Get Error(s): END \n",
      "#-----------------#\n",
      "#------------#\n",
      " Get Error(s) \n",
      "#------------#\n"
     ]
    },
    {
     "name": "stderr",
     "output_type": "stream",
     "text": [
      "100%|██████████| 200/200 [00:18<00:00, 10.88it/s]\n",
      "[Parallel(n_jobs=4)]: Using backend LokyBackend with 4 concurrent workers.\n"
     ]
    },
    {
     "name": "stdout",
     "output_type": "stream",
     "text": [
      "#-----------------#\n",
      " Get Error(s): END \n",
      "#-----------------#\n",
      "-------------\n",
      "Training: DNN\n",
      "-------------\n",
      "Fitting 4 folds for each of 5 candidates, totalling 20 fits\n"
     ]
    },
    {
     "name": "stderr",
     "output_type": "stream",
     "text": [
      "[Parallel(n_jobs=4)]: Done   5 tasks      | elapsed:   47.7s\n",
      "[Parallel(n_jobs=4)]: Done  10 tasks      | elapsed:  1.1min\n",
      "[Parallel(n_jobs=4)]: Done  16 out of  20 | elapsed:  1.6min remaining:   23.3s\n",
      "[Parallel(n_jobs=4)]: Done  20 out of  20 | elapsed:  2.0min finished\n"
     ]
    },
    {
     "name": "stdout",
     "output_type": "stream",
     "text": [
      "Epoch 1/200\n",
      "32/32 [==============================] - 0s 2ms/step - loss: 0.6533 - mse: 0.5753 - mae: 0.6533 - mape: 100.0485\n",
      "Epoch 2/200\n",
      "32/32 [==============================] - 0s 2ms/step - loss: 0.6533 - mse: 0.5752 - mae: 0.6533 - mape: 100.0591\n",
      "Epoch 3/200\n",
      "32/32 [==============================] - 0s 2ms/step - loss: 0.6533 - mse: 0.5752 - mae: 0.6533 - mape: 99.9903\n",
      "Epoch 4/200\n",
      "32/32 [==============================] - 0s 2ms/step - loss: 0.6533 - mse: 0.5752 - mae: 0.6533 - mape: 100.0512\n",
      "Epoch 5/200\n",
      "32/32 [==============================] - 0s 2ms/step - loss: 0.6532 - mse: 0.5752 - mae: 0.6532 - mape: 99.9794\n",
      "Epoch 6/200\n",
      "32/32 [==============================] - 0s 2ms/step - loss: 0.6532 - mse: 0.5752 - mae: 0.6532 - mape: 99.9289\n",
      "Epoch 7/200\n",
      "32/32 [==============================] - 0s 2ms/step - loss: 0.6532 - mse: 0.5752 - mae: 0.6532 - mape: 100.1169\n",
      "Epoch 8/200\n",
      "32/32 [==============================] - 0s 2ms/step - loss: 0.6532 - mse: 0.5752 - mae: 0.6532 - mape: 100.0765\n",
      "Epoch 9/200\n",
      "32/32 [==============================] - 0s 2ms/step - loss: 0.6532 - mse: 0.5752 - mae: 0.6532 - mape: 100.0782\n",
      "Epoch 10/200\n",
      "32/32 [==============================] - 0s 2ms/step - loss: 0.6532 - mse: 0.5752 - mae: 0.6532 - mape: 99.9729\n",
      "Epoch 11/200\n",
      "32/32 [==============================] - 0s 2ms/step - loss: 0.6532 - mse: 0.5752 - mae: 0.6532 - mape: 100.0490\n",
      "Epoch 12/200\n",
      "32/32 [==============================] - 0s 2ms/step - loss: 0.6532 - mse: 0.5752 - mae: 0.6532 - mape: 100.1061\n",
      "Epoch 13/200\n",
      "32/32 [==============================] - 0s 2ms/step - loss: 0.6532 - mse: 0.5752 - mae: 0.6532 - mape: 100.1151\n",
      "Epoch 14/200\n",
      "32/32 [==============================] - 0s 2ms/step - loss: 0.6532 - mse: 0.5752 - mae: 0.6532 - mape: 100.1174\n",
      "Epoch 15/200\n",
      "32/32 [==============================] - 0s 2ms/step - loss: 0.6532 - mse: 0.5752 - mae: 0.6532 - mape: 100.1153\n",
      "Epoch 16/200\n",
      "32/32 [==============================] - 0s 2ms/step - loss: 0.6532 - mse: 0.5752 - mae: 0.6532 - mape: 100.0808\n",
      "Epoch 17/200\n",
      "32/32 [==============================] - 0s 2ms/step - loss: 0.6532 - mse: 0.5752 - mae: 0.6532 - mape: 100.1725\n",
      "Epoch 18/200\n",
      "32/32 [==============================] - 0s 2ms/step - loss: 0.6532 - mse: 0.5751 - mae: 0.6532 - mape: 100.1056\n",
      "Epoch 19/200\n",
      "32/32 [==============================] - 0s 2ms/step - loss: 0.6532 - mse: 0.5751 - mae: 0.6532 - mape: 100.2190\n",
      "Epoch 20/200\n",
      "32/32 [==============================] - 0s 2ms/step - loss: 0.6532 - mse: 0.5751 - mae: 0.6532 - mape: 100.1763\n",
      "Epoch 21/200\n",
      "32/32 [==============================] - 0s 2ms/step - loss: 0.6532 - mse: 0.5751 - mae: 0.6532 - mape: 100.1224\n",
      "Epoch 22/200\n",
      "32/32 [==============================] - 0s 2ms/step - loss: 0.6532 - mse: 0.5751 - mae: 0.6532 - mape: 100.0838\n",
      "Epoch 23/200\n",
      "32/32 [==============================] - 0s 2ms/step - loss: 0.6532 - mse: 0.5751 - mae: 0.6532 - mape: 100.3146\n",
      "Epoch 24/200\n",
      "32/32 [==============================] - 0s 2ms/step - loss: 0.6532 - mse: 0.5751 - mae: 0.6532 - mape: 100.2612\n",
      "Epoch 25/200\n",
      "32/32 [==============================] - 0s 2ms/step - loss: 0.6532 - mse: 0.5751 - mae: 0.6532 - mape: 100.2697\n",
      "Epoch 26/200\n",
      "32/32 [==============================] - 0s 2ms/step - loss: 0.6532 - mse: 0.5751 - mae: 0.6532 - mape: 100.2627\n",
      "Epoch 27/200\n",
      "32/32 [==============================] - 0s 2ms/step - loss: 0.6532 - mse: 0.5751 - mae: 0.6532 - mape: 100.3480\n",
      "Epoch 28/200\n",
      "32/32 [==============================] - 0s 2ms/step - loss: 0.6532 - mse: 0.5751 - mae: 0.6532 - mape: 100.2737\n",
      "Epoch 29/200\n",
      "32/32 [==============================] - 0s 2ms/step - loss: 0.6532 - mse: 0.5751 - mae: 0.6532 - mape: 100.2580\n",
      "Epoch 30/200\n",
      "32/32 [==============================] - 0s 2ms/step - loss: 0.6532 - mse: 0.5751 - mae: 0.6532 - mape: 100.2607\n",
      "Epoch 31/200\n",
      "32/32 [==============================] - 0s 2ms/step - loss: 0.6532 - mse: 0.5751 - mae: 0.6532 - mape: 100.3417\n",
      "Epoch 32/200\n",
      "32/32 [==============================] - 0s 2ms/step - loss: 0.6532 - mse: 0.5751 - mae: 0.6532 - mape: 100.3707\n",
      "Epoch 33/200\n",
      "32/32 [==============================] - 0s 2ms/step - loss: 0.6531 - mse: 0.5751 - mae: 0.6531 - mape: 100.2951\n",
      "Epoch 34/200\n",
      "32/32 [==============================] - 0s 2ms/step - loss: 0.6531 - mse: 0.5751 - mae: 0.6531 - mape: 100.2830\n",
      "Epoch 35/200\n",
      "32/32 [==============================] - 0s 2ms/step - loss: 0.6531 - mse: 0.5751 - mae: 0.6531 - mape: 100.3368\n",
      "Epoch 36/200\n",
      "32/32 [==============================] - 0s 2ms/step - loss: 0.6531 - mse: 0.5750 - mae: 0.6531 - mape: 100.3048\n",
      "Epoch 37/200\n",
      "32/32 [==============================] - 0s 2ms/step - loss: 0.6531 - mse: 0.5750 - mae: 0.6531 - mape: 100.3007\n",
      "Epoch 38/200\n",
      "32/32 [==============================] - 0s 2ms/step - loss: 0.6531 - mse: 0.5750 - mae: 0.6531 - mape: 100.2367\n",
      "Epoch 39/200\n",
      "32/32 [==============================] - 0s 2ms/step - loss: 0.6531 - mse: 0.5750 - mae: 0.6531 - mape: 100.4347\n",
      "Epoch 40/200\n",
      "32/32 [==============================] - 0s 2ms/step - loss: 0.6531 - mse: 0.5750 - mae: 0.6531 - mape: 100.6218\n",
      "Epoch 41/200\n",
      "32/32 [==============================] - 0s 2ms/step - loss: 0.6531 - mse: 0.5750 - mae: 0.6531 - mape: 100.7778\n",
      "Epoch 42/200\n",
      "32/32 [==============================] - 0s 2ms/step - loss: 0.6531 - mse: 0.5750 - mae: 0.6531 - mape: 100.7480\n",
      "Epoch 43/200\n",
      "32/32 [==============================] - 0s 2ms/step - loss: 0.6531 - mse: 0.5750 - mae: 0.6531 - mape: 100.7811\n",
      "Epoch 44/200\n",
      "32/32 [==============================] - 0s 2ms/step - loss: 0.6531 - mse: 0.5750 - mae: 0.6531 - mape: 100.6050\n",
      "Epoch 45/200\n",
      "32/32 [==============================] - 0s 2ms/step - loss: 0.6531 - mse: 0.5750 - mae: 0.6531 - mape: 100.5545\n",
      "Epoch 46/200\n",
      "32/32 [==============================] - 0s 2ms/step - loss: 0.6531 - mse: 0.5750 - mae: 0.6531 - mape: 100.6693\n",
      "Epoch 47/200\n",
      "32/32 [==============================] - 0s 2ms/step - loss: 0.6531 - mse: 0.5750 - mae: 0.6531 - mape: 100.5389\n",
      "Epoch 48/200\n",
      "32/32 [==============================] - 0s 2ms/step - loss: 0.6531 - mse: 0.5750 - mae: 0.6531 - mape: 100.5546\n",
      "Epoch 49/200\n",
      "32/32 [==============================] - 0s 2ms/step - loss: 0.6531 - mse: 0.5750 - mae: 0.6531 - mape: 100.8065\n",
      "Epoch 50/200\n",
      "32/32 [==============================] - 0s 2ms/step - loss: 0.6531 - mse: 0.5750 - mae: 0.6531 - mape: 100.7662\n",
      "Epoch 51/200\n",
      "32/32 [==============================] - 0s 2ms/step - loss: 0.6531 - mse: 0.5749 - mae: 0.6531 - mape: 100.8450\n",
      "Epoch 52/200\n",
      "32/32 [==============================] - 0s 2ms/step - loss: 0.6531 - mse: 0.5749 - mae: 0.6531 - mape: 100.8693\n",
      "Epoch 53/200\n",
      "32/32 [==============================] - 0s 2ms/step - loss: 0.6531 - mse: 0.5749 - mae: 0.6531 - mape: 100.8795\n",
      "Epoch 54/200\n",
      "32/32 [==============================] - 0s 2ms/step - loss: 0.6531 - mse: 0.5749 - mae: 0.6531 - mape: 100.8229\n",
      "Epoch 55/200\n",
      "32/32 [==============================] - 0s 2ms/step - loss: 0.6531 - mse: 0.5749 - mae: 0.6531 - mape: 100.8223\n",
      "Epoch 56/200\n",
      "32/32 [==============================] - 0s 2ms/step - loss: 0.6531 - mse: 0.5749 - mae: 0.6531 - mape: 100.7309\n",
      "Epoch 57/200\n",
      "32/32 [==============================] - 0s 2ms/step - loss: 0.6531 - mse: 0.5749 - mae: 0.6531 - mape: 100.5860\n",
      "Epoch 58/200\n",
      "32/32 [==============================] - 0s 2ms/step - loss: 0.6531 - mse: 0.5749 - mae: 0.6531 - mape: 100.5217\n",
      "Epoch 59/200\n",
      "32/32 [==============================] - 0s 2ms/step - loss: 0.6531 - mse: 0.5749 - mae: 0.6531 - mape: 100.4547\n",
      "Epoch 60/200\n",
      "32/32 [==============================] - 0s 2ms/step - loss: 0.6531 - mse: 0.5749 - mae: 0.6531 - mape: 100.6029\n",
      "Epoch 61/200\n",
      "32/32 [==============================] - 0s 2ms/step - loss: 0.6531 - mse: 0.5749 - mae: 0.6531 - mape: 100.6489\n",
      "Epoch 62/200\n",
      "32/32 [==============================] - 0s 2ms/step - loss: 0.6531 - mse: 0.5749 - mae: 0.6531 - mape: 100.5676\n",
      "Epoch 63/200\n",
      "32/32 [==============================] - 0s 2ms/step - loss: 0.6531 - mse: 0.5749 - mae: 0.6531 - mape: 100.5553\n",
      "Epoch 64/200\n",
      "32/32 [==============================] - 0s 2ms/step - loss: 0.6531 - mse: 0.5749 - mae: 0.6531 - mape: 100.8134\n",
      "Epoch 65/200\n",
      "32/32 [==============================] - 0s 2ms/step - loss: 0.6530 - mse: 0.5749 - mae: 0.6530 - mape: 100.7259\n",
      "Epoch 66/200\n"
     ]
    },
    {
     "name": "stdout",
     "output_type": "stream",
     "text": [
      "32/32 [==============================] - 0s 2ms/step - loss: 0.6530 - mse: 0.5749 - mae: 0.6530 - mape: 100.7352\n",
      "Epoch 67/200\n",
      "32/32 [==============================] - 0s 2ms/step - loss: 0.6530 - mse: 0.5749 - mae: 0.6530 - mape: 100.5803\n",
      "Epoch 68/200\n",
      "32/32 [==============================] - 0s 2ms/step - loss: 0.6530 - mse: 0.5749 - mae: 0.6530 - mape: 100.8094\n",
      "Epoch 69/200\n",
      "32/32 [==============================] - 0s 2ms/step - loss: 0.6530 - mse: 0.5749 - mae: 0.6530 - mape: 100.7673\n",
      "Epoch 70/200\n",
      "32/32 [==============================] - 0s 2ms/step - loss: 0.6530 - mse: 0.5749 - mae: 0.6530 - mape: 100.7269\n",
      "Epoch 71/200\n",
      "32/32 [==============================] - 0s 2ms/step - loss: 0.6530 - mse: 0.5749 - mae: 0.6530 - mape: 100.7068\n",
      "Epoch 72/200\n",
      "32/32 [==============================] - 0s 2ms/step - loss: 0.6530 - mse: 0.5748 - mae: 0.6530 - mape: 100.8097\n",
      "Epoch 73/200\n",
      "32/32 [==============================] - 0s 2ms/step - loss: 0.6530 - mse: 0.5748 - mae: 0.6530 - mape: 100.9754\n",
      "Epoch 74/200\n",
      "32/32 [==============================] - 0s 2ms/step - loss: 0.6530 - mse: 0.5748 - mae: 0.6530 - mape: 100.8907\n",
      "Epoch 75/200\n",
      "32/32 [==============================] - 0s 2ms/step - loss: 0.6530 - mse: 0.5748 - mae: 0.6530 - mape: 100.8883\n",
      "Epoch 76/200\n",
      "32/32 [==============================] - 0s 2ms/step - loss: 0.6530 - mse: 0.5748 - mae: 0.6530 - mape: 100.8285\n",
      "Epoch 77/200\n",
      "32/32 [==============================] - 0s 2ms/step - loss: 0.6530 - mse: 0.5748 - mae: 0.6530 - mape: 100.9829\n",
      "Epoch 78/200\n",
      "32/32 [==============================] - 0s 2ms/step - loss: 0.6530 - mse: 0.5748 - mae: 0.6530 - mape: 100.9247\n",
      "Epoch 79/200\n",
      "32/32 [==============================] - 0s 2ms/step - loss: 0.6530 - mse: 0.5748 - mae: 0.6530 - mape: 100.9714\n",
      "Epoch 80/200\n",
      "32/32 [==============================] - 0s 2ms/step - loss: 0.6530 - mse: 0.5748 - mae: 0.6530 - mape: 100.9635\n",
      "Epoch 81/200\n",
      "32/32 [==============================] - 0s 2ms/step - loss: 0.6530 - mse: 0.5748 - mae: 0.6530 - mape: 100.9958\n",
      "Epoch 82/200\n",
      "32/32 [==============================] - 0s 2ms/step - loss: 0.6530 - mse: 0.5748 - mae: 0.6530 - mape: 101.0214\n",
      "Epoch 83/200\n",
      "32/32 [==============================] - 0s 2ms/step - loss: 0.6530 - mse: 0.5748 - mae: 0.6530 - mape: 101.0364\n",
      "Epoch 84/200\n",
      "32/32 [==============================] - 0s 2ms/step - loss: 0.6530 - mse: 0.5748 - mae: 0.6530 - mape: 101.1729\n",
      "Epoch 85/200\n",
      "32/32 [==============================] - 0s 2ms/step - loss: 0.6530 - mse: 0.5748 - mae: 0.6530 - mape: 101.1166\n",
      "Epoch 86/200\n",
      "32/32 [==============================] - 0s 2ms/step - loss: 0.6530 - mse: 0.5748 - mae: 0.6530 - mape: 101.3778\n",
      "Epoch 87/200\n",
      "32/32 [==============================] - 0s 2ms/step - loss: 0.6530 - mse: 0.5748 - mae: 0.6530 - mape: 101.2866\n",
      "Epoch 88/200\n",
      "32/32 [==============================] - 0s 2ms/step - loss: 0.6530 - mse: 0.5748 - mae: 0.6530 - mape: 101.2514\n",
      "Epoch 89/200\n",
      "32/32 [==============================] - 0s 2ms/step - loss: 0.6530 - mse: 0.5747 - mae: 0.6530 - mape: 101.1352\n",
      "Epoch 90/200\n",
      "32/32 [==============================] - 0s 2ms/step - loss: 0.6530 - mse: 0.5748 - mae: 0.6530 - mape: 101.1196\n",
      "Epoch 91/200\n",
      "32/32 [==============================] - 0s 2ms/step - loss: 0.6530 - mse: 0.5747 - mae: 0.6530 - mape: 101.0908\n",
      "Epoch 92/200\n",
      "32/32 [==============================] - 0s 2ms/step - loss: 0.6530 - mse: 0.5747 - mae: 0.6530 - mape: 101.0732\n",
      "Epoch 93/200\n",
      "32/32 [==============================] - 0s 2ms/step - loss: 0.6530 - mse: 0.5747 - mae: 0.6530 - mape: 101.2013\n",
      "Epoch 94/200\n",
      "32/32 [==============================] - 0s 2ms/step - loss: 0.6529 - mse: 0.5747 - mae: 0.6529 - mape: 101.0350\n",
      "Epoch 95/200\n",
      "32/32 [==============================] - 0s 2ms/step - loss: 0.6529 - mse: 0.5747 - mae: 0.6529 - mape: 100.9567\n",
      "Epoch 96/200\n",
      "32/32 [==============================] - 0s 2ms/step - loss: 0.6529 - mse: 0.5747 - mae: 0.6529 - mape: 101.0001\n",
      "Epoch 97/200\n",
      "32/32 [==============================] - 0s 2ms/step - loss: 0.6529 - mse: 0.5747 - mae: 0.6529 - mape: 100.8685\n",
      "Epoch 98/200\n",
      "32/32 [==============================] - 0s 2ms/step - loss: 0.6529 - mse: 0.5747 - mae: 0.6529 - mape: 100.9009\n",
      "Epoch 99/200\n",
      "32/32 [==============================] - 0s 2ms/step - loss: 0.6529 - mse: 0.5747 - mae: 0.6529 - mape: 100.7292\n",
      "Epoch 100/200\n",
      "32/32 [==============================] - 0s 2ms/step - loss: 0.6529 - mse: 0.5747 - mae: 0.6529 - mape: 100.7640\n",
      "Epoch 101/200\n",
      "32/32 [==============================] - 0s 2ms/step - loss: 0.6529 - mse: 0.5747 - mae: 0.6529 - mape: 100.7356\n",
      "Epoch 102/200\n",
      "32/32 [==============================] - 0s 2ms/step - loss: 0.6529 - mse: 0.5747 - mae: 0.6529 - mape: 100.7289\n",
      "Epoch 103/200\n",
      "32/32 [==============================] - 0s 3ms/step - loss: 0.6529 - mse: 0.5747 - mae: 0.6529 - mape: 100.7239\n",
      "Epoch 104/200\n",
      "32/32 [==============================] - 0s 3ms/step - loss: 0.6529 - mse: 0.5747 - mae: 0.6529 - mape: 100.6568\n",
      "Epoch 105/200\n",
      "32/32 [==============================] - 0s 2ms/step - loss: 0.6529 - mse: 0.5747 - mae: 0.6529 - mape: 100.6095\n",
      "Epoch 106/200\n",
      "32/32 [==============================] - 0s 2ms/step - loss: 0.6529 - mse: 0.5747 - mae: 0.6529 - mape: 100.5611\n",
      "Epoch 107/200\n",
      "32/32 [==============================] - 0s 2ms/step - loss: 0.6529 - mse: 0.5747 - mae: 0.6529 - mape: 100.6108\n",
      "Epoch 108/200\n",
      "32/32 [==============================] - 0s 2ms/step - loss: 0.6529 - mse: 0.5747 - mae: 0.6529 - mape: 100.5960\n",
      "Epoch 109/200\n",
      "32/32 [==============================] - 0s 2ms/step - loss: 0.6529 - mse: 0.5747 - mae: 0.6529 - mape: 100.6782\n",
      "Epoch 110/200\n",
      "32/32 [==============================] - 0s 2ms/step - loss: 0.6529 - mse: 0.5747 - mae: 0.6529 - mape: 100.9115\n",
      "Epoch 111/200\n",
      "32/32 [==============================] - 0s 2ms/step - loss: 0.6529 - mse: 0.5747 - mae: 0.6529 - mape: 100.7472\n",
      "Epoch 112/200\n",
      "32/32 [==============================] - 0s 2ms/step - loss: 0.6529 - mse: 0.5747 - mae: 0.6529 - mape: 100.7244\n",
      "Epoch 113/200\n",
      "32/32 [==============================] - 0s 2ms/step - loss: 0.6529 - mse: 0.5747 - mae: 0.6529 - mape: 100.7083\n",
      "Epoch 114/200\n",
      "32/32 [==============================] - 0s 2ms/step - loss: 0.6529 - mse: 0.5746 - mae: 0.6529 - mape: 100.9630\n",
      "Epoch 115/200\n",
      "32/32 [==============================] - 0s 2ms/step - loss: 0.6529 - mse: 0.5746 - mae: 0.6529 - mape: 101.0505\n",
      "Epoch 116/200\n",
      "32/32 [==============================] - 0s 3ms/step - loss: 0.6529 - mse: 0.5746 - mae: 0.6529 - mape: 101.1875\n",
      "Epoch 117/200\n",
      "32/32 [==============================] - 0s 2ms/step - loss: 0.6529 - mse: 0.5746 - mae: 0.6529 - mape: 101.2832\n",
      "Epoch 118/200\n",
      "32/32 [==============================] - 0s 2ms/step - loss: 0.6529 - mse: 0.5746 - mae: 0.6529 - mape: 101.0785\n",
      "Epoch 119/200\n",
      "32/32 [==============================] - 0s 2ms/step - loss: 0.6529 - mse: 0.5746 - mae: 0.6529 - mape: 101.1511\n",
      "Epoch 120/200\n",
      "32/32 [==============================] - 0s 2ms/step - loss: 0.6529 - mse: 0.5746 - mae: 0.6529 - mape: 101.2448\n",
      "Epoch 121/200\n",
      "32/32 [==============================] - 0s 3ms/step - loss: 0.6529 - mse: 0.5746 - mae: 0.6529 - mape: 101.3180\n",
      "Epoch 122/200\n",
      "32/32 [==============================] - 0s 2ms/step - loss: 0.6529 - mse: 0.5746 - mae: 0.6529 - mape: 101.1758\n",
      "Epoch 123/200\n",
      "32/32 [==============================] - 0s 2ms/step - loss: 0.6529 - mse: 0.5746 - mae: 0.6529 - mape: 101.0692\n",
      "Epoch 124/200\n",
      "32/32 [==============================] - 0s 2ms/step - loss: 0.6528 - mse: 0.5746 - mae: 0.6528 - mape: 101.0928\n",
      "Epoch 125/200\n",
      "32/32 [==============================] - 0s 2ms/step - loss: 0.6528 - mse: 0.5746 - mae: 0.6528 - mape: 101.0788\n",
      "Epoch 126/200\n",
      "32/32 [==============================] - 0s 2ms/step - loss: 0.6528 - mse: 0.5746 - mae: 0.6528 - mape: 101.0196\n",
      "Epoch 127/200\n",
      "32/32 [==============================] - 0s 4ms/step - loss: 0.6528 - mse: 0.5746 - mae: 0.6528 - mape: 101.2303\n",
      "Epoch 128/200\n",
      "32/32 [==============================] - 0s 5ms/step - loss: 0.6528 - mse: 0.5746 - mae: 0.6528 - mape: 101.1463\n",
      "Epoch 129/200\n",
      "32/32 [==============================] - 0s 4ms/step - loss: 0.6528 - mse: 0.5746 - mae: 0.6528 - mape: 100.9347\n",
      "Epoch 130/200\n"
     ]
    },
    {
     "name": "stdout",
     "output_type": "stream",
     "text": [
      "32/32 [==============================] - 0s 5ms/step - loss: 0.6528 - mse: 0.5746 - mae: 0.6528 - mape: 100.9248\n",
      "Epoch 131/200\n",
      "32/32 [==============================] - 0s 3ms/step - loss: 0.6528 - mse: 0.5746 - mae: 0.6528 - mape: 101.0110\n",
      "Epoch 132/200\n",
      "32/32 [==============================] - 0s 2ms/step - loss: 0.6528 - mse: 0.5746 - mae: 0.6528 - mape: 101.1416\n",
      "Epoch 133/200\n",
      "32/32 [==============================] - 0s 2ms/step - loss: 0.6528 - mse: 0.5746 - mae: 0.6528 - mape: 100.9548\n",
      "Epoch 134/200\n",
      "32/32 [==============================] - 0s 2ms/step - loss: 0.6528 - mse: 0.5746 - mae: 0.6528 - mape: 100.9518\n",
      "Epoch 135/200\n",
      "32/32 [==============================] - 0s 2ms/step - loss: 0.6528 - mse: 0.5746 - mae: 0.6528 - mape: 100.9408\n",
      "Epoch 136/200\n",
      "32/32 [==============================] - 0s 2ms/step - loss: 0.6528 - mse: 0.5746 - mae: 0.6528 - mape: 100.8397\n",
      "Epoch 137/200\n",
      "32/32 [==============================] - 0s 2ms/step - loss: 0.6528 - mse: 0.5745 - mae: 0.6528 - mape: 101.2127\n",
      "Epoch 138/200\n",
      "32/32 [==============================] - 0s 2ms/step - loss: 0.6528 - mse: 0.5745 - mae: 0.6528 - mape: 101.3085\n",
      "Epoch 139/200\n",
      "32/32 [==============================] - 0s 2ms/step - loss: 0.6528 - mse: 0.5745 - mae: 0.6528 - mape: 101.1421\n",
      "Epoch 140/200\n",
      "32/32 [==============================] - 0s 2ms/step - loss: 0.6528 - mse: 0.5745 - mae: 0.6528 - mape: 101.2119\n",
      "Epoch 141/200\n",
      "32/32 [==============================] - 0s 2ms/step - loss: 0.6528 - mse: 0.5745 - mae: 0.6528 - mape: 101.0641\n",
      "Epoch 142/200\n",
      "32/32 [==============================] - 0s 2ms/step - loss: 0.6528 - mse: 0.5745 - mae: 0.6528 - mape: 101.2109\n",
      "Epoch 143/200\n",
      "32/32 [==============================] - 0s 2ms/step - loss: 0.6528 - mse: 0.5745 - mae: 0.6528 - mape: 101.3938\n",
      "Epoch 144/200\n",
      "32/32 [==============================] - 0s 2ms/step - loss: 0.6528 - mse: 0.5745 - mae: 0.6528 - mape: 101.3802\n",
      "Epoch 145/200\n",
      "32/32 [==============================] - 0s 2ms/step - loss: 0.6528 - mse: 0.5745 - mae: 0.6528 - mape: 101.2493\n",
      "Epoch 146/200\n",
      "32/32 [==============================] - 0s 2ms/step - loss: 0.6528 - mse: 0.5745 - mae: 0.6528 - mape: 101.4042\n",
      "Epoch 147/200\n",
      "32/32 [==============================] - 0s 2ms/step - loss: 0.6528 - mse: 0.5745 - mae: 0.6528 - mape: 101.5070\n",
      "Epoch 148/200\n",
      "32/32 [==============================] - 0s 2ms/step - loss: 0.6528 - mse: 0.5745 - mae: 0.6528 - mape: 101.5632\n",
      "Epoch 149/200\n",
      "32/32 [==============================] - 0s 2ms/step - loss: 0.6528 - mse: 0.5744 - mae: 0.6528 - mape: 101.5371\n",
      "Epoch 150/200\n",
      "32/32 [==============================] - 0s 2ms/step - loss: 0.6528 - mse: 0.5744 - mae: 0.6528 - mape: 101.6567\n",
      "Epoch 151/200\n",
      "32/32 [==============================] - 0s 2ms/step - loss: 0.6528 - mse: 0.5744 - mae: 0.6528 - mape: 101.6303\n",
      "Epoch 152/200\n",
      "32/32 [==============================] - 0s 2ms/step - loss: 0.6528 - mse: 0.5744 - mae: 0.6528 - mape: 101.7735\n",
      "Epoch 153/200\n",
      "32/32 [==============================] - 0s 2ms/step - loss: 0.6528 - mse: 0.5744 - mae: 0.6528 - mape: 101.9973\n",
      "Epoch 154/200\n",
      "32/32 [==============================] - 0s 2ms/step - loss: 0.6527 - mse: 0.5744 - mae: 0.6527 - mape: 102.0122\n",
      "Epoch 155/200\n",
      "32/32 [==============================] - 0s 2ms/step - loss: 0.6527 - mse: 0.5744 - mae: 0.6527 - mape: 101.7260\n",
      "Epoch 156/200\n",
      "32/32 [==============================] - 0s 2ms/step - loss: 0.6527 - mse: 0.5744 - mae: 0.6527 - mape: 101.7002\n",
      "Epoch 157/200\n",
      "32/32 [==============================] - 0s 2ms/step - loss: 0.6527 - mse: 0.5744 - mae: 0.6527 - mape: 101.7144\n",
      "Epoch 158/200\n",
      "32/32 [==============================] - 0s 2ms/step - loss: 0.6527 - mse: 0.5744 - mae: 0.6527 - mape: 101.6381\n",
      "Epoch 159/200\n",
      "32/32 [==============================] - 0s 2ms/step - loss: 0.6527 - mse: 0.5744 - mae: 0.6527 - mape: 101.6174\n",
      "Epoch 160/200\n",
      "32/32 [==============================] - 0s 2ms/step - loss: 0.6527 - mse: 0.5744 - mae: 0.6527 - mape: 101.4016\n",
      "Epoch 161/200\n",
      "32/32 [==============================] - 0s 2ms/step - loss: 0.6527 - mse: 0.5744 - mae: 0.6527 - mape: 101.4531\n",
      "Epoch 162/200\n",
      "32/32 [==============================] - 0s 2ms/step - loss: 0.6527 - mse: 0.5744 - mae: 0.6527 - mape: 101.5962\n",
      "Epoch 163/200\n",
      "32/32 [==============================] - 0s 2ms/step - loss: 0.6527 - mse: 0.5744 - mae: 0.6527 - mape: 101.6718\n",
      "Epoch 164/200\n",
      "32/32 [==============================] - 0s 2ms/step - loss: 0.6527 - mse: 0.5744 - mae: 0.6527 - mape: 101.7906\n",
      "Epoch 165/200\n",
      "32/32 [==============================] - 0s 2ms/step - loss: 0.6527 - mse: 0.5744 - mae: 0.6527 - mape: 101.6589\n",
      "Epoch 166/200\n",
      "32/32 [==============================] - 0s 2ms/step - loss: 0.6527 - mse: 0.5744 - mae: 0.6527 - mape: 101.4936\n",
      "Epoch 167/200\n",
      "32/32 [==============================] - 0s 2ms/step - loss: 0.6527 - mse: 0.5744 - mae: 0.6527 - mape: 101.3232\n",
      "Epoch 168/200\n",
      "32/32 [==============================] - 0s 2ms/step - loss: 0.6527 - mse: 0.5744 - mae: 0.6527 - mape: 101.3243\n",
      "Epoch 169/200\n",
      "32/32 [==============================] - 0s 2ms/step - loss: 0.6527 - mse: 0.5744 - mae: 0.6527 - mape: 101.3190\n",
      "Epoch 170/200\n",
      "32/32 [==============================] - 0s 2ms/step - loss: 0.6527 - mse: 0.5744 - mae: 0.6527 - mape: 101.2080\n",
      "Epoch 171/200\n",
      "32/32 [==============================] - 0s 2ms/step - loss: 0.6527 - mse: 0.5744 - mae: 0.6527 - mape: 101.2003\n",
      "Epoch 172/200\n",
      "32/32 [==============================] - 0s 2ms/step - loss: 0.6527 - mse: 0.5744 - mae: 0.6527 - mape: 101.3528\n",
      "Epoch 173/200\n",
      "32/32 [==============================] - 0s 2ms/step - loss: 0.6527 - mse: 0.5744 - mae: 0.6527 - mape: 101.2818\n",
      "Epoch 174/200\n",
      "32/32 [==============================] - 0s 2ms/step - loss: 0.6527 - mse: 0.5743 - mae: 0.6527 - mape: 101.2931\n",
      "Epoch 175/200\n",
      "32/32 [==============================] - 0s 2ms/step - loss: 0.6527 - mse: 0.5743 - mae: 0.6527 - mape: 101.2912\n",
      "Epoch 176/200\n",
      "32/32 [==============================] - 0s 2ms/step - loss: 0.6527 - mse: 0.5743 - mae: 0.6527 - mape: 101.1710\n",
      "Epoch 177/200\n",
      "32/32 [==============================] - 0s 2ms/step - loss: 0.6527 - mse: 0.5743 - mae: 0.6527 - mape: 101.3009\n",
      "Epoch 178/200\n",
      "32/32 [==============================] - 0s 2ms/step - loss: 0.6527 - mse: 0.5743 - mae: 0.6527 - mape: 101.2985\n",
      "Epoch 179/200\n",
      "32/32 [==============================] - 0s 2ms/step - loss: 0.6527 - mse: 0.5743 - mae: 0.6527 - mape: 101.1815\n",
      "Epoch 180/200\n",
      "32/32 [==============================] - 0s 2ms/step - loss: 0.6527 - mse: 0.5743 - mae: 0.6527 - mape: 101.2182\n",
      "Epoch 181/200\n",
      "32/32 [==============================] - 0s 2ms/step - loss: 0.6527 - mse: 0.5743 - mae: 0.6527 - mape: 101.2670\n",
      "Epoch 182/200\n",
      "32/32 [==============================] - 0s 2ms/step - loss: 0.6527 - mse: 0.5743 - mae: 0.6527 - mape: 101.3260\n",
      "Epoch 183/200\n",
      "32/32 [==============================] - 0s 2ms/step - loss: 0.6527 - mse: 0.5743 - mae: 0.6527 - mape: 101.5878\n",
      "Epoch 184/200\n",
      "32/32 [==============================] - 0s 2ms/step - loss: 0.6527 - mse: 0.5743 - mae: 0.6527 - mape: 101.5459\n",
      "Epoch 185/200\n",
      "32/32 [==============================] - 0s 2ms/step - loss: 0.6526 - mse: 0.5743 - mae: 0.6526 - mape: 101.5984\n",
      "Epoch 186/200\n",
      "32/32 [==============================] - 0s 2ms/step - loss: 0.6526 - mse: 0.5743 - mae: 0.6526 - mape: 101.5671\n",
      "Epoch 187/200\n",
      "32/32 [==============================] - 0s 2ms/step - loss: 0.6526 - mse: 0.5743 - mae: 0.6526 - mape: 101.7282\n",
      "Epoch 188/200\n",
      "32/32 [==============================] - 0s 2ms/step - loss: 0.6526 - mse: 0.5743 - mae: 0.6526 - mape: 101.6229\n",
      "Epoch 189/200\n",
      "32/32 [==============================] - 0s 2ms/step - loss: 0.6526 - mse: 0.5743 - mae: 0.6526 - mape: 101.4369\n",
      "Epoch 190/200\n",
      "32/32 [==============================] - 0s 2ms/step - loss: 0.6526 - mse: 0.5743 - mae: 0.6526 - mape: 101.5425\n",
      "Epoch 191/200\n",
      "32/32 [==============================] - 0s 2ms/step - loss: 0.6526 - mse: 0.5742 - mae: 0.6526 - mape: 101.8044\n",
      "Epoch 192/200\n",
      "32/32 [==============================] - 0s 2ms/step - loss: 0.6526 - mse: 0.5742 - mae: 0.6526 - mape: 101.6400\n",
      "Epoch 193/200\n",
      "32/32 [==============================] - 0s 2ms/step - loss: 0.6526 - mse: 0.5742 - mae: 0.6526 - mape: 101.6572\n",
      "Epoch 194/200\n"
     ]
    },
    {
     "name": "stdout",
     "output_type": "stream",
     "text": [
      "32/32 [==============================] - 0s 2ms/step - loss: 0.6526 - mse: 0.5742 - mae: 0.6526 - mape: 101.6745\n",
      "Epoch 195/200\n",
      "32/32 [==============================] - 0s 2ms/step - loss: 0.6526 - mse: 0.5742 - mae: 0.6526 - mape: 101.8021\n",
      "Epoch 196/200\n",
      "32/32 [==============================] - 0s 2ms/step - loss: 0.6526 - mse: 0.5742 - mae: 0.6526 - mape: 101.8227\n",
      "Epoch 197/200\n",
      "32/32 [==============================] - 0s 2ms/step - loss: 0.6526 - mse: 0.5742 - mae: 0.6526 - mape: 101.7365\n",
      "Epoch 198/200\n",
      "32/32 [==============================] - 0s 2ms/step - loss: 0.6526 - mse: 0.5742 - mae: 0.6526 - mape: 101.7659\n",
      "Epoch 199/200\n",
      "32/32 [==============================] - 0s 2ms/step - loss: 0.6526 - mse: 0.5742 - mae: 0.6526 - mape: 101.9418\n",
      "Epoch 200/200\n",
      "32/32 [==============================] - 0s 2ms/step - loss: 0.6526 - mse: 0.5742 - mae: 0.6526 - mape: 101.8812\n",
      "32/32 [==============================] - 0s 732us/step\n",
      "7/7 [==============================] - 0s 886us/step\n"
     ]
    },
    {
     "name": "stderr",
     "output_type": "stream",
     "text": [
      "\r",
      "  0%|          | 0/1000 [00:00<?, ?it/s]"
     ]
    },
    {
     "name": "stdout",
     "output_type": "stream",
     "text": [
      "#------------#\n",
      " Get Error(s) \n",
      "#------------#\n"
     ]
    },
    {
     "name": "stderr",
     "output_type": "stream",
     "text": [
      "100%|██████████| 1000/1000 [01:47<00:00,  9.34it/s]\n",
      "  0%|          | 1/200 [00:00<00:20,  9.83it/s]"
     ]
    },
    {
     "name": "stdout",
     "output_type": "stream",
     "text": [
      "#-----------------#\n",
      " Get Error(s): END \n",
      "#-----------------#\n",
      "#------------#\n",
      " Get Error(s) \n",
      "#------------#\n"
     ]
    },
    {
     "name": "stderr",
     "output_type": "stream",
     "text": [
      "100%|██████████| 200/200 [00:21<00:00,  9.34it/s]\n"
     ]
    },
    {
     "name": "stdout",
     "output_type": "stream",
     "text": [
      "#-----------------#\n",
      " Get Error(s): END \n",
      "#-----------------#\n",
      "-----------------------\n",
      "Computing Error Metrics\n",
      "-----------------------\n"
     ]
    }
   ],
   "source": [
    "exec(open('CV_Grid.py').read())\n",
    "# Notebook Mode:\n",
    "# %run Evaluation.ipynb\n",
    "# %run Benchmarks_Model_Builder_Pointmass_Based.ipynb\n",
    "# Terminal Mode (Default):\n",
    "exec(open('Evaluation.py').read())\n",
    "exec(open('Benchmarks_Model_Builder_Pointmass_Based.py').read())"
   ]
  },
  {
   "cell_type": "markdown",
   "metadata": {},
   "source": [
    "# Summary of Point-Mass Regression Models"
   ]
  },
  {
   "cell_type": "markdown",
   "metadata": {},
   "source": [
    "#### Training Model Facts"
   ]
  },
  {
   "cell_type": "code",
   "execution_count": 11,
   "metadata": {},
   "outputs": [
    {
     "name": "stdout",
     "output_type": "stream",
     "text": [
      "                   ENET         kRidge           GBRF           ffNN\n",
      "W1           106.985520     107.294094     106.987811     106.985018\n",
      "Mean      147516.058541  147516.034110  147516.057724  147516.069904\n",
      "Var          106.182463     106.182463     106.182463     106.182463\n",
      "Skewness       0.000000       0.000000       0.000000       0.000000\n",
      "Ex_Kur         6.000000       6.000000       6.000000       6.000000\n"
     ]
    },
    {
     "data": {
      "text/html": [
       "<div>\n",
       "<style scoped>\n",
       "    .dataframe tbody tr th:only-of-type {\n",
       "        vertical-align: middle;\n",
       "    }\n",
       "\n",
       "    .dataframe tbody tr th {\n",
       "        vertical-align: top;\n",
       "    }\n",
       "\n",
       "    .dataframe thead th {\n",
       "        text-align: right;\n",
       "    }\n",
       "</style>\n",
       "<table border=\"1\" class=\"dataframe\">\n",
       "  <thead>\n",
       "    <tr style=\"text-align: right;\">\n",
       "      <th></th>\n",
       "      <th>ENET</th>\n",
       "      <th>kRidge</th>\n",
       "      <th>GBRF</th>\n",
       "      <th>ffNN</th>\n",
       "    </tr>\n",
       "  </thead>\n",
       "  <tbody>\n",
       "    <tr>\n",
       "      <th>W1</th>\n",
       "      <td>106.985520</td>\n",
       "      <td>107.294094</td>\n",
       "      <td>106.987811</td>\n",
       "      <td>106.985018</td>\n",
       "    </tr>\n",
       "    <tr>\n",
       "      <th>Mean</th>\n",
       "      <td>147516.058541</td>\n",
       "      <td>147516.034110</td>\n",
       "      <td>147516.057724</td>\n",
       "      <td>147516.069904</td>\n",
       "    </tr>\n",
       "    <tr>\n",
       "      <th>Var</th>\n",
       "      <td>106.182463</td>\n",
       "      <td>106.182463</td>\n",
       "      <td>106.182463</td>\n",
       "      <td>106.182463</td>\n",
       "    </tr>\n",
       "    <tr>\n",
       "      <th>Skewness</th>\n",
       "      <td>0.000000</td>\n",
       "      <td>0.000000</td>\n",
       "      <td>0.000000</td>\n",
       "      <td>0.000000</td>\n",
       "    </tr>\n",
       "    <tr>\n",
       "      <th>Ex_Kur</th>\n",
       "      <td>6.000000</td>\n",
       "      <td>6.000000</td>\n",
       "      <td>6.000000</td>\n",
       "      <td>6.000000</td>\n",
       "    </tr>\n",
       "  </tbody>\n",
       "</table>\n",
       "</div>"
      ],
      "text/plain": [
       "                   ENET         kRidge           GBRF           ffNN\n",
       "W1           106.985520     107.294094     106.987811     106.985018\n",
       "Mean      147516.058541  147516.034110  147516.057724  147516.069904\n",
       "Var          106.182463     106.182463     106.182463     106.182463\n",
       "Skewness       0.000000       0.000000       0.000000       0.000000\n",
       "Ex_Kur         6.000000       6.000000       6.000000       6.000000"
      ]
     },
     "execution_count": 11,
     "metadata": {},
     "output_type": "execute_result"
    }
   ],
   "source": [
    "print(Summary_pred_Qual_models)\n",
    "Summary_pred_Qual_models"
   ]
  },
  {
   "cell_type": "markdown",
   "metadata": {},
   "source": [
    "#### Testing Model Facts"
   ]
  },
  {
   "cell_type": "code",
   "execution_count": 12,
   "metadata": {},
   "outputs": [
    {
     "name": "stdout",
     "output_type": "stream",
     "text": [
      "                   ENET         kRidge           GBRF           ffNN\n",
      "W1           108.468255     107.898307     108.461199     108.472491\n",
      "Mean      142948.370517  142948.372465  142948.370525  142948.382216\n",
      "Var          108.388589     108.388589     108.388589     108.388589\n",
      "Skewness       0.000000       0.000000       0.000000       0.000000\n",
      "Ex_Kur         6.000000       6.000000       6.000000       6.000000\n"
     ]
    }
   ],
   "source": [
    "print(Summary_pred_Qual_models_test)\n",
    "Summary_pred_Qual_models_test"
   ]
  },
  {
   "cell_type": "markdown",
   "metadata": {},
   "source": [
    "#### Model Complexitie(s)"
   ]
  },
  {
   "cell_type": "code",
   "execution_count": 13,
   "metadata": {
    "scrolled": true
   },
   "outputs": [
    {
     "name": "stdout",
     "output_type": "stream",
     "text": [
      "        N_Params      T_Time  T_Test/T_test-MC\n",
      "ENET         100  138.605759          0.006539\n",
      "GBRF     2780900  211.614352          0.016204\n",
      "kRidge       106  121.182766          0.056722\n",
      "ffNN       90801  262.980778          0.103619\n"
     ]
    }
   ],
   "source": [
    "print(Summary_Complexity_models)\n",
    "Summary_Complexity_models"
   ]
  },
  {
   "cell_type": "markdown",
   "metadata": {},
   "source": [
    "## 2) *Gaussian Benchmarks*"
   ]
  },
  {
   "cell_type": "markdown",
   "metadata": {},
   "source": [
    "- Bencharm 1: [Gaussian Process Regressor](https://scikit-learn.org/stable/modules/gaussian_process.html)\n",
    "- Benchmark 2: Deep Gaussian Networks:\n",
    "These models train models which assume Gaussianity.  We may view these as models in $\\mathcal{P}_2(\\mathbb{R})$ via:\n",
    "$$\n",
    "\\mathbb{R}^d \\ni x \\to (\\hat{\\mu}(x),\\hat{\\sigma}(x))\\triangleq f(x) \\in \\mathbb{R}\\times [0,\\infty) \\to \\frac1{\\hat{\\sigma}(x)\\sqrt{2\\pi}}\\exp\\left(\\frac{-(\\cdot-\\hat{\\mu}(x))^2}{\\hat{\\sigma(x)}^2}\\right) \\in \\mathcal{G}_1\\subset \\mathcal{P}_2(\\mathbb{R});\n",
    "$$\n",
    "where $\\mathcal{G}_1$ is the set of Gaussian measures on $\\mathbb{R}$ equipped with the relative Wasserstein-1 topology."
   ]
  },
  {
   "cell_type": "code",
   "execution_count": 14,
   "metadata": {},
   "outputs": [
    {
     "name": "stdout",
     "output_type": "stream",
     "text": [
      "Deep Feature Builder - Ready\n",
      "Deep Feature Builder - Ready\n",
      "Fitting 2 folds for each of 5 candidates, totalling 10 fits\n"
     ]
    },
    {
     "name": "stderr",
     "output_type": "stream",
     "text": [
      "[Parallel(n_jobs=4)]: Using backend LokyBackend with 4 concurrent workers.\n",
      "[Parallel(n_jobs=4)]: Done   5 out of  10 | elapsed:    6.5s remaining:    6.5s\n",
      "[Parallel(n_jobs=4)]: Done   7 out of  10 | elapsed:   19.8s remaining:    8.5s\n",
      "[Parallel(n_jobs=4)]: Done  10 out of  10 | elapsed:   24.8s finished\n",
      "  0%|          | 2/1000 [00:00<00:51, 19.52it/s]"
     ]
    },
    {
     "name": "stdout",
     "output_type": "stream",
     "text": [
      "Infering Parameters for Deep Gaussian Network to train on!\n"
     ]
    },
    {
     "name": "stderr",
     "output_type": "stream",
     "text": [
      "100%|██████████| 1000/1000 [00:23<00:00, 42.85it/s]\n",
      "[Parallel(n_jobs=4)]: Using backend LokyBackend with 4 concurrent workers.\n"
     ]
    },
    {
     "name": "stdout",
     "output_type": "stream",
     "text": [
      "Done Getting Parameters for Deep Gaussian Network!\n",
      "===============================\n",
      "Training Deep Gaussian Network!\n",
      "===============================\n",
      "Fitting 4 folds for each of 5 candidates, totalling 20 fits\n"
     ]
    },
    {
     "name": "stderr",
     "output_type": "stream",
     "text": [
      "[Parallel(n_jobs=4)]: Done   5 tasks      | elapsed:   48.7s\n",
      "[Parallel(n_jobs=4)]: Done  10 tasks      | elapsed:  1.2min\n",
      "[Parallel(n_jobs=4)]: Done  16 out of  20 | elapsed:  1.6min remaining:   24.6s\n",
      "[Parallel(n_jobs=4)]: Done  20 out of  20 | elapsed:  2.1min finished\n"
     ]
    },
    {
     "name": "stdout",
     "output_type": "stream",
     "text": [
      "Epoch 1/200\n",
      "32/32 [==============================] - 0s 4ms/step - loss: 4.9705 - mse: 43.5369 - mae: 4.9705 - mape: 121.8903\n",
      "Epoch 2/200\n",
      "32/32 [==============================] - 0s 5ms/step - loss: 4.9536 - mse: 43.2087 - mae: 4.9536 - mape: 132.1487\n",
      "Epoch 3/200\n",
      "32/32 [==============================] - 0s 5ms/step - loss: 4.9353 - mse: 42.8351 - mae: 4.9353 - mape: 144.4169\n",
      "Epoch 4/200\n",
      "32/32 [==============================] - 0s 4ms/step - loss: 4.9136 - mse: 42.4062 - mae: 4.9136 - mape: 161.2774\n",
      "Epoch 5/200\n",
      "32/32 [==============================] - 0s 4ms/step - loss: 4.8877 - mse: 41.8779 - mae: 4.8877 - mape: 178.0145\n",
      "Epoch 6/200\n",
      "32/32 [==============================] - 0s 3ms/step - loss: 4.8559 - mse: 41.2025 - mae: 4.8559 - mape: 203.9143\n",
      "Epoch 7/200\n",
      "32/32 [==============================] - 0s 2ms/step - loss: 4.8152 - mse: 40.3298 - mae: 4.8152 - mape: 228.6867\n",
      "Epoch 8/200\n",
      "32/32 [==============================] - 0s 3ms/step - loss: 4.7632 - mse: 39.1809 - mae: 4.7632 - mape: 261.6109\n",
      "Epoch 9/200\n",
      "32/32 [==============================] - 0s 3ms/step - loss: 4.6923 - mse: 37.6279 - mae: 4.6923 - mape: 304.1197\n",
      "Epoch 10/200\n",
      "32/32 [==============================] - 0s 3ms/step - loss: 4.5899 - mse: 35.3960 - mae: 4.5899 - mape: 372.9336\n",
      "Epoch 11/200\n",
      "32/32 [==============================] - 0s 2ms/step - loss: 4.4310 - mse: 31.9718 - mae: 4.4310 - mape: 467.7460\n",
      "Epoch 12/200\n",
      "32/32 [==============================] - 0s 4ms/step - loss: 4.1525 - mse: 26.4568 - mae: 4.1525 - mape: 549.1708\n",
      "Epoch 13/200\n",
      "32/32 [==============================] - 0s 3ms/step - loss: 3.5389 - mse: 17.0319 - mae: 3.5389 - mape: 781.3226\n",
      "Epoch 14/200\n",
      "32/32 [==============================] - 0s 4ms/step - loss: 2.0221 - mse: 5.2485 - mae: 2.0221 - mape: 945.3478\n",
      "Epoch 15/200\n",
      "32/32 [==============================] - 0s 5ms/step - loss: 1.4829 - mse: 3.2963 - mae: 1.4829 - mape: 1058.5120\n",
      "Epoch 16/200\n",
      "32/32 [==============================] - 0s 5ms/step - loss: 1.4727 - mse: 3.2811 - mae: 1.4727 - mape: 1062.8007\n",
      "Epoch 17/200\n",
      "32/32 [==============================] - 0s 4ms/step - loss: 1.4718 - mse: 3.2686 - mae: 1.4718 - mape: 1059.6650\n",
      "Epoch 18/200\n",
      "32/32 [==============================] - 0s 5ms/step - loss: 1.4668 - mse: 3.2735 - mae: 1.4668 - mape: 1062.4673\n",
      "Epoch 19/200\n",
      "32/32 [==============================] - 0s 5ms/step - loss: 1.4663 - mse: 3.2621 - mae: 1.4663 - mape: 1059.8893\n",
      "Epoch 20/200\n",
      "32/32 [==============================] - 0s 4ms/step - loss: 1.4625 - mse: 3.2567 - mae: 1.4625 - mape: 1062.6896\n",
      "Epoch 21/200\n",
      "32/32 [==============================] - 0s 4ms/step - loss: 1.4594 - mse: 3.2543 - mae: 1.4594 - mape: 1061.5674\n",
      "Epoch 22/200\n",
      "32/32 [==============================] - 0s 4ms/step - loss: 1.4569 - mse: 3.2499 - mae: 1.4569 - mape: 1063.3807\n",
      "Epoch 23/200\n",
      "32/32 [==============================] - 0s 5ms/step - loss: 1.4565 - mse: 3.2425 - mae: 1.4565 - mape: 1060.3495\n",
      "Epoch 24/200\n",
      "32/32 [==============================] - 0s 4ms/step - loss: 1.4521 - mse: 3.2433 - mae: 1.4521 - mape: 1062.0873\n",
      "Epoch 25/200\n",
      "32/32 [==============================] - 0s 4ms/step - loss: 1.4488 - mse: 3.2335 - mae: 1.4488 - mape: 1062.4935\n",
      "Epoch 26/200\n",
      "32/32 [==============================] - 0s 4ms/step - loss: 1.4460 - mse: 3.2321 - mae: 1.4460 - mape: 1062.4592\n",
      "Epoch 27/200\n",
      "32/32 [==============================] - 0s 3ms/step - loss: 1.4440 - mse: 3.2282 - mae: 1.4440 - mape: 1063.8174\n",
      "Epoch 28/200\n",
      "32/32 [==============================] - 0s 2ms/step - loss: 1.4412 - mse: 3.2259 - mae: 1.4412 - mape: 1062.2260\n",
      "Epoch 29/200\n",
      "32/32 [==============================] - 0s 3ms/step - loss: 1.4392 - mse: 3.2183 - mae: 1.4392 - mape: 1061.8491\n",
      "Epoch 30/200\n",
      "32/32 [==============================] - 0s 2ms/step - loss: 1.4385 - mse: 3.2127 - mae: 1.4385 - mape: 1062.5667\n",
      "Epoch 31/200\n",
      "32/32 [==============================] - 0s 3ms/step - loss: 1.4341 - mse: 3.2111 - mae: 1.4341 - mape: 1063.5544\n",
      "Epoch 32/200\n",
      "32/32 [==============================] - 0s 4ms/step - loss: 1.4319 - mse: 3.2095 - mae: 1.4319 - mape: 1063.1516\n",
      "Epoch 33/200\n",
      "32/32 [==============================] - 0s 4ms/step - loss: 1.4307 - mse: 3.2098 - mae: 1.4307 - mape: 1065.2765\n",
      "Epoch 34/200\n",
      "32/32 [==============================] - 0s 3ms/step - loss: 1.4289 - mse: 3.1969 - mae: 1.4289 - mape: 1060.7970\n",
      "Epoch 35/200\n",
      "32/32 [==============================] - 0s 3ms/step - loss: 1.4240 - mse: 3.1896 - mae: 1.4240 - mape: 1064.2036\n",
      "Epoch 36/200\n",
      "32/32 [==============================] - 0s 3ms/step - loss: 1.4239 - mse: 3.1936 - mae: 1.4239 - mape: 1062.7852\n",
      "Epoch 37/200\n",
      "32/32 [==============================] - 0s 3ms/step - loss: 1.4211 - mse: 3.1883 - mae: 1.4211 - mape: 1064.4347\n",
      "Epoch 38/200\n",
      "32/32 [==============================] - 0s 3ms/step - loss: 1.4179 - mse: 3.1846 - mae: 1.4179 - mape: 1064.3201\n",
      "Epoch 39/200\n",
      "32/32 [==============================] - 0s 3ms/step - loss: 1.4162 - mse: 3.1778 - mae: 1.4162 - mape: 1061.8666\n",
      "Epoch 40/200\n",
      "32/32 [==============================] - 0s 3ms/step - loss: 1.4138 - mse: 3.1776 - mae: 1.4138 - mape: 1063.2260\n",
      "Epoch 41/200\n",
      "32/32 [==============================] - 0s 3ms/step - loss: 1.4108 - mse: 3.1700 - mae: 1.4108 - mape: 1063.2042\n",
      "Epoch 42/200\n",
      "32/32 [==============================] - 0s 2ms/step - loss: 1.4094 - mse: 3.1716 - mae: 1.4094 - mape: 1065.6829\n",
      "Epoch 43/200\n",
      "32/32 [==============================] - 0s 2ms/step - loss: 1.4099 - mse: 3.1721 - mae: 1.4099 - mape: 1062.8600\n",
      "Epoch 44/200\n",
      "32/32 [==============================] - 0s 2ms/step - loss: 1.4066 - mse: 3.1674 - mae: 1.4066 - mape: 1064.7671\n",
      "Epoch 45/200\n",
      "32/32 [==============================] - 0s 2ms/step - loss: 1.4021 - mse: 3.1622 - mae: 1.4021 - mape: 1065.6962\n",
      "Epoch 46/200\n",
      "32/32 [==============================] - 0s 2ms/step - loss: 1.4010 - mse: 3.1553 - mae: 1.4010 - mape: 1063.1959\n",
      "Epoch 47/200\n",
      "32/32 [==============================] - 0s 2ms/step - loss: 1.3981 - mse: 3.1506 - mae: 1.3981 - mape: 1063.8326\n",
      "Epoch 48/200\n",
      "32/32 [==============================] - 0s 2ms/step - loss: 1.3962 - mse: 3.1481 - mae: 1.3962 - mape: 1064.0022\n",
      "Epoch 49/200\n",
      "32/32 [==============================] - 0s 2ms/step - loss: 1.3980 - mse: 3.1570 - mae: 1.3980 - mape: 1063.6041\n",
      "Epoch 50/200\n",
      "32/32 [==============================] - 0s 2ms/step - loss: 1.3926 - mse: 3.1493 - mae: 1.3926 - mape: 1066.1974\n",
      "Epoch 51/200\n",
      "32/32 [==============================] - 0s 3ms/step - loss: 1.3944 - mse: 3.1498 - mae: 1.3944 - mape: 1065.2977\n",
      "Epoch 52/200\n",
      "32/32 [==============================] - 0s 3ms/step - loss: 1.3905 - mse: 3.1427 - mae: 1.3905 - mape: 1064.7882\n",
      "Epoch 53/200\n",
      "32/32 [==============================] - 0s 3ms/step - loss: 1.3897 - mse: 3.1447 - mae: 1.3897 - mape: 1066.3553\n",
      "Epoch 54/200\n",
      "32/32 [==============================] - 0s 2ms/step - loss: 1.3842 - mse: 3.1364 - mae: 1.3842 - mape: 1064.0699\n",
      "Epoch 55/200\n",
      "32/32 [==============================] - 0s 2ms/step - loss: 1.3828 - mse: 3.1335 - mae: 1.3828 - mape: 1065.5488\n",
      "Epoch 56/200\n",
      "32/32 [==============================] - 0s 2ms/step - loss: 1.3812 - mse: 3.1287 - mae: 1.3812 - mape: 1064.7181\n",
      "Epoch 57/200\n",
      "32/32 [==============================] - 0s 2ms/step - loss: 1.3799 - mse: 3.1279 - mae: 1.3799 - mape: 1065.6410\n",
      "Epoch 58/200\n",
      "32/32 [==============================] - 0s 3ms/step - loss: 1.3779 - mse: 3.1258 - mae: 1.3779 - mape: 1065.0299\n",
      "Epoch 59/200\n",
      "32/32 [==============================] - 0s 3ms/step - loss: 1.3779 - mse: 3.1241 - mae: 1.3779 - mape: 1064.4884\n",
      "Epoch 60/200\n",
      "32/32 [==============================] - 0s 3ms/step - loss: 1.3738 - mse: 3.1252 - mae: 1.3738 - mape: 1065.3624\n",
      "Epoch 61/200\n",
      "32/32 [==============================] - 0s 2ms/step - loss: 1.3746 - mse: 3.1210 - mae: 1.3746 - mape: 1065.3153\n",
      "Epoch 62/200\n",
      "32/32 [==============================] - 0s 2ms/step - loss: 1.3716 - mse: 3.1167 - mae: 1.3716 - mape: 1066.9587\n",
      "Epoch 63/200\n",
      "32/32 [==============================] - 0s 2ms/step - loss: 1.3706 - mse: 3.1269 - mae: 1.3706 - mape: 1067.8271\n",
      "Epoch 64/200\n",
      "32/32 [==============================] - 0s 2ms/step - loss: 1.3682 - mse: 3.1158 - mae: 1.3682 - mape: 1068.2120\n",
      "Epoch 65/200\n"
     ]
    },
    {
     "name": "stdout",
     "output_type": "stream",
     "text": [
      "32/32 [==============================] - 0s 2ms/step - loss: 1.3680 - mse: 3.1101 - mae: 1.3680 - mape: 1062.9316\n",
      "Epoch 66/200\n",
      "32/32 [==============================] - 0s 2ms/step - loss: 1.3650 - mse: 3.1113 - mae: 1.3650 - mape: 1065.0021\n",
      "Epoch 67/200\n",
      "32/32 [==============================] - 0s 2ms/step - loss: 1.3625 - mse: 3.1097 - mae: 1.3625 - mape: 1067.4874\n",
      "Epoch 68/200\n",
      "32/32 [==============================] - 0s 2ms/step - loss: 1.3612 - mse: 3.1043 - mae: 1.3612 - mape: 1067.0731\n",
      "Epoch 69/200\n",
      "32/32 [==============================] - 0s 2ms/step - loss: 1.3614 - mse: 3.1041 - mae: 1.3614 - mape: 1066.4708\n",
      "Epoch 70/200\n",
      "32/32 [==============================] - 0s 2ms/step - loss: 1.3588 - mse: 3.1045 - mae: 1.3588 - mape: 1068.7013\n",
      "Epoch 71/200\n",
      "32/32 [==============================] - 0s 3ms/step - loss: 1.3564 - mse: 3.1005 - mae: 1.3564 - mape: 1067.0677\n",
      "Epoch 72/200\n",
      "32/32 [==============================] - 0s 3ms/step - loss: 1.3547 - mse: 3.1008 - mae: 1.3547 - mape: 1067.2031\n",
      "Epoch 73/200\n",
      "32/32 [==============================] - 0s 3ms/step - loss: 1.3535 - mse: 3.0992 - mae: 1.3535 - mape: 1066.7723\n",
      "Epoch 74/200\n",
      "32/32 [==============================] - 0s 3ms/step - loss: 1.3522 - mse: 3.0997 - mae: 1.3522 - mape: 1067.2932\n",
      "Epoch 75/200\n",
      "32/32 [==============================] - 0s 3ms/step - loss: 1.3522 - mse: 3.0955 - mae: 1.3522 - mape: 1067.7458\n",
      "Epoch 76/200\n",
      "32/32 [==============================] - 0s 2ms/step - loss: 1.3499 - mse: 3.0914 - mae: 1.3499 - mape: 1066.3615\n",
      "Epoch 77/200\n",
      "32/32 [==============================] - 0s 2ms/step - loss: 1.3485 - mse: 3.0941 - mae: 1.3485 - mape: 1067.4403\n",
      "Epoch 78/200\n",
      "32/32 [==============================] - 0s 3ms/step - loss: 1.3468 - mse: 3.0908 - mae: 1.3468 - mape: 1067.4752\n",
      "Epoch 79/200\n",
      "32/32 [==============================] - 0s 2ms/step - loss: 1.3458 - mse: 3.0922 - mae: 1.3458 - mape: 1068.0935\n",
      "Epoch 80/200\n",
      "32/32 [==============================] - 0s 3ms/step - loss: 1.3447 - mse: 3.0876 - mae: 1.3447 - mape: 1067.6145\n",
      "Epoch 81/200\n",
      "32/32 [==============================] - 0s 3ms/step - loss: 1.3432 - mse: 3.0860 - mae: 1.3432 - mape: 1067.7412\n",
      "Epoch 82/200\n",
      "32/32 [==============================] - 0s 2ms/step - loss: 1.3426 - mse: 3.0893 - mae: 1.3426 - mape: 1068.7601\n",
      "Epoch 83/200\n",
      "32/32 [==============================] - 0s 2ms/step - loss: 1.3406 - mse: 3.0833 - mae: 1.3406 - mape: 1067.9907\n",
      "Epoch 84/200\n",
      "32/32 [==============================] - 0s 2ms/step - loss: 1.3403 - mse: 3.0849 - mae: 1.3403 - mape: 1067.1573\n",
      "Epoch 85/200\n",
      "32/32 [==============================] - 0s 3ms/step - loss: 1.3382 - mse: 3.0818 - mae: 1.3382 - mape: 1066.9363\n",
      "Epoch 86/200\n",
      "32/32 [==============================] - 0s 3ms/step - loss: 1.3380 - mse: 3.0801 - mae: 1.3380 - mape: 1067.4242\n",
      "Epoch 87/200\n",
      "32/32 [==============================] - 0s 2ms/step - loss: 1.3366 - mse: 3.0805 - mae: 1.3366 - mape: 1068.1517\n",
      "Epoch 88/200\n",
      "32/32 [==============================] - 0s 2ms/step - loss: 1.3351 - mse: 3.0807 - mae: 1.3351 - mape: 1068.4630\n",
      "Epoch 89/200\n",
      "32/32 [==============================] - 0s 2ms/step - loss: 1.3365 - mse: 3.0806 - mae: 1.3365 - mape: 1065.8040\n",
      "Epoch 90/200\n",
      "32/32 [==============================] - 0s 3ms/step - loss: 1.3344 - mse: 3.0764 - mae: 1.3344 - mape: 1068.5316\n",
      "Epoch 91/200\n",
      "32/32 [==============================] - 0s 3ms/step - loss: 1.3345 - mse: 3.0775 - mae: 1.3345 - mape: 1068.1722\n",
      "Epoch 92/200\n",
      "32/32 [==============================] - 0s 3ms/step - loss: 1.3327 - mse: 3.0800 - mae: 1.3327 - mape: 1069.3589\n",
      "Epoch 93/200\n",
      "32/32 [==============================] - 0s 3ms/step - loss: 1.3308 - mse: 3.0723 - mae: 1.3308 - mape: 1068.1176\n",
      "Epoch 94/200\n",
      "32/32 [==============================] - 0s 3ms/step - loss: 1.3296 - mse: 3.0782 - mae: 1.3296 - mape: 1068.7881\n",
      "Epoch 95/200\n",
      "32/32 [==============================] - 0s 3ms/step - loss: 1.3303 - mse: 3.0741 - mae: 1.3303 - mape: 1069.3073\n",
      "Epoch 96/200\n",
      "32/32 [==============================] - 0s 2ms/step - loss: 1.3288 - mse: 3.0741 - mae: 1.3288 - mape: 1066.2570\n",
      "Epoch 97/200\n",
      "32/32 [==============================] - 0s 2ms/step - loss: 1.3290 - mse: 3.0718 - mae: 1.3290 - mape: 1067.3466\n",
      "Epoch 98/200\n",
      "32/32 [==============================] - 0s 2ms/step - loss: 1.3260 - mse: 3.0727 - mae: 1.3260 - mape: 1068.5206\n",
      "Epoch 99/200\n",
      "32/32 [==============================] - 0s 2ms/step - loss: 1.3250 - mse: 3.0686 - mae: 1.3250 - mape: 1068.0352\n",
      "Epoch 100/200\n",
      "32/32 [==============================] - 0s 2ms/step - loss: 1.3242 - mse: 3.0716 - mae: 1.3242 - mape: 1068.4335\n",
      "Epoch 101/200\n",
      "32/32 [==============================] - 0s 2ms/step - loss: 1.3238 - mse: 3.0702 - mae: 1.3238 - mape: 1068.3955\n",
      "Epoch 102/200\n",
      "32/32 [==============================] - 0s 3ms/step - loss: 1.3250 - mse: 3.0700 - mae: 1.3250 - mape: 1068.1978\n",
      "Epoch 103/200\n",
      "32/32 [==============================] - 0s 3ms/step - loss: 1.3223 - mse: 3.0670 - mae: 1.3223 - mape: 1068.3719\n",
      "Epoch 104/200\n",
      "32/32 [==============================] - 0s 3ms/step - loss: 1.3213 - mse: 3.0672 - mae: 1.3213 - mape: 1069.1943\n",
      "Epoch 105/200\n",
      "32/32 [==============================] - 0s 2ms/step - loss: 1.3230 - mse: 3.0685 - mae: 1.3230 - mape: 1067.7144\n",
      "Epoch 106/200\n",
      "32/32 [==============================] - 0s 3ms/step - loss: 1.3207 - mse: 3.0669 - mae: 1.3207 - mape: 1069.5367\n",
      "Epoch 107/200\n",
      "32/32 [==============================] - 0s 2ms/step - loss: 1.3192 - mse: 3.0693 - mae: 1.3192 - mape: 1069.6438\n",
      "Epoch 108/200\n",
      "32/32 [==============================] - 0s 2ms/step - loss: 1.3194 - mse: 3.0660 - mae: 1.3194 - mape: 1068.1976\n",
      "Epoch 109/200\n",
      "32/32 [==============================] - 0s 2ms/step - loss: 1.3204 - mse: 3.0676 - mae: 1.3204 - mape: 1067.8523\n",
      "Epoch 110/200\n",
      "32/32 [==============================] - 0s 4ms/step - loss: 1.3190 - mse: 3.0675 - mae: 1.3190 - mape: 1069.5800\n",
      "Epoch 111/200\n",
      "32/32 [==============================] - 0s 3ms/step - loss: 1.3183 - mse: 3.0634 - mae: 1.3183 - mape: 1069.0293\n",
      "Epoch 112/200\n",
      "32/32 [==============================] - 0s 4ms/step - loss: 1.3166 - mse: 3.0652 - mae: 1.3166 - mape: 1068.4327\n",
      "Epoch 113/200\n",
      "32/32 [==============================] - 0s 3ms/step - loss: 1.3182 - mse: 3.0644 - mae: 1.3182 - mape: 1067.9124\n",
      "Epoch 114/200\n",
      "32/32 [==============================] - 0s 3ms/step - loss: 1.3154 - mse: 3.0639 - mae: 1.3154 - mape: 1069.8540\n",
      "Epoch 115/200\n",
      "32/32 [==============================] - 0s 5ms/step - loss: 1.3162 - mse: 3.0651 - mae: 1.3162 - mape: 1068.6729\n",
      "Epoch 116/200\n",
      "32/32 [==============================] - 0s 4ms/step - loss: 1.3148 - mse: 3.0632 - mae: 1.3148 - mape: 1069.5408\n",
      "Epoch 117/200\n",
      "32/32 [==============================] - 0s 3ms/step - loss: 1.3145 - mse: 3.0644 - mae: 1.3145 - mape: 1069.5604\n",
      "Epoch 118/200\n",
      "32/32 [==============================] - 0s 2ms/step - loss: 1.3146 - mse: 3.0624 - mae: 1.3146 - mape: 1070.0775\n",
      "Epoch 119/200\n",
      "32/32 [==============================] - 0s 3ms/step - loss: 1.3139 - mse: 3.0604 - mae: 1.3139 - mape: 1068.1433\n",
      "Epoch 120/200\n",
      "32/32 [==============================] - 0s 4ms/step - loss: 1.3145 - mse: 3.0641 - mae: 1.3145 - mape: 1069.4572\n",
      "Epoch 121/200\n",
      "32/32 [==============================] - 0s 3ms/step - loss: 1.3137 - mse: 3.0604 - mae: 1.3137 - mape: 1067.5103\n",
      "Epoch 122/200\n",
      "32/32 [==============================] - 0s 2ms/step - loss: 1.3133 - mse: 3.0631 - mae: 1.3133 - mape: 1070.6865\n",
      "Epoch 123/200\n",
      "32/32 [==============================] - 0s 3ms/step - loss: 1.3120 - mse: 3.0594 - mae: 1.3120 - mape: 1068.8577\n",
      "Epoch 124/200\n",
      "32/32 [==============================] - 0s 3ms/step - loss: 1.3126 - mse: 3.0635 - mae: 1.3126 - mape: 1069.4733\n",
      "Epoch 125/200\n",
      "32/32 [==============================] - 0s 3ms/step - loss: 1.3122 - mse: 3.0602 - mae: 1.3122 - mape: 1069.3274\n",
      "Epoch 126/200\n",
      "32/32 [==============================] - 0s 3ms/step - loss: 1.3111 - mse: 3.0596 - mae: 1.3111 - mape: 1068.6342\n",
      "Epoch 127/200\n",
      "32/32 [==============================] - 0s 5ms/step - loss: 1.3113 - mse: 3.0609 - mae: 1.3113 - mape: 1068.2755\n",
      "Epoch 128/200\n",
      "32/32 [==============================] - 0s 5ms/step - loss: 1.3138 - mse: 3.0613 - mae: 1.3138 - mape: 1069.3945\n",
      "Epoch 129/200\n"
     ]
    },
    {
     "name": "stdout",
     "output_type": "stream",
     "text": [
      "32/32 [==============================] - 0s 5ms/step - loss: 1.3107 - mse: 3.0591 - mae: 1.3107 - mape: 1069.0865\n",
      "Epoch 130/200\n",
      "32/32 [==============================] - 0s 4ms/step - loss: 1.3105 - mse: 3.0596 - mae: 1.3105 - mape: 1068.2771\n",
      "Epoch 131/200\n",
      "32/32 [==============================] - 0s 4ms/step - loss: 1.3101 - mse: 3.0592 - mae: 1.3101 - mape: 1069.4562\n",
      "Epoch 132/200\n",
      "32/32 [==============================] - 0s 4ms/step - loss: 1.3104 - mse: 3.0623 - mae: 1.3104 - mape: 1069.6792\n",
      "Epoch 133/200\n",
      "32/32 [==============================] - 0s 3ms/step - loss: 1.3116 - mse: 3.0566 - mae: 1.3116 - mape: 1068.3926\n",
      "Epoch 134/200\n",
      "32/32 [==============================] - 0s 3ms/step - loss: 1.3094 - mse: 3.0594 - mae: 1.3094 - mape: 1069.5795\n",
      "Epoch 135/200\n",
      "32/32 [==============================] - 0s 5ms/step - loss: 1.3080 - mse: 3.0581 - mae: 1.3080 - mape: 1069.2241\n",
      "Epoch 136/200\n",
      "32/32 [==============================] - 0s 5ms/step - loss: 1.3103 - mse: 3.0584 - mae: 1.3103 - mape: 1068.8887\n",
      "Epoch 137/200\n",
      "32/32 [==============================] - 0s 4ms/step - loss: 1.3079 - mse: 3.0602 - mae: 1.3079 - mape: 1069.0071\n",
      "Epoch 138/200\n",
      "32/32 [==============================] - 0s 5ms/step - loss: 1.3085 - mse: 3.0578 - mae: 1.3085 - mape: 1068.9137\n",
      "Epoch 139/200\n",
      "32/32 [==============================] - 0s 4ms/step - loss: 1.3083 - mse: 3.0563 - mae: 1.3083 - mape: 1068.1560\n",
      "Epoch 140/200\n",
      "32/32 [==============================] - 0s 5ms/step - loss: 1.3082 - mse: 3.0602 - mae: 1.3082 - mape: 1069.3934\n",
      "Epoch 141/200\n",
      "32/32 [==============================] - 0s 5ms/step - loss: 1.3075 - mse: 3.0579 - mae: 1.3075 - mape: 1069.1025\n",
      "Epoch 142/200\n",
      "32/32 [==============================] - 0s 4ms/step - loss: 1.3090 - mse: 3.0559 - mae: 1.3090 - mape: 1069.0936\n",
      "Epoch 143/200\n",
      "32/32 [==============================] - 0s 5ms/step - loss: 1.3080 - mse: 3.0603 - mae: 1.3080 - mape: 1069.5906A: 0s - loss: 1.3010 - mse: 3.0256 - mae: 1.3010 - mape: 778.229\n",
      "Epoch 144/200\n",
      "32/32 [==============================] - 0s 4ms/step - loss: 1.3064 - mse: 3.0576 - mae: 1.3064 - mape: 1069.3673\n",
      "Epoch 145/200\n",
      "32/32 [==============================] - 0s 4ms/step - loss: 1.3069 - mse: 3.0563 - mae: 1.3069 - mape: 1069.5760\n",
      "Epoch 146/200\n",
      "32/32 [==============================] - 0s 4ms/step - loss: 1.3066 - mse: 3.0548 - mae: 1.3066 - mape: 1067.7196\n",
      "Epoch 147/200\n",
      "32/32 [==============================] - 0s 4ms/step - loss: 1.3059 - mse: 3.0542 - mae: 1.3059 - mape: 1069.5098\n",
      "Epoch 148/200\n",
      "32/32 [==============================] - 0s 4ms/step - loss: 1.3073 - mse: 3.0586 - mae: 1.3073 - mape: 1069.7311\n",
      "Epoch 149/200\n",
      "32/32 [==============================] - 0s 5ms/step - loss: 1.3066 - mse: 3.0573 - mae: 1.3066 - mape: 1068.2886\n",
      "Epoch 150/200\n",
      "32/32 [==============================] - 0s 5ms/step - loss: 1.3071 - mse: 3.0519 - mae: 1.3071 - mape: 1067.6941\n",
      "Epoch 151/200\n",
      "32/32 [==============================] - 0s 5ms/step - loss: 1.3070 - mse: 3.0575 - mae: 1.3070 - mape: 1068.6198\n",
      "Epoch 152/200\n",
      "32/32 [==============================] - 0s 3ms/step - loss: 1.3061 - mse: 3.0595 - mae: 1.3061 - mape: 1069.7948\n",
      "Epoch 153/200\n",
      "32/32 [==============================] - 0s 4ms/step - loss: 1.3060 - mse: 3.0535 - mae: 1.3060 - mape: 1068.6897\n",
      "Epoch 154/200\n",
      "32/32 [==============================] - 0s 2ms/step - loss: 1.3055 - mse: 3.0555 - mae: 1.3055 - mape: 1069.3092\n",
      "Epoch 155/200\n",
      "32/32 [==============================] - 0s 2ms/step - loss: 1.3054 - mse: 3.0557 - mae: 1.3054 - mape: 1069.4991\n",
      "Epoch 156/200\n",
      "32/32 [==============================] - 0s 2ms/step - loss: 1.3056 - mse: 3.0515 - mae: 1.3056 - mape: 1068.1832\n",
      "Epoch 157/200\n",
      "32/32 [==============================] - 0s 3ms/step - loss: 1.3053 - mse: 3.0572 - mae: 1.3053 - mape: 1069.8481\n",
      "Epoch 158/200\n",
      "32/32 [==============================] - 0s 3ms/step - loss: 1.3081 - mse: 3.0563 - mae: 1.3081 - mape: 1066.6621\n",
      "Epoch 159/200\n",
      "32/32 [==============================] - 0s 3ms/step - loss: 1.3058 - mse: 3.0543 - mae: 1.3058 - mape: 1068.9205\n",
      "Epoch 160/200\n",
      "32/32 [==============================] - 0s 3ms/step - loss: 1.3061 - mse: 3.0541 - mae: 1.3061 - mape: 1068.6813\n",
      "Epoch 161/200\n",
      "32/32 [==============================] - 0s 3ms/step - loss: 1.3055 - mse: 3.0539 - mae: 1.3055 - mape: 1068.7025\n",
      "Epoch 162/200\n",
      "32/32 [==============================] - 0s 3ms/step - loss: 1.3047 - mse: 3.0583 - mae: 1.3047 - mape: 1070.1874\n",
      "Epoch 163/200\n",
      "32/32 [==============================] - 0s 3ms/step - loss: 1.3053 - mse: 3.0580 - mae: 1.3053 - mape: 1069.8074\n",
      "Epoch 164/200\n",
      "32/32 [==============================] - 0s 3ms/step - loss: 1.3059 - mse: 3.0530 - mae: 1.3059 - mape: 1068.9462\n",
      "Epoch 165/200\n",
      "32/32 [==============================] - 0s 3ms/step - loss: 1.3055 - mse: 3.0566 - mae: 1.3055 - mape: 1069.0000\n",
      "Epoch 166/200\n",
      "32/32 [==============================] - 0s 3ms/step - loss: 1.3053 - mse: 3.0550 - mae: 1.3053 - mape: 1068.5516\n",
      "Epoch 167/200\n",
      "32/32 [==============================] - 0s 3ms/step - loss: 1.3047 - mse: 3.0572 - mae: 1.3047 - mape: 1070.7518\n",
      "Epoch 168/200\n",
      "32/32 [==============================] - 0s 3ms/step - loss: 1.3044 - mse: 3.0547 - mae: 1.3044 - mape: 1069.3356\n",
      "Epoch 169/200\n",
      "32/32 [==============================] - 0s 3ms/step - loss: 1.3039 - mse: 3.0548 - mae: 1.3039 - mape: 1069.2017\n",
      "Epoch 170/200\n",
      "32/32 [==============================] - 0s 3ms/step - loss: 1.3048 - mse: 3.0552 - mae: 1.3048 - mape: 1068.3477\n",
      "Epoch 171/200\n",
      "32/32 [==============================] - 0s 4ms/step - loss: 1.3040 - mse: 3.0533 - mae: 1.3040 - mape: 1068.8533\n",
      "Epoch 172/200\n",
      "32/32 [==============================] - 0s 3ms/step - loss: 1.3040 - mse: 3.0586 - mae: 1.3040 - mape: 1069.9427\n",
      "Epoch 173/200\n",
      "32/32 [==============================] - 0s 3ms/step - loss: 1.3061 - mse: 3.0540 - mae: 1.3061 - mape: 1068.6324\n",
      "Epoch 174/200\n",
      "32/32 [==============================] - 0s 3ms/step - loss: 1.3039 - mse: 3.0526 - mae: 1.3039 - mape: 1068.6947\n",
      "Epoch 175/200\n",
      "32/32 [==============================] - 0s 3ms/step - loss: 1.3050 - mse: 3.0586 - mae: 1.3050 - mape: 1070.5608\n",
      "Epoch 176/200\n",
      "32/32 [==============================] - 0s 3ms/step - loss: 1.3031 - mse: 3.0547 - mae: 1.3031 - mape: 1069.4399\n",
      "Epoch 177/200\n",
      "32/32 [==============================] - 0s 3ms/step - loss: 1.3033 - mse: 3.0514 - mae: 1.3033 - mape: 1068.4332\n",
      "Epoch 178/200\n",
      "32/32 [==============================] - 0s 3ms/step - loss: 1.3041 - mse: 3.0551 - mae: 1.3041 - mape: 1068.9272\n",
      "Epoch 179/200\n",
      "32/32 [==============================] - 0s 3ms/step - loss: 1.3042 - mse: 3.0545 - mae: 1.3042 - mape: 1068.4561\n",
      "Epoch 180/200\n",
      "32/32 [==============================] - 0s 3ms/step - loss: 1.3037 - mse: 3.0525 - mae: 1.3037 - mape: 1068.8756\n",
      "Epoch 181/200\n",
      "32/32 [==============================] - 0s 3ms/step - loss: 1.3037 - mse: 3.0517 - mae: 1.3037 - mape: 1068.2025\n",
      "Epoch 182/200\n",
      "32/32 [==============================] - 0s 3ms/step - loss: 1.3029 - mse: 3.0565 - mae: 1.3029 - mape: 1069.5615\n",
      "Epoch 183/200\n",
      "32/32 [==============================] - 0s 3ms/step - loss: 1.3038 - mse: 3.0535 - mae: 1.3038 - mape: 1069.8163\n",
      "Epoch 184/200\n",
      "32/32 [==============================] - 0s 3ms/step - loss: 1.3033 - mse: 3.0526 - mae: 1.3033 - mape: 1068.8312\n",
      "Epoch 185/200\n",
      "32/32 [==============================] - 0s 3ms/step - loss: 1.3035 - mse: 3.0549 - mae: 1.3035 - mape: 1069.1476\n",
      "Epoch 186/200\n",
      "32/32 [==============================] - 0s 2ms/step - loss: 1.3036 - mse: 3.0553 - mae: 1.3036 - mape: 1068.6166\n",
      "Epoch 187/200\n",
      "32/32 [==============================] - 0s 3ms/step - loss: 1.3047 - mse: 3.0562 - mae: 1.3047 - mape: 1070.4125\n",
      "Epoch 188/200\n",
      "32/32 [==============================] - 0s 3ms/step - loss: 1.3032 - mse: 3.0572 - mae: 1.3032 - mape: 1069.6539\n",
      "Epoch 189/200\n",
      "32/32 [==============================] - 0s 3ms/step - loss: 1.3027 - mse: 3.0566 - mae: 1.3027 - mape: 1069.2073\n",
      "Epoch 190/200\n",
      "32/32 [==============================] - 0s 3ms/step - loss: 1.3049 - mse: 3.0531 - mae: 1.3049 - mape: 1069.8234\n",
      "Epoch 191/200\n",
      "32/32 [==============================] - 0s 3ms/step - loss: 1.3022 - mse: 3.0536 - mae: 1.3022 - mape: 1069.7799\n",
      "Epoch 192/200\n"
     ]
    },
    {
     "name": "stdout",
     "output_type": "stream",
     "text": [
      "32/32 [==============================] - 0s 3ms/step - loss: 1.3026 - mse: 3.0516 - mae: 1.3026 - mape: 1068.1053\n",
      "Epoch 193/200\n",
      "32/32 [==============================] - 0s 3ms/step - loss: 1.3023 - mse: 3.0548 - mae: 1.3023 - mape: 1069.3204\n",
      "Epoch 194/200\n",
      "32/32 [==============================] - 0s 2ms/step - loss: 1.3032 - mse: 3.0538 - mae: 1.3032 - mape: 1068.4010\n",
      "Epoch 195/200\n",
      "32/32 [==============================] - 0s 2ms/step - loss: 1.3027 - mse: 3.0546 - mae: 1.3027 - mape: 1068.9708\n",
      "Epoch 196/200\n",
      "32/32 [==============================] - 0s 2ms/step - loss: 1.3025 - mse: 3.0526 - mae: 1.3025 - mape: 1068.6589\n",
      "Epoch 197/200\n",
      "32/32 [==============================] - 0s 2ms/step - loss: 1.3049 - mse: 3.0531 - mae: 1.3049 - mape: 1069.7621\n",
      "Epoch 198/200\n",
      "32/32 [==============================] - 0s 2ms/step - loss: 1.3036 - mse: 3.0573 - mae: 1.3036 - mape: 1070.3118\n",
      "Epoch 199/200\n",
      "32/32 [==============================] - 0s 2ms/step - loss: 1.3025 - mse: 3.0524 - mae: 1.3025 - mape: 1069.4490\n",
      "Epoch 200/200\n",
      "32/32 [==============================] - 0s 2ms/step - loss: 1.3030 - mse: 3.0561 - mae: 1.3030 - mape: 1069.8213\n",
      "32/32 [==============================] - 0s 909us/step\n",
      "7/7 [==============================] - 0s 1ms/step\n"
     ]
    },
    {
     "name": "stderr",
     "output_type": "stream",
     "text": [
      "\r",
      "  0%|          | 0/1000 [00:00<?, ?it/s]"
     ]
    },
    {
     "name": "stdout",
     "output_type": "stream",
     "text": [
      "====================================\n",
      "Training Deep Gaussian Network!: END\n",
      "====================================\n",
      "#---------------------------------------#\n",
      " Get Training Errors for: Gaussian Models\n",
      "#---------------------------------------#\n"
     ]
    },
    {
     "name": "stderr",
     "output_type": "stream",
     "text": [
      "100%|██████████| 1000/1000 [00:00<00:00, 1063.22it/s]\n",
      "100%|██████████| 200/200 [00:00<00:00, 1144.51it/s]"
     ]
    },
    {
     "name": "stdout",
     "output_type": "stream",
     "text": [
      "#-------------------------#\n",
      " Get Training Error(s): END\n",
      "#-------------------------#\n",
      "#---------------------------------------#\n",
      " Get Testing Errors for: Gaussian Models\n",
      "#---------------------------------------#\n"
     ]
    },
    {
     "name": "stderr",
     "output_type": "stream",
     "text": [
      "\n"
     ]
    },
    {
     "name": "stdout",
     "output_type": "stream",
     "text": [
      "#------------------------#\n",
      " Get Testing Error(s): END\n",
      "#------------------------#\n",
      "-------------------------------------------------\n",
      "Updating Performance Metrics Dataframe and Saved!\n",
      "-------------------------------------------------\n",
      "------------------------------------------------\n",
      "Updated Performance Metrics Dataframe and Saved!\n",
      "------------------------------------------------\n",
      "--------------------------------------------\n",
      "Computing and Updating Complexity Metrics...\n",
      "--------------------------------------------\n",
      "-----------------------------------------------\n",
      "Updated Complexity Metrics Dataframe and Saved!\n",
      "-----------------------------------------------\n"
     ]
    }
   ],
   "source": [
    "# %run Benchmarks_Model_Builder_Mean_Var.ipynb\n",
    "exec(open('Benchmarks_Model_Builder_Mean_Var.py').read())"
   ]
  },
  {
   "cell_type": "code",
   "execution_count": null,
   "metadata": {},
   "outputs": [],
   "source": [
    "print(\"Prediction Quality (Updated)\")\n",
    "print(Summary_pred_Qual_models_test)\n",
    "Summary_pred_Qual_models_test"
   ]
  },
  {
   "cell_type": "code",
   "execution_count": null,
   "metadata": {},
   "outputs": [],
   "source": [
    "print(\"Model Complexities Quality (Updated)\")\n",
    "print(Summary_Complexity_models)\n",
    "Summary_Complexity_models"
   ]
  },
  {
   "cell_type": "markdown",
   "metadata": {},
   "source": [
    "# 3) The natural Universal Benchmark: [Bishop's Mixture Density Network](https://publications.aston.ac.uk/id/eprint/373/1/NCRG_94_004.pdf)"
   ]
  },
  {
   "cell_type": "code",
   "execution_count": null,
   "metadata": {},
   "outputs": [
    {
     "name": "stderr",
     "output_type": "stream",
     "text": [
      "  3%|▎         | 34/1000 [00:23<10:23,  1.55it/s]"
     ]
    }
   ],
   "source": [
    "# %run Mixture_Density_Network.ipynb\n",
    "exec(open('Mixture_Density_Network.py').read())"
   ]
  },
  {
   "cell_type": "markdown",
   "metadata": {},
   "source": [
    "## Get Final Outputs\n",
    "Now we piece together all the numerical experiments and report a nice summary."
   ]
  },
  {
   "cell_type": "code",
   "execution_count": null,
   "metadata": {},
   "outputs": [],
   "source": [
    "# %run WrapUp_Summarizer.ipynb\n",
    "exec(open('WrapUp_Summarizer.py').read())"
   ]
  },
  {
   "cell_type": "markdown",
   "metadata": {},
   "source": [
    "# Result(s)"
   ]
  },
  {
   "cell_type": "markdown",
   "metadata": {},
   "source": [
    "#### Chosen Kernel for GPR"
   ]
  },
  {
   "cell_type": "code",
   "execution_count": null,
   "metadata": {},
   "outputs": [],
   "source": [
    "print(\"Kernel_Used_in_GPR: \"+str(GPR_trash.kernel))"
   ]
  },
  {
   "cell_type": "markdown",
   "metadata": {},
   "source": [
    "## Model Complexities"
   ]
  },
  {
   "cell_type": "code",
   "execution_count": null,
   "metadata": {},
   "outputs": [],
   "source": [
    "print(Summary_Complexity_models)\n",
    "Summary_Complexity_models"
   ]
  },
  {
   "cell_type": "markdown",
   "metadata": {},
   "source": [
    "## Prediction Quality"
   ]
  },
  {
   "cell_type": "markdown",
   "metadata": {},
   "source": [
    "#### Training"
   ]
  },
  {
   "cell_type": "code",
   "execution_count": null,
   "metadata": {},
   "outputs": [],
   "source": [
    "print(PredictivePerformance_Metrics_Train)\n",
    "PredictivePerformance_Metrics_Train"
   ]
  },
  {
   "cell_type": "markdown",
   "metadata": {},
   "source": [
    "#### Test"
   ]
  },
  {
   "cell_type": "code",
   "execution_count": null,
   "metadata": {},
   "outputs": [],
   "source": [
    "print(PredictivePerformance_Metrics_Test)\n",
    "PredictivePerformance_Metrics_Test"
   ]
  },
  {
   "cell_type": "markdown",
   "metadata": {},
   "source": [
    "---\n",
    "# Fin\n",
    "---"
   ]
  },
  {
   "cell_type": "markdown",
   "metadata": {},
   "source": [
    "---"
   ]
  }
 ],
 "metadata": {
  "kernelspec": {
   "display_name": "Python 3",
   "language": "python",
   "name": "python3"
  },
  "language_info": {
   "codemirror_mode": {
    "name": "ipython",
    "version": 3
   },
   "file_extension": ".py",
   "mimetype": "text/x-python",
   "name": "python",
   "nbconvert_exporter": "python",
   "pygments_lexer": "ipython3",
   "version": "3.7.7"
  }
 },
 "nbformat": 4,
 "nbformat_minor": 2
}
