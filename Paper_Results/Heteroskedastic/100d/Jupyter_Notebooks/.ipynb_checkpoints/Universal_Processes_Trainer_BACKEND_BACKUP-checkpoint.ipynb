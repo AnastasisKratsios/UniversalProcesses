{
 "cells": [
  {
   "cell_type": "markdown",
   "metadata": {},
   "source": [
    "# Universal $\\mathcal{P}_1(\\mathbb{R})$-Deep Neural Model (Type A)\n",
    "---"
   ]
  },
  {
   "cell_type": "markdown",
   "metadata": {},
   "source": [
    "---\n",
    "# Training Algorithm:\n",
    "---\n",
    "## 1) Generate Data:\n",
    "Generates the empirical measure $\\sum_{n=1}^N \\delta_{X_T(\\omega_n)}$ of $X_T$ conditional on $X_0=x_0\\in \\mathbb{R}$ *($x_0$ and $T>0$ are user-provided)*.\n",
    "\n",
    "## 2) Get \"Sample Barycenters\":\n",
    "Let $\\{\\mu_n\\}_{n=1}^N\\subset\\mathcal{P}_1(\\mathbb{R}^d)$.  Then, the *sample barycenter* is defined by:\n",
    "1. $\\mathcal{M}^{(0)}\\triangleq \\left\\{\\hat{\\mu}_n\\right\\}_{n=1}^N$,\n",
    "2. For $1\\leq n\\leq \\mbox{N sample barycenters}$: \n",
    "    - $\n",
    "\\mu^{\\star}\\in \\underset{\\tilde{\\mu}\\in \\mathcal{M}^{(n)}}{\\operatorname{argmin}}\\, \\sum_{n=1}^N \\mathcal{W}_1\\left(\\mu^{\\star},\\mu_n\\right),\n",
    "$\n",
    "    - $\\mathcal{M}^{(n)}\\triangleq \\mathcal{M}^{(n-1)} - \\{\\mu^{\\star}\\},$\n",
    "*i.e., the closest generated measure form the random sample to all other elements of the random sample.*\n",
    "\n",
    "---\n",
    "**Note:** *We simplify the computational burden of getting the correct classes by putting this right into this next loop.*\n",
    "\n",
    "## 3) Train Deep Classifier:\n",
    "$\\hat{f}\\in \\operatorname{argmin}_{f \\in \\mathcal{NN}_{d:N}^{\\star}} \n",
    "\\sum_{x \\in \\mathbb{X}}\n",
    "\\, \n",
    "\\mathbb{H}\n",
    "\\left(\n",
    "    \\operatorname{Softmax}_N\\circ f(x)_n| I\\left\\{W_1(\\hat{\\mu}_n,\\mu_x),\\inf_{m\\leq N} W_1(\\hat{\\mu}_m,\\mu_x)\\right\\}\n",
    "\\right);\n",
    "$\n",
    "where $\\mathbb{H}$ is the categorical cross-entropy.  \n",
    "\n",
    "---\n",
    "---\n",
    "---\n",
    "## Notes - Why the procedure is so computationally efficient?\n",
    "---\n",
    " - The sample barycenters do not require us to solve for any new Wasserstein-1 Barycenters; which is much more computationally costly,\n",
    " - Our training procedure never back-propages through $\\mathcal{W}_1$ since steps 2 and 3 are full-decoupled.  Therefore, training our deep classifier is (comparatively) cheap since it takes values in the standard $N$-simplex.\n",
    "\n",
    "---"
   ]
  },
  {
   "cell_type": "markdown",
   "metadata": {},
   "source": [
    "## Meta-Parameters"
   ]
  },
  {
   "cell_type": "markdown",
   "metadata": {},
   "source": [
    "### Visualization"
   ]
  },
  {
   "cell_type": "code",
   "execution_count": 1,
   "metadata": {},
   "outputs": [],
   "source": [
    "# How many random polulations to visualize:\n",
    "Visualization_Size = 4"
   ]
  },
  {
   "cell_type": "markdown",
   "metadata": {},
   "source": [
    "### Quantization\n",
    "*This hyperparameter describes the proportion of the data used as sample-barycenters.*"
   ]
  },
  {
   "cell_type": "code",
   "execution_count": 2,
   "metadata": {},
   "outputs": [],
   "source": [
    "Quantization_Proportion = 0.5"
   ]
  },
  {
   "cell_type": "markdown",
   "metadata": {},
   "source": [
    "### Simulation"
   ]
  },
  {
   "cell_type": "markdown",
   "metadata": {},
   "source": [
    "#### Ground Truth:\n",
    "*The build-in Options:*\n",
    "- rSDE \n",
    "- pfBM\n",
    "- 2lnflow"
   ]
  },
  {
   "cell_type": "code",
   "execution_count": 3,
   "metadata": {},
   "outputs": [],
   "source": [
    "groud_truth = \"2lnflow\""
   ]
  },
  {
   "cell_type": "markdown",
   "metadata": {},
   "source": [
    "#### Grid Hyperparameter(s)"
   ]
  },
  {
   "cell_type": "code",
   "execution_count": 4,
   "metadata": {},
   "outputs": [],
   "source": [
    "## Monte-Carlo\n",
    "N_Euler_Maruyama_Steps = 10\n",
    "N_Monte_Carlo_Samples = 10\n",
    "N_Monte_Carlo_Samples_Test = 10**4 # How many MC-samples to draw from test-set?\n",
    "\n",
    "# End times for Time-Grid\n",
    "T_end = 1\n",
    "T_end_test = 1.1\n",
    "\n",
    "\n",
    "## Grid\n",
    "N_Grid_Finess = 10\n",
    "Max_Grid = 1"
   ]
  },
  {
   "cell_type": "markdown",
   "metadata": {},
   "source": [
    "**Note**: Setting *N_Quantizers_to_parameterize* prevents any barycenters and sub-sampling."
   ]
  },
  {
   "cell_type": "markdown",
   "metadata": {},
   "source": [
    "#### Mode: Code-Testin Parameter(s)"
   ]
  },
  {
   "cell_type": "code",
   "execution_count": 5,
   "metadata": {},
   "outputs": [],
   "source": [
    "trial_run = True"
   ]
  },
  {
   "cell_type": "markdown",
   "metadata": {},
   "source": [
    "### Meta-parameters"
   ]
  },
  {
   "cell_type": "code",
   "execution_count": 6,
   "metadata": {},
   "outputs": [],
   "source": [
    "# Test-size Ratio\n",
    "test_size_ratio = .25"
   ]
  },
  {
   "cell_type": "markdown",
   "metadata": {},
   "source": [
    "## Simulation from Measure-Valued $2$-Parameter Gaussian Flow\n",
    "$$\n",
    "X_{t,x} \\sim \\mathcal{N}\\left(\\alpha(t,x),\\beta(t,x)\\right).\n",
    "$$"
   ]
  },
  {
   "cell_type": "markdown",
   "metadata": {},
   "source": [
    "**Note:** *$\\alpha$ and $\\beta$ are specified below in the SDE Example*."
   ]
  },
  {
   "cell_type": "markdown",
   "metadata": {},
   "source": [
    "## Simulation from Rough SDE\n",
    "Simulate via Euler-M method from:\n",
    "$$ \n",
    "X_T = x + \\int_0^T \\alpha(s,x)ds + \\int_0^T((1-\\eta)\\beta(s,x)+\\eta\\sigma_s^H)dW_s.\n",
    "$$"
   ]
  },
  {
   "cell_type": "markdown",
   "metadata": {},
   "source": [
    "### Drift"
   ]
  },
  {
   "cell_type": "code",
   "execution_count": 7,
   "metadata": {},
   "outputs": [],
   "source": [
    "def alpha(t,x):\n",
    "    return t*np.sin(math.pi*x) #+ np.exp(-t)"
   ]
  },
  {
   "cell_type": "markdown",
   "metadata": {},
   "source": [
    "### Volatility"
   ]
  },
  {
   "cell_type": "code",
   "execution_count": 8,
   "metadata": {},
   "outputs": [],
   "source": [
    "def beta(t,x):\n",
    "    return (1+t) + np.cos(x)"
   ]
  },
  {
   "cell_type": "markdown",
   "metadata": {},
   "source": [
    "### Roughness Meta-parameters"
   ]
  },
  {
   "cell_type": "code",
   "execution_count": 9,
   "metadata": {},
   "outputs": [],
   "source": [
    "Rougness = 0.9 # Hurst Parameter\n",
    "Ratio_fBM_to_typical_vol = 0 # $\\eta$ in equation above."
   ]
  },
  {
   "cell_type": "markdown",
   "metadata": {},
   "source": [
    "## Perturbed Fractional Brownian Motion\n",
    "Simulate from:\n",
    "$$\n",
    "X_t^x(\\omega) = f_1(x)f_2(t) + B_t^H(\\omega).\n",
    "$$"
   ]
  },
  {
   "cell_type": "code",
   "execution_count": 10,
   "metadata": {},
   "outputs": [],
   "source": [
    "def field_dirction_x(x):\n",
    "    return x*np.cos(x)\n",
    "\n",
    "def finite_variation_t(t):\n",
    "    return t*(np.sin(math.pi*t) + np.exp(-t))"
   ]
  },
  {
   "cell_type": "markdown",
   "metadata": {},
   "source": [
    "### Get Paths"
   ]
  },
  {
   "cell_type": "code",
   "execution_count": 11,
   "metadata": {},
   "outputs": [],
   "source": [
    "# load dataset\n",
    "results_path = \"./outputs/models/\"\n",
    "results_tables_path = \"./outputs/results/\"\n",
    "raw_data_path_folder = \"./inputs/raw/\"\n",
    "data_path_folder = \"./inputs/data/\""
   ]
  },
  {
   "cell_type": "markdown",
   "metadata": {},
   "source": [
    "### Import"
   ]
  },
  {
   "cell_type": "code",
   "execution_count": 12,
   "metadata": {},
   "outputs": [
    {
     "name": "stderr",
     "output_type": "stream",
     "text": [
      "Using TensorFlow backend.\n"
     ]
    },
    {
     "name": "stdout",
     "output_type": "stream",
     "text": [
      "Deep Feature Builder - Ready\n",
      "Deep Classifier - Ready\n"
     ]
    }
   ],
   "source": [
    "# Load Packages/Modules\n",
    "exec(open('Init_Dump.py').read())\n",
    "# Load Hyper-parameter Grid\n",
    "exec(open('CV_Grid.py').read())\n",
    "# Load Helper Function(s)\n",
    "# %run ParaGAN_Backend.ipynb\n",
    "exec(open('Helper_Functions.py').read())\n",
    "# Import time separately\n",
    "import time"
   ]
  },
  {
   "cell_type": "markdown",
   "metadata": {},
   "source": [
    "### Set Seed"
   ]
  },
  {
   "cell_type": "code",
   "execution_count": 13,
   "metadata": {},
   "outputs": [],
   "source": [
    "random.seed(2021)\n",
    "np.random.seed(2021)\n",
    "tf.random.set_seed(2021)"
   ]
  },
  {
   "cell_type": "markdown",
   "metadata": {},
   "source": [
    "## Get Internal (Hyper)-Parameter(s)\n",
    "*Initialize the hyperparameters which are fully-specified by the user-provided hyperparameter(s).*"
   ]
  },
  {
   "cell_type": "markdown",
   "metadata": {},
   "source": [
    "### Initialize Grid\n",
    "This is $\\mathbb{X}$ and it represents the grid of initial states."
   ]
  },
  {
   "cell_type": "code",
   "execution_count": 14,
   "metadata": {},
   "outputs": [
    {
     "name": "stdout",
     "output_type": "stream",
     "text": [
      "• Grid Instances:  110 and : 84  Testing instances.\n"
     ]
    }
   ],
   "source": [
    "# Get Input Data\n",
    "#----------------------------------------------------------#\n",
    "## Train\n",
    "x_Grid = np.arange(start=-Max_Grid,\n",
    "                   stop=Max_Grid,\n",
    "                   step=(2*Max_Grid/N_Grid_Finess))\n",
    "t_Grid = np.linspace(0,T_end,(1+N_Euler_Maruyama_Steps))\n",
    "## Get Number of Instances in Grid: Training\n",
    "N_Grid_Instances_x = len(x_Grid)\n",
    "N_Grid_Instances_t = len(t_Grid)\n",
    "N_Grid_Instances = N_Grid_Instances_x*N_Grid_Instances_t \n",
    "\n",
    "#----------------------------------------------------------#\n",
    "## Test\n",
    "x_Grid_test = np.sort(np.random.uniform(low=-Max_Grid,\n",
    "                                        high=Max_Grid,\n",
    "                                        size = round(N_Grid_Instances*test_size_ratio)))\n",
    "t_Grid_test = np.linspace(T_end+0.001,T_end_test,(1+round(N_Euler_Maruyama_Steps*test_size_ratio)))\n",
    "# Get Number of Instances in Grid: Test\n",
    "N_Grid_Instances_x_test = len(x_Grid_test)\n",
    "N_Grid_Instances_t_test = len(t_Grid_test)\n",
    "N_Grid_Instances_test = N_Grid_Instances_x_test*N_Grid_Instances_t_test\n",
    "#----------------------------------------------------------#\n",
    "\n",
    "# Updater User\n",
    "print(\"\\u2022 Grid Instances: \", N_Grid_Instances, \"and :\",N_Grid_Instances_test,\" Testing instances.\")"
   ]
  },
  {
   "cell_type": "markdown",
   "metadata": {},
   "source": [
    "### Initialize Counting Parameters\n",
    "Initialize the \"conting\" type parameters which will help us to determine the length of loops and to intialize object's size later on.  "
   ]
  },
  {
   "cell_type": "code",
   "execution_count": 15,
   "metadata": {},
   "outputs": [
    {
     "name": "stdout",
     "output_type": "stream",
     "text": [
      "• 55  Centers will be produced; from a total datasize of:  10 !  (That's  0.5  percent).\n",
      "• Each Wasserstein-1 Ball should contain:  2 elements from the training set.\n"
     ]
    }
   ],
   "source": [
    "# Get Internal (Counting) Parameters\n",
    "N_Quantizers_to_parameterize = round(Quantization_Proportion*N_Grid_Instances)\n",
    "N_Elements_Per_Cluster = int(round(N_Grid_Instances/N_Quantizers_to_parameterize))\n",
    "\n",
    "# Update User\n",
    "print(\"\\u2022\",N_Quantizers_to_parameterize,\" Centers will be produced; from a total datasize of: \",N_Grid_Finess,\n",
    "      \"!  (That's \",Quantization_Proportion,\n",
    "      \" percent).\")\n",
    "print(\"\\u2022 Each Wasserstein-1 Ball should contain: \",\n",
    "      N_Elements_Per_Cluster, \n",
    "      \"elements from the training set.\")"
   ]
  },
  {
   "cell_type": "markdown",
   "metadata": {},
   "source": [
    "---"
   ]
  },
  {
   "cell_type": "markdown",
   "metadata": {},
   "source": [
    "### Simulate from non-Markovian SDE with rough volatility:\n",
    "$d X_t = \\alpha(t,X_t)dt + ((1-\\eta)\\beta(t,X_t)+\\eta\\sigma_t^H)dW_t ;\\qquad X_0 =x$\n",
    "Where $(\\sigma_t^H)_t$ is a fBM with Hurst parameter $H=0.01$ and $\\eta \\in [0,1]$ controlls the 'abount of long-term memory and roughness in $X_t$'."
   ]
  },
  {
   "cell_type": "markdown",
   "metadata": {},
   "source": [
    "### Define Sampler - Data-Generator"
   ]
  },
  {
   "cell_type": "markdown",
   "metadata": {},
   "source": [
    "Generates the empirical measure $\\sum_{n=1}^N \\delta_{X_T(\\omega_n)}$ of $X_T$ conditional on $X_0=x_0\\in \\mathbb{R}$ *($x_0$ and $T>0$ are user-provided)*."
   ]
  },
  {
   "cell_type": "code",
   "execution_count": 16,
   "metadata": {},
   "outputs": [],
   "source": [
    "def Euler_Maruyama_Generator(x_0,\n",
    "                             N_Euler_Maruyama_Steps = 10,\n",
    "                             N_Monte_Carlo_Samples = 100,\n",
    "                             T = 1,\n",
    "                             Hurst = 0.1,\n",
    "                             Ratio_fBM_to_typical_vol = 0.5): \n",
    "    \n",
    "    #----------------------------#    \n",
    "    # DEFINE INTERNAL PARAMETERS #\n",
    "    #----------------------------#\n",
    "    # Initialize Empirical Measure\n",
    "    X_T_Empirical = np.zeros([N_Euler_Maruyama_Steps,N_Monte_Carlo_Samples])\n",
    "\n",
    "\n",
    "    # Internal Initialization(s)\n",
    "    ## Initialize current state\n",
    "    n_sample = 0\n",
    "    ## Initialize Incriments\n",
    "    dt = T/N_Euler_Maruyama_Steps\n",
    "    sqrt_dt = np.sqrt(dt)\n",
    "\n",
    "    #-----------------------------#    \n",
    "    # Generate Monte-Carlo Sample #\n",
    "    #-----------------------------#\n",
    "    while n_sample < N_Monte_Carlo_Samples:\n",
    "        # Reset Step Counter\n",
    "        t = 1\n",
    "        # Initialize Current State \n",
    "        X_current = x_0\n",
    "        # Generate roughness\n",
    "        sigma_rough = FBM(n=N_Euler_Maruyama_Steps, hurst=0.75, length=1, method='daviesharte').fbm()\n",
    "        # Perform Euler-Maruyama Simulation\n",
    "        while t<(N_Euler_Maruyama_Steps-1):\n",
    "            # Update Internal Parameters\n",
    "            ## Get Current Time\n",
    "            t_current = t*(T/N_Euler_Maruyama_Steps)\n",
    "\n",
    "            # Update Generated Path\n",
    "            drift_t = alpha(t_current,X_current)*dt\n",
    "            vol_t = ((1-Ratio_fBM_to_typical_vol)*beta(t_current,X_current)+Ratio_fBM_to_typical_vol*(sigma_rough[t]))*np.random.normal(0,sqrt_dt)\n",
    "            X_current = X_current + drift_t + vol_t\n",
    "\n",
    "            # Update Counter (EM)\n",
    "            t = t+1\n",
    "\n",
    "            # Update Empirical Measure\n",
    "            X_T_Empirical[t,n_sample] = X_current\n",
    "\n",
    "        # Update Counter (MC)\n",
    "        n_sample = n_sample + 1\n",
    "\n",
    "    return X_T_Empirical"
   ]
  },
  {
   "cell_type": "markdown",
   "metadata": {},
   "source": [
    "---"
   ]
  },
  {
   "cell_type": "markdown",
   "metadata": {},
   "source": [
    "### Initializations"
   ]
  },
  {
   "cell_type": "code",
   "execution_count": 17,
   "metadata": {},
   "outputs": [],
   "source": [
    "# Initialize List of Barycenters\n",
    "Wasserstein_Barycenters = []\n",
    "# Initialize Terminal-Time Empirical Measures\n",
    "## Training Outputs\n",
    "measures_locations_list = []\n",
    "measures_weights_list = []\n",
    "## Testing Outputs\n",
    "measures_locations_test_list = []\n",
    "measures_weights_test_list = []\n",
    "# Grid (Training and Testing inputs (t,x))\n",
    "X_train = []\n",
    "X_test = []\n",
    "\n",
    "# Initialize (Empirical) Weight(s)\n",
    "measure_weights = np.ones(N_Monte_Carlo_Samples)/N_Monte_Carlo_Samples\n",
    "measure_weights_test = np.ones(N_Monte_Carlo_Samples_Test)/N_Monte_Carlo_Samples_Test\n",
    "# Initialize Quantizer\n",
    "Init_Quantizer_generic = np.ones(N_Monte_Carlo_Samples)/N_Monte_Carlo_Samples"
   ]
  },
  {
   "cell_type": "markdown",
   "metadata": {},
   "source": [
    "## Generate $\\{\\hat{\\nu}^{N}_{T,x}\\}_{x \\in \\mathbb{X}}$ Build Wasserstein Cover"
   ]
  },
  {
   "cell_type": "markdown",
   "metadata": {},
   "source": [
    "#### Get Data"
   ]
  },
  {
   "cell_type": "markdown",
   "metadata": {},
   "source": [
    "### Gaussian $2$-Parameter Flow"
   ]
  },
  {
   "cell_type": "code",
   "execution_count": 18,
   "metadata": {},
   "outputs": [
    {
     "name": "stderr",
     "output_type": "stream",
     "text": [
      "100%|██████████| 10/10 [00:00<00:00, 1760.24it/s]\n",
      "  0%|          | 0/28 [00:00<?, ?it/s]"
     ]
    },
    {
     "name": "stdout",
     "output_type": "stream",
     "text": [
      "Direct Sampling from Distribution for 2-Parameter Flow.\n",
      "===================================\n",
      "Start Simulation Step: Training Set\n",
      "===================================\n",
      "==================================\n",
      "Done Simulation Step: Training Set\n",
      "==================================\n",
      "===============================--------------------------------------===============================\n",
      "===============================--------------------------------------===============================\n",
      "===============================--------------------------------------===============================\n",
      "===============================\n",
      "Start Simulation Step: Test Set\n",
      "===============================\n"
     ]
    },
    {
     "name": "stderr",
     "output_type": "stream",
     "text": [
      "\r",
      "100%|██████████| 28/28 [00:00<00:00, 469.02it/s]"
     ]
    },
    {
     "name": "stdout",
     "output_type": "stream",
     "text": [
      "==============================\n",
      "Done Simulation Step: Test Set\n",
      "==============================\n"
     ]
    },
    {
     "name": "stderr",
     "output_type": "stream",
     "text": [
      "\n"
     ]
    }
   ],
   "source": [
    "if groud_truth == \"2lnflow\":\n",
    "    print(\"Direct Sampling from Distribution for 2-Parameter Flow.\")\n",
    "    #----------------------------------------------------------------------------------------------#\n",
    "    # Update User\n",
    "    print(\"===================================\")\n",
    "    print(\"Start Simulation Step: Training Set\")\n",
    "    print(\"===================================\")\n",
    "    # Perform Monte-Carlo Data Generation\n",
    "    for i in tqdm(range(N_Grid_Instances_x)):\n",
    "        x_loop = x_Grid[i]\n",
    "        # Generate finite-variation path (since it stays unchanged)\n",
    "        for j in range(N_Grid_Instances_t):\n",
    "            t_loop = t_Grid[j]\n",
    "            measures_locations_loop = np.random.normal(alpha(t_loop,x_loop),\n",
    "                                                          beta(t_loop,x_loop),\n",
    "                                                          N_Monte_Carlo_Samples)\n",
    "        \n",
    "            # Update Inputs\n",
    "            if (i==0 and j==0):\n",
    "                X_train = np.array([t_loop,x_loop]).reshape(1,-1)\n",
    "            else:\n",
    "                X_train = np.append(X_train,np.array([t_loop,x_loop]).reshape(1,-1),axis=0)\n",
    "        \n",
    "            # Append to List\n",
    "            measures_locations_list = measures_locations_list + [measures_locations_loop]\n",
    "            measures_weights_list.append(measure_weights)\n",
    "        \n",
    "        \n",
    "    \n",
    "    # Update User\n",
    "    print(\"==================================\")\n",
    "    print(\"Done Simulation Step: Training Set\")\n",
    "    print(\"==================================\")\n",
    "\n",
    "\n",
    "print(\"===============================--------------------------------------===============================\")\n",
    "print(\"===============================--------------------------------------===============================\")\n",
    "print(\"===============================--------------------------------------===============================\")\n",
    "\n",
    "if groud_truth == \"2lnflow\":\n",
    "    print(\"===============================\")\n",
    "    print(\"Start Simulation Step: Test Set\")\n",
    "    print(\"===============================\")\n",
    "    # Perform Monte-Carlo Data Generation\n",
    "    for i in tqdm(range(N_Grid_Instances_x_test)):\n",
    "        x_loop = x_Grid_test[i]\n",
    "        # Generate finite-variation path (since it stays unchanged)\n",
    "        for j in range(N_Grid_Instances_t_test):\n",
    "            t_loop = t_Grid_test[j]\n",
    "            measures_locations_loop = np.random.normal(alpha(t_loop,x_loop),\n",
    "                                                          beta(t_loop,x_loop),\n",
    "                                                          N_Monte_Carlo_Samples_Test)\n",
    "        \n",
    "            # Update Inputs\n",
    "            if (i==0 and j==0):\n",
    "                X_test = np.array([t_loop,x_loop]).reshape(1,-1)\n",
    "            else:\n",
    "                X_test = np.append(X_test,np.array([t_loop,x_loop]).reshape(1,-1),axis=0)\n",
    "        \n",
    "            # Append to List\n",
    "            measures_locations_test_list = measures_locations_test_list + [measures_locations_loop]\n",
    "            measures_weights_test_list.append(measure_weights_test)\n",
    "    print(\"==============================\")\n",
    "    print(\"Done Simulation Step: Test Set\")\n",
    "    print(\"==============================\")"
   ]
  },
  {
   "cell_type": "markdown",
   "metadata": {},
   "source": [
    "### Rough SDE Simulator:"
   ]
  },
  {
   "cell_type": "code",
   "execution_count": 19,
   "metadata": {},
   "outputs": [
    {
     "name": "stdout",
     "output_type": "stream",
     "text": [
      "===============================--------------------------------------===============================\n",
      "===============================--------------------------------------===============================\n",
      "===============================--------------------------------------===============================\n"
     ]
    }
   ],
   "source": [
    "if groud_truth == \"rSDE\":\n",
    "    print(\"Using Euler-Maruyama distritization + Monte-Carlo Sampling.\")\n",
    "    #----------------------------------------------------------------------------------------------#\n",
    "    # Update User\n",
    "    print(\"===================================\")\n",
    "    print(\"Start Simulation Step: Training Set\")\n",
    "    print(\"===================================\")\n",
    "    # Initialize fBM Generator\n",
    "    fBM_Generator = FBM(n=N_Euler_Maruyama_Steps, hurst=0.75, length=1, method='daviesharte')\n",
    "\n",
    "    # Perform Monte-Carlo Data Generation\n",
    "    for i in tqdm(range(N_Grid_Instances_x)):\n",
    "        # Get x\n",
    "        field_loop_x = field_dirction_x(x_Grid[i])\n",
    "        # Get omega and t\n",
    "        # Generate finite-variation path (since it stays unchanged)\n",
    "        finite_variation_path = finite_variation_t(t_Grid).reshape(-1,1) +field_loop_x\n",
    "        # Simulate Paths\n",
    "        paths_loop = Euler_Maruyama_Generator(x_0=x_Grid[i],\n",
    "                                              N_Euler_Maruyama_Steps = len(t_Grid),\n",
    "                                              N_Monte_Carlo_Samples = N_Monte_Carlo_Samples,\n",
    "                                              T = T_end,\n",
    "                                              Hurst=Rougness,\n",
    "                                              Ratio_fBM_to_typical_vol=Ratio_fBM_to_typical_vol)\n",
    "        \n",
    "        # Map numpy to list\n",
    "        measures_locations_loop = paths_loop.tolist()\n",
    "        # Get inputs\n",
    "        X_train_loop = np.append(np.repeat(x_Grid[i],(N_Euler_Maruyama_Steps+1)).reshape(-1,1),\n",
    "                                 t_Grid.reshape(-1,1),\n",
    "                                 axis=1)\n",
    "        \n",
    "        # Append to List\n",
    "        measures_locations_list = measures_locations_list + measures_locations_loop\n",
    "        measures_weights_list.append(measure_weights)\n",
    "        \n",
    "        # Update Inputs\n",
    "        if i==0:\n",
    "            X_train = X_train_loop\n",
    "        else:\n",
    "            X_train = np.append(X_train,X_train_loop,axis=0)\n",
    "    \n",
    "    # Update User\n",
    "    print(\"==================================\")\n",
    "    print(\"Done Simulation Step: Training Set\")\n",
    "    print(\"==================================\")\n",
    "\n",
    "\n",
    "print(\"===============================--------------------------------------===============================\")\n",
    "print(\"===============================--------------------------------------===============================\")\n",
    "print(\"===============================--------------------------------------===============================\")\n",
    "\n",
    "if groud_truth == \"rSDE\":\n",
    "    print(\"===============================\")\n",
    "    print(\"Start Simulation Step: Test Set\")\n",
    "    print(\"===============================\")\n",
    "    # Initialize fBM Generator\n",
    "    fBM_Generator_test = FBM(n=(len(t_Grid_test)-1), hurst=0.75, length=1, method='daviesharte')\n",
    "\n",
    "    # Perform Monte-Carlo Data Generation\n",
    "    for i in tqdm(range(N_Grid_Instances_x_test)):\n",
    "        # Get x\n",
    "        field_loop_x = field_dirction_x(x_Grid_test[i])\n",
    "        # Get omega and t\n",
    "        # Generate finite-variation path (since it stays unchanged)\n",
    "        finite_variation_path = finite_variation_t(t_Grid_test).reshape(-1,1) +field_loop_x\n",
    "        paths_loop = Euler_Maruyama_Generator(x_0=x_Grid_test[i],\n",
    "                                              N_Euler_Maruyama_Steps = len(t_Grid_test),\n",
    "                                              N_Monte_Carlo_Samples = N_Monte_Carlo_Samples_Test,\n",
    "                                              T = T_end_test,\n",
    "                                              Hurst=Rougness,\n",
    "                                              Ratio_fBM_to_typical_vol=Ratio_fBM_to_typical_vol)\n",
    "        \n",
    "        # Map numpy to list\n",
    "        measures_locations_loop = paths_loop.tolist()\n",
    "        # Get inputs\n",
    "        X_test_loop = np.append(np.repeat(x_Grid_test[i],len(t_Grid_test)).reshape(-1,1),\n",
    "                                 t_Grid_test.reshape(-1,1),\n",
    "                                 axis=1)\n",
    "        \n",
    "        # Append to List\n",
    "        measures_locations_test_list = measures_locations_test_list + measures_locations_loop\n",
    "        measures_weights_test_list.append(measure_weights_test)\n",
    "        \n",
    "        # Update Inputs\n",
    "        if i==0:\n",
    "            X_test = X_test_loop\n",
    "        else:\n",
    "            X_test = np.append(X_test,X_test_loop,axis=0)\n",
    "    print(\"==============================\")\n",
    "    print(\"Done Simulation Step: Test Set\")\n",
    "    print(\"==============================\")"
   ]
  },
  {
   "cell_type": "markdown",
   "metadata": {},
   "source": [
    "### Perturbed fBM Generator:"
   ]
  },
  {
   "cell_type": "code",
   "execution_count": 20,
   "metadata": {},
   "outputs": [
    {
     "name": "stdout",
     "output_type": "stream",
     "text": [
      "Current Monte-Carlo Step:\n",
      "===============================--------------------------------------===============================\n",
      "===============================--------------------------------------===============================\n",
      "===============================--------------------------------------===============================\n",
      "===============================--------------------------------------===============================\n",
      "===============================--------------------------------------===============================\n",
      "===============================--------------------------------------===============================\n"
     ]
    }
   ],
   "source": [
    "# Update User\n",
    "print(\"Current Monte-Carlo Step:\")\n",
    "if groud_truth == \"pfBM\":\n",
    "    print(\"===================================\")\n",
    "    print(\"Start Simulation Step: Training Set\")\n",
    "    print(\"===================================\")\n",
    "    # Initialize fBM Generator\n",
    "    fBM_Generator = FBM(n=N_Euler_Maruyama_Steps, hurst=0.75, length=1, method='daviesharte')\n",
    "\n",
    "    # Perform Monte-Carlo Data Generation\n",
    "    for i in tqdm(range(N_Grid_Instances_x)):\n",
    "        # Get x\n",
    "        field_loop_x = field_dirction_x(x_Grid[i])\n",
    "        # Get omega and t\n",
    "        # Generate finite-variation path (since it stays unchanged)\n",
    "        finite_variation_path = finite_variation_t(t_Grid).reshape(-1,1) +field_loop_x\n",
    "        for n_MC in range(N_Monte_Carlo_Samples):\n",
    "            fBM_variation_path_loop = fBM_Generator.fbm().reshape(-1,1)\n",
    "            generated_path_loop = finite_variation_path + fBM_variation_path_loop\n",
    "            if n_MC == 0:\n",
    "                paths_loop = generated_path_loop\n",
    "            else:\n",
    "                paths_loop = np.append(paths_loop,generated_path_loop,axis=-1)\n",
    "        \n",
    "        # Map numpy to list\n",
    "        measures_locations_loop = paths_loop.tolist()\n",
    "        # Get inputs\n",
    "        X_train_loop = np.append(np.repeat(x_Grid[i],(N_Euler_Maruyama_Steps+1)).reshape(-1,1),\n",
    "                                 t_Grid.reshape(-1,1),\n",
    "                                 axis=1)\n",
    "        \n",
    "        # Append to List\n",
    "        measures_locations_list = measures_locations_list + measures_locations_loop\n",
    "        measures_weights_list.append(measure_weights)\n",
    "        \n",
    "        # Update Inputs\n",
    "        if i==0:\n",
    "            X_train = X_train_loop\n",
    "        else:\n",
    "            X_train = np.append(X_train,X_train_loop,axis=0)\n",
    "    \n",
    "    # Update User\n",
    "    print(\"==================================\")\n",
    "    print(\"Done Simulation Step: Training Set\")\n",
    "    print(\"==================================\")\n",
    "\n",
    "\n",
    "print(\"===============================--------------------------------------===============================\")\n",
    "print(\"===============================--------------------------------------===============================\")\n",
    "print(\"===============================--------------------------------------===============================\")\n",
    "\n",
    "if groud_truth == \"pfBM\":\n",
    "    print(\"===============================\")\n",
    "    print(\"Start Simulation Step: Test Set\")\n",
    "    print(\"===============================\")\n",
    "    # Initialize fBM Generator\n",
    "    fBM_Generator_test = FBM(n=(len(t_Grid_test)-1), hurst=0.75, length=1, method='daviesharte')\n",
    "\n",
    "    # Perform Monte-Carlo Data Generation\n",
    "    for i in tqdm(range(N_Grid_Instances_x_test)):\n",
    "        # Get x\n",
    "        field_loop_x = field_dirction_x(x_Grid_test[i])\n",
    "        # Get omega and t\n",
    "        # Generate finite-variation path (since it stays unchanged)\n",
    "        finite_variation_path = finite_variation_t(t_Grid_test).reshape(-1,1) +field_loop_x\n",
    "        for n_MC in range(N_Monte_Carlo_Samples_Test):\n",
    "            fBM_variation_path_loop = fBM_Generator_test.fbm().reshape(-1,1)\n",
    "            generated_path_loop = finite_variation_path + fBM_variation_path_loop\n",
    "            if n_MC == 0:\n",
    "                paths_loop = generated_path_loop\n",
    "            else:\n",
    "                paths_loop = np.append(paths_loop,generated_path_loop,axis=-1)\n",
    "        \n",
    "        # Map numpy to list\n",
    "        measures_locations_loop = paths_loop.tolist()\n",
    "        # Get inputs\n",
    "        X_test_loop = np.append(np.repeat(x_Grid_test[i],len(t_Grid_test)).reshape(-1,1),\n",
    "                                 t_Grid_test.reshape(-1,1),\n",
    "                                 axis=1)\n",
    "        \n",
    "        # Append to List\n",
    "        measures_locations_test_list = measures_locations_test_list + measures_locations_loop\n",
    "        measures_weights_test_list.append(measure_weights_test)\n",
    "        \n",
    "        # Update Inputs\n",
    "        if i==0:\n",
    "            X_test = X_test_loop\n",
    "        else:\n",
    "            X_test = np.append(X_test,X_test_loop,axis=0)\n",
    "    print(\"==============================\")\n",
    "    print(\"Done Simulation Step: Test Set\")\n",
    "    print(\"==============================\")\n",
    "    \n",
    "print(\"===============================--------------------------------------===============================\")\n",
    "print(\"===============================--------------------------------------===============================\")\n",
    "print(\"===============================--------------------------------------===============================\")"
   ]
  },
  {
   "cell_type": "markdown",
   "metadata": {},
   "source": [
    "#### Start Timer (Model Type A)"
   ]
  },
  {
   "cell_type": "code",
   "execution_count": 21,
   "metadata": {},
   "outputs": [],
   "source": [
    "# Start Timer\n",
    "Type_A_timer_Begin = time.time()"
   ]
  },
  {
   "cell_type": "markdown",
   "metadata": {},
   "source": [
    "## Get \"Sample Barycenters\":\n",
    "Let $\\{\\mu_n\\}_{n=1}^N\\subset\\mathcal{P}_1(\\mathbb{R}^d)$.  Then, the *sample barycenter* is defined by:\n",
    "1. $\\mathcal{M}^{(0)}\\triangleq \\left\\{\\hat{\\mu}_n\\right\\}_{n=1}^N$,\n",
    "2. For $1\\leq n\\leq \\mbox{N sample barycenters}$: \n",
    "    - $\n",
    "\\mu^{\\star}\\in \\underset{\\tilde{\\mu}\\in \\mathcal{M}^{(n)}}{\\operatorname{argmin}}\\, \\sum_{n=1}^N \\mathcal{W}_1\\left(\\mu^{\\star},\\mu_n\\right),\n",
    "$\n",
    "    - $\\mathcal{M}^{(n)}\\triangleq \\mathcal{M}^{(n-1)} - \\{\\mu^{\\star}\\},$\n",
    "*i.e., the closest generated measure form the random sample to all other elements of the random sample.*\n",
    "\n",
    "---\n",
    "**Note:** *We simplify the computational burden of getting the correct classes by putting this right into this next loop.*\n",
    "\n",
    "---"
   ]
  },
  {
   "cell_type": "markdown",
   "metadata": {},
   "source": [
    "## Build Dissimilarity (Distance) Matrix\n",
    "*In this step we build a dissimularity matrix of the dataset on the Wasserstein-1 space.  Namely:*\n",
    "$$\n",
    "\\operatorname{Mat}_{\\# \\mathbb{X},\\# \\mathbb{X}}\\left(\\mathbb{R}\\right)\\ni D; \\text{ where}\\qquad \\, D_{i,j}\\triangleq \\mathcal{W}_1\\left(f(x_i),f(x_j)\\right)\n",
    ";\n",
    "$$\n",
    "*where $f\\in C\\left((\\mathcal{X},\\mathcal{P}_1(\\mathcal{Y})\\right)$ is the \"target\" function we are learning.*\n",
    "\n",
    "**Note**: *Computing the dissimularity matrix is the most costly part of the entire algorithm with a complexity of at-most $\\mathcal{O}\\left(E_{W} \\# \\mathbb{X})^2\\right)$ where $E_W$ denotes the complexity of a single Wasserstein-1 evaluation between two elements of the dataset.*"
   ]
  },
  {
   "cell_type": "code",
   "execution_count": 22,
   "metadata": {},
   "outputs": [
    {
     "name": "stderr",
     "output_type": "stream",
     "text": [
      "  6%|▋         | 7/110 [00:00<00:01, 69.68it/s]"
     ]
    },
    {
     "name": "stdout",
     "output_type": "stream",
     "text": [
      "😚  Begin Building Distance Matrix  😚\n"
     ]
    },
    {
     "name": "stderr",
     "output_type": "stream",
     "text": [
      "100%|██████████| 110/110 [00:01<00:00, 92.46it/s]"
     ]
    },
    {
     "name": "stdout",
     "output_type": "stream",
     "text": [
      "😀  Done Building Distance Matrix 😀 !\n"
     ]
    },
    {
     "name": "stderr",
     "output_type": "stream",
     "text": [
      "\n"
     ]
    }
   ],
   "source": [
    "# Initialize Disimilarity Matrix\n",
    "Dissimilarity_matrix_ot = np.zeros([N_Grid_Instances,N_Grid_Instances])\n",
    "\n",
    "\n",
    "# Update User\n",
    "print(\"\\U0001F61A\",\" Begin Building Distance Matrix\",\" \\U0001F61A\")\n",
    "# Build Disimilarity Matrix\n",
    "for i in tqdm(range(N_Grid_Instances)):\n",
    "    for j in range(N_Grid_Instances):\n",
    "        Dissimilarity_matrix_ot[i,j] = ot.emd2_1d(measures_locations_list[j],\n",
    "                                                  measures_locations_list[i])\n",
    "# Update User\n",
    "print(\"\\U0001F600\",\" Done Building Distance Matrix\",\"\\U0001F600\",\"!\")"
   ]
  },
  {
   "cell_type": "markdown",
   "metadata": {},
   "source": [
    "## Initialize Quantities to Loop Over"
   ]
  },
  {
   "cell_type": "markdown",
   "metadata": {},
   "source": [
    "## Get \"Sample Barycenters\" and Generate Classes"
   ]
  },
  {
   "cell_type": "code",
   "execution_count": 23,
   "metadata": {},
   "outputs": [],
   "source": [
    "# Initialize Locations Matrix (Internal to Loop)\n",
    "measures_locations_list_current = copy.copy(measures_locations_list)\n",
    "Dissimilarity_matrix_ot_current = copy.copy(Dissimilarity_matrix_ot)\n",
    "\n",
    "# Initialize masker vector\n",
    "masker = np.ones(N_Grid_Instances)\n",
    "\n",
    "# Initialize Sorting Reference Vector (This helps us efficiently scroll through the disimularity matrix to identify the barycenter without having to re-compute the dissimultarity matrix of a sub-saple at every iteration (which is the most costly part of the algorithm!))\n",
    "Distances_Loop = Dissimilarity_matrix_ot_current.sum(axis=1)\n",
    "\n",
    "# Initialize Classes (In-Sample)\n",
    "Classifer_Wasserstein_Centers = np.zeros([N_Quantizers_to_parameterize,N_Grid_Instances])"
   ]
  },
  {
   "cell_type": "code",
   "execution_count": 24,
   "metadata": {},
   "outputs": [
    {
     "name": "stderr",
     "output_type": "stream",
     "text": [
      "  0%|          | 0/55 [00:00<?, ?it/s]/usr/lib/python3.7/site-packages/ipykernel_launcher.py:26: RuntimeWarning: invalid value encountered in multiply\n",
      "100%|██████████| 55/55 [00:00<00:00, 13749.36it/s]"
     ]
    },
    {
     "name": "stdout",
     "output_type": "stream",
     "text": [
      "😚  Begin Identifying Sample Barycenters  😚\n",
      "😀  Done Identifying Sample Barycenters 😀 !\n",
      "[[0. 0. 0. ... 0. 0. 0.]\n",
      " [0. 0. 0. ... 0. 0. 0.]\n",
      " [0. 0. 0. ... 0. 0. 0.]\n",
      " ...\n",
      " [0. 0. 0. ... 0. 0. 0.]\n",
      " [0. 0. 0. ... 0. 0. 0.]\n",
      " [0. 0. 0. ... 0. 0. 0.]]\n"
     ]
    },
    {
     "name": "stderr",
     "output_type": "stream",
     "text": [
      "\n"
     ]
    }
   ],
   "source": [
    "# Update User\n",
    "print(\"\\U0001F61A\",\" Begin Identifying Sample Barycenters\",\" \\U0001F61A\")\n",
    "\n",
    "# Identify Sample Barycenters\n",
    "for i in tqdm(range(N_Quantizers_to_parameterize)):    \n",
    "    # GET BARYCENTER #\n",
    "    #----------------#\n",
    "    ## Identify row with minimum total distance\n",
    "    Barycenter_index = int(Distances_Loop.argsort()[:1][0])\n",
    "    ## Get Barycenter\n",
    "    ## Update Barycenters Array ##\n",
    "    #----------------------------#\n",
    "    ### Get next Barycenter\n",
    "    new_barycenter_loop = np.array(measures_locations_list_current[Barycenter_index]).reshape(-1,1)\n",
    "    ### Update Array of Barycenters\n",
    "    if i == 0:\n",
    "        # Initialize Barycenters Array\n",
    "        Barycenters_Array = new_barycenter_loop\n",
    "    else:\n",
    "        # Populate Barycenters Array\n",
    "        Barycenters_Array = np.append(Barycenters_Array,new_barycenter_loop,axis=-1)\n",
    "\n",
    "    # GET CLUSTER #\n",
    "    #-------------#\n",
    "    # Identify Cluster for this barycenter (which elements are closest to it)\n",
    "    Cluster_indices = (masker*Dissimilarity_matrix_ot_current[:,Barycenter_index]).argsort()[:N_Elements_Per_Cluster]\n",
    "    ## UPDATES Set  M^{(n)}  ##\n",
    "    #-------------------------#\n",
    "    Dissimilarity_matrix_ot_current[Cluster_indices,:] = 0\n",
    "    # Distance-Based Sorting\n",
    "    Distances_Loop[Cluster_indices] = math.inf\n",
    "\n",
    "    # Update Cluster\n",
    "    masker[Cluster_indices] = math.inf\n",
    "    \n",
    "    # Update Classes\n",
    "    Classifer_Wasserstein_Centers[i,Cluster_indices] = 1\n",
    "#     print(Cluster_indices)\n",
    "\n",
    "# Update User\n",
    "print(\"\\U0001F600\",\" Done Identifying Sample Barycenters\",\"\\U0001F600\",\"!\")\n",
    "print(Classifer_Wasserstein_Centers)"
   ]
  },
  {
   "cell_type": "markdown",
   "metadata": {},
   "source": [
    "---"
   ]
  },
  {
   "cell_type": "markdown",
   "metadata": {},
   "source": [
    "### Train Deep Classifier"
   ]
  },
  {
   "cell_type": "markdown",
   "metadata": {},
   "source": [
    "In this step, we train a deep (feed-forward) classifier:\n",
    "$$\n",
    "\\hat{f}\\triangleq \\operatorname{Softmax}_N\\circ W_J\\circ \\sigma \\bullet \\dots \\sigma \\bullet W_1,\n",
    "$$\n",
    "to identify which barycenter we are closest to."
   ]
  },
  {
   "cell_type": "markdown",
   "metadata": {},
   "source": [
    "Re-Load Grid and Redefine Relevant Input/Output dimensions in dictionary."
   ]
  },
  {
   "cell_type": "markdown",
   "metadata": {},
   "source": [
    "#### Train Deep Classifier"
   ]
  },
  {
   "cell_type": "code",
   "execution_count": 25,
   "metadata": {},
   "outputs": [
    {
     "name": "stdout",
     "output_type": "stream",
     "text": [
      "Deep Feature Builder - Ready\n",
      "Deep Classifier - Ready\n"
     ]
    }
   ],
   "source": [
    "# Re-Load Hyper-parameter Grid\n",
    "exec(open('CV_Grid.py').read())\n",
    "# Re-Load Classifier Function(s)\n",
    "exec(open('Helper_Functions.py').read())"
   ]
  },
  {
   "cell_type": "code",
   "execution_count": 26,
   "metadata": {},
   "outputs": [
    {
     "name": "stdout",
     "output_type": "stream",
     "text": [
      "Fitting 2 folds for each of 1 candidates, totalling 2 fits\n"
     ]
    },
    {
     "name": "stderr",
     "output_type": "stream",
     "text": [
      "[Parallel(n_jobs=4)]: Using backend LokyBackend with 4 concurrent workers.\n",
      "[Parallel(n_jobs=4)]: Done   2 out of   2 | elapsed:    8.9s remaining:    0.0s\n",
      "[Parallel(n_jobs=4)]: Done   2 out of   2 | elapsed:    8.9s finished\n"
     ]
    },
    {
     "name": "stdout",
     "output_type": "stream",
     "text": [
      "Epoch 1/400\n",
      "4/4 [==============================] - 0s 3ms/step - loss: 4.0150 - accuracy: 0.0182\n",
      "Epoch 2/400\n",
      "4/4 [==============================] - 0s 4ms/step - loss: 3.9784 - accuracy: 0.0636\n",
      "Epoch 3/400\n",
      "4/4 [==============================] - 0s 4ms/step - loss: 3.9500 - accuracy: 0.0909\n",
      "Epoch 4/400\n",
      "4/4 [==============================] - 0s 4ms/step - loss: 3.9075 - accuracy: 0.0909\n",
      "Epoch 5/400\n",
      "4/4 [==============================] - 0s 3ms/step - loss: 3.8418 - accuracy: 0.1000\n",
      "Epoch 6/400\n",
      "4/4 [==============================] - 0s 4ms/step - loss: 3.7617 - accuracy: 0.0909\n",
      "Epoch 7/400\n",
      "4/4 [==============================] - 0s 5ms/step - loss: 3.6529 - accuracy: 0.0818\n",
      "Epoch 8/400\n",
      "4/4 [==============================] - 0s 4ms/step - loss: 3.5437 - accuracy: 0.0909\n",
      "Epoch 9/400\n",
      "4/4 [==============================] - 0s 4ms/step - loss: 3.4590 - accuracy: 0.1091\n",
      "Epoch 10/400\n",
      "4/4 [==============================] - 0s 4ms/step - loss: 3.3702 - accuracy: 0.1182\n",
      "Epoch 11/400\n",
      "4/4 [==============================] - 0s 3ms/step - loss: 3.2876 - accuracy: 0.0909\n",
      "Epoch 12/400\n",
      "4/4 [==============================] - 0s 4ms/step - loss: 3.2166 - accuracy: 0.1000\n",
      "Epoch 13/400\n",
      "4/4 [==============================] - 0s 4ms/step - loss: 3.1466 - accuracy: 0.1091\n",
      "Epoch 14/400\n",
      "4/4 [==============================] - 0s 4ms/step - loss: 3.0983 - accuracy: 0.1273\n",
      "Epoch 15/400\n",
      "4/4 [==============================] - 0s 4ms/step - loss: 3.0448 - accuracy: 0.0909\n",
      "Epoch 16/400\n",
      "4/4 [==============================] - 0s 5ms/step - loss: 2.9912 - accuracy: 0.1545\n",
      "Epoch 17/400\n",
      "4/4 [==============================] - 0s 4ms/step - loss: 2.9542 - accuracy: 0.1364\n",
      "Epoch 18/400\n",
      "4/4 [==============================] - 0s 5ms/step - loss: 2.9028 - accuracy: 0.1545\n",
      "Epoch 19/400\n",
      "4/4 [==============================] - 0s 4ms/step - loss: 2.8755 - accuracy: 0.1364\n",
      "Epoch 20/400\n",
      "4/4 [==============================] - 0s 4ms/step - loss: 2.8333 - accuracy: 0.1182\n",
      "Epoch 21/400\n",
      "4/4 [==============================] - 0s 3ms/step - loss: 2.8104 - accuracy: 0.1273\n",
      "Epoch 22/400\n",
      "4/4 [==============================] - 0s 6ms/step - loss: 2.7616 - accuracy: 0.1273\n",
      "Epoch 23/400\n",
      "4/4 [==============================] - 0s 3ms/step - loss: 2.7501 - accuracy: 0.1455\n",
      "Epoch 24/400\n",
      "4/4 [==============================] - 0s 4ms/step - loss: 2.7228 - accuracy: 0.1000\n",
      "Epoch 25/400\n",
      "4/4 [==============================] - 0s 5ms/step - loss: 2.6664 - accuracy: 0.1091\n",
      "Epoch 26/400\n",
      "4/4 [==============================] - 0s 5ms/step - loss: 2.6554 - accuracy: 0.1273\n",
      "Epoch 27/400\n",
      "4/4 [==============================] - 0s 5ms/step - loss: 2.6137 - accuracy: 0.1455\n",
      "Epoch 28/400\n",
      "4/4 [==============================] - 0s 6ms/step - loss: 2.5794 - accuracy: 0.1364\n",
      "Epoch 29/400\n",
      "4/4 [==============================] - 0s 5ms/step - loss: 2.5481 - accuracy: 0.1273\n",
      "Epoch 30/400\n",
      "4/4 [==============================] - 0s 4ms/step - loss: 2.5246 - accuracy: 0.1091\n",
      "Epoch 31/400\n",
      "4/4 [==============================] - 0s 5ms/step - loss: 2.4991 - accuracy: 0.1455\n",
      "Epoch 32/400\n",
      "4/4 [==============================] - 0s 5ms/step - loss: 2.4226 - accuracy: 0.1636\n",
      "Epoch 33/400\n",
      "4/4 [==============================] - 0s 3ms/step - loss: 2.4041 - accuracy: 0.1545\n",
      "Epoch 34/400\n",
      "4/4 [==============================] - 0s 4ms/step - loss: 2.3897 - accuracy: 0.2000\n",
      "Epoch 35/400\n",
      "4/4 [==============================] - 0s 3ms/step - loss: 2.3526 - accuracy: 0.1727\n",
      "Epoch 36/400\n",
      "4/4 [==============================] - 0s 4ms/step - loss: 2.3097 - accuracy: 0.1909\n",
      "Epoch 37/400\n",
      "4/4 [==============================] - 0s 5ms/step - loss: 2.2743 - accuracy: 0.2091\n",
      "Epoch 38/400\n",
      "4/4 [==============================] - 0s 5ms/step - loss: 2.2584 - accuracy: 0.2273\n",
      "Epoch 39/400\n",
      "4/4 [==============================] - 0s 4ms/step - loss: 2.2216 - accuracy: 0.2364\n",
      "Epoch 40/400\n",
      "4/4 [==============================] - 0s 5ms/step - loss: 2.1763 - accuracy: 0.2636\n",
      "Epoch 41/400\n",
      "4/4 [==============================] - 0s 5ms/step - loss: 2.1753 - accuracy: 0.2364\n",
      "Epoch 42/400\n",
      "4/4 [==============================] - 0s 5ms/step - loss: 2.1187 - accuracy: 0.2455\n",
      "Epoch 43/400\n",
      "4/4 [==============================] - 0s 4ms/step - loss: 2.1017 - accuracy: 0.2273\n",
      "Epoch 44/400\n",
      "4/4 [==============================] - 0s 4ms/step - loss: 2.0719 - accuracy: 0.2818\n",
      "Epoch 45/400\n",
      "4/4 [==============================] - 0s 3ms/step - loss: 2.0374 - accuracy: 0.2364\n",
      "Epoch 46/400\n",
      "4/4 [==============================] - 0s 5ms/step - loss: 1.9677 - accuracy: 0.2727\n",
      "Epoch 47/400\n",
      "4/4 [==============================] - 0s 5ms/step - loss: 1.9711 - accuracy: 0.3091\n",
      "Epoch 48/400\n",
      "4/4 [==============================] - 0s 6ms/step - loss: 1.9537 - accuracy: 0.3273\n",
      "Epoch 49/400\n",
      "4/4 [==============================] - 0s 5ms/step - loss: 1.9229 - accuracy: 0.3727\n",
      "Epoch 50/400\n",
      "4/4 [==============================] - 0s 4ms/step - loss: 1.8762 - accuracy: 0.3455\n",
      "Epoch 51/400\n",
      "4/4 [==============================] - 0s 4ms/step - loss: 1.8364 - accuracy: 0.3818\n",
      "Epoch 52/400\n",
      "4/4 [==============================] - 0s 4ms/step - loss: 1.7952 - accuracy: 0.4091\n",
      "Epoch 53/400\n",
      "4/4 [==============================] - 0s 4ms/step - loss: 1.7690 - accuracy: 0.4091\n",
      "Epoch 54/400\n",
      "4/4 [==============================] - 0s 4ms/step - loss: 1.7664 - accuracy: 0.4091\n",
      "Epoch 55/400\n",
      "4/4 [==============================] - 0s 4ms/step - loss: 1.7272 - accuracy: 0.3636\n",
      "Epoch 56/400\n",
      "4/4 [==============================] - 0s 3ms/step - loss: 1.7273 - accuracy: 0.4455\n",
      "Epoch 57/400\n",
      "4/4 [==============================] - 0s 4ms/step - loss: 1.7188 - accuracy: 0.4273\n",
      "Epoch 58/400\n",
      "4/4 [==============================] - 0s 3ms/step - loss: 1.6216 - accuracy: 0.4636\n",
      "Epoch 59/400\n",
      "4/4 [==============================] - 0s 3ms/step - loss: 1.6093 - accuracy: 0.4545\n",
      "Epoch 60/400\n",
      "4/4 [==============================] - 0s 4ms/step - loss: 1.5815 - accuracy: 0.4636\n",
      "Epoch 61/400\n",
      "4/4 [==============================] - 0s 4ms/step - loss: 1.5496 - accuracy: 0.5000\n",
      "Epoch 62/400\n",
      "4/4 [==============================] - 0s 3ms/step - loss: 1.5118 - accuracy: 0.5000\n",
      "Epoch 63/400\n",
      "4/4 [==============================] - 0s 4ms/step - loss: 1.5419 - accuracy: 0.4455\n",
      "Epoch 64/400\n",
      "4/4 [==============================] - 0s 4ms/step - loss: 1.5069 - accuracy: 0.4545\n",
      "Epoch 65/400\n",
      "4/4 [==============================] - 0s 3ms/step - loss: 1.4545 - accuracy: 0.4818\n",
      "Epoch 66/400\n",
      "4/4 [==============================] - 0s 4ms/step - loss: 1.4360 - accuracy: 0.5545\n",
      "Epoch 67/400\n",
      "4/4 [==============================] - 0s 3ms/step - loss: 1.4525 - accuracy: 0.5455\n",
      "Epoch 68/400\n",
      "4/4 [==============================] - 0s 4ms/step - loss: 1.4139 - accuracy: 0.5545\n",
      "Epoch 69/400\n",
      "4/4 [==============================] - 0s 3ms/step - loss: 1.3195 - accuracy: 0.5727\n",
      "Epoch 70/400\n",
      "4/4 [==============================] - 0s 3ms/step - loss: 1.3434 - accuracy: 0.5909\n",
      "Epoch 71/400\n",
      "4/4 [==============================] - 0s 3ms/step - loss: 1.3408 - accuracy: 0.5455\n",
      "Epoch 72/400\n",
      "4/4 [==============================] - 0s 4ms/step - loss: 1.3007 - accuracy: 0.5636\n",
      "Epoch 73/400\n",
      "4/4 [==============================] - 0s 4ms/step - loss: 1.2571 - accuracy: 0.5909\n",
      "Epoch 74/400\n",
      "4/4 [==============================] - 0s 4ms/step - loss: 1.2436 - accuracy: 0.5818\n",
      "Epoch 75/400\n",
      "4/4 [==============================] - 0s 3ms/step - loss: 1.2255 - accuracy: 0.6000\n",
      "Epoch 76/400\n",
      "4/4 [==============================] - 0s 3ms/step - loss: 1.2118 - accuracy: 0.6455\n",
      "Epoch 77/400\n",
      "4/4 [==============================] - 0s 3ms/step - loss: 1.1433 - accuracy: 0.6364\n",
      "Epoch 78/400\n",
      "4/4 [==============================] - 0s 3ms/step - loss: 1.1242 - accuracy: 0.6455\n",
      "Epoch 79/400\n",
      "4/4 [==============================] - 0s 3ms/step - loss: 1.1684 - accuracy: 0.6182\n",
      "Epoch 80/400\n",
      "4/4 [==============================] - 0s 3ms/step - loss: 1.1138 - accuracy: 0.6636\n",
      "Epoch 81/400\n",
      "4/4 [==============================] - 0s 3ms/step - loss: 1.1219 - accuracy: 0.6636\n",
      "Epoch 82/400\n",
      "4/4 [==============================] - 0s 3ms/step - loss: 1.1304 - accuracy: 0.6545\n",
      "Epoch 83/400\n",
      "4/4 [==============================] - 0s 4ms/step - loss: 1.0040 - accuracy: 0.6818\n",
      "Epoch 84/400\n"
     ]
    },
    {
     "name": "stdout",
     "output_type": "stream",
     "text": [
      "4/4 [==============================] - 0s 4ms/step - loss: 1.0791 - accuracy: 0.6727\n",
      "Epoch 85/400\n",
      "4/4 [==============================] - 0s 5ms/step - loss: 1.0350 - accuracy: 0.6364\n",
      "Epoch 86/400\n",
      "4/4 [==============================] - 0s 5ms/step - loss: 1.0370 - accuracy: 0.7091\n",
      "Epoch 87/400\n",
      "4/4 [==============================] - 0s 6ms/step - loss: 1.0037 - accuracy: 0.6909\n",
      "Epoch 88/400\n",
      "4/4 [==============================] - 0s 4ms/step - loss: 0.9909 - accuracy: 0.7091\n",
      "Epoch 89/400\n",
      "4/4 [==============================] - 0s 5ms/step - loss: 0.9278 - accuracy: 0.7455\n",
      "Epoch 90/400\n",
      "4/4 [==============================] - 0s 5ms/step - loss: 0.9406 - accuracy: 0.7091\n",
      "Epoch 91/400\n",
      "4/4 [==============================] - 0s 5ms/step - loss: 0.9469 - accuracy: 0.6636\n",
      "Epoch 92/400\n",
      "4/4 [==============================] - 0s 4ms/step - loss: 0.9060 - accuracy: 0.6818\n",
      "Epoch 93/400\n",
      "4/4 [==============================] - 0s 4ms/step - loss: 0.8716 - accuracy: 0.7091\n",
      "Epoch 94/400\n",
      "4/4 [==============================] - 0s 4ms/step - loss: 0.8534 - accuracy: 0.6909\n",
      "Epoch 95/400\n",
      "4/4 [==============================] - 0s 4ms/step - loss: 0.8206 - accuracy: 0.7818\n",
      "Epoch 96/400\n",
      "4/4 [==============================] - 0s 5ms/step - loss: 0.8682 - accuracy: 0.7636\n",
      "Epoch 97/400\n",
      "4/4 [==============================] - 0s 4ms/step - loss: 0.8041 - accuracy: 0.7545\n",
      "Epoch 98/400\n",
      "4/4 [==============================] - 0s 4ms/step - loss: 0.8179 - accuracy: 0.7636\n",
      "Epoch 99/400\n",
      "4/4 [==============================] - 0s 4ms/step - loss: 0.7807 - accuracy: 0.7818\n",
      "Epoch 100/400\n",
      "4/4 [==============================] - 0s 5ms/step - loss: 0.7660 - accuracy: 0.7727\n",
      "Epoch 101/400\n",
      "4/4 [==============================] - 0s 4ms/step - loss: 0.8581 - accuracy: 0.7000\n",
      "Epoch 102/400\n",
      "4/4 [==============================] - 0s 3ms/step - loss: 0.8096 - accuracy: 0.7091\n",
      "Epoch 103/400\n",
      "4/4 [==============================] - 0s 5ms/step - loss: 0.7729 - accuracy: 0.7455\n",
      "Epoch 104/400\n",
      "4/4 [==============================] - 0s 5ms/step - loss: 0.7628 - accuracy: 0.7636\n",
      "Epoch 105/400\n",
      "4/4 [==============================] - 0s 4ms/step - loss: 0.7275 - accuracy: 0.7727\n",
      "Epoch 106/400\n",
      "4/4 [==============================] - 0s 5ms/step - loss: 0.7421 - accuracy: 0.7909\n",
      "Epoch 107/400\n",
      "4/4 [==============================] - 0s 5ms/step - loss: 0.6850 - accuracy: 0.8182\n",
      "Epoch 108/400\n",
      "4/4 [==============================] - 0s 4ms/step - loss: 0.6403 - accuracy: 0.8273\n",
      "Epoch 109/400\n",
      "4/4 [==============================] - 0s 4ms/step - loss: 0.6533 - accuracy: 0.8273\n",
      "Epoch 110/400\n",
      "4/4 [==============================] - 0s 4ms/step - loss: 0.6710 - accuracy: 0.7727\n",
      "Epoch 111/400\n",
      "4/4 [==============================] - 0s 4ms/step - loss: 0.6170 - accuracy: 0.8364\n",
      "Epoch 112/400\n",
      "4/4 [==============================] - 0s 3ms/step - loss: 0.6349 - accuracy: 0.8273\n",
      "Epoch 113/400\n",
      "4/4 [==============================] - 0s 3ms/step - loss: 0.5539 - accuracy: 0.8455\n",
      "Epoch 114/400\n",
      "4/4 [==============================] - 0s 3ms/step - loss: 0.5539 - accuracy: 0.8273\n",
      "Epoch 115/400\n",
      "4/4 [==============================] - 0s 4ms/step - loss: 0.5965 - accuracy: 0.8273\n",
      "Epoch 116/400\n",
      "4/4 [==============================] - 0s 4ms/step - loss: 0.5730 - accuracy: 0.8455\n",
      "Epoch 117/400\n",
      "4/4 [==============================] - 0s 4ms/step - loss: 0.5697 - accuracy: 0.8364\n",
      "Epoch 118/400\n",
      "4/4 [==============================] - 0s 4ms/step - loss: 0.6142 - accuracy: 0.8000\n",
      "Epoch 119/400\n",
      "4/4 [==============================] - 0s 3ms/step - loss: 0.5969 - accuracy: 0.8000\n",
      "Epoch 120/400\n",
      "4/4 [==============================] - 0s 4ms/step - loss: 0.5808 - accuracy: 0.8182\n",
      "Epoch 121/400\n",
      "4/4 [==============================] - 0s 5ms/step - loss: 0.5832 - accuracy: 0.8455\n",
      "Epoch 122/400\n",
      "4/4 [==============================] - 0s 4ms/step - loss: 0.6181 - accuracy: 0.8091\n",
      "Epoch 123/400\n",
      "4/4 [==============================] - 0s 3ms/step - loss: 0.4990 - accuracy: 0.8636\n",
      "Epoch 124/400\n",
      "4/4 [==============================] - 0s 4ms/step - loss: 0.5144 - accuracy: 0.8545\n",
      "Epoch 125/400\n",
      "4/4 [==============================] - 0s 3ms/step - loss: 0.5068 - accuracy: 0.8455\n",
      "Epoch 126/400\n",
      "4/4 [==============================] - 0s 4ms/step - loss: 0.5336 - accuracy: 0.8455\n",
      "Epoch 127/400\n",
      "4/4 [==============================] - 0s 4ms/step - loss: 0.4500 - accuracy: 0.8727\n",
      "Epoch 128/400\n",
      "4/4 [==============================] - 0s 3ms/step - loss: 0.4793 - accuracy: 0.8636\n",
      "Epoch 129/400\n",
      "4/4 [==============================] - 0s 6ms/step - loss: 0.4620 - accuracy: 0.8909\n",
      "Epoch 130/400\n",
      "4/4 [==============================] - 0s 5ms/step - loss: 0.4442 - accuracy: 0.9091\n",
      "Epoch 131/400\n",
      "4/4 [==============================] - 0s 4ms/step - loss: 0.5018 - accuracy: 0.8455\n",
      "Epoch 132/400\n",
      "4/4 [==============================] - 0s 5ms/step - loss: 0.4481 - accuracy: 0.8727\n",
      "Epoch 133/400\n",
      "4/4 [==============================] - 0s 4ms/step - loss: 0.4729 - accuracy: 0.8455\n",
      "Epoch 134/400\n",
      "4/4 [==============================] - 0s 5ms/step - loss: 0.4126 - accuracy: 0.9091\n",
      "Epoch 135/400\n",
      "4/4 [==============================] - 0s 3ms/step - loss: 0.4521 - accuracy: 0.8818\n",
      "Epoch 136/400\n",
      "4/4 [==============================] - 0s 3ms/step - loss: 0.4546 - accuracy: 0.8818\n",
      "Epoch 137/400\n",
      "4/4 [==============================] - 0s 4ms/step - loss: 0.3776 - accuracy: 0.8818\n",
      "Epoch 138/400\n",
      "4/4 [==============================] - 0s 4ms/step - loss: 0.4221 - accuracy: 0.8636\n",
      "Epoch 139/400\n",
      "4/4 [==============================] - 0s 3ms/step - loss: 0.4060 - accuracy: 0.9091\n",
      "Epoch 140/400\n",
      "4/4 [==============================] - 0s 4ms/step - loss: 0.4041 - accuracy: 0.8727\n",
      "Epoch 141/400\n",
      "4/4 [==============================] - 0s 4ms/step - loss: 0.4147 - accuracy: 0.8909\n",
      "Epoch 142/400\n",
      "4/4 [==============================] - 0s 3ms/step - loss: 0.4172 - accuracy: 0.9000\n",
      "Epoch 143/400\n",
      "4/4 [==============================] - 0s 5ms/step - loss: 0.3285 - accuracy: 0.9636\n",
      "Epoch 144/400\n",
      "4/4 [==============================] - 0s 3ms/step - loss: 0.3913 - accuracy: 0.9182\n",
      "Epoch 145/400\n",
      "4/4 [==============================] - 0s 4ms/step - loss: 0.4115 - accuracy: 0.9091\n",
      "Epoch 146/400\n",
      "4/4 [==============================] - 0s 3ms/step - loss: 0.3677 - accuracy: 0.9182\n",
      "Epoch 147/400\n",
      "4/4 [==============================] - 0s 4ms/step - loss: 0.3848 - accuracy: 0.9091\n",
      "Epoch 148/400\n",
      "4/4 [==============================] - 0s 3ms/step - loss: 0.3980 - accuracy: 0.9000\n",
      "Epoch 149/400\n",
      "4/4 [==============================] - 0s 4ms/step - loss: 0.3451 - accuracy: 0.9182\n",
      "Epoch 150/400\n",
      "4/4 [==============================] - 0s 3ms/step - loss: 0.3940 - accuracy: 0.8818\n",
      "Epoch 151/400\n",
      "4/4 [==============================] - 0s 4ms/step - loss: 0.3604 - accuracy: 0.9273\n",
      "Epoch 152/400\n",
      "4/4 [==============================] - 0s 5ms/step - loss: 0.3731 - accuracy: 0.9000\n",
      "Epoch 153/400\n",
      "4/4 [==============================] - 0s 4ms/step - loss: 0.3136 - accuracy: 0.9182\n",
      "Epoch 154/400\n",
      "4/4 [==============================] - 0s 4ms/step - loss: 0.2883 - accuracy: 0.9364\n",
      "Epoch 155/400\n",
      "4/4 [==============================] - 0s 3ms/step - loss: 0.2949 - accuracy: 0.9364\n",
      "Epoch 156/400\n",
      "4/4 [==============================] - 0s 4ms/step - loss: 0.2683 - accuracy: 0.9455\n",
      "Epoch 157/400\n",
      "4/4 [==============================] - 0s 4ms/step - loss: 0.2516 - accuracy: 0.9273\n",
      "Epoch 158/400\n",
      "4/4 [==============================] - 0s 4ms/step - loss: 0.2848 - accuracy: 0.9364\n",
      "Epoch 159/400\n",
      "4/4 [==============================] - 0s 4ms/step - loss: 0.2460 - accuracy: 0.9545\n",
      "Epoch 160/400\n",
      "4/4 [==============================] - 0s 4ms/step - loss: 0.2645 - accuracy: 0.9273\n",
      "Epoch 161/400\n",
      "4/4 [==============================] - 0s 4ms/step - loss: 0.2222 - accuracy: 0.9636\n",
      "Epoch 162/400\n",
      "4/4 [==============================] - 0s 4ms/step - loss: 0.2684 - accuracy: 0.9727\n",
      "Epoch 163/400\n",
      "4/4 [==============================] - 0s 4ms/step - loss: 0.2656 - accuracy: 0.9364\n",
      "Epoch 164/400\n",
      "4/4 [==============================] - 0s 4ms/step - loss: 0.2085 - accuracy: 0.9727\n",
      "Epoch 165/400\n",
      "4/4 [==============================] - 0s 4ms/step - loss: 0.2050 - accuracy: 0.9545\n",
      "Epoch 166/400\n",
      "4/4 [==============================] - 0s 4ms/step - loss: 0.1779 - accuracy: 0.9909\n"
     ]
    },
    {
     "name": "stdout",
     "output_type": "stream",
     "text": [
      "Epoch 167/400\n",
      "4/4 [==============================] - 0s 5ms/step - loss: 0.2134 - accuracy: 0.9636\n",
      "Epoch 168/400\n",
      "4/4 [==============================] - 0s 4ms/step - loss: 0.1653 - accuracy: 1.0000\n",
      "Epoch 169/400\n",
      "4/4 [==============================] - 0s 4ms/step - loss: 0.2181 - accuracy: 0.9545\n",
      "Epoch 170/400\n",
      "4/4 [==============================] - 0s 5ms/step - loss: 0.1717 - accuracy: 0.9818\n",
      "Epoch 171/400\n",
      "4/4 [==============================] - 0s 4ms/step - loss: 0.1880 - accuracy: 0.9636\n",
      "Epoch 172/400\n",
      "4/4 [==============================] - 0s 4ms/step - loss: 0.1707 - accuracy: 0.9636\n",
      "Epoch 173/400\n",
      "4/4 [==============================] - 0s 4ms/step - loss: 0.1871 - accuracy: 0.9818\n",
      "Epoch 174/400\n",
      "4/4 [==============================] - 0s 4ms/step - loss: 0.1718 - accuracy: 0.9727\n",
      "Epoch 175/400\n",
      "4/4 [==============================] - 0s 5ms/step - loss: 0.1962 - accuracy: 0.9636\n",
      "Epoch 176/400\n",
      "4/4 [==============================] - 0s 4ms/step - loss: 0.1562 - accuracy: 0.9545\n",
      "Epoch 177/400\n",
      "4/4 [==============================] - 0s 4ms/step - loss: 0.1742 - accuracy: 0.9727\n",
      "Epoch 178/400\n",
      "4/4 [==============================] - 0s 4ms/step - loss: 0.1479 - accuracy: 0.9818\n",
      "Epoch 179/400\n",
      "4/4 [==============================] - 0s 4ms/step - loss: 0.1339 - accuracy: 0.9727\n",
      "Epoch 180/400\n",
      "4/4 [==============================] - 0s 3ms/step - loss: 0.1322 - accuracy: 1.0000\n",
      "Epoch 181/400\n",
      "4/4 [==============================] - 0s 4ms/step - loss: 0.1455 - accuracy: 0.9636\n",
      "Epoch 182/400\n",
      "4/4 [==============================] - 0s 4ms/step - loss: 0.1181 - accuracy: 0.9909\n",
      "Epoch 183/400\n",
      "4/4 [==============================] - 0s 5ms/step - loss: 0.1269 - accuracy: 0.9909\n",
      "Epoch 184/400\n",
      "4/4 [==============================] - 0s 5ms/step - loss: 0.1244 - accuracy: 0.9727\n",
      "Epoch 185/400\n",
      "4/4 [==============================] - 0s 5ms/step - loss: 0.1033 - accuracy: 1.0000\n",
      "Epoch 186/400\n",
      "4/4 [==============================] - 0s 4ms/step - loss: 0.1134 - accuracy: 0.9909\n",
      "Epoch 187/400\n",
      "4/4 [==============================] - 0s 4ms/step - loss: 0.1043 - accuracy: 1.0000\n",
      "Epoch 188/400\n",
      "4/4 [==============================] - 0s 4ms/step - loss: 0.1055 - accuracy: 0.9909\n",
      "Epoch 189/400\n",
      "4/4 [==============================] - 0s 5ms/step - loss: 0.1292 - accuracy: 0.9545\n",
      "Epoch 190/400\n",
      "4/4 [==============================] - 0s 4ms/step - loss: 0.0981 - accuracy: 1.0000\n",
      "Epoch 191/400\n",
      "4/4 [==============================] - 0s 4ms/step - loss: 0.1613 - accuracy: 0.9636\n",
      "Epoch 192/400\n",
      "4/4 [==============================] - 0s 4ms/step - loss: 0.1594 - accuracy: 0.9636\n",
      "Epoch 193/400\n",
      "4/4 [==============================] - 0s 3ms/step - loss: 0.1501 - accuracy: 0.9727\n",
      "Epoch 194/400\n",
      "4/4 [==============================] - 0s 3ms/step - loss: 0.1170 - accuracy: 0.9727\n",
      "Epoch 195/400\n",
      "4/4 [==============================] - 0s 4ms/step - loss: 0.1105 - accuracy: 0.9636\n",
      "Epoch 196/400\n",
      "4/4 [==============================] - 0s 4ms/step - loss: 0.1088 - accuracy: 0.9818\n",
      "Epoch 197/400\n",
      "4/4 [==============================] - 0s 4ms/step - loss: 0.1018 - accuracy: 0.9818\n",
      "Epoch 198/400\n",
      "4/4 [==============================] - 0s 3ms/step - loss: 0.1289 - accuracy: 0.9636\n",
      "Epoch 199/400\n",
      "4/4 [==============================] - 0s 3ms/step - loss: 0.0814 - accuracy: 1.0000\n",
      "Epoch 200/400\n",
      "4/4 [==============================] - 0s 3ms/step - loss: 0.1092 - accuracy: 0.9636\n",
      "Epoch 201/400\n",
      "4/4 [==============================] - 0s 3ms/step - loss: 0.0864 - accuracy: 0.9909\n",
      "Epoch 202/400\n",
      "4/4 [==============================] - 0s 3ms/step - loss: 0.1239 - accuracy: 0.9909\n",
      "Epoch 203/400\n",
      "4/4 [==============================] - 0s 3ms/step - loss: 0.1179 - accuracy: 0.9818\n",
      "Epoch 204/400\n",
      "4/4 [==============================] - 0s 4ms/step - loss: 0.0842 - accuracy: 0.9909\n",
      "Epoch 205/400\n",
      "4/4 [==============================] - 0s 3ms/step - loss: 0.0877 - accuracy: 0.9818\n",
      "Epoch 206/400\n",
      "4/4 [==============================] - 0s 3ms/step - loss: 0.0968 - accuracy: 0.9818\n",
      "Epoch 207/400\n",
      "4/4 [==============================] - 0s 3ms/step - loss: 0.0803 - accuracy: 1.0000\n",
      "Epoch 208/400\n",
      "4/4 [==============================] - 0s 4ms/step - loss: 0.0739 - accuracy: 0.9909\n",
      "Epoch 209/400\n",
      "4/4 [==============================] - 0s 4ms/step - loss: 0.0831 - accuracy: 0.9909\n",
      "Epoch 210/400\n",
      "4/4 [==============================] - 0s 4ms/step - loss: 0.0776 - accuracy: 0.9909\n",
      "Epoch 211/400\n",
      "4/4 [==============================] - 0s 3ms/step - loss: 0.0715 - accuracy: 1.0000\n",
      "Epoch 212/400\n",
      "4/4 [==============================] - 0s 3ms/step - loss: 0.1029 - accuracy: 0.9818\n",
      "Epoch 213/400\n",
      "4/4 [==============================] - 0s 3ms/step - loss: 0.0728 - accuracy: 1.0000\n",
      "Epoch 214/400\n",
      "4/4 [==============================] - 0s 3ms/step - loss: 0.0859 - accuracy: 0.9909\n",
      "Epoch 215/400\n",
      "4/4 [==============================] - 0s 4ms/step - loss: 0.0674 - accuracy: 1.0000\n",
      "Epoch 216/400\n",
      "4/4 [==============================] - 0s 5ms/step - loss: 0.0631 - accuracy: 0.9909\n",
      "Epoch 217/400\n",
      "4/4 [==============================] - 0s 4ms/step - loss: 0.0865 - accuracy: 0.9818\n",
      "Epoch 218/400\n",
      "4/4 [==============================] - 0s 3ms/step - loss: 0.0643 - accuracy: 1.0000\n",
      "Epoch 219/400\n",
      "4/4 [==============================] - 0s 4ms/step - loss: 0.0735 - accuracy: 0.9818\n",
      "Epoch 220/400\n",
      "4/4 [==============================] - 0s 6ms/step - loss: 0.0632 - accuracy: 1.0000\n",
      "Epoch 221/400\n",
      "4/4 [==============================] - 0s 4ms/step - loss: 0.0566 - accuracy: 1.0000\n",
      "Epoch 222/400\n",
      "4/4 [==============================] - 0s 4ms/step - loss: 0.0710 - accuracy: 0.9909\n",
      "Epoch 223/400\n",
      "4/4 [==============================] - 0s 5ms/step - loss: 0.0759 - accuracy: 0.9909\n",
      "Epoch 224/400\n",
      "4/4 [==============================] - 0s 4ms/step - loss: 0.0816 - accuracy: 0.9909\n",
      "Epoch 225/400\n",
      "4/4 [==============================] - 0s 4ms/step - loss: 0.0603 - accuracy: 0.9909\n",
      "Epoch 226/400\n",
      "4/4 [==============================] - 0s 5ms/step - loss: 0.0608 - accuracy: 1.0000\n",
      "Epoch 227/400\n",
      "4/4 [==============================] - 0s 4ms/step - loss: 0.0515 - accuracy: 1.0000\n",
      "Epoch 228/400\n",
      "4/4 [==============================] - 0s 5ms/step - loss: 0.0548 - accuracy: 1.0000\n",
      "Epoch 229/400\n",
      "4/4 [==============================] - 0s 4ms/step - loss: 0.0562 - accuracy: 1.0000\n",
      "Epoch 230/400\n",
      "4/4 [==============================] - 0s 4ms/step - loss: 0.0551 - accuracy: 0.9909\n",
      "Epoch 231/400\n",
      "4/4 [==============================] - 0s 3ms/step - loss: 0.0616 - accuracy: 0.9909\n",
      "Epoch 232/400\n",
      "4/4 [==============================] - 0s 5ms/step - loss: 0.0453 - accuracy: 1.0000\n",
      "Epoch 233/400\n",
      "4/4 [==============================] - 0s 3ms/step - loss: 0.0551 - accuracy: 0.9909\n",
      "Epoch 234/400\n",
      "4/4 [==============================] - 0s 5ms/step - loss: 0.0436 - accuracy: 1.0000\n",
      "Epoch 235/400\n",
      "4/4 [==============================] - 0s 5ms/step - loss: 0.0946 - accuracy: 0.9909\n",
      "Epoch 236/400\n",
      "4/4 [==============================] - 0s 4ms/step - loss: 0.0749 - accuracy: 0.9909\n",
      "Epoch 237/400\n",
      "4/4 [==============================] - 0s 4ms/step - loss: 0.0492 - accuracy: 0.9909\n",
      "Epoch 238/400\n",
      "4/4 [==============================] - 0s 6ms/step - loss: 0.0518 - accuracy: 1.0000\n",
      "Epoch 239/400\n",
      "4/4 [==============================] - 0s 4ms/step - loss: 0.0432 - accuracy: 1.0000\n",
      "Epoch 240/400\n",
      "4/4 [==============================] - 0s 5ms/step - loss: 0.0499 - accuracy: 0.9818\n",
      "Epoch 241/400\n",
      "4/4 [==============================] - 0s 5ms/step - loss: 0.0563 - accuracy: 0.9818\n",
      "Epoch 242/400\n",
      "4/4 [==============================] - 0s 3ms/step - loss: 0.0518 - accuracy: 0.9909\n",
      "Epoch 243/400\n",
      "4/4 [==============================] - 0s 4ms/step - loss: 0.0513 - accuracy: 0.9818\n",
      "Epoch 244/400\n",
      "4/4 [==============================] - 0s 4ms/step - loss: 0.0455 - accuracy: 1.0000\n",
      "Epoch 245/400\n",
      "4/4 [==============================] - 0s 5ms/step - loss: 0.0593 - accuracy: 0.9909\n",
      "Epoch 246/400\n",
      "4/4 [==============================] - 0s 6ms/step - loss: 0.0524 - accuracy: 0.9909\n",
      "Epoch 247/400\n",
      "4/4 [==============================] - 0s 5ms/step - loss: 0.0657 - accuracy: 0.9818\n",
      "Epoch 248/400\n",
      "4/4 [==============================] - 0s 3ms/step - loss: 0.0897 - accuracy: 0.9818\n",
      "Epoch 249/400\n"
     ]
    },
    {
     "name": "stdout",
     "output_type": "stream",
     "text": [
      "4/4 [==============================] - 0s 4ms/step - loss: 0.0476 - accuracy: 1.0000\n",
      "Epoch 250/400\n",
      "4/4 [==============================] - 0s 4ms/step - loss: 0.0704 - accuracy: 0.9909\n",
      "Epoch 251/400\n",
      "4/4 [==============================] - 0s 4ms/step - loss: 0.0515 - accuracy: 0.9818\n",
      "Epoch 252/400\n",
      "4/4 [==============================] - 0s 4ms/step - loss: 0.0598 - accuracy: 0.9818\n",
      "Epoch 253/400\n",
      "4/4 [==============================] - 0s 4ms/step - loss: 0.0441 - accuracy: 0.9909\n",
      "Epoch 254/400\n",
      "4/4 [==============================] - 0s 5ms/step - loss: 0.0433 - accuracy: 0.9909\n",
      "Epoch 255/400\n",
      "4/4 [==============================] - 0s 6ms/step - loss: 0.0352 - accuracy: 1.0000\n",
      "Epoch 256/400\n",
      "4/4 [==============================] - 0s 4ms/step - loss: 0.0434 - accuracy: 1.0000\n",
      "Epoch 257/400\n",
      "4/4 [==============================] - 0s 4ms/step - loss: 0.0377 - accuracy: 1.0000\n",
      "Epoch 258/400\n",
      "4/4 [==============================] - 0s 4ms/step - loss: 0.0400 - accuracy: 1.0000\n",
      "Epoch 259/400\n",
      "4/4 [==============================] - 0s 4ms/step - loss: 0.0336 - accuracy: 1.0000\n",
      "Epoch 260/400\n",
      "4/4 [==============================] - 0s 5ms/step - loss: 0.0386 - accuracy: 1.0000\n",
      "Epoch 261/400\n",
      "4/4 [==============================] - 0s 4ms/step - loss: 0.0343 - accuracy: 0.9909\n",
      "Epoch 262/400\n",
      "4/4 [==============================] - 0s 4ms/step - loss: 0.0615 - accuracy: 0.9818\n",
      "Epoch 263/400\n",
      "4/4 [==============================] - 0s 4ms/step - loss: 0.0414 - accuracy: 0.9909\n",
      "Epoch 264/400\n",
      "4/4 [==============================] - 0s 4ms/step - loss: 0.0454 - accuracy: 0.9909\n",
      "Epoch 265/400\n",
      "4/4 [==============================] - 0s 4ms/step - loss: 0.0386 - accuracy: 0.9909\n",
      "Epoch 266/400\n",
      "4/4 [==============================] - 0s 4ms/step - loss: 0.0338 - accuracy: 0.9909\n",
      "Epoch 267/400\n",
      "4/4 [==============================] - 0s 5ms/step - loss: 0.0402 - accuracy: 0.9818\n",
      "Epoch 268/400\n",
      "4/4 [==============================] - 0s 4ms/step - loss: 0.0356 - accuracy: 1.0000\n",
      "Epoch 269/400\n",
      "4/4 [==============================] - 0s 5ms/step - loss: 0.0869 - accuracy: 0.9818\n",
      "Epoch 270/400\n",
      "4/4 [==============================] - 0s 4ms/step - loss: 0.0667 - accuracy: 0.9909\n",
      "Epoch 271/400\n",
      "4/4 [==============================] - 0s 4ms/step - loss: 0.4094 - accuracy: 0.9364\n",
      "Epoch 272/400\n",
      "4/4 [==============================] - 0s 5ms/step - loss: 0.4014 - accuracy: 0.9182\n",
      "Epoch 273/400\n",
      "4/4 [==============================] - 0s 4ms/step - loss: 0.5023 - accuracy: 0.9364\n",
      "Epoch 274/400\n",
      "4/4 [==============================] - 0s 4ms/step - loss: 0.3493 - accuracy: 0.9545\n",
      "Epoch 275/400\n",
      "4/4 [==============================] - 0s 4ms/step - loss: 0.2307 - accuracy: 0.9182\n",
      "Epoch 276/400\n",
      "4/4 [==============================] - 0s 3ms/step - loss: 0.2289 - accuracy: 0.9273\n",
      "Epoch 277/400\n",
      "4/4 [==============================] - 0s 4ms/step - loss: 0.2991 - accuracy: 0.9364\n",
      "Epoch 278/400\n",
      "4/4 [==============================] - 0s 4ms/step - loss: 0.6817 - accuracy: 0.8545\n",
      "Epoch 279/400\n",
      "4/4 [==============================] - 0s 4ms/step - loss: 0.8901 - accuracy: 0.7818\n",
      "Epoch 280/400\n",
      "4/4 [==============================] - 0s 4ms/step - loss: 0.9661 - accuracy: 0.7455\n",
      "Epoch 281/400\n",
      "4/4 [==============================] - 0s 4ms/step - loss: 1.8300 - accuracy: 0.6000\n",
      "Epoch 282/400\n",
      "4/4 [==============================] - 0s 3ms/step - loss: 1.4711 - accuracy: 0.5636\n",
      "Epoch 283/400\n",
      "4/4 [==============================] - 0s 4ms/step - loss: 1.5863 - accuracy: 0.6455\n",
      "Epoch 284/400\n",
      "4/4 [==============================] - 0s 6ms/step - loss: 1.2468 - accuracy: 0.6364\n",
      "Epoch 285/400\n",
      "4/4 [==============================] - 0s 4ms/step - loss: 0.9273 - accuracy: 0.8000\n",
      "Epoch 286/400\n",
      "4/4 [==============================] - 0s 5ms/step - loss: 1.1830 - accuracy: 0.7000\n",
      "Epoch 287/400\n",
      "4/4 [==============================] - 0s 5ms/step - loss: 0.8056 - accuracy: 0.7818\n",
      "Epoch 288/400\n",
      "4/4 [==============================] - 0s 4ms/step - loss: 0.6457 - accuracy: 0.8000\n",
      "Epoch 289/400\n",
      "4/4 [==============================] - 0s 3ms/step - loss: 0.5869 - accuracy: 0.8091\n",
      "Epoch 290/400\n",
      "4/4 [==============================] - 0s 4ms/step - loss: 0.5000 - accuracy: 0.8545\n",
      "Epoch 291/400\n",
      "4/4 [==============================] - 0s 4ms/step - loss: 0.3825 - accuracy: 0.8727\n",
      "Epoch 292/400\n",
      "4/4 [==============================] - 0s 4ms/step - loss: 0.3473 - accuracy: 0.9091\n",
      "Epoch 293/400\n",
      "4/4 [==============================] - 0s 4ms/step - loss: 0.2948 - accuracy: 0.9000\n",
      "Epoch 294/400\n",
      "4/4 [==============================] - 0s 5ms/step - loss: 0.1308 - accuracy: 0.9727\n",
      "Epoch 295/400\n",
      "4/4 [==============================] - 0s 3ms/step - loss: 0.1845 - accuracy: 0.9545\n",
      "Epoch 296/400\n",
      "4/4 [==============================] - 0s 4ms/step - loss: 0.1172 - accuracy: 0.9909\n",
      "Epoch 297/400\n",
      "4/4 [==============================] - 0s 4ms/step - loss: 0.1933 - accuracy: 0.9545\n",
      "Epoch 298/400\n",
      "4/4 [==============================] - 0s 5ms/step - loss: 0.1105 - accuracy: 0.9818\n",
      "Epoch 299/400\n",
      "4/4 [==============================] - 0s 5ms/step - loss: 0.0968 - accuracy: 0.9818\n",
      "Epoch 300/400\n",
      "4/4 [==============================] - 0s 4ms/step - loss: 0.0765 - accuracy: 1.0000\n",
      "Epoch 301/400\n",
      "4/4 [==============================] - 0s 5ms/step - loss: 0.0628 - accuracy: 1.0000\n",
      "Epoch 302/400\n",
      "4/4 [==============================] - 0s 4ms/step - loss: 0.0556 - accuracy: 1.0000\n",
      "Epoch 303/400\n",
      "4/4 [==============================] - 0s 4ms/step - loss: 0.0513 - accuracy: 1.0000\n",
      "Epoch 304/400\n",
      "4/4 [==============================] - 0s 4ms/step - loss: 0.0447 - accuracy: 1.0000\n",
      "Epoch 305/400\n",
      "4/4 [==============================] - 0s 5ms/step - loss: 0.0396 - accuracy: 1.0000\n",
      "Epoch 306/400\n",
      "4/4 [==============================] - 0s 4ms/step - loss: 0.0368 - accuracy: 1.0000\n",
      "Epoch 307/400\n",
      "4/4 [==============================] - 0s 4ms/step - loss: 0.0337 - accuracy: 1.0000\n",
      "Epoch 308/400\n",
      "4/4 [==============================] - 0s 5ms/step - loss: 0.0314 - accuracy: 1.0000\n",
      "Epoch 309/400\n",
      "4/4 [==============================] - 0s 4ms/step - loss: 0.0329 - accuracy: 1.0000\n",
      "Epoch 310/400\n",
      "4/4 [==============================] - 0s 4ms/step - loss: 0.0297 - accuracy: 1.0000\n",
      "Epoch 311/400\n",
      "4/4 [==============================] - 0s 4ms/step - loss: 0.0294 - accuracy: 1.0000\n",
      "Epoch 312/400\n",
      "4/4 [==============================] - 0s 4ms/step - loss: 0.0285 - accuracy: 1.0000\n",
      "Epoch 313/400\n",
      "4/4 [==============================] - 0s 3ms/step - loss: 0.0280 - accuracy: 1.0000\n",
      "Epoch 314/400\n",
      "4/4 [==============================] - 0s 4ms/step - loss: 0.0264 - accuracy: 1.0000\n",
      "Epoch 315/400\n",
      "4/4 [==============================] - 0s 7ms/step - loss: 0.0274 - accuracy: 1.0000\n",
      "Epoch 316/400\n",
      "4/4 [==============================] - 0s 5ms/step - loss: 0.0265 - accuracy: 1.0000\n",
      "Epoch 317/400\n",
      "4/4 [==============================] - 0s 3ms/step - loss: 0.0247 - accuracy: 1.0000\n",
      "Epoch 318/400\n",
      "4/4 [==============================] - 0s 4ms/step - loss: 0.0260 - accuracy: 1.0000\n",
      "Epoch 319/400\n",
      "4/4 [==============================] - 0s 4ms/step - loss: 0.0255 - accuracy: 1.0000\n",
      "Epoch 320/400\n",
      "4/4 [==============================] - 0s 4ms/step - loss: 0.0260 - accuracy: 1.0000\n",
      "Epoch 321/400\n",
      "4/4 [==============================] - 0s 4ms/step - loss: 0.0242 - accuracy: 1.0000\n",
      "Epoch 322/400\n",
      "4/4 [==============================] - 0s 4ms/step - loss: 0.0240 - accuracy: 1.0000\n",
      "Epoch 323/400\n",
      "4/4 [==============================] - 0s 5ms/step - loss: 0.0239 - accuracy: 1.0000\n",
      "Epoch 324/400\n",
      "4/4 [==============================] - 0s 5ms/step - loss: 0.0225 - accuracy: 1.0000\n",
      "Epoch 325/400\n",
      "4/4 [==============================] - 0s 7ms/step - loss: 0.0236 - accuracy: 1.0000\n",
      "Epoch 326/400\n",
      "4/4 [==============================] - 0s 5ms/step - loss: 0.0223 - accuracy: 1.0000\n",
      "Epoch 327/400\n",
      "4/4 [==============================] - 0s 3ms/step - loss: 0.0214 - accuracy: 1.0000\n",
      "Epoch 328/400\n",
      "4/4 [==============================] - 0s 3ms/step - loss: 0.0211 - accuracy: 1.0000\n",
      "Epoch 329/400\n",
      "4/4 [==============================] - 0s 4ms/step - loss: 0.0214 - accuracy: 1.0000\n",
      "Epoch 330/400\n",
      "4/4 [==============================] - 0s 3ms/step - loss: 0.0211 - accuracy: 1.0000\n",
      "Epoch 331/400\n"
     ]
    },
    {
     "name": "stdout",
     "output_type": "stream",
     "text": [
      "4/4 [==============================] - 0s 3ms/step - loss: 0.0202 - accuracy: 1.0000\n",
      "Epoch 332/400\n",
      "4/4 [==============================] - 0s 4ms/step - loss: 0.0214 - accuracy: 1.0000\n",
      "Epoch 333/400\n",
      "4/4 [==============================] - 0s 5ms/step - loss: 0.0212 - accuracy: 1.0000\n",
      "Epoch 334/400\n",
      "4/4 [==============================] - 0s 4ms/step - loss: 0.0195 - accuracy: 1.0000\n",
      "Epoch 335/400\n",
      "4/4 [==============================] - 0s 3ms/step - loss: 0.0191 - accuracy: 1.0000\n",
      "Epoch 336/400\n",
      "4/4 [==============================] - 0s 7ms/step - loss: 0.0191 - accuracy: 1.0000\n",
      "Epoch 337/400\n",
      "4/4 [==============================] - 0s 4ms/step - loss: 0.0188 - accuracy: 1.0000\n",
      "Epoch 338/400\n",
      "4/4 [==============================] - 0s 4ms/step - loss: 0.0183 - accuracy: 1.0000\n",
      "Epoch 339/400\n",
      "4/4 [==============================] - 0s 4ms/step - loss: 0.0186 - accuracy: 1.0000\n",
      "Epoch 340/400\n",
      "4/4 [==============================] - 0s 4ms/step - loss: 0.0185 - accuracy: 1.0000\n",
      "Epoch 341/400\n",
      "4/4 [==============================] - 0s 4ms/step - loss: 0.0179 - accuracy: 1.0000\n",
      "Epoch 342/400\n",
      "4/4 [==============================] - 0s 4ms/step - loss: 0.0178 - accuracy: 1.0000\n",
      "Epoch 343/400\n",
      "4/4 [==============================] - 0s 4ms/step - loss: 0.0182 - accuracy: 1.0000\n",
      "Epoch 344/400\n",
      "4/4 [==============================] - 0s 4ms/step - loss: 0.0174 - accuracy: 1.0000\n",
      "Epoch 345/400\n",
      "4/4 [==============================] - 0s 4ms/step - loss: 0.0174 - accuracy: 1.0000\n",
      "Epoch 346/400\n",
      "4/4 [==============================] - 0s 4ms/step - loss: 0.0173 - accuracy: 1.0000\n",
      "Epoch 347/400\n",
      "4/4 [==============================] - 0s 3ms/step - loss: 0.0171 - accuracy: 1.0000\n",
      "Epoch 348/400\n",
      "4/4 [==============================] - 0s 4ms/step - loss: 0.0167 - accuracy: 1.0000\n",
      "Epoch 349/400\n",
      "4/4 [==============================] - 0s 4ms/step - loss: 0.0166 - accuracy: 1.0000\n",
      "Epoch 350/400\n",
      "4/4 [==============================] - 0s 3ms/step - loss: 0.0162 - accuracy: 1.0000\n",
      "Epoch 351/400\n",
      "4/4 [==============================] - 0s 5ms/step - loss: 0.0164 - accuracy: 1.0000\n",
      "Epoch 352/400\n",
      "4/4 [==============================] - 0s 3ms/step - loss: 0.0162 - accuracy: 1.0000\n",
      "Epoch 353/400\n",
      "4/4 [==============================] - 0s 4ms/step - loss: 0.0162 - accuracy: 1.0000\n",
      "Epoch 354/400\n",
      "4/4 [==============================] - 0s 4ms/step - loss: 0.0156 - accuracy: 1.0000\n",
      "Epoch 355/400\n",
      "4/4 [==============================] - 0s 4ms/step - loss: 0.0162 - accuracy: 1.0000\n",
      "Epoch 356/400\n",
      "4/4 [==============================] - 0s 4ms/step - loss: 0.0156 - accuracy: 1.0000\n",
      "Epoch 357/400\n",
      "4/4 [==============================] - 0s 3ms/step - loss: 0.0153 - accuracy: 1.0000\n",
      "Epoch 358/400\n",
      "4/4 [==============================] - 0s 4ms/step - loss: 0.0155 - accuracy: 1.0000\n",
      "Epoch 359/400\n",
      "4/4 [==============================] - 0s 3ms/step - loss: 0.0152 - accuracy: 1.0000\n",
      "Epoch 360/400\n",
      "4/4 [==============================] - 0s 4ms/step - loss: 0.0147 - accuracy: 1.0000\n",
      "Epoch 361/400\n",
      "4/4 [==============================] - 0s 3ms/step - loss: 0.0146 - accuracy: 1.0000\n",
      "Epoch 362/400\n",
      "4/4 [==============================] - 0s 4ms/step - loss: 0.0149 - accuracy: 1.0000\n",
      "Epoch 363/400\n",
      "4/4 [==============================] - 0s 4ms/step - loss: 0.0150 - accuracy: 1.0000\n",
      "Epoch 364/400\n",
      "4/4 [==============================] - 0s 5ms/step - loss: 0.0145 - accuracy: 1.0000\n",
      "Epoch 365/400\n",
      "4/4 [==============================] - 0s 4ms/step - loss: 0.0148 - accuracy: 1.0000\n",
      "Epoch 366/400\n",
      "4/4 [==============================] - 0s 5ms/step - loss: 0.0148 - accuracy: 1.0000\n",
      "Epoch 367/400\n",
      "4/4 [==============================] - 0s 5ms/step - loss: 0.0140 - accuracy: 1.0000\n",
      "Epoch 368/400\n",
      "4/4 [==============================] - 0s 4ms/step - loss: 0.0142 - accuracy: 1.0000\n",
      "Epoch 369/400\n",
      "4/4 [==============================] - 0s 4ms/step - loss: 0.0148 - accuracy: 1.0000\n",
      "Epoch 370/400\n",
      "4/4 [==============================] - 0s 4ms/step - loss: 0.0142 - accuracy: 1.0000\n",
      "Epoch 371/400\n",
      "4/4 [==============================] - 0s 5ms/step - loss: 0.0136 - accuracy: 1.0000\n",
      "Epoch 372/400\n",
      "4/4 [==============================] - 0s 6ms/step - loss: 0.0135 - accuracy: 1.0000\n",
      "Epoch 373/400\n",
      "4/4 [==============================] - 0s 3ms/step - loss: 0.0131 - accuracy: 1.0000\n",
      "Epoch 374/400\n",
      "4/4 [==============================] - 0s 4ms/step - loss: 0.0136 - accuracy: 1.0000\n",
      "Epoch 375/400\n",
      "4/4 [==============================] - 0s 4ms/step - loss: 0.0134 - accuracy: 1.0000\n",
      "Epoch 376/400\n",
      "4/4 [==============================] - 0s 3ms/step - loss: 0.0132 - accuracy: 1.0000\n",
      "Epoch 377/400\n",
      "4/4 [==============================] - 0s 3ms/step - loss: 0.0128 - accuracy: 1.0000\n",
      "Epoch 378/400\n",
      "4/4 [==============================] - 0s 5ms/step - loss: 0.0126 - accuracy: 1.0000\n",
      "Epoch 379/400\n",
      "4/4 [==============================] - 0s 3ms/step - loss: 0.0123 - accuracy: 1.0000\n",
      "Epoch 380/400\n",
      "4/4 [==============================] - 0s 3ms/step - loss: 0.0125 - accuracy: 1.0000\n",
      "Epoch 381/400\n",
      "4/4 [==============================] - 0s 4ms/step - loss: 0.0125 - accuracy: 1.0000\n",
      "Epoch 382/400\n",
      "4/4 [==============================] - 0s 3ms/step - loss: 0.0121 - accuracy: 1.0000\n",
      "Epoch 383/400\n",
      "4/4 [==============================] - 0s 3ms/step - loss: 0.0122 - accuracy: 1.0000\n",
      "Epoch 384/400\n",
      "4/4 [==============================] - 0s 4ms/step - loss: 0.0121 - accuracy: 1.0000\n",
      "Epoch 385/400\n",
      "4/4 [==============================] - 0s 4ms/step - loss: 0.0121 - accuracy: 1.0000\n",
      "Epoch 386/400\n",
      "4/4 [==============================] - 0s 4ms/step - loss: 0.0121 - accuracy: 1.0000\n",
      "Epoch 387/400\n",
      "4/4 [==============================] - 0s 3ms/step - loss: 0.0121 - accuracy: 1.0000\n",
      "Epoch 388/400\n",
      "4/4 [==============================] - 0s 4ms/step - loss: 0.0117 - accuracy: 1.0000\n",
      "Epoch 389/400\n",
      "4/4 [==============================] - 0s 4ms/step - loss: 0.0124 - accuracy: 1.0000\n",
      "Epoch 390/400\n",
      "4/4 [==============================] - 0s 4ms/step - loss: 0.0125 - accuracy: 1.0000\n",
      "Epoch 391/400\n",
      "4/4 [==============================] - 0s 3ms/step - loss: 0.0117 - accuracy: 1.0000\n",
      "Epoch 392/400\n",
      "4/4 [==============================] - 0s 3ms/step - loss: 0.0118 - accuracy: 1.0000\n",
      "Epoch 393/400\n",
      "4/4 [==============================] - 0s 3ms/step - loss: 0.0114 - accuracy: 1.0000\n",
      "Epoch 394/400\n",
      "4/4 [==============================] - 0s 3ms/step - loss: 0.0111 - accuracy: 1.0000\n",
      "Epoch 395/400\n",
      "4/4 [==============================] - 0s 4ms/step - loss: 0.0110 - accuracy: 1.0000\n",
      "Epoch 396/400\n",
      "4/4 [==============================] - 0s 4ms/step - loss: 0.0109 - accuracy: 1.0000\n",
      "Epoch 397/400\n",
      "4/4 [==============================] - 0s 4ms/step - loss: 0.0111 - accuracy: 1.0000\n",
      "Epoch 398/400\n",
      "4/4 [==============================] - 0s 3ms/step - loss: 0.0109 - accuracy: 1.0000\n",
      "Epoch 399/400\n",
      "4/4 [==============================] - 0s 3ms/step - loss: 0.0108 - accuracy: 1.0000\n",
      "Epoch 400/400\n",
      "4/4 [==============================] - 0s 4ms/step - loss: 0.0108 - accuracy: 1.0000\n",
      "4/4 [==============================] - 0s 1ms/step\n",
      "3/3 [==============================] - 0s 2ms/step\n"
     ]
    }
   ],
   "source": [
    "# Redefine (Dimension-related) Elements of Grid\n",
    "param_grid_Deep_Classifier['input_dim'] = [2]\n",
    "param_grid_Deep_Classifier['output_dim'] = [N_Quantizers_to_parameterize]\n",
    "\n",
    "# Train simple deep classifier\n",
    "predicted_classes_train, predicted_classes_test, N_params_deep_classifier = build_simple_deep_classifier(n_folds = CV_folds, \n",
    "                                                                                                        n_jobs = n_jobs, \n",
    "                                                                                                        n_iter = n_iter, \n",
    "                                                                                                        param_grid_in=param_grid_Deep_Classifier, \n",
    "                                                                                                        X_train = X_train, \n",
    "                                                                                                        y_train = Classifer_Wasserstein_Centers.T,\n",
    "                                                                                                        X_test = X_test)"
   ]
  },
  {
   "cell_type": "markdown",
   "metadata": {},
   "source": [
    "#### Get Predicted Quantized Distributions\n",
    "- Each *row* of \"Predicted_Weights\" is the $\\beta\\in \\Delta_N$.\n",
    "- Each *Column* of \"Barycenters_Array\" denotes the $x_1,\\dots,x_N$ making up the points of the corresponding empirical measures."
   ]
  },
  {
   "cell_type": "code",
   "execution_count": 27,
   "metadata": {},
   "outputs": [
    {
     "name": "stderr",
     "output_type": "stream",
     "text": [
      "\r",
      "  0%|          | 0/55 [00:00<?, ?it/s]"
     ]
    },
    {
     "name": "stdout",
     "output_type": "stream",
     "text": [
      "#---------------------------------------#\n",
      "Building Training Set (Regression): START\n",
      "#---------------------------------------#\n"
     ]
    },
    {
     "name": "stderr",
     "output_type": "stream",
     "text": [
      "100%|██████████| 55/55 [00:00<00:00, 20946.76it/s]\n",
      "100%|██████████| 55/55 [00:00<00:00, 11839.20it/s]"
     ]
    },
    {
     "name": "stdout",
     "output_type": "stream",
     "text": [
      "#-------------------------------------#\n",
      "Building Training Set (Regression): END\n",
      "#-------------------------------------#\n",
      "#-------------------------------------#\n",
      "Building Test Set (Predictions): START\n",
      "#-------------------------------------#\n",
      "#-----------------------------------#\n",
      "Building Test Set (Predictions): END\n",
      "#-----------------------------------#\n",
      "#-----------------------------#\n",
      "Building Barycenters Set: START\n",
      "#-----------------------------#\n",
      "#-----------------------------#\n",
      "Building Barycenters Set: END\n",
      "#-----------------------------#\n"
     ]
    },
    {
     "name": "stderr",
     "output_type": "stream",
     "text": [
      "\n"
     ]
    }
   ],
   "source": [
    "# Format Weights\n",
    "## Train\n",
    "print(\"#---------------------------------------#\")\n",
    "print(\"Building Training Set (Regression): START\")\n",
    "print(\"#---------------------------------------#\")\n",
    "Predicted_Weights = np.array([])\n",
    "for i in tqdm(range(N_Quantizers_to_parameterize)):    \n",
    "    b = np.repeat(np.array(predicted_classes_train[:,i],dtype='float').reshape(-1,1),N_Monte_Carlo_Samples,axis=-1)\n",
    "    b = b/N_Monte_Carlo_Samples\n",
    "    if i ==0 :\n",
    "        Predicted_Weights = b\n",
    "    else:\n",
    "        Predicted_Weights = np.append(Predicted_Weights,b,axis=1)\n",
    "print(\"#-------------------------------------#\")\n",
    "print(\"Building Training Set (Regression): END\")\n",
    "print(\"#-------------------------------------#\")\n",
    "\n",
    "## Test\n",
    "print(\"#-------------------------------------#\")\n",
    "print(\"Building Test Set (Predictions): START\")\n",
    "print(\"#-------------------------------------#\")\n",
    "Predicted_Weights_test = np.array([])\n",
    "for i in tqdm(range(N_Quantizers_to_parameterize)):\n",
    "    b_test = np.repeat(np.array(predicted_classes_test[:,i],dtype='float').reshape(-1,1),N_Monte_Carlo_Samples,axis=-1)\n",
    "    b_test = b_test/N_Monte_Carlo_Samples\n",
    "    if i ==0 :\n",
    "        Predicted_Weights_test = b_test\n",
    "    else:\n",
    "        Predicted_Weights_test = np.append(Predicted_Weights_test,b_test,axis=1)\n",
    "print(\"#-----------------------------------#\")\n",
    "print(\"Building Test Set (Predictions): END\")\n",
    "print(\"#-----------------------------------#\")\n",
    "        \n",
    "# Format Points of Mass\n",
    "print(\"#-----------------------------#\")\n",
    "print(\"Building Barycenters Set: START\")\n",
    "print(\"#-----------------------------#\")\n",
    "Barycenters_Array = Barycenters_Array.T.reshape(-1,)\n",
    "print(\"#-----------------------------#\")\n",
    "print(\"Building Barycenters Set: END\")\n",
    "print(\"#-----------------------------#\")"
   ]
  },
  {
   "cell_type": "markdown",
   "metadata": {},
   "source": [
    "#### Stop Timer"
   ]
  },
  {
   "cell_type": "code",
   "execution_count": 28,
   "metadata": {},
   "outputs": [],
   "source": [
    "# Stop Timer\n",
    "Type_A_timer_end = time.time()\n",
    "# Compute Lapsed Time Needed For Training\n",
    "Time_Lapse_Model_A = Type_A_timer_end - Type_A_timer_Begin"
   ]
  },
  {
   "cell_type": "markdown",
   "metadata": {},
   "source": [
    "## Get Moment Predictions"
   ]
  },
  {
   "cell_type": "markdown",
   "metadata": {},
   "source": [
    "#### Write Predictions"
   ]
  },
  {
   "cell_type": "markdown",
   "metadata": {},
   "source": [
    "### Training-Set Result(s): "
   ]
  },
  {
   "cell_type": "code",
   "execution_count": 29,
   "metadata": {},
   "outputs": [
    {
     "name": "stderr",
     "output_type": "stream",
     "text": [
      "\r",
      "  0%|          | 0/109 [00:00<?, ?it/s]"
     ]
    },
    {
     "name": "stdout",
     "output_type": "stream",
     "text": [
      "Building Training Set Performance Metrics\n"
     ]
    },
    {
     "name": "stderr",
     "output_type": "stream",
     "text": [
      "\r",
      "100%|██████████| 109/109 [00:00<00:00, 1891.51it/s]"
     ]
    },
    {
     "name": "stdout",
     "output_type": "stream",
     "text": [
      "            W1  E[X']-E[X]  (E[X'^2]-E[X^2])^.5  (E[X'^3]-E[X^3])^(1/3)  \\\n",
      "Min   0.000012    0.000008         4.190629e-12                0.054665   \n",
      "MAE   0.434531    0.158866         1.305595e+00                1.041480   \n",
      "Max  15.987137    3.694389         1.943318e+01                3.604176   \n",
      "\n",
      "     (E[X'^4]-E[X^4])^.25  \n",
      "Min              0.086756  \n",
      "MAE              1.487468  \n",
      "Max              4.059794  \n"
     ]
    },
    {
     "name": "stderr",
     "output_type": "stream",
     "text": [
      "\n"
     ]
    }
   ],
   "source": [
    "print(\"Building Training Set Performance Metrics\")\n",
    "\n",
    "# Initialize Wasserstein-1 Error Distribution\n",
    "W1_errors = np.array([])\n",
    "Mean_errors = np.array([])\n",
    "Var_errors = np.array([])\n",
    "Skewness_errors = np.array([])\n",
    "Kurtosis_errors = np.array([])\n",
    "#---------------------------------------------------------------------------------------------#\n",
    "\n",
    "# Populate Error Distribution\n",
    "for x_i in tqdm(range(len(measures_locations_list)-1)):    \n",
    "    # Get Laws\n",
    "    W1_loop = ot.emd2_1d(Barycenters_Array,\n",
    "                         np.array(measures_locations_list[x_i]).reshape(-1,),\n",
    "                         Predicted_Weights[x_i,].reshape(-1,),\n",
    "                         measure_weights.reshape(-1,))\n",
    "    W1_errors = np.append(W1_errors,W1_loop)\n",
    "    # Get Means\n",
    "    Mu_hat = np.sum((Predicted_Weights[x_i])*(Barycenters_Array))\n",
    "    Mu = np.mean(np.array(measures_locations_list[x_i]))\n",
    "    Mean_errors =  np.append(Mean_errors,(Mu_hat-Mu))\n",
    "    # Get Var (non-centered)\n",
    "    Var_hat = np.sum((Barycenters_Array**2)*(Predicted_Weights[x_i]))\n",
    "    Var = np.mean(np.array(measures_locations_list[x_i])**2)\n",
    "    Var_errors = np.append(Var_errors,(Var_hat-Var)**2)\n",
    "    # Get skewness (non-centered)\n",
    "    Skewness_hat = np.sum((Barycenters_Array**3)*(Predicted_Weights[x_i]))\n",
    "    Skewness = np.mean(np.array(measures_locations_list[x_i])**3)\n",
    "    Skewness_errors = np.append(Skewness_errors,(abs(Skewness_hat-Skewness))**(1/3))\n",
    "    # Get skewness (non-centered)\n",
    "    Kurtosis_hat = np.sum((Barycenters_Array**4)*(Predicted_Weights[x_i]))\n",
    "    Kurtosis = np.mean(np.array(measures_locations_list[x_i])**4)\n",
    "    Kurtosis_errors = np.append(Kurtosis_errors,(abs(Kurtosis_hat-Kurtosis))**.25)\n",
    "    \n",
    "#---------------------------------------------------------------------------------------------#\n",
    "# Compute Error Statistics/Descriptors\n",
    "W1_Performance = np.array([np.min(np.abs(W1_errors)),np.mean(np.abs(W1_errors)),np.max(np.abs(W1_errors))])\n",
    "Mean_prediction_Performance = np.array([np.min(np.abs(Mean_errors)),np.mean(np.abs(Mean_errors)),np.max(np.abs(Mean_errors))])\n",
    "Var_prediction_Performance = np.array([np.min(np.abs(Var_errors)),np.mean(np.abs(Var_errors)),np.max(np.abs(Var_errors))])\n",
    "Skewness_prediction_Performance = np.array([np.min(np.abs(Skewness_errors)),np.mean(np.abs(Skewness_errors)),np.max(np.abs(Skewness_errors))])\n",
    "Kurtosis_prediction_Performance = np.array([np.min(np.abs(Kurtosis_errors)),np.mean(np.abs(Kurtosis_errors)),np.max(np.abs(Kurtosis_errors))])\n",
    "\n",
    "Type_A_Prediction = pd.DataFrame({\"W1\":W1_Performance,\n",
    "                                  \"E[X']-E[X]\":Mean_prediction_Performance,\n",
    "                                  \"(E[X'^2]-E[X^2])^.5\":Var_prediction_Performance,\n",
    "                                  \"(E[X'^3]-E[X^3])^(1/3)\":Skewness_prediction_Performance,\n",
    "                                  \"(E[X'^4]-E[X^4])^.25\":Kurtosis_prediction_Performance},index=[\"Min\",\"MAE\",\"Max\"])\n",
    "\n",
    "# Write Performance\n",
    "Type_A_Prediction.to_latex((results_tables_path+str(\"Roughness_\")+str(Rougness)+str(\"__RatiofBM_\")+str(Ratio_fBM_to_typical_vol)+\n",
    " \"__TypeAPrediction_Train.tex\"))\n",
    "\n",
    "\n",
    "#---------------------------------------------------------------------------------------------#\n",
    "# Update User\n",
    "print(Type_A_Prediction)"
   ]
  },
  {
   "cell_type": "markdown",
   "metadata": {},
   "source": [
    "---"
   ]
  },
  {
   "cell_type": "markdown",
   "metadata": {},
   "source": [
    "### Test-Set Result(s): "
   ]
  },
  {
   "cell_type": "code",
   "execution_count": 30,
   "metadata": {},
   "outputs": [
    {
     "name": "stderr",
     "output_type": "stream",
     "text": [
      "\r",
      "  0%|          | 0/83 [00:00<?, ?it/s]"
     ]
    },
    {
     "name": "stdout",
     "output_type": "stream",
     "text": [
      "Building Test Set Performance Metrics\n"
     ]
    },
    {
     "name": "stderr",
     "output_type": "stream",
     "text": [
      "100%|██████████| 83/83 [00:00<00:00, 378.11it/s]\n"
     ]
    }
   ],
   "source": [
    "print(\"Building Test Set Performance Metrics\")\n",
    "\n",
    "# Initialize Wasserstein-1 Error Distribution\n",
    "W1_errors_test = np.array([])\n",
    "Mean_errors_test = np.array([])\n",
    "Var_errors_test = np.array([])\n",
    "Skewness_errors_test = np.array([])\n",
    "Kurtosis_errors_test = np.array([])\n",
    "#---------------------------------------------------------------------------------------------#\n",
    "\n",
    "# Populate Error Distribution\n",
    "for x_i in tqdm(range(len(measures_locations_test_list)-1)):    \n",
    "    # Get Laws\n",
    "    W1_loop_test = ot.emd2_1d(Barycenters_Array,\n",
    "                         np.array(measures_locations_test_list[x_i]).reshape(-1,),\n",
    "                         Predicted_Weights_test[x_i,].reshape(-1,),\n",
    "                         measure_weights_test.reshape(-1,))\n",
    "    W1_errors_test = np.append(W1_errors_test,W1_loop_test)\n",
    "    # Get Means\n",
    "    Mu_hat_test = np.sum((Predicted_Weights_test[x_i])*(Barycenters_Array))\n",
    "    Mu_test = np.mean(np.array(measures_locations_test_list[x_i]))\n",
    "    Mean_errors_test =  np.append(Mean_errors_test,(Mu_hat_test-Mu_test))\n",
    "    # Get Var (non-centered)\n",
    "    Var_hat_test = np.sum((Barycenters_Array**2)*(Predicted_Weights_test[x_i]))\n",
    "    Var_test = np.mean(np.array(measures_locations_test_list[x_i])**2)\n",
    "    Var_errors_test = np.append(Var_errors_test,(Var_hat_test-Var_test)**2)\n",
    "    # Get skewness (non-centered)\n",
    "    Skewness_hat_test = np.sum((Barycenters_Array**3)*(Predicted_Weights_test[x_i]))\n",
    "    Skewness_test = np.mean(np.array(measures_locations_test_list[x_i])**3)\n",
    "    Skewness_errors_test = np.append(Skewness_errors_test,(abs(Skewness_hat_test-Skewness_test))**(1/3))\n",
    "    # Get skewness (non-centered)\n",
    "    Kurtosis_hat_test = np.sum((Barycenters_Array**4)*(Predicted_Weights_test[x_i]))\n",
    "    Kurtosis_test = np.mean(np.array(measures_locations_test_list[x_i])**4)\n",
    "    Kurtosis_errors_test = np.append(Kurtosis_errors_test,(abs(Kurtosis_hat_test-Kurtosis_test))**.25)\n",
    "    \n",
    "#---------------------------------------------------------------------------------------------#\n",
    "# Compute Error Statistics/Descriptors\n",
    "W1_Performance_test = np.array([np.min(np.abs(W1_errors_test)),np.mean(np.abs(W1_errors_test)),np.mean(np.abs(W1_errors_test))])\n",
    "Mean_prediction_Performance_test = np.array([np.min(np.abs(Mean_errors_test)),np.mean(np.abs(Mean_errors_test)),np.mean(np.abs(Mean_errors_test))])\n",
    "Var_prediction_Performance_test = np.array([np.min(np.abs(Var_errors_test)),np.mean(np.abs(Var_errors_test)),np.mean(np.abs(Var_errors_test))])\n",
    "Skewness_prediction_Performance_test = np.array([np.min(np.abs(Skewness_errors_test)),np.mean(np.abs(Skewness_errors_test)),np.mean(np.abs(Skewness_errors_test))])\n",
    "Kurtosis_prediction_Performance_test = np.array([np.min(np.abs(Kurtosis_errors_test)),np.mean(np.abs(Kurtosis_errors_test)),np.mean(np.abs(Kurtosis_errors_test))])\n",
    "\n",
    "Type_A_Prediction_test = pd.DataFrame({\"W1\":W1_Performance_test,\n",
    "                                  \"E[X']-E[X]\":Mean_prediction_Performance_test,\n",
    "                                  \"(E[X'^2]-E[X^2])^.5\":Var_prediction_Performance_test,\n",
    "                                  \"(E[X'^3]-E[X^3])^(1/3)\":Skewness_prediction_Performance_test,\n",
    "                                  \"(E[X'^4]-E[X^4])^.25\":Kurtosis_prediction_Performance_test},index=[\"Min\",\"MAE\",\"Max\"])\n",
    "\n",
    "# Write Performance\n",
    "Type_A_Prediction_test.to_latex((results_tables_path+str(\"Roughness_\")+str(Rougness)+str(\"__RatiofBM_\")+str(Ratio_fBM_to_typical_vol)+\n",
    " \"__TypeAPrediction_Test.tex\"))"
   ]
  },
  {
   "cell_type": "markdown",
   "metadata": {},
   "source": [
    "## Update User"
   ]
  },
  {
   "cell_type": "markdown",
   "metadata": {},
   "source": [
    "### Print for Terminal Legibility"
   ]
  },
  {
   "cell_type": "code",
   "execution_count": 31,
   "metadata": {},
   "outputs": [
    {
     "name": "stdout",
     "output_type": "stream",
     "text": [
      "#----------------------#\n",
      "Training-Set Performance\n",
      "#----------------------#\n",
      "            W1  E[X']-E[X]  (E[X'^2]-E[X^2])^.5  (E[X'^3]-E[X^3])^(1/3)  \\\n",
      "Min   0.000012    0.000008         4.190629e-12                0.054665   \n",
      "MAE   0.434531    0.158866         1.305595e+00                1.041480   \n",
      "Max  15.987137    3.694389         1.943318e+01                3.604176   \n",
      "\n",
      "     (E[X'^4]-E[X^4])^.25  \n",
      "Min              0.086756  \n",
      "MAE              1.487468  \n",
      "Max              4.059794  \n",
      " \n",
      " \n",
      " \n",
      "#------------------#\n",
      "Test-Set Performance\n",
      "#------------------#\n",
      "           W1  E[X']-E[X]  (E[X'^2]-E[X^2])^.5  (E[X'^3]-E[X^3])^(1/3)  \\\n",
      "Min  0.701054    0.022129             0.027497                1.062621   \n",
      "MAE  1.982738    0.712059             9.729602                2.667850   \n",
      "Max  1.982738    0.712059             9.729602                2.667850   \n",
      "\n",
      "     (E[X'^4]-E[X^4])^.25  \n",
      "Min              1.510307  \n",
      "MAE              3.438170  \n",
      "Max              3.438170  \n",
      " \n",
      " \n",
      " \n"
     ]
    }
   ],
   "source": [
    "print(\"#----------------------#\")\n",
    "print(\"Training-Set Performance\")\n",
    "print(\"#----------------------#\")\n",
    "print(Type_A_Prediction)\n",
    "print(\" \")\n",
    "print(\" \")\n",
    "print(\" \")\n",
    "\n",
    "print(\"#------------------#\")\n",
    "print(\"Test-Set Performance\")\n",
    "print(\"#------------------#\")\n",
    "print(Type_A_Prediction_test)\n",
    "print(\" \")\n",
    "print(\" \")\n",
    "print(\" \")"
   ]
  },
  {
   "cell_type": "markdown",
   "metadata": {},
   "source": [
    "### Facts of Simulation Experiment:"
   ]
  },
  {
   "cell_type": "code",
   "execution_count": 32,
   "metadata": {},
   "outputs": [
    {
     "name": "stdout",
     "output_type": "stream",
     "text": [
      "====================\n",
      " Experiment's Facts \n",
      "====================\n",
      "------------------------------------------------------\n",
      "=====\n",
      "Model\n",
      "=====\n",
      "• N Centers: 55\n",
      "• Each Wasserstein-1 Ball should contain:  2 elements from the training set.\n",
      "------------------------------------------------------\n",
      "========\n",
      "Training\n",
      "========\n",
      "• Data-size: 110\n",
      "• N Points per training datum: 10\n",
      "------------------------------------------------------\n",
      "=======\n",
      "Testing\n",
      "=======\n",
      "• Data-size Test: 84\n",
      "• N Points per testing datum: 10000\n",
      "------------------------------------------------------\n",
      "------------------------------------------------------\n"
     ]
    }
   ],
   "source": [
    "# Update User\n",
    "print(\"====================\")\n",
    "print(\" Experiment's Facts \")\n",
    "print(\"====================\")\n",
    "print(\"------------------------------------------------------\")\n",
    "print(\"=====\")\n",
    "print(\"Model\")\n",
    "print(\"=====\")\n",
    "print(\"\\u2022 N Centers:\",N_Quantizers_to_parameterize)\n",
    "print(\"\\u2022 Each Wasserstein-1 Ball should contain: \",\n",
    "      N_Elements_Per_Cluster, \n",
    "      \"elements from the training set.\")\n",
    "print(\"------------------------------------------------------\")\n",
    "print(\"========\")\n",
    "print(\"Training\")\n",
    "print(\"========\")\n",
    "print(\"\\u2022 Data-size:\",(len(x_Grid)*len(t_Grid)))\n",
    "print(\"\\u2022 N Points per training datum:\",N_Monte_Carlo_Samples)\n",
    "print(\"------------------------------------------------------\")\n",
    "print(\"=======\")\n",
    "print(\"Testing\")\n",
    "print(\"=======\")\n",
    "print(\"\\u2022 Data-size Test:\",(len(x_Grid_test)*len(t_Grid_test)))\n",
    "print(\"\\u2022 N Points per testing datum:\",N_Monte_Carlo_Samples_Test)\n",
    "print(\"------------------------------------------------------\")\n",
    "print(\"------------------------------------------------------\")"
   ]
  },
  {
   "cell_type": "markdown",
   "metadata": {},
   "source": [
    "### Training-Set Performance"
   ]
  },
  {
   "cell_type": "code",
   "execution_count": 33,
   "metadata": {},
   "outputs": [
    {
     "data": {
      "text/html": [
       "<div>\n",
       "<style scoped>\n",
       "    .dataframe tbody tr th:only-of-type {\n",
       "        vertical-align: middle;\n",
       "    }\n",
       "\n",
       "    .dataframe tbody tr th {\n",
       "        vertical-align: top;\n",
       "    }\n",
       "\n",
       "    .dataframe thead th {\n",
       "        text-align: right;\n",
       "    }\n",
       "</style>\n",
       "<table border=\"1\" class=\"dataframe\">\n",
       "  <thead>\n",
       "    <tr style=\"text-align: right;\">\n",
       "      <th></th>\n",
       "      <th>W1</th>\n",
       "      <th>E[X']-E[X]</th>\n",
       "      <th>(E[X'^2]-E[X^2])^.5</th>\n",
       "      <th>(E[X'^3]-E[X^3])^(1/3)</th>\n",
       "      <th>(E[X'^4]-E[X^4])^.25</th>\n",
       "    </tr>\n",
       "  </thead>\n",
       "  <tbody>\n",
       "    <tr>\n",
       "      <th>Min</th>\n",
       "      <td>0.000012</td>\n",
       "      <td>0.000008</td>\n",
       "      <td>4.190629e-12</td>\n",
       "      <td>0.054665</td>\n",
       "      <td>0.086756</td>\n",
       "    </tr>\n",
       "    <tr>\n",
       "      <th>MAE</th>\n",
       "      <td>0.434531</td>\n",
       "      <td>0.158866</td>\n",
       "      <td>1.305595e+00</td>\n",
       "      <td>1.041480</td>\n",
       "      <td>1.487468</td>\n",
       "    </tr>\n",
       "    <tr>\n",
       "      <th>Max</th>\n",
       "      <td>15.987137</td>\n",
       "      <td>3.694389</td>\n",
       "      <td>1.943318e+01</td>\n",
       "      <td>3.604176</td>\n",
       "      <td>4.059794</td>\n",
       "    </tr>\n",
       "  </tbody>\n",
       "</table>\n",
       "</div>"
      ],
      "text/plain": [
       "            W1  E[X']-E[X]  (E[X'^2]-E[X^2])^.5  (E[X'^3]-E[X^3])^(1/3)  \\\n",
       "Min   0.000012    0.000008         4.190629e-12                0.054665   \n",
       "MAE   0.434531    0.158866         1.305595e+00                1.041480   \n",
       "Max  15.987137    3.694389         1.943318e+01                3.604176   \n",
       "\n",
       "     (E[X'^4]-E[X^4])^.25  \n",
       "Min              0.086756  \n",
       "MAE              1.487468  \n",
       "Max              4.059794  "
      ]
     },
     "execution_count": 33,
     "metadata": {},
     "output_type": "execute_result"
    }
   ],
   "source": [
    "Type_A_Prediction"
   ]
  },
  {
   "cell_type": "markdown",
   "metadata": {},
   "source": [
    "### Test-Set Performance"
   ]
  },
  {
   "cell_type": "code",
   "execution_count": 34,
   "metadata": {},
   "outputs": [
    {
     "data": {
      "text/html": [
       "<div>\n",
       "<style scoped>\n",
       "    .dataframe tbody tr th:only-of-type {\n",
       "        vertical-align: middle;\n",
       "    }\n",
       "\n",
       "    .dataframe tbody tr th {\n",
       "        vertical-align: top;\n",
       "    }\n",
       "\n",
       "    .dataframe thead th {\n",
       "        text-align: right;\n",
       "    }\n",
       "</style>\n",
       "<table border=\"1\" class=\"dataframe\">\n",
       "  <thead>\n",
       "    <tr style=\"text-align: right;\">\n",
       "      <th></th>\n",
       "      <th>W1</th>\n",
       "      <th>E[X']-E[X]</th>\n",
       "      <th>(E[X'^2]-E[X^2])^.5</th>\n",
       "      <th>(E[X'^3]-E[X^3])^(1/3)</th>\n",
       "      <th>(E[X'^4]-E[X^4])^.25</th>\n",
       "    </tr>\n",
       "  </thead>\n",
       "  <tbody>\n",
       "    <tr>\n",
       "      <th>Min</th>\n",
       "      <td>0.701054</td>\n",
       "      <td>0.022129</td>\n",
       "      <td>0.027497</td>\n",
       "      <td>1.062621</td>\n",
       "      <td>1.510307</td>\n",
       "    </tr>\n",
       "    <tr>\n",
       "      <th>MAE</th>\n",
       "      <td>1.982738</td>\n",
       "      <td>0.712059</td>\n",
       "      <td>9.729602</td>\n",
       "      <td>2.667850</td>\n",
       "      <td>3.438170</td>\n",
       "    </tr>\n",
       "    <tr>\n",
       "      <th>Max</th>\n",
       "      <td>1.982738</td>\n",
       "      <td>0.712059</td>\n",
       "      <td>9.729602</td>\n",
       "      <td>2.667850</td>\n",
       "      <td>3.438170</td>\n",
       "    </tr>\n",
       "  </tbody>\n",
       "</table>\n",
       "</div>"
      ],
      "text/plain": [
       "           W1  E[X']-E[X]  (E[X'^2]-E[X^2])^.5  (E[X'^3]-E[X^3])^(1/3)  \\\n",
       "Min  0.701054    0.022129             0.027497                1.062621   \n",
       "MAE  1.982738    0.712059             9.729602                2.667850   \n",
       "Max  1.982738    0.712059             9.729602                2.667850   \n",
       "\n",
       "     (E[X'^4]-E[X^4])^.25  \n",
       "Min              1.510307  \n",
       "MAE              3.438170  \n",
       "Max              3.438170  "
      ]
     },
     "execution_count": 34,
     "metadata": {},
     "output_type": "execute_result"
    }
   ],
   "source": [
    "Type_A_Prediction_test"
   ]
  },
  {
   "cell_type": "markdown",
   "metadata": {},
   "source": [
    "# Visualization"
   ]
  },
  {
   "cell_type": "code",
   "execution_count": 58,
   "metadata": {},
   "outputs": [
    {
     "name": "stderr",
     "output_type": "stream",
     "text": [
      "100%|██████████| 109/109 [00:00<00:00, 14151.09it/s]\n",
      "100%|██████████| 83/83 [00:00<00:00, 8930.23it/s]\n"
     ]
    }
   ],
   "source": [
    "# Get Testing Predictions\n",
    "Mu_hat = np.array([])\n",
    "Mu = np.array([])\n",
    "# Populate Error Distribution\n",
    "for x_i in tqdm(range(len(measures_locations_list)-1)):    \n",
    "    # Get Laws\n",
    "    Mu_hat = np.append(Mu_hat,np.sum((Predicted_Weights[x_i])*(Barycenters_Array)))\n",
    "    Mu = np.append(Mu,np.mean(np.array(measures_locations_list[x_i])))\n",
    "\n",
    "# Get Training Predictions\n",
    "Mu_hat_test = np.array([])\n",
    "Mu_test = np.array([])\n",
    "Var_hat_test = np.array([])\n",
    "# Populate Error Distribution\n",
    "for x_i in tqdm(range(len(measures_locations_test_list)-1)):    \n",
    "    # Get Laws\n",
    "    Mu_hat_test = np.append(Mu_hat_test,np.sum((Predicted_Weights_test[x_i])*(Barycenters_Array)))\n",
    "    Mu_test = np.append(Mu_test,np.mean(np.array(measures_locations_test_list[x_i])))\n",
    "    ## Error Bands\n",
    "    Var_hat_test = np.append(Var_hat_test,np.sqrt(np.sum((Barycenters_Array**2)*(Predicted_Weights_test[x_i]))))"
   ]
  },
  {
   "cell_type": "code",
   "execution_count": 81,
   "metadata": {},
   "outputs": [
    {
     "data": {
      "text/plain": [
       "array([[ 0.00000000e+00, -1.00000000e+00],\n",
       "       [ 1.00000000e-01, -1.00000000e+00],\n",
       "       [ 2.00000000e-01, -1.00000000e+00],\n",
       "       [ 3.00000000e-01, -1.00000000e+00],\n",
       "       [ 4.00000000e-01, -1.00000000e+00],\n",
       "       [ 5.00000000e-01, -1.00000000e+00],\n",
       "       [ 6.00000000e-01, -1.00000000e+00],\n",
       "       [ 7.00000000e-01, -1.00000000e+00],\n",
       "       [ 8.00000000e-01, -1.00000000e+00],\n",
       "       [ 9.00000000e-01, -1.00000000e+00],\n",
       "       [ 1.00000000e+00, -1.00000000e+00],\n",
       "       [ 0.00000000e+00, -8.00000000e-01],\n",
       "       [ 1.00000000e-01, -8.00000000e-01],\n",
       "       [ 2.00000000e-01, -8.00000000e-01],\n",
       "       [ 3.00000000e-01, -8.00000000e-01],\n",
       "       [ 4.00000000e-01, -8.00000000e-01],\n",
       "       [ 5.00000000e-01, -8.00000000e-01],\n",
       "       [ 6.00000000e-01, -8.00000000e-01],\n",
       "       [ 7.00000000e-01, -8.00000000e-01],\n",
       "       [ 8.00000000e-01, -8.00000000e-01],\n",
       "       [ 9.00000000e-01, -8.00000000e-01],\n",
       "       [ 1.00000000e+00, -8.00000000e-01],\n",
       "       [ 0.00000000e+00, -6.00000000e-01],\n",
       "       [ 1.00000000e-01, -6.00000000e-01],\n",
       "       [ 2.00000000e-01, -6.00000000e-01],\n",
       "       [ 3.00000000e-01, -6.00000000e-01],\n",
       "       [ 4.00000000e-01, -6.00000000e-01],\n",
       "       [ 5.00000000e-01, -6.00000000e-01],\n",
       "       [ 6.00000000e-01, -6.00000000e-01],\n",
       "       [ 7.00000000e-01, -6.00000000e-01],\n",
       "       [ 8.00000000e-01, -6.00000000e-01],\n",
       "       [ 9.00000000e-01, -6.00000000e-01],\n",
       "       [ 1.00000000e+00, -6.00000000e-01],\n",
       "       [ 0.00000000e+00, -4.00000000e-01],\n",
       "       [ 1.00000000e-01, -4.00000000e-01],\n",
       "       [ 2.00000000e-01, -4.00000000e-01],\n",
       "       [ 3.00000000e-01, -4.00000000e-01],\n",
       "       [ 4.00000000e-01, -4.00000000e-01],\n",
       "       [ 5.00000000e-01, -4.00000000e-01],\n",
       "       [ 6.00000000e-01, -4.00000000e-01],\n",
       "       [ 7.00000000e-01, -4.00000000e-01],\n",
       "       [ 8.00000000e-01, -4.00000000e-01],\n",
       "       [ 9.00000000e-01, -4.00000000e-01],\n",
       "       [ 1.00000000e+00, -4.00000000e-01],\n",
       "       [ 0.00000000e+00, -2.00000000e-01],\n",
       "       [ 1.00000000e-01, -2.00000000e-01],\n",
       "       [ 2.00000000e-01, -2.00000000e-01],\n",
       "       [ 3.00000000e-01, -2.00000000e-01],\n",
       "       [ 4.00000000e-01, -2.00000000e-01],\n",
       "       [ 5.00000000e-01, -2.00000000e-01],\n",
       "       [ 6.00000000e-01, -2.00000000e-01],\n",
       "       [ 7.00000000e-01, -2.00000000e-01],\n",
       "       [ 8.00000000e-01, -2.00000000e-01],\n",
       "       [ 9.00000000e-01, -2.00000000e-01],\n",
       "       [ 1.00000000e+00, -2.00000000e-01],\n",
       "       [ 0.00000000e+00, -2.22044605e-16],\n",
       "       [ 1.00000000e-01, -2.22044605e-16],\n",
       "       [ 2.00000000e-01, -2.22044605e-16],\n",
       "       [ 3.00000000e-01, -2.22044605e-16],\n",
       "       [ 4.00000000e-01, -2.22044605e-16],\n",
       "       [ 5.00000000e-01, -2.22044605e-16],\n",
       "       [ 6.00000000e-01, -2.22044605e-16],\n",
       "       [ 7.00000000e-01, -2.22044605e-16],\n",
       "       [ 8.00000000e-01, -2.22044605e-16],\n",
       "       [ 9.00000000e-01, -2.22044605e-16],\n",
       "       [ 1.00000000e+00, -2.22044605e-16],\n",
       "       [ 0.00000000e+00,  2.00000000e-01],\n",
       "       [ 1.00000000e-01,  2.00000000e-01],\n",
       "       [ 2.00000000e-01,  2.00000000e-01],\n",
       "       [ 3.00000000e-01,  2.00000000e-01],\n",
       "       [ 4.00000000e-01,  2.00000000e-01],\n",
       "       [ 5.00000000e-01,  2.00000000e-01],\n",
       "       [ 6.00000000e-01,  2.00000000e-01],\n",
       "       [ 7.00000000e-01,  2.00000000e-01],\n",
       "       [ 8.00000000e-01,  2.00000000e-01],\n",
       "       [ 9.00000000e-01,  2.00000000e-01],\n",
       "       [ 1.00000000e+00,  2.00000000e-01],\n",
       "       [ 0.00000000e+00,  4.00000000e-01],\n",
       "       [ 1.00000000e-01,  4.00000000e-01],\n",
       "       [ 2.00000000e-01,  4.00000000e-01],\n",
       "       [ 3.00000000e-01,  4.00000000e-01],\n",
       "       [ 4.00000000e-01,  4.00000000e-01],\n",
       "       [ 5.00000000e-01,  4.00000000e-01],\n",
       "       [ 6.00000000e-01,  4.00000000e-01],\n",
       "       [ 7.00000000e-01,  4.00000000e-01],\n",
       "       [ 8.00000000e-01,  4.00000000e-01],\n",
       "       [ 9.00000000e-01,  4.00000000e-01],\n",
       "       [ 1.00000000e+00,  4.00000000e-01],\n",
       "       [ 0.00000000e+00,  6.00000000e-01],\n",
       "       [ 1.00000000e-01,  6.00000000e-01],\n",
       "       [ 2.00000000e-01,  6.00000000e-01],\n",
       "       [ 3.00000000e-01,  6.00000000e-01],\n",
       "       [ 4.00000000e-01,  6.00000000e-01],\n",
       "       [ 5.00000000e-01,  6.00000000e-01],\n",
       "       [ 6.00000000e-01,  6.00000000e-01],\n",
       "       [ 7.00000000e-01,  6.00000000e-01],\n",
       "       [ 8.00000000e-01,  6.00000000e-01],\n",
       "       [ 9.00000000e-01,  6.00000000e-01],\n",
       "       [ 1.00000000e+00,  6.00000000e-01],\n",
       "       [ 0.00000000e+00,  8.00000000e-01],\n",
       "       [ 1.00000000e-01,  8.00000000e-01],\n",
       "       [ 2.00000000e-01,  8.00000000e-01],\n",
       "       [ 3.00000000e-01,  8.00000000e-01],\n",
       "       [ 4.00000000e-01,  8.00000000e-01],\n",
       "       [ 5.00000000e-01,  8.00000000e-01],\n",
       "       [ 6.00000000e-01,  8.00000000e-01],\n",
       "       [ 7.00000000e-01,  8.00000000e-01],\n",
       "       [ 8.00000000e-01,  8.00000000e-01],\n",
       "       [ 9.00000000e-01,  8.00000000e-01],\n",
       "       [ 1.00000000e+00,  8.00000000e-01]])"
      ]
     },
     "execution_count": 81,
     "metadata": {},
     "output_type": "execute_result"
    }
   ],
   "source": [
    "X_train"
   ]
  },
  {
   "cell_type": "markdown",
   "metadata": {},
   "source": [
    "---"
   ]
  },
  {
   "cell_type": "markdown",
   "metadata": {},
   "source": [
    "---\n",
    "# Fin\n",
    "---"
   ]
  },
  {
   "cell_type": "markdown",
   "metadata": {},
   "source": [
    "---"
   ]
  }
 ],
 "metadata": {
  "kernelspec": {
   "display_name": "Python 3",
   "language": "python",
   "name": "python3"
  },
  "language_info": {
   "codemirror_mode": {
    "name": "ipython",
    "version": 3
   },
   "file_extension": ".py",
   "mimetype": "text/x-python",
   "name": "python",
   "nbconvert_exporter": "python",
   "pygments_lexer": "ipython3",
   "version": "3.7.7"
  }
 },
 "nbformat": 4,
 "nbformat_minor": 2
}
