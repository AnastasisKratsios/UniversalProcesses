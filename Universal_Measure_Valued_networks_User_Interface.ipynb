{
 "cells": [
  {
   "cell_type": "markdown",
   "metadata": {},
   "source": [
    "# Deep Universal Regular Conditional Expectations:\n",
    "\n",
    "---\n",
    "This implements the universal deep neural model of $\\mathcal{NN}_{1_{\\mathbb{R}^n},\\mathcal{D}}^{\\sigma:\\star}$ [Anastasis Kratsios](https://people.math.ethz.ch/~kratsioa/) - 2021.\n",
    "\n",
    "---\n",
    "\n",
    "## What does this code do?\n",
    "1. Learn Heteroskedastic Non-Linear Regression Problem\n",
    "     - $Y\\sim f_{\\text{unkown}}(x) + \\epsilon$ where $f$ is an known function and $\\epsilon\\sim Laplace(0,\\|x\\|)$\n",
    "2. Learn Random Bayesian Network's Law:\n",
    "    - $Y = W_J Y^{J-1}, \\qquad Y^{j}\\triangleq \\sigma\\bullet A^{j}Y^{j-1} + b^{j}, \\qquad Y^0\\triangleq x$\n",
    "\n",
    "3. In the above example if $A_j = M_j\\odot \\tilde{A_j}$ where $\\tilde{A}_j$ is a deterministic matrix and $M_j$ is a \"mask\", that is, a random matrix with binary entries and $\\odot$ is the Hadamard product then we recover the dropout framework.\n",
    "4. Learn the probability distribution that the unique strong solution to the rough SDE with uniformly Lipschitz drivers driven by a factional Brownian motion with Hurst exponent $H \\in [\\frac1{2},1)$:\n",
    "$$\n",
    "X_t^x = x + \\int_0^t \\alpha(s,X_s^x)ds + \\int_0^t \\beta(s,X_s^x)dB_s^H\n",
    "$$\n",
    "belongs, at time $t=1$, to a ball about the initial point $x$ of random radius given by an independant exponential random-variable with shape parameter $\\lambda=2$\n",
    "5. Train a DNN to predict the returns of bitcoin with GD.  Since this has random initialization then each prediction of a given $x$ is stochastic...We learn the distribution of this conditional RV (conditioned on x in the input space).\n",
    "$$\n",
    "Y_x \\triangleq \\hat{f}_{\\theta_{T}}(x), \\qquad \\theta_{(t+1)}\\triangleq \\theta_{(t)} + \\lambda \\sum_{x \\in \\mathbb{X}} \\nabla_{\\theta}\\|\\hat{f}_{\\theta_t}(x) - f(x)\\|, \\qquad \\theta_0 \\sim N_d(0,1);\n",
    "$$\n",
    "$T\\in \\mathbb{N}$ is a fixed number of \"SGD\" iterations (typically identified by cross-validation on a single SGD trajectory for a single initialization) and where $\\theta \\in \\mathbb{R}^{(d_{J}+1)+\\sum_{j=0}^{J-1} (d_{j+1}d_j + 1)}$ and $d_j$ is the dimension of the \"bias\" vector $b_j$ defining each layer of the DNN with layer dimensions:\n",
    "$$\n",
    "\\hat{f}_{\\theta}(x)\\triangleq A^{(J)}x^{(J)} + b^{(J)},\\qquad x^{(j+1)}\\triangleq \\sigma\\bullet A^{j}x^{(j)} + b^{j},\\qquad x^{(0)}\\triangleq x\n",
    ".\n",
    "$$"
   ]
  },
  {
   "cell_type": "markdown",
   "metadata": {},
   "source": [
    "#### Mode:\n",
    "Software/Hardware Testing or Real-Deal?"
   ]
  },
  {
   "cell_type": "code",
   "execution_count": 1,
   "metadata": {},
   "outputs": [],
   "source": [
    "trial_run = True"
   ]
  },
  {
   "cell_type": "markdown",
   "metadata": {},
   "source": [
    "### Simulation Method:"
   ]
  },
  {
   "cell_type": "code",
   "execution_count": 2,
   "metadata": {},
   "outputs": [],
   "source": [
    "# # Random DNN\n",
    "# f_unknown_mode = \"Heteroskedastic_NonLinear_Regression\"\n",
    "\n",
    "# # Random DNN internal noise\n",
    "# f_unknown_mode = \"DNN_with_Random_Weights\"\n",
    "Depth_Bayesian_DNN = 1\n",
    "width = 5\n",
    "\n",
    "# # Random Dropout applied to trained DNN\n",
    "# f_unknown_mode = \"DNN_with_Bayesian_Dropout\"\n",
    "Dropout_rate = 0.1\n",
    "\n",
    "# GD with Randomized Input\n",
    "# f_unknown_mode = \"GD_with_randomized_input\"\n",
    "GD_epochs = 2\n",
    "\n",
    "# SDE with fractional Driver\n",
    "f_unknown_mode = \"Rough_SDE\"\n",
    "N_Euler_Steps = 10**1\n",
    "Hurst_Exponent = 0.5"
   ]
  },
  {
   "cell_type": "markdown",
   "metadata": {},
   "source": [
    "## Problem Dimension"
   ]
  },
  {
   "cell_type": "code",
   "execution_count": 3,
   "metadata": {},
   "outputs": [],
   "source": [
    "problem_dim = 5"
   ]
  },
  {
   "cell_type": "markdown",
   "metadata": {},
   "source": [
    "## Note: *Why the procedure is so computationally efficient*?\n",
    "---\n",
    " - The sample barycenters do not require us to solve for any new Wasserstein-1 Barycenters; which is much more computationally costly,\n",
    " - Our training procedure never back-propages through $\\mathcal{W}_1$ since steps 2 and 3 are full-decoupled.  Therefore, training our deep classifier is (comparatively) cheap since it takes values in the standard $N$-simplex.\n",
    "\n",
    "---"
   ]
  },
  {
   "cell_type": "markdown",
   "metadata": {},
   "source": [
    "#### Grid Hyperparameter(s)\n",
    "- Ratio $\\frac{\\text{Testing Datasize}}{\\text{Training Datasize}}$.\n",
    "- Number of Training Points to Generate"
   ]
  },
  {
   "cell_type": "code",
   "execution_count": 4,
   "metadata": {},
   "outputs": [],
   "source": [
    "train_test_ratio = .2\n",
    "N_train_size = 20"
   ]
  },
  {
   "cell_type": "markdown",
   "metadata": {},
   "source": [
    "Monte-Carlo Paramters"
   ]
  },
  {
   "cell_type": "code",
   "execution_count": 5,
   "metadata": {},
   "outputs": [],
   "source": [
    "## Monte-Carlo\n",
    "N_Monte_Carlo_Samples = 10**1"
   ]
  },
  {
   "cell_type": "markdown",
   "metadata": {},
   "source": [
    "Initial radis of $\\delta$-bounded random partition of $\\mathcal{X}$!"
   ]
  },
  {
   "cell_type": "code",
   "execution_count": 6,
   "metadata": {},
   "outputs": [],
   "source": [
    "# Hyper-parameters of Cover\n",
    "delta = 0.01\n",
    "Proportion_per_cluster = .75"
   ]
  },
  {
   "cell_type": "markdown",
   "metadata": {},
   "source": [
    "## Dependencies and Auxiliary Script(s)"
   ]
  },
  {
   "cell_type": "code",
   "execution_count": 7,
   "metadata": {},
   "outputs": [
    {
     "name": "stderr",
     "output_type": "stream",
     "text": [
      "Using TensorFlow backend.\n"
     ]
    },
    {
     "name": "stdout",
     "output_type": "stream",
     "text": [
      "Deep Feature Builder - Ready\n",
      "Deep Classifier - Ready\n",
      "Deep Feature Builder - Ready\n"
     ]
    }
   ],
   "source": [
    "# %run Loader.ipynb\n",
    "exec(open('Loader.py').read())\n",
    "# Load Packages/Modules\n",
    "exec(open('Init_Dump.py').read())\n",
    "import time as time #<- Note sure why...but its always seems to need 'its own special loading...'"
   ]
  },
  {
   "cell_type": "markdown",
   "metadata": {},
   "source": [
    "# Simulate or Parse Data"
   ]
  },
  {
   "cell_type": "code",
   "execution_count": 8,
   "metadata": {},
   "outputs": [
    {
     "name": "stderr",
     "output_type": "stream",
     "text": [
      "100%|██████████| 20/20 [00:00<00:00, 149.57it/s]\n",
      "100%|██████████| 4/4 [00:00<00:00, 123.10it/s]"
     ]
    },
    {
     "name": "stdout",
     "output_type": "stream",
     "text": [
      "---------------------------------------\n",
      "Beginning Data-Parsing/Simulation Phase\n",
      "---------------------------------------\n",
      "Deciding on Which Simulator/Parser To Load\n",
      "Setting/Defining: Internal Parameters\n",
      "Deciding on Which Type of Data to Get/Simulate\n",
      "Simulating Output Data for given input data\n",
      "----------------------------------\n",
      "Done Data-Parsing/Simulation Phase\n",
      "----------------------------------\n"
     ]
    },
    {
     "name": "stderr",
     "output_type": "stream",
     "text": [
      "\n"
     ]
    }
   ],
   "source": [
    "# %run Data_Simulator_and_Parser.ipynb\n",
    "exec(open('Data_Simulator_and_Parser.py').read())"
   ]
  },
  {
   "cell_type": "markdown",
   "metadata": {},
   "source": [
    "# Run Main:"
   ]
  },
  {
   "cell_type": "code",
   "execution_count": 9,
   "metadata": {},
   "outputs": [
    {
     "name": "stdout",
     "output_type": "stream",
     "text": [
      "------------------------------\n",
      "Running script for main model!\n",
      "------------------------------\n"
     ]
    },
    {
     "name": "stderr",
     "output_type": "stream",
     "text": [
      "100%|██████████| 150/150 [00:00<00:00, 17376.83it/s]"
     ]
    },
    {
     "name": "stdout",
     "output_type": "stream",
     "text": [
      "Deep Feature Builder - Ready\n",
      "Deep Classifier - Ready\n",
      "==========================================\n",
      "Training Classifer Portion of Type-A Model\n",
      "==========================================\n",
      "Fitting 2 folds for each of 1 candidates, totalling 2 fits\n"
     ]
    },
    {
     "name": "stderr",
     "output_type": "stream",
     "text": [
      "\n",
      "[Parallel(n_jobs=4)]: Using backend LokyBackend with 4 concurrent workers.\n",
      "[Parallel(n_jobs=4)]: Done   2 out of   2 | elapsed:    3.5s remaining:    0.0s\n",
      "[Parallel(n_jobs=4)]: Done   2 out of   2 | elapsed:    3.5s finished\n"
     ]
    },
    {
     "name": "stdout",
     "output_type": "stream",
     "text": [
      "Epoch 1/5\n",
      "25/25 [==============================] - 0s 903us/step - loss: 5.0302 - accuracy: 0.0050\n",
      "Epoch 2/5\n",
      "25/25 [==============================] - 0s 958us/step - loss: 5.0035 - accuracy: 0.0200\n",
      "Epoch 3/5\n",
      "25/25 [==============================] - 0s 1ms/step - loss: 4.9864 - accuracy: 0.0250\n",
      "Epoch 4/5\n",
      "25/25 [==============================] - 0s 1ms/step - loss: 4.9676 - accuracy: 0.0300\n",
      "Epoch 5/5\n",
      "25/25 [==============================] - 0s 1ms/step - loss: 4.9468 - accuracy: 0.0400\n",
      "25/25 [==============================] - 0s 1ms/step\n",
      "5/5 [==============================] - 0s 1ms/step\n"
     ]
    },
    {
     "name": "stderr",
     "output_type": "stream",
     "text": [
      "\r",
      "  0%|          | 0/200 [00:00<?, ?it/s]"
     ]
    },
    {
     "name": "stdout",
     "output_type": "stream",
     "text": [
      "===============================================\n",
      "Training Classifer Portion of Type Model: Done!\n",
      "===============================================\n",
      "#--------------------#\n",
      " Get Training Error(s)\n",
      "#--------------------#\n"
     ]
    },
    {
     "name": "stderr",
     "output_type": "stream",
     "text": [
      "100%|██████████| 200/200 [00:06<00:00, 29.57it/s]\n",
      "  8%|▊         | 3/40 [00:00<00:01, 24.60it/s]"
     ]
    },
    {
     "name": "stdout",
     "output_type": "stream",
     "text": [
      "#-------------------------#\n",
      " Get Training Error(s): END\n",
      "#-------------------------#\n",
      "#----------------#\n",
      " Get Test Error(s)\n",
      "#----------------#\n"
     ]
    },
    {
     "name": "stderr",
     "output_type": "stream",
     "text": [
      "100%|██████████| 40/40 [00:01<00:00, 34.09it/s]"
     ]
    },
    {
     "name": "stdout",
     "output_type": "stream",
     "text": [
      "#------------------------#\n",
      " Get Testing Error(s): END\n",
      "#------------------------#\n",
      "                                       DNM  MC-Oracle\n",
      "W1-95L                            0.405253   0.000000\n",
      "W1                                0.417215   0.000000\n",
      "W1-95R                            0.424174   0.000000\n",
      "M-95L                             1.252847   1.212462\n",
      "M                                 1.327205   1.327205\n",
      "M-95R                             1.453645   1.467073\n",
      "N_Par                          1720.000000   0.000000\n",
      "Train_Time                       12.701303   0.176438\n",
      "Test_Time/MC-Oracle_Test_Time     1.582523   1.000000\n",
      "------------------------------------\n",
      "Done: Running script for main model!\n",
      "------------------------------------\n"
     ]
    },
    {
     "name": "stderr",
     "output_type": "stream",
     "text": [
      "\n"
     ]
    }
   ],
   "source": [
    "print(\"------------------------------\")\n",
    "print(\"Running script for main model!\")\n",
    "print(\"------------------------------\")\n",
    "# %run Universal_Measure_Valued_Networks_Backend.ipynb\n",
    "exec(open('Universal_Measure_Valued_Networks_Backend.py').read())\n",
    "\n",
    "print(\"------------------------------------\")\n",
    "print(\"Done: Running script for main model!\")\n",
    "print(\"------------------------------------\")"
   ]
  },
  {
   "cell_type": "markdown",
   "metadata": {},
   "source": [
    "---\n",
    "# Run: All Benchmarks"
   ]
  },
  {
   "cell_type": "markdown",
   "metadata": {},
   "source": [
    "## 1) *Pointmass Benchmark(s)*\n",
    "These benchmarks consist of subsets of $C(\\mathbb{R}^d,\\mathbb{R})$ which we lift to models in $C(\\mathbb{R}^d,\\cap_{1\\leq q<\\infty}\\mathscr{P}_{q}(\\mathbb{R}))$ via:\n",
    "$$\n",
    "\\mathbb{R}^d \\ni x \\to f(x) \\to \\delta_{f(x)}\\in \\cap_{1\\leq q<\\infty}\\mathcal{P}_{q}(\\mathbb{R}).\n",
    "$$"
   ]
  },
  {
   "cell_type": "code",
   "execution_count": 10,
   "metadata": {},
   "outputs": [
    {
     "name": "stderr",
     "output_type": "stream",
     "text": [
      "\r",
      "  0%|          | 0/5 [00:00<?, ?it/s]"
     ]
    },
    {
     "name": "stdout",
     "output_type": "stream",
     "text": [
      "Deep Feature Builder - Ready\n",
      "--------------\n",
      "Training: ENET\n",
      "--------------\n"
     ]
    },
    {
     "name": "stderr",
     "output_type": "stream",
     "text": [
      "100%|██████████| 5/5 [00:22<00:00,  4.53s/it]\n",
      " 11%|█         | 22/200 [00:00<00:00, 216.43it/s]"
     ]
    },
    {
     "name": "stdout",
     "output_type": "stream",
     "text": [
      "---------------------\n",
      "Training: ENET - Done\n",
      "---------------------\n",
      "#------------#\n",
      " Get Error(s) \n",
      "#------------#\n"
     ]
    },
    {
     "name": "stderr",
     "output_type": "stream",
     "text": [
      "100%|██████████| 200/200 [00:00<00:00, 210.29it/s]\n",
      "100%|██████████| 40/40 [00:00<00:00, 208.44it/s]\n"
     ]
    },
    {
     "name": "stdout",
     "output_type": "stream",
     "text": [
      "#-----------------#\n",
      " Get Error(s): END \n",
      "#-----------------#\n",
      "#------------#\n",
      " Get Error(s) \n",
      "#------------#\n",
      "#-----------------#\n",
      " Get Error(s): END \n",
      "#-----------------#\n",
      "Updated DataFrame"
     ]
    },
    {
     "name": "stderr",
     "output_type": "stream",
     "text": [
      "[Parallel(n_jobs=4)]: Using backend LokyBackend with 4 concurrent workers.\n",
      "[Parallel(n_jobs=4)]: Done   1 tasks      | elapsed:    0.0s\n",
      "[Parallel(n_jobs=4)]: Batch computation too fast (0.0466s.) Setting batch_size=2.\n",
      "[Parallel(n_jobs=4)]: Done   2 out of   4 | elapsed:    0.1s remaining:    0.1s\n"
     ]
    },
    {
     "name": "stdout",
     "output_type": "stream",
     "text": [
      "\n",
      "                                       DNM  MC-Oracle          ENET\n",
      "W1-95L                            0.405253   0.000000  9.345086e+00\n",
      "W1                                0.417215   0.000000  9.785819e+00\n",
      "W1-95R                            0.424174   0.000000  1.026902e+01\n",
      "M-95L                             1.252847   1.212462  4.503208e+01\n",
      "M                                 1.327205   1.327205  4.784373e+01\n",
      "M-95R                             1.453645   1.467073  4.991505e+01\n",
      "N_Par                          1720.000000   0.000000  2.000000e+03\n",
      "Train_Time                       12.701303   0.176438  1.619795e+09\n",
      "Test_Time/MC-Oracle_Test_Time     1.582523   1.000000  9.366185e-03\n",
      "-----------------\n",
      "Training: K-Ridge\n",
      "-----------------\n",
      "Fitting 2 folds for each of 2 candidates, totalling 4 fits\n"
     ]
    },
    {
     "name": "stderr",
     "output_type": "stream",
     "text": [
      "[Parallel(n_jobs=4)]: Done   4 out of   4 | elapsed:    0.3s remaining:    0.0s\n",
      "[Parallel(n_jobs=4)]: Done   4 out of   4 | elapsed:    0.3s finished\n",
      "  6%|▌         | 12/200 [00:00<00:01, 119.96it/s]"
     ]
    },
    {
     "name": "stdout",
     "output_type": "stream",
     "text": [
      "#------------#\n",
      " Get Error(s) \n",
      "#------------#\n"
     ]
    },
    {
     "name": "stderr",
     "output_type": "stream",
     "text": [
      "100%|██████████| 200/200 [00:00<00:00, 216.94it/s]\n",
      "100%|██████████| 40/40 [00:00<00:00, 224.85it/s]\n",
      "[Parallel(n_jobs=4)]: Using backend LokyBackend with 4 concurrent workers.\n"
     ]
    },
    {
     "name": "stdout",
     "output_type": "stream",
     "text": [
      "#-----------------#\n",
      " Get Error(s): END \n",
      "#-----------------#\n",
      "#------------#\n",
      " Get Error(s) \n",
      "#------------#\n",
      "#-----------------#\n",
      " Get Error(s): END \n",
      "#-----------------#\n",
      "Updated DataFrame\n",
      "                                       DNM  MC-Oracle          ENET     KRidge\n",
      "W1-95L                            0.405253   0.000000  9.345086e+00   9.577519\n",
      "W1                                0.417215   0.000000  9.785819e+00   9.942966\n",
      "W1-95R                            0.424174   0.000000  1.026902e+01  10.257549\n",
      "M-95L                             1.252847   1.212462  4.503208e+01  45.517167\n",
      "M                                 1.327205   1.327205  4.784373e+01  47.991556\n",
      "M-95R                             1.453645   1.467073  4.991505e+01  49.836028\n",
      "N_Par                          1720.000000   0.000000  2.000000e+03   0.000000\n",
      "Train_Time                       12.701303   0.176438  1.619795e+09   1.497953\n",
      "Test_Time/MC-Oracle_Test_Time     1.582523   1.000000  9.366185e-03   0.025855\n",
      "--------------\n",
      "Training: GBRF\n",
      "--------------\n",
      "Fitting 2 folds for each of 1 candidates, totalling 2 fits\n"
     ]
    },
    {
     "name": "stderr",
     "output_type": "stream",
     "text": [
      "[Parallel(n_jobs=4)]: Done   2 out of   2 | elapsed:    0.2s remaining:    0.0s\n",
      "[Parallel(n_jobs=4)]: Done   2 out of   2 | elapsed:    0.2s finished\n"
     ]
    },
    {
     "name": "stdout",
     "output_type": "stream",
     "text": [
      "Fitting 2 folds for each of 1 candidates, totalling 2 fits\n"
     ]
    },
    {
     "name": "stderr",
     "output_type": "stream",
     "text": [
      "[Parallel(n_jobs=4)]: Using backend LokyBackend with 4 concurrent workers.\n",
      "[Parallel(n_jobs=4)]: Done   2 out of   2 | elapsed:    0.2s remaining:    0.0s\n",
      "[Parallel(n_jobs=4)]: Done   2 out of   2 | elapsed:    0.2s finished\n"
     ]
    },
    {
     "name": "stdout",
     "output_type": "stream",
     "text": [
      "Fitting 2 folds for each of 1 candidates, totalling 2 fits\n"
     ]
    },
    {
     "name": "stderr",
     "output_type": "stream",
     "text": [
      "[Parallel(n_jobs=4)]: Using backend LokyBackend with 4 concurrent workers.\n",
      "[Parallel(n_jobs=4)]: Done   2 out of   2 | elapsed:    0.2s remaining:    0.0s\n",
      "[Parallel(n_jobs=4)]: Done   2 out of   2 | elapsed:    0.2s finished\n"
     ]
    },
    {
     "name": "stdout",
     "output_type": "stream",
     "text": [
      "Fitting 2 folds for each of 1 candidates, totalling 2 fits\n"
     ]
    },
    {
     "name": "stderr",
     "output_type": "stream",
     "text": [
      "[Parallel(n_jobs=4)]: Using backend LokyBackend with 4 concurrent workers.\n",
      "[Parallel(n_jobs=4)]: Done   2 out of   2 | elapsed:    0.2s remaining:    0.0s\n",
      "[Parallel(n_jobs=4)]: Done   2 out of   2 | elapsed:    0.2s finished\n"
     ]
    },
    {
     "name": "stdout",
     "output_type": "stream",
     "text": [
      "Fitting 2 folds for each of 1 candidates, totalling 2 fits\n"
     ]
    },
    {
     "name": "stderr",
     "output_type": "stream",
     "text": [
      "[Parallel(n_jobs=4)]: Using backend LokyBackend with 4 concurrent workers.\n",
      "[Parallel(n_jobs=4)]: Done   2 out of   2 | elapsed:    0.2s remaining:    0.0s\n",
      "[Parallel(n_jobs=4)]: Done   2 out of   2 | elapsed:    0.2s finished\n",
      " 10%|█         | 20/200 [00:00<00:00, 195.29it/s]"
     ]
    },
    {
     "name": "stdout",
     "output_type": "stream",
     "text": [
      "#------------#\n",
      " Get Error(s) \n",
      "#------------#\n"
     ]
    },
    {
     "name": "stderr",
     "output_type": "stream",
     "text": [
      "100%|██████████| 200/200 [00:01<00:00, 196.37it/s]\n",
      "100%|██████████| 40/40 [00:00<00:00, 219.77it/s]\n",
      "[Parallel(n_jobs=4)]: Using backend LokyBackend with 4 concurrent workers.\n"
     ]
    },
    {
     "name": "stdout",
     "output_type": "stream",
     "text": [
      "#-----------------#\n",
      " Get Error(s): END \n",
      "#-----------------#\n",
      "#------------#\n",
      " Get Error(s) \n",
      "#------------#\n",
      "#-----------------#\n",
      " Get Error(s): END \n",
      "#-----------------#\n",
      "Updated DataFrame\n",
      "                                       DNM  MC-Oracle          ENET  \\\n",
      "W1-95L                            0.405253   0.000000  9.345086e+00   \n",
      "W1                                0.417215   0.000000  9.785819e+00   \n",
      "W1-95R                            0.424174   0.000000  1.026902e+01   \n",
      "M-95L                             1.252847   1.212462  4.503208e+01   \n",
      "M                                 1.327205   1.327205  4.784373e+01   \n",
      "M-95R                             1.453645   1.467073  4.991505e+01   \n",
      "N_Par                          1720.000000   0.000000  2.000000e+03   \n",
      "Train_Time                       12.701303   0.176438  1.619795e+09   \n",
      "Test_Time/MC-Oracle_Test_Time     1.582523   1.000000  9.366185e-03   \n",
      "\n",
      "                                  KRidge          GBRF  \n",
      "W1-95L                          9.577519  9.483166e+00  \n",
      "W1                              9.942966  9.826340e+00  \n",
      "W1-95R                         10.257549  1.034169e+01  \n",
      "M-95L                          45.517167  4.593144e+01  \n",
      "M                              47.991556  4.824811e+01  \n",
      "M-95R                          49.836028  4.972675e+01  \n",
      "N_Par                           0.000000  1.655076e+06  \n",
      "Train_Time                      1.497953  3.726702e+00  \n",
      "Test_Time/MC-Oracle_Test_Time   0.025855  1.598643e-01  \n",
      "-------------\n",
      "Training: DNN\n",
      "-------------\n",
      "Fitting 2 folds for each of 1 candidates, totalling 2 fits\n"
     ]
    },
    {
     "name": "stderr",
     "output_type": "stream",
     "text": [
      "[Parallel(n_jobs=4)]: Done   2 out of   2 | elapsed:    3.1s remaining:    0.0s\n",
      "[Parallel(n_jobs=4)]: Done   2 out of   2 | elapsed:    3.1s finished\n"
     ]
    },
    {
     "name": "stdout",
     "output_type": "stream",
     "text": [
      "Epoch 1/5\n",
      "25/25 [==============================] - 0s 2ms/step - loss: 9.8823 - mse: 106.2841 - mae: 9.8823 - mape: 99.9574\n",
      "Epoch 2/5\n",
      "25/25 [==============================] - 0s 1ms/step - loss: 9.8817 - mse: 106.2738 - mae: 9.8817 - mape: 99.9517\n",
      "Epoch 3/5\n",
      "25/25 [==============================] - 0s 1ms/step - loss: 9.8812 - mse: 106.2635 - mae: 9.8812 - mape: 99.9458\n",
      "Epoch 4/5\n",
      "25/25 [==============================] - 0s 1ms/step - loss: 9.8807 - mse: 106.2533 - mae: 9.8807 - mape: 99.9400\n",
      "Epoch 5/5\n",
      "25/25 [==============================] - 0s 1ms/step - loss: 9.8802 - mse: 106.2430 - mae: 9.8802 - mape: 99.9342\n",
      "25/25 [==============================] - 0s 682us/step\n",
      "5/5 [==============================] - 0s 802us/step\n"
     ]
    },
    {
     "name": "stderr",
     "output_type": "stream",
     "text": [
      "\r",
      "  0%|          | 0/200 [00:00<?, ?it/s]"
     ]
    },
    {
     "name": "stdout",
     "output_type": "stream",
     "text": [
      "#------------#\n",
      " Get Error(s) \n",
      "#------------#\n"
     ]
    },
    {
     "name": "stderr",
     "output_type": "stream",
     "text": [
      "100%|██████████| 200/200 [00:00<00:00, 222.65it/s]\n",
      " 55%|█████▌    | 22/40 [00:00<00:00, 212.93it/s]"
     ]
    },
    {
     "name": "stdout",
     "output_type": "stream",
     "text": [
      "#-----------------#\n",
      " Get Error(s): END \n",
      "#-----------------#\n",
      "#------------#\n",
      " Get Error(s) \n",
      "#------------#\n"
     ]
    },
    {
     "name": "stderr",
     "output_type": "stream",
     "text": [
      "\r",
      "100%|██████████| 40/40 [00:00<00:00, 199.76it/s]"
     ]
    },
    {
     "name": "stdout",
     "output_type": "stream",
     "text": [
      "#-----------------#\n",
      " Get Error(s): END \n",
      "#-----------------#\n",
      "Updated DataFrame\n",
      "                                       DNM  MC-Oracle          ENET  \\\n",
      "W1-95L                            0.405253   0.000000  9.345086e+00   \n",
      "W1                                0.417215   0.000000  9.785819e+00   \n",
      "W1-95R                            0.424174   0.000000  1.026902e+01   \n",
      "M-95L                             1.252847   1.212462  4.503208e+01   \n",
      "M                                 1.327205   1.327205  4.784373e+01   \n",
      "M-95R                             1.453645   1.467073  4.991505e+01   \n",
      "N_Par                          1720.000000   0.000000  2.000000e+03   \n",
      "Train_Time                       12.701303   0.176438  1.619795e+09   \n",
      "Test_Time/MC-Oracle_Test_Time     1.582523   1.000000  9.366185e-03   \n",
      "\n",
      "                                  KRidge          GBRF         DNN  \n",
      "W1-95L                          9.577519  9.483166e+00    1.070440  \n",
      "W1                              9.942966  9.826340e+00    1.121222  \n",
      "W1-95R                         10.257549  1.034169e+01    1.173450  \n",
      "M-95L                          45.517167  4.593144e+01    5.016318  \n",
      "M                              47.991556  4.824811e+01    5.277003  \n",
      "M-95R                          49.836028  4.972675e+01    5.576289  \n",
      "N_Par                           0.000000  1.655076e+06  125.000000  \n",
      "Train_Time                      1.497953  3.726702e+00    5.373271  \n",
      "Test_Time/MC-Oracle_Test_Time   0.025855  1.598643e-01    1.029629  \n"
     ]
    },
    {
     "name": "stderr",
     "output_type": "stream",
     "text": [
      "\n"
     ]
    }
   ],
   "source": [
    "exec(open('CV_Grid.py').read())\n",
    "# Notebook Mode:\n",
    "# %run Evaluation.ipynb\n",
    "# %run Benchmarks_Model_Builder_Pointmass_Based.ipynb\n",
    "# Terminal Mode (Default):\n",
    "exec(open('Evaluation.py').read())\n",
    "exec(open('Benchmarks_Model_Builder_Pointmass_Based.py').read())"
   ]
  },
  {
   "cell_type": "markdown",
   "metadata": {},
   "source": [
    "# Summary of Point-Mass Regression Models"
   ]
  },
  {
   "cell_type": "markdown",
   "metadata": {},
   "source": [
    "#### Training Model Facts"
   ]
  },
  {
   "cell_type": "code",
   "execution_count": 11,
   "metadata": {},
   "outputs": [
    {
     "name": "stdout",
     "output_type": "stream",
     "text": [
      "                                       DNM  MC-Oracle          ENET  \\\n",
      "W1-95L                            0.389920   0.000000  9.021460e+00   \n",
      "W1                                0.395162   0.000000  9.223720e+00   \n",
      "W1-95R                            0.400397   0.000000  9.396189e+00   \n",
      "M-95L                             1.152075   1.177709  4.366266e+01   \n",
      "M                                 1.204449   1.204449  4.447347e+01   \n",
      "M-95R                             1.234901   1.236398  4.535899e+01   \n",
      "N_Par                          1720.000000   0.000000  2.000000e+03   \n",
      "Train_Time                       12.701303   0.176438  1.619795e+09   \n",
      "Test_Time/MC-Oracle_Test_Time     1.582523   1.000000  9.366185e-03   \n",
      "\n",
      "                                  KRidge          GBRF         DNN  \n",
      "W1-95L                          9.092377  9.048603e+00    0.989376  \n",
      "W1                              9.298649  9.180425e+00    1.016542  \n",
      "W1-95R                          9.462457  9.406257e+00    1.037143  \n",
      "M-95L                          43.849380  4.371747e+01    4.831776  \n",
      "M                              44.465894  4.447347e+01    4.926057  \n",
      "M-95R                          44.829841  4.516915e+01    4.987833  \n",
      "N_Par                           0.000000  1.655076e+06  125.000000  \n",
      "Train_Time                      1.497953  3.726702e+00    5.373271  \n",
      "Test_Time/MC-Oracle_Test_Time   0.025855  1.598643e-01    1.029629  \n"
     ]
    },
    {
     "data": {
      "text/html": [
       "<div>\n",
       "<style scoped>\n",
       "    .dataframe tbody tr th:only-of-type {\n",
       "        vertical-align: middle;\n",
       "    }\n",
       "\n",
       "    .dataframe tbody tr th {\n",
       "        vertical-align: top;\n",
       "    }\n",
       "\n",
       "    .dataframe thead th {\n",
       "        text-align: right;\n",
       "    }\n",
       "</style>\n",
       "<table border=\"1\" class=\"dataframe\">\n",
       "  <thead>\n",
       "    <tr style=\"text-align: right;\">\n",
       "      <th></th>\n",
       "      <th>DNM</th>\n",
       "      <th>MC-Oracle</th>\n",
       "      <th>ENET</th>\n",
       "      <th>KRidge</th>\n",
       "      <th>GBRF</th>\n",
       "      <th>DNN</th>\n",
       "    </tr>\n",
       "  </thead>\n",
       "  <tbody>\n",
       "    <tr>\n",
       "      <th>W1-95L</th>\n",
       "      <td>0.389920</td>\n",
       "      <td>0.000000</td>\n",
       "      <td>9.021460e+00</td>\n",
       "      <td>9.092377</td>\n",
       "      <td>9.048603e+00</td>\n",
       "      <td>0.989376</td>\n",
       "    </tr>\n",
       "    <tr>\n",
       "      <th>W1</th>\n",
       "      <td>0.395162</td>\n",
       "      <td>0.000000</td>\n",
       "      <td>9.223720e+00</td>\n",
       "      <td>9.298649</td>\n",
       "      <td>9.180425e+00</td>\n",
       "      <td>1.016542</td>\n",
       "    </tr>\n",
       "    <tr>\n",
       "      <th>W1-95R</th>\n",
       "      <td>0.400397</td>\n",
       "      <td>0.000000</td>\n",
       "      <td>9.396189e+00</td>\n",
       "      <td>9.462457</td>\n",
       "      <td>9.406257e+00</td>\n",
       "      <td>1.037143</td>\n",
       "    </tr>\n",
       "    <tr>\n",
       "      <th>M-95L</th>\n",
       "      <td>1.152075</td>\n",
       "      <td>1.177709</td>\n",
       "      <td>4.366266e+01</td>\n",
       "      <td>43.849380</td>\n",
       "      <td>4.371747e+01</td>\n",
       "      <td>4.831776</td>\n",
       "    </tr>\n",
       "    <tr>\n",
       "      <th>M</th>\n",
       "      <td>1.204449</td>\n",
       "      <td>1.204449</td>\n",
       "      <td>4.447347e+01</td>\n",
       "      <td>44.465894</td>\n",
       "      <td>4.447347e+01</td>\n",
       "      <td>4.926057</td>\n",
       "    </tr>\n",
       "    <tr>\n",
       "      <th>M-95R</th>\n",
       "      <td>1.234901</td>\n",
       "      <td>1.236398</td>\n",
       "      <td>4.535899e+01</td>\n",
       "      <td>44.829841</td>\n",
       "      <td>4.516915e+01</td>\n",
       "      <td>4.987833</td>\n",
       "    </tr>\n",
       "    <tr>\n",
       "      <th>N_Par</th>\n",
       "      <td>1720.000000</td>\n",
       "      <td>0.000000</td>\n",
       "      <td>2.000000e+03</td>\n",
       "      <td>0.000000</td>\n",
       "      <td>1.655076e+06</td>\n",
       "      <td>125.000000</td>\n",
       "    </tr>\n",
       "    <tr>\n",
       "      <th>Train_Time</th>\n",
       "      <td>12.701303</td>\n",
       "      <td>0.176438</td>\n",
       "      <td>1.619795e+09</td>\n",
       "      <td>1.497953</td>\n",
       "      <td>3.726702e+00</td>\n",
       "      <td>5.373271</td>\n",
       "    </tr>\n",
       "    <tr>\n",
       "      <th>Test_Time/MC-Oracle_Test_Time</th>\n",
       "      <td>1.582523</td>\n",
       "      <td>1.000000</td>\n",
       "      <td>9.366185e-03</td>\n",
       "      <td>0.025855</td>\n",
       "      <td>1.598643e-01</td>\n",
       "      <td>1.029629</td>\n",
       "    </tr>\n",
       "  </tbody>\n",
       "</table>\n",
       "</div>"
      ],
      "text/plain": [
       "                                       DNM  MC-Oracle          ENET  \\\n",
       "W1-95L                            0.389920   0.000000  9.021460e+00   \n",
       "W1                                0.395162   0.000000  9.223720e+00   \n",
       "W1-95R                            0.400397   0.000000  9.396189e+00   \n",
       "M-95L                             1.152075   1.177709  4.366266e+01   \n",
       "M                                 1.204449   1.204449  4.447347e+01   \n",
       "M-95R                             1.234901   1.236398  4.535899e+01   \n",
       "N_Par                          1720.000000   0.000000  2.000000e+03   \n",
       "Train_Time                       12.701303   0.176438  1.619795e+09   \n",
       "Test_Time/MC-Oracle_Test_Time     1.582523   1.000000  9.366185e-03   \n",
       "\n",
       "                                  KRidge          GBRF         DNN  \n",
       "W1-95L                          9.092377  9.048603e+00    0.989376  \n",
       "W1                              9.298649  9.180425e+00    1.016542  \n",
       "W1-95R                          9.462457  9.406257e+00    1.037143  \n",
       "M-95L                          43.849380  4.371747e+01    4.831776  \n",
       "M                              44.465894  4.447347e+01    4.926057  \n",
       "M-95R                          44.829841  4.516915e+01    4.987833  \n",
       "N_Par                           0.000000  1.655076e+06  125.000000  \n",
       "Train_Time                      1.497953  3.726702e+00    5.373271  \n",
       "Test_Time/MC-Oracle_Test_Time   0.025855  1.598643e-01    1.029629  "
      ]
     },
     "execution_count": 11,
     "metadata": {},
     "output_type": "execute_result"
    }
   ],
   "source": [
    "print(Summary_pred_Qual_models)\n",
    "Summary_pred_Qual_models"
   ]
  },
  {
   "cell_type": "markdown",
   "metadata": {},
   "source": [
    "#### Testing Model Facts"
   ]
  },
  {
   "cell_type": "code",
   "execution_count": 12,
   "metadata": {},
   "outputs": [
    {
     "name": "stdout",
     "output_type": "stream",
     "text": [
      "                                       DNM  MC-Oracle          ENET  \\\n",
      "W1-95L                            0.405253   0.000000  9.345086e+00   \n",
      "W1                                0.417215   0.000000  9.785819e+00   \n",
      "W1-95R                            0.424174   0.000000  1.026902e+01   \n",
      "M-95L                             1.252847   1.212462  4.503208e+01   \n",
      "M                                 1.327205   1.327205  4.784373e+01   \n",
      "M-95R                             1.453645   1.467073  4.991505e+01   \n",
      "N_Par                          1720.000000   0.000000  2.000000e+03   \n",
      "Train_Time                       12.701303   0.176438  1.619795e+09   \n",
      "Test_Time/MC-Oracle_Test_Time     1.582523   1.000000  9.366185e-03   \n",
      "\n",
      "                                  KRidge          GBRF         DNN  \n",
      "W1-95L                          9.577519  9.483166e+00    1.070440  \n",
      "W1                              9.942966  9.826340e+00    1.121222  \n",
      "W1-95R                         10.257549  1.034169e+01    1.173450  \n",
      "M-95L                          45.517167  4.593144e+01    5.016318  \n",
      "M                              47.991556  4.824811e+01    5.277003  \n",
      "M-95R                          49.836028  4.972675e+01    5.576289  \n",
      "N_Par                           0.000000  1.655076e+06  125.000000  \n",
      "Train_Time                      1.497953  3.726702e+00    5.373271  \n",
      "Test_Time/MC-Oracle_Test_Time   0.025855  1.598643e-01    1.029629  \n"
     ]
    },
    {
     "data": {
      "text/html": [
       "<div>\n",
       "<style scoped>\n",
       "    .dataframe tbody tr th:only-of-type {\n",
       "        vertical-align: middle;\n",
       "    }\n",
       "\n",
       "    .dataframe tbody tr th {\n",
       "        vertical-align: top;\n",
       "    }\n",
       "\n",
       "    .dataframe thead th {\n",
       "        text-align: right;\n",
       "    }\n",
       "</style>\n",
       "<table border=\"1\" class=\"dataframe\">\n",
       "  <thead>\n",
       "    <tr style=\"text-align: right;\">\n",
       "      <th></th>\n",
       "      <th>DNM</th>\n",
       "      <th>MC-Oracle</th>\n",
       "      <th>ENET</th>\n",
       "      <th>KRidge</th>\n",
       "      <th>GBRF</th>\n",
       "      <th>DNN</th>\n",
       "    </tr>\n",
       "  </thead>\n",
       "  <tbody>\n",
       "    <tr>\n",
       "      <th>W1-95L</th>\n",
       "      <td>0.405253</td>\n",
       "      <td>0.000000</td>\n",
       "      <td>9.345086e+00</td>\n",
       "      <td>9.577519</td>\n",
       "      <td>9.483166e+00</td>\n",
       "      <td>1.070440</td>\n",
       "    </tr>\n",
       "    <tr>\n",
       "      <th>W1</th>\n",
       "      <td>0.417215</td>\n",
       "      <td>0.000000</td>\n",
       "      <td>9.785819e+00</td>\n",
       "      <td>9.942966</td>\n",
       "      <td>9.826340e+00</td>\n",
       "      <td>1.121222</td>\n",
       "    </tr>\n",
       "    <tr>\n",
       "      <th>W1-95R</th>\n",
       "      <td>0.424174</td>\n",
       "      <td>0.000000</td>\n",
       "      <td>1.026902e+01</td>\n",
       "      <td>10.257549</td>\n",
       "      <td>1.034169e+01</td>\n",
       "      <td>1.173450</td>\n",
       "    </tr>\n",
       "    <tr>\n",
       "      <th>M-95L</th>\n",
       "      <td>1.252847</td>\n",
       "      <td>1.212462</td>\n",
       "      <td>4.503208e+01</td>\n",
       "      <td>45.517167</td>\n",
       "      <td>4.593144e+01</td>\n",
       "      <td>5.016318</td>\n",
       "    </tr>\n",
       "    <tr>\n",
       "      <th>M</th>\n",
       "      <td>1.327205</td>\n",
       "      <td>1.327205</td>\n",
       "      <td>4.784373e+01</td>\n",
       "      <td>47.991556</td>\n",
       "      <td>4.824811e+01</td>\n",
       "      <td>5.277003</td>\n",
       "    </tr>\n",
       "    <tr>\n",
       "      <th>M-95R</th>\n",
       "      <td>1.453645</td>\n",
       "      <td>1.467073</td>\n",
       "      <td>4.991505e+01</td>\n",
       "      <td>49.836028</td>\n",
       "      <td>4.972675e+01</td>\n",
       "      <td>5.576289</td>\n",
       "    </tr>\n",
       "    <tr>\n",
       "      <th>N_Par</th>\n",
       "      <td>1720.000000</td>\n",
       "      <td>0.000000</td>\n",
       "      <td>2.000000e+03</td>\n",
       "      <td>0.000000</td>\n",
       "      <td>1.655076e+06</td>\n",
       "      <td>125.000000</td>\n",
       "    </tr>\n",
       "    <tr>\n",
       "      <th>Train_Time</th>\n",
       "      <td>12.701303</td>\n",
       "      <td>0.176438</td>\n",
       "      <td>1.619795e+09</td>\n",
       "      <td>1.497953</td>\n",
       "      <td>3.726702e+00</td>\n",
       "      <td>5.373271</td>\n",
       "    </tr>\n",
       "    <tr>\n",
       "      <th>Test_Time/MC-Oracle_Test_Time</th>\n",
       "      <td>1.582523</td>\n",
       "      <td>1.000000</td>\n",
       "      <td>9.366185e-03</td>\n",
       "      <td>0.025855</td>\n",
       "      <td>1.598643e-01</td>\n",
       "      <td>1.029629</td>\n",
       "    </tr>\n",
       "  </tbody>\n",
       "</table>\n",
       "</div>"
      ],
      "text/plain": [
       "                                       DNM  MC-Oracle          ENET  \\\n",
       "W1-95L                            0.405253   0.000000  9.345086e+00   \n",
       "W1                                0.417215   0.000000  9.785819e+00   \n",
       "W1-95R                            0.424174   0.000000  1.026902e+01   \n",
       "M-95L                             1.252847   1.212462  4.503208e+01   \n",
       "M                                 1.327205   1.327205  4.784373e+01   \n",
       "M-95R                             1.453645   1.467073  4.991505e+01   \n",
       "N_Par                          1720.000000   0.000000  2.000000e+03   \n",
       "Train_Time                       12.701303   0.176438  1.619795e+09   \n",
       "Test_Time/MC-Oracle_Test_Time     1.582523   1.000000  9.366185e-03   \n",
       "\n",
       "                                  KRidge          GBRF         DNN  \n",
       "W1-95L                          9.577519  9.483166e+00    1.070440  \n",
       "W1                              9.942966  9.826340e+00    1.121222  \n",
       "W1-95R                         10.257549  1.034169e+01    1.173450  \n",
       "M-95L                          45.517167  4.593144e+01    5.016318  \n",
       "M                              47.991556  4.824811e+01    5.277003  \n",
       "M-95R                          49.836028  4.972675e+01    5.576289  \n",
       "N_Par                           0.000000  1.655076e+06  125.000000  \n",
       "Train_Time                      1.497953  3.726702e+00    5.373271  \n",
       "Test_Time/MC-Oracle_Test_Time   0.025855  1.598643e-01    1.029629  "
      ]
     },
     "execution_count": 12,
     "metadata": {},
     "output_type": "execute_result"
    }
   ],
   "source": [
    "print(Summary_pred_Qual_models_test)\n",
    "Summary_pred_Qual_models_test"
   ]
  },
  {
   "cell_type": "markdown",
   "metadata": {},
   "source": [
    "## 2) *Gaussian Benchmarks*"
   ]
  },
  {
   "cell_type": "markdown",
   "metadata": {},
   "source": [
    "- Bencharm 1: [Gaussian Process Regressor](https://scikit-learn.org/stable/modules/gaussian_process.html)\n",
    "- Benchmark 2: Deep Gaussian Networks:\n",
    "These models train models which assume Gaussianity.  We may view these as models in $\\mathcal{P}_2(\\mathbb{R})$ via:\n",
    "$$\n",
    "\\mathbb{R}^d \\ni x \\to (\\hat{\\mu}(x),\\hat{\\Sigma}(x)\\hat{\\Sigma}^{\\top})\\triangleq f(x) \\in \\mathbb{R}\\times [0,\\infty) \\to \n",
    "(2\\pi)^{-\\frac{d}{2}}\\det(\\hat{\\Sigma}(x))^{-\\frac{1}{2}} \\, e^{ -\\frac{1}{2}(\\cdot - \\hat{\\mu}(x))^{{{\\!\\mathsf{T}}}} \\hat{\\Sigma}(x)^{-1}(\\cdot - \\hat{\\mu}(x)) } \\mu \\in \\mathcal{G}_d\\subset \\mathcal{P}_2(\\mathbb{R});\n",
    "$$\n",
    "where $\\mathcal{G}_1$ is the set of Gaussian measures on $\\mathbb{R}$ equipped with the relative Wasserstein-1 topology.\n",
    "\n",
    "Examples of this type of architecture are especially prevalent in uncertainty quantification; see ([Deep Ensembles](https://arxiv.org/abs/1612.01474)] or [NOMU: Neural Optimization-based Model Uncertainty](https://arxiv.org/abs/2102.13640).  Moreover, their universality in $C(\\mathbb{R}^d,\\mathcal{G}_2)$ is known, and has been shown in [Corollary 4.7](https://arxiv.org/abs/2101.05390)."
   ]
  },
  {
   "cell_type": "code",
   "execution_count": 13,
   "metadata": {},
   "outputs": [
    {
     "name": "stdout",
     "output_type": "stream",
     "text": [
      "DNN Builder - Ready\n",
      "Fitting 2 folds for each of 2 candidates, totalling 4 fits\n"
     ]
    },
    {
     "name": "stderr",
     "output_type": "stream",
     "text": [
      "[Parallel(n_jobs=4)]: Using backend LokyBackend with 4 concurrent workers.\n",
      "[Parallel(n_jobs=4)]: Done   1 tasks      | elapsed:    0.5s\n",
      "[Parallel(n_jobs=4)]: Done   2 out of   4 | elapsed:    0.6s remaining:    0.6s\n",
      "[Parallel(n_jobs=4)]: Done   4 out of   4 | elapsed:    0.9s remaining:    0.0s\n",
      "[Parallel(n_jobs=4)]: Done   4 out of   4 | elapsed:    0.9s finished\n",
      "100%|██████████| 200/200 [00:00<00:00, 1961.16it/s]"
     ]
    },
    {
     "name": "stdout",
     "output_type": "stream",
     "text": [
      "Infering Parameters for Deep Gaussian Network to train on!\n",
      "Done Getting Parameters for Deep Gaussian Network!\n",
      "===============================\n",
      "Training Deep Gaussian Network!\n",
      "===============================\n",
      "Fitting 2 folds for each of 1 candidates, totalling 2 fits\n"
     ]
    },
    {
     "name": "stderr",
     "output_type": "stream",
     "text": [
      "\n",
      "[Parallel(n_jobs=4)]: Using backend LokyBackend with 4 concurrent workers.\n",
      "[Parallel(n_jobs=4)]: Done   2 out of   2 | elapsed:    2.9s remaining:    0.0s\n",
      "[Parallel(n_jobs=4)]: Done   2 out of   2 | elapsed:    2.9s finished\n"
     ]
    },
    {
     "name": "stdout",
     "output_type": "stream",
     "text": [
      "Epoch 1/5\n",
      "25/25 [==============================] - 0s 986us/step - loss: 0.1912 - mse: 0.1647 - mae: 0.1912 - mape: 14951752.0000\n",
      "Epoch 2/5\n",
      "25/25 [==============================] - 0s 1ms/step - loss: 0.1908 - mse: 0.1645 - mae: 0.1908 - mape: 14801640.0000\n",
      "Epoch 3/5\n",
      "25/25 [==============================] - 0s 1ms/step - loss: 0.1904 - mse: 0.1644 - mae: 0.1904 - mape: 14652740.0000\n",
      "Epoch 4/5\n",
      "25/25 [==============================] - 0s 1ms/step - loss: 0.1900 - mse: 0.1642 - mae: 0.1900 - mape: 14504384.0000\n",
      "Epoch 5/5\n",
      "25/25 [==============================] - 0s 1ms/step - loss: 0.1896 - mse: 0.1640 - mae: 0.1896 - mape: 14357194.0000\n",
      "25/25 [==============================] - 0s 714us/step\n",
      "5/5 [==============================] - 0s 1ms/step\n"
     ]
    },
    {
     "name": "stderr",
     "output_type": "stream",
     "text": [
      "\r",
      "  0%|          | 0/200 [00:00<?, ?it/s]"
     ]
    },
    {
     "name": "stdout",
     "output_type": "stream",
     "text": [
      "====================================\n",
      "Training Deep Gaussian Network!: END\n",
      "====================================\n",
      "#---------------------------------------#\n",
      " Get Training Errors for: Gaussian Models\n",
      "#---------------------------------------#\n"
     ]
    },
    {
     "name": "stderr",
     "output_type": "stream",
     "text": [
      "100%|██████████| 200/200 [00:02<00:00, 98.51it/s] \n",
      " 22%|██▎       | 9/40 [00:00<00:00, 81.63it/s]"
     ]
    },
    {
     "name": "stdout",
     "output_type": "stream",
     "text": [
      "#-------------------------#\n",
      " Get Training Error(s): END\n",
      "#-------------------------#\n",
      "#--------------------------------------#\n",
      " Get Testing Errors for: Gaussian Models\n",
      "#--------------------------------------#\n"
     ]
    },
    {
     "name": "stderr",
     "output_type": "stream",
     "text": [
      "100%|██████████| 40/40 [00:00<00:00, 90.11it/s]"
     ]
    },
    {
     "name": "stdout",
     "output_type": "stream",
     "text": [
      "#-------------------------#\n",
      " Get Training Error(s): END\n",
      "#-------------------------#\n",
      "-------------------------------------------------\n",
      "Updating Performance Metrics Dataframe and Saved!\n",
      "-------------------------------------------------\n",
      "Training Results to date:\n",
      "                                       DNM  MC-Oracle          ENET  \\\n",
      "W1-95L                            0.405253   0.000000  9.345086e+00   \n",
      "W1                                0.417215   0.000000  9.785819e+00   \n",
      "W1-95R                            0.424174   0.000000  1.026902e+01   \n",
      "M-95L                             1.252847   1.212462  4.503208e+01   \n",
      "M                                 1.327205   1.327205  4.784373e+01   \n",
      "M-95R                             1.453645   1.467073  4.991505e+01   \n",
      "N_Par                          1720.000000   0.000000  2.000000e+03   \n",
      "Train_Time                       12.701303   0.176438  1.619795e+09   \n",
      "Test_Time/MC-Oracle_Test_Time     1.582523   1.000000  9.366185e-03   \n",
      "\n",
      "                                  KRidge          GBRF         DNN        GPR  \\\n",
      "W1-95L                          9.577519  9.483166e+00    1.070440  10.775148   \n",
      "W1                              9.942966  9.826340e+00    1.121222  11.139447   \n",
      "W1-95R                         10.257549  1.034169e+01    1.173450  11.489751   \n",
      "M-95L                          45.517167  4.593144e+01    5.016318  45.921240   \n",
      "M                              47.991556  4.824811e+01    5.277003  48.429675   \n",
      "M-95R                          49.836028  4.972675e+01    5.576289  50.942020   \n",
      "N_Par                           0.000000  1.655076e+06  125.000000   0.000000   \n",
      "Train_Time                      1.497953  3.726702e+00    5.373271   2.054518   \n",
      "Test_Time/MC-Oracle_Test_Time   0.025855  1.598643e-01    1.029629   0.048564   \n",
      "\n",
      "                                      DGN  \n",
      "W1-95L                           1.144341  \n",
      "W1                               1.192211  \n",
      "W1-95R                           1.226343  \n",
      "M-95L                           24.889407  \n",
      "M                               26.448704  \n",
      "M-95R                           27.926624  \n",
      "N_Par                          400.000000  \n",
      "Train_Time                       3.771988  \n",
      "Test_Time/MC-Oracle_Test_Time    1.070240  \n",
      "Test Results to date:\n",
      "                                       DNM  MC-Oracle          ENET  \\\n",
      "W1-95L                            0.405253   0.000000  9.345086e+00   \n",
      "W1                                0.417215   0.000000  9.785819e+00   \n",
      "W1-95R                            0.424174   0.000000  1.026902e+01   \n",
      "M-95L                             1.252847   1.212462  4.503208e+01   \n",
      "M                                 1.327205   1.327205  4.784373e+01   \n",
      "M-95R                             1.453645   1.467073  4.991505e+01   \n",
      "N_Par                          1720.000000   0.000000  2.000000e+03   \n",
      "Train_Time                       12.701303   0.176438  1.619795e+09   \n",
      "Test_Time/MC-Oracle_Test_Time     1.582523   1.000000  9.366185e-03   \n",
      "\n",
      "                                  KRidge          GBRF         DNN        GPR  \\\n",
      "W1-95L                          9.577519  9.483166e+00    1.070440  10.775148   \n",
      "W1                              9.942966  9.826340e+00    1.121222  11.139447   \n",
      "W1-95R                         10.257549  1.034169e+01    1.173450  11.489751   \n",
      "M-95L                          45.517167  4.593144e+01    5.016318  45.921240   \n",
      "M                              47.991556  4.824811e+01    5.277003  48.429675   \n",
      "M-95R                          49.836028  4.972675e+01    5.576289  50.942020   \n",
      "N_Par                           0.000000  1.655076e+06  125.000000   0.000000   \n",
      "Train_Time                      1.497953  3.726702e+00    5.373271   2.054518   \n",
      "Test_Time/MC-Oracle_Test_Time   0.025855  1.598643e-01    1.029629   0.048564   \n",
      "\n",
      "                                      DGN  \n",
      "W1-95L                           1.144341  \n",
      "W1                               1.192211  \n",
      "W1-95R                           1.226343  \n",
      "M-95L                           24.889407  \n",
      "M                               26.448704  \n",
      "M-95R                           27.926624  \n",
      "N_Par                          400.000000  \n",
      "Train_Time                       3.771988  \n",
      "Test_Time/MC-Oracle_Test_Time    1.070240  \n",
      "------------------------------------------------\n",
      "Updated Performance Metrics Dataframe and Saved!\n",
      "------------------------------------------------\n"
     ]
    },
    {
     "name": "stderr",
     "output_type": "stream",
     "text": [
      "\n"
     ]
    }
   ],
   "source": [
    "# %run Benchmarks_Model_Builder_Mean_Var.ipynb\n",
    "exec(open('Benchmarks_Model_Builder_Mean_Var.py').read())"
   ]
  },
  {
   "cell_type": "code",
   "execution_count": 14,
   "metadata": {},
   "outputs": [
    {
     "name": "stdout",
     "output_type": "stream",
     "text": [
      "Prediction Quality (Updated): Test\n",
      "                                       DNM  MC-Oracle          ENET  \\\n",
      "W1-95L                            0.405253   0.000000  9.345086e+00   \n",
      "W1                                0.417215   0.000000  9.785819e+00   \n",
      "W1-95R                            0.424174   0.000000  1.026902e+01   \n",
      "M-95L                             1.252847   1.212462  4.503208e+01   \n",
      "M                                 1.327205   1.327205  4.784373e+01   \n",
      "M-95R                             1.453645   1.467073  4.991505e+01   \n",
      "N_Par                          1720.000000   0.000000  2.000000e+03   \n",
      "Train_Time                       12.701303   0.176438  1.619795e+09   \n",
      "Test_Time/MC-Oracle_Test_Time     1.582523   1.000000  9.366185e-03   \n",
      "\n",
      "                                  KRidge          GBRF         DNN        GPR  \\\n",
      "W1-95L                          9.577519  9.483166e+00    1.070440  10.775148   \n",
      "W1                              9.942966  9.826340e+00    1.121222  11.139447   \n",
      "W1-95R                         10.257549  1.034169e+01    1.173450  11.489751   \n",
      "M-95L                          45.517167  4.593144e+01    5.016318  45.921240   \n",
      "M                              47.991556  4.824811e+01    5.277003  48.429675   \n",
      "M-95R                          49.836028  4.972675e+01    5.576289  50.942020   \n",
      "N_Par                           0.000000  1.655076e+06  125.000000   0.000000   \n",
      "Train_Time                      1.497953  3.726702e+00    5.373271   2.054518   \n",
      "Test_Time/MC-Oracle_Test_Time   0.025855  1.598643e-01    1.029629   0.048564   \n",
      "\n",
      "                                      DGN  \n",
      "W1-95L                           1.144341  \n",
      "W1                               1.192211  \n",
      "W1-95R                           1.226343  \n",
      "M-95L                           24.889407  \n",
      "M                               26.448704  \n",
      "M-95R                           27.926624  \n",
      "N_Par                          400.000000  \n",
      "Train_Time                       3.771988  \n",
      "Test_Time/MC-Oracle_Test_Time    1.070240  \n"
     ]
    },
    {
     "data": {
      "text/html": [
       "<div>\n",
       "<style scoped>\n",
       "    .dataframe tbody tr th:only-of-type {\n",
       "        vertical-align: middle;\n",
       "    }\n",
       "\n",
       "    .dataframe tbody tr th {\n",
       "        vertical-align: top;\n",
       "    }\n",
       "\n",
       "    .dataframe thead th {\n",
       "        text-align: right;\n",
       "    }\n",
       "</style>\n",
       "<table border=\"1\" class=\"dataframe\">\n",
       "  <thead>\n",
       "    <tr style=\"text-align: right;\">\n",
       "      <th></th>\n",
       "      <th>DNM</th>\n",
       "      <th>MC-Oracle</th>\n",
       "      <th>ENET</th>\n",
       "      <th>KRidge</th>\n",
       "      <th>GBRF</th>\n",
       "      <th>DNN</th>\n",
       "      <th>GPR</th>\n",
       "      <th>DGN</th>\n",
       "    </tr>\n",
       "  </thead>\n",
       "  <tbody>\n",
       "    <tr>\n",
       "      <th>W1-95L</th>\n",
       "      <td>0.405253</td>\n",
       "      <td>0.000000</td>\n",
       "      <td>9.345086e+00</td>\n",
       "      <td>9.577519</td>\n",
       "      <td>9.483166e+00</td>\n",
       "      <td>1.070440</td>\n",
       "      <td>10.775148</td>\n",
       "      <td>1.144341</td>\n",
       "    </tr>\n",
       "    <tr>\n",
       "      <th>W1</th>\n",
       "      <td>0.417215</td>\n",
       "      <td>0.000000</td>\n",
       "      <td>9.785819e+00</td>\n",
       "      <td>9.942966</td>\n",
       "      <td>9.826340e+00</td>\n",
       "      <td>1.121222</td>\n",
       "      <td>11.139447</td>\n",
       "      <td>1.192211</td>\n",
       "    </tr>\n",
       "    <tr>\n",
       "      <th>W1-95R</th>\n",
       "      <td>0.424174</td>\n",
       "      <td>0.000000</td>\n",
       "      <td>1.026902e+01</td>\n",
       "      <td>10.257549</td>\n",
       "      <td>1.034169e+01</td>\n",
       "      <td>1.173450</td>\n",
       "      <td>11.489751</td>\n",
       "      <td>1.226343</td>\n",
       "    </tr>\n",
       "    <tr>\n",
       "      <th>M-95L</th>\n",
       "      <td>1.252847</td>\n",
       "      <td>1.212462</td>\n",
       "      <td>4.503208e+01</td>\n",
       "      <td>45.517167</td>\n",
       "      <td>4.593144e+01</td>\n",
       "      <td>5.016318</td>\n",
       "      <td>45.921240</td>\n",
       "      <td>24.889407</td>\n",
       "    </tr>\n",
       "    <tr>\n",
       "      <th>M</th>\n",
       "      <td>1.327205</td>\n",
       "      <td>1.327205</td>\n",
       "      <td>4.784373e+01</td>\n",
       "      <td>47.991556</td>\n",
       "      <td>4.824811e+01</td>\n",
       "      <td>5.277003</td>\n",
       "      <td>48.429675</td>\n",
       "      <td>26.448704</td>\n",
       "    </tr>\n",
       "    <tr>\n",
       "      <th>M-95R</th>\n",
       "      <td>1.453645</td>\n",
       "      <td>1.467073</td>\n",
       "      <td>4.991505e+01</td>\n",
       "      <td>49.836028</td>\n",
       "      <td>4.972675e+01</td>\n",
       "      <td>5.576289</td>\n",
       "      <td>50.942020</td>\n",
       "      <td>27.926624</td>\n",
       "    </tr>\n",
       "    <tr>\n",
       "      <th>N_Par</th>\n",
       "      <td>1720.000000</td>\n",
       "      <td>0.000000</td>\n",
       "      <td>2.000000e+03</td>\n",
       "      <td>0.000000</td>\n",
       "      <td>1.655076e+06</td>\n",
       "      <td>125.000000</td>\n",
       "      <td>0.000000</td>\n",
       "      <td>400.000000</td>\n",
       "    </tr>\n",
       "    <tr>\n",
       "      <th>Train_Time</th>\n",
       "      <td>12.701303</td>\n",
       "      <td>0.176438</td>\n",
       "      <td>1.619795e+09</td>\n",
       "      <td>1.497953</td>\n",
       "      <td>3.726702e+00</td>\n",
       "      <td>5.373271</td>\n",
       "      <td>2.054518</td>\n",
       "      <td>3.771988</td>\n",
       "    </tr>\n",
       "    <tr>\n",
       "      <th>Test_Time/MC-Oracle_Test_Time</th>\n",
       "      <td>1.582523</td>\n",
       "      <td>1.000000</td>\n",
       "      <td>9.366185e-03</td>\n",
       "      <td>0.025855</td>\n",
       "      <td>1.598643e-01</td>\n",
       "      <td>1.029629</td>\n",
       "      <td>0.048564</td>\n",
       "      <td>1.070240</td>\n",
       "    </tr>\n",
       "  </tbody>\n",
       "</table>\n",
       "</div>"
      ],
      "text/plain": [
       "                                       DNM  MC-Oracle          ENET  \\\n",
       "W1-95L                            0.405253   0.000000  9.345086e+00   \n",
       "W1                                0.417215   0.000000  9.785819e+00   \n",
       "W1-95R                            0.424174   0.000000  1.026902e+01   \n",
       "M-95L                             1.252847   1.212462  4.503208e+01   \n",
       "M                                 1.327205   1.327205  4.784373e+01   \n",
       "M-95R                             1.453645   1.467073  4.991505e+01   \n",
       "N_Par                          1720.000000   0.000000  2.000000e+03   \n",
       "Train_Time                       12.701303   0.176438  1.619795e+09   \n",
       "Test_Time/MC-Oracle_Test_Time     1.582523   1.000000  9.366185e-03   \n",
       "\n",
       "                                  KRidge          GBRF         DNN        GPR  \\\n",
       "W1-95L                          9.577519  9.483166e+00    1.070440  10.775148   \n",
       "W1                              9.942966  9.826340e+00    1.121222  11.139447   \n",
       "W1-95R                         10.257549  1.034169e+01    1.173450  11.489751   \n",
       "M-95L                          45.517167  4.593144e+01    5.016318  45.921240   \n",
       "M                              47.991556  4.824811e+01    5.277003  48.429675   \n",
       "M-95R                          49.836028  4.972675e+01    5.576289  50.942020   \n",
       "N_Par                           0.000000  1.655076e+06  125.000000   0.000000   \n",
       "Train_Time                      1.497953  3.726702e+00    5.373271   2.054518   \n",
       "Test_Time/MC-Oracle_Test_Time   0.025855  1.598643e-01    1.029629   0.048564   \n",
       "\n",
       "                                      DGN  \n",
       "W1-95L                           1.144341  \n",
       "W1                               1.192211  \n",
       "W1-95R                           1.226343  \n",
       "M-95L                           24.889407  \n",
       "M                               26.448704  \n",
       "M-95R                           27.926624  \n",
       "N_Par                          400.000000  \n",
       "Train_Time                       3.771988  \n",
       "Test_Time/MC-Oracle_Test_Time    1.070240  "
      ]
     },
     "execution_count": 14,
     "metadata": {},
     "output_type": "execute_result"
    }
   ],
   "source": [
    "print(\"Prediction Quality (Updated): Test\")\n",
    "print(Summary_pred_Qual_models_test)\n",
    "Summary_pred_Qual_models_test"
   ]
  },
  {
   "cell_type": "code",
   "execution_count": 15,
   "metadata": {},
   "outputs": [
    {
     "name": "stdout",
     "output_type": "stream",
     "text": [
      "Prediction Quality (Updated): Train\n",
      "                                       DNM  MC-Oracle          ENET  \\\n",
      "W1-95L                            0.389920   0.000000  9.021460e+00   \n",
      "W1                                0.395162   0.000000  9.223720e+00   \n",
      "W1-95R                            0.400397   0.000000  9.396189e+00   \n",
      "M-95L                             1.152075   1.177709  4.366266e+01   \n",
      "M                                 1.204449   1.204449  4.447347e+01   \n",
      "M-95R                             1.234901   1.236398  4.535899e+01   \n",
      "N_Par                          1720.000000   0.000000  2.000000e+03   \n",
      "Train_Time                       12.701303   0.176438  1.619795e+09   \n",
      "Test_Time/MC-Oracle_Test_Time     1.582523   1.000000  9.366185e-03   \n",
      "\n",
      "                                  KRidge          GBRF         DNN        GPR  \\\n",
      "W1-95L                          9.092377  9.048603e+00    0.989376   9.840945   \n",
      "W1                              9.298649  9.180425e+00    1.016542  10.002771   \n",
      "W1-95R                          9.462457  9.406257e+00    1.037143  10.200879   \n",
      "M-95L                          43.849380  4.371747e+01    4.831776  43.825818   \n",
      "M                              44.465894  4.447347e+01    4.926057  44.473469   \n",
      "M-95R                          44.829841  4.516915e+01    4.987833  45.222007   \n",
      "N_Par                           0.000000  1.655076e+06  125.000000   0.000000   \n",
      "Train_Time                      1.497953  3.726702e+00    5.373271   2.054518   \n",
      "Test_Time/MC-Oracle_Test_Time   0.025855  1.598643e-01    1.029629   0.048564   \n",
      "\n",
      "                                      DGN  \n",
      "W1-95L                           1.049405  \n",
      "W1                               1.067310  \n",
      "W1-95R                           1.086586  \n",
      "M-95L                           24.272519  \n",
      "M                               24.693290  \n",
      "M-95R                           25.061308  \n",
      "N_Par                          400.000000  \n",
      "Train_Time                       3.771988  \n",
      "Test_Time/MC-Oracle_Test_Time    1.070240  \n"
     ]
    },
    {
     "data": {
      "text/html": [
       "<div>\n",
       "<style scoped>\n",
       "    .dataframe tbody tr th:only-of-type {\n",
       "        vertical-align: middle;\n",
       "    }\n",
       "\n",
       "    .dataframe tbody tr th {\n",
       "        vertical-align: top;\n",
       "    }\n",
       "\n",
       "    .dataframe thead th {\n",
       "        text-align: right;\n",
       "    }\n",
       "</style>\n",
       "<table border=\"1\" class=\"dataframe\">\n",
       "  <thead>\n",
       "    <tr style=\"text-align: right;\">\n",
       "      <th></th>\n",
       "      <th>DNM</th>\n",
       "      <th>MC-Oracle</th>\n",
       "      <th>ENET</th>\n",
       "      <th>KRidge</th>\n",
       "      <th>GBRF</th>\n",
       "      <th>DNN</th>\n",
       "      <th>GPR</th>\n",
       "      <th>DGN</th>\n",
       "    </tr>\n",
       "  </thead>\n",
       "  <tbody>\n",
       "    <tr>\n",
       "      <th>W1-95L</th>\n",
       "      <td>0.389920</td>\n",
       "      <td>0.000000</td>\n",
       "      <td>9.021460e+00</td>\n",
       "      <td>9.092377</td>\n",
       "      <td>9.048603e+00</td>\n",
       "      <td>0.989376</td>\n",
       "      <td>9.840945</td>\n",
       "      <td>1.049405</td>\n",
       "    </tr>\n",
       "    <tr>\n",
       "      <th>W1</th>\n",
       "      <td>0.395162</td>\n",
       "      <td>0.000000</td>\n",
       "      <td>9.223720e+00</td>\n",
       "      <td>9.298649</td>\n",
       "      <td>9.180425e+00</td>\n",
       "      <td>1.016542</td>\n",
       "      <td>10.002771</td>\n",
       "      <td>1.067310</td>\n",
       "    </tr>\n",
       "    <tr>\n",
       "      <th>W1-95R</th>\n",
       "      <td>0.400397</td>\n",
       "      <td>0.000000</td>\n",
       "      <td>9.396189e+00</td>\n",
       "      <td>9.462457</td>\n",
       "      <td>9.406257e+00</td>\n",
       "      <td>1.037143</td>\n",
       "      <td>10.200879</td>\n",
       "      <td>1.086586</td>\n",
       "    </tr>\n",
       "    <tr>\n",
       "      <th>M-95L</th>\n",
       "      <td>1.152075</td>\n",
       "      <td>1.177709</td>\n",
       "      <td>4.366266e+01</td>\n",
       "      <td>43.849380</td>\n",
       "      <td>4.371747e+01</td>\n",
       "      <td>4.831776</td>\n",
       "      <td>43.825818</td>\n",
       "      <td>24.272519</td>\n",
       "    </tr>\n",
       "    <tr>\n",
       "      <th>M</th>\n",
       "      <td>1.204449</td>\n",
       "      <td>1.204449</td>\n",
       "      <td>4.447347e+01</td>\n",
       "      <td>44.465894</td>\n",
       "      <td>4.447347e+01</td>\n",
       "      <td>4.926057</td>\n",
       "      <td>44.473469</td>\n",
       "      <td>24.693290</td>\n",
       "    </tr>\n",
       "    <tr>\n",
       "      <th>M-95R</th>\n",
       "      <td>1.234901</td>\n",
       "      <td>1.236398</td>\n",
       "      <td>4.535899e+01</td>\n",
       "      <td>44.829841</td>\n",
       "      <td>4.516915e+01</td>\n",
       "      <td>4.987833</td>\n",
       "      <td>45.222007</td>\n",
       "      <td>25.061308</td>\n",
       "    </tr>\n",
       "    <tr>\n",
       "      <th>N_Par</th>\n",
       "      <td>1720.000000</td>\n",
       "      <td>0.000000</td>\n",
       "      <td>2.000000e+03</td>\n",
       "      <td>0.000000</td>\n",
       "      <td>1.655076e+06</td>\n",
       "      <td>125.000000</td>\n",
       "      <td>0.000000</td>\n",
       "      <td>400.000000</td>\n",
       "    </tr>\n",
       "    <tr>\n",
       "      <th>Train_Time</th>\n",
       "      <td>12.701303</td>\n",
       "      <td>0.176438</td>\n",
       "      <td>1.619795e+09</td>\n",
       "      <td>1.497953</td>\n",
       "      <td>3.726702e+00</td>\n",
       "      <td>5.373271</td>\n",
       "      <td>2.054518</td>\n",
       "      <td>3.771988</td>\n",
       "    </tr>\n",
       "    <tr>\n",
       "      <th>Test_Time/MC-Oracle_Test_Time</th>\n",
       "      <td>1.582523</td>\n",
       "      <td>1.000000</td>\n",
       "      <td>9.366185e-03</td>\n",
       "      <td>0.025855</td>\n",
       "      <td>1.598643e-01</td>\n",
       "      <td>1.029629</td>\n",
       "      <td>0.048564</td>\n",
       "      <td>1.070240</td>\n",
       "    </tr>\n",
       "  </tbody>\n",
       "</table>\n",
       "</div>"
      ],
      "text/plain": [
       "                                       DNM  MC-Oracle          ENET  \\\n",
       "W1-95L                            0.389920   0.000000  9.021460e+00   \n",
       "W1                                0.395162   0.000000  9.223720e+00   \n",
       "W1-95R                            0.400397   0.000000  9.396189e+00   \n",
       "M-95L                             1.152075   1.177709  4.366266e+01   \n",
       "M                                 1.204449   1.204449  4.447347e+01   \n",
       "M-95R                             1.234901   1.236398  4.535899e+01   \n",
       "N_Par                          1720.000000   0.000000  2.000000e+03   \n",
       "Train_Time                       12.701303   0.176438  1.619795e+09   \n",
       "Test_Time/MC-Oracle_Test_Time     1.582523   1.000000  9.366185e-03   \n",
       "\n",
       "                                  KRidge          GBRF         DNN        GPR  \\\n",
       "W1-95L                          9.092377  9.048603e+00    0.989376   9.840945   \n",
       "W1                              9.298649  9.180425e+00    1.016542  10.002771   \n",
       "W1-95R                          9.462457  9.406257e+00    1.037143  10.200879   \n",
       "M-95L                          43.849380  4.371747e+01    4.831776  43.825818   \n",
       "M                              44.465894  4.447347e+01    4.926057  44.473469   \n",
       "M-95R                          44.829841  4.516915e+01    4.987833  45.222007   \n",
       "N_Par                           0.000000  1.655076e+06  125.000000   0.000000   \n",
       "Train_Time                      1.497953  3.726702e+00    5.373271   2.054518   \n",
       "Test_Time/MC-Oracle_Test_Time   0.025855  1.598643e-01    1.029629   0.048564   \n",
       "\n",
       "                                      DGN  \n",
       "W1-95L                           1.049405  \n",
       "W1                               1.067310  \n",
       "W1-95R                           1.086586  \n",
       "M-95L                           24.272519  \n",
       "M                               24.693290  \n",
       "M-95R                           25.061308  \n",
       "N_Par                          400.000000  \n",
       "Train_Time                       3.771988  \n",
       "Test_Time/MC-Oracle_Test_Time    1.070240  "
      ]
     },
     "execution_count": 15,
     "metadata": {},
     "output_type": "execute_result"
    }
   ],
   "source": [
    "print(\"Prediction Quality (Updated): Train\")\n",
    "print(Summary_pred_Qual_models)\n",
    "Summary_pred_Qual_models"
   ]
  },
  {
   "cell_type": "markdown",
   "metadata": {},
   "source": [
    "# 3) The natural Universal Benchmark: [Bishop's Mixture Density Network](https://publications.aston.ac.uk/id/eprint/373/1/NCRG_94_004.pdf)\n",
    "\n",
    "This implementation is as follows:\n",
    "- For every $x$ in the trainingdata-set we fit a GMM $\\hat{\\nu}_x$, using the [Expectation-Maximization (EM) algorithm](https://en.wikipedia.org/wiki/Expectation%E2%80%93maximization_algorithm), with the same number of centers as the deep neural model in $\\mathcal{NN}_{1_{\\mathbb{R}^d},\\mathcal{D}}^{\\sigma:\\star}$ which we are evaluating.  \n",
    "- A Mixture density network is then trained to predict the infered parameters; given any $x \\in \\mathbb{R}^d$."
   ]
  },
  {
   "cell_type": "code",
   "execution_count": 16,
   "metadata": {},
   "outputs": [],
   "source": [
    "if output_dim == 1:\n",
    "    # %run Mixture_Density_Network.ipynb\n",
    "    exec(open('Mixture_Density_Network.py').read())"
   ]
  },
  {
   "cell_type": "markdown",
   "metadata": {},
   "source": [
    "## Get Final Outputs\n",
    "Now we piece together all the numerical experiments and report a nice summary."
   ]
  },
  {
   "cell_type": "markdown",
   "metadata": {},
   "source": [
    "# Result(s)"
   ]
  },
  {
   "cell_type": "markdown",
   "metadata": {},
   "source": [
    "## Prediction Quality"
   ]
  },
  {
   "cell_type": "markdown",
   "metadata": {},
   "source": [
    "#### Training"
   ]
  },
  {
   "cell_type": "code",
   "execution_count": 17,
   "metadata": {},
   "outputs": [
    {
     "name": "stdout",
     "output_type": "stream",
     "text": [
      "Final Test-Set Result(s)\n"
     ]
    },
    {
     "data": {
      "text/html": [
       "<div>\n",
       "<style scoped>\n",
       "    .dataframe tbody tr th:only-of-type {\n",
       "        vertical-align: middle;\n",
       "    }\n",
       "\n",
       "    .dataframe tbody tr th {\n",
       "        vertical-align: top;\n",
       "    }\n",
       "\n",
       "    .dataframe thead th {\n",
       "        text-align: right;\n",
       "    }\n",
       "</style>\n",
       "<table border=\"1\" class=\"dataframe\">\n",
       "  <thead>\n",
       "    <tr style=\"text-align: right;\">\n",
       "      <th></th>\n",
       "      <th>DNM</th>\n",
       "      <th>MC-Oracle</th>\n",
       "      <th>ENET</th>\n",
       "      <th>KRidge</th>\n",
       "      <th>GBRF</th>\n",
       "      <th>DNN</th>\n",
       "      <th>GPR</th>\n",
       "      <th>DGN</th>\n",
       "    </tr>\n",
       "  </thead>\n",
       "  <tbody>\n",
       "    <tr>\n",
       "      <th>W1-95L</th>\n",
       "      <td>0.389920</td>\n",
       "      <td>0.000000</td>\n",
       "      <td>9.021460e+00</td>\n",
       "      <td>9.092377</td>\n",
       "      <td>9.048603e+00</td>\n",
       "      <td>0.989376</td>\n",
       "      <td>9.840945</td>\n",
       "      <td>1.049405</td>\n",
       "    </tr>\n",
       "    <tr>\n",
       "      <th>W1</th>\n",
       "      <td>0.395162</td>\n",
       "      <td>0.000000</td>\n",
       "      <td>9.223720e+00</td>\n",
       "      <td>9.298649</td>\n",
       "      <td>9.180425e+00</td>\n",
       "      <td>1.016542</td>\n",
       "      <td>10.002771</td>\n",
       "      <td>1.067310</td>\n",
       "    </tr>\n",
       "    <tr>\n",
       "      <th>W1-95R</th>\n",
       "      <td>0.400397</td>\n",
       "      <td>0.000000</td>\n",
       "      <td>9.396189e+00</td>\n",
       "      <td>9.462457</td>\n",
       "      <td>9.406257e+00</td>\n",
       "      <td>1.037143</td>\n",
       "      <td>10.200879</td>\n",
       "      <td>1.086586</td>\n",
       "    </tr>\n",
       "    <tr>\n",
       "      <th>M-95L</th>\n",
       "      <td>1.152075</td>\n",
       "      <td>1.177709</td>\n",
       "      <td>4.366266e+01</td>\n",
       "      <td>43.849380</td>\n",
       "      <td>4.371747e+01</td>\n",
       "      <td>4.831776</td>\n",
       "      <td>43.825818</td>\n",
       "      <td>24.272519</td>\n",
       "    </tr>\n",
       "    <tr>\n",
       "      <th>M</th>\n",
       "      <td>1.204449</td>\n",
       "      <td>1.204449</td>\n",
       "      <td>4.447347e+01</td>\n",
       "      <td>44.465894</td>\n",
       "      <td>4.447347e+01</td>\n",
       "      <td>4.926057</td>\n",
       "      <td>44.473469</td>\n",
       "      <td>24.693290</td>\n",
       "    </tr>\n",
       "    <tr>\n",
       "      <th>M-95R</th>\n",
       "      <td>1.234901</td>\n",
       "      <td>1.236398</td>\n",
       "      <td>4.535899e+01</td>\n",
       "      <td>44.829841</td>\n",
       "      <td>4.516915e+01</td>\n",
       "      <td>4.987833</td>\n",
       "      <td>45.222007</td>\n",
       "      <td>25.061308</td>\n",
       "    </tr>\n",
       "    <tr>\n",
       "      <th>N_Par</th>\n",
       "      <td>1720.000000</td>\n",
       "      <td>0.000000</td>\n",
       "      <td>2.000000e+03</td>\n",
       "      <td>0.000000</td>\n",
       "      <td>1.655076e+06</td>\n",
       "      <td>125.000000</td>\n",
       "      <td>0.000000</td>\n",
       "      <td>400.000000</td>\n",
       "    </tr>\n",
       "    <tr>\n",
       "      <th>Train_Time</th>\n",
       "      <td>12.701303</td>\n",
       "      <td>0.176438</td>\n",
       "      <td>1.619795e+09</td>\n",
       "      <td>1.497953</td>\n",
       "      <td>3.726702e+00</td>\n",
       "      <td>5.373271</td>\n",
       "      <td>2.054518</td>\n",
       "      <td>3.771988</td>\n",
       "    </tr>\n",
       "    <tr>\n",
       "      <th>Test_Time/MC-Oracle_Test_Time</th>\n",
       "      <td>1.582523</td>\n",
       "      <td>1.000000</td>\n",
       "      <td>9.366185e-03</td>\n",
       "      <td>0.025855</td>\n",
       "      <td>1.598643e-01</td>\n",
       "      <td>1.029629</td>\n",
       "      <td>0.048564</td>\n",
       "      <td>1.070240</td>\n",
       "    </tr>\n",
       "  </tbody>\n",
       "</table>\n",
       "</div>"
      ],
      "text/plain": [
       "                                       DNM  MC-Oracle          ENET  \\\n",
       "W1-95L                            0.389920   0.000000  9.021460e+00   \n",
       "W1                                0.395162   0.000000  9.223720e+00   \n",
       "W1-95R                            0.400397   0.000000  9.396189e+00   \n",
       "M-95L                             1.152075   1.177709  4.366266e+01   \n",
       "M                                 1.204449   1.204449  4.447347e+01   \n",
       "M-95R                             1.234901   1.236398  4.535899e+01   \n",
       "N_Par                          1720.000000   0.000000  2.000000e+03   \n",
       "Train_Time                       12.701303   0.176438  1.619795e+09   \n",
       "Test_Time/MC-Oracle_Test_Time     1.582523   1.000000  9.366185e-03   \n",
       "\n",
       "                                  KRidge          GBRF         DNN        GPR  \\\n",
       "W1-95L                          9.092377  9.048603e+00    0.989376   9.840945   \n",
       "W1                              9.298649  9.180425e+00    1.016542  10.002771   \n",
       "W1-95R                          9.462457  9.406257e+00    1.037143  10.200879   \n",
       "M-95L                          43.849380  4.371747e+01    4.831776  43.825818   \n",
       "M                              44.465894  4.447347e+01    4.926057  44.473469   \n",
       "M-95R                          44.829841  4.516915e+01    4.987833  45.222007   \n",
       "N_Par                           0.000000  1.655076e+06  125.000000   0.000000   \n",
       "Train_Time                      1.497953  3.726702e+00    5.373271   2.054518   \n",
       "Test_Time/MC-Oracle_Test_Time   0.025855  1.598643e-01    1.029629   0.048564   \n",
       "\n",
       "                                      DGN  \n",
       "W1-95L                           1.049405  \n",
       "W1                               1.067310  \n",
       "W1-95R                           1.086586  \n",
       "M-95L                           24.272519  \n",
       "M                               24.693290  \n",
       "M-95R                           25.061308  \n",
       "N_Par                          400.000000  \n",
       "Train_Time                       3.771988  \n",
       "Test_Time/MC-Oracle_Test_Time    1.070240  "
      ]
     },
     "execution_count": 17,
     "metadata": {},
     "output_type": "execute_result"
    }
   ],
   "source": [
    "print(\"Final Test-Set Result(s)\")\n",
    "Summary_pred_Qual_models"
   ]
  },
  {
   "cell_type": "markdown",
   "metadata": {},
   "source": [
    "#### Test"
   ]
  },
  {
   "cell_type": "code",
   "execution_count": 18,
   "metadata": {},
   "outputs": [
    {
     "name": "stdout",
     "output_type": "stream",
     "text": [
      "Final Training-Set Result(s)\n"
     ]
    },
    {
     "data": {
      "text/html": [
       "<div>\n",
       "<style scoped>\n",
       "    .dataframe tbody tr th:only-of-type {\n",
       "        vertical-align: middle;\n",
       "    }\n",
       "\n",
       "    .dataframe tbody tr th {\n",
       "        vertical-align: top;\n",
       "    }\n",
       "\n",
       "    .dataframe thead th {\n",
       "        text-align: right;\n",
       "    }\n",
       "</style>\n",
       "<table border=\"1\" class=\"dataframe\">\n",
       "  <thead>\n",
       "    <tr style=\"text-align: right;\">\n",
       "      <th></th>\n",
       "      <th>DNM</th>\n",
       "      <th>MC-Oracle</th>\n",
       "      <th>ENET</th>\n",
       "      <th>KRidge</th>\n",
       "      <th>GBRF</th>\n",
       "      <th>DNN</th>\n",
       "      <th>GPR</th>\n",
       "      <th>DGN</th>\n",
       "    </tr>\n",
       "  </thead>\n",
       "  <tbody>\n",
       "    <tr>\n",
       "      <th>W1-95L</th>\n",
       "      <td>0.405253</td>\n",
       "      <td>0.000000</td>\n",
       "      <td>9.345086e+00</td>\n",
       "      <td>9.577519</td>\n",
       "      <td>9.483166e+00</td>\n",
       "      <td>1.070440</td>\n",
       "      <td>10.775148</td>\n",
       "      <td>1.144341</td>\n",
       "    </tr>\n",
       "    <tr>\n",
       "      <th>W1</th>\n",
       "      <td>0.417215</td>\n",
       "      <td>0.000000</td>\n",
       "      <td>9.785819e+00</td>\n",
       "      <td>9.942966</td>\n",
       "      <td>9.826340e+00</td>\n",
       "      <td>1.121222</td>\n",
       "      <td>11.139447</td>\n",
       "      <td>1.192211</td>\n",
       "    </tr>\n",
       "    <tr>\n",
       "      <th>W1-95R</th>\n",
       "      <td>0.424174</td>\n",
       "      <td>0.000000</td>\n",
       "      <td>1.026902e+01</td>\n",
       "      <td>10.257549</td>\n",
       "      <td>1.034169e+01</td>\n",
       "      <td>1.173450</td>\n",
       "      <td>11.489751</td>\n",
       "      <td>1.226343</td>\n",
       "    </tr>\n",
       "    <tr>\n",
       "      <th>M-95L</th>\n",
       "      <td>1.252847</td>\n",
       "      <td>1.212462</td>\n",
       "      <td>4.503208e+01</td>\n",
       "      <td>45.517167</td>\n",
       "      <td>4.593144e+01</td>\n",
       "      <td>5.016318</td>\n",
       "      <td>45.921240</td>\n",
       "      <td>24.889407</td>\n",
       "    </tr>\n",
       "    <tr>\n",
       "      <th>M</th>\n",
       "      <td>1.327205</td>\n",
       "      <td>1.327205</td>\n",
       "      <td>4.784373e+01</td>\n",
       "      <td>47.991556</td>\n",
       "      <td>4.824811e+01</td>\n",
       "      <td>5.277003</td>\n",
       "      <td>48.429675</td>\n",
       "      <td>26.448704</td>\n",
       "    </tr>\n",
       "    <tr>\n",
       "      <th>M-95R</th>\n",
       "      <td>1.453645</td>\n",
       "      <td>1.467073</td>\n",
       "      <td>4.991505e+01</td>\n",
       "      <td>49.836028</td>\n",
       "      <td>4.972675e+01</td>\n",
       "      <td>5.576289</td>\n",
       "      <td>50.942020</td>\n",
       "      <td>27.926624</td>\n",
       "    </tr>\n",
       "    <tr>\n",
       "      <th>N_Par</th>\n",
       "      <td>1720.000000</td>\n",
       "      <td>0.000000</td>\n",
       "      <td>2.000000e+03</td>\n",
       "      <td>0.000000</td>\n",
       "      <td>1.655076e+06</td>\n",
       "      <td>125.000000</td>\n",
       "      <td>0.000000</td>\n",
       "      <td>400.000000</td>\n",
       "    </tr>\n",
       "    <tr>\n",
       "      <th>Train_Time</th>\n",
       "      <td>12.701303</td>\n",
       "      <td>0.176438</td>\n",
       "      <td>1.619795e+09</td>\n",
       "      <td>1.497953</td>\n",
       "      <td>3.726702e+00</td>\n",
       "      <td>5.373271</td>\n",
       "      <td>2.054518</td>\n",
       "      <td>3.771988</td>\n",
       "    </tr>\n",
       "    <tr>\n",
       "      <th>Test_Time/MC-Oracle_Test_Time</th>\n",
       "      <td>1.582523</td>\n",
       "      <td>1.000000</td>\n",
       "      <td>9.366185e-03</td>\n",
       "      <td>0.025855</td>\n",
       "      <td>1.598643e-01</td>\n",
       "      <td>1.029629</td>\n",
       "      <td>0.048564</td>\n",
       "      <td>1.070240</td>\n",
       "    </tr>\n",
       "  </tbody>\n",
       "</table>\n",
       "</div>"
      ],
      "text/plain": [
       "                                       DNM  MC-Oracle          ENET  \\\n",
       "W1-95L                            0.405253   0.000000  9.345086e+00   \n",
       "W1                                0.417215   0.000000  9.785819e+00   \n",
       "W1-95R                            0.424174   0.000000  1.026902e+01   \n",
       "M-95L                             1.252847   1.212462  4.503208e+01   \n",
       "M                                 1.327205   1.327205  4.784373e+01   \n",
       "M-95R                             1.453645   1.467073  4.991505e+01   \n",
       "N_Par                          1720.000000   0.000000  2.000000e+03   \n",
       "Train_Time                       12.701303   0.176438  1.619795e+09   \n",
       "Test_Time/MC-Oracle_Test_Time     1.582523   1.000000  9.366185e-03   \n",
       "\n",
       "                                  KRidge          GBRF         DNN        GPR  \\\n",
       "W1-95L                          9.577519  9.483166e+00    1.070440  10.775148   \n",
       "W1                              9.942966  9.826340e+00    1.121222  11.139447   \n",
       "W1-95R                         10.257549  1.034169e+01    1.173450  11.489751   \n",
       "M-95L                          45.517167  4.593144e+01    5.016318  45.921240   \n",
       "M                              47.991556  4.824811e+01    5.277003  48.429675   \n",
       "M-95R                          49.836028  4.972675e+01    5.576289  50.942020   \n",
       "N_Par                           0.000000  1.655076e+06  125.000000   0.000000   \n",
       "Train_Time                      1.497953  3.726702e+00    5.373271   2.054518   \n",
       "Test_Time/MC-Oracle_Test_Time   0.025855  1.598643e-01    1.029629   0.048564   \n",
       "\n",
       "                                      DGN  \n",
       "W1-95L                           1.144341  \n",
       "W1                               1.192211  \n",
       "W1-95R                           1.226343  \n",
       "M-95L                           24.889407  \n",
       "M                               26.448704  \n",
       "M-95R                           27.926624  \n",
       "N_Par                          400.000000  \n",
       "Train_Time                       3.771988  \n",
       "Test_Time/MC-Oracle_Test_Time    1.070240  "
      ]
     },
     "execution_count": 18,
     "metadata": {},
     "output_type": "execute_result"
    }
   ],
   "source": [
    "print(\"Final Training-Set Result(s)\")\n",
    "Summary_pred_Qual_models_test"
   ]
  },
  {
   "cell_type": "markdown",
   "metadata": {},
   "source": [
    "# For Terminal Runner(s):"
   ]
  },
  {
   "cell_type": "code",
   "execution_count": 19,
   "metadata": {},
   "outputs": [
    {
     "name": "stdout",
     "output_type": "stream",
     "text": [
      "============================\n",
      "Training Predictive Quality:\n",
      "============================\n",
      "                                       DNM  MC-Oracle          ENET  \\\n",
      "W1-95L                            0.389920   0.000000  9.021460e+00   \n",
      "W1                                0.395162   0.000000  9.223720e+00   \n",
      "W1-95R                            0.400397   0.000000  9.396189e+00   \n",
      "M-95L                             1.152075   1.177709  4.366266e+01   \n",
      "M                                 1.204449   1.204449  4.447347e+01   \n",
      "M-95R                             1.234901   1.236398  4.535899e+01   \n",
      "N_Par                          1720.000000   0.000000  2.000000e+03   \n",
      "Train_Time                       12.701303   0.176438  1.619795e+09   \n",
      "Test_Time/MC-Oracle_Test_Time     1.582523   1.000000  9.366185e-03   \n",
      "\n",
      "                                  KRidge          GBRF         DNN        GPR  \\\n",
      "W1-95L                          9.092377  9.048603e+00    0.989376   9.840945   \n",
      "W1                              9.298649  9.180425e+00    1.016542  10.002771   \n",
      "W1-95R                          9.462457  9.406257e+00    1.037143  10.200879   \n",
      "M-95L                          43.849380  4.371747e+01    4.831776  43.825818   \n",
      "M                              44.465894  4.447347e+01    4.926057  44.473469   \n",
      "M-95R                          44.829841  4.516915e+01    4.987833  45.222007   \n",
      "N_Par                           0.000000  1.655076e+06  125.000000   0.000000   \n",
      "Train_Time                      1.497953  3.726702e+00    5.373271   2.054518   \n",
      "Test_Time/MC-Oracle_Test_Time   0.025855  1.598643e-01    1.029629   0.048564   \n",
      "\n",
      "                                      DGN  \n",
      "W1-95L                           1.049405  \n",
      "W1                               1.067310  \n",
      "W1-95R                           1.086586  \n",
      "M-95L                           24.272519  \n",
      "M                               24.693290  \n",
      "M-95R                           25.061308  \n",
      "N_Par                          400.000000  \n",
      "Train_Time                       3.771988  \n",
      "Test_Time/MC-Oracle_Test_Time    1.070240  \n",
      " \n",
      " \n",
      " \n",
      "===========================\n",
      "Testing Predictive Quality:\n",
      "===========================\n",
      "                                       DNM  MC-Oracle          ENET  \\\n",
      "W1-95L                            0.405253   0.000000  9.345086e+00   \n",
      "W1                                0.417215   0.000000  9.785819e+00   \n",
      "W1-95R                            0.424174   0.000000  1.026902e+01   \n",
      "M-95L                             1.252847   1.212462  4.503208e+01   \n",
      "M                                 1.327205   1.327205  4.784373e+01   \n",
      "M-95R                             1.453645   1.467073  4.991505e+01   \n",
      "N_Par                          1720.000000   0.000000  2.000000e+03   \n",
      "Train_Time                       12.701303   0.176438  1.619795e+09   \n",
      "Test_Time/MC-Oracle_Test_Time     1.582523   1.000000  9.366185e-03   \n",
      "\n",
      "                                  KRidge          GBRF         DNN        GPR  \\\n",
      "W1-95L                          9.577519  9.483166e+00    1.070440  10.775148   \n",
      "W1                              9.942966  9.826340e+00    1.121222  11.139447   \n",
      "W1-95R                         10.257549  1.034169e+01    1.173450  11.489751   \n",
      "M-95L                          45.517167  4.593144e+01    5.016318  45.921240   \n",
      "M                              47.991556  4.824811e+01    5.277003  48.429675   \n",
      "M-95R                          49.836028  4.972675e+01    5.576289  50.942020   \n",
      "N_Par                           0.000000  1.655076e+06  125.000000   0.000000   \n",
      "Train_Time                      1.497953  3.726702e+00    5.373271   2.054518   \n",
      "Test_Time/MC-Oracle_Test_Time   0.025855  1.598643e-01    1.029629   0.048564   \n",
      "\n",
      "                                      DGN  \n",
      "W1-95L                           1.144341  \n",
      "W1                               1.192211  \n",
      "W1-95R                           1.226343  \n",
      "M-95L                           24.889407  \n",
      "M                               26.448704  \n",
      "M-95R                           27.926624  \n",
      "N_Par                          400.000000  \n",
      "Train_Time                       3.771988  \n",
      "Test_Time/MC-Oracle_Test_Time    1.070240  \n",
      "================================\n",
      " \n",
      " \n",
      " \n",
      "Kernel_Used_in_GPR: RBF(length_scale=1)\n",
      "🙃🙃 Have a wonderful day! 🙃🙃\n"
     ]
    }
   ],
   "source": [
    "# For Terminal Running\n",
    "print(\"============================\")\n",
    "print(\"Training Predictive Quality:\")\n",
    "print(\"============================\")\n",
    "print(Summary_pred_Qual_models)\n",
    "print(\" \")\n",
    "print(\" \")\n",
    "print(\" \")\n",
    "print(\"===========================\")\n",
    "print(\"Testing Predictive Quality:\")\n",
    "print(\"===========================\")\n",
    "print(Summary_pred_Qual_models_test)\n",
    "print(\"================================\")\n",
    "print(\" \")\n",
    "print(\" \")\n",
    "print(\" \")\n",
    "print(\"Kernel_Used_in_GPR: \"+str(GPR_trash.kernel))\n",
    "print(\"🙃🙃 Have a wonderful day! 🙃🙃\")"
   ]
  },
  {
   "cell_type": "markdown",
   "metadata": {},
   "source": [
    "---\n",
    "# Fin\n",
    "---"
   ]
  },
  {
   "cell_type": "markdown",
   "metadata": {},
   "source": [
    "---"
   ]
  }
 ],
 "metadata": {
  "kernelspec": {
   "display_name": "Python 3",
   "language": "python",
   "name": "python3"
  },
  "language_info": {
   "codemirror_mode": {
    "name": "ipython",
    "version": 3
   },
   "file_extension": ".py",
   "mimetype": "text/x-python",
   "name": "python",
   "nbconvert_exporter": "python",
   "pygments_lexer": "ipython3",
   "version": "3.7.7"
  }
 },
 "nbformat": 4,
 "nbformat_minor": 2
}
