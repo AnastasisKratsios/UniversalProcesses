{
 "cells": [
  {
   "cell_type": "markdown",
   "metadata": {},
   "source": [
    "# Deep Universal Regular Conditional Expectations:\n",
    "\n",
    "---\n",
    "This implements the universal deep neural model of $\\mathcal{NN}_{1_{\\mathbb{R}^n},\\mathcal{D}}^{\\sigma:\\star}$ [Anastasis Kratsios](https://people.math.ethz.ch/~kratsioa/) - 2021.\n",
    "\n",
    "---\n",
    "\n",
    "## What does this code do?\n",
    "1. Learn Heteroskedastic Non-Linear Regression Problem\n",
    "     - $Y\\sim f_{\\text{unkown}}(x) + \\epsilon$ where $f$ is an known function and $\\epsilon\\sim Laplace(0,\\|x\\|)$\n",
    "2. Learn Random Bayesian Network's Law:\n",
    "    - $Y = W_J Y^{J-1}, \\qquad Y^{j}\\triangleq \\sigma\\bullet A^{j}Y^{j-1} + b^{j}, \\qquad Y^0\\triangleq x$\n",
    "\n",
    "3. In the above example if $A_j = M_j\\odot \\tilde{A_j}$ where $\\tilde{A}_j$ is a deterministic matrix and $M_j$ is a \"mask\", that is, a random matrix with binary entries and $\\odot$ is the Hadamard product then we recover the dropout framework.\n",
    "4. Learn the probability distribution that the unique strong solution to the rough SDE with uniformly Lipschitz drivers driven by a factional Brownian motion with Hurst exponent $H \\in [\\frac1{2},1)$:\n",
    "$$\n",
    "X_t^x = x + \\int_0^t \\alpha(s,X_s^x)ds + \\int_0^t \\beta(s,X_s^x)dB_s^H\n",
    "$$\n",
    "belongs, at time $t=1$, to a ball about the initial point $x$ of random radius given by an independant exponential random-variable with shape parameter $\\lambda=2$\n",
    "5. Train a DNN to predict the returns of bitcoin with GD.  Since this has random initialization then each prediction of a given $x$ is stochastic...We learn the distribution of this conditional RV (conditioned on x in the input space).\n",
    "$$\n",
    "Y_x \\triangleq \\hat{f}_{\\theta_{T}}(x), \\qquad \\theta_{(t+1)}\\triangleq \\theta_{(t)} + \\lambda \\sum_{x \\in \\mathbb{X}} \\nabla_{\\theta}\\|\\hat{f}_{\\theta_t}(x) - f(x)\\|, \\qquad \\theta_0 \\sim N_d(0,1);\n",
    "$$\n",
    "$T\\in \\mathbb{N}$ is a fixed number of \"SGD\" iterations (typically identified by cross-validation on a single SGD trajectory for a single initialization) and where $\\theta \\in \\mathbb{R}^{(d_{J}+1)+\\sum_{j=0}^{J-1} (d_{j+1}d_j + 1)}$ and $d_j$ is the dimension of the \"bias\" vector $b_j$ defining each layer of the DNN with layer dimensions:\n",
    "$$\n",
    "\\hat{f}_{\\theta}(x)\\triangleq A^{(J)}x^{(J)} + b^{(J)},\\qquad x^{(j+1)}\\triangleq \\sigma\\bullet A^{j}x^{(j)} + b^{j},\\qquad x^{(0)}\\triangleq x\n",
    ".\n",
    "$$\n",
    "\n",
    "6. Extreme Learning Machines: \n",
    "    Just like the Bayesian network but then last layer is trained on the training set using KRidge!"
   ]
  },
  {
   "cell_type": "markdown",
   "metadata": {},
   "source": [
    "#### Mode:\n",
    "Software/Hardware Testing or Real-Deal?"
   ]
  },
  {
   "cell_type": "code",
   "execution_count": 1,
   "metadata": {},
   "outputs": [],
   "source": [
    "trial_run = True"
   ]
  },
  {
   "cell_type": "markdown",
   "metadata": {},
   "source": [
    "### Simulation Method:"
   ]
  },
  {
   "cell_type": "code",
   "execution_count": 2,
   "metadata": {},
   "outputs": [],
   "source": [
    "# Random DNN\n",
    "# f_unknown_mode = \"Heteroskedastic_NonLinear_Regression\"\n",
    "\n",
    "# Random DNN internal noise\n",
    "## Real-world data version\n",
    "f_unknown_mode = \"Extreme_Learning_Machine\"\n",
    "### Dataset Option 1\n",
    "dataset_option = 'SnP'\n",
    "### Dataset Option 2\n",
    "# dataset_option = 'crypto'\n",
    "Depth_Bayesian_DNN = 1\n",
    "N_Random_Features = 10**1\n",
    "## Simulated Data version\n",
    "# f_unknown_mode = \"DNN_with_Random_Weights\"\n",
    "width = 10\n",
    "\n",
    "# Random Dropout applied to trained DNN\n",
    "# f_unknown_mode = \"DNN_with_Bayesian_Dropout\"\n",
    "Dropout_rate = 0.1\n",
    "\n",
    "# GD with Randomized Input\n",
    "# f_unknown_mode = \"GD_with_randomized_input\"\n",
    "# GD_epochs = 50\n",
    "\n",
    "# SDE with fractional Driver\n",
    "f_unknown_mode = \"Rough_SDE\"\n",
    "N_Euler_Steps = 10**2\n",
    "Hurst_Exponent = 0.75\n",
    "\n",
    "# f_unknown_mode = \"Rough_SDE_Vanilla\"\n",
    "## Define Process' dynamics in (2) cell(s) below."
   ]
  },
  {
   "cell_type": "markdown",
   "metadata": {},
   "source": [
    "## Problem Dimension"
   ]
  },
  {
   "cell_type": "code",
   "execution_count": 3,
   "metadata": {},
   "outputs": [],
   "source": [
    "problem_dim = 1\n",
    "if f_unknown_mode != 'Extreme_Learning_Machine':\n",
    "    width = int(max(width,2*(problem_dim+1)))"
   ]
  },
  {
   "cell_type": "markdown",
   "metadata": {},
   "source": [
    "#### Vanilla fractional SDE:\n",
    "If f_unknown_mode == \"Rough_SDE_Vanilla\" is selected, then we can specify the process's dynamics.  "
   ]
  },
  {
   "cell_type": "code",
   "execution_count": 4,
   "metadata": {},
   "outputs": [],
   "source": [
    "#--------------------------#\n",
    "# Define Process' Dynamics #\n",
    "#--------------------------#\n",
    "drift_constant = 0.1\n",
    "volatility_constant = 0.01\n",
    "\n",
    "# Define DNN Applier\n",
    "def f_unknown_drift_vanilla(x):\n",
    "    x_internal = x\n",
    "    x_internal = drift_constant*x_internal\n",
    "    return x_internal\n",
    "def f_unknown_vol_vanilla(x):\n",
    "    x_internal = volatility_constant*np.diag(np.ones(problem_dim))\n",
    "    return x_internal"
   ]
  },
  {
   "cell_type": "markdown",
   "metadata": {},
   "source": [
    "## Note: *Why the procedure is so computationally efficient*?\n",
    "---\n",
    " - The sample barycenters do not require us to solve for any new Wasserstein-1 Barycenters; which is much more computationally costly,\n",
    " - Our training procedure never back-propages through $\\mathcal{W}_1$ since steps 2 and 3 are full-decoupled.  Therefore, training our deep classifier is (comparatively) cheap since it takes values in the standard $N$-simplex.\n",
    "\n",
    "---"
   ]
  },
  {
   "cell_type": "markdown",
   "metadata": {},
   "source": [
    "#### Grid Hyperparameter(s)\n",
    "- Ratio $\\frac{\\text{Testing Datasize}}{\\text{Training Datasize}}$.\n",
    "- Number of Training Points to Generate"
   ]
  },
  {
   "cell_type": "code",
   "execution_count": 5,
   "metadata": {},
   "outputs": [],
   "source": [
    "train_test_ratio = .2\n",
    "N_train_size = 10"
   ]
  },
  {
   "cell_type": "markdown",
   "metadata": {},
   "source": [
    "Monte-Carlo Paramters"
   ]
  },
  {
   "cell_type": "code",
   "execution_count": 6,
   "metadata": {},
   "outputs": [],
   "source": [
    "## Monte-Carlo\n",
    "N_Monte_Carlo_Samples = 10**2"
   ]
  },
  {
   "cell_type": "markdown",
   "metadata": {},
   "source": [
    "Initial radis of $\\delta$-bounded random partition of $\\mathcal{X}$!"
   ]
  },
  {
   "cell_type": "code",
   "execution_count": 7,
   "metadata": {},
   "outputs": [],
   "source": [
    "# Hyper-parameters of Cover\n",
    "delta = 0.1\n",
    "Proportion_per_cluster = .75"
   ]
  },
  {
   "cell_type": "markdown",
   "metadata": {},
   "source": [
    "## Dependencies and Auxiliary Script(s)"
   ]
  },
  {
   "cell_type": "code",
   "execution_count": 8,
   "metadata": {},
   "outputs": [
    {
     "name": "stderr",
     "output_type": "stream",
     "text": [
      "Using TensorFlow backend.\n"
     ]
    },
    {
     "name": "stdout",
     "output_type": "stream",
     "text": [
      "Deep Feature Builder - Ready\n",
      "Deep Classifier - Ready\n",
      "Deep Feature Builder - Ready\n"
     ]
    }
   ],
   "source": [
    "# %run Loader.ipynb\n",
    "exec(open('Loader.py').read())\n",
    "# Load Packages/Modules\n",
    "exec(open('Init_Dump.py').read())\n",
    "import time as time #<- Note sure why...but its always seems to need 'its own special loading...'"
   ]
  },
  {
   "cell_type": "markdown",
   "metadata": {},
   "source": [
    "# Simulate or Parse Data"
   ]
  },
  {
   "cell_type": "code",
   "execution_count": 9,
   "metadata": {},
   "outputs": [
    {
     "name": "stderr",
     "output_type": "stream",
     "text": [
      "\r",
      "  0%|          | 0/10 [00:00<?, ?it/s]"
     ]
    },
    {
     "name": "stdout",
     "output_type": "stream",
     "text": [
      "---------------------------------------\n",
      "Beginning Data-Parsing/Simulation Phase\n",
      "---------------------------------------\n",
      "Deciding on Which Simulator/Parser To Load\n",
      "Setting/Defining: Internal Parameters\n",
      "Deciding on Which Type of Data to Get/Simulate\n",
      "Simulating Output Data for given input data\n"
     ]
    },
    {
     "name": "stderr",
     "output_type": "stream",
     "text": [
      "100%|██████████| 10/10 [00:06<00:00,  1.58it/s]\n",
      "100%|██████████| 2/2 [00:00<00:00,  2.17it/s]"
     ]
    },
    {
     "name": "stdout",
     "output_type": "stream",
     "text": [
      "----------------------------------\n",
      "Done Data-Parsing/Simulation Phase\n",
      "----------------------------------\n"
     ]
    },
    {
     "name": "stderr",
     "output_type": "stream",
     "text": [
      "\n"
     ]
    }
   ],
   "source": [
    "# %run Data_Simulator_and_Parser.ipynb\n",
    "exec(open('Data_Simulator_and_Parser.py').read())"
   ]
  },
  {
   "cell_type": "markdown",
   "metadata": {},
   "source": [
    "#### Scale Data\n",
    "This is especially important to avoid exploding gradient problems when training the ML-models."
   ]
  },
  {
   "cell_type": "code",
   "execution_count": 10,
   "metadata": {},
   "outputs": [],
   "source": [
    "scaler = StandardScaler()\n",
    "scaler.fit(X_train)\n",
    "\n",
    "X_train = scaler.transform(X_train)\n",
    "X_test = scaler.transform(X_test)"
   ]
  },
  {
   "cell_type": "markdown",
   "metadata": {},
   "source": [
    "# Run Main:"
   ]
  },
  {
   "cell_type": "code",
   "execution_count": 11,
   "metadata": {
    "scrolled": true
   },
   "outputs": [
    {
     "name": "stdout",
     "output_type": "stream",
     "text": [
      "------------------------------\n",
      "Running script for main model!\n",
      "------------------------------\n"
     ]
    },
    {
     "name": "stderr",
     "output_type": "stream",
     "text": [
      "100%|██████████| 750/750 [00:00<00:00, 10855.01it/s]"
     ]
    },
    {
     "name": "stdout",
     "output_type": "stream",
     "text": [
      "Deep Feature Builder - Ready\n",
      "Deep Classifier - Ready\n",
      "==========================================\n",
      "Training Classifer Portion of Type-A Model\n",
      "==========================================\n",
      "Fitting 2 folds for each of 1 candidates, totalling 2 fits\n"
     ]
    },
    {
     "name": "stderr",
     "output_type": "stream",
     "text": [
      "\n",
      "[Parallel(n_jobs=4)]: Using backend LokyBackend with 4 concurrent workers.\n",
      "[Parallel(n_jobs=4)]: Done   2 out of   2 | elapsed:    3.6s remaining:    0.0s\n",
      "[Parallel(n_jobs=4)]: Done   2 out of   2 | elapsed:    3.6s finished\n"
     ]
    },
    {
     "name": "stdout",
     "output_type": "stream",
     "text": [
      "Epoch 1/2\n",
      "63/63 [==============================] - 0s 1ms/step - loss: 6.6423 - accuracy: 0.0000e+00\n",
      "Epoch 2/2\n",
      "63/63 [==============================] - 0s 2ms/step - loss: 6.5763 - accuracy: 0.0020\n",
      "63/63 [==============================] - 0s 756us/step\n",
      "13/13 [==============================] - 0s 1ms/step\n",
      "===============================================\n",
      "Training Classifer Portion of Type Model: Done!\n",
      "===============================================\n"
     ]
    },
    {
     "name": "stderr",
     "output_type": "stream",
     "text": [
      "\r",
      "  0%|          | 0/1000 [00:00<?, ?it/s]"
     ]
    },
    {
     "name": "stdout",
     "output_type": "stream",
     "text": [
      "#--------------------#\n",
      " Get Training Error(s)\n",
      "#--------------------#\n"
     ]
    },
    {
     "name": "stderr",
     "output_type": "stream",
     "text": [
      "100%|██████████| 1000/1000 [00:57<00:00, 17.53it/s]\n",
      "  1%|          | 2/200 [00:00<00:13, 14.65it/s]"
     ]
    },
    {
     "name": "stdout",
     "output_type": "stream",
     "text": [
      "#-------------------------#\n",
      " Get Training Error(s): END\n",
      "#-------------------------#\n",
      "#----------------#\n",
      " Get Test Error(s)\n",
      "#----------------#\n"
     ]
    },
    {
     "name": "stderr",
     "output_type": "stream",
     "text": [
      "100%|██████████| 200/200 [00:18<00:00, 11.06it/s]"
     ]
    },
    {
     "name": "stdout",
     "output_type": "stream",
     "text": [
      "#------------------------#\n",
      " Get Testing Error(s): END\n",
      "#------------------------#\n",
      "                                        DNM  MC-Oracle\n",
      "W1-95L                             0.144226    0.00000\n",
      "W1                                 0.145165    0.00000\n",
      "W1-95R                             0.146593    0.00000\n",
      "M-95L                              0.302040    0.00000\n",
      "M                                  0.303713    0.00000\n",
      "M-95R                              0.306201    0.00000\n",
      "N_Par                          38400.000000    0.00000\n",
      "Train_Time                        79.831625    7.26793\n",
      "Test_Time/MC-Oracle_Test_Time      0.057651    1.00000\n",
      "------------------------------------\n",
      "Done: Running script for main model!\n",
      "------------------------------------\n"
     ]
    },
    {
     "name": "stderr",
     "output_type": "stream",
     "text": [
      "\n"
     ]
    }
   ],
   "source": [
    "print(\"------------------------------\")\n",
    "print(\"Running script for main model!\")\n",
    "print(\"------------------------------\")\n",
    "# %run Universal_Measure_Valued_Networks_Backend.ipynb\n",
    "exec(open('Universal_Measure_Valued_Networks_Backend.py').read())\n",
    "\n",
    "print(\"------------------------------------\")\n",
    "print(\"Done: Running script for main model!\")\n",
    "print(\"------------------------------------\")"
   ]
  },
  {
   "cell_type": "markdown",
   "metadata": {},
   "source": [
    "---\n",
    "# Run: All Benchmarks"
   ]
  },
  {
   "cell_type": "markdown",
   "metadata": {},
   "source": [
    "## 1) *Pointmass Benchmark(s)*\n",
    "These benchmarks consist of subsets of $C(\\mathbb{R}^d,\\mathbb{R})$ which we lift to models in $C(\\mathbb{R}^d,\\cap_{1\\leq q<\\infty}\\mathscr{P}_{q}(\\mathbb{R}))$ via:\n",
    "$$\n",
    "\\mathbb{R}^d \\ni x \\to f(x) \\to \\delta_{f(x)}\\in \\cap_{1\\leq q<\\infty}\\mathcal{P}_{q}(\\mathbb{R}).\n",
    "$$"
   ]
  },
  {
   "cell_type": "code",
   "execution_count": 12,
   "metadata": {},
   "outputs": [
    {
     "name": "stdout",
     "output_type": "stream",
     "text": [
      "Deep Feature Builder - Ready\n",
      "--------------\n",
      "Training: ENET\n",
      "--------------\n"
     ]
    },
    {
     "name": "stderr",
     "output_type": "stream",
     "text": [
      "100%|██████████| 1000/1000 [00:00<00:00, 5861.89it/s]\n",
      "  0%|          | 0/200 [00:00<?, ?it/s]"
     ]
    },
    {
     "name": "stdout",
     "output_type": "stream",
     "text": [
      "---------------------\n",
      "Training: ENET - Done\n",
      "---------------------\n",
      "#------------#\n",
      " Get Error(s) \n",
      "#------------#\n",
      "#-----------------#\n",
      " Get Error(s): END \n",
      "#-----------------#\n",
      "#------------#\n",
      " Get Error(s) \n",
      "#------------#\n"
     ]
    },
    {
     "name": "stderr",
     "output_type": "stream",
     "text": [
      "100%|██████████| 200/200 [00:00<00:00, 4458.33it/s]\n",
      "[Parallel(n_jobs=4)]: Using backend LokyBackend with 4 concurrent workers.\n",
      "[Parallel(n_jobs=4)]: Done   1 tasks      | elapsed:    0.1s\n",
      "[Parallel(n_jobs=4)]: Batch computation too fast (0.1038s.) Setting batch_size=2.\n",
      "[Parallel(n_jobs=4)]: Done   2 out of   4 | elapsed:    0.1s remaining:    0.1s\n"
     ]
    },
    {
     "name": "stdout",
     "output_type": "stream",
     "text": [
      "#-----------------#\n",
      " Get Error(s): END \n",
      "#-----------------#\n",
      "Updated DataFrame\n",
      "                                        DNM  MC-Oracle         ENET\n",
      "W1-95L                             0.144226    0.00000            -\n",
      "W1                                 0.145165    0.00000            -\n",
      "W1-95R                             0.146593    0.00000            -\n",
      "M-95L                              0.302040    0.00000  0.000402043\n",
      "M                                  0.303713    0.00000  0.000435027\n",
      "M-95R                              0.306201    0.00000  0.000472156\n",
      "N_Par                          38400.000000    0.00000         2000\n",
      "Train_Time                        79.831625    7.26793  1.62029e+09\n",
      "Test_Time/MC-Oracle_Test_Time      0.057651    1.00000  0.000118247\n",
      "------------------------------------------------\n",
      "Updated Performance Metrics Dataframe and Saved!\n",
      "------------------------------------------------\n",
      "-----------------\n",
      "Training: K-Ridge\n",
      "-----------------\n",
      "Fitting 2 folds for each of 2 candidates, totalling 4 fits\n"
     ]
    },
    {
     "name": "stderr",
     "output_type": "stream",
     "text": [
      "[Parallel(n_jobs=4)]: Done   4 out of   4 | elapsed:    0.4s remaining:    0.0s\n",
      "[Parallel(n_jobs=4)]: Done   4 out of   4 | elapsed:    0.4s finished\n",
      " 32%|███▏      | 316/1000 [00:00<00:00, 3155.77it/s]"
     ]
    },
    {
     "name": "stdout",
     "output_type": "stream",
     "text": [
      "#------------#\n",
      " Get Error(s) \n",
      "#------------#\n"
     ]
    },
    {
     "name": "stderr",
     "output_type": "stream",
     "text": [
      "100%|██████████| 1000/1000 [00:00<00:00, 4816.56it/s]\n",
      "100%|██████████| 200/200 [00:00<00:00, 4543.13it/s]\n",
      "[Parallel(n_jobs=4)]: Using backend LokyBackend with 4 concurrent workers.\n"
     ]
    },
    {
     "name": "stdout",
     "output_type": "stream",
     "text": [
      "#-----------------#\n",
      " Get Error(s): END \n",
      "#-----------------#\n",
      "#------------#\n",
      " Get Error(s) \n",
      "#------------#\n",
      "#-----------------#\n",
      " Get Error(s): END \n",
      "#-----------------#\n",
      "Updated DataFrame\n",
      "                                        DNM  MC-Oracle         ENET  \\\n",
      "W1-95L                             0.144226    0.00000            -   \n",
      "W1                                 0.145165    0.00000            -   \n",
      "W1-95R                             0.146593    0.00000            -   \n",
      "M-95L                              0.302040    0.00000  0.000402043   \n",
      "M                                  0.303713    0.00000  0.000435027   \n",
      "M-95R                              0.306201    0.00000  0.000472156   \n",
      "N_Par                          38400.000000    0.00000         2000   \n",
      "Train_Time                        79.831625    7.26793  1.62029e+09   \n",
      "Test_Time/MC-Oracle_Test_Time      0.057651    1.00000  0.000118247   \n",
      "\n",
      "                                   KRidge  \n",
      "W1-95L                                  -  \n",
      "W1                                      -  \n",
      "W1-95R                                  -  \n",
      "M-95L                          0.00117684  \n",
      "M                              0.00121641  \n",
      "M-95R                          0.00125197  \n",
      "N_Par                                   0  \n",
      "Train_Time                       0.870487  \n",
      "Test_Time/MC-Oracle_Test_Time   0.0122938  \n",
      "------------------------------------------------\n",
      "Updated Performance Metrics Dataframe and Saved!\n",
      "------------------------------------------------\n",
      "--------------\n",
      "Training: GBRF\n",
      "--------------\n",
      "Fitting 2 folds for each of 1 candidates, totalling 2 fits\n"
     ]
    },
    {
     "name": "stderr",
     "output_type": "stream",
     "text": [
      "[Parallel(n_jobs=4)]: Done   2 out of   2 | elapsed:    0.5s remaining:    0.0s\n",
      "[Parallel(n_jobs=4)]: Done   2 out of   2 | elapsed:    0.5s finished\n",
      "100%|██████████| 1000/1000 [00:00<00:00, 5290.22it/s]\n",
      "  0%|          | 0/200 [00:00<?, ?it/s]"
     ]
    },
    {
     "name": "stdout",
     "output_type": "stream",
     "text": [
      "#------------#\n",
      " Get Error(s) \n",
      "#------------#\n",
      "#-----------------#\n",
      " Get Error(s): END \n",
      "#-----------------#\n",
      "#------------#\n",
      " Get Error(s) \n",
      "#------------#\n"
     ]
    },
    {
     "name": "stderr",
     "output_type": "stream",
     "text": [
      "100%|██████████| 200/200 [00:00<00:00, 4264.52it/s]\n",
      "[Parallel(n_jobs=4)]: Using backend LokyBackend with 4 concurrent workers.\n"
     ]
    },
    {
     "name": "stdout",
     "output_type": "stream",
     "text": [
      "#-----------------#\n",
      " Get Error(s): END \n",
      "#-----------------#\n",
      "Updated DataFrame\n",
      "                                        DNM  MC-Oracle         ENET  \\\n",
      "W1-95L                             0.144226    0.00000            -   \n",
      "W1                                 0.145165    0.00000            -   \n",
      "W1-95R                             0.146593    0.00000            -   \n",
      "M-95L                              0.302040    0.00000  0.000402043   \n",
      "M                                  0.303713    0.00000  0.000435027   \n",
      "M-95R                              0.306201    0.00000  0.000472156   \n",
      "N_Par                          38400.000000    0.00000         2000   \n",
      "Train_Time                        79.831625    7.26793  1.62029e+09   \n",
      "Test_Time/MC-Oracle_Test_Time      0.057651    1.00000  0.000118247   \n",
      "\n",
      "                                   KRidge        GBRF  \n",
      "W1-95L                                  -           -  \n",
      "W1                                      -           -  \n",
      "W1-95R                                  -           -  \n",
      "M-95L                          0.00117684    0.055202  \n",
      "M                              0.00121641   0.0573582  \n",
      "M-95R                          0.00125197   0.0590819  \n",
      "N_Par                                   0       44480  \n",
      "Train_Time                       0.870487     1.28314  \n",
      "Test_Time/MC-Oracle_Test_Time   0.0122938  0.00212793  \n",
      "------------------------------------------------\n",
      "Updated Performance Metrics Dataframe and Saved!\n",
      "------------------------------------------------\n",
      "-------------\n",
      "Training: DNN\n",
      "-------------\n",
      "Fitting 2 folds for each of 1 candidates, totalling 2 fits\n"
     ]
    },
    {
     "name": "stderr",
     "output_type": "stream",
     "text": [
      "[Parallel(n_jobs=4)]: Done   2 out of   2 | elapsed:    3.3s remaining:    0.0s\n",
      "[Parallel(n_jobs=4)]: Done   2 out of   2 | elapsed:    3.3s finished\n"
     ]
    },
    {
     "name": "stdout",
     "output_type": "stream",
     "text": [
      "Epoch 1/2\n",
      "63/63 [==============================] - 0s 1ms/step - loss: 0.9667 - mse: 0.9895 - mae: 0.9667 - mape: 107.6752\n",
      "Epoch 2/2\n",
      "63/63 [==============================] - 0s 938us/step - loss: 0.9649 - mse: 0.9859 - mae: 0.9649 - mape: 107.4590\n",
      "63/63 [==============================] - 0s 613us/step\n",
      "13/13 [==============================] - 0s 701us/step\n"
     ]
    },
    {
     "name": "stderr",
     "output_type": "stream",
     "text": [
      "\r",
      "  0%|          | 0/1000 [00:00<?, ?it/s]"
     ]
    },
    {
     "name": "stdout",
     "output_type": "stream",
     "text": [
      "#------------#\n",
      " Get Error(s) \n",
      "#------------#\n"
     ]
    },
    {
     "name": "stderr",
     "output_type": "stream",
     "text": [
      "100%|██████████| 1000/1000 [00:00<00:00, 4759.44it/s]\n",
      "100%|██████████| 200/200 [00:00<00:00, 4746.59it/s]"
     ]
    },
    {
     "name": "stdout",
     "output_type": "stream",
     "text": [
      "#-----------------#\n",
      " Get Error(s): END \n",
      "#-----------------#\n",
      "#------------#\n",
      " Get Error(s) \n",
      "#------------#\n",
      "#-----------------#\n",
      " Get Error(s): END \n",
      "#-----------------#\n",
      "Updated DataFrame\n",
      "                                        DNM  MC-Oracle         ENET  \\\n",
      "W1-95L                             0.144226    0.00000            -   \n",
      "W1                                 0.145165    0.00000            -   \n",
      "W1-95R                             0.146593    0.00000            -   \n",
      "M-95L                              0.302040    0.00000  0.000402043   \n",
      "M                                  0.303713    0.00000  0.000435027   \n",
      "M-95R                              0.306201    0.00000  0.000472156   \n",
      "N_Par                          38400.000000    0.00000         2000   \n",
      "Train_Time                        79.831625    7.26793  1.62029e+09   \n",
      "Test_Time/MC-Oracle_Test_Time      0.057651    1.00000  0.000118247   \n",
      "\n",
      "                                   KRidge        GBRF       DNN  \n",
      "W1-95L                                  -           -         -  \n",
      "W1                                      -           -         -  \n",
      "W1-95R                                  -           -         -  \n",
      "M-95L                          0.00117684    0.055202    0.9511  \n",
      "M                              0.00121641   0.0573582  0.963947  \n",
      "M-95R                          0.00125197   0.0590819  0.979716  \n",
      "N_Par                                   0       44480       201  \n",
      "Train_Time                       0.870487     1.28314   4.65182  \n",
      "Test_Time/MC-Oracle_Test_Time   0.0122938  0.00212793  0.054856  \n",
      "------------------------------------------------\n",
      "Updated Performance Metrics Dataframe and Saved!\n",
      "------------------------------------------------\n"
     ]
    },
    {
     "name": "stderr",
     "output_type": "stream",
     "text": [
      "\n"
     ]
    }
   ],
   "source": [
    "exec(open('CV_Grid.py').read())\n",
    "# Notebook Mode:\n",
    "# %run Evaluation.ipynb\n",
    "# %run Benchmarks_Model_Builder_Pointmass_Based.ipynb\n",
    "# Terminal Mode (Default):\n",
    "exec(open('Evaluation.py').read())\n",
    "exec(open('Benchmarks_Model_Builder_Pointmass_Based.py').read())"
   ]
  },
  {
   "cell_type": "markdown",
   "metadata": {},
   "source": [
    "# Summary of Point-Mass Regression Models"
   ]
  },
  {
   "cell_type": "markdown",
   "metadata": {},
   "source": [
    "#### Training Model Facts"
   ]
  },
  {
   "cell_type": "code",
   "execution_count": 13,
   "metadata": {},
   "outputs": [
    {
     "name": "stdout",
     "output_type": "stream",
     "text": [
      "                                        DNM  MC-Oracle         ENET  \\\n",
      "W1-95L                             0.144226    0.00000            -   \n",
      "W1                                 0.145165    0.00000            -   \n",
      "W1-95R                             0.146593    0.00000            -   \n",
      "M-95L                              0.302040    0.00000  0.000402043   \n",
      "M                                  0.303713    0.00000  0.000435027   \n",
      "M-95R                              0.306201    0.00000  0.000472156   \n",
      "N_Par                          38400.000000    0.00000         2000   \n",
      "Train_Time                        79.831625    7.26793  1.62029e+09   \n",
      "Test_Time/MC-Oracle_Test_Time      0.057651    1.00000  0.000118247   \n",
      "\n",
      "                                   KRidge        GBRF       DNN  \n",
      "W1-95L                                  -           -         -  \n",
      "W1                                      -           -         -  \n",
      "W1-95R                                  -           -         -  \n",
      "M-95L                          0.00117684    0.055202    0.9511  \n",
      "M                              0.00121641   0.0573582  0.963947  \n",
      "M-95R                          0.00125197   0.0590819  0.979716  \n",
      "N_Par                                   0       44480       201  \n",
      "Train_Time                       0.870487     1.28314   4.65182  \n",
      "Test_Time/MC-Oracle_Test_Time   0.0122938  0.00212793  0.054856  \n"
     ]
    },
    {
     "data": {
      "text/html": [
       "<div>\n",
       "<style scoped>\n",
       "    .dataframe tbody tr th:only-of-type {\n",
       "        vertical-align: middle;\n",
       "    }\n",
       "\n",
       "    .dataframe tbody tr th {\n",
       "        vertical-align: top;\n",
       "    }\n",
       "\n",
       "    .dataframe thead th {\n",
       "        text-align: right;\n",
       "    }\n",
       "</style>\n",
       "<table border=\"1\" class=\"dataframe\">\n",
       "  <thead>\n",
       "    <tr style=\"text-align: right;\">\n",
       "      <th></th>\n",
       "      <th>DNM</th>\n",
       "      <th>MC-Oracle</th>\n",
       "      <th>ENET</th>\n",
       "      <th>KRidge</th>\n",
       "      <th>GBRF</th>\n",
       "      <th>DNN</th>\n",
       "    </tr>\n",
       "  </thead>\n",
       "  <tbody>\n",
       "    <tr>\n",
       "      <th>W1-95L</th>\n",
       "      <td>0.144226</td>\n",
       "      <td>0.00000</td>\n",
       "      <td>-</td>\n",
       "      <td>-</td>\n",
       "      <td>-</td>\n",
       "      <td>-</td>\n",
       "    </tr>\n",
       "    <tr>\n",
       "      <th>W1</th>\n",
       "      <td>0.145165</td>\n",
       "      <td>0.00000</td>\n",
       "      <td>-</td>\n",
       "      <td>-</td>\n",
       "      <td>-</td>\n",
       "      <td>-</td>\n",
       "    </tr>\n",
       "    <tr>\n",
       "      <th>W1-95R</th>\n",
       "      <td>0.146593</td>\n",
       "      <td>0.00000</td>\n",
       "      <td>-</td>\n",
       "      <td>-</td>\n",
       "      <td>-</td>\n",
       "      <td>-</td>\n",
       "    </tr>\n",
       "    <tr>\n",
       "      <th>M-95L</th>\n",
       "      <td>0.302040</td>\n",
       "      <td>0.00000</td>\n",
       "      <td>0.000402043</td>\n",
       "      <td>0.00117684</td>\n",
       "      <td>0.055202</td>\n",
       "      <td>0.9511</td>\n",
       "    </tr>\n",
       "    <tr>\n",
       "      <th>M</th>\n",
       "      <td>0.303713</td>\n",
       "      <td>0.00000</td>\n",
       "      <td>0.000435027</td>\n",
       "      <td>0.00121641</td>\n",
       "      <td>0.0573582</td>\n",
       "      <td>0.963947</td>\n",
       "    </tr>\n",
       "    <tr>\n",
       "      <th>M-95R</th>\n",
       "      <td>0.306201</td>\n",
       "      <td>0.00000</td>\n",
       "      <td>0.000472156</td>\n",
       "      <td>0.00125197</td>\n",
       "      <td>0.0590819</td>\n",
       "      <td>0.979716</td>\n",
       "    </tr>\n",
       "    <tr>\n",
       "      <th>N_Par</th>\n",
       "      <td>38400.000000</td>\n",
       "      <td>0.00000</td>\n",
       "      <td>2000</td>\n",
       "      <td>0</td>\n",
       "      <td>44480</td>\n",
       "      <td>201</td>\n",
       "    </tr>\n",
       "    <tr>\n",
       "      <th>Train_Time</th>\n",
       "      <td>79.831625</td>\n",
       "      <td>7.26793</td>\n",
       "      <td>1.62029e+09</td>\n",
       "      <td>0.870487</td>\n",
       "      <td>1.28314</td>\n",
       "      <td>4.65182</td>\n",
       "    </tr>\n",
       "    <tr>\n",
       "      <th>Test_Time/MC-Oracle_Test_Time</th>\n",
       "      <td>0.057651</td>\n",
       "      <td>1.00000</td>\n",
       "      <td>0.000118247</td>\n",
       "      <td>0.0122938</td>\n",
       "      <td>0.00212793</td>\n",
       "      <td>0.054856</td>\n",
       "    </tr>\n",
       "  </tbody>\n",
       "</table>\n",
       "</div>"
      ],
      "text/plain": [
       "                                        DNM  MC-Oracle         ENET  \\\n",
       "W1-95L                             0.144226    0.00000            -   \n",
       "W1                                 0.145165    0.00000            -   \n",
       "W1-95R                             0.146593    0.00000            -   \n",
       "M-95L                              0.302040    0.00000  0.000402043   \n",
       "M                                  0.303713    0.00000  0.000435027   \n",
       "M-95R                              0.306201    0.00000  0.000472156   \n",
       "N_Par                          38400.000000    0.00000         2000   \n",
       "Train_Time                        79.831625    7.26793  1.62029e+09   \n",
       "Test_Time/MC-Oracle_Test_Time      0.057651    1.00000  0.000118247   \n",
       "\n",
       "                                   KRidge        GBRF       DNN  \n",
       "W1-95L                                  -           -         -  \n",
       "W1                                      -           -         -  \n",
       "W1-95R                                  -           -         -  \n",
       "M-95L                          0.00117684    0.055202    0.9511  \n",
       "M                              0.00121641   0.0573582  0.963947  \n",
       "M-95R                          0.00125197   0.0590819  0.979716  \n",
       "N_Par                                   0       44480       201  \n",
       "Train_Time                       0.870487     1.28314   4.65182  \n",
       "Test_Time/MC-Oracle_Test_Time   0.0122938  0.00212793  0.054856  "
      ]
     },
     "execution_count": 13,
     "metadata": {},
     "output_type": "execute_result"
    }
   ],
   "source": [
    "print(Summary_pred_Qual_models)\n",
    "Summary_pred_Qual_models"
   ]
  },
  {
   "cell_type": "markdown",
   "metadata": {},
   "source": [
    "#### Testing Model Facts"
   ]
  },
  {
   "cell_type": "code",
   "execution_count": 14,
   "metadata": {},
   "outputs": [
    {
     "name": "stdout",
     "output_type": "stream",
     "text": [
      "                                        DNM  MC-Oracle          ENET  \\\n",
      "W1-95L                             0.144226    0.00000  3.499323e-07   \n",
      "W1                                 0.145165    0.00000  3.873962e-07   \n",
      "W1-95R                             0.146593    0.00000  4.401873e-07   \n",
      "M-95L                              0.302040    0.00000  4.020434e-04   \n",
      "M                                  0.303713    0.00000  4.350269e-04   \n",
      "M-95R                              0.306201    0.00000  4.721556e-04   \n",
      "N_Par                          38400.000000    0.00000  2.000000e+03   \n",
      "Train_Time                        79.831625    7.26793  1.620288e+09   \n",
      "Test_Time/MC-Oracle_Test_Time      0.057651    1.00000  1.182471e-04   \n",
      "\n",
      "                                     KRidge          GBRF         DNN  \n",
      "W1-95L                         8.125671e-07      0.003316    0.452976  \n",
      "W1                             9.260337e-07      0.003497    0.455879  \n",
      "W1-95R                         1.072639e-06      0.003677    0.457381  \n",
      "M-95L                          6.920221e-04      0.055202    0.673578  \n",
      "M                              7.446044e-04      0.057358    0.675011  \n",
      "M-95R                          8.092196e-04      0.059082    0.677512  \n",
      "N_Par                          0.000000e+00  44480.000000  201.000000  \n",
      "Train_Time                     8.704867e-01      1.283142    4.651825  \n",
      "Test_Time/MC-Oracle_Test_Time  1.229381e-02      0.002128    0.054856  \n"
     ]
    },
    {
     "data": {
      "text/html": [
       "<div>\n",
       "<style scoped>\n",
       "    .dataframe tbody tr th:only-of-type {\n",
       "        vertical-align: middle;\n",
       "    }\n",
       "\n",
       "    .dataframe tbody tr th {\n",
       "        vertical-align: top;\n",
       "    }\n",
       "\n",
       "    .dataframe thead th {\n",
       "        text-align: right;\n",
       "    }\n",
       "</style>\n",
       "<table border=\"1\" class=\"dataframe\">\n",
       "  <thead>\n",
       "    <tr style=\"text-align: right;\">\n",
       "      <th></th>\n",
       "      <th>DNM</th>\n",
       "      <th>MC-Oracle</th>\n",
       "      <th>ENET</th>\n",
       "      <th>KRidge</th>\n",
       "      <th>GBRF</th>\n",
       "      <th>DNN</th>\n",
       "    </tr>\n",
       "  </thead>\n",
       "  <tbody>\n",
       "    <tr>\n",
       "      <th>W1-95L</th>\n",
       "      <td>0.144226</td>\n",
       "      <td>0.00000</td>\n",
       "      <td>3.499323e-07</td>\n",
       "      <td>8.125671e-07</td>\n",
       "      <td>0.003316</td>\n",
       "      <td>0.452976</td>\n",
       "    </tr>\n",
       "    <tr>\n",
       "      <th>W1</th>\n",
       "      <td>0.145165</td>\n",
       "      <td>0.00000</td>\n",
       "      <td>3.873962e-07</td>\n",
       "      <td>9.260337e-07</td>\n",
       "      <td>0.003497</td>\n",
       "      <td>0.455879</td>\n",
       "    </tr>\n",
       "    <tr>\n",
       "      <th>W1-95R</th>\n",
       "      <td>0.146593</td>\n",
       "      <td>0.00000</td>\n",
       "      <td>4.401873e-07</td>\n",
       "      <td>1.072639e-06</td>\n",
       "      <td>0.003677</td>\n",
       "      <td>0.457381</td>\n",
       "    </tr>\n",
       "    <tr>\n",
       "      <th>M-95L</th>\n",
       "      <td>0.302040</td>\n",
       "      <td>0.00000</td>\n",
       "      <td>4.020434e-04</td>\n",
       "      <td>6.920221e-04</td>\n",
       "      <td>0.055202</td>\n",
       "      <td>0.673578</td>\n",
       "    </tr>\n",
       "    <tr>\n",
       "      <th>M</th>\n",
       "      <td>0.303713</td>\n",
       "      <td>0.00000</td>\n",
       "      <td>4.350269e-04</td>\n",
       "      <td>7.446044e-04</td>\n",
       "      <td>0.057358</td>\n",
       "      <td>0.675011</td>\n",
       "    </tr>\n",
       "    <tr>\n",
       "      <th>M-95R</th>\n",
       "      <td>0.306201</td>\n",
       "      <td>0.00000</td>\n",
       "      <td>4.721556e-04</td>\n",
       "      <td>8.092196e-04</td>\n",
       "      <td>0.059082</td>\n",
       "      <td>0.677512</td>\n",
       "    </tr>\n",
       "    <tr>\n",
       "      <th>N_Par</th>\n",
       "      <td>38400.000000</td>\n",
       "      <td>0.00000</td>\n",
       "      <td>2.000000e+03</td>\n",
       "      <td>0.000000e+00</td>\n",
       "      <td>44480.000000</td>\n",
       "      <td>201.000000</td>\n",
       "    </tr>\n",
       "    <tr>\n",
       "      <th>Train_Time</th>\n",
       "      <td>79.831625</td>\n",
       "      <td>7.26793</td>\n",
       "      <td>1.620288e+09</td>\n",
       "      <td>8.704867e-01</td>\n",
       "      <td>1.283142</td>\n",
       "      <td>4.651825</td>\n",
       "    </tr>\n",
       "    <tr>\n",
       "      <th>Test_Time/MC-Oracle_Test_Time</th>\n",
       "      <td>0.057651</td>\n",
       "      <td>1.00000</td>\n",
       "      <td>1.182471e-04</td>\n",
       "      <td>1.229381e-02</td>\n",
       "      <td>0.002128</td>\n",
       "      <td>0.054856</td>\n",
       "    </tr>\n",
       "  </tbody>\n",
       "</table>\n",
       "</div>"
      ],
      "text/plain": [
       "                                        DNM  MC-Oracle          ENET  \\\n",
       "W1-95L                             0.144226    0.00000  3.499323e-07   \n",
       "W1                                 0.145165    0.00000  3.873962e-07   \n",
       "W1-95R                             0.146593    0.00000  4.401873e-07   \n",
       "M-95L                              0.302040    0.00000  4.020434e-04   \n",
       "M                                  0.303713    0.00000  4.350269e-04   \n",
       "M-95R                              0.306201    0.00000  4.721556e-04   \n",
       "N_Par                          38400.000000    0.00000  2.000000e+03   \n",
       "Train_Time                        79.831625    7.26793  1.620288e+09   \n",
       "Test_Time/MC-Oracle_Test_Time      0.057651    1.00000  1.182471e-04   \n",
       "\n",
       "                                     KRidge          GBRF         DNN  \n",
       "W1-95L                         8.125671e-07      0.003316    0.452976  \n",
       "W1                             9.260337e-07      0.003497    0.455879  \n",
       "W1-95R                         1.072639e-06      0.003677    0.457381  \n",
       "M-95L                          6.920221e-04      0.055202    0.673578  \n",
       "M                              7.446044e-04      0.057358    0.675011  \n",
       "M-95R                          8.092196e-04      0.059082    0.677512  \n",
       "N_Par                          0.000000e+00  44480.000000  201.000000  \n",
       "Train_Time                     8.704867e-01      1.283142    4.651825  \n",
       "Test_Time/MC-Oracle_Test_Time  1.229381e-02      0.002128    0.054856  "
      ]
     },
     "execution_count": 14,
     "metadata": {},
     "output_type": "execute_result"
    }
   ],
   "source": [
    "print(Summary_pred_Qual_models_test)\n",
    "Summary_pred_Qual_models_test"
   ]
  },
  {
   "cell_type": "markdown",
   "metadata": {},
   "source": [
    "## 2) *Gaussian Benchmarks*"
   ]
  },
  {
   "cell_type": "markdown",
   "metadata": {},
   "source": [
    "- Bencharm 1: [Gaussian Process Regressor](https://scikit-learn.org/stable/modules/gaussian_process.html)\n",
    "- Benchmark 2: Deep Gaussian Networks:\n",
    "These models train models which assume Gaussianity.  We may view these as models in $\\mathcal{P}_2(\\mathbb{R})$ via:\n",
    "$$\n",
    "\\mathbb{R}^d \\ni x \\to (\\hat{\\mu}(x),\\hat{\\Sigma}(x)\\hat{\\Sigma}^{\\top})\\triangleq f(x) \\in \\mathbb{R}\\times [0,\\infty) \\to \n",
    "(2\\pi)^{-\\frac{d}{2}}\\det(\\hat{\\Sigma}(x))^{-\\frac{1}{2}} \\, e^{ -\\frac{1}{2}(\\cdot - \\hat{\\mu}(x))^{{{\\!\\mathsf{T}}}} \\hat{\\Sigma}(x)^{-1}(\\cdot - \\hat{\\mu}(x)) } \\mu \\in \\mathcal{G}_d\\subset \\mathcal{P}_2(\\mathbb{R});\n",
    "$$\n",
    "where $\\mathcal{G}_1$ is the set of Gaussian measures on $\\mathbb{R}$ equipped with the relative Wasserstein-1 topology.\n",
    "\n",
    "Examples of this type of architecture are especially prevalent in uncertainty quantification; see ([Deep Ensembles](https://arxiv.org/abs/1612.01474)] or [NOMU: Neural Optimization-based Model Uncertainty](https://arxiv.org/abs/2102.13640).  Moreover, their universality in $C(\\mathbb{R}^d,\\mathcal{G}_2)$ is known, and has been shown in [Corollary 4.7](https://arxiv.org/abs/2101.05390)."
   ]
  },
  {
   "cell_type": "code",
   "execution_count": 15,
   "metadata": {},
   "outputs": [
    {
     "name": "stdout",
     "output_type": "stream",
     "text": [
      "Deep Feature Builder - Ready\n",
      "Fitting 2 folds for each of 2 candidates, totalling 4 fits\n"
     ]
    },
    {
     "name": "stderr",
     "output_type": "stream",
     "text": [
      "[Parallel(n_jobs=4)]: Using backend LokyBackend with 4 concurrent workers.\n",
      "[Parallel(n_jobs=4)]: Done   1 tasks      | elapsed:    5.3s\n",
      "[Parallel(n_jobs=4)]: Done   2 out of   4 | elapsed:    5.4s remaining:    5.4s\n",
      "[Parallel(n_jobs=4)]: Done   4 out of   4 | elapsed:   24.8s remaining:    0.0s\n",
      "[Parallel(n_jobs=4)]: Done   4 out of   4 | elapsed:   24.8s finished\n",
      "  0%|          | 2/1000 [00:00<00:52, 18.89it/s]"
     ]
    },
    {
     "name": "stdout",
     "output_type": "stream",
     "text": [
      "Infering Parameters for Deep Gaussian Network to train on!\n"
     ]
    },
    {
     "name": "stderr",
     "output_type": "stream",
     "text": [
      "100%|██████████| 1000/1000 [00:19<00:00, 51.51it/s]\n",
      "[Parallel(n_jobs=4)]: Using backend LokyBackend with 4 concurrent workers.\n"
     ]
    },
    {
     "name": "stdout",
     "output_type": "stream",
     "text": [
      "Done Getting Parameters for Deep Gaussian Network!\n",
      "===============================\n",
      "Training Deep Gaussian Network!\n",
      "===============================\n",
      "Fitting 2 folds for each of 1 candidates, totalling 2 fits\n"
     ]
    },
    {
     "name": "stderr",
     "output_type": "stream",
     "text": [
      "[Parallel(n_jobs=4)]: Done   2 out of   2 | elapsed:    3.3s remaining:    0.0s\n",
      "[Parallel(n_jobs=4)]: Done   2 out of   2 | elapsed:    3.3s finished\n"
     ]
    },
    {
     "name": "stdout",
     "output_type": "stream",
     "text": [
      "Epoch 1/2\n",
      "63/63 [==============================] - 0s 1ms/step - loss: 0.9519 - mse: 0.9400 - mae: 0.9519 - mape: 1627466.1250\n",
      "Epoch 2/2\n",
      "63/63 [==============================] - 0s 1ms/step - loss: 0.9519 - mse: 0.9397 - mae: 0.9519 - mape: 1622492.3750\n",
      "63/63 [==============================] - 0s 707us/step\n",
      "13/13 [==============================] - 0s 800us/step\n"
     ]
    },
    {
     "name": "stderr",
     "output_type": "stream",
     "text": [
      "\r",
      "  0%|          | 0/1000 [00:00<?, ?it/s]"
     ]
    },
    {
     "name": "stdout",
     "output_type": "stream",
     "text": [
      "====================================\n",
      "Training Deep Gaussian Network!: END\n",
      "====================================\n",
      "#---------------------------------------#\n",
      " Get Training Errors for: Gaussian Models\n",
      "#---------------------------------------#\n"
     ]
    },
    {
     "name": "stderr",
     "output_type": "stream",
     "text": [
      "100%|██████████| 1000/1000 [00:00<00:00, 2364.05it/s]\n",
      "100%|██████████| 200/200 [00:00<00:00, 2623.79it/s]"
     ]
    },
    {
     "name": "stdout",
     "output_type": "stream",
     "text": [
      "#-------------------------#\n",
      " Get Training Error(s): END\n",
      "#-------------------------#\n",
      "#--------------------------------------#\n",
      " Get Testing Errors for: Gaussian Models\n",
      "#--------------------------------------#\n",
      "#-------------------------#\n",
      " Get Training Error(s): END\n",
      "#-------------------------#\n",
      "-------------------------------------------------\n",
      "Updating Performance Metrics Dataframe and Saved!\n",
      "-------------------------------------------------\n",
      "                                        DNM  MC-Oracle         ENET  \\\n",
      "W1-95L                             0.144226    0.00000            -   \n",
      "W1                                 0.145165    0.00000            -   \n",
      "W1-95R                             0.146593    0.00000            -   \n",
      "M-95L                              0.302040    0.00000  0.000402043   \n",
      "M                                  0.303713    0.00000  0.000435027   \n",
      "M-95R                              0.306201    0.00000  0.000472156   \n",
      "N_Par                          38400.000000    0.00000         2000   \n",
      "Train_Time                        79.831625    7.26793  1.62029e+09   \n",
      "Test_Time/MC-Oracle_Test_Time      0.057651    1.00000  0.000118247   \n",
      "\n",
      "                                   KRidge        GBRF       DNN         GPR  \\\n",
      "W1-95L                                  -           -         -    0.000005   \n",
      "W1                                      -           -         -    0.000006   \n",
      "W1-95R                                  -           -         -    0.000007   \n",
      "M-95L                          0.00117684    0.055202    0.9511    0.000183   \n",
      "M                              0.00121641   0.0573582  0.963947    0.000196   \n",
      "M-95R                          0.00125197   0.0590819  0.979716    0.000206   \n",
      "N_Par                                   0       44480       201    0.000000   \n",
      "Train_Time                       0.870487     1.28314   4.65182  131.743213   \n",
      "Test_Time/MC-Oracle_Test_Time   0.0122938  0.00212793  0.054856    0.043612   \n",
      "\n",
      "                                      DGN  \n",
      "W1-95L                           1.840549  \n",
      "W1                               1.868975  \n",
      "W1-95R                           1.896604  \n",
      "M-95L                            0.871865  \n",
      "M                                0.887029  \n",
      "M-95R                            0.901342  \n",
      "N_Par                          201.000000  \n",
      "Train_Time                       4.506917  \n",
      "Test_Time/MC-Oracle_Test_Time    0.077560  \n",
      "------------------------------------------------\n",
      "Updated Performance Metrics Dataframe and Saved!\n",
      "------------------------------------------------\n"
     ]
    },
    {
     "name": "stderr",
     "output_type": "stream",
     "text": [
      "\n"
     ]
    }
   ],
   "source": [
    "# %run Benchmarks_Model_Builder_Mean_Var.ipynb\n",
    "exec(open('Benchmarks_Model_Builder_Mean_Var.py').read())"
   ]
  },
  {
   "cell_type": "code",
   "execution_count": 16,
   "metadata": {},
   "outputs": [
    {
     "name": "stdout",
     "output_type": "stream",
     "text": [
      "Prediction Quality (Updated): Test\n",
      "                                        DNM  MC-Oracle          ENET  \\\n",
      "W1-95L                             0.144226    0.00000  3.499323e-07   \n",
      "W1                                 0.145165    0.00000  3.873962e-07   \n",
      "W1-95R                             0.146593    0.00000  4.401873e-07   \n",
      "M-95L                              0.302040    0.00000  4.020434e-04   \n",
      "M                                  0.303713    0.00000  4.350269e-04   \n",
      "M-95R                              0.306201    0.00000  4.721556e-04   \n",
      "N_Par                          38400.000000    0.00000  2.000000e+03   \n",
      "Train_Time                        79.831625    7.26793  1.620288e+09   \n",
      "Test_Time/MC-Oracle_Test_Time      0.057651    1.00000  1.182471e-04   \n",
      "\n",
      "                                     KRidge          GBRF         DNN  \\\n",
      "W1-95L                         8.125671e-07      0.003316    0.452976   \n",
      "W1                             9.260337e-07      0.003497    0.455879   \n",
      "W1-95R                         1.072639e-06      0.003677    0.457381   \n",
      "M-95L                          6.920221e-04      0.055202    0.673578   \n",
      "M                              7.446044e-04      0.057358    0.675011   \n",
      "M-95R                          8.092196e-04      0.059082    0.677512   \n",
      "N_Par                          0.000000e+00  44480.000000  201.000000   \n",
      "Train_Time                     8.704867e-01      1.283142    4.651825   \n",
      "Test_Time/MC-Oracle_Test_Time  1.229381e-02      0.002128    0.054856   \n",
      "\n",
      "                                        GPR         DGN  \n",
      "W1-95L                         2.139995e-07    1.337576  \n",
      "W1                             3.988966e-07    1.364933  \n",
      "W1-95R                         7.455484e-07    1.387426  \n",
      "M-95L                          1.825193e-04    0.586410  \n",
      "M                              1.961883e-04    0.588738  \n",
      "M-95R                          2.057335e-04    0.590694  \n",
      "N_Par                          0.000000e+00  201.000000  \n",
      "Train_Time                     1.317432e+02    4.506917  \n",
      "Test_Time/MC-Oracle_Test_Time  4.361221e-02    0.077560  \n"
     ]
    },
    {
     "data": {
      "text/html": [
       "<div>\n",
       "<style scoped>\n",
       "    .dataframe tbody tr th:only-of-type {\n",
       "        vertical-align: middle;\n",
       "    }\n",
       "\n",
       "    .dataframe tbody tr th {\n",
       "        vertical-align: top;\n",
       "    }\n",
       "\n",
       "    .dataframe thead th {\n",
       "        text-align: right;\n",
       "    }\n",
       "</style>\n",
       "<table border=\"1\" class=\"dataframe\">\n",
       "  <thead>\n",
       "    <tr style=\"text-align: right;\">\n",
       "      <th></th>\n",
       "      <th>DNM</th>\n",
       "      <th>MC-Oracle</th>\n",
       "      <th>ENET</th>\n",
       "      <th>KRidge</th>\n",
       "      <th>GBRF</th>\n",
       "      <th>DNN</th>\n",
       "      <th>GPR</th>\n",
       "      <th>DGN</th>\n",
       "    </tr>\n",
       "  </thead>\n",
       "  <tbody>\n",
       "    <tr>\n",
       "      <th>W1-95L</th>\n",
       "      <td>0.144226</td>\n",
       "      <td>0.00000</td>\n",
       "      <td>3.499323e-07</td>\n",
       "      <td>8.125671e-07</td>\n",
       "      <td>0.003316</td>\n",
       "      <td>0.452976</td>\n",
       "      <td>2.139995e-07</td>\n",
       "      <td>1.337576</td>\n",
       "    </tr>\n",
       "    <tr>\n",
       "      <th>W1</th>\n",
       "      <td>0.145165</td>\n",
       "      <td>0.00000</td>\n",
       "      <td>3.873962e-07</td>\n",
       "      <td>9.260337e-07</td>\n",
       "      <td>0.003497</td>\n",
       "      <td>0.455879</td>\n",
       "      <td>3.988966e-07</td>\n",
       "      <td>1.364933</td>\n",
       "    </tr>\n",
       "    <tr>\n",
       "      <th>W1-95R</th>\n",
       "      <td>0.146593</td>\n",
       "      <td>0.00000</td>\n",
       "      <td>4.401873e-07</td>\n",
       "      <td>1.072639e-06</td>\n",
       "      <td>0.003677</td>\n",
       "      <td>0.457381</td>\n",
       "      <td>7.455484e-07</td>\n",
       "      <td>1.387426</td>\n",
       "    </tr>\n",
       "    <tr>\n",
       "      <th>M-95L</th>\n",
       "      <td>0.302040</td>\n",
       "      <td>0.00000</td>\n",
       "      <td>4.020434e-04</td>\n",
       "      <td>6.920221e-04</td>\n",
       "      <td>0.055202</td>\n",
       "      <td>0.673578</td>\n",
       "      <td>1.825193e-04</td>\n",
       "      <td>0.586410</td>\n",
       "    </tr>\n",
       "    <tr>\n",
       "      <th>M</th>\n",
       "      <td>0.303713</td>\n",
       "      <td>0.00000</td>\n",
       "      <td>4.350269e-04</td>\n",
       "      <td>7.446044e-04</td>\n",
       "      <td>0.057358</td>\n",
       "      <td>0.675011</td>\n",
       "      <td>1.961883e-04</td>\n",
       "      <td>0.588738</td>\n",
       "    </tr>\n",
       "    <tr>\n",
       "      <th>M-95R</th>\n",
       "      <td>0.306201</td>\n",
       "      <td>0.00000</td>\n",
       "      <td>4.721556e-04</td>\n",
       "      <td>8.092196e-04</td>\n",
       "      <td>0.059082</td>\n",
       "      <td>0.677512</td>\n",
       "      <td>2.057335e-04</td>\n",
       "      <td>0.590694</td>\n",
       "    </tr>\n",
       "    <tr>\n",
       "      <th>N_Par</th>\n",
       "      <td>38400.000000</td>\n",
       "      <td>0.00000</td>\n",
       "      <td>2.000000e+03</td>\n",
       "      <td>0.000000e+00</td>\n",
       "      <td>44480.000000</td>\n",
       "      <td>201.000000</td>\n",
       "      <td>0.000000e+00</td>\n",
       "      <td>201.000000</td>\n",
       "    </tr>\n",
       "    <tr>\n",
       "      <th>Train_Time</th>\n",
       "      <td>79.831625</td>\n",
       "      <td>7.26793</td>\n",
       "      <td>1.620288e+09</td>\n",
       "      <td>8.704867e-01</td>\n",
       "      <td>1.283142</td>\n",
       "      <td>4.651825</td>\n",
       "      <td>1.317432e+02</td>\n",
       "      <td>4.506917</td>\n",
       "    </tr>\n",
       "    <tr>\n",
       "      <th>Test_Time/MC-Oracle_Test_Time</th>\n",
       "      <td>0.057651</td>\n",
       "      <td>1.00000</td>\n",
       "      <td>1.182471e-04</td>\n",
       "      <td>1.229381e-02</td>\n",
       "      <td>0.002128</td>\n",
       "      <td>0.054856</td>\n",
       "      <td>4.361221e-02</td>\n",
       "      <td>0.077560</td>\n",
       "    </tr>\n",
       "  </tbody>\n",
       "</table>\n",
       "</div>"
      ],
      "text/plain": [
       "                                        DNM  MC-Oracle          ENET  \\\n",
       "W1-95L                             0.144226    0.00000  3.499323e-07   \n",
       "W1                                 0.145165    0.00000  3.873962e-07   \n",
       "W1-95R                             0.146593    0.00000  4.401873e-07   \n",
       "M-95L                              0.302040    0.00000  4.020434e-04   \n",
       "M                                  0.303713    0.00000  4.350269e-04   \n",
       "M-95R                              0.306201    0.00000  4.721556e-04   \n",
       "N_Par                          38400.000000    0.00000  2.000000e+03   \n",
       "Train_Time                        79.831625    7.26793  1.620288e+09   \n",
       "Test_Time/MC-Oracle_Test_Time      0.057651    1.00000  1.182471e-04   \n",
       "\n",
       "                                     KRidge          GBRF         DNN  \\\n",
       "W1-95L                         8.125671e-07      0.003316    0.452976   \n",
       "W1                             9.260337e-07      0.003497    0.455879   \n",
       "W1-95R                         1.072639e-06      0.003677    0.457381   \n",
       "M-95L                          6.920221e-04      0.055202    0.673578   \n",
       "M                              7.446044e-04      0.057358    0.675011   \n",
       "M-95R                          8.092196e-04      0.059082    0.677512   \n",
       "N_Par                          0.000000e+00  44480.000000  201.000000   \n",
       "Train_Time                     8.704867e-01      1.283142    4.651825   \n",
       "Test_Time/MC-Oracle_Test_Time  1.229381e-02      0.002128    0.054856   \n",
       "\n",
       "                                        GPR         DGN  \n",
       "W1-95L                         2.139995e-07    1.337576  \n",
       "W1                             3.988966e-07    1.364933  \n",
       "W1-95R                         7.455484e-07    1.387426  \n",
       "M-95L                          1.825193e-04    0.586410  \n",
       "M                              1.961883e-04    0.588738  \n",
       "M-95R                          2.057335e-04    0.590694  \n",
       "N_Par                          0.000000e+00  201.000000  \n",
       "Train_Time                     1.317432e+02    4.506917  \n",
       "Test_Time/MC-Oracle_Test_Time  4.361221e-02    0.077560  "
      ]
     },
     "execution_count": 16,
     "metadata": {},
     "output_type": "execute_result"
    }
   ],
   "source": [
    "print(\"Prediction Quality (Updated): Test\")\n",
    "print(Summary_pred_Qual_models_test)\n",
    "Summary_pred_Qual_models_test"
   ]
  },
  {
   "cell_type": "code",
   "execution_count": 17,
   "metadata": {},
   "outputs": [
    {
     "name": "stdout",
     "output_type": "stream",
     "text": [
      "Prediction Quality (Updated): Train\n",
      "                                        DNM  MC-Oracle         ENET  \\\n",
      "W1-95L                             0.144226    0.00000            -   \n",
      "W1                                 0.145165    0.00000            -   \n",
      "W1-95R                             0.146593    0.00000            -   \n",
      "M-95L                              0.302040    0.00000  0.000402043   \n",
      "M                                  0.303713    0.00000  0.000435027   \n",
      "M-95R                              0.306201    0.00000  0.000472156   \n",
      "N_Par                          38400.000000    0.00000         2000   \n",
      "Train_Time                        79.831625    7.26793  1.62029e+09   \n",
      "Test_Time/MC-Oracle_Test_Time      0.057651    1.00000  0.000118247   \n",
      "\n",
      "                                   KRidge        GBRF       DNN         GPR  \\\n",
      "W1-95L                                  -           -         -    0.000005   \n",
      "W1                                      -           -         -    0.000006   \n",
      "W1-95R                                  -           -         -    0.000007   \n",
      "M-95L                          0.00117684    0.055202    0.9511    0.000183   \n",
      "M                              0.00121641   0.0573582  0.963947    0.000196   \n",
      "M-95R                          0.00125197   0.0590819  0.979716    0.000206   \n",
      "N_Par                                   0       44480       201    0.000000   \n",
      "Train_Time                       0.870487     1.28314   4.65182  131.743213   \n",
      "Test_Time/MC-Oracle_Test_Time   0.0122938  0.00212793  0.054856    0.043612   \n",
      "\n",
      "                                      DGN  \n",
      "W1-95L                           1.840549  \n",
      "W1                               1.868975  \n",
      "W1-95R                           1.896604  \n",
      "M-95L                            0.871865  \n",
      "M                                0.887029  \n",
      "M-95R                            0.901342  \n",
      "N_Par                          201.000000  \n",
      "Train_Time                       4.506917  \n",
      "Test_Time/MC-Oracle_Test_Time    0.077560  \n"
     ]
    },
    {
     "data": {
      "text/html": [
       "<div>\n",
       "<style scoped>\n",
       "    .dataframe tbody tr th:only-of-type {\n",
       "        vertical-align: middle;\n",
       "    }\n",
       "\n",
       "    .dataframe tbody tr th {\n",
       "        vertical-align: top;\n",
       "    }\n",
       "\n",
       "    .dataframe thead th {\n",
       "        text-align: right;\n",
       "    }\n",
       "</style>\n",
       "<table border=\"1\" class=\"dataframe\">\n",
       "  <thead>\n",
       "    <tr style=\"text-align: right;\">\n",
       "      <th></th>\n",
       "      <th>DNM</th>\n",
       "      <th>MC-Oracle</th>\n",
       "      <th>ENET</th>\n",
       "      <th>KRidge</th>\n",
       "      <th>GBRF</th>\n",
       "      <th>DNN</th>\n",
       "      <th>GPR</th>\n",
       "      <th>DGN</th>\n",
       "    </tr>\n",
       "  </thead>\n",
       "  <tbody>\n",
       "    <tr>\n",
       "      <th>W1-95L</th>\n",
       "      <td>0.144226</td>\n",
       "      <td>0.00000</td>\n",
       "      <td>-</td>\n",
       "      <td>-</td>\n",
       "      <td>-</td>\n",
       "      <td>-</td>\n",
       "      <td>0.000005</td>\n",
       "      <td>1.840549</td>\n",
       "    </tr>\n",
       "    <tr>\n",
       "      <th>W1</th>\n",
       "      <td>0.145165</td>\n",
       "      <td>0.00000</td>\n",
       "      <td>-</td>\n",
       "      <td>-</td>\n",
       "      <td>-</td>\n",
       "      <td>-</td>\n",
       "      <td>0.000006</td>\n",
       "      <td>1.868975</td>\n",
       "    </tr>\n",
       "    <tr>\n",
       "      <th>W1-95R</th>\n",
       "      <td>0.146593</td>\n",
       "      <td>0.00000</td>\n",
       "      <td>-</td>\n",
       "      <td>-</td>\n",
       "      <td>-</td>\n",
       "      <td>-</td>\n",
       "      <td>0.000007</td>\n",
       "      <td>1.896604</td>\n",
       "    </tr>\n",
       "    <tr>\n",
       "      <th>M-95L</th>\n",
       "      <td>0.302040</td>\n",
       "      <td>0.00000</td>\n",
       "      <td>0.000402043</td>\n",
       "      <td>0.00117684</td>\n",
       "      <td>0.055202</td>\n",
       "      <td>0.9511</td>\n",
       "      <td>0.000183</td>\n",
       "      <td>0.871865</td>\n",
       "    </tr>\n",
       "    <tr>\n",
       "      <th>M</th>\n",
       "      <td>0.303713</td>\n",
       "      <td>0.00000</td>\n",
       "      <td>0.000435027</td>\n",
       "      <td>0.00121641</td>\n",
       "      <td>0.0573582</td>\n",
       "      <td>0.963947</td>\n",
       "      <td>0.000196</td>\n",
       "      <td>0.887029</td>\n",
       "    </tr>\n",
       "    <tr>\n",
       "      <th>M-95R</th>\n",
       "      <td>0.306201</td>\n",
       "      <td>0.00000</td>\n",
       "      <td>0.000472156</td>\n",
       "      <td>0.00125197</td>\n",
       "      <td>0.0590819</td>\n",
       "      <td>0.979716</td>\n",
       "      <td>0.000206</td>\n",
       "      <td>0.901342</td>\n",
       "    </tr>\n",
       "    <tr>\n",
       "      <th>N_Par</th>\n",
       "      <td>38400.000000</td>\n",
       "      <td>0.00000</td>\n",
       "      <td>2000</td>\n",
       "      <td>0</td>\n",
       "      <td>44480</td>\n",
       "      <td>201</td>\n",
       "      <td>0.000000</td>\n",
       "      <td>201.000000</td>\n",
       "    </tr>\n",
       "    <tr>\n",
       "      <th>Train_Time</th>\n",
       "      <td>79.831625</td>\n",
       "      <td>7.26793</td>\n",
       "      <td>1.62029e+09</td>\n",
       "      <td>0.870487</td>\n",
       "      <td>1.28314</td>\n",
       "      <td>4.65182</td>\n",
       "      <td>131.743213</td>\n",
       "      <td>4.506917</td>\n",
       "    </tr>\n",
       "    <tr>\n",
       "      <th>Test_Time/MC-Oracle_Test_Time</th>\n",
       "      <td>0.057651</td>\n",
       "      <td>1.00000</td>\n",
       "      <td>0.000118247</td>\n",
       "      <td>0.0122938</td>\n",
       "      <td>0.00212793</td>\n",
       "      <td>0.054856</td>\n",
       "      <td>0.043612</td>\n",
       "      <td>0.077560</td>\n",
       "    </tr>\n",
       "  </tbody>\n",
       "</table>\n",
       "</div>"
      ],
      "text/plain": [
       "                                        DNM  MC-Oracle         ENET  \\\n",
       "W1-95L                             0.144226    0.00000            -   \n",
       "W1                                 0.145165    0.00000            -   \n",
       "W1-95R                             0.146593    0.00000            -   \n",
       "M-95L                              0.302040    0.00000  0.000402043   \n",
       "M                                  0.303713    0.00000  0.000435027   \n",
       "M-95R                              0.306201    0.00000  0.000472156   \n",
       "N_Par                          38400.000000    0.00000         2000   \n",
       "Train_Time                        79.831625    7.26793  1.62029e+09   \n",
       "Test_Time/MC-Oracle_Test_Time      0.057651    1.00000  0.000118247   \n",
       "\n",
       "                                   KRidge        GBRF       DNN         GPR  \\\n",
       "W1-95L                                  -           -         -    0.000005   \n",
       "W1                                      -           -         -    0.000006   \n",
       "W1-95R                                  -           -         -    0.000007   \n",
       "M-95L                          0.00117684    0.055202    0.9511    0.000183   \n",
       "M                              0.00121641   0.0573582  0.963947    0.000196   \n",
       "M-95R                          0.00125197   0.0590819  0.979716    0.000206   \n",
       "N_Par                                   0       44480       201    0.000000   \n",
       "Train_Time                       0.870487     1.28314   4.65182  131.743213   \n",
       "Test_Time/MC-Oracle_Test_Time   0.0122938  0.00212793  0.054856    0.043612   \n",
       "\n",
       "                                      DGN  \n",
       "W1-95L                           1.840549  \n",
       "W1                               1.868975  \n",
       "W1-95R                           1.896604  \n",
       "M-95L                            0.871865  \n",
       "M                                0.887029  \n",
       "M-95R                            0.901342  \n",
       "N_Par                          201.000000  \n",
       "Train_Time                       4.506917  \n",
       "Test_Time/MC-Oracle_Test_Time    0.077560  "
      ]
     },
     "execution_count": 17,
     "metadata": {},
     "output_type": "execute_result"
    }
   ],
   "source": [
    "print(\"Prediction Quality (Updated): Train\")\n",
    "print(Summary_pred_Qual_models)\n",
    "Summary_pred_Qual_models"
   ]
  },
  {
   "cell_type": "markdown",
   "metadata": {},
   "source": [
    "# 3) The natural Universal Benchmark: [Bishop's Mixture Density Network](https://publications.aston.ac.uk/id/eprint/373/1/NCRG_94_004.pdf)\n",
    "\n",
    "This implementation is as follows:\n",
    "- For every $x$ in the trainingdata-set we fit a GMM $\\hat{\\nu}_x$, using the [Expectation-Maximization (EM) algorithm](https://en.wikipedia.org/wiki/Expectation%E2%80%93maximization_algorithm), with the same number of centers as the deep neural model in $\\mathcal{NN}_{1_{\\mathbb{R}^d},\\mathcal{D}}^{\\sigma:\\star}$ which we are evaluating.  \n",
    "- A Mixture density network is then trained to predict the infered parameters; given any $x \\in \\mathbb{R}^d$."
   ]
  },
  {
   "cell_type": "code",
   "execution_count": null,
   "metadata": {},
   "outputs": [
    {
     "name": "stderr",
     "output_type": "stream",
     "text": [
      "\r",
      "  0%|          | 0/1000 [00:00<?, ?it/s]"
     ]
    },
    {
     "name": "stdout",
     "output_type": "stream",
     "text": [
      "======================================================\n",
      "Preparing Training Outputs for MDNs using EM-Algorithm\n",
      "======================================================\n"
     ]
    },
    {
     "name": "stderr",
     "output_type": "stream",
     "text": [
      " 20%|█▉        | 196/1000 [00:23<01:36,  8.31it/s]"
     ]
    }
   ],
   "source": [
    "if output_dim == 1:\n",
    "    # %run Mixture_Density_Network.ipynb\n",
    "    exec(open('Mixture_Density_Network.py').read())"
   ]
  },
  {
   "cell_type": "markdown",
   "metadata": {},
   "source": [
    "## Get Final Outputs\n",
    "Now we piece together all the numerical experiments and report a nice summary."
   ]
  },
  {
   "cell_type": "markdown",
   "metadata": {},
   "source": [
    "---\n",
    "# Final Results\n",
    "---"
   ]
  },
  {
   "cell_type": "markdown",
   "metadata": {},
   "source": [
    "## Prasing Quality Metric Results"
   ]
  },
  {
   "cell_type": "markdown",
   "metadata": {},
   "source": [
    "#### Finalizing Saving\n",
    "**Note:** *We do it in two steps since the grid sometimes does not want to write nicely...*"
   ]
  },
  {
   "cell_type": "code",
   "execution_count": null,
   "metadata": {},
   "outputs": [],
   "source": [
    "## Write Performance Metrics\n",
    "### Incase caption breaks\n",
    "Summary_pred_Qual_models.to_latex((results_tables_path+\"/Final_Results/\"+\"Performance_metrics_Problem_Type_\"+str(f_unknown_mode)+\"Problemdimension\"+str(problem_dim)+\"__SUMMARY_METRICS.tex\"),\n",
    "                                 float_format=\"{:0.3g}\".format)\n",
    "text_file = open((results_tables_path+\"/Final_Results/\"+\"ZZZ_CAPTION_Performance_metrics_Problem_Type_\"+str(f_unknown_mode)+\"Problemdimension\"+str(problem_dim)+\"__SUMMARY_METRICS___CAPTION.tex\"), \"w\")\n",
    "text_file.write(\"Quality Metrics; d:\"+str(problem_dim)+\", D:\"+str(output_dim)+\", Depth:\"+str(Depth_Bayesian_DNN)+\", Width:\"+str(width)+\", Dropout rate:\"+str(Dropout_rate)+\".\")\n",
    "text_file.close()\n",
    "\n",
    "\n",
    "### Incase caption does not break\n",
    "Summary_pred_Qual_models.to_latex((results_tables_path+\"/Final_Results/\"+\"Performance_metrics_Problem_Type_\"+str(f_unknown_mode)+\"Problemdimension\"+str(problem_dim)+\"__SUMMARY_METRICS.tex\"),\n",
    "                                 caption=(\"Quality Metrics; d:\"+str(problem_dim)+\", D:\"+str(output_dim)+\", Depth:\"+str(Depth_Bayesian_DNN)+\", Width:\"+str(width)+\", Dropout rate:\"+str(Dropout_rate)+\".\"),\n",
    "                                 float_format=\"{:0.3g}\".format)"
   ]
  },
  {
   "cell_type": "markdown",
   "metadata": {},
   "source": [
    "# For Terminal Runner(s):"
   ]
  },
  {
   "cell_type": "code",
   "execution_count": null,
   "metadata": {},
   "outputs": [],
   "source": [
    "# For Terminal Running\n",
    "print(\"===================\")\n",
    "print(\"Predictive Quality:\")\n",
    "print(\"===================\")\n",
    "print(Summary_pred_Qual_models)\n",
    "print(\"===================\")\n",
    "print(\" \")\n",
    "print(\" \")\n",
    "print(\" \")\n",
    "print(\"Kernel_Used_in_GPR: \"+str(GPR_trash.kernel))\n",
    "print(\"🙃🙃 Have a wonderful day! 🙃🙃\")\n",
    "Summary_pred_Qual_models"
   ]
  },
  {
   "cell_type": "markdown",
   "metadata": {},
   "source": [
    "---\n",
    "# Fin\n",
    "---"
   ]
  },
  {
   "cell_type": "markdown",
   "metadata": {},
   "source": [
    "---"
   ]
  }
 ],
 "metadata": {
  "kernelspec": {
   "display_name": "Python 3",
   "language": "python",
   "name": "python3"
  },
  "language_info": {
   "codemirror_mode": {
    "name": "ipython",
    "version": 3
   },
   "file_extension": ".py",
   "mimetype": "text/x-python",
   "name": "python",
   "nbconvert_exporter": "python",
   "pygments_lexer": "ipython3",
   "version": "3.7.7"
  }
 },
 "nbformat": 4,
 "nbformat_minor": 2
}
