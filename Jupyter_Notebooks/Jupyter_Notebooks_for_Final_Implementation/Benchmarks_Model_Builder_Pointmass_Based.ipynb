{
 "cells": [
  {
   "cell_type": "markdown",
   "metadata": {},
   "source": [
    "# Define Model(s)"
   ]
  },
  {
   "cell_type": "markdown",
   "metadata": {},
   "source": [
    "---"
   ]
  },
  {
   "cell_type": "code",
   "execution_count": 4,
   "metadata": {},
   "outputs": [],
   "source": [
    "# %run Debug_Menu.ipynb"
   ]
  },
  {
   "cell_type": "markdown",
   "metadata": {},
   "source": [
    "## Elastic Net Regressor"
   ]
  },
  {
   "cell_type": "code",
   "execution_count": 5,
   "metadata": {},
   "outputs": [],
   "source": [
    "#=====================#\n",
    "# Elastic Net Version #\n",
    "#=====================#\n",
    "# Block warnings that spam when performing coordinate descent (by default) in 1-d.\n",
    "import warnings\n",
    "from sklearn.linear_model import ElasticNetCV\n",
    "warnings.filterwarnings(\"ignore\")\n",
    "# Initialize Elastic Net Regularization Model\n",
    "ENET_reg = ElasticNetCV(cv=5, random_state=0, alphas = np.linspace(0,(10**2),(10**2)),\n",
    "                           l1_ratio=np.linspace(0,1,(10**2)))"
   ]
  },
  {
   "cell_type": "markdown",
   "metadata": {},
   "source": [
    "## ffNN Builder"
   ]
  },
  {
   "cell_type": "code",
   "execution_count": 6,
   "metadata": {},
   "outputs": [
    {
     "name": "stdout",
     "output_type": "stream",
     "text": [
      "Deep Feature Builder - Ready\n"
     ]
    }
   ],
   "source": [
    "def get_ffNN(height, depth, learning_rate, input_dim, output_dim):\n",
    "    #----------------------------#\n",
    "    # Maximally Interacting Layer #\n",
    "    #-----------------------------#\n",
    "    # Initialize Inputs\n",
    "    input_layer = tf.keras.Input(shape=(input_dim,))\n",
    "   \n",
    "    \n",
    "    #------------------#\n",
    "    #   Core Layers    #\n",
    "    #------------------#\n",
    "    core_layers = fullyConnected_Dense(height)(input_layer)\n",
    "    # Activation\n",
    "    core_layers = tf.nn.swish(core_layers)\n",
    "    # Train additional Depth?\n",
    "    if depth>1:\n",
    "        # Add additional deep layer(s)\n",
    "        for depth_i in range(1,depth):\n",
    "            core_layers = fullyConnected_Dense(height)(core_layers)\n",
    "            # Activation\n",
    "            core_layers = tf.nn.swish(core_layers)\n",
    "    \n",
    "    #------------------#\n",
    "    #  Readout Layers  #\n",
    "    #------------------# \n",
    "    # Affine (Readout) Layer (Dense Fully Connected)\n",
    "    output_layers = fullyConnected_Dense(output_dim)(core_layers)  \n",
    "    # Define Input/Output Relationship (Arch.)\n",
    "    trainable_layers_model = tf.keras.Model(input_layer, output_layers)\n",
    "    \n",
    "    \n",
    "    #----------------------------------#\n",
    "    # Define Optimizer & Compile Archs.\n",
    "    #----------------------------------#\n",
    "    opt = Adam(lr=learning_rate)\n",
    "    trainable_layers_model.compile(optimizer=opt, loss=\"mae\", metrics=[\"mse\", \"mae\", \"mape\"])\n",
    "\n",
    "    return trainable_layers_model\n",
    "\n",
    "\n",
    "\n",
    "def build_ffNN(n_folds , n_jobs, n_iter, param_grid_in, X_train, y_train,X_test):\n",
    "    # Update Dictionary\n",
    "    param_grid_in_internal = param_grid_in\n",
    "    param_grid_in_internal['input_dim'] = [(X_train.shape[1])]\n",
    "    \n",
    "    # Deep Feature Network\n",
    "    ffNN_CV = tf.keras.wrappers.scikit_learn.KerasRegressor(build_fn=get_ffNN, \n",
    "                                                            verbose=True)\n",
    "    \n",
    "    # Randomized CV\n",
    "    ffNN_CVer = RandomizedSearchCV(estimator=ffNN_CV, \n",
    "                                    n_jobs=n_jobs,\n",
    "                                    cv=KFold(n_folds, random_state=2020, shuffle=True),\n",
    "                                    param_distributions=param_grid_in_internal,\n",
    "                                    n_iter=n_iter,\n",
    "                                    return_train_score=True,\n",
    "                                    random_state=2020,\n",
    "                                    verbose=10)\n",
    "    \n",
    "    # Fit Model #\n",
    "    #-----------#\n",
    "    ffNN_CVer.fit(X_train,y_train)\n",
    "\n",
    "    # Write Predictions #\n",
    "    #-------------------#\n",
    "    y_hat_train = ffNN_CVer.predict(X_train)\n",
    "    \n",
    "    eval_time_ffNN = time.time()\n",
    "    y_hat_test = ffNN_CVer.predict(X_test)\n",
    "    eval_time_ffNN = time.time() - eval_time_ffNN\n",
    "    \n",
    "    # Counter number of parameters #\n",
    "    #------------------------------#\n",
    "    # Extract Best Model\n",
    "    best_model = ffNN_CVer.best_estimator_\n",
    "    # Count Number of Parameters\n",
    "    N_params_best_ffNN = np.sum([np.prod(v.get_shape().as_list()) for v in best_model.model.trainable_variables])\n",
    "    \n",
    "    \n",
    "    # Return Values #\n",
    "    #---------------#\n",
    "    return y_hat_train, y_hat_test, N_params_best_ffNN, eval_time_ffNN\n",
    "\n",
    "# Update User\n",
    "#-------------#\n",
    "print('Deep Feature Builder - Ready')\n"
   ]
  },
  {
   "cell_type": "markdown",
   "metadata": {},
   "source": [
    "# Gradient-Boosted Random Forest Regressor"
   ]
  },
  {
   "cell_type": "code",
   "execution_count": 7,
   "metadata": {},
   "outputs": [],
   "source": [
    "def get_GBRF(X_train,X_test,y_train):\n",
    "\n",
    "    # Run Random Forest Util\n",
    "    rand_forest_model_grad_boosted = GradientBoostingRegressor()\n",
    "\n",
    "    # Grid-Search CV\n",
    "    Random_Forest_GridSearch = RandomizedSearchCV(estimator = rand_forest_model_grad_boosted,\n",
    "                                                  n_iter=n_iter_trees,\n",
    "                                                  cv=KFold(CV_folds, random_state=2020, shuffle=True),\n",
    "                                                  param_distributions=Rand_Forest_Grid,\n",
    "                                                  return_train_score=True,\n",
    "                                                  random_state=2020,\n",
    "                                                  verbose=10,\n",
    "                                                  n_jobs=n_jobs)\n",
    "\n",
    "    random_forest_trained = Random_Forest_GridSearch.fit(X_train,y_train)\n",
    "    random_forest_trained = random_forest_trained.best_estimator_\n",
    "\n",
    "    #--------------------------------------------------#\n",
    "    # Write: Model, Results, and Best Hyper-Parameters #\n",
    "    #--------------------------------------------------#\n",
    "\n",
    "    # Save Model\n",
    "    # pickle.dump(random_forest_trained, open('./outputs/models/Gradient_Boosted_Tree/Gradient_Boosted_Tree_Best.pkl','wb'))\n",
    "\n",
    "    # Save Readings\n",
    "    cur_path = os.path.expanduser('./outputs/tables/best_params_Gradient_Boosted_Tree.txt')\n",
    "    with open(cur_path, \"w\") as f:\n",
    "        f.write(str(Random_Forest_GridSearch.best_params_))\n",
    "\n",
    "    best_params_table_tree = pd.DataFrame({'N Estimators': [Random_Forest_GridSearch.best_params_['n_estimators']],\n",
    "                                        'Min Samples Leaf': [Random_Forest_GridSearch.best_params_['min_samples_leaf']],\n",
    "                                        'Learning Rate': [Random_Forest_GridSearch.best_params_['learning_rate']],\n",
    "                                        'Max Depth': [Random_Forest_GridSearch.best_params_['max_depth']],\n",
    "                                        })\n",
    "    \n",
    "    # Count Number of Parameters in Random Forest Regressor\n",
    "    N_tot_params_per_tree = [ (x[0].tree_.node_count)*random_forest_trained.n_features_ for x in random_forest_trained.estimators_]\n",
    "    N_tot_params_in_forest = sum(N_tot_params_per_tree)\n",
    "    best_params_table_tree['N_parameters'] = [N_tot_params_in_forest]\n",
    "    # Write Best Parameter(s)\n",
    "    best_params_table_tree.to_latex('./outputs/tables/Best_params_table_Gradient_Boosted_Tree.txt')\n",
    "    #---------------------------------------------#\n",
    "    \n",
    "    # Generate Prediction(s) #\n",
    "    #------------------------#\n",
    "    y_train_hat_random_forest_Gradient_boosting = random_forest_trained.predict(X_train)\n",
    "    eval_time_GBRF = time.time()\n",
    "    y_test_hat_random_forest_Gradient_boosting = random_forest_trained.predict(X_test)\n",
    "    eval_time_GBRF = time.time() - eval_time_GBRF\n",
    "    \n",
    "    # Return Predictions #\n",
    "    #--------------------#\n",
    "    return y_train_hat_random_forest_Gradient_boosting, y_test_hat_random_forest_Gradient_boosting, random_forest_trained, N_tot_params_in_forest, eval_time_GBRF"
   ]
  },
  {
   "cell_type": "markdown",
   "metadata": {},
   "source": [
    "## Kernel Ridge Regressor"
   ]
  },
  {
   "cell_type": "code",
   "execution_count": 8,
   "metadata": {},
   "outputs": [],
   "source": [
    "def get_Kernel_Ridge_Regressor(data_x_in,data_x_test_in,data_y_in):\n",
    "    # Imports\n",
    "    from sklearn.svm import SVR\n",
    "    from sklearn.kernel_ridge import KernelRidge\n",
    "\n",
    "    # Initialize Randomized Gridsearch\n",
    "    kernel_ridge_CVer = RandomizedSearchCV(estimator = KernelRidge(),\n",
    "                                           n_jobs=n_jobs,\n",
    "                                           cv=KFold(CV_folds, random_state=2020, shuffle=True),\n",
    "                                           param_distributions=param_grid_kernel_Ridge,\n",
    "                                           n_iter=n_iter,\n",
    "                                           return_train_score=True,\n",
    "                                           random_state=2020,\n",
    "                                           verbose=10)\n",
    "    kernel_ridge_CVer.fit(data_x_in,data_y_in)\n",
    "\n",
    "    # Get best Kernel ridge regressor\n",
    "    best_kernel_ridge_model = kernel_ridge_CVer.best_estimator_\n",
    "\n",
    "    # Get Predictions\n",
    "    f_hat_kernel_ridge_train = best_kernel_ridge_model.predict(data_x_in)\n",
    "    eval_time_kr = time.time()\n",
    "    f_hat_kernel_ridge_test = best_kernel_ridge_model.predict(data_x_test_in)\n",
    "    eval_time_kr = time.time() - eval_time_kr\n",
    "\n",
    "    # Count Parameters of best model\n",
    "    N_params_kR = len(best_kernel_ridge_model.get_params()) + 2*problem_dim\n",
    "    \n",
    "    Path('./outputs/models/Kernel_Ridge/').mkdir(parents=True, exist_ok=True)\n",
    "    pd.DataFrame.from_dict(kernel_ridge_CVer.best_params_,orient='index').to_latex(\"./outputs/models/Kernel_Ridge/Best_Parameters.tex\")\n",
    "    \n",
    "    \n",
    "    \n",
    "    # Return\n",
    "    return f_hat_kernel_ridge_train, f_hat_kernel_ridge_test, best_kernel_ridge_model, N_params_kR, eval_time_kr"
   ]
  },
  {
   "cell_type": "markdown",
   "metadata": {},
   "source": [
    "---"
   ]
  },
  {
   "cell_type": "markdown",
   "metadata": {},
   "source": [
    "# Train Models and Get Prediction(s)"
   ]
  },
  {
   "cell_type": "markdown",
   "metadata": {},
   "source": [
    "### Elastic Net"
   ]
  },
  {
   "cell_type": "code",
   "execution_count": 9,
   "metadata": {},
   "outputs": [],
   "source": [
    "# %run Evaluation.ipynb\n",
    "exec(open('Evaluation.py').read())"
   ]
  },
  {
   "cell_type": "code",
   "execution_count": 11,
   "metadata": {},
   "outputs": [
    {
     "name": "stderr",
     "output_type": "stream",
     "text": [
      "\r",
      "  0%|          | 0/4 [00:00<?, ?it/s]"
     ]
    },
    {
     "name": "stdout",
     "output_type": "stream",
     "text": [
      "--------------\n",
      "Training: ENET\n",
      "--------------\n"
     ]
    },
    {
     "name": "stderr",
     "output_type": "stream",
     "text": [
      "100%|██████████| 4/4 [00:16<00:00,  4.14s/it]"
     ]
    },
    {
     "name": "stdout",
     "output_type": "stream",
     "text": [
      "---------------------\n",
      "Training: ENET - Done\n",
      "---------------------\n"
     ]
    },
    {
     "name": "stderr",
     "output_type": "stream",
     "text": [
      "\n"
     ]
    }
   ],
   "source": [
    "# Start Timer\n",
    "Timer_ENET = time.time()\n",
    "\n",
    "print(\"--------------\")\n",
    "print(\"Training: ENET\")\n",
    "print(\"--------------\")\n",
    "\n",
    "if output_dim == 1:\n",
    "    # Fit Elastic Net Model\n",
    "    ENET_reg.fit(X_train,Y_train_mean_emp)\n",
    "\n",
    "    # Get Predictions\n",
    "    ENET_predict = ENET_reg.predict(X_train)\n",
    "    ENET_eval_time = time.time()\n",
    "    ENET_predict_test = ENET_reg.predict(X_test)\n",
    "    ENET_eval_time = time.time() - ENET_eval_time\n",
    "    ENET_N_Params = X_train.shape[0]*2\n",
    "    \n",
    "else:\n",
    "    for d in tqdm(range(output_dim)):\n",
    "        # Fit Elastic Net Model\n",
    "        ENET_reg.fit(X_train,Y_train_mean_emp[:,d])\n",
    "\n",
    "        # Get Predictions\n",
    "        ENET_predict_loop = ENET_reg.predict(X_train)\n",
    "        ENET_eval_time_loop = time.time()\n",
    "        ENET_predict_loop_test = ENET_reg.predict(X_test)\n",
    "        ENET_eval_time_loop = time.time() - ENET_eval_time_loop\n",
    "    \n",
    "        if d == 0:\n",
    "            ENET_predict = ENET_predict_loop.reshape(-1,1)\n",
    "            ENET_predict_test = ENET_predict_loop_test.reshape(-1,1)\n",
    "            ENET_N_Params = X_train.shape[0]*2\n",
    "            ENET_eval_time = ENET_eval_time_loop\n",
    "        else:\n",
    "            ENET_predict = np.append(ENET_predict,ENET_predict_loop.reshape(-1,1),axis=1)\n",
    "            ENET_predict_test = np.append(ENET_predict_test,ENET_predict_loop_test.reshape(-1,1),axis=1)\n",
    "            ENET_N_Params = ENET_N_Params + X_train.shape[0]*2\n",
    "            ENET_eval_time = ENET_eval_time + ENET_eval_time_loop\n",
    "\n",
    "# Stop Timer\n",
    "Timer_ENET = time.time() - Timer_ENET\n",
    "print(\"---------------------\")\n",
    "print(\"Training: ENET - Done\")\n",
    "print(\"---------------------\")"
   ]
  },
  {
   "cell_type": "markdown",
   "metadata": {},
   "source": [
    "#### Evaluate Prediction Quality"
   ]
  },
  {
   "cell_type": "code",
   "execution_count": 12,
   "metadata": {},
   "outputs": [
    {
     "name": "stderr",
     "output_type": "stream",
     "text": [
      " 36%|███▌      | 18/50 [00:00<00:00, 175.22it/s]"
     ]
    },
    {
     "name": "stdout",
     "output_type": "stream",
     "text": [
      "#------------#\n",
      " Get Error(s) \n",
      "#------------#\n"
     ]
    },
    {
     "name": "stderr",
     "output_type": "stream",
     "text": [
      "100%|██████████| 50/50 [00:00<00:00, 146.38it/s]\n",
      "100%|██████████| 20/20 [00:00<00:00, 164.29it/s]"
     ]
    },
    {
     "name": "stdout",
     "output_type": "stream",
     "text": [
      "#-----------------#\n",
      " Get Error(s): END \n",
      "#-----------------#\n",
      "#------------#\n",
      " Get Error(s) \n",
      "#------------#\n",
      "#-----------------#\n",
      " Get Error(s): END \n",
      "#-----------------#\n"
     ]
    },
    {
     "name": "stderr",
     "output_type": "stream",
     "text": [
      "\n"
     ]
    }
   ],
   "source": [
    "## Train\n",
    "ENET_errors_W1, ENET_errors_M1 = get_deterministic_errors(X_train,\n",
    "                                                          ENET_predict,\n",
    "                                                          Y_train,\n",
    "                                                          N_Bootstraps=N_Boostraps_BCA)\n",
    "## Test\n",
    "ENET_errors_W1_test, ENET_errors_M1_test = get_deterministic_errors(X_test,\n",
    "                                                                    ENET_predict_test,\n",
    "                                                                    Y_test,\n",
    "                                                                    N_Bootstraps=N_Boostraps_BCA)\n",
    "# Stop Timer\n",
    "Timer_ENET = time.time() - Timer_ENET"
   ]
  },
  {
   "cell_type": "markdown",
   "metadata": {},
   "source": [
    "#### Update DataFrame"
   ]
  },
  {
   "cell_type": "code",
   "execution_count": 13,
   "metadata": {},
   "outputs": [
    {
     "name": "stdout",
     "output_type": "stream",
     "text": [
      "Updated DataFrame\n",
      "                                      DNM  MC-Oracle          ENET\n",
      "W1-95L                           3.773780   0.000000  1.585715e+02\n",
      "W1                               4.406379   0.000000  2.115587e+02\n",
      "W1-95R                           5.002153   0.000000  2.521552e+02\n",
      "M-95L                            4.313958   4.260508  5.943433e+02\n",
      "M                                5.519015   5.519015  6.880169e+02\n",
      "M-95R                            7.019481   6.640253  8.444003e+02\n",
      "N_Par                          478.000000   0.000000  4.000000e+02\n",
      "Train_Time                       8.240402   0.508606  1.619751e+09\n",
      "Test_Time/MC-Oracle_Test_Time    0.286276   1.000000  1.575600e-03\n"
     ]
    },
    {
     "data": {
      "text/html": [
       "<div>\n",
       "<style scoped>\n",
       "    .dataframe tbody tr th:only-of-type {\n",
       "        vertical-align: middle;\n",
       "    }\n",
       "\n",
       "    .dataframe tbody tr th {\n",
       "        vertical-align: top;\n",
       "    }\n",
       "\n",
       "    .dataframe thead th {\n",
       "        text-align: right;\n",
       "    }\n",
       "</style>\n",
       "<table border=\"1\" class=\"dataframe\">\n",
       "  <thead>\n",
       "    <tr style=\"text-align: right;\">\n",
       "      <th></th>\n",
       "      <th>DNM</th>\n",
       "      <th>MC-Oracle</th>\n",
       "      <th>ENET</th>\n",
       "    </tr>\n",
       "  </thead>\n",
       "  <tbody>\n",
       "    <tr>\n",
       "      <th>W1-95L</th>\n",
       "      <td>3.773780</td>\n",
       "      <td>0.000000</td>\n",
       "      <td>1.585715e+02</td>\n",
       "    </tr>\n",
       "    <tr>\n",
       "      <th>W1</th>\n",
       "      <td>4.406379</td>\n",
       "      <td>0.000000</td>\n",
       "      <td>2.115587e+02</td>\n",
       "    </tr>\n",
       "    <tr>\n",
       "      <th>W1-95R</th>\n",
       "      <td>5.002153</td>\n",
       "      <td>0.000000</td>\n",
       "      <td>2.521552e+02</td>\n",
       "    </tr>\n",
       "    <tr>\n",
       "      <th>M-95L</th>\n",
       "      <td>4.313958</td>\n",
       "      <td>4.260508</td>\n",
       "      <td>5.943433e+02</td>\n",
       "    </tr>\n",
       "    <tr>\n",
       "      <th>M</th>\n",
       "      <td>5.519015</td>\n",
       "      <td>5.519015</td>\n",
       "      <td>6.880169e+02</td>\n",
       "    </tr>\n",
       "    <tr>\n",
       "      <th>M-95R</th>\n",
       "      <td>7.019481</td>\n",
       "      <td>6.640253</td>\n",
       "      <td>8.444003e+02</td>\n",
       "    </tr>\n",
       "    <tr>\n",
       "      <th>N_Par</th>\n",
       "      <td>478.000000</td>\n",
       "      <td>0.000000</td>\n",
       "      <td>4.000000e+02</td>\n",
       "    </tr>\n",
       "    <tr>\n",
       "      <th>Train_Time</th>\n",
       "      <td>8.240402</td>\n",
       "      <td>0.508606</td>\n",
       "      <td>1.619751e+09</td>\n",
       "    </tr>\n",
       "    <tr>\n",
       "      <th>Test_Time/MC-Oracle_Test_Time</th>\n",
       "      <td>0.286276</td>\n",
       "      <td>1.000000</td>\n",
       "      <td>1.575600e-03</td>\n",
       "    </tr>\n",
       "  </tbody>\n",
       "</table>\n",
       "</div>"
      ],
      "text/plain": [
       "                                      DNM  MC-Oracle          ENET\n",
       "W1-95L                           3.773780   0.000000  1.585715e+02\n",
       "W1                               4.406379   0.000000  2.115587e+02\n",
       "W1-95R                           5.002153   0.000000  2.521552e+02\n",
       "M-95L                            4.313958   4.260508  5.943433e+02\n",
       "M                                5.519015   5.519015  6.880169e+02\n",
       "M-95R                            7.019481   6.640253  8.444003e+02\n",
       "N_Par                          478.000000   0.000000  4.000000e+02\n",
       "Train_Time                       8.240402   0.508606  1.619751e+09\n",
       "Test_Time/MC-Oracle_Test_Time    0.286276   1.000000  1.575600e-03"
      ]
     },
     "execution_count": 13,
     "metadata": {},
     "output_type": "execute_result"
    }
   ],
   "source": [
    "# Train\n",
    "Summary_pred_Qual_models_internal[\"ENET\"] = pd.Series(np.append(np.append(ENET_errors_W1,\n",
    "                                                                ENET_errors_M1),\n",
    "                                                         np.array([ENET_N_Params,\n",
    "                                                                   Timer_ENET,\n",
    "                                                                   (ENET_eval_time/Test_Set_PredictionTime_MC)])), index=Summary_pred_Qual_models.index)\n",
    "# Test\n",
    "Summary_pred_Qual_models_test[\"ENET\"] = pd.Series(np.append(np.append(ENET_errors_W1_test,\n",
    "                                                                     ENET_errors_M1_test),\n",
    "                                                           np.array([ENET_N_Params,\n",
    "                                                                     Timer_ENET,\n",
    "                                                                     (ENET_eval_time/Test_Set_PredictionTime_MC)])), index=Summary_pred_Qual_models_test.index)\n",
    "\n",
    "print(\"Updated DataFrame\")\n",
    "## Get Worst-Case\n",
    "Summary_pred_Qual_models_train = Summary_pred_Qual_models_internal\n",
    "Summary_pred_Qual_models_internal = np.maximum(Summary_pred_Qual_models_internal,Summary_pred_Qual_models_test)\n",
    "Summary_pred_Qual_models = np.copy(Summary_pred_Qual_models_internal)\n",
    "## Write Performance Metrics\n",
    "Summary_pred_Qual_models_internal.to_latex((results_tables_path+\"Performance_metrics_Problem_Type_\"+str(f_unknown_mode)+\"Problemdimension\"+str(problem_dim)+\"__SUMMARY_METRICS.tex\"))\n",
    "Summary_pred_Qual_models_train.to_latex((results_tables_path+\"Performance_metrics_Problem_Type_\"+str(f_unknown_mode)+\"Problemdimension\"+str(problem_dim)+\"__SUMMARY_METRICS_train.tex\"))\n",
    "Summary_pred_Qual_models_test.to_latex((results_tables_path+\"Performance_metrics_Problem_Type_\"+str(f_unknown_mode)+\"Problemdimension\"+str(problem_dim)+\"__SUMMARY_METRICS_test.tex\"))\n",
    "\n",
    "# Remove W1 estimates from x \\mapsto \\delta_{f(x)}\n",
    "Summary_pred_Qual_models = Summary_pred_Qual_models_internal.copy()\n",
    "Summary_pred_Qual_models.loc[['W1-95L','W1','W1-95R'],['ENET','KRidge','ENET','GBRF','DNN']] = \"-\"\n",
    "Summary_pred_Qual_models.to_latex((results_tables_path+\"Final_Results/Performance_metrics_Problem_Type_\"+str(f_unknown_mode)+\"Problemdimension\"+str(problem_dim)+\"__SUMMARY_METRICS.tex\"))\n",
    "\n",
    "# Update User\n",
    "print(Summary_pred_Qual_models)\n",
    "print(\"------------------------------------------------\")\n",
    "print(\"Updated Performance Metrics Dataframe and Saved!\")\n",
    "print(\"------------------------------------------------\")"
   ]
  },
  {
   "cell_type": "markdown",
   "metadata": {},
   "source": [
    "## Kernel Ridge Regression"
   ]
  },
  {
   "cell_type": "code",
   "execution_count": 14,
   "metadata": {},
   "outputs": [
    {
     "name": "stderr",
     "output_type": "stream",
     "text": [
      "[Parallel(n_jobs=4)]: Using backend LokyBackend with 4 concurrent workers.\n"
     ]
    },
    {
     "name": "stdout",
     "output_type": "stream",
     "text": [
      "-----------------\n",
      "Training: K-Ridge\n",
      "-----------------\n",
      "Fitting 2 folds for each of 2 candidates, totalling 4 fits\n"
     ]
    },
    {
     "name": "stderr",
     "output_type": "stream",
     "text": [
      "[Parallel(n_jobs=4)]: Done   1 tasks      | elapsed:    0.1s\n",
      "[Parallel(n_jobs=4)]: Batch computation too fast (0.0815s.) Setting batch_size=2.\n",
      "[Parallel(n_jobs=4)]: Done   2 out of   4 | elapsed:    0.1s remaining:    0.1s\n",
      "[Parallel(n_jobs=4)]: Done   4 out of   4 | elapsed:    0.4s remaining:    0.0s\n",
      "[Parallel(n_jobs=4)]: Done   4 out of   4 | elapsed:    0.4s finished\n"
     ]
    }
   ],
   "source": [
    "# Stop Timer\n",
    "Timer_kRidge = time.time()\n",
    "\n",
    "\n",
    "print(\"-----------------\")\n",
    "print(\"Training: K-Ridge\")\n",
    "print(\"-----------------\")\n",
    "\n",
    "Xhat_Kridge, Xhat_Kridge_test , relic, kRidge_N_params, KRidge_eval_time = get_Kernel_Ridge_Regressor(X_train,X_test,Y_train_mean_emp)"
   ]
  },
  {
   "cell_type": "markdown",
   "metadata": {},
   "source": [
    "#### Get Prediction Errors"
   ]
  },
  {
   "cell_type": "code",
   "execution_count": 15,
   "metadata": {},
   "outputs": [
    {
     "name": "stderr",
     "output_type": "stream",
     "text": [
      " 30%|███       | 15/50 [00:00<00:00, 148.28it/s]"
     ]
    },
    {
     "name": "stdout",
     "output_type": "stream",
     "text": [
      "#------------#\n",
      " Get Error(s) \n",
      "#------------#\n"
     ]
    },
    {
     "name": "stderr",
     "output_type": "stream",
     "text": [
      "100%|██████████| 50/50 [00:00<00:00, 160.27it/s]\n",
      "100%|██████████| 20/20 [00:00<00:00, 171.24it/s]"
     ]
    },
    {
     "name": "stdout",
     "output_type": "stream",
     "text": [
      "#-----------------#\n",
      " Get Error(s): END \n",
      "#-----------------#\n",
      "#------------#\n",
      " Get Error(s) \n",
      "#------------#\n",
      "#-----------------#\n",
      " Get Error(s): END \n",
      "#-----------------#\n"
     ]
    },
    {
     "name": "stderr",
     "output_type": "stream",
     "text": [
      "\n"
     ]
    }
   ],
   "source": [
    "## Train\n",
    "kRidge_errors_W1, kRidge_errors_M1 = get_deterministic_errors(X_train,Xhat_Kridge,Y_train,N_Bootstraps=N_Boostraps_BCA)\n",
    "## Test\n",
    "kRidge_errors_W1_test, kRidge_errors_M1_test = get_deterministic_errors(X_test,Xhat_Kridge_test,Y_test,N_Bootstraps=N_Boostraps_BCA)\n",
    "# Stop Timer\n",
    "Timer_kRidge = time.time() - Timer_kRidge"
   ]
  },
  {
   "cell_type": "markdown",
   "metadata": {},
   "source": [
    "#### Update DataFrame"
   ]
  },
  {
   "cell_type": "code",
   "execution_count": 16,
   "metadata": {},
   "outputs": [
    {
     "name": "stdout",
     "output_type": "stream",
     "text": [
      "Updated DataFrame\n",
      "                                      DNM  MC-Oracle          ENET      KRidge\n",
      "W1-95L                           3.773780   0.000000  1.585715e+02  154.522026\n",
      "W1                               4.406379   0.000000  2.115587e+02  209.388189\n",
      "W1-95R                           5.002153   0.000000  2.521552e+02  270.039800\n",
      "M-95L                            4.313958   4.260508  5.943433e+02  494.355049\n",
      "M                                5.519015   5.519015  6.880169e+02  709.847385\n",
      "M-95R                            7.019481   6.640253  8.444003e+02  946.288951\n",
      "N_Par                          478.000000   0.000000  4.000000e+02    0.000000\n",
      "Train_Time                       8.240402   0.508606  1.619751e+09    0.908637\n",
      "Test_Time/MC-Oracle_Test_Time    0.286276   1.000000  1.575600e-03    0.006017\n"
     ]
    },
    {
     "data": {
      "text/html": [
       "<div>\n",
       "<style scoped>\n",
       "    .dataframe tbody tr th:only-of-type {\n",
       "        vertical-align: middle;\n",
       "    }\n",
       "\n",
       "    .dataframe tbody tr th {\n",
       "        vertical-align: top;\n",
       "    }\n",
       "\n",
       "    .dataframe thead th {\n",
       "        text-align: right;\n",
       "    }\n",
       "</style>\n",
       "<table border=\"1\" class=\"dataframe\">\n",
       "  <thead>\n",
       "    <tr style=\"text-align: right;\">\n",
       "      <th></th>\n",
       "      <th>DNM</th>\n",
       "      <th>MC-Oracle</th>\n",
       "      <th>ENET</th>\n",
       "      <th>KRidge</th>\n",
       "    </tr>\n",
       "  </thead>\n",
       "  <tbody>\n",
       "    <tr>\n",
       "      <th>W1-95L</th>\n",
       "      <td>3.773780</td>\n",
       "      <td>0.000000</td>\n",
       "      <td>1.585715e+02</td>\n",
       "      <td>154.522026</td>\n",
       "    </tr>\n",
       "    <tr>\n",
       "      <th>W1</th>\n",
       "      <td>4.406379</td>\n",
       "      <td>0.000000</td>\n",
       "      <td>2.115587e+02</td>\n",
       "      <td>209.388189</td>\n",
       "    </tr>\n",
       "    <tr>\n",
       "      <th>W1-95R</th>\n",
       "      <td>5.002153</td>\n",
       "      <td>0.000000</td>\n",
       "      <td>2.521552e+02</td>\n",
       "      <td>270.039800</td>\n",
       "    </tr>\n",
       "    <tr>\n",
       "      <th>M-95L</th>\n",
       "      <td>4.313958</td>\n",
       "      <td>4.260508</td>\n",
       "      <td>5.943433e+02</td>\n",
       "      <td>494.355049</td>\n",
       "    </tr>\n",
       "    <tr>\n",
       "      <th>M</th>\n",
       "      <td>5.519015</td>\n",
       "      <td>5.519015</td>\n",
       "      <td>6.880169e+02</td>\n",
       "      <td>709.847385</td>\n",
       "    </tr>\n",
       "    <tr>\n",
       "      <th>M-95R</th>\n",
       "      <td>7.019481</td>\n",
       "      <td>6.640253</td>\n",
       "      <td>8.444003e+02</td>\n",
       "      <td>946.288951</td>\n",
       "    </tr>\n",
       "    <tr>\n",
       "      <th>N_Par</th>\n",
       "      <td>478.000000</td>\n",
       "      <td>0.000000</td>\n",
       "      <td>4.000000e+02</td>\n",
       "      <td>0.000000</td>\n",
       "    </tr>\n",
       "    <tr>\n",
       "      <th>Train_Time</th>\n",
       "      <td>8.240402</td>\n",
       "      <td>0.508606</td>\n",
       "      <td>1.619751e+09</td>\n",
       "      <td>0.908637</td>\n",
       "    </tr>\n",
       "    <tr>\n",
       "      <th>Test_Time/MC-Oracle_Test_Time</th>\n",
       "      <td>0.286276</td>\n",
       "      <td>1.000000</td>\n",
       "      <td>1.575600e-03</td>\n",
       "      <td>0.006017</td>\n",
       "    </tr>\n",
       "  </tbody>\n",
       "</table>\n",
       "</div>"
      ],
      "text/plain": [
       "                                      DNM  MC-Oracle          ENET      KRidge\n",
       "W1-95L                           3.773780   0.000000  1.585715e+02  154.522026\n",
       "W1                               4.406379   0.000000  2.115587e+02  209.388189\n",
       "W1-95R                           5.002153   0.000000  2.521552e+02  270.039800\n",
       "M-95L                            4.313958   4.260508  5.943433e+02  494.355049\n",
       "M                                5.519015   5.519015  6.880169e+02  709.847385\n",
       "M-95R                            7.019481   6.640253  8.444003e+02  946.288951\n",
       "N_Par                          478.000000   0.000000  4.000000e+02    0.000000\n",
       "Train_Time                       8.240402   0.508606  1.619751e+09    0.908637\n",
       "Test_Time/MC-Oracle_Test_Time    0.286276   1.000000  1.575600e-03    0.006017"
      ]
     },
     "execution_count": 16,
     "metadata": {},
     "output_type": "execute_result"
    }
   ],
   "source": [
    "# Train\n",
    "Summary_pred_Qual_models_internal[\"KRidge\"] = pd.Series(np.append(np.append(kRidge_errors_W1,\n",
    "                                                                kRidge_errors_M1),\n",
    "                                                         np.array([0,\n",
    "                                                                   Timer_kRidge,\n",
    "                                                                   (KRidge_eval_time/Test_Set_PredictionTime_MC)])), index=Summary_pred_Qual_models.index)\n",
    "# Test\n",
    "Summary_pred_Qual_models_test[\"KRidge\"] = pd.Series(np.append(np.append(kRidge_errors_W1_test,\n",
    "                                                                     kRidge_errors_M1_test),\n",
    "                                                           np.array([0,\n",
    "                                                                     Timer_kRidge,\n",
    "                                                                     (KRidge_eval_time/Test_Set_PredictionTime_MC)])), index=Summary_pred_Qual_models_test.index)\n",
    "\n",
    "print(\"Updated DataFrame\")\n",
    "## Get Worst-Case\n",
    "Summary_pred_Qual_models_train = Summary_pred_Qual_models_internal\n",
    "Summary_pred_Qual_models_internal = np.maximum(Summary_pred_Qual_models_internal,Summary_pred_Qual_models_test)\n",
    "Summary_pred_Qual_models = np.copy(Summary_pred_Qual_models_internal)\n",
    "## Write Performance Metrics\n",
    "Summary_pred_Qual_models_internal.to_latex((results_tables_path+\"Performance_metrics_Problem_Type_\"+str(f_unknown_mode)+\"Problemdimension\"+str(problem_dim)+\"__SUMMARY_METRICS.tex\"))\n",
    "Summary_pred_Qual_models_train.to_latex((results_tables_path+\"Performance_metrics_Problem_Type_\"+str(f_unknown_mode)+\"Problemdimension\"+str(problem_dim)+\"__SUMMARY_METRICS_train.tex\"))\n",
    "Summary_pred_Qual_models_test.to_latex((results_tables_path+\"Performance_metrics_Problem_Type_\"+str(f_unknown_mode)+\"Problemdimension\"+str(problem_dim)+\"__SUMMARY_METRICS_test.tex\"))\n",
    "\n",
    "# Remove W1 estimates from x \\mapsto \\delta_{f(x)}\n",
    "Summary_pred_Qual_models = Summary_pred_Qual_models_internal.copy()\n",
    "Summary_pred_Qual_models.loc[['W1-95L','W1','W1-95R'],['ENET','KRidge','ENET','GBRF','DNN']] = \"-\"\n",
    "Summary_pred_Qual_models.to_latex((results_tables_path+\"Final_Results/Performance_metrics_Problem_Type_\"+str(f_unknown_mode)+\"Problemdimension\"+str(problem_dim)+\"__SUMMARY_METRICS.tex\"))\n",
    "\n",
    "# Update User\n",
    "print(Summary_pred_Qual_models)\n",
    "print(\"------------------------------------------------\")\n",
    "print(\"Updated Performance Metrics Dataframe and Saved!\")\n",
    "print(\"------------------------------------------------\")"
   ]
  },
  {
   "cell_type": "markdown",
   "metadata": {},
   "source": [
    "## Gradient-Boosted Random Forest"
   ]
  },
  {
   "cell_type": "code",
   "execution_count": 17,
   "metadata": {},
   "outputs": [
    {
     "name": "stderr",
     "output_type": "stream",
     "text": [
      "[Parallel(n_jobs=4)]: Using backend LokyBackend with 4 concurrent workers.\n"
     ]
    },
    {
     "name": "stdout",
     "output_type": "stream",
     "text": [
      "--------------\n",
      "Training: GBRF\n",
      "--------------\n",
      "Fitting 2 folds for each of 1 candidates, totalling 2 fits\n"
     ]
    },
    {
     "name": "stderr",
     "output_type": "stream",
     "text": [
      "[Parallel(n_jobs=4)]: Done   2 out of   2 | elapsed:    0.2s remaining:    0.0s\n",
      "[Parallel(n_jobs=4)]: Done   2 out of   2 | elapsed:    0.2s finished\n",
      "[Parallel(n_jobs=4)]: Using backend LokyBackend with 4 concurrent workers.\n"
     ]
    },
    {
     "name": "stdout",
     "output_type": "stream",
     "text": [
      "Fitting 2 folds for each of 1 candidates, totalling 2 fits\n"
     ]
    },
    {
     "name": "stderr",
     "output_type": "stream",
     "text": [
      "[Parallel(n_jobs=4)]: Batch computation too fast (0.1585s.) Setting batch_size=2.\n",
      "[Parallel(n_jobs=4)]: Done   2 out of   2 | elapsed:    0.2s remaining:    0.0s\n",
      "[Parallel(n_jobs=4)]: Done   2 out of   2 | elapsed:    0.2s finished\n",
      "[Parallel(n_jobs=4)]: Using backend LokyBackend with 4 concurrent workers.\n"
     ]
    },
    {
     "name": "stdout",
     "output_type": "stream",
     "text": [
      "Fitting 2 folds for each of 1 candidates, totalling 2 fits\n"
     ]
    },
    {
     "name": "stderr",
     "output_type": "stream",
     "text": [
      "[Parallel(n_jobs=4)]: Batch computation too fast (0.1462s.) Setting batch_size=2.\n",
      "[Parallel(n_jobs=4)]: Done   2 out of   2 | elapsed:    0.2s remaining:    0.0s\n",
      "[Parallel(n_jobs=4)]: Done   2 out of   2 | elapsed:    0.2s finished\n",
      "[Parallel(n_jobs=4)]: Using backend LokyBackend with 4 concurrent workers.\n"
     ]
    },
    {
     "name": "stdout",
     "output_type": "stream",
     "text": [
      "Fitting 2 folds for each of 1 candidates, totalling 2 fits\n"
     ]
    },
    {
     "name": "stderr",
     "output_type": "stream",
     "text": [
      "[Parallel(n_jobs=4)]: Batch computation too fast (0.1572s.) Setting batch_size=2.\n",
      "[Parallel(n_jobs=4)]: Done   2 out of   2 | elapsed:    0.2s remaining:    0.0s\n",
      "[Parallel(n_jobs=4)]: Done   2 out of   2 | elapsed:    0.2s finished\n"
     ]
    }
   ],
   "source": [
    "# Start Timer\n",
    "Timer_GBRF = time.time()\n",
    "\n",
    "print(\"--------------\")\n",
    "print(\"Training: GBRF\")\n",
    "print(\"--------------\")\n",
    "\n",
    "if output_dim == 1:\n",
    "    GBRF_y_hat_train, GBRF_y_hat_test, GBRF_model, GBRF_N_Params, GBRF_eval_time = get_GBRF(X_train,\n",
    "                                                                                            X_test,\n",
    "                                                                                            Y_train_mean_emp)\n",
    "else:\n",
    "    for d in range(output_dim):\n",
    "        GBRF_y_hat_train_loop, GBRF_y_hat_test_loop, GBRF_model, GBRF_N_Params_loop, GBRF_eval_time_loop = get_GBRF(X_train,\n",
    "                                                                                                                X_test,\n",
    "                                                                                                                Y_train_mean_emp[:,d])\n",
    "        if d == 0:\n",
    "            GBRF_y_hat_train = GBRF_y_hat_train_loop.reshape(-1,1)\n",
    "            GBRF_y_hat_test = GBRF_y_hat_test_loop.reshape(-1,1)\n",
    "            GBRF_N_Params = GBRF_N_Params_loop\n",
    "            GBRF_eval_time = GBRF_eval_time_loop\n",
    "        else:\n",
    "            GBRF_y_hat_train = np.append(GBRF_y_hat_train,GBRF_y_hat_train_loop.reshape(-1,1),axis=1)\n",
    "            GBRF_y_hat_test = np.append(GBRF_y_hat_test,GBRF_y_hat_test_loop.reshape(-1,1),axis=1)\n",
    "            GBRF_N_Params = GBRF_N_Params + GBRF_N_Params_loop\n",
    "            GBRF_eval_time = GBRF_eval_time + GBRF_eval_time_loop"
   ]
  },
  {
   "cell_type": "markdown",
   "metadata": {},
   "source": [
    "#### Get Prediction Errors"
   ]
  },
  {
   "cell_type": "code",
   "execution_count": 18,
   "metadata": {},
   "outputs": [
    {
     "name": "stderr",
     "output_type": "stream",
     "text": [
      " 38%|███▊      | 19/50 [00:00<00:00, 185.75it/s]"
     ]
    },
    {
     "name": "stdout",
     "output_type": "stream",
     "text": [
      "#------------#\n",
      " Get Error(s) \n",
      "#------------#\n"
     ]
    },
    {
     "name": "stderr",
     "output_type": "stream",
     "text": [
      "100%|██████████| 50/50 [00:00<00:00, 167.89it/s]\n",
      "100%|██████████| 20/20 [00:00<00:00, 185.63it/s]"
     ]
    },
    {
     "name": "stdout",
     "output_type": "stream",
     "text": [
      "#-----------------#\n",
      " Get Error(s): END \n",
      "#-----------------#\n",
      "#------------#\n",
      " Get Error(s) \n",
      "#------------#\n",
      "#-----------------#\n",
      " Get Error(s): END \n",
      "#-----------------#\n"
     ]
    },
    {
     "name": "stderr",
     "output_type": "stream",
     "text": [
      "\n"
     ]
    }
   ],
   "source": [
    "## Train\n",
    "GBRF_errors_W1, GBRF_errors_M1 = get_deterministic_errors(X_train,GBRF_y_hat_train,Y_train,N_Bootstraps=N_Boostraps_BCA)\n",
    "## Test\n",
    "GBRF_errors_W1_test, GBRF_errors_M1_test = get_deterministic_errors(X_test,GBRF_y_hat_test,Y_test,N_Bootstraps=N_Boostraps_BCA)\n",
    "\n",
    "\n",
    "# Compute Lapsed Time Needed For Training\n",
    "Timer_GBRF = time.time() - Timer_GBRF"
   ]
  },
  {
   "cell_type": "markdown",
   "metadata": {},
   "source": [
    "#### Update Dataframe"
   ]
  },
  {
   "cell_type": "code",
   "execution_count": 19,
   "metadata": {},
   "outputs": [
    {
     "name": "stdout",
     "output_type": "stream",
     "text": [
      "Updated DataFrame\n",
      "                                      DNM  MC-Oracle          ENET  \\\n",
      "W1-95L                           3.773780   0.000000  1.585715e+02   \n",
      "W1                               4.406379   0.000000  2.115587e+02   \n",
      "W1-95R                           5.002153   0.000000  2.521552e+02   \n",
      "M-95L                            4.313958   4.260508  5.943433e+02   \n",
      "M                                5.519015   5.519015  6.880169e+02   \n",
      "M-95R                            7.019481   6.640253  8.444003e+02   \n",
      "N_Par                          478.000000   0.000000  4.000000e+02   \n",
      "Train_Time                       8.240402   0.508606  1.619751e+09   \n",
      "Test_Time/MC-Oracle_Test_Time    0.286276   1.000000  1.575600e-03   \n",
      "\n",
      "                                   KRidge           GBRF  \n",
      "W1-95L                         154.522026     156.739023  \n",
      "W1                             209.388189     224.899840  \n",
      "W1-95R                         270.039800     293.074196  \n",
      "M-95L                          494.355049     556.346462  \n",
      "M                              709.847385     743.636628  \n",
      "M-95R                          946.288951     985.909096  \n",
      "N_Par                            0.000000  278910.000000  \n",
      "Train_Time                       0.908637       1.824479  \n",
      "Test_Time/MC-Oracle_Test_Time    0.006017       0.020123  \n"
     ]
    },
    {
     "data": {
      "text/html": [
       "<div>\n",
       "<style scoped>\n",
       "    .dataframe tbody tr th:only-of-type {\n",
       "        vertical-align: middle;\n",
       "    }\n",
       "\n",
       "    .dataframe tbody tr th {\n",
       "        vertical-align: top;\n",
       "    }\n",
       "\n",
       "    .dataframe thead th {\n",
       "        text-align: right;\n",
       "    }\n",
       "</style>\n",
       "<table border=\"1\" class=\"dataframe\">\n",
       "  <thead>\n",
       "    <tr style=\"text-align: right;\">\n",
       "      <th></th>\n",
       "      <th>DNM</th>\n",
       "      <th>MC-Oracle</th>\n",
       "      <th>ENET</th>\n",
       "      <th>KRidge</th>\n",
       "      <th>GBRF</th>\n",
       "    </tr>\n",
       "  </thead>\n",
       "  <tbody>\n",
       "    <tr>\n",
       "      <th>W1-95L</th>\n",
       "      <td>3.773780</td>\n",
       "      <td>0.000000</td>\n",
       "      <td>1.585715e+02</td>\n",
       "      <td>154.522026</td>\n",
       "      <td>156.739023</td>\n",
       "    </tr>\n",
       "    <tr>\n",
       "      <th>W1</th>\n",
       "      <td>4.406379</td>\n",
       "      <td>0.000000</td>\n",
       "      <td>2.115587e+02</td>\n",
       "      <td>209.388189</td>\n",
       "      <td>224.899840</td>\n",
       "    </tr>\n",
       "    <tr>\n",
       "      <th>W1-95R</th>\n",
       "      <td>5.002153</td>\n",
       "      <td>0.000000</td>\n",
       "      <td>2.521552e+02</td>\n",
       "      <td>270.039800</td>\n",
       "      <td>293.074196</td>\n",
       "    </tr>\n",
       "    <tr>\n",
       "      <th>M-95L</th>\n",
       "      <td>4.313958</td>\n",
       "      <td>4.260508</td>\n",
       "      <td>5.943433e+02</td>\n",
       "      <td>494.355049</td>\n",
       "      <td>556.346462</td>\n",
       "    </tr>\n",
       "    <tr>\n",
       "      <th>M</th>\n",
       "      <td>5.519015</td>\n",
       "      <td>5.519015</td>\n",
       "      <td>6.880169e+02</td>\n",
       "      <td>709.847385</td>\n",
       "      <td>743.636628</td>\n",
       "    </tr>\n",
       "    <tr>\n",
       "      <th>M-95R</th>\n",
       "      <td>7.019481</td>\n",
       "      <td>6.640253</td>\n",
       "      <td>8.444003e+02</td>\n",
       "      <td>946.288951</td>\n",
       "      <td>985.909096</td>\n",
       "    </tr>\n",
       "    <tr>\n",
       "      <th>N_Par</th>\n",
       "      <td>478.000000</td>\n",
       "      <td>0.000000</td>\n",
       "      <td>4.000000e+02</td>\n",
       "      <td>0.000000</td>\n",
       "      <td>278910.000000</td>\n",
       "    </tr>\n",
       "    <tr>\n",
       "      <th>Train_Time</th>\n",
       "      <td>8.240402</td>\n",
       "      <td>0.508606</td>\n",
       "      <td>1.619751e+09</td>\n",
       "      <td>0.908637</td>\n",
       "      <td>1.824479</td>\n",
       "    </tr>\n",
       "    <tr>\n",
       "      <th>Test_Time/MC-Oracle_Test_Time</th>\n",
       "      <td>0.286276</td>\n",
       "      <td>1.000000</td>\n",
       "      <td>1.575600e-03</td>\n",
       "      <td>0.006017</td>\n",
       "      <td>0.020123</td>\n",
       "    </tr>\n",
       "  </tbody>\n",
       "</table>\n",
       "</div>"
      ],
      "text/plain": [
       "                                      DNM  MC-Oracle          ENET  \\\n",
       "W1-95L                           3.773780   0.000000  1.585715e+02   \n",
       "W1                               4.406379   0.000000  2.115587e+02   \n",
       "W1-95R                           5.002153   0.000000  2.521552e+02   \n",
       "M-95L                            4.313958   4.260508  5.943433e+02   \n",
       "M                                5.519015   5.519015  6.880169e+02   \n",
       "M-95R                            7.019481   6.640253  8.444003e+02   \n",
       "N_Par                          478.000000   0.000000  4.000000e+02   \n",
       "Train_Time                       8.240402   0.508606  1.619751e+09   \n",
       "Test_Time/MC-Oracle_Test_Time    0.286276   1.000000  1.575600e-03   \n",
       "\n",
       "                                   KRidge           GBRF  \n",
       "W1-95L                         154.522026     156.739023  \n",
       "W1                             209.388189     224.899840  \n",
       "W1-95R                         270.039800     293.074196  \n",
       "M-95L                          494.355049     556.346462  \n",
       "M                              709.847385     743.636628  \n",
       "M-95R                          946.288951     985.909096  \n",
       "N_Par                            0.000000  278910.000000  \n",
       "Train_Time                       0.908637       1.824479  \n",
       "Test_Time/MC-Oracle_Test_Time    0.006017       0.020123  "
      ]
     },
     "execution_count": 19,
     "metadata": {},
     "output_type": "execute_result"
    }
   ],
   "source": [
    "# Train\n",
    "Summary_pred_Qual_models_internal[\"GBRF\"] = pd.Series(np.append(np.append(GBRF_errors_W1,\n",
    "                                                                GBRF_errors_M1),\n",
    "                                                         np.array([GBRF_N_Params,\n",
    "                                                                   Timer_GBRF,\n",
    "                                                                   (GBRF_eval_time/Test_Set_PredictionTime_MC)])), index=Summary_pred_Qual_models.index)\n",
    "# Test\n",
    "Summary_pred_Qual_models_test[\"GBRF\"] = pd.Series(np.append(np.append(GBRF_errors_W1_test,\n",
    "                                                                     GBRF_errors_M1_test),\n",
    "                                                           np.array([GBRF_N_Params,\n",
    "                                                                     Timer_GBRF,\n",
    "                                                                     (GBRF_eval_time/Test_Set_PredictionTime_MC)])), index=Summary_pred_Qual_models_test.index)\n",
    "\n",
    "print(\"Updated DataFrame\")\n",
    "## Get Worst-Case\n",
    "Summary_pred_Qual_models_train = Summary_pred_Qual_models_internal\n",
    "Summary_pred_Qual_models_internal = np.maximum(Summary_pred_Qual_models_internal,Summary_pred_Qual_models_test)\n",
    "Summary_pred_Qual_models = np.copy(Summary_pred_Qual_models_internal)\n",
    "## Write Performance Metrics\n",
    "Summary_pred_Qual_models_internal.to_latex((results_tables_path+\"Performance_metrics_Problem_Type_\"+str(f_unknown_mode)+\"Problemdimension\"+str(problem_dim)+\"__SUMMARY_METRICS.tex\"))\n",
    "Summary_pred_Qual_models_train.to_latex((results_tables_path+\"Performance_metrics_Problem_Type_\"+str(f_unknown_mode)+\"Problemdimension\"+str(problem_dim)+\"__SUMMARY_METRICS_train.tex\"))\n",
    "Summary_pred_Qual_models_test.to_latex((results_tables_path+\"Performance_metrics_Problem_Type_\"+str(f_unknown_mode)+\"Problemdimension\"+str(problem_dim)+\"__SUMMARY_METRICS_test.tex\"))\n",
    "\n",
    "# Remove W1 estimates from x \\mapsto \\delta_{f(x)}\n",
    "Summary_pred_Qual_models = Summary_pred_Qual_models_internal.copy()\n",
    "Summary_pred_Qual_models.loc[['W1-95L','W1','W1-95R'],['ENET','KRidge','ENET','GBRF','DNN']] = \"-\"\n",
    "Summary_pred_Qual_models.to_latex((results_tables_path+\"Final_Results/Performance_metrics_Problem_Type_\"+str(f_unknown_mode)+\"Problemdimension\"+str(problem_dim)+\"__SUMMARY_METRICS.tex\"))\n",
    "\n",
    "# Update User\n",
    "print(Summary_pred_Qual_models)\n",
    "print(\"------------------------------------------------\")\n",
    "print(\"Updated Performance Metrics Dataframe and Saved!\")\n",
    "print(\"------------------------------------------------\")"
   ]
  },
  {
   "cell_type": "markdown",
   "metadata": {},
   "source": [
    "## Feed-Forward DNN"
   ]
  },
  {
   "cell_type": "code",
   "execution_count": 20,
   "metadata": {},
   "outputs": [
    {
     "name": "stderr",
     "output_type": "stream",
     "text": [
      "[Parallel(n_jobs=4)]: Using backend LokyBackend with 4 concurrent workers.\n"
     ]
    },
    {
     "name": "stdout",
     "output_type": "stream",
     "text": [
      "-------------\n",
      "Training: DNN\n",
      "-------------\n",
      "Fitting 2 folds for each of 1 candidates, totalling 2 fits\n"
     ]
    },
    {
     "name": "stderr",
     "output_type": "stream",
     "text": [
      "[Parallel(n_jobs=4)]: Done   2 out of   2 | elapsed:    1.2s remaining:    0.0s\n",
      "[Parallel(n_jobs=4)]: Done   2 out of   2 | elapsed:    1.2s finished\n"
     ]
    },
    {
     "name": "stdout",
     "output_type": "stream",
     "text": [
      "Epoch 1/5\n",
      "7/7 [==============================] - 0s 2ms/step - loss: 166.5206 - mse: 62155.2812 - mae: 166.5206 - mape: 100.0238\n",
      "Epoch 2/5\n",
      "7/7 [==============================] - 0s 2ms/step - loss: 166.5206 - mse: 62155.2500 - mae: 166.5206 - mape: 100.0238\n",
      "Epoch 3/5\n",
      "7/7 [==============================] - 0s 3ms/step - loss: 166.5205 - mse: 62155.2148 - mae: 166.5205 - mape: 100.0237\n",
      "Epoch 4/5\n",
      "7/7 [==============================] - 0s 2ms/step - loss: 166.5204 - mse: 62155.1914 - mae: 166.5204 - mape: 100.0237\n",
      "Epoch 5/5\n",
      "7/7 [==============================] - 0s 2ms/step - loss: 166.5204 - mse: 62155.1562 - mae: 166.5204 - mape: 100.0236\n",
      "7/7 [==============================] - 0s 873us/step\n",
      "3/3 [==============================] - 0s 1ms/step\n"
     ]
    }
   ],
   "source": [
    "# Stop Timer\n",
    "Timer_ffNN = time.time()\n",
    "print(\"-------------\")\n",
    "print(\"Training: DNN\")\n",
    "print(\"-------------\")\n",
    "\n",
    "# Redefine (Dimension-related) Elements of Grid\n",
    "param_grid_Deep_Classifier['input_dim'] = [problem_dim]\n",
    "param_grid_Deep_Classifier['output_dim'] = [output_dim]\n",
    "\n",
    "YHat_ffNN, YHat_ffNN_test, ffNN_N_Params, ffNN_eval_time = build_ffNN(n_folds = CV_folds,\n",
    "                                                                      n_jobs = n_jobs, \n",
    "                                                                      n_iter = n_iter,\n",
    "                                                                      param_grid_in = param_grid_Deep_Classifier,  \n",
    "                                                                      X_train = X_train,\n",
    "                                                                      y_train = Y_train_mean_emp,\n",
    "                                                                      X_test = X_test)"
   ]
  },
  {
   "cell_type": "markdown",
   "metadata": {},
   "source": [
    "#### Get Prediction Errors"
   ]
  },
  {
   "cell_type": "code",
   "execution_count": 21,
   "metadata": {},
   "outputs": [
    {
     "name": "stderr",
     "output_type": "stream",
     "text": [
      " 32%|███▏      | 16/50 [00:00<00:00, 152.23it/s]"
     ]
    },
    {
     "name": "stdout",
     "output_type": "stream",
     "text": [
      "#------------#\n",
      " Get Error(s) \n",
      "#------------#\n"
     ]
    },
    {
     "name": "stderr",
     "output_type": "stream",
     "text": [
      "100%|██████████| 50/50 [00:00<00:00, 163.13it/s]\n",
      "100%|██████████| 20/20 [00:00<00:00, 193.26it/s]"
     ]
    },
    {
     "name": "stdout",
     "output_type": "stream",
     "text": [
      "#-----------------#\n",
      " Get Error(s): END \n",
      "#-----------------#\n",
      "#------------#\n",
      " Get Error(s) \n",
      "#------------#\n",
      "#-----------------#\n",
      " Get Error(s): END \n",
      "#-----------------#\n"
     ]
    },
    {
     "name": "stderr",
     "output_type": "stream",
     "text": [
      "\n"
     ]
    }
   ],
   "source": [
    "## Train\n",
    "ffNN_errors_W1,ffNN_errors_M1 = get_deterministic_errors(X_train,YHat_ffNN,Y_train,N_Bootstraps=N_Boostraps_BCA)\n",
    "## Test\n",
    "ffNN_errors_W1_test,ffNN_errors_M1_test = get_deterministic_errors(X_test,YHat_ffNN_test,Y_test,N_Bootstraps=N_Boostraps_BCA)\n",
    "\n",
    "# Compute Lapsed Time Needed For Training\n",
    "Timer_ffNN =  time.time() - Timer_ffNN"
   ]
  },
  {
   "cell_type": "markdown",
   "metadata": {},
   "source": [
    "#### Update DataFrame"
   ]
  },
  {
   "cell_type": "code",
   "execution_count": 22,
   "metadata": {},
   "outputs": [
    {
     "name": "stdout",
     "output_type": "stream",
     "text": [
      "Updated DataFrame\n",
      "                                      DNM  MC-Oracle          ENET  \\\n",
      "W1-95L                           3.773780   0.000000  1.585715e+02   \n",
      "W1                               4.406379   0.000000  2.115587e+02   \n",
      "W1-95R                           5.002153   0.000000  2.521552e+02   \n",
      "M-95L                            4.313958   4.260508  5.943433e+02   \n",
      "M                                5.519015   5.519015  6.880169e+02   \n",
      "M-95R                            7.019481   6.640253  8.444003e+02   \n",
      "N_Par                          478.000000   0.000000  4.000000e+02   \n",
      "Train_Time                       8.240402   0.508606  1.619751e+09   \n",
      "Test_Time/MC-Oracle_Test_Time    0.286276   1.000000  1.575600e-03   \n",
      "\n",
      "                                   KRidge           GBRF         DNN  \n",
      "W1-95L                         154.522026     156.739023    3.863143  \n",
      "W1                             209.388189     224.899840    5.513352  \n",
      "W1-95R                         270.039800     293.074196    7.353735  \n",
      "M-95L                          494.355049     556.346462    5.130991  \n",
      "M                              709.847385     743.636628    7.146910  \n",
      "M-95R                          946.288951     985.909096    9.413906  \n",
      "N_Par                            0.000000  278910.000000  104.000000  \n",
      "Train_Time                       0.908637       1.824479    2.491329  \n",
      "Test_Time/MC-Oracle_Test_Time    0.006017       0.020123    0.430782  \n"
     ]
    },
    {
     "data": {
      "text/html": [
       "<div>\n",
       "<style scoped>\n",
       "    .dataframe tbody tr th:only-of-type {\n",
       "        vertical-align: middle;\n",
       "    }\n",
       "\n",
       "    .dataframe tbody tr th {\n",
       "        vertical-align: top;\n",
       "    }\n",
       "\n",
       "    .dataframe thead th {\n",
       "        text-align: right;\n",
       "    }\n",
       "</style>\n",
       "<table border=\"1\" class=\"dataframe\">\n",
       "  <thead>\n",
       "    <tr style=\"text-align: right;\">\n",
       "      <th></th>\n",
       "      <th>DNM</th>\n",
       "      <th>MC-Oracle</th>\n",
       "      <th>ENET</th>\n",
       "      <th>KRidge</th>\n",
       "      <th>GBRF</th>\n",
       "      <th>DNN</th>\n",
       "    </tr>\n",
       "  </thead>\n",
       "  <tbody>\n",
       "    <tr>\n",
       "      <th>W1-95L</th>\n",
       "      <td>3.773780</td>\n",
       "      <td>0.000000</td>\n",
       "      <td>1.585715e+02</td>\n",
       "      <td>154.522026</td>\n",
       "      <td>156.739023</td>\n",
       "      <td>3.863143</td>\n",
       "    </tr>\n",
       "    <tr>\n",
       "      <th>W1</th>\n",
       "      <td>4.406379</td>\n",
       "      <td>0.000000</td>\n",
       "      <td>2.115587e+02</td>\n",
       "      <td>209.388189</td>\n",
       "      <td>224.899840</td>\n",
       "      <td>5.513352</td>\n",
       "    </tr>\n",
       "    <tr>\n",
       "      <th>W1-95R</th>\n",
       "      <td>5.002153</td>\n",
       "      <td>0.000000</td>\n",
       "      <td>2.521552e+02</td>\n",
       "      <td>270.039800</td>\n",
       "      <td>293.074196</td>\n",
       "      <td>7.353735</td>\n",
       "    </tr>\n",
       "    <tr>\n",
       "      <th>M-95L</th>\n",
       "      <td>4.313958</td>\n",
       "      <td>4.260508</td>\n",
       "      <td>5.943433e+02</td>\n",
       "      <td>494.355049</td>\n",
       "      <td>556.346462</td>\n",
       "      <td>5.130991</td>\n",
       "    </tr>\n",
       "    <tr>\n",
       "      <th>M</th>\n",
       "      <td>5.519015</td>\n",
       "      <td>5.519015</td>\n",
       "      <td>6.880169e+02</td>\n",
       "      <td>709.847385</td>\n",
       "      <td>743.636628</td>\n",
       "      <td>7.146910</td>\n",
       "    </tr>\n",
       "    <tr>\n",
       "      <th>M-95R</th>\n",
       "      <td>7.019481</td>\n",
       "      <td>6.640253</td>\n",
       "      <td>8.444003e+02</td>\n",
       "      <td>946.288951</td>\n",
       "      <td>985.909096</td>\n",
       "      <td>9.413906</td>\n",
       "    </tr>\n",
       "    <tr>\n",
       "      <th>N_Par</th>\n",
       "      <td>478.000000</td>\n",
       "      <td>0.000000</td>\n",
       "      <td>4.000000e+02</td>\n",
       "      <td>0.000000</td>\n",
       "      <td>278910.000000</td>\n",
       "      <td>104.000000</td>\n",
       "    </tr>\n",
       "    <tr>\n",
       "      <th>Train_Time</th>\n",
       "      <td>8.240402</td>\n",
       "      <td>0.508606</td>\n",
       "      <td>1.619751e+09</td>\n",
       "      <td>0.908637</td>\n",
       "      <td>1.824479</td>\n",
       "      <td>2.491329</td>\n",
       "    </tr>\n",
       "    <tr>\n",
       "      <th>Test_Time/MC-Oracle_Test_Time</th>\n",
       "      <td>0.286276</td>\n",
       "      <td>1.000000</td>\n",
       "      <td>1.575600e-03</td>\n",
       "      <td>0.006017</td>\n",
       "      <td>0.020123</td>\n",
       "      <td>0.430782</td>\n",
       "    </tr>\n",
       "  </tbody>\n",
       "</table>\n",
       "</div>"
      ],
      "text/plain": [
       "                                      DNM  MC-Oracle          ENET  \\\n",
       "W1-95L                           3.773780   0.000000  1.585715e+02   \n",
       "W1                               4.406379   0.000000  2.115587e+02   \n",
       "W1-95R                           5.002153   0.000000  2.521552e+02   \n",
       "M-95L                            4.313958   4.260508  5.943433e+02   \n",
       "M                                5.519015   5.519015  6.880169e+02   \n",
       "M-95R                            7.019481   6.640253  8.444003e+02   \n",
       "N_Par                          478.000000   0.000000  4.000000e+02   \n",
       "Train_Time                       8.240402   0.508606  1.619751e+09   \n",
       "Test_Time/MC-Oracle_Test_Time    0.286276   1.000000  1.575600e-03   \n",
       "\n",
       "                                   KRidge           GBRF         DNN  \n",
       "W1-95L                         154.522026     156.739023    3.863143  \n",
       "W1                             209.388189     224.899840    5.513352  \n",
       "W1-95R                         270.039800     293.074196    7.353735  \n",
       "M-95L                          494.355049     556.346462    5.130991  \n",
       "M                              709.847385     743.636628    7.146910  \n",
       "M-95R                          946.288951     985.909096    9.413906  \n",
       "N_Par                            0.000000  278910.000000  104.000000  \n",
       "Train_Time                       0.908637       1.824479    2.491329  \n",
       "Test_Time/MC-Oracle_Test_Time    0.006017       0.020123    0.430782  "
      ]
     },
     "execution_count": 22,
     "metadata": {},
     "output_type": "execute_result"
    }
   ],
   "source": [
    "# Train\n",
    "Summary_pred_Qual_models_internal[\"DNN\"] = pd.Series(np.append(np.append(ffNN_errors_W1,\n",
    "                                                                ffNN_errors_M1),\n",
    "                                                         np.array([ffNN_N_Params,\n",
    "                                                                   Timer_ffNN,\n",
    "                                                                   (ffNN_eval_time/Test_Set_PredictionTime_MC)])), index=Summary_pred_Qual_models.index)\n",
    "# Test\n",
    "Summary_pred_Qual_models_test[\"DNN\"] = pd.Series(np.append(np.append(ffNN_errors_W1_test,\n",
    "                                                                     ffNN_errors_M1_test),\n",
    "                                                           np.array([ffNN_N_Params,\n",
    "                                                                     Timer_ffNN,\n",
    "                                                                     (ffNN_eval_time/Test_Set_PredictionTime_MC)])), index=Summary_pred_Qual_models_test.index)\n",
    "\n",
    "print(\"Updated DataFrame\")\n",
    "## Get Worst-Case\n",
    "Summary_pred_Qual_models_train = Summary_pred_Qual_models_internal\n",
    "Summary_pred_Qual_models_internal = np.maximum(Summary_pred_Qual_models_internal,Summary_pred_Qual_models_test)\n",
    "Summary_pred_Qual_models = np.copy(Summary_pred_Qual_models_internal)\n",
    "## Write Performance Metrics\n",
    "Summary_pred_Qual_models_internal.to_latex((results_tables_path+\"Performance_metrics_Problem_Type_\"+str(f_unknown_mode)+\"Problemdimension\"+str(problem_dim)+\"__SUMMARY_METRICS.tex\"))\n",
    "Summary_pred_Qual_models_train.to_latex((results_tables_path+\"Performance_metrics_Problem_Type_\"+str(f_unknown_mode)+\"Problemdimension\"+str(problem_dim)+\"__SUMMARY_METRICS_train.tex\"))\n",
    "Summary_pred_Qual_models_test.to_latex((results_tables_path+\"Performance_metrics_Problem_Type_\"+str(f_unknown_mode)+\"Problemdimension\"+str(problem_dim)+\"__SUMMARY_METRICS_test.tex\"))\n",
    "\n",
    "# Remove W1 estimates from x \\mapsto \\delta_{f(x)}\n",
    "Summary_pred_Qual_models = Summary_pred_Qual_models_internal.copy()\n",
    "Summary_pred_Qual_models.loc[['W1-95L','W1','W1-95R'],['ENET','KRidge','ENET','GBRF','DNN']] = \"-\"\n",
    "Summary_pred_Qual_models.to_latex((results_tables_path+\"Final_Results/Performance_metrics_Problem_Type_\"+str(f_unknown_mode)+\"Problemdimension\"+str(problem_dim)+\"__SUMMARY_METRICS.tex\"))\n",
    "\n",
    "# Update User\n",
    "print(Summary_pred_Qual_models)\n",
    "print(\"------------------------------------------------\")\n",
    "print(\"Updated Performance Metrics Dataframe and Saved!\")\n",
    "print(\"------------------------------------------------\")"
   ]
  },
  {
   "cell_type": "markdown",
   "metadata": {},
   "source": [
    "### Remove meaningless value of $\\delta_{f(x)}$"
   ]
  },
  {
   "cell_type": "code",
   "execution_count": 1,
   "metadata": {},
   "outputs": [
    {
     "ename": "NameError",
     "evalue": "name 'np' is not defined",
     "output_type": "error",
     "traceback": [
      "\u001b[0;31m---------------------------------------------------------------------------\u001b[0m",
      "\u001b[0;31mNameError\u001b[0m                                 Traceback (most recent call last)",
      "\u001b[0;32m<ipython-input-1-36ecd659d7c7>\u001b[0m in \u001b[0;36m<module>\u001b[0;34m\u001b[0m\n\u001b[1;32m      1\u001b[0m \u001b[0;31m# Remove W1 estimates from x \\mapsto \\delta_{f(x)}\u001b[0m\u001b[0;34m\u001b[0m\u001b[0;34m\u001b[0m\u001b[0;34m\u001b[0m\u001b[0m\n\u001b[0;32m----> 2\u001b[0;31m \u001b[0mnp\u001b[0m\u001b[0;34m.\u001b[0m\u001b[0mcopy\u001b[0m\u001b[0;34m(\u001b[0m\u001b[0mSummary_pred_Qual_models\u001b[0m\u001b[0;34m)\u001b[0m\u001b[0;34m\u001b[0m\u001b[0;34m\u001b[0m\u001b[0m\n\u001b[0m\u001b[1;32m      3\u001b[0m \u001b[0;31m# Summary_pred_Qual_models.loc[['W1-95L','W1','W1-95R'],['ENET','KRidge','ENET','GBRF','DNN']] = \"-\"\u001b[0m\u001b[0;34m\u001b[0m\u001b[0;34m\u001b[0m\u001b[0;34m\u001b[0m\u001b[0m\n",
      "\u001b[0;31mNameError\u001b[0m: name 'np' is not defined"
     ]
    }
   ],
   "source": [
    "# Remove W1 estimates from x \\mapsto \\delta_{f(x)}\n",
    "Summary_pred_Qual_models = Summary_pred_Qual_models_internal.copy()\n",
    "Summary_pred_Qual_models.loc[['W1-95L','W1','W1-95R'],['ENET','KRidge','ENET','GBRF','DNN']] = \"-\"\n",
    "Summary_pred_Qual_models.to_latex((results_tables_path+\"Final_Results/Performance_metrics_Problem_Type_\"+str(f_unknown_mode)+\"Problemdimension\"+str(problem_dim)+\"__SUMMARY_METRICS.tex\"))"
   ]
  },
  {
   "cell_type": "markdown",
   "metadata": {},
   "source": [
    "---"
   ]
  },
  {
   "cell_type": "markdown",
   "metadata": {},
   "source": [
    "---\n",
    "# Fin\n",
    "---"
   ]
  }
 ],
 "metadata": {
  "kernelspec": {
   "display_name": "Python 3",
   "language": "python",
   "name": "python3"
  },
  "language_info": {
   "codemirror_mode": {
    "name": "ipython",
    "version": 3
   },
   "file_extension": ".py",
   "mimetype": "text/x-python",
   "name": "python",
   "nbconvert_exporter": "python",
   "pygments_lexer": "ipython3",
   "version": "3.7.7"
  }
 },
 "nbformat": 4,
 "nbformat_minor": 2
}
