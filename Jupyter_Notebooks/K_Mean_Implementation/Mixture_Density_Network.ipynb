{
 "cells": [
  {
   "cell_type": "markdown",
   "metadata": {},
   "source": [
    "# Training of Bishop's Mixture Density Network"
   ]
  },
  {
   "cell_type": "markdown",
   "metadata": {},
   "source": [
    "#### Reset Meta-Parameters"
   ]
  },
  {
   "cell_type": "code",
   "execution_count": null,
   "metadata": {},
   "outputs": [],
   "source": [
    "# Redefine (Dimension-related) Elements of Grid\n",
    "exec(open('Init_Dump.py').read())\n",
    "import time\n",
    "param_grid_Deep_Classifier['input_dim'] = [problem_dim]\n",
    "param_grid_Deep_Classifier['output_dim'] = [N_GMM_clusters]"
   ]
  },
  {
   "cell_type": "markdown",
   "metadata": {},
   "source": [
    "#### Start Timer:"
   ]
  },
  {
   "cell_type": "code",
   "execution_count": null,
   "metadata": {},
   "outputs": [],
   "source": [
    "Bishop_MDN_Timer = time.time()"
   ]
  },
  {
   "cell_type": "markdown",
   "metadata": {},
   "source": [
    "## Prepare Training Data"
   ]
  },
  {
   "cell_type": "code",
   "execution_count": null,
   "metadata": {},
   "outputs": [],
   "source": [
    "# Initializizations #\n",
    "#-------------------#\n",
    "## Count Number of Centers\n",
    "N_GMM_clusters = int(np.minimum(N_Quantizers_to_parameterize,Y_train.shape[1]-1))\n",
    "## Timer: Start\n",
    "timer_GMM_data_preparation = time.time()\n",
    "\n",
    "# Get Training Data #\n",
    "#-------------------#\n",
    "for i in tqdm(range(X_train.shape[0])):\n",
    "    # Train GMM\n",
    "    gmm_loop = GaussianMixture(n_components=N_GMM_clusters)\n",
    "    gmm_loop.fit(Y_train[i,].reshape(-1,1))\n",
    "    # Get Fit Parameter(s)\n",
    "    means_GMM_loop = gmm_loop.means_.reshape(1,-1)\n",
    "    sds_GMM_loop = gmm_loop.covariances_.reshape(1,-1)\n",
    "    mixture_coefficients = gmm_loop.weights_.reshape(1,-1)\n",
    "    \n",
    "    # Update Targets #\n",
    "    #----------------#\n",
    "    if i == 0:\n",
    "        Y_MDN_targets_train_mean = means_GMM_loop\n",
    "        Y_MDN_targets_train_sd = sds_GMM_loop\n",
    "        Y_MDN_targets_train_mixture_weights = mixture_coefficients\n",
    "    else:\n",
    "        Y_MDN_targets_train_mean = np.append(Y_MDN_targets_train_mean,means_GMM_loop,axis=0)\n",
    "        Y_MDN_targets_train_sd = np.append(Y_MDN_targets_train_sd,sds_GMM_loop,axis=0)\n",
    "        Y_MDN_targets_train_mixture_weights = np.append(Y_MDN_targets_train_mixture_weights,mixture_coefficients,axis=0)\n",
    "\n",
    "# Timer: Stop\n",
    "timer_GMM_data_preparation = time.time() - timer_GMM_data_preparation"
   ]
  },
  {
   "cell_type": "markdown",
   "metadata": {},
   "source": [
    "## Define Model Components (Sub-Networks)"
   ]
  },
  {
   "cell_type": "markdown",
   "metadata": {},
   "source": [
    "### Means Network"
   ]
  },
  {
   "cell_type": "markdown",
   "metadata": {},
   "source": [
    "This is just a vanilla ffNN!"
   ]
  },
  {
   "cell_type": "markdown",
   "metadata": {},
   "source": [
    "### Train SDs Network\n",
    "This one needs some customization!"
   ]
  },
  {
   "cell_type": "markdown",
   "metadata": {},
   "source": [
    "#### Define Architecture and Network Builder"
   ]
  },
  {
   "cell_type": "code",
   "execution_count": null,
   "metadata": {},
   "outputs": [],
   "source": [
    "# Affine Readout post-composed with UAP-preserving readout map to G_d\n",
    "class SD_output(tf.keras.layers.Layer):\n",
    "\n",
    "    def __init__(self, units=16, input_dim=32):\n",
    "        super(SD_output, self).__init__()\n",
    "        self.units = units\n",
    "\n",
    "    def build(self, input_shape):\n",
    "        self.w = self.add_weight(name='Weights_ffNN',\n",
    "                                 shape=(input_shape[-1], self.units),\n",
    "                               initializer='random_normal',\n",
    "                               trainable=True)\n",
    "        self.b = self.add_weight(name='bias_ffNN',\n",
    "                                 shape=(self.units,),\n",
    "                               initializer='random_normal',\n",
    "                               trainable=True)\n",
    "\n",
    "    def call(self, inputs):\n",
    "        parameters = tf.matmul(inputs, self.w) + self.b\n",
    "        sd_out = tf.math.exp(parameters)\n",
    "        return sd_out"
   ]
  },
  {
   "cell_type": "code",
   "execution_count": null,
   "metadata": {},
   "outputs": [],
   "source": [
    "def get_MDN_SDs_SubNetwork(height, depth, learning_rate, input_dim, output_dim):\n",
    "    #----------------------------#\n",
    "    # Maximally Interacting Layer #\n",
    "    #-----------------------------#\n",
    "    # Initialize Inputs\n",
    "    input_layer = tf.keras.Input(shape=(input_dim,))\n",
    "   \n",
    "    \n",
    "    #------------------#\n",
    "    #   Core Layers    #\n",
    "    #------------------#\n",
    "    core_layers = fullyConnected_Dense(height)(input_layer)\n",
    "    # Activation\n",
    "    core_layers = tf.nn.swish(core_layers)\n",
    "    # Train additional Depth?\n",
    "    if depth>1:\n",
    "        # Add additional deep layer(s)\n",
    "        for depth_i in range(1,depth):\n",
    "            core_layers = fullyConnected_Dense(height)(core_layers)\n",
    "            # Activation\n",
    "            core_layers = tf.nn.swish(core_layers)\n",
    "    \n",
    "    #------------------#\n",
    "    #  Readout Layers  #\n",
    "    #------------------# \n",
    "    # Gaussian Splitter Layer\n",
    "    output_layers = SD_output(output_dim)(core_layers)  \n",
    "    # Define Input/Output Relationship (Arch.)\n",
    "    trainable_layers_model = tf.keras.Model(input_layer, output_layers)\n",
    "    \n",
    "    \n",
    "    #----------------------------------#\n",
    "    # Define Optimizer & Compile Archs.\n",
    "    #----------------------------------#\n",
    "    opt = Adam(lr=learning_rate)\n",
    "    trainable_layers_model.compile(optimizer=opt, loss=\"mae\", metrics=[\"mse\", \"mae\", \"mape\"])\n",
    "\n",
    "    return trainable_layers_model\n",
    "\n",
    "#----------------------------------------------------------------------------------------------------#\n",
    "\n",
    "def build_MDN_SDs_SubNetwork(n_folds , n_jobs, n_iter, param_grid_in, X_train, y_train,X_test):\n",
    "    # Update Dictionary\n",
    "    param_grid_in_internal = param_grid_in\n",
    "    param_grid_in_internal['input_dim'] = [(X_train.shape[1])]\n",
    "    \n",
    "    # Deep Feature Network\n",
    "    ffNN_CV = tf.keras.wrappers.scikit_learn.KerasRegressor(build_fn=get_MDN_SDs_SubNetwork, \n",
    "                                                            verbose=True)\n",
    "    \n",
    "    # Randomized CV\n",
    "    ffNN_CVer = RandomizedSearchCV(estimator=ffNN_CV, \n",
    "                                    n_jobs=n_jobs,\n",
    "                                    cv=KFold(n_folds, random_state=2020, shuffle=True),\n",
    "                                    param_distributions=param_grid_in_internal,\n",
    "                                    n_iter=n_iter,\n",
    "                                    return_train_score=True,\n",
    "                                    random_state=2020,\n",
    "                                    verbose=10)\n",
    "    \n",
    "    # Fit Model #\n",
    "    #-----------#\n",
    "    ffNN_CVer.fit(X_train,y_train)\n",
    "\n",
    "    # Write Predictions #\n",
    "    #-------------------#\n",
    "    y_hat_train = ffNN_CVer.predict(X_train)\n",
    "    \n",
    "    eval_time_ffNN = time.time()\n",
    "    y_hat_test = ffNN_CVer.predict(X_test)\n",
    "    eval_time_ffNN = time.time() - eval_time_ffNN\n",
    "    \n",
    "    # Counter number of parameters #\n",
    "    #------------------------------#\n",
    "    # Extract Best Model\n",
    "    best_model = ffNN_CVer.best_estimator_\n",
    "    # Count Number of Parameters\n",
    "    N_params_best_ffNN = np.sum([np.prod(v.get_shape().as_list()) for v in best_model.model.trainable_variables])\n",
    "    \n",
    "    \n",
    "    # Return Values #\n",
    "    #---------------#\n",
    "    return y_hat_train, y_hat_test, N_params_best_ffNN, eval_time_ffNN\n",
    "\n",
    "# Update User\n",
    "#-------------#\n",
    "print('Deep Feature Builder - Ready')"
   ]
  },
  {
   "cell_type": "markdown",
   "metadata": {},
   "source": [
    "---"
   ]
  },
  {
   "cell_type": "markdown",
   "metadata": {},
   "source": [
    "## Train Sub-Networks"
   ]
  },
  {
   "cell_type": "markdown",
   "metadata": {},
   "source": [
    "#### Train Means Network"
   ]
  },
  {
   "cell_type": "code",
   "execution_count": null,
   "metadata": {},
   "outputs": [],
   "source": [
    "print(\"=====================================================\")\n",
    "print(\"Training Mixture Density Network (MDN): Means: Start!\")\n",
    "print(\"=====================================================\")\n",
    "# Train simple deep classifier\n",
    "timer_MDN_Means = time.time()\n",
    "MDN_Means_train, MDN_Means_test, N_params_MDN_MeansNet, timer_output_MDN_MeansNet = build_ffNN(n_folds = CV_folds,\n",
    "                                                                                               n_jobs = n_jobs,\n",
    "                                                                                               n_iter = n_iter,\n",
    "                                                                                               param_grid_in=param_grid_Deep_Classifier,\n",
    "                                                                                               X_train = X_train,\n",
    "                                                                                               y_train = Y_MDN_targets_train_mean,\n",
    "                                                                                               X_test = X_test)\n",
    "\n",
    "# Format as float\n",
    "MDN_Means_train = np.array(MDN_Means_train,dtype=float)\n",
    "MDN_Means_test = np.array(MDN_Means_test,dtype=float)\n",
    "timer_MDN_Means = time.time() - timer_MDN_Means\n",
    "print(\"===================================================\")\n",
    "print(\"Training Mixture Density Network (MDN): Means: END!\")\n",
    "print(\"===================================================\")"
   ]
  },
  {
   "cell_type": "markdown",
   "metadata": {},
   "source": [
    "#### Train Standard-Deviations Network"
   ]
  },
  {
   "cell_type": "code",
   "execution_count": null,
   "metadata": {},
   "outputs": [],
   "source": [
    "print(\"===================================================\")\n",
    "print(\"Training Mixture Density Network (MDN): SD: Start!\")\n",
    "print(\"===================================================\")\n",
    "\n",
    "\n",
    "# Train simple deep classifier\n",
    "timer_MDN_SDs = time.time()\n",
    "MDN_SDs_train, MDN_SDs_test, N_params_MDN_SDsNet, timer_output_MDN_SDsNet = build_MDN_SDs_SubNetwork(n_folds = CV_folds,\n",
    "                                                                                                             n_jobs = n_jobs,\n",
    "                                                                                                             n_iter = n_iter,\n",
    "                                                                                                             param_grid_in=param_grid_Deep_Classifier,\n",
    "                                                                                                             X_train = X_train,\n",
    "                                                                                                             y_train = Y_MDN_targets_train_sd,\n",
    "                                                                                                             X_test = X_test)\n",
    "# Format as float\n",
    "MDN_SDs_train = np.array(MDN_SDs_train,dtype=float)\n",
    "MDN_SDs_test = np.array(MDN_SDs_test,dtype=float)\n",
    "timer_MDN_SDs = time.time() - timer_MDN_SDs\n",
    "print(\"=================================================\")\n",
    "print(\"Training Mixture Density Network (MDN): SD: END!\")\n",
    "print(\"=================================================\")"
   ]
  },
  {
   "cell_type": "markdown",
   "metadata": {},
   "source": [
    "#### Train Mixture Coefficient Network"
   ]
  },
  {
   "cell_type": "code",
   "execution_count": null,
   "metadata": {},
   "outputs": [],
   "source": [
    "print(\"====================================================================\")\n",
    "print(\"Training Mixture Density Network (MDN): Mixture Coefficients: Start!\")\n",
    "print(\"====================================================================\")\n",
    "# Train simple deep classifier\n",
    "timer_MDN_Mix = time.time()\n",
    "MDN_Mix_train, MDN_Mix_test, N_params_MDN_MixNet, timer_output_MDN_MixNet = build_simple_deep_classifier(n_folds = CV_folds,\n",
    "                                                                                                         n_jobs = n_jobs,\n",
    "                                                                                                         n_iter = n_iter,\n",
    "                                                                                                         param_grid_in=param_grid_Deep_Classifier,\n",
    "                                                                                                         X_train = X_train,\n",
    "                                                                                                         y_train = Y_MDN_targets_train_mixture_weights,\n",
    "                                                                                                         X_test = X_test)\n",
    "\n",
    "# Format as float\n",
    "MDN_Mix_train = np.array(MDN_Mix_train,dtype=float)\n",
    "MDN_Mix_test = np.array(MDN_Mix_test,dtype=float)\n",
    "timer_MDN_Mix = time.time() - timer_MDN_Mix\n",
    "print(\"==================================================================\")\n",
    "print(\"Training Mixture Density Network (MDN): Mixture Coefficients: END!\")\n",
    "print(\"==================================================================\")"
   ]
  },
  {
   "cell_type": "markdown",
   "metadata": {},
   "source": [
    "#### Stop Timer"
   ]
  },
  {
   "cell_type": "code",
   "execution_count": null,
   "metadata": {},
   "outputs": [],
   "source": [
    "Bishop_MDN_Timer = time.time() - Bishop_MDN_Timer"
   ]
  },
  {
   "cell_type": "markdown",
   "metadata": {},
   "source": [
    "# Get Performance Metric(s)"
   ]
  },
  {
   "cell_type": "markdown",
   "metadata": {},
   "source": [
    "## Predictive Performance Metrics"
   ]
  },
  {
   "cell_type": "code",
   "execution_count": null,
   "metadata": {},
   "outputs": [],
   "source": []
  },
  {
   "cell_type": "markdown",
   "metadata": {},
   "source": [
    "## Model Complexity Metrics"
   ]
  },
  {
   "cell_type": "code",
   "execution_count": null,
   "metadata": {},
   "outputs": [],
   "source": []
  }
 ],
 "metadata": {
  "kernelspec": {
   "display_name": "Python 3",
   "language": "python",
   "name": "python3"
  },
  "language_info": {
   "codemirror_mode": {
    "name": "ipython",
    "version": 3
   },
   "file_extension": ".py",
   "mimetype": "text/x-python",
   "name": "python",
   "nbconvert_exporter": "python",
   "pygments_lexer": "ipython3",
   "version": "3.7.7"
  }
 },
 "nbformat": 4,
 "nbformat_minor": 2
}
