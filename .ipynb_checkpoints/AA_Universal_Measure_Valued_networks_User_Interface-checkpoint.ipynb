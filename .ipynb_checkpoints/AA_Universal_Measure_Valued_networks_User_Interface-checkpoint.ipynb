{
 "cells": [
  {
   "cell_type": "markdown",
   "metadata": {},
   "source": [
    "# Deep Universal Regular Conditional Expectations:\n",
    "\n",
    "---\n",
    "This implements the universal deep neural model of $\\mathcal{NN}_{1_{\\mathbb{R}^n},\\mathcal{D}}^{\\sigma:\\star}$ [Anastasis Kratsios](https://people.math.ethz.ch/~kratsioa/) - 2021.\n",
    "\n",
    "---\n",
    "\n",
    "## What does this code do?\n",
    "1. Learn Heteroskedastic Non-Linear Regression Problem\n",
    "     - $Y\\sim f_{\\text{unkown}}(x) + \\epsilon$ where $f$ is an known function and $\\epsilon\\sim Laplace(0,\\|x\\|)$\n",
    "2. Learn Random Bayesian Network's Law:\n",
    "    - $Y = W_J Y^{J-1}, \\qquad Y^{j}\\triangleq \\sigma\\bullet A^{j}Y^{j-1} + b^{j}, \\qquad Y^0\\triangleq x$\n",
    "\n",
    "3. In the above example if $A_j = M_j\\odot \\tilde{A_j}$ where $\\tilde{A}_j$ is a deterministic matrix and $M_j$ is a \"mask\", that is, a random matrix with binary entries and $\\odot$ is the Hadamard product then we recover the dropout framework.\n",
    "4. Learn the probability distribution that the unique strong solution to the rough SDE with uniformly Lipschitz drivers driven by a factional Brownian motion with Hurst exponent $H \\in [\\frac1{2},1)$:\n",
    "$$\n",
    "X_t^x = x + \\int_0^t \\alpha(s,X_s^x)ds + \\int_0^t \\beta(s,X_s^x)dB_s^H\n",
    "$$\n",
    "belongs, at time $t=1$, to a ball about the initial point $x$ of random radius given by an independant exponential random-variable with shape parameter $\\lambda=2$\n",
    "5. Train a DNN to predict the returns of bitcoin with GD.  Since this has random initialization then each prediction of a given $x$ is stochastic...We learn the distribution of this conditional RV (conditioned on x in the input space).\n",
    "$$\n",
    "Y_x \\triangleq \\hat{f}_{\\theta_{T}}(x), \\qquad \\theta_{(t+1)}\\triangleq \\theta_{(t)} + \\lambda \\sum_{x \\in \\mathbb{X}} \\nabla_{\\theta}\\|\\hat{f}_{\\theta_t}(x) - f(x)\\|, \\qquad \\theta_0 \\sim N_d(0,1);\n",
    "$$\n",
    "$T\\in \\mathbb{N}$ is a fixed number of \"SGD\" iterations (typically identified by cross-validation on a single SGD trajectory for a single initialization) and where $\\theta \\in \\mathbb{R}^{(d_{J}+1)+\\sum_{j=0}^{J-1} (d_{j+1}d_j + 1)}$ and $d_j$ is the dimension of the \"bias\" vector $b_j$ defining each layer of the DNN with layer dimensions:\n",
    "$$\n",
    "\\hat{f}_{\\theta}(x)\\triangleq A^{(J)}x^{(J)} + b^{(J)},\\qquad x^{(j+1)}\\triangleq \\sigma\\bullet A^{j}x^{(j)} + b^{j},\\qquad x^{(0)}\\triangleq x\n",
    ".\n",
    "$$\n",
    "\n",
    "6. Extreme Learning Machines: \n",
    "    Just like the Bayesian network but then last layer is trained on the training set using KRidge!"
   ]
  },
  {
   "cell_type": "markdown",
   "metadata": {},
   "source": [
    "#### Mode:\n",
    "Software/Hardware Testing or Real-Deal?"
   ]
  },
  {
   "cell_type": "code",
   "execution_count": 15,
   "metadata": {},
   "outputs": [],
   "source": [
    "trial_run = True"
   ]
  },
  {
   "cell_type": "markdown",
   "metadata": {},
   "source": [
    "### Simulation Method:"
   ]
  },
  {
   "cell_type": "code",
   "execution_count": 16,
   "metadata": {},
   "outputs": [],
   "source": [
    "# Random DNN\n",
    "# f_unknown_mode = \"Heteroskedastic_NonLinear_Regression\"\n",
    "\n",
    "# Random DNN internal noise\n",
    "## Real-world data version\n",
    "#f_unknown_mode = \"Extreme_Learning_Machine\"\n",
    "### General Parameters\n",
    "# activation_function == 'thresholding'\n",
    "activation_function = 'sigmoid'\n",
    "### Dataset Option 1\n",
    "dataset_option = 'SnP'\n",
    "### Dataset Option 2\n",
    "# dataset_option = 'crypto'\n",
    "Depth_Bayesian_DNN = 1\n",
    "N_Random_Features = 10\n",
    "## Simulated Data version\n",
    "# f_unknown_mode = \"DNN_with_Random_Weights\"\n",
    "width = 10\n",
    "\n",
    "# Random Dropout applied to trained DNN\n",
    "# f_unknown_mode = \"DNN_with_Bayesian_Dropout\"\n",
    "Dropout_rate = 0.75\n",
    "\n",
    "# GD with Randomized Input\n",
    "# f_unknown_mode = \"GD_with_randomized_input\"\n",
    "# GD_epochs = 50\n",
    "\n",
    "# SDE with fractional Driver\n",
    "# f_unknown_mode = \"Rough_SDE\"\n",
    "N_Euler_Steps = 10**4\n",
    "Hurst_Exponent = 0.5\n",
    "\n",
    "f_unknown_mode = \"Rough_SDE_Vanilla\"\n",
    "## Define Process' dynamics in (2) cell(s) below."
   ]
  },
  {
   "cell_type": "markdown",
   "metadata": {},
   "source": [
    "## Problem Dimension"
   ]
  },
  {
   "cell_type": "code",
   "execution_count": 17,
   "metadata": {},
   "outputs": [],
   "source": [
    "problem_dim = 10\n",
    "if f_unknown_mode != 'Extreme_Learning_Machine':\n",
    "    width = int(2*(problem_dim+1))"
   ]
  },
  {
   "cell_type": "markdown",
   "metadata": {},
   "source": [
    "#### Vanilla fractional SDE:\n",
    "If f_unknown_mode == \"Rough_SDE_Vanilla\" is selected, then we can specify the process's dynamics.  "
   ]
  },
  {
   "cell_type": "code",
   "execution_count": 18,
   "metadata": {},
   "outputs": [],
   "source": [
    "#--------------------------#\n",
    "# Define Process' Dynamics #\n",
    "#--------------------------#\n",
    "drift_constant = 0.1\n",
    "volatility_constant = 0.01\n",
    "\n",
    "# Define DNN Applier\n",
    "def f_unknown_drift_vanilla(x):\n",
    "    x_internal = x\n",
    "    x_internal = drift_constant*np.ones(problem_dim)\n",
    "    return x_internal\n",
    "def f_unknown_vol_vanilla(x):\n",
    "    x_internal = volatility_constant*np.diag(np.ones(problem_dim))\n",
    "    return x_internal"
   ]
  },
  {
   "cell_type": "markdown",
   "metadata": {},
   "source": [
    "## Note: *Why the procedure is so computationally efficient*?\n",
    "---\n",
    " - The sample barycenters do not require us to solve for any new Wasserstein-1 Barycenters; which is much more computationally costly,\n",
    " - Our training procedure never back-propages through $\\mathcal{W}_1$ since steps 2 and 3 are full-decoupled.  Therefore, training our deep classifier is (comparatively) cheap since it takes values in the standard $N$-simplex.\n",
    "\n",
    "---"
   ]
  },
  {
   "cell_type": "markdown",
   "metadata": {},
   "source": [
    "#### Grid Hyperparameter(s)\n",
    "- Ratio $\\frac{\\text{Testing Datasize}}{\\text{Training Datasize}}$.\n",
    "- Number of Training Points to Generate"
   ]
  },
  {
   "cell_type": "code",
   "execution_count": 19,
   "metadata": {},
   "outputs": [],
   "source": [
    "train_test_ratio = .1\n",
    "N_train_size = 5*(10**2)"
   ]
  },
  {
   "cell_type": "markdown",
   "metadata": {},
   "source": [
    "Monte-Carlo Paramters"
   ]
  },
  {
   "cell_type": "code",
   "execution_count": 20,
   "metadata": {},
   "outputs": [],
   "source": [
    "## Monte-Carlo\n",
    "N_Monte_Carlo_Samples = 10**2"
   ]
  },
  {
   "cell_type": "markdown",
   "metadata": {},
   "source": [
    "Initial radis of $\\delta$-bounded random partition of $\\mathcal{X}$!"
   ]
  },
  {
   "cell_type": "code",
   "execution_count": 21,
   "metadata": {},
   "outputs": [],
   "source": [
    "# Hyper-parameters of Cover\n",
    "delta = 0.1\n",
    "Proportion_per_cluster = .5"
   ]
  },
  {
   "cell_type": "markdown",
   "metadata": {},
   "source": [
    "## Dependencies and Auxiliary Script(s)"
   ]
  },
  {
   "cell_type": "code",
   "execution_count": 22,
   "metadata": {},
   "outputs": [
    {
     "name": "stdout",
     "output_type": "stream",
     "text": [
      "Deep Feature Builder - Ready\n",
      "Deep Classifier - Ready\n",
      "Deep Feature Builder - Ready\n"
     ]
    }
   ],
   "source": [
    "# %run Loader.ipynb\n",
    "exec(open('Loader.py').read())\n",
    "# Load Packages/Modules\n",
    "exec(open('Init_Dump.py').read())\n",
    "import time as time #<- Note sure why...but its always seems to need 'its own special loading...'"
   ]
  },
  {
   "cell_type": "markdown",
   "metadata": {},
   "source": [
    "# Simulate or Parse Data"
   ]
  },
  {
   "cell_type": "code",
   "execution_count": 23,
   "metadata": {},
   "outputs": [
    {
     "name": "stderr",
     "output_type": "stream",
     "text": [
      "\r",
      "  0%|          | 0/5 [00:00<?, ?it/s]"
     ]
    },
    {
     "name": "stdout",
     "output_type": "stream",
     "text": [
      "---------------------------------------\n",
      "Beginning Data-Parsing/Simulation Phase\n",
      "---------------------------------------\n",
      "Deep Feature Builder - Ready\n",
      "Deep Classifier - Ready\n",
      "Deep Feature Builder - Ready\n",
      "Deep Feature Builder - Ready\n",
      "Deep Classifier - Ready\n",
      "Deep Feature Builder - Ready\n",
      "Deciding on Which Simulator/Parser To Load\n",
      "Setting/Defining: Internal Parameters\n",
      "Deciding on Which Type of Data to Get/Simulate\n",
      "Simulating Output Data for given input data\n"
     ]
    },
    {
     "name": "stderr",
     "output_type": "stream",
     "text": [
      "100%|██████████| 5/5 [00:02<00:00,  2.20it/s]\n",
      "100%|██████████| 1/1 [00:00<00:00,  2.32it/s]"
     ]
    },
    {
     "name": "stdout",
     "output_type": "stream",
     "text": [
      "----------------------------------\n",
      "Done Data-Parsing/Simulation Phase\n",
      "----------------------------------\n"
     ]
    },
    {
     "name": "stderr",
     "output_type": "stream",
     "text": [
      "\n"
     ]
    }
   ],
   "source": [
    "# %run Data_Simulator_and_Parser.ipynb\n",
    "exec(open('Data_Simulator_and_Parser.py').read())"
   ]
  },
  {
   "cell_type": "markdown",
   "metadata": {},
   "source": [
    "#### Scale Data\n",
    "This is especially important to avoid exploding gradient problems when training the ML-models."
   ]
  },
  {
   "cell_type": "code",
   "execution_count": 24,
   "metadata": {},
   "outputs": [],
   "source": [
    "scaler = StandardScaler()\n",
    "scaler.fit(X_train)\n",
    "\n",
    "X_train = scaler.transform(X_train)\n",
    "X_test = scaler.transform(X_test)"
   ]
  },
  {
   "cell_type": "markdown",
   "metadata": {},
   "source": [
    "# Run Main:"
   ]
  },
  {
   "cell_type": "code",
   "execution_count": 59,
   "metadata": {
    "scrolled": true
   },
   "outputs": [
    {
     "name": "stdout",
     "output_type": "stream",
     "text": [
      "------------------------------\n",
      "Running script for main model!\n",
      "------------------------------\n"
     ]
    },
    {
     "name": "stderr",
     "output_type": "stream",
     "text": [
      "100%|██████████| 125/125 [00:00<00:00, 15706.18it/s]"
     ]
    },
    {
     "name": "stdout",
     "output_type": "stream",
     "text": [
      "Deep Feature Builder - Ready\n",
      "Deep Classifier - Ready\n",
      "==========================================\n",
      "Training Classifer Portion of Type-A Model\n",
      "==========================================\n",
      "Fitting 2 folds for each of 1 candidates, totalling 2 fits\n"
     ]
    },
    {
     "name": "stderr",
     "output_type": "stream",
     "text": [
      "\n",
      "[Parallel(n_jobs=4)]: Using backend LokyBackend with 4 concurrent workers.\n",
      "[Parallel(n_jobs=4)]: Done   2 out of   2 | elapsed:    3.7s remaining:    0.0s\n",
      "[Parallel(n_jobs=4)]: Done   2 out of   2 | elapsed:    3.7s finished\n"
     ]
    },
    {
     "name": "stdout",
     "output_type": "stream",
     "text": [
      "Epoch 1/10\n",
      "16/16 [==============================] - 0s 3ms/step - loss: 4.8326 - accuracy: 0.0120\n",
      "Epoch 2/10\n",
      "16/16 [==============================] - 0s 2ms/step - loss: 4.8249 - accuracy: 0.0200\n",
      "Epoch 3/10\n",
      "16/16 [==============================] - 0s 1ms/step - loss: 4.8199 - accuracy: 0.0240\n",
      "Epoch 4/10\n",
      "16/16 [==============================] - 0s 1ms/step - loss: 4.8146 - accuracy: 0.0240\n",
      "Epoch 5/10\n",
      "16/16 [==============================] - 0s 1ms/step - loss: 4.8092 - accuracy: 0.0240\n",
      "Epoch 6/10\n",
      "16/16 [==============================] - 0s 1ms/step - loss: 4.8032 - accuracy: 0.0240\n",
      "Epoch 7/10\n",
      "16/16 [==============================] - 0s 1ms/step - loss: 4.7967 - accuracy: 0.0240\n",
      "Epoch 8/10\n",
      "16/16 [==============================] - 0s 916us/step - loss: 4.7892 - accuracy: 0.0240\n",
      "Epoch 9/10\n",
      "16/16 [==============================] - 0s 1ms/step - loss: 4.7802 - accuracy: 0.0240\n",
      "Epoch 10/10\n",
      "16/16 [==============================] - 0s 868us/step - loss: 4.7705 - accuracy: 0.0240\n",
      "16/16 [==============================] - 0s 837us/step\n",
      "4/4 [==============================] - 0s 1ms/step\n",
      "===============================================\n",
      "Training Classifer Portion of Type Model: Done!\n",
      "===============================================\n"
     ]
    },
    {
     "name": "stderr",
     "output_type": "stream",
     "text": [
      "\r",
      "  0%|          | 0/250 [00:00<?, ?it/s]"
     ]
    },
    {
     "name": "stdout",
     "output_type": "stream",
     "text": [
      "#--------------------#\n",
      " Get Training Error(s)\n",
      "#--------------------#\n"
     ]
    },
    {
     "name": "stderr",
     "output_type": "stream",
     "text": [
      "100%|██████████| 250/250 [00:31<00:00,  7.89it/s]\n",
      "  2%|▏         | 1/50 [00:00<00:05,  8.37it/s]"
     ]
    },
    {
     "name": "stdout",
     "output_type": "stream",
     "text": [
      "#-------------------------#\n",
      " Get Training Error(s): END\n",
      "#-------------------------#\n",
      "#----------------#\n",
      " Get Test Error(s)\n",
      "#----------------#\n"
     ]
    },
    {
     "name": "stderr",
     "output_type": "stream",
     "text": [
      "100%|██████████| 50/50 [00:06<00:00,  8.08it/s]"
     ]
    },
    {
     "name": "stdout",
     "output_type": "stream",
     "text": [
      "#------------------------#\n",
      " Get Testing Error(s): END\n",
      "#------------------------#\n",
      "                                      DNM  MC-Oracle\n",
      "W1-95L                           0.202849   0.000000\n",
      "W1                               0.219712   0.000000\n",
      "W1-95R                           0.234712   0.000000\n",
      "M-95L                            0.191941   0.000000\n",
      "M                                0.195918   0.000000\n",
      "M-95R                            0.199908   0.000000\n",
      "N_Par                          775.000000   0.000000\n",
      "Train_Time                      42.649558   2.710179\n",
      "Test_Time/MC-Oracle_Test_Time    0.127335   1.000000\n",
      "------------------------------------\n",
      "Done: Running script for main model!\n",
      "------------------------------------\n"
     ]
    },
    {
     "name": "stderr",
     "output_type": "stream",
     "text": [
      "\n"
     ]
    }
   ],
   "source": [
    "print(\"------------------------------\")\n",
    "print(\"Running script for main model!\")\n",
    "print(\"------------------------------\")\n",
    "%run Universal_Measure_Valued_Networks_Backend.ipynb\n",
    "# exec(open('Universal_Measure_Valued_Networks_Backend.py').read())\n",
    "\n",
    "print(\"------------------------------------\")\n",
    "print(\"Done: Running script for main model!\")\n",
    "print(\"------------------------------------\")"
   ]
  },
  {
   "cell_type": "markdown",
   "metadata": {},
   "source": [
    "---\n",
    "# Run: All Benchmarks"
   ]
  },
  {
   "cell_type": "markdown",
   "metadata": {},
   "source": [
    "## 1) *Pointmass Benchmark(s)*\n",
    "These benchmarks consist of subsets of $C(\\mathbb{R}^d,\\mathbb{R})$ which we lift to models in $C(\\mathbb{R}^d,\\cap_{1\\leq q<\\infty}\\mathscr{P}_{q}(\\mathbb{R}))$ via:\n",
    "$$\n",
    "\\mathbb{R}^d \\ni x \\to f(x) \\to \\delta_{f(x)}\\in \\cap_{1\\leq q<\\infty}\\mathcal{P}_{q}(\\mathbb{R}).\n",
    "$$"
   ]
  },
  {
   "cell_type": "code",
   "execution_count": 60,
   "metadata": {},
   "outputs": [
    {
     "name": "stderr",
     "output_type": "stream",
     "text": [
      "\r",
      "  0%|          | 0/3 [00:00<?, ?it/s]"
     ]
    },
    {
     "name": "stdout",
     "output_type": "stream",
     "text": [
      "Deep Feature Builder - Ready\n",
      "--------------\n",
      "Training: ENET\n",
      "--------------\n"
     ]
    },
    {
     "name": "stderr",
     "output_type": "stream",
     "text": [
      "100%|██████████| 3/3 [00:12<00:00,  4.03s/it]\n",
      "  7%|▋         | 17/250 [00:00<00:01, 164.76it/s]"
     ]
    },
    {
     "name": "stdout",
     "output_type": "stream",
     "text": [
      "---------------------\n",
      "Training: ENET - Done\n",
      "---------------------\n",
      "#------------#\n",
      " Get Error(s) \n",
      "#------------#\n"
     ]
    },
    {
     "name": "stderr",
     "output_type": "stream",
     "text": [
      "100%|██████████| 250/250 [00:01<00:00, 175.21it/s]\n",
      " 34%|███▍      | 17/50 [00:00<00:00, 162.34it/s]"
     ]
    },
    {
     "name": "stdout",
     "output_type": "stream",
     "text": [
      "#-----------------#\n",
      " Get Error(s): END \n",
      "#-----------------#\n",
      "#------------#\n",
      " Get Error(s) \n",
      "#------------#\n"
     ]
    },
    {
     "name": "stderr",
     "output_type": "stream",
     "text": [
      "100%|██████████| 50/50 [00:00<00:00, 167.02it/s]\n",
      "[Parallel(n_jobs=4)]: Using backend LokyBackend with 4 concurrent workers.\n",
      "[Parallel(n_jobs=4)]: Done   1 tasks      | elapsed:    0.0s\n",
      "[Parallel(n_jobs=4)]: Batch computation too fast (0.0454s.) Setting batch_size=2.\n",
      "[Parallel(n_jobs=4)]: Done   2 out of   4 | elapsed:    0.1s remaining:    0.1s\n"
     ]
    },
    {
     "name": "stdout",
     "output_type": "stream",
     "text": [
      "#-----------------#\n",
      " Get Error(s): END \n",
      "#-----------------#\n",
      "Updated DataFrame\n",
      "                                      DNM  MC-Oracle         ENET\n",
      "W1-95L                           0.324933   0.000000            -\n",
      "W1                               0.331775   0.000000            -\n",
      "W1-95R                           0.340192   0.000000            -\n",
      "M-95L                            0.627737   0.000000      306.297\n",
      "M                                0.651914   0.000000       309.06\n",
      "M-95R                            0.683217   0.000000      312.247\n",
      "N_Par                          775.000000   0.000000         1008\n",
      "Train_Time                      42.649558   2.710179  1.62076e+09\n",
      "Test_Time/MC-Oracle_Test_Time    0.127335   1.000000  0.000585741\n",
      "------------------------------------------------\n",
      "Updated Performance Metrics Dataframe and Saved!\n",
      "------------------------------------------------\n",
      "-----------------\n",
      "Training: K-Ridge\n",
      "-----------------\n",
      "Fitting 2 folds for each of 2 candidates, totalling 4 fits\n"
     ]
    },
    {
     "name": "stderr",
     "output_type": "stream",
     "text": [
      "[Parallel(n_jobs=4)]: Done   4 out of   4 | elapsed:    0.4s remaining:    0.0s\n",
      "[Parallel(n_jobs=4)]: Done   4 out of   4 | elapsed:    0.4s finished\n",
      "  5%|▌         | 13/250 [00:00<00:01, 123.86it/s]"
     ]
    },
    {
     "name": "stdout",
     "output_type": "stream",
     "text": [
      "#------------#\n",
      " Get Error(s) \n",
      "#------------#\n"
     ]
    },
    {
     "name": "stderr",
     "output_type": "stream",
     "text": [
      "100%|██████████| 250/250 [00:01<00:00, 142.76it/s]\n",
      " 34%|███▍      | 17/50 [00:00<00:00, 160.76it/s]"
     ]
    },
    {
     "name": "stdout",
     "output_type": "stream",
     "text": [
      "#-----------------#\n",
      " Get Error(s): END \n",
      "#-----------------#\n",
      "#------------#\n",
      " Get Error(s) \n",
      "#------------#\n"
     ]
    },
    {
     "name": "stderr",
     "output_type": "stream",
     "text": [
      "100%|██████████| 50/50 [00:00<00:00, 172.99it/s]\n",
      "[Parallel(n_jobs=4)]: Using backend LokyBackend with 4 concurrent workers.\n",
      "[Parallel(n_jobs=4)]: Batch computation too fast (0.0328s.) Setting batch_size=2.\n",
      "[Parallel(n_jobs=4)]: Done   2 out of   2 | elapsed:    0.0s remaining:    0.0s\n",
      "[Parallel(n_jobs=4)]: Done   2 out of   2 | elapsed:    0.0s finished\n",
      "[Parallel(n_jobs=4)]: Using backend LokyBackend with 4 concurrent workers.\n",
      "[Parallel(n_jobs=4)]: Batch computation too fast (0.0427s.) Setting batch_size=2.\n",
      "[Parallel(n_jobs=4)]: Done   2 out of   2 | elapsed:    0.0s remaining:    0.0s\n",
      "[Parallel(n_jobs=4)]: Done   2 out of   2 | elapsed:    0.0s finished\n",
      "[Parallel(n_jobs=4)]: Using backend LokyBackend with 4 concurrent workers.\n",
      "[Parallel(n_jobs=4)]: Batch computation too fast (0.0108s.) Setting batch_size=2.\n",
      "[Parallel(n_jobs=4)]: Done   2 out of   2 | elapsed:    0.0s remaining:    0.0s\n",
      "[Parallel(n_jobs=4)]: Done   2 out of   2 | elapsed:    0.0s finished\n",
      "  0%|          | 0/250 [00:00<?, ?it/s]"
     ]
    },
    {
     "name": "stdout",
     "output_type": "stream",
     "text": [
      "#-----------------#\n",
      " Get Error(s): END \n",
      "#-----------------#\n",
      "Updated DataFrame\n",
      "                                      DNM  MC-Oracle         ENET      KRidge\n",
      "W1-95L                           0.324933   0.000000            -           -\n",
      "W1                               0.331775   0.000000            -           -\n",
      "W1-95R                           0.340192   0.000000            -           -\n",
      "M-95L                            0.627737   0.000000      306.297     305.098\n",
      "M                                0.651914   0.000000       309.06     308.169\n",
      "M-95R                            0.683217   0.000000      312.247     310.156\n",
      "N_Par                          775.000000   0.000000         1008           0\n",
      "Train_Time                      42.649558   2.710179  1.62076e+09     2.49863\n",
      "Test_Time/MC-Oracle_Test_Time    0.127335   1.000000  0.000585741  0.00332947\n",
      "------------------------------------------------\n",
      "Updated Performance Metrics Dataframe and Saved!\n",
      "------------------------------------------------\n",
      "--------------\n",
      "Training: GBRF\n",
      "--------------\n",
      "Fitting 2 folds for each of 1 candidates, totalling 2 fits\n",
      "Fitting 2 folds for each of 1 candidates, totalling 2 fits\n",
      "Fitting 2 folds for each of 1 candidates, totalling 2 fits\n",
      "#------------#\n",
      " Get Error(s) \n",
      "#------------#\n"
     ]
    },
    {
     "name": "stderr",
     "output_type": "stream",
     "text": [
      "100%|██████████| 250/250 [00:01<00:00, 148.83it/s]\n",
      " 22%|██▏       | 11/50 [00:00<00:00, 103.66it/s]"
     ]
    },
    {
     "name": "stdout",
     "output_type": "stream",
     "text": [
      "#-----------------#\n",
      " Get Error(s): END \n",
      "#-----------------#\n",
      "#------------#\n",
      " Get Error(s) \n",
      "#------------#\n"
     ]
    },
    {
     "name": "stderr",
     "output_type": "stream",
     "text": [
      "100%|██████████| 50/50 [00:00<00:00, 119.10it/s]\n",
      "[Parallel(n_jobs=4)]: Using backend LokyBackend with 4 concurrent workers.\n"
     ]
    },
    {
     "name": "stdout",
     "output_type": "stream",
     "text": [
      "#-----------------#\n",
      " Get Error(s): END \n",
      "#-----------------#\n",
      "Updated DataFrame\n",
      "                                      DNM  MC-Oracle         ENET      KRidge  \\\n",
      "W1-95L                           0.324933   0.000000            -           -   \n",
      "W1                               0.331775   0.000000            -           -   \n",
      "W1-95R                           0.340192   0.000000            -           -   \n",
      "M-95L                            0.627737   0.000000      306.297     305.098   \n",
      "M                                0.651914   0.000000       309.06     308.169   \n",
      "M-95R                            0.683217   0.000000      312.247     310.156   \n",
      "N_Par                          775.000000   0.000000         1008           0   \n",
      "Train_Time                      42.649558   2.710179  1.62076e+09     2.49863   \n",
      "Test_Time/MC-Oracle_Test_Time    0.127335   1.000000  0.000585741  0.00332947   \n",
      "\n",
      "                                     GBRF  \n",
      "W1-95L                                  -  \n",
      "W1                                      -  \n",
      "W1-95R                                  -  \n",
      "M-95L                             305.547  \n",
      "M                                 305.769  \n",
      "M-95R                             305.974  \n",
      "N_Par                                9400  \n",
      "Train_Time                        2.25416  \n",
      "Test_Time/MC-Oracle_Test_Time  0.00127112  \n",
      "------------------------------------------------\n",
      "Updated Performance Metrics Dataframe and Saved!\n",
      "------------------------------------------------\n",
      "-------------\n",
      "Training: DNN\n",
      "-------------\n",
      "Fitting 2 folds for each of 1 candidates, totalling 2 fits\n"
     ]
    },
    {
     "name": "stderr",
     "output_type": "stream",
     "text": [
      "[Parallel(n_jobs=4)]: Done   2 out of   2 | elapsed:    3.9s remaining:    0.0s\n",
      "[Parallel(n_jobs=4)]: Done   2 out of   2 | elapsed:    3.9s finished\n"
     ]
    },
    {
     "name": "stdout",
     "output_type": "stream",
     "text": [
      "Epoch 1/10\n",
      "16/16 [==============================] - 0s 2ms/step - loss: 102.7971 - mse: 11666.3643 - mae: 102.7971 - mape: 99.9653\n",
      "Epoch 2/10\n",
      "16/16 [==============================] - 0s 1ms/step - loss: 102.7969 - mse: 11666.3262 - mae: 102.7969 - mape: 99.9651\n",
      "Epoch 3/10\n",
      "16/16 [==============================] - 0s 1ms/step - loss: 102.7968 - mse: 11666.2871 - mae: 102.7968 - mape: 99.9649\n",
      "Epoch 4/10\n",
      "16/16 [==============================] - 0s 2ms/step - loss: 102.7966 - mse: 11666.2480 - mae: 102.7966 - mape: 99.9647\n",
      "Epoch 5/10\n",
      "16/16 [==============================] - 0s 2ms/step - loss: 102.7964 - mse: 11666.2080 - mae: 102.7964 - mape: 99.9645\n",
      "Epoch 6/10\n",
      "16/16 [==============================] - 0s 1ms/step - loss: 102.7962 - mse: 11666.1699 - mae: 102.7962 - mape: 99.9643\n",
      "Epoch 7/10\n",
      "16/16 [==============================] - 0s 951us/step - loss: 102.7960 - mse: 11666.1289 - mae: 102.7960 - mape: 99.9641\n",
      "Epoch 8/10\n",
      "16/16 [==============================] - 0s 1ms/step - loss: 102.7958 - mse: 11666.0908 - mae: 102.7958 - mape: 99.9639\n",
      "Epoch 9/10\n",
      "16/16 [==============================] - 0s 2ms/step - loss: 102.7956 - mse: 11666.0508 - mae: 102.7956 - mape: 99.9637\n",
      "Epoch 10/10\n",
      "16/16 [==============================] - 0s 1ms/step - loss: 102.7954 - mse: 11666.0127 - mae: 102.7954 - mape: 99.9635\n",
      "16/16 [==============================] - 0s 904us/step\n",
      "4/4 [==============================] - 0s 1ms/step\n"
     ]
    },
    {
     "name": "stderr",
     "output_type": "stream",
     "text": [
      "\r",
      "  0%|          | 0/250 [00:00<?, ?it/s]"
     ]
    },
    {
     "name": "stdout",
     "output_type": "stream",
     "text": [
      "#------------#\n",
      " Get Error(s) \n",
      "#------------#\n"
     ]
    },
    {
     "name": "stderr",
     "output_type": "stream",
     "text": [
      "100%|██████████| 250/250 [00:01<00:00, 192.13it/s]\n",
      " 38%|███▊      | 19/50 [00:00<00:00, 183.01it/s]"
     ]
    },
    {
     "name": "stdout",
     "output_type": "stream",
     "text": [
      "#-----------------#\n",
      " Get Error(s): END \n",
      "#-----------------#\n",
      "#------------#\n",
      " Get Error(s) \n",
      "#------------#\n"
     ]
    },
    {
     "name": "stderr",
     "output_type": "stream",
     "text": [
      "100%|██████████| 50/50 [00:00<00:00, 160.59it/s]"
     ]
    },
    {
     "name": "stdout",
     "output_type": "stream",
     "text": [
      "#-----------------#\n",
      " Get Error(s): END \n",
      "#-----------------#\n",
      "Updated DataFrame\n",
      "                                      DNM  MC-Oracle         ENET      KRidge  \\\n",
      "W1-95L                           0.324933   0.000000            -           -   \n",
      "W1                               0.331775   0.000000            -           -   \n",
      "W1-95R                           0.340192   0.000000            -           -   \n",
      "M-95L                            0.627737   0.000000      306.297     305.098   \n",
      "M                                0.651914   0.000000       309.06     308.169   \n",
      "M-95R                            0.683217   0.000000      312.247     310.156   \n",
      "N_Par                          775.000000   0.000000         1008           0   \n",
      "Train_Time                      42.649558   2.710179  1.62076e+09     2.49863   \n",
      "Test_Time/MC-Oracle_Test_Time    0.127335   1.000000  0.000585741  0.00332947   \n",
      "\n",
      "                                     GBRF       DNN  \n",
      "W1-95L                                  -         -  \n",
      "W1                                      -         -  \n",
      "W1-95R                                  -         -  \n",
      "M-95L                             305.547   3.01285  \n",
      "M                                 305.769    3.0352  \n",
      "M-95R                             305.974   3.05998  \n",
      "N_Par                                9400        43  \n",
      "Train_Time                        2.25416   6.66467  \n",
      "Test_Time/MC-Oracle_Test_Time  0.00127112  0.120127  \n",
      "------------------------------------------------\n",
      "Updated Performance Metrics Dataframe and Saved!\n",
      "------------------------------------------------\n"
     ]
    },
    {
     "name": "stderr",
     "output_type": "stream",
     "text": [
      "\n"
     ]
    }
   ],
   "source": [
    "exec(open('CV_Grid.py').read())\n",
    "# Notebook Mode:\n",
    "# %run Evaluation.ipynb\n",
    "# %run Benchmarks_Model_Builder_Pointmass_Based.ipynb\n",
    "# Terminal Mode (Default):\n",
    "exec(open('Evaluation.py').read())\n",
    "exec(open('Benchmarks_Model_Builder_Pointmass_Based.py').read())"
   ]
  },
  {
   "cell_type": "markdown",
   "metadata": {},
   "source": [
    "# Summary of Point-Mass Regression Models"
   ]
  },
  {
   "cell_type": "markdown",
   "metadata": {},
   "source": [
    "#### Training Model Facts"
   ]
  },
  {
   "cell_type": "code",
   "execution_count": 61,
   "metadata": {},
   "outputs": [
    {
     "name": "stdout",
     "output_type": "stream",
     "text": [
      "                                      DNM  MC-Oracle         ENET      KRidge  \\\n",
      "W1-95L                           0.324933   0.000000            -           -   \n",
      "W1                               0.331775   0.000000            -           -   \n",
      "W1-95R                           0.340192   0.000000            -           -   \n",
      "M-95L                            0.627737   0.000000      306.297     305.098   \n",
      "M                                0.651914   0.000000       309.06     308.169   \n",
      "M-95R                            0.683217   0.000000      312.247     310.156   \n",
      "N_Par                          775.000000   0.000000         1008           0   \n",
      "Train_Time                      42.649558   2.710179  1.62076e+09     2.49863   \n",
      "Test_Time/MC-Oracle_Test_Time    0.127335   1.000000  0.000585741  0.00332947   \n",
      "\n",
      "                                     GBRF       DNN  \n",
      "W1-95L                                  -         -  \n",
      "W1                                      -         -  \n",
      "W1-95R                                  -         -  \n",
      "M-95L                             305.547   3.01285  \n",
      "M                                 305.769    3.0352  \n",
      "M-95R                             305.974   3.05998  \n",
      "N_Par                                9400        43  \n",
      "Train_Time                        2.25416   6.66467  \n",
      "Test_Time/MC-Oracle_Test_Time  0.00127112  0.120127  \n"
     ]
    },
    {
     "data": {
      "text/html": [
       "<div>\n",
       "<style scoped>\n",
       "    .dataframe tbody tr th:only-of-type {\n",
       "        vertical-align: middle;\n",
       "    }\n",
       "\n",
       "    .dataframe tbody tr th {\n",
       "        vertical-align: top;\n",
       "    }\n",
       "\n",
       "    .dataframe thead th {\n",
       "        text-align: right;\n",
       "    }\n",
       "</style>\n",
       "<table border=\"1\" class=\"dataframe\">\n",
       "  <thead>\n",
       "    <tr style=\"text-align: right;\">\n",
       "      <th></th>\n",
       "      <th>DNM</th>\n",
       "      <th>MC-Oracle</th>\n",
       "      <th>ENET</th>\n",
       "      <th>KRidge</th>\n",
       "      <th>GBRF</th>\n",
       "      <th>DNN</th>\n",
       "    </tr>\n",
       "  </thead>\n",
       "  <tbody>\n",
       "    <tr>\n",
       "      <th>W1-95L</th>\n",
       "      <td>0.324933</td>\n",
       "      <td>0.000000</td>\n",
       "      <td>-</td>\n",
       "      <td>-</td>\n",
       "      <td>-</td>\n",
       "      <td>-</td>\n",
       "    </tr>\n",
       "    <tr>\n",
       "      <th>W1</th>\n",
       "      <td>0.331775</td>\n",
       "      <td>0.000000</td>\n",
       "      <td>-</td>\n",
       "      <td>-</td>\n",
       "      <td>-</td>\n",
       "      <td>-</td>\n",
       "    </tr>\n",
       "    <tr>\n",
       "      <th>W1-95R</th>\n",
       "      <td>0.340192</td>\n",
       "      <td>0.000000</td>\n",
       "      <td>-</td>\n",
       "      <td>-</td>\n",
       "      <td>-</td>\n",
       "      <td>-</td>\n",
       "    </tr>\n",
       "    <tr>\n",
       "      <th>M-95L</th>\n",
       "      <td>0.627737</td>\n",
       "      <td>0.000000</td>\n",
       "      <td>306.297</td>\n",
       "      <td>305.098</td>\n",
       "      <td>305.547</td>\n",
       "      <td>3.01285</td>\n",
       "    </tr>\n",
       "    <tr>\n",
       "      <th>M</th>\n",
       "      <td>0.651914</td>\n",
       "      <td>0.000000</td>\n",
       "      <td>309.06</td>\n",
       "      <td>308.169</td>\n",
       "      <td>305.769</td>\n",
       "      <td>3.0352</td>\n",
       "    </tr>\n",
       "    <tr>\n",
       "      <th>M-95R</th>\n",
       "      <td>0.683217</td>\n",
       "      <td>0.000000</td>\n",
       "      <td>312.247</td>\n",
       "      <td>310.156</td>\n",
       "      <td>305.974</td>\n",
       "      <td>3.05998</td>\n",
       "    </tr>\n",
       "    <tr>\n",
       "      <th>N_Par</th>\n",
       "      <td>775.000000</td>\n",
       "      <td>0.000000</td>\n",
       "      <td>1008</td>\n",
       "      <td>0</td>\n",
       "      <td>9400</td>\n",
       "      <td>43</td>\n",
       "    </tr>\n",
       "    <tr>\n",
       "      <th>Train_Time</th>\n",
       "      <td>42.649558</td>\n",
       "      <td>2.710179</td>\n",
       "      <td>1.62076e+09</td>\n",
       "      <td>2.49863</td>\n",
       "      <td>2.25416</td>\n",
       "      <td>6.66467</td>\n",
       "    </tr>\n",
       "    <tr>\n",
       "      <th>Test_Time/MC-Oracle_Test_Time</th>\n",
       "      <td>0.127335</td>\n",
       "      <td>1.000000</td>\n",
       "      <td>0.000585741</td>\n",
       "      <td>0.00332947</td>\n",
       "      <td>0.00127112</td>\n",
       "      <td>0.120127</td>\n",
       "    </tr>\n",
       "  </tbody>\n",
       "</table>\n",
       "</div>"
      ],
      "text/plain": [
       "                                      DNM  MC-Oracle         ENET      KRidge  \\\n",
       "W1-95L                           0.324933   0.000000            -           -   \n",
       "W1                               0.331775   0.000000            -           -   \n",
       "W1-95R                           0.340192   0.000000            -           -   \n",
       "M-95L                            0.627737   0.000000      306.297     305.098   \n",
       "M                                0.651914   0.000000       309.06     308.169   \n",
       "M-95R                            0.683217   0.000000      312.247     310.156   \n",
       "N_Par                          775.000000   0.000000         1008           0   \n",
       "Train_Time                      42.649558   2.710179  1.62076e+09     2.49863   \n",
       "Test_Time/MC-Oracle_Test_Time    0.127335   1.000000  0.000585741  0.00332947   \n",
       "\n",
       "                                     GBRF       DNN  \n",
       "W1-95L                                  -         -  \n",
       "W1                                      -         -  \n",
       "W1-95R                                  -         -  \n",
       "M-95L                             305.547   3.01285  \n",
       "M                                 305.769    3.0352  \n",
       "M-95R                             305.974   3.05998  \n",
       "N_Par                                9400        43  \n",
       "Train_Time                        2.25416   6.66467  \n",
       "Test_Time/MC-Oracle_Test_Time  0.00127112  0.120127  "
      ]
     },
     "execution_count": 61,
     "metadata": {},
     "output_type": "execute_result"
    }
   ],
   "source": [
    "print(Summary_pred_Qual_models)\n",
    "Summary_pred_Qual_models"
   ]
  },
  {
   "cell_type": "markdown",
   "metadata": {},
   "source": [
    "#### Testing Model Facts"
   ]
  },
  {
   "cell_type": "code",
   "execution_count": 62,
   "metadata": {},
   "outputs": [
    {
     "name": "stdout",
     "output_type": "stream",
     "text": [
      "                                      DNM  MC-Oracle          ENET  \\\n",
      "W1-95L                           0.202849   0.000000  1.054051e+02   \n",
      "W1                               0.219712   0.000000  1.071263e+02   \n",
      "W1-95R                           0.234712   0.000000  1.088801e+02   \n",
      "M-95L                            0.191941   0.000000  3.062971e+02   \n",
      "M                                0.195918   0.000000  3.090599e+02   \n",
      "M-95R                            0.199908   0.000000  3.122472e+02   \n",
      "N_Par                          775.000000   0.000000  1.008000e+03   \n",
      "Train_Time                      42.649558   2.710179  1.620765e+09   \n",
      "Test_Time/MC-Oracle_Test_Time    0.127335   1.000000  5.857405e-04   \n",
      "\n",
      "                                   KRidge         GBRF        DNN  \n",
      "W1-95L                         101.947442   103.187999   1.029138  \n",
      "W1                             104.233336   105.006781   1.050255  \n",
      "W1-95R                         106.222203   107.028121   1.066775  \n",
      "M-95L                          305.097881   305.547067   3.012848  \n",
      "M                              308.168754   305.769298   3.035199  \n",
      "M-95R                          310.156215   305.973930   3.059978  \n",
      "N_Par                            0.000000  9400.000000  43.000000  \n",
      "Train_Time                       2.498629     2.254163   6.664672  \n",
      "Test_Time/MC-Oracle_Test_Time    0.003329     0.001271   0.120127  \n"
     ]
    },
    {
     "data": {
      "text/html": [
       "<div>\n",
       "<style scoped>\n",
       "    .dataframe tbody tr th:only-of-type {\n",
       "        vertical-align: middle;\n",
       "    }\n",
       "\n",
       "    .dataframe tbody tr th {\n",
       "        vertical-align: top;\n",
       "    }\n",
       "\n",
       "    .dataframe thead th {\n",
       "        text-align: right;\n",
       "    }\n",
       "</style>\n",
       "<table border=\"1\" class=\"dataframe\">\n",
       "  <thead>\n",
       "    <tr style=\"text-align: right;\">\n",
       "      <th></th>\n",
       "      <th>DNM</th>\n",
       "      <th>MC-Oracle</th>\n",
       "      <th>ENET</th>\n",
       "      <th>KRidge</th>\n",
       "      <th>GBRF</th>\n",
       "      <th>DNN</th>\n",
       "    </tr>\n",
       "  </thead>\n",
       "  <tbody>\n",
       "    <tr>\n",
       "      <th>W1-95L</th>\n",
       "      <td>0.202849</td>\n",
       "      <td>0.000000</td>\n",
       "      <td>1.054051e+02</td>\n",
       "      <td>101.947442</td>\n",
       "      <td>103.187999</td>\n",
       "      <td>1.029138</td>\n",
       "    </tr>\n",
       "    <tr>\n",
       "      <th>W1</th>\n",
       "      <td>0.219712</td>\n",
       "      <td>0.000000</td>\n",
       "      <td>1.071263e+02</td>\n",
       "      <td>104.233336</td>\n",
       "      <td>105.006781</td>\n",
       "      <td>1.050255</td>\n",
       "    </tr>\n",
       "    <tr>\n",
       "      <th>W1-95R</th>\n",
       "      <td>0.234712</td>\n",
       "      <td>0.000000</td>\n",
       "      <td>1.088801e+02</td>\n",
       "      <td>106.222203</td>\n",
       "      <td>107.028121</td>\n",
       "      <td>1.066775</td>\n",
       "    </tr>\n",
       "    <tr>\n",
       "      <th>M-95L</th>\n",
       "      <td>0.191941</td>\n",
       "      <td>0.000000</td>\n",
       "      <td>3.062971e+02</td>\n",
       "      <td>305.097881</td>\n",
       "      <td>305.547067</td>\n",
       "      <td>3.012848</td>\n",
       "    </tr>\n",
       "    <tr>\n",
       "      <th>M</th>\n",
       "      <td>0.195918</td>\n",
       "      <td>0.000000</td>\n",
       "      <td>3.090599e+02</td>\n",
       "      <td>308.168754</td>\n",
       "      <td>305.769298</td>\n",
       "      <td>3.035199</td>\n",
       "    </tr>\n",
       "    <tr>\n",
       "      <th>M-95R</th>\n",
       "      <td>0.199908</td>\n",
       "      <td>0.000000</td>\n",
       "      <td>3.122472e+02</td>\n",
       "      <td>310.156215</td>\n",
       "      <td>305.973930</td>\n",
       "      <td>3.059978</td>\n",
       "    </tr>\n",
       "    <tr>\n",
       "      <th>N_Par</th>\n",
       "      <td>775.000000</td>\n",
       "      <td>0.000000</td>\n",
       "      <td>1.008000e+03</td>\n",
       "      <td>0.000000</td>\n",
       "      <td>9400.000000</td>\n",
       "      <td>43.000000</td>\n",
       "    </tr>\n",
       "    <tr>\n",
       "      <th>Train_Time</th>\n",
       "      <td>42.649558</td>\n",
       "      <td>2.710179</td>\n",
       "      <td>1.620765e+09</td>\n",
       "      <td>2.498629</td>\n",
       "      <td>2.254163</td>\n",
       "      <td>6.664672</td>\n",
       "    </tr>\n",
       "    <tr>\n",
       "      <th>Test_Time/MC-Oracle_Test_Time</th>\n",
       "      <td>0.127335</td>\n",
       "      <td>1.000000</td>\n",
       "      <td>5.857405e-04</td>\n",
       "      <td>0.003329</td>\n",
       "      <td>0.001271</td>\n",
       "      <td>0.120127</td>\n",
       "    </tr>\n",
       "  </tbody>\n",
       "</table>\n",
       "</div>"
      ],
      "text/plain": [
       "                                      DNM  MC-Oracle          ENET  \\\n",
       "W1-95L                           0.202849   0.000000  1.054051e+02   \n",
       "W1                               0.219712   0.000000  1.071263e+02   \n",
       "W1-95R                           0.234712   0.000000  1.088801e+02   \n",
       "M-95L                            0.191941   0.000000  3.062971e+02   \n",
       "M                                0.195918   0.000000  3.090599e+02   \n",
       "M-95R                            0.199908   0.000000  3.122472e+02   \n",
       "N_Par                          775.000000   0.000000  1.008000e+03   \n",
       "Train_Time                      42.649558   2.710179  1.620765e+09   \n",
       "Test_Time/MC-Oracle_Test_Time    0.127335   1.000000  5.857405e-04   \n",
       "\n",
       "                                   KRidge         GBRF        DNN  \n",
       "W1-95L                         101.947442   103.187999   1.029138  \n",
       "W1                             104.233336   105.006781   1.050255  \n",
       "W1-95R                         106.222203   107.028121   1.066775  \n",
       "M-95L                          305.097881   305.547067   3.012848  \n",
       "M                              308.168754   305.769298   3.035199  \n",
       "M-95R                          310.156215   305.973930   3.059978  \n",
       "N_Par                            0.000000  9400.000000  43.000000  \n",
       "Train_Time                       2.498629     2.254163   6.664672  \n",
       "Test_Time/MC-Oracle_Test_Time    0.003329     0.001271   0.120127  "
      ]
     },
     "execution_count": 62,
     "metadata": {},
     "output_type": "execute_result"
    }
   ],
   "source": [
    "print(Summary_pred_Qual_models_test)\n",
    "Summary_pred_Qual_models_test"
   ]
  },
  {
   "cell_type": "markdown",
   "metadata": {},
   "source": [
    "## 2) *Gaussian Benchmarks*"
   ]
  },
  {
   "cell_type": "markdown",
   "metadata": {},
   "source": [
    "- Bencharm 1: [Gaussian Process Regressor](https://scikit-learn.org/stable/modules/gaussian_process.html)\n",
    "- Benchmark 2: Deep Gaussian Networks:\n",
    "These models train models which assume Gaussianity.  We may view these as models in $\\mathcal{P}_2(\\mathbb{R})$ via:\n",
    "$$\n",
    "\\mathbb{R}^d \\ni x \\to (\\hat{\\mu}(x),\\hat{\\Sigma}(x)\\hat{\\Sigma}^{\\top})\\triangleq f(x) \\in \\mathbb{R}\\times [0,\\infty) \\to \n",
    "(2\\pi)^{-\\frac{d}{2}}\\det(\\hat{\\Sigma}(x))^{-\\frac{1}{2}} \\, e^{ -\\frac{1}{2}(\\cdot - \\hat{\\mu}(x))^{{{\\!\\mathsf{T}}}} \\hat{\\Sigma}(x)^{-1}(\\cdot - \\hat{\\mu}(x)) } \\mu \\in \\mathcal{G}_d\\subset \\mathcal{P}_2(\\mathbb{R});\n",
    "$$\n",
    "where $\\mathcal{G}_1$ is the set of Gaussian measures on $\\mathbb{R}$ equipped with the relative Wasserstein-1 topology.\n",
    "\n",
    "Examples of this type of architecture are especially prevalent in uncertainty quantification; see ([Deep Ensembles](https://arxiv.org/abs/1612.01474)] or [NOMU: Neural Optimization-based Model Uncertainty](https://arxiv.org/abs/2102.13640).  Moreover, their universality in $C(\\mathbb{R}^d,\\mathcal{G}_2)$ is known, and has been shown in [Corollary 4.7](https://arxiv.org/abs/2101.05390)."
   ]
  },
  {
   "cell_type": "code",
   "execution_count": 63,
   "metadata": {},
   "outputs": [
    {
     "name": "stdout",
     "output_type": "stream",
     "text": [
      "DNN Builder - Ready\n",
      "Fitting 2 folds for each of 2 candidates, totalling 4 fits\n"
     ]
    },
    {
     "name": "stderr",
     "output_type": "stream",
     "text": [
      "[Parallel(n_jobs=4)]: Using backend LokyBackend with 4 concurrent workers.\n",
      "[Parallel(n_jobs=4)]: Done   1 tasks      | elapsed:    0.8s\n",
      "[Parallel(n_jobs=4)]: Done   2 out of   4 | elapsed:    0.8s remaining:    0.8s\n",
      "[Parallel(n_jobs=4)]: Done   4 out of   4 | elapsed:    1.0s remaining:    0.0s\n",
      "[Parallel(n_jobs=4)]: Done   4 out of   4 | elapsed:    1.0s finished\n",
      "100%|██████████| 250/250 [00:00<00:00, 1951.59it/s]"
     ]
    },
    {
     "name": "stdout",
     "output_type": "stream",
     "text": [
      "Infering Parameters for Deep Gaussian Network to train on!\n",
      "Done Getting Parameters for Deep Gaussian Network!\n",
      "===============================\n",
      "Training Deep Gaussian Network!\n",
      "===============================\n",
      "Fitting 2 folds for each of 1 candidates, totalling 2 fits\n"
     ]
    },
    {
     "name": "stderr",
     "output_type": "stream",
     "text": [
      "\n",
      "[Parallel(n_jobs=4)]: Using backend LokyBackend with 4 concurrent workers.\n",
      "[Parallel(n_jobs=4)]: Done   2 out of   2 | elapsed:    3.6s remaining:    0.0s\n",
      "[Parallel(n_jobs=4)]: Done   2 out of   2 | elapsed:    3.6s finished\n"
     ]
    },
    {
     "name": "stdout",
     "output_type": "stream",
     "text": [
      "Epoch 1/10\n",
      "16/16 [==============================] - 0s 922us/step - loss: 0.2981 - mse: 0.3013 - mae: 0.2981 - mape: 5393851.5000\n",
      "Epoch 2/10\n",
      "16/16 [==============================] - 0s 846us/step - loss: 0.2979 - mse: 0.3012 - mae: 0.2979 - mape: 5349117.5000\n",
      "Epoch 3/10\n",
      "16/16 [==============================] - 0s 830us/step - loss: 0.2978 - mse: 0.3011 - mae: 0.2978 - mape: 5304434.0000\n",
      "Epoch 4/10\n",
      "16/16 [==============================] - 0s 885us/step - loss: 0.2976 - mse: 0.3010 - mae: 0.2976 - mape: 5259851.0000\n",
      "Epoch 5/10\n",
      "16/16 [==============================] - 0s 863us/step - loss: 0.2975 - mse: 0.3009 - mae: 0.2975 - mape: 5215276.5000\n",
      "Epoch 6/10\n",
      "16/16 [==============================] - 0s 831us/step - loss: 0.2973 - mse: 0.3008 - mae: 0.2973 - mape: 5170723.5000\n",
      "Epoch 7/10\n",
      "16/16 [==============================] - 0s 903us/step - loss: 0.2972 - mse: 0.3007 - mae: 0.2972 - mape: 5126225.0000\n",
      "Epoch 8/10\n",
      "16/16 [==============================] - 0s 1ms/step - loss: 0.2970 - mse: 0.3006 - mae: 0.2970 - mape: 5081765.0000\n",
      "Epoch 9/10\n",
      "16/16 [==============================] - 0s 978us/step - loss: 0.2969 - mse: 0.3005 - mae: 0.2969 - mape: 5037275.5000\n",
      "Epoch 10/10\n",
      "16/16 [==============================] - 0s 1ms/step - loss: 0.2967 - mse: 0.3004 - mae: 0.2967 - mape: 4992836.0000\n",
      "16/16 [==============================] - 0s 630us/step\n",
      "4/4 [==============================] - 0s 677us/step\n"
     ]
    },
    {
     "name": "stderr",
     "output_type": "stream",
     "text": [
      "\r",
      "  0%|          | 0/250 [00:00<?, ?it/s]"
     ]
    },
    {
     "name": "stdout",
     "output_type": "stream",
     "text": [
      "====================================\n",
      "Training Deep Gaussian Network!: END\n",
      "====================================\n",
      "#---------------------------------------#\n",
      " Get Training Errors for: Gaussian Models\n",
      "#---------------------------------------#\n"
     ]
    },
    {
     "name": "stderr",
     "output_type": "stream",
     "text": [
      "100%|██████████| 250/250 [00:02<00:00, 87.81it/s]\n",
      " 22%|██▏       | 11/50 [00:00<00:00, 100.98it/s]"
     ]
    },
    {
     "name": "stdout",
     "output_type": "stream",
     "text": [
      "#-------------------------#\n",
      " Get Training Error(s): END\n",
      "#-------------------------#\n",
      "#--------------------------------------#\n",
      " Get Testing Errors for: Gaussian Models\n",
      "#--------------------------------------#\n"
     ]
    },
    {
     "name": "stderr",
     "output_type": "stream",
     "text": [
      "100%|██████████| 50/50 [00:00<00:00, 99.71it/s] \n"
     ]
    },
    {
     "name": "stdout",
     "output_type": "stream",
     "text": [
      "#-------------------------#\n",
      " Get Training Error(s): END\n",
      "#-------------------------#\n",
      "-------------------------------------------------\n",
      "Updating Performance Metrics Dataframe and Saved!\n",
      "-------------------------------------------------\n",
      "                                      DNM  MC-Oracle         ENET      KRidge  \\\n",
      "W1-95L                           0.324933   0.000000            -           -   \n",
      "W1                               0.331775   0.000000            -           -   \n",
      "W1-95R                           0.340192   0.000000            -           -   \n",
      "M-95L                            0.627737   0.000000      306.297     305.098   \n",
      "M                                0.651914   0.000000       309.06     308.169   \n",
      "M-95R                            0.683217   0.000000      312.247     310.156   \n",
      "N_Par                          775.000000   0.000000         1008           0   \n",
      "Train_Time                      42.649558   2.710179  1.62076e+09     2.49863   \n",
      "Test_Time/MC-Oracle_Test_Time    0.127335   1.000000  0.000585741  0.00332947   \n",
      "\n",
      "                                     GBRF       DNN         GPR        DGN  \n",
      "W1-95L                                  -         -  105.927902   1.087716  \n",
      "W1                                      -         -  106.834833   1.096215  \n",
      "W1-95R                                  -         -  107.966299   1.105854  \n",
      "M-95L                             305.547   3.01285  300.912877   9.203128  \n",
      "M                                 305.769    3.0352  305.379509   9.286114  \n",
      "M-95R                             305.974   3.05998  309.151266   9.363775  \n",
      "N_Par                                9400        43    0.000000  97.000000  \n",
      "Train_Time                        2.25416   6.66467    2.879020   4.582851  \n",
      "Test_Time/MC-Oracle_Test_Time  0.00127112  0.120127    0.025906   0.095869  \n",
      "------------------------------------------------\n",
      "Updated Performance Metrics Dataframe and Saved!\n",
      "------------------------------------------------\n"
     ]
    }
   ],
   "source": [
    "# %run Benchmarks_Model_Builder_Mean_Var.ipynb\n",
    "exec(open('Benchmarks_Model_Builder_Mean_Var.py').read())"
   ]
  },
  {
   "cell_type": "code",
   "execution_count": null,
   "metadata": {},
   "outputs": [],
   "source": [
    "print(\"Prediction Quality (Updated): Test\")\n",
    "print(Summary_pred_Qual_models_test)\n",
    "Summary_pred_Qual_models_test"
   ]
  },
  {
   "cell_type": "code",
   "execution_count": null,
   "metadata": {},
   "outputs": [],
   "source": [
    "print(\"Prediction Quality (Updated): Train\")\n",
    "print(Summary_pred_Qual_models)\n",
    "Summary_pred_Qual_models"
   ]
  },
  {
   "cell_type": "markdown",
   "metadata": {},
   "source": [
    "# 3) The natural Universal Benchmark: [Bishop's Mixture Density Network](https://publications.aston.ac.uk/id/eprint/373/1/NCRG_94_004.pdf)\n",
    "\n",
    "This implementation is as follows:\n",
    "- For every $x$ in the trainingdata-set we fit a GMM $\\hat{\\nu}_x$, using the [Expectation-Maximization (EM) algorithm](https://en.wikipedia.org/wiki/Expectation%E2%80%93maximization_algorithm), with the same number of centers as the deep neural model in $\\mathcal{NN}_{1_{\\mathbb{R}^d},\\mathcal{D}}^{\\sigma:\\star}$ which we are evaluating.  \n",
    "- A Mixture density network is then trained to predict the infered parameters; given any $x \\in \\mathbb{R}^d$."
   ]
  },
  {
   "cell_type": "code",
   "execution_count": null,
   "metadata": {},
   "outputs": [],
   "source": [
    "if output_dim == 1:\n",
    "    # %run Mixture_Density_Network.ipynb\n",
    "    exec(open('Mixture_Density_Network.py').read())"
   ]
  },
  {
   "cell_type": "markdown",
   "metadata": {},
   "source": [
    "## Get Final Outputs\n",
    "Now we piece together all the numerical experiments and report a nice summary."
   ]
  },
  {
   "cell_type": "markdown",
   "metadata": {},
   "source": [
    "---\n",
    "# Final Results\n",
    "---"
   ]
  },
  {
   "cell_type": "markdown",
   "metadata": {},
   "source": [
    "## Prasing Quality Metric Results"
   ]
  },
  {
   "cell_type": "markdown",
   "metadata": {},
   "source": [
    "#### Finalizing Saving\n",
    "**Note:** *We do it in two steps since the grid sometimes does not want to write nicely...*"
   ]
  },
  {
   "cell_type": "code",
   "execution_count": null,
   "metadata": {},
   "outputs": [],
   "source": [
    "## Write Performance Metrics\n",
    "### Incase caption breaks\n",
    "Summary_pred_Qual_models.to_latex((results_tables_path+\"/Final_Results/\"+\"Performance_metrics_Problem_Type_\"+str(f_unknown_mode)+\"Problemdimension\"+str(problem_dim)+\"__SUMMARY_METRICS.tex\"),\n",
    "                                 float_format=\"{:0.3g}\".format)\n",
    "text_file = open((results_tables_path+\"/Final_Results/\"+\"ZZZ_CAPTION_Performance_metrics_Problem_Type_\"+str(f_unknown_mode)+\"Problemdimension\"+str(problem_dim)+\"__SUMMARY_METRICS___CAPTION.tex\"), \"w\")\n",
    "text_file.write(\"Quality Metrics; d:\"+str(problem_dim)+\", D:\"+str(output_dim)+\", Depth:\"+str(Depth_Bayesian_DNN)+\", Width:\"+str(width)+\", Dropout rate:\"+str(Dropout_rate)+\".\")\n",
    "text_file.close()\n",
    "\n",
    "\n",
    "### Incase caption does not break\n",
    "Summary_pred_Qual_models.to_latex((results_tables_path+\"/Final_Results/\"+\"Performance_metrics_Problem_Type_\"+str(f_unknown_mode)+\"Problemdimension\"+str(problem_dim)+\"__SUMMARY_METRICS.tex\"),\n",
    "                                 caption=(\"Quality Metrics; d:\"+str(problem_dim)+\", D:\"+str(output_dim)+\", Depth:\"+str(Depth_Bayesian_DNN)+\", Width:\"+str(width)+\", Dropout rate:\"+str(Dropout_rate)+\".\"),\n",
    "                                 float_format=\"{:0.3g}\".format)"
   ]
  },
  {
   "cell_type": "markdown",
   "metadata": {},
   "source": [
    "# For Terminal Runner(s):"
   ]
  },
  {
   "cell_type": "code",
   "execution_count": null,
   "metadata": {},
   "outputs": [],
   "source": [
    "# For Terminal Running\n",
    "print(\"===================\")\n",
    "print(\"Predictive Quality:\")\n",
    "print(\"===================\")\n",
    "print(Summary_pred_Qual_models)\n",
    "print(\"===================\")\n",
    "print(\" \")\n",
    "print(\" \")\n",
    "print(\" \")\n",
    "print(\"Kernel_Used_in_GPR: \"+str(GPR_trash.kernel))\n",
    "print(\"🙃🙃 Have a wonderful day! 🙃🙃\")\n",
    "Summary_pred_Qual_models"
   ]
  },
  {
   "cell_type": "markdown",
   "metadata": {},
   "source": [
    "---\n",
    "# Fin\n",
    "---"
   ]
  },
  {
   "cell_type": "markdown",
   "metadata": {},
   "source": [
    "---"
   ]
  }
 ],
 "metadata": {
  "kernelspec": {
   "display_name": "Python 3",
   "language": "python",
   "name": "python3"
  },
  "language_info": {
   "codemirror_mode": {
    "name": "ipython",
    "version": 3
   },
   "file_extension": ".py",
   "mimetype": "text/x-python",
   "name": "python",
   "nbconvert_exporter": "python",
   "pygments_lexer": "ipython3",
   "version": "3.7.7"
  }
 },
 "nbformat": 4,
 "nbformat_minor": 2
}
